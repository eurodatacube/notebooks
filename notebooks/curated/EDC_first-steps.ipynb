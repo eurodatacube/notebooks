{
 "cells": [
  {
   "cell_type": "code",
   "execution_count": 1,
   "id": "e9eadbd8",
   "metadata": {
    "execution": {
     "iopub.execute_input": "2023-10-24T07:58:44.978293Z",
     "iopub.status.busy": "2023-10-24T07:58:44.977703Z",
     "iopub.status.idle": "2023-10-24T07:58:45.036572Z",
     "shell.execute_reply": "2023-10-24T07:58:45.036043Z"
    },
    "papermill": {
     "duration": 0.080693,
     "end_time": "2023-10-24T07:58:45.037853",
     "exception": false,
     "start_time": "2023-10-24T07:58:44.957160",
     "status": "completed"
    },
    "tags": []
   },
   "outputs": [
    {
     "data": {
      "text/html": [
       "<script type=\"text/javascript\">\n",
       "        function toggle(id) {\n",
       "            el = document.getElementById(id);\n",
       "            el.style.display = el.style.display === \"none\" ? \"block\" : \"none\";\n",
       "        }\n",
       "    </script>"
      ],
      "text/plain": [
       "<IPython.core.display.HTML object>"
      ]
     },
     "metadata": {},
     "output_type": "display_data"
    },
    {
     "data": {
      "text/html": [
       "This notebook is compatible with this base image version (user-2023.10-01)."
      ],
      "text/plain": [
       "<IPython.core.display.HTML object>"
      ]
     },
     "metadata": {},
     "output_type": "display_data"
    },
    {
     "data": {
      "text/markdown": [
       "\n",
       "\n",
       "---------\n",
       "\n",
       "The following environment variables are available:\n",
       "\n",
       "* `SH_CLIENT_ID`, `SH_INSTANCE_ID`, `SH_CLIENT_NAME`, `SH_CLIENT_SECRET`\n"
      ],
      "text/plain": [
       "<IPython.core.display.Markdown object>"
      ]
     },
     "metadata": {},
     "output_type": "display_data"
    }
   ],
   "source": [
    "from edc import check_compatibility\n",
    "check_compatibility(\"user-2023.10-01\", dependencies=[\"SH\"])"
   ]
  },
  {
   "cell_type": "markdown",
   "id": "31cdfbf1",
   "metadata": {
    "papermill": {
     "duration": 0.018039,
     "end_time": "2023-10-24T07:58:45.096073",
     "exception": false,
     "start_time": "2023-10-24T07:58:45.078034",
     "status": "completed"
    },
    "tags": []
   },
   "source": [
    "# First steps on the Euro Data Cube platform\n",
    "\n",
    "Euro Data Cube provides a JupyterLab environment, which automatically provides **credentials** for services with **active subscriptions** as **environment variables.**"
   ]
  },
  {
   "cell_type": "markdown",
   "id": "80afadc6",
   "metadata": {
    "papermill": {
     "duration": 0.017159,
     "end_time": "2023-10-24T07:58:45.150963",
     "exception": false,
     "start_time": "2023-10-24T07:58:45.133804",
     "status": "completed"
    },
    "tags": []
   },
   "source": [
    "## Setup\n",
    "\n",
    "As you can see here, the credentials for your subscriptions are automatically part of your environment variables.  \n",
    "You can also print them, but make sure to **keep them confidential**!\n"
   ]
  },
  {
   "cell_type": "code",
   "execution_count": 2,
   "id": "d84e90ca",
   "metadata": {
    "execution": {
     "iopub.execute_input": "2023-10-24T07:58:45.201637Z",
     "iopub.status.busy": "2023-10-24T07:58:45.201302Z",
     "iopub.status.idle": "2023-10-24T07:58:45.206018Z",
     "shell.execute_reply": "2023-10-24T07:58:45.205409Z"
    },
    "papermill": {
     "duration": 0.024995,
     "end_time": "2023-10-24T07:58:45.207596",
     "exception": false,
     "start_time": "2023-10-24T07:58:45.182601",
     "status": "completed"
    },
    "tags": []
   },
   "outputs": [
    {
     "data": {
      "text/plain": [
       "True"
      ]
     },
     "execution_count": 2,
     "metadata": {},
     "output_type": "execute_result"
    }
   ],
   "source": [
    "import os\n",
    "'SH_CLIENT_SECRET' in os.environ"
   ]
  },
  {
   "cell_type": "markdown",
   "id": "a98c129f",
   "metadata": {
    "papermill": {
     "duration": 0.029442,
     "end_time": "2023-10-24T07:58:45.269694",
     "exception": false,
     "start_time": "2023-10-24T07:58:45.240252",
     "status": "completed"
    },
    "tags": []
   },
   "source": [
    "Usually, it is not even necessary to access the credentials.  \n",
    "Many libraries such as `xcube_sh` or `xcube_geodb` load them directly from the environment by default.\n",
    "\n",
    "## Retrieving data\n",
    "\n",
    "Let's say you want to retrieve some Sentinel Data as defined by the following cube (don't worry if you don't understand all the details here, it will be explained <a target=\"_blank\" href=\"https://eurodatacube.com/marketplace/notebooks/curated/EDC_Sentinel_Hub-XCUBE_integration.ipynb\">here</a>):"
   ]
  },
  {
   "cell_type": "code",
   "execution_count": 3,
   "id": "36f59553",
   "metadata": {
    "execution": {
     "iopub.execute_input": "2023-10-24T07:58:45.318995Z",
     "iopub.status.busy": "2023-10-24T07:58:45.318573Z",
     "iopub.status.idle": "2023-10-24T07:58:45.825948Z",
     "shell.execute_reply": "2023-10-24T07:58:45.825458Z"
    },
    "papermill": {
     "duration": 0.528428,
     "end_time": "2023-10-24T07:58:45.827860",
     "exception": false,
     "start_time": "2023-10-24T07:58:45.299432",
     "status": "completed"
    },
    "tags": []
   },
   "outputs": [],
   "source": [
    "from xcube_sh.config import CubeConfig\n",
    "cube_config = CubeConfig(\n",
    "    dataset_name=\"S2L2A\",\n",
    "    band_names=[\"B04\", \"B08\"],\n",
    "    tile_size=[512, 512],\n",
    "    bbox=(10.00, 54.27, 10.30, 54.50),\n",
    "    spatial_res=0.00018,\n",
    "    time_range=[\"2018-05-02\", \"2018-05-26\"],\n",
    "    time_period=\"3D\",\n",
    ")"
   ]
  },
  {
   "cell_type": "markdown",
   "id": "b5927b0d",
   "metadata": {
    "papermill": {
     "duration": 0.020376,
     "end_time": "2023-10-24T07:58:45.882709",
     "exception": false,
     "start_time": "2023-10-24T07:58:45.862333",
     "status": "completed"
    },
    "tags": []
   },
   "source": [
    "The following `xcube` call will fetch the data using your active SentinelHub subscription automatically using the credentials from the environment variables:"
   ]
  },
  {
   "cell_type": "code",
   "execution_count": 4,
   "id": "a1792b33",
   "metadata": {
    "execution": {
     "iopub.execute_input": "2023-10-24T07:58:45.933785Z",
     "iopub.status.busy": "2023-10-24T07:58:45.933476Z",
     "iopub.status.idle": "2023-10-24T07:58:46.657126Z",
     "shell.execute_reply": "2023-10-24T07:58:46.656622Z"
    },
    "papermill": {
     "duration": 0.745704,
     "end_time": "2023-10-24T07:58:46.658447",
     "exception": false,
     "start_time": "2023-10-24T07:58:45.912743",
     "status": "completed"
    },
    "tags": []
   },
   "outputs": [
    {
     "data": {
      "text/html": [
       "<div><svg style=\"position: absolute; width: 0; height: 0; overflow: hidden\">\n",
       "<defs>\n",
       "<symbol id=\"icon-database\" viewBox=\"0 0 32 32\">\n",
       "<path d=\"M16 0c-8.837 0-16 2.239-16 5v4c0 2.761 7.163 5 16 5s16-2.239 16-5v-4c0-2.761-7.163-5-16-5z\"></path>\n",
       "<path d=\"M16 17c-8.837 0-16-2.239-16-5v6c0 2.761 7.163 5 16 5s16-2.239 16-5v-6c0 2.761-7.163 5-16 5z\"></path>\n",
       "<path d=\"M16 26c-8.837 0-16-2.239-16-5v6c0 2.761 7.163 5 16 5s16-2.239 16-5v-6c0 2.761-7.163 5-16 5z\"></path>\n",
       "</symbol>\n",
       "<symbol id=\"icon-file-text2\" viewBox=\"0 0 32 32\">\n",
       "<path d=\"M28.681 7.159c-0.694-0.947-1.662-2.053-2.724-3.116s-2.169-2.030-3.116-2.724c-1.612-1.182-2.393-1.319-2.841-1.319h-15.5c-1.378 0-2.5 1.121-2.5 2.5v27c0 1.378 1.122 2.5 2.5 2.5h23c1.378 0 2.5-1.122 2.5-2.5v-19.5c0-0.448-0.137-1.23-1.319-2.841zM24.543 5.457c0.959 0.959 1.712 1.825 2.268 2.543h-4.811v-4.811c0.718 0.556 1.584 1.309 2.543 2.268zM28 29.5c0 0.271-0.229 0.5-0.5 0.5h-23c-0.271 0-0.5-0.229-0.5-0.5v-27c0-0.271 0.229-0.5 0.5-0.5 0 0 15.499-0 15.5 0v7c0 0.552 0.448 1 1 1h7v19.5z\"></path>\n",
       "<path d=\"M23 26h-14c-0.552 0-1-0.448-1-1s0.448-1 1-1h14c0.552 0 1 0.448 1 1s-0.448 1-1 1z\"></path>\n",
       "<path d=\"M23 22h-14c-0.552 0-1-0.448-1-1s0.448-1 1-1h14c0.552 0 1 0.448 1 1s-0.448 1-1 1z\"></path>\n",
       "<path d=\"M23 18h-14c-0.552 0-1-0.448-1-1s0.448-1 1-1h14c0.552 0 1 0.448 1 1s-0.448 1-1 1z\"></path>\n",
       "</symbol>\n",
       "</defs>\n",
       "</svg>\n",
       "<style>/* CSS stylesheet for displaying xarray objects in jupyterlab.\n",
       " *\n",
       " */\n",
       "\n",
       ":root {\n",
       "  --xr-font-color0: var(--jp-content-font-color0, rgba(0, 0, 0, 1));\n",
       "  --xr-font-color2: var(--jp-content-font-color2, rgba(0, 0, 0, 0.54));\n",
       "  --xr-font-color3: var(--jp-content-font-color3, rgba(0, 0, 0, 0.38));\n",
       "  --xr-border-color: var(--jp-border-color2, #e0e0e0);\n",
       "  --xr-disabled-color: var(--jp-layout-color3, #bdbdbd);\n",
       "  --xr-background-color: var(--jp-layout-color0, white);\n",
       "  --xr-background-color-row-even: var(--jp-layout-color1, white);\n",
       "  --xr-background-color-row-odd: var(--jp-layout-color2, #eeeeee);\n",
       "}\n",
       "\n",
       "html[theme=dark],\n",
       "body[data-theme=dark],\n",
       "body.vscode-dark {\n",
       "  --xr-font-color0: rgba(255, 255, 255, 1);\n",
       "  --xr-font-color2: rgba(255, 255, 255, 0.54);\n",
       "  --xr-font-color3: rgba(255, 255, 255, 0.38);\n",
       "  --xr-border-color: #1F1F1F;\n",
       "  --xr-disabled-color: #515151;\n",
       "  --xr-background-color: #111111;\n",
       "  --xr-background-color-row-even: #111111;\n",
       "  --xr-background-color-row-odd: #313131;\n",
       "}\n",
       "\n",
       ".xr-wrap {\n",
       "  display: block !important;\n",
       "  min-width: 300px;\n",
       "  max-width: 700px;\n",
       "}\n",
       "\n",
       ".xr-text-repr-fallback {\n",
       "  /* fallback to plain text repr when CSS is not injected (untrusted notebook) */\n",
       "  display: none;\n",
       "}\n",
       "\n",
       ".xr-header {\n",
       "  padding-top: 6px;\n",
       "  padding-bottom: 6px;\n",
       "  margin-bottom: 4px;\n",
       "  border-bottom: solid 1px var(--xr-border-color);\n",
       "}\n",
       "\n",
       ".xr-header > div,\n",
       ".xr-header > ul {\n",
       "  display: inline;\n",
       "  margin-top: 0;\n",
       "  margin-bottom: 0;\n",
       "}\n",
       "\n",
       ".xr-obj-type,\n",
       ".xr-array-name {\n",
       "  margin-left: 2px;\n",
       "  margin-right: 10px;\n",
       "}\n",
       "\n",
       ".xr-obj-type {\n",
       "  color: var(--xr-font-color2);\n",
       "}\n",
       "\n",
       ".xr-sections {\n",
       "  padding-left: 0 !important;\n",
       "  display: grid;\n",
       "  grid-template-columns: 150px auto auto 1fr 20px 20px;\n",
       "}\n",
       "\n",
       ".xr-section-item {\n",
       "  display: contents;\n",
       "}\n",
       "\n",
       ".xr-section-item input {\n",
       "  display: none;\n",
       "}\n",
       "\n",
       ".xr-section-item input + label {\n",
       "  color: var(--xr-disabled-color);\n",
       "}\n",
       "\n",
       ".xr-section-item input:enabled + label {\n",
       "  cursor: pointer;\n",
       "  color: var(--xr-font-color2);\n",
       "}\n",
       "\n",
       ".xr-section-item input:enabled + label:hover {\n",
       "  color: var(--xr-font-color0);\n",
       "}\n",
       "\n",
       ".xr-section-summary {\n",
       "  grid-column: 1;\n",
       "  color: var(--xr-font-color2);\n",
       "  font-weight: 500;\n",
       "}\n",
       "\n",
       ".xr-section-summary > span {\n",
       "  display: inline-block;\n",
       "  padding-left: 0.5em;\n",
       "}\n",
       "\n",
       ".xr-section-summary-in:disabled + label {\n",
       "  color: var(--xr-font-color2);\n",
       "}\n",
       "\n",
       ".xr-section-summary-in + label:before {\n",
       "  display: inline-block;\n",
       "  content: '►';\n",
       "  font-size: 11px;\n",
       "  width: 15px;\n",
       "  text-align: center;\n",
       "}\n",
       "\n",
       ".xr-section-summary-in:disabled + label:before {\n",
       "  color: var(--xr-disabled-color);\n",
       "}\n",
       "\n",
       ".xr-section-summary-in:checked + label:before {\n",
       "  content: '▼';\n",
       "}\n",
       "\n",
       ".xr-section-summary-in:checked + label > span {\n",
       "  display: none;\n",
       "}\n",
       "\n",
       ".xr-section-summary,\n",
       ".xr-section-inline-details {\n",
       "  padding-top: 4px;\n",
       "  padding-bottom: 4px;\n",
       "}\n",
       "\n",
       ".xr-section-inline-details {\n",
       "  grid-column: 2 / -1;\n",
       "}\n",
       "\n",
       ".xr-section-details {\n",
       "  display: none;\n",
       "  grid-column: 1 / -1;\n",
       "  margin-bottom: 5px;\n",
       "}\n",
       "\n",
       ".xr-section-summary-in:checked ~ .xr-section-details {\n",
       "  display: contents;\n",
       "}\n",
       "\n",
       ".xr-array-wrap {\n",
       "  grid-column: 1 / -1;\n",
       "  display: grid;\n",
       "  grid-template-columns: 20px auto;\n",
       "}\n",
       "\n",
       ".xr-array-wrap > label {\n",
       "  grid-column: 1;\n",
       "  vertical-align: top;\n",
       "}\n",
       "\n",
       ".xr-preview {\n",
       "  color: var(--xr-font-color3);\n",
       "}\n",
       "\n",
       ".xr-array-preview,\n",
       ".xr-array-data {\n",
       "  padding: 0 5px !important;\n",
       "  grid-column: 2;\n",
       "}\n",
       "\n",
       ".xr-array-data,\n",
       ".xr-array-in:checked ~ .xr-array-preview {\n",
       "  display: none;\n",
       "}\n",
       "\n",
       ".xr-array-in:checked ~ .xr-array-data,\n",
       ".xr-array-preview {\n",
       "  display: inline-block;\n",
       "}\n",
       "\n",
       ".xr-dim-list {\n",
       "  display: inline-block !important;\n",
       "  list-style: none;\n",
       "  padding: 0 !important;\n",
       "  margin: 0;\n",
       "}\n",
       "\n",
       ".xr-dim-list li {\n",
       "  display: inline-block;\n",
       "  padding: 0;\n",
       "  margin: 0;\n",
       "}\n",
       "\n",
       ".xr-dim-list:before {\n",
       "  content: '(';\n",
       "}\n",
       "\n",
       ".xr-dim-list:after {\n",
       "  content: ')';\n",
       "}\n",
       "\n",
       ".xr-dim-list li:not(:last-child):after {\n",
       "  content: ',';\n",
       "  padding-right: 5px;\n",
       "}\n",
       "\n",
       ".xr-has-index {\n",
       "  font-weight: bold;\n",
       "}\n",
       "\n",
       ".xr-var-list,\n",
       ".xr-var-item {\n",
       "  display: contents;\n",
       "}\n",
       "\n",
       ".xr-var-item > div,\n",
       ".xr-var-item label,\n",
       ".xr-var-item > .xr-var-name span {\n",
       "  background-color: var(--xr-background-color-row-even);\n",
       "  margin-bottom: 0;\n",
       "}\n",
       "\n",
       ".xr-var-item > .xr-var-name:hover span {\n",
       "  padding-right: 5px;\n",
       "}\n",
       "\n",
       ".xr-var-list > li:nth-child(odd) > div,\n",
       ".xr-var-list > li:nth-child(odd) > label,\n",
       ".xr-var-list > li:nth-child(odd) > .xr-var-name span {\n",
       "  background-color: var(--xr-background-color-row-odd);\n",
       "}\n",
       "\n",
       ".xr-var-name {\n",
       "  grid-column: 1;\n",
       "}\n",
       "\n",
       ".xr-var-dims {\n",
       "  grid-column: 2;\n",
       "}\n",
       "\n",
       ".xr-var-dtype {\n",
       "  grid-column: 3;\n",
       "  text-align: right;\n",
       "  color: var(--xr-font-color2);\n",
       "}\n",
       "\n",
       ".xr-var-preview {\n",
       "  grid-column: 4;\n",
       "}\n",
       "\n",
       ".xr-index-preview {\n",
       "  grid-column: 2 / 5;\n",
       "  color: var(--xr-font-color2);\n",
       "}\n",
       "\n",
       ".xr-var-name,\n",
       ".xr-var-dims,\n",
       ".xr-var-dtype,\n",
       ".xr-preview,\n",
       ".xr-attrs dt {\n",
       "  white-space: nowrap;\n",
       "  overflow: hidden;\n",
       "  text-overflow: ellipsis;\n",
       "  padding-right: 10px;\n",
       "}\n",
       "\n",
       ".xr-var-name:hover,\n",
       ".xr-var-dims:hover,\n",
       ".xr-var-dtype:hover,\n",
       ".xr-attrs dt:hover {\n",
       "  overflow: visible;\n",
       "  width: auto;\n",
       "  z-index: 1;\n",
       "}\n",
       "\n",
       ".xr-var-attrs,\n",
       ".xr-var-data,\n",
       ".xr-index-data {\n",
       "  display: none;\n",
       "  background-color: var(--xr-background-color) !important;\n",
       "  padding-bottom: 5px !important;\n",
       "}\n",
       "\n",
       ".xr-var-attrs-in:checked ~ .xr-var-attrs,\n",
       ".xr-var-data-in:checked ~ .xr-var-data,\n",
       ".xr-index-data-in:checked ~ .xr-index-data {\n",
       "  display: block;\n",
       "}\n",
       "\n",
       ".xr-var-data > table {\n",
       "  float: right;\n",
       "}\n",
       "\n",
       ".xr-var-name span,\n",
       ".xr-var-data,\n",
       ".xr-index-name div,\n",
       ".xr-index-data,\n",
       ".xr-attrs {\n",
       "  padding-left: 25px !important;\n",
       "}\n",
       "\n",
       ".xr-attrs,\n",
       ".xr-var-attrs,\n",
       ".xr-var-data,\n",
       ".xr-index-data {\n",
       "  grid-column: 1 / -1;\n",
       "}\n",
       "\n",
       "dl.xr-attrs {\n",
       "  padding: 0;\n",
       "  margin: 0;\n",
       "  display: grid;\n",
       "  grid-template-columns: 125px auto;\n",
       "}\n",
       "\n",
       ".xr-attrs dt,\n",
       ".xr-attrs dd {\n",
       "  padding: 0;\n",
       "  margin: 0;\n",
       "  float: left;\n",
       "  padding-right: 10px;\n",
       "  width: auto;\n",
       "}\n",
       "\n",
       ".xr-attrs dt {\n",
       "  font-weight: normal;\n",
       "  grid-column: 1;\n",
       "}\n",
       "\n",
       ".xr-attrs dt:hover span {\n",
       "  display: inline-block;\n",
       "  background: var(--xr-background-color);\n",
       "  padding-right: 10px;\n",
       "}\n",
       "\n",
       ".xr-attrs dd {\n",
       "  grid-column: 2;\n",
       "  white-space: pre-wrap;\n",
       "  word-break: break-all;\n",
       "}\n",
       "\n",
       ".xr-icon-database,\n",
       ".xr-icon-file-text2,\n",
       ".xr-no-icon {\n",
       "  display: inline-block;\n",
       "  vertical-align: middle;\n",
       "  width: 1em;\n",
       "  height: 1.5em !important;\n",
       "  stroke-width: 0;\n",
       "  stroke: currentColor;\n",
       "  fill: currentColor;\n",
       "}\n",
       "</style><pre class='xr-text-repr-fallback'>&lt;xarray.DataArray &#x27;lat&#x27; (lat: 1536)&gt;\n",
       "array([54.54639, 54.54621, 54.54603, ..., 54.27045, 54.27027, 54.27009])\n",
       "Coordinates:\n",
       "  * lat      (lat) float64 54.55 54.55 54.55 54.55 ... 54.27 54.27 54.27 54.27\n",
       "Attributes:\n",
       "    units:          decimal_degrees\n",
       "    long_name:      latitude\n",
       "    standard_name:  latitude</pre><div class='xr-wrap' style='display:none'><div class='xr-header'><div class='xr-obj-type'>xarray.DataArray</div><div class='xr-array-name'>'lat'</div><ul class='xr-dim-list'><li><span class='xr-has-index'>lat</span>: 1536</li></ul></div><ul class='xr-sections'><li class='xr-section-item'><div class='xr-array-wrap'><input id='section-b381e39d-af55-4bd0-ac1a-3fc277630157' class='xr-array-in' type='checkbox' checked><label for='section-b381e39d-af55-4bd0-ac1a-3fc277630157' title='Show/hide data repr'><svg class='icon xr-icon-database'><use xlink:href='#icon-database'></use></svg></label><div class='xr-array-preview xr-preview'><span>54.55 54.55 54.55 54.55 54.55 54.55 ... 54.27 54.27 54.27 54.27 54.27</span></div><div class='xr-array-data'><pre>array([54.54639, 54.54621, 54.54603, ..., 54.27045, 54.27027, 54.27009])</pre></div></div></li><li class='xr-section-item'><input id='section-f354744e-0eed-456e-9d8a-ea62c53d5b94' class='xr-section-summary-in' type='checkbox'  checked><label for='section-f354744e-0eed-456e-9d8a-ea62c53d5b94' class='xr-section-summary' >Coordinates: <span>(1)</span></label><div class='xr-section-inline-details'></div><div class='xr-section-details'><ul class='xr-var-list'><li class='xr-var-item'><div class='xr-var-name'><span class='xr-has-index'>lat</span></div><div class='xr-var-dims'>(lat)</div><div class='xr-var-dtype'>float64</div><div class='xr-var-preview xr-preview'>54.55 54.55 54.55 ... 54.27 54.27</div><input id='attrs-4d493c0b-395a-43b0-b023-18dbec2731a0' class='xr-var-attrs-in' type='checkbox' ><label for='attrs-4d493c0b-395a-43b0-b023-18dbec2731a0' title='Show/Hide attributes'><svg class='icon xr-icon-file-text2'><use xlink:href='#icon-file-text2'></use></svg></label><input id='data-ea3248c3-58fe-4268-9968-de513ad321cd' class='xr-var-data-in' type='checkbox'><label for='data-ea3248c3-58fe-4268-9968-de513ad321cd' title='Show/Hide data repr'><svg class='icon xr-icon-database'><use xlink:href='#icon-database'></use></svg></label><div class='xr-var-attrs'><dl class='xr-attrs'><dt><span>units :</span></dt><dd>decimal_degrees</dd><dt><span>long_name :</span></dt><dd>latitude</dd><dt><span>standard_name :</span></dt><dd>latitude</dd></dl></div><div class='xr-var-data'><pre>array([54.54639, 54.54621, 54.54603, ..., 54.27045, 54.27027, 54.27009])</pre></div></li></ul></div></li><li class='xr-section-item'><input id='section-b0086bf7-beb0-4eff-8f37-6aca2ac2dabe' class='xr-section-summary-in' type='checkbox'  ><label for='section-b0086bf7-beb0-4eff-8f37-6aca2ac2dabe' class='xr-section-summary' >Indexes: <span>(1)</span></label><div class='xr-section-inline-details'></div><div class='xr-section-details'><ul class='xr-var-list'><li class='xr-var-item'><div class='xr-index-name'><div>lat</div></div><div class='xr-index-preview'>PandasIndex</div><div></div><input id='index-ed38e412-b76d-4a80-8d62-fb6addc7b365' class='xr-index-data-in' type='checkbox'/><label for='index-ed38e412-b76d-4a80-8d62-fb6addc7b365' title='Show/Hide index repr'><svg class='icon xr-icon-database'><use xlink:href='#icon-database'></use></svg></label><div class='xr-index-data'><pre>PandasIndex(Float64Index([          54.54639,           54.54621,           54.54603,\n",
       "                        54.54585,           54.54567,           54.54549,\n",
       "                        54.54531,           54.54513,           54.54495,\n",
       "                        54.54477,\n",
       "              ...\n",
       "              54.271710000000006, 54.271530000000006, 54.271350000000005,\n",
       "              54.271170000000005, 54.270990000000005, 54.270810000000004,\n",
       "              54.270630000000004, 54.270450000000004, 54.270270000000004,\n",
       "                        54.27009],\n",
       "             dtype=&#x27;float64&#x27;, name=&#x27;lat&#x27;, length=1536))</pre></div></li></ul></div></li><li class='xr-section-item'><input id='section-9eb0f6b8-692c-497b-ac6a-5aa446187dd5' class='xr-section-summary-in' type='checkbox'  checked><label for='section-9eb0f6b8-692c-497b-ac6a-5aa446187dd5' class='xr-section-summary' >Attributes: <span>(3)</span></label><div class='xr-section-inline-details'></div><div class='xr-section-details'><dl class='xr-attrs'><dt><span>units :</span></dt><dd>decimal_degrees</dd><dt><span>long_name :</span></dt><dd>latitude</dd><dt><span>standard_name :</span></dt><dd>latitude</dd></dl></div></li></ul></div></div>"
      ],
      "text/plain": [
       "<xarray.DataArray 'lat' (lat: 1536)>\n",
       "array([54.54639, 54.54621, 54.54603, ..., 54.27045, 54.27027, 54.27009])\n",
       "Coordinates:\n",
       "  * lat      (lat) float64 54.55 54.55 54.55 54.55 ... 54.27 54.27 54.27 54.27\n",
       "Attributes:\n",
       "    units:          decimal_degrees\n",
       "    long_name:      latitude\n",
       "    standard_name:  latitude"
      ]
     },
     "execution_count": 4,
     "metadata": {},
     "output_type": "execute_result"
    }
   ],
   "source": [
    "from xcube_sh.cube import open_cube\n",
    "cube = open_cube(cube_config)\n",
    "cube.B04.lat"
   ]
  },
  {
   "cell_type": "markdown",
   "id": "362634d7",
   "metadata": {
    "papermill": {
     "duration": 0.019681,
     "end_time": "2023-10-24T07:58:46.708893",
     "exception": false,
     "start_time": "2023-10-24T07:58:46.689212",
     "status": "completed"
    },
    "tags": []
   },
   "source": [
    "## Explicit credential handling for advanced libraries\n",
    "\n",
    "Some libraries such as the EO-Learn ML library do require you to set up credentials manually. Since the credentials are available using environment variables, there are different means of using them.\n",
    "\n",
    "One way of accessing the environment variables is to use the Jupyter feature `%env`:"
   ]
  },
  {
   "cell_type": "code",
   "execution_count": 5,
   "id": "2035b204",
   "metadata": {
    "execution": {
     "iopub.execute_input": "2023-10-24T07:58:46.760244Z",
     "iopub.status.busy": "2023-10-24T07:58:46.759560Z",
     "iopub.status.idle": "2023-10-24T07:58:46.763384Z",
     "shell.execute_reply": "2023-10-24T07:58:46.762777Z"
    },
    "papermill": {
     "duration": 0.024262,
     "end_time": "2023-10-24T07:58:46.764802",
     "exception": false,
     "start_time": "2023-10-24T07:58:46.740540",
     "status": "completed"
    },
    "tags": []
   },
   "outputs": [],
   "source": [
    "client_id = %env SH_CLIENT_ID"
   ]
  },
  {
   "cell_type": "markdown",
   "id": "b7c9c3e5",
   "metadata": {
    "papermill": {
     "duration": 0.021787,
     "end_time": "2023-10-24T07:58:46.819607",
     "exception": false,
     "start_time": "2023-10-24T07:58:46.797820",
     "status": "completed"
    },
    "tags": []
   },
   "source": [
    "You can however also access the credentials using idiomatic python:"
   ]
  },
  {
   "cell_type": "code",
   "execution_count": 6,
   "id": "25b9e6aa",
   "metadata": {
    "execution": {
     "iopub.execute_input": "2023-10-24T07:58:46.871073Z",
     "iopub.status.busy": "2023-10-24T07:58:46.870699Z",
     "iopub.status.idle": "2023-10-24T07:58:46.873671Z",
     "shell.execute_reply": "2023-10-24T07:58:46.873225Z"
    },
    "papermill": {
     "duration": 0.024346,
     "end_time": "2023-10-24T07:58:46.874681",
     "exception": false,
     "start_time": "2023-10-24T07:58:46.850335",
     "status": "completed"
    },
    "tags": []
   },
   "outputs": [],
   "source": [
    "client_id = os.environ['SH_CLIENT_ID']"
   ]
  },
  {
   "cell_type": "markdown",
   "id": "43789aa5-dfdf-4ba1-b925-dfceacc0c151",
   "metadata": {
    "papermill": {
     "duration": 0.018511,
     "end_time": "2023-10-24T07:58:46.926149",
     "exception": false,
     "start_time": "2023-10-24T07:58:46.907638",
     "status": "completed"
    },
    "tags": []
   },
   "source": [
    "Using this, we can extract the credentials in an `SHConfig` object and pass this object to an external library:"
   ]
  },
  {
   "cell_type": "code",
   "execution_count": 7,
   "id": "cbf98f45-305b-4564-9c3b-e4202a035153",
   "metadata": {
    "execution": {
     "iopub.execute_input": "2023-10-24T07:58:46.978849Z",
     "iopub.status.busy": "2023-10-24T07:58:46.978254Z",
     "iopub.status.idle": "2023-10-24T07:58:47.130594Z",
     "shell.execute_reply": "2023-10-24T07:58:47.130139Z"
    },
    "papermill": {
     "duration": 0.175968,
     "end_time": "2023-10-24T07:58:47.132085",
     "exception": false,
     "start_time": "2023-10-24T07:58:46.956117",
     "status": "completed"
    },
    "tags": []
   },
   "outputs": [],
   "source": [
    "from sentinelhub import SHConfig\n",
    "\n",
    "config = SHConfig()\n",
    "config.sh_client_id = os.environ[\"SH_CLIENT_ID\"]\n",
    "config.sh_client_secret = os.environ[\"SH_CLIENT_SECRET\"]"
   ]
  },
  {
   "cell_type": "markdown",
   "id": "305f2a1e-dbf5-461f-9b1e-2b9d319239af",
   "metadata": {
    "papermill": {
     "duration": 0.018765,
     "end_time": "2023-10-24T07:58:47.184072",
     "exception": false,
     "start_time": "2023-10-24T07:58:47.165307",
     "status": "completed"
    },
    "tags": []
   },
   "source": [
    "See for example <a target=\"_blank\" href=\"https://eurodatacube.com/notebooks/curated/eo-learn.ipynb\">this notebook</a> for a concrete use case of how to pass this `SHConfig` object to a library. "
   ]
  },
  {
   "cell_type": "markdown",
   "id": "7cb11501",
   "metadata": {
    "papermill": {
     "duration": 0.020587,
     "end_time": "2023-10-24T07:58:47.235973",
     "exception": false,
     "start_time": "2023-10-24T07:58:47.215386",
     "status": "completed"
    },
    "tags": []
   },
   "source": [
    "## Adding custom credentials e.g. for S3 buckets\n",
    "\n",
    "If you want to use external services, such as Amazon S3 buckets, you can also manage the relevant credentials via the app [edc-my-credentials](https://eurodatacube.com/marketplace/apps/edc-my-credentials) on eurodatacube.com. Those credentials will be automatically injected just like for purchased services.\n",
    "\n",
    "[See this guide](https://eurodatacube.com/documentation/credentials-on-edc) for step by step instructions on how to add your custom credentials."
   ]
  },
  {
   "cell_type": "markdown",
   "id": "d9a31fd9",
   "metadata": {
    "papermill": {
     "duration": 0.01762,
     "end_time": "2023-10-24T07:58:47.283500",
     "exception": false,
     "start_time": "2023-10-24T07:58:47.265880",
     "status": "completed"
    },
    "tags": []
   },
   "source": [
    "## Conclusion\n",
    "\n",
    "The Euro Data Cube platform allows you to focus on your data without needing to think about authentication and login credentials.\n",
    "\n",
    "You can even **share notebooks** in the Euro Data Cube marketplace without any changes required. If anyone else runs this notebook on this platform, their respective API service credentials will be used automatically."
   ]
  },
  {
   "cell_type": "markdown",
   "id": "25d87e61",
   "metadata": {
    "papermill": {
     "duration": 0.018116,
     "end_time": "2023-10-24T07:58:47.331974",
     "exception": false,
     "start_time": "2023-10-24T07:58:47.313858",
     "status": "completed"
    },
    "tags": []
   },
   "source": [
    "To learn more about using **SentinelHub** or **GeoDB** on the Euro Data Cube platform, check out **<a target=\"_blank\" href=\"https://eurodatacube.com/marketplace/notebooks?tag=Getting%20started\">these notebooks</a>** in the marketplace."
   ]
  }
 ],
 "metadata": {
  "kernelspec": {
   "display_name": "Python 3",
   "language": "python",
   "name": "conda-env-users-edc-2023.10-01-py"
  },
  "language_info": {
   "codemirror_mode": {
    "name": "ipython",
    "version": 3
   },
   "file_extension": ".py",
   "mimetype": "text/x-python",
   "name": "python",
   "nbconvert_exporter": "python",
   "pygments_lexer": "ipython3",
   "version": "3.11.6"
  },
  "papermill": {
   "duration": 4.083331,
   "end_time": "2023-10-24T07:58:47.783517",
   "environment_variables": {},
   "exception": null,
   "input_path": "extra/notebook-verification-run/r20231024t075538/EDC_first-steps.ipynb",
   "output_path": "/home/jovyan/extra/job-output/2023-10-24/r20231024t075538/EDC_first-steps.ipynb",
   "parameters": {},
   "start_time": "2023-10-24T07:58:43.700186",
   "version": "2.1.0"
  },
  "properties": {
   "description": "First steps on the Euro Data Cube platform",
   "id": "4a7cae13-d390-48db-950a-397452c25a03",
   "license": null,
   "name": "EDC First Steps",
   "requirements": [
    "eurodatacube"
   ],
   "tags": [
    "EO Data",
    "Getting started",
    "Sentinel Hub",
    "xcube"
   ],
   "tosAgree": true,
   "type": "Jupyter Notebook",
   "version": "0.2.0"
  },
  "pycharm": {
   "stem_cell": {
    "cell_type": "raw",
    "metadata": {
     "collapsed": false
    },
    "source": []
   }
  }
 },
 "nbformat": 4,
 "nbformat_minor": 5
}
