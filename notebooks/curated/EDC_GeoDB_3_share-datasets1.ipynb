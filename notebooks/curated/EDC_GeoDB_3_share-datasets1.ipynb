{
 "cells": [
  {
   "cell_type": "markdown",
   "id": "f8213216",
   "metadata": {
    "tags": [
     "papermill-error-cell-tag"
    ]
   },
   "source": [
    "<span style=\"color:red; font-family:Helvetica Neue, Helvetica, Arial, sans-serif; font-size:2em;\">An Exception was encountered at '<a href=\"#papermill-error-cell\">In [8]</a>'.</span>"
   ]
  },
  {
   "cell_type": "code",
   "execution_count": 1,
   "id": "a7c0ae21",
   "metadata": {
    "execution": {
     "iopub.execute_input": "2022-09-24T20:50:20.494661Z",
     "iopub.status.busy": "2022-09-24T20:50:20.493586Z",
     "iopub.status.idle": "2022-09-24T20:50:57.788945Z",
     "shell.execute_reply": "2022-09-24T20:50:57.787944Z"
    },
    "papermill": {
     "duration": 37.310104,
     "end_time": "2022-09-24T20:50:57.796429",
     "exception": false,
     "start_time": "2022-09-24T20:50:20.486325",
     "status": "completed"
    },
    "tags": []
   },
   "outputs": [
    {
     "data": {
      "text/markdown": [
       "\n",
       "***Notebook Title***  \n",
       "GeoDB: Sharing Data\n",
       "\n",
       "***Notebook Description***  \n",
       "Euro Data Cube GeoDB: Sharing Data\n",
       "\n",
       "\n",
       "***Notebook Dependencies***  \n",
       "This notebook requires an active subscription to:\n",
       "* EDC GeoDB\n",
       "* EDC EOxHub Workspace\n"
      ],
      "text/plain": [
       "<IPython.core.display.Markdown object>"
      ]
     },
     "metadata": {},
     "output_type": "display_data"
    }
   ],
   "source": [
    "from edc import print_info\n",
    "print_info(\"geodb-sharing\")"
   ]
  },
  {
   "cell_type": "code",
   "execution_count": 2,
   "id": "7058232e",
   "metadata": {
    "execution": {
     "iopub.execute_input": "2022-09-24T20:50:57.803255Z",
     "iopub.status.busy": "2022-09-24T20:50:57.802966Z",
     "iopub.status.idle": "2022-09-24T20:50:57.810302Z",
     "shell.execute_reply": "2022-09-24T20:50:57.809733Z"
    },
    "papermill": {
     "duration": 0.012408,
     "end_time": "2022-09-24T20:50:57.811707",
     "exception": false,
     "start_time": "2022-09-24T20:50:57.799299",
     "status": "completed"
    },
    "tags": []
   },
   "outputs": [
    {
     "data": {
      "text/html": [
       "<script type=\"text/javascript\">\n",
       "        function toggle(id) {\n",
       "            el = document.getElementById(id);\n",
       "            el.style.display = el.style.display === \"none\" ? \"block\" : \"none\";\n",
       "        }\n",
       "    </script>"
      ],
      "text/plain": [
       "<IPython.core.display.HTML object>"
      ]
     },
     "metadata": {},
     "output_type": "display_data"
    },
    {
     "data": {
      "text/html": [
       "This notebook is compatible with this base image version (user-2022.07-00)."
      ],
      "text/plain": [
       "<IPython.core.display.HTML object>"
      ]
     },
     "metadata": {},
     "output_type": "display_data"
    },
    {
     "data": {
      "text/markdown": [
       "\n",
       "\n",
       "---------\n",
       "\n",
       "The following environment variables are available:\n",
       "\n",
       "* `GEODB_AUTH_AUD`, `GEODB_AUTH_CLIENT_ID`, `GEODB_AUTH_DOMAIN`, `GEODB_API_SERVER_URL`, `GEODB_AUTH_CLIENT_SECRET`, `GEODB_API_SERVER_PORT`\n"
      ],
      "text/plain": [
       "<IPython.core.display.Markdown object>"
      ]
     },
     "metadata": {},
     "output_type": "display_data"
    }
   ],
   "source": [
    "from edc import check_compatibility\n",
    "check_compatibility(\"user-2022.07-00\", dependencies=[\"GEODB\"])"
   ]
  },
  {
   "cell_type": "markdown",
   "id": "fd931226",
   "metadata": {
    "papermill": {
     "duration": 0.003018,
     "end_time": "2022-09-24T20:50:57.817741",
     "exception": false,
     "start_time": "2022-09-24T20:50:57.814723",
     "status": "completed"
    },
    "tags": []
   },
   "source": [
    "## Sharing Data"
   ]
  },
  {
   "cell_type": "code",
   "execution_count": 3,
   "id": "e4f50222",
   "metadata": {
    "execution": {
     "iopub.execute_input": "2022-09-24T20:50:57.825030Z",
     "iopub.status.busy": "2022-09-24T20:50:57.824766Z",
     "iopub.status.idle": "2022-09-24T20:50:58.350122Z",
     "shell.execute_reply": "2022-09-24T20:50:58.349331Z"
    },
    "papermill": {
     "duration": 0.53138,
     "end_time": "2022-09-24T20:50:58.352012",
     "exception": false,
     "start_time": "2022-09-24T20:50:57.820632",
     "status": "completed"
    },
    "tags": []
   },
   "outputs": [],
   "source": [
    "from xcube_geodb.core.geodb import GeoDBClient"
   ]
  },
  {
   "cell_type": "code",
   "execution_count": 4,
   "id": "62e0361c",
   "metadata": {
    "execution": {
     "iopub.execute_input": "2022-09-24T20:50:58.359630Z",
     "iopub.status.busy": "2022-09-24T20:50:58.359253Z",
     "iopub.status.idle": "2022-09-24T20:50:59.041937Z",
     "shell.execute_reply": "2022-09-24T20:50:59.041326Z"
    },
    "papermill": {
     "duration": 0.688323,
     "end_time": "2022-09-24T20:50:59.043482",
     "exception": false,
     "start_time": "2022-09-24T20:50:58.355159",
     "status": "completed"
    },
    "tags": []
   },
   "outputs": [
    {
     "data": {
      "text/plain": [
       "'geodb_418dfeac-15f0-4606-9edb-fd9eb722bf04'"
      ]
     },
     "execution_count": 4,
     "metadata": {},
     "output_type": "execute_result"
    }
   ],
   "source": [
    "geodb = GeoDBClient()\n",
    "geodb.whoami"
   ]
  },
  {
   "cell_type": "code",
   "execution_count": 5,
   "id": "a4511adb",
   "metadata": {
    "execution": {
     "iopub.execute_input": "2022-09-24T20:50:59.051490Z",
     "iopub.status.busy": "2022-09-24T20:50:59.051188Z",
     "iopub.status.idle": "2022-09-24T20:50:59.413899Z",
     "shell.execute_reply": "2022-09-24T20:50:59.413324Z"
    },
    "papermill": {
     "duration": 0.368622,
     "end_time": "2022-09-24T20:50:59.415790",
     "exception": false,
     "start_time": "2022-09-24T20:50:59.047168",
     "status": "completed"
    },
    "tags": []
   },
   "outputs": [],
   "source": [
    "ds = geodb.get_my_collections()\n",
    "\n",
    "if ds[(ds.database == geodb.whoami) & (ds.collection == 'land_use')].collection.count() == 0:\n",
    "    # Have a look at fiona feature schema\n",
    "    collections = {\n",
    "            \"land_use\": \n",
    "            {\n",
    "                \"crs\": 3794,\n",
    "                \"properties\": \n",
    "                {\n",
    "                    \"RABA_PID\": \"float\", \n",
    "                    \"RABA_ID\": \"float\", \n",
    "                    \"D_OD\": \"date\"\n",
    "                }\n",
    "            }\n",
    "        }\n",
    "\n",
    "\n",
    "    geodb.create_collections(collections)\n",
    "    import geopandas\n",
    "    import os\n",
    "    gdf = geopandas.read_file(os.path.expanduser(\"~/.shared/notebooks/eurodatacube/notebooks/curated/data/sample/land_use.shp\"))\n",
    "    geodb.insert_into_collection('land_use', gdf)"
   ]
  },
  {
   "cell_type": "markdown",
   "id": "88f209da",
   "metadata": {
    "papermill": {
     "duration": 0.003264,
     "end_time": "2022-09-24T20:50:59.422276",
     "exception": false,
     "start_time": "2022-09-24T20:50:59.419012",
     "status": "completed"
    },
    "tags": []
   },
   "source": [
    "### Publish a Collection to the World"
   ]
  },
  {
   "cell_type": "code",
   "execution_count": 6,
   "id": "650d74fc",
   "metadata": {
    "execution": {
     "iopub.execute_input": "2022-09-24T20:50:59.429743Z",
     "iopub.status.busy": "2022-09-24T20:50:59.429183Z",
     "iopub.status.idle": "2022-09-24T20:50:59.484799Z",
     "shell.execute_reply": "2022-09-24T20:50:59.484144Z"
    },
    "papermill": {
     "duration": 0.061708,
     "end_time": "2022-09-24T20:50:59.486970",
     "exception": false,
     "start_time": "2022-09-24T20:50:59.425262",
     "status": "completed"
    },
    "tags": []
   },
   "outputs": [
    {
     "data": {
      "text/html": [
       "<div>\n",
       "<style scoped>\n",
       "    .dataframe tbody tr th:only-of-type {\n",
       "        vertical-align: middle;\n",
       "    }\n",
       "\n",
       "    .dataframe tbody tr th {\n",
       "        vertical-align: top;\n",
       "    }\n",
       "\n",
       "    .dataframe thead th {\n",
       "        text-align: right;\n",
       "    }\n",
       "</style>\n",
       "<table border=\"1\" class=\"dataframe\">\n",
       "  <thead>\n",
       "    <tr style=\"text-align: right;\">\n",
       "      <th></th>\n",
       "      <th>collection</th>\n",
       "      <th>grantee</th>\n",
       "    </tr>\n",
       "  </thead>\n",
       "  <tbody>\n",
       "    <tr>\n",
       "      <th>0</th>\n",
       "      <td>2021-10-04-test-3</td>\n",
       "      <td>postgres</td>\n",
       "    </tr>\n",
       "    <tr>\n",
       "      <th>1</th>\n",
       "      <td>2021-10-04-test-3</td>\n",
       "      <td>postgres</td>\n",
       "    </tr>\n",
       "    <tr>\n",
       "      <th>2</th>\n",
       "      <td>2021-10-04-test-3</td>\n",
       "      <td>postgres</td>\n",
       "    </tr>\n",
       "    <tr>\n",
       "      <th>3</th>\n",
       "      <td>2021-10-04-test-3</td>\n",
       "      <td>postgres</td>\n",
       "    </tr>\n",
       "    <tr>\n",
       "      <th>4</th>\n",
       "      <td>2021-10-04-test-3</td>\n",
       "      <td>postgres</td>\n",
       "    </tr>\n",
       "    <tr>\n",
       "      <th>5</th>\n",
       "      <td>2021-10-04-test-3</td>\n",
       "      <td>postgres</td>\n",
       "    </tr>\n",
       "    <tr>\n",
       "      <th>6</th>\n",
       "      <td>2021-10-04-test-3</td>\n",
       "      <td>postgres</td>\n",
       "    </tr>\n",
       "    <tr>\n",
       "      <th>7</th>\n",
       "      <td>2021-10-04-test-1234</td>\n",
       "      <td>postgres</td>\n",
       "    </tr>\n",
       "    <tr>\n",
       "      <th>8</th>\n",
       "      <td>2021-10-04-test-1234</td>\n",
       "      <td>postgres</td>\n",
       "    </tr>\n",
       "    <tr>\n",
       "      <th>9</th>\n",
       "      <td>2021-10-04-test-1234</td>\n",
       "      <td>postgres</td>\n",
       "    </tr>\n",
       "    <tr>\n",
       "      <th>10</th>\n",
       "      <td>2021-10-04-test-1234</td>\n",
       "      <td>postgres</td>\n",
       "    </tr>\n",
       "    <tr>\n",
       "      <th>11</th>\n",
       "      <td>2021-10-04-test-1234</td>\n",
       "      <td>postgres</td>\n",
       "    </tr>\n",
       "    <tr>\n",
       "      <th>12</th>\n",
       "      <td>2021-10-04-test-1234</td>\n",
       "      <td>postgres</td>\n",
       "    </tr>\n",
       "    <tr>\n",
       "      <th>13</th>\n",
       "      <td>2021-10-04-test-1234</td>\n",
       "      <td>postgres</td>\n",
       "    </tr>\n",
       "    <tr>\n",
       "      <th>14</th>\n",
       "      <td>2021-10-04-test-7</td>\n",
       "      <td>postgres</td>\n",
       "    </tr>\n",
       "    <tr>\n",
       "      <th>15</th>\n",
       "      <td>2021-10-04-test-7</td>\n",
       "      <td>postgres</td>\n",
       "    </tr>\n",
       "    <tr>\n",
       "      <th>16</th>\n",
       "      <td>2021-10-04-test-7</td>\n",
       "      <td>postgres</td>\n",
       "    </tr>\n",
       "    <tr>\n",
       "      <th>17</th>\n",
       "      <td>2021-10-04-test-7</td>\n",
       "      <td>postgres</td>\n",
       "    </tr>\n",
       "    <tr>\n",
       "      <th>18</th>\n",
       "      <td>2021-10-04-test-7</td>\n",
       "      <td>postgres</td>\n",
       "    </tr>\n",
       "    <tr>\n",
       "      <th>19</th>\n",
       "      <td>2021-10-04-test-7</td>\n",
       "      <td>postgres</td>\n",
       "    </tr>\n",
       "    <tr>\n",
       "      <th>20</th>\n",
       "      <td>2021-10-04-test-7</td>\n",
       "      <td>postgres</td>\n",
       "    </tr>\n",
       "    <tr>\n",
       "      <th>21</th>\n",
       "      <td>2021-10-04-test-9876</td>\n",
       "      <td>postgres</td>\n",
       "    </tr>\n",
       "    <tr>\n",
       "      <th>22</th>\n",
       "      <td>2021-10-04-test-9876</td>\n",
       "      <td>postgres</td>\n",
       "    </tr>\n",
       "    <tr>\n",
       "      <th>23</th>\n",
       "      <td>2021-10-04-test-9876</td>\n",
       "      <td>postgres</td>\n",
       "    </tr>\n",
       "    <tr>\n",
       "      <th>24</th>\n",
       "      <td>2021-10-04-test-9876</td>\n",
       "      <td>postgres</td>\n",
       "    </tr>\n",
       "    <tr>\n",
       "      <th>25</th>\n",
       "      <td>2021-10-04-test-9876</td>\n",
       "      <td>postgres</td>\n",
       "    </tr>\n",
       "    <tr>\n",
       "      <th>26</th>\n",
       "      <td>2021-10-04-test-9876</td>\n",
       "      <td>postgres</td>\n",
       "    </tr>\n",
       "    <tr>\n",
       "      <th>27</th>\n",
       "      <td>2021-10-04-test-9876</td>\n",
       "      <td>postgres</td>\n",
       "    </tr>\n",
       "    <tr>\n",
       "      <th>28</th>\n",
       "      <td>land_use</td>\n",
       "      <td>postgres</td>\n",
       "    </tr>\n",
       "    <tr>\n",
       "      <th>29</th>\n",
       "      <td>land_use</td>\n",
       "      <td>postgres</td>\n",
       "    </tr>\n",
       "    <tr>\n",
       "      <th>30</th>\n",
       "      <td>land_use</td>\n",
       "      <td>postgres</td>\n",
       "    </tr>\n",
       "    <tr>\n",
       "      <th>31</th>\n",
       "      <td>land_use</td>\n",
       "      <td>postgres</td>\n",
       "    </tr>\n",
       "    <tr>\n",
       "      <th>32</th>\n",
       "      <td>land_use</td>\n",
       "      <td>postgres</td>\n",
       "    </tr>\n",
       "    <tr>\n",
       "      <th>33</th>\n",
       "      <td>land_use</td>\n",
       "      <td>postgres</td>\n",
       "    </tr>\n",
       "    <tr>\n",
       "      <th>34</th>\n",
       "      <td>land_use</td>\n",
       "      <td>postgres</td>\n",
       "    </tr>\n",
       "    <tr>\n",
       "      <th>35</th>\n",
       "      <td>land_use</td>\n",
       "      <td>PUBLIC</td>\n",
       "    </tr>\n",
       "    <tr>\n",
       "      <th>36</th>\n",
       "      <td>alster</td>\n",
       "      <td>postgres</td>\n",
       "    </tr>\n",
       "    <tr>\n",
       "      <th>37</th>\n",
       "      <td>alster</td>\n",
       "      <td>postgres</td>\n",
       "    </tr>\n",
       "    <tr>\n",
       "      <th>38</th>\n",
       "      <td>alster</td>\n",
       "      <td>postgres</td>\n",
       "    </tr>\n",
       "    <tr>\n",
       "      <th>39</th>\n",
       "      <td>alster</td>\n",
       "      <td>postgres</td>\n",
       "    </tr>\n",
       "    <tr>\n",
       "      <th>40</th>\n",
       "      <td>alster</td>\n",
       "      <td>postgres</td>\n",
       "    </tr>\n",
       "    <tr>\n",
       "      <th>41</th>\n",
       "      <td>alster</td>\n",
       "      <td>postgres</td>\n",
       "    </tr>\n",
       "    <tr>\n",
       "      <th>42</th>\n",
       "      <td>alster</td>\n",
       "      <td>postgres</td>\n",
       "    </tr>\n",
       "    <tr>\n",
       "      <th>43</th>\n",
       "      <td>2021-10-04-test-coll</td>\n",
       "      <td>postgres</td>\n",
       "    </tr>\n",
       "    <tr>\n",
       "      <th>44</th>\n",
       "      <td>2021-10-04-test-coll</td>\n",
       "      <td>postgres</td>\n",
       "    </tr>\n",
       "    <tr>\n",
       "      <th>45</th>\n",
       "      <td>2021-10-04-test-coll</td>\n",
       "      <td>postgres</td>\n",
       "    </tr>\n",
       "    <tr>\n",
       "      <th>46</th>\n",
       "      <td>2021-10-04-test-coll</td>\n",
       "      <td>postgres</td>\n",
       "    </tr>\n",
       "    <tr>\n",
       "      <th>47</th>\n",
       "      <td>2021-10-04-test-coll</td>\n",
       "      <td>postgres</td>\n",
       "    </tr>\n",
       "    <tr>\n",
       "      <th>48</th>\n",
       "      <td>2021-10-04-test-coll</td>\n",
       "      <td>postgres</td>\n",
       "    </tr>\n",
       "    <tr>\n",
       "      <th>49</th>\n",
       "      <td>2021-10-04-test-coll</td>\n",
       "      <td>postgres</td>\n",
       "    </tr>\n",
       "    <tr>\n",
       "      <th>50</th>\n",
       "      <td>2021-10-04-test-2</td>\n",
       "      <td>postgres</td>\n",
       "    </tr>\n",
       "    <tr>\n",
       "      <th>51</th>\n",
       "      <td>2021-10-04-test-2</td>\n",
       "      <td>postgres</td>\n",
       "    </tr>\n",
       "    <tr>\n",
       "      <th>52</th>\n",
       "      <td>2021-10-04-test-2</td>\n",
       "      <td>postgres</td>\n",
       "    </tr>\n",
       "    <tr>\n",
       "      <th>53</th>\n",
       "      <td>2021-10-04-test-2</td>\n",
       "      <td>postgres</td>\n",
       "    </tr>\n",
       "    <tr>\n",
       "      <th>54</th>\n",
       "      <td>2021-10-04-test-2</td>\n",
       "      <td>postgres</td>\n",
       "    </tr>\n",
       "    <tr>\n",
       "      <th>55</th>\n",
       "      <td>2021-10-04-test-2</td>\n",
       "      <td>postgres</td>\n",
       "    </tr>\n",
       "    <tr>\n",
       "      <th>56</th>\n",
       "      <td>2021-10-04-test-2</td>\n",
       "      <td>postgres</td>\n",
       "    </tr>\n",
       "  </tbody>\n",
       "</table>\n",
       "</div>"
      ],
      "text/plain": [
       "              collection   grantee\n",
       "0      2021-10-04-test-3  postgres\n",
       "1      2021-10-04-test-3  postgres\n",
       "2      2021-10-04-test-3  postgres\n",
       "3      2021-10-04-test-3  postgres\n",
       "4      2021-10-04-test-3  postgres\n",
       "5      2021-10-04-test-3  postgres\n",
       "6      2021-10-04-test-3  postgres\n",
       "7   2021-10-04-test-1234  postgres\n",
       "8   2021-10-04-test-1234  postgres\n",
       "9   2021-10-04-test-1234  postgres\n",
       "10  2021-10-04-test-1234  postgres\n",
       "11  2021-10-04-test-1234  postgres\n",
       "12  2021-10-04-test-1234  postgres\n",
       "13  2021-10-04-test-1234  postgres\n",
       "14     2021-10-04-test-7  postgres\n",
       "15     2021-10-04-test-7  postgres\n",
       "16     2021-10-04-test-7  postgres\n",
       "17     2021-10-04-test-7  postgres\n",
       "18     2021-10-04-test-7  postgres\n",
       "19     2021-10-04-test-7  postgres\n",
       "20     2021-10-04-test-7  postgres\n",
       "21  2021-10-04-test-9876  postgres\n",
       "22  2021-10-04-test-9876  postgres\n",
       "23  2021-10-04-test-9876  postgres\n",
       "24  2021-10-04-test-9876  postgres\n",
       "25  2021-10-04-test-9876  postgres\n",
       "26  2021-10-04-test-9876  postgres\n",
       "27  2021-10-04-test-9876  postgres\n",
       "28              land_use  postgres\n",
       "29              land_use  postgres\n",
       "30              land_use  postgres\n",
       "31              land_use  postgres\n",
       "32              land_use  postgres\n",
       "33              land_use  postgres\n",
       "34              land_use  postgres\n",
       "35              land_use    PUBLIC\n",
       "36                alster  postgres\n",
       "37                alster  postgres\n",
       "38                alster  postgres\n",
       "39                alster  postgres\n",
       "40                alster  postgres\n",
       "41                alster  postgres\n",
       "42                alster  postgres\n",
       "43  2021-10-04-test-coll  postgres\n",
       "44  2021-10-04-test-coll  postgres\n",
       "45  2021-10-04-test-coll  postgres\n",
       "46  2021-10-04-test-coll  postgres\n",
       "47  2021-10-04-test-coll  postgres\n",
       "48  2021-10-04-test-coll  postgres\n",
       "49  2021-10-04-test-coll  postgres\n",
       "50     2021-10-04-test-2  postgres\n",
       "51     2021-10-04-test-2  postgres\n",
       "52     2021-10-04-test-2  postgres\n",
       "53     2021-10-04-test-2  postgres\n",
       "54     2021-10-04-test-2  postgres\n",
       "55     2021-10-04-test-2  postgres\n",
       "56     2021-10-04-test-2  postgres"
      ]
     },
     "execution_count": 6,
     "metadata": {},
     "output_type": "execute_result"
    }
   ],
   "source": [
    "geodb.list_my_grants()"
   ]
  },
  {
   "cell_type": "code",
   "execution_count": 7,
   "id": "ebc91a40",
   "metadata": {
    "execution": {
     "iopub.execute_input": "2022-09-24T20:50:59.500249Z",
     "iopub.status.busy": "2022-09-24T20:50:59.499813Z",
     "iopub.status.idle": "2022-09-24T20:50:59.549126Z",
     "shell.execute_reply": "2022-09-24T20:50:59.548543Z"
    },
    "papermill": {
     "duration": 0.057532,
     "end_time": "2022-09-24T20:50:59.550557",
     "exception": false,
     "start_time": "2022-09-24T20:50:59.493025",
     "status": "completed"
    },
    "tags": []
   },
   "outputs": [
    {
     "data": {
      "application/json": {
       "Message": "Access granted on land_use to public."
      },
      "text/plain": [
       "<xcube_geodb.core.message.Message at 0x7f29eda85b80>"
      ]
     },
     "execution_count": 7,
     "metadata": {},
     "output_type": "execute_result"
    }
   ],
   "source": [
    "geodb.publish_collection(\"land_use\")"
   ]
  },
  {
   "cell_type": "markdown",
   "id": "2a4ca74c-e2ed-4088-b3e9-8a7f93f2b5ef",
   "metadata": {
    "papermill": {
     "duration": 0.003515,
     "end_time": "2022-09-24T20:50:59.557827",
     "exception": false,
     "start_time": "2022-09-24T20:50:59.554312",
     "status": "completed"
    },
    "tags": []
   },
   "source": [
    "See the chanhes made to the collection: "
   ]
  },
  {
   "cell_type": "markdown",
   "id": "0e7d79e9",
   "metadata": {
    "tags": [
     "papermill-error-cell-tag"
    ]
   },
   "source": [
    "<span id=\"papermill-error-cell\" style=\"color:red; font-family:Helvetica Neue, Helvetica, Arial, sans-serif; font-size:2em;\">Execution using papermill encountered an exception here and stopped:</span>"
   ]
  },
  {
   "cell_type": "code",
   "execution_count": 8,
   "id": "78b15b1b-94b9-475f-886c-209b6c28aa0f",
   "metadata": {
    "execution": {
     "iopub.execute_input": "2022-09-24T20:50:59.566487Z",
     "iopub.status.busy": "2022-09-24T20:50:59.566201Z",
     "iopub.status.idle": "2022-09-24T20:50:59.995481Z",
     "shell.execute_reply": "2022-09-24T20:50:59.994722Z"
    },
    "papermill": {
     "duration": 0.434882,
     "end_time": "2022-09-24T20:50:59.996904",
     "exception": true,
     "start_time": "2022-09-24T20:50:59.562022",
     "status": "failed"
    },
    "tags": []
   },
   "outputs": [
    {
     "ename": "AttributeError",
     "evalue": "'GeoDBClient' object has no attribute 'get_event_log'",
     "output_type": "error",
     "traceback": [
      "\u001b[0;31m---------------------------------------------------------------------------\u001b[0m",
      "\u001b[0;31mAttributeError\u001b[0m                            Traceback (most recent call last)",
      "Input \u001b[0;32mIn [8]\u001b[0m, in \u001b[0;36m<cell line: 1>\u001b[0;34m()\u001b[0m\n\u001b[0;32m----> 1\u001b[0m \u001b[43mgeodb\u001b[49m\u001b[38;5;241;43m.\u001b[39;49m\u001b[43mget_event_log\u001b[49m(\u001b[38;5;124m'\u001b[39m\u001b[38;5;124mland_use\u001b[39m\u001b[38;5;124m'\u001b[39m)\n",
      "\u001b[0;31mAttributeError\u001b[0m: 'GeoDBClient' object has no attribute 'get_event_log'"
     ]
    }
   ],
   "source": [
    "geodb.get_event_log('land_use')"
   ]
  },
  {
   "cell_type": "markdown",
   "id": "06f4e31d",
   "metadata": {
    "papermill": {
     "duration": null,
     "end_time": null,
     "exception": null,
     "start_time": null,
     "status": "pending"
    },
    "tags": []
   },
   "source": [
    "### Accessing Collection as a different User\n",
    "\n",
    "Please be aware that you cannot change the user easily within a Notebook. Here, we changed the credentials in the background. The following cells will not run and are for demonstration only."
   ]
  },
  {
   "cell_type": "code",
   "execution_count": null,
   "id": "a2727e70",
   "metadata": {
    "execution": {
     "iopub.execute_input": "2022-07-19T04:34:29.322817Z",
     "iopub.status.busy": "2022-07-19T04:34:29.321731Z",
     "iopub.status.idle": "2022-07-19T04:34:29.988964Z",
     "shell.execute_reply": "2022-07-19T04:34:29.988016Z"
    },
    "papermill": {
     "duration": null,
     "end_time": null,
     "exception": null,
     "start_time": null,
     "status": "pending"
    },
    "tags": []
   },
   "outputs": [],
   "source": [
    "geodb = GeoDBClient()\n",
    "geodb.whoami"
   ]
  },
  {
   "cell_type": "markdown",
   "id": "dddda2d0",
   "metadata": {
    "papermill": {
     "duration": null,
     "end_time": null,
     "exception": null,
     "start_time": null,
     "status": "pending"
    },
    "tags": []
   },
   "source": [
    "### Revoke access"
   ]
  },
  {
   "cell_type": "code",
   "execution_count": null,
   "id": "13ac9d7e",
   "metadata": {
    "execution": {
     "iopub.execute_input": "2022-07-19T04:34:30.013822Z",
     "iopub.status.busy": "2022-07-19T04:34:30.013448Z",
     "iopub.status.idle": "2022-07-19T04:34:30.086195Z",
     "shell.execute_reply": "2022-07-19T04:34:30.085180Z"
    },
    "papermill": {
     "duration": null,
     "end_time": null,
     "exception": null,
     "start_time": null,
     "status": "pending"
    },
    "tags": []
   },
   "outputs": [],
   "source": [
    "geodb.list_my_grants()"
   ]
  },
  {
   "cell_type": "code",
   "execution_count": null,
   "id": "12ef6ef9",
   "metadata": {
    "execution": {
     "iopub.execute_input": "2022-07-19T04:34:30.101155Z",
     "iopub.status.busy": "2022-07-19T04:34:30.100652Z",
     "iopub.status.idle": "2022-07-19T04:34:30.247489Z",
     "shell.execute_reply": "2022-07-19T04:34:30.246538Z"
    },
    "papermill": {
     "duration": null,
     "end_time": null,
     "exception": null,
     "start_time": null,
     "status": "pending"
    },
    "tags": []
   },
   "outputs": [],
   "source": [
    "geodb.unpublish_collection(\"land_use\")"
   ]
  },
  {
   "cell_type": "markdown",
   "id": "451f5c63-0e59-4e6f-9313-d31ce8630ba0",
   "metadata": {
    "papermill": {
     "duration": null,
     "end_time": null,
     "exception": null,
     "start_time": null,
     "status": "pending"
    },
    "tags": []
   },
   "source": [
    "See the chanhes made to the collection: "
   ]
  },
  {
   "cell_type": "code",
   "execution_count": null,
   "id": "8d9078d8-72b6-4504-b8a9-a25931b2c604",
   "metadata": {
    "papermill": {
     "duration": null,
     "end_time": null,
     "exception": null,
     "start_time": null,
     "status": "pending"
    },
    "tags": []
   },
   "outputs": [],
   "source": [
    "geodb.get_event_log('land_use')"
   ]
  },
  {
   "cell_type": "code",
   "execution_count": null,
   "id": "bf4e8d9e",
   "metadata": {
    "execution": {
     "iopub.execute_input": "2022-07-19T04:34:30.264248Z",
     "iopub.status.busy": "2022-07-19T04:34:30.263395Z",
     "iopub.status.idle": "2022-07-19T04:34:30.325372Z",
     "shell.execute_reply": "2022-07-19T04:34:30.324313Z"
    },
    "papermill": {
     "duration": null,
     "end_time": null,
     "exception": null,
     "start_time": null,
     "status": "pending"
    },
    "tags": []
   },
   "outputs": [],
   "source": [
    "geodb.list_my_grants()"
   ]
  },
  {
   "cell_type": "code",
   "execution_count": null,
   "id": "aa25661a",
   "metadata": {
    "execution": {
     "iopub.execute_input": "2022-07-19T04:34:30.342049Z",
     "iopub.status.busy": "2022-07-19T04:34:30.341702Z",
     "iopub.status.idle": "2022-07-19T04:34:33.494476Z",
     "shell.execute_reply": "2022-07-19T04:34:33.493585Z"
    },
    "papermill": {
     "duration": null,
     "end_time": null,
     "exception": null,
     "start_time": null,
     "status": "pending"
    },
    "tags": []
   },
   "outputs": [],
   "source": [
    "gdf = geodb.get_collection_by_bbox(collection=\"land_use\", bbox=(452750.0, 88909.549, 464000.0, 102486.299),\n",
    "                comparison_mode=\"contains\", bbox_crs=3794, limit=2, offset=10)\n",
    "gdf"
   ]
  },
  {
   "cell_type": "code",
   "execution_count": null,
   "id": "7f3a346f",
   "metadata": {
    "papermill": {
     "duration": null,
     "end_time": null,
     "exception": null,
     "start_time": null,
     "status": "pending"
    },
    "tags": []
   },
   "outputs": [],
   "source": []
  }
 ],
 "metadata": {
  "kernelspec": {
   "display_name": "Python [conda env:edc-default-2022.07-00]",
   "language": "python",
   "name": "conda-env-edc-default-2022.07-00-py"
  },
  "language_info": {
   "codemirror_mode": {
    "name": "ipython",
    "version": 3
   },
   "file_extension": ".py",
   "mimetype": "text/x-python",
   "name": "python",
   "nbconvert_exporter": "python",
   "pygments_lexer": "ipython3",
   "version": "3.9.13"
  },
  "papermill": {
   "duration": 41.436877,
   "end_time": "2022-09-24T20:51:00.316389",
   "environment_variables": {},
   "exception": true,
   "input_path": "/tmp/tmp624p35w7",
   "output_path": "/tmp/notebook_output.ipynb",
   "parameters": {},
   "start_time": "2022-09-24T20:50:18.879512",
   "version": "2.1.2"
  },
  "properties": {
   "authors": [],
   "description": "Euro Data Cube GeoDB: Sharing Data",
   "id": "geodb-sharing",
   "license": null,
   "name": "GeoDB: Sharing Data",
   "requirements": [
    "eurodatacube-geodb",
    "eoxhub"
   ],
   "tags": [
    "Getting started",
    "GeoDB"
   ],
   "tosAgree": true,
   "type": "Jupyter Notebook",
   "version": "0.2.1"
  },
  "pycharm": {
   "stem_cell": {
    "cell_type": "raw",
    "metadata": {
     "collapsed": false
    },
    "source": []
   }
  }
 },
 "nbformat": 4,
 "nbformat_minor": 5
}