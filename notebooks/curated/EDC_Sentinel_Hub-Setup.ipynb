{
 "cells": [
  {
   "cell_type": "code",
   "execution_count": 1,
   "id": "0ac56e84",
   "metadata": {
    "execution": {
     "iopub.execute_input": "2023-03-22T13:33:50.245334Z",
     "iopub.status.busy": "2023-03-22T13:33:50.244951Z",
     "iopub.status.idle": "2023-03-22T13:33:50.375157Z",
     "shell.execute_reply": "2023-03-22T13:33:50.373921Z"
    },
    "papermill": {
     "duration": 0.140891,
     "end_time": "2023-03-22T13:33:50.378119",
     "exception": false,
     "start_time": "2023-03-22T13:33:50.237228",
     "status": "completed"
    },
    "tags": []
   },
   "outputs": [
    {
     "data": {
      "text/html": [
       "<script type=\"text/javascript\">\n",
       "        function toggle(id) {\n",
       "            el = document.getElementById(id);\n",
       "            el.style.display = el.style.display === \"none\" ? \"block\" : \"none\";\n",
       "        }\n",
       "    </script>"
      ],
      "text/plain": [
       "<IPython.core.display.HTML object>"
      ]
     },
     "metadata": {},
     "output_type": "display_data"
    },
    {
     "data": {
      "text/html": [
       "This notebook is compatible with this base image version (user-2023.03-01)."
      ],
      "text/plain": [
       "<IPython.core.display.HTML object>"
      ]
     },
     "metadata": {},
     "output_type": "display_data"
    },
    {
     "data": {
      "text/markdown": [
       "\n",
       "\n",
       "---------\n",
       "\n",
       "The following environment variables are available:\n",
       "\n",
       "* `SH_CLIENT_ID`, `SH_INSTANCE_ID`, `SH_CLIENT_NAME`, `SH_CLIENT_SECRET`\n"
      ],
      "text/plain": [
       "<IPython.core.display.Markdown object>"
      ]
     },
     "metadata": {},
     "output_type": "display_data"
    }
   ],
   "source": [
    "from edc import check_compatibility\n",
    "check_compatibility(\"user-2023.03-01\", dependencies=[\"SH\"])"
   ]
  },
  {
   "cell_type": "markdown",
   "id": "1c74162f",
   "metadata": {
    "papermill": {
     "duration": 0.002842,
     "end_time": "2023-03-22T13:33:50.383967",
     "exception": false,
     "start_time": "2023-03-22T13:33:50.381125",
     "status": "completed"
    },
    "tags": []
   },
   "source": [
    "## Setup for EDC core API access using xcube client library\n",
    "\n",
    "### Installation\n",
    "\n",
    "For creating an `xcube` Python environment and installing `xcube` follow the instructions given in the [xcube's README](https://github.com/dcs4cop/xcube/blob/master/README.md).\n",
    "For installing the `xcube_sh` plugin follow the instructions given in the [xcube-sh's README](https://github.com/dcs4cop/xcube-sh/blob/master/README.md).\n",
    "\n",
    "Before using Jupyter Lab for the first time install the `jupyterlab` package and make sure the \n",
    "[Jupyter GeoJSON extension](https://www.npmjs.com/package/@jupyterlab/geojson-extension) is installed too:\n",
    "\n",
    "```bash\n",
    "(xcube) conda install -c conda-forge jupyterlab\n",
    "(xcube) jupyter labextension install @jupyterlab/geojson-extension\n",
    "```\n",
    "\n",
    "### API access (OAuth2)\n",
    "\n",
    "For API access the following environment variables must be provided via a .env file\n",
    "\n",
    "```\n",
    "SH_CLIENT_ID=\n",
    "SH_CLIENT_SECRET=\n",
    "SH_INSTANCE_ID=\n",
    "```\n",
    "\n",
    "You can find these values in your Euro Data Cube Dashboard in the API Access (OAuth2) section of the Euro Data Cube service.\n",
    "\n",
    "### Test Setup\n",
    "\n",
    "Test whether setup was successfull by importing some important `xcube_sh` exports:"
   ]
  },
  {
   "cell_type": "code",
   "execution_count": 2,
   "id": "e9ffdeea",
   "metadata": {
    "execution": {
     "iopub.execute_input": "2023-03-22T13:33:50.393060Z",
     "iopub.status.busy": "2023-03-22T13:33:50.391611Z",
     "iopub.status.idle": "2023-03-22T13:33:51.600005Z",
     "shell.execute_reply": "2023-03-22T13:33:51.594959Z"
    },
    "papermill": {
     "duration": 1.221118,
     "end_time": "2023-03-22T13:33:51.607624",
     "exception": false,
     "start_time": "2023-03-22T13:33:50.386506",
     "status": "completed"
    },
    "tags": []
   },
   "outputs": [],
   "source": [
    "# Configure data cubes using CubeConfig\n",
    "from xcube_sh.config import CubeConfig\n",
    "# Open data cubes from SH with given CubeConfig\n",
    "from xcube_sh.cube import open_cube\n",
    "# Observe SH requests made open_cube()\n",
    "from xcube_sh.observers import Observers\n",
    "# View stored cubes\n",
    "from xcube_sh.viewer import ViewerServer"
   ]
  },
  {
   "cell_type": "code",
   "execution_count": 3,
   "id": "1fb62e15",
   "metadata": {
    "execution": {
     "iopub.execute_input": "2023-03-22T13:33:51.626591Z",
     "iopub.status.busy": "2023-03-22T13:33:51.625726Z",
     "iopub.status.idle": "2023-03-22T13:33:51.652668Z",
     "shell.execute_reply": "2023-03-22T13:33:51.648139Z"
    },
    "papermill": {
     "duration": 0.038974,
     "end_time": "2023-03-22T13:33:51.657422",
     "exception": false,
     "start_time": "2023-03-22T13:33:51.618448",
     "status": "completed"
    },
    "tags": []
   },
   "outputs": [
    {
     "data": {
      "text/plain": [
       "'0.10.1'"
      ]
     },
     "execution_count": 3,
     "metadata": {},
     "output_type": "execute_result"
    }
   ],
   "source": [
    "from xcube_sh.version import version\n",
    "version"
   ]
  },
  {
   "cell_type": "markdown",
   "id": "e190d83f",
   "metadata": {
    "papermill": {
     "duration": 0.003006,
     "end_time": "2023-03-22T13:33:51.666737",
     "exception": false,
     "start_time": "2023-03-22T13:33:51.663731",
     "status": "completed"
    },
    "tags": []
   },
   "source": [
    "## Setup for Euro Data Cube geoDB\n",
    "\n",
    "### Installation\n",
    "\n",
    "For installing the `xcube_geodb` plugin follow the instructions given in the [xcube-geodb's README](https://github.com/dcs4cop/xcube-geodb/blob/master/README.md).\n",
    "\n",
    "Before using Jupyter Lab for the first time install the `jupyterlab` package and make sure the \n",
    "[Jupyter GeoJSON extension](https://www.npmjs.com/package/@jupyterlab/geojson-extension) is installed too:\n",
    "\n",
    "```bash\n",
    "conda install -c conda-forge jupyterlab\n",
    "jupyter labextension install @jupyterlab/geojson-extension\n",
    "```\n",
    "\n",
    "### API access (OAuth2)\n",
    "\n",
    "For API access the following environment variables must be provided via a .env file\n",
    "\n",
    "```\n",
    "GEODB_API_SERVER_URL=\n",
    "GEODB_AUTH_CLIENT_ID=\n",
    "GEODB_AUTH_CLIENT_SECRET=\n",
    "GEODB_AUTH_AUD=\n",
    "GEODB_API_SERVER_PORT=\n",
    "GEODB_AUTH_DOMAIN=\n",
    "```\n",
    "\n",
    "You can find these values in your Euro Data Cube Dashboard in the API Access (OAuth2) section of the `Euro Data Cube - geoDB` service.\n",
    "\n"
   ]
  }
 ],
 "metadata": {
  "kernelspec": {
   "display_name": "Python 3",
   "language": "python",
   "name": "python3"
  },
  "language_info": {
   "codemirror_mode": {
    "name": "ipython",
    "version": 3
   },
   "file_extension": ".py",
   "mimetype": "text/x-python",
   "name": "python",
   "nbconvert_exporter": "python",
   "pygments_lexer": "ipython3",
   "version": "3.9.16"
  },
  "papermill": {
   "duration": 3.392094,
   "end_time": "2023-03-22T13:33:52.201412",
   "environment_variables": {},
   "exception": null,
   "input_path": "/tmp/tmps78c17mo",
   "output_path": "/tmp/cur_notebook.ipynb",
   "parameters": {},
   "start_time": "2023-03-22T13:33:48.809318",
   "version": "2.1.0"
  },
  "properties": {
   "description": "Euro Data Cube core API access setup",
   "id": "sh-setup",
   "name": "EDC core API access setup",
   "requirements": [
    "eurodatacube"
   ],
   "tags": [
    "Getting started",
    "GeoDB",
    "xcube"
   ],
   "version": "0.1"
  }
 },
 "nbformat": 4,
 "nbformat_minor": 5
}