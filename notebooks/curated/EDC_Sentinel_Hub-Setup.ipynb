{
 "cells": [
  {
   "cell_type": "code",
   "execution_count": 1,
   "id": "0ac56e84",
   "metadata": {
    "execution": {
     "iopub.execute_input": "2023-10-24T07:57:44.357676Z",
     "iopub.status.busy": "2023-10-24T07:57:44.357291Z",
     "iopub.status.idle": "2023-10-24T07:57:44.399077Z",
     "shell.execute_reply": "2023-10-24T07:57:44.398649Z"
    },
    "papermill": {
     "duration": 0.059606,
     "end_time": "2023-10-24T07:57:44.400041",
     "exception": false,
     "start_time": "2023-10-24T07:57:44.340435",
     "status": "completed"
    },
    "tags": []
   },
   "outputs": [
    {
     "data": {
      "text/html": [
       "<script type=\"text/javascript\">\n",
       "        function toggle(id) {\n",
       "            el = document.getElementById(id);\n",
       "            el.style.display = el.style.display === \"none\" ? \"block\" : \"none\";\n",
       "        }\n",
       "    </script>"
      ],
      "text/plain": [
       "<IPython.core.display.HTML object>"
      ]
     },
     "metadata": {},
     "output_type": "display_data"
    },
    {
     "data": {
      "text/html": [
       "This notebook is compatible with this base image version (user-2023.10-01)."
      ],
      "text/plain": [
       "<IPython.core.display.HTML object>"
      ]
     },
     "metadata": {},
     "output_type": "display_data"
    },
    {
     "data": {
      "text/markdown": [
       "\n",
       "\n",
       "---------\n",
       "\n",
       "The following environment variables are available:\n",
       "\n",
       "* `SH_CLIENT_ID`, `SH_INSTANCE_ID`, `SH_CLIENT_NAME`, `SH_CLIENT_SECRET`\n"
      ],
      "text/plain": [
       "<IPython.core.display.Markdown object>"
      ]
     },
     "metadata": {},
     "output_type": "display_data"
    }
   ],
   "source": [
    "from edc import check_compatibility\n",
    "check_compatibility(\"user-2023.10-01\", dependencies=[\"SH\"])"
   ]
  },
  {
   "cell_type": "markdown",
   "id": "1c74162f",
   "metadata": {
    "papermill": {
     "duration": 0.014967,
     "end_time": "2023-10-24T07:57:44.455025",
     "exception": false,
     "start_time": "2023-10-24T07:57:44.440058",
     "status": "completed"
    },
    "tags": []
   },
   "source": [
    "## Setup for EDC core API access using xcube client library\n",
    "\n",
    "### Installation\n",
    "\n",
    "For creating an `xcube` Python environment and installing `xcube` follow the instructions given in the [xcube's README](https://github.com/dcs4cop/xcube/blob/master/README.md).\n",
    "For installing the `xcube_sh` plugin follow the instructions given in the [xcube-sh's README](https://github.com/dcs4cop/xcube-sh/blob/master/README.md).\n",
    "\n",
    "Before using Jupyter Lab for the first time install the `jupyterlab` package and make sure the \n",
    "[Jupyter GeoJSON extension](https://www.npmjs.com/package/@jupyterlab/geojson-extension) is installed too:\n",
    "\n",
    "```bash\n",
    "(xcube) conda install -c conda-forge jupyterlab\n",
    "(xcube) jupyter labextension install @jupyterlab/geojson-extension\n",
    "```\n",
    "\n",
    "### API access (OAuth2)\n",
    "\n",
    "For API access the following environment variables must be provided via a .env file\n",
    "\n",
    "```\n",
    "SH_CLIENT_ID=\n",
    "SH_CLIENT_SECRET=\n",
    "SH_INSTANCE_ID=\n",
    "```\n",
    "\n",
    "You can find these values in your Euro Data Cube Dashboard in the API Access (OAuth2) section of the Euro Data Cube service.\n",
    "\n",
    "### Test Setup\n",
    "\n",
    "Test whether setup was successfull by importing some important `xcube_sh` exports:"
   ]
  },
  {
   "cell_type": "code",
   "execution_count": 2,
   "id": "e9ffdeea",
   "metadata": {
    "execution": {
     "iopub.execute_input": "2023-10-24T07:57:44.503998Z",
     "iopub.status.busy": "2023-10-24T07:57:44.503681Z",
     "iopub.status.idle": "2023-10-24T07:57:45.130452Z",
     "shell.execute_reply": "2023-10-24T07:57:45.129971Z"
    },
    "papermill": {
     "duration": 0.643976,
     "end_time": "2023-10-24T07:57:45.131865",
     "exception": false,
     "start_time": "2023-10-24T07:57:44.487889",
     "status": "completed"
    },
    "tags": []
   },
   "outputs": [],
   "source": [
    "# Configure data cubes using CubeConfig\n",
    "from xcube_sh.config import CubeConfig\n",
    "# Open data cubes from SH with given CubeConfig\n",
    "from xcube_sh.cube import open_cube\n",
    "# Observe SH requests made open_cube()\n",
    "from xcube_sh.observers import Observers\n",
    "# View stored cubes\n",
    "from xcube_sh.viewer import ViewerServer"
   ]
  },
  {
   "cell_type": "code",
   "execution_count": 3,
   "id": "1fb62e15",
   "metadata": {
    "execution": {
     "iopub.execute_input": "2023-10-24T07:57:45.183290Z",
     "iopub.status.busy": "2023-10-24T07:57:45.182731Z",
     "iopub.status.idle": "2023-10-24T07:57:45.186348Z",
     "shell.execute_reply": "2023-10-24T07:57:45.185860Z"
    },
    "papermill": {
     "duration": 0.020684,
     "end_time": "2023-10-24T07:57:45.187339",
     "exception": false,
     "start_time": "2023-10-24T07:57:45.166655",
     "status": "completed"
    },
    "tags": []
   },
   "outputs": [
    {
     "data": {
      "text/plain": [
       "'0.10.3'"
      ]
     },
     "execution_count": 3,
     "metadata": {},
     "output_type": "execute_result"
    }
   ],
   "source": [
    "from xcube_sh.version import version\n",
    "version"
   ]
  },
  {
   "cell_type": "markdown",
   "id": "e190d83f",
   "metadata": {
    "papermill": {
     "duration": 0.015379,
     "end_time": "2023-10-24T07:57:45.238190",
     "exception": false,
     "start_time": "2023-10-24T07:57:45.222811",
     "status": "completed"
    },
    "tags": []
   },
   "source": [
    "## Setup for Euro Data Cube geoDB\n",
    "\n",
    "### Installation\n",
    "\n",
    "For installing the `xcube_geodb` plugin follow the instructions given in the [xcube-geodb's README](https://github.com/dcs4cop/xcube-geodb/blob/master/README.md).\n",
    "\n",
    "Before using Jupyter Lab for the first time install the `jupyterlab` package and make sure the \n",
    "[Jupyter GeoJSON extension](https://www.npmjs.com/package/@jupyterlab/geojson-extension) is installed too:\n",
    "\n",
    "```bash\n",
    "conda install -c conda-forge jupyterlab\n",
    "jupyter labextension install @jupyterlab/geojson-extension\n",
    "```\n",
    "\n",
    "### API access (OAuth2)\n",
    "\n",
    "For API access the following environment variables must be provided via a .env file\n",
    "\n",
    "```\n",
    "GEODB_API_SERVER_URL=\n",
    "GEODB_AUTH_CLIENT_ID=\n",
    "GEODB_AUTH_CLIENT_SECRET=\n",
    "GEODB_AUTH_AUD=\n",
    "GEODB_API_SERVER_PORT=\n",
    "GEODB_AUTH_DOMAIN=\n",
    "```\n",
    "\n",
    "You can find these values in your Euro Data Cube Dashboard in the API Access (OAuth2) section of the `Euro Data Cube - geoDB` service.\n",
    "\n"
   ]
  }
 ],
 "metadata": {
  "kernelspec": {
   "display_name": "Python 3",
   "language": "python",
   "name": "conda-env-users-edc-2023.10-01-py"
  },
  "language_info": {
   "codemirror_mode": {
    "name": "ipython",
    "version": 3
   },
   "file_extension": ".py",
   "mimetype": "text/x-python",
   "name": "python",
   "nbconvert_exporter": "python",
   "pygments_lexer": "ipython3",
   "version": "3.11.6"
  },
  "papermill": {
   "duration": 2.344821,
   "end_time": "2023-10-24T07:57:45.482679",
   "environment_variables": {},
   "exception": null,
   "input_path": "extra/notebook-verification-run/r20231024t075538/EDC_Sentinel_Hub-Setup.ipynb",
   "output_path": "/home/jovyan/extra/job-output/2023-10-24/r20231024t075538/EDC_Sentinel_Hub-Setup.ipynb",
   "parameters": {},
   "start_time": "2023-10-24T07:57:43.137858",
   "version": "2.1.0"
  },
  "properties": {
   "description": "Euro Data Cube core API access setup",
   "id": "sh-setup",
   "name": "EDC core API access setup",
   "requirements": [
    "eurodatacube"
   ],
   "tags": [
    "Getting started",
    "GeoDB",
    "xcube"
   ],
   "version": "0.1"
  }
 },
 "nbformat": 4,
 "nbformat_minor": 5
}
