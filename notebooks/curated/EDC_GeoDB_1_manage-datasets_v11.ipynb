{
 "cells": [
  {
   "cell_type": "code",
   "execution_count": 1,
   "id": "f1fdb01e",
   "metadata": {
    "execution": {
     "iopub.execute_input": "2023-10-24T07:57:04.347796Z",
     "iopub.status.busy": "2023-10-24T07:57:04.347263Z",
     "iopub.status.idle": "2023-10-24T07:57:04.406135Z",
     "shell.execute_reply": "2023-10-24T07:57:04.405583Z"
    },
    "papermill": {
     "duration": 0.082407,
     "end_time": "2023-10-24T07:57:04.407448",
     "exception": false,
     "start_time": "2023-10-24T07:57:04.325041",
     "status": "completed"
    },
    "tags": []
   },
   "outputs": [
    {
     "data": {
      "text/html": [
       "<script type=\"text/javascript\">\n",
       "        function toggle(id) {\n",
       "            el = document.getElementById(id);\n",
       "            el.style.display = el.style.display === \"none\" ? \"block\" : \"none\";\n",
       "        }\n",
       "    </script>"
      ],
      "text/plain": [
       "<IPython.core.display.HTML object>"
      ]
     },
     "metadata": {},
     "output_type": "display_data"
    },
    {
     "data": {
      "text/html": [
       "This notebook is compatible with this base image version (user-2023.10-01)."
      ],
      "text/plain": [
       "<IPython.core.display.HTML object>"
      ]
     },
     "metadata": {},
     "output_type": "display_data"
    },
    {
     "data": {
      "text/markdown": [
       "\n",
       "\n",
       "---------\n",
       "\n",
       "The following environment variables are available:\n",
       "\n",
       "* `GEODB_AUTH_AUD`, `GEODB_AUTH_CLIENT_ID`, `GEODB_AUTH_DOMAIN`, `GEODB_API_SERVER_URL`, `GEODB_AUTH_CLIENT_SECRET`, `GEODB_API_SERVER_PORT`\n"
      ],
      "text/plain": [
       "<IPython.core.display.Markdown object>"
      ]
     },
     "metadata": {},
     "output_type": "display_data"
    }
   ],
   "source": [
    "from edc import check_compatibility\n",
    "check_compatibility(\"user-2023.10-01\", dependencies=[\"GEODB\"])"
   ]
  },
  {
   "cell_type": "markdown",
   "id": "4589dc0f",
   "metadata": {
    "papermill": {
     "duration": 0.020852,
     "end_time": "2023-10-24T07:57:04.481331",
     "exception": false,
     "start_time": "2023-10-24T07:57:04.460479",
     "status": "completed"
    },
    "tags": []
   },
   "source": [
    "## Manage Collections in your GeoDB\n",
    "\n"
   ]
  },
  {
   "cell_type": "markdown",
   "id": "b700341c",
   "metadata": {
    "papermill": {
     "duration": 0.020597,
     "end_time": "2023-10-24T07:57:04.534727",
     "exception": false,
     "start_time": "2023-10-24T07:57:04.514130",
     "status": "completed"
    },
    "tags": []
   },
   "source": [
    "### Connecting to the GeoDB"
   ]
  },
  {
   "cell_type": "code",
   "execution_count": 2,
   "id": "baa87b49",
   "metadata": {
    "execution": {
     "iopub.execute_input": "2023-10-24T07:57:04.589328Z",
     "iopub.status.busy": "2023-10-24T07:57:04.589067Z",
     "iopub.status.idle": "2023-10-24T07:57:05.184231Z",
     "shell.execute_reply": "2023-10-24T07:57:05.183523Z"
    },
    "papermill": {
     "duration": 0.618065,
     "end_time": "2023-10-24T07:57:05.186233",
     "exception": false,
     "start_time": "2023-10-24T07:57:04.568168",
     "status": "completed"
    },
    "tags": []
   },
   "outputs": [],
   "source": [
    "from xcube_geodb.core.geodb import GeoDBClient\n",
    "from xcube_geodb.version import version"
   ]
  },
  {
   "cell_type": "code",
   "execution_count": 3,
   "id": "9baa3452",
   "metadata": {
    "execution": {
     "iopub.execute_input": "2023-10-24T07:57:05.252577Z",
     "iopub.status.busy": "2023-10-24T07:57:05.252086Z",
     "iopub.status.idle": "2023-10-24T07:57:05.256111Z",
     "shell.execute_reply": "2023-10-24T07:57:05.255710Z"
    },
    "papermill": {
     "duration": 0.026038,
     "end_time": "2023-10-24T07:57:05.257111",
     "exception": false,
     "start_time": "2023-10-24T07:57:05.231073",
     "status": "completed"
    },
    "tags": []
   },
   "outputs": [],
   "source": [
    "geodb = GeoDBClient()"
   ]
  },
  {
   "cell_type": "code",
   "execution_count": 4,
   "id": "a780e3fb",
   "metadata": {
    "execution": {
     "iopub.execute_input": "2023-10-24T07:57:05.319250Z",
     "iopub.status.busy": "2023-10-24T07:57:05.318897Z",
     "iopub.status.idle": "2023-10-24T07:57:06.099757Z",
     "shell.execute_reply": "2023-10-24T07:57:06.099294Z"
    },
    "papermill": {
     "duration": 0.802933,
     "end_time": "2023-10-24T07:57:06.100852",
     "exception": false,
     "start_time": "2023-10-24T07:57:05.297919",
     "status": "completed"
    },
    "tags": []
   },
   "outputs": [
    {
     "data": {
      "text/plain": [
       "'geodb_418dfeac-15f0-4606-9edb-fd9eb722bf04'"
      ]
     },
     "execution_count": 4,
     "metadata": {},
     "output_type": "execute_result"
    }
   ],
   "source": [
    "# If you are logged in, this will tell you what account the system currently uses\n",
    "geodb.whoami"
   ]
  },
  {
   "cell_type": "markdown",
   "id": "5988fdc1-a7d5-44ef-bf43-47272919b63e",
   "metadata": {
    "papermill": {
     "duration": 0.019662,
     "end_time": "2023-10-24T07:57:06.160104",
     "exception": false,
     "start_time": "2023-10-24T07:57:06.140442",
     "status": "completed"
    },
    "tags": []
   },
   "source": [
    "Checkout the deployed SQL version:"
   ]
  },
  {
   "cell_type": "code",
   "execution_count": 5,
   "id": "5fd0efdb-7b23-4e2d-957a-3328bd06d27d",
   "metadata": {
    "execution": {
     "iopub.execute_input": "2023-10-24T07:57:06.223002Z",
     "iopub.status.busy": "2023-10-24T07:57:06.222674Z",
     "iopub.status.idle": "2023-10-24T07:57:06.264248Z",
     "shell.execute_reply": "2023-10-24T07:57:06.263665Z"
    },
    "papermill": {
     "duration": 0.067371,
     "end_time": "2023-10-24T07:57:06.265475",
     "exception": false,
     "start_time": "2023-10-24T07:57:06.198104",
     "status": "completed"
    },
    "tags": []
   },
   "outputs": [
    {
     "data": {
      "text/plain": [
       "'1.0.5'"
      ]
     },
     "execution_count": 5,
     "metadata": {},
     "output_type": "execute_result"
    }
   ],
   "source": [
    "geodb.get_geodb_sql_version()"
   ]
  },
  {
   "cell_type": "markdown",
   "id": "795e0288-7e79-49e9-b994-a1e7e690dfd1",
   "metadata": {
    "papermill": {
     "duration": 0.019777,
     "end_time": "2023-10-24T07:57:06.319438",
     "exception": false,
     "start_time": "2023-10-24T07:57:06.299661",
     "status": "completed"
    },
    "tags": []
   },
   "source": [
    "Checkout the version of xcube geoDB software in your workspace: "
   ]
  },
  {
   "cell_type": "code",
   "execution_count": 6,
   "id": "5f8f9ce4-676b-4dcb-8f5d-57a97d6fd91f",
   "metadata": {
    "execution": {
     "iopub.execute_input": "2023-10-24T07:57:06.381301Z",
     "iopub.status.busy": "2023-10-24T07:57:06.380743Z",
     "iopub.status.idle": "2023-10-24T07:57:06.384653Z",
     "shell.execute_reply": "2023-10-24T07:57:06.384183Z"
    },
    "papermill": {
     "duration": 0.025496,
     "end_time": "2023-10-24T07:57:06.385695",
     "exception": false,
     "start_time": "2023-10-24T07:57:06.360199",
     "status": "completed"
    },
    "tags": []
   },
   "outputs": [
    {
     "data": {
      "text/plain": [
       "'1.0.6'"
      ]
     },
     "execution_count": 6,
     "metadata": {},
     "output_type": "execute_result"
    }
   ],
   "source": [
    "version"
   ]
  },
  {
   "cell_type": "code",
   "execution_count": 7,
   "id": "f0b2b694",
   "metadata": {
    "execution": {
     "iopub.execute_input": "2023-10-24T07:57:06.444065Z",
     "iopub.status.busy": "2023-10-24T07:57:06.443698Z",
     "iopub.status.idle": "2023-10-24T07:57:06.757062Z",
     "shell.execute_reply": "2023-10-24T07:57:06.756503Z"
    },
    "papermill": {
     "duration": 0.33978,
     "end_time": "2023-10-24T07:57:06.758741",
     "exception": false,
     "start_time": "2023-10-24T07:57:06.418961",
     "status": "completed"
    },
    "tags": []
   },
   "outputs": [
    {
     "data": {
      "text/html": [
       "<div>\n",
       "<style scoped>\n",
       "    .dataframe tbody tr th:only-of-type {\n",
       "        vertical-align: middle;\n",
       "    }\n",
       "\n",
       "    .dataframe tbody tr th {\n",
       "        vertical-align: top;\n",
       "    }\n",
       "\n",
       "    .dataframe thead th {\n",
       "        text-align: right;\n",
       "    }\n",
       "</style>\n",
       "<table border=\"1\" class=\"dataframe\">\n",
       "  <thead>\n",
       "    <tr style=\"text-align: right;\">\n",
       "      <th></th>\n",
       "      <th>owner</th>\n",
       "      <th>database</th>\n",
       "      <th>collection</th>\n",
       "    </tr>\n",
       "  </thead>\n",
       "  <tbody>\n",
       "    <tr>\n",
       "      <th>0</th>\n",
       "      <td>geodb_49a05d04-5d72-4c0f-9065-6e6827fd1871</td>\n",
       "      <td>anja</td>\n",
       "      <td>E1</td>\n",
       "    </tr>\n",
       "    <tr>\n",
       "      <th>1</th>\n",
       "      <td>geodb_49a05d04-5d72-4c0f-9065-6e6827fd1871</td>\n",
       "      <td>anja</td>\n",
       "      <td>E10a1</td>\n",
       "    </tr>\n",
       "    <tr>\n",
       "      <th>2</th>\n",
       "      <td>geodb_49a05d04-5d72-4c0f-9065-6e6827fd1871</td>\n",
       "      <td>anja</td>\n",
       "      <td>E10a2</td>\n",
       "    </tr>\n",
       "    <tr>\n",
       "      <th>3</th>\n",
       "      <td>geodb_49a05d04-5d72-4c0f-9065-6e6827fd1871</td>\n",
       "      <td>anja</td>\n",
       "      <td>E11</td>\n",
       "    </tr>\n",
       "    <tr>\n",
       "      <th>4</th>\n",
       "      <td>geodb_49a05d04-5d72-4c0f-9065-6e6827fd1871</td>\n",
       "      <td>anja</td>\n",
       "      <td>E1a</td>\n",
       "    </tr>\n",
       "    <tr>\n",
       "      <th>...</th>\n",
       "      <td>...</td>\n",
       "      <td>...</td>\n",
       "      <td>...</td>\n",
       "    </tr>\n",
       "    <tr>\n",
       "      <th>921</th>\n",
       "      <td>geodb_b34bfae7-9265-4a3e-b921-06549d3c6035</td>\n",
       "      <td>stac_test</td>\n",
       "      <td>ge_train_tier_2_labels</td>\n",
       "    </tr>\n",
       "    <tr>\n",
       "      <th>922</th>\n",
       "      <td>geodb_b34bfae7-9265-4a3e-b921-06549d3c6035</td>\n",
       "      <td>stac_test</td>\n",
       "      <td>ge_train_tier_2_source</td>\n",
       "    </tr>\n",
       "    <tr>\n",
       "      <th>923</th>\n",
       "      <td>geodb_b34bfae7-9265-4a3e-b921-06549d3c6035</td>\n",
       "      <td>stac_test</td>\n",
       "      <td>ties_ai_challenge_test</td>\n",
       "    </tr>\n",
       "    <tr>\n",
       "      <th>924</th>\n",
       "      <td>geodb_d2c4722a-cc19-4ec1-b575-0cdb6876d4a7</td>\n",
       "      <td>test_duplicate</td>\n",
       "      <td>test</td>\n",
       "    </tr>\n",
       "    <tr>\n",
       "      <th>925</th>\n",
       "      <td>None</td>\n",
       "      <td>None</td>\n",
       "      <td>None</td>\n",
       "    </tr>\n",
       "  </tbody>\n",
       "</table>\n",
       "<p>926 rows × 3 columns</p>\n",
       "</div>"
      ],
      "text/plain": [
       "                                          owner        database  \\\n",
       "0    geodb_49a05d04-5d72-4c0f-9065-6e6827fd1871            anja   \n",
       "1    geodb_49a05d04-5d72-4c0f-9065-6e6827fd1871            anja   \n",
       "2    geodb_49a05d04-5d72-4c0f-9065-6e6827fd1871            anja   \n",
       "3    geodb_49a05d04-5d72-4c0f-9065-6e6827fd1871            anja   \n",
       "4    geodb_49a05d04-5d72-4c0f-9065-6e6827fd1871            anja   \n",
       "..                                          ...             ...   \n",
       "921  geodb_b34bfae7-9265-4a3e-b921-06549d3c6035       stac_test   \n",
       "922  geodb_b34bfae7-9265-4a3e-b921-06549d3c6035       stac_test   \n",
       "923  geodb_b34bfae7-9265-4a3e-b921-06549d3c6035       stac_test   \n",
       "924  geodb_d2c4722a-cc19-4ec1-b575-0cdb6876d4a7  test_duplicate   \n",
       "925                                        None            None   \n",
       "\n",
       "                 collection  \n",
       "0                        E1  \n",
       "1                     E10a1  \n",
       "2                     E10a2  \n",
       "3                       E11  \n",
       "4                       E1a  \n",
       "..                      ...  \n",
       "921  ge_train_tier_2_labels  \n",
       "922  ge_train_tier_2_source  \n",
       "923  ties_ai_challenge_test  \n",
       "924                    test  \n",
       "925                    None  \n",
       "\n",
       "[926 rows x 3 columns]"
      ]
     },
     "execution_count": 7,
     "metadata": {},
     "output_type": "execute_result"
    }
   ],
   "source": [
    "# Lets get already existing collections\n",
    "ds = geodb.get_my_collections()\n",
    "ds\n"
   ]
  },
  {
   "cell_type": "markdown",
   "id": "66a44538",
   "metadata": {
    "papermill": {
     "duration": 0.022224,
     "end_time": "2023-10-24T07:57:06.818680",
     "exception": false,
     "start_time": "2023-10-24T07:57:06.796456",
     "status": "completed"
    },
    "tags": []
   },
   "source": [
    "### Creating collections\n",
    "\n",
    "Once the connection has been established you will be able to create a collection. The collection will contain standard properties (fields) plus custom properties\n",
    "which you can add at your disgretion. Please use [PostGreSQL type definitions](https://www.postgresql.org/docs/11/datatype.html). We recommend stying simple with\n",
    "your data types as we have not tested every single type."
   ]
  },
  {
   "cell_type": "code",
   "execution_count": 8,
   "id": "16370ff2",
   "metadata": {
    "execution": {
     "iopub.execute_input": "2023-10-24T07:57:06.879454Z",
     "iopub.status.busy": "2023-10-24T07:57:06.879064Z",
     "iopub.status.idle": "2023-10-24T07:57:07.223924Z",
     "shell.execute_reply": "2023-10-24T07:57:07.223475Z"
    },
    "papermill": {
     "duration": 0.367304,
     "end_time": "2023-10-24T07:57:07.225350",
     "exception": false,
     "start_time": "2023-10-24T07:57:06.858046",
     "status": "completed"
    },
    "tags": []
   },
   "outputs": [],
   "source": [
    "ds = geodb.get_my_collections()\n",
    "\n",
    "if ds[(ds.database == geodb.whoami) & (ds.collection == 'land_use')].collection.count() == 0:\n",
    "    # Have a look at fiona feature schema\n",
    "    collections = {\n",
    "            \"land_use\": \n",
    "            {\n",
    "                \"crs\": 3794,\n",
    "                \"properties\": \n",
    "                {\n",
    "                    \"RABA_PID\": \"float\", \n",
    "                    \"RABA_ID\": \"float\", \n",
    "                    \"D_OD\": \"date\"\n",
    "                }\n",
    "            }\n",
    "        }\n",
    "\n",
    "\n",
    "    geodb.create_collections(collections)\n",
    "    import geopandas\n",
    "    import os\n",
    "    gdf = geopandas.read_file(\"/shared/eurodatacube/curated/data/sample/land_use.shp\")\n",
    "    geodb.insert_into_collection('land_use', gdf)"
   ]
  },
  {
   "cell_type": "code",
   "execution_count": 9,
   "id": "b916f81a",
   "metadata": {
    "execution": {
     "iopub.execute_input": "2023-10-24T07:57:07.282318Z",
     "iopub.status.busy": "2023-10-24T07:57:07.281841Z",
     "iopub.status.idle": "2023-10-24T07:57:07.499798Z",
     "shell.execute_reply": "2023-10-24T07:57:07.499269Z"
    },
    "papermill": {
     "duration": 0.24189,
     "end_time": "2023-10-24T07:57:07.500995",
     "exception": false,
     "start_time": "2023-10-24T07:57:07.259105",
     "status": "completed"
    },
    "tags": []
   },
   "outputs": [
    {
     "data": {
      "text/html": [
       "<div>\n",
       "<style scoped>\n",
       "    .dataframe tbody tr th:only-of-type {\n",
       "        vertical-align: middle;\n",
       "    }\n",
       "\n",
       "    .dataframe tbody tr th {\n",
       "        vertical-align: top;\n",
       "    }\n",
       "\n",
       "    .dataframe thead th {\n",
       "        text-align: right;\n",
       "    }\n",
       "</style>\n",
       "<table border=\"1\" class=\"dataframe\">\n",
       "  <thead>\n",
       "    <tr style=\"text-align: right;\">\n",
       "      <th></th>\n",
       "      <th>owner</th>\n",
       "      <th>database</th>\n",
       "      <th>collection</th>\n",
       "    </tr>\n",
       "  </thead>\n",
       "  <tbody>\n",
       "    <tr>\n",
       "      <th>0</th>\n",
       "      <td>geodb_418dfeac-15f0-4606-9edb-fd9eb722bf04</td>\n",
       "      <td>geodb_418dfeac-15f0-4606-9edb-fd9eb722bf04</td>\n",
       "      <td>2021-10-04-test-1234</td>\n",
       "    </tr>\n",
       "    <tr>\n",
       "      <th>1</th>\n",
       "      <td>geodb_418dfeac-15f0-4606-9edb-fd9eb722bf04</td>\n",
       "      <td>geodb_418dfeac-15f0-4606-9edb-fd9eb722bf04</td>\n",
       "      <td>2021-10-04-test-2</td>\n",
       "    </tr>\n",
       "    <tr>\n",
       "      <th>2</th>\n",
       "      <td>geodb_418dfeac-15f0-4606-9edb-fd9eb722bf04</td>\n",
       "      <td>geodb_418dfeac-15f0-4606-9edb-fd9eb722bf04</td>\n",
       "      <td>2021-10-04-test-3</td>\n",
       "    </tr>\n",
       "    <tr>\n",
       "      <th>3</th>\n",
       "      <td>geodb_418dfeac-15f0-4606-9edb-fd9eb722bf04</td>\n",
       "      <td>geodb_418dfeac-15f0-4606-9edb-fd9eb722bf04</td>\n",
       "      <td>2021-10-04-test-7</td>\n",
       "    </tr>\n",
       "    <tr>\n",
       "      <th>4</th>\n",
       "      <td>geodb_418dfeac-15f0-4606-9edb-fd9eb722bf04</td>\n",
       "      <td>geodb_418dfeac-15f0-4606-9edb-fd9eb722bf04</td>\n",
       "      <td>2021-10-04-test-9876</td>\n",
       "    </tr>\n",
       "    <tr>\n",
       "      <th>5</th>\n",
       "      <td>geodb_418dfeac-15f0-4606-9edb-fd9eb722bf04</td>\n",
       "      <td>geodb_418dfeac-15f0-4606-9edb-fd9eb722bf04</td>\n",
       "      <td>2021-10-04-test-coll</td>\n",
       "    </tr>\n",
       "    <tr>\n",
       "      <th>6</th>\n",
       "      <td>geodb_418dfeac-15f0-4606-9edb-fd9eb722bf04</td>\n",
       "      <td>geodb_418dfeac-15f0-4606-9edb-fd9eb722bf04</td>\n",
       "      <td>alster</td>\n",
       "    </tr>\n",
       "    <tr>\n",
       "      <th>7</th>\n",
       "      <td>geodb_418dfeac-15f0-4606-9edb-fd9eb722bf04</td>\n",
       "      <td>geodb_418dfeac-15f0-4606-9edb-fd9eb722bf04</td>\n",
       "      <td>land_use</td>\n",
       "    </tr>\n",
       "  </tbody>\n",
       "</table>\n",
       "</div>"
      ],
      "text/plain": [
       "                                        owner  \\\n",
       "0  geodb_418dfeac-15f0-4606-9edb-fd9eb722bf04   \n",
       "1  geodb_418dfeac-15f0-4606-9edb-fd9eb722bf04   \n",
       "2  geodb_418dfeac-15f0-4606-9edb-fd9eb722bf04   \n",
       "3  geodb_418dfeac-15f0-4606-9edb-fd9eb722bf04   \n",
       "4  geodb_418dfeac-15f0-4606-9edb-fd9eb722bf04   \n",
       "5  geodb_418dfeac-15f0-4606-9edb-fd9eb722bf04   \n",
       "6  geodb_418dfeac-15f0-4606-9edb-fd9eb722bf04   \n",
       "7  geodb_418dfeac-15f0-4606-9edb-fd9eb722bf04   \n",
       "\n",
       "                                     database            collection  \n",
       "0  geodb_418dfeac-15f0-4606-9edb-fd9eb722bf04  2021-10-04-test-1234  \n",
       "1  geodb_418dfeac-15f0-4606-9edb-fd9eb722bf04     2021-10-04-test-2  \n",
       "2  geodb_418dfeac-15f0-4606-9edb-fd9eb722bf04     2021-10-04-test-3  \n",
       "3  geodb_418dfeac-15f0-4606-9edb-fd9eb722bf04     2021-10-04-test-7  \n",
       "4  geodb_418dfeac-15f0-4606-9edb-fd9eb722bf04  2021-10-04-test-9876  \n",
       "5  geodb_418dfeac-15f0-4606-9edb-fd9eb722bf04  2021-10-04-test-coll  \n",
       "6  geodb_418dfeac-15f0-4606-9edb-fd9eb722bf04                alster  \n",
       "7  geodb_418dfeac-15f0-4606-9edb-fd9eb722bf04              land_use  "
      ]
     },
     "execution_count": 9,
     "metadata": {},
     "output_type": "execute_result"
    }
   ],
   "source": [
    "ds = geodb.get_my_collections(database=geodb.whoami)\n",
    "ds"
   ]
  },
  {
   "cell_type": "markdown",
   "id": "9301faaf-d8c7-4b5c-abc8-774883c58334",
   "metadata": {
    "papermill": {
     "duration": 0.021802,
     "end_time": "2023-10-24T07:57:07.563900",
     "exception": false,
     "start_time": "2023-10-24T07:57:07.542098",
     "status": "completed"
    },
    "tags": []
   },
   "source": [
    "See the chanhes made to the collection: "
   ]
  },
  {
   "cell_type": "code",
   "execution_count": 10,
   "id": "ea80bd80-9e5b-4c9c-a707-095539e3df38",
   "metadata": {
    "execution": {
     "iopub.execute_input": "2023-10-24T07:57:07.621212Z",
     "iopub.status.busy": "2023-10-24T07:57:07.620888Z",
     "iopub.status.idle": "2023-10-24T07:57:07.701831Z",
     "shell.execute_reply": "2023-10-24T07:57:07.701333Z"
    },
    "papermill": {
     "duration": 0.103598,
     "end_time": "2023-10-24T07:57:07.702872",
     "exception": false,
     "start_time": "2023-10-24T07:57:07.599274",
     "status": "completed"
    },
    "tags": []
   },
   "outputs": [
    {
     "data": {
      "text/html": [
       "<div>\n",
       "<style scoped>\n",
       "    .dataframe tbody tr th:only-of-type {\n",
       "        vertical-align: middle;\n",
       "    }\n",
       "\n",
       "    .dataframe tbody tr th {\n",
       "        vertical-align: top;\n",
       "    }\n",
       "\n",
       "    .dataframe thead th {\n",
       "        text-align: right;\n",
       "    }\n",
       "</style>\n",
       "<table border=\"1\" class=\"dataframe\">\n",
       "  <thead>\n",
       "    <tr style=\"text-align: right;\">\n",
       "      <th></th>\n",
       "      <th>event_type</th>\n",
       "      <th>message</th>\n",
       "      <th>username</th>\n",
       "      <th>date</th>\n",
       "    </tr>\n",
       "  </thead>\n",
       "  <tbody>\n",
       "    <tr>\n",
       "      <th>0</th>\n",
       "      <td>added rows</td>\n",
       "      <td>9827 rows inserted into geodb_418dfeac-15f0-46...</td>\n",
       "      <td>geodb_418dfeac-15f0-4606-9edb-fd9eb722bf04</td>\n",
       "      <td>2022-09-27T08:56:03.607382</td>\n",
       "    </tr>\n",
       "    <tr>\n",
       "      <th>1</th>\n",
       "      <td>dropped rows</td>\n",
       "      <td>from collection geodb_418dfeac-15f0-4606-9edb-...</td>\n",
       "      <td>geodb_418dfeac-15f0-4606-9edb-fd9eb722bf04</td>\n",
       "      <td>2022-09-27T08:56:04.126797</td>\n",
       "    </tr>\n",
       "    <tr>\n",
       "      <th>2</th>\n",
       "      <td>added property</td>\n",
       "      <td>{name: test_prop, type: integer} to collection...</td>\n",
       "      <td>geodb_418dfeac-15f0-4606-9edb-fd9eb722bf04</td>\n",
       "      <td>2022-09-27T08:56:06.172545</td>\n",
       "    </tr>\n",
       "    <tr>\n",
       "      <th>3</th>\n",
       "      <td>dropped property</td>\n",
       "      <td>test_prop from collection geodb_418dfeac-15f0-...</td>\n",
       "      <td>geodb_418dfeac-15f0-4606-9edb-fd9eb722bf04</td>\n",
       "      <td>2022-09-27T08:56:09.069597</td>\n",
       "    </tr>\n",
       "    <tr>\n",
       "      <th>4</th>\n",
       "      <td>added property</td>\n",
       "      <td>{name: test1, type: integer} to collection geo...</td>\n",
       "      <td>geodb_418dfeac-15f0-4606-9edb-fd9eb722bf04</td>\n",
       "      <td>2022-09-27T08:56:09.337766</td>\n",
       "    </tr>\n",
       "    <tr>\n",
       "      <th>...</th>\n",
       "      <td>...</td>\n",
       "      <td>...</td>\n",
       "      <td>...</td>\n",
       "      <td>...</td>\n",
       "    </tr>\n",
       "    <tr>\n",
       "      <th>279</th>\n",
       "      <td>dropped</td>\n",
       "      <td>collection geodb_418dfeac-15f0-4606-9edb-fd9eb...</td>\n",
       "      <td>geodb_418dfeac-15f0-4606-9edb-fd9eb722bf04</td>\n",
       "      <td>2023-10-24T07:49:45.065505</td>\n",
       "    </tr>\n",
       "    <tr>\n",
       "      <th>280</th>\n",
       "      <td>created</td>\n",
       "      <td>collection geodb_418dfeac-15f0-4606-9edb-fd9eb...</td>\n",
       "      <td>geodb_418dfeac-15f0-4606-9edb-fd9eb722bf04</td>\n",
       "      <td>2023-10-24T07:50:33.815815</td>\n",
       "    </tr>\n",
       "    <tr>\n",
       "      <th>281</th>\n",
       "      <td>added rows</td>\n",
       "      <td>9827 rows inserted into geodb_418dfeac-15f0-46...</td>\n",
       "      <td>geodb_418dfeac-15f0-4606-9edb-fd9eb722bf04</td>\n",
       "      <td>2023-10-24T07:50:37.818679</td>\n",
       "    </tr>\n",
       "    <tr>\n",
       "      <th>282</th>\n",
       "      <td>published</td>\n",
       "      <td>collection geodb_418dfeac-15f0-4606-9edb-fd9eb...</td>\n",
       "      <td>geodb_418dfeac-15f0-4606-9edb-fd9eb722bf04</td>\n",
       "      <td>2023-10-24T07:50:38.24491</td>\n",
       "    </tr>\n",
       "    <tr>\n",
       "      <th>283</th>\n",
       "      <td>unpublished</td>\n",
       "      <td>collection geodb_418dfeac-15f0-4606-9edb-fd9eb...</td>\n",
       "      <td>geodb_418dfeac-15f0-4606-9edb-fd9eb722bf04</td>\n",
       "      <td>2023-10-24T07:50:39.680077</td>\n",
       "    </tr>\n",
       "  </tbody>\n",
       "</table>\n",
       "<p>284 rows × 4 columns</p>\n",
       "</div>"
      ],
      "text/plain": [
       "           event_type                                            message  \\\n",
       "0          added rows  9827 rows inserted into geodb_418dfeac-15f0-46...   \n",
       "1        dropped rows  from collection geodb_418dfeac-15f0-4606-9edb-...   \n",
       "2      added property  {name: test_prop, type: integer} to collection...   \n",
       "3    dropped property  test_prop from collection geodb_418dfeac-15f0-...   \n",
       "4      added property  {name: test1, type: integer} to collection geo...   \n",
       "..                ...                                                ...   \n",
       "279           dropped  collection geodb_418dfeac-15f0-4606-9edb-fd9eb...   \n",
       "280           created  collection geodb_418dfeac-15f0-4606-9edb-fd9eb...   \n",
       "281        added rows  9827 rows inserted into geodb_418dfeac-15f0-46...   \n",
       "282         published  collection geodb_418dfeac-15f0-4606-9edb-fd9eb...   \n",
       "283       unpublished  collection geodb_418dfeac-15f0-4606-9edb-fd9eb...   \n",
       "\n",
       "                                       username                        date  \n",
       "0    geodb_418dfeac-15f0-4606-9edb-fd9eb722bf04  2022-09-27T08:56:03.607382  \n",
       "1    geodb_418dfeac-15f0-4606-9edb-fd9eb722bf04  2022-09-27T08:56:04.126797  \n",
       "2    geodb_418dfeac-15f0-4606-9edb-fd9eb722bf04  2022-09-27T08:56:06.172545  \n",
       "3    geodb_418dfeac-15f0-4606-9edb-fd9eb722bf04  2022-09-27T08:56:09.069597  \n",
       "4    geodb_418dfeac-15f0-4606-9edb-fd9eb722bf04  2022-09-27T08:56:09.337766  \n",
       "..                                          ...                         ...  \n",
       "279  geodb_418dfeac-15f0-4606-9edb-fd9eb722bf04  2023-10-24T07:49:45.065505  \n",
       "280  geodb_418dfeac-15f0-4606-9edb-fd9eb722bf04  2023-10-24T07:50:33.815815  \n",
       "281  geodb_418dfeac-15f0-4606-9edb-fd9eb722bf04  2023-10-24T07:50:37.818679  \n",
       "282  geodb_418dfeac-15f0-4606-9edb-fd9eb722bf04   2023-10-24T07:50:38.24491  \n",
       "283  geodb_418dfeac-15f0-4606-9edb-fd9eb722bf04  2023-10-24T07:50:39.680077  \n",
       "\n",
       "[284 rows x 4 columns]"
      ]
     },
     "execution_count": 10,
     "metadata": {},
     "output_type": "execute_result"
    }
   ],
   "source": [
    "geodb.get_event_log('land_use')"
   ]
  },
  {
   "cell_type": "markdown",
   "id": "454c4c30",
   "metadata": {
    "papermill": {
     "duration": 0.027485,
     "end_time": "2023-10-24T07:57:07.765510",
     "exception": false,
     "start_time": "2023-10-24T07:57:07.738025",
     "status": "completed"
    },
    "tags": []
   },
   "source": [
    "### Loading data into a dataset\n",
    "\n",
    "Once the table has been created, you can load data into the dataset. The example below loads a shapefile. The attributes of the shapefile correspond to the dataset's properties.\n"
   ]
  },
  {
   "cell_type": "code",
   "execution_count": 11,
   "id": "35ddeb73",
   "metadata": {
    "execution": {
     "iopub.execute_input": "2023-10-24T07:57:07.823363Z",
     "iopub.status.busy": "2023-10-24T07:57:07.823046Z",
     "iopub.status.idle": "2023-10-24T07:57:09.294664Z",
     "shell.execute_reply": "2023-10-24T07:57:09.294158Z"
    },
    "papermill": {
     "duration": 1.495669,
     "end_time": "2023-10-24T07:57:09.295931",
     "exception": false,
     "start_time": "2023-10-24T07:57:07.800262",
     "status": "completed"
    },
    "tags": []
   },
   "outputs": [
    {
     "data": {
      "text/html": [
       "<div>\n",
       "<style scoped>\n",
       "    .dataframe tbody tr th:only-of-type {\n",
       "        vertical-align: middle;\n",
       "    }\n",
       "\n",
       "    .dataframe tbody tr th {\n",
       "        vertical-align: top;\n",
       "    }\n",
       "\n",
       "    .dataframe thead th {\n",
       "        text-align: right;\n",
       "    }\n",
       "</style>\n",
       "<table border=\"1\" class=\"dataframe\">\n",
       "  <thead>\n",
       "    <tr style=\"text-align: right;\">\n",
       "      <th></th>\n",
       "      <th>RABA_PID</th>\n",
       "      <th>RABA_ID</th>\n",
       "      <th>D_OD</th>\n",
       "      <th>geometry</th>\n",
       "    </tr>\n",
       "  </thead>\n",
       "  <tbody>\n",
       "    <tr>\n",
       "      <th>0</th>\n",
       "      <td>4770326.0</td>\n",
       "      <td>1410</td>\n",
       "      <td>2019-03-26</td>\n",
       "      <td>POLYGON ((453952.629 91124.177, 453952.696 911...</td>\n",
       "    </tr>\n",
       "    <tr>\n",
       "      <th>1</th>\n",
       "      <td>4770325.0</td>\n",
       "      <td>1300</td>\n",
       "      <td>2019-03-26</td>\n",
       "      <td>POLYGON ((453810.376 91150.199, 453812.552 911...</td>\n",
       "    </tr>\n",
       "    <tr>\n",
       "      <th>2</th>\n",
       "      <td>2305689.0</td>\n",
       "      <td>7000</td>\n",
       "      <td>2019-02-25</td>\n",
       "      <td>POLYGON ((456099.635 97696.070, 456112.810 976...</td>\n",
       "    </tr>\n",
       "    <tr>\n",
       "      <th>3</th>\n",
       "      <td>2305596.0</td>\n",
       "      <td>1100</td>\n",
       "      <td>2019-02-25</td>\n",
       "      <td>POLYGON ((455929.405 97963.785, 455933.284 979...</td>\n",
       "    </tr>\n",
       "    <tr>\n",
       "      <th>4</th>\n",
       "      <td>2310160.0</td>\n",
       "      <td>1100</td>\n",
       "      <td>2019-03-11</td>\n",
       "      <td>POLYGON ((461561.512 96119.256, 461632.114 960...</td>\n",
       "    </tr>\n",
       "    <tr>\n",
       "      <th>...</th>\n",
       "      <td>...</td>\n",
       "      <td>...</td>\n",
       "      <td>...</td>\n",
       "      <td>...</td>\n",
       "    </tr>\n",
       "    <tr>\n",
       "      <th>9822</th>\n",
       "      <td>6253989.0</td>\n",
       "      <td>1600</td>\n",
       "      <td>2019-03-08</td>\n",
       "      <td>POLYGON ((460637.334 96865.891, 460647.927 969...</td>\n",
       "    </tr>\n",
       "    <tr>\n",
       "      <th>9823</th>\n",
       "      <td>6252044.0</td>\n",
       "      <td>1600</td>\n",
       "      <td>2019-03-26</td>\n",
       "      <td>POLYGON ((459467.868 96839.686, 459467.770 968...</td>\n",
       "    </tr>\n",
       "    <tr>\n",
       "      <th>9824</th>\n",
       "      <td>6245985.0</td>\n",
       "      <td>2000</td>\n",
       "      <td>2019-04-08</td>\n",
       "      <td>POLYGON ((459488.998 94066.248, 459498.145 940...</td>\n",
       "    </tr>\n",
       "    <tr>\n",
       "      <th>9825</th>\n",
       "      <td>6245986.0</td>\n",
       "      <td>2000</td>\n",
       "      <td>2019-02-20</td>\n",
       "      <td>POLYGON ((459676.680 94000.000, 459672.469 939...</td>\n",
       "    </tr>\n",
       "    <tr>\n",
       "      <th>9826</th>\n",
       "      <td>6245987.0</td>\n",
       "      <td>2000</td>\n",
       "      <td>2019-03-11</td>\n",
       "      <td>POLYGON ((459690.580 94042.607, 459686.872 940...</td>\n",
       "    </tr>\n",
       "  </tbody>\n",
       "</table>\n",
       "<p>9827 rows × 4 columns</p>\n",
       "</div>"
      ],
      "text/plain": [
       "       RABA_PID  RABA_ID        D_OD  \\\n",
       "0     4770326.0     1410  2019-03-26   \n",
       "1     4770325.0     1300  2019-03-26   \n",
       "2     2305689.0     7000  2019-02-25   \n",
       "3     2305596.0     1100  2019-02-25   \n",
       "4     2310160.0     1100  2019-03-11   \n",
       "...         ...      ...         ...   \n",
       "9822  6253989.0     1600  2019-03-08   \n",
       "9823  6252044.0     1600  2019-03-26   \n",
       "9824  6245985.0     2000  2019-04-08   \n",
       "9825  6245986.0     2000  2019-02-20   \n",
       "9826  6245987.0     2000  2019-03-11   \n",
       "\n",
       "                                               geometry  \n",
       "0     POLYGON ((453952.629 91124.177, 453952.696 911...  \n",
       "1     POLYGON ((453810.376 91150.199, 453812.552 911...  \n",
       "2     POLYGON ((456099.635 97696.070, 456112.810 976...  \n",
       "3     POLYGON ((455929.405 97963.785, 455933.284 979...  \n",
       "4     POLYGON ((461561.512 96119.256, 461632.114 960...  \n",
       "...                                                 ...  \n",
       "9822  POLYGON ((460637.334 96865.891, 460647.927 969...  \n",
       "9823  POLYGON ((459467.868 96839.686, 459467.770 968...  \n",
       "9824  POLYGON ((459488.998 94066.248, 459498.145 940...  \n",
       "9825  POLYGON ((459676.680 94000.000, 459672.469 939...  \n",
       "9826  POLYGON ((459690.580 94042.607, 459686.872 940...  \n",
       "\n",
       "[9827 rows x 4 columns]"
      ]
     },
     "execution_count": 11,
     "metadata": {},
     "output_type": "execute_result"
    }
   ],
   "source": [
    "import geopandas\n",
    "import os\n",
    "gdf = geopandas.read_file(\"/shared/eurodatacube/curated/data/sample/land_use.shp\")\n",
    "gdf"
   ]
  },
  {
   "cell_type": "code",
   "execution_count": 12,
   "id": "582ac5f4",
   "metadata": {
    "execution": {
     "iopub.execute_input": "2023-10-24T07:57:09.359288Z",
     "iopub.status.busy": "2023-10-24T07:57:09.359075Z",
     "iopub.status.idle": "2023-10-24T07:57:11.275599Z",
     "shell.execute_reply": "2023-10-24T07:57:11.275035Z"
    },
    "papermill": {
     "duration": 1.9416,
     "end_time": "2023-10-24T07:57:11.276683",
     "exception": false,
     "start_time": "2023-10-24T07:57:09.335083",
     "status": "completed"
    },
    "tags": []
   },
   "outputs": [
    {
     "name": "stdout",
     "output_type": "stream",
     "text": [
      "Processing rows from 0 to 999\n",
      "Processing rows from 1000 to 1999\n"
     ]
    },
    {
     "name": "stdout",
     "output_type": "stream",
     "text": [
      "Processing rows from 2000 to 2999\n",
      "Processing rows from 3000 to 3999\n"
     ]
    },
    {
     "name": "stdout",
     "output_type": "stream",
     "text": [
      "Processing rows from 4000 to 4999\n",
      "Processing rows from 5000 to 5999\n"
     ]
    },
    {
     "name": "stdout",
     "output_type": "stream",
     "text": [
      "Processing rows from 6000 to 6999\n"
     ]
    },
    {
     "name": "stdout",
     "output_type": "stream",
     "text": [
      "Processing rows from 7000 to 7999\n",
      "Processing rows from 8000 to 8999\n"
     ]
    },
    {
     "name": "stdout",
     "output_type": "stream",
     "text": [
      "Processing rows from 9000 to 9827\n"
     ]
    },
    {
     "data": {
      "application/json": {
       "Message": "9827 rows inserted into land_use"
      },
      "text/plain": [
       "<xcube_geodb.core.message.Message at 0x7f420fa80150>"
      ]
     },
     "execution_count": 12,
     "metadata": {},
     "output_type": "execute_result"
    }
   ],
   "source": [
    "geodb.insert_into_collection('land_use', gdf)"
   ]
  },
  {
   "cell_type": "markdown",
   "id": "8ac520f3-9c73-4382-8023-19bdb438a92e",
   "metadata": {
    "papermill": {
     "duration": 0.02138,
     "end_time": "2023-10-24T07:57:11.333004",
     "exception": false,
     "start_time": "2023-10-24T07:57:11.311624",
     "status": "completed"
    },
    "tags": []
   },
   "source": [
    "See the chanhes made to the collection: "
   ]
  },
  {
   "cell_type": "code",
   "execution_count": 13,
   "id": "bd589d78-ba2f-410b-b13d-6bc81a6b6654",
   "metadata": {
    "execution": {
     "iopub.execute_input": "2023-10-24T07:57:11.394148Z",
     "iopub.status.busy": "2023-10-24T07:57:11.393685Z",
     "iopub.status.idle": "2023-10-24T07:57:11.469481Z",
     "shell.execute_reply": "2023-10-24T07:57:11.469053Z"
    },
    "papermill": {
     "duration": 0.100368,
     "end_time": "2023-10-24T07:57:11.470577",
     "exception": false,
     "start_time": "2023-10-24T07:57:11.370209",
     "status": "completed"
    },
    "tags": []
   },
   "outputs": [
    {
     "data": {
      "text/html": [
       "<div>\n",
       "<style scoped>\n",
       "    .dataframe tbody tr th:only-of-type {\n",
       "        vertical-align: middle;\n",
       "    }\n",
       "\n",
       "    .dataframe tbody tr th {\n",
       "        vertical-align: top;\n",
       "    }\n",
       "\n",
       "    .dataframe thead th {\n",
       "        text-align: right;\n",
       "    }\n",
       "</style>\n",
       "<table border=\"1\" class=\"dataframe\">\n",
       "  <thead>\n",
       "    <tr style=\"text-align: right;\">\n",
       "      <th></th>\n",
       "      <th>event_type</th>\n",
       "      <th>message</th>\n",
       "      <th>username</th>\n",
       "      <th>date</th>\n",
       "    </tr>\n",
       "  </thead>\n",
       "  <tbody>\n",
       "    <tr>\n",
       "      <th>0</th>\n",
       "      <td>added rows</td>\n",
       "      <td>9827 rows inserted into geodb_418dfeac-15f0-46...</td>\n",
       "      <td>geodb_418dfeac-15f0-4606-9edb-fd9eb722bf04</td>\n",
       "      <td>2022-09-27T08:56:03.607382</td>\n",
       "    </tr>\n",
       "    <tr>\n",
       "      <th>1</th>\n",
       "      <td>dropped rows</td>\n",
       "      <td>from collection geodb_418dfeac-15f0-4606-9edb-...</td>\n",
       "      <td>geodb_418dfeac-15f0-4606-9edb-fd9eb722bf04</td>\n",
       "      <td>2022-09-27T08:56:04.126797</td>\n",
       "    </tr>\n",
       "    <tr>\n",
       "      <th>2</th>\n",
       "      <td>added property</td>\n",
       "      <td>{name: test_prop, type: integer} to collection...</td>\n",
       "      <td>geodb_418dfeac-15f0-4606-9edb-fd9eb722bf04</td>\n",
       "      <td>2022-09-27T08:56:06.172545</td>\n",
       "    </tr>\n",
       "    <tr>\n",
       "      <th>3</th>\n",
       "      <td>dropped property</td>\n",
       "      <td>test_prop from collection geodb_418dfeac-15f0-...</td>\n",
       "      <td>geodb_418dfeac-15f0-4606-9edb-fd9eb722bf04</td>\n",
       "      <td>2022-09-27T08:56:09.069597</td>\n",
       "    </tr>\n",
       "    <tr>\n",
       "      <th>4</th>\n",
       "      <td>added property</td>\n",
       "      <td>{name: test1, type: integer} to collection geo...</td>\n",
       "      <td>geodb_418dfeac-15f0-4606-9edb-fd9eb722bf04</td>\n",
       "      <td>2022-09-27T08:56:09.337766</td>\n",
       "    </tr>\n",
       "    <tr>\n",
       "      <th>...</th>\n",
       "      <td>...</td>\n",
       "      <td>...</td>\n",
       "      <td>...</td>\n",
       "      <td>...</td>\n",
       "    </tr>\n",
       "    <tr>\n",
       "      <th>280</th>\n",
       "      <td>created</td>\n",
       "      <td>collection geodb_418dfeac-15f0-4606-9edb-fd9eb...</td>\n",
       "      <td>geodb_418dfeac-15f0-4606-9edb-fd9eb722bf04</td>\n",
       "      <td>2023-10-24T07:50:33.815815</td>\n",
       "    </tr>\n",
       "    <tr>\n",
       "      <th>281</th>\n",
       "      <td>added rows</td>\n",
       "      <td>9827 rows inserted into geodb_418dfeac-15f0-46...</td>\n",
       "      <td>geodb_418dfeac-15f0-4606-9edb-fd9eb722bf04</td>\n",
       "      <td>2023-10-24T07:50:37.818679</td>\n",
       "    </tr>\n",
       "    <tr>\n",
       "      <th>282</th>\n",
       "      <td>published</td>\n",
       "      <td>collection geodb_418dfeac-15f0-4606-9edb-fd9eb...</td>\n",
       "      <td>geodb_418dfeac-15f0-4606-9edb-fd9eb722bf04</td>\n",
       "      <td>2023-10-24T07:50:38.24491</td>\n",
       "    </tr>\n",
       "    <tr>\n",
       "      <th>283</th>\n",
       "      <td>unpublished</td>\n",
       "      <td>collection geodb_418dfeac-15f0-4606-9edb-fd9eb...</td>\n",
       "      <td>geodb_418dfeac-15f0-4606-9edb-fd9eb722bf04</td>\n",
       "      <td>2023-10-24T07:50:39.680077</td>\n",
       "    </tr>\n",
       "    <tr>\n",
       "      <th>284</th>\n",
       "      <td>added rows</td>\n",
       "      <td>9827 rows inserted into geodb_418dfeac-15f0-46...</td>\n",
       "      <td>geodb_418dfeac-15f0-4606-9edb-fd9eb722bf04</td>\n",
       "      <td>2023-10-24T07:57:11.261941</td>\n",
       "    </tr>\n",
       "  </tbody>\n",
       "</table>\n",
       "<p>285 rows × 4 columns</p>\n",
       "</div>"
      ],
      "text/plain": [
       "           event_type                                            message  \\\n",
       "0          added rows  9827 rows inserted into geodb_418dfeac-15f0-46...   \n",
       "1        dropped rows  from collection geodb_418dfeac-15f0-4606-9edb-...   \n",
       "2      added property  {name: test_prop, type: integer} to collection...   \n",
       "3    dropped property  test_prop from collection geodb_418dfeac-15f0-...   \n",
       "4      added property  {name: test1, type: integer} to collection geo...   \n",
       "..                ...                                                ...   \n",
       "280           created  collection geodb_418dfeac-15f0-4606-9edb-fd9eb...   \n",
       "281        added rows  9827 rows inserted into geodb_418dfeac-15f0-46...   \n",
       "282         published  collection geodb_418dfeac-15f0-4606-9edb-fd9eb...   \n",
       "283       unpublished  collection geodb_418dfeac-15f0-4606-9edb-fd9eb...   \n",
       "284        added rows  9827 rows inserted into geodb_418dfeac-15f0-46...   \n",
       "\n",
       "                                       username                        date  \n",
       "0    geodb_418dfeac-15f0-4606-9edb-fd9eb722bf04  2022-09-27T08:56:03.607382  \n",
       "1    geodb_418dfeac-15f0-4606-9edb-fd9eb722bf04  2022-09-27T08:56:04.126797  \n",
       "2    geodb_418dfeac-15f0-4606-9edb-fd9eb722bf04  2022-09-27T08:56:06.172545  \n",
       "3    geodb_418dfeac-15f0-4606-9edb-fd9eb722bf04  2022-09-27T08:56:09.069597  \n",
       "4    geodb_418dfeac-15f0-4606-9edb-fd9eb722bf04  2022-09-27T08:56:09.337766  \n",
       "..                                          ...                         ...  \n",
       "280  geodb_418dfeac-15f0-4606-9edb-fd9eb722bf04  2023-10-24T07:50:33.815815  \n",
       "281  geodb_418dfeac-15f0-4606-9edb-fd9eb722bf04  2023-10-24T07:50:37.818679  \n",
       "282  geodb_418dfeac-15f0-4606-9edb-fd9eb722bf04   2023-10-24T07:50:38.24491  \n",
       "283  geodb_418dfeac-15f0-4606-9edb-fd9eb722bf04  2023-10-24T07:50:39.680077  \n",
       "284  geodb_418dfeac-15f0-4606-9edb-fd9eb722bf04  2023-10-24T07:57:11.261941  \n",
       "\n",
       "[285 rows x 4 columns]"
      ]
     },
     "execution_count": 13,
     "metadata": {},
     "output_type": "execute_result"
    }
   ],
   "source": [
    "geodb.get_event_log('land_use')"
   ]
  },
  {
   "cell_type": "code",
   "execution_count": 14,
   "id": "20127563",
   "metadata": {
    "execution": {
     "iopub.execute_input": "2023-10-24T07:57:11.529488Z",
     "iopub.status.busy": "2023-10-24T07:57:11.529277Z",
     "iopub.status.idle": "2023-10-24T07:57:11.770706Z",
     "shell.execute_reply": "2023-10-24T07:57:11.770253Z"
    },
    "papermill": {
     "duration": 0.266142,
     "end_time": "2023-10-24T07:57:11.771783",
     "exception": false,
     "start_time": "2023-10-24T07:57:11.505641",
     "status": "completed"
    },
    "tags": []
   },
   "outputs": [
    {
     "data": {
      "text/html": [
       "<div>\n",
       "<style scoped>\n",
       "    .dataframe tbody tr th:only-of-type {\n",
       "        vertical-align: middle;\n",
       "    }\n",
       "\n",
       "    .dataframe tbody tr th {\n",
       "        vertical-align: top;\n",
       "    }\n",
       "\n",
       "    .dataframe thead th {\n",
       "        text-align: right;\n",
       "    }\n",
       "</style>\n",
       "<table border=\"1\" class=\"dataframe\">\n",
       "  <thead>\n",
       "    <tr style=\"text-align: right;\">\n",
       "      <th></th>\n",
       "      <th>id</th>\n",
       "      <th>created_at</th>\n",
       "      <th>modified_at</th>\n",
       "      <th>geometry</th>\n",
       "      <th>raba_pid</th>\n",
       "      <th>raba_id</th>\n",
       "      <th>d_od</th>\n",
       "    </tr>\n",
       "  </thead>\n",
       "  <tbody>\n",
       "    <tr>\n",
       "      <th>0</th>\n",
       "      <td>3</td>\n",
       "      <td>2023-10-24T07:50:35.549135+00:00</td>\n",
       "      <td>None</td>\n",
       "      <td>POLYGON ((456099.635 97696.070, 456112.810 976...</td>\n",
       "      <td>2305689</td>\n",
       "      <td>7000</td>\n",
       "      <td>2019-02-25</td>\n",
       "    </tr>\n",
       "    <tr>\n",
       "      <th>1</th>\n",
       "      <td>26</td>\n",
       "      <td>2023-10-24T07:50:35.549135+00:00</td>\n",
       "      <td>None</td>\n",
       "      <td>POLYGON ((459898.930 100306.841, 459906.288 10...</td>\n",
       "      <td>2301992</td>\n",
       "      <td>7000</td>\n",
       "      <td>2019-04-06</td>\n",
       "    </tr>\n",
       "    <tr>\n",
       "      <th>2</th>\n",
       "      <td>95</td>\n",
       "      <td>2023-10-24T07:50:35.549135+00:00</td>\n",
       "      <td>None</td>\n",
       "      <td>POLYGON ((459591.248 92619.056, 459592.745 926...</td>\n",
       "      <td>2333229</td>\n",
       "      <td>7000</td>\n",
       "      <td>2019-02-20</td>\n",
       "    </tr>\n",
       "    <tr>\n",
       "      <th>3</th>\n",
       "      <td>115</td>\n",
       "      <td>2023-10-24T07:50:35.549135+00:00</td>\n",
       "      <td>None</td>\n",
       "      <td>POLYGON ((459013.303 100354.458, 459022.756 10...</td>\n",
       "      <td>2336738</td>\n",
       "      <td>7000</td>\n",
       "      <td>2019-03-15</td>\n",
       "    </tr>\n",
       "    <tr>\n",
       "      <th>4</th>\n",
       "      <td>129</td>\n",
       "      <td>2023-10-24T07:50:35.549135+00:00</td>\n",
       "      <td>None</td>\n",
       "      <td>POLYGON ((460851.200 93442.039, 460846.405 934...</td>\n",
       "      <td>6292562</td>\n",
       "      <td>7000</td>\n",
       "      <td>2019-02-21</td>\n",
       "    </tr>\n",
       "    <tr>\n",
       "      <th>...</th>\n",
       "      <td>...</td>\n",
       "      <td>...</td>\n",
       "      <td>...</td>\n",
       "      <td>...</td>\n",
       "      <td>...</td>\n",
       "      <td>...</td>\n",
       "      <td>...</td>\n",
       "    </tr>\n",
       "    <tr>\n",
       "      <th>763</th>\n",
       "      <td>19246</td>\n",
       "      <td>2023-10-24T07:57:11.047353+00:00</td>\n",
       "      <td>None</td>\n",
       "      <td>POLYGON ((456523.670 94000.000, 456550.368 939...</td>\n",
       "      <td>6187993</td>\n",
       "      <td>7000</td>\n",
       "      <td>2019-03-13</td>\n",
       "    </tr>\n",
       "    <tr>\n",
       "      <th>764</th>\n",
       "      <td>19373</td>\n",
       "      <td>2023-10-24T07:57:11.047353+00:00</td>\n",
       "      <td>None</td>\n",
       "      <td>POLYGON ((460793.279 94000.000, 460797.466 939...</td>\n",
       "      <td>6219403</td>\n",
       "      <td>7000</td>\n",
       "      <td>2019-02-21</td>\n",
       "    </tr>\n",
       "    <tr>\n",
       "      <th>765</th>\n",
       "      <td>19387</td>\n",
       "      <td>2023-10-24T07:57:11.047353+00:00</td>\n",
       "      <td>None</td>\n",
       "      <td>POLYGON ((461750.000 98434.292, 461750.000 984...</td>\n",
       "      <td>6219602</td>\n",
       "      <td>7000</td>\n",
       "      <td>2019-03-20</td>\n",
       "    </tr>\n",
       "    <tr>\n",
       "      <th>766</th>\n",
       "      <td>19451</td>\n",
       "      <td>2023-10-24T07:57:11.047353+00:00</td>\n",
       "      <td>None</td>\n",
       "      <td>POLYGON ((463628.912 97501.218, 463636.859 975...</td>\n",
       "      <td>6215237</td>\n",
       "      <td>7000</td>\n",
       "      <td>2019-03-20</td>\n",
       "    </tr>\n",
       "    <tr>\n",
       "      <th>767</th>\n",
       "      <td>19471</td>\n",
       "      <td>2023-10-24T07:57:11.047353+00:00</td>\n",
       "      <td>None</td>\n",
       "      <td>POLYGON ((462450.205 94000.000, 462457.333 940...</td>\n",
       "      <td>6213419</td>\n",
       "      <td>7000</td>\n",
       "      <td>2019-03-21</td>\n",
       "    </tr>\n",
       "  </tbody>\n",
       "</table>\n",
       "<p>768 rows × 7 columns</p>\n",
       "</div>"
      ],
      "text/plain": [
       "        id                        created_at modified_at  \\\n",
       "0        3  2023-10-24T07:50:35.549135+00:00        None   \n",
       "1       26  2023-10-24T07:50:35.549135+00:00        None   \n",
       "2       95  2023-10-24T07:50:35.549135+00:00        None   \n",
       "3      115  2023-10-24T07:50:35.549135+00:00        None   \n",
       "4      129  2023-10-24T07:50:35.549135+00:00        None   \n",
       "..     ...                               ...         ...   \n",
       "763  19246  2023-10-24T07:57:11.047353+00:00        None   \n",
       "764  19373  2023-10-24T07:57:11.047353+00:00        None   \n",
       "765  19387  2023-10-24T07:57:11.047353+00:00        None   \n",
       "766  19451  2023-10-24T07:57:11.047353+00:00        None   \n",
       "767  19471  2023-10-24T07:57:11.047353+00:00        None   \n",
       "\n",
       "                                              geometry  raba_pid  raba_id  \\\n",
       "0    POLYGON ((456099.635 97696.070, 456112.810 976...   2305689     7000   \n",
       "1    POLYGON ((459898.930 100306.841, 459906.288 10...   2301992     7000   \n",
       "2    POLYGON ((459591.248 92619.056, 459592.745 926...   2333229     7000   \n",
       "3    POLYGON ((459013.303 100354.458, 459022.756 10...   2336738     7000   \n",
       "4    POLYGON ((460851.200 93442.039, 460846.405 934...   6292562     7000   \n",
       "..                                                 ...       ...      ...   \n",
       "763  POLYGON ((456523.670 94000.000, 456550.368 939...   6187993     7000   \n",
       "764  POLYGON ((460793.279 94000.000, 460797.466 939...   6219403     7000   \n",
       "765  POLYGON ((461750.000 98434.292, 461750.000 984...   6219602     7000   \n",
       "766  POLYGON ((463628.912 97501.218, 463636.859 975...   6215237     7000   \n",
       "767  POLYGON ((462450.205 94000.000, 462457.333 940...   6213419     7000   \n",
       "\n",
       "           d_od  \n",
       "0    2019-02-25  \n",
       "1    2019-04-06  \n",
       "2    2019-02-20  \n",
       "3    2019-03-15  \n",
       "4    2019-02-21  \n",
       "..          ...  \n",
       "763  2019-03-13  \n",
       "764  2019-02-21  \n",
       "765  2019-03-20  \n",
       "766  2019-03-20  \n",
       "767  2019-03-21  \n",
       "\n",
       "[768 rows x 7 columns]"
      ]
     },
     "execution_count": 14,
     "metadata": {},
     "output_type": "execute_result"
    }
   ],
   "source": [
    "geodb.get_collection('land_use', query=\"raba_id=eq.7000\")"
   ]
  },
  {
   "cell_type": "markdown",
   "id": "1ae225fe",
   "metadata": {
    "papermill": {
     "duration": 0.037981,
     "end_time": "2023-10-24T07:57:11.870352",
     "exception": false,
     "start_time": "2023-10-24T07:57:11.832371",
     "status": "completed"
    },
    "tags": []
   },
   "source": [
    "### Delete from a Collection"
   ]
  },
  {
   "cell_type": "code",
   "execution_count": 15,
   "id": "ba7e7a44",
   "metadata": {
    "execution": {
     "iopub.execute_input": "2023-10-24T07:57:11.970972Z",
     "iopub.status.busy": "2023-10-24T07:57:11.970709Z",
     "iopub.status.idle": "2023-10-24T07:57:12.148420Z",
     "shell.execute_reply": "2023-10-24T07:57:12.147832Z"
    },
    "papermill": {
     "duration": 0.216529,
     "end_time": "2023-10-24T07:57:12.149632",
     "exception": false,
     "start_time": "2023-10-24T07:57:11.933103",
     "status": "completed"
    },
    "tags": []
   },
   "outputs": [
    {
     "data": {
      "application/json": {
       "Message": "Data from land_use deleted"
      },
      "text/plain": [
       "<xcube_geodb.core.message.Message at 0x7f420f071e90>"
      ]
     },
     "execution_count": 15,
     "metadata": {},
     "output_type": "execute_result"
    }
   ],
   "source": [
    "geodb.delete_from_collection('land_use', query=\"raba_id=eq.7000\")"
   ]
  },
  {
   "cell_type": "markdown",
   "id": "399b905f-96d6-426b-b61f-cd154b1916b0",
   "metadata": {
    "papermill": {
     "duration": 0.034776,
     "end_time": "2023-10-24T07:57:12.239021",
     "exception": false,
     "start_time": "2023-10-24T07:57:12.204245",
     "status": "completed"
    },
    "tags": []
   },
   "source": [
    "See the chanhes made to the collection: "
   ]
  },
  {
   "cell_type": "code",
   "execution_count": 16,
   "id": "ed86d65d-e400-4b4a-9e7a-c752bdc73747",
   "metadata": {
    "execution": {
     "iopub.execute_input": "2023-10-24T07:57:12.334389Z",
     "iopub.status.busy": "2023-10-24T07:57:12.334036Z",
     "iopub.status.idle": "2023-10-24T07:57:12.410747Z",
     "shell.execute_reply": "2023-10-24T07:57:12.410217Z"
    },
    "papermill": {
     "duration": 0.112243,
     "end_time": "2023-10-24T07:57:12.411965",
     "exception": false,
     "start_time": "2023-10-24T07:57:12.299722",
     "status": "completed"
    },
    "tags": []
   },
   "outputs": [
    {
     "data": {
      "text/html": [
       "<div>\n",
       "<style scoped>\n",
       "    .dataframe tbody tr th:only-of-type {\n",
       "        vertical-align: middle;\n",
       "    }\n",
       "\n",
       "    .dataframe tbody tr th {\n",
       "        vertical-align: top;\n",
       "    }\n",
       "\n",
       "    .dataframe thead th {\n",
       "        text-align: right;\n",
       "    }\n",
       "</style>\n",
       "<table border=\"1\" class=\"dataframe\">\n",
       "  <thead>\n",
       "    <tr style=\"text-align: right;\">\n",
       "      <th></th>\n",
       "      <th>event_type</th>\n",
       "      <th>message</th>\n",
       "      <th>username</th>\n",
       "      <th>date</th>\n",
       "    </tr>\n",
       "  </thead>\n",
       "  <tbody>\n",
       "    <tr>\n",
       "      <th>0</th>\n",
       "      <td>added rows</td>\n",
       "      <td>9827 rows inserted into geodb_418dfeac-15f0-46...</td>\n",
       "      <td>geodb_418dfeac-15f0-4606-9edb-fd9eb722bf04</td>\n",
       "      <td>2022-09-27T08:56:03.607382</td>\n",
       "    </tr>\n",
       "    <tr>\n",
       "      <th>1</th>\n",
       "      <td>dropped rows</td>\n",
       "      <td>from collection geodb_418dfeac-15f0-4606-9edb-...</td>\n",
       "      <td>geodb_418dfeac-15f0-4606-9edb-fd9eb722bf04</td>\n",
       "      <td>2022-09-27T08:56:04.126797</td>\n",
       "    </tr>\n",
       "    <tr>\n",
       "      <th>2</th>\n",
       "      <td>added property</td>\n",
       "      <td>{name: test_prop, type: integer} to collection...</td>\n",
       "      <td>geodb_418dfeac-15f0-4606-9edb-fd9eb722bf04</td>\n",
       "      <td>2022-09-27T08:56:06.172545</td>\n",
       "    </tr>\n",
       "    <tr>\n",
       "      <th>3</th>\n",
       "      <td>dropped property</td>\n",
       "      <td>test_prop from collection geodb_418dfeac-15f0-...</td>\n",
       "      <td>geodb_418dfeac-15f0-4606-9edb-fd9eb722bf04</td>\n",
       "      <td>2022-09-27T08:56:09.069597</td>\n",
       "    </tr>\n",
       "    <tr>\n",
       "      <th>4</th>\n",
       "      <td>added property</td>\n",
       "      <td>{name: test1, type: integer} to collection geo...</td>\n",
       "      <td>geodb_418dfeac-15f0-4606-9edb-fd9eb722bf04</td>\n",
       "      <td>2022-09-27T08:56:09.337766</td>\n",
       "    </tr>\n",
       "    <tr>\n",
       "      <th>...</th>\n",
       "      <td>...</td>\n",
       "      <td>...</td>\n",
       "      <td>...</td>\n",
       "      <td>...</td>\n",
       "    </tr>\n",
       "    <tr>\n",
       "      <th>281</th>\n",
       "      <td>added rows</td>\n",
       "      <td>9827 rows inserted into geodb_418dfeac-15f0-46...</td>\n",
       "      <td>geodb_418dfeac-15f0-4606-9edb-fd9eb722bf04</td>\n",
       "      <td>2023-10-24T07:50:37.818679</td>\n",
       "    </tr>\n",
       "    <tr>\n",
       "      <th>282</th>\n",
       "      <td>published</td>\n",
       "      <td>collection geodb_418dfeac-15f0-4606-9edb-fd9eb...</td>\n",
       "      <td>geodb_418dfeac-15f0-4606-9edb-fd9eb722bf04</td>\n",
       "      <td>2023-10-24T07:50:38.24491</td>\n",
       "    </tr>\n",
       "    <tr>\n",
       "      <th>283</th>\n",
       "      <td>unpublished</td>\n",
       "      <td>collection geodb_418dfeac-15f0-4606-9edb-fd9eb...</td>\n",
       "      <td>geodb_418dfeac-15f0-4606-9edb-fd9eb722bf04</td>\n",
       "      <td>2023-10-24T07:50:39.680077</td>\n",
       "    </tr>\n",
       "    <tr>\n",
       "      <th>284</th>\n",
       "      <td>added rows</td>\n",
       "      <td>9827 rows inserted into geodb_418dfeac-15f0-46...</td>\n",
       "      <td>geodb_418dfeac-15f0-4606-9edb-fd9eb722bf04</td>\n",
       "      <td>2023-10-24T07:57:11.261941</td>\n",
       "    </tr>\n",
       "    <tr>\n",
       "      <th>285</th>\n",
       "      <td>dropped rows</td>\n",
       "      <td>from collection geodb_418dfeac-15f0-4606-9edb-...</td>\n",
       "      <td>geodb_418dfeac-15f0-4606-9edb-fd9eb722bf04</td>\n",
       "      <td>2023-10-24T07:57:12.135328</td>\n",
       "    </tr>\n",
       "  </tbody>\n",
       "</table>\n",
       "<p>286 rows × 4 columns</p>\n",
       "</div>"
      ],
      "text/plain": [
       "           event_type                                            message  \\\n",
       "0          added rows  9827 rows inserted into geodb_418dfeac-15f0-46...   \n",
       "1        dropped rows  from collection geodb_418dfeac-15f0-4606-9edb-...   \n",
       "2      added property  {name: test_prop, type: integer} to collection...   \n",
       "3    dropped property  test_prop from collection geodb_418dfeac-15f0-...   \n",
       "4      added property  {name: test1, type: integer} to collection geo...   \n",
       "..                ...                                                ...   \n",
       "281        added rows  9827 rows inserted into geodb_418dfeac-15f0-46...   \n",
       "282         published  collection geodb_418dfeac-15f0-4606-9edb-fd9eb...   \n",
       "283       unpublished  collection geodb_418dfeac-15f0-4606-9edb-fd9eb...   \n",
       "284        added rows  9827 rows inserted into geodb_418dfeac-15f0-46...   \n",
       "285      dropped rows  from collection geodb_418dfeac-15f0-4606-9edb-...   \n",
       "\n",
       "                                       username                        date  \n",
       "0    geodb_418dfeac-15f0-4606-9edb-fd9eb722bf04  2022-09-27T08:56:03.607382  \n",
       "1    geodb_418dfeac-15f0-4606-9edb-fd9eb722bf04  2022-09-27T08:56:04.126797  \n",
       "2    geodb_418dfeac-15f0-4606-9edb-fd9eb722bf04  2022-09-27T08:56:06.172545  \n",
       "3    geodb_418dfeac-15f0-4606-9edb-fd9eb722bf04  2022-09-27T08:56:09.069597  \n",
       "4    geodb_418dfeac-15f0-4606-9edb-fd9eb722bf04  2022-09-27T08:56:09.337766  \n",
       "..                                          ...                         ...  \n",
       "281  geodb_418dfeac-15f0-4606-9edb-fd9eb722bf04  2023-10-24T07:50:37.818679  \n",
       "282  geodb_418dfeac-15f0-4606-9edb-fd9eb722bf04   2023-10-24T07:50:38.24491  \n",
       "283  geodb_418dfeac-15f0-4606-9edb-fd9eb722bf04  2023-10-24T07:50:39.680077  \n",
       "284  geodb_418dfeac-15f0-4606-9edb-fd9eb722bf04  2023-10-24T07:57:11.261941  \n",
       "285  geodb_418dfeac-15f0-4606-9edb-fd9eb722bf04  2023-10-24T07:57:12.135328  \n",
       "\n",
       "[286 rows x 4 columns]"
      ]
     },
     "execution_count": 16,
     "metadata": {},
     "output_type": "execute_result"
    }
   ],
   "source": [
    "geodb.get_event_log('land_use')"
   ]
  },
  {
   "cell_type": "code",
   "execution_count": 17,
   "id": "b99b8942",
   "metadata": {
    "execution": {
     "iopub.execute_input": "2023-10-24T07:57:12.500432Z",
     "iopub.status.busy": "2023-10-24T07:57:12.500179Z",
     "iopub.status.idle": "2023-10-24T07:57:12.644685Z",
     "shell.execute_reply": "2023-10-24T07:57:12.644163Z"
    },
    "papermill": {
     "duration": 0.184111,
     "end_time": "2023-10-24T07:57:12.645862",
     "exception": false,
     "start_time": "2023-10-24T07:57:12.461751",
     "status": "completed"
    },
    "tags": []
   },
   "outputs": [
    {
     "data": {
      "text/html": [
       "<div>\n",
       "<style scoped>\n",
       "    .dataframe tbody tr th:only-of-type {\n",
       "        vertical-align: middle;\n",
       "    }\n",
       "\n",
       "    .dataframe tbody tr th {\n",
       "        vertical-align: top;\n",
       "    }\n",
       "\n",
       "    .dataframe thead th {\n",
       "        text-align: right;\n",
       "    }\n",
       "</style>\n",
       "<table border=\"1\" class=\"dataframe\">\n",
       "  <thead>\n",
       "    <tr style=\"text-align: right;\">\n",
       "      <th></th>\n",
       "      <th>Empty Result</th>\n",
       "    </tr>\n",
       "  </thead>\n",
       "  <tbody>\n",
       "  </tbody>\n",
       "</table>\n",
       "</div>"
      ],
      "text/plain": [
       "Empty DataFrame\n",
       "Columns: [Empty Result]\n",
       "Index: []"
      ]
     },
     "execution_count": 17,
     "metadata": {},
     "output_type": "execute_result"
    }
   ],
   "source": [
    "geodb.get_collection('land_use', query=\"raba_id=eq.7000\")"
   ]
  },
  {
   "cell_type": "markdown",
   "id": "1545a8f9",
   "metadata": {
    "papermill": {
     "duration": 0.035448,
     "end_time": "2023-10-24T07:57:12.730923",
     "exception": false,
     "start_time": "2023-10-24T07:57:12.695475",
     "status": "completed"
    },
    "tags": []
   },
   "source": [
    "### Updating a Collection"
   ]
  },
  {
   "cell_type": "code",
   "execution_count": 18,
   "id": "292b9530",
   "metadata": {
    "execution": {
     "iopub.execute_input": "2023-10-24T07:57:12.826499Z",
     "iopub.status.busy": "2023-10-24T07:57:12.826051Z",
     "iopub.status.idle": "2023-10-24T07:57:13.118035Z",
     "shell.execute_reply": "2023-10-24T07:57:13.117622Z"
    },
    "papermill": {
     "duration": 0.334339,
     "end_time": "2023-10-24T07:57:13.119567",
     "exception": false,
     "start_time": "2023-10-24T07:57:12.785228",
     "status": "completed"
    },
    "tags": []
   },
   "outputs": [
    {
     "data": {
      "text/html": [
       "<div>\n",
       "<style scoped>\n",
       "    .dataframe tbody tr th:only-of-type {\n",
       "        vertical-align: middle;\n",
       "    }\n",
       "\n",
       "    .dataframe tbody tr th {\n",
       "        vertical-align: top;\n",
       "    }\n",
       "\n",
       "    .dataframe thead th {\n",
       "        text-align: right;\n",
       "    }\n",
       "</style>\n",
       "<table border=\"1\" class=\"dataframe\">\n",
       "  <thead>\n",
       "    <tr style=\"text-align: right;\">\n",
       "      <th></th>\n",
       "      <th>id</th>\n",
       "      <th>created_at</th>\n",
       "      <th>modified_at</th>\n",
       "      <th>geometry</th>\n",
       "      <th>raba_pid</th>\n",
       "      <th>raba_id</th>\n",
       "      <th>d_od</th>\n",
       "    </tr>\n",
       "  </thead>\n",
       "  <tbody>\n",
       "    <tr>\n",
       "      <th>0</th>\n",
       "      <td>2</td>\n",
       "      <td>2023-10-24T07:50:35.549135+00:00</td>\n",
       "      <td>None</td>\n",
       "      <td>POLYGON ((453810.376 91150.199, 453812.552 911...</td>\n",
       "      <td>4770325</td>\n",
       "      <td>1300</td>\n",
       "      <td>2019-03-26</td>\n",
       "    </tr>\n",
       "    <tr>\n",
       "      <th>1</th>\n",
       "      <td>10</td>\n",
       "      <td>2023-10-24T07:50:35.549135+00:00</td>\n",
       "      <td>None</td>\n",
       "      <td>POLYGON ((456547.427 91543.640, 456544.255 915...</td>\n",
       "      <td>2318555</td>\n",
       "      <td>1300</td>\n",
       "      <td>2019-03-14</td>\n",
       "    </tr>\n",
       "    <tr>\n",
       "      <th>2</th>\n",
       "      <td>63</td>\n",
       "      <td>2023-10-24T07:50:35.549135+00:00</td>\n",
       "      <td>None</td>\n",
       "      <td>POLYGON ((456201.531 98685.274, 456199.109 986...</td>\n",
       "      <td>2304287</td>\n",
       "      <td>1300</td>\n",
       "      <td>2019-02-25</td>\n",
       "    </tr>\n",
       "    <tr>\n",
       "      <th>3</th>\n",
       "      <td>86</td>\n",
       "      <td>2023-10-24T07:50:35.549135+00:00</td>\n",
       "      <td>None</td>\n",
       "      <td>POLYGON ((454709.766 97354.278, 454704.878 973...</td>\n",
       "      <td>2331038</td>\n",
       "      <td>1300</td>\n",
       "      <td>2019-01-05</td>\n",
       "    </tr>\n",
       "    <tr>\n",
       "      <th>4</th>\n",
       "      <td>87</td>\n",
       "      <td>2023-10-24T07:50:35.549135+00:00</td>\n",
       "      <td>None</td>\n",
       "      <td>POLYGON ((453820.737 98574.017, 453816.740 985...</td>\n",
       "      <td>2357574</td>\n",
       "      <td>1300</td>\n",
       "      <td>2019-01-16</td>\n",
       "    </tr>\n",
       "    <tr>\n",
       "      <th>...</th>\n",
       "      <td>...</td>\n",
       "      <td>...</td>\n",
       "      <td>...</td>\n",
       "      <td>...</td>\n",
       "      <td>...</td>\n",
       "      <td>...</td>\n",
       "      <td>...</td>\n",
       "    </tr>\n",
       "    <tr>\n",
       "      <th>1785</th>\n",
       "      <td>19593</td>\n",
       "      <td>2023-10-24T07:57:11.047353+00:00</td>\n",
       "      <td>None</td>\n",
       "      <td>POLYGON ((458247.583 99746.065, 458245.202 997...</td>\n",
       "      <td>6268059</td>\n",
       "      <td>1300</td>\n",
       "      <td>2019-03-04</td>\n",
       "    </tr>\n",
       "    <tr>\n",
       "      <th>1786</th>\n",
       "      <td>19594</td>\n",
       "      <td>2023-10-24T07:57:11.047353+00:00</td>\n",
       "      <td>None</td>\n",
       "      <td>POLYGON ((461932.283 90520.703, 461931.619 905...</td>\n",
       "      <td>6263561</td>\n",
       "      <td>1300</td>\n",
       "      <td>2019-04-01</td>\n",
       "    </tr>\n",
       "    <tr>\n",
       "      <th>1787</th>\n",
       "      <td>19625</td>\n",
       "      <td>2023-10-24T07:57:11.047353+00:00</td>\n",
       "      <td>None</td>\n",
       "      <td>POLYGON ((457231.170 90902.256, 457234.861 909...</td>\n",
       "      <td>6264862</td>\n",
       "      <td>1300</td>\n",
       "      <td>2019-01-05</td>\n",
       "    </tr>\n",
       "    <tr>\n",
       "      <th>1788</th>\n",
       "      <td>19626</td>\n",
       "      <td>2023-10-24T07:57:11.047353+00:00</td>\n",
       "      <td>None</td>\n",
       "      <td>POLYGON ((461378.845 91124.318, 461490.224 911...</td>\n",
       "      <td>6264865</td>\n",
       "      <td>1300</td>\n",
       "      <td>2019-02-21</td>\n",
       "    </tr>\n",
       "    <tr>\n",
       "      <th>1789</th>\n",
       "      <td>19648</td>\n",
       "      <td>2023-10-24T07:57:11.047353+00:00</td>\n",
       "      <td>None</td>\n",
       "      <td>POLYGON ((457450.306 97213.244, 457490.521 972...</td>\n",
       "      <td>6263915</td>\n",
       "      <td>1300</td>\n",
       "      <td>2019-01-05</td>\n",
       "    </tr>\n",
       "  </tbody>\n",
       "</table>\n",
       "<p>1790 rows × 7 columns</p>\n",
       "</div>"
      ],
      "text/plain": [
       "         id                        created_at modified_at  \\\n",
       "0         2  2023-10-24T07:50:35.549135+00:00        None   \n",
       "1        10  2023-10-24T07:50:35.549135+00:00        None   \n",
       "2        63  2023-10-24T07:50:35.549135+00:00        None   \n",
       "3        86  2023-10-24T07:50:35.549135+00:00        None   \n",
       "4        87  2023-10-24T07:50:35.549135+00:00        None   \n",
       "...     ...                               ...         ...   \n",
       "1785  19593  2023-10-24T07:57:11.047353+00:00        None   \n",
       "1786  19594  2023-10-24T07:57:11.047353+00:00        None   \n",
       "1787  19625  2023-10-24T07:57:11.047353+00:00        None   \n",
       "1788  19626  2023-10-24T07:57:11.047353+00:00        None   \n",
       "1789  19648  2023-10-24T07:57:11.047353+00:00        None   \n",
       "\n",
       "                                               geometry  raba_pid  raba_id  \\\n",
       "0     POLYGON ((453810.376 91150.199, 453812.552 911...   4770325     1300   \n",
       "1     POLYGON ((456547.427 91543.640, 456544.255 915...   2318555     1300   \n",
       "2     POLYGON ((456201.531 98685.274, 456199.109 986...   2304287     1300   \n",
       "3     POLYGON ((454709.766 97354.278, 454704.878 973...   2331038     1300   \n",
       "4     POLYGON ((453820.737 98574.017, 453816.740 985...   2357574     1300   \n",
       "...                                                 ...       ...      ...   \n",
       "1785  POLYGON ((458247.583 99746.065, 458245.202 997...   6268059     1300   \n",
       "1786  POLYGON ((461932.283 90520.703, 461931.619 905...   6263561     1300   \n",
       "1787  POLYGON ((457231.170 90902.256, 457234.861 909...   6264862     1300   \n",
       "1788  POLYGON ((461378.845 91124.318, 461490.224 911...   6264865     1300   \n",
       "1789  POLYGON ((457450.306 97213.244, 457490.521 972...   6263915     1300   \n",
       "\n",
       "            d_od  \n",
       "0     2019-03-26  \n",
       "1     2019-03-14  \n",
       "2     2019-02-25  \n",
       "3     2019-01-05  \n",
       "4     2019-01-16  \n",
       "...          ...  \n",
       "1785  2019-03-04  \n",
       "1786  2019-04-01  \n",
       "1787  2019-01-05  \n",
       "1788  2019-02-21  \n",
       "1789  2019-01-05  \n",
       "\n",
       "[1790 rows x 7 columns]"
      ]
     },
     "execution_count": 18,
     "metadata": {},
     "output_type": "execute_result"
    }
   ],
   "source": [
    "geodb.get_collection('land_use', query=\"raba_id=eq.1300\")"
   ]
  },
  {
   "cell_type": "code",
   "execution_count": 19,
   "id": "8cfc5ba7",
   "metadata": {
    "execution": {
     "iopub.execute_input": "2023-10-24T07:57:13.206684Z",
     "iopub.status.busy": "2023-10-24T07:57:13.206285Z",
     "iopub.status.idle": "2023-10-24T07:57:13.457670Z",
     "shell.execute_reply": "2023-10-24T07:57:13.457141Z"
    },
    "papermill": {
     "duration": 0.287656,
     "end_time": "2023-10-24T07:57:13.458851",
     "exception": false,
     "start_time": "2023-10-24T07:57:13.171195",
     "status": "completed"
    },
    "tags": []
   },
   "outputs": [
    {
     "data": {
      "application/json": {
       "Message": "land_use updated"
      },
      "text/plain": [
       "<xcube_geodb.core.message.Message at 0x7f4207c71bd0>"
      ]
     },
     "execution_count": 19,
     "metadata": {},
     "output_type": "execute_result"
    }
   ],
   "source": [
    "geodb.update_collection('land_use', query=\"raba_id=eq.1300\", values={'d_od': '2000-01-01'})"
   ]
  },
  {
   "cell_type": "code",
   "execution_count": 20,
   "id": "b32cc2e6",
   "metadata": {
    "execution": {
     "iopub.execute_input": "2023-10-24T07:57:13.543832Z",
     "iopub.status.busy": "2023-10-24T07:57:13.543515Z",
     "iopub.status.idle": "2023-10-24T07:57:13.863322Z",
     "shell.execute_reply": "2023-10-24T07:57:13.862876Z"
    },
    "papermill": {
     "duration": 0.35815,
     "end_time": "2023-10-24T07:57:13.864559",
     "exception": false,
     "start_time": "2023-10-24T07:57:13.506409",
     "status": "completed"
    },
    "tags": []
   },
   "outputs": [
    {
     "data": {
      "text/html": [
       "<div>\n",
       "<style scoped>\n",
       "    .dataframe tbody tr th:only-of-type {\n",
       "        vertical-align: middle;\n",
       "    }\n",
       "\n",
       "    .dataframe tbody tr th {\n",
       "        vertical-align: top;\n",
       "    }\n",
       "\n",
       "    .dataframe thead th {\n",
       "        text-align: right;\n",
       "    }\n",
       "</style>\n",
       "<table border=\"1\" class=\"dataframe\">\n",
       "  <thead>\n",
       "    <tr style=\"text-align: right;\">\n",
       "      <th></th>\n",
       "      <th>id</th>\n",
       "      <th>created_at</th>\n",
       "      <th>modified_at</th>\n",
       "      <th>geometry</th>\n",
       "      <th>raba_pid</th>\n",
       "      <th>raba_id</th>\n",
       "      <th>d_od</th>\n",
       "    </tr>\n",
       "  </thead>\n",
       "  <tbody>\n",
       "    <tr>\n",
       "      <th>0</th>\n",
       "      <td>10</td>\n",
       "      <td>2023-10-24T07:50:35.549135+00:00</td>\n",
       "      <td>2023-10-24T07:57:13.335227+00:00</td>\n",
       "      <td>POLYGON ((456547.427 91543.640, 456544.255 915...</td>\n",
       "      <td>2318555</td>\n",
       "      <td>1300</td>\n",
       "      <td>2000-01-01</td>\n",
       "    </tr>\n",
       "    <tr>\n",
       "      <th>1</th>\n",
       "      <td>103</td>\n",
       "      <td>2023-10-24T07:50:35.549135+00:00</td>\n",
       "      <td>2023-10-24T07:57:13.335227+00:00</td>\n",
       "      <td>POLYGON ((456100.880 96973.323, 456111.084 969...</td>\n",
       "      <td>2332420</td>\n",
       "      <td>1300</td>\n",
       "      <td>2000-01-01</td>\n",
       "    </tr>\n",
       "    <tr>\n",
       "      <th>2</th>\n",
       "      <td>108</td>\n",
       "      <td>2023-10-24T07:50:35.549135+00:00</td>\n",
       "      <td>2023-10-24T07:57:13.335227+00:00</td>\n",
       "      <td>POLYGON ((454070.991 90528.946, 454064.259 905...</td>\n",
       "      <td>4674624</td>\n",
       "      <td>1300</td>\n",
       "      <td>2000-01-01</td>\n",
       "    </tr>\n",
       "    <tr>\n",
       "      <th>3</th>\n",
       "      <td>117</td>\n",
       "      <td>2023-10-24T07:50:35.549135+00:00</td>\n",
       "      <td>2023-10-24T07:57:13.335227+00:00</td>\n",
       "      <td>POLYGON ((454637.692 96679.827, 454630.584 966...</td>\n",
       "      <td>2336101</td>\n",
       "      <td>1300</td>\n",
       "      <td>2000-01-01</td>\n",
       "    </tr>\n",
       "    <tr>\n",
       "      <th>4</th>\n",
       "      <td>136</td>\n",
       "      <td>2023-10-24T07:50:35.549135+00:00</td>\n",
       "      <td>2023-10-24T07:57:13.335227+00:00</td>\n",
       "      <td>POLYGON ((462781.112 100486.430, 462803.178 10...</td>\n",
       "      <td>2334416</td>\n",
       "      <td>1300</td>\n",
       "      <td>2000-01-01</td>\n",
       "    </tr>\n",
       "    <tr>\n",
       "      <th>...</th>\n",
       "      <td>...</td>\n",
       "      <td>...</td>\n",
       "      <td>...</td>\n",
       "      <td>...</td>\n",
       "      <td>...</td>\n",
       "      <td>...</td>\n",
       "      <td>...</td>\n",
       "    </tr>\n",
       "    <tr>\n",
       "      <th>1785</th>\n",
       "      <td>19592</td>\n",
       "      <td>2023-10-24T07:57:11.047353+00:00</td>\n",
       "      <td>2023-10-24T07:57:13.335227+00:00</td>\n",
       "      <td>POLYGON ((458304.555 100146.103, 458306.726 10...</td>\n",
       "      <td>6268058</td>\n",
       "      <td>1300</td>\n",
       "      <td>2000-01-01</td>\n",
       "    </tr>\n",
       "    <tr>\n",
       "      <th>1786</th>\n",
       "      <td>19593</td>\n",
       "      <td>2023-10-24T07:57:11.047353+00:00</td>\n",
       "      <td>2023-10-24T07:57:13.335227+00:00</td>\n",
       "      <td>POLYGON ((458247.583 99746.065, 458245.202 997...</td>\n",
       "      <td>6268059</td>\n",
       "      <td>1300</td>\n",
       "      <td>2000-01-01</td>\n",
       "    </tr>\n",
       "    <tr>\n",
       "      <th>1787</th>\n",
       "      <td>19594</td>\n",
       "      <td>2023-10-24T07:57:11.047353+00:00</td>\n",
       "      <td>2023-10-24T07:57:13.335227+00:00</td>\n",
       "      <td>POLYGON ((461932.283 90520.703, 461931.619 905...</td>\n",
       "      <td>6263561</td>\n",
       "      <td>1300</td>\n",
       "      <td>2000-01-01</td>\n",
       "    </tr>\n",
       "    <tr>\n",
       "      <th>1788</th>\n",
       "      <td>19625</td>\n",
       "      <td>2023-10-24T07:57:11.047353+00:00</td>\n",
       "      <td>2023-10-24T07:57:13.335227+00:00</td>\n",
       "      <td>POLYGON ((457231.170 90902.256, 457234.861 909...</td>\n",
       "      <td>6264862</td>\n",
       "      <td>1300</td>\n",
       "      <td>2000-01-01</td>\n",
       "    </tr>\n",
       "    <tr>\n",
       "      <th>1789</th>\n",
       "      <td>19626</td>\n",
       "      <td>2023-10-24T07:57:11.047353+00:00</td>\n",
       "      <td>2023-10-24T07:57:13.335227+00:00</td>\n",
       "      <td>POLYGON ((461378.845 91124.318, 461490.224 911...</td>\n",
       "      <td>6264865</td>\n",
       "      <td>1300</td>\n",
       "      <td>2000-01-01</td>\n",
       "    </tr>\n",
       "  </tbody>\n",
       "</table>\n",
       "<p>1790 rows × 7 columns</p>\n",
       "</div>"
      ],
      "text/plain": [
       "         id                        created_at  \\\n",
       "0        10  2023-10-24T07:50:35.549135+00:00   \n",
       "1       103  2023-10-24T07:50:35.549135+00:00   \n",
       "2       108  2023-10-24T07:50:35.549135+00:00   \n",
       "3       117  2023-10-24T07:50:35.549135+00:00   \n",
       "4       136  2023-10-24T07:50:35.549135+00:00   \n",
       "...     ...                               ...   \n",
       "1785  19592  2023-10-24T07:57:11.047353+00:00   \n",
       "1786  19593  2023-10-24T07:57:11.047353+00:00   \n",
       "1787  19594  2023-10-24T07:57:11.047353+00:00   \n",
       "1788  19625  2023-10-24T07:57:11.047353+00:00   \n",
       "1789  19626  2023-10-24T07:57:11.047353+00:00   \n",
       "\n",
       "                           modified_at  \\\n",
       "0     2023-10-24T07:57:13.335227+00:00   \n",
       "1     2023-10-24T07:57:13.335227+00:00   \n",
       "2     2023-10-24T07:57:13.335227+00:00   \n",
       "3     2023-10-24T07:57:13.335227+00:00   \n",
       "4     2023-10-24T07:57:13.335227+00:00   \n",
       "...                                ...   \n",
       "1785  2023-10-24T07:57:13.335227+00:00   \n",
       "1786  2023-10-24T07:57:13.335227+00:00   \n",
       "1787  2023-10-24T07:57:13.335227+00:00   \n",
       "1788  2023-10-24T07:57:13.335227+00:00   \n",
       "1789  2023-10-24T07:57:13.335227+00:00   \n",
       "\n",
       "                                               geometry  raba_pid  raba_id  \\\n",
       "0     POLYGON ((456547.427 91543.640, 456544.255 915...   2318555     1300   \n",
       "1     POLYGON ((456100.880 96973.323, 456111.084 969...   2332420     1300   \n",
       "2     POLYGON ((454070.991 90528.946, 454064.259 905...   4674624     1300   \n",
       "3     POLYGON ((454637.692 96679.827, 454630.584 966...   2336101     1300   \n",
       "4     POLYGON ((462781.112 100486.430, 462803.178 10...   2334416     1300   \n",
       "...                                                 ...       ...      ...   \n",
       "1785  POLYGON ((458304.555 100146.103, 458306.726 10...   6268058     1300   \n",
       "1786  POLYGON ((458247.583 99746.065, 458245.202 997...   6268059     1300   \n",
       "1787  POLYGON ((461932.283 90520.703, 461931.619 905...   6263561     1300   \n",
       "1788  POLYGON ((457231.170 90902.256, 457234.861 909...   6264862     1300   \n",
       "1789  POLYGON ((461378.845 91124.318, 461490.224 911...   6264865     1300   \n",
       "\n",
       "            d_od  \n",
       "0     2000-01-01  \n",
       "1     2000-01-01  \n",
       "2     2000-01-01  \n",
       "3     2000-01-01  \n",
       "4     2000-01-01  \n",
       "...          ...  \n",
       "1785  2000-01-01  \n",
       "1786  2000-01-01  \n",
       "1787  2000-01-01  \n",
       "1788  2000-01-01  \n",
       "1789  2000-01-01  \n",
       "\n",
       "[1790 rows x 7 columns]"
      ]
     },
     "execution_count": 20,
     "metadata": {},
     "output_type": "execute_result"
    }
   ],
   "source": [
    "geodb.get_collection('land_use', query=\"raba_id=eq.1300\")"
   ]
  },
  {
   "cell_type": "markdown",
   "id": "3a0f67d3",
   "metadata": {
    "papermill": {
     "duration": 0.035729,
     "end_time": "2023-10-24T07:57:13.948316",
     "exception": false,
     "start_time": "2023-10-24T07:57:13.912587",
     "status": "completed"
    },
    "tags": []
   },
   "source": [
    "### Managing Properties of a Collection"
   ]
  },
  {
   "cell_type": "code",
   "execution_count": 21,
   "id": "c864fbd2",
   "metadata": {
    "execution": {
     "iopub.execute_input": "2023-10-24T07:57:14.045678Z",
     "iopub.status.busy": "2023-10-24T07:57:14.045400Z",
     "iopub.status.idle": "2023-10-24T07:57:14.356603Z",
     "shell.execute_reply": "2023-10-24T07:57:14.356184Z"
    },
    "papermill": {
     "duration": 0.349279,
     "end_time": "2023-10-24T07:57:14.357611",
     "exception": false,
     "start_time": "2023-10-24T07:57:14.008332",
     "status": "completed"
    },
    "tags": []
   },
   "outputs": [
    {
     "data": {
      "text/html": [
       "<div>\n",
       "<style scoped>\n",
       "    .dataframe tbody tr th:only-of-type {\n",
       "        vertical-align: middle;\n",
       "    }\n",
       "\n",
       "    .dataframe tbody tr th {\n",
       "        vertical-align: top;\n",
       "    }\n",
       "\n",
       "    .dataframe thead th {\n",
       "        text-align: right;\n",
       "    }\n",
       "</style>\n",
       "<table border=\"1\" class=\"dataframe\">\n",
       "  <thead>\n",
       "    <tr style=\"text-align: right;\">\n",
       "      <th></th>\n",
       "      <th>owner</th>\n",
       "      <th>database</th>\n",
       "      <th>collection</th>\n",
       "    </tr>\n",
       "  </thead>\n",
       "  <tbody>\n",
       "    <tr>\n",
       "      <th>0</th>\n",
       "      <td>geodb_49a05d04-5d72-4c0f-9065-6e6827fd1871</td>\n",
       "      <td>anja</td>\n",
       "      <td>E1</td>\n",
       "    </tr>\n",
       "    <tr>\n",
       "      <th>1</th>\n",
       "      <td>geodb_49a05d04-5d72-4c0f-9065-6e6827fd1871</td>\n",
       "      <td>anja</td>\n",
       "      <td>E10a1</td>\n",
       "    </tr>\n",
       "    <tr>\n",
       "      <th>2</th>\n",
       "      <td>geodb_49a05d04-5d72-4c0f-9065-6e6827fd1871</td>\n",
       "      <td>anja</td>\n",
       "      <td>E10a2</td>\n",
       "    </tr>\n",
       "    <tr>\n",
       "      <th>3</th>\n",
       "      <td>geodb_49a05d04-5d72-4c0f-9065-6e6827fd1871</td>\n",
       "      <td>anja</td>\n",
       "      <td>E11</td>\n",
       "    </tr>\n",
       "    <tr>\n",
       "      <th>4</th>\n",
       "      <td>geodb_49a05d04-5d72-4c0f-9065-6e6827fd1871</td>\n",
       "      <td>anja</td>\n",
       "      <td>E1a</td>\n",
       "    </tr>\n",
       "    <tr>\n",
       "      <th>...</th>\n",
       "      <td>...</td>\n",
       "      <td>...</td>\n",
       "      <td>...</td>\n",
       "    </tr>\n",
       "    <tr>\n",
       "      <th>921</th>\n",
       "      <td>geodb_b34bfae7-9265-4a3e-b921-06549d3c6035</td>\n",
       "      <td>stac_test</td>\n",
       "      <td>ge_train_tier_2_labels</td>\n",
       "    </tr>\n",
       "    <tr>\n",
       "      <th>922</th>\n",
       "      <td>geodb_b34bfae7-9265-4a3e-b921-06549d3c6035</td>\n",
       "      <td>stac_test</td>\n",
       "      <td>ge_train_tier_2_source</td>\n",
       "    </tr>\n",
       "    <tr>\n",
       "      <th>923</th>\n",
       "      <td>geodb_b34bfae7-9265-4a3e-b921-06549d3c6035</td>\n",
       "      <td>stac_test</td>\n",
       "      <td>ties_ai_challenge_test</td>\n",
       "    </tr>\n",
       "    <tr>\n",
       "      <th>924</th>\n",
       "      <td>geodb_d2c4722a-cc19-4ec1-b575-0cdb6876d4a7</td>\n",
       "      <td>test_duplicate</td>\n",
       "      <td>test</td>\n",
       "    </tr>\n",
       "    <tr>\n",
       "      <th>925</th>\n",
       "      <td>None</td>\n",
       "      <td>None</td>\n",
       "      <td>None</td>\n",
       "    </tr>\n",
       "  </tbody>\n",
       "</table>\n",
       "<p>926 rows × 3 columns</p>\n",
       "</div>"
      ],
      "text/plain": [
       "                                          owner        database  \\\n",
       "0    geodb_49a05d04-5d72-4c0f-9065-6e6827fd1871            anja   \n",
       "1    geodb_49a05d04-5d72-4c0f-9065-6e6827fd1871            anja   \n",
       "2    geodb_49a05d04-5d72-4c0f-9065-6e6827fd1871            anja   \n",
       "3    geodb_49a05d04-5d72-4c0f-9065-6e6827fd1871            anja   \n",
       "4    geodb_49a05d04-5d72-4c0f-9065-6e6827fd1871            anja   \n",
       "..                                          ...             ...   \n",
       "921  geodb_b34bfae7-9265-4a3e-b921-06549d3c6035       stac_test   \n",
       "922  geodb_b34bfae7-9265-4a3e-b921-06549d3c6035       stac_test   \n",
       "923  geodb_b34bfae7-9265-4a3e-b921-06549d3c6035       stac_test   \n",
       "924  geodb_d2c4722a-cc19-4ec1-b575-0cdb6876d4a7  test_duplicate   \n",
       "925                                        None            None   \n",
       "\n",
       "                 collection  \n",
       "0                        E1  \n",
       "1                     E10a1  \n",
       "2                     E10a2  \n",
       "3                       E11  \n",
       "4                       E1a  \n",
       "..                      ...  \n",
       "921  ge_train_tier_2_labels  \n",
       "922  ge_train_tier_2_source  \n",
       "923  ties_ai_challenge_test  \n",
       "924                    test  \n",
       "925                    None  \n",
       "\n",
       "[926 rows x 3 columns]"
      ]
     },
     "execution_count": 21,
     "metadata": {},
     "output_type": "execute_result"
    }
   ],
   "source": [
    "geodb.get_my_collections()"
   ]
  },
  {
   "cell_type": "code",
   "execution_count": 22,
   "id": "8d33a09b",
   "metadata": {
    "execution": {
     "iopub.execute_input": "2023-10-24T07:57:14.446522Z",
     "iopub.status.busy": "2023-10-24T07:57:14.446064Z",
     "iopub.status.idle": "2023-10-24T07:57:14.536693Z",
     "shell.execute_reply": "2023-10-24T07:57:14.536190Z"
    },
    "papermill": {
     "duration": 0.12839,
     "end_time": "2023-10-24T07:57:14.537789",
     "exception": false,
     "start_time": "2023-10-24T07:57:14.409399",
     "status": "completed"
    },
    "tags": []
   },
   "outputs": [
    {
     "data": {
      "text/html": [
       "<div>\n",
       "<style scoped>\n",
       "    .dataframe tbody tr th:only-of-type {\n",
       "        vertical-align: middle;\n",
       "    }\n",
       "\n",
       "    .dataframe tbody tr th {\n",
       "        vertical-align: top;\n",
       "    }\n",
       "\n",
       "    .dataframe thead th {\n",
       "        text-align: right;\n",
       "    }\n",
       "</style>\n",
       "<table border=\"1\" class=\"dataframe\">\n",
       "  <thead>\n",
       "    <tr style=\"text-align: right;\">\n",
       "      <th></th>\n",
       "      <th>database</th>\n",
       "      <th>collection</th>\n",
       "      <th>column_name</th>\n",
       "      <th>data_type</th>\n",
       "    </tr>\n",
       "  </thead>\n",
       "  <tbody>\n",
       "    <tr>\n",
       "      <th>0</th>\n",
       "      <td>geodb_418dfeac-15f0-4606-9edb-fd9eb722bf04</td>\n",
       "      <td>land_use</td>\n",
       "      <td>id</td>\n",
       "      <td>integer</td>\n",
       "    </tr>\n",
       "    <tr>\n",
       "      <th>1</th>\n",
       "      <td>geodb_418dfeac-15f0-4606-9edb-fd9eb722bf04</td>\n",
       "      <td>land_use</td>\n",
       "      <td>created_at</td>\n",
       "      <td>timestamp with time zone</td>\n",
       "    </tr>\n",
       "    <tr>\n",
       "      <th>2</th>\n",
       "      <td>geodb_418dfeac-15f0-4606-9edb-fd9eb722bf04</td>\n",
       "      <td>land_use</td>\n",
       "      <td>modified_at</td>\n",
       "      <td>timestamp with time zone</td>\n",
       "    </tr>\n",
       "    <tr>\n",
       "      <th>3</th>\n",
       "      <td>geodb_418dfeac-15f0-4606-9edb-fd9eb722bf04</td>\n",
       "      <td>land_use</td>\n",
       "      <td>geometry</td>\n",
       "      <td>USER-DEFINED</td>\n",
       "    </tr>\n",
       "    <tr>\n",
       "      <th>4</th>\n",
       "      <td>geodb_418dfeac-15f0-4606-9edb-fd9eb722bf04</td>\n",
       "      <td>land_use</td>\n",
       "      <td>raba_pid</td>\n",
       "      <td>double precision</td>\n",
       "    </tr>\n",
       "    <tr>\n",
       "      <th>5</th>\n",
       "      <td>geodb_418dfeac-15f0-4606-9edb-fd9eb722bf04</td>\n",
       "      <td>land_use</td>\n",
       "      <td>raba_id</td>\n",
       "      <td>double precision</td>\n",
       "    </tr>\n",
       "    <tr>\n",
       "      <th>6</th>\n",
       "      <td>geodb_418dfeac-15f0-4606-9edb-fd9eb722bf04</td>\n",
       "      <td>land_use</td>\n",
       "      <td>d_od</td>\n",
       "      <td>date</td>\n",
       "    </tr>\n",
       "  </tbody>\n",
       "</table>\n",
       "</div>"
      ],
      "text/plain": [
       "                                     database collection  column_name  \\\n",
       "0  geodb_418dfeac-15f0-4606-9edb-fd9eb722bf04   land_use           id   \n",
       "1  geodb_418dfeac-15f0-4606-9edb-fd9eb722bf04   land_use   created_at   \n",
       "2  geodb_418dfeac-15f0-4606-9edb-fd9eb722bf04   land_use  modified_at   \n",
       "3  geodb_418dfeac-15f0-4606-9edb-fd9eb722bf04   land_use     geometry   \n",
       "4  geodb_418dfeac-15f0-4606-9edb-fd9eb722bf04   land_use     raba_pid   \n",
       "5  geodb_418dfeac-15f0-4606-9edb-fd9eb722bf04   land_use      raba_id   \n",
       "6  geodb_418dfeac-15f0-4606-9edb-fd9eb722bf04   land_use         d_od   \n",
       "\n",
       "                  data_type  \n",
       "0                   integer  \n",
       "1  timestamp with time zone  \n",
       "2  timestamp with time zone  \n",
       "3              USER-DEFINED  \n",
       "4          double precision  \n",
       "5          double precision  \n",
       "6                      date  "
      ]
     },
     "execution_count": 22,
     "metadata": {},
     "output_type": "execute_result"
    }
   ],
   "source": [
    "geodb.get_properties('land_use')"
   ]
  },
  {
   "cell_type": "code",
   "execution_count": 23,
   "id": "41bf8173",
   "metadata": {
    "execution": {
     "iopub.execute_input": "2023-10-24T07:57:14.628411Z",
     "iopub.status.busy": "2023-10-24T07:57:14.628173Z",
     "iopub.status.idle": "2023-10-24T07:57:14.780910Z",
     "shell.execute_reply": "2023-10-24T07:57:14.780472Z"
    },
    "papermill": {
     "duration": 0.194282,
     "end_time": "2023-10-24T07:57:14.782369",
     "exception": false,
     "start_time": "2023-10-24T07:57:14.588087",
     "status": "completed"
    },
    "tags": []
   },
   "outputs": [
    {
     "data": {
      "application/json": {
       "Message": "Properties added"
      },
      "text/plain": [
       "<xcube_geodb.core.message.Message at 0x7f4207c7fe90>"
      ]
     },
     "execution_count": 23,
     "metadata": {},
     "output_type": "execute_result"
    }
   ],
   "source": [
    "geodb.add_property('land_use', \"test_prop\", 'integer')"
   ]
  },
  {
   "cell_type": "code",
   "execution_count": 24,
   "id": "f95a80bc",
   "metadata": {
    "execution": {
     "iopub.execute_input": "2023-10-24T07:57:14.873378Z",
     "iopub.status.busy": "2023-10-24T07:57:14.872989Z",
     "iopub.status.idle": "2023-10-24T07:57:14.961845Z",
     "shell.execute_reply": "2023-10-24T07:57:14.961333Z"
    },
    "papermill": {
     "duration": 0.127581,
     "end_time": "2023-10-24T07:57:14.963057",
     "exception": false,
     "start_time": "2023-10-24T07:57:14.835476",
     "status": "completed"
    },
    "tags": []
   },
   "outputs": [
    {
     "data": {
      "text/html": [
       "<div>\n",
       "<style scoped>\n",
       "    .dataframe tbody tr th:only-of-type {\n",
       "        vertical-align: middle;\n",
       "    }\n",
       "\n",
       "    .dataframe tbody tr th {\n",
       "        vertical-align: top;\n",
       "    }\n",
       "\n",
       "    .dataframe thead th {\n",
       "        text-align: right;\n",
       "    }\n",
       "</style>\n",
       "<table border=\"1\" class=\"dataframe\">\n",
       "  <thead>\n",
       "    <tr style=\"text-align: right;\">\n",
       "      <th></th>\n",
       "      <th>database</th>\n",
       "      <th>collection</th>\n",
       "      <th>column_name</th>\n",
       "      <th>data_type</th>\n",
       "    </tr>\n",
       "  </thead>\n",
       "  <tbody>\n",
       "    <tr>\n",
       "      <th>0</th>\n",
       "      <td>geodb_418dfeac-15f0-4606-9edb-fd9eb722bf04</td>\n",
       "      <td>land_use</td>\n",
       "      <td>id</td>\n",
       "      <td>integer</td>\n",
       "    </tr>\n",
       "    <tr>\n",
       "      <th>1</th>\n",
       "      <td>geodb_418dfeac-15f0-4606-9edb-fd9eb722bf04</td>\n",
       "      <td>land_use</td>\n",
       "      <td>created_at</td>\n",
       "      <td>timestamp with time zone</td>\n",
       "    </tr>\n",
       "    <tr>\n",
       "      <th>2</th>\n",
       "      <td>geodb_418dfeac-15f0-4606-9edb-fd9eb722bf04</td>\n",
       "      <td>land_use</td>\n",
       "      <td>modified_at</td>\n",
       "      <td>timestamp with time zone</td>\n",
       "    </tr>\n",
       "    <tr>\n",
       "      <th>3</th>\n",
       "      <td>geodb_418dfeac-15f0-4606-9edb-fd9eb722bf04</td>\n",
       "      <td>land_use</td>\n",
       "      <td>geometry</td>\n",
       "      <td>USER-DEFINED</td>\n",
       "    </tr>\n",
       "    <tr>\n",
       "      <th>4</th>\n",
       "      <td>geodb_418dfeac-15f0-4606-9edb-fd9eb722bf04</td>\n",
       "      <td>land_use</td>\n",
       "      <td>raba_pid</td>\n",
       "      <td>double precision</td>\n",
       "    </tr>\n",
       "    <tr>\n",
       "      <th>5</th>\n",
       "      <td>geodb_418dfeac-15f0-4606-9edb-fd9eb722bf04</td>\n",
       "      <td>land_use</td>\n",
       "      <td>raba_id</td>\n",
       "      <td>double precision</td>\n",
       "    </tr>\n",
       "    <tr>\n",
       "      <th>6</th>\n",
       "      <td>geodb_418dfeac-15f0-4606-9edb-fd9eb722bf04</td>\n",
       "      <td>land_use</td>\n",
       "      <td>d_od</td>\n",
       "      <td>date</td>\n",
       "    </tr>\n",
       "    <tr>\n",
       "      <th>7</th>\n",
       "      <td>geodb_418dfeac-15f0-4606-9edb-fd9eb722bf04</td>\n",
       "      <td>land_use</td>\n",
       "      <td>test_prop</td>\n",
       "      <td>integer</td>\n",
       "    </tr>\n",
       "  </tbody>\n",
       "</table>\n",
       "</div>"
      ],
      "text/plain": [
       "                                     database collection  column_name  \\\n",
       "0  geodb_418dfeac-15f0-4606-9edb-fd9eb722bf04   land_use           id   \n",
       "1  geodb_418dfeac-15f0-4606-9edb-fd9eb722bf04   land_use   created_at   \n",
       "2  geodb_418dfeac-15f0-4606-9edb-fd9eb722bf04   land_use  modified_at   \n",
       "3  geodb_418dfeac-15f0-4606-9edb-fd9eb722bf04   land_use     geometry   \n",
       "4  geodb_418dfeac-15f0-4606-9edb-fd9eb722bf04   land_use     raba_pid   \n",
       "5  geodb_418dfeac-15f0-4606-9edb-fd9eb722bf04   land_use      raba_id   \n",
       "6  geodb_418dfeac-15f0-4606-9edb-fd9eb722bf04   land_use         d_od   \n",
       "7  geodb_418dfeac-15f0-4606-9edb-fd9eb722bf04   land_use    test_prop   \n",
       "\n",
       "                  data_type  \n",
       "0                   integer  \n",
       "1  timestamp with time zone  \n",
       "2  timestamp with time zone  \n",
       "3              USER-DEFINED  \n",
       "4          double precision  \n",
       "5          double precision  \n",
       "6                      date  \n",
       "7                   integer  "
      ]
     },
     "execution_count": 24,
     "metadata": {},
     "output_type": "execute_result"
    }
   ],
   "source": [
    "geodb.get_properties('land_use')"
   ]
  },
  {
   "cell_type": "code",
   "execution_count": 25,
   "id": "489c6225",
   "metadata": {
    "execution": {
     "iopub.execute_input": "2023-10-24T07:57:15.057789Z",
     "iopub.status.busy": "2023-10-24T07:57:15.057448Z",
     "iopub.status.idle": "2023-10-24T07:57:16.331557Z",
     "shell.execute_reply": "2023-10-24T07:57:16.331075Z"
    },
    "papermill": {
     "duration": 1.31039,
     "end_time": "2023-10-24T07:57:16.332773",
     "exception": false,
     "start_time": "2023-10-24T07:57:15.022383",
     "status": "completed"
    },
    "tags": []
   },
   "outputs": [
    {
     "data": {
      "application/json": {
       "Message": "Properties ['test_prop'] dropped from geodb_418dfeac-15f0-4606-9edb-fd9eb722bf04_land_use"
      },
      "text/plain": [
       "<xcube_geodb.core.message.Message at 0x7f42801a4b10>"
      ]
     },
     "execution_count": 25,
     "metadata": {},
     "output_type": "execute_result"
    }
   ],
   "source": [
    "geodb.drop_property('land_use', 'test_prop')"
   ]
  },
  {
   "cell_type": "code",
   "execution_count": 26,
   "id": "29ea7224",
   "metadata": {
    "execution": {
     "iopub.execute_input": "2023-10-24T07:57:16.413940Z",
     "iopub.status.busy": "2023-10-24T07:57:16.413674Z",
     "iopub.status.idle": "2023-10-24T07:57:16.494522Z",
     "shell.execute_reply": "2023-10-24T07:57:16.493913Z"
    },
    "papermill": {
     "duration": 0.115227,
     "end_time": "2023-10-24T07:57:16.495652",
     "exception": false,
     "start_time": "2023-10-24T07:57:16.380425",
     "status": "completed"
    },
    "tags": []
   },
   "outputs": [
    {
     "data": {
      "text/html": [
       "<div>\n",
       "<style scoped>\n",
       "    .dataframe tbody tr th:only-of-type {\n",
       "        vertical-align: middle;\n",
       "    }\n",
       "\n",
       "    .dataframe tbody tr th {\n",
       "        vertical-align: top;\n",
       "    }\n",
       "\n",
       "    .dataframe thead th {\n",
       "        text-align: right;\n",
       "    }\n",
       "</style>\n",
       "<table border=\"1\" class=\"dataframe\">\n",
       "  <thead>\n",
       "    <tr style=\"text-align: right;\">\n",
       "      <th></th>\n",
       "      <th>database</th>\n",
       "      <th>collection</th>\n",
       "      <th>column_name</th>\n",
       "      <th>data_type</th>\n",
       "    </tr>\n",
       "  </thead>\n",
       "  <tbody>\n",
       "    <tr>\n",
       "      <th>0</th>\n",
       "      <td>geodb_418dfeac-15f0-4606-9edb-fd9eb722bf04</td>\n",
       "      <td>land_use</td>\n",
       "      <td>id</td>\n",
       "      <td>integer</td>\n",
       "    </tr>\n",
       "    <tr>\n",
       "      <th>1</th>\n",
       "      <td>geodb_418dfeac-15f0-4606-9edb-fd9eb722bf04</td>\n",
       "      <td>land_use</td>\n",
       "      <td>created_at</td>\n",
       "      <td>timestamp with time zone</td>\n",
       "    </tr>\n",
       "    <tr>\n",
       "      <th>2</th>\n",
       "      <td>geodb_418dfeac-15f0-4606-9edb-fd9eb722bf04</td>\n",
       "      <td>land_use</td>\n",
       "      <td>modified_at</td>\n",
       "      <td>timestamp with time zone</td>\n",
       "    </tr>\n",
       "    <tr>\n",
       "      <th>3</th>\n",
       "      <td>geodb_418dfeac-15f0-4606-9edb-fd9eb722bf04</td>\n",
       "      <td>land_use</td>\n",
       "      <td>geometry</td>\n",
       "      <td>USER-DEFINED</td>\n",
       "    </tr>\n",
       "    <tr>\n",
       "      <th>4</th>\n",
       "      <td>geodb_418dfeac-15f0-4606-9edb-fd9eb722bf04</td>\n",
       "      <td>land_use</td>\n",
       "      <td>raba_pid</td>\n",
       "      <td>double precision</td>\n",
       "    </tr>\n",
       "    <tr>\n",
       "      <th>5</th>\n",
       "      <td>geodb_418dfeac-15f0-4606-9edb-fd9eb722bf04</td>\n",
       "      <td>land_use</td>\n",
       "      <td>raba_id</td>\n",
       "      <td>double precision</td>\n",
       "    </tr>\n",
       "    <tr>\n",
       "      <th>6</th>\n",
       "      <td>geodb_418dfeac-15f0-4606-9edb-fd9eb722bf04</td>\n",
       "      <td>land_use</td>\n",
       "      <td>d_od</td>\n",
       "      <td>date</td>\n",
       "    </tr>\n",
       "  </tbody>\n",
       "</table>\n",
       "</div>"
      ],
      "text/plain": [
       "                                     database collection  column_name  \\\n",
       "0  geodb_418dfeac-15f0-4606-9edb-fd9eb722bf04   land_use           id   \n",
       "1  geodb_418dfeac-15f0-4606-9edb-fd9eb722bf04   land_use   created_at   \n",
       "2  geodb_418dfeac-15f0-4606-9edb-fd9eb722bf04   land_use  modified_at   \n",
       "3  geodb_418dfeac-15f0-4606-9edb-fd9eb722bf04   land_use     geometry   \n",
       "4  geodb_418dfeac-15f0-4606-9edb-fd9eb722bf04   land_use     raba_pid   \n",
       "5  geodb_418dfeac-15f0-4606-9edb-fd9eb722bf04   land_use      raba_id   \n",
       "6  geodb_418dfeac-15f0-4606-9edb-fd9eb722bf04   land_use         d_od   \n",
       "\n",
       "                  data_type  \n",
       "0                   integer  \n",
       "1  timestamp with time zone  \n",
       "2  timestamp with time zone  \n",
       "3              USER-DEFINED  \n",
       "4          double precision  \n",
       "5          double precision  \n",
       "6                      date  "
      ]
     },
     "execution_count": 26,
     "metadata": {},
     "output_type": "execute_result"
    }
   ],
   "source": [
    "geodb.get_properties('land_use')"
   ]
  },
  {
   "cell_type": "code",
   "execution_count": 27,
   "id": "5ac6b44c",
   "metadata": {
    "execution": {
     "iopub.execute_input": "2023-10-24T07:57:16.581336Z",
     "iopub.status.busy": "2023-10-24T07:57:16.580696Z",
     "iopub.status.idle": "2023-10-24T07:57:16.816104Z",
     "shell.execute_reply": "2023-10-24T07:57:16.815682Z"
    },
    "papermill": {
     "duration": 0.271925,
     "end_time": "2023-10-24T07:57:16.817150",
     "exception": false,
     "start_time": "2023-10-24T07:57:16.545225",
     "status": "completed"
    },
    "tags": []
   },
   "outputs": [
    {
     "data": {
      "application/json": {
       "Message": "Properties added"
      },
      "text/plain": [
       "<xcube_geodb.core.message.Message at 0x7f420f011910>"
      ]
     },
     "execution_count": 27,
     "metadata": {},
     "output_type": "execute_result"
    }
   ],
   "source": [
    "geodb.add_properties('land_use', properties={'test1': 'integer', 'test2': 'date'})"
   ]
  },
  {
   "cell_type": "code",
   "execution_count": 28,
   "id": "ff58d13e",
   "metadata": {
    "execution": {
     "iopub.execute_input": "2023-10-24T07:57:16.900975Z",
     "iopub.status.busy": "2023-10-24T07:57:16.900552Z",
     "iopub.status.idle": "2023-10-24T07:57:16.993560Z",
     "shell.execute_reply": "2023-10-24T07:57:16.993101Z"
    },
    "papermill": {
     "duration": 0.126208,
     "end_time": "2023-10-24T07:57:16.994678",
     "exception": false,
     "start_time": "2023-10-24T07:57:16.868470",
     "status": "completed"
    },
    "tags": []
   },
   "outputs": [
    {
     "data": {
      "text/html": [
       "<div>\n",
       "<style scoped>\n",
       "    .dataframe tbody tr th:only-of-type {\n",
       "        vertical-align: middle;\n",
       "    }\n",
       "\n",
       "    .dataframe tbody tr th {\n",
       "        vertical-align: top;\n",
       "    }\n",
       "\n",
       "    .dataframe thead th {\n",
       "        text-align: right;\n",
       "    }\n",
       "</style>\n",
       "<table border=\"1\" class=\"dataframe\">\n",
       "  <thead>\n",
       "    <tr style=\"text-align: right;\">\n",
       "      <th></th>\n",
       "      <th>database</th>\n",
       "      <th>collection</th>\n",
       "      <th>column_name</th>\n",
       "      <th>data_type</th>\n",
       "    </tr>\n",
       "  </thead>\n",
       "  <tbody>\n",
       "    <tr>\n",
       "      <th>0</th>\n",
       "      <td>geodb_418dfeac-15f0-4606-9edb-fd9eb722bf04</td>\n",
       "      <td>land_use</td>\n",
       "      <td>id</td>\n",
       "      <td>integer</td>\n",
       "    </tr>\n",
       "    <tr>\n",
       "      <th>1</th>\n",
       "      <td>geodb_418dfeac-15f0-4606-9edb-fd9eb722bf04</td>\n",
       "      <td>land_use</td>\n",
       "      <td>created_at</td>\n",
       "      <td>timestamp with time zone</td>\n",
       "    </tr>\n",
       "    <tr>\n",
       "      <th>2</th>\n",
       "      <td>geodb_418dfeac-15f0-4606-9edb-fd9eb722bf04</td>\n",
       "      <td>land_use</td>\n",
       "      <td>modified_at</td>\n",
       "      <td>timestamp with time zone</td>\n",
       "    </tr>\n",
       "    <tr>\n",
       "      <th>3</th>\n",
       "      <td>geodb_418dfeac-15f0-4606-9edb-fd9eb722bf04</td>\n",
       "      <td>land_use</td>\n",
       "      <td>geometry</td>\n",
       "      <td>USER-DEFINED</td>\n",
       "    </tr>\n",
       "    <tr>\n",
       "      <th>4</th>\n",
       "      <td>geodb_418dfeac-15f0-4606-9edb-fd9eb722bf04</td>\n",
       "      <td>land_use</td>\n",
       "      <td>raba_pid</td>\n",
       "      <td>double precision</td>\n",
       "    </tr>\n",
       "    <tr>\n",
       "      <th>5</th>\n",
       "      <td>geodb_418dfeac-15f0-4606-9edb-fd9eb722bf04</td>\n",
       "      <td>land_use</td>\n",
       "      <td>raba_id</td>\n",
       "      <td>double precision</td>\n",
       "    </tr>\n",
       "    <tr>\n",
       "      <th>6</th>\n",
       "      <td>geodb_418dfeac-15f0-4606-9edb-fd9eb722bf04</td>\n",
       "      <td>land_use</td>\n",
       "      <td>d_od</td>\n",
       "      <td>date</td>\n",
       "    </tr>\n",
       "    <tr>\n",
       "      <th>7</th>\n",
       "      <td>geodb_418dfeac-15f0-4606-9edb-fd9eb722bf04</td>\n",
       "      <td>land_use</td>\n",
       "      <td>test1</td>\n",
       "      <td>integer</td>\n",
       "    </tr>\n",
       "    <tr>\n",
       "      <th>8</th>\n",
       "      <td>geodb_418dfeac-15f0-4606-9edb-fd9eb722bf04</td>\n",
       "      <td>land_use</td>\n",
       "      <td>test2</td>\n",
       "      <td>date</td>\n",
       "    </tr>\n",
       "  </tbody>\n",
       "</table>\n",
       "</div>"
      ],
      "text/plain": [
       "                                     database collection  column_name  \\\n",
       "0  geodb_418dfeac-15f0-4606-9edb-fd9eb722bf04   land_use           id   \n",
       "1  geodb_418dfeac-15f0-4606-9edb-fd9eb722bf04   land_use   created_at   \n",
       "2  geodb_418dfeac-15f0-4606-9edb-fd9eb722bf04   land_use  modified_at   \n",
       "3  geodb_418dfeac-15f0-4606-9edb-fd9eb722bf04   land_use     geometry   \n",
       "4  geodb_418dfeac-15f0-4606-9edb-fd9eb722bf04   land_use     raba_pid   \n",
       "5  geodb_418dfeac-15f0-4606-9edb-fd9eb722bf04   land_use      raba_id   \n",
       "6  geodb_418dfeac-15f0-4606-9edb-fd9eb722bf04   land_use         d_od   \n",
       "7  geodb_418dfeac-15f0-4606-9edb-fd9eb722bf04   land_use        test1   \n",
       "8  geodb_418dfeac-15f0-4606-9edb-fd9eb722bf04   land_use        test2   \n",
       "\n",
       "                  data_type  \n",
       "0                   integer  \n",
       "1  timestamp with time zone  \n",
       "2  timestamp with time zone  \n",
       "3              USER-DEFINED  \n",
       "4          double precision  \n",
       "5          double precision  \n",
       "6                      date  \n",
       "7                   integer  \n",
       "8                      date  "
      ]
     },
     "execution_count": 28,
     "metadata": {},
     "output_type": "execute_result"
    }
   ],
   "source": [
    "geodb.get_properties('land_use')"
   ]
  },
  {
   "cell_type": "code",
   "execution_count": 29,
   "id": "d78c16c0",
   "metadata": {
    "execution": {
     "iopub.execute_input": "2023-10-24T07:57:17.075871Z",
     "iopub.status.busy": "2023-10-24T07:57:17.075453Z",
     "iopub.status.idle": "2023-10-24T07:57:18.371258Z",
     "shell.execute_reply": "2023-10-24T07:57:18.370822Z"
    },
    "papermill": {
     "duration": 1.330752,
     "end_time": "2023-10-24T07:57:18.372247",
     "exception": false,
     "start_time": "2023-10-24T07:57:17.041495",
     "status": "completed"
    },
    "tags": []
   },
   "outputs": [
    {
     "data": {
      "application/json": {
       "Message": "Properties ['test1', 'test2'] dropped from geodb_418dfeac-15f0-4606-9edb-fd9eb722bf04_land_use"
      },
      "text/plain": [
       "<xcube_geodb.core.message.Message at 0x7f420effd710>"
      ]
     },
     "execution_count": 29,
     "metadata": {},
     "output_type": "execute_result"
    }
   ],
   "source": [
    "geodb.drop_properties('land_use', properties=['test1', 'test2'])"
   ]
  },
  {
   "cell_type": "code",
   "execution_count": 30,
   "id": "f065e1cd",
   "metadata": {
    "execution": {
     "iopub.execute_input": "2023-10-24T07:57:18.454272Z",
     "iopub.status.busy": "2023-10-24T07:57:18.453888Z",
     "iopub.status.idle": "2023-10-24T07:57:18.538603Z",
     "shell.execute_reply": "2023-10-24T07:57:18.538114Z"
    },
    "papermill": {
     "duration": 0.121968,
     "end_time": "2023-10-24T07:57:18.539657",
     "exception": false,
     "start_time": "2023-10-24T07:57:18.417689",
     "status": "completed"
    },
    "tags": []
   },
   "outputs": [
    {
     "data": {
      "text/html": [
       "<div>\n",
       "<style scoped>\n",
       "    .dataframe tbody tr th:only-of-type {\n",
       "        vertical-align: middle;\n",
       "    }\n",
       "\n",
       "    .dataframe tbody tr th {\n",
       "        vertical-align: top;\n",
       "    }\n",
       "\n",
       "    .dataframe thead th {\n",
       "        text-align: right;\n",
       "    }\n",
       "</style>\n",
       "<table border=\"1\" class=\"dataframe\">\n",
       "  <thead>\n",
       "    <tr style=\"text-align: right;\">\n",
       "      <th></th>\n",
       "      <th>database</th>\n",
       "      <th>collection</th>\n",
       "      <th>column_name</th>\n",
       "      <th>data_type</th>\n",
       "    </tr>\n",
       "  </thead>\n",
       "  <tbody>\n",
       "    <tr>\n",
       "      <th>0</th>\n",
       "      <td>geodb_418dfeac-15f0-4606-9edb-fd9eb722bf04</td>\n",
       "      <td>land_use</td>\n",
       "      <td>id</td>\n",
       "      <td>integer</td>\n",
       "    </tr>\n",
       "    <tr>\n",
       "      <th>1</th>\n",
       "      <td>geodb_418dfeac-15f0-4606-9edb-fd9eb722bf04</td>\n",
       "      <td>land_use</td>\n",
       "      <td>created_at</td>\n",
       "      <td>timestamp with time zone</td>\n",
       "    </tr>\n",
       "    <tr>\n",
       "      <th>2</th>\n",
       "      <td>geodb_418dfeac-15f0-4606-9edb-fd9eb722bf04</td>\n",
       "      <td>land_use</td>\n",
       "      <td>modified_at</td>\n",
       "      <td>timestamp with time zone</td>\n",
       "    </tr>\n",
       "    <tr>\n",
       "      <th>3</th>\n",
       "      <td>geodb_418dfeac-15f0-4606-9edb-fd9eb722bf04</td>\n",
       "      <td>land_use</td>\n",
       "      <td>geometry</td>\n",
       "      <td>USER-DEFINED</td>\n",
       "    </tr>\n",
       "    <tr>\n",
       "      <th>4</th>\n",
       "      <td>geodb_418dfeac-15f0-4606-9edb-fd9eb722bf04</td>\n",
       "      <td>land_use</td>\n",
       "      <td>raba_pid</td>\n",
       "      <td>double precision</td>\n",
       "    </tr>\n",
       "    <tr>\n",
       "      <th>5</th>\n",
       "      <td>geodb_418dfeac-15f0-4606-9edb-fd9eb722bf04</td>\n",
       "      <td>land_use</td>\n",
       "      <td>raba_id</td>\n",
       "      <td>double precision</td>\n",
       "    </tr>\n",
       "    <tr>\n",
       "      <th>6</th>\n",
       "      <td>geodb_418dfeac-15f0-4606-9edb-fd9eb722bf04</td>\n",
       "      <td>land_use</td>\n",
       "      <td>d_od</td>\n",
       "      <td>date</td>\n",
       "    </tr>\n",
       "  </tbody>\n",
       "</table>\n",
       "</div>"
      ],
      "text/plain": [
       "                                     database collection  column_name  \\\n",
       "0  geodb_418dfeac-15f0-4606-9edb-fd9eb722bf04   land_use           id   \n",
       "1  geodb_418dfeac-15f0-4606-9edb-fd9eb722bf04   land_use   created_at   \n",
       "2  geodb_418dfeac-15f0-4606-9edb-fd9eb722bf04   land_use  modified_at   \n",
       "3  geodb_418dfeac-15f0-4606-9edb-fd9eb722bf04   land_use     geometry   \n",
       "4  geodb_418dfeac-15f0-4606-9edb-fd9eb722bf04   land_use     raba_pid   \n",
       "5  geodb_418dfeac-15f0-4606-9edb-fd9eb722bf04   land_use      raba_id   \n",
       "6  geodb_418dfeac-15f0-4606-9edb-fd9eb722bf04   land_use         d_od   \n",
       "\n",
       "                  data_type  \n",
       "0                   integer  \n",
       "1  timestamp with time zone  \n",
       "2  timestamp with time zone  \n",
       "3              USER-DEFINED  \n",
       "4          double precision  \n",
       "5          double precision  \n",
       "6                      date  "
      ]
     },
     "execution_count": 30,
     "metadata": {},
     "output_type": "execute_result"
    }
   ],
   "source": [
    "geodb.get_properties('land_use')"
   ]
  },
  {
   "cell_type": "code",
   "execution_count": 31,
   "id": "12bba166",
   "metadata": {
    "execution": {
     "iopub.execute_input": "2023-10-24T07:57:18.619292Z",
     "iopub.status.busy": "2023-10-24T07:57:18.619022Z",
     "iopub.status.idle": "2023-10-24T07:57:18.814759Z",
     "shell.execute_reply": "2023-10-24T07:57:18.814298Z"
    },
    "papermill": {
     "duration": 0.230266,
     "end_time": "2023-10-24T07:57:18.815769",
     "exception": false,
     "start_time": "2023-10-24T07:57:18.585503",
     "status": "completed"
    },
    "tags": []
   },
   "outputs": [
    {
     "data": {
      "application/json": {
       "Message": "Collection ['geodb_418dfeac-15f0-4606-9edb-fd9eb722bf04_land_use'] deleted"
      },
      "text/plain": [
       "<xcube_geodb.core.message.Message at 0x7f4207ae6bd0>"
      ]
     },
     "execution_count": 31,
     "metadata": {},
     "output_type": "execute_result"
    }
   ],
   "source": [
    "geodb.drop_collection('land_use')"
   ]
  },
  {
   "cell_type": "markdown",
   "id": "4526a1cc-af7d-47f7-9f80-8662cbf3e33f",
   "metadata": {
    "papermill": {
     "duration": 0.036661,
     "end_time": "2023-10-24T07:57:18.900504",
     "exception": false,
     "start_time": "2023-10-24T07:57:18.863843",
     "status": "completed"
    },
    "tags": []
   },
   "source": [
    "See the chanhes made to the collection: "
   ]
  },
  {
   "cell_type": "code",
   "execution_count": 32,
   "id": "138cac02-fb5b-4f97-b14e-1e656864c10d",
   "metadata": {
    "execution": {
     "iopub.execute_input": "2023-10-24T07:57:18.985163Z",
     "iopub.status.busy": "2023-10-24T07:57:18.984835Z",
     "iopub.status.idle": "2023-10-24T07:57:19.070200Z",
     "shell.execute_reply": "2023-10-24T07:57:19.069773Z"
    },
    "papermill": {
     "duration": 0.124612,
     "end_time": "2023-10-24T07:57:19.071358",
     "exception": false,
     "start_time": "2023-10-24T07:57:18.946746",
     "status": "completed"
    },
    "tags": []
   },
   "outputs": [
    {
     "data": {
      "text/html": [
       "<div>\n",
       "<style scoped>\n",
       "    .dataframe tbody tr th:only-of-type {\n",
       "        vertical-align: middle;\n",
       "    }\n",
       "\n",
       "    .dataframe tbody tr th {\n",
       "        vertical-align: top;\n",
       "    }\n",
       "\n",
       "    .dataframe thead th {\n",
       "        text-align: right;\n",
       "    }\n",
       "</style>\n",
       "<table border=\"1\" class=\"dataframe\">\n",
       "  <thead>\n",
       "    <tr style=\"text-align: right;\">\n",
       "      <th></th>\n",
       "      <th>event_type</th>\n",
       "      <th>message</th>\n",
       "      <th>username</th>\n",
       "      <th>date</th>\n",
       "    </tr>\n",
       "  </thead>\n",
       "  <tbody>\n",
       "    <tr>\n",
       "      <th>0</th>\n",
       "      <td>added rows</td>\n",
       "      <td>9827 rows inserted into geodb_418dfeac-15f0-46...</td>\n",
       "      <td>geodb_418dfeac-15f0-4606-9edb-fd9eb722bf04</td>\n",
       "      <td>2022-09-27T08:56:03.607382</td>\n",
       "    </tr>\n",
       "    <tr>\n",
       "      <th>1</th>\n",
       "      <td>dropped rows</td>\n",
       "      <td>from collection geodb_418dfeac-15f0-4606-9edb-...</td>\n",
       "      <td>geodb_418dfeac-15f0-4606-9edb-fd9eb722bf04</td>\n",
       "      <td>2022-09-27T08:56:04.126797</td>\n",
       "    </tr>\n",
       "    <tr>\n",
       "      <th>2</th>\n",
       "      <td>added property</td>\n",
       "      <td>{name: test_prop, type: integer} to collection...</td>\n",
       "      <td>geodb_418dfeac-15f0-4606-9edb-fd9eb722bf04</td>\n",
       "      <td>2022-09-27T08:56:06.172545</td>\n",
       "    </tr>\n",
       "    <tr>\n",
       "      <th>3</th>\n",
       "      <td>dropped property</td>\n",
       "      <td>test_prop from collection geodb_418dfeac-15f0-...</td>\n",
       "      <td>geodb_418dfeac-15f0-4606-9edb-fd9eb722bf04</td>\n",
       "      <td>2022-09-27T08:56:09.069597</td>\n",
       "    </tr>\n",
       "    <tr>\n",
       "      <th>4</th>\n",
       "      <td>added property</td>\n",
       "      <td>{name: test1, type: integer} to collection geo...</td>\n",
       "      <td>geodb_418dfeac-15f0-4606-9edb-fd9eb722bf04</td>\n",
       "      <td>2022-09-27T08:56:09.337766</td>\n",
       "    </tr>\n",
       "    <tr>\n",
       "      <th>...</th>\n",
       "      <td>...</td>\n",
       "      <td>...</td>\n",
       "      <td>...</td>\n",
       "      <td>...</td>\n",
       "    </tr>\n",
       "    <tr>\n",
       "      <th>288</th>\n",
       "      <td>added property</td>\n",
       "      <td>{name: test1, type: integer} to collection geo...</td>\n",
       "      <td>geodb_418dfeac-15f0-4606-9edb-fd9eb722bf04</td>\n",
       "      <td>2023-10-24T07:57:16.726766</td>\n",
       "    </tr>\n",
       "    <tr>\n",
       "      <th>289</th>\n",
       "      <td>added property</td>\n",
       "      <td>{name: test2, type: date} to collection geodb_...</td>\n",
       "      <td>geodb_418dfeac-15f0-4606-9edb-fd9eb722bf04</td>\n",
       "      <td>2023-10-24T07:57:16.803002</td>\n",
       "    </tr>\n",
       "    <tr>\n",
       "      <th>290</th>\n",
       "      <td>dropped property</td>\n",
       "      <td>test1 from collection geodb_418dfeac-15f0-4606...</td>\n",
       "      <td>geodb_418dfeac-15f0-4606-9edb-fd9eb722bf04</td>\n",
       "      <td>2023-10-24T07:57:18.287052</td>\n",
       "    </tr>\n",
       "    <tr>\n",
       "      <th>291</th>\n",
       "      <td>dropped property</td>\n",
       "      <td>test2 from collection geodb_418dfeac-15f0-4606...</td>\n",
       "      <td>geodb_418dfeac-15f0-4606-9edb-fd9eb722bf04</td>\n",
       "      <td>2023-10-24T07:57:18.359068</td>\n",
       "    </tr>\n",
       "    <tr>\n",
       "      <th>292</th>\n",
       "      <td>dropped</td>\n",
       "      <td>collection geodb_418dfeac-15f0-4606-9edb-fd9eb...</td>\n",
       "      <td>geodb_418dfeac-15f0-4606-9edb-fd9eb722bf04</td>\n",
       "      <td>2023-10-24T07:57:18.795075</td>\n",
       "    </tr>\n",
       "  </tbody>\n",
       "</table>\n",
       "<p>293 rows × 4 columns</p>\n",
       "</div>"
      ],
      "text/plain": [
       "           event_type                                            message  \\\n",
       "0          added rows  9827 rows inserted into geodb_418dfeac-15f0-46...   \n",
       "1        dropped rows  from collection geodb_418dfeac-15f0-4606-9edb-...   \n",
       "2      added property  {name: test_prop, type: integer} to collection...   \n",
       "3    dropped property  test_prop from collection geodb_418dfeac-15f0-...   \n",
       "4      added property  {name: test1, type: integer} to collection geo...   \n",
       "..                ...                                                ...   \n",
       "288    added property  {name: test1, type: integer} to collection geo...   \n",
       "289    added property  {name: test2, type: date} to collection geodb_...   \n",
       "290  dropped property  test1 from collection geodb_418dfeac-15f0-4606...   \n",
       "291  dropped property  test2 from collection geodb_418dfeac-15f0-4606...   \n",
       "292           dropped  collection geodb_418dfeac-15f0-4606-9edb-fd9eb...   \n",
       "\n",
       "                                       username                        date  \n",
       "0    geodb_418dfeac-15f0-4606-9edb-fd9eb722bf04  2022-09-27T08:56:03.607382  \n",
       "1    geodb_418dfeac-15f0-4606-9edb-fd9eb722bf04  2022-09-27T08:56:04.126797  \n",
       "2    geodb_418dfeac-15f0-4606-9edb-fd9eb722bf04  2022-09-27T08:56:06.172545  \n",
       "3    geodb_418dfeac-15f0-4606-9edb-fd9eb722bf04  2022-09-27T08:56:09.069597  \n",
       "4    geodb_418dfeac-15f0-4606-9edb-fd9eb722bf04  2022-09-27T08:56:09.337766  \n",
       "..                                          ...                         ...  \n",
       "288  geodb_418dfeac-15f0-4606-9edb-fd9eb722bf04  2023-10-24T07:57:16.726766  \n",
       "289  geodb_418dfeac-15f0-4606-9edb-fd9eb722bf04  2023-10-24T07:57:16.803002  \n",
       "290  geodb_418dfeac-15f0-4606-9edb-fd9eb722bf04  2023-10-24T07:57:18.287052  \n",
       "291  geodb_418dfeac-15f0-4606-9edb-fd9eb722bf04  2023-10-24T07:57:18.359068  \n",
       "292  geodb_418dfeac-15f0-4606-9edb-fd9eb722bf04  2023-10-24T07:57:18.795075  \n",
       "\n",
       "[293 rows x 4 columns]"
      ]
     },
     "execution_count": 32,
     "metadata": {},
     "output_type": "execute_result"
    }
   ],
   "source": [
    "geodb.get_event_log('land_use')"
   ]
  },
  {
   "cell_type": "code",
   "execution_count": null,
   "id": "93e62f0f",
   "metadata": {
    "papermill": {
     "duration": 0.039046,
     "end_time": "2023-10-24T07:57:19.163351",
     "exception": false,
     "start_time": "2023-10-24T07:57:19.124305",
     "status": "completed"
    },
    "tags": []
   },
   "outputs": [],
   "source": []
  }
 ],
 "metadata": {
  "kernelspec": {
   "display_name": "Python [conda env:edc-default-2022.07-00]",
   "language": "python",
   "name": "conda-env-users-edc-2023.10-01-py"
  },
  "language_info": {
   "codemirror_mode": {
    "name": "ipython",
    "version": 3
   },
   "file_extension": ".py",
   "mimetype": "text/x-python",
   "name": "python",
   "nbconvert_exporter": "python",
   "pygments_lexer": "ipython3",
   "version": "3.11.6"
  },
  "papermill": {
   "duration": 16.610473,
   "end_time": "2023-10-24T07:57:19.431276",
   "environment_variables": {},
   "exception": null,
   "input_path": "extra/notebook-verification-run/r20231024t075538/EDC_GeoDB_1_manage-datasets_v11.ipynb",
   "output_path": "/home/jovyan/extra/job-output/2023-10-24/r20231024t075538/EDC_GeoDB_1_manage-datasets_v11.ipynb",
   "parameters": {},
   "start_time": "2023-10-24T07:57:02.820803",
   "version": "2.1.2"
  },
  "properties": {
   "authors": [],
   "description": "Euro Data Cube GeoDB: Manage Datasets",
   "id": "geodb-manage",
   "license": null,
   "name": "GeoDB: Manage Datasets",
   "requirements": [
    "eurodatacube-geodb",
    "eoxhub",
    "eoxhub"
   ],
   "tags": [
    "Getting started",
    "GeoDB"
   ],
   "tosAgree": true,
   "type": "Jupyter Notebook",
   "version": "0.2.2"
  },
  "pycharm": {
   "stem_cell": {
    "cell_type": "raw",
    "metadata": {
     "collapsed": false
    },
    "source": []
   }
  }
 },
 "nbformat": 4,
 "nbformat_minor": 5
}
