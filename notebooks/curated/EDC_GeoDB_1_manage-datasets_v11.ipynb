{
 "cells": [
  {
   "cell_type": "markdown",
   "id": "926ede7a",
   "metadata": {
    "tags": [
     "papermill-error-cell-tag"
    ]
   },
   "source": [
    "<span style=\"color:red; font-family:Helvetica Neue, Helvetica, Arial, sans-serif; font-size:2em;\">An Exception was encountered at '<a href=\"#papermill-error-cell\">In [6]</a>'.</span>"
   ]
  },
  {
   "cell_type": "code",
   "execution_count": 1,
   "id": "1bc2e278",
   "metadata": {
    "execution": {
     "iopub.execute_input": "2022-09-24T12:16:57.038940Z",
     "iopub.status.busy": "2022-09-24T12:16:57.038400Z",
     "iopub.status.idle": "2022-09-24T12:17:32.915547Z",
     "shell.execute_reply": "2022-09-24T12:17:32.914772Z"
    },
    "papermill": {
     "duration": 35.892194,
     "end_time": "2022-09-24T12:17:32.922472",
     "exception": false,
     "start_time": "2022-09-24T12:16:57.030278",
     "status": "completed"
    },
    "tags": []
   },
   "outputs": [
    {
     "data": {
      "text/markdown": [
       "\n",
       "***Notebook Title***  \n",
       "GeoDB: Manage Datasets\n",
       "\n",
       "***Notebook Description***  \n",
       "Euro Data Cube GeoDB: Manage Datasets\n",
       "\n",
       "\n",
       "***Notebook Dependencies***  \n",
       "This notebook requires an active subscription to:\n",
       "* EDC GeoDB\n",
       "* EDC EOxHub Workspace\n",
       "* EDC EOxHub Workspace\n"
      ],
      "text/plain": [
       "<IPython.core.display.Markdown object>"
      ]
     },
     "metadata": {},
     "output_type": "display_data"
    }
   ],
   "source": [
    "from edc import print_info \n",
    "print_info(\"geodb-manage\")"
   ]
  },
  {
   "cell_type": "code",
   "execution_count": 2,
   "id": "f1fdb01e",
   "metadata": {
    "execution": {
     "iopub.execute_input": "2022-09-24T12:17:32.938080Z",
     "iopub.status.busy": "2022-09-24T12:17:32.937745Z",
     "iopub.status.idle": "2022-09-24T12:17:32.946723Z",
     "shell.execute_reply": "2022-09-24T12:17:32.945941Z"
    },
    "papermill": {
     "duration": 0.019927,
     "end_time": "2022-09-24T12:17:32.948378",
     "exception": false,
     "start_time": "2022-09-24T12:17:32.928451",
     "status": "completed"
    },
    "tags": []
   },
   "outputs": [
    {
     "data": {
      "text/html": [
       "<script type=\"text/javascript\">\n",
       "        function toggle(id) {\n",
       "            el = document.getElementById(id);\n",
       "            el.style.display = el.style.display === \"none\" ? \"block\" : \"none\";\n",
       "        }\n",
       "    </script>"
      ],
      "text/plain": [
       "<IPython.core.display.HTML object>"
      ]
     },
     "metadata": {},
     "output_type": "display_data"
    },
    {
     "data": {
      "text/html": [
       "This notebook is compatible with this base image version (user-2022.07-00)."
      ],
      "text/plain": [
       "<IPython.core.display.HTML object>"
      ]
     },
     "metadata": {},
     "output_type": "display_data"
    },
    {
     "data": {
      "text/markdown": [
       "\n",
       "\n",
       "---------\n",
       "\n",
       "The following environment variables are available:\n",
       "\n",
       "* `GEODB_AUTH_AUD`, `GEODB_AUTH_CLIENT_ID`, `GEODB_AUTH_DOMAIN`, `GEODB_API_SERVER_URL`, `GEODB_AUTH_CLIENT_SECRET`, `GEODB_API_SERVER_PORT`\n"
      ],
      "text/plain": [
       "<IPython.core.display.Markdown object>"
      ]
     },
     "metadata": {},
     "output_type": "display_data"
    }
   ],
   "source": [
    "from edc import check_compatibility\n",
    "check_compatibility(\"user-2022.07-00\", dependencies=[\"GEODB\"])"
   ]
  },
  {
   "cell_type": "markdown",
   "id": "4589dc0f",
   "metadata": {
    "papermill": {
     "duration": 0.005907,
     "end_time": "2022-09-24T12:17:32.959788",
     "exception": false,
     "start_time": "2022-09-24T12:17:32.953881",
     "status": "completed"
    },
    "tags": []
   },
   "source": [
    "## Manage Collections in your GeoDB\n",
    "\n"
   ]
  },
  {
   "cell_type": "markdown",
   "id": "b700341c",
   "metadata": {
    "papermill": {
     "duration": 0.008486,
     "end_time": "2022-09-24T12:17:32.973934",
     "exception": false,
     "start_time": "2022-09-24T12:17:32.965448",
     "status": "completed"
    },
    "tags": []
   },
   "source": [
    "### Connecting to the GeoDB"
   ]
  },
  {
   "cell_type": "code",
   "execution_count": 3,
   "id": "baa87b49",
   "metadata": {
    "execution": {
     "iopub.execute_input": "2022-09-24T12:17:32.989647Z",
     "iopub.status.busy": "2022-09-24T12:17:32.989070Z",
     "iopub.status.idle": "2022-09-24T12:17:33.518564Z",
     "shell.execute_reply": "2022-09-24T12:17:33.517952Z"
    },
    "papermill": {
     "duration": 0.540996,
     "end_time": "2022-09-24T12:17:33.520477",
     "exception": false,
     "start_time": "2022-09-24T12:17:32.979481",
     "status": "completed"
    },
    "tags": []
   },
   "outputs": [],
   "source": [
    "from xcube_geodb.core.geodb import GeoDBClient\n",
    "from xcube_geodb.version import version"
   ]
  },
  {
   "cell_type": "code",
   "execution_count": 4,
   "id": "9baa3452",
   "metadata": {
    "execution": {
     "iopub.execute_input": "2022-09-24T12:17:33.533778Z",
     "iopub.status.busy": "2022-09-24T12:17:33.533358Z",
     "iopub.status.idle": "2022-09-24T12:17:33.537168Z",
     "shell.execute_reply": "2022-09-24T12:17:33.536586Z"
    },
    "papermill": {
     "duration": 0.012027,
     "end_time": "2022-09-24T12:17:33.538632",
     "exception": false,
     "start_time": "2022-09-24T12:17:33.526605",
     "status": "completed"
    },
    "tags": []
   },
   "outputs": [],
   "source": [
    "geodb = GeoDBClient()"
   ]
  },
  {
   "cell_type": "code",
   "execution_count": 5,
   "id": "a780e3fb",
   "metadata": {
    "execution": {
     "iopub.execute_input": "2022-09-24T12:17:33.551696Z",
     "iopub.status.busy": "2022-09-24T12:17:33.551413Z",
     "iopub.status.idle": "2022-09-24T12:17:34.228353Z",
     "shell.execute_reply": "2022-09-24T12:17:34.227427Z"
    },
    "papermill": {
     "duration": 0.685104,
     "end_time": "2022-09-24T12:17:34.230168",
     "exception": false,
     "start_time": "2022-09-24T12:17:33.545064",
     "status": "completed"
    },
    "tags": []
   },
   "outputs": [
    {
     "data": {
      "text/plain": [
       "'geodb_418dfeac-15f0-4606-9edb-fd9eb722bf04'"
      ]
     },
     "execution_count": 5,
     "metadata": {},
     "output_type": "execute_result"
    }
   ],
   "source": [
    "# If you are logged in, this will tell you what account the system currently uses\n",
    "geodb.whoami"
   ]
  },
  {
   "cell_type": "markdown",
   "id": "5988fdc1-a7d5-44ef-bf43-47272919b63e",
   "metadata": {
    "papermill": {
     "duration": 0.006407,
     "end_time": "2022-09-24T12:17:34.243711",
     "exception": false,
     "start_time": "2022-09-24T12:17:34.237304",
     "status": "completed"
    },
    "tags": []
   },
   "source": [
    "Checkout the deployed SQL version:"
   ]
  },
  {
   "cell_type": "markdown",
   "id": "1828408f",
   "metadata": {
    "tags": [
     "papermill-error-cell-tag"
    ]
   },
   "source": [
    "<span id=\"papermill-error-cell\" style=\"color:red; font-family:Helvetica Neue, Helvetica, Arial, sans-serif; font-size:2em;\">Execution using papermill encountered an exception here and stopped:</span>"
   ]
  },
  {
   "cell_type": "code",
   "execution_count": 6,
   "id": "5fd0efdb-7b23-4e2d-957a-3328bd06d27d",
   "metadata": {
    "execution": {
     "iopub.execute_input": "2022-09-24T12:17:34.257744Z",
     "iopub.status.busy": "2022-09-24T12:17:34.257286Z",
     "iopub.status.idle": "2022-09-24T12:17:34.724810Z",
     "shell.execute_reply": "2022-09-24T12:17:34.723543Z"
    },
    "papermill": {
     "duration": 0.476579,
     "end_time": "2022-09-24T12:17:34.726331",
     "exception": true,
     "start_time": "2022-09-24T12:17:34.249752",
     "status": "failed"
    },
    "tags": []
   },
   "outputs": [
    {
     "ename": "AttributeError",
     "evalue": "'GeoDBClient' object has no attribute 'get_geodb_sql_version'",
     "output_type": "error",
     "traceback": [
      "\u001b[0;31m---------------------------------------------------------------------------\u001b[0m",
      "\u001b[0;31mAttributeError\u001b[0m                            Traceback (most recent call last)",
      "Input \u001b[0;32mIn [6]\u001b[0m, in \u001b[0;36m<cell line: 1>\u001b[0;34m()\u001b[0m\n\u001b[0;32m----> 1\u001b[0m \u001b[43mgeodb\u001b[49m\u001b[38;5;241;43m.\u001b[39;49m\u001b[43mget_geodb_sql_version\u001b[49m()\n",
      "\u001b[0;31mAttributeError\u001b[0m: 'GeoDBClient' object has no attribute 'get_geodb_sql_version'"
     ]
    }
   ],
   "source": [
    "geodb.get_geodb_sql_version()"
   ]
  },
  {
   "cell_type": "markdown",
   "id": "795e0288-7e79-49e9-b994-a1e7e690dfd1",
   "metadata": {
    "papermill": {
     "duration": null,
     "end_time": null,
     "exception": null,
     "start_time": null,
     "status": "pending"
    },
    "tags": []
   },
   "source": [
    "Checkout the version of xcube geoDB software in your workspace: "
   ]
  },
  {
   "cell_type": "code",
   "execution_count": null,
   "id": "5f8f9ce4-676b-4dcb-8f5d-57a97d6fd91f",
   "metadata": {
    "papermill": {
     "duration": null,
     "end_time": null,
     "exception": null,
     "start_time": null,
     "status": "pending"
    },
    "tags": []
   },
   "outputs": [],
   "source": [
    "version"
   ]
  },
  {
   "cell_type": "code",
   "execution_count": null,
   "id": "f0b2b694",
   "metadata": {
    "papermill": {
     "duration": null,
     "end_time": null,
     "exception": null,
     "start_time": null,
     "status": "pending"
    },
    "tags": []
   },
   "outputs": [],
   "source": [
    "# Lets get already existing collections\n",
    "ds = geodb.get_my_collections()\n",
    "ds\n"
   ]
  },
  {
   "cell_type": "markdown",
   "id": "66a44538",
   "metadata": {
    "papermill": {
     "duration": null,
     "end_time": null,
     "exception": null,
     "start_time": null,
     "status": "pending"
    },
    "tags": []
   },
   "source": [
    "### Creating collections\n",
    "\n",
    "Once the connection has been established you will be able to create a collection. The collection will contain standard properties (fields) plus custom properties\n",
    "which you can add at your disgretion. Please use [PostGreSQL type definitions](https://www.postgresql.org/docs/11/datatype.html). We recommend stying simple with\n",
    "your data types as we have not tested every single type."
   ]
  },
  {
   "cell_type": "code",
   "execution_count": null,
   "id": "16370ff2",
   "metadata": {
    "papermill": {
     "duration": null,
     "end_time": null,
     "exception": null,
     "start_time": null,
     "status": "pending"
    },
    "tags": []
   },
   "outputs": [],
   "source": [
    "ds = geodb.get_my_collections()\n",
    "\n",
    "if ds[(ds.database == geodb.whoami) & (ds.collection == 'land_use')].collection.count() == 0:\n",
    "    # Have a look at fiona feature schema\n",
    "    collections = {\n",
    "            \"land_use\": \n",
    "            {\n",
    "                \"crs\": 3794,\n",
    "                \"properties\": \n",
    "                {\n",
    "                    \"RABA_PID\": \"float\", \n",
    "                    \"RABA_ID\": \"float\", \n",
    "                    \"D_OD\": \"date\"\n",
    "                }\n",
    "            }\n",
    "        }\n",
    "\n",
    "\n",
    "    geodb.create_collections(collections)\n",
    "    import geopandas\n",
    "    import os\n",
    "    gdf = geopandas.read_file(os.path.expanduser(\"~/.shared/notebooks/eurodatacube/notebooks/curated/data/sample/land_use.shp\"))\n",
    "    geodb.insert_into_collection('land_use', gdf)"
   ]
  },
  {
   "cell_type": "code",
   "execution_count": null,
   "id": "b916f81a",
   "metadata": {
    "papermill": {
     "duration": null,
     "end_time": null,
     "exception": null,
     "start_time": null,
     "status": "pending"
    },
    "tags": []
   },
   "outputs": [],
   "source": [
    "ds = geodb.get_my_collections(database=geodb.whoami)\n",
    "ds"
   ]
  },
  {
   "cell_type": "markdown",
   "id": "9301faaf-d8c7-4b5c-abc8-774883c58334",
   "metadata": {
    "papermill": {
     "duration": null,
     "end_time": null,
     "exception": null,
     "start_time": null,
     "status": "pending"
    },
    "tags": []
   },
   "source": [
    "See the chanhes made to the collection: "
   ]
  },
  {
   "cell_type": "code",
   "execution_count": null,
   "id": "ea80bd80-9e5b-4c9c-a707-095539e3df38",
   "metadata": {
    "papermill": {
     "duration": null,
     "end_time": null,
     "exception": null,
     "start_time": null,
     "status": "pending"
    },
    "tags": []
   },
   "outputs": [],
   "source": [
    "geodb.get_event_log('land_use')"
   ]
  },
  {
   "cell_type": "markdown",
   "id": "454c4c30",
   "metadata": {
    "papermill": {
     "duration": null,
     "end_time": null,
     "exception": null,
     "start_time": null,
     "status": "pending"
    },
    "tags": []
   },
   "source": [
    "### Loading data into a dataset\n",
    "\n",
    "Once the table has been created, you can load data into the dataset. The example below loads a shapefile. The attributes of the shapefile correspond to the dataset's properties.\n"
   ]
  },
  {
   "cell_type": "code",
   "execution_count": null,
   "id": "35ddeb73",
   "metadata": {
    "execution": {
     "iopub.execute_input": "2022-06-30T10:02:05.233768Z",
     "iopub.status.busy": "2022-06-30T10:02:05.232516Z",
     "iopub.status.idle": "2022-06-30T10:02:08.164225Z",
     "shell.execute_reply": "2022-06-30T10:02:08.157740Z"
    },
    "papermill": {
     "duration": null,
     "end_time": null,
     "exception": null,
     "start_time": null,
     "status": "pending"
    },
    "tags": []
   },
   "outputs": [],
   "source": [
    "import geopandas\n",
    "import os\n",
    "gdf = geopandas.read_file(os.path.expanduser(\"~/.shared/notebooks/eurodatacube/notebooks/curated/data/sample/land_use.shp\"))\n",
    "gdf"
   ]
  },
  {
   "cell_type": "code",
   "execution_count": null,
   "id": "582ac5f4",
   "metadata": {
    "execution": {
     "iopub.execute_input": "2022-06-30T10:02:08.243371Z",
     "iopub.status.busy": "2022-06-30T10:02:08.241430Z",
     "iopub.status.idle": "2022-06-30T10:02:11.928138Z",
     "shell.execute_reply": "2022-06-30T10:02:11.924203Z"
    },
    "papermill": {
     "duration": null,
     "end_time": null,
     "exception": null,
     "start_time": null,
     "status": "pending"
    },
    "tags": []
   },
   "outputs": [],
   "source": [
    "geodb.insert_into_collection('land_use', gdf)"
   ]
  },
  {
   "cell_type": "markdown",
   "id": "8ac520f3-9c73-4382-8023-19bdb438a92e",
   "metadata": {
    "papermill": {
     "duration": null,
     "end_time": null,
     "exception": null,
     "start_time": null,
     "status": "pending"
    },
    "tags": []
   },
   "source": [
    "See the chanhes made to the collection: "
   ]
  },
  {
   "cell_type": "code",
   "execution_count": null,
   "id": "bd589d78-ba2f-410b-b13d-6bc81a6b6654",
   "metadata": {
    "papermill": {
     "duration": null,
     "end_time": null,
     "exception": null,
     "start_time": null,
     "status": "pending"
    },
    "tags": []
   },
   "outputs": [],
   "source": [
    "geodb.get_event_log('land_use')"
   ]
  },
  {
   "cell_type": "code",
   "execution_count": null,
   "id": "20127563",
   "metadata": {
    "execution": {
     "iopub.execute_input": "2022-06-30T10:02:11.964226Z",
     "iopub.status.busy": "2022-06-30T10:02:11.963605Z",
     "iopub.status.idle": "2022-06-30T10:02:12.340915Z",
     "shell.execute_reply": "2022-06-30T10:02:12.333152Z"
    },
    "papermill": {
     "duration": null,
     "end_time": null,
     "exception": null,
     "start_time": null,
     "status": "pending"
    },
    "tags": []
   },
   "outputs": [],
   "source": [
    "geodb.get_collection('land_use', query=\"raba_id=eq.7000\")"
   ]
  },
  {
   "cell_type": "markdown",
   "id": "1ae225fe",
   "metadata": {
    "papermill": {
     "duration": null,
     "end_time": null,
     "exception": null,
     "start_time": null,
     "status": "pending"
    },
    "tags": []
   },
   "source": [
    "### Delete from a Collection"
   ]
  },
  {
   "cell_type": "code",
   "execution_count": null,
   "id": "ba7e7a44",
   "metadata": {
    "execution": {
     "iopub.execute_input": "2022-06-30T10:02:12.439631Z",
     "iopub.status.busy": "2022-06-30T10:02:12.436399Z",
     "iopub.status.idle": "2022-06-30T10:02:12.607463Z",
     "shell.execute_reply": "2022-06-30T10:02:12.606433Z"
    },
    "papermill": {
     "duration": null,
     "end_time": null,
     "exception": null,
     "start_time": null,
     "status": "pending"
    },
    "tags": []
   },
   "outputs": [],
   "source": [
    "geodb.delete_from_collection('land_use', query=\"raba_id=eq.7000\")"
   ]
  },
  {
   "cell_type": "markdown",
   "id": "399b905f-96d6-426b-b61f-cd154b1916b0",
   "metadata": {
    "papermill": {
     "duration": null,
     "end_time": null,
     "exception": null,
     "start_time": null,
     "status": "pending"
    },
    "tags": []
   },
   "source": [
    "See the chanhes made to the collection: "
   ]
  },
  {
   "cell_type": "code",
   "execution_count": null,
   "id": "ed86d65d-e400-4b4a-9e7a-c752bdc73747",
   "metadata": {
    "papermill": {
     "duration": null,
     "end_time": null,
     "exception": null,
     "start_time": null,
     "status": "pending"
    },
    "tags": []
   },
   "outputs": [],
   "source": [
    "geodb.get_event_log('land_use')"
   ]
  },
  {
   "cell_type": "code",
   "execution_count": null,
   "id": "b99b8942",
   "metadata": {
    "execution": {
     "iopub.execute_input": "2022-06-30T10:02:12.631659Z",
     "iopub.status.busy": "2022-06-30T10:02:12.631014Z",
     "iopub.status.idle": "2022-06-30T10:02:12.856808Z",
     "shell.execute_reply": "2022-06-30T10:02:12.855490Z"
    },
    "papermill": {
     "duration": null,
     "end_time": null,
     "exception": null,
     "start_time": null,
     "status": "pending"
    },
    "tags": []
   },
   "outputs": [],
   "source": [
    "geodb.get_collection('land_use', query=\"raba_id=eq.7000\")"
   ]
  },
  {
   "cell_type": "markdown",
   "id": "1545a8f9",
   "metadata": {
    "papermill": {
     "duration": null,
     "end_time": null,
     "exception": null,
     "start_time": null,
     "status": "pending"
    },
    "tags": []
   },
   "source": [
    "### Updating a Collection"
   ]
  },
  {
   "cell_type": "code",
   "execution_count": null,
   "id": "292b9530",
   "metadata": {
    "execution": {
     "iopub.execute_input": "2022-06-30T10:02:12.942311Z",
     "iopub.status.busy": "2022-06-30T10:02:12.941856Z",
     "iopub.status.idle": "2022-06-30T10:02:13.531926Z",
     "shell.execute_reply": "2022-06-30T10:02:13.527449Z"
    },
    "papermill": {
     "duration": null,
     "end_time": null,
     "exception": null,
     "start_time": null,
     "status": "pending"
    },
    "tags": []
   },
   "outputs": [],
   "source": [
    "geodb.get_collection('land_use', query=\"raba_id=eq.1300\")"
   ]
  },
  {
   "cell_type": "code",
   "execution_count": null,
   "id": "8cfc5ba7",
   "metadata": {
    "execution": {
     "iopub.execute_input": "2022-06-30T10:02:13.555165Z",
     "iopub.status.busy": "2022-06-30T10:02:13.554651Z",
     "iopub.status.idle": "2022-06-30T10:02:13.953521Z",
     "shell.execute_reply": "2022-06-30T10:02:13.952470Z"
    },
    "papermill": {
     "duration": null,
     "end_time": null,
     "exception": null,
     "start_time": null,
     "status": "pending"
    },
    "tags": []
   },
   "outputs": [],
   "source": [
    "geodb.update_collection('land_use', query=\"raba_id=eq.1300\", values={'d_od': '2000-01-01'})"
   ]
  },
  {
   "cell_type": "code",
   "execution_count": null,
   "id": "b32cc2e6",
   "metadata": {
    "execution": {
     "iopub.execute_input": "2022-06-30T10:02:14.012686Z",
     "iopub.status.busy": "2022-06-30T10:02:14.012340Z",
     "iopub.status.idle": "2022-06-30T10:02:14.544387Z",
     "shell.execute_reply": "2022-06-30T10:02:14.540973Z"
    },
    "papermill": {
     "duration": null,
     "end_time": null,
     "exception": null,
     "start_time": null,
     "status": "pending"
    },
    "tags": []
   },
   "outputs": [],
   "source": [
    "geodb.get_collection('land_use', query=\"raba_id=eq.1300\")"
   ]
  },
  {
   "cell_type": "markdown",
   "id": "3a0f67d3",
   "metadata": {
    "papermill": {
     "duration": null,
     "end_time": null,
     "exception": null,
     "start_time": null,
     "status": "pending"
    },
    "tags": []
   },
   "source": [
    "### Managing Properties of a Collection"
   ]
  },
  {
   "cell_type": "code",
   "execution_count": null,
   "id": "c864fbd2",
   "metadata": {
    "execution": {
     "iopub.execute_input": "2022-06-30T10:02:14.622942Z",
     "iopub.status.busy": "2022-06-30T10:02:14.622610Z",
     "iopub.status.idle": "2022-06-30T10:02:14.818382Z",
     "shell.execute_reply": "2022-06-30T10:02:14.817247Z"
    },
    "papermill": {
     "duration": null,
     "end_time": null,
     "exception": null,
     "start_time": null,
     "status": "pending"
    },
    "tags": []
   },
   "outputs": [],
   "source": [
    "geodb.get_my_collections()"
   ]
  },
  {
   "cell_type": "code",
   "execution_count": null,
   "id": "8d33a09b",
   "metadata": {
    "execution": {
     "iopub.execute_input": "2022-06-30T10:02:14.848721Z",
     "iopub.status.busy": "2022-06-30T10:02:14.846943Z",
     "iopub.status.idle": "2022-06-30T10:02:14.974987Z",
     "shell.execute_reply": "2022-06-30T10:02:14.969123Z"
    },
    "papermill": {
     "duration": null,
     "end_time": null,
     "exception": null,
     "start_time": null,
     "status": "pending"
    },
    "tags": []
   },
   "outputs": [],
   "source": [
    "geodb.get_properties('land_use')"
   ]
  },
  {
   "cell_type": "code",
   "execution_count": null,
   "id": "41bf8173",
   "metadata": {
    "execution": {
     "iopub.execute_input": "2022-06-30T10:02:15.027676Z",
     "iopub.status.busy": "2022-06-30T10:02:15.027064Z",
     "iopub.status.idle": "2022-06-30T10:02:15.147290Z",
     "shell.execute_reply": "2022-06-30T10:02:15.145033Z"
    },
    "papermill": {
     "duration": null,
     "end_time": null,
     "exception": null,
     "start_time": null,
     "status": "pending"
    },
    "tags": []
   },
   "outputs": [],
   "source": [
    "geodb.add_property('land_use', \"test_prop\", 'integer')"
   ]
  },
  {
   "cell_type": "code",
   "execution_count": null,
   "id": "f95a80bc",
   "metadata": {
    "execution": {
     "iopub.execute_input": "2022-06-30T10:02:15.216908Z",
     "iopub.status.busy": "2022-06-30T10:02:15.216560Z",
     "iopub.status.idle": "2022-06-30T10:02:15.334854Z",
     "shell.execute_reply": "2022-06-30T10:02:15.333866Z"
    },
    "papermill": {
     "duration": null,
     "end_time": null,
     "exception": null,
     "start_time": null,
     "status": "pending"
    },
    "tags": []
   },
   "outputs": [],
   "source": [
    "geodb.get_properties('land_use')"
   ]
  },
  {
   "cell_type": "code",
   "execution_count": null,
   "id": "489c6225",
   "metadata": {
    "execution": {
     "iopub.execute_input": "2022-06-30T10:02:15.368087Z",
     "iopub.status.busy": "2022-06-30T10:02:15.365532Z",
     "iopub.status.idle": "2022-06-30T10:02:18.367801Z",
     "shell.execute_reply": "2022-06-30T10:02:18.364156Z"
    },
    "papermill": {
     "duration": null,
     "end_time": null,
     "exception": null,
     "start_time": null,
     "status": "pending"
    },
    "tags": []
   },
   "outputs": [],
   "source": [
    "geodb.drop_property('land_use', 'test_prop')"
   ]
  },
  {
   "cell_type": "code",
   "execution_count": null,
   "id": "29ea7224",
   "metadata": {
    "execution": {
     "iopub.execute_input": "2022-06-30T10:02:18.397863Z",
     "iopub.status.busy": "2022-06-30T10:02:18.397358Z",
     "iopub.status.idle": "2022-06-30T10:02:18.498241Z",
     "shell.execute_reply": "2022-06-30T10:02:18.497518Z"
    },
    "papermill": {
     "duration": null,
     "end_time": null,
     "exception": null,
     "start_time": null,
     "status": "pending"
    },
    "tags": []
   },
   "outputs": [],
   "source": [
    "geodb.get_properties('land_use')"
   ]
  },
  {
   "cell_type": "code",
   "execution_count": null,
   "id": "5ac6b44c",
   "metadata": {
    "execution": {
     "iopub.execute_input": "2022-06-30T10:02:18.561810Z",
     "iopub.status.busy": "2022-06-30T10:02:18.561251Z",
     "iopub.status.idle": "2022-06-30T10:02:18.655191Z",
     "shell.execute_reply": "2022-06-30T10:02:18.653760Z"
    },
    "papermill": {
     "duration": null,
     "end_time": null,
     "exception": null,
     "start_time": null,
     "status": "pending"
    },
    "tags": []
   },
   "outputs": [],
   "source": [
    "geodb.add_properties('land_use', properties={'test1': 'integer', 'test2': 'date'})"
   ]
  },
  {
   "cell_type": "code",
   "execution_count": null,
   "id": "ff58d13e",
   "metadata": {
    "execution": {
     "iopub.execute_input": "2022-06-30T10:02:18.706316Z",
     "iopub.status.busy": "2022-06-30T10:02:18.705949Z",
     "iopub.status.idle": "2022-06-30T10:02:18.818522Z",
     "shell.execute_reply": "2022-06-30T10:02:18.815528Z"
    },
    "papermill": {
     "duration": null,
     "end_time": null,
     "exception": null,
     "start_time": null,
     "status": "pending"
    },
    "tags": []
   },
   "outputs": [],
   "source": [
    "geodb.get_properties('land_use')"
   ]
  },
  {
   "cell_type": "code",
   "execution_count": null,
   "id": "d78c16c0",
   "metadata": {
    "execution": {
     "iopub.execute_input": "2022-06-30T10:02:18.848097Z",
     "iopub.status.busy": "2022-06-30T10:02:18.847755Z",
     "iopub.status.idle": "2022-06-30T10:02:21.852271Z",
     "shell.execute_reply": "2022-06-30T10:02:21.848264Z"
    },
    "papermill": {
     "duration": null,
     "end_time": null,
     "exception": null,
     "start_time": null,
     "status": "pending"
    },
    "tags": []
   },
   "outputs": [],
   "source": [
    "geodb.drop_properties('land_use', properties=['test1', 'test2'])"
   ]
  },
  {
   "cell_type": "code",
   "execution_count": null,
   "id": "f065e1cd",
   "metadata": {
    "execution": {
     "iopub.execute_input": "2022-06-30T10:02:21.893197Z",
     "iopub.status.busy": "2022-06-30T10:02:21.892822Z",
     "iopub.status.idle": "2022-06-30T10:02:21.986045Z",
     "shell.execute_reply": "2022-06-30T10:02:21.985044Z"
    },
    "papermill": {
     "duration": null,
     "end_time": null,
     "exception": null,
     "start_time": null,
     "status": "pending"
    },
    "tags": []
   },
   "outputs": [],
   "source": [
    "geodb.get_properties('land_use')"
   ]
  },
  {
   "cell_type": "code",
   "execution_count": null,
   "id": "12bba166",
   "metadata": {
    "execution": {
     "iopub.execute_input": "2022-06-30T10:02:22.039301Z",
     "iopub.status.busy": "2022-06-30T10:02:22.038441Z",
     "iopub.status.idle": "2022-06-30T10:02:22.138273Z",
     "shell.execute_reply": "2022-06-30T10:02:22.134615Z"
    },
    "papermill": {
     "duration": null,
     "end_time": null,
     "exception": null,
     "start_time": null,
     "status": "pending"
    },
    "tags": []
   },
   "outputs": [],
   "source": [
    "geodb.drop_collection('land_use')"
   ]
  },
  {
   "cell_type": "markdown",
   "id": "4526a1cc-af7d-47f7-9f80-8662cbf3e33f",
   "metadata": {
    "papermill": {
     "duration": null,
     "end_time": null,
     "exception": null,
     "start_time": null,
     "status": "pending"
    },
    "tags": []
   },
   "source": [
    "See the chanhes made to the collection: "
   ]
  },
  {
   "cell_type": "code",
   "execution_count": null,
   "id": "138cac02-fb5b-4f97-b14e-1e656864c10d",
   "metadata": {
    "papermill": {
     "duration": null,
     "end_time": null,
     "exception": null,
     "start_time": null,
     "status": "pending"
    },
    "tags": []
   },
   "outputs": [],
   "source": [
    "geodb.get_event_log('land_use')"
   ]
  },
  {
   "cell_type": "code",
   "execution_count": null,
   "id": "93e62f0f",
   "metadata": {
    "papermill": {
     "duration": null,
     "end_time": null,
     "exception": null,
     "start_time": null,
     "status": "pending"
    },
    "tags": []
   },
   "outputs": [],
   "source": []
  }
 ],
 "metadata": {
  "kernelspec": {
   "display_name": "Python [conda env:edc-default-2022.07-00]",
   "language": "python",
   "name": "conda-env-edc-default-2022.07-00-py"
  },
  "language_info": {
   "codemirror_mode": {
    "name": "ipython",
    "version": 3
   },
   "file_extension": ".py",
   "mimetype": "text/x-python",
   "name": "python",
   "nbconvert_exporter": "python",
   "pygments_lexer": "ipython3",
   "version": "3.9.13"
  },
  "papermill": {
   "duration": 39.398492,
   "end_time": "2022-09-24T12:17:35.149443",
   "environment_variables": {},
   "exception": true,
   "input_path": "/tmp/tmpt3pqk3fv",
   "output_path": "/tmp/notebook_output.ipynb",
   "parameters": {},
   "start_time": "2022-09-24T12:16:55.750951",
   "version": "2.1.2"
  },
  "properties": {
   "authors": [],
   "description": "Euro Data Cube GeoDB: Manage Datasets",
   "id": "geodb-manage",
   "license": null,
   "name": "GeoDB: Manage Datasets",
   "requirements": [
    "eurodatacube-geodb",
    "eoxhub",
    "eoxhub"
   ],
   "tags": [
    "Getting started",
    "GeoDB"
   ],
   "tosAgree": true,
   "type": "Jupyter Notebook",
   "version": "0.2.2"
  },
  "pycharm": {
   "stem_cell": {
    "cell_type": "raw",
    "metadata": {
     "collapsed": false
    },
    "source": []
   }
  }
 },
 "nbformat": 4,
 "nbformat_minor": 5
}