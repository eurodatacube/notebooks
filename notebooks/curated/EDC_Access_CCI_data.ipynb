{
 "cells": [
  {
   "cell_type": "code",
   "execution_count": 1,
   "id": "630f7607",
   "metadata": {
    "execution": {
     "iopub.execute_input": "2023-07-31T10:06:19.584438Z",
     "iopub.status.busy": "2023-07-31T10:06:19.584111Z",
     "iopub.status.idle": "2023-07-31T10:06:19.829598Z",
     "shell.execute_reply": "2023-07-31T10:06:19.828669Z"
    },
    "papermill": {
     "duration": 0.320862,
     "end_time": "2023-07-31T10:06:19.831306",
     "exception": false,
     "start_time": "2023-07-31T10:06:19.510444",
     "status": "completed"
    },
    "tags": []
   },
   "outputs": [
    {
     "data": {
      "text/html": [
       "<script type=\"text/javascript\">\n",
       "        function toggle(id) {\n",
       "            el = document.getElementById(id);\n",
       "            el.style.display = el.style.display === \"none\" ? \"block\" : \"none\";\n",
       "        }\n",
       "    </script>"
      ],
      "text/plain": [
       "<IPython.core.display.HTML object>"
      ]
     },
     "metadata": {},
     "output_type": "display_data"
    },
    {
     "data": {
      "text/html": [
       "This notebook is compatible with this base image version (user-2023.07-01)."
      ],
      "text/plain": [
       "<IPython.core.display.HTML object>"
      ]
     },
     "metadata": {},
     "output_type": "display_data"
    }
   ],
   "source": [
    "from edc import check_compatibility\n",
    "check_compatibility(\"user-2023.07-01\", dependencies=[])"
   ]
  },
  {
   "cell_type": "markdown",
   "id": "efaaf032",
   "metadata": {
    "papermill": {
     "duration": 0.124,
     "end_time": "2023-07-31T10:06:20.090264",
     "exception": false,
     "start_time": "2023-07-31T10:06:19.966264",
     "status": "completed"
    },
    "tags": []
   },
   "source": [
    "## Access CCI data with xcube\n",
    " \n",
    "\n",
    "This notebook provides a walk-through demonstrating how to use xcube and the xcube store for the [Open Data Portal](https://climate.esa.int/en/odp/#/dashboard) of the [ESA Climate Change Initiative](https://climate.esa.int/en/esa-climate/esa-cci/) (CCI) to read and explore CCI data. "
   ]
  },
  {
   "cell_type": "code",
   "execution_count": 2,
   "id": "6ea634d5",
   "metadata": {
    "execution": {
     "iopub.execute_input": "2023-07-31T10:06:20.296718Z",
     "iopub.status.busy": "2023-07-31T10:06:20.296405Z",
     "iopub.status.idle": "2023-07-31T10:06:26.527399Z",
     "shell.execute_reply": "2023-07-31T10:06:26.526806Z"
    },
    "papermill": {
     "duration": 6.360594,
     "end_time": "2023-07-31T10:06:26.529086",
     "exception": false,
     "start_time": "2023-07-31T10:06:20.168492",
     "status": "completed"
    },
    "tags": []
   },
   "outputs": [],
   "source": [
    "# mandatory imports\n",
    "from xcube.core.store import find_data_store_extensions\n",
    "from xcube.core.store import get_data_store_params_schema\n",
    "from xcube.core.store import new_data_store\n",
    "\n",
    "# Utilities for notebook visualization\n",
    "import shapely.geometry\n",
    "from IPython.display import JSON\n",
    "import matplotlib.pyplot as plt\n",
    "\n",
    "%matplotlib inline\n",
    "plt.rcParams[\"figure.figsize\"] = 16,8"
   ]
  },
  {
   "cell_type": "markdown",
   "id": "0ed0bf08",
   "metadata": {
    "papermill": {
     "duration": 0.142099,
     "end_time": "2023-07-31T10:06:26.759806",
     "exception": false,
     "start_time": "2023-07-31T10:06:26.617707",
     "status": "completed"
    },
    "tags": []
   },
   "source": [
    "xcube store are self-descritptive and may be queried for detailed information, e.g., which data store parameters are available for `cciodp`? (We'll take a look at the `ccizarr` data store later.)"
   ]
  },
  {
   "cell_type": "code",
   "execution_count": 3,
   "id": "c266d5a6",
   "metadata": {
    "execution": {
     "iopub.execute_input": "2023-07-31T10:06:27.013961Z",
     "iopub.status.busy": "2023-07-31T10:06:27.013271Z",
     "iopub.status.idle": "2023-07-31T10:06:27.475680Z",
     "shell.execute_reply": "2023-07-31T10:06:27.474951Z"
    },
    "papermill": {
     "duration": 0.564222,
     "end_time": "2023-07-31T10:06:27.477103",
     "exception": false,
     "start_time": "2023-07-31T10:06:26.912881",
     "status": "completed"
    },
    "tags": []
   },
   "outputs": [
    {
     "data": {
      "application/json": {
       "additionalProperties": false,
       "properties": {
        "enable_warnings": {
         "default": false,
         "title": "Whether to output warnings",
         "type": "boolean"
        },
        "endpoint_description_url": {
         "default": "https://archive.opensearch.ceda.ac.uk/opensearch/description.xml?parentIdentifier=cci",
         "type": "string"
        },
        "endpoint_url": {
         "default": "https://archive.opensearch.ceda.ac.uk/opensearch/request",
         "type": "string"
        },
        "num_retries": {
         "default": 200,
         "minimum": 0,
         "title": "Number of retries when requesting data fails",
         "type": "integer"
        },
        "retry_backoff_base": {
         "default": 1.001,
         "exclusiveMinimum": 1,
         "type": "number"
        },
        "retry_backoff_max": {
         "default": 40,
         "minimum": 0,
         "type": "integer"
        },
        "user_agent": {
         "default": null,
         "type": "string"
        }
       },
       "type": "object"
      },
      "text/plain": [
       "<xcube.util.jsonschema.JsonObjectSchema at 0x7fb36fae1050>"
      ]
     },
     "execution_count": 3,
     "metadata": {},
     "output_type": "execute_result"
    }
   ],
   "source": [
    "get_data_store_params_schema('cciodp')"
   ]
  },
  {
   "cell_type": "markdown",
   "id": "27d0aed4",
   "metadata": {
    "papermill": {
     "duration": 0.094297,
     "end_time": "2023-07-31T10:06:27.647855",
     "exception": false,
     "start_time": "2023-07-31T10:06:27.553558",
     "status": "completed"
    },
    "tags": []
   },
   "source": [
    "Instantiate a new cci store: "
   ]
  },
  {
   "cell_type": "code",
   "execution_count": 4,
   "id": "6a129830",
   "metadata": {
    "execution": {
     "iopub.execute_input": "2023-07-31T10:06:27.863264Z",
     "iopub.status.busy": "2023-07-31T10:06:27.862478Z",
     "iopub.status.idle": "2023-07-31T10:06:27.877387Z",
     "shell.execute_reply": "2023-07-31T10:06:27.876757Z"
    },
    "papermill": {
     "duration": 0.131824,
     "end_time": "2023-07-31T10:06:27.878777",
     "exception": false,
     "start_time": "2023-07-31T10:06:27.746953",
     "status": "completed"
    },
    "tags": []
   },
   "outputs": [
    {
     "data": {
      "text/plain": [
       "<xcube_cci.dataaccess.CciOdpDataStore at 0x7fb36fb7e010>"
      ]
     },
     "execution_count": 4,
     "metadata": {},
     "output_type": "execute_result"
    }
   ],
   "source": [
    "store = new_data_store('cciodp')\n",
    "store"
   ]
  },
  {
   "cell_type": "markdown",
   "id": "889eac21",
   "metadata": {
    "papermill": {
     "duration": 0.08549,
     "end_time": "2023-07-31T10:06:28.118604",
     "exception": false,
     "start_time": "2023-07-31T10:06:28.033114",
     "status": "completed"
    },
    "tags": []
   },
   "source": [
    "Which datasets are provided? (the list may contain both gridded and vector datasets):"
   ]
  },
  {
   "cell_type": "markdown",
   "id": "9f738c8f",
   "metadata": {
    "papermill": {
     "duration": 0.064777,
     "end_time": "2023-07-31T10:06:28.269552",
     "exception": false,
     "start_time": "2023-07-31T10:06:28.204775",
     "status": "completed"
    },
    "tags": []
   },
   "source": [
    "The store can be queried for a specific dataset: "
   ]
  },
  {
   "cell_type": "code",
   "execution_count": 5,
   "id": "97f48031",
   "metadata": {
    "execution": {
     "iopub.execute_input": "2023-07-31T10:06:28.443740Z",
     "iopub.status.busy": "2023-07-31T10:06:28.443419Z",
     "iopub.status.idle": "2023-07-31T10:06:28.889746Z",
     "shell.execute_reply": "2023-07-31T10:06:28.888992Z"
    },
    "papermill": {
     "duration": 0.505787,
     "end_time": "2023-07-31T10:06:28.891455",
     "exception": false,
     "start_time": "2023-07-31T10:06:28.385668",
     "status": "completed"
    },
    "tags": []
   },
   "outputs": [
    {
     "data": {
      "text/plain": [
       "True"
      ]
     },
     "execution_count": 5,
     "metadata": {},
     "output_type": "execute_result"
    }
   ],
   "source": [
    "store.has_data('esacci.OC.5-days.L3S.CHLOR_A.multi-sensor.multi-platform.MERGED.3-1.geographic')"
   ]
  },
  {
   "cell_type": "markdown",
   "id": "0ae577eb",
   "metadata": {
    "papermill": {
     "duration": 0.070412,
     "end_time": "2023-07-31T10:06:29.045905",
     "exception": false,
     "start_time": "2023-07-31T10:06:28.975493",
     "status": "completed"
    },
    "tags": []
   },
   "source": [
    "In many cases, however, a search for specific crieteria will precede a query. How can this be done?"
   ]
  },
  {
   "cell_type": "code",
   "execution_count": 6,
   "id": "f287a599",
   "metadata": {
    "execution": {
     "iopub.execute_input": "2023-07-31T10:06:29.327290Z",
     "iopub.status.busy": "2023-07-31T10:06:29.326944Z",
     "iopub.status.idle": "2023-07-31T10:06:29.624172Z",
     "shell.execute_reply": "2023-07-31T10:06:29.623624Z"
    },
    "papermill": {
     "duration": 0.433683,
     "end_time": "2023-07-31T10:06:29.625703",
     "exception": false,
     "start_time": "2023-07-31T10:06:29.192020",
     "status": "completed"
    },
    "tags": []
   },
   "outputs": [
    {
     "data": {
      "application/json": {
       "additionalProperties": false,
       "properties": {
        "bbox": {
         "items": [
          {
           "type": "number"
          },
          {
           "type": "number"
          },
          {
           "type": "number"
          },
          {
           "type": "number"
          }
         ],
         "type": "array"
        },
        "cci_attrs": {
         "additionalProperties": false,
         "properties": {
          "data_type": {
           "enum": [
            "GLL",
            "BA",
            "CO2",
            "MSLAMPH",
            "PFT",
            "CH4",
            "MSLA",
            "IOP",
            "K_490",
            "WB",
            "GMB",
            "SEC",
            "IV",
            "AOD",
            "GTD",
            "SSMV",
            "SWE",
            "SICONC",
            "NP",
            "TC",
            "CLD_PRODUCTS",
            "AER_PRODUCTS",
            "PFR",
            "SSS",
            "SCFV",
            "MSLTR",
            "SSTdepth",
            "SSTskin",
            "LCCS",
            "LP",
            "RRS",
            "MSL",
            "SWH",
            "LK_PRODUCTS",
            "ALT",
            "UNSPECIFIED",
            "AAI",
            "AEX",
            "LST",
            "CFL",
            "SLA",
            "SCFG",
            "TCWV",
            "SSMS",
            "AGB",
            "CHLOR_A",
            "OC_PRODUCTS",
            "SITHICK"
           ],
           "type": "string"
          },
          "ecv": {
           "enum": [
            "AEROSOL",
            "BIOMASS",
            "FIRE",
            "CLOUD",
            "LAKES",
            "LC",
            "ICESHEETS",
            "SEAICE",
            "SEASURFACESALINITY",
            "SOILMOISTURE",
            "GHG",
            "SST",
            "SEASTATE",
            "PERMAFROST",
            "SEALEVEL",
            "WATERVAPOUR",
            "LST",
            "OZONE",
            "SNOW",
            "OC"
           ],
           "type": "string"
          },
          "frequency": {
           "enum": [
            "unspecified",
            "month",
            "15 days",
            "climatology",
            "13 years",
            "year",
            "satellite-orbit-frequency",
            "5 days",
            "3-hours",
            "10 days",
            "8 days",
            "day"
           ],
           "type": "string"
          },
          "institute": {
           "enum": [
            "Alfred-Wegener-Institut Helmholtz-Zentrum für Polar- und Meeresforschung",
            "Plymouth Marine Laboratory",
            "ENVironmental Earth Observation IT GmbH",
            "multi-institution",
            "DTU Space",
            "Freie Universitaet Berlin",
            "Vienna University of Technology",
            "Deutscher Wetterdienst",
            "Netherlands Institute for Space Research",
            "Technische Universität Dresden",
            "Institute of Environmental Physics",
            "Rutherford Appleton Laboratory",
            "Universite Catholique de Louvain",
            "University of Alcala",
            "University of Leicester",
            "Norwegian Meteorological Institute",
            "University of Bremen",
            "Belgian Institute for Space Aeronomy",
            "Deutsches Zentrum fuer Luft- und Raumfahrt",
            "Royal Netherlands Meteorological Institute",
            "The Geological Survey of Denmark and Greenland"
           ],
           "type": "string"
          },
          "platform": {
           "enum": [
            "ERS-2",
            "GFO",
            "Sentinel-1A",
            "OCO-2",
            "NOAA-12",
            "Nimbus-5",
            "NOAA-11",
            "NOAA-14",
            "Topex-Poseidon",
            "ODIN",
            "Envisat",
            "GOSAT-2",
            "ERS-1",
            "NOAA-7",
            "multi-platform",
            "Aqua",
            "Unspecified",
            "NOAA-19",
            "NOAA-9",
            "Terra",
            "Sentinel-2A",
            "NOAA-15",
            "Sentinel-3B",
            "ALOS",
            "RadarSat-2",
            "GRACE",
            "CryoSat-2",
            "Jason-1",
            "Jason-2",
            "Sentinel-3A",
            "SARAL",
            "GOSAT",
            "NOAA-17",
            "NOAA-16",
            "Metop-A",
            "NOAA-18"
           ],
           "type": "string"
          },
          "processing_level": {
           "enum": [
            "L3C",
            "L4",
            "L1",
            "L3",
            "L2",
            "L3U",
            "IND",
            "L3S",
            "Unspecified",
            "L2P"
           ],
           "type": "string"
          },
          "product_string": {
           "enum": [
            "SH50KMEASE2",
            "SCIAMACHY_ENVISAT",
            "GMPE",
            "AATSR-ENVISAT-ENS_DAILY",
            "MODIS_TERRA",
            "SU",
            "MODISA",
            "AVHRR09_G",
            "ATSR1",
            "AVHRRMTA_G",
            "ATSR2-ENVISAT-ENS_ANNUAL",
            "Map",
            "RE_SSMI_12-5kmEASE2-SH",
            "AVHRR11_G",
            "SLSTRB",
            "ACTIVE",
            "SRPR",
            "OCPR",
            "AVHRR15_G",
            "MODISLST_CRYOGRID",
            "FOCAL",
            "COMBINED_ADJUSTED",
            "AATSR-ENVISAT-ENS_MONTHLY",
            "NH25KMEASE2",
            "ATSR2",
            "AERGOM",
            "AATSR-ENVISAT-ENS",
            "OCFP",
            "AVHRR12_G",
            "MSI",
            "S_AUSTRALIA",
            "ATSR2-ENVISAT-ENS_DAILY",
            "MIPAS_ENVISAT",
            "OSIRIS_ODIN",
            "AVHRR-AM",
            "IRMGP",
            "IMAP",
            "GOMOS_ENVISAT",
            "MERIS_ENVISAT",
            "MULTI_1M",
            "TCWV_land_05deg",
            "AVHRR16_G",
            "AMSR_50kmEASE2",
            "ATSR_2",
            "CHANGE",
            "SLSTRA",
            "NE_ATL",
            "MERIS-AATSR",
            "AVHRR19_G",
            "ADV",
            "COMBINED",
            "BESD",
            "SE_ASIA",
            "OSTIA",
            "MERGED_OI_7DAY_RUNNINGMEAN_DAILY_25km",
            "AVHRR07_G",
            "AMSR_25kmEASE2",
            "ATSR2-AATSR",
            "AVHRR_MERGED",
            "VARIOUS",
            "WAFRICA",
            "MED_SEA",
            "SRFP",
            "MODIS_AQUA",
            "AATSR-ENVISAT-ENS_ANNUAL",
            "UNSPECIFIED",
            "ATSR2-ENVISAT-ENS_MONTHLY",
            "MSAAI",
            "IRCDR",
            "SMR_ODIN",
            "AATSR",
            "WFMD",
            "MERGED",
            "NIMBUS5_ESMR-EASE2_SH",
            "ATSR_3",
            "ATSR2-ENVISAT-ENS",
            "SSMI_SSMIS",
            "MERGED_OI_Monthly_CENTRED_15Day_25km",
            "AVHRR17_G",
            "MODIST",
            "RE_SSMI_12-5kmEASE2-NH",
            "ORAC",
            "SH",
            "N_INDIAN",
            "AVHRR14_G",
            "MZM",
            "SYN",
            "NH",
            "PASSIVE",
            "NIMBUS5_ESMR-EASE2_NH",
            "AVHRR-PM",
            "AVHRR18_G",
            "TCWV_land_005deg",
            "ERA5_MODISLST_BIASCORRECTED",
            "EMMA"
           ],
           "type": "string"
          },
          "product_version": {
           "enum": [
            "1.00",
            "v4.0",
            "v2.6",
            "2.00",
            "v2.2a",
            "v10",
            "2.31",
            "4.3",
            "5.0",
            "fv0002",
            "v2.2c",
            "1.1",
            "04.01",
            "2.1",
            "3.2",
            "3.21",
            "1.2",
            "1.5",
            "v06.1",
            "1.3",
            "1.0",
            "3.0",
            "04.01.",
            "04.01_seg.",
            "v5.1",
            "v7.0.1",
            "v2.1",
            "v06.2",
            "2.0.8",
            "v7.2",
            "2.2",
            "v02.01.02",
            "v2.0.2",
            "3.1",
            "v05.3",
            "0.1",
            "4.0",
            "v0001",
            "v2.3.8",
            "v2.33",
            "3.00",
            "ch4_v1.2",
            "v7.0",
            "1.7",
            "v2.2b",
            "03.0",
            "v1.0",
            "fv0100",
            "v1.1",
            "v3.0",
            "v1.3",
            "4.2",
            "v07.1",
            "2.0",
            "2.0.7",
            "05.2",
            "1.4",
            "v2.0.0",
            "v2.0"
           ],
           "type": "string"
          },
          "sensor": {
           "enum": [
            "OSIRIS",
            "MODIS",
            "SAR-2000",
            "ESMR-(Nimbus-5)",
            "SMR",
            "PALSAR",
            "Poseidon-3",
            "SCIAMACHY",
            "TANSO-FTS",
            "RA",
            "AVHRR-2",
            "AMI-SAR",
            "ATSR",
            "AVHRR-3",
            "Unspecified",
            "GFO-RA",
            "AltiKa",
            "TANSO-FTS-2",
            "Poseidon-2",
            "SAR-C-(Sentinel-1)",
            "multi-sensor",
            "MIPAS",
            "SAR-(RadarSat-2)",
            "GRACE-instrument",
            "ASAR",
            "RA-2",
            "SIRAL",
            "GOMOS",
            "ATSR-2",
            "SSALT",
            "MSI-(Sentinel-2)",
            "AATSR",
            "OCO",
            "MERIS",
            "SLSTR"
           ],
           "type": "string"
          }
         },
         "type": "object"
        },
        "end_date": {
         "format": "date-time",
         "type": "string"
        },
        "start_date": {
         "format": "date-time",
         "type": "string"
        }
       },
       "type": "object"
      },
      "text/plain": [
       "<xcube.util.jsonschema.JsonObjectSchema at 0x7fb36f72ce10>"
      ]
     },
     "execution_count": 6,
     "metadata": {},
     "output_type": "execute_result"
    }
   ],
   "source": [
    "store.get_search_params_schema()"
   ]
  },
  {
   "cell_type": "markdown",
   "id": "3722be0a",
   "metadata": {
    "papermill": {
     "duration": 0.062693,
     "end_time": "2023-07-31T10:06:29.822099",
     "exception": false,
     "start_time": "2023-07-31T10:06:29.759406",
     "status": "completed"
    },
    "tags": []
   },
   "source": [
    "In this example, a multi-sensor sea surface temperature data (SST) with a daily frequency is searched for. The search results in three items. "
   ]
  },
  {
   "cell_type": "code",
   "execution_count": 7,
   "id": "9ec0f875",
   "metadata": {
    "execution": {
     "iopub.execute_input": "2023-07-31T10:06:30.100075Z",
     "iopub.status.busy": "2023-07-31T10:06:30.099769Z",
     "iopub.status.idle": "2023-07-31T10:06:32.807745Z",
     "shell.execute_reply": "2023-07-31T10:06:32.806986Z"
    },
    "papermill": {
     "duration": 2.907896,
     "end_time": "2023-07-31T10:06:32.810136",
     "exception": false,
     "start_time": "2023-07-31T10:06:29.902240",
     "status": "completed"
    },
    "tags": []
   },
   "outputs": [
    {
     "data": {
      "application/json": [
       {
        "attrs": {
         "abstract": "The ESA Sea Surface Temperature Climate Change Initiative (ESA SST CCI) dataset accurately maps the surface temperature of the global oceans over the period 1991 to 2010, using observations from many satellites. The data provides an independently quantified SST to a quality suitable for climate research.\n\nThe ESA SST CCI Analysis Long Term Product consists of daily, spatially complete fields of sea surface temperature (SST), obtained by combining the orbit data from the AVHRR and ATSR ESA SST CCI Long Term Products, using optimal interpolation to provide SSTs where there were no measurements.  These data cover the period between 09/1991 and 12/2010.\n\nThe Version 1.1  data is an update of the Version 1.0 dataset.\n\nVersion 1.0 of this dataset is cited in: Merchant, C. J., Embury, O., Roberts-Jones, J., Fiedler, E., Bulgin, C. E., Corlett, G. K., Good, S., McLaren, A., Rayner, N., Morak-Bozzo, S. and Donlon, C. (2014), Sea surface temperature datasets for climate applications from Phase 1 of the European Space Agency Climate Change Initiative (SST CCI). Geoscience Data Journal. doi: 10.1002/gdj3.20",
         "catalog_url": "https://catalogue.ceda.ac.uk/uuid/c65ce27928f34ebd92224c451c2a8bed",
         "cci_project": "SST",
         "comment": "WARNING Some applications are unable to properly handle signed byte values. If values are encountered > 127, please subtract 256 from this reported value",
         "data_type": "SSTdepth",
         "ecv": "SST",
         "history": "Created using OSTIA reanalysis system v2.0",
         "institute": "ESACCI_SST",
         "platform_id": "multi-platform",
         "processing_level": "L4",
         "product_string": "OSTIA",
         "product_version": "1-1",
         "project": "Climate Change Initiative - European Space Agency",
         "publication_date": "2015-12-23T14:53:08",
         "references": "http://www.esa-sst-cci.org",
         "sensor_id": "multi-sensor",
         "source": "ATSR<1,2>-ESACCI-L3U-v1.0, AATSR-ESACCI-L3U-v1.0, AVHRR<12,14,15,16,17,18>_G-ESACCI-L2P-v1.0, AVHRRMTA-ESACCI-L2P-v1.0, EUMETSAT_OSI-SAF-ICE-v1.1, EUMETSAT_OSI-SAF-ICE-v2.2",
         "title": "ESA Sea Surface Temperature Climate Change Initiative (ESA SST CCI): Analysis long term product version 1.1",
         "uuid": "c65ce27928f34ebd92224c451c2a8bed"
        },
        "bbox": [
         -180,
         -90,
         180,
         90
        ],
        "coords": {
         "lat": {
          "attrs": {
           "axis": "Y",
           "bounds": "lat_bnds",
           "chunk_sizes": 3600,
           "comment": "",
           "data_type": "float32",
           "dimensions": [
            "lat"
           ],
           "file_chunk_sizes": 3600,
           "file_dimensions": [
            "lat"
           ],
           "fill_value": null,
           "long_name": "Latitude",
           "orig_data_type": "float32",
           "reference_datum": "geographical coordinates, WGS84 projection",
           "shape": [
            3600
           ],
           "size": 3600,
           "standard_name": "latitude",
           "units": "degrees_north",
           "valid_max": 90,
           "valid_min": -90
          },
          "dims": [
           "lat"
          ],
          "dtype": "float32",
          "name": "lat"
         },
         "lat_bnds": {
          "attrs": {
           "chunk_sizes": [
            3600,
            2
           ],
           "comment": "Contains the northern and southern boundaries of the grid cells.",
           "data_type": "float32",
           "dimensions": [
            "lat",
            "bnds"
           ],
           "file_chunk_sizes": [
            3600,
            2
           ],
           "file_dimensions": [
            "lat",
            "bnds"
           ],
           "fill_value": null,
           "long_name": "Latitude cell boundaries",
           "orig_data_type": "float32",
           "reference_datum": "geographical coordinates, WGS84 projection",
           "shape": [
            3600,
            2
           ],
           "size": 7200,
           "units": "degrees_north",
           "valid_max": 90,
           "valid_min": -90
          },
          "dims": [
           "lat",
           "bnds"
          ],
          "dtype": "float32",
          "name": "lat_bnds"
         },
         "lon": {
          "attrs": {
           "axis": "X",
           "bounds": "lon_bnds",
           "chunk_sizes": 7200,
           "comment": "",
           "data_type": "float32",
           "dimensions": [
            "lon"
           ],
           "file_chunk_sizes": 7200,
           "file_dimensions": [
            "lon"
           ],
           "fill_value": null,
           "long_name": "Longitude",
           "orig_data_type": "float32",
           "reference_datum": "geographical coordinates, WGS84 projection",
           "shape": [
            7200
           ],
           "size": 7200,
           "standard_name": "longitude",
           "units": "degrees_east",
           "valid_max": 180,
           "valid_min": -180
          },
          "dims": [
           "lon"
          ],
          "dtype": "float32",
          "name": "lon"
         },
         "lon_bnds": {
          "attrs": {
           "chunk_sizes": [
            7200,
            2
           ],
           "comment": "Contains the eastern and western boundaries of the grid cells.",
           "data_type": "float32",
           "dimensions": [
            "lon",
            "bnds"
           ],
           "file_chunk_sizes": [
            7200,
            2
           ],
           "file_dimensions": [
            "lon",
            "bnds"
           ],
           "fill_value": null,
           "long_name": "Longitude cell boundaries",
           "orig_data_type": "float32",
           "reference_datum": "geographical coordinates, WGS84 projection",
           "shape": [
            7200,
            2
           ],
           "size": 14400,
           "units": "degrees_east",
           "valid_max": 180,
           "valid_min": -180
          },
          "dims": [
           "lon",
           "bnds"
          ],
          "dtype": "float32",
          "name": "lon_bnds"
         },
         "time": {
          "attrs": {
           "axis": "T",
           "bounds": "time_bnds",
           "calendar": "gregorian",
           "chunk_sizes": 1,
           "comment": "",
           "data_type": "int64",
           "dimensions": [
            "time"
           ],
           "file_chunk_sizes": 1,
           "file_dimensions": [
            "time"
           ],
           "fill_value": 9223372036854776000,
           "long_name": "reference time of sst file",
           "orig_data_type": "int32",
           "shape": [
            7062
           ],
           "size": 7062,
           "standard_name": "time",
           "units": "seconds since 1981-01-01 00:00:00"
          },
          "dims": [
           "time"
          ],
          "dtype": "int64",
          "name": "time"
         },
         "time_bnds": {
          "attrs": {
           "calendar": "proleptic_gregorian",
           "standard_name": "time_bnds",
           "units": "seconds since 1970-01-01T00:00:00Z"
          },
          "dims": [
           "time",
           "bnds"
          ],
          "dtype": "int64",
          "name": "time_bnds"
         }
        },
        "crs": "WGS84",
        "data_id": "esacci.SST.day.L4.SSTdepth.multi-sensor.multi-platform.OSTIA.1-1.r1",
        "data_type": "dataset",
        "data_vars": {
         "analysed_sst": {
          "attrs": {
           "add_offset": 273.15,
           "chunk_sizes": [
            1,
            900,
            1800
           ],
           "comment": "SST analysis produced for ESA SST CCI project using the OSTIA system in reanalysis mode.",
           "data_type": "int16",
           "depth": "20 cm",
           "dimensions": [
            "time",
            "lat",
            "lon"
           ],
           "file_chunk_sizes": [
            1,
            900,
            1800
           ],
           "file_dimensions": [
            "time",
            "lat",
            "lon"
           ],
           "fill_value": -32768,
           "long_name": "analysed sea surface temperature",
           "orig_data_type": "int16",
           "scale_factor": 0.01,
           "shape": [
            7062,
            3600,
            7200
           ],
           "size": 183047040000,
           "source": "ATSR<1,2>-ESACCI-L3U-v1.0, AATSR-ESACCI-L3U-v1.0, AVHRR<12,14,15,16,17,18>_G-ESACCI-L2P-v1.0, AVHRRMTA-ESACCI-L2P-v1.0",
           "standard_name": "sea_water_temperature",
           "units": "kelvin",
           "valid_max": 4500,
           "valid_min": -300
          },
          "dims": [
           "time",
           "lat",
           "lon"
          ],
          "dtype": "int16",
          "name": "analysed_sst"
         },
         "analysis_error": {
          "attrs": {
           "add_offset": 0,
           "chunk_sizes": [
            1,
            900,
            1800
           ],
           "comment": "SST analysis standard error produced for ESA SST CCI project using the OSTIA system in reanalysis mode.",
           "data_type": "int16",
           "dimensions": [
            "time",
            "lat",
            "lon"
           ],
           "file_chunk_sizes": [
            1,
            900,
            1800
           ],
           "file_dimensions": [
            "time",
            "lat",
            "lon"
           ],
           "fill_value": -32768,
           "long_name": "estimated error standard deviation of analysed_sst",
           "orig_data_type": "int16",
           "scale_factor": 0.01,
           "shape": [
            7062,
            3600,
            7200
           ],
           "size": 183047040000,
           "standard_name": "sea_water_temperature standard_error",
           "units": "kelvin",
           "valid_max": 32767,
           "valid_min": 0
          },
          "dims": [
           "time",
           "lat",
           "lon"
          ],
          "dtype": "int16",
          "name": "analysis_error"
         },
         "mask": {
          "attrs": {
           "_Unsigned": "false",
           "chunk_sizes": [
            1,
            1200,
            2400
           ],
           "comment": "b0: 1=grid cell is open sea water, b1: 1=grid cell is land, b2: 1=grid cell is lake surface, b3: 1=grid cell is sea ice, b4-b7: reserved for future grid mask data",
           "data_type": "uint8",
           "dimensions": [
            "time",
            "lat",
            "lon"
           ],
           "file_chunk_sizes": [
            1,
            1200,
            2400
           ],
           "file_dimensions": [
            "time",
            "lat",
            "lon"
           ],
           "fill_value": -128,
           "flag_masks": [
            1,
            2,
            4,
            8,
            16
           ],
           "flag_meanings": "water land optional_lake_surface sea_ice optional_river_surface",
           "long_name": "sea/land/lake/ice field composite mask",
           "orig_data_type": "uint8",
           "shape": [
            7062,
            3600,
            7200
           ],
           "size": 183047040000,
           "source": "NAVOCEANO_landmask_v1.0, EUMETSAT_OSI-SAF_icemask, ARCLake_lakemask",
           "valid_max": 31,
           "valid_min": 1
          },
          "dims": [
           "time",
           "lat",
           "lon"
          ],
          "dtype": "uint8",
          "name": "mask"
         },
         "sea_ice_fraction": {
          "attrs": {
           "_Unsigned": "false",
           "add_offset": 0,
           "chunk_sizes": [
            1,
            1200,
            2400
           ],
           "comment": "Sea ice fraction field regridded from EUMETSAT OSI-SAF product.",
           "data_type": "uint8",
           "dimensions": [
            "time",
            "lat",
            "lon"
           ],
           "file_chunk_sizes": [
            1,
            1200,
            2400
           ],
           "file_dimensions": [
            "time",
            "lat",
            "lon"
           ],
           "fill_value": -128,
           "long_name": "sea ice area fraction",
           "orig_data_type": "uint8",
           "scale_factor": 0.01,
           "shape": [
            7062,
            3600,
            7200
           ],
           "size": 183047040000,
           "source": "EUMETSAT_OSI-SAF-ICE-v1.1, EUMETSAT_OSI-SAF-ICE-v2.2",
           "standard_name": "sea_ice_area_fraction",
           "units": "1",
           "valid_max": 100,
           "valid_min": 0
          },
          "dims": [
           "time",
           "lat",
           "lon"
          ],
          "dtype": "uint8",
          "name": "sea_ice_fraction"
         },
         "sea_ice_fraction_error": {
          "attrs": {
           "_Unsigned": "false",
           "add_offset": 0,
           "chunk_sizes": [
            1,
            1200,
            2400
           ],
           "comment": "Estimated error standard deviation of sea ice fraction",
           "data_type": "uint8",
           "dimensions": [
            "time",
            "lat",
            "lon"
           ],
           "file_chunk_sizes": [
            1,
            1200,
            2400
           ],
           "file_dimensions": [
            "time",
            "lat",
            "lon"
           ],
           "fill_value": -128,
           "long_name": "sea ice area fraction error estimate",
           "orig_data_type": "uint8",
           "scale_factor": 0.01,
           "shape": [
            7062,
            3600,
            7200
           ],
           "size": 183047040000,
           "source": "EUMETSAT_OSI-SAF-ICE-v1.1",
           "standard_name": "sea_ice_area_fraction standard_error",
           "units": "1",
           "valid_max": 100,
           "valid_min": 0
          },
          "dims": [
           "time",
           "lat",
           "lon"
          ],
          "dtype": "uint8",
          "name": "sea_ice_fraction_error"
         }
        },
        "dims": {
         "bnds": 2,
         "lat": 3600,
         "lon": 7200,
         "time": 7062
        },
        "open_params_schema": {
         "additionalProperties": false,
         "properties": {
          "bbox": {
           "items": [
            {
             "maximum": 180,
             "minimum": -180,
             "type": "number"
            },
            {
             "maximum": 90,
             "minimum": -90,
             "type": "number"
            },
            {
             "maximum": 180,
             "minimum": -180,
             "type": "number"
            },
            {
             "maximum": 90,
             "minimum": -90,
             "type": "number"
            }
           ],
           "type": "array"
          },
          "normalize_data": {
           "default": true,
           "type": "boolean"
          },
          "time_range": {
           "items": [
            {
             "format": "date",
             "maxDate": "2010-12-31",
             "minDate": "1991-08-31",
             "type": "string"
            },
            {
             "format": "date",
             "maxDate": "2010-12-31",
             "minDate": "1991-08-31",
             "type": "string"
            }
           ],
           "type": "array"
          },
          "variable_names": {
           "items": {
            "enum": [
             "analysed_sst",
             "analysis_error",
             "sea_ice_fraction",
             "sea_ice_fraction_error",
             "mask"
            ],
            "type": "string"
           },
           "type": "array"
          }
         },
         "type": "object"
        },
        "spatial_res": 0.05,
        "time_period": "1D",
        "time_range": [
         "1991-08-31",
         "2010-12-31"
        ]
       },
       {
        "attrs": {
         "abstract": "This v2.1 SST_cci Level 4 Analysis Climate Data Record (CDR) provides a globally-complete daily analysis of sea surface temperature (SST) on a 0.05 degree regular latitude - longitude grid.   It combines data from both the Advanced Very High Resolution Radiometer (AVHRR ) and Along Track Scanning Radiometer (ATSR) SST_cci Climate Data Records, using a data assimilation method to provide SSTs where there were no measurements.  These data cover the period between 09/1981 and 12/2016.\n\nThe dataset has been produced as part of the European Space Agency (ESA) Climate Change Initiative Sea Surface Temperature project(ESA SST_cci). The data products from SST_cci accurately map the surface temperature of the global oceans over the period 1981 to 2016 using observations from many satellites. The data provide independently quantified SSTs to a quality suitable for climate research.\n\nThe CDR Version 2.1 product supercedes the CDR Version 2.0 product.    Data are made freely and openly available under a Creative Commons License by Attribution (CC By 4.0) https://creativecommons.org/licenses/by/4.0/\n\nWhen citing this dataset please also cite the associated data paper: Merchant, C.J., Embury, O., Bulgin, C.E., Block T., Corlett, G.K., Fiedler, E., Good, S.A., Mittaz, J., Rayner, N.A., Berry, D., Eastwood, S., Taylor, M., Tsushima, Y., Waterfall, A., Wilson, R., Donlon, C. Satellite-based time-series of sea-surface temperature since 1981 for climate applications, Scientific Data 6:223 (2019). http://doi.org/10.1038/s41597-019-0236-x",
         "catalog_url": "https://catalogue.ceda.ac.uk/uuid/62c0f97b1eac4e0197a674870afe1ee6",
         "cci_project": "SST",
         "comment": "These data were produced at the Met Office and STFC CEMS as part of the ESA SST CCI project. WARNING Some applications are unable to properly handle signed byte values. If values are encountered > 127, please subtract 256 from this reported value",
         "data_type": "SSTdepth",
         "ecv": "SST",
         "history": "Created using OSTIA reanalysis system v3.0",
         "institute": "ESACCI_SST",
         "platform_id": "multi-platform",
         "processing_level": "L4",
         "product_string": "OSTIA",
         "product_version": "2-1",
         "project": "Climate Change Initiative - European Space Agency",
         "publication_date": "2019-08-02T19:53:02",
         "references": "http://www.esa-sst-cci.org",
         "sensor_id": "multi-sensor",
         "source": "ATSR<1,2>-ESACCI-L3U-v2.0, AATSR-ESACCI-L3U-v2.0, AVHRR<07,09,11,12,14,15,16,17,18,19>_G-ESACCI-L3U-v2.0, AVHRRMTA_G-ESACCI-L3U-v2.0, EUMETSAT_OSI-SAF-ICE-OSI-450-v2.0, EUMETSAT_OSI-SAF-ICE-OSI-430-v1.2",
         "title": "ESA Sea Surface Temperature Climate Change Initiative (SST_cci): Level 4 Analysis Climate Data Record, version 2.1",
         "uuid": "62c0f97b1eac4e0197a674870afe1ee6"
        },
        "bbox": [
         -180,
         -90,
         180,
         90
        ],
        "coords": {
         "lat": {
          "attrs": {
           "axis": "Y",
           "bounds": "lat_bnds",
           "chunk_sizes": 3600,
           "comment": " Latitude geographical coordinates,WGS84 projection",
           "data_type": "float32",
           "dimensions": [
            "lat"
           ],
           "file_chunk_sizes": 3600,
           "file_dimensions": [
            "lat"
           ],
           "fill_value": null,
           "long_name": "Latitude",
           "orig_data_type": "float32",
           "reference_datum": "geographical coordinates, WGS84 projection",
           "shape": [
            3600
           ],
           "size": 3600,
           "standard_name": "latitude",
           "units": "degrees_north",
           "valid_max": 90,
           "valid_min": -90
          },
          "dims": [
           "lat"
          ],
          "dtype": "float32",
          "name": "lat"
         },
         "lat_bnds": {
          "attrs": {
           "chunk_sizes": [
            3600,
            2
           ],
           "comment": "Contains the northern and southern boundaries of the grid cells.",
           "data_type": "float32",
           "dimensions": [
            "lat",
            "bnds"
           ],
           "file_chunk_sizes": [
            3600,
            2
           ],
           "file_dimensions": [
            "lat",
            "bnds"
           ],
           "fill_value": null,
           "long_name": "Latitude cell boundaries",
           "orig_data_type": "float32",
           "reference_datum": "geographical coordinates, WGS84 projection",
           "shape": [
            3600,
            2
           ],
           "size": 7200,
           "units": "degrees_north",
           "valid_max": 90,
           "valid_min": -90
          },
          "dims": [
           "lat",
           "bnds"
          ],
          "dtype": "float32",
          "name": "lat_bnds"
         },
         "lon": {
          "attrs": {
           "axis": "X",
           "bounds": "lon_bnds",
           "chunk_sizes": 7200,
           "comment": " Longitude geographical coordinates,WGS84 projection",
           "data_type": "float32",
           "dimensions": [
            "lon"
           ],
           "file_chunk_sizes": 7200,
           "file_dimensions": [
            "lon"
           ],
           "fill_value": null,
           "long_name": "Longitude",
           "orig_data_type": "float32",
           "reference_datum": "geographical coordinates, WGS84 projection",
           "shape": [
            7200
           ],
           "size": 7200,
           "standard_name": "longitude",
           "units": "degrees_east",
           "valid_max": 180,
           "valid_min": -180
          },
          "dims": [
           "lon"
          ],
          "dtype": "float32",
          "name": "lon"
         },
         "lon_bnds": {
          "attrs": {
           "chunk_sizes": [
            7200,
            2
           ],
           "comment": "Contains the eastern and western boundaries of the grid cells.",
           "data_type": "float32",
           "dimensions": [
            "lon",
            "bnds"
           ],
           "file_chunk_sizes": [
            7200,
            2
           ],
           "file_dimensions": [
            "lon",
            "bnds"
           ],
           "fill_value": null,
           "long_name": "Longitude cell boundaries",
           "orig_data_type": "float32",
           "reference_datum": "geographical coordinates, WGS84 projection",
           "shape": [
            7200,
            2
           ],
           "size": 14400,
           "units": "degrees_east",
           "valid_max": 180,
           "valid_min": -180
          },
          "dims": [
           "lon",
           "bnds"
          ],
          "dtype": "float32",
          "name": "lon_bnds"
         },
         "time": {
          "attrs": {
           "axis": "T",
           "bounds": "time_bnds",
           "calendar": "gregorian",
           "chunk_sizes": 1,
           "comment": "",
           "data_type": "int64",
           "dimensions": [
            "time"
           ],
           "file_chunk_sizes": 1,
           "file_dimensions": [
            "time"
           ],
           "fill_value": 9223372036854776000,
           "long_name": "reference time of sst field",
           "orig_data_type": "int32",
           "shape": [
            12906
           ],
           "size": 12906,
           "standard_name": "time",
           "units": "seconds since 1981-01-01 00:00:00"
          },
          "dims": [
           "time"
          ],
          "dtype": "int64",
          "name": "time"
         },
         "time_bnds": {
          "attrs": {
           "calendar": "proleptic_gregorian",
           "standard_name": "time_bnds",
           "units": "seconds since 1970-01-01T00:00:00Z"
          },
          "dims": [
           "time",
           "bnds"
          ],
          "dtype": "int64",
          "name": "time_bnds"
         }
        },
        "crs": "WGS84",
        "data_id": "esacci.SST.day.L4.SSTdepth.multi-sensor.multi-platform.OSTIA.2-1.anomaly",
        "data_type": "dataset",
        "data_vars": {
         "analysed_sst_anomaly": {
          "attrs": {
           "add_offset": 0,
           "chunk_sizes": [
            1,
            1200,
            2400
           ],
           "data_type": "int16",
           "depth": "20 cm",
           "dimensions": [
            "time",
            "lat",
            "lon"
           ],
           "file_chunk_sizes": [
            1,
            1200,
            2400
           ],
           "file_dimensions": [
            "time",
            "lat",
            "lon"
           ],
           "fill_value": -32768,
           "long_name": "analysed sea surface temperature anomaly",
           "orig_data_type": "int16",
           "scale_factor": 0.01,
           "shape": [
            12906,
            3600,
            7200
           ],
           "size": 334523520000,
           "source": "ATSR<1,2>-ESACCI-L3U-v2.0, AATSR-ESACCI-L3U-v2.0, AVHRR<07,09,11,12,14,15,16,17,18,19>_G-ESACCI-L3U-v2.0, AVHRRMTA_G-ESACCI-L3U-v2.0",
           "standard_name": "sea_water_temperature_anomaly",
           "units": "kelvin",
           "valid_max": 4500,
           "valid_min": -4500
          },
          "dims": [
           "time",
           "lat",
           "lon"
          ],
          "dtype": "int16",
          "name": "analysed_sst_anomaly"
         },
         "analysed_sst_uncertainty": {
          "attrs": {
           "add_offset": 0,
           "chunk_sizes": [
            1,
            1200,
            2400
           ],
           "data_type": "int16",
           "dimensions": [
            "time",
            "lat",
            "lon"
           ],
           "file_chunk_sizes": [
            1,
            1200,
            2400
           ],
           "file_dimensions": [
            "time",
            "lat",
            "lon"
           ],
           "fill_value": -32768,
           "long_name": "estimated error standard deviation of analysed_sst",
           "orig_data_type": "int16",
           "scale_factor": 0.01,
           "shape": [
            12906,
            3600,
            7200
           ],
           "size": 334523520000,
           "standard_name": "sea_water_temperature standard_error",
           "units": "kelvin",
           "valid_max": 32767,
           "valid_min": 0
          },
          "dims": [
           "time",
           "lat",
           "lon"
          ],
          "dtype": "int16",
          "name": "analysed_sst_uncertainty"
         },
         "mask": {
          "attrs": {
           "_Unsigned": "false",
           "chunk_sizes": [
            1,
            1800,
            3600
           ],
           "comment": "b0: 1=grid cell is open sea water b1: 1=grid cell is land b2: 1=grid cell is lake surface b3: 1=grid cell is sea ice b4-b7: reserved for future grid mask data",
           "data_type": "uint8",
           "dimensions": [
            "time",
            "lat",
            "lon"
           ],
           "file_chunk_sizes": [
            1,
            1800,
            3600
           ],
           "file_dimensions": [
            "time",
            "lat",
            "lon"
           ],
           "fill_value": -128,
           "flag_masks": [
            1,
            2,
            4,
            8,
            16
           ],
           "flag_meanings": "water land optional_lake_surface sea_ice optional_river_surface",
           "long_name": "sea/land/lake/ice field composite mask",
           "orig_data_type": "uint8",
           "shape": [
            12906,
            3600,
            7200
           ],
           "size": 334523520000,
           "source": "NAVOCEANO_landmask_v1.0 EUMETSAT_OSI-SAF_icemask ARCLake_lakemask",
           "valid_max": 31,
           "valid_min": 1
          },
          "dims": [
           "time",
           "lat",
           "lon"
          ],
          "dtype": "uint8",
          "name": "mask"
         },
         "sea_ice_fraction": {
          "attrs": {
           "_Unsigned": "false",
           "add_offset": 0,
           "chunk_sizes": [
            1,
            1800,
            3600
           ],
           "comment": " Sea ice area fraction",
           "data_type": "uint8",
           "dimensions": [
            "time",
            "lat",
            "lon"
           ],
           "file_chunk_sizes": [
            1,
            1800,
            3600
           ],
           "file_dimensions": [
            "time",
            "lat",
            "lon"
           ],
           "fill_value": -128,
           "long_name": "sea ice area fraction",
           "orig_data_type": "uint8",
           "scale_factor": 0.01,
           "shape": [
            12906,
            3600,
            7200
           ],
           "size": 334523520000,
           "source": "EUMETSAT_OSI-SAF-ICE-OSI-450-v2.0, EUMETSAT_OSI-SAF-ICE-OSI-430-v1.2",
           "standard_name": "sea_ice_area_fraction",
           "units": "1",
           "valid_max": 100,
           "valid_min": 0
          },
          "dims": [
           "time",
           "lat",
           "lon"
          ],
          "dtype": "uint8",
          "name": "sea_ice_fraction"
         }
        },
        "dims": {
         "bnds": 2,
         "lat": 3600,
         "lon": 7200,
         "time": 12906
        },
        "open_params_schema": {
         "additionalProperties": false,
         "properties": {
          "bbox": {
           "items": [
            {
             "maximum": 180,
             "minimum": -180,
             "type": "number"
            },
            {
             "maximum": 90,
             "minimum": -90,
             "type": "number"
            },
            {
             "maximum": 180,
             "minimum": -180,
             "type": "number"
            },
            {
             "maximum": 90,
             "minimum": -90,
             "type": "number"
            }
           ],
           "type": "array"
          },
          "normalize_data": {
           "default": true,
           "type": "boolean"
          },
          "time_range": {
           "items": [
            {
             "format": "date",
             "maxDate": "2016-12-31",
             "minDate": "1981-08-31",
             "type": "string"
            },
            {
             "format": "date",
             "maxDate": "2016-12-31",
             "minDate": "1981-08-31",
             "type": "string"
            }
           ],
           "type": "array"
          },
          "variable_names": {
           "items": {
            "enum": [
             "mask",
             "sea_ice_fraction",
             "analysed_sst_uncertainty",
             "analysed_sst_anomaly"
            ],
            "type": "string"
           },
           "type": "array"
          }
         },
         "type": "object"
        },
        "spatial_res": 0.05,
        "time_period": "1D",
        "time_range": [
         "1981-08-31",
         "2016-12-31"
        ]
       },
       {
        "attrs": {
         "abstract": "This v2.1 SST_cci Level 4 Analysis Climate Data Record (CDR) provides a globally-complete daily analysis of sea surface temperature (SST) on a 0.05 degree regular latitude - longitude grid.   It combines data from both the Advanced Very High Resolution Radiometer (AVHRR ) and Along Track Scanning Radiometer (ATSR) SST_cci Climate Data Records, using a data assimilation method to provide SSTs where there were no measurements.  These data cover the period between 09/1981 and 12/2016.\n\nThe dataset has been produced as part of the European Space Agency (ESA) Climate Change Initiative Sea Surface Temperature project(ESA SST_cci). The data products from SST_cci accurately map the surface temperature of the global oceans over the period 1981 to 2016 using observations from many satellites. The data provide independently quantified SSTs to a quality suitable for climate research.\n\nThe CDR Version 2.1 product supercedes the CDR Version 2.0 product.    Data are made freely and openly available under a Creative Commons License by Attribution (CC By 4.0) https://creativecommons.org/licenses/by/4.0/\n\nWhen citing this dataset please also cite the associated data paper: Merchant, C.J., Embury, O., Bulgin, C.E., Block T., Corlett, G.K., Fiedler, E., Good, S.A., Mittaz, J., Rayner, N.A., Berry, D., Eastwood, S., Taylor, M., Tsushima, Y., Waterfall, A., Wilson, R., Donlon, C. Satellite-based time-series of sea-surface temperature since 1981 for climate applications, Scientific Data 6:223 (2019). http://doi.org/10.1038/s41597-019-0236-x",
         "catalog_url": "https://catalogue.ceda.ac.uk/uuid/62c0f97b1eac4e0197a674870afe1ee6",
         "cci_project": "SST",
         "comment": "These data were produced at the Met Office as part of the ESA SST CCI project. WARNING Some applications are unable to properly handle signed byte values. If values are encountered > 127, please subtract 256 from this reported value",
         "data_type": "SSTdepth",
         "ecv": "SST",
         "history": "Created using OSTIA reanalysis system v3.0",
         "institute": "ESACCI_SST",
         "platform_id": "multi-platform",
         "processing_level": "L4",
         "product_string": "OSTIA",
         "product_version": "2-1",
         "project": "Climate Change Initiative - European Space Agency",
         "publication_date": "2019-08-02T19:53:02",
         "references": "http://www.esa-sst-cci.org",
         "sensor_id": "multi-sensor",
         "source": "ATSR<1,2>-ESACCI-L3U-v2.0, AATSR-ESACCI-L3U-v2.0, AVHRR<07,09,11,12,14,15,16,17,18,19>_G-ESACCI-L3U-v2.0, AVHRRMTA_G-ESACCI-L3U-v2.0, EUMETSAT_OSI-SAF-ICE-OSI-450-v2.0, EUMETSAT_OSI-SAF-ICE-OSI-430-v1.2",
         "title": "ESA Sea Surface Temperature Climate Change Initiative (SST_cci): Level 4 Analysis Climate Data Record, version 2.1",
         "uuid": "62c0f97b1eac4e0197a674870afe1ee6"
        },
        "bbox": [
         -180,
         -90,
         180,
         90
        ],
        "coords": {
         "lat": {
          "attrs": {
           "axis": "Y",
           "bounds": "lat_bnds",
           "chunk_sizes": 3600,
           "comment": " Latitude geographical coordinates,WGS84 projection",
           "data_type": "float32",
           "dimensions": [
            "lat"
           ],
           "file_chunk_sizes": 3600,
           "file_dimensions": [
            "lat"
           ],
           "fill_value": null,
           "long_name": "Latitude",
           "orig_data_type": "float32",
           "reference_datum": "geographical coordinates, WGS84 projection",
           "shape": [
            3600
           ],
           "size": 3600,
           "standard_name": "latitude",
           "units": "degrees_north",
           "valid_max": 90,
           "valid_min": -90
          },
          "dims": [
           "lat"
          ],
          "dtype": "float32",
          "name": "lat"
         },
         "lat_bnds": {
          "attrs": {
           "chunk_sizes": [
            3600,
            2
           ],
           "comment": "Contains the northern and southern boundaries of the grid cells.",
           "data_type": "float32",
           "dimensions": [
            "lat",
            "bnds"
           ],
           "file_chunk_sizes": [
            3600,
            2
           ],
           "file_dimensions": [
            "lat",
            "bnds"
           ],
           "fill_value": null,
           "long_name": "Latitude cell boundaries",
           "orig_data_type": "float32",
           "reference_datum": "geographical coordinates, WGS84 projection",
           "shape": [
            3600,
            2
           ],
           "size": 7200,
           "units": "degrees_north",
           "valid_max": 90,
           "valid_min": -90
          },
          "dims": [
           "lat",
           "bnds"
          ],
          "dtype": "float32",
          "name": "lat_bnds"
         },
         "lon": {
          "attrs": {
           "axis": "X",
           "bounds": "lon_bnds",
           "chunk_sizes": 7200,
           "comment": " Longitude geographical coordinates,WGS84 projection",
           "data_type": "float32",
           "dimensions": [
            "lon"
           ],
           "file_chunk_sizes": 7200,
           "file_dimensions": [
            "lon"
           ],
           "fill_value": null,
           "long_name": "Longitude",
           "orig_data_type": "float32",
           "reference_datum": "geographical coordinates, WGS84 projection",
           "shape": [
            7200
           ],
           "size": 7200,
           "standard_name": "longitude",
           "units": "degrees_east",
           "valid_max": 180,
           "valid_min": -180
          },
          "dims": [
           "lon"
          ],
          "dtype": "float32",
          "name": "lon"
         },
         "lon_bnds": {
          "attrs": {
           "chunk_sizes": [
            7200,
            2
           ],
           "comment": "Contains the eastern and western boundaries of the grid cells.",
           "data_type": "float32",
           "dimensions": [
            "lon",
            "bnds"
           ],
           "file_chunk_sizes": [
            7200,
            2
           ],
           "file_dimensions": [
            "lon",
            "bnds"
           ],
           "fill_value": null,
           "long_name": "Longitude cell boundaries",
           "orig_data_type": "float32",
           "reference_datum": "geographical coordinates, WGS84 projection",
           "shape": [
            7200,
            2
           ],
           "size": 14400,
           "units": "degrees_east",
           "valid_max": 180,
           "valid_min": -180
          },
          "dims": [
           "lon",
           "bnds"
          ],
          "dtype": "float32",
          "name": "lon_bnds"
         },
         "time": {
          "attrs": {
           "axis": "T",
           "bounds": "time_bnds",
           "calendar": "gregorian",
           "chunk_sizes": 1,
           "comment": "",
           "data_type": "int64",
           "dimensions": [
            "time"
           ],
           "file_chunk_sizes": 1,
           "file_dimensions": [
            "time"
           ],
           "fill_value": 9223372036854776000,
           "long_name": "reference time of sst field",
           "orig_data_type": "int32",
           "shape": [
            12906
           ],
           "size": 12906,
           "standard_name": "time",
           "units": "seconds since 1981-01-01 00:00:00"
          },
          "dims": [
           "time"
          ],
          "dtype": "int64",
          "name": "time"
         },
         "time_bnds": {
          "attrs": {
           "calendar": "proleptic_gregorian",
           "standard_name": "time_bnds",
           "units": "seconds since 1970-01-01T00:00:00Z"
          },
          "dims": [
           "time",
           "bnds"
          ],
          "dtype": "int64",
          "name": "time_bnds"
         }
        },
        "crs": "WGS84",
        "data_id": "esacci.SST.day.L4.SSTdepth.multi-sensor.multi-platform.OSTIA.2-1.sst",
        "data_type": "dataset",
        "data_vars": {
         "analysed_sst": {
          "attrs": {
           "add_offset": 273.15,
           "chunk_sizes": [
            1,
            1200,
            2400
           ],
           "data_type": "int16",
           "depth": "20 cm",
           "dimensions": [
            "time",
            "lat",
            "lon"
           ],
           "file_chunk_sizes": [
            1,
            1200,
            2400
           ],
           "file_dimensions": [
            "time",
            "lat",
            "lon"
           ],
           "fill_value": -32768,
           "long_name": "analysed sea surface temperature",
           "orig_data_type": "int16",
           "scale_factor": 0.01,
           "shape": [
            12906,
            3600,
            7200
           ],
           "size": 334523520000,
           "source": "ATSR<1,2>-ESACCI-L3U-v2.0, AATSR-ESACCI-L3U-v2.0, AVHRR<07,09,11,12,14,15,16,17,18,19>_G-ESACCI-L3U-v2.0, AVHRRMTA_G-ESACCI-L3U-v2.0",
           "standard_name": "sea_water_temperature",
           "units": "kelvin",
           "valid_max": 4500,
           "valid_min": -300
          },
          "dims": [
           "time",
           "lat",
           "lon"
          ],
          "dtype": "int16",
          "name": "analysed_sst"
         },
         "analysed_sst_uncertainty": {
          "attrs": {
           "add_offset": 0,
           "chunk_sizes": [
            1,
            1200,
            2400
           ],
           "data_type": "int16",
           "dimensions": [
            "time",
            "lat",
            "lon"
           ],
           "file_chunk_sizes": [
            1,
            1200,
            2400
           ],
           "file_dimensions": [
            "time",
            "lat",
            "lon"
           ],
           "fill_value": -32768,
           "long_name": "estimated error standard deviation of analysed_sst",
           "orig_data_type": "int16",
           "scale_factor": 0.01,
           "shape": [
            12906,
            3600,
            7200
           ],
           "size": 334523520000,
           "standard_name": "sea_water_temperature standard_error",
           "units": "kelvin",
           "valid_max": 32767,
           "valid_min": 0
          },
          "dims": [
           "time",
           "lat",
           "lon"
          ],
          "dtype": "int16",
          "name": "analysed_sst_uncertainty"
         },
         "mask": {
          "attrs": {
           "_Unsigned": "false",
           "chunk_sizes": [
            1,
            1800,
            3600
           ],
           "comment": "b0: 1=grid cell is open sea water b1: 1=grid cell is land b2: 1=grid cell is lake surface b3: 1=grid cell is sea ice b4-b7: reserved for future grid mask data",
           "data_type": "uint8",
           "dimensions": [
            "time",
            "lat",
            "lon"
           ],
           "file_chunk_sizes": [
            1,
            1800,
            3600
           ],
           "file_dimensions": [
            "time",
            "lat",
            "lon"
           ],
           "fill_value": -128,
           "flag_masks": [
            1,
            2,
            4,
            8,
            16
           ],
           "flag_meanings": "water land optional_lake_surface sea_ice optional_river_surface",
           "long_name": "sea/land/lake/ice field composite mask",
           "orig_data_type": "uint8",
           "shape": [
            12906,
            3600,
            7200
           ],
           "size": 334523520000,
           "source": "NAVOCEANO_landmask_v1.0 EUMETSAT_OSI-SAF_icemask ARCLake_lakemask",
           "valid_max": 31,
           "valid_min": 1
          },
          "dims": [
           "time",
           "lat",
           "lon"
          ],
          "dtype": "uint8",
          "name": "mask"
         },
         "sea_ice_fraction": {
          "attrs": {
           "_Unsigned": "false",
           "add_offset": 0,
           "chunk_sizes": [
            1,
            1800,
            3600
           ],
           "comment": " Sea ice area fraction",
           "data_type": "uint8",
           "dimensions": [
            "time",
            "lat",
            "lon"
           ],
           "file_chunk_sizes": [
            1,
            1800,
            3600
           ],
           "file_dimensions": [
            "time",
            "lat",
            "lon"
           ],
           "fill_value": -128,
           "long_name": "sea ice area fraction",
           "orig_data_type": "uint8",
           "scale_factor": 0.01,
           "shape": [
            12906,
            3600,
            7200
           ],
           "size": 334523520000,
           "source": "EUMETSAT_OSI-SAF-ICE-OSI-450-v2.0, EUMETSAT_OSI-SAF-ICE-OSI-430-v1.2",
           "standard_name": "sea_ice_area_fraction",
           "units": "1",
           "valid_max": 100,
           "valid_min": 0
          },
          "dims": [
           "time",
           "lat",
           "lon"
          ],
          "dtype": "uint8",
          "name": "sea_ice_fraction"
         }
        },
        "dims": {
         "bnds": 2,
         "lat": 3600,
         "lon": 7200,
         "time": 12906
        },
        "open_params_schema": {
         "additionalProperties": false,
         "properties": {
          "bbox": {
           "items": [
            {
             "maximum": 180,
             "minimum": -180,
             "type": "number"
            },
            {
             "maximum": 90,
             "minimum": -90,
             "type": "number"
            },
            {
             "maximum": 180,
             "minimum": -180,
             "type": "number"
            },
            {
             "maximum": 90,
             "minimum": -90,
             "type": "number"
            }
           ],
           "type": "array"
          },
          "normalize_data": {
           "default": true,
           "type": "boolean"
          },
          "time_range": {
           "items": [
            {
             "format": "date",
             "maxDate": "2016-12-31",
             "minDate": "1981-08-31",
             "type": "string"
            },
            {
             "format": "date",
             "maxDate": "2016-12-31",
             "minDate": "1981-08-31",
             "type": "string"
            }
           ],
           "type": "array"
          },
          "variable_names": {
           "items": {
            "enum": [
             "analysed_sst",
             "mask",
             "sea_ice_fraction",
             "analysed_sst_uncertainty"
            ],
            "type": "string"
           },
           "type": "array"
          }
         },
         "type": "object"
        },
        "spatial_res": 0.05,
        "time_period": "1D",
        "time_range": [
         "1981-08-31",
         "2016-12-31"
        ]
       }
      ],
      "text/plain": [
       "<IPython.core.display.JSON object>"
      ]
     },
     "execution_count": 7,
     "metadata": {
      "application/json": {
       "expanded": false,
       "root": "root"
      }
     },
     "output_type": "execute_result"
    }
   ],
   "source": [
    "iterator = store.search_data(cci_attrs=dict(ecv='SST', sensor='multi-sensor', frequency='day'))\n",
    "JSON([item.to_dict() for item in iterator])"
   ]
  },
  {
   "cell_type": "markdown",
   "id": "10df6d3b",
   "metadata": {
    "papermill": {
     "duration": 0.074289,
     "end_time": "2023-07-31T10:06:32.980760",
     "exception": false,
     "start_time": "2023-07-31T10:06:32.906471",
     "status": "completed"
    },
    "tags": []
   },
   "source": [
    "Which parameters must be passsed or are available to open a specific dataset? "
   ]
  },
  {
   "cell_type": "code",
   "execution_count": 8,
   "id": "98ca21cb",
   "metadata": {
    "execution": {
     "iopub.execute_input": "2023-07-31T10:06:33.232692Z",
     "iopub.status.busy": "2023-07-31T10:06:33.232367Z",
     "iopub.status.idle": "2023-07-31T10:06:33.255727Z",
     "shell.execute_reply": "2023-07-31T10:06:33.255171Z"
    },
    "papermill": {
     "duration": 0.191216,
     "end_time": "2023-07-31T10:06:33.257240",
     "exception": false,
     "start_time": "2023-07-31T10:06:33.066024",
     "status": "completed"
    },
    "tags": []
   },
   "outputs": [
    {
     "data": {
      "application/json": {
       "additionalProperties": false,
       "properties": {
        "bbox": {
         "items": [
          {
           "maximum": 180,
           "minimum": -180,
           "type": "number"
          },
          {
           "maximum": 90,
           "minimum": -90,
           "type": "number"
          },
          {
           "maximum": 180,
           "minimum": -180,
           "type": "number"
          },
          {
           "maximum": 90,
           "minimum": -90,
           "type": "number"
          }
         ],
         "type": "array"
        },
        "normalize_data": {
         "default": true,
         "type": "boolean"
        },
        "time_range": {
         "items": [
          {
           "format": "date",
           "maxDate": "2010-12-31",
           "minDate": "1991-08-31",
           "type": "string"
          },
          {
           "format": "date",
           "maxDate": "2010-12-31",
           "minDate": "1991-08-31",
           "type": "string"
          }
         ],
         "type": "array"
        },
        "variable_names": {
         "items": {
          "enum": [
           "analysed_sst",
           "analysis_error",
           "sea_ice_fraction",
           "sea_ice_fraction_error",
           "mask"
          ],
          "type": "string"
         },
         "type": "array"
        }
       },
       "type": "object"
      },
      "text/plain": [
       "<xcube.util.jsonschema.JsonObjectSchema at 0x7fb36fc1d010>"
      ]
     },
     "execution_count": 8,
     "metadata": {},
     "output_type": "execute_result"
    }
   ],
   "source": [
    "store.get_open_data_params_schema('esacci.SST.day.L4.SSTdepth.multi-sensor.multi-platform.OSTIA.1-1.r1')"
   ]
  },
  {
   "cell_type": "markdown",
   "id": "efb638c0",
   "metadata": {
    "papermill": {
     "duration": 0.078776,
     "end_time": "2023-07-31T10:06:33.431033",
     "exception": false,
     "start_time": "2023-07-31T10:06:33.352257",
     "status": "completed"
    },
    "tags": []
   },
   "source": [
    "This query selects one variable form a specific dataset and subsets it in time. Note that the data is loaded lazily, which ensures a fast view into the dataset, even if large. In turn, however, the data transfer may slow down large-scale processing. Depending on the application, separating data transfer and processing may be advisable.    "
   ]
  },
  {
   "cell_type": "code",
   "execution_count": 9,
   "id": "cfb0f567",
   "metadata": {
    "execution": {
     "iopub.execute_input": "2023-07-31T10:06:33.582757Z",
     "iopub.status.busy": "2023-07-31T10:06:33.582423Z",
     "iopub.status.idle": "2023-07-31T10:06:34.545671Z",
     "shell.execute_reply": "2023-07-31T10:06:34.545163Z"
    },
    "papermill": {
     "duration": 1.035541,
     "end_time": "2023-07-31T10:06:34.547753",
     "exception": false,
     "start_time": "2023-07-31T10:06:33.512212",
     "status": "completed"
    },
    "tags": []
   },
   "outputs": [
    {
     "data": {
      "text/html": [
       "<div><svg style=\"position: absolute; width: 0; height: 0; overflow: hidden\">\n",
       "<defs>\n",
       "<symbol id=\"icon-database\" viewBox=\"0 0 32 32\">\n",
       "<path d=\"M16 0c-8.837 0-16 2.239-16 5v4c0 2.761 7.163 5 16 5s16-2.239 16-5v-4c0-2.761-7.163-5-16-5z\"></path>\n",
       "<path d=\"M16 17c-8.837 0-16-2.239-16-5v6c0 2.761 7.163 5 16 5s16-2.239 16-5v-6c0 2.761-7.163 5-16 5z\"></path>\n",
       "<path d=\"M16 26c-8.837 0-16-2.239-16-5v6c0 2.761 7.163 5 16 5s16-2.239 16-5v-6c0 2.761-7.163 5-16 5z\"></path>\n",
       "</symbol>\n",
       "<symbol id=\"icon-file-text2\" viewBox=\"0 0 32 32\">\n",
       "<path d=\"M28.681 7.159c-0.694-0.947-1.662-2.053-2.724-3.116s-2.169-2.030-3.116-2.724c-1.612-1.182-2.393-1.319-2.841-1.319h-15.5c-1.378 0-2.5 1.121-2.5 2.5v27c0 1.378 1.122 2.5 2.5 2.5h23c1.378 0 2.5-1.122 2.5-2.5v-19.5c0-0.448-0.137-1.23-1.319-2.841zM24.543 5.457c0.959 0.959 1.712 1.825 2.268 2.543h-4.811v-4.811c0.718 0.556 1.584 1.309 2.543 2.268zM28 29.5c0 0.271-0.229 0.5-0.5 0.5h-23c-0.271 0-0.5-0.229-0.5-0.5v-27c0-0.271 0.229-0.5 0.5-0.5 0 0 15.499-0 15.5 0v7c0 0.552 0.448 1 1 1h7v19.5z\"></path>\n",
       "<path d=\"M23 26h-14c-0.552 0-1-0.448-1-1s0.448-1 1-1h14c0.552 0 1 0.448 1 1s-0.448 1-1 1z\"></path>\n",
       "<path d=\"M23 22h-14c-0.552 0-1-0.448-1-1s0.448-1 1-1h14c0.552 0 1 0.448 1 1s-0.448 1-1 1z\"></path>\n",
       "<path d=\"M23 18h-14c-0.552 0-1-0.448-1-1s0.448-1 1-1h14c0.552 0 1 0.448 1 1s-0.448 1-1 1z\"></path>\n",
       "</symbol>\n",
       "</defs>\n",
       "</svg>\n",
       "<style>/* CSS stylesheet for displaying xarray objects in jupyterlab.\n",
       " *\n",
       " */\n",
       "\n",
       ":root {\n",
       "  --xr-font-color0: var(--jp-content-font-color0, rgba(0, 0, 0, 1));\n",
       "  --xr-font-color2: var(--jp-content-font-color2, rgba(0, 0, 0, 0.54));\n",
       "  --xr-font-color3: var(--jp-content-font-color3, rgba(0, 0, 0, 0.38));\n",
       "  --xr-border-color: var(--jp-border-color2, #e0e0e0);\n",
       "  --xr-disabled-color: var(--jp-layout-color3, #bdbdbd);\n",
       "  --xr-background-color: var(--jp-layout-color0, white);\n",
       "  --xr-background-color-row-even: var(--jp-layout-color1, white);\n",
       "  --xr-background-color-row-odd: var(--jp-layout-color2, #eeeeee);\n",
       "}\n",
       "\n",
       "html[theme=dark],\n",
       "body[data-theme=dark],\n",
       "body.vscode-dark {\n",
       "  --xr-font-color0: rgba(255, 255, 255, 1);\n",
       "  --xr-font-color2: rgba(255, 255, 255, 0.54);\n",
       "  --xr-font-color3: rgba(255, 255, 255, 0.38);\n",
       "  --xr-border-color: #1F1F1F;\n",
       "  --xr-disabled-color: #515151;\n",
       "  --xr-background-color: #111111;\n",
       "  --xr-background-color-row-even: #111111;\n",
       "  --xr-background-color-row-odd: #313131;\n",
       "}\n",
       "\n",
       ".xr-wrap {\n",
       "  display: block !important;\n",
       "  min-width: 300px;\n",
       "  max-width: 700px;\n",
       "}\n",
       "\n",
       ".xr-text-repr-fallback {\n",
       "  /* fallback to plain text repr when CSS is not injected (untrusted notebook) */\n",
       "  display: none;\n",
       "}\n",
       "\n",
       ".xr-header {\n",
       "  padding-top: 6px;\n",
       "  padding-bottom: 6px;\n",
       "  margin-bottom: 4px;\n",
       "  border-bottom: solid 1px var(--xr-border-color);\n",
       "}\n",
       "\n",
       ".xr-header > div,\n",
       ".xr-header > ul {\n",
       "  display: inline;\n",
       "  margin-top: 0;\n",
       "  margin-bottom: 0;\n",
       "}\n",
       "\n",
       ".xr-obj-type,\n",
       ".xr-array-name {\n",
       "  margin-left: 2px;\n",
       "  margin-right: 10px;\n",
       "}\n",
       "\n",
       ".xr-obj-type {\n",
       "  color: var(--xr-font-color2);\n",
       "}\n",
       "\n",
       ".xr-sections {\n",
       "  padding-left: 0 !important;\n",
       "  display: grid;\n",
       "  grid-template-columns: 150px auto auto 1fr 20px 20px;\n",
       "}\n",
       "\n",
       ".xr-section-item {\n",
       "  display: contents;\n",
       "}\n",
       "\n",
       ".xr-section-item input {\n",
       "  display: none;\n",
       "}\n",
       "\n",
       ".xr-section-item input + label {\n",
       "  color: var(--xr-disabled-color);\n",
       "}\n",
       "\n",
       ".xr-section-item input:enabled + label {\n",
       "  cursor: pointer;\n",
       "  color: var(--xr-font-color2);\n",
       "}\n",
       "\n",
       ".xr-section-item input:enabled + label:hover {\n",
       "  color: var(--xr-font-color0);\n",
       "}\n",
       "\n",
       ".xr-section-summary {\n",
       "  grid-column: 1;\n",
       "  color: var(--xr-font-color2);\n",
       "  font-weight: 500;\n",
       "}\n",
       "\n",
       ".xr-section-summary > span {\n",
       "  display: inline-block;\n",
       "  padding-left: 0.5em;\n",
       "}\n",
       "\n",
       ".xr-section-summary-in:disabled + label {\n",
       "  color: var(--xr-font-color2);\n",
       "}\n",
       "\n",
       ".xr-section-summary-in + label:before {\n",
       "  display: inline-block;\n",
       "  content: '►';\n",
       "  font-size: 11px;\n",
       "  width: 15px;\n",
       "  text-align: center;\n",
       "}\n",
       "\n",
       ".xr-section-summary-in:disabled + label:before {\n",
       "  color: var(--xr-disabled-color);\n",
       "}\n",
       "\n",
       ".xr-section-summary-in:checked + label:before {\n",
       "  content: '▼';\n",
       "}\n",
       "\n",
       ".xr-section-summary-in:checked + label > span {\n",
       "  display: none;\n",
       "}\n",
       "\n",
       ".xr-section-summary,\n",
       ".xr-section-inline-details {\n",
       "  padding-top: 4px;\n",
       "  padding-bottom: 4px;\n",
       "}\n",
       "\n",
       ".xr-section-inline-details {\n",
       "  grid-column: 2 / -1;\n",
       "}\n",
       "\n",
       ".xr-section-details {\n",
       "  display: none;\n",
       "  grid-column: 1 / -1;\n",
       "  margin-bottom: 5px;\n",
       "}\n",
       "\n",
       ".xr-section-summary-in:checked ~ .xr-section-details {\n",
       "  display: contents;\n",
       "}\n",
       "\n",
       ".xr-array-wrap {\n",
       "  grid-column: 1 / -1;\n",
       "  display: grid;\n",
       "  grid-template-columns: 20px auto;\n",
       "}\n",
       "\n",
       ".xr-array-wrap > label {\n",
       "  grid-column: 1;\n",
       "  vertical-align: top;\n",
       "}\n",
       "\n",
       ".xr-preview {\n",
       "  color: var(--xr-font-color3);\n",
       "}\n",
       "\n",
       ".xr-array-preview,\n",
       ".xr-array-data {\n",
       "  padding: 0 5px !important;\n",
       "  grid-column: 2;\n",
       "}\n",
       "\n",
       ".xr-array-data,\n",
       ".xr-array-in:checked ~ .xr-array-preview {\n",
       "  display: none;\n",
       "}\n",
       "\n",
       ".xr-array-in:checked ~ .xr-array-data,\n",
       ".xr-array-preview {\n",
       "  display: inline-block;\n",
       "}\n",
       "\n",
       ".xr-dim-list {\n",
       "  display: inline-block !important;\n",
       "  list-style: none;\n",
       "  padding: 0 !important;\n",
       "  margin: 0;\n",
       "}\n",
       "\n",
       ".xr-dim-list li {\n",
       "  display: inline-block;\n",
       "  padding: 0;\n",
       "  margin: 0;\n",
       "}\n",
       "\n",
       ".xr-dim-list:before {\n",
       "  content: '(';\n",
       "}\n",
       "\n",
       ".xr-dim-list:after {\n",
       "  content: ')';\n",
       "}\n",
       "\n",
       ".xr-dim-list li:not(:last-child):after {\n",
       "  content: ',';\n",
       "  padding-right: 5px;\n",
       "}\n",
       "\n",
       ".xr-has-index {\n",
       "  font-weight: bold;\n",
       "}\n",
       "\n",
       ".xr-var-list,\n",
       ".xr-var-item {\n",
       "  display: contents;\n",
       "}\n",
       "\n",
       ".xr-var-item > div,\n",
       ".xr-var-item label,\n",
       ".xr-var-item > .xr-var-name span {\n",
       "  background-color: var(--xr-background-color-row-even);\n",
       "  margin-bottom: 0;\n",
       "}\n",
       "\n",
       ".xr-var-item > .xr-var-name:hover span {\n",
       "  padding-right: 5px;\n",
       "}\n",
       "\n",
       ".xr-var-list > li:nth-child(odd) > div,\n",
       ".xr-var-list > li:nth-child(odd) > label,\n",
       ".xr-var-list > li:nth-child(odd) > .xr-var-name span {\n",
       "  background-color: var(--xr-background-color-row-odd);\n",
       "}\n",
       "\n",
       ".xr-var-name {\n",
       "  grid-column: 1;\n",
       "}\n",
       "\n",
       ".xr-var-dims {\n",
       "  grid-column: 2;\n",
       "}\n",
       "\n",
       ".xr-var-dtype {\n",
       "  grid-column: 3;\n",
       "  text-align: right;\n",
       "  color: var(--xr-font-color2);\n",
       "}\n",
       "\n",
       ".xr-var-preview {\n",
       "  grid-column: 4;\n",
       "}\n",
       "\n",
       ".xr-index-preview {\n",
       "  grid-column: 2 / 5;\n",
       "  color: var(--xr-font-color2);\n",
       "}\n",
       "\n",
       ".xr-var-name,\n",
       ".xr-var-dims,\n",
       ".xr-var-dtype,\n",
       ".xr-preview,\n",
       ".xr-attrs dt {\n",
       "  white-space: nowrap;\n",
       "  overflow: hidden;\n",
       "  text-overflow: ellipsis;\n",
       "  padding-right: 10px;\n",
       "}\n",
       "\n",
       ".xr-var-name:hover,\n",
       ".xr-var-dims:hover,\n",
       ".xr-var-dtype:hover,\n",
       ".xr-attrs dt:hover {\n",
       "  overflow: visible;\n",
       "  width: auto;\n",
       "  z-index: 1;\n",
       "}\n",
       "\n",
       ".xr-var-attrs,\n",
       ".xr-var-data,\n",
       ".xr-index-data {\n",
       "  display: none;\n",
       "  background-color: var(--xr-background-color) !important;\n",
       "  padding-bottom: 5px !important;\n",
       "}\n",
       "\n",
       ".xr-var-attrs-in:checked ~ .xr-var-attrs,\n",
       ".xr-var-data-in:checked ~ .xr-var-data,\n",
       ".xr-index-data-in:checked ~ .xr-index-data {\n",
       "  display: block;\n",
       "}\n",
       "\n",
       ".xr-var-data > table {\n",
       "  float: right;\n",
       "}\n",
       "\n",
       ".xr-var-name span,\n",
       ".xr-var-data,\n",
       ".xr-index-name div,\n",
       ".xr-index-data,\n",
       ".xr-attrs {\n",
       "  padding-left: 25px !important;\n",
       "}\n",
       "\n",
       ".xr-attrs,\n",
       ".xr-var-attrs,\n",
       ".xr-var-data,\n",
       ".xr-index-data {\n",
       "  grid-column: 1 / -1;\n",
       "}\n",
       "\n",
       "dl.xr-attrs {\n",
       "  padding: 0;\n",
       "  margin: 0;\n",
       "  display: grid;\n",
       "  grid-template-columns: 125px auto;\n",
       "}\n",
       "\n",
       ".xr-attrs dt,\n",
       ".xr-attrs dd {\n",
       "  padding: 0;\n",
       "  margin: 0;\n",
       "  float: left;\n",
       "  padding-right: 10px;\n",
       "  width: auto;\n",
       "}\n",
       "\n",
       ".xr-attrs dt {\n",
       "  font-weight: normal;\n",
       "  grid-column: 1;\n",
       "}\n",
       "\n",
       ".xr-attrs dt:hover span {\n",
       "  display: inline-block;\n",
       "  background: var(--xr-background-color);\n",
       "  padding-right: 10px;\n",
       "}\n",
       "\n",
       ".xr-attrs dd {\n",
       "  grid-column: 2;\n",
       "  white-space: pre-wrap;\n",
       "  word-break: break-all;\n",
       "}\n",
       "\n",
       ".xr-icon-database,\n",
       ".xr-icon-file-text2,\n",
       ".xr-no-icon {\n",
       "  display: inline-block;\n",
       "  vertical-align: middle;\n",
       "  width: 1em;\n",
       "  height: 1.5em !important;\n",
       "  stroke-width: 0;\n",
       "  stroke: currentColor;\n",
       "  fill: currentColor;\n",
       "}\n",
       "</style><pre class='xr-text-repr-fallback'>&lt;xarray.Dataset&gt;\n",
       "Dimensions:       (time: 4018, lat: 3600, lon: 7200, bnds: 2)\n",
       "Coordinates:\n",
       "  * lat           (lat) float32 -89.97 -89.93 -89.88 ... 89.88 89.93 89.97\n",
       "    lat_bnds      (lat, bnds) float32 dask.array&lt;chunksize=(3600, 2), meta=np.ndarray&gt;\n",
       "  * lon           (lon) float32 -180.0 -179.9 -179.9 ... 179.9 179.9 180.0\n",
       "    lon_bnds      (lon, bnds) float32 dask.array&lt;chunksize=(7200, 2), meta=np.ndarray&gt;\n",
       "  * time          (time) datetime64[ns] 2000-01-01T12:00:00 ... 2010-12-31T12...\n",
       "    time_bnds     (time, bnds) datetime64[ns] dask.array&lt;chunksize=(4018, 2), meta=np.ndarray&gt;\n",
       "Dimensions without coordinates: bnds\n",
       "Data variables:\n",
       "    analysed_sst  (time, lat, lon) float32 dask.array&lt;chunksize=(1, 900, 1800), meta=np.ndarray&gt;\n",
       "Attributes:\n",
       "    Conventions:             CF-1.7\n",
       "    title:                   esacci.SST.day.L4.SSTdepth.multi-sensor.multi-pl...\n",
       "    date_created:            2023-07-31T10:06:34.322142\n",
       "    processing_level:        L4\n",
       "    time_coverage_start:     2000-01-01T00:00:00\n",
       "    time_coverage_end:       2011-01-01T00:00:00\n",
       "    time_coverage_duration:  P4018DT0H0M0S\n",
       "    history:                 [{&#x27;program&#x27;: &#x27;xcube_cci.chunkstore.CciChunkStore...</pre><div class='xr-wrap' style='display:none'><div class='xr-header'><div class='xr-obj-type'>xarray.Dataset</div></div><ul class='xr-sections'><li class='xr-section-item'><input id='section-3a810296-81fa-467a-bba5-68f9210d5920' class='xr-section-summary-in' type='checkbox' disabled ><label for='section-3a810296-81fa-467a-bba5-68f9210d5920' class='xr-section-summary'  title='Expand/collapse section'>Dimensions:</label><div class='xr-section-inline-details'><ul class='xr-dim-list'><li><span class='xr-has-index'>time</span>: 4018</li><li><span class='xr-has-index'>lat</span>: 3600</li><li><span class='xr-has-index'>lon</span>: 7200</li><li><span>bnds</span>: 2</li></ul></div><div class='xr-section-details'></div></li><li class='xr-section-item'><input id='section-f96d247c-22e5-426b-a9e8-6f0c7efcdaa5' class='xr-section-summary-in' type='checkbox'  checked><label for='section-f96d247c-22e5-426b-a9e8-6f0c7efcdaa5' class='xr-section-summary' >Coordinates: <span>(6)</span></label><div class='xr-section-inline-details'></div><div class='xr-section-details'><ul class='xr-var-list'><li class='xr-var-item'><div class='xr-var-name'><span class='xr-has-index'>lat</span></div><div class='xr-var-dims'>(lat)</div><div class='xr-var-dtype'>float32</div><div class='xr-var-preview xr-preview'>-89.97 -89.93 ... 89.93 89.97</div><input id='attrs-cf205550-ec69-465f-9a1e-4d2a83bafe1c' class='xr-var-attrs-in' type='checkbox' ><label for='attrs-cf205550-ec69-465f-9a1e-4d2a83bafe1c' title='Show/Hide attributes'><svg class='icon xr-icon-file-text2'><use xlink:href='#icon-file-text2'></use></svg></label><input id='data-ec1ed422-7698-4f36-892c-2f9e13be57fd' class='xr-var-data-in' type='checkbox'><label for='data-ec1ed422-7698-4f36-892c-2f9e13be57fd' title='Show/Hide data repr'><svg class='icon xr-icon-database'><use xlink:href='#icon-database'></use></svg></label><div class='xr-var-attrs'><dl class='xr-attrs'><dt><span>standard_name :</span></dt><dd>latitude</dd><dt><span>units :</span></dt><dd>degrees_north</dd><dt><span>valid_min :</span></dt><dd>-90.0</dd><dt><span>valid_max :</span></dt><dd>90.0</dd><dt><span>axis :</span></dt><dd>Y</dd><dt><span>reference_datum :</span></dt><dd>geographical coordinates, WGS84 projection</dd><dt><span>bounds :</span></dt><dd>lat_bnds</dd><dt><span>comment :</span></dt><dd></dd><dt><span>long_name :</span></dt><dd>Latitude</dd><dt><span>orig_data_type :</span></dt><dd>float32</dd><dt><span>fill_value :</span></dt><dd>nan</dd><dt><span>size :</span></dt><dd>3600</dd><dt><span>shape :</span></dt><dd>[3600]</dd><dt><span>chunk_sizes :</span></dt><dd>3600</dd><dt><span>file_chunk_sizes :</span></dt><dd>3600</dd><dt><span>data_type :</span></dt><dd>float32</dd><dt><span>dimensions :</span></dt><dd>[&#x27;lat&#x27;]</dd><dt><span>file_dimensions :</span></dt><dd>[&#x27;lat&#x27;]</dd></dl></div><div class='xr-var-data'><pre>array([-89.975, -89.925, -89.875, ...,  89.875,  89.925,  89.975],\n",
       "      dtype=float32)</pre></div></li><li class='xr-var-item'><div class='xr-var-name'><span>lat_bnds</span></div><div class='xr-var-dims'>(lat, bnds)</div><div class='xr-var-dtype'>float32</div><div class='xr-var-preview xr-preview'>dask.array&lt;chunksize=(3600, 2), meta=np.ndarray&gt;</div><input id='attrs-690376a2-e197-4a5e-8941-0d4a3d0a7aed' class='xr-var-attrs-in' type='checkbox' ><label for='attrs-690376a2-e197-4a5e-8941-0d4a3d0a7aed' title='Show/Hide attributes'><svg class='icon xr-icon-file-text2'><use xlink:href='#icon-file-text2'></use></svg></label><input id='data-ba986866-cca8-4a74-a436-ed3e4ecf0953' class='xr-var-data-in' type='checkbox'><label for='data-ba986866-cca8-4a74-a436-ed3e4ecf0953' title='Show/Hide data repr'><svg class='icon xr-icon-database'><use xlink:href='#icon-database'></use></svg></label><div class='xr-var-attrs'><dl class='xr-attrs'><dt><span>units :</span></dt><dd>degrees_north</dd><dt><span>long_name :</span></dt><dd>Latitude cell boundaries</dd><dt><span>valid_min :</span></dt><dd>-90.0</dd><dt><span>valid_max :</span></dt><dd>90.0</dd><dt><span>reference_datum :</span></dt><dd>geographical coordinates, WGS84 projection</dd><dt><span>comment :</span></dt><dd>Contains the northern and southern boundaries of the grid cells.</dd><dt><span>orig_data_type :</span></dt><dd>float32</dd><dt><span>fill_value :</span></dt><dd>nan</dd><dt><span>size :</span></dt><dd>7200</dd><dt><span>shape :</span></dt><dd>[3600, 2]</dd><dt><span>chunk_sizes :</span></dt><dd>[3600, 2]</dd><dt><span>file_chunk_sizes :</span></dt><dd>[3600, 2]</dd><dt><span>data_type :</span></dt><dd>float32</dd><dt><span>dimensions :</span></dt><dd>[&#x27;lat&#x27;, &#x27;bnds&#x27;]</dd><dt><span>file_dimensions :</span></dt><dd>[&#x27;lat&#x27;, &#x27;bnds&#x27;]</dd></dl></div><div class='xr-var-data'><table>\n",
       "    <tr>\n",
       "        <td>\n",
       "            <table style=\"border-collapse: collapse;\">\n",
       "                <thead>\n",
       "                    <tr>\n",
       "                        <td> </td>\n",
       "                        <th> Array </th>\n",
       "                        <th> Chunk </th>\n",
       "                    </tr>\n",
       "                </thead>\n",
       "                <tbody>\n",
       "                    \n",
       "                    <tr>\n",
       "                        <th> Bytes </th>\n",
       "                        <td> 28.12 kiB </td>\n",
       "                        <td> 28.12 kiB </td>\n",
       "                    </tr>\n",
       "                    \n",
       "                    <tr>\n",
       "                        <th> Shape </th>\n",
       "                        <td> (3600, 2) </td>\n",
       "                        <td> (3600, 2) </td>\n",
       "                    </tr>\n",
       "                    <tr>\n",
       "                        <th> Dask graph </th>\n",
       "                        <td colspan=\"2\"> 1 chunks in 2 graph layers </td>\n",
       "                    </tr>\n",
       "                    <tr>\n",
       "                        <th> Data type </th>\n",
       "                        <td colspan=\"2\"> float32 numpy.ndarray </td>\n",
       "                    </tr>\n",
       "                </tbody>\n",
       "            </table>\n",
       "        </td>\n",
       "        <td>\n",
       "        <svg width=\"75\" height=\"170\" style=\"stroke:rgb(0,0,0);stroke-width:1\" >\n",
       "\n",
       "  <!-- Horizontal lines -->\n",
       "  <line x1=\"0\" y1=\"0\" x2=\"25\" y2=\"0\" style=\"stroke-width:2\" />\n",
       "  <line x1=\"0\" y1=\"120\" x2=\"25\" y2=\"120\" style=\"stroke-width:2\" />\n",
       "\n",
       "  <!-- Vertical lines -->\n",
       "  <line x1=\"0\" y1=\"0\" x2=\"0\" y2=\"120\" style=\"stroke-width:2\" />\n",
       "  <line x1=\"25\" y1=\"0\" x2=\"25\" y2=\"120\" style=\"stroke-width:2\" />\n",
       "\n",
       "  <!-- Colored Rectangle -->\n",
       "  <polygon points=\"0.0,0.0 25.412616514582485,0.0 25.412616514582485,120.0 0.0,120.0\" style=\"fill:#ECB172A0;stroke-width:0\"/>\n",
       "\n",
       "  <!-- Text -->\n",
       "  <text x=\"12.706308\" y=\"140.000000\" font-size=\"1.0rem\" font-weight=\"100\" text-anchor=\"middle\" >2</text>\n",
       "  <text x=\"45.412617\" y=\"60.000000\" font-size=\"1.0rem\" font-weight=\"100\" text-anchor=\"middle\" transform=\"rotate(-90,45.412617,60.000000)\">3600</text>\n",
       "</svg>\n",
       "        </td>\n",
       "    </tr>\n",
       "</table></div></li><li class='xr-var-item'><div class='xr-var-name'><span class='xr-has-index'>lon</span></div><div class='xr-var-dims'>(lon)</div><div class='xr-var-dtype'>float32</div><div class='xr-var-preview xr-preview'>-180.0 -179.9 ... 179.9 180.0</div><input id='attrs-a0d856d6-3e4f-4f6c-b890-a0860aa86053' class='xr-var-attrs-in' type='checkbox' ><label for='attrs-a0d856d6-3e4f-4f6c-b890-a0860aa86053' title='Show/Hide attributes'><svg class='icon xr-icon-file-text2'><use xlink:href='#icon-file-text2'></use></svg></label><input id='data-d5378d0b-7cf3-4f20-a067-973214cb3e02' class='xr-var-data-in' type='checkbox'><label for='data-d5378d0b-7cf3-4f20-a067-973214cb3e02' title='Show/Hide data repr'><svg class='icon xr-icon-database'><use xlink:href='#icon-database'></use></svg></label><div class='xr-var-attrs'><dl class='xr-attrs'><dt><span>standard_name :</span></dt><dd>longitude</dd><dt><span>units :</span></dt><dd>degrees_east</dd><dt><span>valid_min :</span></dt><dd>-180.0</dd><dt><span>valid_max :</span></dt><dd>180.0</dd><dt><span>axis :</span></dt><dd>X</dd><dt><span>reference_datum :</span></dt><dd>geographical coordinates, WGS84 projection</dd><dt><span>bounds :</span></dt><dd>lon_bnds</dd><dt><span>comment :</span></dt><dd></dd><dt><span>long_name :</span></dt><dd>Longitude</dd><dt><span>orig_data_type :</span></dt><dd>float32</dd><dt><span>fill_value :</span></dt><dd>nan</dd><dt><span>size :</span></dt><dd>7200</dd><dt><span>shape :</span></dt><dd>[7200]</dd><dt><span>chunk_sizes :</span></dt><dd>7200</dd><dt><span>file_chunk_sizes :</span></dt><dd>7200</dd><dt><span>data_type :</span></dt><dd>float32</dd><dt><span>dimensions :</span></dt><dd>[&#x27;lon&#x27;]</dd><dt><span>file_dimensions :</span></dt><dd>[&#x27;lon&#x27;]</dd></dl></div><div class='xr-var-data'><pre>array([-179.975, -179.925, -179.875, ...,  179.875,  179.925,  179.975],\n",
       "      dtype=float32)</pre></div></li><li class='xr-var-item'><div class='xr-var-name'><span>lon_bnds</span></div><div class='xr-var-dims'>(lon, bnds)</div><div class='xr-var-dtype'>float32</div><div class='xr-var-preview xr-preview'>dask.array&lt;chunksize=(7200, 2), meta=np.ndarray&gt;</div><input id='attrs-07174a7b-668b-4f7d-825d-3a70f38e2b42' class='xr-var-attrs-in' type='checkbox' ><label for='attrs-07174a7b-668b-4f7d-825d-3a70f38e2b42' title='Show/Hide attributes'><svg class='icon xr-icon-file-text2'><use xlink:href='#icon-file-text2'></use></svg></label><input id='data-10368abc-4c68-454f-a735-4f6129b1fd9c' class='xr-var-data-in' type='checkbox'><label for='data-10368abc-4c68-454f-a735-4f6129b1fd9c' title='Show/Hide data repr'><svg class='icon xr-icon-database'><use xlink:href='#icon-database'></use></svg></label><div class='xr-var-attrs'><dl class='xr-attrs'><dt><span>units :</span></dt><dd>degrees_east</dd><dt><span>long_name :</span></dt><dd>Longitude cell boundaries</dd><dt><span>valid_min :</span></dt><dd>-180.0</dd><dt><span>valid_max :</span></dt><dd>180.0</dd><dt><span>reference_datum :</span></dt><dd>geographical coordinates, WGS84 projection</dd><dt><span>comment :</span></dt><dd>Contains the eastern and western boundaries of the grid cells.</dd><dt><span>orig_data_type :</span></dt><dd>float32</dd><dt><span>fill_value :</span></dt><dd>nan</dd><dt><span>size :</span></dt><dd>14400</dd><dt><span>shape :</span></dt><dd>[7200, 2]</dd><dt><span>chunk_sizes :</span></dt><dd>[7200, 2]</dd><dt><span>file_chunk_sizes :</span></dt><dd>[7200, 2]</dd><dt><span>data_type :</span></dt><dd>float32</dd><dt><span>dimensions :</span></dt><dd>[&#x27;lon&#x27;, &#x27;bnds&#x27;]</dd><dt><span>file_dimensions :</span></dt><dd>[&#x27;lon&#x27;, &#x27;bnds&#x27;]</dd></dl></div><div class='xr-var-data'><table>\n",
       "    <tr>\n",
       "        <td>\n",
       "            <table style=\"border-collapse: collapse;\">\n",
       "                <thead>\n",
       "                    <tr>\n",
       "                        <td> </td>\n",
       "                        <th> Array </th>\n",
       "                        <th> Chunk </th>\n",
       "                    </tr>\n",
       "                </thead>\n",
       "                <tbody>\n",
       "                    \n",
       "                    <tr>\n",
       "                        <th> Bytes </th>\n",
       "                        <td> 56.25 kiB </td>\n",
       "                        <td> 56.25 kiB </td>\n",
       "                    </tr>\n",
       "                    \n",
       "                    <tr>\n",
       "                        <th> Shape </th>\n",
       "                        <td> (7200, 2) </td>\n",
       "                        <td> (7200, 2) </td>\n",
       "                    </tr>\n",
       "                    <tr>\n",
       "                        <th> Dask graph </th>\n",
       "                        <td colspan=\"2\"> 1 chunks in 2 graph layers </td>\n",
       "                    </tr>\n",
       "                    <tr>\n",
       "                        <th> Data type </th>\n",
       "                        <td colspan=\"2\"> float32 numpy.ndarray </td>\n",
       "                    </tr>\n",
       "                </tbody>\n",
       "            </table>\n",
       "        </td>\n",
       "        <td>\n",
       "        <svg width=\"75\" height=\"170\" style=\"stroke:rgb(0,0,0);stroke-width:1\" >\n",
       "\n",
       "  <!-- Horizontal lines -->\n",
       "  <line x1=\"0\" y1=\"0\" x2=\"25\" y2=\"0\" style=\"stroke-width:2\" />\n",
       "  <line x1=\"0\" y1=\"120\" x2=\"25\" y2=\"120\" style=\"stroke-width:2\" />\n",
       "\n",
       "  <!-- Vertical lines -->\n",
       "  <line x1=\"0\" y1=\"0\" x2=\"0\" y2=\"120\" style=\"stroke-width:2\" />\n",
       "  <line x1=\"25\" y1=\"0\" x2=\"25\" y2=\"120\" style=\"stroke-width:2\" />\n",
       "\n",
       "  <!-- Colored Rectangle -->\n",
       "  <polygon points=\"0.0,0.0 25.412616514582485,0.0 25.412616514582485,120.0 0.0,120.0\" style=\"fill:#ECB172A0;stroke-width:0\"/>\n",
       "\n",
       "  <!-- Text -->\n",
       "  <text x=\"12.706308\" y=\"140.000000\" font-size=\"1.0rem\" font-weight=\"100\" text-anchor=\"middle\" >2</text>\n",
       "  <text x=\"45.412617\" y=\"60.000000\" font-size=\"1.0rem\" font-weight=\"100\" text-anchor=\"middle\" transform=\"rotate(-90,45.412617,60.000000)\">7200</text>\n",
       "</svg>\n",
       "        </td>\n",
       "    </tr>\n",
       "</table></div></li><li class='xr-var-item'><div class='xr-var-name'><span class='xr-has-index'>time</span></div><div class='xr-var-dims'>(time)</div><div class='xr-var-dtype'>datetime64[ns]</div><div class='xr-var-preview xr-preview'>2000-01-01T12:00:00 ... 2010-12-...</div><input id='attrs-5edd9d1f-9587-4045-b1d6-9d776e41a445' class='xr-var-attrs-in' type='checkbox' ><label for='attrs-5edd9d1f-9587-4045-b1d6-9d776e41a445' title='Show/Hide attributes'><svg class='icon xr-icon-file-text2'><use xlink:href='#icon-file-text2'></use></svg></label><input id='data-2e9e0a67-294d-409a-bf28-3ba631dd6e94' class='xr-var-data-in' type='checkbox'><label for='data-2e9e0a67-294d-409a-bf28-3ba631dd6e94' title='Show/Hide data repr'><svg class='icon xr-icon-database'><use xlink:href='#icon-database'></use></svg></label><div class='xr-var-attrs'><dl class='xr-attrs'><dt><span>standard_name :</span></dt><dd>time</dd><dt><span>bounds :</span></dt><dd>time_bnds</dd></dl></div><div class='xr-var-data'><pre>array([&#x27;2000-01-01T12:00:00.000000000&#x27;, &#x27;2000-01-02T12:00:00.000000000&#x27;,\n",
       "       &#x27;2000-01-03T12:00:00.000000000&#x27;, ..., &#x27;2010-12-29T12:00:00.000000000&#x27;,\n",
       "       &#x27;2010-12-30T12:00:00.000000000&#x27;, &#x27;2010-12-31T12:00:00.000000000&#x27;],\n",
       "      dtype=&#x27;datetime64[ns]&#x27;)</pre></div></li><li class='xr-var-item'><div class='xr-var-name'><span>time_bnds</span></div><div class='xr-var-dims'>(time, bnds)</div><div class='xr-var-dtype'>datetime64[ns]</div><div class='xr-var-preview xr-preview'>dask.array&lt;chunksize=(4018, 2), meta=np.ndarray&gt;</div><input id='attrs-5781a959-c044-49a8-ba8e-ee4631ef58f9' class='xr-var-attrs-in' type='checkbox' ><label for='attrs-5781a959-c044-49a8-ba8e-ee4631ef58f9' title='Show/Hide attributes'><svg class='icon xr-icon-file-text2'><use xlink:href='#icon-file-text2'></use></svg></label><input id='data-5a3d41c2-fef1-4c52-b828-9439e2caddff' class='xr-var-data-in' type='checkbox'><label for='data-5a3d41c2-fef1-4c52-b828-9439e2caddff' title='Show/Hide data repr'><svg class='icon xr-icon-database'><use xlink:href='#icon-database'></use></svg></label><div class='xr-var-attrs'><dl class='xr-attrs'><dt><span>standard_name :</span></dt><dd>time_bnds</dd></dl></div><div class='xr-var-data'><table>\n",
       "    <tr>\n",
       "        <td>\n",
       "            <table style=\"border-collapse: collapse;\">\n",
       "                <thead>\n",
       "                    <tr>\n",
       "                        <td> </td>\n",
       "                        <th> Array </th>\n",
       "                        <th> Chunk </th>\n",
       "                    </tr>\n",
       "                </thead>\n",
       "                <tbody>\n",
       "                    \n",
       "                    <tr>\n",
       "                        <th> Bytes </th>\n",
       "                        <td> 62.78 kiB </td>\n",
       "                        <td> 62.78 kiB </td>\n",
       "                    </tr>\n",
       "                    \n",
       "                    <tr>\n",
       "                        <th> Shape </th>\n",
       "                        <td> (4018, 2) </td>\n",
       "                        <td> (4018, 2) </td>\n",
       "                    </tr>\n",
       "                    <tr>\n",
       "                        <th> Dask graph </th>\n",
       "                        <td colspan=\"2\"> 1 chunks in 2 graph layers </td>\n",
       "                    </tr>\n",
       "                    <tr>\n",
       "                        <th> Data type </th>\n",
       "                        <td colspan=\"2\"> datetime64[ns] numpy.ndarray </td>\n",
       "                    </tr>\n",
       "                </tbody>\n",
       "            </table>\n",
       "        </td>\n",
       "        <td>\n",
       "        <svg width=\"75\" height=\"170\" style=\"stroke:rgb(0,0,0);stroke-width:1\" >\n",
       "\n",
       "  <!-- Horizontal lines -->\n",
       "  <line x1=\"0\" y1=\"0\" x2=\"25\" y2=\"0\" style=\"stroke-width:2\" />\n",
       "  <line x1=\"0\" y1=\"120\" x2=\"25\" y2=\"120\" style=\"stroke-width:2\" />\n",
       "\n",
       "  <!-- Vertical lines -->\n",
       "  <line x1=\"0\" y1=\"0\" x2=\"0\" y2=\"120\" style=\"stroke-width:2\" />\n",
       "  <line x1=\"25\" y1=\"0\" x2=\"25\" y2=\"120\" style=\"stroke-width:2\" />\n",
       "\n",
       "  <!-- Colored Rectangle -->\n",
       "  <polygon points=\"0.0,0.0 25.412616514582485,0.0 25.412616514582485,120.0 0.0,120.0\" style=\"fill:#ECB172A0;stroke-width:0\"/>\n",
       "\n",
       "  <!-- Text -->\n",
       "  <text x=\"12.706308\" y=\"140.000000\" font-size=\"1.0rem\" font-weight=\"100\" text-anchor=\"middle\" >2</text>\n",
       "  <text x=\"45.412617\" y=\"60.000000\" font-size=\"1.0rem\" font-weight=\"100\" text-anchor=\"middle\" transform=\"rotate(-90,45.412617,60.000000)\">4018</text>\n",
       "</svg>\n",
       "        </td>\n",
       "    </tr>\n",
       "</table></div></li></ul></div></li><li class='xr-section-item'><input id='section-ec02f78d-95b8-42e2-aa8a-f9feb2953bdb' class='xr-section-summary-in' type='checkbox'  checked><label for='section-ec02f78d-95b8-42e2-aa8a-f9feb2953bdb' class='xr-section-summary' >Data variables: <span>(1)</span></label><div class='xr-section-inline-details'></div><div class='xr-section-details'><ul class='xr-var-list'><li class='xr-var-item'><div class='xr-var-name'><span>analysed_sst</span></div><div class='xr-var-dims'>(time, lat, lon)</div><div class='xr-var-dtype'>float32</div><div class='xr-var-preview xr-preview'>dask.array&lt;chunksize=(1, 900, 1800), meta=np.ndarray&gt;</div><input id='attrs-b292c03a-9252-4f3f-bb75-53ddd0c0aac6' class='xr-var-attrs-in' type='checkbox' ><label for='attrs-b292c03a-9252-4f3f-bb75-53ddd0c0aac6' title='Show/Hide attributes'><svg class='icon xr-icon-file-text2'><use xlink:href='#icon-file-text2'></use></svg></label><input id='data-043847cb-ee73-4e68-82f5-6966b911e37f' class='xr-var-data-in' type='checkbox'><label for='data-043847cb-ee73-4e68-82f5-6966b911e37f' title='Show/Hide data repr'><svg class='icon xr-icon-database'><use xlink:href='#icon-database'></use></svg></label><div class='xr-var-attrs'><dl class='xr-attrs'><dt><span>units :</span></dt><dd>kelvin</dd><dt><span>long_name :</span></dt><dd>analysed sea surface temperature</dd><dt><span>valid_min :</span></dt><dd>-300</dd><dt><span>valid_max :</span></dt><dd>4500</dd><dt><span>standard_name :</span></dt><dd>sea_water_temperature</dd><dt><span>depth :</span></dt><dd>20 cm</dd><dt><span>source :</span></dt><dd>ATSR&lt;1,2&gt;-ESACCI-L3U-v1.0, AATSR-ESACCI-L3U-v1.0, AVHRR&lt;12,14,15,16,17,18&gt;_G-ESACCI-L2P-v1.0, AVHRRMTA-ESACCI-L2P-v1.0</dd><dt><span>comment :</span></dt><dd>SST analysis produced for ESA SST CCI project using the OSTIA system in reanalysis mode.</dd><dt><span>orig_data_type :</span></dt><dd>int16</dd><dt><span>fill_value :</span></dt><dd>-32768</dd><dt><span>size :</span></dt><dd>104146560000</dd><dt><span>shape :</span></dt><dd>[4018, 3600, 7200]</dd><dt><span>chunk_sizes :</span></dt><dd>[1, 900, 1800]</dd><dt><span>file_chunk_sizes :</span></dt><dd>[1, 900, 1800]</dd><dt><span>data_type :</span></dt><dd>int16</dd><dt><span>dimensions :</span></dt><dd>[&#x27;time&#x27;, &#x27;lat&#x27;, &#x27;lon&#x27;]</dd><dt><span>file_dimensions :</span></dt><dd>[&#x27;time&#x27;, &#x27;lat&#x27;, &#x27;lon&#x27;]</dd></dl></div><div class='xr-var-data'><table>\n",
       "    <tr>\n",
       "        <td>\n",
       "            <table style=\"border-collapse: collapse;\">\n",
       "                <thead>\n",
       "                    <tr>\n",
       "                        <td> </td>\n",
       "                        <th> Array </th>\n",
       "                        <th> Chunk </th>\n",
       "                    </tr>\n",
       "                </thead>\n",
       "                <tbody>\n",
       "                    \n",
       "                    <tr>\n",
       "                        <th> Bytes </th>\n",
       "                        <td> 387.98 GiB </td>\n",
       "                        <td> 6.18 MiB </td>\n",
       "                    </tr>\n",
       "                    \n",
       "                    <tr>\n",
       "                        <th> Shape </th>\n",
       "                        <td> (4018, 3600, 7200) </td>\n",
       "                        <td> (1, 900, 1800) </td>\n",
       "                    </tr>\n",
       "                    <tr>\n",
       "                        <th> Dask graph </th>\n",
       "                        <td colspan=\"2\"> 64288 chunks in 2 graph layers </td>\n",
       "                    </tr>\n",
       "                    <tr>\n",
       "                        <th> Data type </th>\n",
       "                        <td colspan=\"2\"> float32 numpy.ndarray </td>\n",
       "                    </tr>\n",
       "                </tbody>\n",
       "            </table>\n",
       "        </td>\n",
       "        <td>\n",
       "        <svg width=\"219\" height=\"149\" style=\"stroke:rgb(0,0,0);stroke-width:1\" >\n",
       "\n",
       "  <!-- Horizontal lines -->\n",
       "  <line x1=\"10\" y1=\"0\" x2=\"49\" y2=\"39\" style=\"stroke-width:2\" />\n",
       "  <line x1=\"10\" y1=\"15\" x2=\"49\" y2=\"54\" />\n",
       "  <line x1=\"10\" y1=\"30\" x2=\"49\" y2=\"69\" />\n",
       "  <line x1=\"10\" y1=\"45\" x2=\"49\" y2=\"84\" />\n",
       "  <line x1=\"10\" y1=\"60\" x2=\"49\" y2=\"99\" style=\"stroke-width:2\" />\n",
       "\n",
       "  <!-- Vertical lines -->\n",
       "  <line x1=\"10\" y1=\"0\" x2=\"10\" y2=\"60\" style=\"stroke-width:2\" />\n",
       "  <line x1=\"12\" y1=\"2\" x2=\"12\" y2=\"62\" />\n",
       "  <line x1=\"14\" y1=\"4\" x2=\"14\" y2=\"64\" />\n",
       "  <line x1=\"16\" y1=\"6\" x2=\"16\" y2=\"66\" />\n",
       "  <line x1=\"18\" y1=\"8\" x2=\"18\" y2=\"68\" />\n",
       "  <line x1=\"20\" y1=\"10\" x2=\"20\" y2=\"70\" />\n",
       "  <line x1=\"22\" y1=\"12\" x2=\"22\" y2=\"72\" />\n",
       "  <line x1=\"24\" y1=\"14\" x2=\"24\" y2=\"74\" />\n",
       "  <line x1=\"26\" y1=\"16\" x2=\"26\" y2=\"76\" />\n",
       "  <line x1=\"28\" y1=\"18\" x2=\"28\" y2=\"78\" />\n",
       "  <line x1=\"30\" y1=\"20\" x2=\"30\" y2=\"80\" />\n",
       "  <line x1=\"32\" y1=\"22\" x2=\"32\" y2=\"82\" />\n",
       "  <line x1=\"34\" y1=\"24\" x2=\"34\" y2=\"84\" />\n",
       "  <line x1=\"36\" y1=\"26\" x2=\"36\" y2=\"86\" />\n",
       "  <line x1=\"39\" y1=\"29\" x2=\"39\" y2=\"89\" />\n",
       "  <line x1=\"41\" y1=\"31\" x2=\"41\" y2=\"91\" />\n",
       "  <line x1=\"43\" y1=\"33\" x2=\"43\" y2=\"93\" />\n",
       "  <line x1=\"45\" y1=\"35\" x2=\"45\" y2=\"95\" />\n",
       "  <line x1=\"47\" y1=\"37\" x2=\"47\" y2=\"97\" />\n",
       "  <line x1=\"49\" y1=\"39\" x2=\"49\" y2=\"99\" style=\"stroke-width:2\" />\n",
       "\n",
       "  <!-- Colored Rectangle -->\n",
       "  <polygon points=\"10.0,0.0 49.3921568627451,39.3921568627451 49.3921568627451,99.3921568627451 10.0,60.0\" style=\"fill:#8B4903A0;stroke-width:0\"/>\n",
       "\n",
       "  <!-- Horizontal lines -->\n",
       "  <line x1=\"10\" y1=\"0\" x2=\"130\" y2=\"0\" style=\"stroke-width:2\" />\n",
       "  <line x1=\"12\" y1=\"2\" x2=\"132\" y2=\"2\" />\n",
       "  <line x1=\"14\" y1=\"4\" x2=\"134\" y2=\"4\" />\n",
       "  <line x1=\"16\" y1=\"6\" x2=\"136\" y2=\"6\" />\n",
       "  <line x1=\"18\" y1=\"8\" x2=\"138\" y2=\"8\" />\n",
       "  <line x1=\"20\" y1=\"10\" x2=\"140\" y2=\"10\" />\n",
       "  <line x1=\"22\" y1=\"12\" x2=\"142\" y2=\"12\" />\n",
       "  <line x1=\"24\" y1=\"14\" x2=\"144\" y2=\"14\" />\n",
       "  <line x1=\"26\" y1=\"16\" x2=\"146\" y2=\"16\" />\n",
       "  <line x1=\"28\" y1=\"18\" x2=\"148\" y2=\"18\" />\n",
       "  <line x1=\"30\" y1=\"20\" x2=\"150\" y2=\"20\" />\n",
       "  <line x1=\"32\" y1=\"22\" x2=\"152\" y2=\"22\" />\n",
       "  <line x1=\"34\" y1=\"24\" x2=\"154\" y2=\"24\" />\n",
       "  <line x1=\"36\" y1=\"26\" x2=\"156\" y2=\"26\" />\n",
       "  <line x1=\"39\" y1=\"29\" x2=\"159\" y2=\"29\" />\n",
       "  <line x1=\"41\" y1=\"31\" x2=\"161\" y2=\"31\" />\n",
       "  <line x1=\"43\" y1=\"33\" x2=\"163\" y2=\"33\" />\n",
       "  <line x1=\"45\" y1=\"35\" x2=\"165\" y2=\"35\" />\n",
       "  <line x1=\"47\" y1=\"37\" x2=\"167\" y2=\"37\" />\n",
       "  <line x1=\"49\" y1=\"39\" x2=\"169\" y2=\"39\" style=\"stroke-width:2\" />\n",
       "\n",
       "  <!-- Vertical lines -->\n",
       "  <line x1=\"10\" y1=\"0\" x2=\"49\" y2=\"39\" style=\"stroke-width:2\" />\n",
       "  <line x1=\"40\" y1=\"0\" x2=\"79\" y2=\"39\" />\n",
       "  <line x1=\"70\" y1=\"0\" x2=\"109\" y2=\"39\" />\n",
       "  <line x1=\"100\" y1=\"0\" x2=\"139\" y2=\"39\" />\n",
       "  <line x1=\"130\" y1=\"0\" x2=\"169\" y2=\"39\" style=\"stroke-width:2\" />\n",
       "\n",
       "  <!-- Colored Rectangle -->\n",
       "  <polygon points=\"10.0,0.0 130.0,0.0 169.39215686274508,39.3921568627451 49.3921568627451,39.3921568627451\" style=\"fill:#8B4903A0;stroke-width:0\"/>\n",
       "\n",
       "  <!-- Horizontal lines -->\n",
       "  <line x1=\"49\" y1=\"39\" x2=\"169\" y2=\"39\" style=\"stroke-width:2\" />\n",
       "  <line x1=\"49\" y1=\"54\" x2=\"169\" y2=\"54\" />\n",
       "  <line x1=\"49\" y1=\"69\" x2=\"169\" y2=\"69\" />\n",
       "  <line x1=\"49\" y1=\"84\" x2=\"169\" y2=\"84\" />\n",
       "  <line x1=\"49\" y1=\"99\" x2=\"169\" y2=\"99\" style=\"stroke-width:2\" />\n",
       "\n",
       "  <!-- Vertical lines -->\n",
       "  <line x1=\"49\" y1=\"39\" x2=\"49\" y2=\"99\" style=\"stroke-width:2\" />\n",
       "  <line x1=\"79\" y1=\"39\" x2=\"79\" y2=\"99\" />\n",
       "  <line x1=\"109\" y1=\"39\" x2=\"109\" y2=\"99\" />\n",
       "  <line x1=\"139\" y1=\"39\" x2=\"139\" y2=\"99\" />\n",
       "  <line x1=\"169\" y1=\"39\" x2=\"169\" y2=\"99\" style=\"stroke-width:2\" />\n",
       "\n",
       "  <!-- Colored Rectangle -->\n",
       "  <polygon points=\"49.3921568627451,39.3921568627451 169.39215686274508,39.3921568627451 169.39215686274508,99.3921568627451 49.3921568627451,99.3921568627451\" style=\"fill:#ECB172A0;stroke-width:0\"/>\n",
       "\n",
       "  <!-- Text -->\n",
       "  <text x=\"109.392157\" y=\"119.392157\" font-size=\"1.0rem\" font-weight=\"100\" text-anchor=\"middle\" >7200</text>\n",
       "  <text x=\"189.392157\" y=\"69.392157\" font-size=\"1.0rem\" font-weight=\"100\" text-anchor=\"middle\" transform=\"rotate(-90,189.392157,69.392157)\">3600</text>\n",
       "  <text x=\"19.696078\" y=\"99.696078\" font-size=\"1.0rem\" font-weight=\"100\" text-anchor=\"middle\" transform=\"rotate(45,19.696078,99.696078)\">4018</text>\n",
       "</svg>\n",
       "        </td>\n",
       "    </tr>\n",
       "</table></div></li></ul></div></li><li class='xr-section-item'><input id='section-0e72e31d-838d-4ccd-b96a-a07b4550eccb' class='xr-section-summary-in' type='checkbox'  ><label for='section-0e72e31d-838d-4ccd-b96a-a07b4550eccb' class='xr-section-summary' >Indexes: <span>(3)</span></label><div class='xr-section-inline-details'></div><div class='xr-section-details'><ul class='xr-var-list'><li class='xr-var-item'><div class='xr-index-name'><div>lat</div></div><div class='xr-index-preview'>PandasIndex</div><div></div><input id='index-e74fc7c4-c148-4185-a424-c44a80bd8d0b' class='xr-index-data-in' type='checkbox'/><label for='index-e74fc7c4-c148-4185-a424-c44a80bd8d0b' title='Show/Hide index repr'><svg class='icon xr-icon-database'><use xlink:href='#icon-database'></use></svg></label><div class='xr-index-data'><pre>PandasIndex(Float64Index([ -89.9749984741211, -89.92500305175781,            -89.875,\n",
       "              -89.82499694824219,  -89.7750015258789,  -89.7249984741211,\n",
       "              -89.67500305175781,            -89.625, -89.57499694824219,\n",
       "               -89.5250015258789,\n",
       "              ...\n",
       "                89.5250015258789,  89.57499694824219,             89.625,\n",
       "               89.67500305175781,   89.7249984741211,   89.7750015258789,\n",
       "               89.82499694824219,             89.875,  89.92500305175781,\n",
       "                89.9749984741211],\n",
       "             dtype=&#x27;float64&#x27;, name=&#x27;lat&#x27;, length=3600))</pre></div></li><li class='xr-var-item'><div class='xr-index-name'><div>lon</div></div><div class='xr-index-preview'>PandasIndex</div><div></div><input id='index-52a4f473-0ecf-4bfe-9380-b686724c9978' class='xr-index-data-in' type='checkbox'/><label for='index-52a4f473-0ecf-4bfe-9380-b686724c9978' title='Show/Hide index repr'><svg class='icon xr-icon-database'><use xlink:href='#icon-database'></use></svg></label><div class='xr-index-data'><pre>PandasIndex(Float64Index([-179.97500610351562,  -179.9250030517578,            -179.875,\n",
       "               -179.8249969482422, -179.77499389648438, -179.72500610351562,\n",
       "               -179.6750030517578,            -179.625,  -179.5749969482422,\n",
       "              -179.52499389648438,\n",
       "              ...\n",
       "               179.52499389648438,   179.5749969482422,             179.625,\n",
       "                179.6750030517578,  179.72500610351562,  179.77499389648438,\n",
       "                179.8249969482422,             179.875,   179.9250030517578,\n",
       "               179.97500610351562],\n",
       "             dtype=&#x27;float64&#x27;, name=&#x27;lon&#x27;, length=7200))</pre></div></li><li class='xr-var-item'><div class='xr-index-name'><div>time</div></div><div class='xr-index-preview'>PandasIndex</div><div></div><input id='index-cf2b6580-b8ad-4d3a-afe1-884dbc44443e' class='xr-index-data-in' type='checkbox'/><label for='index-cf2b6580-b8ad-4d3a-afe1-884dbc44443e' title='Show/Hide index repr'><svg class='icon xr-icon-database'><use xlink:href='#icon-database'></use></svg></label><div class='xr-index-data'><pre>PandasIndex(DatetimeIndex([&#x27;2000-01-01 12:00:00&#x27;, &#x27;2000-01-02 12:00:00&#x27;,\n",
       "               &#x27;2000-01-03 12:00:00&#x27;, &#x27;2000-01-04 12:00:00&#x27;,\n",
       "               &#x27;2000-01-05 12:00:00&#x27;, &#x27;2000-01-06 12:00:00&#x27;,\n",
       "               &#x27;2000-01-07 12:00:00&#x27;, &#x27;2000-01-08 12:00:00&#x27;,\n",
       "               &#x27;2000-01-09 12:00:00&#x27;, &#x27;2000-01-10 12:00:00&#x27;,\n",
       "               ...\n",
       "               &#x27;2010-12-22 12:00:00&#x27;, &#x27;2010-12-23 12:00:00&#x27;,\n",
       "               &#x27;2010-12-24 12:00:00&#x27;, &#x27;2010-12-25 12:00:00&#x27;,\n",
       "               &#x27;2010-12-26 12:00:00&#x27;, &#x27;2010-12-27 12:00:00&#x27;,\n",
       "               &#x27;2010-12-28 12:00:00&#x27;, &#x27;2010-12-29 12:00:00&#x27;,\n",
       "               &#x27;2010-12-30 12:00:00&#x27;, &#x27;2010-12-31 12:00:00&#x27;],\n",
       "              dtype=&#x27;datetime64[ns]&#x27;, name=&#x27;time&#x27;, length=4018, freq=None))</pre></div></li></ul></div></li><li class='xr-section-item'><input id='section-c571dec6-921e-496a-85d8-f2ae9384f093' class='xr-section-summary-in' type='checkbox'  checked><label for='section-c571dec6-921e-496a-85d8-f2ae9384f093' class='xr-section-summary' >Attributes: <span>(8)</span></label><div class='xr-section-inline-details'></div><div class='xr-section-details'><dl class='xr-attrs'><dt><span>Conventions :</span></dt><dd>CF-1.7</dd><dt><span>title :</span></dt><dd>esacci.SST.day.L4.SSTdepth.multi-sensor.multi-platform.OSTIA.1-1.r1</dd><dt><span>date_created :</span></dt><dd>2023-07-31T10:06:34.322142</dd><dt><span>processing_level :</span></dt><dd>L4</dd><dt><span>time_coverage_start :</span></dt><dd>2000-01-01T00:00:00</dd><dt><span>time_coverage_end :</span></dt><dd>2011-01-01T00:00:00</dd><dt><span>time_coverage_duration :</span></dt><dd>P4018DT0H0M0S</dd><dt><span>history :</span></dt><dd>[{&#x27;program&#x27;: &#x27;xcube_cci.chunkstore.CciChunkStore&#x27;, &#x27;cube_params&#x27;: {&#x27;variable_names&#x27;: [&#x27;analysed_sst&#x27;], &#x27;time_range&#x27;: [&#x27;2000-01-01T00:00:00&#x27;, &#x27;2010-12-31T00:00:00&#x27;]}}]</dd></dl></div></li></ul></div></div>"
      ],
      "text/plain": [
       "<xarray.Dataset>\n",
       "Dimensions:       (time: 4018, lat: 3600, lon: 7200, bnds: 2)\n",
       "Coordinates:\n",
       "  * lat           (lat) float32 -89.97 -89.93 -89.88 ... 89.88 89.93 89.97\n",
       "    lat_bnds      (lat, bnds) float32 dask.array<chunksize=(3600, 2), meta=np.ndarray>\n",
       "  * lon           (lon) float32 -180.0 -179.9 -179.9 ... 179.9 179.9 180.0\n",
       "    lon_bnds      (lon, bnds) float32 dask.array<chunksize=(7200, 2), meta=np.ndarray>\n",
       "  * time          (time) datetime64[ns] 2000-01-01T12:00:00 ... 2010-12-31T12...\n",
       "    time_bnds     (time, bnds) datetime64[ns] dask.array<chunksize=(4018, 2), meta=np.ndarray>\n",
       "Dimensions without coordinates: bnds\n",
       "Data variables:\n",
       "    analysed_sst  (time, lat, lon) float32 dask.array<chunksize=(1, 900, 1800), meta=np.ndarray>\n",
       "Attributes:\n",
       "    Conventions:             CF-1.7\n",
       "    title:                   esacci.SST.day.L4.SSTdepth.multi-sensor.multi-pl...\n",
       "    date_created:            2023-07-31T10:06:34.322142\n",
       "    processing_level:        L4\n",
       "    time_coverage_start:     2000-01-01T00:00:00\n",
       "    time_coverage_end:       2011-01-01T00:00:00\n",
       "    time_coverage_duration:  P4018DT0H0M0S\n",
       "    history:                 [{'program': 'xcube_cci.chunkstore.CciChunkStore..."
      ]
     },
     "execution_count": 9,
     "metadata": {},
     "output_type": "execute_result"
    }
   ],
   "source": [
    "dataset = store.open_data('esacci.SST.day.L4.SSTdepth.multi-sensor.multi-platform.OSTIA.1-1.r1', \n",
    "                          variable_names=['analysed_sst'],\n",
    "                          time_range=['2000-01-01','2010-12-31'])\n",
    "\n",
    "dataset"
   ]
  },
  {
   "cell_type": "markdown",
   "id": "162a3431",
   "metadata": {
    "papermill": {
     "duration": 0.092755,
     "end_time": "2023-07-31T10:06:34.809913",
     "exception": false,
     "start_time": "2023-07-31T10:06:34.717158",
     "status": "completed"
    },
    "tags": []
   },
   "source": [
    "Plot one time stamp of the dataset for a analysed_sst in order to take a brief look at the dataset:  "
   ]
  },
  {
   "cell_type": "code",
   "execution_count": 10,
   "id": "9496a6e6",
   "metadata": {
    "execution": {
     "iopub.execute_input": "2023-07-31T10:06:34.982373Z",
     "iopub.status.busy": "2023-07-31T10:06:34.982062Z",
     "iopub.status.idle": "2023-07-31T10:06:53.874713Z",
     "shell.execute_reply": "2023-07-31T10:06:53.874039Z"
    },
    "papermill": {
     "duration": 18.985495,
     "end_time": "2023-07-31T10:06:53.880580",
     "exception": false,
     "start_time": "2023-07-31T10:06:34.895085",
     "status": "completed"
    },
    "tags": []
   },
   "outputs": [
    {
     "data": {
      "text/plain": [
       "<matplotlib.image.AxesImage at 0x7fb36e524f10>"
      ]
     },
     "execution_count": 10,
     "metadata": {},
     "output_type": "execute_result"
    },
    {
     "data": {
      "image/png": "[encoded data removed]",
      "text/plain": [
       "<Figure size 1600x800 with 2 Axes>"
      ]
     },
     "metadata": {},
     "output_type": "display_data"
    }
   ],
   "source": [
    "dataset.analysed_sst.sel(time='2005-12-12', method='nearest').plot.imshow(cmap='plasma')"
   ]
  },
  {
   "cell_type": "code",
   "execution_count": 11,
   "id": "6084b62d",
   "metadata": {
    "execution": {
     "iopub.execute_input": "2023-07-31T10:06:54.912997Z",
     "iopub.status.busy": "2023-07-31T10:06:54.912681Z",
     "iopub.status.idle": "2023-07-31T10:06:55.249552Z",
     "shell.execute_reply": "2023-07-31T10:06:55.249000Z"
    },
    "papermill": {
     "duration": 0.504932,
     "end_time": "2023-07-31T10:06:55.251313",
     "exception": false,
     "start_time": "2023-07-31T10:06:54.746381",
     "status": "completed"
    },
    "tags": []
   },
   "outputs": [],
   "source": [
    "dataset_ts = store.open_data('esacci.SST.day.L4.SSTdepth.multi-sensor.multi-platform.OSTIA.1-1.r1', \n",
    "                          variable_names=['analysed_sst'], bbox=[-50, 20.,-49.95,20.05],\n",
    "                          time_range=['2000-01-01','2000-12-31'])"
   ]
  },
  {
   "cell_type": "code",
   "execution_count": 12,
   "id": "e4c3623b",
   "metadata": {
    "execution": {
     "iopub.execute_input": "2023-07-31T10:06:55.708208Z",
     "iopub.status.busy": "2023-07-31T10:06:55.707889Z",
     "iopub.status.idle": "2023-07-31T10:06:55.730594Z",
     "shell.execute_reply": "2023-07-31T10:06:55.729905Z"
    },
    "papermill": {
     "duration": 0.23806,
     "end_time": "2023-07-31T10:06:55.732476",
     "exception": false,
     "start_time": "2023-07-31T10:06:55.494416",
     "status": "completed"
    },
    "tags": []
   },
   "outputs": [
    {
     "data": {
      "text/html": [
       "<div><svg style=\"position: absolute; width: 0; height: 0; overflow: hidden\">\n",
       "<defs>\n",
       "<symbol id=\"icon-database\" viewBox=\"0 0 32 32\">\n",
       "<path d=\"M16 0c-8.837 0-16 2.239-16 5v4c0 2.761 7.163 5 16 5s16-2.239 16-5v-4c0-2.761-7.163-5-16-5z\"></path>\n",
       "<path d=\"M16 17c-8.837 0-16-2.239-16-5v6c0 2.761 7.163 5 16 5s16-2.239 16-5v-6c0 2.761-7.163 5-16 5z\"></path>\n",
       "<path d=\"M16 26c-8.837 0-16-2.239-16-5v6c0 2.761 7.163 5 16 5s16-2.239 16-5v-6c0 2.761-7.163 5-16 5z\"></path>\n",
       "</symbol>\n",
       "<symbol id=\"icon-file-text2\" viewBox=\"0 0 32 32\">\n",
       "<path d=\"M28.681 7.159c-0.694-0.947-1.662-2.053-2.724-3.116s-2.169-2.030-3.116-2.724c-1.612-1.182-2.393-1.319-2.841-1.319h-15.5c-1.378 0-2.5 1.121-2.5 2.5v27c0 1.378 1.122 2.5 2.5 2.5h23c1.378 0 2.5-1.122 2.5-2.5v-19.5c0-0.448-0.137-1.23-1.319-2.841zM24.543 5.457c0.959 0.959 1.712 1.825 2.268 2.543h-4.811v-4.811c0.718 0.556 1.584 1.309 2.543 2.268zM28 29.5c0 0.271-0.229 0.5-0.5 0.5h-23c-0.271 0-0.5-0.229-0.5-0.5v-27c0-0.271 0.229-0.5 0.5-0.5 0 0 15.499-0 15.5 0v7c0 0.552 0.448 1 1 1h7v19.5z\"></path>\n",
       "<path d=\"M23 26h-14c-0.552 0-1-0.448-1-1s0.448-1 1-1h14c0.552 0 1 0.448 1 1s-0.448 1-1 1z\"></path>\n",
       "<path d=\"M23 22h-14c-0.552 0-1-0.448-1-1s0.448-1 1-1h14c0.552 0 1 0.448 1 1s-0.448 1-1 1z\"></path>\n",
       "<path d=\"M23 18h-14c-0.552 0-1-0.448-1-1s0.448-1 1-1h14c0.552 0 1 0.448 1 1s-0.448 1-1 1z\"></path>\n",
       "</symbol>\n",
       "</defs>\n",
       "</svg>\n",
       "<style>/* CSS stylesheet for displaying xarray objects in jupyterlab.\n",
       " *\n",
       " */\n",
       "\n",
       ":root {\n",
       "  --xr-font-color0: var(--jp-content-font-color0, rgba(0, 0, 0, 1));\n",
       "  --xr-font-color2: var(--jp-content-font-color2, rgba(0, 0, 0, 0.54));\n",
       "  --xr-font-color3: var(--jp-content-font-color3, rgba(0, 0, 0, 0.38));\n",
       "  --xr-border-color: var(--jp-border-color2, #e0e0e0);\n",
       "  --xr-disabled-color: var(--jp-layout-color3, #bdbdbd);\n",
       "  --xr-background-color: var(--jp-layout-color0, white);\n",
       "  --xr-background-color-row-even: var(--jp-layout-color1, white);\n",
       "  --xr-background-color-row-odd: var(--jp-layout-color2, #eeeeee);\n",
       "}\n",
       "\n",
       "html[theme=dark],\n",
       "body[data-theme=dark],\n",
       "body.vscode-dark {\n",
       "  --xr-font-color0: rgba(255, 255, 255, 1);\n",
       "  --xr-font-color2: rgba(255, 255, 255, 0.54);\n",
       "  --xr-font-color3: rgba(255, 255, 255, 0.38);\n",
       "  --xr-border-color: #1F1F1F;\n",
       "  --xr-disabled-color: #515151;\n",
       "  --xr-background-color: #111111;\n",
       "  --xr-background-color-row-even: #111111;\n",
       "  --xr-background-color-row-odd: #313131;\n",
       "}\n",
       "\n",
       ".xr-wrap {\n",
       "  display: block !important;\n",
       "  min-width: 300px;\n",
       "  max-width: 700px;\n",
       "}\n",
       "\n",
       ".xr-text-repr-fallback {\n",
       "  /* fallback to plain text repr when CSS is not injected (untrusted notebook) */\n",
       "  display: none;\n",
       "}\n",
       "\n",
       ".xr-header {\n",
       "  padding-top: 6px;\n",
       "  padding-bottom: 6px;\n",
       "  margin-bottom: 4px;\n",
       "  border-bottom: solid 1px var(--xr-border-color);\n",
       "}\n",
       "\n",
       ".xr-header > div,\n",
       ".xr-header > ul {\n",
       "  display: inline;\n",
       "  margin-top: 0;\n",
       "  margin-bottom: 0;\n",
       "}\n",
       "\n",
       ".xr-obj-type,\n",
       ".xr-array-name {\n",
       "  margin-left: 2px;\n",
       "  margin-right: 10px;\n",
       "}\n",
       "\n",
       ".xr-obj-type {\n",
       "  color: var(--xr-font-color2);\n",
       "}\n",
       "\n",
       ".xr-sections {\n",
       "  padding-left: 0 !important;\n",
       "  display: grid;\n",
       "  grid-template-columns: 150px auto auto 1fr 20px 20px;\n",
       "}\n",
       "\n",
       ".xr-section-item {\n",
       "  display: contents;\n",
       "}\n",
       "\n",
       ".xr-section-item input {\n",
       "  display: none;\n",
       "}\n",
       "\n",
       ".xr-section-item input + label {\n",
       "  color: var(--xr-disabled-color);\n",
       "}\n",
       "\n",
       ".xr-section-item input:enabled + label {\n",
       "  cursor: pointer;\n",
       "  color: var(--xr-font-color2);\n",
       "}\n",
       "\n",
       ".xr-section-item input:enabled + label:hover {\n",
       "  color: var(--xr-font-color0);\n",
       "}\n",
       "\n",
       ".xr-section-summary {\n",
       "  grid-column: 1;\n",
       "  color: var(--xr-font-color2);\n",
       "  font-weight: 500;\n",
       "}\n",
       "\n",
       ".xr-section-summary > span {\n",
       "  display: inline-block;\n",
       "  padding-left: 0.5em;\n",
       "}\n",
       "\n",
       ".xr-section-summary-in:disabled + label {\n",
       "  color: var(--xr-font-color2);\n",
       "}\n",
       "\n",
       ".xr-section-summary-in + label:before {\n",
       "  display: inline-block;\n",
       "  content: '►';\n",
       "  font-size: 11px;\n",
       "  width: 15px;\n",
       "  text-align: center;\n",
       "}\n",
       "\n",
       ".xr-section-summary-in:disabled + label:before {\n",
       "  color: var(--xr-disabled-color);\n",
       "}\n",
       "\n",
       ".xr-section-summary-in:checked + label:before {\n",
       "  content: '▼';\n",
       "}\n",
       "\n",
       ".xr-section-summary-in:checked + label > span {\n",
       "  display: none;\n",
       "}\n",
       "\n",
       ".xr-section-summary,\n",
       ".xr-section-inline-details {\n",
       "  padding-top: 4px;\n",
       "  padding-bottom: 4px;\n",
       "}\n",
       "\n",
       ".xr-section-inline-details {\n",
       "  grid-column: 2 / -1;\n",
       "}\n",
       "\n",
       ".xr-section-details {\n",
       "  display: none;\n",
       "  grid-column: 1 / -1;\n",
       "  margin-bottom: 5px;\n",
       "}\n",
       "\n",
       ".xr-section-summary-in:checked ~ .xr-section-details {\n",
       "  display: contents;\n",
       "}\n",
       "\n",
       ".xr-array-wrap {\n",
       "  grid-column: 1 / -1;\n",
       "  display: grid;\n",
       "  grid-template-columns: 20px auto;\n",
       "}\n",
       "\n",
       ".xr-array-wrap > label {\n",
       "  grid-column: 1;\n",
       "  vertical-align: top;\n",
       "}\n",
       "\n",
       ".xr-preview {\n",
       "  color: var(--xr-font-color3);\n",
       "}\n",
       "\n",
       ".xr-array-preview,\n",
       ".xr-array-data {\n",
       "  padding: 0 5px !important;\n",
       "  grid-column: 2;\n",
       "}\n",
       "\n",
       ".xr-array-data,\n",
       ".xr-array-in:checked ~ .xr-array-preview {\n",
       "  display: none;\n",
       "}\n",
       "\n",
       ".xr-array-in:checked ~ .xr-array-data,\n",
       ".xr-array-preview {\n",
       "  display: inline-block;\n",
       "}\n",
       "\n",
       ".xr-dim-list {\n",
       "  display: inline-block !important;\n",
       "  list-style: none;\n",
       "  padding: 0 !important;\n",
       "  margin: 0;\n",
       "}\n",
       "\n",
       ".xr-dim-list li {\n",
       "  display: inline-block;\n",
       "  padding: 0;\n",
       "  margin: 0;\n",
       "}\n",
       "\n",
       ".xr-dim-list:before {\n",
       "  content: '(';\n",
       "}\n",
       "\n",
       ".xr-dim-list:after {\n",
       "  content: ')';\n",
       "}\n",
       "\n",
       ".xr-dim-list li:not(:last-child):after {\n",
       "  content: ',';\n",
       "  padding-right: 5px;\n",
       "}\n",
       "\n",
       ".xr-has-index {\n",
       "  font-weight: bold;\n",
       "}\n",
       "\n",
       ".xr-var-list,\n",
       ".xr-var-item {\n",
       "  display: contents;\n",
       "}\n",
       "\n",
       ".xr-var-item > div,\n",
       ".xr-var-item label,\n",
       ".xr-var-item > .xr-var-name span {\n",
       "  background-color: var(--xr-background-color-row-even);\n",
       "  margin-bottom: 0;\n",
       "}\n",
       "\n",
       ".xr-var-item > .xr-var-name:hover span {\n",
       "  padding-right: 5px;\n",
       "}\n",
       "\n",
       ".xr-var-list > li:nth-child(odd) > div,\n",
       ".xr-var-list > li:nth-child(odd) > label,\n",
       ".xr-var-list > li:nth-child(odd) > .xr-var-name span {\n",
       "  background-color: var(--xr-background-color-row-odd);\n",
       "}\n",
       "\n",
       ".xr-var-name {\n",
       "  grid-column: 1;\n",
       "}\n",
       "\n",
       ".xr-var-dims {\n",
       "  grid-column: 2;\n",
       "}\n",
       "\n",
       ".xr-var-dtype {\n",
       "  grid-column: 3;\n",
       "  text-align: right;\n",
       "  color: var(--xr-font-color2);\n",
       "}\n",
       "\n",
       ".xr-var-preview {\n",
       "  grid-column: 4;\n",
       "}\n",
       "\n",
       ".xr-index-preview {\n",
       "  grid-column: 2 / 5;\n",
       "  color: var(--xr-font-color2);\n",
       "}\n",
       "\n",
       ".xr-var-name,\n",
       ".xr-var-dims,\n",
       ".xr-var-dtype,\n",
       ".xr-preview,\n",
       ".xr-attrs dt {\n",
       "  white-space: nowrap;\n",
       "  overflow: hidden;\n",
       "  text-overflow: ellipsis;\n",
       "  padding-right: 10px;\n",
       "}\n",
       "\n",
       ".xr-var-name:hover,\n",
       ".xr-var-dims:hover,\n",
       ".xr-var-dtype:hover,\n",
       ".xr-attrs dt:hover {\n",
       "  overflow: visible;\n",
       "  width: auto;\n",
       "  z-index: 1;\n",
       "}\n",
       "\n",
       ".xr-var-attrs,\n",
       ".xr-var-data,\n",
       ".xr-index-data {\n",
       "  display: none;\n",
       "  background-color: var(--xr-background-color) !important;\n",
       "  padding-bottom: 5px !important;\n",
       "}\n",
       "\n",
       ".xr-var-attrs-in:checked ~ .xr-var-attrs,\n",
       ".xr-var-data-in:checked ~ .xr-var-data,\n",
       ".xr-index-data-in:checked ~ .xr-index-data {\n",
       "  display: block;\n",
       "}\n",
       "\n",
       ".xr-var-data > table {\n",
       "  float: right;\n",
       "}\n",
       "\n",
       ".xr-var-name span,\n",
       ".xr-var-data,\n",
       ".xr-index-name div,\n",
       ".xr-index-data,\n",
       ".xr-attrs {\n",
       "  padding-left: 25px !important;\n",
       "}\n",
       "\n",
       ".xr-attrs,\n",
       ".xr-var-attrs,\n",
       ".xr-var-data,\n",
       ".xr-index-data {\n",
       "  grid-column: 1 / -1;\n",
       "}\n",
       "\n",
       "dl.xr-attrs {\n",
       "  padding: 0;\n",
       "  margin: 0;\n",
       "  display: grid;\n",
       "  grid-template-columns: 125px auto;\n",
       "}\n",
       "\n",
       ".xr-attrs dt,\n",
       ".xr-attrs dd {\n",
       "  padding: 0;\n",
       "  margin: 0;\n",
       "  float: left;\n",
       "  padding-right: 10px;\n",
       "  width: auto;\n",
       "}\n",
       "\n",
       ".xr-attrs dt {\n",
       "  font-weight: normal;\n",
       "  grid-column: 1;\n",
       "}\n",
       "\n",
       ".xr-attrs dt:hover span {\n",
       "  display: inline-block;\n",
       "  background: var(--xr-background-color);\n",
       "  padding-right: 10px;\n",
       "}\n",
       "\n",
       ".xr-attrs dd {\n",
       "  grid-column: 2;\n",
       "  white-space: pre-wrap;\n",
       "  word-break: break-all;\n",
       "}\n",
       "\n",
       ".xr-icon-database,\n",
       ".xr-icon-file-text2,\n",
       ".xr-no-icon {\n",
       "  display: inline-block;\n",
       "  vertical-align: middle;\n",
       "  width: 1em;\n",
       "  height: 1.5em !important;\n",
       "  stroke-width: 0;\n",
       "  stroke: currentColor;\n",
       "  fill: currentColor;\n",
       "}\n",
       "</style><pre class='xr-text-repr-fallback'>&lt;xarray.Dataset&gt;\n",
       "Dimensions:       (time: 366, lat: 1, lon: 1, bnds: 2)\n",
       "Coordinates:\n",
       "  * lat           (lat) float32 20.02\n",
       "    lat_bnds      (lat, bnds) float32 dask.array&lt;chunksize=(1, 2), meta=np.ndarray&gt;\n",
       "  * lon           (lon) float32 -49.97\n",
       "    lon_bnds      (lon, bnds) float32 dask.array&lt;chunksize=(1, 2), meta=np.ndarray&gt;\n",
       "  * time          (time) datetime64[ns] 2000-01-01T12:00:00 ... 2000-12-31T12...\n",
       "    time_bnds     (time, bnds) datetime64[ns] dask.array&lt;chunksize=(366, 2), meta=np.ndarray&gt;\n",
       "Dimensions without coordinates: bnds\n",
       "Data variables:\n",
       "    analysed_sst  (time, lat, lon) float32 dask.array&lt;chunksize=(1, 1, 1), meta=np.ndarray&gt;\n",
       "Attributes:\n",
       "    Conventions:             CF-1.7\n",
       "    title:                   esacci.SST.day.L4.SSTdepth.multi-sensor.multi-pl...\n",
       "    date_created:            2023-07-31T10:06:55.235691\n",
       "    processing_level:        L4\n",
       "    time_coverage_start:     2000-01-01T00:00:00\n",
       "    time_coverage_end:       2001-01-01T00:00:00\n",
       "    time_coverage_duration:  P366DT0H0M0S\n",
       "    history:                 [{&#x27;program&#x27;: &#x27;xcube_cci.chunkstore.CciChunkStore...</pre><div class='xr-wrap' style='display:none'><div class='xr-header'><div class='xr-obj-type'>xarray.Dataset</div></div><ul class='xr-sections'><li class='xr-section-item'><input id='section-6ff1fa50-f9ac-418d-b97f-df3465e2aa70' class='xr-section-summary-in' type='checkbox' disabled ><label for='section-6ff1fa50-f9ac-418d-b97f-df3465e2aa70' class='xr-section-summary'  title='Expand/collapse section'>Dimensions:</label><div class='xr-section-inline-details'><ul class='xr-dim-list'><li><span class='xr-has-index'>time</span>: 366</li><li><span class='xr-has-index'>lat</span>: 1</li><li><span class='xr-has-index'>lon</span>: 1</li><li><span>bnds</span>: 2</li></ul></div><div class='xr-section-details'></div></li><li class='xr-section-item'><input id='section-32395002-7528-4686-8103-dc9d039f6466' class='xr-section-summary-in' type='checkbox'  checked><label for='section-32395002-7528-4686-8103-dc9d039f6466' class='xr-section-summary' >Coordinates: <span>(6)</span></label><div class='xr-section-inline-details'></div><div class='xr-section-details'><ul class='xr-var-list'><li class='xr-var-item'><div class='xr-var-name'><span class='xr-has-index'>lat</span></div><div class='xr-var-dims'>(lat)</div><div class='xr-var-dtype'>float32</div><div class='xr-var-preview xr-preview'>20.02</div><input id='attrs-56d26753-a851-40d2-81d8-4555c43db553' class='xr-var-attrs-in' type='checkbox' ><label for='attrs-56d26753-a851-40d2-81d8-4555c43db553' title='Show/Hide attributes'><svg class='icon xr-icon-file-text2'><use xlink:href='#icon-file-text2'></use></svg></label><input id='data-e0038070-1089-4860-860f-b40b16c3cc49' class='xr-var-data-in' type='checkbox'><label for='data-e0038070-1089-4860-860f-b40b16c3cc49' title='Show/Hide data repr'><svg class='icon xr-icon-database'><use xlink:href='#icon-database'></use></svg></label><div class='xr-var-attrs'><dl class='xr-attrs'><dt><span>standard_name :</span></dt><dd>latitude</dd><dt><span>units :</span></dt><dd>degrees_north</dd><dt><span>valid_min :</span></dt><dd>-90.0</dd><dt><span>valid_max :</span></dt><dd>90.0</dd><dt><span>axis :</span></dt><dd>Y</dd><dt><span>reference_datum :</span></dt><dd>geographical coordinates, WGS84 projection</dd><dt><span>bounds :</span></dt><dd>lat_bnds</dd><dt><span>comment :</span></dt><dd></dd><dt><span>long_name :</span></dt><dd>Latitude</dd><dt><span>orig_data_type :</span></dt><dd>float32</dd><dt><span>fill_value :</span></dt><dd>nan</dd><dt><span>size :</span></dt><dd>1</dd><dt><span>shape :</span></dt><dd>[1]</dd><dt><span>chunk_sizes :</span></dt><dd>1</dd><dt><span>file_chunk_sizes :</span></dt><dd>1</dd><dt><span>data_type :</span></dt><dd>float32</dd><dt><span>dimensions :</span></dt><dd>[&#x27;lat&#x27;]</dd><dt><span>file_dimensions :</span></dt><dd>[&#x27;lat&#x27;]</dd></dl></div><div class='xr-var-data'><pre>array([20.025], dtype=float32)</pre></div></li><li class='xr-var-item'><div class='xr-var-name'><span>lat_bnds</span></div><div class='xr-var-dims'>(lat, bnds)</div><div class='xr-var-dtype'>float32</div><div class='xr-var-preview xr-preview'>dask.array&lt;chunksize=(1, 2), meta=np.ndarray&gt;</div><input id='attrs-3f6ac05c-b841-416a-8376-e6a168e8b4bb' class='xr-var-attrs-in' type='checkbox' ><label for='attrs-3f6ac05c-b841-416a-8376-e6a168e8b4bb' title='Show/Hide attributes'><svg class='icon xr-icon-file-text2'><use xlink:href='#icon-file-text2'></use></svg></label><input id='data-866d5896-da3e-41e3-930d-f88ab775e835' class='xr-var-data-in' type='checkbox'><label for='data-866d5896-da3e-41e3-930d-f88ab775e835' title='Show/Hide data repr'><svg class='icon xr-icon-database'><use xlink:href='#icon-database'></use></svg></label><div class='xr-var-attrs'><dl class='xr-attrs'><dt><span>units :</span></dt><dd>degrees_north</dd><dt><span>long_name :</span></dt><dd>Latitude cell boundaries</dd><dt><span>valid_min :</span></dt><dd>-90.0</dd><dt><span>valid_max :</span></dt><dd>90.0</dd><dt><span>reference_datum :</span></dt><dd>geographical coordinates, WGS84 projection</dd><dt><span>comment :</span></dt><dd>Contains the northern and southern boundaries of the grid cells.</dd><dt><span>orig_data_type :</span></dt><dd>float32</dd><dt><span>fill_value :</span></dt><dd>nan</dd><dt><span>size :</span></dt><dd>2</dd><dt><span>shape :</span></dt><dd>[1, 2]</dd><dt><span>chunk_sizes :</span></dt><dd>[1, 2]</dd><dt><span>file_chunk_sizes :</span></dt><dd>[1, 2]</dd><dt><span>data_type :</span></dt><dd>float32</dd><dt><span>dimensions :</span></dt><dd>[&#x27;lat&#x27;, &#x27;bnds&#x27;]</dd><dt><span>file_dimensions :</span></dt><dd>[&#x27;lat&#x27;, &#x27;bnds&#x27;]</dd></dl></div><div class='xr-var-data'><table>\n",
       "    <tr>\n",
       "        <td>\n",
       "            <table style=\"border-collapse: collapse;\">\n",
       "                <thead>\n",
       "                    <tr>\n",
       "                        <td> </td>\n",
       "                        <th> Array </th>\n",
       "                        <th> Chunk </th>\n",
       "                    </tr>\n",
       "                </thead>\n",
       "                <tbody>\n",
       "                    \n",
       "                    <tr>\n",
       "                        <th> Bytes </th>\n",
       "                        <td> 8 B </td>\n",
       "                        <td> 8 B </td>\n",
       "                    </tr>\n",
       "                    \n",
       "                    <tr>\n",
       "                        <th> Shape </th>\n",
       "                        <td> (1, 2) </td>\n",
       "                        <td> (1, 2) </td>\n",
       "                    </tr>\n",
       "                    <tr>\n",
       "                        <th> Dask graph </th>\n",
       "                        <td colspan=\"2\"> 1 chunks in 2 graph layers </td>\n",
       "                    </tr>\n",
       "                    <tr>\n",
       "                        <th> Data type </th>\n",
       "                        <td colspan=\"2\"> float32 numpy.ndarray </td>\n",
       "                    </tr>\n",
       "                </tbody>\n",
       "            </table>\n",
       "        </td>\n",
       "        <td>\n",
       "        <svg width=\"170\" height=\"110\" style=\"stroke:rgb(0,0,0);stroke-width:1\" >\n",
       "\n",
       "  <!-- Horizontal lines -->\n",
       "  <line x1=\"0\" y1=\"0\" x2=\"120\" y2=\"0\" style=\"stroke-width:2\" />\n",
       "  <line x1=\"0\" y1=\"60\" x2=\"120\" y2=\"60\" style=\"stroke-width:2\" />\n",
       "\n",
       "  <!-- Vertical lines -->\n",
       "  <line x1=\"0\" y1=\"0\" x2=\"0\" y2=\"60\" style=\"stroke-width:2\" />\n",
       "  <line x1=\"120\" y1=\"0\" x2=\"120\" y2=\"60\" style=\"stroke-width:2\" />\n",
       "\n",
       "  <!-- Colored Rectangle -->\n",
       "  <polygon points=\"0.0,0.0 120.0,0.0 120.0,60.0 0.0,60.0\" style=\"fill:#ECB172A0;stroke-width:0\"/>\n",
       "\n",
       "  <!-- Text -->\n",
       "  <text x=\"60.000000\" y=\"80.000000\" font-size=\"1.0rem\" font-weight=\"100\" text-anchor=\"middle\" >2</text>\n",
       "  <text x=\"140.000000\" y=\"30.000000\" font-size=\"1.0rem\" font-weight=\"100\" text-anchor=\"middle\" transform=\"rotate(0,140.000000,30.000000)\">1</text>\n",
       "</svg>\n",
       "        </td>\n",
       "    </tr>\n",
       "</table></div></li><li class='xr-var-item'><div class='xr-var-name'><span class='xr-has-index'>lon</span></div><div class='xr-var-dims'>(lon)</div><div class='xr-var-dtype'>float32</div><div class='xr-var-preview xr-preview'>-49.97</div><input id='attrs-6749f93d-f6e6-45df-a72e-0479d5cdef9c' class='xr-var-attrs-in' type='checkbox' ><label for='attrs-6749f93d-f6e6-45df-a72e-0479d5cdef9c' title='Show/Hide attributes'><svg class='icon xr-icon-file-text2'><use xlink:href='#icon-file-text2'></use></svg></label><input id='data-07deb675-e247-4b38-8f00-16bc293dc69d' class='xr-var-data-in' type='checkbox'><label for='data-07deb675-e247-4b38-8f00-16bc293dc69d' title='Show/Hide data repr'><svg class='icon xr-icon-database'><use xlink:href='#icon-database'></use></svg></label><div class='xr-var-attrs'><dl class='xr-attrs'><dt><span>standard_name :</span></dt><dd>longitude</dd><dt><span>units :</span></dt><dd>degrees_east</dd><dt><span>valid_min :</span></dt><dd>-180.0</dd><dt><span>valid_max :</span></dt><dd>180.0</dd><dt><span>axis :</span></dt><dd>X</dd><dt><span>reference_datum :</span></dt><dd>geographical coordinates, WGS84 projection</dd><dt><span>bounds :</span></dt><dd>lon_bnds</dd><dt><span>comment :</span></dt><dd></dd><dt><span>long_name :</span></dt><dd>Longitude</dd><dt><span>orig_data_type :</span></dt><dd>float32</dd><dt><span>fill_value :</span></dt><dd>nan</dd><dt><span>size :</span></dt><dd>1</dd><dt><span>shape :</span></dt><dd>[1]</dd><dt><span>chunk_sizes :</span></dt><dd>1</dd><dt><span>file_chunk_sizes :</span></dt><dd>1</dd><dt><span>data_type :</span></dt><dd>float32</dd><dt><span>dimensions :</span></dt><dd>[&#x27;lon&#x27;]</dd><dt><span>file_dimensions :</span></dt><dd>[&#x27;lon&#x27;]</dd></dl></div><div class='xr-var-data'><pre>array([-49.975], dtype=float32)</pre></div></li><li class='xr-var-item'><div class='xr-var-name'><span>lon_bnds</span></div><div class='xr-var-dims'>(lon, bnds)</div><div class='xr-var-dtype'>float32</div><div class='xr-var-preview xr-preview'>dask.array&lt;chunksize=(1, 2), meta=np.ndarray&gt;</div><input id='attrs-fe19e593-a4f4-49d1-a334-9934ed444105' class='xr-var-attrs-in' type='checkbox' ><label for='attrs-fe19e593-a4f4-49d1-a334-9934ed444105' title='Show/Hide attributes'><svg class='icon xr-icon-file-text2'><use xlink:href='#icon-file-text2'></use></svg></label><input id='data-4ccdcaae-d117-49f4-8d5d-e2071a440043' class='xr-var-data-in' type='checkbox'><label for='data-4ccdcaae-d117-49f4-8d5d-e2071a440043' title='Show/Hide data repr'><svg class='icon xr-icon-database'><use xlink:href='#icon-database'></use></svg></label><div class='xr-var-attrs'><dl class='xr-attrs'><dt><span>units :</span></dt><dd>degrees_east</dd><dt><span>long_name :</span></dt><dd>Longitude cell boundaries</dd><dt><span>valid_min :</span></dt><dd>-180.0</dd><dt><span>valid_max :</span></dt><dd>180.0</dd><dt><span>reference_datum :</span></dt><dd>geographical coordinates, WGS84 projection</dd><dt><span>comment :</span></dt><dd>Contains the eastern and western boundaries of the grid cells.</dd><dt><span>orig_data_type :</span></dt><dd>float32</dd><dt><span>fill_value :</span></dt><dd>nan</dd><dt><span>size :</span></dt><dd>2</dd><dt><span>shape :</span></dt><dd>[1, 2]</dd><dt><span>chunk_sizes :</span></dt><dd>[1, 2]</dd><dt><span>file_chunk_sizes :</span></dt><dd>[1, 2]</dd><dt><span>data_type :</span></dt><dd>float32</dd><dt><span>dimensions :</span></dt><dd>[&#x27;lon&#x27;, &#x27;bnds&#x27;]</dd><dt><span>file_dimensions :</span></dt><dd>[&#x27;lon&#x27;, &#x27;bnds&#x27;]</dd></dl></div><div class='xr-var-data'><table>\n",
       "    <tr>\n",
       "        <td>\n",
       "            <table style=\"border-collapse: collapse;\">\n",
       "                <thead>\n",
       "                    <tr>\n",
       "                        <td> </td>\n",
       "                        <th> Array </th>\n",
       "                        <th> Chunk </th>\n",
       "                    </tr>\n",
       "                </thead>\n",
       "                <tbody>\n",
       "                    \n",
       "                    <tr>\n",
       "                        <th> Bytes </th>\n",
       "                        <td> 8 B </td>\n",
       "                        <td> 8 B </td>\n",
       "                    </tr>\n",
       "                    \n",
       "                    <tr>\n",
       "                        <th> Shape </th>\n",
       "                        <td> (1, 2) </td>\n",
       "                        <td> (1, 2) </td>\n",
       "                    </tr>\n",
       "                    <tr>\n",
       "                        <th> Dask graph </th>\n",
       "                        <td colspan=\"2\"> 1 chunks in 2 graph layers </td>\n",
       "                    </tr>\n",
       "                    <tr>\n",
       "                        <th> Data type </th>\n",
       "                        <td colspan=\"2\"> float32 numpy.ndarray </td>\n",
       "                    </tr>\n",
       "                </tbody>\n",
       "            </table>\n",
       "        </td>\n",
       "        <td>\n",
       "        <svg width=\"170\" height=\"110\" style=\"stroke:rgb(0,0,0);stroke-width:1\" >\n",
       "\n",
       "  <!-- Horizontal lines -->\n",
       "  <line x1=\"0\" y1=\"0\" x2=\"120\" y2=\"0\" style=\"stroke-width:2\" />\n",
       "  <line x1=\"0\" y1=\"60\" x2=\"120\" y2=\"60\" style=\"stroke-width:2\" />\n",
       "\n",
       "  <!-- Vertical lines -->\n",
       "  <line x1=\"0\" y1=\"0\" x2=\"0\" y2=\"60\" style=\"stroke-width:2\" />\n",
       "  <line x1=\"120\" y1=\"0\" x2=\"120\" y2=\"60\" style=\"stroke-width:2\" />\n",
       "\n",
       "  <!-- Colored Rectangle -->\n",
       "  <polygon points=\"0.0,0.0 120.0,0.0 120.0,60.0 0.0,60.0\" style=\"fill:#ECB172A0;stroke-width:0\"/>\n",
       "\n",
       "  <!-- Text -->\n",
       "  <text x=\"60.000000\" y=\"80.000000\" font-size=\"1.0rem\" font-weight=\"100\" text-anchor=\"middle\" >2</text>\n",
       "  <text x=\"140.000000\" y=\"30.000000\" font-size=\"1.0rem\" font-weight=\"100\" text-anchor=\"middle\" transform=\"rotate(0,140.000000,30.000000)\">1</text>\n",
       "</svg>\n",
       "        </td>\n",
       "    </tr>\n",
       "</table></div></li><li class='xr-var-item'><div class='xr-var-name'><span class='xr-has-index'>time</span></div><div class='xr-var-dims'>(time)</div><div class='xr-var-dtype'>datetime64[ns]</div><div class='xr-var-preview xr-preview'>2000-01-01T12:00:00 ... 2000-12-...</div><input id='attrs-1a5bec26-c12d-440c-a3bc-bddb1d349dc3' class='xr-var-attrs-in' type='checkbox' ><label for='attrs-1a5bec26-c12d-440c-a3bc-bddb1d349dc3' title='Show/Hide attributes'><svg class='icon xr-icon-file-text2'><use xlink:href='#icon-file-text2'></use></svg></label><input id='data-bff8ffd5-a481-4cc2-8e10-3d8d8f6ec82c' class='xr-var-data-in' type='checkbox'><label for='data-bff8ffd5-a481-4cc2-8e10-3d8d8f6ec82c' title='Show/Hide data repr'><svg class='icon xr-icon-database'><use xlink:href='#icon-database'></use></svg></label><div class='xr-var-attrs'><dl class='xr-attrs'><dt><span>standard_name :</span></dt><dd>time</dd><dt><span>bounds :</span></dt><dd>time_bnds</dd></dl></div><div class='xr-var-data'><pre>array([&#x27;2000-01-01T12:00:00.000000000&#x27;, &#x27;2000-01-02T12:00:00.000000000&#x27;,\n",
       "       &#x27;2000-01-03T12:00:00.000000000&#x27;, ..., &#x27;2000-12-29T12:00:00.000000000&#x27;,\n",
       "       &#x27;2000-12-30T12:00:00.000000000&#x27;, &#x27;2000-12-31T12:00:00.000000000&#x27;],\n",
       "      dtype=&#x27;datetime64[ns]&#x27;)</pre></div></li><li class='xr-var-item'><div class='xr-var-name'><span>time_bnds</span></div><div class='xr-var-dims'>(time, bnds)</div><div class='xr-var-dtype'>datetime64[ns]</div><div class='xr-var-preview xr-preview'>dask.array&lt;chunksize=(366, 2), meta=np.ndarray&gt;</div><input id='attrs-e5d5e2bc-3b5c-4079-9bcf-6c9fe3b42ee4' class='xr-var-attrs-in' type='checkbox' ><label for='attrs-e5d5e2bc-3b5c-4079-9bcf-6c9fe3b42ee4' title='Show/Hide attributes'><svg class='icon xr-icon-file-text2'><use xlink:href='#icon-file-text2'></use></svg></label><input id='data-f9d1ff5b-d480-4dc4-b59c-385f88d03a7b' class='xr-var-data-in' type='checkbox'><label for='data-f9d1ff5b-d480-4dc4-b59c-385f88d03a7b' title='Show/Hide data repr'><svg class='icon xr-icon-database'><use xlink:href='#icon-database'></use></svg></label><div class='xr-var-attrs'><dl class='xr-attrs'><dt><span>standard_name :</span></dt><dd>time_bnds</dd></dl></div><div class='xr-var-data'><table>\n",
       "    <tr>\n",
       "        <td>\n",
       "            <table style=\"border-collapse: collapse;\">\n",
       "                <thead>\n",
       "                    <tr>\n",
       "                        <td> </td>\n",
       "                        <th> Array </th>\n",
       "                        <th> Chunk </th>\n",
       "                    </tr>\n",
       "                </thead>\n",
       "                <tbody>\n",
       "                    \n",
       "                    <tr>\n",
       "                        <th> Bytes </th>\n",
       "                        <td> 5.72 kiB </td>\n",
       "                        <td> 5.72 kiB </td>\n",
       "                    </tr>\n",
       "                    \n",
       "                    <tr>\n",
       "                        <th> Shape </th>\n",
       "                        <td> (366, 2) </td>\n",
       "                        <td> (366, 2) </td>\n",
       "                    </tr>\n",
       "                    <tr>\n",
       "                        <th> Dask graph </th>\n",
       "                        <td colspan=\"2\"> 1 chunks in 2 graph layers </td>\n",
       "                    </tr>\n",
       "                    <tr>\n",
       "                        <th> Data type </th>\n",
       "                        <td colspan=\"2\"> datetime64[ns] numpy.ndarray </td>\n",
       "                    </tr>\n",
       "                </tbody>\n",
       "            </table>\n",
       "        </td>\n",
       "        <td>\n",
       "        <svg width=\"75\" height=\"170\" style=\"stroke:rgb(0,0,0);stroke-width:1\" >\n",
       "\n",
       "  <!-- Horizontal lines -->\n",
       "  <line x1=\"0\" y1=\"0\" x2=\"25\" y2=\"0\" style=\"stroke-width:2\" />\n",
       "  <line x1=\"0\" y1=\"120\" x2=\"25\" y2=\"120\" style=\"stroke-width:2\" />\n",
       "\n",
       "  <!-- Vertical lines -->\n",
       "  <line x1=\"0\" y1=\"0\" x2=\"0\" y2=\"120\" style=\"stroke-width:2\" />\n",
       "  <line x1=\"25\" y1=\"0\" x2=\"25\" y2=\"120\" style=\"stroke-width:2\" />\n",
       "\n",
       "  <!-- Colored Rectangle -->\n",
       "  <polygon points=\"0.0,0.0 25.412616514582485,0.0 25.412616514582485,120.0 0.0,120.0\" style=\"fill:#ECB172A0;stroke-width:0\"/>\n",
       "\n",
       "  <!-- Text -->\n",
       "  <text x=\"12.706308\" y=\"140.000000\" font-size=\"1.0rem\" font-weight=\"100\" text-anchor=\"middle\" >2</text>\n",
       "  <text x=\"45.412617\" y=\"60.000000\" font-size=\"1.0rem\" font-weight=\"100\" text-anchor=\"middle\" transform=\"rotate(-90,45.412617,60.000000)\">366</text>\n",
       "</svg>\n",
       "        </td>\n",
       "    </tr>\n",
       "</table></div></li></ul></div></li><li class='xr-section-item'><input id='section-f0133bb9-1f86-4fec-8417-4edad7ce60d9' class='xr-section-summary-in' type='checkbox'  checked><label for='section-f0133bb9-1f86-4fec-8417-4edad7ce60d9' class='xr-section-summary' >Data variables: <span>(1)</span></label><div class='xr-section-inline-details'></div><div class='xr-section-details'><ul class='xr-var-list'><li class='xr-var-item'><div class='xr-var-name'><span>analysed_sst</span></div><div class='xr-var-dims'>(time, lat, lon)</div><div class='xr-var-dtype'>float32</div><div class='xr-var-preview xr-preview'>dask.array&lt;chunksize=(1, 1, 1), meta=np.ndarray&gt;</div><input id='attrs-cf865374-7808-4866-a535-9dc60d031889' class='xr-var-attrs-in' type='checkbox' ><label for='attrs-cf865374-7808-4866-a535-9dc60d031889' title='Show/Hide attributes'><svg class='icon xr-icon-file-text2'><use xlink:href='#icon-file-text2'></use></svg></label><input id='data-ee6a0448-cec9-4502-8097-93694a80592c' class='xr-var-data-in' type='checkbox'><label for='data-ee6a0448-cec9-4502-8097-93694a80592c' title='Show/Hide data repr'><svg class='icon xr-icon-database'><use xlink:href='#icon-database'></use></svg></label><div class='xr-var-attrs'><dl class='xr-attrs'><dt><span>units :</span></dt><dd>kelvin</dd><dt><span>long_name :</span></dt><dd>analysed sea surface temperature</dd><dt><span>valid_min :</span></dt><dd>-300</dd><dt><span>valid_max :</span></dt><dd>4500</dd><dt><span>standard_name :</span></dt><dd>sea_water_temperature</dd><dt><span>depth :</span></dt><dd>20 cm</dd><dt><span>source :</span></dt><dd>ATSR&lt;1,2&gt;-ESACCI-L3U-v1.0, AATSR-ESACCI-L3U-v1.0, AVHRR&lt;12,14,15,16,17,18&gt;_G-ESACCI-L2P-v1.0, AVHRRMTA-ESACCI-L2P-v1.0</dd><dt><span>comment :</span></dt><dd>SST analysis produced for ESA SST CCI project using the OSTIA system in reanalysis mode.</dd><dt><span>orig_data_type :</span></dt><dd>int16</dd><dt><span>fill_value :</span></dt><dd>-32768</dd><dt><span>size :</span></dt><dd>366</dd><dt><span>shape :</span></dt><dd>[366, 1, 1]</dd><dt><span>chunk_sizes :</span></dt><dd>[1, 1, 1]</dd><dt><span>file_chunk_sizes :</span></dt><dd>[1, 1, 1]</dd><dt><span>data_type :</span></dt><dd>int16</dd><dt><span>dimensions :</span></dt><dd>[&#x27;time&#x27;, &#x27;lat&#x27;, &#x27;lon&#x27;]</dd><dt><span>file_dimensions :</span></dt><dd>[&#x27;time&#x27;, &#x27;lat&#x27;, &#x27;lon&#x27;]</dd></dl></div><div class='xr-var-data'><table>\n",
       "    <tr>\n",
       "        <td>\n",
       "            <table style=\"border-collapse: collapse;\">\n",
       "                <thead>\n",
       "                    <tr>\n",
       "                        <td> </td>\n",
       "                        <th> Array </th>\n",
       "                        <th> Chunk </th>\n",
       "                    </tr>\n",
       "                </thead>\n",
       "                <tbody>\n",
       "                    \n",
       "                    <tr>\n",
       "                        <th> Bytes </th>\n",
       "                        <td> 1.43 kiB </td>\n",
       "                        <td> 4 B </td>\n",
       "                    </tr>\n",
       "                    \n",
       "                    <tr>\n",
       "                        <th> Shape </th>\n",
       "                        <td> (366, 1, 1) </td>\n",
       "                        <td> (1, 1, 1) </td>\n",
       "                    </tr>\n",
       "                    <tr>\n",
       "                        <th> Dask graph </th>\n",
       "                        <td colspan=\"2\"> 366 chunks in 2 graph layers </td>\n",
       "                    </tr>\n",
       "                    <tr>\n",
       "                        <th> Data type </th>\n",
       "                        <td colspan=\"2\"> float32 numpy.ndarray </td>\n",
       "                    </tr>\n",
       "                </tbody>\n",
       "            </table>\n",
       "        </td>\n",
       "        <td>\n",
       "        <svg width=\"156\" height=\"146\" style=\"stroke:rgb(0,0,0);stroke-width:1\" >\n",
       "\n",
       "  <!-- Horizontal lines -->\n",
       "  <line x1=\"10\" y1=\"0\" x2=\"80\" y2=\"70\" style=\"stroke-width:2\" />\n",
       "  <line x1=\"10\" y1=\"25\" x2=\"80\" y2=\"96\" style=\"stroke-width:2\" />\n",
       "\n",
       "  <!-- Vertical lines -->\n",
       "  <line x1=\"10\" y1=\"0\" x2=\"10\" y2=\"25\" style=\"stroke-width:2\" />\n",
       "  <line x1=\"13\" y1=\"3\" x2=\"13\" y2=\"29\" />\n",
       "  <line x1=\"17\" y1=\"7\" x2=\"17\" y2=\"32\" />\n",
       "  <line x1=\"20\" y1=\"10\" x2=\"20\" y2=\"36\" />\n",
       "  <line x1=\"24\" y1=\"14\" x2=\"24\" y2=\"40\" />\n",
       "  <line x1=\"28\" y1=\"18\" x2=\"28\" y2=\"43\" />\n",
       "  <line x1=\"32\" y1=\"22\" x2=\"32\" y2=\"47\" />\n",
       "  <line x1=\"35\" y1=\"25\" x2=\"35\" y2=\"51\" />\n",
       "  <line x1=\"39\" y1=\"29\" x2=\"39\" y2=\"55\" />\n",
       "  <line x1=\"43\" y1=\"33\" x2=\"43\" y2=\"58\" />\n",
       "  <line x1=\"47\" y1=\"37\" x2=\"47\" y2=\"62\" />\n",
       "  <line x1=\"50\" y1=\"40\" x2=\"50\" y2=\"66\" />\n",
       "  <line x1=\"54\" y1=\"44\" x2=\"54\" y2=\"69\" />\n",
       "  <line x1=\"58\" y1=\"48\" x2=\"58\" y2=\"73\" />\n",
       "  <line x1=\"61\" y1=\"51\" x2=\"61\" y2=\"77\" />\n",
       "  <line x1=\"65\" y1=\"55\" x2=\"65\" y2=\"80\" />\n",
       "  <line x1=\"69\" y1=\"59\" x2=\"69\" y2=\"84\" />\n",
       "  <line x1=\"73\" y1=\"63\" x2=\"73\" y2=\"88\" />\n",
       "  <line x1=\"76\" y1=\"66\" x2=\"76\" y2=\"92\" />\n",
       "  <line x1=\"80\" y1=\"70\" x2=\"80\" y2=\"96\" style=\"stroke-width:2\" />\n",
       "\n",
       "  <!-- Colored Rectangle -->\n",
       "  <polygon points=\"10.0,0.0 80.58823529411765,70.58823529411765 80.58823529411765,96.00085180870013 10.0,25.412616514582485\" style=\"fill:#8B4903A0;stroke-width:0\"/>\n",
       "\n",
       "  <!-- Horizontal lines -->\n",
       "  <line x1=\"10\" y1=\"0\" x2=\"35\" y2=\"0\" style=\"stroke-width:2\" />\n",
       "  <line x1=\"13\" y1=\"3\" x2=\"39\" y2=\"3\" />\n",
       "  <line x1=\"17\" y1=\"7\" x2=\"42\" y2=\"7\" />\n",
       "  <line x1=\"20\" y1=\"10\" x2=\"46\" y2=\"10\" />\n",
       "  <line x1=\"24\" y1=\"14\" x2=\"50\" y2=\"14\" />\n",
       "  <line x1=\"28\" y1=\"18\" x2=\"53\" y2=\"18\" />\n",
       "  <line x1=\"32\" y1=\"22\" x2=\"57\" y2=\"22\" />\n",
       "  <line x1=\"35\" y1=\"25\" x2=\"61\" y2=\"25\" />\n",
       "  <line x1=\"39\" y1=\"29\" x2=\"65\" y2=\"29\" />\n",
       "  <line x1=\"43\" y1=\"33\" x2=\"68\" y2=\"33\" />\n",
       "  <line x1=\"47\" y1=\"37\" x2=\"72\" y2=\"37\" />\n",
       "  <line x1=\"50\" y1=\"40\" x2=\"76\" y2=\"40\" />\n",
       "  <line x1=\"54\" y1=\"44\" x2=\"79\" y2=\"44\" />\n",
       "  <line x1=\"58\" y1=\"48\" x2=\"83\" y2=\"48\" />\n",
       "  <line x1=\"61\" y1=\"51\" x2=\"87\" y2=\"51\" />\n",
       "  <line x1=\"65\" y1=\"55\" x2=\"90\" y2=\"55\" />\n",
       "  <line x1=\"69\" y1=\"59\" x2=\"94\" y2=\"59\" />\n",
       "  <line x1=\"73\" y1=\"63\" x2=\"98\" y2=\"63\" />\n",
       "  <line x1=\"76\" y1=\"66\" x2=\"102\" y2=\"66\" />\n",
       "  <line x1=\"80\" y1=\"70\" x2=\"106\" y2=\"70\" style=\"stroke-width:2\" />\n",
       "\n",
       "  <!-- Vertical lines -->\n",
       "  <line x1=\"10\" y1=\"0\" x2=\"80\" y2=\"70\" style=\"stroke-width:2\" />\n",
       "  <line x1=\"35\" y1=\"0\" x2=\"106\" y2=\"70\" style=\"stroke-width:2\" />\n",
       "\n",
       "  <!-- Colored Rectangle -->\n",
       "  <polygon points=\"10.0,0.0 35.41261651458248,0.0 106.00085180870013,70.58823529411765 80.58823529411765,70.58823529411765\" style=\"fill:#8B4903A0;stroke-width:0\"/>\n",
       "\n",
       "  <!-- Horizontal lines -->\n",
       "  <line x1=\"80\" y1=\"70\" x2=\"106\" y2=\"70\" style=\"stroke-width:2\" />\n",
       "  <line x1=\"80\" y1=\"96\" x2=\"106\" y2=\"96\" style=\"stroke-width:2\" />\n",
       "\n",
       "  <!-- Vertical lines -->\n",
       "  <line x1=\"80\" y1=\"70\" x2=\"80\" y2=\"96\" style=\"stroke-width:2\" />\n",
       "  <line x1=\"106\" y1=\"70\" x2=\"106\" y2=\"96\" style=\"stroke-width:2\" />\n",
       "\n",
       "  <!-- Colored Rectangle -->\n",
       "  <polygon points=\"80.58823529411765,70.58823529411765 106.00085180870013,70.58823529411765 106.00085180870013,96.00085180870013 80.58823529411765,96.00085180870013\" style=\"fill:#ECB172A0;stroke-width:0\"/>\n",
       "\n",
       "  <!-- Text -->\n",
       "  <text x=\"93.294544\" y=\"116.000852\" font-size=\"1.0rem\" font-weight=\"100\" text-anchor=\"middle\" >1</text>\n",
       "  <text x=\"126.000852\" y=\"83.294544\" font-size=\"1.0rem\" font-weight=\"100\" text-anchor=\"middle\" transform=\"rotate(0,126.000852,83.294544)\">1</text>\n",
       "  <text x=\"35.294118\" y=\"80.706734\" font-size=\"1.0rem\" font-weight=\"100\" text-anchor=\"middle\" transform=\"rotate(45,35.294118,80.706734)\">366</text>\n",
       "</svg>\n",
       "        </td>\n",
       "    </tr>\n",
       "</table></div></li></ul></div></li><li class='xr-section-item'><input id='section-53ea4ede-1f6c-4abc-90d5-e5b182207780' class='xr-section-summary-in' type='checkbox'  ><label for='section-53ea4ede-1f6c-4abc-90d5-e5b182207780' class='xr-section-summary' >Indexes: <span>(3)</span></label><div class='xr-section-inline-details'></div><div class='xr-section-details'><ul class='xr-var-list'><li class='xr-var-item'><div class='xr-index-name'><div>lat</div></div><div class='xr-index-preview'>PandasIndex</div><div></div><input id='index-75d1ef81-81ce-4042-94a2-3432b19324c3' class='xr-index-data-in' type='checkbox'/><label for='index-75d1ef81-81ce-4042-94a2-3432b19324c3' title='Show/Hide index repr'><svg class='icon xr-icon-database'><use xlink:href='#icon-database'></use></svg></label><div class='xr-index-data'><pre>PandasIndex(Float64Index([20.024999618530273], dtype=&#x27;float64&#x27;, name=&#x27;lat&#x27;))</pre></div></li><li class='xr-var-item'><div class='xr-index-name'><div>lon</div></div><div class='xr-index-preview'>PandasIndex</div><div></div><input id='index-108e0ecc-1131-4c89-a64a-134e05fd4875' class='xr-index-data-in' type='checkbox'/><label for='index-108e0ecc-1131-4c89-a64a-134e05fd4875' title='Show/Hide index repr'><svg class='icon xr-icon-database'><use xlink:href='#icon-database'></use></svg></label><div class='xr-index-data'><pre>PandasIndex(Float64Index([-49.974998474121094], dtype=&#x27;float64&#x27;, name=&#x27;lon&#x27;))</pre></div></li><li class='xr-var-item'><div class='xr-index-name'><div>time</div></div><div class='xr-index-preview'>PandasIndex</div><div></div><input id='index-5abd40b9-208b-4694-8804-313b752c3ca7' class='xr-index-data-in' type='checkbox'/><label for='index-5abd40b9-208b-4694-8804-313b752c3ca7' title='Show/Hide index repr'><svg class='icon xr-icon-database'><use xlink:href='#icon-database'></use></svg></label><div class='xr-index-data'><pre>PandasIndex(DatetimeIndex([&#x27;2000-01-01 12:00:00&#x27;, &#x27;2000-01-02 12:00:00&#x27;,\n",
       "               &#x27;2000-01-03 12:00:00&#x27;, &#x27;2000-01-04 12:00:00&#x27;,\n",
       "               &#x27;2000-01-05 12:00:00&#x27;, &#x27;2000-01-06 12:00:00&#x27;,\n",
       "               &#x27;2000-01-07 12:00:00&#x27;, &#x27;2000-01-08 12:00:00&#x27;,\n",
       "               &#x27;2000-01-09 12:00:00&#x27;, &#x27;2000-01-10 12:00:00&#x27;,\n",
       "               ...\n",
       "               &#x27;2000-12-22 12:00:00&#x27;, &#x27;2000-12-23 12:00:00&#x27;,\n",
       "               &#x27;2000-12-24 12:00:00&#x27;, &#x27;2000-12-25 12:00:00&#x27;,\n",
       "               &#x27;2000-12-26 12:00:00&#x27;, &#x27;2000-12-27 12:00:00&#x27;,\n",
       "               &#x27;2000-12-28 12:00:00&#x27;, &#x27;2000-12-29 12:00:00&#x27;,\n",
       "               &#x27;2000-12-30 12:00:00&#x27;, &#x27;2000-12-31 12:00:00&#x27;],\n",
       "              dtype=&#x27;datetime64[ns]&#x27;, name=&#x27;time&#x27;, length=366, freq=None))</pre></div></li></ul></div></li><li class='xr-section-item'><input id='section-07020289-f537-4b42-bd10-f716fbb069c5' class='xr-section-summary-in' type='checkbox'  checked><label for='section-07020289-f537-4b42-bd10-f716fbb069c5' class='xr-section-summary' >Attributes: <span>(8)</span></label><div class='xr-section-inline-details'></div><div class='xr-section-details'><dl class='xr-attrs'><dt><span>Conventions :</span></dt><dd>CF-1.7</dd><dt><span>title :</span></dt><dd>esacci.SST.day.L4.SSTdepth.multi-sensor.multi-platform.OSTIA.1-1.r1</dd><dt><span>date_created :</span></dt><dd>2023-07-31T10:06:55.235691</dd><dt><span>processing_level :</span></dt><dd>L4</dd><dt><span>time_coverage_start :</span></dt><dd>2000-01-01T00:00:00</dd><dt><span>time_coverage_end :</span></dt><dd>2001-01-01T00:00:00</dd><dt><span>time_coverage_duration :</span></dt><dd>P366DT0H0M0S</dd><dt><span>history :</span></dt><dd>[{&#x27;program&#x27;: &#x27;xcube_cci.chunkstore.CciChunkStore&#x27;, &#x27;cube_params&#x27;: {&#x27;variable_names&#x27;: [&#x27;analysed_sst&#x27;], &#x27;time_range&#x27;: [&#x27;2000-01-01T00:00:00&#x27;, &#x27;2000-12-31T00:00:00&#x27;], &#x27;bbox&#x27;: [-50, 20.0, -49.95, 20.05]}}]</dd></dl></div></li></ul></div></div>"
      ],
      "text/plain": [
       "<xarray.Dataset>\n",
       "Dimensions:       (time: 366, lat: 1, lon: 1, bnds: 2)\n",
       "Coordinates:\n",
       "  * lat           (lat) float32 20.02\n",
       "    lat_bnds      (lat, bnds) float32 dask.array<chunksize=(1, 2), meta=np.ndarray>\n",
       "  * lon           (lon) float32 -49.97\n",
       "    lon_bnds      (lon, bnds) float32 dask.array<chunksize=(1, 2), meta=np.ndarray>\n",
       "  * time          (time) datetime64[ns] 2000-01-01T12:00:00 ... 2000-12-31T12...\n",
       "    time_bnds     (time, bnds) datetime64[ns] dask.array<chunksize=(366, 2), meta=np.ndarray>\n",
       "Dimensions without coordinates: bnds\n",
       "Data variables:\n",
       "    analysed_sst  (time, lat, lon) float32 dask.array<chunksize=(1, 1, 1), meta=np.ndarray>\n",
       "Attributes:\n",
       "    Conventions:             CF-1.7\n",
       "    title:                   esacci.SST.day.L4.SSTdepth.multi-sensor.multi-pl...\n",
       "    date_created:            2023-07-31T10:06:55.235691\n",
       "    processing_level:        L4\n",
       "    time_coverage_start:     2000-01-01T00:00:00\n",
       "    time_coverage_end:       2001-01-01T00:00:00\n",
       "    time_coverage_duration:  P366DT0H0M0S\n",
       "    history:                 [{'program': 'xcube_cci.chunkstore.CciChunkStore..."
      ]
     },
     "execution_count": 12,
     "metadata": {},
     "output_type": "execute_result"
    }
   ],
   "source": [
    "dataset_ts"
   ]
  },
  {
   "cell_type": "code",
   "execution_count": 13,
   "id": "fd7839bb",
   "metadata": {
    "execution": {
     "iopub.execute_input": "2023-07-31T10:06:56.580699Z",
     "iopub.status.busy": "2023-07-31T10:06:56.580396Z",
     "iopub.status.idle": "2023-07-31T10:08:51.462863Z",
     "shell.execute_reply": "2023-07-31T10:08:51.462120Z"
    },
    "papermill": {
     "duration": 115.283186,
     "end_time": "2023-07-31T10:08:51.465012",
     "exception": false,
     "start_time": "2023-07-31T10:06:56.181826",
     "status": "completed"
    },
    "tags": []
   },
   "outputs": [
    {
     "data": {
      "text/plain": [
       "[<matplotlib.lines.Line2D at 0x7fb36ffbabd0>]"
      ]
     },
     "execution_count": 13,
     "metadata": {},
     "output_type": "execute_result"
    },
    {
     "data": {
      "image/png": "[encoded data removed]",
      "text/plain": [
       "<Figure size 1600x800 with 1 Axes>"
      ]
     },
     "metadata": {},
     "output_type": "display_data"
    }
   ],
   "source": [
    "dataset_ts.analysed_sst.plot()"
   ]
  },
  {
   "cell_type": "code",
   "execution_count": null,
   "id": "08cf4c2a",
   "metadata": {
    "papermill": {
     "duration": 0.164633,
     "end_time": "2023-07-31T10:08:51.944425",
     "exception": false,
     "start_time": "2023-07-31T10:08:51.779792",
     "status": "completed"
    },
    "tags": []
   },
   "outputs": [],
   "source": []
  }
 ],
 "metadata": {
  "kernelspec": {
   "display_name": "EDC 2022.02 (Python3)",
   "language": "python",
   "name": "conda-env-users-edc-2023.10-01-py"
  },
  "language_info": {
   "codemirror_mode": {
    "name": "ipython",
    "version": 3
   },
   "file_extension": ".py",
   "mimetype": "text/x-python",
   "name": "python",
   "nbconvert_exporter": "python",
   "pygments_lexer": "ipython3",
   "version": "3.11.4"
  },
  "papermill": {
   "default_parameters": {},
   "duration": 158.732097,
   "end_time": "2023-07-31T10:08:52.962653",
   "environment_variables": {},
   "exception": null,
   "input_path": "s3/notebooks-verification-base-2023-07-31-10-04-13/EDC_Access_CCI_data.ipynb",
   "output_path": "/home/jovyan/s3/notebook-verification-output/2023-07-31/EDC_Access_CCI_data.ipynb",
   "parameters": {},
   "start_time": "2023-07-31T10:06:14.230556",
   "version": "2.3.4"
  },
  "properties": {
   "authors": [
    {
     "id": "dbf6155e-c330-4243-a217-f74ecdfc3ec6",
     "name": "gunnar.brandt@brockmann-consult.de"
    }
   ],
   "description": "Accessing ESA CCI data with xcube  ",
   "id": "51b2d19b-edd0-4845-8f7d-44f14a312883",
   "license": null,
   "name": "Accessing CCI data with xcube",
   "requirements": [],
   "tags": [
    "xcube",
    "Analysis-Ready Data",
    "EO Data"
   ],
   "tosAgree": true,
   "type": "Jupyter Notebook",
   "version": "1.0"
  }
 },
 "nbformat": 4,
 "nbformat_minor": 5
}
