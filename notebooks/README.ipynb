{
 "cells": [
  {
   "cell_type": "code",
   "execution_count": 1,
   "id": "0166ad27",
   "metadata": {
    "execution": {
     "iopub.execute_input": "2023-03-22T12:54:10.542580Z",
     "iopub.status.busy": "2023-03-22T12:54:10.542197Z",
     "iopub.status.idle": "2023-03-22T12:54:10.677822Z",
     "shell.execute_reply": "2023-03-22T12:54:10.675901Z"
    },
    "papermill": {
     "duration": 0.145629,
     "end_time": "2023-03-22T12:54:10.680785",
     "exception": false,
     "start_time": "2023-03-22T12:54:10.535156",
     "status": "completed"
    },
    "tags": []
   },
   "outputs": [
    {
     "data": {
      "text/html": [
       "<script type=\"text/javascript\">\n",
       "        function toggle(id) {\n",
       "            el = document.getElementById(id);\n",
       "            el.style.display = el.style.display === \"none\" ? \"block\" : \"none\";\n",
       "        }\n",
       "    </script>"
      ],
      "text/plain": [
       "<IPython.core.display.HTML object>"
      ]
     },
     "metadata": {},
     "output_type": "display_data"
    },
    {
     "data": {
      "text/html": [
       "This notebook is compatible with this base image version (user-2023.03-02)."
      ],
      "text/plain": [
       "<IPython.core.display.HTML object>"
      ]
     },
     "metadata": {},
     "output_type": "display_data"
    }
   ],
   "source": [
    "from eoxhub import check_compatibility\n",
    "check_compatibility(\"user-2023.03-02\", dependencies=[])"
   ]
  },
  {
   "cell_type": "markdown",
   "id": "a28d20b5",
   "metadata": {
    "papermill": {
     "duration": 0.001644,
     "end_time": "2023-03-22T12:54:10.684140",
     "exception": false,
     "start_time": "2023-03-22T12:54:10.682496",
     "status": "completed"
    },
    "tags": []
   },
   "source": [
    "# Euro Data Cube Notebooks\n",
    "\n",
    "https://www.eurodatacube.com"
   ]
  }
 ],
 "metadata": {
  "kernelspec": {
   "display_name": "EDC 2022.02 (Python3)",
   "language": "python",
   "name": "edc"
  },
  "language_info": {
   "codemirror_mode": {
    "name": "ipython",
    "version": 3
   },
   "file_extension": ".py",
   "mimetype": "text/x-python",
   "name": "python",
   "nbconvert_exporter": "python",
   "pygments_lexer": "ipython3",
   "version": "3.9.16"
  },
  "papermill": {
   "default_parameters": {},
   "duration": 2.181086,
   "end_time": "2023-03-22T12:54:11.014499",
   "environment_variables": {},
   "exception": null,
   "input_path": "/tmp/tmpz8a4pq3x",
   "output_path": "/tmp/cur_notebook.ipynb",
   "parameters": {},
   "start_time": "2023-03-22T12:54:08.833413",
   "version": "2.3.3"
  },
  "properties": {
   "ignore": true
  }
 },
 "nbformat": 4,
 "nbformat_minor": 5
}