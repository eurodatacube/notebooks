{
 "cells": [
  {
   "cell_type": "code",
   "execution_count": 1,
   "id": "4ca1e6fe",
   "metadata": {
    "collapsed": true,
    "execution": {
     "iopub.execute_input": "2023-03-22T12:54:18.302023Z",
     "iopub.status.busy": "2023-03-22T12:54:18.301421Z",
     "iopub.status.idle": "2023-03-22T12:54:18.427486Z",
     "shell.execute_reply": "2023-03-22T12:54:18.426200Z"
    },
    "papermill": {
     "duration": 0.139611,
     "end_time": "2023-03-22T12:54:18.431875",
     "exception": false,
     "start_time": "2023-03-22T12:54:18.292264",
     "status": "completed"
    },
    "pycharm": {
     "name": "#%%\n"
    },
    "tags": []
   },
   "outputs": [
    {
     "data": {
      "text/html": [
       "<script type=\"text/javascript\">\n",
       "        function toggle(id) {\n",
       "            el = document.getElementById(id);\n",
       "            el.style.display = el.style.display === \"none\" ? \"block\" : \"none\";\n",
       "        }\n",
       "    </script>"
      ],
      "text/plain": [
       "<IPython.core.display.HTML object>"
      ]
     },
     "metadata": {},
     "output_type": "display_data"
    },
    {
     "data": {
      "text/html": [
       "This notebook is compatible with this base image version (user-2023.03-02)."
      ],
      "text/plain": [
       "<IPython.core.display.HTML object>"
      ]
     },
     "metadata": {},
     "output_type": "display_data"
    },
    {
     "data": {
      "text/markdown": [
       "\n",
       "\n",
       "---------\n",
       "\n",
       "The following environment variables are available:\n",
       "\n",
       "* `GEODB_AUTH_AUD`, `GEODB_AUTH_CLIENT_ID`, `GEODB_AUTH_DOMAIN`, `GEODB_API_SERVER_URL`, `GEODB_AUTH_CLIENT_SECRET`, `GEODB_API_SERVER_PORT`\n"
      ],
      "text/plain": [
       "<IPython.core.display.Markdown object>"
      ]
     },
     "metadata": {},
     "output_type": "display_data"
    }
   ],
   "source": [
    "from edc import check_compatibility\n",
    "check_compatibility(\"user-2023.03-02\", dependencies=[\"GEODB\"])"
   ]
  },
  {
   "cell_type": "markdown",
   "id": "9ef55c56",
   "metadata": {
    "collapsed": false,
    "papermill": {
     "duration": 0.013719,
     "end_time": "2023-03-22T12:54:18.454781",
     "exception": false,
     "start_time": "2023-03-22T12:54:18.441062",
     "status": "completed"
    },
    "pycharm": {
     "name": "#%% md\n"
    },
    "tags": []
   },
   "source": [
    "# Demonstration of Eurocrops data use in geoDB\n",
    "\n",
    "This notebook demonstrates how the [Eurocrops](https://github.com/maja601/EuroCrops) data can be used for analysis, using the geoDB."
   ]
  },
  {
   "cell_type": "code",
   "execution_count": 2,
   "id": "ea0b67eb",
   "metadata": {
    "collapsed": false,
    "execution": {
     "iopub.execute_input": "2023-03-22T12:54:18.469176Z",
     "iopub.status.busy": "2023-03-22T12:54:18.467714Z",
     "iopub.status.idle": "2023-03-22T12:54:19.351276Z",
     "shell.execute_reply": "2023-03-22T12:54:19.348010Z"
    },
    "papermill": {
     "duration": 0.895674,
     "end_time": "2023-03-22T12:54:19.356639",
     "exception": false,
     "start_time": "2023-03-22T12:54:18.460965",
     "status": "completed"
    },
    "pycharm": {
     "name": "#%%\n"
    },
    "tags": []
   },
   "outputs": [],
   "source": [
    "from xcube_geodb.core.geodb import GeoDBClient\n",
    "import time\n",
    "\n",
    "geodb = GeoDBClient()"
   ]
  },
  {
   "cell_type": "code",
   "execution_count": 3,
   "id": "dc99faaa",
   "metadata": {
    "collapsed": false,
    "execution": {
     "iopub.execute_input": "2023-03-22T12:54:19.374495Z",
     "iopub.status.busy": "2023-03-22T12:54:19.373748Z",
     "iopub.status.idle": "2023-03-22T12:54:19.382140Z",
     "shell.execute_reply": "2023-03-22T12:54:19.379763Z"
    },
    "papermill": {
     "duration": 0.02288,
     "end_time": "2023-03-22T12:54:19.387288",
     "exception": false,
     "start_time": "2023-03-22T12:54:19.364408",
     "status": "completed"
    },
    "pycharm": {
     "name": "#%%\n"
    },
    "tags": []
   },
   "outputs": [],
   "source": [
    "# Setting the database name; this database contains the Eurocrops data collections\n",
    "db = 'geodb_b34bfae7-9265-4a3e-b921-06549d3c6035'"
   ]
  },
  {
   "cell_type": "markdown",
   "id": "e95ab049",
   "metadata": {
    "collapsed": false,
    "papermill": {
     "duration": 0.004361,
     "end_time": "2023-03-22T12:54:19.396460",
     "exception": false,
     "start_time": "2023-03-22T12:54:19.392099",
     "status": "completed"
    },
    "pycharm": {
     "name": "#%% md\n"
    },
    "tags": []
   },
   "source": [
    "### Demo #1\n",
    "This step computes the area growing wheat in NRW (Germany), and measures the time needed to do that. Within the collection 'DE_NRW_2021_EC21', the crop types are identified by different codes stored in the column 'code'; the values 112 and 115 identify wheat, therefore the respective query is `'or=(code.eq.112,code.eq.115)'`. The sizes of the fields are stored in the column `'area_ha'`."
   ]
  },
  {
   "cell_type": "code",
   "execution_count": 4,
   "id": "6fb96b49",
   "metadata": {
    "collapsed": false,
    "execution": {
     "iopub.execute_input": "2023-03-22T12:54:19.415519Z",
     "iopub.status.busy": "2023-03-22T12:54:19.414932Z",
     "iopub.status.idle": "2023-03-22T12:54:38.324889Z",
     "shell.execute_reply": "2023-03-22T12:54:38.323405Z"
    },
    "papermill": {
     "duration": 18.926674,
     "end_time": "2023-03-22T12:54:38.328787",
     "exception": false,
     "start_time": "2023-03-22T12:54:19.402113",
     "status": "completed"
    },
    "pycharm": {
     "name": "#%%\n"
    },
    "tags": []
   },
   "outputs": [
    {
     "name": "stdout",
     "output_type": "stream",
     "text": [
      "Computed the area growing wheat in NRW (Germany): 226049 ha, within 18.902114251992316 seconds\n"
     ]
    }
   ],
   "source": [
    "tic = time.perf_counter()\n",
    "df = geodb.get_collection('DE_NRW_2021_EC21', query='or=(code.eq.112,code.eq.115)', database=db)\n",
    "area_acc = df['area_ha'].sum()\n",
    "toc = time.perf_counter()\n",
    "print(f\"Computed the area growing wheat in NRW (Germany): {area_acc:0.0f} ha, within {toc - tic} seconds\")"
   ]
  },
  {
   "cell_type": "markdown",
   "id": "197775ec",
   "metadata": {
    "collapsed": false,
    "papermill": {
     "duration": 0.008283,
     "end_time": "2023-03-22T12:54:38.344240",
     "exception": false,
     "start_time": "2023-03-22T12:54:38.335957",
     "status": "completed"
    },
    "pycharm": {
     "name": "#%% md\n"
    },
    "tags": []
   },
   "source": [
    "### Demo #2\n",
    "This step computes the area growing wheat in Belgium, and measures the time needed to do that. Within the collection 'BE_VLG_2021_EC21', the crop types are identified by different codes stored in the column 'gwscod_h'; the values 311 and 312 identify wheat, therefore the respective query is `'or=(gwscod_h.eq.311,gwscod_h.eq.312)'`. The sizes of the fields are stored in the column `'graf_opp'`"
   ]
  },
  {
   "cell_type": "code",
   "execution_count": 5,
   "id": "aecca457",
   "metadata": {
    "collapsed": false,
    "execution": {
     "iopub.execute_input": "2023-03-22T12:54:38.361733Z",
     "iopub.status.busy": "2023-03-22T12:54:38.361283Z",
     "iopub.status.idle": "2023-03-22T12:54:45.204368Z",
     "shell.execute_reply": "2023-03-22T12:54:45.202928Z"
    },
    "papermill": {
     "duration": 6.856421,
     "end_time": "2023-03-22T12:54:45.208210",
     "exception": false,
     "start_time": "2023-03-22T12:54:38.351789",
     "status": "completed"
    },
    "pycharm": {
     "name": "#%%\n"
    },
    "tags": []
   },
   "outputs": [
    {
     "name": "stdout",
     "output_type": "stream",
     "text": [
      "Computed the area growing wheat in Belgium (VLG): 71014 ha, within 6.835164927993901 seconds\n"
     ]
    }
   ],
   "source": [
    "tic = time.perf_counter()\n",
    "df = geodb.get_collection('BE_VLG_2021_EC21', query='or=(gwscod_h.eq.311,gwscod_h.eq.312)', database=db)\n",
    "area_acc = df['graf_opp'].sum()\n",
    "toc = time.perf_counter()\n",
    "print(f\"Computed the area growing wheat in Belgium (VLG): {area_acc:0.0f} ha, within {toc - tic} seconds\")"
   ]
  },
  {
   "cell_type": "markdown",
   "id": "35781087",
   "metadata": {
    "collapsed": false,
    "papermill": {
     "duration": 0.004687,
     "end_time": "2023-03-22T12:54:45.217460",
     "exception": false,
     "start_time": "2023-03-22T12:54:45.212773",
     "status": "completed"
    },
    "pycharm": {
     "name": "#%% md\n"
    },
    "tags": []
   },
   "source": [
    "### Demo #3\n",
    "This step extracts 1000 fields growing wheat in Austria. Within the collection 'AT_2021_EC21', the crop types are identified by different codes stored in the column 'snar_code'; the values 140, 168 and 170 identify wheat, and the column `'sl_flaeche'` stores the sizes of the fields."
   ]
  },
  {
   "cell_type": "code",
   "execution_count": 6,
   "id": "24af4c57",
   "metadata": {
    "collapsed": false,
    "execution": {
     "iopub.execute_input": "2023-03-22T12:54:45.304077Z",
     "iopub.status.busy": "2023-03-22T12:54:45.302974Z",
     "iopub.status.idle": "2023-03-22T12:55:23.985919Z",
     "shell.execute_reply": "2023-03-22T12:55:23.983823Z"
    },
    "papermill": {
     "duration": 38.707864,
     "end_time": "2023-03-22T12:55:23.993605",
     "exception": false,
     "start_time": "2023-03-22T12:54:45.285741",
     "status": "completed"
    },
    "pycharm": {
     "name": "#%%\n"
    },
    "tags": []
   },
   "outputs": [
    {
     "name": "stdout",
     "output_type": "stream",
     "text": [
      "Extracted 1000 areas in Austria growing wheat, larger than 1 ha, within 38.67284113999631 seconds\n"
     ]
    }
   ],
   "source": [
    "tic = time.perf_counter()\n",
    "df = geodb.get_collection('AT_2021_EC21', query='and=(or(snar_code.eq.140,snar_code.eq.168,snar_code.eq.170),sl_flaeche.gt.1)', database=db, limit=1000)\n",
    "toc = time.perf_counter()\n",
    "print(f\"Extracted 1000 areas in Austria growing wheat, larger than 1 ha, within {toc - tic} seconds\")"
   ]
  }
 ],
 "metadata": {
  "kernelspec": {
   "display_name": "Python 3",
   "language": "python",
   "name": "python3"
  },
  "language_info": {
   "codemirror_mode": {
    "name": "ipython",
    "version": 3
   },
   "file_extension": ".py",
   "mimetype": "text/x-python",
   "name": "python",
   "nbconvert_exporter": "python",
   "pygments_lexer": "ipython3",
   "version": "3.9.16"
  },
  "papermill": {
   "default_parameters": {},
   "duration": 67.96093,
   "end_time": "2023-03-22T12:55:24.535465",
   "environment_variables": {},
   "exception": null,
   "input_path": "/tmp/tmp5yo0z38i",
   "output_path": "/tmp/cur_notebook.ipynb",
   "parameters": {},
   "start_time": "2023-03-22T12:54:16.574535",
   "version": "2.3.4"
  },
  "properties": {
   "authors": [
    {
     "id": "b34bfae7-9265-4a3e-b921-06549d3c6035",
     "name": "thomas.storm@brockmann-consult.de"
    }
   ],
   "description": "Demonstrates how the Eurocrops data can be used",
   "id": "46d04c94-f499-4d6f-9d82-d326670ce5a8",
   "license": null,
   "name": "GeoDB: Eurocrops Dataset Demo",
   "requirements": [
    "eurodatacube-geodb",
    "eoxhub"
   ],
   "tags": [
    "GeoDB",
    "Vector Data",
    "Eurocrops"
   ],
   "tosAgree": true,
   "type": "Jupyter Notebook",
   "version": "0.0.2"
  }
 },
 "nbformat": 4,
 "nbformat_minor": 5
}