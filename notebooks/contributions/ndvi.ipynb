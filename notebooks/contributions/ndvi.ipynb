{
 "cells": [
  {
   "cell_type": "markdown",
   "metadata": {
    "tags": [
     "papermill-error-cell-tag"
    ]
   },
   "source": [
    "<span style=\"color:red; font-family:Helvetica Neue, Helvetica, Arial, sans-serif; font-size:2em;\">An Exception was encountered at '<a href=\"#papermill-error-cell\">In [5]</a>'.</span>"
   ]
  },
  {
   "cell_type": "code",
   "execution_count": 1,
   "metadata": {
    "execution": {
     "iopub.execute_input": "2020-11-12T10:13:28.733802Z",
     "iopub.status.busy": "2020-11-12T10:13:28.732814Z",
     "iopub.status.idle": "2020-11-12T10:13:28.803510Z",
     "shell.execute_reply": "2020-11-12T10:13:28.803963Z"
    },
    "papermill": {
     "duration": 0.08066,
     "end_time": "2020-11-12T10:13:28.804239",
     "exception": false,
     "start_time": "2020-11-12T10:13:28.723579",
     "status": "completed"
    },
    "tags": []
   },
   "outputs": [
    {
     "data": {
      "text/html": [
       "<script type=\"text/javascript\">\n",
       "        function toggle(id) {\n",
       "            el = document.getElementById(id);\n",
       "            el.style.display = el.style.display === \"none\" ? \"block\" : \"none\";\n",
       "        }\n",
       "    </script>"
      ],
      "text/plain": [
       "<IPython.core.display.HTML object>"
      ]
     },
     "metadata": {},
     "output_type": "display_data"
    },
    {
     "data": {
      "text/html": [
       "This notebook is compatible with this base image version (user-0.21.2)."
      ],
      "text/plain": [
       "<IPython.core.display.HTML object>"
      ]
     },
     "metadata": {},
     "output_type": "display_data"
    }
   ],
   "source": [
    "from edc import check_compatibility\n",
    "check_compatibility(\"user-0.21.2\")"
   ]
  },
  {
   "cell_type": "code",
   "execution_count": 2,
   "metadata": {
    "execution": {
     "iopub.execute_input": "2020-11-12T10:13:28.819081Z",
     "iopub.status.busy": "2020-11-12T10:13:28.818335Z",
     "iopub.status.idle": "2020-11-12T10:13:28.823975Z",
     "shell.execute_reply": "2020-11-12T10:13:28.823279Z"
    },
    "papermill": {
     "duration": 0.014235,
     "end_time": "2020-11-12T10:13:28.824101",
     "exception": false,
     "start_time": "2020-11-12T10:13:28.809866",
     "status": "completed"
    },
    "tags": []
   },
   "outputs": [
    {
     "data": {
      "text/markdown": [
       "API credentials have automatically been injected for your active subscriptions.  \n",
       "The following environment variables are now available:\n",
       "* `AWS_ACCESS_KEY_ID`, `AWS_BUCKET`, `AWS_SECRET_ACCESS_KEY`\n",
       "* `XCUBE_GEN_API_SERVER_PORT`, `XCUBE_GEN_API_SERVER_URL`, `XCUBE_GEN_API_USER_NAME`, `XCUBE_GEN_AUTH_AUD`, `XCUBE_GEN_AUTH_CLIENT_ID`, `XCUBE_GEN_AUTH_CLIENT_SECRET`, `XCUBE_GEN_AUTH_DOMAIN`\n",
       "\n",
       "The following additional environment variables have been loaded from `~/custom.env`:\n",
       "* `AWS_BUCKET`\n",
       "* `DAPA_URL`\n",
       "* `DB_HOST`, `DB_NAME`, `DB_PASSWORD`, `DB_USER`\n",
       "* `OGC_EDC_URL`\n",
       "* `REFERENCE_DATA`\n"
      ],
      "text/plain": [
       "<IPython.core.display.Markdown object>"
      ]
     },
     "metadata": {},
     "output_type": "display_data"
    }
   ],
   "source": [
    "from edc import setup_environment_variables\n",
    "setup_environment_variables()"
   ]
  },
  {
   "cell_type": "code",
   "execution_count": 3,
   "metadata": {
    "execution": {
     "iopub.execute_input": "2020-11-12T10:13:28.841332Z",
     "iopub.status.busy": "2020-11-12T10:13:28.840628Z",
     "iopub.status.idle": "2020-11-12T10:13:31.053021Z",
     "shell.execute_reply": "2020-11-12T10:13:31.053499Z"
    },
    "papermill": {
     "duration": 2.223523,
     "end_time": "2020-11-12T10:13:31.053663",
     "exception": false,
     "start_time": "2020-11-12T10:13:28.830140",
     "status": "completed"
    },
    "tags": []
   },
   "outputs": [],
   "source": [
    "%matplotlib inline"
   ]
  },
  {
   "cell_type": "code",
   "execution_count": 4,
   "metadata": {
    "execution": {
     "iopub.execute_input": "2020-11-12T10:13:31.070378Z",
     "iopub.status.busy": "2020-11-12T10:13:31.069695Z",
     "iopub.status.idle": "2020-11-12T10:13:31.072655Z",
     "shell.execute_reply": "2020-11-12T10:13:31.071811Z"
    },
    "papermill": {
     "duration": 0.012703,
     "end_time": "2020-11-12T10:13:31.072782",
     "exception": false,
     "start_time": "2020-11-12T10:13:31.060079",
     "status": "completed"
    },
    "tags": [
     "parameters"
    ]
   },
   "outputs": [],
   "source": [
    "days = 6"
   ]
  },
  {
   "cell_type": "markdown",
   "metadata": {
    "tags": [
     "papermill-error-cell-tag"
    ]
   },
   "source": [
    "<span id=\"papermill-error-cell\" style=\"color:red; font-family:Helvetica Neue, Helvetica, Arial, sans-serif; font-size:2em;\">Execution using papermill encountered an exception here and stopped:</span>"
   ]
  },
  {
   "cell_type": "code",
   "execution_count": 5,
   "metadata": {
    "execution": {
     "iopub.execute_input": "2020-11-12T10:13:31.123430Z",
     "iopub.status.busy": "2020-11-12T10:13:31.122726Z",
     "iopub.status.idle": "2020-11-12T10:13:32.071957Z",
     "shell.execute_reply": "2020-11-12T10:13:32.071255Z"
    },
    "papermill": {
     "duration": 0.961728,
     "end_time": "2020-11-12T10:13:32.072123",
     "exception": true,
     "start_time": "2020-11-12T10:13:31.110395",
     "status": "failed"
    },
    "tags": []
   },
   "outputs": [
    {
     "name": "stderr",
     "output_type": "stream",
     "text": [
      "/opt/conda/envs/eurodatacube-0.21.2/lib/python3.7/site-packages/xcube_sh/config.py:94: UserWarning: the geometry parameter is no longer supported, use bbox instead\n",
      "  warnings.warn('the geometry parameter is no longer supported, use bbox instead')\n"
     ]
    },
    {
     "ename": "ValueError",
     "evalue": "Both client_id and client_secret must be provided.\nConsider setting environment variables SH_CLIENT_ID and SH_CLIENT_SECRET.\nFor more information refer to https://docs.sentinel-hub.com/api/latest/#/API/authentication",
     "output_type": "error",
     "traceback": [
      "\u001b[0;31m---------------------------------------------------------------------------\u001b[0m",
      "\u001b[0;31mValueError\u001b[0m                                Traceback (most recent call last)",
      "\u001b[0;32m<ipython-input-5-1eefa7dadc16>\u001b[0m in \u001b[0;36m<module>\u001b[0;34m\u001b[0m\n\u001b[1;32m     13\u001b[0m     \u001b[0mspatial_res\u001b[0m\u001b[0;34m=\u001b[0m\u001b[0;36m0.00018\u001b[0m\u001b[0;34m,\u001b[0m  \u001b[0;31m# = 10.038 meters in degree\u001b[0m\u001b[0;34m\u001b[0m\u001b[0;34m\u001b[0m\u001b[0m\n\u001b[1;32m     14\u001b[0m     \u001b[0mtime_range\u001b[0m\u001b[0;34m=\u001b[0m\u001b[0;34m[\u001b[0m\u001b[0mday_in_past\u001b[0m\u001b[0;34m.\u001b[0m\u001b[0misoformat\u001b[0m\u001b[0;34m(\u001b[0m\u001b[0;34m)\u001b[0m\u001b[0;34m,\u001b[0m  \u001b[0mtoday\u001b[0m\u001b[0;34m.\u001b[0m\u001b[0misoformat\u001b[0m\u001b[0;34m(\u001b[0m\u001b[0;34m)\u001b[0m\u001b[0;34m]\u001b[0m\u001b[0;34m,\u001b[0m\u001b[0;34m\u001b[0m\u001b[0;34m\u001b[0m\u001b[0m\n\u001b[0;32m---> 15\u001b[0;31m     \u001b[0mtime_period\u001b[0m\u001b[0;34m=\u001b[0m\u001b[0;34m\"3D\"\u001b[0m\u001b[0;34m,\u001b[0m\u001b[0;34m\u001b[0m\u001b[0;34m\u001b[0m\u001b[0m\n\u001b[0m\u001b[1;32m     16\u001b[0m ))\n\u001b[1;32m     17\u001b[0m \u001b[0mndvi\u001b[0m \u001b[0;34m=\u001b[0m \u001b[0;34m(\u001b[0m\u001b[0mcube\u001b[0m\u001b[0;34m.\u001b[0m\u001b[0mB08\u001b[0m \u001b[0;34m-\u001b[0m \u001b[0mcube\u001b[0m\u001b[0;34m.\u001b[0m\u001b[0mB04\u001b[0m\u001b[0;34m)\u001b[0m \u001b[0;34m/\u001b[0m \u001b[0;34m(\u001b[0m\u001b[0mcube\u001b[0m\u001b[0;34m.\u001b[0m\u001b[0mB04\u001b[0m \u001b[0;34m+\u001b[0m \u001b[0mcube\u001b[0m\u001b[0;34m.\u001b[0m\u001b[0mB08\u001b[0m\u001b[0;34m)\u001b[0m\u001b[0;34m\u001b[0m\u001b[0;34m\u001b[0m\u001b[0m\n",
      "\u001b[0;32m/opt/conda/envs/eurodatacube-0.21.2/lib/python3.7/site-packages/xcube_sh/cube.py\u001b[0m in \u001b[0;36mopen_cube\u001b[0;34m(cube_config, observer, trace_store_calls, max_cache_size, **sh_kwargs)\u001b[0m\n\u001b[1;32m     47\u001b[0m     \u001b[0;34m:\u001b[0m\u001b[0;32mreturn\u001b[0m\u001b[0;34m:\u001b[0m \u001b[0mthe\u001b[0m \u001b[0mdata\u001b[0m \u001b[0mcube\u001b[0m \u001b[0mrepresented\u001b[0m \u001b[0mby\u001b[0m \u001b[0man\u001b[0m \u001b[0mxarray\u001b[0m \u001b[0mDataset\u001b[0m \u001b[0mobject\u001b[0m\u001b[0;34m.\u001b[0m\u001b[0;34m\u001b[0m\u001b[0;34m\u001b[0m\u001b[0m\n\u001b[1;32m     48\u001b[0m     \"\"\"\n\u001b[0;32m---> 49\u001b[0;31m     \u001b[0msentinel_hub\u001b[0m \u001b[0;34m=\u001b[0m \u001b[0mSentinelHub\u001b[0m\u001b[0;34m(\u001b[0m\u001b[0;34m**\u001b[0m\u001b[0msh_kwargs\u001b[0m\u001b[0;34m)\u001b[0m\u001b[0;34m\u001b[0m\u001b[0;34m\u001b[0m\u001b[0m\n\u001b[0m\u001b[1;32m     50\u001b[0m     \u001b[0mcube_store\u001b[0m \u001b[0;34m=\u001b[0m \u001b[0mSentinelHubChunkStore\u001b[0m\u001b[0;34m(\u001b[0m\u001b[0msentinel_hub\u001b[0m\u001b[0;34m,\u001b[0m \u001b[0mcube_config\u001b[0m\u001b[0;34m,\u001b[0m \u001b[0mobserver\u001b[0m\u001b[0;34m=\u001b[0m\u001b[0mobserver\u001b[0m\u001b[0;34m,\u001b[0m \u001b[0mtrace_store_calls\u001b[0m\u001b[0;34m=\u001b[0m\u001b[0mtrace_store_calls\u001b[0m\u001b[0;34m)\u001b[0m\u001b[0;34m\u001b[0m\u001b[0;34m\u001b[0m\u001b[0m\n\u001b[1;32m     51\u001b[0m     \u001b[0;32mif\u001b[0m \u001b[0mmax_cache_size\u001b[0m\u001b[0;34m:\u001b[0m\u001b[0;34m\u001b[0m\u001b[0;34m\u001b[0m\u001b[0m\n",
      "\u001b[0;32m/opt/conda/envs/eurodatacube-0.21.2/lib/python3.7/site-packages/xcube_sh/sentinelhub.py\u001b[0m in \u001b[0;36m__init__\u001b[0;34m(self, client_id, client_secret, instance_id, api_url, oauth2_url, enable_warnings, error_policy, error_handler, num_retries, retry_backoff_max, retry_backoff_base, session)\u001b[0m\n\u001b[1;32m     94\u001b[0m \u001b[0;34m\u001b[0m\u001b[0m\n\u001b[1;32m     95\u001b[0m             \u001b[0;32mif\u001b[0m \u001b[0;32mnot\u001b[0m \u001b[0mclient_id\u001b[0m \u001b[0;32mor\u001b[0m \u001b[0;32mnot\u001b[0m \u001b[0mclient_secret\u001b[0m\u001b[0;34m:\u001b[0m\u001b[0;34m\u001b[0m\u001b[0;34m\u001b[0m\u001b[0m\n\u001b[0;32m---> 96\u001b[0;31m                 raise ValueError('Both client_id and client_secret must be provided.\\n'\n\u001b[0m\u001b[1;32m     97\u001b[0m                                  \u001b[0;34m'Consider setting environment variables SH_CLIENT_ID and SH_CLIENT_SECRET.\\n'\u001b[0m\u001b[0;34m\u001b[0m\u001b[0;34m\u001b[0m\u001b[0m\n\u001b[1;32m     98\u001b[0m                                  \u001b[0;34m'For more information refer to '\u001b[0m\u001b[0;34m\u001b[0m\u001b[0;34m\u001b[0m\u001b[0m\n",
      "\u001b[0;31mValueError\u001b[0m: Both client_id and client_secret must be provided.\nConsider setting environment variables SH_CLIENT_ID and SH_CLIENT_SECRET.\nFor more information refer to https://docs.sentinel-hub.com/api/latest/#/API/authentication"
     ]
    }
   ],
   "source": [
    "import datetime\n",
    "from xcube_sh.cube import open_cube\n",
    "from xcube_sh.config import CubeConfig\n",
    "\n",
    "today = datetime.date.today()\n",
    "day_in_past = today - datetime.timedelta(days=days)\n",
    "\n",
    "cube = open_cube(cube_config=CubeConfig(\n",
    "    dataset_name=\"S2L2A\",\n",
    "    band_names=[\"B04\", \"B08\"],\n",
    "    tile_size=[512, 512],\n",
    "    geometry=(10.00, 54.27, 10.30, 54.50),\n",
    "    spatial_res=0.00018,  # = 10.038 meters in degree\n",
    "    time_range=[day_in_past.isoformat(),  today.isoformat()],\n",
    "    time_period=\"3D\",\n",
    "))\n",
    "ndvi = (cube.B08 - cube.B04) / (cube.B04 + cube.B08)\n",
    "ndvi.plot.imshow(col='time', col_wrap=3, vmin=-1, vmax=1, cmap='RdYlGn')\n",
    "      "
   ]
  }
 ],
 "metadata": {
  "kernelspec": {
   "display_name": "Python 3",
   "language": "python",
   "name": "python3"
  },
  "language_info": {
   "codemirror_mode": {
    "name": "ipython",
    "version": 3
   },
   "file_extension": ".py",
   "mimetype": "text/x-python",
   "name": "python",
   "nbconvert_exporter": "python",
   "pygments_lexer": "ipython3",
   "version": "3.7.8"
  },
  "papermill": {
   "default_parameters": {},
   "duration": 4.854814,
   "end_time": "2020-11-12T10:13:32.576453",
   "environment_variables": {},
   "exception": true,
   "input_path": "/tmp/tmp15ym2vt_",
   "output_path": "/tmp/notebook_output.ipynb",
   "parameters": {},
   "start_time": "2020-11-12T10:13:27.721639",
   "version": "2.2.0"
  },
  "properties": {
   "authors": [
    {
     "id": "2d1df4b0-c35d-43be-92e4-125629f98f01",
     "name": "bm+27@eox.at"
    }
   ],
   "description": "asdfargt",
   "id": "66d352b8-142e-4395-85ef-3da89695c924",
   "license": null,
   "name": "test",
   "requirements": [
    "eurodatacube-xcube-gen"
   ],
   "tags": [
    "DAPA"
   ],
   "tosAgree": true,
   "type": "Jupyter Notebook",
   "version": "1"
  }
 },
 "nbformat": 4,
 "nbformat_minor": 4
}