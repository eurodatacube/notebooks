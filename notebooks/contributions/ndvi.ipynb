{
 "cells": [
  {
   "cell_type": "markdown",
   "metadata": {},
   "source": [
    "<span style=\"color:red; font-family:Helvetica Neue, Helvetica, Arial, sans-serif; font-size:2em;\">An Exception was encountered at 'In [5]'.</span>"
   ]
  },
  {
   "cell_type": "code",
   "execution_count": 1,
   "metadata": {
    "execution": {
     "iopub.execute_input": "2020-06-18T14:56:34.709825Z",
     "iopub.status.busy": "2020-06-18T14:56:34.709193Z",
     "iopub.status.idle": "2020-06-18T14:56:34.791890Z",
     "shell.execute_reply": "2020-06-18T14:56:34.791299Z"
    },
    "papermill": {
     "duration": 0.09098,
     "end_time": "2020-06-18T14:56:34.792006",
     "exception": false,
     "start_time": "2020-06-18T14:56:34.701026",
     "status": "completed"
    },
    "tags": []
   },
   "outputs": [
    {
     "name": "stdout",
     "output_type": "stream",
     "text": [
      "Notebook is compatible\n"
     ]
    }
   ],
   "source": [
    "from edc import check_compatibility\n",
    "check_compatibility(\"v0.18.4\")"
   ]
  },
  {
   "cell_type": "code",
   "execution_count": 2,
   "metadata": {
    "execution": {
     "iopub.execute_input": "2020-06-18T14:56:34.806043Z",
     "iopub.status.busy": "2020-06-18T14:56:34.800938Z",
     "iopub.status.idle": "2020-06-18T14:56:34.808653Z",
     "shell.execute_reply": "2020-06-18T14:56:34.808062Z"
    },
    "papermill": {
     "duration": 0.01336,
     "end_time": "2020-06-18T14:56:34.808751",
     "exception": false,
     "start_time": "2020-06-18T14:56:34.795391",
     "status": "completed"
    },
    "tags": []
   },
   "outputs": [
    {
     "data": {
      "text/markdown": [
       "API credentials have automatically been injected for your active subscriptions.  \n",
       "The following environment variables are now available:\n",
       "* `GEODB_API_SERVER_URL`\n",
       "* `GEODB_AUTH_CLIENT_ID`\n",
       "* `GEODB_AUTH_AUD`\n",
       "* `GEODB_AUTH_CLIENT_SECRET`\n",
       "* `GEODB_API_SERVER_PORT`\n",
       "* `GEODB_AUTH_DOMAIN`\n",
       "\n",
       "------\n"
      ],
      "text/plain": [
       "<IPython.core.display.Markdown object>"
      ]
     },
     "metadata": {},
     "output_type": "display_data"
    }
   ],
   "source": [
    "from edc import setup_environment_variables\n",
    "setup_environment_variables()"
   ]
  },
  {
   "cell_type": "code",
   "execution_count": 3,
   "metadata": {
    "execution": {
     "iopub.execute_input": "2020-06-18T14:56:34.818849Z",
     "iopub.status.busy": "2020-06-18T14:56:34.818289Z",
     "iopub.status.idle": "2020-06-18T14:56:35.246931Z",
     "shell.execute_reply": "2020-06-18T14:56:35.247346Z"
    },
    "papermill": {
     "duration": 0.435419,
     "end_time": "2020-06-18T14:56:35.247468",
     "exception": false,
     "start_time": "2020-06-18T14:56:34.812049",
     "status": "completed"
    },
    "tags": []
   },
   "outputs": [],
   "source": [
    "%matplotlib inline"
   ]
  },
  {
   "cell_type": "code",
   "execution_count": 4,
   "metadata": {
    "execution": {
     "iopub.execute_input": "2020-06-18T14:56:35.258199Z",
     "iopub.status.busy": "2020-06-18T14:56:35.257435Z",
     "iopub.status.idle": "2020-06-18T14:56:35.259594Z",
     "shell.execute_reply": "2020-06-18T14:56:35.259121Z"
    },
    "papermill": {
     "duration": 0.008574,
     "end_time": "2020-06-18T14:56:35.259679",
     "exception": false,
     "start_time": "2020-06-18T14:56:35.251105",
     "status": "completed"
    },
    "tags": [
     "parameters"
    ]
   },
   "outputs": [],
   "source": [
    "days = 6"
   ]
  },
  {
   "cell_type": "code",
   "execution_count": 5,
   "metadata": {
    "execution": {
     "iopub.execute_input": "2020-06-18T14:56:35.273824Z",
     "iopub.status.busy": "2020-06-18T14:56:35.273279Z",
     "iopub.status.idle": "2020-06-18T14:56:35.938106Z",
     "shell.execute_reply": "2020-06-18T14:56:35.937436Z"
    },
    "papermill": {
     "duration": 0.67362,
     "end_time": "2020-06-18T14:56:35.938245",
     "exception": true,
     "start_time": "2020-06-18T14:56:35.264625",
     "status": "failed"
    },
    "tags": []
   },
   "outputs": [
    {
     "ename": "ValueError",
     "evalue": "Both client_id and client_secret must be provided.\nConsider setting environment variables SH_CLIENT_ID and SH_CLIENT_SECRET.\nFor more information refer to https://docs.sentinel-hub.com/api/latest/#/API/authentication",
     "output_type": "error",
     "traceback": [
      "\u001b[0;31m---------------------------------------------------------------------------\u001b[0m",
      "\u001b[0;31mValueError\u001b[0m                                Traceback (most recent call last)",
      "\u001b[0;32m<ipython-input-5-1eefa7dadc16>\u001b[0m in \u001b[0;36m<module>\u001b[0;34m\u001b[0m\n\u001b[1;32m     13\u001b[0m     \u001b[0mspatial_res\u001b[0m\u001b[0;34m=\u001b[0m\u001b[0;36m0.00018\u001b[0m\u001b[0;34m,\u001b[0m  \u001b[0;31m# = 10.038 meters in degree\u001b[0m\u001b[0;34m\u001b[0m\u001b[0;34m\u001b[0m\u001b[0m\n\u001b[1;32m     14\u001b[0m     \u001b[0mtime_range\u001b[0m\u001b[0;34m=\u001b[0m\u001b[0;34m[\u001b[0m\u001b[0mday_in_past\u001b[0m\u001b[0;34m.\u001b[0m\u001b[0misoformat\u001b[0m\u001b[0;34m(\u001b[0m\u001b[0;34m)\u001b[0m\u001b[0;34m,\u001b[0m  \u001b[0mtoday\u001b[0m\u001b[0;34m.\u001b[0m\u001b[0misoformat\u001b[0m\u001b[0;34m(\u001b[0m\u001b[0;34m)\u001b[0m\u001b[0;34m]\u001b[0m\u001b[0;34m,\u001b[0m\u001b[0;34m\u001b[0m\u001b[0;34m\u001b[0m\u001b[0m\n\u001b[0;32m---> 15\u001b[0;31m     \u001b[0mtime_period\u001b[0m\u001b[0;34m=\u001b[0m\u001b[0;34m\"3D\"\u001b[0m\u001b[0;34m,\u001b[0m\u001b[0;34m\u001b[0m\u001b[0;34m\u001b[0m\u001b[0m\n\u001b[0m\u001b[1;32m     16\u001b[0m ))\n\u001b[1;32m     17\u001b[0m \u001b[0mndvi\u001b[0m \u001b[0;34m=\u001b[0m \u001b[0;34m(\u001b[0m\u001b[0mcube\u001b[0m\u001b[0;34m.\u001b[0m\u001b[0mB08\u001b[0m \u001b[0;34m-\u001b[0m \u001b[0mcube\u001b[0m\u001b[0;34m.\u001b[0m\u001b[0mB04\u001b[0m\u001b[0;34m)\u001b[0m \u001b[0;34m/\u001b[0m \u001b[0;34m(\u001b[0m\u001b[0mcube\u001b[0m\u001b[0;34m.\u001b[0m\u001b[0mB04\u001b[0m \u001b[0;34m+\u001b[0m \u001b[0mcube\u001b[0m\u001b[0;34m.\u001b[0m\u001b[0mB08\u001b[0m\u001b[0;34m)\u001b[0m\u001b[0;34m\u001b[0m\u001b[0;34m\u001b[0m\u001b[0m\n",
      "\u001b[0;32m/opt/conda/lib/python3.7/site-packages/xcube_sh/cube.py\u001b[0m in \u001b[0;36mopen_cube\u001b[0;34m(cube_config, observer, trace_store_calls, max_cache_size, **sh_kwargs)\u001b[0m\n\u001b[1;32m     47\u001b[0m     \u001b[0;34m:\u001b[0m\u001b[0;32mreturn\u001b[0m\u001b[0;34m:\u001b[0m \u001b[0mthe\u001b[0m \u001b[0mdata\u001b[0m \u001b[0mcube\u001b[0m \u001b[0mrepresented\u001b[0m \u001b[0mby\u001b[0m \u001b[0man\u001b[0m \u001b[0mxarray\u001b[0m \u001b[0mDataset\u001b[0m \u001b[0mobject\u001b[0m\u001b[0;34m.\u001b[0m\u001b[0;34m\u001b[0m\u001b[0;34m\u001b[0m\u001b[0m\n\u001b[1;32m     48\u001b[0m     \"\"\"\n\u001b[0;32m---> 49\u001b[0;31m     \u001b[0msentinel_hub\u001b[0m \u001b[0;34m=\u001b[0m \u001b[0mSentinelHub\u001b[0m\u001b[0;34m(\u001b[0m\u001b[0;34m**\u001b[0m\u001b[0msh_kwargs\u001b[0m\u001b[0;34m)\u001b[0m\u001b[0;34m\u001b[0m\u001b[0;34m\u001b[0m\u001b[0m\n\u001b[0m\u001b[1;32m     50\u001b[0m     \u001b[0mcube_store\u001b[0m \u001b[0;34m=\u001b[0m \u001b[0mSentinelHubStore\u001b[0m\u001b[0;34m(\u001b[0m\u001b[0msentinel_hub\u001b[0m\u001b[0;34m,\u001b[0m \u001b[0mcube_config\u001b[0m\u001b[0;34m,\u001b[0m \u001b[0mobserver\u001b[0m\u001b[0;34m=\u001b[0m\u001b[0mobserver\u001b[0m\u001b[0;34m,\u001b[0m \u001b[0mtrace_store_calls\u001b[0m\u001b[0;34m=\u001b[0m\u001b[0mtrace_store_calls\u001b[0m\u001b[0;34m)\u001b[0m\u001b[0;34m\u001b[0m\u001b[0;34m\u001b[0m\u001b[0m\n\u001b[1;32m     51\u001b[0m     \u001b[0;32mif\u001b[0m \u001b[0mmax_cache_size\u001b[0m\u001b[0;34m:\u001b[0m\u001b[0;34m\u001b[0m\u001b[0;34m\u001b[0m\u001b[0m\n",
      "\u001b[0;32m/opt/conda/lib/python3.7/site-packages/xcube_sh/sentinelhub.py\u001b[0m in \u001b[0;36m__init__\u001b[0;34m(self, client_id, client_secret, instance_id, api_url, oauth2_url, enable_warnings, error_policy, error_handler, num_retries, retry_backoff_max, retry_backoff_base, session)\u001b[0m\n\u001b[1;32m     90\u001b[0m \u001b[0;34m\u001b[0m\u001b[0m\n\u001b[1;32m     91\u001b[0m             \u001b[0;32mif\u001b[0m \u001b[0;32mnot\u001b[0m \u001b[0mclient_id\u001b[0m \u001b[0;32mor\u001b[0m \u001b[0;32mnot\u001b[0m \u001b[0mclient_secret\u001b[0m\u001b[0;34m:\u001b[0m\u001b[0;34m\u001b[0m\u001b[0;34m\u001b[0m\u001b[0m\n\u001b[0;32m---> 92\u001b[0;31m                 raise ValueError('Both client_id and client_secret must be provided.\\n'\n\u001b[0m\u001b[1;32m     93\u001b[0m                                  \u001b[0;34m'Consider setting environment variables SH_CLIENT_ID and SH_CLIENT_SECRET.\\n'\u001b[0m\u001b[0;34m\u001b[0m\u001b[0;34m\u001b[0m\u001b[0m\n\u001b[1;32m     94\u001b[0m                                  \u001b[0;34m'For more information refer to '\u001b[0m\u001b[0;34m\u001b[0m\u001b[0;34m\u001b[0m\u001b[0m\n",
      "\u001b[0;31mValueError\u001b[0m: Both client_id and client_secret must be provided.\nConsider setting environment variables SH_CLIENT_ID and SH_CLIENT_SECRET.\nFor more information refer to https://docs.sentinel-hub.com/api/latest/#/API/authentication"
     ]
    }
   ],
   "source": [
    "import datetime\n",
    "from xcube_sh.cube import open_cube\n",
    "from xcube_sh.config import CubeConfig\n",
    "\n",
    "today = datetime.date.today()\n",
    "day_in_past = today - datetime.timedelta(days=days)\n",
    "\n",
    "cube = open_cube(cube_config=CubeConfig(\n",
    "    dataset_name=\"S2L2A\",\n",
    "    band_names=[\"B04\", \"B08\"],\n",
    "    tile_size=[512, 512],\n",
    "    geometry=(10.00, 54.27, 10.30, 54.50),\n",
    "    spatial_res=0.00018,  # = 10.038 meters in degree\n",
    "    time_range=[day_in_past.isoformat(),  today.isoformat()],\n",
    "    time_period=\"3D\",\n",
    "))\n",
    "ndvi = (cube.B08 - cube.B04) / (cube.B04 + cube.B08)\n",
    "ndvi.plot.imshow(col='time', col_wrap=3, vmin=-1, vmax=1, cmap='RdYlGn')\n",
    "      "
   ]
  }
 ],
 "metadata": {
  "kernelspec": {
   "display_name": "Python 3",
   "language": "python",
   "name": "python3"
  },
  "language_info": {
   "codemirror_mode": {
    "name": "ipython",
    "version": 3
   },
   "file_extension": ".py",
   "mimetype": "text/x-python",
   "name": "python",
   "nbconvert_exporter": "python",
   "pygments_lexer": "ipython3",
   "version": "3.7.6"
  },
  "papermill": {
   "duration": 3.208397,
   "end_time": "2020-06-18T14:56:37.118488",
   "environment_variables": {},
   "exception": true,
   "input_path": "/tmp/tmpvwvz8amk",
   "output_path": "/tmp/notebook_output.ipynb",
   "parameters": {},
   "start_time": "2020-06-18T14:56:33.910091",
   "version": "2.1.0"
  },
  "properties": {
   "authors": [
    {
     "id": "0c0a0ef4-8d0d-4e70-b002-033c7cbb41fd"
    }
   ],
   "description": "asdf",
   "id": "c9eb0c82-6ea8-4851-8df2-797464ace3ab",
   "license": "Commercial",
   "license_notes": "3",
   "license_price": "3",
   "name": "aasdf",
   "requirements": [
    "eurodatacube-geodb"
   ],
   "tags": [
    "GPU"
   ],
   "tosAgree": true,
   "type": "Jupyter Notebook",
   "version": "1"
  }
 },
 "nbformat": 4,
 "nbformat_minor": 4
}