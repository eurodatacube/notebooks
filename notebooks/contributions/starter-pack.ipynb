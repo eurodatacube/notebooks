{
 "cells": [
  {
   "cell_type": "markdown",
   "id": "91502021",
   "metadata": {
    "tags": [
     "papermill-error-cell-tag"
    ]
   },
   "source": [
    "<span style=\"color:red; font-family:Helvetica Neue, Helvetica, Arial, sans-serif; font-size:2em;\">An Exception was encountered at '<a href=\"#papermill-error-cell\">In [4]</a>'.</span>"
   ]
  },
  {
   "cell_type": "code",
   "execution_count": 1,
   "id": "d0cb0fb1",
   "metadata": {
    "execution": {
     "iopub.execute_input": "2021-05-19T14:35:35.025597Z",
     "iopub.status.busy": "2021-05-19T14:35:35.025065Z",
     "iopub.status.idle": "2021-05-19T14:35:35.079584Z",
     "shell.execute_reply": "2021-05-19T14:35:35.079037Z"
    },
    "papermill": {
     "duration": 0.100365,
     "end_time": "2021-05-19T14:35:35.079706",
     "exception": false,
     "start_time": "2021-05-19T14:35:34.979341",
     "status": "completed"
    },
    "tags": []
   },
   "outputs": [
    {
     "data": {
      "text/html": [
       "<script type=\"text/javascript\">\n",
       "        function toggle(id) {\n",
       "            el = document.getElementById(id);\n",
       "            el.style.display = el.style.display === \"none\" ? \"block\" : \"none\";\n",
       "        }\n",
       "    </script>"
      ],
      "text/plain": [
       "<IPython.core.display.HTML object>"
      ]
     },
     "metadata": {},
     "output_type": "display_data"
    },
    {
     "data": {
      "text/html": [
       "This notebook is compatible with this base image version (user-0.24.5)."
      ],
      "text/plain": [
       "<IPython.core.display.HTML object>"
      ]
     },
     "metadata": {},
     "output_type": "display_data"
    },
    {
     "data": {
      "text/markdown": [
       "\n",
       "\n",
       "---------\n",
       "\n",
       "The following environment variables are available:\n",
       "\n",
       "* `GEODB_AUTH_AUD`, `GEODB_AUTH_CLIENT_ID`, `GEODB_AUTH_DOMAIN`, `GEODB_API_SERVER_URL`, `GEODB_AUTH_CLIENT_SECRET`, `GEODB_API_SERVER_PORT`\n",
       "* `SH_CLIENT_ID`, `SH_INSTANCE_ID`, `SH_CLIENT_NAME`, `SH_CLIENT_SECRET`\n",
       "* `XCUBE_GEN_AUTH_AUD`, `XCUBE_GEN_API_SERVER_PORT`, `XCUBE_GEN_AUTH_DOMAIN`, `XCUBE_GEN_AUTH_CLIENT_ID`, `XCUBE_GEN_AUTH_CLIENT_SECRET`, `XCUBE_GEN_API_SERVER_URL`\n"
      ],
      "text/plain": [
       "<IPython.core.display.Markdown object>"
      ]
     },
     "metadata": {},
     "output_type": "display_data"
    }
   ],
   "source": [
    "from edc import check_compatibility\n",
    "check_compatibility(\"user-0.24.5\", dependencies=[\"GEODB\", \"SH\", \"XCUBE_GEN\"])"
   ]
  },
  {
   "cell_type": "markdown",
   "id": "53c50ba3",
   "metadata": {
    "papermill": {
     "duration": 0.041674,
     "end_time": "2021-05-19T14:35:35.166743",
     "exception": false,
     "start_time": "2021-05-19T14:35:35.125069",
     "status": "completed"
    },
    "tags": []
   },
   "source": [
    "# AI4EO - Feature enhancement for land management\n",
    "\n",
    "## Get started with the challenge\n",
    "\n",
    "This notebook will get you started with downloading, exploring and analysing the input and output data of the challenge.\n",
    "\n",
    "The aim of this challenge is to create AI systems that can exploit the temporal information of Sentinel-2 images into an enhanced spatial resolution. \n",
    "\n",
    "Your task will be to estimate a _cultivated land_ map at **2.5m** spatial resolution given as input a _Sentinel-2 time-series_ at **10m** spatial resolution, therefore resulting in a `4x` spatial resolution improvement. \n",
    "\n",
    "This notebook showcases how to download and process the data using [eo-learn](https://eo-learn.readthedocs.io/en/latest/index.html), a Python library specifically designed deal with Earth Observation data. The data will stored into `EOPatches` as `numpy` arrays and `geopandas` dataframes to facilitate processing operations. However, you can use any other Python tool of preference to process the provided data.\n",
    "\n",
    "The notebook also showcases how to generate a valid submission file.\n",
    "\n",
    "As per challenge rules, the following applies:\n",
    " * no data source other than the ones provided can be used to produce your outputs;\n",
    " * pre-trained models are not allowed;\n",
    " * the test data cannot be used for training of the models; \n",
    " * the target _cultivated land_ map cannot be used as an input to the method (i.e. trivial solution).\n",
    "\n",
    "Code for the winning solutions will be reviewed to ensure rules have been followed.\n",
    "\n",
    "The content of the notebook is as follows:\n",
    "\n",
    "0. [Requirements](#requirements)\n",
    "\n",
    "1. [Data overview](#data-overview)\n",
    "\n",
    "   1.1. [Area of Interest](#aoi)\n",
    "\n",
    "   1.2. [Sentinel-2 time-series](#sentinel-2)\n",
    "     \n",
    "   1.3. [Reference polygons](#reference)\n",
    "   \n",
    "   1.4. [Data download](#data-download)\n",
    "      \n",
    "2. [Data processing](#data-processing)\n",
    "\n",
    "3. [Submission example](#submission-example)\n",
    "\n",
    "   3.1 [Prepare a submission](#prepare-a-submission)"
   ]
  },
  {
   "cell_type": "code",
   "execution_count": 2,
   "id": "8dfd1f6f",
   "metadata": {
    "execution": {
     "iopub.execute_input": "2021-05-19T14:35:35.253958Z",
     "iopub.status.busy": "2021-05-19T14:35:35.253391Z",
     "iopub.status.idle": "2021-05-19T14:35:42.154030Z",
     "shell.execute_reply": "2021-05-19T14:35:42.153462Z"
    },
    "papermill": {
     "duration": 6.946023,
     "end_time": "2021-05-19T14:35:42.154141",
     "exception": false,
     "start_time": "2021-05-19T14:35:35.208118",
     "status": "completed"
    },
    "tags": []
   },
   "outputs": [
    {
     "name": "stdout",
     "output_type": "stream",
     "text": [
      "Requirement already satisfied: eo-learn in /opt/conda/envs/eurodatacube-0.24.5/lib/python3.8/site-packages (0.9.1)\r\n"
     ]
    },
    {
     "name": "stdout",
     "output_type": "stream",
     "text": [
      "Requirement already satisfied: eo-learn-mask>=0.9.0 in /opt/conda/envs/eurodatacube-0.24.5/lib/python3.8/site-packages (from eo-learn) (0.9.0)\r\n",
      "Requirement already satisfied: eo-learn-features>=0.9.0 in /opt/conda/envs/eurodatacube-0.24.5/lib/python3.8/site-packages (from eo-learn) (0.9.0)\r\n",
      "Requirement already satisfied: eo-learn-io>=0.9.1 in /opt/conda/envs/eurodatacube-0.24.5/lib/python3.8/site-packages (from eo-learn) (0.9.1)\r\n",
      "Requirement already satisfied: eo-learn-ml-tools>=0.9.0 in /opt/conda/envs/eurodatacube-0.24.5/lib/python3.8/site-packages (from eo-learn) (0.9.0)\r\n",
      "Requirement already satisfied: eo-learn-geometry>=0.9.0 in /opt/conda/envs/eurodatacube-0.24.5/lib/python3.8/site-packages (from eo-learn) (0.9.0)\r\n",
      "Requirement already satisfied: eo-learn-core>=0.9.1 in /opt/conda/envs/eurodatacube-0.24.5/lib/python3.8/site-packages (from eo-learn) (0.9.1)\r\n",
      "Requirement already satisfied: eo-learn-coregistration>=0.9.0 in /opt/conda/envs/eurodatacube-0.24.5/lib/python3.8/site-packages (from eo-learn) (0.9.0)\r\n",
      "Requirement already satisfied: eo-learn-visualization>=0.9.0 in /opt/conda/envs/eurodatacube-0.24.5/lib/python3.8/site-packages (from eo-learn) (0.9.0)\r\n"
     ]
    },
    {
     "name": "stdout",
     "output_type": "stream",
     "text": [
      "Requirement already satisfied: attrs>=19.2.0 in /opt/conda/envs/eurodatacube-0.24.5/lib/python3.8/site-packages (from eo-learn-core>=0.9.1->eo-learn) (21.2.0)\r\n",
      "Requirement already satisfied: fs-s3fs in /opt/conda/envs/eurodatacube-0.24.5/lib/python3.8/site-packages (from eo-learn-core>=0.9.1->eo-learn) (1.1.1)\r\n",
      "Requirement already satisfied: boto3 in /opt/conda/envs/eurodatacube-0.24.5/lib/python3.8/site-packages (from eo-learn-core>=0.9.1->eo-learn) (1.17.70)\r\n",
      "Requirement already satisfied: sentinelhub>=3.1.0 in /opt/conda/envs/eurodatacube-0.24.5/lib/python3.8/site-packages (from eo-learn-core>=0.9.1->eo-learn) (3.2.1)\r\n",
      "Requirement already satisfied: python-dateutil in /opt/conda/envs/eurodatacube-0.24.5/lib/python3.8/site-packages (from eo-learn-core>=0.9.1->eo-learn) (2.8.1)\r\n",
      "Requirement already satisfied: geopandas!=0.8.0,>=0.5.0 in /opt/conda/envs/eurodatacube-0.24.5/lib/python3.8/site-packages (from eo-learn-core>=0.9.1->eo-learn) (0.9.0)\r\n",
      "Requirement already satisfied: numpy>=1.19.0 in /opt/conda/envs/eurodatacube-0.24.5/lib/python3.8/site-packages (from eo-learn-core>=0.9.1->eo-learn) (1.20.2)\r\n",
      "Requirement already satisfied: tqdm>=4.27 in /opt/conda/envs/eurodatacube-0.24.5/lib/python3.8/site-packages (from eo-learn-core>=0.9.1->eo-learn) (4.60.0)\r\n",
      "Requirement already satisfied: fs in /opt/conda/envs/eurodatacube-0.24.5/lib/python3.8/site-packages (from eo-learn-core>=0.9.1->eo-learn) (2.4.13)\r\n",
      "Requirement already satisfied: opencv-contrib-python-headless>=4.1 in /opt/conda/envs/eurodatacube-0.24.5/lib/python3.8/site-packages (from eo-learn-coregistration>=0.9.0->eo-learn) (4.5.2.52)\r\n",
      "Requirement already satisfied: thunder-registration in /opt/conda/envs/eurodatacube-0.24.5/lib/python3.8/site-packages (from eo-learn-coregistration>=0.9.0->eo-learn) (1.0.1)\r\n",
      "Requirement already satisfied: scipy in /opt/conda/envs/eurodatacube-0.24.5/lib/python3.8/site-packages (from eo-learn-features>=0.9.0->eo-learn) (1.6.3)\r\n",
      "Requirement already satisfied: numba>=0.43.1 in /opt/conda/envs/eurodatacube-0.24.5/lib/python3.8/site-packages (from eo-learn-features>=0.9.0->eo-learn) (0.53.1)\r\n",
      "Requirement already satisfied: scikit-learn in /opt/conda/envs/eurodatacube-0.24.5/lib/python3.8/site-packages (from eo-learn-features>=0.9.0->eo-learn) (0.24.2)\r\n",
      "Requirement already satisfied: scikit-image in /opt/conda/envs/eurodatacube-0.24.5/lib/python3.8/site-packages (from eo-learn-features>=0.9.0->eo-learn) (0.18.1)\r\n",
      "Requirement already satisfied: shapely in /opt/conda/envs/eurodatacube-0.24.5/lib/python3.8/site-packages (from eo-learn-geometry>=0.9.0->eo-learn) (1.7.1)\r\n",
      "Requirement already satisfied: rasterio<=1.1.8 in /opt/conda/envs/eurodatacube-0.24.5/lib/python3.8/site-packages (from eo-learn-geometry>=0.9.0->eo-learn) (1.1.8)\r\n",
      "Requirement already satisfied: descartes in /opt/conda/envs/eurodatacube-0.24.5/lib/python3.8/site-packages (from eo-learn-geometry>=0.9.0->eo-learn) (1.1.0)\r\n"
     ]
    },
    {
     "name": "stdout",
     "output_type": "stream",
     "text": [
      "Requirement already satisfied: rtree in /opt/conda/envs/eurodatacube-0.24.5/lib/python3.8/site-packages (from eo-learn-io>=0.9.1->eo-learn) (0.9.7)\r\n",
      "Requirement already satisfied: lightgbm>=2.0.11 in /opt/conda/envs/eurodatacube-0.24.5/lib/python3.8/site-packages (from eo-learn-mask>=0.9.0->eo-learn) (3.2.1)\r\n",
      "Requirement already satisfied: seaborn in /opt/conda/envs/eurodatacube-0.24.5/lib/python3.8/site-packages (from eo-learn-ml-tools>=0.9.0->eo-learn) (0.11.1)\r\n",
      "Requirement already satisfied: pandas in /opt/conda/envs/eurodatacube-0.24.5/lib/python3.8/site-packages (from eo-learn-ml-tools>=0.9.0->eo-learn) (1.2.4)\r\n",
      "Requirement already satisfied: matplotlib in /opt/conda/envs/eurodatacube-0.24.5/lib/python3.8/site-packages (from eo-learn-ml-tools>=0.9.0->eo-learn) (3.4.2)\r\n",
      "Requirement already satisfied: jinja2 in /opt/conda/envs/eurodatacube-0.24.5/lib/python3.8/site-packages (from eo-learn-visualization>=0.9.0->eo-learn) (2.11.3)\r\n",
      "Requirement already satisfied: pydot in /opt/conda/envs/eurodatacube-0.24.5/lib/python3.8/site-packages (from eo-learn-visualization>=0.9.0->eo-learn) (1.4.2)\r\n",
      "Requirement already satisfied: pygments in /opt/conda/envs/eurodatacube-0.24.5/lib/python3.8/site-packages (from eo-learn-visualization>=0.9.0->eo-learn) (2.9.0)\r\n",
      "Requirement already satisfied: graphviz>=0.10.1 in /opt/conda/envs/eurodatacube-0.24.5/lib/python3.8/site-packages (from eo-learn-visualization>=0.9.0->eo-learn) (0.16)\r\n",
      "Requirement already satisfied: fiona>=1.8 in /opt/conda/envs/eurodatacube-0.24.5/lib/python3.8/site-packages (from geopandas!=0.8.0,>=0.5.0->eo-learn-core>=0.9.1->eo-learn) (1.8.18)\r\n",
      "Requirement already satisfied: pyproj>=2.2.0 in /opt/conda/envs/eurodatacube-0.24.5/lib/python3.8/site-packages (from geopandas!=0.8.0,>=0.5.0->eo-learn-core>=0.9.1->eo-learn) (3.0.1)\r\n",
      "Requirement already satisfied: certifi in /opt/conda/envs/eurodatacube-0.24.5/lib/python3.8/site-packages (from fiona>=1.8->geopandas!=0.8.0,>=0.5.0->eo-learn-core>=0.9.1->eo-learn) (2020.12.5)\r\n",
      "Requirement already satisfied: click<8,>=4.0 in /opt/conda/envs/eurodatacube-0.24.5/lib/python3.8/site-packages (from fiona>=1.8->geopandas!=0.8.0,>=0.5.0->eo-learn-core>=0.9.1->eo-learn) (7.1.2)\r\n",
      "Requirement already satisfied: cligj>=0.5 in /opt/conda/envs/eurodatacube-0.24.5/lib/python3.8/site-packages (from fiona>=1.8->geopandas!=0.8.0,>=0.5.0->eo-learn-core>=0.9.1->eo-learn) (0.7.1)\r\n",
      "Requirement already satisfied: click-plugins>=1.0 in /opt/conda/envs/eurodatacube-0.24.5/lib/python3.8/site-packages (from fiona>=1.8->geopandas!=0.8.0,>=0.5.0->eo-learn-core>=0.9.1->eo-learn) (1.1.1)\r\n",
      "Requirement already satisfied: six>=1.7 in /opt/conda/envs/eurodatacube-0.24.5/lib/python3.8/site-packages (from fiona>=1.8->geopandas!=0.8.0,>=0.5.0->eo-learn-core>=0.9.1->eo-learn) (1.16.0)\r\n",
      "Requirement already satisfied: munch in /opt/conda/envs/eurodatacube-0.24.5/lib/python3.8/site-packages (from fiona>=1.8->geopandas!=0.8.0,>=0.5.0->eo-learn-core>=0.9.1->eo-learn) (2.5.0)\r\n"
     ]
    },
    {
     "name": "stdout",
     "output_type": "stream",
     "text": [
      "Requirement already satisfied: wheel in /opt/conda/envs/eurodatacube-0.24.5/lib/python3.8/site-packages (from lightgbm>=2.0.11->eo-learn-mask>=0.9.0->eo-learn) (0.36.2)\r\n",
      "Requirement already satisfied: setuptools in /opt/conda/envs/eurodatacube-0.24.5/lib/python3.8/site-packages (from numba>=0.43.1->eo-learn-features>=0.9.0->eo-learn) (49.6.0.post20210108)\r\n",
      "Requirement already satisfied: llvmlite<0.37,>=0.36.0rc1 in /opt/conda/envs/eurodatacube-0.24.5/lib/python3.8/site-packages (from numba>=0.43.1->eo-learn-features>=0.9.0->eo-learn) (0.36.0)\r\n",
      "Requirement already satisfied: pytz>=2017.3 in /opt/conda/envs/eurodatacube-0.24.5/lib/python3.8/site-packages (from pandas->eo-learn-ml-tools>=0.9.0->eo-learn) (2021.1)\r\n"
     ]
    },
    {
     "name": "stdout",
     "output_type": "stream",
     "text": [
      "Requirement already satisfied: snuggs>=1.4.1 in /opt/conda/envs/eurodatacube-0.24.5/lib/python3.8/site-packages (from rasterio<=1.1.8->eo-learn-geometry>=0.9.0->eo-learn) (1.4.7)\r\n",
      "Requirement already satisfied: affine in /opt/conda/envs/eurodatacube-0.24.5/lib/python3.8/site-packages (from rasterio<=1.1.8->eo-learn-geometry>=0.9.0->eo-learn) (2.3.0)\r\n",
      "Requirement already satisfied: networkx>=2.0 in /opt/conda/envs/eurodatacube-0.24.5/lib/python3.8/site-packages (from scikit-image->eo-learn-features>=0.9.0->eo-learn) (2.5)\r\n",
      "Requirement already satisfied: pillow!=7.1.0,!=7.1.1,>=4.3.0 in /opt/conda/envs/eurodatacube-0.24.5/lib/python3.8/site-packages (from scikit-image->eo-learn-features>=0.9.0->eo-learn) (8.1.2)\r\n",
      "Requirement already satisfied: imageio>=2.3.0 in /opt/conda/envs/eurodatacube-0.24.5/lib/python3.8/site-packages (from scikit-image->eo-learn-features>=0.9.0->eo-learn) (2.9.0)\r\n",
      "Requirement already satisfied: tifffile>=2019.7.26 in /opt/conda/envs/eurodatacube-0.24.5/lib/python3.8/site-packages (from scikit-image->eo-learn-features>=0.9.0->eo-learn) (2021.4.8)\r\n",
      "Requirement already satisfied: PyWavelets>=1.1.1 in /opt/conda/envs/eurodatacube-0.24.5/lib/python3.8/site-packages (from scikit-image->eo-learn-features>=0.9.0->eo-learn) (1.1.1)\r\n"
     ]
    },
    {
     "name": "stdout",
     "output_type": "stream",
     "text": [
      "Requirement already satisfied: pyparsing>=2.2.1 in /opt/conda/envs/eurodatacube-0.24.5/lib/python3.8/site-packages (from matplotlib->eo-learn-ml-tools>=0.9.0->eo-learn) (2.4.7)\r\n",
      "Requirement already satisfied: cycler>=0.10 in /opt/conda/envs/eurodatacube-0.24.5/lib/python3.8/site-packages (from matplotlib->eo-learn-ml-tools>=0.9.0->eo-learn) (0.10.0)\r\n",
      "Requirement already satisfied: kiwisolver>=1.0.1 in /opt/conda/envs/eurodatacube-0.24.5/lib/python3.8/site-packages (from matplotlib->eo-learn-ml-tools>=0.9.0->eo-learn) (1.3.1)\r\n",
      "Requirement already satisfied: decorator>=4.3.0 in /opt/conda/envs/eurodatacube-0.24.5/lib/python3.8/site-packages (from networkx>=2.0->scikit-image->eo-learn-features>=0.9.0->eo-learn) (5.0.7)\r\n"
     ]
    },
    {
     "name": "stdout",
     "output_type": "stream",
     "text": [
      "Requirement already satisfied: threadpoolctl>=2.0.0 in /opt/conda/envs/eurodatacube-0.24.5/lib/python3.8/site-packages (from scikit-learn->eo-learn-features>=0.9.0->eo-learn) (2.1.0)\r\n",
      "Requirement already satisfied: joblib>=0.11 in /opt/conda/envs/eurodatacube-0.24.5/lib/python3.8/site-packages (from scikit-learn->eo-learn-features>=0.9.0->eo-learn) (1.0.1)\r\n",
      "Requirement already satisfied: requests-oauthlib in /opt/conda/envs/eurodatacube-0.24.5/lib/python3.8/site-packages (from sentinelhub>=3.1.0->eo-learn-core>=0.9.1->eo-learn) (1.3.0)\r\n"
     ]
    },
    {
     "name": "stdout",
     "output_type": "stream",
     "text": [
      "Requirement already satisfied: utm in /opt/conda/envs/eurodatacube-0.24.5/lib/python3.8/site-packages (from sentinelhub>=3.1.0->eo-learn-core>=0.9.1->eo-learn) (0.7.0)\r\n",
      "Requirement already satisfied: aenum>=2.1.4 in /opt/conda/envs/eurodatacube-0.24.5/lib/python3.8/site-packages (from sentinelhub>=3.1.0->eo-learn-core>=0.9.1->eo-learn) (3.0.0)\r\n",
      "Requirement already satisfied: requests>=2.5.0 in /opt/conda/envs/eurodatacube-0.24.5/lib/python3.8/site-packages (from sentinelhub>=3.1.0->eo-learn-core>=0.9.1->eo-learn) (2.25.1)\r\n",
      "Requirement already satisfied: dataclasses-json in /opt/conda/envs/eurodatacube-0.24.5/lib/python3.8/site-packages (from sentinelhub>=3.1.0->eo-learn-core>=0.9.1->eo-learn) (0.5.3)\r\n",
      "Requirement already satisfied: botocore in /opt/conda/envs/eurodatacube-0.24.5/lib/python3.8/site-packages (from sentinelhub>=3.1.0->eo-learn-core>=0.9.1->eo-learn) (1.20.70)\r\n",
      "Requirement already satisfied: oauthlib in /opt/conda/envs/eurodatacube-0.24.5/lib/python3.8/site-packages (from sentinelhub>=3.1.0->eo-learn-core>=0.9.1->eo-learn) (3.0.1)\r\n",
      "Requirement already satisfied: urllib3<1.27,>=1.21.1 in /opt/conda/envs/eurodatacube-0.24.5/lib/python3.8/site-packages (from requests>=2.5.0->sentinelhub>=3.1.0->eo-learn-core>=0.9.1->eo-learn) (1.26.4)\r\n",
      "Requirement already satisfied: idna<3,>=2.5 in /opt/conda/envs/eurodatacube-0.24.5/lib/python3.8/site-packages (from requests>=2.5.0->sentinelhub>=3.1.0->eo-learn-core>=0.9.1->eo-learn) (2.10)\r\n",
      "Requirement already satisfied: chardet<5,>=3.0.2 in /opt/conda/envs/eurodatacube-0.24.5/lib/python3.8/site-packages (from requests>=2.5.0->sentinelhub>=3.1.0->eo-learn-core>=0.9.1->eo-learn) (4.0.0)\r\n"
     ]
    },
    {
     "name": "stdout",
     "output_type": "stream",
     "text": [
      "Requirement already satisfied: jmespath<1.0.0,>=0.7.1 in /opt/conda/envs/eurodatacube-0.24.5/lib/python3.8/site-packages (from boto3->eo-learn-core>=0.9.1->eo-learn) (0.10.0)\r\n",
      "Requirement already satisfied: s3transfer<0.5.0,>=0.4.0 in /opt/conda/envs/eurodatacube-0.24.5/lib/python3.8/site-packages (from boto3->eo-learn-core>=0.9.1->eo-learn) (0.4.2)\r\n",
      "Requirement already satisfied: marshmallow<4.0.0,>=3.3.0 in /opt/conda/envs/eurodatacube-0.24.5/lib/python3.8/site-packages (from dataclasses-json->sentinelhub>=3.1.0->eo-learn-core>=0.9.1->eo-learn) (3.12.1)\r\n",
      "Requirement already satisfied: stringcase<2.0.0,==1.2.0 in /opt/conda/envs/eurodatacube-0.24.5/lib/python3.8/site-packages (from dataclasses-json->sentinelhub>=3.1.0->eo-learn-core>=0.9.1->eo-learn) (1.2.0)\r\n",
      "Requirement already satisfied: typing-inspect>=0.4.0 in /opt/conda/envs/eurodatacube-0.24.5/lib/python3.8/site-packages (from dataclasses-json->sentinelhub>=3.1.0->eo-learn-core>=0.9.1->eo-learn) (0.6.0)\r\n",
      "Requirement already satisfied: marshmallow-enum<2.0.0,>=1.5.1 in /opt/conda/envs/eurodatacube-0.24.5/lib/python3.8/site-packages (from dataclasses-json->sentinelhub>=3.1.0->eo-learn-core>=0.9.1->eo-learn) (1.5.1)\r\n"
     ]
    },
    {
     "name": "stdout",
     "output_type": "stream",
     "text": [
      "Requirement already satisfied: mypy-extensions>=0.3.0 in /opt/conda/envs/eurodatacube-0.24.5/lib/python3.8/site-packages (from typing-inspect>=0.4.0->dataclasses-json->sentinelhub>=3.1.0->eo-learn-core>=0.9.1->eo-learn) (0.4.3)\r\n",
      "Requirement already satisfied: typing-extensions>=3.7.4 in /opt/conda/envs/eurodatacube-0.24.5/lib/python3.8/site-packages (from typing-inspect>=0.4.0->dataclasses-json->sentinelhub>=3.1.0->eo-learn-core>=0.9.1->eo-learn) (3.7.4.3)\r\n",
      "Requirement already satisfied: appdirs~=1.4.3 in /opt/conda/envs/eurodatacube-0.24.5/lib/python3.8/site-packages (from fs->eo-learn-core>=0.9.1->eo-learn) (1.4.4)\r\n"
     ]
    },
    {
     "name": "stdout",
     "output_type": "stream",
     "text": [
      "Requirement already satisfied: MarkupSafe>=0.23 in /opt/conda/envs/eurodatacube-0.24.5/lib/python3.8/site-packages (from jinja2->eo-learn-visualization>=0.9.0->eo-learn) (1.1.1)\r\n"
     ]
    },
    {
     "name": "stdout",
     "output_type": "stream",
     "text": [
      "Requirement already satisfied: thunder-python>=1.2.0 in /opt/conda/envs/eurodatacube-0.24.5/lib/python3.8/site-packages (from thunder-registration->eo-learn-coregistration>=0.9.0->eo-learn) (1.4.2)\r\n",
      "Requirement already satisfied: boto>=2.36.0 in /opt/conda/envs/eurodatacube-0.24.5/lib/python3.8/site-packages (from thunder-python>=1.2.0->thunder-registration->eo-learn-coregistration>=0.9.0->eo-learn) (2.49.0)\r\n",
      "Requirement already satisfied: bolt-python>=0.7.0 in /opt/conda/envs/eurodatacube-0.24.5/lib/python3.8/site-packages (from thunder-python>=1.2.0->thunder-registration->eo-learn-coregistration>=0.9.0->eo-learn) (0.7.1)\r\n"
     ]
    },
    {
     "name": "stdout",
     "output_type": "stream",
     "text": [
      "Requirement already satisfied: sentinelhub in /opt/conda/envs/eurodatacube-0.24.5/lib/python3.8/site-packages (3.2.1)\r\n"
     ]
    },
    {
     "name": "stdout",
     "output_type": "stream",
     "text": [
      "Collecting sentinelhub\r\n",
      "  Downloading sentinelhub-3.3.0.tar.gz (194 kB)\r\n",
      "\u001b[?25l\r",
      "\u001b[K     |█▊                              | 10 kB 34.7 MB/s eta 0:00:01\r",
      "\u001b[K     |███▍                            | 20 kB 39.7 MB/s eta 0:00:01\r",
      "\u001b[K     |█████                           | 30 kB 41.3 MB/s eta 0:00:01\r",
      "\u001b[K     |██████▊                         | 40 kB 47.4 MB/s eta 0:00:01\r",
      "\u001b[K     |████████▍                       | 51 kB 47.6 MB/s eta 0:00:01\r",
      "\u001b[K     |██████████                      | 61 kB 52.1 MB/s eta 0:00:01\r",
      "\u001b[K     |███████████▊                    | 71 kB 41.6 MB/s eta 0:00:01\r",
      "\u001b[K     |█████████████▌                  | 81 kB 42.3 MB/s eta 0:00:01\r",
      "\u001b[K     |███████████████▏                | 92 kB 44.9 MB/s eta 0:00:01\r",
      "\u001b[K     |████████████████▉               | 102 kB 44.7 MB/s eta 0:00:01\r",
      "\u001b[K     |██████████████████▌             | 112 kB 44.7 MB/s eta 0:00:01\r",
      "\u001b[K     |████████████████████▏           | 122 kB 44.7 MB/s eta 0:00:01\r",
      "\u001b[K     |█████████████████████▉          | 133 kB 44.7 MB/s eta 0:00:01\r",
      "\u001b[K     |███████████████████████▌        | 143 kB 44.7 MB/s eta 0:00:01\r",
      "\u001b[K     |█████████████████████████▎      | 153 kB 44.7 MB/s eta 0:00:01\r",
      "\u001b[K     |███████████████████████████     | 163 kB 44.7 MB/s eta 0:00:01\r",
      "\u001b[K     |████████████████████████████▋   | 174 kB 44.7 MB/s eta 0:00:01\r",
      "\u001b[K     |██████████████████████████████▎ | 184 kB 44.7 MB/s eta 0:00:01\r",
      "\u001b[K     |████████████████████████████████| 194 kB 44.7 MB/s eta 0:00:01\r",
      "\u001b[K     |████████████████████████████████| 194 kB 44.7 MB/s \r\n"
     ]
    },
    {
     "name": "stdout",
     "output_type": "stream",
     "text": [
      "\u001b[?25hRequirement already satisfied: wheel in /opt/conda/envs/eurodatacube-0.24.5/lib/python3.8/site-packages (from sentinelhub) (0.36.2)\r\n",
      "Requirement already satisfied: requests>=2.5.0 in /opt/conda/envs/eurodatacube-0.24.5/lib/python3.8/site-packages (from sentinelhub) (2.25.1)\r\n",
      "Requirement already satisfied: click in /opt/conda/envs/eurodatacube-0.24.5/lib/python3.8/site-packages (from sentinelhub) (7.1.2)\r\n",
      "Requirement already satisfied: numpy in /opt/conda/envs/eurodatacube-0.24.5/lib/python3.8/site-packages (from sentinelhub) (1.20.2)\r\n",
      "Requirement already satisfied: tifffile in /opt/conda/envs/eurodatacube-0.24.5/lib/python3.8/site-packages (from sentinelhub) (2021.4.8)\r\n",
      "Requirement already satisfied: pillow in /opt/conda/envs/eurodatacube-0.24.5/lib/python3.8/site-packages (from sentinelhub) (8.1.2)\r\n",
      "Requirement already satisfied: python-dateutil in /opt/conda/envs/eurodatacube-0.24.5/lib/python3.8/site-packages (from sentinelhub) (2.8.1)\r\n",
      "Requirement already satisfied: utm in /opt/conda/envs/eurodatacube-0.24.5/lib/python3.8/site-packages (from sentinelhub) (0.7.0)\r\n",
      "Requirement already satisfied: shapely in /opt/conda/envs/eurodatacube-0.24.5/lib/python3.8/site-packages (from sentinelhub) (1.7.1)\r\n",
      "Requirement already satisfied: boto3 in /opt/conda/envs/eurodatacube-0.24.5/lib/python3.8/site-packages (from sentinelhub) (1.17.70)\r\n",
      "Requirement already satisfied: botocore in /opt/conda/envs/eurodatacube-0.24.5/lib/python3.8/site-packages (from sentinelhub) (1.20.70)\r\n",
      "Requirement already satisfied: pyproj>=2.2.0 in /opt/conda/envs/eurodatacube-0.24.5/lib/python3.8/site-packages (from sentinelhub) (3.0.1)\r\n",
      "Requirement already satisfied: oauthlib in /opt/conda/envs/eurodatacube-0.24.5/lib/python3.8/site-packages (from sentinelhub) (3.0.1)\r\n",
      "Requirement already satisfied: requests_oauthlib in /opt/conda/envs/eurodatacube-0.24.5/lib/python3.8/site-packages (from sentinelhub) (1.3.0)\r\n",
      "Requirement already satisfied: aenum>=2.1.4 in /opt/conda/envs/eurodatacube-0.24.5/lib/python3.8/site-packages (from sentinelhub) (3.0.0)\r\n",
      "Requirement already satisfied: dataclasses-json in /opt/conda/envs/eurodatacube-0.24.5/lib/python3.8/site-packages (from sentinelhub) (0.5.3)\r\n",
      "Requirement already satisfied: certifi in /opt/conda/envs/eurodatacube-0.24.5/lib/python3.8/site-packages (from pyproj>=2.2.0->sentinelhub) (2020.12.5)\r\n",
      "Requirement already satisfied: chardet<5,>=3.0.2 in /opt/conda/envs/eurodatacube-0.24.5/lib/python3.8/site-packages (from requests>=2.5.0->sentinelhub) (4.0.0)\r\n",
      "Requirement already satisfied: idna<3,>=2.5 in /opt/conda/envs/eurodatacube-0.24.5/lib/python3.8/site-packages (from requests>=2.5.0->sentinelhub) (2.10)\r\n",
      "Requirement already satisfied: urllib3<1.27,>=1.21.1 in /opt/conda/envs/eurodatacube-0.24.5/lib/python3.8/site-packages (from requests>=2.5.0->sentinelhub) (1.26.4)\r\n"
     ]
    },
    {
     "name": "stdout",
     "output_type": "stream",
     "text": [
      "Requirement already satisfied: s3transfer<0.5.0,>=0.4.0 in /opt/conda/envs/eurodatacube-0.24.5/lib/python3.8/site-packages (from boto3->sentinelhub) (0.4.2)\r\n",
      "Requirement already satisfied: jmespath<1.0.0,>=0.7.1 in /opt/conda/envs/eurodatacube-0.24.5/lib/python3.8/site-packages (from boto3->sentinelhub) (0.10.0)\r\n",
      "Requirement already satisfied: six>=1.5 in /opt/conda/envs/eurodatacube-0.24.5/lib/python3.8/site-packages (from python-dateutil->sentinelhub) (1.16.0)\r\n",
      "Requirement already satisfied: marshmallow<4.0.0,>=3.3.0 in /opt/conda/envs/eurodatacube-0.24.5/lib/python3.8/site-packages (from dataclasses-json->sentinelhub) (3.12.1)\r\n",
      "Requirement already satisfied: typing-inspect>=0.4.0 in /opt/conda/envs/eurodatacube-0.24.5/lib/python3.8/site-packages (from dataclasses-json->sentinelhub) (0.6.0)\r\n",
      "Requirement already satisfied: stringcase<2.0.0,==1.2.0 in /opt/conda/envs/eurodatacube-0.24.5/lib/python3.8/site-packages (from dataclasses-json->sentinelhub) (1.2.0)\r\n",
      "Requirement already satisfied: marshmallow-enum<2.0.0,>=1.5.1 in /opt/conda/envs/eurodatacube-0.24.5/lib/python3.8/site-packages (from dataclasses-json->sentinelhub) (1.5.1)\r\n"
     ]
    },
    {
     "name": "stdout",
     "output_type": "stream",
     "text": [
      "Requirement already satisfied: typing-extensions>=3.7.4 in /opt/conda/envs/eurodatacube-0.24.5/lib/python3.8/site-packages (from typing-inspect>=0.4.0->dataclasses-json->sentinelhub) (3.7.4.3)\r\n",
      "Requirement already satisfied: mypy-extensions>=0.3.0 in /opt/conda/envs/eurodatacube-0.24.5/lib/python3.8/site-packages (from typing-inspect>=0.4.0->dataclasses-json->sentinelhub) (0.4.3)\r\n",
      "Building wheels for collected packages: sentinelhub\r\n"
     ]
    },
    {
     "name": "stdout",
     "output_type": "stream",
     "text": [
      "  Building wheel for sentinelhub (setup.py) ... \u001b[?25l-"
     ]
    },
    {
     "name": "stdout",
     "output_type": "stream",
     "text": [
      "\b \b\\"
     ]
    },
    {
     "name": "stdout",
     "output_type": "stream",
     "text": [
      "\b \bdone\r\n",
      "\u001b[?25h  Created wheel for sentinelhub: filename=sentinelhub-3.3.0-py3-none-any.whl size=209265 sha256=bb774cb9024b02dda304fa67de64d302134dcdc66a4a160514b1de3036e47f92\r\n",
      "  Stored in directory: /home/jovyan/true/wheels/45/8a/50/b7718c4f5c2b4b06620c0b1c0e49d7fae8c5498210e31e02fb\r\n",
      "Successfully built sentinelhub\r\n"
     ]
    },
    {
     "name": "stdout",
     "output_type": "stream",
     "text": [
      "Installing collected packages: sentinelhub\r\n",
      "  Attempting uninstall: sentinelhub\r\n",
      "    Found existing installation: sentinelhub 3.2.1\r\n"
     ]
    },
    {
     "name": "stdout",
     "output_type": "stream",
     "text": [
      "    Uninstalling sentinelhub-3.2.1:\r\n",
      "      Successfully uninstalled sentinelhub-3.2.1\r\n"
     ]
    },
    {
     "name": "stdout",
     "output_type": "stream",
     "text": [
      "Successfully installed sentinelhub-3.3.0\r\n"
     ]
    }
   ],
   "source": [
    "# ensure you have the latest eo-learn-io and sentinlhub version\n",
    "!pip install --upgrade eo-learn\n",
    "!pip install --upgrade sentinelhub\n",
    "#!pip install --upgrade geopandas\n",
    "#! conda install -c conda-forge xcube_geodb "
   ]
  },
  {
   "cell_type": "code",
   "execution_count": 3,
   "id": "131da55c",
   "metadata": {
    "execution": {
     "iopub.execute_input": "2021-05-19T14:35:42.251149Z",
     "iopub.status.busy": "2021-05-19T14:35:42.250571Z",
     "iopub.status.idle": "2021-05-19T14:35:44.086728Z",
     "shell.execute_reply": "2021-05-19T14:35:44.086182Z"
    },
    "papermill": {
     "duration": 1.886771,
     "end_time": "2021-05-19T14:35:44.086838",
     "exception": false,
     "start_time": "2021-05-19T14:35:42.200067",
     "status": "completed"
    },
    "tags": []
   },
   "outputs": [],
   "source": [
    "# Jupyter notebook related\n",
    "%load_ext autoreload\n",
    "%autoreload 2\n",
    "%matplotlib inline"
   ]
  },
  {
   "cell_type": "markdown",
   "id": "e7bba69d",
   "metadata": {
    "tags": [
     "papermill-error-cell-tag"
    ]
   },
   "source": [
    "<span id=\"papermill-error-cell\" style=\"color:red; font-family:Helvetica Neue, Helvetica, Arial, sans-serif; font-size:2em;\">Execution using papermill encountered an exception here and stopped:</span>"
   ]
  },
  {
   "cell_type": "code",
   "execution_count": 4,
   "id": "8d1a3c57",
   "metadata": {
    "execution": {
     "iopub.execute_input": "2021-05-19T14:35:44.185883Z",
     "iopub.status.busy": "2021-05-19T14:35:44.185333Z",
     "iopub.status.idle": "2021-05-19T14:35:45.569483Z",
     "shell.execute_reply": "2021-05-19T14:35:45.568806Z"
    },
    "papermill": {
     "duration": 1.437072,
     "end_time": "2021-05-19T14:35:45.569698",
     "exception": true,
     "start_time": "2021-05-19T14:35:44.132626",
     "status": "failed"
    },
    "tags": []
   },
   "outputs": [
    {
     "ename": "ModuleNotFoundError",
     "evalue": "No module named 'utils'",
     "output_type": "error",
     "traceback": [
      "\u001b[0;31m---------------------------------------------------------------------------\u001b[0m",
      "\u001b[0;31mModuleNotFoundError\u001b[0m                       Traceback (most recent call last)",
      "\u001b[0;32m<ipython-input-4-3606a81a6601>\u001b[0m in \u001b[0;36m<module>\u001b[0;34m\u001b[0m\n\u001b[1;32m     30\u001b[0m \u001b[0;34m\u001b[0m\u001b[0m\n\u001b[1;32m     31\u001b[0m \u001b[0;31m# Visualisation utils\u001b[0m\u001b[0;34m\u001b[0m\u001b[0;34m\u001b[0m\u001b[0;34m\u001b[0m\u001b[0m\n\u001b[0;32m---> 32\u001b[0;31m \u001b[0;32mfrom\u001b[0m \u001b[0mutils\u001b[0m \u001b[0;32mimport\u001b[0m \u001b[0mget_extent\u001b[0m\u001b[0;34m,\u001b[0m \u001b[0mmd5_encode_files\u001b[0m\u001b[0;34m\u001b[0m\u001b[0;34m\u001b[0m\u001b[0m\n\u001b[0m",
      "\u001b[0;31mModuleNotFoundError\u001b[0m: No module named 'utils'"
     ]
    }
   ],
   "source": [
    "# Built-in modules\n",
    "import os\n",
    "import json\n",
    "from typing import Tuple, List\n",
    "from datetime import datetime, timedelta\n",
    "\n",
    "# Basics of Python data handling and visualization\n",
    "import numpy as np\n",
    "import pandas as pd\n",
    "import geopandas as gpd\n",
    "import matplotlib.pyplot as plt\n",
    "from matplotlib.colors import ListedColormap\n",
    "from tqdm.auto import tqdm\n",
    "\n",
    "# Module for GeoDB\n",
    "from xcube_geodb.core.geodb import GeoDBClient\n",
    "\n",
    "# Imports from eo-learn and sentinelhub-py\n",
    "from sentinelhub import CRS, BBox, SHConfig, DataCollection\n",
    "\n",
    "from eolearn.core import (FeatureType,\n",
    "                          EOPatch, \n",
    "                          EOTask, \n",
    "                          LinearWorkflow, \n",
    "                          EOExecutor, \n",
    "                          LoadTask,\n",
    "                          SaveTask)\n",
    "from eolearn.io import GeoDBVectorImportTask, SentinelHubInputTask\n",
    "from eolearn.geometry import VectorToRaster\n",
    "\n",
    "# Visualisation utils\n",
    "from utils import get_extent, md5_encode_files"
   ]
  },
  {
   "cell_type": "markdown",
   "id": "425360a2",
   "metadata": {
    "papermill": {
     "duration": null,
     "end_time": null,
     "exception": null,
     "start_time": null,
     "status": "pending"
    },
    "tags": []
   },
   "source": [
    "## 0. Requirements  <a name=\"requirements\"></a>"
   ]
  },
  {
   "cell_type": "markdown",
   "id": "fb885dff",
   "metadata": {
    "papermill": {
     "duration": null,
     "end_time": null,
     "exception": null,
     "start_time": null,
     "status": "pending"
    },
    "tags": []
   },
   "source": [
    "In order to download the data through the provided APIs you would need to set-up an account for Sentinel Hub and GeoDB. Check the following options.\n",
    "\n",
    "#### If you are using the Euro Data Cube (EDC) resources\n",
    "\n",
    "The accounts have been already created and configured for you, and what you need is only to retrieve the SentinelHub credentials from your dashboard and paste them below (from your EDC dashboard click on **EDC Sentinel Hub** in the _My API service subscriptions_, then click on **SHOW** credential in _API Access_ section).  \n",
    "\n",
    "#### If you are using your own resources\n",
    "\n",
    "You need the following accounts:\n",
    "\n",
    " * [Sentinel Hub](https://docs.sentinel-hub.com/api/latest/), to download the Sentinel-2 time-series. What you need is to [create a free account](http://www.sentinel-hub.com/create_account), register an OAuth client from [your dashboard](https://apps.sentinel-hub.com/dashboard/#/account/settings) by clicking on the `Create a new OAuth client` button, set the `Client grant type` to `Client Credentials` and save the `secret` value. Paste below the `client_id` and `secret_client_id` and you are ready to go;\n",
    " * [GeoDB](https://eurodatacube.com/marketplace/services/edc_geodb), to download polygons defining the AOI and the reference land cover polygons. [Create a trial account](https://eurodatacube.com/register), and retrieve the `client_id` and `client_secret` tokens from your dashboard. \n",
    " \n",
    "#### If you cannot use the APIs\n",
    "\n",
    "Check the challenge description for alternative options to retrieve the data as a single zipped file. Beware that the resulting dataset is approximately 7GB. "
   ]
  },
  {
   "cell_type": "markdown",
   "id": "6b845eff",
   "metadata": {
    "papermill": {
     "duration": null,
     "end_time": null,
     "exception": null,
     "start_time": null,
     "status": "pending"
    },
    "tags": []
   },
   "source": [
    "Replace the `'xx'` with your Sentinel Hub credentials."
   ]
  },
  {
   "cell_type": "code",
   "execution_count": null,
   "id": "bff45cc9",
   "metadata": {
    "papermill": {
     "duration": null,
     "end_time": null,
     "exception": null,
     "start_time": null,
     "status": "pending"
    },
    "tags": []
   },
   "outputs": [],
   "source": [
    "sh_client_id = '45a78949-8412-4ff6-a59f-c9f5597bd33f'\n",
    "sh_client_secret = 'F%hj|pF,>q]bXv_:8t<5S5E]yn5#VsnVJ:wCNK+@'\n",
    "\n",
    "sh_config = SHConfig()\n",
    "sh_config.sh_client_id = sh_client_id\n",
    "sh_config.sh_client_secret = sh_client_secret"
   ]
  },
  {
   "cell_type": "markdown",
   "id": "63d8df9c",
   "metadata": {
    "papermill": {
     "duration": null,
     "end_time": null,
     "exception": null,
     "start_time": null,
     "status": "pending"
    },
    "tags": []
   },
   "source": [
    "Replace the `'yy'` with your GeoDB credentials (not necessary if you are running from EDC)."
   ]
  },
  {
   "cell_type": "code",
   "execution_count": null,
   "id": "e8c93d84",
   "metadata": {
    "papermill": {
     "duration": null,
     "end_time": null,
     "exception": null,
     "start_time": null,
     "status": "pending"
    },
    "tags": []
   },
   "outputs": [],
   "source": [
    "geodb_client_id = 'yyy'\n",
    "geodb_client_secret = 'yyYYyy'\n",
    "\n",
    "# uncomment below if running from EDC\n",
    "client = GeoDBClient()\n",
    "\n",
    "# uncomment below if running from your own resources\n",
    "#client = GeoDBClient(server_url='https://xcube-geodb.brockmann-consult.de', \n",
    "#                     auth_aud='https://xcube-users.brockmann-consult.de/api/v2', \n",
    "#                     client_id=geodb_client_id, client_secret=geodb_client_secret)\n",
    "\n",
    "client.whoami"
   ]
  },
  {
   "cell_type": "markdown",
   "id": "2868afb7",
   "metadata": {
    "papermill": {
     "duration": null,
     "end_time": null,
     "exception": null,
     "start_time": null,
     "status": "pending"
    },
    "tags": []
   },
   "source": [
    "## 1. Data Overview <a name=\"data-overview\"></a>"
   ]
  },
  {
   "cell_type": "markdown",
   "id": "b0d08b84",
   "metadata": {
    "papermill": {
     "duration": null,
     "end_time": null,
     "exception": null,
     "start_time": null,
     "status": "pending"
    },
    "tags": []
   },
   "source": [
    "This section gives an overview of all the necessary data to train your model and how to download them. \n",
    "\n",
    "In particular, the data sources to download are the following:\n",
    "\n",
    " * a list of bounding boxes defining the area-of-interest (AOI);\n",
    " * the Sentinel-2 L2A time-series for a 6 months period;\n",
    " * the reference polygons defining the cultivated and non-cultivated land labels. \n",
    " \n",
    "After downloading the bounding boxes defining the AOI, we will donwload the images and reference data for an example bounding box. After this, we will set a workflow to download all the required data."
   ]
  },
  {
   "cell_type": "code",
   "execution_count": null,
   "id": "707ac5d6",
   "metadata": {
    "papermill": {
     "duration": null,
     "end_time": null,
     "exception": null,
     "start_time": null,
     "status": "pending"
    },
    "tags": []
   },
   "outputs": [],
   "source": [
    "# DO NOT CHANGE THIS\n",
    "GEODB_DATABASE = 'geodb_0e5d743f-2134-4561-8946-a073b039176f'"
   ]
  },
  {
   "cell_type": "markdown",
   "id": "2de7ba0b",
   "metadata": {
    "papermill": {
     "duration": null,
     "end_time": null,
     "exception": null,
     "start_time": null,
     "status": "pending"
    },
    "tags": []
   },
   "source": [
    "### 1.1 Area of Interest <a name=\"aoi\"></a>"
   ]
  },
  {
   "cell_type": "markdown",
   "id": "d22d2f17",
   "metadata": {
    "papermill": {
     "duration": null,
     "end_time": null,
     "exception": null,
     "start_time": null,
     "status": "pending"
    },
    "tags": []
   },
   "source": [
    "The AOI chosen for this challenge is the [Republic of Slovenia](https://en.wikipedia.org/wiki/Slovenia). \n",
    "\n",
    "The AOI is split into 125 bounding boxes across the entire country, data for 100 bounding boxes to be used for training, and 25 for testing. The following code retrieves the bounding boxes from the GeoDB database.\n",
    "\n",
    "`bboxes` is a `geopandas` GeoDataFrame holding information on whether the bounding box has to be used for training/testing, i.e. `is_train` column, and a unique index identifier of the bounding box, i.e. `eop_index`."
   ]
  },
  {
   "cell_type": "code",
   "execution_count": null,
   "id": "15ddbbfb",
   "metadata": {
    "papermill": {
     "duration": null,
     "end_time": null,
     "exception": null,
     "start_time": null,
     "status": "pending"
    },
    "tags": []
   },
   "outputs": [],
   "source": [
    "bboxes = client.get_collection('ai4eo_bboxes', database=GEODB_DATABASE)"
   ]
  },
  {
   "cell_type": "markdown",
   "id": "b984ba49",
   "metadata": {
    "papermill": {
     "duration": null,
     "end_time": null,
     "exception": null,
     "start_time": null,
     "status": "pending"
    },
    "tags": []
   },
   "source": [
    "**NOTE:** The bounding boxes and all data sources used are in the UTM zone 33N, i.e. `epsg:32633`."
   ]
  },
  {
   "cell_type": "code",
   "execution_count": null,
   "id": "4bc288a6",
   "metadata": {
    "papermill": {
     "duration": null,
     "end_time": null,
     "exception": null,
     "start_time": null,
     "status": "pending"
    },
    "tags": []
   },
   "outputs": [],
   "source": [
    "bboxes.crs"
   ]
  },
  {
   "cell_type": "markdown",
   "id": "e487480a",
   "metadata": {
    "papermill": {
     "duration": null,
     "end_time": null,
     "exception": null,
     "start_time": null,
     "status": "pending"
    },
    "tags": []
   },
   "source": [
    "Plot bounding boxes"
   ]
  },
  {
   "cell_type": "code",
   "execution_count": null,
   "id": "4b8b4bfc",
   "metadata": {
    "papermill": {
     "duration": null,
     "end_time": null,
     "exception": null,
     "start_time": null,
     "status": "pending"
    },
    "tags": []
   },
   "outputs": [],
   "source": [
    "fig, ax = plt.subplots(figsize=(15, 10))\n",
    "gpd.read_file('metadata/svn-border.geojson').plot(ax=ax, color='xkcd:very light green')\n",
    "bboxes.query('is_train==True').boundary.plot(ax=ax, color='xkcd:blue', label='Train');\n",
    "bboxes.query('is_train==False').boundary.plot(ax=ax, color='xkcd:red', label='Test');\n",
    "ax.legend(loc='upper left');"
   ]
  },
  {
   "cell_type": "markdown",
   "id": "b506070f",
   "metadata": {
    "papermill": {
     "duration": null,
     "end_time": null,
     "exception": null,
     "start_time": null,
     "status": "pending"
    },
    "tags": []
   },
   "source": [
    "Get indices defining the train/test bounding boxes, as these will be used to name our EOPatches."
   ]
  },
  {
   "cell_type": "code",
   "execution_count": null,
   "id": "34b0684e",
   "metadata": {
    "papermill": {
     "duration": null,
     "end_time": null,
     "exception": null,
     "start_time": null,
     "status": "pending"
    },
    "tags": []
   },
   "outputs": [],
   "source": [
    "eops_train = bboxes.query('is_train==True').eop_index.values\n",
    "eops_test = bboxes.query('is_train==False').eop_index.values"
   ]
  },
  {
   "cell_type": "code",
   "execution_count": null,
   "id": "74d41259",
   "metadata": {
    "papermill": {
     "duration": null,
     "end_time": null,
     "exception": null,
     "start_time": null,
     "status": "pending"
    },
    "tags": []
   },
   "outputs": [],
   "source": [
    "len(eops_train), np.sort(eops_train)"
   ]
  },
  {
   "cell_type": "code",
   "execution_count": null,
   "id": "3b86ebe1",
   "metadata": {
    "papermill": {
     "duration": null,
     "end_time": null,
     "exception": null,
     "start_time": null,
     "status": "pending"
    },
    "tags": []
   },
   "outputs": [],
   "source": [
    "len(eops_test), np.sort(eops_test)"
   ]
  },
  {
   "cell_type": "markdown",
   "id": "2e276f6c",
   "metadata": {
    "papermill": {
     "duration": null,
     "end_time": null,
     "exception": null,
     "start_time": null,
     "status": "pending"
    },
    "tags": []
   },
   "source": [
    "### 1.2 Sentinel-2 time-series <a name=\"sentinel-2\"></a>"
   ]
  },
  {
   "cell_type": "markdown",
   "id": "305bdaa3",
   "metadata": {
    "papermill": {
     "duration": null,
     "end_time": null,
     "exception": null,
     "start_time": null,
     "status": "pending"
    },
    "tags": []
   },
   "source": [
    "The input images are Sentinel-2 L2A acquired over a 6-months period, from March 1st to September 1st 2019. \n",
    "\n",
    "The following data will be downloaded:\n",
    "\n",
    " * `BANDS`: all 12 Sentinel-2 L2A bands. The bands are in the following order `[B01, B02, B03, B04, B05, B06, B07, B08, B8A, B09, B11, B12]`. The bands that have original spatial resolution of `20m` and `60m` are interpolated with a nearest-neighbour method to a `10m` resolution. More information about the interpolation process [here](https://docs.sentinel-hub.com/api/latest/data/sentinel-2-l2a/#processing-options); \n",
    " * `SCL`: Sen2Cor scene classification mask;\n",
    " * `IS_DATA`: binary mask denoting data/no-data pixels;\n",
    " * `CLP`, `CLM`: `s2cloudless` cloud probability and cloud mask. More details about these layers can be found [here](https://docs.sentinel-hub.com/api/latest/user-guides/cloud-masks/).\n",
    " \n",
    "More details about the bands can be found [here](https://docs.sentinel-hub.com/api/latest/data/sentinel-2-l2a/#available-bands-and-data)."
   ]
  },
  {
   "cell_type": "code",
   "execution_count": null,
   "id": "23ca7fe9",
   "metadata": {
    "papermill": {
     "duration": null,
     "end_time": null,
     "exception": null,
     "start_time": null,
     "status": "pending"
    },
    "tags": []
   },
   "outputs": [],
   "source": [
    "# Download parameters - DO NOT CHANGE\n",
    "S2_TIME_INTERVAL = ('2019-03-01','2019-09-01')\n",
    "\n",
    "S2_RESOLUTION = 10 #metres\n",
    "S2_MAXCC = 0.5\n",
    "S2_TIME_DELTA = 120\n",
    "\n",
    "MAX_THREADS = 5"
   ]
  },
  {
   "cell_type": "markdown",
   "id": "cbc85933",
   "metadata": {
    "papermill": {
     "duration": null,
     "end_time": null,
     "exception": null,
     "start_time": null,
     "status": "pending"
    },
    "tags": []
   },
   "source": [
    "Example download for the first bounding box."
   ]
  },
  {
   "cell_type": "code",
   "execution_count": null,
   "id": "a215551b",
   "metadata": {
    "papermill": {
     "duration": null,
     "end_time": null,
     "exception": null,
     "start_time": null,
     "status": "pending"
    },
    "tags": []
   },
   "outputs": [],
   "source": [
    "bbox = BBox(bboxes.iloc[0].geometry, crs=CRS(bboxes.crs))"
   ]
  },
  {
   "cell_type": "markdown",
   "id": "03945a30",
   "metadata": {
    "papermill": {
     "duration": null,
     "end_time": null,
     "exception": null,
     "start_time": null,
     "status": "pending"
    },
    "tags": []
   },
   "source": [
    "`eo-learn` task to download images from SentinelHub."
   ]
  },
  {
   "cell_type": "code",
   "execution_count": null,
   "id": "b0ac0b3d",
   "metadata": {
    "papermill": {
     "duration": null,
     "end_time": null,
     "exception": null,
     "start_time": null,
     "status": "pending"
    },
    "tags": []
   },
   "outputs": [],
   "source": [
    "get_s2_l2a = SentinelHubInputTask(\n",
    "    bands_feature=(FeatureType.DATA, 'BANDS'),\n",
    "    bands_dtype=np.uint16,\n",
    "    resolution=S2_RESOLUTION,\n",
    "    maxcc=S2_MAXCC,\n",
    "    time_difference=timedelta(minutes=S2_TIME_DELTA),\n",
    "    data_collection=DataCollection.SENTINEL2_L2A,\n",
    "    additional_data=[(FeatureType.MASK, 'dataMask', 'IS_DATA'),\n",
    "                     (FeatureType.MASK, 'SCL'),\n",
    "                     (FeatureType.MASK, 'CLM'),\n",
    "                     (FeatureType.DATA, 'CLP')],\n",
    "    max_threads=MAX_THREADS,\n",
    "    config=sh_config\n",
    ")"
   ]
  },
  {
   "cell_type": "markdown",
   "id": "2ae50aad",
   "metadata": {
    "papermill": {
     "duration": null,
     "end_time": null,
     "exception": null,
     "start_time": null,
     "status": "pending"
    },
    "tags": []
   },
   "source": [
    "Download images for given `bbox` and `time_interval`."
   ]
  },
  {
   "cell_type": "code",
   "execution_count": null,
   "id": "776dfda8",
   "metadata": {
    "papermill": {
     "duration": null,
     "end_time": null,
     "exception": null,
     "start_time": null,
     "status": "pending"
    },
    "tags": []
   },
   "outputs": [],
   "source": [
    "%%time\n",
    "s2_l2a_eop = get_s2_l2a.execute(bbox=bbox, time_interval=S2_TIME_INTERVAL)"
   ]
  },
  {
   "cell_type": "markdown",
   "id": "94958e75",
   "metadata": {
    "papermill": {
     "duration": null,
     "end_time": null,
     "exception": null,
     "start_time": null,
     "status": "pending"
    },
    "tags": []
   },
   "source": [
    "The data is now stored in an [EOPatch](https://eo-learn.readthedocs.io/en/latest/examples/core/CoreOverview.html#EOPatch), where each raster feature is stored as a `numpy` array, vector data stored as a `geopandas` dataframe, while dates as `datetime` objects.\n",
    "\n",
    "This `EOPatch` contains 38 time frames, of `500x500` spatial dimension. All `EOPatches` will have same spatial dimensions, but different temporal frames.\n",
    "\n",
    "**NOTE:** Band values are stored as digital numbers `DN`s, therefore they need to be mulitplied by the `NORM_FACTORS` (i.e. `1e-4`) to derive reflectances."
   ]
  },
  {
   "cell_type": "code",
   "execution_count": null,
   "id": "369ed615",
   "metadata": {
    "papermill": {
     "duration": null,
     "end_time": null,
     "exception": null,
     "start_time": null,
     "status": "pending"
    },
    "tags": []
   },
   "outputs": [],
   "source": [
    "s2_l2a_eop"
   ]
  },
  {
   "cell_type": "code",
   "execution_count": null,
   "id": "68c62065",
   "metadata": {
    "papermill": {
     "duration": null,
     "end_time": null,
     "exception": null,
     "start_time": null,
     "status": "pending"
    },
    "tags": []
   },
   "outputs": [],
   "source": [
    "scl_dict =  {0: [0, 0, 0], # no data\n",
    "             1: [1, 0, 0.016], # saturated / defected\n",
    "             2: [0.525, 0.525, 0.525], # dark area pixels\n",
    "             3: [0.467, 0.298, 0.043], # cloud shadows\n",
    "             4: [0.063, 0.827, 0.176], # vegetation\n",
    "             5: [1, 1, 0.325], # bare soils\n",
    "             6: [0, 0, 1], # water\n",
    "             7: [0.506, 0.506, 0.506], # clouds low probability / unclassified \n",
    "             8: [0.753, 0.753, 0.753], # clouds medium probability\n",
    "             9: [0.949, 0.949, 0.949], # clouds high probaility\n",
    "             10: [0.733, 0.773, 0.925], # cirrus\n",
    "             11: [0.325, 1, 0.980] # ice / snow\n",
    "           }"
   ]
  },
  {
   "cell_type": "markdown",
   "id": "69e54c30",
   "metadata": {
    "papermill": {
     "duration": null,
     "end_time": null,
     "exception": null,
     "start_time": null,
     "status": "pending"
    },
    "tags": []
   },
   "source": [
    "Visualise data in `EOPatch`."
   ]
  },
  {
   "cell_type": "code",
   "execution_count": null,
   "id": "60cb28a9",
   "metadata": {
    "papermill": {
     "duration": null,
     "end_time": null,
     "exception": null,
     "start_time": null,
     "status": "pending"
    },
    "tags": []
   },
   "outputs": [],
   "source": [
    "# choos one time index [0..37] to visualise\n",
    "tidx = 28\n",
    "\n",
    "vis_factor = 3.5\n",
    "\n",
    "norm_factor = s2_l2a_eop.scalar['NORM_FACTORS'][tidx]\n",
    "\n",
    "fig, axs = plt.subplots(figsize=(25, 6), ncols=4)\n",
    "\n",
    "axs[0].imshow(vis_factor*s2_l2a_eop.data['BANDS'][tidx][..., [3, 2, 1]]*norm_factor,\n",
    "              extent=get_extent(s2_l2a_eop));\n",
    "axs[0].set_title(f'S2 L2A - {s2_l2a_eop.timestamp[tidx]}');\n",
    "\n",
    "axs[1].imshow(s2_l2a_eop.mask['IS_DATA'][tidx].squeeze(), \n",
    "              vmin=0, vmax=1, extent=get_extent(s2_l2a_eop));\n",
    "axs[1].set_title('IS_DATA');\n",
    "\n",
    "axs[2].imshow(s2_l2a_eop.mask['SCL'][tidx].squeeze(), \n",
    "              extent=get_extent(s2_l2a_eop), \n",
    "              cmap=ListedColormap([np.array(v) for v in scl_dict.values()]),\n",
    "              vmin=0, vmax=11);\n",
    "axs[2].set_title('SCL');\n",
    "\n",
    "axs[3].imshow(s2_l2a_eop.data['CLP'][tidx].squeeze()/255, vmin=0, vmax=1,\n",
    "              extent=get_extent(s2_l2a_eop));\n",
    "axs[3].set_title('s2cloudless CLP');"
   ]
  },
  {
   "cell_type": "markdown",
   "id": "e8a48e44",
   "metadata": {
    "papermill": {
     "duration": null,
     "end_time": null,
     "exception": null,
     "start_time": null,
     "status": "pending"
    },
    "tags": []
   },
   "source": [
    "The information in the provided masks can be used to mask out invalid frames containing clouds/snow/fog. Below an example using `IS_DATA` and `CLM` mask to find the percentage of valid data in the 6-months period."
   ]
  },
  {
   "cell_type": "code",
   "execution_count": null,
   "id": "11e6056a",
   "metadata": {
    "papermill": {
     "duration": null,
     "end_time": null,
     "exception": null,
     "start_time": null,
     "status": "pending"
    },
    "tags": []
   },
   "outputs": [],
   "source": [
    "valid_data = np.mean(s2_l2a_eop.mask['IS_DATA'] & ~s2_l2a_eop.mask['CLM'], \n",
    "                     axis=(1,2,3)) \n",
    "\n",
    "fig, ax = plt.subplots(figsize=(12.5, 7))\n",
    "ax.plot(s2_l2a_eop.timestamp, valid_data)\n",
    "ax.set_ylabel('Fraction of valid data')\n",
    "ax.grid()"
   ]
  },
  {
   "cell_type": "markdown",
   "id": "74f6a99e",
   "metadata": {
    "papermill": {
     "duration": null,
     "end_time": null,
     "exception": null,
     "start_time": null,
     "status": "pending"
    },
    "tags": []
   },
   "source": [
    "Number of frames for this EOPatch with fraction of valid data greater than 90%. The `SCL` mask and `CLP` masks can be similarly used to estimate data validity fractions."
   ]
  },
  {
   "cell_type": "code",
   "execution_count": null,
   "id": "a6cf5c81",
   "metadata": {
    "papermill": {
     "duration": null,
     "end_time": null,
     "exception": null,
     "start_time": null,
     "status": "pending"
    },
    "tags": []
   },
   "outputs": [],
   "source": [
    "np.sum(valid_data>.9)"
   ]
  },
  {
   "cell_type": "code",
   "execution_count": null,
   "id": "070a7cd6",
   "metadata": {
    "papermill": {
     "duration": null,
     "end_time": null,
     "exception": null,
     "start_time": null,
     "status": "pending"
    },
    "tags": []
   },
   "outputs": [],
   "source": []
  },
  {
   "cell_type": "markdown",
   "id": "57a09507",
   "metadata": {
    "papermill": {
     "duration": null,
     "end_time": null,
     "exception": null,
     "start_time": null,
     "status": "pending"
    },
    "tags": []
   },
   "source": [
    "### 1.3 Reference polygons <a name=\"reference\"></a>"
   ]
  },
  {
   "cell_type": "markdown",
   "id": "7f3f8884",
   "metadata": {
    "papermill": {
     "duration": null,
     "end_time": null,
     "exception": null,
     "start_time": null,
     "status": "pending"
    },
    "tags": []
   },
   "source": [
    "Now that we have the Sentinel-2 time-series data, time to add the information about the target _cultivated land_ map. This mask is derived from a combination of a _land cover_ dataset and a _declared crops_ dataset.\n",
    "\n",
    "The reference data is stored as polygons in a GeoDB table. The following task retrieves the polygons within each bounding box defined above."
   ]
  },
  {
   "cell_type": "code",
   "execution_count": null,
   "id": "d87a6319",
   "metadata": {
    "papermill": {
     "duration": null,
     "end_time": null,
     "exception": null,
     "start_time": null,
     "status": "pending"
    },
    "tags": []
   },
   "outputs": [],
   "source": [
    "get_polys = GeoDBVectorImportTask(\n",
    "    feature=(FeatureType.VECTOR_TIMELESS, 'REFERENCE'), \n",
    "    geodb_client=client, \n",
    "    geodb_collection='ai4eo_reference',\n",
    "    geodb_db=GEODB_DATABASE\n",
    ")"
   ]
  },
  {
   "cell_type": "markdown",
   "id": "e22e69a1",
   "metadata": {
    "papermill": {
     "duration": null,
     "end_time": null,
     "exception": null,
     "start_time": null,
     "status": "pending"
    },
    "tags": []
   },
   "source": [
    "Execute the task and create a new `VECTOR_TIMELESS` feature holding the polys as a `geopandas` dataframe."
   ]
  },
  {
   "cell_type": "code",
   "execution_count": null,
   "id": "95d05de0",
   "metadata": {
    "papermill": {
     "duration": null,
     "end_time": null,
     "exception": null,
     "start_time": null,
     "status": "pending"
    },
    "tags": []
   },
   "outputs": [],
   "source": [
    "eop = get_polys.execute(eopatch=s2_l2a_eop)"
   ]
  },
  {
   "cell_type": "code",
   "execution_count": null,
   "id": "bd311a28",
   "metadata": {
    "papermill": {
     "duration": null,
     "end_time": null,
     "exception": null,
     "start_time": null,
     "status": "pending"
    },
    "tags": []
   },
   "outputs": [],
   "source": [
    "eop"
   ]
  },
  {
   "cell_type": "code",
   "execution_count": null,
   "id": "8b0cd76c",
   "metadata": {
    "papermill": {
     "duration": null,
     "end_time": null,
     "exception": null,
     "start_time": null,
     "status": "pending"
    },
    "tags": []
   },
   "outputs": [],
   "source": [
    "eop.vector_timeless['REFERENCE'].head()"
   ]
  },
  {
   "cell_type": "markdown",
   "id": "410c06d8",
   "metadata": {
    "papermill": {
     "duration": null,
     "end_time": null,
     "exception": null,
     "start_time": null,
     "status": "pending"
    },
    "tags": []
   },
   "source": [
    "Each polygon has a `label` attribute which denotes its land cover. Values between 1 and 30 denote _agricultural land_ including grassland and meadows, values above 1000 denote land cover types like _water_, _forest_ and _build-up_ area, while the label 100 denotes _agricultural land_ of which the crop-type is unknown."
   ]
  },
  {
   "cell_type": "code",
   "execution_count": null,
   "id": "a8e64ba9",
   "metadata": {
    "papermill": {
     "duration": null,
     "end_time": null,
     "exception": null,
     "start_time": null,
     "status": "pending"
    },
    "tags": []
   },
   "outputs": [],
   "source": [
    "eop.vector_timeless['REFERENCE'].label.unique()"
   ]
  },
  {
   "cell_type": "code",
   "execution_count": null,
   "id": "c8fa3258",
   "metadata": {
    "papermill": {
     "duration": null,
     "end_time": null,
     "exception": null,
     "start_time": null,
     "status": "pending"
    },
    "tags": []
   },
   "outputs": [],
   "source": [
    "df = eop.vector_timeless['REFERENCE']"
   ]
  },
  {
   "cell_type": "code",
   "execution_count": null,
   "id": "c001b739",
   "metadata": {
    "papermill": {
     "duration": null,
     "end_time": null,
     "exception": null,
     "start_time": null,
     "status": "pending"
    },
    "tags": []
   },
   "outputs": [],
   "source": [
    "fig, ax = plt.subplots(figsize=(15, 15))\n",
    "\n",
    "df.query('label<=30').plot(ax=ax, color='xkcd:dull yellow', alpha=.8);\n",
    "df.query('label<=30').boundary.plot(ax=ax, color='xkcd:dull yellow',  alpha=.8, linewidth=.5, label='agricultural');\n",
    "\n",
    "df.query('label==100').plot(ax=ax, color='xkcd:black', alpha=.8);\n",
    "df.query('label==100').boundary.plot(ax=ax, color='xkcd:black',  alpha=.8, linewidth=.5, label='not declared');\n",
    "\n",
    "df.query('(label>1000) and (label<2000)').plot(ax=ax, color='xkcd:orange', alpha=.8);\n",
    "df.query('(label>1000) and (label<2000)').boundary.plot(ax=ax, color='xkcd:orange',  alpha=.8, linewidth=.5, label='shrubland');\n",
    "\n",
    "df.query('label==2000').plot(ax=ax, color='xkcd:jungle green', alpha=.8);\n",
    "df.query('label==2000').boundary.plot(ax=ax, color='xkcd:jungle green',  alpha=.8, linewidth=.5, label='forest');\n",
    "\n",
    "df.query('label==3000').plot(ax=ax, color='xkcd:red', alpha=.8);\n",
    "df.query('label==3000').boundary.plot(ax=ax, color='xkcd:red', alpha=.8, linewidth=.5, label='built-up');\n",
    "\n",
    "# # no values in this EOPatch\n",
    "# df.query('(label>4000) and (label<=5000)').plot(ax=ax, color='xkcd:bright teal', alpha=.8);\n",
    "# df.query('(label>4000) and (label<=5000)').plot(ax=ax, color='xkcd:bright teal', alpha=.8, linewidth=.5, label='wetland');\n",
    "\n",
    "# # no values in this EOPatch\n",
    "# df.query('label==6000').plot(ax=ax, color='xkcd:grey', alpha=.8);\n",
    "# df.query('label==6000').plot(ax=ax, color='xkcd:grey', alpha=.8, linewidth=.5, label='bareland');\n",
    "\n",
    "df.query('label==7000').plot(ax=ax, color='xkcd:blue', alpha=.8);\n",
    "df.query('label==7000').plot(ax=ax, color='xkcd:blue', alpha=.8, linewidth=.5, label='water');\n",
    "\n",
    "ax.legend(loc='center left', bbox_to_anchor=(1, 0.5));"
   ]
  },
  {
   "cell_type": "markdown",
   "id": "758b87e7",
   "metadata": {
    "papermill": {
     "duration": null,
     "end_time": null,
     "exception": null,
     "start_time": null,
     "status": "pending"
    },
    "tags": []
   },
   "source": [
    "Names of labels and labels mapping to a binary _cultivated/not-cultivated_ mask are provided in the `json` files in the `metadata` folder. \n",
    "\n",
    "In the context of this challenge, _cultivated land_ denotes arable land that is typically worked by ploughing, sowing and raising crops."
   ]
  },
  {
   "cell_type": "code",
   "execution_count": null,
   "id": "cdd210cb",
   "metadata": {
    "papermill": {
     "duration": null,
     "end_time": null,
     "exception": null,
     "start_time": null,
     "status": "pending"
    },
    "tags": []
   },
   "outputs": [],
   "source": [
    "with open('metadata/cultivated-mapping.json') as jfile:\n",
    "    cultivated_mapping = {int(k): v for k, v in json.load(jfile).items()}"
   ]
  },
  {
   "cell_type": "markdown",
   "id": "f8d7c0c7",
   "metadata": {
    "papermill": {
     "duration": null,
     "end_time": null,
     "exception": null,
     "start_time": null,
     "status": "pending"
    },
    "tags": []
   },
   "source": [
    "Labels that will be mapped to _non-cultivated land_. These labels are a union of _agricultural land_ that is **not** cultivated, e.g. grassland/meadows, tree plantations, greenhouses, and _land covers_ that are not _agricultural land_, e.g. build-up area, water, forest, shrubland."
   ]
  },
  {
   "cell_type": "code",
   "execution_count": null,
   "id": "7479ba07",
   "metadata": {
    "papermill": {
     "duration": null,
     "end_time": null,
     "exception": null,
     "start_time": null,
     "status": "pending"
    },
    "tags": []
   },
   "outputs": [],
   "source": [
    "print(cultivated_mapping[0])"
   ]
  },
  {
   "cell_type": "markdown",
   "id": "3201c753",
   "metadata": {
    "papermill": {
     "duration": null,
     "end_time": null,
     "exception": null,
     "start_time": null,
     "status": "pending"
    },
    "tags": []
   },
   "source": [
    "Labels that will be mapped to _cultivated land_."
   ]
  },
  {
   "cell_type": "code",
   "execution_count": null,
   "id": "6825c3bf",
   "metadata": {
    "papermill": {
     "duration": null,
     "end_time": null,
     "exception": null,
     "start_time": null,
     "status": "pending"
    },
    "tags": []
   },
   "outputs": [],
   "source": [
    "print(cultivated_mapping[1])"
   ]
  },
  {
   "cell_type": "markdown",
   "id": "ad9fa398",
   "metadata": {
    "papermill": {
     "duration": null,
     "end_time": null,
     "exception": null,
     "start_time": null,
     "status": "pending"
    },
    "tags": []
   },
   "source": [
    "Special class which denotes agricultural land that is **not** declared as a specific _cultivated land_. These pixels will have similarities to _cultivated land_, although information is missing about the exact parcel features. For this reason, these polygons will **not** be used to compute the validation metrics.\n",
    "\n",
    "You are free to use these polys as you wish."
   ]
  },
  {
   "cell_type": "code",
   "execution_count": null,
   "id": "0a102649",
   "metadata": {
    "papermill": {
     "duration": null,
     "end_time": null,
     "exception": null,
     "start_time": null,
     "status": "pending"
    },
    "tags": []
   },
   "outputs": [],
   "source": [
    "print(cultivated_mapping[2])"
   ]
  },
  {
   "cell_type": "markdown",
   "id": "870194d0",
   "metadata": {
    "papermill": {
     "duration": null,
     "end_time": null,
     "exception": null,
     "start_time": null,
     "status": "pending"
    },
    "tags": []
   },
   "source": [
    "Display names of crops and land cover for each label."
   ]
  },
  {
   "cell_type": "code",
   "execution_count": null,
   "id": "eae8ed4c",
   "metadata": {
    "papermill": {
     "duration": null,
     "end_time": null,
     "exception": null,
     "start_time": null,
     "status": "pending"
    },
    "tags": []
   },
   "outputs": [],
   "source": [
    "with open('metadata/label-names.json') as jfile:\n",
    "    label_names = {int(k): v for k, v in json.load(jfile).items()}"
   ]
  },
  {
   "cell_type": "markdown",
   "id": "1a3c87a8",
   "metadata": {
    "papermill": {
     "duration": null,
     "end_time": null,
     "exception": null,
     "start_time": null,
     "status": "pending"
    },
    "tags": []
   },
   "source": [
    "_Not-cultivated land_."
   ]
  },
  {
   "cell_type": "code",
   "execution_count": null,
   "id": "91830977",
   "metadata": {
    "papermill": {
     "duration": null,
     "end_time": null,
     "exception": null,
     "start_time": null,
     "status": "pending"
    },
    "tags": []
   },
   "outputs": [],
   "source": [
    "for ncl in cultivated_mapping[0]:\n",
    "    prefix = 'Crop-types' if ncl <100 else 'Land cover'\n",
    "    print(f'{prefix} for label {ncl}:')\n",
    "    print(label_names[ncl])\n",
    "    print()"
   ]
  },
  {
   "cell_type": "markdown",
   "id": "e3592cde",
   "metadata": {
    "papermill": {
     "duration": null,
     "end_time": null,
     "exception": null,
     "start_time": null,
     "status": "pending"
    },
    "tags": []
   },
   "source": [
    "_Cultivated land_"
   ]
  },
  {
   "cell_type": "code",
   "execution_count": null,
   "id": "d51228f7",
   "metadata": {
    "papermill": {
     "duration": null,
     "end_time": null,
     "exception": null,
     "start_time": null,
     "status": "pending"
    },
    "tags": []
   },
   "outputs": [],
   "source": [
    "for cl in cultivated_mapping[1]:\n",
    "    prefix = 'Crop-types' if cl <100 else 'Land cover'\n",
    "    print(f'{prefix} for label {cl}:')\n",
    "    print(label_names[cl])\n",
    "    print()"
   ]
  },
  {
   "cell_type": "markdown",
   "id": "3a7cd5e9",
   "metadata": {
    "papermill": {
     "duration": null,
     "end_time": null,
     "exception": null,
     "start_time": null,
     "status": "pending"
    },
    "tags": []
   },
   "source": [
    "**NOTE:** although these labels are mapped to a binary mask for training/testing, you can use label information for sampling of pixels and image chips."
   ]
  },
  {
   "cell_type": "markdown",
   "id": "a3bc1efa",
   "metadata": {
    "papermill": {
     "duration": null,
     "end_time": null,
     "exception": null,
     "start_time": null,
     "status": "pending"
    },
    "tags": []
   },
   "source": [
    "**NOTE:** there is a very small number of polygons where crop declarations disagree with the land cover information, i.e. there is a declared cultivated alnd where the land cover indicates it is not agricultural. We leave the choice to you on how to deal with these polygons, e.g. whether to consider them as _cultivated_ or _not-cultivated_."
   ]
  },
  {
   "cell_type": "markdown",
   "id": "77a6b89d",
   "metadata": {
    "papermill": {
     "duration": null,
     "end_time": null,
     "exception": null,
     "start_time": null,
     "status": "pending"
    },
    "tags": []
   },
   "source": [
    "Now we can rasterize the reference labels, to allow further processing and model training. **The reference polygons are rasterised at the target spatial resolution of 2.5m**, resulting in a `4x` spatial enhancement. \n",
    "\n",
    "Three masks are added to the `EOPatch`:\n",
    "\n",
    " * `CULTIVATED`: this mask is the target output used in training and testing of your method;\n",
    " * `NOT_DECLARED`: this mask marks pixels that are ignored in the calculation of the validation metrics;\n",
    " * `ALL_POLYS`: all polygons are rasterised with given `label`. Use this to customise your sampling given land cover and crop-type information.\n",
    " \n",
    "A negative buffer of 2.5m is applied prior to rasterisation, in order to single out neighbouring touching polygons."
   ]
  },
  {
   "cell_type": "code",
   "execution_count": null,
   "id": "70432313",
   "metadata": {
    "papermill": {
     "duration": null,
     "end_time": null,
     "exception": null,
     "start_time": null,
     "status": "pending"
    },
    "tags": []
   },
   "outputs": [],
   "source": [
    "MAP_RESOLUTION = 2.5 #metres"
   ]
  },
  {
   "cell_type": "code",
   "execution_count": null,
   "id": "2364576e",
   "metadata": {
    "papermill": {
     "duration": null,
     "end_time": null,
     "exception": null,
     "start_time": null,
     "status": "pending"
    },
    "tags": []
   },
   "outputs": [],
   "source": [
    "valid_polys_to_mask = VectorToRaster((FeatureType.VECTOR_TIMELESS, 'REFERENCE'),\n",
    "                                     (FeatureType.MASK_TIMELESS, 'CULTIVATED'),\n",
    "                                     values=cultivated_mapping[1],\n",
    "                                     values_column='label',\n",
    "                                     raster_resolution=MAP_RESOLUTION,\n",
    "                                     raster_dtype=np.uint8,  \n",
    "                                     all_touched=False,\n",
    "                                     buffer=-MAP_RESOLUTION) \n",
    "\n",
    "invalid_polys_to_mask = VectorToRaster((FeatureType.VECTOR_TIMELESS, 'REFERENCE'),\n",
    "                                      (FeatureType.MASK_TIMELESS, 'NOT_DECLARED'),\n",
    "                                      values=cultivated_mapping[2],\n",
    "                                      values_column='label',\n",
    "                                      raster_resolution=MAP_RESOLUTION,\n",
    "                                      raster_dtype=np.uint8,\n",
    "                                      all_touched=False,\n",
    "                                      buffer=-MAP_RESOLUTION)\n",
    "\n",
    "all_polys_to_mask = VectorToRaster((FeatureType.VECTOR_TIMELESS, 'REFERENCE'),\n",
    "                                   (FeatureType.MASK_TIMELESS, 'ALL_POLYS'),\n",
    "                                   values=None,\n",
    "                                   values_column='label',\n",
    "                                   raster_resolution=MAP_RESOLUTION,\n",
    "                                   raster_dtype=np.uint16,\n",
    "                                   all_touched=False,\n",
    "                                   buffer=-MAP_RESOLUTION) # you can modify this buffer"
   ]
  },
  {
   "cell_type": "code",
   "execution_count": null,
   "id": "faa9fa73",
   "metadata": {
    "papermill": {
     "duration": null,
     "end_time": null,
     "exception": null,
     "start_time": null,
     "status": "pending"
    },
    "tags": []
   },
   "outputs": [],
   "source": [
    "eop = valid_polys_to_mask.execute(eop)\n",
    "eop = invalid_polys_to_mask.execute(eop)\n",
    "eop = all_polys_to_mask.execute(eop)"
   ]
  },
  {
   "cell_type": "code",
   "execution_count": null,
   "id": "b7fcbbf3",
   "metadata": {
    "papermill": {
     "duration": null,
     "end_time": null,
     "exception": null,
     "start_time": null,
     "status": "pending"
    },
    "tags": []
   },
   "outputs": [],
   "source": [
    "fig, ax = plt.subplots(figsize=(15, 15))\n",
    "ax.imshow(eop.mask_timeless['CULTIVATED'].squeeze(), \n",
    "          vmin=0, vmax=30, extent=get_extent(eop), \n",
    "          interpolation='nearest', cmap=plt.cm.tab20c);"
   ]
  },
  {
   "cell_type": "markdown",
   "id": "f78944b6",
   "metadata": {
    "papermill": {
     "duration": null,
     "end_time": null,
     "exception": null,
     "start_time": null,
     "status": "pending"
    },
    "tags": []
   },
   "source": [
    "The above tasks rasterise polygons assigning to pixels their `label` values. We add a task that turns the `CULTIVATED` and `NOT_DECLARED` masks into binary masks. "
   ]
  },
  {
   "cell_type": "code",
   "execution_count": null,
   "id": "7aba3f26",
   "metadata": {
    "papermill": {
     "duration": null,
     "end_time": null,
     "exception": null,
     "start_time": null,
     "status": "pending"
    },
    "tags": []
   },
   "outputs": [],
   "source": [
    "class ToBinary(EOTask):\n",
    "    \"\"\" Turn a discrete feature to a binary mask \"\"\"\n",
    "    def __init__(self, feature: Tuple[FeatureType, str]):\n",
    "        \"\"\" \n",
    "        :param feature: Feature in eopatch to binarise \n",
    "        \"\"\"\n",
    "        self.feature = feature\n",
    "        \n",
    "    def execute(self, eopatch: EOPatch) -> EOPatch:\n",
    "        \"\"\" Over-write existing feature with binary mask \"\"\"\n",
    "        eopatch[self.feature] = eopatch[self.feature]>0\n",
    "        return eopatch"
   ]
  },
  {
   "cell_type": "code",
   "execution_count": null,
   "id": "f9982f2e",
   "metadata": {
    "papermill": {
     "duration": null,
     "end_time": null,
     "exception": null,
     "start_time": null,
     "status": "pending"
    },
    "tags": []
   },
   "outputs": [],
   "source": [
    "valid_to_binary = ToBinary((FeatureType.MASK_TIMELESS, 'CULTIVATED'))\n",
    "invalid_to_binary = ToBinary((FeatureType.MASK_TIMELESS, 'NOT_DECLARED'))"
   ]
  },
  {
   "cell_type": "code",
   "execution_count": null,
   "id": "8edc3669",
   "metadata": {
    "papermill": {
     "duration": null,
     "end_time": null,
     "exception": null,
     "start_time": null,
     "status": "pending"
    },
    "tags": []
   },
   "outputs": [],
   "source": [
    "eop = valid_to_binary.execute(eop)\n",
    "eop = invalid_to_binary.execute(eop)"
   ]
  },
  {
   "cell_type": "code",
   "execution_count": null,
   "id": "8577ec38",
   "metadata": {
    "papermill": {
     "duration": null,
     "end_time": null,
     "exception": null,
     "start_time": null,
     "status": "pending"
    },
    "tags": []
   },
   "outputs": [],
   "source": [
    "eop"
   ]
  },
  {
   "cell_type": "markdown",
   "id": "b52237f1",
   "metadata": {
    "papermill": {
     "duration": null,
     "end_time": null,
     "exception": null,
     "start_time": null,
     "status": "pending"
    },
    "tags": []
   },
   "source": [
    "Display target binary _cultivated land_ map, overlayed with the original polygons."
   ]
  },
  {
   "cell_type": "code",
   "execution_count": null,
   "id": "d5c6e4ae",
   "metadata": {
    "papermill": {
     "duration": null,
     "end_time": null,
     "exception": null,
     "start_time": null,
     "status": "pending"
    },
    "tags": []
   },
   "outputs": [],
   "source": [
    "fig, ax = plt.subplots(figsize=(15, 15))\n",
    "ax.imshow(eop.mask_timeless['CULTIVATED'], \n",
    "          interpolation='nearest', \n",
    "          cmap=plt.cm.binary_r, extent=get_extent(eop));\n",
    "df[df.label.isin(cultivated_mapping[1])].plot(ax=ax, \n",
    "                                              color='xkcd:ivory', \n",
    "                                              alpha=.4, \n",
    "                                              linewidth=.5);"
   ]
  },
  {
   "cell_type": "code",
   "execution_count": null,
   "id": "9762ea83",
   "metadata": {
    "papermill": {
     "duration": null,
     "end_time": null,
     "exception": null,
     "start_time": null,
     "status": "pending"
    },
    "tags": []
   },
   "outputs": [],
   "source": []
  },
  {
   "cell_type": "markdown",
   "id": "ce8e6ac5",
   "metadata": {
    "papermill": {
     "duration": null,
     "end_time": null,
     "exception": null,
     "start_time": null,
     "status": "pending"
    },
    "tags": []
   },
   "source": [
    "### 1.4 Data download <a name=\"data-download\"></a>"
   ]
  },
  {
   "cell_type": "markdown",
   "id": "7703e22f",
   "metadata": {
    "papermill": {
     "duration": null,
     "end_time": null,
     "exception": null,
     "start_time": null,
     "status": "pending"
    },
    "tags": []
   },
   "source": [
    "We can now create a workflow that downloads and processes the data as shown above, and parallelize the workflow over the 125 bounding boxes."
   ]
  },
  {
   "cell_type": "code",
   "execution_count": null,
   "id": "61a4465c",
   "metadata": {
    "papermill": {
     "duration": null,
     "end_time": null,
     "exception": null,
     "start_time": null,
     "status": "pending"
    },
    "tags": []
   },
   "outputs": [],
   "source": [
    "# change this path accordingly to your set-up\n",
    "EOPATCHES_PATH = '../eopatches'\n",
    "EOPATCHES_TRAIN_PATH = f'{EOPATCHES_PATH}/train/'\n",
    "EOPATCHES_TEST_PATH = f'{EOPATCHES_PATH}/test/'\n",
    "\n",
    "if not os.path.exists(EOPATCHES_TRAIN_PATH):\n",
    "    os.makedirs(EOPATCHES_TRAIN_PATH, exist_ok=True)\n",
    "\n",
    "if not os.path.exists(EOPATCHES_TEST_PATH):\n",
    "    os.makedirs(EOPATCHES_TEST_PATH, exist_ok=True)"
   ]
  },
  {
   "cell_type": "markdown",
   "id": "59b35d24",
   "metadata": {
    "papermill": {
     "duration": null,
     "end_time": null,
     "exception": null,
     "start_time": null,
     "status": "pending"
    },
    "tags": []
   },
   "source": [
    "Task to save the `EOPatch`es to disk for further processing."
   ]
  },
  {
   "cell_type": "code",
   "execution_count": null,
   "id": "65d25126",
   "metadata": {
    "papermill": {
     "duration": null,
     "end_time": null,
     "exception": null,
     "start_time": null,
     "status": "pending"
    },
    "tags": []
   },
   "outputs": [],
   "source": [
    "save = SaveTask(path=EOPATCHES_PATH, compress_level=2)"
   ]
  },
  {
   "cell_type": "markdown",
   "id": "0c461025",
   "metadata": {
    "papermill": {
     "duration": null,
     "end_time": null,
     "exception": null,
     "start_time": null,
     "status": "pending"
    },
    "tags": []
   },
   "source": [
    "The previous steps are combined into a linear workflow, performing S2 data download, adding the reference polygons, rasterising the polygons to rasters, creating binary masks and saving the eopatches to disk."
   ]
  },
  {
   "cell_type": "code",
   "execution_count": null,
   "id": "6ce5366a",
   "metadata": {
    "papermill": {
     "duration": null,
     "end_time": null,
     "exception": null,
     "start_time": null,
     "status": "pending"
    },
    "tags": []
   },
   "outputs": [],
   "source": [
    "workflow = LinearWorkflow(get_s2_l2a, \n",
    "                          get_polys, \n",
    "                          valid_polys_to_mask,\n",
    "                          invalid_polys_to_mask,\n",
    "                          all_polys_to_mask,\n",
    "                          valid_to_binary,\n",
    "                          invalid_to_binary, \n",
    "                          save)"
   ]
  },
  {
   "cell_type": "code",
   "execution_count": null,
   "id": "382a1243",
   "metadata": {
    "papermill": {
     "duration": null,
     "end_time": null,
     "exception": null,
     "start_time": null,
     "status": "pending"
    },
    "tags": []
   },
   "outputs": [],
   "source": [
    "execution_args = []\n",
    "\n",
    "for irow, row in tqdm(bboxes.iterrows(), total=len(bboxes)):\n",
    "    bbox = BBox(row.geometry, crs=CRS(bboxes.crs))\n",
    "    eopatch_folder = f'{\"train\" if row.is_train else \"test\"}/eopatch-{row.eop_index}'\n",
    "    \n",
    "    eop_exec_args = {get_s2_l2a: {'bbox': bbox, 'time_interval': S2_TIME_INTERVAL},\n",
    "                     save: {'eopatch_folder': eopatch_folder}}\n",
    "    \n",
    "    execution_args.append(eop_exec_args)\n"
   ]
  },
  {
   "cell_type": "code",
   "execution_count": null,
   "id": "09dcc943",
   "metadata": {
    "papermill": {
     "duration": null,
     "end_time": null,
     "exception": null,
     "start_time": null,
     "status": "pending"
    },
    "tags": []
   },
   "outputs": [],
   "source": [
    "execution_args[:3]"
   ]
  },
  {
   "cell_type": "markdown",
   "id": "ffd5efd7",
   "metadata": {
    "papermill": {
     "duration": null,
     "end_time": null,
     "exception": null,
     "start_time": null,
     "status": "pending"
    },
    "tags": []
   },
   "source": [
    "Parallelise the workflow over the workers. Change `NUM_WORKERS` according to your set-up."
   ]
  },
  {
   "cell_type": "code",
   "execution_count": null,
   "id": "a82a6142",
   "metadata": {
    "papermill": {
     "duration": null,
     "end_time": null,
     "exception": null,
     "start_time": null,
     "status": "pending"
    },
    "tags": []
   },
   "outputs": [],
   "source": [
    "NUM_WORKERS = 4\n",
    "\n",
    "executor = EOExecutor(workflow, execution_args, save_logs=True, logs_folder='.')\n",
    "\n",
    "executor.run(workers=NUM_WORKERS)"
   ]
  },
  {
   "cell_type": "code",
   "execution_count": null,
   "id": "c61b286c",
   "metadata": {
    "papermill": {
     "duration": null,
     "end_time": null,
     "exception": null,
     "start_time": null,
     "status": "pending"
    },
    "tags": []
   },
   "outputs": [],
   "source": [
    "%matplotlib\n",
    "\n",
    "executor.make_report()\n",
    "\n",
    "print('Report was saved to location: {}'.format(executor.get_report_filename()))"
   ]
  },
  {
   "cell_type": "markdown",
   "id": "16e10281",
   "metadata": {
    "papermill": {
     "duration": null,
     "end_time": null,
     "exception": null,
     "start_time": null,
     "status": "pending"
    },
    "tags": []
   },
   "source": [
    "**NOTE:** check the report file to see if any execution failed. You can repeat the `executor` run including only the `execution_args` of the failed `EOPatch`es."
   ]
  },
  {
   "cell_type": "markdown",
   "id": "a348b103",
   "metadata": {
    "papermill": {
     "duration": null,
     "end_time": null,
     "exception": null,
     "start_time": null,
     "status": "pending"
    },
    "tags": []
   },
   "source": [
    "**NOTE:** now that all data has been saved to disk, there is no need to run the code above for download. To read the `EOPatch`es, simply use the `LoadTask` as follows."
   ]
  },
  {
   "cell_type": "code",
   "execution_count": null,
   "id": "88184158",
   "metadata": {
    "papermill": {
     "duration": null,
     "end_time": null,
     "exception": null,
     "start_time": null,
     "status": "pending"
    },
    "tags": []
   },
   "outputs": [],
   "source": [
    "load = LoadTask(path=EOPATCHES_PATH)"
   ]
  },
  {
   "cell_type": "code",
   "execution_count": null,
   "id": "ee3c3d13",
   "metadata": {
    "papermill": {
     "duration": null,
     "end_time": null,
     "exception": null,
     "start_time": null,
     "status": "pending"
    },
    "tags": []
   },
   "outputs": [],
   "source": [
    "eop_rand = bboxes.sample(n=1).iloc[0]\n",
    "\n",
    "eop_folder = f'{\"train\" if eop_rand.is_train else \"test\"}/eopatch-{eop_rand.eop_index}'\n",
    "\n",
    "reop = load.execute(eopatch_folder=eop_folder)"
   ]
  },
  {
   "cell_type": "code",
   "execution_count": null,
   "id": "ec6dd7d2",
   "metadata": {
    "papermill": {
     "duration": null,
     "end_time": null,
     "exception": null,
     "start_time": null,
     "status": "pending"
    },
    "tags": []
   },
   "outputs": [],
   "source": [
    "reop"
   ]
  },
  {
   "cell_type": "markdown",
   "id": "5d1c50d8",
   "metadata": {
    "papermill": {
     "duration": null,
     "end_time": null,
     "exception": null,
     "start_time": null,
     "status": "pending"
    },
    "tags": []
   },
   "source": [
    "### 1.5 Files check <a name=\"files-check\"></a>"
   ]
  },
  {
   "cell_type": "markdown",
   "id": "9d195f05",
   "metadata": {
    "papermill": {
     "duration": null,
     "end_time": null,
     "exception": null,
     "start_time": null,
     "status": "pending"
    },
    "tags": []
   },
   "source": [
    "Whether you downloaded the data through the APIs or direct link, best to check that all data has been correctly retrieved.\n",
    "\n",
    "The following code encodes each downloaded numpy file as MD5 hash and compares them to the target MD5 hashes provided in the `metadata` folder. It should take few minutes to compute."
   ]
  },
  {
   "cell_type": "code",
   "execution_count": null,
   "id": "bd0faa0e",
   "metadata": {
    "papermill": {
     "duration": null,
     "end_time": null,
     "exception": null,
     "start_time": null,
     "status": "pending"
    },
    "tags": []
   },
   "outputs": [],
   "source": [
    "md5_hashes = md5_encode_files(EOPATCHES_PATH)"
   ]
  },
  {
   "cell_type": "markdown",
   "id": "3023e723",
   "metadata": {
    "papermill": {
     "duration": null,
     "end_time": null,
     "exception": null,
     "start_time": null,
     "status": "pending"
    },
    "tags": []
   },
   "source": [
    "If the following fails, there are some issues with the downloaded files."
   ]
  },
  {
   "cell_type": "code",
   "execution_count": null,
   "id": "10183773",
   "metadata": {
    "papermill": {
     "duration": null,
     "end_time": null,
     "exception": null,
     "start_time": null,
     "status": "pending"
    },
    "tags": []
   },
   "outputs": [],
   "source": [
    "assert md5_hashes.equals(pd.read_csv('metadata/hashed-md5-files.csv', \n",
    "                                     usecols=['filename', 'hash']))"
   ]
  },
  {
   "cell_type": "markdown",
   "id": "63989259",
   "metadata": {
    "papermill": {
     "duration": null,
     "end_time": null,
     "exception": null,
     "start_time": null,
     "status": "pending"
    },
    "tags": []
   },
   "source": [
    "## 2. Data Processing <a name=\"data-processing\"></a>"
   ]
  },
  {
   "cell_type": "markdown",
   "id": "fa18c4cc",
   "metadata": {
    "papermill": {
     "duration": null,
     "end_time": null,
     "exception": null,
     "start_time": null,
     "status": "pending"
    },
    "tags": []
   },
   "source": [
    "This section offers some tips and pointers on how to possibly transform the data in a ML-ready format.\n",
    "\n",
    "Possible steps are:\n",
    "\n",
    " * filter out invalid frames due to clouds/shadows/snow;\n",
    " * sample or generate the same number of S2 time-frames for all EOPatches;\n",
    " * sample smaller image chips from S2 time-series with corresponding target binary _cultivated land_ map.\n",
    " \n",
    "If you want to use `eo-learn` for these tasks, check out the documentation about existing tasks like filtering and pixel sampling [here](https://eo-learn.readthedocs.io/en/latest/eotasks.html). You can easily implement your own task (as done above) by following [this example](https://eo-learn.readthedocs.io/en/latest/examples/core/CoreOverview.html#EOTask). [Here](https://github.com/sentinel-hub/eo-learn/tree/master/examples) you can find a collection of examples including land cover and crop-type classification."
   ]
  },
  {
   "cell_type": "markdown",
   "id": "97ea978c",
   "metadata": {
    "papermill": {
     "duration": null,
     "end_time": null,
     "exception": null,
     "start_time": null,
     "status": "pending"
    },
    "tags": []
   },
   "source": [
    "Below we provide a custom task to sample patchlets/image chips from the Sentinel-2 time-series and the reference map."
   ]
  },
  {
   "cell_type": "code",
   "execution_count": null,
   "id": "57ce9066",
   "metadata": {
    "papermill": {
     "duration": null,
     "end_time": null,
     "exception": null,
     "start_time": null,
     "status": "pending"
    },
    "tags": []
   },
   "outputs": [],
   "source": [
    "class SamplePatchlets(EOTask):\n",
    "\n",
    "    SCALE_FACTOR = 4\n",
    "\n",
    "    def __init__(self, s2_patchlet_size: int, num_samples: int):\n",
    "        \"\"\" Set-up of task \n",
    "        \n",
    "        :param s2_patchlet_size: Size in pixels of resulting patchlet\n",
    "        :param num_samples: Number of patchlets to sample\n",
    "        \"\"\"\n",
    "        self.s2_patchlet_size = s2_patchlet_size\n",
    "        self.num_samples = num_samples\n",
    "\n",
    "    def _calculate_sampled_bbox(self, \n",
    "                                bbox: BBox, \n",
    "                                r: int, c: int, s: int,\n",
    "                                resolution: float) -> BBox:\n",
    "        \"\"\" Calculate bounding box of smaller patchlets \"\"\"\n",
    "        return BBox(((bbox.min_x + resolution * c,  bbox.max_y - resolution * (r + s)),\n",
    "                     (bbox.min_x + resolution * (c + s), bbox.max_y - resolution * r)),\n",
    "                    bbox.crs)\n",
    "\n",
    "    def _sample_s2(self, \n",
    "                   eop: EOPatch, \n",
    "                   row: int, col: int, size: int, \n",
    "                   resolution: float = 10):\n",
    "        \"\"\" Randomly sample a patchlet from the EOPatch \"\"\"\n",
    "        # create a new eopatch for each sub-sample\n",
    "        sampled_eop = EOPatch(timestamp=eop.timestamp, \n",
    "                              scalar=eop.scalar, \n",
    "                              meta_info=eop.meta_info)\n",
    "        \n",
    "        # sample S2-related arrays\n",
    "        features = eop.get_feature_list()\n",
    "        s2_features = [feature for feature in features \n",
    "                       if isinstance(feature, tuple) and \n",
    "                       (feature[0].is_spatial() and feature[0].is_time_dependent())]\n",
    "        \n",
    "        for feature in s2_features:\n",
    "            sampled_eop[feature] = eop[feature][:, row:row + size, col:col + size, :]\n",
    "        \n",
    "        # calculate BBox for new sub-sample\n",
    "        sampled_eop.bbox = self._calculate_sampled_bbox(eop.bbox, \n",
    "                                                        r=row, c=col, s=size, \n",
    "                                                        resolution=resolution)\n",
    "        sampled_eop.meta_info['size_x'] = size\n",
    "        sampled_eop.meta_info['size_y'] = size\n",
    "        \n",
    "        # sample from target maps, beware of `4x` scale factor\n",
    "        target_features = eop.get_feature(FeatureType.MASK_TIMELESS).keys()\n",
    "        \n",
    "        for feat_name in target_features:\n",
    "            sampled_eop.mask_timeless[feat_name] = \\\n",
    "            eop.mask_timeless[feat_name][self.SCALE_FACTOR*row:self.SCALE_FACTOR*row + self.SCALE_FACTOR*size, \n",
    "                                         self.SCALE_FACTOR*col:self.SCALE_FACTOR*col + self.SCALE_FACTOR*size]\n",
    "        \n",
    "        return sampled_eop\n",
    "\n",
    "    def execute(self, eopatch_s2: EOPatch, buffer: int=0,  seed: int=42) -> List[EOPatch]:\n",
    "        \"\"\" Sample a number of patchlets from the larger EOPatch. \n",
    "        \n",
    "        :param eopatch_s2: EOPatch from which patchlets are sampled\n",
    "        :param buffer: Do not sample in a given buffer at the edges of the EOPatch\n",
    "        :param seed: Seed to initialise the pseudo-random number generator\n",
    "        \"\"\"\n",
    "        _, n_rows, n_cols, _ = eopatch_s2.data['BANDS'].shape\n",
    "        np.random.seed(seed)\n",
    "        eops_out = []\n",
    "        \n",
    "        # random sampling of upper-left corner. Change this for non-overlapping patchlets\n",
    "        for patchlet_num in range(0, self.num_samples):\n",
    "            row = np.random.randint(buffer, n_rows - self.s2_patchlet_size - buffer)\n",
    "            col = np.random.randint(buffer, n_cols - self.s2_patchlet_size - buffer)\n",
    "            sampled_s2 = self._sample_s2(eopatch_s2, row, col, self.s2_patchlet_size)\n",
    "            eops_out.append(sampled_s2)\n",
    "        return eops_out"
   ]
  },
  {
   "cell_type": "code",
   "execution_count": null,
   "id": "4dec535c",
   "metadata": {
    "papermill": {
     "duration": null,
     "end_time": null,
     "exception": null,
     "start_time": null,
     "status": "pending"
    },
    "tags": []
   },
   "outputs": [],
   "source": [
    "sample_task = SamplePatchlets(s2_patchlet_size=32, num_samples=4)"
   ]
  },
  {
   "cell_type": "code",
   "execution_count": null,
   "id": "bf5093ee",
   "metadata": {
    "papermill": {
     "duration": null,
     "end_time": null,
     "exception": null,
     "start_time": null,
     "status": "pending"
    },
    "tags": []
   },
   "outputs": [],
   "source": [
    "samples = sample_task.execute(eop)"
   ]
  },
  {
   "cell_type": "code",
   "execution_count": null,
   "id": "c3af6db3",
   "metadata": {
    "papermill": {
     "duration": null,
     "end_time": null,
     "exception": null,
     "start_time": null,
     "status": "pending"
    },
    "tags": []
   },
   "outputs": [],
   "source": [
    "len(samples)"
   ]
  },
  {
   "cell_type": "markdown",
   "id": "97b50d30",
   "metadata": {
    "papermill": {
     "duration": null,
     "end_time": null,
     "exception": null,
     "start_time": null,
     "status": "pending"
    },
    "tags": []
   },
   "source": [
    "Let's check a sample"
   ]
  },
  {
   "cell_type": "code",
   "execution_count": null,
   "id": "5d674107",
   "metadata": {
    "papermill": {
     "duration": null,
     "end_time": null,
     "exception": null,
     "start_time": null,
     "status": "pending"
    },
    "tags": []
   },
   "outputs": [],
   "source": [
    "samples[0]"
   ]
  },
  {
   "cell_type": "code",
   "execution_count": null,
   "id": "9bcab173",
   "metadata": {
    "papermill": {
     "duration": null,
     "end_time": null,
     "exception": null,
     "start_time": null,
     "status": "pending"
    },
    "tags": []
   },
   "outputs": [],
   "source": [
    "tidx = 28\n",
    "sample = samples[2]\n",
    "norm_fact = sample.scalar['NORM_FACTORS'][tidx]\n",
    "\n",
    "fig, ax = plt.subplots(figsize=(10, 10))\n",
    "ax.imshow(3.5*sample.data['BANDS'][tidx][..., [3,2,1]]*norm_factor, \n",
    "          extent=get_extent(sample));\n",
    "ax.imshow(sample.mask_timeless['CULTIVATED'].squeeze(), \n",
    "          vmin=0, vmax=1, alpha=.2, \n",
    "          extent=get_extent(sample));"
   ]
  },
  {
   "cell_type": "markdown",
   "id": "91c7a71b",
   "metadata": {
    "papermill": {
     "duration": null,
     "end_time": null,
     "exception": null,
     "start_time": null,
     "status": "pending"
    },
    "tags": []
   },
   "source": [
    "## 3. Submission Example <a name=\"submission-example\"></a>"
   ]
  },
  {
   "cell_type": "markdown",
   "id": "1b2dfe79",
   "metadata": {
    "papermill": {
     "duration": null,
     "end_time": null,
     "exception": null,
     "start_time": null,
     "status": "pending"
    },
    "tags": []
   },
   "source": [
    "A valid submission entails submitting a zipped folder containing a tiff file for each of the 25 test bounding boxes at the target **2.5m** resolution, meaning a `2000x2000` pixels binary raster for each test bounding box.\n",
    "\n",
    "The `.tif` file should be in the `epsg:32633` coordinate reference system, as the data provided, and should be named as the corresponding `EOPatch`, i.e. `eopatch-81.tif`. Check-out the [`ExportToTiff`](https://eo-learn.readthedocs.io/en/latest/eolearn.io.local_io.html#eolearn.io.local_io.ExportToTiff) task to export a feature to  a tif file. The task uses [rasterio](https://rasterio.readthedocs.io/en/latest/topics/writing.html).\n",
    "\n",
    "The following code shows how to generate a valid submission using a dummy thresholding method."
   ]
  },
  {
   "cell_type": "markdown",
   "id": "d9e92e88",
   "metadata": {
    "papermill": {
     "duration": null,
     "end_time": null,
     "exception": null,
     "start_time": null,
     "status": "pending"
    },
    "tags": []
   },
   "source": [
    "### 3.1 Prepare a submission <a name=\"prepare-a-submission\"></a>"
   ]
  },
  {
   "cell_type": "markdown",
   "id": "5e0a2008",
   "metadata": {
    "papermill": {
     "duration": null,
     "end_time": null,
     "exception": null,
     "start_time": null,
     "status": "pending"
    },
    "tags": []
   },
   "source": [
    "The following code shows how to run a simple workflow to export the predicted masks for submission. \n",
    "\n",
    "The workflow applies the following:\n",
    "\n",
    " * reads `EOPatch` from disk and transforms DNs to reflectances\n",
    " * filters time-frames based on `CLM` and `IS_DATA` masks\n",
    " * computes NDVI and mean NDVI over the filtered timeframes\n",
    " * upscales the mean NDVI to the target spatial resolution of 2.5m\n",
    " * applies a thresholding on upscaled mean NDVI\n",
    " * exports predicted binary mask\n",
    " \n",
    "The workflow is applied on test EOPatches since they are the only files evaluated.\n",
    "\n",
    "In your method of course you will make use of the training data to develop a machine learning model, and apply the model to the test patches for the prediciton only."
   ]
  },
  {
   "cell_type": "code",
   "execution_count": null,
   "id": "de6dcfa9",
   "metadata": {
    "papermill": {
     "duration": null,
     "end_time": null,
     "exception": null,
     "start_time": null,
     "status": "pending"
    },
    "tags": []
   },
   "outputs": [],
   "source": [
    "SUBMISSION_DIR = '../submission'\n",
    "\n",
    "if not os.path.exists(SUBMISSION_DIR):\n",
    "    os.makedirs(SUBMISSION_DIR)"
   ]
  },
  {
   "cell_type": "code",
   "execution_count": null,
   "id": "88e387b4",
   "metadata": {
    "papermill": {
     "duration": null,
     "end_time": null,
     "exception": null,
     "start_time": null,
     "status": "pending"
    },
    "tags": []
   },
   "outputs": [],
   "source": [
    "import cv2\n",
    "\n",
    "from eolearn.features import NormalizedDifferenceIndexTask, SimpleFilterTask\n",
    "from eolearn.mask import AddValidDataMaskTask\n",
    "from eolearn.io import ExportToTiff "
   ]
  },
  {
   "cell_type": "code",
   "execution_count": null,
   "id": "ae0f7906",
   "metadata": {
    "papermill": {
     "duration": null,
     "end_time": null,
     "exception": null,
     "start_time": null,
     "status": "pending"
    },
    "tags": []
   },
   "outputs": [],
   "source": [
    "class ComputeReflectances(EOTask):\n",
    "    \"\"\" Apply normalisation factors to DNs \"\"\"\n",
    "    def __init__(self, feature):\n",
    "        self.feature = feature\n",
    "        \n",
    "    def execute(self, eopatch):\n",
    "        eopatch[self.feature] = eopatch.scalar['NORM_FACTORS'][..., None, None] * eopatch[self.feature].astype(np.float32)\n",
    "        return eopatch\n",
    "\n",
    "class SentinelHubValidData:\n",
    "    \"\"\"\n",
    "    Combine 'CLM' mask with `IS_DATA` to define a `VALID_DATA_SH` mask\n",
    "    The SentinelHub's cloud mask is asumed to be found in eopatch.mask['CLM']\n",
    "    \"\"\"\n",
    "    def __call__(self, eopatch):\n",
    "        return eopatch.mask['IS_DATA'].astype(bool) & np.logical_not(eopatch.mask['CLM'].astype(bool))\n",
    "\n",
    "    \n",
    "class AddValidCountTask(EOTask):\n",
    "    \"\"\"\n",
    "    The task counts number of valid observations in time-series and stores the results in the timeless mask.\n",
    "    \"\"\"\n",
    "    def __init__(self, count_what, feature_name):\n",
    "        self.what = count_what\n",
    "        self.name = feature_name\n",
    "\n",
    "    def execute(self, eopatch):\n",
    "        eopatch[(FeatureType.MASK_TIMELESS, self.name)] = np.count_nonzero(eopatch.mask[self.what], axis=0)\n",
    "        return eopatch\n",
    "    \n",
    "    \n",
    "class ValidDataFractionPredicate:\n",
    "    \"\"\" Predicate that defines if a frame from EOPatch's time-series is valid or not. Frame is valid if the\n",
    "    valid data fraction is above the specified threshold.\n",
    "    \"\"\"\n",
    "    def __init__(self, threshold):\n",
    "        self.threshold = threshold\n",
    "\n",
    "    def __call__(self, array):\n",
    "        coverage = np.sum(array.astype(np.uint8)) / np.prod(array.shape)\n",
    "        return coverage > self.threshold\n",
    "\n",
    "    \n",
    "class MeanNDVI(EOTask):\n",
    "    \"\"\"\n",
    "    Compute the mean temporal NDVI\n",
    "    \"\"\"\n",
    "    def __init__(self, ndvi_feature, mean_ndvi_feature):\n",
    "        self.ndvi_feature = ndvi_feature\n",
    "        self.mean_ndvi_feature = mean_ndvi_feature\n",
    "        \n",
    "    def execute(self, eopatch):\n",
    "        eopatch[self.mean_ndvi_feature] = np.nanmean(eopatch[self.ndvi_feature], axis=0)\n",
    "        return eopatch\n",
    "    \n",
    "\n",
    "class Enhance(EOTask):\n",
    "    \"\"\"\n",
    "    Upscale S2 to target resolution\n",
    "    \"\"\"\n",
    "    def __init__(self, feature_in, feature_out, scale_factor=4):\n",
    "        self.feature_in = feature_in\n",
    "        self.feature_out = feature_out\n",
    "        self.scale_factor = scale_factor\n",
    "        \n",
    "    def execute(self, eopatch):\n",
    "        array_in = eopatch[self.feature_in]\n",
    "        if array_in.ndim == 4:\n",
    "            array_out = np.concatenate([cv2.resize(arr.squeeze(), \n",
    "                                                   None,\n",
    "                                                   fx=self.scale_factor, \n",
    "                                                   fy=self.scale_factor, \n",
    "                                                   interpolation = cv2.INTER_CUBIC) \n",
    "                                        for arr in array_in])\n",
    "        elif array_in.ndim == 3:\n",
    "            array_out = cv2.resize(array_in.squeeze(), None, \n",
    "                                   fx=self.scale_factor, \n",
    "                                   fy=self.scale_factor, \n",
    "                                   interpolation = cv2.INTER_CUBIC) \n",
    "        eopatch[self.feature_out] = array_out[..., np.newaxis]\n",
    "        return eopatch\n",
    "    \n",
    "\n",
    "class Classify(EOTask):\n",
    "    \"\"\" Threshold mean NDVI mask \"\"\"\n",
    "    def __init__(self, feature_in, feature_out, low_cut=-1., high_cut=1.):\n",
    "        self.feature_in = feature_in\n",
    "        self.feature_out = feature_out\n",
    "        self.low_cut = low_cut\n",
    "        self.high_cut = high_cut\n",
    "        \n",
    "    def execute(self, eopatch):\n",
    "        array_in = eopatch[self.feature_in]\n",
    "        \n",
    "        new_eopatch = EOPatch(bbox=eopatch.bbox)\n",
    "        \n",
    "        new_eopatch[self.feature_out] = np.logical_and(array_in > self.low_cut, \n",
    "                                                       array_in <= self.high_cut).astype(np.uint8)\n",
    "        return new_eopatch"
   ]
  },
  {
   "cell_type": "code",
   "execution_count": null,
   "id": "5bd66f7e",
   "metadata": {
    "papermill": {
     "duration": null,
     "end_time": null,
     "exception": null,
     "start_time": null,
     "status": "pending"
    },
    "tags": []
   },
   "outputs": [],
   "source": [
    "band_names = ['B01','B02','B03','B04','B05','B06','B07','B08','B8A','B09','B11','B12']\n",
    "\n",
    "# LOAD EOPATCH\n",
    "load = LoadTask(path=EOPATCHES_PATH)\n",
    "\n",
    "# COMPUTE REFLECTANCES FROM DNs\n",
    "normalise = ComputeReflectances((FeatureType.DATA, 'BANDS'))\n",
    "\n",
    "# CALCULATING NEW FEATURES\n",
    "# NDVI: (B08 - B04)/(B08 + B04)\n",
    "ndvi = NormalizedDifferenceIndexTask((FeatureType.DATA, 'BANDS'), \n",
    "                                     (FeatureType.DATA, 'NDVI'),\n",
    "                                     [band_names.index('B08'), \n",
    "                                      band_names.index('B04')])\n",
    "\n",
    "# VALIDITY MASK\n",
    "# Validate pixels using SentinelHub's cloud detection mask and region of acquisition\n",
    "add_sh_validmask = AddValidDataMaskTask(SentinelHubValidData(), 'IS_VALID')\n",
    "\n",
    "# COUNTING VALID PIXELS\n",
    "# Count the number of valid observations per pixel using valid data mask\n",
    "add_valid_count = AddValidCountTask('IS_VALID', 'VALID_COUNT')\n",
    "\n",
    "# FILTER OUT CLOUDY SCENES\n",
    "# Keep frames with > 95% valid coverage\n",
    "valid_data_predicate = ValidDataFractionPredicate(0.95)\n",
    "filter_task = SimpleFilterTask((FeatureType.MASK, 'IS_VALID'), valid_data_predicate)\n",
    "\n",
    "# COMPUTE MEAN TEMPORAL NDVI\n",
    "# Compute mean NDVI values over the time-series\n",
    "mean_ndvi = MeanNDVI((FeatureType.DATA, 'NDVI'), \n",
    "                     (FeatureType.DATA_TIMELESS, 'MEAN_NDVI'))\n",
    "\n",
    "# UPSCALE MEAN NDVI USING BICUBIC INTERPOLATION\n",
    "# Apply the 4x upscaling by using bicubic interpolation\n",
    "enhance = Enhance((FeatureType.DATA_TIMELESS, 'MEAN_NDVI'),\n",
    "                  (FeatureType.DATA_TIMELESS, 'BIG_MEAN_NDVI'))\n",
    "\n",
    "# THRESHOLD UPSCALED MEAN NDVI\n",
    "# Apply thesholds to upscaled mean NDVI\n",
    "classify = Classify((FeatureType.DATA_TIMELESS, 'BIG_MEAN_NDVI'),\n",
    "                    (FeatureType.MASK_TIMELESS, 'PREDICTION'),\n",
    "                    low_cut=.4, high_cut=.6)\n",
    "\n",
    "# EXPORT PREDICTION AS TIFF\n",
    "# Export the predicted binary mask as tiff for submission\n",
    "export = ExportToTiff(feature=(FeatureType.MASK_TIMELESS, 'PREDICTION'),\n",
    "                      folder=SUBMISSION_DIR, crs='epsg:32633',\n",
    "                      image_dtype=np.uint8)"
   ]
  },
  {
   "cell_type": "code",
   "execution_count": null,
   "id": "831182df",
   "metadata": {
    "papermill": {
     "duration": null,
     "end_time": null,
     "exception": null,
     "start_time": null,
     "status": "pending"
    },
    "tags": []
   },
   "outputs": [],
   "source": [
    "dummy_workflow = LinearWorkflow(load, \n",
    "                                normalise,\n",
    "                                ndvi,\n",
    "                                add_sh_validmask,\n",
    "                                add_valid_count,\n",
    "                                filter_task,\n",
    "                                mean_ndvi,\n",
    "                                enhance,\n",
    "                                classify,\n",
    "                                export)"
   ]
  },
  {
   "cell_type": "code",
   "execution_count": null,
   "id": "0ba07519",
   "metadata": {
    "papermill": {
     "duration": null,
     "end_time": null,
     "exception": null,
     "start_time": null,
     "status": "pending"
    },
    "tags": []
   },
   "outputs": [],
   "source": [
    "execution_args = []\n",
    "\n",
    "for eop_test in tqdm(eops_test):\n",
    "    eop_exec_args = {load: {'eopatch_folder': f'test/eopatch-{eop_test}'},\n",
    "                     export: {'filename': f'eopatch-{eop_test}.tif'}}\n",
    "    \n",
    "    execution_args.append(eop_exec_args)"
   ]
  },
  {
   "cell_type": "code",
   "execution_count": null,
   "id": "e71769cd",
   "metadata": {
    "papermill": {
     "duration": null,
     "end_time": null,
     "exception": null,
     "start_time": null,
     "status": "pending"
    },
    "tags": []
   },
   "outputs": [],
   "source": [
    "NUM_WORKERS = 4\n",
    "\n",
    "executor = EOExecutor(dummy_workflow, execution_args, save_logs=True, logs_folder='.')\n",
    "\n",
    "executor.run(workers=NUM_WORKERS)"
   ]
  },
  {
   "cell_type": "code",
   "execution_count": null,
   "id": "5fbb8cc6",
   "metadata": {
    "papermill": {
     "duration": null,
     "end_time": null,
     "exception": null,
     "start_time": null,
     "status": "pending"
    },
    "tags": []
   },
   "outputs": [],
   "source": [
    "%matplotlib\n",
    "\n",
    "executor.make_report()\n",
    "\n",
    "print('Report was saved to location: {}'.format(executor.get_report_filename()))"
   ]
  },
  {
   "cell_type": "code",
   "execution_count": null,
   "id": "11305864",
   "metadata": {
    "papermill": {
     "duration": null,
     "end_time": null,
     "exception": null,
     "start_time": null,
     "status": "pending"
    },
    "tags": []
   },
   "outputs": [],
   "source": [
    "!ls {SUBMISSION_DIR}"
   ]
  },
  {
   "cell_type": "markdown",
   "id": "4676a90a",
   "metadata": {
    "papermill": {
     "duration": null,
     "end_time": null,
     "exception": null,
     "start_time": null,
     "status": "pending"
    },
    "tags": []
   },
   "source": [
    "**NOTE:** you can now zip the `submission` folder and submit it for evaluation."
   ]
  },
  {
   "cell_type": "code",
   "execution_count": null,
   "id": "a7c37e42",
   "metadata": {
    "papermill": {
     "duration": null,
     "end_time": null,
     "exception": null,
     "start_time": null,
     "status": "pending"
    },
    "tags": []
   },
   "outputs": [],
   "source": []
  }
 ],
 "metadata": {
  "kernelspec": {
   "display_name": "Python 3",
   "language": "python",
   "name": "python3"
  },
  "language_info": {
   "codemirror_mode": {
    "name": "ipython",
    "version": 3
   },
   "file_extension": ".py",
   "mimetype": "text/x-python",
   "name": "python",
   "nbconvert_exporter": "python",
   "pygments_lexer": "ipython3",
   "version": "3.8.10"
  },
  "papermill": {
   "default_parameters": {},
   "duration": 12.238246,
   "end_time": "2021-05-19T14:35:46.176021",
   "environment_variables": {},
   "exception": true,
   "input_path": "/tmp/tmp4n56gzxq",
   "output_path": "/tmp/notebook_output.ipynb",
   "parameters": {},
   "start_time": "2021-05-19T14:35:33.937775",
   "version": "2.3.3"
  },
  "properties": {
   "authors": [
    {
     "id": "cb7a6458-97a7-462f-ac10-74c8464b4d5f",
     "name": "ridvan.kuzu@dlr.de"
    }
   ],
   "description": "deneme",
   "id": "17ac0dba-ade2-4221-9702-d894c73ad341",
   "license": null,
   "name": "deneme",
   "requirements": [
    "eurodatacube-geodb",
    "eurodatacube",
    "eurodatacube-xcube-gen"
   ],
   "tags": [
    "deneme"
   ],
   "tosAgree": true,
   "type": "Jupyter Notebook",
   "version": "0.01"
  }
 },
 "nbformat": 4,
 "nbformat_minor": 5
}