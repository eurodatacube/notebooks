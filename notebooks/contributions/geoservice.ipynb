{
 "cells": [
  {
   "cell_type": "markdown",
   "id": "b653b5dd",
   "metadata": {
    "tags": [
     "papermill-error-cell-tag"
    ]
   },
   "source": [
    "<span style=\"color:red; font-family:Helvetica Neue, Helvetica, Arial, sans-serif; font-size:2em;\">An Exception was encountered at '<a href=\"#papermill-error-cell\">In [6]</a>'.</span>"
   ]
  },
  {
   "cell_type": "code",
   "execution_count": 1,
   "id": "fa526f01",
   "metadata": {
    "execution": {
     "iopub.execute_input": "2021-06-25T13:07:07.726678Z",
     "iopub.status.busy": "2021-06-25T13:07:07.725982Z",
     "iopub.status.idle": "2021-06-25T13:07:07.816430Z",
     "shell.execute_reply": "2021-06-25T13:07:07.815720Z"
    },
    "papermill": {
     "duration": 0.111003,
     "end_time": "2021-06-25T13:07:07.816572",
     "exception": false,
     "start_time": "2021-06-25T13:07:07.705569",
     "status": "completed"
    },
    "tags": []
   },
   "outputs": [
    {
     "data": {
      "text/html": [
       "<script type=\"text/javascript\">\n",
       "        function toggle(id) {\n",
       "            el = document.getElementById(id);\n",
       "            el.style.display = el.style.display === \"none\" ? \"block\" : \"none\";\n",
       "        }\n",
       "    </script>"
      ],
      "text/plain": [
       "<IPython.core.display.HTML object>"
      ]
     },
     "metadata": {},
     "output_type": "display_data"
    },
    {
     "data": {
      "text/html": [
       "This notebook is compatible with this base image version (user-0.24.5)."
      ],
      "text/plain": [
       "<IPython.core.display.HTML object>"
      ]
     },
     "metadata": {},
     "output_type": "display_data"
    },
    {
     "data": {
      "text/markdown": [
       "\n",
       "\n",
       "---------\n",
       "\n",
       "The following environment variables are available:\n",
       "\n",
       "* `GEODB_AUTH_AUD`, `GEODB_AUTH_CLIENT_ID`, `GEODB_AUTH_DOMAIN`, `GEODB_API_SERVER_URL`, `GEODB_AUTH_CLIENT_SECRET`, `GEODB_API_SERVER_PORT`\n"
      ],
      "text/plain": [
       "<IPython.core.display.Markdown object>"
      ]
     },
     "metadata": {},
     "output_type": "display_data"
    }
   ],
   "source": [
    "from edc import check_compatibility\n",
    "check_compatibility(\"user-0.24.5\", dependencies=[\"GEODB\"])"
   ]
  },
  {
   "cell_type": "markdown",
   "id": "d193581a",
   "metadata": {
    "papermill": {
     "duration": 0.013868,
     "end_time": "2021-06-25T13:07:07.844713",
     "exception": false,
     "start_time": "2021-06-25T13:07:07.830845",
     "status": "completed"
    },
    "tags": []
   },
   "source": [
    "## Publish your Collection using the EDC / BC Geoservice\n",
    "\n",
    "Publish you collections as WMS service. The BC geoservice provides access to publishing your collection as a WMS service using the geoDB Python client. Please refer to the [geoserver](https://docs.geoserver.org/latest/en/user/services/wms/reference.html) documentation for configuring the rest API call to your WMS/geojson service. \n",
    "\n",
    "You will have access to this service if you have purchased a large management account. This service is in beta mode. If you find any issues, please report them on our [GitHub Issues page](https://github.com/bcdev/xcube-hub/issues)."
   ]
  },
  {
   "cell_type": "markdown",
   "id": "30af9eeb",
   "metadata": {
    "papermill": {
     "duration": 0.013538,
     "end_time": "2021-06-25T13:07:07.872149",
     "exception": false,
     "start_time": "2021-06-25T13:07:07.858611",
     "status": "completed"
    },
    "tags": []
   },
   "source": [
    "## Init the GeoDB client"
   ]
  },
  {
   "cell_type": "code",
   "execution_count": 2,
   "id": "a1a4d8c6",
   "metadata": {
    "execution": {
     "iopub.execute_input": "2021-06-25T13:07:07.912657Z",
     "iopub.status.busy": "2021-06-25T13:07:07.905832Z",
     "iopub.status.idle": "2021-06-25T13:07:10.056642Z",
     "shell.execute_reply": "2021-06-25T13:07:10.057078Z"
    },
    "papermill": {
     "duration": 2.169927,
     "end_time": "2021-06-25T13:07:10.057239",
     "exception": false,
     "start_time": "2021-06-25T13:07:07.887312",
     "status": "completed"
    },
    "tags": []
   },
   "outputs": [
    {
     "data": {
      "text/plain": [
       "'geodb_418dfeac-15f0-4606-9edb-fd9eb722bf04'"
      ]
     },
     "execution_count": 2,
     "metadata": {},
     "output_type": "execute_result"
    }
   ],
   "source": [
    "from xcube_geodb.core.geodb import GeoDBClient\n",
    "geodb = GeoDBClient()\n",
    "geodb.whoami\n"
   ]
  },
  {
   "cell_type": "markdown",
   "id": "ec0bdb2a",
   "metadata": {
    "papermill": {
     "duration": 0.013882,
     "end_time": "2021-06-25T13:07:10.085052",
     "exception": false,
     "start_time": "2021-06-25T13:07:10.071170",
     "status": "completed"
    },
    "tags": []
   },
   "source": [
    "### Create a Database and Copy some Public Data Across"
   ]
  },
  {
   "cell_type": "code",
   "execution_count": 3,
   "id": "7929ad66",
   "metadata": {
    "execution": {
     "iopub.execute_input": "2021-06-25T13:07:10.120109Z",
     "iopub.status.busy": "2021-06-25T13:07:10.119225Z",
     "iopub.status.idle": "2021-06-25T13:07:10.122422Z",
     "shell.execute_reply": "2021-06-25T13:07:10.121825Z"
    },
    "papermill": {
     "duration": 0.020671,
     "end_time": "2021-06-25T13:07:10.122541",
     "exception": false,
     "start_time": "2021-06-25T13:07:10.101870",
     "status": "completed"
    },
    "tags": []
   },
   "outputs": [],
   "source": [
    "my_database_name = 'my-urban'"
   ]
  },
  {
   "cell_type": "code",
   "execution_count": 4,
   "id": "f8467a7a",
   "metadata": {
    "execution": {
     "iopub.execute_input": "2021-06-25T13:07:10.157855Z",
     "iopub.status.busy": "2021-06-25T13:07:10.156901Z",
     "iopub.status.idle": "2021-06-25T13:07:10.803322Z",
     "shell.execute_reply": "2021-06-25T13:07:10.802626Z"
    },
    "papermill": {
     "duration": 0.666978,
     "end_time": "2021-06-25T13:07:10.803622",
     "exception": false,
     "start_time": "2021-06-25T13:07:10.136644",
     "status": "completed"
    },
    "tags": []
   },
   "outputs": [
    {
     "data": {
      "text/plain": [
       "Error: {\"hint\":null,\"details\":null,\"code\":\"P0001\",\"message\":\"Database my-urban exists already.\"}"
      ]
     },
     "execution_count": 4,
     "metadata": {},
     "output_type": "execute_result"
    }
   ],
   "source": [
    "geodb.create_database(my_database_name)"
   ]
  },
  {
   "cell_type": "code",
   "execution_count": 5,
   "id": "b3b381fe",
   "metadata": {
    "execution": {
     "iopub.execute_input": "2021-06-25T13:07:10.839570Z",
     "iopub.status.busy": "2021-06-25T13:07:10.838484Z",
     "iopub.status.idle": "2021-06-25T13:07:10.841678Z",
     "shell.execute_reply": "2021-06-25T13:07:10.840880Z"
    },
    "papermill": {
     "duration": 0.024184,
     "end_time": "2021-06-25T13:07:10.841838",
     "exception": false,
     "start_time": "2021-06-25T13:07:10.817654",
     "status": "completed"
    },
    "tags": []
   },
   "outputs": [],
   "source": [
    "# geodb.drop_collection(collection='SI001L2_LJUBLJANA_UA2018', database=my_database_name)"
   ]
  },
  {
   "cell_type": "markdown",
   "id": "edfa3a5f",
   "metadata": {
    "tags": [
     "papermill-error-cell-tag"
    ]
   },
   "source": [
    "<span id=\"papermill-error-cell\" style=\"color:red; font-family:Helvetica Neue, Helvetica, Arial, sans-serif; font-size:2em;\">Execution using papermill encountered an exception here and stopped:</span>"
   ]
  },
  {
   "cell_type": "code",
   "execution_count": 6,
   "id": "4d0cbbd0",
   "metadata": {
    "execution": {
     "iopub.execute_input": "2021-06-25T13:07:10.889203Z",
     "iopub.status.busy": "2021-06-25T13:07:10.888300Z",
     "iopub.status.idle": "2021-06-25T13:07:11.696012Z",
     "shell.execute_reply": "2021-06-25T13:07:11.695015Z"
    },
    "papermill": {
     "duration": 0.834374,
     "end_time": "2021-06-25T13:07:11.696352",
     "exception": true,
     "start_time": "2021-06-25T13:07:10.861978",
     "status": "failed"
    },
    "tags": []
   },
   "outputs": [
    {
     "ename": "GeoDBError",
     "evalue": "{\"hint\":null,\"details\":null,\"code\":\"P0001\",\"message\":\"geodb_418dfeac-15f0-4606-9edb-fd9eb722bf04 has not access to that table or database.\"}",
     "output_type": "error",
     "traceback": [
      "\u001b[0;31m---------------------------------------------------------------------------\u001b[0m",
      "\u001b[0;31mHTTPError\u001b[0m                                 Traceback (most recent call last)",
      "\u001b[0;32m/opt/conda/envs/eurodatacube-0.24.5/lib/python3.8/site-packages/xcube_geodb/core/geodb.py\u001b[0m in \u001b[0;36m_post\u001b[0;34m(self, path, payload, params, headers, raise_for_status)\u001b[0m\n\u001b[1;32m    393\u001b[0m             \u001b[0;32mif\u001b[0m \u001b[0mraise_for_status\u001b[0m\u001b[0;34m:\u001b[0m\u001b[0;34m\u001b[0m\u001b[0;34m\u001b[0m\u001b[0m\n\u001b[0;32m--> 394\u001b[0;31m                 \u001b[0mr\u001b[0m\u001b[0;34m.\u001b[0m\u001b[0mraise_for_status\u001b[0m\u001b[0;34m(\u001b[0m\u001b[0;34m)\u001b[0m\u001b[0;34m\u001b[0m\u001b[0;34m\u001b[0m\u001b[0m\n\u001b[0m\u001b[1;32m    395\u001b[0m         \u001b[0;32mexcept\u001b[0m \u001b[0mrequests\u001b[0m\u001b[0;34m.\u001b[0m\u001b[0mexceptions\u001b[0m\u001b[0;34m.\u001b[0m\u001b[0mHTTPError\u001b[0m\u001b[0;34m:\u001b[0m\u001b[0;34m\u001b[0m\u001b[0;34m\u001b[0m\u001b[0m\n",
      "\u001b[0;32m/opt/conda/envs/eurodatacube-0.24.5/lib/python3.8/site-packages/requests/models.py\u001b[0m in \u001b[0;36mraise_for_status\u001b[0;34m(self)\u001b[0m\n\u001b[1;32m    942\u001b[0m         \u001b[0;32mif\u001b[0m \u001b[0mhttp_error_msg\u001b[0m\u001b[0;34m:\u001b[0m\u001b[0;34m\u001b[0m\u001b[0;34m\u001b[0m\u001b[0m\n\u001b[0;32m--> 943\u001b[0;31m             \u001b[0;32mraise\u001b[0m \u001b[0mHTTPError\u001b[0m\u001b[0;34m(\u001b[0m\u001b[0mhttp_error_msg\u001b[0m\u001b[0;34m,\u001b[0m \u001b[0mresponse\u001b[0m\u001b[0;34m=\u001b[0m\u001b[0mself\u001b[0m\u001b[0;34m)\u001b[0m\u001b[0;34m\u001b[0m\u001b[0;34m\u001b[0m\u001b[0m\n\u001b[0m\u001b[1;32m    944\u001b[0m \u001b[0;34m\u001b[0m\u001b[0m\n",
      "\u001b[0;31mHTTPError\u001b[0m: 400 Client Error: Bad Request for url: https://xcube-geodb.brockmann-consult.de:443/rpc/geodb_copy_collection",
      "\nDuring handling of the above exception, another exception occurred:\n",
      "\u001b[0;31mGeoDBError\u001b[0m                                Traceback (most recent call last)",
      "\u001b[0;32m<ipython-input-6-eaed8b012c1d>\u001b[0m in \u001b[0;36m<module>\u001b[0;34m\u001b[0m\n\u001b[0;32m----> 1\u001b[0;31m \u001b[0mgeodb\u001b[0m\u001b[0;34m.\u001b[0m\u001b[0mcopy_collection\u001b[0m\u001b[0;34m(\u001b[0m\u001b[0mcollection\u001b[0m\u001b[0;34m=\u001b[0m\u001b[0;34m'SI001L2_LJUBLJANA_UA2018'\u001b[0m\u001b[0;34m,\u001b[0m \u001b[0mnew_collection\u001b[0m\u001b[0;34m=\u001b[0m\u001b[0;34m'SI001L2_LJUBLJANA_UA2018'\u001b[0m\u001b[0;34m,\u001b[0m \u001b[0mdatabase\u001b[0m\u001b[0;34m=\u001b[0m\u001b[0;34m'eea-urban-atlas'\u001b[0m\u001b[0;34m,\u001b[0m \u001b[0mnew_database\u001b[0m\u001b[0;34m=\u001b[0m\u001b[0mmy_database_name\u001b[0m\u001b[0;34m)\u001b[0m\u001b[0;34m\u001b[0m\u001b[0;34m\u001b[0m\u001b[0m\n\u001b[0m",
      "\u001b[0;32m/opt/conda/envs/eurodatacube-0.24.5/lib/python3.8/site-packages/xcube_geodb/core/geodb.py\u001b[0m in \u001b[0;36mcopy_collection\u001b[0;34m(self, collection, new_collection, new_database, database)\u001b[0m\n\u001b[1;32m    793\u001b[0m         \u001b[0mto_dn\u001b[0m \u001b[0;34m=\u001b[0m \u001b[0;34mf\"{new_database}_{new_collection}\"\u001b[0m\u001b[0;34m\u001b[0m\u001b[0;34m\u001b[0m\u001b[0m\n\u001b[1;32m    794\u001b[0m \u001b[0;34m\u001b[0m\u001b[0m\n\u001b[0;32m--> 795\u001b[0;31m         \u001b[0mself\u001b[0m\u001b[0;34m.\u001b[0m\u001b[0m_post\u001b[0m\u001b[0;34m(\u001b[0m\u001b[0mpath\u001b[0m\u001b[0;34m=\u001b[0m\u001b[0;34m'/rpc/geodb_copy_collection'\u001b[0m\u001b[0;34m,\u001b[0m \u001b[0mpayload\u001b[0m\u001b[0;34m=\u001b[0m\u001b[0;34m{\u001b[0m\u001b[0;34m'old_collection'\u001b[0m\u001b[0;34m:\u001b[0m \u001b[0mfrom_dn\u001b[0m\u001b[0;34m,\u001b[0m \u001b[0;34m'new_collection'\u001b[0m\u001b[0;34m:\u001b[0m \u001b[0mto_dn\u001b[0m\u001b[0;34m}\u001b[0m\u001b[0;34m)\u001b[0m\u001b[0;34m\u001b[0m\u001b[0;34m\u001b[0m\u001b[0m\n\u001b[0m\u001b[1;32m    796\u001b[0m \u001b[0;34m\u001b[0m\u001b[0m\n\u001b[1;32m    797\u001b[0m     \u001b[0;32mdef\u001b[0m \u001b[0mpublish_collection\u001b[0m\u001b[0;34m(\u001b[0m\u001b[0mself\u001b[0m\u001b[0;34m,\u001b[0m \u001b[0mcollection\u001b[0m\u001b[0;34m:\u001b[0m \u001b[0mstr\u001b[0m\u001b[0;34m,\u001b[0m \u001b[0mdatabase\u001b[0m\u001b[0;34m:\u001b[0m \u001b[0mOptional\u001b[0m\u001b[0;34m[\u001b[0m\u001b[0mstr\u001b[0m\u001b[0;34m]\u001b[0m \u001b[0;34m=\u001b[0m \u001b[0;32mNone\u001b[0m\u001b[0;34m)\u001b[0m \u001b[0;34m->\u001b[0m \u001b[0mMessage\u001b[0m\u001b[0;34m:\u001b[0m\u001b[0;34m\u001b[0m\u001b[0;34m\u001b[0m\u001b[0m\n",
      "\u001b[0;32m/opt/conda/envs/eurodatacube-0.24.5/lib/python3.8/site-packages/xcube_geodb/core/geodb.py\u001b[0m in \u001b[0;36m_post\u001b[0;34m(self, path, payload, params, headers, raise_for_status)\u001b[0m\n\u001b[1;32m    394\u001b[0m                 \u001b[0mr\u001b[0m\u001b[0;34m.\u001b[0m\u001b[0mraise_for_status\u001b[0m\u001b[0;34m(\u001b[0m\u001b[0;34m)\u001b[0m\u001b[0;34m\u001b[0m\u001b[0;34m\u001b[0m\u001b[0m\n\u001b[1;32m    395\u001b[0m         \u001b[0;32mexcept\u001b[0m \u001b[0mrequests\u001b[0m\u001b[0;34m.\u001b[0m\u001b[0mexceptions\u001b[0m\u001b[0;34m.\u001b[0m\u001b[0mHTTPError\u001b[0m\u001b[0;34m:\u001b[0m\u001b[0;34m\u001b[0m\u001b[0;34m\u001b[0m\u001b[0m\n\u001b[0;32m--> 396\u001b[0;31m             \u001b[0;32mraise\u001b[0m \u001b[0mGeoDBError\u001b[0m\u001b[0;34m(\u001b[0m\u001b[0mr\u001b[0m\u001b[0;34m.\u001b[0m\u001b[0mtext\u001b[0m\u001b[0;34m)\u001b[0m\u001b[0;34m\u001b[0m\u001b[0;34m\u001b[0m\u001b[0m\n\u001b[0m\u001b[1;32m    397\u001b[0m \u001b[0;34m\u001b[0m\u001b[0m\n\u001b[1;32m    398\u001b[0m         \u001b[0;32mreturn\u001b[0m \u001b[0mr\u001b[0m\u001b[0;34m\u001b[0m\u001b[0;34m\u001b[0m\u001b[0m\n",
      "\u001b[0;31mGeoDBError\u001b[0m: {\"hint\":null,\"details\":null,\"code\":\"P0001\",\"message\":\"geodb_418dfeac-15f0-4606-9edb-fd9eb722bf04 has not access to that table or database.\"}"
     ]
    }
   ],
   "source": [
    "geodb.copy_collection(collection='SI001L2_LJUBLJANA_UA2018', new_collection='SI001L2_LJUBLJANA_UA2018', database='eea-urban-atlas', new_database=my_database_name)"
   ]
  },
  {
   "cell_type": "markdown",
   "id": "bd43adc9",
   "metadata": {
    "papermill": {
     "duration": null,
     "end_time": null,
     "exception": null,
     "start_time": null,
     "status": "pending"
    },
    "tags": []
   },
   "source": [
    "## Publish your Collection to the BC WMS Service\n",
    "\n"
   ]
  },
  {
   "cell_type": "code",
   "execution_count": null,
   "id": "427f9eb3",
   "metadata": {
    "papermill": {
     "duration": null,
     "end_time": null,
     "exception": null,
     "start_time": null,
     "status": "pending"
    },
    "tags": []
   },
   "outputs": [],
   "source": [
    "geodb.publish_gs(collection='SI001L2_LJUBLJANA_UA2018', database=my_database_name)"
   ]
  },
  {
   "cell_type": "markdown",
   "id": "b98dc476",
   "metadata": {
    "papermill": {
     "duration": null,
     "end_time": null,
     "exception": null,
     "start_time": null,
     "status": "pending"
    },
    "tags": []
   },
   "source": [
    "You can now clicj on the preview link whcih will give you an unstyled view of your WMS output."
   ]
  },
  {
   "cell_type": "markdown",
   "id": "1634afe0",
   "metadata": {
    "papermill": {
     "duration": null,
     "end_time": null,
     "exception": null,
     "start_time": null,
     "status": "pending"
    },
    "tags": []
   },
   "source": [
    "### View the Data\n",
    "\n",
    "Once you have published you collection, you can use the WMS service to visualise your collection. For this using ipyleaflet. In this example we have used a pre-defined style. You can always provide a custom style using the parameter `sld`. We have provided a class that will pass that parameter to the WMS service. Just replace WMSLayer with SldWMSLayer. The `sld`parameter is given as a URL to an SLD file."
   ]
  },
  {
   "cell_type": "code",
   "execution_count": null,
   "id": "a235df7c",
   "metadata": {
    "papermill": {
     "duration": null,
     "end_time": null,
     "exception": null,
     "start_time": null,
     "status": "pending"
    },
    "tags": []
   },
   "outputs": [],
   "source": [
    "url = f\"https://stage.xcube-geodb.brockmann-consult.de/geoserver/{my_database_name}/wms?\""
   ]
  },
  {
   "cell_type": "code",
   "execution_count": null,
   "id": "7267cd77",
   "metadata": {
    "papermill": {
     "duration": null,
     "end_time": null,
     "exception": null,
     "start_time": null,
     "status": "pending"
    },
    "tags": []
   },
   "outputs": [],
   "source": [
    "from ipyleaflet import Map, WMSLayer, basemaps"
   ]
  },
  {
   "cell_type": "code",
   "execution_count": null,
   "id": "cef76ee2",
   "metadata": {
    "papermill": {
     "duration": null,
     "end_time": null,
     "exception": null,
     "start_time": null,
     "status": "pending"
    },
    "tags": []
   },
   "outputs": [],
   "source": [
    "from traitlets import Unicode\n",
    "\n",
    "class SldWMSLayer(WMSLayer):\n",
    "\n",
    "    sld = Unicode('').tag(sync=True, o=True)\n"
   ]
  },
  {
   "cell_type": "code",
   "execution_count": null,
   "id": "579d24ff",
   "metadata": {
    "papermill": {
     "duration": null,
     "end_time": null,
     "exception": null,
     "start_time": null,
     "status": "pending"
    },
    "tags": []
   },
   "outputs": [],
   "source": [
    "wms = WMSLayer(\n",
    "    url=url,\n",
    "    layers='my-urban:my-urban_SI001L2_LJUBLJANA_UA2018',\n",
    "    format='image/png',\n",
    "    opacity=0.3,\n",
    "    attribution='Copernicus',\n",
    "    styles='ljubilana'\n",
    "#     sld='https://raw.githubusercontent.com/dzelge/test-gha/main/ljubilana.sld'\n",
    ")"
   ]
  },
  {
   "cell_type": "code",
   "execution_count": null,
   "id": "e17a92f5",
   "metadata": {
    "papermill": {
     "duration": null,
     "end_time": null,
     "exception": null,
     "start_time": null,
     "status": "pending"
    },
    "tags": []
   },
   "outputs": [],
   "source": [
    "m = Map(basemap=basemaps.CartoDB.Positron, center=(46.0, 14.5), zoom=13)\n",
    "m.add_layer(wms)\n",
    "\n",
    "m"
   ]
  },
  {
   "cell_type": "code",
   "execution_count": null,
   "id": "333d1cee",
   "metadata": {
    "papermill": {
     "duration": null,
     "end_time": null,
     "exception": null,
     "start_time": null,
     "status": "pending"
    },
    "tags": []
   },
   "outputs": [],
   "source": [
    "geodb.unpublish_gs(collection='SI001L2_LJUBLJANA_UA2018', database=my_database_name)"
   ]
  },
  {
   "cell_type": "code",
   "execution_count": null,
   "id": "c71b3a61",
   "metadata": {
    "papermill": {
     "duration": null,
     "end_time": null,
     "exception": null,
     "start_time": null,
     "status": "pending"
    },
    "tags": []
   },
   "outputs": [],
   "source": []
  }
 ],
 "metadata": {
  "kernelspec": {
   "display_name": "Python 3",
   "language": "python",
   "name": "python3"
  },
  "language_info": {
   "codemirror_mode": {
    "name": "ipython",
    "version": 3
   },
   "file_extension": ".py",
   "mimetype": "text/x-python",
   "name": "python",
   "nbconvert_exporter": "python",
   "pygments_lexer": "ipython3",
   "version": "3.8.10"
  },
  "papermill": {
   "default_parameters": {},
   "duration": 5.685511,
   "end_time": "2021-06-25T13:07:12.119884",
   "environment_variables": {},
   "exception": true,
   "input_path": "/tmp/tmp4noou2p0",
   "output_path": "/tmp/notebook_output.ipynb",
   "parameters": {},
   "start_time": "2021-06-25T13:07:06.434373",
   "version": "2.3.3"
  },
  "properties": {
   "authors": [
    {
     "id": "112a590d-cfaf-4bad-bafc-d597f531e98b",
     "name": "helge.dzierzon@brockmann-consult.de"
    }
   ],
   "description": "Getting started with the geoDB WMS publishing service",
   "id": "abd39203-a695-43f2-8b30-a2c5eff364b5",
   "license": null,
   "name": "GeoDB WMS Service",
   "requirements": [
    "eurodatacube-geodb"
   ],
   "tags": [
    "GeoDB",
    "Getting started",
    "Vector Data",
    "xcube"
   ],
   "tosAgree": true,
   "type": "Jupyter Notebook",
   "version": "0.0.1"
  }
 },
 "nbformat": 4,
 "nbformat_minor": 5
}