{
 "cells": [
  {
   "cell_type": "markdown",
   "id": "3ae4ba80",
   "metadata": {
    "tags": [
     "papermill-error-cell-tag"
    ]
   },
   "source": [
    "<span style=\"color:red; font-family:Helvetica Neue, Helvetica, Arial, sans-serif; font-size:2em;\">An Exception was encountered at '<a href=\"#papermill-error-cell\">In [2]</a>'.</span>"
   ]
  },
  {
   "cell_type": "code",
   "execution_count": 1,
   "id": "f6c7ac17",
   "metadata": {
    "execution": {
     "iopub.execute_input": "2021-06-04T14:46:46.468651Z",
     "iopub.status.busy": "2021-06-04T14:46:46.467750Z",
     "iopub.status.idle": "2021-06-04T14:46:46.540146Z",
     "shell.execute_reply": "2021-06-04T14:46:46.539491Z"
    },
    "papermill": {
     "duration": 0.106038,
     "end_time": "2021-06-04T14:46:46.540298",
     "exception": false,
     "start_time": "2021-06-04T14:46:46.434260",
     "status": "completed"
    },
    "tags": []
   },
   "outputs": [
    {
     "data": {
      "text/html": [
       "<script type=\"text/javascript\">\n",
       "        function toggle(id) {\n",
       "            el = document.getElementById(id);\n",
       "            el.style.display = el.style.display === \"none\" ? \"block\" : \"none\";\n",
       "        }\n",
       "    </script>"
      ],
      "text/plain": [
       "<IPython.core.display.HTML object>"
      ]
     },
     "metadata": {},
     "output_type": "display_data"
    },
    {
     "data": {
      "text/html": [
       "This notebook is compatible with this base image version (user-0.24.5)."
      ],
      "text/plain": [
       "<IPython.core.display.HTML object>"
      ]
     },
     "metadata": {},
     "output_type": "display_data"
    },
    {
     "data": {
      "text/markdown": [
       "\n",
       "\n",
       "---------\n",
       "\n",
       "The following environment variables are available:\n",
       "\n",
       "* `SH_CLIENT_ID`, `SH_INSTANCE_ID`, `SH_CLIENT_NAME`, `SH_CLIENT_SECRET`\n"
      ],
      "text/plain": [
       "<IPython.core.display.Markdown object>"
      ]
     },
     "metadata": {},
     "output_type": "display_data"
    }
   ],
   "source": [
    "from edc import check_compatibility\n",
    "check_compatibility(\"user-0.24.5\", dependencies=[\"SH\"])"
   ]
  },
  {
   "cell_type": "markdown",
   "id": "fa8de0c7",
   "metadata": {
    "papermill": {
     "duration": 0.026646,
     "end_time": "2021-06-04T14:46:46.592130",
     "exception": false,
     "start_time": "2021-06-04T14:46:46.565484",
     "status": "completed"
    },
    "tags": []
   },
   "source": [
    "## Introduction\n",
    "\n",
    "The notebook demonstrates the use of <b> aireo_lib </b>, a python library created as a part of the [AIREO](https://aireo.net/) (Artificial Intelligence Ready Earth Observation training datasets) project. The project aims to make EO datasets easily accessible for the ML (Machine Learning) community. As such, AIREO specifications (shorthand specs) which define metadata elements to be included with the training dataset are proposed, supplemented by a best-practices document which suggests how to fill those metadata elements. Finally, the library takes all into account and implements specs, best-practices and offers an easy-to-use pythonic interface bridging the gap between EO and ML community.\n",
    "\n",
    "Therefore, this notebook is divided into two sections, one for the training dataset creator (usually from the EO community) and the other for its user (usually from the ML community). The structure of the notebook is the following:\n",
    "\n",
    "\n",
    "1) For Creator \n",
    "\n",
    "    - Create a [STAC](https://stacspec.org/) catalog object using the library\n",
    "    \n",
    "    - Populate metadata elements prescribed by the AIREO specs\n",
    "    \n",
    "    - Generate a STAC metadata directory using the library\n",
    "\n",
    "    - Check AIREO compliance level and metadata completeness\n",
    "\n",
    "   \n",
    "2) For User \n",
    "\n",
    "    - Create a training dataset object as defined in the library using only the STAC metadata\n",
    "    \n",
    "    - Get example instances from the object and other dataset variables like the number of instances, etc.\n",
    "    \n",
    "    - Use library's functions to plot the data\n",
    "    \n",
    "    - Investigate statistics using the library"
   ]
  },
  {
   "cell_type": "markdown",
   "id": "b7e42d4d",
   "metadata": {
    "papermill": {
     "duration": 0.024567,
     "end_time": "2021-06-04T14:46:46.642202",
     "exception": false,
     "start_time": "2021-06-04T14:46:46.617635",
     "status": "completed"
    },
    "tags": []
   },
   "source": [
    "#### About the training dataset\n",
    "\n",
    "The AI4Artic ASIP Sea Ice Dataset contains 461 files in network Common Data Form (netCDF), coming from Sentinel 1 SAR and AMSR2 microwave radiometer imagery with corresponding ice charts from Danish Meteorological Institute of the Arctic area.\n",
    "\n",
    "Data is in netCDF format with over 300 GB of it accompanied by a well written manual. Sentinel 1 data is 90m resolution with 40 x 40m pixel spacing and AMSR2 data is resmpled to its pixels. Each satellite image comes with a timestamp and the data is acquired between 2018-2019. It also contains excel sheet where it can be found all images IDs along with the percentage of water and ice present per image. Finally it contains as well a shapefile with all S1 scenes bounding boxes."
   ]
  },
  {
   "cell_type": "markdown",
   "id": "b30ee6c0",
   "metadata": {
    "papermill": {
     "duration": 0.025619,
     "end_time": "2021-06-04T14:46:46.692218",
     "exception": false,
     "start_time": "2021-06-04T14:46:46.666599",
     "status": "completed"
    },
    "tags": []
   },
   "source": [
    "## TDS Description"
   ]
  },
  {
   "cell_type": "markdown",
   "id": "a546b7d8",
   "metadata": {
    "papermill": {
     "duration": 0.024902,
     "end_time": "2021-06-04T14:46:46.741896",
     "exception": false,
     "start_time": "2021-06-04T14:46:46.716994",
     "status": "completed"
    },
    "tags": []
   },
   "source": [
    "## AIREO STAC Catalog basics"
   ]
  },
  {
   "cell_type": "markdown",
   "id": "65e5c942",
   "metadata": {
    "papermill": {
     "duration": 0.028273,
     "end_time": "2021-06-04T14:46:46.795475",
     "exception": false,
     "start_time": "2021-06-04T14:46:46.767202",
     "status": "completed"
    },
    "tags": []
   },
   "source": [
    "The AIREO specs propose a hierarchical structure for STAC metadata. It is a two level structure where the dataset is represented by a collection of AOIs (Area Of Interests), hence, the dataset and AOI being the two levels.\n",
    "\n",
    "1. At the dataset level we have a dataset catalog whose metadata elements are the core elements proposed in the AIREO spec. In addition to it, the common metadata elements across each AOI are also at the dataset level, which we shall call root level henceforth. Here, for each data variable there is a separate json which is a STAC Item by definition and is named using the field_schema metadata element. Additionally, there is also a datasheet file in markdown format at the root level which contains human readable information about the key elements of the dataset.\n",
    "\n",
    "2. Each AOI has a separate folder within the root level. And in each AOI folder there is a STAC collection representing that AOI and additional json files for each data variable. The additional json files here too, are STAC Items and follow a similar naming convention to the ones at the root level. The assets for each AOI, i.e. the files containing actual data are also in the folder.\n",
    "\n",
    "The diagram below summarises this hierarchical structure:\n",
    "\n",
    "\n",
    "```\n",
    "Root level (dataset)\n",
    "│\n",
    "│   DatasetCatalog.json\n",
    "│   datasheet.md\n",
    "│   references_output1.json\n",
    "│   features_input1.json\n",
    "│   ...\n",
    "│\n",
    "│\n",
    "└───AOI 1\n",
    "│      1.json (AOI Collection)\n",
    "│      feature_input1.json\n",
    "│      reference_output1.json\n",
    "│      <reference_asset>\n",
    "│      <feature_asseet>\n",
    "│   \n",
    "│   \n",
    "└───AOI 2\n",
    "│      ...\n",
    "│   \n",
    "│\n",
    "└───AOI 3\n",
    "│      ...\n",
    "│   \n",
    "...     \n",
    "```"
   ]
  },
  {
   "cell_type": "markdown",
   "id": "0806e025",
   "metadata": {
    "papermill": {
     "duration": 0.027254,
     "end_time": "2021-06-04T14:46:46.849614",
     "exception": false,
     "start_time": "2021-06-04T14:46:46.822360",
     "status": "completed"
    },
    "tags": []
   },
   "source": [
    "## Creating a STAC catalog with aireo_lib\n",
    "\n",
    "The aireo_lib library makes it easier to generate the STAC metadata directory as defined above. Some of the useful functionalities in the library are:\n",
    "-  Define python dictionaries for metadata at the root level and use a simple function to add it to the STAC catalog. The library validates the data automatically when it is added.\n",
    "\n",
    "- Similarly, python dictionaries can be defined for each AOI and are also validated automatically.\n",
    "\n",
    "- Links and assets for all the json files are automatically generated.\n",
    "\n",
    "- Datasheet is also generated automatically.\n",
    "\n",
    "- The directory structure is created by the library and assets copied to their respective locations in the hierarchy.\n",
    "\n",
    "- Evaluating metadata completeness and compliance level.\n",
    "\n",
    "\n",
    "Follow the code and comments below to understand the steps needed to generate STAC metadata with the library."
   ]
  },
  {
   "cell_type": "markdown",
   "id": "71960865",
   "metadata": {
    "tags": [
     "papermill-error-cell-tag"
    ]
   },
   "source": [
    "<span id=\"papermill-error-cell\" style=\"color:red; font-family:Helvetica Neue, Helvetica, Arial, sans-serif; font-size:2em;\">Execution using papermill encountered an exception here and stopped:</span>"
   ]
  },
  {
   "cell_type": "code",
   "execution_count": 2,
   "id": "308e3bbf",
   "metadata": {
    "execution": {
     "iopub.execute_input": "2021-06-04T14:46:46.907748Z",
     "iopub.status.busy": "2021-06-04T14:46:46.906568Z",
     "iopub.status.idle": "2021-06-04T14:46:46.984352Z",
     "shell.execute_reply": "2021-06-04T14:46:46.983000Z"
    },
    "papermill": {
     "duration": 0.109254,
     "end_time": "2021-06-04T14:46:46.984672",
     "exception": true,
     "start_time": "2021-06-04T14:46:46.875418",
     "status": "failed"
    },
    "tags": []
   },
   "outputs": [
    {
     "ename": "ModuleNotFoundError",
     "evalue": "No module named 'aireo_lib'",
     "output_type": "error",
     "traceback": [
      "\u001b[0;31m---------------------------------------------------------------------------\u001b[0m",
      "\u001b[0;31mModuleNotFoundError\u001b[0m                       Traceback (most recent call last)",
      "\u001b[0;32m<ipython-input-2-550b309f784c>\u001b[0m in \u001b[0;36m<module>\u001b[0;34m\u001b[0m\n\u001b[0;32m----> 1\u001b[0;31m \u001b[0;32mimport\u001b[0m \u001b[0maireo_lib\u001b[0m\u001b[0;34m.\u001b[0m\u001b[0mcore\u001b[0m\u001b[0;34m\u001b[0m\u001b[0;34m\u001b[0m\u001b[0m\n\u001b[0m\u001b[1;32m      2\u001b[0m \u001b[0;32mimport\u001b[0m \u001b[0mos\u001b[0m\u001b[0;34m\u001b[0m\u001b[0;34m\u001b[0m\u001b[0m\n\u001b[1;32m      3\u001b[0m \u001b[0;32mimport\u001b[0m \u001b[0mjson\u001b[0m\u001b[0;34m\u001b[0m\u001b[0;34m\u001b[0m\u001b[0m\n\u001b[1;32m      4\u001b[0m \u001b[0;32mimport\u001b[0m \u001b[0mnumpy\u001b[0m \u001b[0;32mas\u001b[0m \u001b[0mnp\u001b[0m\u001b[0;34m\u001b[0m\u001b[0;34m\u001b[0m\u001b[0m\n\u001b[1;32m      5\u001b[0m \u001b[0;32mfrom\u001b[0m \u001b[0mosgeo\u001b[0m \u001b[0;32mimport\u001b[0m \u001b[0mgdal\u001b[0m\u001b[0;34m\u001b[0m\u001b[0;34m\u001b[0m\u001b[0m\n",
      "\u001b[0;31mModuleNotFoundError\u001b[0m: No module named 'aireo_lib'"
     ]
    }
   ],
   "source": [
    "import aireo_lib.core\n",
    "import os\n",
    "import json\n",
    "import numpy as np\n",
    "from osgeo import gdal\n",
    "from shapely import geometry\n",
    "import rioxarray\n",
    "import xarray as xr\n",
    "from pathlib import Path\n",
    "import pandas as pd\n",
    "import geopandas as gp\n",
    "import glob\n",
    "\n",
    "from importlib import reload\n",
    "reload(aireo_lib.core)\n"
   ]
  },
  {
   "cell_type": "code",
   "execution_count": null,
   "id": "760d0dfc",
   "metadata": {
    "papermill": {
     "duration": null,
     "end_time": null,
     "exception": null,
     "start_time": null,
     "status": "pending"
    },
    "tags": []
   },
   "outputs": [],
   "source": [
    "# Path to write the STAC root metadata file too\n",
    "catalog_fn_w_path = './sea-ice_stac_generated/EO_TDS.json'\n",
    "\n",
    "# Creating an empty STAC Catalog object\n",
    "new_tds_ctl_o = aireo_lib.core.tds_stac_io.DatasetSTACCatalog()"
   ]
  },
  {
   "cell_type": "code",
   "execution_count": null,
   "id": "5a7ff0fc",
   "metadata": {
    "papermill": {
     "duration": null,
     "end_time": null,
     "exception": null,
     "start_time": null,
     "status": "pending"
    },
    "tags": []
   },
   "outputs": [],
   "source": [
    "#Gather some metadata files to be used to create the STAC catalog\n",
    "\n",
    "url = \"./dataset/S1_frames.shp\"\n",
    "fgdf = gp.read_file(url)\n",
    "\n",
    "reference_path = './dataset/Data_ice_water.xlsx'\n",
    "df = pd.read_excel(reference_path)\n",
    "\n",
    "# Get AOI list for the TDS\n",
    "\n",
    "aoi_ids = glob.glob(r'./dataset/sea-ice_nc/*')\n",
    "aoi_ids = [x.split('/')[-1].split('.')[0] for x in aoi_ids]\n",
    "aoi_ids"
   ]
  },
  {
   "cell_type": "code",
   "execution_count": null,
   "id": "24670163",
   "metadata": {
    "papermill": {
     "duration": null,
     "end_time": null,
     "exception": null,
     "start_time": null,
     "status": "pending"
    },
    "tags": []
   },
   "outputs": [],
   "source": [
    "# Creating root metadata dictionary\n",
    "\n",
    "tds_root_core_metadata_d = {}\n",
    "tds_root_core_metadata_d['aireo_version'] = \"0.0.1-alpha.1\"\n",
    "tds_root_core_metadata_d['title'] = \"AI4Artic ASIP Sea Ice Dataset\"\n",
    "tds_root_core_metadata_d['description'] = \"AI4Artic ASIP Sea Ice Dataset contains 461 files in network Common Data Form (netCDF), coming from Sentinel 1 SAR and AMSR2 microwave radiometer imagery with corresponding ice charts from Danish Meteorological Institute of the Arctic area.\"\n",
    "tds_root_core_metadata_d['created'] = \"Null\"\n",
    "tds_root_core_metadata_d['license_url_list'] = 'https://creativecommons.org/licenses/by/4.0/deed.de' \n",
    "tds_root_core_metadata_d['license'] = \"CC-BY-4.0\"\n",
    "tds_root_core_metadata_d[\"providers_name\"]= \"[Danish Meteorological Institute (DMI), the Technical University of Denmark (DTU) and Nansen Environmen-tal Remote Sensing Center (NERSC), AIREO]\"\n",
    "tds_root_core_metadata_d[\"providers_description\"] = \"Danish Meteorological Institute (DMI), the Technical University of Denmark (DTU) and Nansen Environmen-tal Remote Sensing Center (NERSC)\"\n",
    "tds_root_core_metadata_d[\"providers_roles\"] = {'AIREO':[\"producer\", \"processor\" , \"host\"],'DMI, DTU, NERSC':[\"producer\", \"processor\" ]}\n",
    "tds_root_core_metadata_d[\"providers_url\"]= {'DMI':'https://www.dmi.dk/', 'DTU':'https://www.dtu.dk', 'NERSC':'https://www.nersc.no/', 'AIREO': 'https://aireo.net/'}                         \n",
    "tds_root_core_metadata_d['id'] =  \"270460aa-7835-11eb-9439-0242ac130002\"\n",
    "tds_root_core_metadata_d['type'] = \"Collection\"\n",
    "tds_root_core_metadata_d['stac_version'] = '1.0.0-beta.2'\n",
    "tds_root_core_metadata_d['provenance'] = 'The AI4Arctic sea ice dataset –version 2, ASID-v2, includes 461 files in netCDF format; two channel dual polarized(HH and HV) Sentinel-1 Extra WideSwath (EW) images, withboth ESA and NERSC noise correction;auxiliary Sentinel-1 image parameters,microwave radiometer measurements from the AMSR2 sensor on board the JAXA GCOM-W satellite, the corresponding DMI ice chart based on that Sentinel-1 image,'\n",
    "tds_root_core_metadata_d['purpose'] = \"Data is in netCDF format with over 300 GB of it accompanied by a well written manual. Sentinel 1 data is 90m resolution with 40 x 40m pixel spacing and AMSR2 data is resmpled to its pixels. Each satellite image comes with a timestamp and the data is acquired between 2018-2019. These can be used to perform semantic segmentation to infer sea ice level.\"\n",
    "tds_root_core_metadata_d['tasks'] =  ['Semantic Segmentation']\n",
    "tds_root_core_metadata_d['data_preprocessing'] = \"Null\"\n",
    "tds_root_core_metadata_d['funding_info'] = \"The AIREO project is funded by ESA, the AI4Arctiv sea ice dataset was funded by ESA Contract No. 4000129762/20/I-NB and Innovation Fund Denmark, Grant: 7049-00008B\"\n",
    "tds_root_core_metadata_d['field_schema'] = {'features': {'input1': ['georeferenced_eo_image']}, 'references': {'output1': ['reference_data']}}\n",
    "tds_root_core_metadata_d['example_definition'] = \"An example for ML training would be one satellite image with various bands as features and the mask as reference data. This can be used for predicting sea ice levels.\"\n",
    "tds_root_core_metadata_d['example_window_size'] = 256\n",
    "tds_root_core_metadata_d['example_stride'] = 26\n",
    "                                                 \n",
    "tds_root_core_metadata_d['data_completeness'] = \"The dataset contains 461 netCDF files covering a large area with corresponding masks for sea-ice level for all areas.\"\n",
    "tds_root_core_metadata_d['data_split'] = \"The dataset can be split in a number of different ways but a standard way is to take 70% of the aoi's for training, 10% for validation and the remaining 20% as a test set.\"\n",
    "tds_root_core_metadata_d['data_sharing'] = \"The dataset will be shared on Euro Data Cube (EDC) and can be accessed through jupyter notebooks on EDC.\"\n",
    "tds_root_core_metadata_d['compliance_level'] = 'level 1'\n",
    "tds_root_core_metadata_d['links'] =  []\n"
   ]
  },
  {
   "cell_type": "code",
   "execution_count": null,
   "id": "b6ae182e",
   "metadata": {
    "papermill": {
     "duration": null,
     "end_time": null,
     "exception": null,
     "start_time": null,
     "status": "pending"
    },
    "tags": []
   },
   "outputs": [],
   "source": [
    "#Creating common predictive feature metadata dictionary\n",
    "\n",
    "g_feature_metadata_d = {}\n",
    "g_feature_metadata_d['type'] = \"Feature\"\n",
    "g_feature_metadata_d['stac_version'] = \"1.0.0-beta.2\"\n",
    "g_feature_metadata_d['stac_extensions'] = [\"georeferenced_eo_image\"]\n",
    "g_feature_metadata_d['id'] = f'common_predictive_feature_metadata'\n",
    "g_feature_metadata_d['collection'] = \"270460aa-7835-11eb-9439-0242ac130002\"\n",
    "\n",
    "geom = np.array(fgdf[fgdf['filename'] == '20180521T103156_S1B_AMSR2_Icechart-Greenland-NorthWest.nc']['geometry'][0].exterior.coords.xy)\n",
    "xs = geom[0]\n",
    "ys = geom[1]\n",
    "xys = zip(xs,ys)\n",
    "arr = []\n",
    "for x, y in xys:\n",
    "    arr.append([x,y])\n",
    "g_feature_metadata_d['geometry'] = {'type': 'Polygon', 'coordinates': [arr]}\n",
    "g_feature_metadata_d['bbox'] = [min(xs),min(ys), max(xs), max(ys)]\n",
    "g_feature_metadata_d['properties'] = {}\n",
    "g_feature_metadata_d[\"properties\"][\"status\"]= \"Null\"\n",
    "g_feature_metadata_d[\"properties\"]['parent_identifier'] = \"270460aa-7835-11eb-9439-0242ac130002\"\n",
    "g_feature_metadata_d[\"properties\"]['acquisition_type'] = \"Null\"\n",
    "g_feature_metadata_d[\"properties\"]['product_type']  = \"Null\"\n",
    "g_feature_metadata_d[\"properties\"]['processing_level'] = 1.0\n",
    "g_feature_metadata_d[\"properties\"]['platform_short_name'] = \"Sentinel 2\"\n",
    "g_feature_metadata_d[\"properties\"]['sensor_type'] = \"SAR\"\n",
    "g_feature_metadata_d[\"properties\"]['sensor_resolution'] = \"10m\"\n",
    "g_feature_metadata_d[\"properties\"]['gsd'] = 10\n",
    "g_feature_metadata_d['properties']['datetime'] = \"2019\"\n",
    "g_feature_metadata_d[\"properties\"]['identifier'] = \"Null\"\n",
    "g_feature_metadata_d['links'] = []\n",
    "g_feature_metadata_d[\"assets\"] =  {}\n",
    "feature_metadata_d = {}\n",
    "feature_metadata_d['input1'] = g_feature_metadata_d"
   ]
  },
  {
   "cell_type": "code",
   "execution_count": null,
   "id": "dc4fa480",
   "metadata": {
    "papermill": {
     "duration": null,
     "end_time": null,
     "exception": null,
     "start_time": null,
     "status": "pending"
    },
    "tags": []
   },
   "outputs": [],
   "source": [
    "#Creating common reference metadata dictionary\n",
    "\n",
    "g_ref_data_metadata_d = {}\n",
    "\n",
    "g_ref_data_metadata_d['id'] = f'common_reference_metadata'\n",
    "g_ref_data_metadata_d['type'] = \"Feature\"\n",
    "g_ref_data_metadata_d['stac_version'] = \"1.0.0-beta.2\"\n",
    "g_ref_data_metadata_d['stac_extensions'] = [\"reference_data\"]\n",
    "g_ref_data_metadata_d['collection'] = \"270460aa-7835-11eb-9439-0242ac130002\"\n",
    "\n",
    "geom = np.array(fgdf[fgdf['filename'] == '20180521T103156_S1B_AMSR2_Icechart-Greenland-NorthWest.nc']['geometry'][0].exterior.coords.xy)\n",
    "xs = geom[0]\n",
    "ys = geom[1]\n",
    "xys = zip(xs,ys)\n",
    "arr = []\n",
    "for x, y in xys:\n",
    "    arr.append([x,y])\n",
    "g_ref_data_metadata_d['geometry'] = {'type': 'Polygon', 'coordinates': [arr]}\n",
    "g_ref_data_metadata_d['bbox'] = [min(xs),min(ys), max(xs), max(ys)]\n",
    "g_ref_data_metadata_d['properties'] = {}\n",
    "g_ref_data_metadata_d[\"properties\"]['name'] = \" Reference metadata\"\n",
    "g_ref_data_metadata_d['properties']['description'] = \"The reference data consists of polygons with the percentage of sea ice for a given mask.\"\n",
    "g_ref_data_metadata_d['properties']['type'] = \"Raster\"\n",
    "g_ref_data_metadata_d['properties']['task'] = \"Semantic Segmentation\"\n",
    "g_ref_data_metadata_d['properties']['classes'] = [[{'pct_ice': 416, 'pct_water': 416, 'pct_nodata': 416}]]\n",
    "g_ref_data_metadata_d['properties']['overviews'] = []\n",
    "g_ref_data_metadata_d['properties']['collection_method'] = \"Sentinel-1 Synthetic Aperture Radar (SAR) scenes matched with sea ice charts produced by the Danish Meteorological Institute in 2018-2019.\"\n",
    "g_ref_data_metadata_d['properties']['data_preprocessing'] = \"Null\"\n",
    "g_ref_data_metadata_d['properties']['CRS'] = 'EPSG:32631'\n",
    "g_ref_data_metadata_d['properties']['time_range'] = '2018-2019'\n",
    "\n",
    "g_ref_data_metadata_d[\"properties\"]['value'] = 0\n",
    "g_ref_data_metadata_d['properties'][\"orientation\"]= \"Null\"\n",
    "g_ref_data_metadata_d[\"properties\"]['datetime'] = \"2019\"\n",
    "g_ref_data_metadata_d['links'] = []\n",
    "g_ref_data_metadata_d[\"assets\"] = {}\n",
    "\n",
    "ref_metadata_d = {}\n",
    "ref_metadata_d['output1'] = g_ref_data_metadata_d"
   ]
  },
  {
   "cell_type": "code",
   "execution_count": null,
   "id": "efb58c1e",
   "metadata": {
    "papermill": {
     "duration": null,
     "end_time": null,
     "exception": null,
     "start_time": null,
     "status": "pending"
    },
    "tags": []
   },
   "outputs": [],
   "source": [
    "# Add TDS global core elements metadata, and add global level profile metadata to the catalog object.\n",
    "\n",
    "new_tds_ctl_o.add_tds_root_metadata(tds_root_core_metadata_d, feature_metadata_d, ref_metadata_d)\n"
   ]
  },
  {
   "cell_type": "code",
   "execution_count": null,
   "id": "ca73371a",
   "metadata": {
    "papermill": {
     "duration": null,
     "end_time": null,
     "exception": null,
     "start_time": null,
     "status": "pending"
    },
    "tags": []
   },
   "outputs": [],
   "source": [
    "# Adding metadata for each AOI\n",
    "\n",
    "for idx, aoi_id in enumerate(aoi_ids):\n",
    "    # Dictionary for each AOI collection metadata\n",
    "    aoi_metadata_d = {}\n",
    "    aoi_metadata_d['type'] = \"Collection\"\n",
    "    aoi_metadata_d[\"id\"] = f\"{aoi_id}\"\n",
    "    aoi_metadata_d['stac_version'] = '1.0.0-beta.2'\n",
    "    aoi_metadata_d['title'] = f\"{aoi_id} Collection\"\n",
    "    aoi_metadata_d['description'] = \"Each AOI contains satellite images with crop masks.\"\n",
    "    aoi_metadata_d[\"license\"] = \"CC-BY-4.0\"\n",
    "    mask = aoi_id + '.nc'\n",
    "    #aoi_metadata_d['geometry'] = fgdf[fgdf['filename'] == '20180521T103156_S1B_AMSR2_Icechart-Greenland-NorthWest.nc']['geometry'][0]\n",
    "    geom = np.array(fgdf[fgdf['filename'] == mask]['geometry'].values[0].exterior.coords.xy)\n",
    "    xs = geom[0]\n",
    "    ys = geom[1]\n",
    "    minx = min(xs)\n",
    "    miny = min(ys)\n",
    "    maxx = max(xs)\n",
    "    maxy = max(ys)\n",
    "    aoi_metadata_d['bbox'] = [minx, miny, maxx, maxy]\n",
    "    #aoi_metadata_d[\"bbox\"]= [minx, miny, maxx, maxy]\n",
    "    aoi_metadata_d['geometry'] = geometry.mapping(geometry.box(*aoi_metadata_d[\"bbox\"]))\n",
    "    aoi_metadata_d[\"extent\"] = {\"spatial\" : {\"bbox\":[[minx, miny, maxx, maxy]]}, \n",
    "                      \"temporal\": {\"interval\":[[aoi_id[:4]]]}}\n",
    "    aoi_metadata_d['time_range'] = '2019'\n",
    "    aoi_metadata_d['links'] = []\n",
    "    aoi_metadata_d[\"assets\"] = {}\n",
    "    \n",
    "    \n",
    "    # Dictionary for each AOI's predictive feature metadata\n",
    "    aoi_feature_metadata_d = {}\n",
    "    aoi_feature_metadata_d['id'] = f'reference_metadata_AOI_{aoi_id}'\n",
    "    aoi_feature_metadata_d['type'] = \"Feature\"\n",
    "    aoi_feature_metadata_d['stac_version'] = \"1.0.0-beta.2\"\n",
    "    aoi_feature_metadata_d['stac_extensions'] = [\"reference_data\"]\n",
    "    aoi_feature_metadata_d['collection'] = \"270460aa-7835-11eb-9439-0242ac130002\"\n",
    "    aoi_feature_metadata_d['bbox'] = aoi_metadata_d[\"bbox\"]\n",
    "    aoi_feature_metadata_d['geometry'] = aoi_metadata_d[\"geometry\"]\n",
    "    aoi_feature_metadata_d['properties'] = {}\n",
    "    aoi_feature_metadata_d[\"properties\"]['name'] = str(aoi_id) + \" Reference metadata\"\n",
    "    aoi_feature_metadata_d['properties']['description'] = \"AI4Artic ASIP Sea Ice Dataset contains 461 files in network Common Data Form (netCDF), coming from Sentinel 1 SAR and AMSR2 microwave radiometer imagery with corresponding ice charts from Danish Meteorological Institute of the Arctic area.\"\n",
    "    aoi_feature_metadata_d['properties']['type'] = \"Raster\"\n",
    "    aoi_feature_metadata_d['properties']['task'] = \"Semantic Segmentation\"\n",
    "    aoi_feature_metadata_d['properties']['classes'] = [[{'pct_ice': 416, 'pct_water': 416, 'pct_nodata': 416}]]\n",
    "    aoi_feature_metadata_d['properties']['overviews'] = []\n",
    "    aoi_feature_metadata_d['properties']['collection_method'] = \"Sentinel-1 Synthetic Aperture Radar (SAR) scenes matched with sea ice charts produced by the Danish Meteorological Institute in 2018-2019.\"\n",
    "    aoi_feature_metadata_d['properties']['data_preprocessing'] = \"Null\"\n",
    "    aoi_feature_metadata_d['properties']['CRS'] = 'EPSG:32631'\n",
    "    aoi_feature_metadata_d['properties']['time_range'] = aoi_id[:4]\n",
    "    aoi_feature_metadata_d[\"properties\"]['value'] = 0\n",
    "    aoi_feature_metadata_d['properties'][\"orientation\"]= \"null\"\n",
    "    aoi_feature_metadata_d[\"properties\"]['datetime'] = \"2020-03-09T14:53:23.262208+00:00\"\n",
    "\n",
    "    aoi_feature_metadata_d['links'] = []  \n",
    "    aoi_feature_metadata_d[\"assets\"] = {}\n",
    "\n",
    "    aoi_feature_d = {}\n",
    "    aoi_feature_d['input1'] = aoi_feature_metadata_d\n",
    "    \n",
    "    # Dictionary for each AOI's reference metadata\n",
    "    aoi_ref_data_metadata_d = {}\n",
    "    aoi_ref_data_metadata_d['type'] = \"Feature\"\n",
    "    aoi_ref_data_metadata_d['stac_version'] = \"1.0.0-beta.2\"\n",
    "    aoi_ref_data_metadata_d['stac_extensions'] = [\"georeferenced_eo_image\"]\n",
    "    aoi_ref_data_metadata_d['id'] = f'predictive_feature_metadata_AOI_{aoi_id}'\n",
    "    aoi_ref_data_metadata_d['collection'] = \"270460aa-7835-11eb-9439-0242ac130002\"\n",
    "    aoi_ref_data_metadata_d[\"bbox\"]= aoi_metadata_d[\"bbox\"]\n",
    "    aoi_ref_data_metadata_d['geometry'] = aoi_metadata_d[\"geometry\"]\n",
    "    aoi_ref_data_metadata_d[\"properties\"] = {}\n",
    "    aoi_ref_data_metadata_d[\"properties\"][\"status\"]= \"Null\"\n",
    "    aoi_ref_data_metadata_d[\"properties\"]['parent_identifier'] = \"270460aa-7835-11eb-9439-0242ac130002\"\n",
    "    aoi_ref_data_metadata_d[\"properties\"]['acquisition_type'] = \"Null\"\n",
    "    aoi_ref_data_metadata_d[\"properties\"]['product_type']  = \"Null\"\n",
    "    aoi_ref_data_metadata_d[\"properties\"]['processing_level'] = 1.0\n",
    "    aoi_ref_data_metadata_d[\"properties\"]['platform_short_name'] = \"Sentinel 2\"\n",
    "    aoi_ref_data_metadata_d[\"properties\"]['sensor_type'] = \"SAR\"\n",
    "    aoi_ref_data_metadata_d[\"properties\"]['sensor_resolution'] = \"10m\"\n",
    "    aoi_ref_data_metadata_d[\"properties\"]['gsd'] = 10\n",
    "    aoi_ref_data_metadata_d[\"properties\"]['identifier'] = str(aoi_id)\n",
    "    aoi_ref_data_metadata_d[\"properties\"]['acquisition_date'] = '2019'\n",
    "    aoi_ref_data_metadata_d[\"properties\"]['datetime'] = \"2019\"\n",
    "    aoi_ref_data_metadata_d['links'] = []\n",
    "    aoi_ref_data_metadata_d[\"assets\"] = {}\n",
    "    aoi_ref_d = {}\n",
    "    aoi_ref_d['output1'] = aoi_ref_data_metadata_d\n",
    "    \n",
    "    aoi_ref_data_asset_path_d = {'output1':os.path.join(r'./dataset/sea-ice_mask', f'patch_mask_{aoi_id}.json')}\n",
    "    aoi_feature_asset_path_d = {'input1':os.path.join(r'./dataset/sea-ice_tiff', f'patch_{aoi_id}.tif')}\n",
    "                                            \n",
    "    print(new_tds_ctl_o.add_aoi_metadata(aoi_metadata_d=aoi_metadata_d,\n",
    "                                   aoi_feature_metadata_d=aoi_feature_d,\n",
    "                                   aoi_ref_data_metadata_d=aoi_ref_d,\n",
    "                                   aoi_feature_asset_path_d=aoi_feature_asset_path_d,\n",
    "                                   aoi_ref_data_asset_path_d=aoi_ref_data_asset_path_d))\n"
   ]
  },
  {
   "cell_type": "code",
   "execution_count": null,
   "id": "1782063d",
   "metadata": {
    "papermill": {
     "duration": null,
     "end_time": null,
     "exception": null,
     "start_time": null,
     "status": "pending"
    },
    "tags": []
   },
   "outputs": [],
   "source": [
    "# If a STAC catalog has already been generated remove it before re generating the catalog below\n",
    "import shutil\n",
    "shutil.rmtree('../cap_stac_generated')"
   ]
  },
  {
   "cell_type": "code",
   "execution_count": null,
   "id": "8c31125e",
   "metadata": {
    "papermill": {
     "duration": null,
     "end_time": null,
     "exception": null,
     "start_time": null,
     "status": "pending"
    },
    "tags": []
   },
   "outputs": [],
   "source": [
    "# Writing the STAC metadata. The directory along with its structure is generated, with correct links and assets defined. \n",
    "#A datasheet is also generated\n",
    "catalog_fn_w_path = r'./sea-ice_stac_generated/TDS.json'\n",
    "new_tds_ctl_o.write_TDS_STAC_Catalog(catalog_fn_w_path)"
   ]
  },
  {
   "cell_type": "markdown",
   "id": "c14fb4c3",
   "metadata": {
    "papermill": {
     "duration": null,
     "end_time": null,
     "exception": null,
     "start_time": null,
     "status": "pending"
    },
    "tags": []
   },
   "source": [
    "##### Checking AIREO compiance level"
   ]
  },
  {
   "cell_type": "code",
   "execution_count": null,
   "id": "8cd44794",
   "metadata": {
    "papermill": {
     "duration": null,
     "end_time": null,
     "exception": null,
     "start_time": null,
     "status": "pending"
    },
    "tags": []
   },
   "outputs": [],
   "source": [
    "catalog_fn_w_path = r'./sea-ice_stac_generated/TDS.json'\n",
    "new_tds_ctl_o = aireo_lib.core.tds_stac_io.DatasetSTACCatalog.from_TDSCatalog(catalog_fn_w_path)\n",
    "new_tds_ctl_o.compute_compliance_level()"
   ]
  },
  {
   "cell_type": "markdown",
   "id": "153beef7",
   "metadata": {
    "papermill": {
     "duration": null,
     "end_time": null,
     "exception": null,
     "start_time": null,
     "status": "pending"
    },
    "tags": []
   },
   "source": [
    "##### Checking metadata completeness"
   ]
  },
  {
   "cell_type": "code",
   "execution_count": null,
   "id": "cba1359a",
   "metadata": {
    "papermill": {
     "duration": null,
     "end_time": null,
     "exception": null,
     "start_time": null,
     "status": "pending"
    },
    "tags": []
   },
   "outputs": [],
   "source": [
    "new_tds_ctl_o.report_metadata_completeness()"
   ]
  },
  {
   "cell_type": "markdown",
   "id": "afad7180",
   "metadata": {
    "papermill": {
     "duration": null,
     "end_time": null,
     "exception": null,
     "start_time": null,
     "status": "pending"
    },
    "tags": []
   },
   "source": [
    "#### Defining AOI class"
   ]
  },
  {
   "cell_type": "code",
   "execution_count": null,
   "id": "8ad002c9",
   "metadata": {
    "papermill": {
     "duration": null,
     "end_time": null,
     "exception": null,
     "start_time": null,
     "status": "pending"
    },
    "tags": []
   },
   "outputs": [],
   "source": [
    "file = '/Users/adam/sea_ice/sea-ice_stac_generated/20180327T104059_S1B_AMSR2_Icechart-Greenland-CentralWest/patch_mask_20180327T104059_S1B_AMSR2_Icechart-Greenland-CentralWest.json'\n",
    "with open(file, 'r') as f:\n",
    "        #print(f.read())\n",
    "        data = json.load(f)\n",
    "        print(data)\n",
    "print(data['pct_ice'])\n",
    "#xr.Dataset.to_dict(dictio)\n",
    "t = [data['pct_ice']]\n",
    "x = [1,2]\n",
    "y = [1,2]\n",
    "d = {\n",
    "    \"pct_ice\": {\"dims\": (\"t\"), \"data\": t},\n",
    "}\n",
    "\n",
    "xr.Dataset.from_dict(d)"
   ]
  },
  {
   "cell_type": "code",
   "execution_count": null,
   "id": "7da2a6b3",
   "metadata": {
    "papermill": {
     "duration": null,
     "end_time": null,
     "exception": null,
     "start_time": null,
     "status": "pending"
    },
    "tags": []
   },
   "outputs": [],
   "source": [
    "#should inherit AOIDataset\n",
    "\n",
    "from aireo_lib.core import AOIDataset\n",
    "\n",
    "class AOIDatasetSeaIce(AOIDataset):\n",
    "\n",
    "    def __init__(self, AOI_STAC_collection, TDS_STAC_catalog):\n",
    "\n",
    "        self.AOI_STAC_collection = AOI_STAC_collection\n",
    "        self.TDS_STAC_catalog = TDS_STAC_catalog\n",
    "        self.stride = self.TDS_STAC_catalog.tds_ctl_root_info.tds_root_metadata_d['example_stride']\n",
    "        self.window_size = self.TDS_STAC_catalog.tds_ctl_root_info.tds_root_metadata_d['example_window_size']\n",
    "        \n",
    "        _first = True\n",
    "        \n",
    "        for eo_feature in self.AOI_STAC_collection.aoi_all_field_metadata.features:\n",
    "            aoi_feature_asset_path_d = self.AOI_STAC_collection.aoi_all_field_metadata.features[eo_feature].data_asset_w_path\n",
    "            self.feature_var_name = 'features_' + eo_feature\n",
    "            if _first:\n",
    "                self.data = rioxarray.open_rasterio(aoi_feature_asset_path_d).to_dataset(name = self.feature_var_name)\n",
    "                _first = False\n",
    "            else:\n",
    "                self.data[self.feature_var_name] = rioxarray.open_rasterio(aoi_feature_asset_path_d)\n",
    "        \n",
    "        for reference_data in self.AOI_STAC_collection.aoi_all_field_metadata.references:\n",
    "            aoi_ref_data_asset_path_d = self.AOI_STAC_collection.aoi_all_field_metadata.references[reference_data].data_asset_w_path\n",
    "            self.ref_var_name = 'references_'+ reference_data\n",
    "            if _first:\n",
    "                with open(aoi_ref_data_asset_path_d, 'r') as f:\n",
    "                    data = json.load(f)\n",
    "                t = [data['pct_ice']]\n",
    "                x = [data['pct_water']]\n",
    "                y = [data['pct_nodata']]\n",
    "                d = {\n",
    "                    \"pct_ice\": {\"dims\": (\"t\"), \"data\": t},\n",
    "                    \"pct_ice\": {\"dims\": (\"t\"), \"data\": x},\n",
    "                    \"pct_ice\": {\"dims\": (\"t\"), \"data\": y},\n",
    "                }\n",
    "                self.data = xr.Dataset.from_dict(d).to_dataset(name = self.ref_var_name).to_array()\n",
    "                print(self.data)\n",
    "                _first = False\n",
    "            else:\n",
    "                with open(aoi_ref_data_asset_path_d, 'r') as f:\n",
    "                    data = json.load(f)\n",
    "                t = [data['pct_ice']]\n",
    "                x = [data['pct_water']]\n",
    "                y = [data['pct_nodata']]\n",
    "                d = {\n",
    "                    \"pct_ice\": {\"dims\": (\"t\"), \"data\": t},\n",
    "                    \"pct_ice\": {\"dims\": (\"t\"), \"data\": x},\n",
    "                    \"pct_ice\": {\"dims\": (\"t\"), \"data\": y},\n",
    "                }\n",
    "                self.data[self.ref_var_name] = xr.Dataset.from_dict(d).to_array().rename({'t':'mask'})\n",
    "        \n",
    "\n",
    "\n",
    "    def __getitem__(self, index):\n",
    "        \n",
    "        along_x = int((self.data[self.feature_var_name].shape[1] - self.window_size)/self.stride)\n",
    "        along_y = int((self.data[self.feature_var_name].shape[-1] - self.window_size)/self.stride)\n",
    "        x1 = self.stride * int(index % along_x)\n",
    "        y1 = self.stride * int(index / along_y)\n",
    "        x2 = x1 + self.window_size\n",
    "        y2 = y1 + self.window_size\n",
    "        \n",
    "        #store feature and reference data in same xarray, name the axes\n",
    "        ds = self.data.isel(band=[0], mask=[0], x=slice(x1,x2), y=slice(y1, y2))        \n",
    "        return ds\n",
    "    \n",
    "\n",
    "    def __len__(self):\n",
    "        \n",
    "        along_x = int((self.data[self.feature_var_name].shape[1] - self.window_size)/self.stride) + 1\n",
    "        along_y = int((self.data[self.feature_var_name].shape[-1] - self.window_size)/self.stride) + 1\n",
    "        return along_x * along_y\n",
    "    \n",
    "    def get_length(self):\n",
    "        return self.__len__()"
   ]
  },
  {
   "cell_type": "markdown",
   "id": "efbb7867",
   "metadata": {
    "papermill": {
     "duration": null,
     "end_time": null,
     "exception": null,
     "start_time": null,
     "status": "pending"
    },
    "tags": []
   },
   "source": [
    "## TDS user\n",
    "\n",
    "The user of the dataset can access most of what is offered by the dataset using just its STAC catalog. All he/she needs to do is create a dataset object by passing to it the path to the STAC catalog at the root level. The library automatically reads in all the metadata and loads the assets into the dataset object. Some of the functionalities that a dataset object offers through aireo_lib are:\n",
    "\n",
    "- Can access an example instance from the dataset which serves as an input-output pair for a Machine Learning algorithm.\n",
    "\n",
    "- Xarrays are used to store data and give examples.\n",
    "\n",
    "- Dataset can also return each AOI independently\n",
    "\n",
    "- Offer basic plotting functions for each variable in the dataset and AOI.\n",
    "\n",
    "- Some statistics can also be calculated at both the AOI level and whole dataset level."
   ]
  },
  {
   "cell_type": "markdown",
   "id": "5cc92e12",
   "metadata": {
    "papermill": {
     "duration": null,
     "end_time": null,
     "exception": null,
     "start_time": null,
     "status": "pending"
    },
    "tags": []
   },
   "source": [
    "### Parsing TDS"
   ]
  },
  {
   "cell_type": "code",
   "execution_count": null,
   "id": "e35db0a2",
   "metadata": {
    "papermill": {
     "duration": null,
     "end_time": null,
     "exception": null,
     "start_time": null,
     "status": "pending"
    },
    "tags": []
   },
   "outputs": [],
   "source": [
    "from aireo_lib.core import EOTrainingDataset\n",
    "\n",
    "cap_tds_ctl_fn = Path(r'./sea-ice_stac_generated/TDS.json')\n",
    "\n",
    "eo_tds_obj = EOTrainingDataset(cap_tds_ctl_fn, AOIDatasetSeaIce)"
   ]
  },
  {
   "cell_type": "code",
   "execution_count": null,
   "id": "b59f0259",
   "metadata": {
    "papermill": {
     "duration": null,
     "end_time": null,
     "exception": null,
     "start_time": null,
     "status": "pending"
    },
    "tags": []
   },
   "outputs": [],
   "source": [
    "len(eo_tds_obj)"
   ]
  },
  {
   "cell_type": "code",
   "execution_count": null,
   "id": "94c2f3a6",
   "metadata": {
    "papermill": {
     "duration": null,
     "end_time": null,
     "exception": null,
     "start_time": null,
     "status": "pending"
    },
    "tags": []
   },
   "outputs": [],
   "source": [
    "eo_tds_obj[0]"
   ]
  },
  {
   "cell_type": "code",
   "execution_count": null,
   "id": "702c9a07",
   "metadata": {
    "papermill": {
     "duration": null,
     "end_time": null,
     "exception": null,
     "start_time": null,
     "status": "pending"
    },
    "tags": []
   },
   "outputs": [],
   "source": [
    "eo_tds_obj.get_subset([19,1121], data_type='numpy')"
   ]
  },
  {
   "cell_type": "code",
   "execution_count": null,
   "id": "e1f41144",
   "metadata": {
    "papermill": {
     "duration": null,
     "end_time": null,
     "exception": null,
     "start_time": null,
     "status": "pending"
    },
    "tags": []
   },
   "outputs": [],
   "source": [
    "aoi_objs = eo_tds_obj.get_aoi_datasets()\n",
    "len(aoi_objs[1])"
   ]
  },
  {
   "cell_type": "markdown",
   "id": "54c3ecda",
   "metadata": {
    "papermill": {
     "duration": null,
     "end_time": null,
     "exception": null,
     "start_time": null,
     "status": "pending"
    },
    "tags": []
   },
   "source": [
    "### Plotting"
   ]
  },
  {
   "cell_type": "code",
   "execution_count": null,
   "id": "107aee96",
   "metadata": {
    "papermill": {
     "duration": null,
     "end_time": null,
     "exception": null,
     "start_time": null,
     "status": "pending"
    },
    "tags": []
   },
   "outputs": [],
   "source": [
    "import aireo_lib.plotting \n",
    "#import matplotlib.pyplot as plt\n",
    "from importlib import reload\n",
    "reload(aireo_lib.plotting)\n"
   ]
  },
  {
   "cell_type": "code",
   "execution_count": null,
   "id": "6e89d002",
   "metadata": {
    "papermill": {
     "duration": null,
     "end_time": null,
     "exception": null,
     "start_time": null,
     "status": "pending"
    },
    "tags": []
   },
   "outputs": [],
   "source": [
    "plot_d = aireo_lib.plotting.EOTDSPlot.plot_example(EOTDS=eo_tds_obj, \n",
    "                       ex_index=123, \n",
    "                       field_names=['features_input1', 'references_output1'])\n",
    "plot_d"
   ]
  },
  {
   "cell_type": "code",
   "execution_count": null,
   "id": "453ff0b6",
   "metadata": {
    "papermill": {
     "duration": null,
     "end_time": null,
     "exception": null,
     "start_time": null,
     "status": "pending"
    },
    "tags": []
   },
   "outputs": [],
   "source": [
    "aoi_obj = eo_tds_obj.get_aoi_dataset(2)"
   ]
  },
  {
   "cell_type": "code",
   "execution_count": null,
   "id": "0fc52b64",
   "metadata": {
    "papermill": {
     "duration": null,
     "end_time": null,
     "exception": null,
     "start_time": null,
     "status": "pending"
    },
    "tags": []
   },
   "outputs": [],
   "source": [
    "aoi_plots_d = aireo_lib.plotting.EOTDSPlot.plot_aoi_dataset(aoi_obj)\n",
    "aoi_plots_d"
   ]
  },
  {
   "cell_type": "markdown",
   "id": "6bb59b87",
   "metadata": {
    "papermill": {
     "duration": null,
     "end_time": null,
     "exception": null,
     "start_time": null,
     "status": "pending"
    },
    "tags": []
   },
   "source": [
    "### Statistics\n"
   ]
  },
  {
   "cell_type": "code",
   "execution_count": null,
   "id": "ec6e91b8",
   "metadata": {
    "papermill": {
     "duration": null,
     "end_time": null,
     "exception": null,
     "start_time": null,
     "status": "pending"
    },
    "tags": []
   },
   "outputs": [],
   "source": [
    "import aireo_lib.statistics\n",
    "from importlib import reload\n",
    "reload(aireo_lib.statistics)"
   ]
  },
  {
   "cell_type": "code",
   "execution_count": null,
   "id": "1e4602a8",
   "metadata": {
    "papermill": {
     "duration": null,
     "end_time": null,
     "exception": null,
     "start_time": null,
     "status": "pending"
    },
    "tags": []
   },
   "outputs": [],
   "source": [
    "aireo_lib.statistics.EOTDSStatistics.feature_data_statistics(eo_tds_obj)"
   ]
  },
  {
   "cell_type": "code",
   "execution_count": null,
   "id": "8d104844",
   "metadata": {
    "papermill": {
     "duration": null,
     "end_time": null,
     "exception": null,
     "start_time": null,
     "status": "pending"
    },
    "tags": []
   },
   "outputs": [],
   "source": [
    "aireo_lib.statistics.EOTDSStatistics.reference_data_statistics(eo_tds_obj)"
   ]
  },
  {
   "cell_type": "code",
   "execution_count": null,
   "id": "aad7417c",
   "metadata": {
    "papermill": {
     "duration": null,
     "end_time": null,
     "exception": null,
     "start_time": null,
     "status": "pending"
    },
    "tags": []
   },
   "outputs": [],
   "source": []
  }
 ],
 "metadata": {
  "kernelspec": {
   "display_name": "EDC-GPU 0.24.5 (Python3)",
   "language": "python",
   "name": "edc-gpu"
  },
  "language_info": {
   "codemirror_mode": {
    "name": "ipython",
    "version": 3
   },
   "file_extension": ".py",
   "mimetype": "text/x-python",
   "name": "python",
   "nbconvert_exporter": "python",
   "pygments_lexer": "ipython3",
   "version": "3.8.10"
  },
  "papermill": {
   "default_parameters": {},
   "duration": 2.03533,
   "end_time": "2021-06-04T14:46:47.391493",
   "environment_variables": {},
   "exception": true,
   "input_path": "/tmp/tmpbw6hs_gl",
   "output_path": "/tmp/notebook_output.ipynb",
   "parameters": {},
   "start_time": "2021-06-04T14:46:45.356163",
   "version": "2.3.3"
  },
  "properties": {
   "authors": [
    {
     "id": "a7f80638-e89a-4349-9cc7-7ed6ec2d79b7",
     "name": "manuel.fernandez@nuigalway.ie"
    }
   ],
   "description": "Use of aireo_lib library as part of AIREO project",
   "id": "e891ad6d-245f-4cff-ad4e-592ccb231dd3",
   "license": null,
   "name": "AIREO pilot dataset - AI4Arctic Sea-Ice",
   "requirements": [
    "eurodatacube"
   ],
   "tags": [
    "EO Data",
    "Getting started",
    "Jupyter",
    "Sentinel Data",
    "Sentinel Hub"
   ],
   "tosAgree": true,
   "type": "Jupyter Notebook",
   "version": "0.1"
  }
 },
 "nbformat": 4,
 "nbformat_minor": 5
}