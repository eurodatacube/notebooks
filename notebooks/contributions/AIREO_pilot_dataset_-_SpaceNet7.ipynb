{
 "cells": [
  {
   "cell_type": "markdown",
   "id": "2bc00bb0",
   "metadata": {
    "tags": [
     "papermill-error-cell-tag"
    ]
   },
   "source": [
    "<span style=\"color:red; font-family:Helvetica Neue, Helvetica, Arial, sans-serif; font-size:2em;\">An Exception was encountered at '<a href=\"#papermill-error-cell\">In [2]</a>'.</span>"
   ]
  },
  {
   "cell_type": "code",
   "execution_count": 1,
   "id": "0ba7a022",
   "metadata": {
    "execution": {
     "iopub.execute_input": "2021-06-04T10:26:55.542975Z",
     "iopub.status.busy": "2021-06-04T10:26:55.541946Z",
     "iopub.status.idle": "2021-06-04T10:26:55.615676Z",
     "shell.execute_reply": "2021-06-04T10:26:55.614853Z"
    },
    "papermill": {
     "duration": 0.115672,
     "end_time": "2021-06-04T10:26:55.615821",
     "exception": false,
     "start_time": "2021-06-04T10:26:55.500149",
     "status": "completed"
    },
    "tags": []
   },
   "outputs": [
    {
     "data": {
      "text/html": [
       "<script type=\"text/javascript\">\n",
       "        function toggle(id) {\n",
       "            el = document.getElementById(id);\n",
       "            el.style.display = el.style.display === \"none\" ? \"block\" : \"none\";\n",
       "        }\n",
       "    </script>"
      ],
      "text/plain": [
       "<IPython.core.display.HTML object>"
      ]
     },
     "metadata": {},
     "output_type": "display_data"
    },
    {
     "data": {
      "text/html": [
       "This notebook is compatible with this base image version (user-0.24.5)."
      ],
      "text/plain": [
       "<IPython.core.display.HTML object>"
      ]
     },
     "metadata": {},
     "output_type": "display_data"
    },
    {
     "data": {
      "text/markdown": [
       "\n",
       "\n",
       "---------\n",
       "\n",
       "The following environment variables are available:\n",
       "\n",
       "* `SH_CLIENT_ID`, `SH_INSTANCE_ID`, `SH_CLIENT_NAME`, `SH_CLIENT_SECRET`\n"
      ],
      "text/plain": [
       "<IPython.core.display.Markdown object>"
      ]
     },
     "metadata": {},
     "output_type": "display_data"
    }
   ],
   "source": [
    "from edc import check_compatibility\n",
    "check_compatibility(\"user-0.24.5\", dependencies=[\"SH\"])"
   ]
  },
  {
   "cell_type": "markdown",
   "id": "53e83a1e",
   "metadata": {
    "papermill": {
     "duration": 0.027737,
     "end_time": "2021-06-04T10:26:55.670521",
     "exception": false,
     "start_time": "2021-06-04T10:26:55.642784",
     "status": "completed"
    },
    "tags": []
   },
   "source": [
    "## Introduction ##\n",
    "\n",
    "The notebook demonstrates the use of aireo_lib , a python library created as a part of the AIREO (Artificial Intelligence Ready Earth Observation training datasets) project. The project aims to make EO datasets easily accessible for the ML (Machine Learning) community. As such, AIREO specifications (shorthand specs) which define metadata elements to be included with the training dataset are proposed, supplemented by a best-practices document which suggests how to fill those metadata elements. Finally, the library takes all into account and implements specs, best-practices and offers an easy-to-use pythonic interface bridging the gap between EO and ML community.\n",
    "\n",
    "Therefore, this notebook is divided into two sections, one for the training dataset creator (usually from the EO community) and the other for its user (usually from the ML community). The structure of the notebook is the following:\n",
    "\n",
    "1) For Creator \n",
    "\n",
    "    - Create a [STAC](https://stacspec.org/) catalog object using the library\n",
    "    \n",
    "    - Populate metadata elements prescribed by the AIREO specs\n",
    "    \n",
    "    - Generate a STAC metadata directory using the library\n",
    "\n",
    "    - Check AIREO compliance level and metadata completeness\n",
    "\n",
    "   \n",
    "2) For User \n",
    "\n",
    "    - Create a training dataset object as defined in the library using only the STAC metadata\n",
    "    \n",
    "    - Get example instances from the object and other dataset variables like the number of instances, etc.\n",
    "    \n",
    "    - Use library's functions to plot the data\n",
    "    \n",
    "    - Investigate statistics using the library"
   ]
  },
  {
   "cell_type": "markdown",
   "id": "28bb3f04",
   "metadata": {
    "papermill": {
     "duration": 0.028226,
     "end_time": "2021-06-04T10:26:55.726445",
     "exception": false,
     "start_time": "2021-06-04T10:26:55.698219",
     "status": "completed"
    },
    "tags": []
   },
   "source": [
    "#### About the training dataset\n",
    "SpaceNet7 is a collection of satellite image time series covering 100 different locations in a diverse range of environments. It also includes a set of polygons for each image marking out the building footprints. The image data was collected by Planet satellites at an interval of roughly one month for each location for a period of two years. This is not compeltely consistent across different locations. The data was then manually annotated by a team at SpaceNet to produce the building footprint polygons. The full data from 60 areas was released as a public dataset.\n",
    "\n",
    "We have simplified the dataset slightly for the purpose of creating a pilot AIREO dataset. We have converted all building polygons to boolean raster masks, and have stored these and the images in netcdf files as time series of raster data, one for each location. We have also standardized image resolution across all locations. This notebook only makes use of 5 AOIs out of 60 for demonstration purposes. \n",
    "\n",
    "This dataset can be used to train ML models for the task of automatic building detection in satellite images, and for the tracking of building development over time. "
   ]
  },
  {
   "cell_type": "markdown",
   "id": "9e8579a6",
   "metadata": {
    "papermill": {
     "duration": 0.026382,
     "end_time": "2021-06-04T10:26:55.784523",
     "exception": false,
     "start_time": "2021-06-04T10:26:55.758141",
     "status": "completed"
    },
    "tags": []
   },
   "source": [
    "## AIREO STAC Catalog basics"
   ]
  },
  {
   "cell_type": "markdown",
   "id": "3dd8c845-2628-44a3-9ad9-41c33b18bb8f",
   "metadata": {
    "papermill": {
     "duration": 0.025556,
     "end_time": "2021-06-04T10:26:55.836677",
     "exception": false,
     "start_time": "2021-06-04T10:26:55.811121",
     "status": "completed"
    },
    "tags": []
   },
   "source": [
    "\n",
    "The AIREO specs propose a hierarchical structure for STAC metadata. It is a two level structure where the dataset is represented by a collection of AOIs (Area Of Interests), hence, the dataset and AOI being the two levels.\n",
    "\n",
    "1. At the dataset level we have a dataset catalog whose metadata elements are the core elements proposed in the AIREO spec. In addition to it, the common metadata elements across each AOI are also at the dataset level, which we shall call root level henceforth. Here, for each data variable there is a separate json which is a STAC Item by definition and is named using the field_schema metadata element. Additionally, there is also a datasheet file in markdown format at the root level which contains human readable information about the key elements of the dataset.\n",
    "\n",
    "2. Each AOI has a separate folder within the root level. And in each AOI folder there is a STAC collection representing that AOI and additional json files for each data variable. The additional json files here too, are STAC Items and follow a similar naming convention to the ones at the root level. The assets for each AOI, i.e. the files containing actual data are also in the folder.\n",
    "\n",
    "The diagram below summarises this hierarchical structure:\n",
    "\n",
    "\n",
    "```\n",
    "Root level (dataset)\n",
    "│\n",
    "│   DatasetCatalog.json\n",
    "│   datasheet.md\n",
    "│   references_output1.json\n",
    "│   features_input1.json\n",
    "│   ...\n",
    "│\n",
    "│\n",
    "└───AOI 1\n",
    "│      1.json (AOI Collection)\n",
    "│      feature_input1.json\n",
    "│      reference_output1.json\n",
    "│      <reference_asset>\n",
    "│      <feature_asseet>\n",
    "│   \n",
    "│   \n",
    "└───AOI 2\n",
    "│      ...\n",
    "│   \n",
    "│\n",
    "└───AOI 3\n",
    "│      ...\n",
    "│   \n",
    "...     \n",
    "```"
   ]
  },
  {
   "cell_type": "markdown",
   "id": "d35af270-7024-44db-ba01-f30ecc3a576a",
   "metadata": {
    "papermill": {
     "duration": 0.026576,
     "end_time": "2021-06-04T10:26:55.890629",
     "exception": false,
     "start_time": "2021-06-04T10:26:55.864053",
     "status": "completed"
    },
    "tags": []
   },
   "source": [
    "## Creating a STAC catalog with aireo_lib\n",
    "\n",
    "The aireo_lib library makes it easier to generate the STAC metadata directory as defined above. Some of the useful functionalities in the library are:\n",
    "-  Define python dictionaries for metadata at the root level and use a simple function to add it to the STAC catalog. The library validates the data automatically when it is added.\n",
    "\n",
    "- Similarly, python dictionaries can be defined for each AOI and are also validated automatically.\n",
    "\n",
    "- Links and assets for all the json files are automatically generated.\n",
    "\n",
    "- Datasheet is also generated automatically.\n",
    "\n",
    "- The directory structure is created by the library and assets copied to their respective locations in the hierarchy.\n",
    "\n",
    "- Evaluating metadata completeness and compliance level.\n",
    "\n",
    "\n",
    "Follow the code and comments below to understand the steps needed to generate STAC metadata with the library."
   ]
  },
  {
   "cell_type": "markdown",
   "id": "e22f9996",
   "metadata": {
    "tags": [
     "papermill-error-cell-tag"
    ]
   },
   "source": [
    "<span id=\"papermill-error-cell\" style=\"color:red; font-family:Helvetica Neue, Helvetica, Arial, sans-serif; font-size:2em;\">Execution using papermill encountered an exception here and stopped:</span>"
   ]
  },
  {
   "cell_type": "code",
   "execution_count": 2,
   "id": "0ec0aca9",
   "metadata": {
    "execution": {
     "iopub.execute_input": "2021-06-04T10:26:55.956264Z",
     "iopub.status.busy": "2021-06-04T10:26:55.955571Z",
     "iopub.status.idle": "2021-06-04T10:26:56.029246Z",
     "shell.execute_reply": "2021-06-04T10:26:56.027639Z"
    },
    "papermill": {
     "duration": 0.111805,
     "end_time": "2021-06-04T10:26:56.029518",
     "exception": true,
     "start_time": "2021-06-04T10:26:55.917713",
     "status": "failed"
    },
    "tags": []
   },
   "outputs": [
    {
     "ename": "ModuleNotFoundError",
     "evalue": "No module named 'aireo_lib'",
     "output_type": "error",
     "traceback": [
      "\u001b[0;31m---------------------------------------------------------------------------\u001b[0m",
      "\u001b[0;31mModuleNotFoundError\u001b[0m                       Traceback (most recent call last)",
      "\u001b[0;32m<ipython-input-2-98ce2557631d>\u001b[0m in \u001b[0;36m<module>\u001b[0;34m\u001b[0m\n\u001b[0;32m----> 1\u001b[0;31m \u001b[0;32mimport\u001b[0m \u001b[0maireo_lib\u001b[0m\u001b[0;34m.\u001b[0m\u001b[0mcore\u001b[0m\u001b[0;34m\u001b[0m\u001b[0;34m\u001b[0m\u001b[0m\n\u001b[0m\u001b[1;32m      2\u001b[0m \u001b[0;32mimport\u001b[0m \u001b[0mos\u001b[0m\u001b[0;34m\u001b[0m\u001b[0;34m\u001b[0m\u001b[0m\n\u001b[1;32m      3\u001b[0m \u001b[0;32mimport\u001b[0m \u001b[0mjson\u001b[0m\u001b[0;34m\u001b[0m\u001b[0;34m\u001b[0m\u001b[0m\n\u001b[1;32m      4\u001b[0m \u001b[0;32mimport\u001b[0m \u001b[0mnumpy\u001b[0m \u001b[0;32mas\u001b[0m \u001b[0mnp\u001b[0m\u001b[0;34m\u001b[0m\u001b[0;34m\u001b[0m\u001b[0m\n\u001b[1;32m      5\u001b[0m \u001b[0;32mfrom\u001b[0m \u001b[0mtqdm\u001b[0m\u001b[0;34m.\u001b[0m\u001b[0mnotebook\u001b[0m \u001b[0;32mimport\u001b[0m \u001b[0mtqdm\u001b[0m\u001b[0;34m\u001b[0m\u001b[0;34m\u001b[0m\u001b[0m\n",
      "\u001b[0;31mModuleNotFoundError\u001b[0m: No module named 'aireo_lib'"
     ]
    }
   ],
   "source": [
    "import aireo_lib.core\n",
    "import os\n",
    "import json\n",
    "import numpy as np\n",
    "from tqdm.notebook import tqdm\n",
    "from shapely import geometry\n",
    "import shutil\n",
    "import xarray as xr\n",
    "from pathlib import Path\n",
    "from shapely import geometry \n",
    "import geopandas as gpd\n",
    "\n"
   ]
  },
  {
   "cell_type": "code",
   "execution_count": null,
   "id": "5ce45e7c-2561-4be4-a00f-690dc414bb12",
   "metadata": {
    "papermill": {
     "duration": null,
     "end_time": null,
     "exception": null,
     "start_time": null,
     "status": "pending"
    },
    "tags": []
   },
   "outputs": [],
   "source": [
    "import os\n",
    "os.getcwd()"
   ]
  },
  {
   "cell_type": "code",
   "execution_count": null,
   "id": "cb8e59ab",
   "metadata": {
    "papermill": {
     "duration": null,
     "end_time": null,
     "exception": null,
     "start_time": null,
     "status": "pending"
    },
    "tags": []
   },
   "outputs": [],
   "source": [
    "# Path to write the STAC root metadata file too\n",
    "catalog_fn_w_path = '/home/jovyan/s3/SpaceNet7/sp7_stac/TDS.json'\n",
    "\n",
    "# Creating an empty STAC Catalog object\n",
    "new_tds_ctl_o = aireo_lib.core.tds_stac_io.DatasetSTACCatalog()"
   ]
  },
  {
   "cell_type": "code",
   "execution_count": null,
   "id": "537c2d83",
   "metadata": {
    "papermill": {
     "duration": null,
     "end_time": null,
     "exception": null,
     "start_time": null,
     "status": "pending"
    },
    "tags": []
   },
   "outputs": [],
   "source": [
    "# AOI list int the TDS\n",
    "\n",
    "dataset_path = '/home/jovyan/s3/SpaceNet7/Data/sp7_sample'\n",
    "\n",
    "aoi_ids = [aoi_id for aoi_id in os.listdir(dataset_path) if aoi_id[0]!='.'][0:5]"
   ]
  },
  {
   "cell_type": "code",
   "execution_count": null,
   "id": "c317aadd",
   "metadata": {
    "papermill": {
     "duration": null,
     "end_time": null,
     "exception": null,
     "start_time": null,
     "status": "pending"
    },
    "tags": []
   },
   "outputs": [],
   "source": [
    "# Creating root metadata dictionary\n",
    "\n",
    "tds_root_core_metadata_d = {}\n",
    "tds_root_core_metadata_d['aireo_version'] = \"0.0.1-alpha.1\"\n",
    "tds_root_core_metadata_d['title'] = \"Images with buildings labelled covering short range of time for each AOI\"\n",
    "tds_root_core_metadata_d['description'] = \"Covers 60 areas of interest at 4m resolution with images at monthly intervals. Each image is annotated with polygons labelling buildings. Dataset allows for the monitioring and prediction of building development over time.\"\n",
    "tds_root_core_metadata_d['created'] = '2020-07-13'\n",
    "tds_root_core_metadata_d['license_url_list'] = 'https://creativecommons.org/licenses/by-sa/4.0/' \n",
    "tds_root_core_metadata_d['license'] = \"CC-BY-SA-4.0\"\n",
    "tds_root_core_metadata_d[\"providers_name\"]= \"[SpaceNet LLC]\"\n",
    "tds_root_core_metadata_d[\"providers_description\"] = \"Data gathered by Planet satellites, dataset then created by Spacenet \"\n",
    "tds_root_core_metadata_d[\"providers_roles\"] = {\"SpaceNet\":[\"processor\",\"host\",\"licensor\",\"producer\"], 'AIREO':[\"producer\", \"processor\" , \"host\"]}\n",
    "tds_root_core_metadata_d[\"providers_url\"]= {\"Spacenet\":\"https://spacenet.ai/\", \n",
    "                            'AIREO': 'https://aireo.net/'}                         \n",
    "tds_root_core_metadata_d['id'] =  \"706cf9e2-bd46-11eb-8529-0242ac130003\"\n",
    "tds_root_core_metadata_d['type'] = \"Collection\"\n",
    "tds_root_core_metadata_d['stac_version'] = '1.0.0-beta.2'\n",
    "tds_root_core_metadata_d['provenance'] = 'Data gathered from Planet satellites and annotatations produced by SpaceNet LLC'\n",
    "tds_root_core_metadata_d['purpose'] = \"Using semantic segmentation track buidling development over time. Segment individual images from each timestep then use this knowledge to track development over time for one AOI.\"\n",
    "tds_root_core_metadata_d['tasks'] =  ['Semantic Segmentation']\n",
    "tds_root_core_metadata_d['data_preprocessing'] = 'Original dataset included images from one AOI as seperate tiff files. We have combined these into one netcdf datacube for each AOI. The building labels were stored as polygons in the original dataset. We have converted to raster masks and have stored them in netcdf datacubes, one for each AOI.'\n",
    "tds_root_core_metadata_d['funding_info'] = \"The AIREO project is funded by ESA. The underlying data was gathered by Planet, then annotated and released by SpaceNet for free use.\"\n",
    "tds_root_core_metadata_d['field_schema'] = {'features': {'input1': ['georeferenced_eo_data','georeferenced_eo_datacube']}, 'references': {'output1': ['reference_data']}}\n",
    "tds_root_core_metadata_d['example_definition'] = \"An individual example consists of a single image, and a raster mask representing the buildings visible in the image.\"\n",
    "tds_root_core_metadata_d['data_completeness'] = \"Dataset is sufficent for task and requires no external sources.\"\n",
    "tds_root_core_metadata_d['data_split'] = \"Recommend train/test/validation split of 40 AOIs in train, 10 in test and 10 in validation. Should ensure the density of buildings in images is roughly equal for these splits ie. not training on sparsely populated areas then testing on densely populated areas.\"\n",
    "tds_root_core_metadata_d['data_sharing'] = \"The dataset will be shared on Euro Data Cube (EDC) and can be accessed through jupyter notebooks on EDC.\"\n",
    "tds_root_core_metadata_d['compliance_level'] = 'level 1'\n",
    "tds_root_core_metadata_d['example_window_size'] = 100\n",
    "tds_root_core_metadata_d['example_stride'] = 80\n",
    "\n",
    "tds_root_core_metadata_d['data_completeness'] = \"The data spans a large geographic range. There are some unusable sections of the images due to cloud cover and instrument malfunction.\"\n",
    "tds_root_core_metadata_d['data_split'] = \"It is important when splitting data for testing, training and validation, that the density of buildings is similar in each split. For example if we train on sparsely developed areas then our model's performance will likely suffer when tested on highly developed areas.\"\n",
    "tds_root_core_metadata_d['data_sharing'] = \"The dataset will be shared on Euro Data Cube (EDC) and can be accessed through jupyter notebooks on EDC.\"\n",
    "tds_root_core_metadata_d['compliance_level'] = 'level 1'\n",
    "tds_root_core_metadata_d['links'] =  []"
   ]
  },
  {
   "cell_type": "code",
   "execution_count": null,
   "id": "bb1d330e",
   "metadata": {
    "papermill": {
     "duration": null,
     "end_time": null,
     "exception": null,
     "start_time": null,
     "status": "pending"
    },
    "tags": []
   },
   "outputs": [],
   "source": [
    "# Make root level feature metadata\n",
    "\n",
    "g_feature_metadata_d = {}\n",
    "g_feature_metadata_d['type'] = \"Feature\"\n",
    "g_feature_metadata_d['stac_version'] = \"1.0.0-beta.2\"\n",
    "g_feature_metadata_d['stac_extensions'] = [\"georeferenced_eo_data\",\"georeferenced_eo_datacube\"]\n",
    "g_feature_metadata_d['id'] = \"common_feature_metadata\"\n",
    "g_feature_metadata_d['collection'] = \"706cf9e2-bd46-11eb-8529-0242ac130003\"\n",
    "    \n",
    "g_feature_metadata_d[\"properties\"] = {}\n",
    "# add metadata from georeferencedeodata profile first\n",
    "g_feature_metadata_d[\"properties\"]['parent_identifier'] = \"706cf9e2-bd46-11eb-8529-0242ac130003\"\n",
    "g_feature_metadata_d[\"properties\"]['identifier'] = \"Null\"\n",
    "g_feature_metadata_d[\"properties\"]['composed_of'] = \"Null\"\n",
    "g_feature_metadata_d[\"properties\"]['linked_with'] = \"Null\"\n",
    "g_feature_metadata_d['properties']['product_type'] = \"Time series of monthly images for one AOI. Each image shares geometry and bounding box.\"\n",
    "g_feature_metadata_d[\"properties\"][\"native_product_format\"] = \"netcdf\"\n",
    "g_feature_metadata_d[\"properties\"]['processing_level'] = \"Null\"\n",
    "g_feature_metadata_d[\"properties\"]['auxiliary_dataset_filename'] = \"Null\"\n",
    "g_feature_metadata_d['properties']['CRS'] = 'EPSG:3857'\n",
    "\n",
    "# dimensions of the whole dataset\n",
    "x_min = -13545862.01592866\n",
    "y_min = -4510398.55370881\n",
    "x_max = 16133718.82286585\n",
    "y_max = 6887891.10417667\n",
    "g_feature_metadata_d['bbox'] = [x_min,y_min,x_max,y_max]\n",
    "g_feature_metadata_d['geometry'] = geometry.mapping(geometry.box(x_min,y_min,x_max,y_max,ccw=True))\n",
    "\n",
    "\n",
    "# now add data for georeferencedeodatacube profile\n",
    "g_feature_metadata_d[\"properties\"][\"dimensions\"] = {}\n",
    "g_feature_metadata_d[\"properties\"][\"dimensions\"][\"x\"] = {\n",
    "                      \"type\": \"spatial\",\n",
    "                      \"axis\": \"x\",\n",
    "                      \"extent\": [\n",
    "                        x_min,\n",
    "                        x_max\n",
    "                      ],\n",
    "                      \"reference_system\": 3857\n",
    "                    }\n",
    "g_feature_metadata_d[\"properties\"][\"dimensions\"][\"y\"] = {\n",
    "                      \"type\": \"spatial\",\n",
    "                      \"axis\": \"y\",\n",
    "                      \"extent\": [\n",
    "                        y_min,\n",
    "                        y_max\n",
    "                      ],\n",
    "                      \"reference_system\": 3857\n",
    "                    }\n",
    "g_feature_metadata_d[\"properties\"][\"dimensions\"][\"temporal\"] = {\n",
    "                      \"type\": \"temporal\",\n",
    "                      \"extent\": [\n",
    "                        \"2017-07-01T00:00:00.000000000\",\n",
    "                        \"2020-01-01T00:00:00.000000000\"\n",
    "                         ]\n",
    "                    }\n",
    "g_feature_metadata_d[\"properties\"][\"dimensions\"][\"spectral\"] = {\n",
    "                      \"type\": \"bands\",\n",
    "                      \"values\": [\n",
    "                          \"red\",\n",
    "                          \"green\",\n",
    "                          \"blue\"\n",
    "                      ]\n",
    "    }\n",
    "g_feature_metadata_d[\"properties\"]['datetime'] = \"2019\"\n",
    "\n",
    "\n",
    "g_feature_metadata_d['links'] = []\n",
    "g_feature_metadata_d[\"assets\"] = {}\n",
    "\n",
    "# make feature metadata dictionary \n",
    "feature_metadata_d = {}\n",
    "feature_metadata_d['input1'] = g_feature_metadata_d\n"
   ]
  },
  {
   "cell_type": "code",
   "execution_count": null,
   "id": "d78de5ab",
   "metadata": {
    "papermill": {
     "duration": null,
     "end_time": null,
     "exception": null,
     "start_time": null,
     "status": "pending"
    },
    "tags": []
   },
   "outputs": [],
   "source": [
    "# create common reference data    \n",
    "\n",
    "g_ref_data_metadata_d  = {}\n",
    "g_ref_data_metadata_d['id'] = f'common_reference_metadata'\n",
    "g_ref_data_metadata_d['type'] = \"Feature\"\n",
    "g_ref_data_metadata_d['stac_version'] = \"1.0.0-beta.2\"\n",
    "g_ref_data_metadata_d['stac_extensions'] = [\"reference_data\"]\n",
    "g_ref_data_metadata_d['collection'] = \"706cf9e2-bd46-11eb-8529-0242ac130003\"\n",
    "g_ref_data_metadata_d['properties'] = {}\n",
    "g_ref_data_metadata_d['properties']['name'] = 'Reference Metadata'\n",
    "g_ref_data_metadata_d['properties']['description'] = \"The reference data consists of datacubes of raster masks representing the building outlines in the training images. One datacube corresponds to one AOI.\"\n",
    "g_ref_data_metadata_d['properties']['type'] = \"annotated\"\n",
    "g_ref_data_metadata_d['properties']['task'] = \"Semantic Segmentation\"\n",
    "g_ref_data_metadata_d['properties']['classes'] = [[{'BUILDING':255,'NOT_BUILDING':0}]]\n",
    "g_ref_data_metadata_d['properties']['overviews'] = [\"The are dataset covers roughly 40000 square kilometers. 6.94% of this is labelled by this reference data as containing buildings.\"]\n",
    "g_ref_data_metadata_d['properties']['collection_method'] = \"The reference data was produced by manual annotation of the original satellite images.\"\n",
    "g_ref_data_metadata_d['properties']['data_preprocessing'] = \"The polygons in the original reference data were converted into rasters with the same dimensions and coordinates as the relevant feature data.\"\n",
    "g_ref_data_metadata_d['properties']['CRS'] = 'EPSG:3857'\n",
    "g_ref_data_metadata_d[\"properties\"]['value'] = 0.\n",
    "g_ref_data_metadata_d['properties'][\"orientation\"]= \"Null\"\n",
    "g_ref_data_metadata_d[\"properties\"]['time_range'] = \"2021\"\n",
    "g_ref_data_metadata_d[\"properties\"]['datetime'] = \"2019\"\n",
    "from shapely import geometry\n",
    "g_ref_data_metadata_d['bbox'] = [x_min,y_min, x_max, y_max]\n",
    "g_ref_data_metadata_d['geometry'] = geometry.mapping(geometry.box(x_min,y_min,x_max,y_max,ccw=True))\n",
    "\n",
    "g_ref_data_metadata_d['links'] = []\n",
    "g_ref_data_metadata_d[\"assets\"] = {}\n",
    "\n",
    "ref_metadata_d = {}\n",
    "ref_metadata_d['output1'] = g_ref_data_metadata_d"
   ]
  },
  {
   "cell_type": "code",
   "execution_count": null,
   "id": "c4c4caea",
   "metadata": {
    "papermill": {
     "duration": null,
     "end_time": null,
     "exception": null,
     "start_time": null,
     "status": "pending"
    },
    "tags": []
   },
   "outputs": [],
   "source": [
    "# Check if feature data is compliant\n",
    "\n",
    "aireo_lib.tds_stac_io.validate_item(feature_metadata_d['input1'])"
   ]
  },
  {
   "cell_type": "code",
   "execution_count": null,
   "id": "b5089a38",
   "metadata": {
    "papermill": {
     "duration": null,
     "end_time": null,
     "exception": null,
     "start_time": null,
     "status": "pending"
    },
    "tags": []
   },
   "outputs": [],
   "source": [
    "# Add TDS global core elements metadata, and add global level profile metadata to the catalog object.\n",
    "\n",
    "new_tds_ctl_o.add_tds_root_metadata(tds_root_core_metadata_d, feature_metadata_d, ref_metadata_d)\n"
   ]
  },
  {
   "cell_type": "code",
   "execution_count": null,
   "id": "8473c3d2",
   "metadata": {
    "papermill": {
     "duration": null,
     "end_time": null,
     "exception": null,
     "start_time": null,
     "status": "pending"
    },
    "tags": []
   },
   "outputs": [],
   "source": [
    "new_tds_ctl_o.valid_tds_root"
   ]
  },
  {
   "cell_type": "code",
   "execution_count": null,
   "id": "25cf7b92",
   "metadata": {
    "papermill": {
     "duration": null,
     "end_time": null,
     "exception": null,
     "start_time": null,
     "status": "pending"
    },
    "tags": []
   },
   "outputs": [],
   "source": [
    "# Adding metadata for each AOI\n",
    "\n",
    "for aoi_id in tqdm(aoi_ids):\n",
    "        \n",
    "    # Dictionary for each AOI collection metadata\n",
    "    aoi_metadata_d = {}\n",
    "    aoi_metadata_d['type'] = \"Collection\"\n",
    "    aoi_metadata_d[\"id\"] = f\"{aoi_id}\"\n",
    "    aoi_metadata_d['stac_version'] = '1.0.0-beta.2'\n",
    "    aoi_metadata_d['title'] = f\"{aoi_id} Collection\"\n",
    "    aoi_metadata_d['description'] = \"Datacube of Satellite images for one AOI and datacube of corresponding building masks.\"\n",
    "    aoi_metadata_d[\"license\"] = \"Various (CC-BY-4.0, Creative Commons CC BY-SA 3.0 IGO)\"\n",
    "    masks_path = dataset_path + '/' + aoi_id + '/building_masks.nc'\n",
    "    with xr.open_dataarray(masks_path) as masks:\n",
    "        minx = masks.coords['x'].values[0]\n",
    "        maxx = masks.coords['x'].values[-1]\n",
    "        miny = masks.coords['y'].values[0]\n",
    "        maxy = masks.coords['y'].values[-1]\n",
    "        start_time = str(min(masks['date'].values))\n",
    "        end_time = str(max(masks['date'].values))\n",
    "        unique, counts = np.unique(masks.values,return_counts=True)\n",
    "        # calculate percentage of images taken up by buildings\n",
    "        building_percent = 100*(counts[1]/counts[0])\n",
    "    bbox = [minx,miny,maxx,maxy]\n",
    "    geo = geometry.mapping(geometry.box(minx,miny,maxx,maxy))\n",
    "    aoi_metadata_d[\"bbox\"]= bbox\n",
    "    aoi_metadata_d['geometry'] = geo\n",
    "    aoi_metadata_d[\"extent\"] = {\"spatial\" : {\"bbox\":[bbox]}, \n",
    "                          \"temporal\": {\"interval\":[[start_time,end_time]]}}\n",
    "    aoi_metadata_d['time_range'] = start_time+' to '+end_time\n",
    "    aoi_metadata_d['links'] = []\n",
    "    aoi_metadata_d[\"assets\"] = {}\n",
    "\n",
    "    \n",
    "    \n",
    "    # Dictionary for each AOI's reference metadata\n",
    "    aoi_reference_metadata_d = {}\n",
    "    aoi_reference_metadata_d['id'] = f'reference_metadata_AOI_{aoi_id}'\n",
    "    aoi_reference_metadata_d['type'] = \"Feature\"\n",
    "    aoi_reference_metadata_d['stac_version'] = \"1.0.0-beta.2\"\n",
    "    aoi_reference_metadata_d['stac_extensions'] = [\"reference_data\"]\n",
    "    aoi_reference_metadata_d['collection'] = \"706cf9e2-bd46-11eb-8529-0242ac130003\"\n",
    "    aoi_reference_metadata_d['bbox'] = bbox\n",
    "    aoi_reference_metadata_d['geometry'] = geo\n",
    "    aoi_reference_metadata_d['properties'] = {}\n",
    "    aoi_reference_metadata_d[\"properties\"]['name'] = str(aoi_id)+ \" Reference metadata\"\n",
    "    aoi_reference_metadata_d['properties']['description'] = \"The reference data consists of time series of raster masks stored in datacubes. These masks cover the buildings present in the corresponding satellite images.\"\n",
    "    aoi_reference_metadata_d['properties']['type'] = \"Raster\"\n",
    "    aoi_reference_metadata_d['properties']['task'] = \"Semantic Segmentation\"\n",
    "    aoi_reference_metadata_d['properties']['classes'] = [[{'BUILDING':255,'NOT_BUILDING':0}]]\n",
    "    aoi_reference_metadata_d['properties']['overviews'] = [str(building_percent)+\"% of this AOI is covered by buildings\"]\n",
    "    aoi_reference_metadata_d['properties']['collection_method'] = \"Building polygons were manually created by a team at SpaceNet.\"\n",
    "    aoi_reference_metadata_d['properties']['data_preprocessing'] = \"The polygons in the original reference data were converted into rasters.\"\n",
    "    aoi_reference_metadata_d['properties']['CRS'] = 'EPSG:3857'\n",
    "    aoi_reference_metadata_d['time_range'] = start_time+' to '+end_time\n",
    "    aoi_reference_metadata_d[\"properties\"]['value'] = 0\n",
    "    aoi_reference_metadata_d['properties'][\"orientation\"]= \"null\"\n",
    "    aoi_reference_metadata_d[\"properties\"]['datetime'] = start_time\n",
    "\n",
    "    aoi_reference_metadata_d['links'] = []  \n",
    "    aoi_reference_metadata_d[\"assets\"] = {}\n",
    "\n",
    "    aoi_reference_d = {}\n",
    "    aoi_reference_d['output1'] = aoi_reference_metadata_d\n",
    "    \n",
    "    # Dictionary for each AOI's feature metadata\n",
    "    aoi_feature_data_metadata_d = {}\n",
    "    aoi_feature_data_metadata_d['type'] = \"Feature\"\n",
    "    aoi_feature_data_metadata_d['stac_version'] = \"1.0.0-beta.2\"\n",
    "    aoi_feature_data_metadata_d['stac_extensions'] = [\"georeferenced_eo_datacube\",\"georeferenced_eo_data\"]\n",
    "    aoi_feature_data_metadata_d['id'] = f'predictive_feature_metadata_AOI_{aoi_id}'\n",
    "    aoi_feature_data_metadata_d['collection'] = \"706cf9e2-bd46-11eb-8529-0242ac130003\"\n",
    "    aoi_feature_data_metadata_d[\"bbox\"]= bbox\n",
    "    aoi_feature_data_metadata_d['geometry'] = geo\n",
    "    # first add data from Georeferenced data profile\n",
    "    aoi_feature_data_metadata_d[\"properties\"] = {}\n",
    "    aoi_feature_data_metadata_d[\"properties\"]['parent_identifier'] = \"706cf9e2-bd46-11eb-8529-0242ac130003\"\n",
    "    aoi_feature_data_metadata_d[\"properties\"]['identifier'] = aoi_id\n",
    "    aoi_feature_data_metadata_d[\"properties\"]['composed_of'] = \"Null\"\n",
    "    aoi_feature_data_metadata_d[\"properties\"]['linked_with'] = \"Null\"\n",
    "    aoi_feature_data_metadata_d['properties']['product_type'] = \"Time series of monthly images for one AOI. Each image shares geometry and bounding box.\"\n",
    "    aoi_feature_data_metadata_d[\"properties\"][\"native_product_format\"] = \"netcdf\"\n",
    "    aoi_feature_data_metadata_d[\"properties\"]['processing_level'] = \"Null\"\n",
    "    aoi_feature_data_metadata_d[\"properties\"]['auxiliary_dataset_filename'] = \"Null\"\n",
    "    aoi_feature_data_metadata_d[\"properties\"]['identifier'] = str(aoi_id)\n",
    "    aoi_feature_data_metadata_d[\"properties\"]['datetime'] = start_time\n",
    "    # add dimension object for datacube profile\n",
    "    aoi_feature_data_metadata_d[\"properties\"][\"dimensions\"] = {}\n",
    "    aoi_feature_data_metadata_d[\"properties\"][\"dimensions\"][\"x\"] = {\n",
    "                      \"type\": \"spatial\",\n",
    "                      \"axis\": \"x\",\n",
    "                      \"extent\": [\n",
    "                        minx,\n",
    "                        maxx\n",
    "                      ],\n",
    "                      \"reference_system\": 3857\n",
    "                    }\n",
    "    aoi_feature_data_metadata_d[\"properties\"][\"dimensions\"][\"y\"] = {\n",
    "                      \"type\": \"spatial\",\n",
    "                      \"axis\": \"y\",\n",
    "                      \"extent\": [\n",
    "                        miny,\n",
    "                        maxy\n",
    "                      ],\n",
    "                      \"reference_system\": 3857\n",
    "                    }\n",
    "    aoi_feature_data_metadata_d[\"properties\"][\"dimensions\"][\"temporal\"] = {\n",
    "                      \"type\": \"temporal\",\n",
    "                      \"extent\": [\n",
    "                        start_time,\n",
    "                        end_time\n",
    "                         ]\n",
    "                    }\n",
    "    aoi_feature_data_metadata_d[\"properties\"][\"dimensions\"][\"spectral\"] = {\n",
    "                      \"type\": \"bands\",\n",
    "                      \"values\": [\n",
    "                          \"red\",\n",
    "                          \"green\",\n",
    "                          \"blue\"\n",
    "                      ]\n",
    "    }\n",
    "    \n",
    "    aoi_feature_data_metadata_d['links'] = []\n",
    "    aoi_feature_data_metadata_d[\"assets\"] = {}\n",
    "    \n",
    "    aoi_feature_d = {}\n",
    "    aoi_feature_d['input1'] = aoi_feature_data_metadata_d\n",
    "\n",
    "\n",
    "    aoi_ref_data_asset_path_d = {'output1':dataset_path+'/'+aoi_id+'/building_masks.nc'}\n",
    "    aoi_feature_asset_path_d = {'input1':dataset_path+'/'+aoi_id+'/images_masked.nc'}\n",
    "    \n",
    "    print(new_tds_ctl_o.add_aoi_metadata(aoi_metadata_d=aoi_metadata_d,\n",
    "                                   aoi_feature_metadata_d=aoi_feature_d,\n",
    "                                   aoi_ref_data_metadata_d=aoi_reference_d,\n",
    "                                   aoi_feature_asset_path_d=aoi_feature_asset_path_d,\n",
    "                                   aoi_ref_data_asset_path_d=aoi_ref_data_asset_path_d))\n"
   ]
  },
  {
   "cell_type": "code",
   "execution_count": null,
   "id": "c88bc94d",
   "metadata": {
    "papermill": {
     "duration": null,
     "end_time": null,
     "exception": null,
     "start_time": null,
     "status": "pending"
    },
    "tags": []
   },
   "outputs": [],
   "source": [
    "import os\n",
    "\n",
    "catalog_fn_w_path = '/home/jovyan/s3/SpaceNet7/sp7_stac/TDS.json'\n",
    "\n",
    "if os.path.exists('../sp7_stac'):\n",
    "    import shutil\n",
    "    shutil.rmtree(catalog_fn_w_path.replace('/TDS.json',''))\n",
    "    \n",
    "# Write catalog to json    \n",
    "new_tds_ctl_o.write_TDS_STAC_Catalog(catalog_fn_w_path)\n"
   ]
  },
  {
   "cell_type": "markdown",
   "id": "dcbb49fc",
   "metadata": {
    "papermill": {
     "duration": null,
     "end_time": null,
     "exception": null,
     "start_time": null,
     "status": "pending"
    },
    "tags": []
   },
   "source": [
    "##### Checking AIREO compiance level"
   ]
  },
  {
   "cell_type": "code",
   "execution_count": null,
   "id": "1c7fcd3a",
   "metadata": {
    "papermill": {
     "duration": null,
     "end_time": null,
     "exception": null,
     "start_time": null,
     "status": "pending"
    },
    "tags": []
   },
   "outputs": [],
   "source": [
    "new_tds_ctl_o = aireo_lib.core.tds_stac_io.DatasetSTACCatalog.from_TDSCatalog(catalog_fn_w_path)\n",
    "new_tds_ctl_o.compute_compliance_level()"
   ]
  },
  {
   "cell_type": "markdown",
   "id": "214d7ecc",
   "metadata": {
    "papermill": {
     "duration": null,
     "end_time": null,
     "exception": null,
     "start_time": null,
     "status": "pending"
    },
    "tags": []
   },
   "source": [
    "##### Checking metadata completeness"
   ]
  },
  {
   "cell_type": "code",
   "execution_count": null,
   "id": "63cb7020",
   "metadata": {
    "papermill": {
     "duration": null,
     "end_time": null,
     "exception": null,
     "start_time": null,
     "status": "pending"
    },
    "tags": []
   },
   "outputs": [],
   "source": [
    "new_tds_ctl_o.report_metadata_completeness()"
   ]
  },
  {
   "cell_type": "markdown",
   "id": "f91fa0c6",
   "metadata": {
    "papermill": {
     "duration": null,
     "end_time": null,
     "exception": null,
     "start_time": null,
     "status": "pending"
    },
    "tags": []
   },
   "source": [
    "#### Defining AOI class"
   ]
  },
  {
   "cell_type": "code",
   "execution_count": null,
   "id": "03bb9584",
   "metadata": {
    "papermill": {
     "duration": null,
     "end_time": null,
     "exception": null,
     "start_time": null,
     "status": "pending"
    },
    "tags": []
   },
   "outputs": [],
   "source": [
    "class AOIDatasetSpaceNet:\n",
    "    \"\"\"\n",
    "    This class is to load and to store all data (input features/ reference data) for one area of interest. An area of interest is defined by its bounding box, its geometry, and its time interval. For each specific EO TDS the user needs to create a subclass of AOIDataset and implements its abstract methods.\n",
    "    \"\"\"\n",
    "\n",
    "    def __init__(self, AOI_STAC_collection, TDS_STAC_catalog):\n",
    "\n",
    "        self.AOI_STAC_collection = AOI_STAC_collection\n",
    "        self.TDS_STAC_catalog = TDS_STAC_catalog\n",
    "        self.stride = self.TDS_STAC_catalog.tds_ctl_root_info.tds_root_metadata_d['example_stride']\n",
    "        self.window_size = self.TDS_STAC_catalog.tds_ctl_root_info.tds_root_metadata_d['example_window_size']\n",
    "        for eo_feature in self.AOI_STAC_collection.aoi_all_field_metadata.features:\n",
    "            aoi_feature_asset_path_d = self.AOI_STAC_collection.aoi_all_field_metadata.features[eo_feature].data_asset_w_path\n",
    "            self.feature_var_name = 'features_'+eo_feature\n",
    "            self.feature_data = xr.open_dataarray(aoi_feature_asset_path_d)\n",
    "            \n",
    "        for reference_data in self.AOI_STAC_collection.aoi_all_field_metadata.references:\n",
    "            aoi_ref_data_asset_path_d = self.AOI_STAC_collection.aoi_all_field_metadata.references[reference_data].data_asset_w_path\n",
    "            self.ref_var_name = 'references_'+reference_data\n",
    "            self.reference_data = xr.open_dataarray(aoi_ref_data_asset_path_d)\n",
    "\n",
    "        self.timesteps = self.feature_data['date'].values\n",
    "\n",
    "        self.data = self.feature_data.to_dataset(name=self.feature_var_name)\n",
    "\n",
    "        # Add second DataArray to existing dataset\n",
    "        self.data[self.ref_var_name] = self.reference_data\n",
    "        \n",
    "        \n",
    "\n",
    "\n",
    "    def __getitem__(self, index):        \n",
    "\n",
    "        if index >= len(self):\n",
    "            sys.exit('index out of range')\n",
    "            \n",
    "        # Return examples based on window size and stride metadata\n",
    "\n",
    "        sample_image = self.feature_data[0]\n",
    "        x1_ceiling = int((sample_image.shape[1]-self.window_size)/self.stride) +1\n",
    "        y1_ceiling = int((sample_image.shape[2]-self.window_size)/self.stride) +1\n",
    "        single_image_examples = x1_ceiling*y1_ceiling\n",
    "        timestep = int(index/single_image_examples)\n",
    "        image = self.feature_data[timestep]\n",
    "        image_index = index - timestep*single_image_examples\n",
    "        x1 = self.stride*(image_index%x1_ceiling)\n",
    "        y1 = self.stride*(int(image_index/x1_ceiling))\n",
    "        x2 = x1+self.window_size\n",
    "        y2 = y1+self.window_size\n",
    "        date = self.timesteps[timestep]\n",
    "\n",
    "        image = image[:,x1:x2,y1:y2]\n",
    "        building_mask = self.reference_data[timestep,x1:x2,y1:y2]\n",
    "        \n",
    "        \n",
    "        ds = self.data.isel(date=[timestep],band=[0,1,2,3],x=slice(x1,x2),y=slice(y1,y2)).squeeze()\n",
    "        \n",
    "        return ds\n",
    "\n",
    "    # return the number of timesteps multiplied by number of examples in a single timestep \n",
    "    def __len__(self):\n",
    "        sample_image = self.feature_data[0]\n",
    "        x1_ceiling = int((sample_image.shape[1]-self.window_size)/self.stride) +1\n",
    "        y1_ceiling = int((sample_image.shape[2]-self.window_size)/self.stride) +1\n",
    "        single_image_examples = int(x1_ceiling)*int(y1_ceiling)\n",
    "        return len(self.timesteps)*single_image_examples\n",
    "\n",
    "    def get_length(self):\n",
    "        return len(self)"
   ]
  },
  {
   "cell_type": "markdown",
   "id": "dc2837c2",
   "metadata": {
    "papermill": {
     "duration": null,
     "end_time": null,
     "exception": null,
     "start_time": null,
     "status": "pending"
    },
    "tags": []
   },
   "source": [
    "## Dataset user"
   ]
  },
  {
   "cell_type": "markdown",
   "id": "01d0a206-21d3-448f-adae-e14e532242eb",
   "metadata": {
    "papermill": {
     "duration": null,
     "end_time": null,
     "exception": null,
     "start_time": null,
     "status": "pending"
    },
    "tags": []
   },
   "source": [
    "The user of the dataset can access most of what is offered by the dataset using just its STAC catalog. All he/she needs to do is create a dataset object by passing to it the path to the STAC catalog at the root level. The library automatically reads in all the metadata and loads the assets into the dataset object. Some of the functionalities that a dataset object offers through aireo_lib are:\n",
    "\n",
    "- Can access an example instance from the dataset which serves as an input-output pair for a Machine Learning algorithm.\n",
    "\n",
    "- Xarrays are used to store data and give examples.\n",
    "\n",
    "- Dataset can also return each AOI independently\n",
    "\n",
    "- Offer basic plotting functions for each variable in the dataset and AOI.\n",
    "\n",
    "- Some statistics can also be calculated at both the AOI level and whole dataset level.\n"
   ]
  },
  {
   "cell_type": "markdown",
   "id": "ca441efa",
   "metadata": {
    "papermill": {
     "duration": null,
     "end_time": null,
     "exception": null,
     "start_time": null,
     "status": "pending"
    },
    "tags": []
   },
   "source": [
    "### Parsing TDS"
   ]
  },
  {
   "cell_type": "code",
   "execution_count": null,
   "id": "9a549028",
   "metadata": {
    "papermill": {
     "duration": null,
     "end_time": null,
     "exception": null,
     "start_time": null,
     "status": "pending"
    },
    "tags": []
   },
   "outputs": [],
   "source": [
    "from aireo_lib.core import EOTrainingDataset\n",
    "\n",
    "sp7_tds_ctl_fn = Path('/home/jovyan/s3/SpaceNet7/sp7_stac/TDS.json')\n",
    "    \n",
    "eo_tds_obj = EOTrainingDataset(sp7_tds_ctl_fn, AOIDatasetSpaceNet)"
   ]
  },
  {
   "cell_type": "code",
   "execution_count": null,
   "id": "819fb2b8",
   "metadata": {
    "papermill": {
     "duration": null,
     "end_time": null,
     "exception": null,
     "start_time": null,
     "status": "pending"
    },
    "tags": []
   },
   "outputs": [],
   "source": [
    "len(eo_tds_obj)"
   ]
  },
  {
   "cell_type": "code",
   "execution_count": null,
   "id": "a8994982",
   "metadata": {
    "papermill": {
     "duration": null,
     "end_time": null,
     "exception": null,
     "start_time": null,
     "status": "pending"
    },
    "tags": []
   },
   "outputs": [],
   "source": [
    "eo_tds_obj[4204]"
   ]
  },
  {
   "cell_type": "code",
   "execution_count": null,
   "id": "4a77e1cb",
   "metadata": {
    "papermill": {
     "duration": null,
     "end_time": null,
     "exception": null,
     "start_time": null,
     "status": "pending"
    },
    "tags": []
   },
   "outputs": [],
   "source": [
    "help(eo_tds_obj.get_subset)"
   ]
  },
  {
   "cell_type": "code",
   "execution_count": null,
   "id": "befd82c9",
   "metadata": {
    "papermill": {
     "duration": null,
     "end_time": null,
     "exception": null,
     "start_time": null,
     "status": "pending"
    },
    "tags": []
   },
   "outputs": [],
   "source": [
    "eo_tds_obj.get_subset([19,1121])"
   ]
  },
  {
   "cell_type": "code",
   "execution_count": null,
   "id": "616b8765",
   "metadata": {
    "papermill": {
     "duration": null,
     "end_time": null,
     "exception": null,
     "start_time": null,
     "status": "pending"
    },
    "tags": []
   },
   "outputs": [],
   "source": [
    "aoi_objs = eo_tds_obj.get_aoi_datasets()\n",
    "len(aoi_objs[1])\n"
   ]
  },
  {
   "cell_type": "markdown",
   "id": "726dbaa5-c64d-4a17-b928-98e35b6f1f4c",
   "metadata": {
    "papermill": {
     "duration": null,
     "end_time": null,
     "exception": null,
     "start_time": null,
     "status": "pending"
    },
    "tags": []
   },
   "source": [
    "### Plotting functions in aireo_lib"
   ]
  },
  {
   "cell_type": "code",
   "execution_count": null,
   "id": "3ac0e501",
   "metadata": {
    "papermill": {
     "duration": null,
     "end_time": null,
     "exception": null,
     "start_time": null,
     "status": "pending"
    },
    "tags": []
   },
   "outputs": [],
   "source": [
    "from importlib import reload\n",
    "from aireo_lib.plotting import EOTDSPlot as aireo_viz\n",
    "\n",
    "reload(aireo_lib.plotting)\n",
    "plot_d = aireo_viz.plot_example(EOTDS=eo_tds_obj, \n",
    "                       ex_index=128, \n",
    "                       field_names=['features_input1', 'references_output1'])"
   ]
  },
  {
   "cell_type": "code",
   "execution_count": null,
   "id": "37e8f031-9505-43c4-9630-969c79040425",
   "metadata": {
    "papermill": {
     "duration": null,
     "end_time": null,
     "exception": null,
     "start_time": null,
     "status": "pending"
    },
    "tags": []
   },
   "outputs": [],
   "source": [
    "aoi_obj = eo_tds_obj.get_aoi_dataset(2)\n",
    "\n",
    "# Basic plot of all the variables in an AOI, returns a dict of matplotlib figures\n",
    "\n",
    "aoi_plots_d = aireo_viz.plot_aoi_dataset(aoi_obj)\n",
    "aoi_plots_d"
   ]
  },
  {
   "cell_type": "code",
   "execution_count": null,
   "id": "6f87bfcd",
   "metadata": {
    "papermill": {
     "duration": null,
     "end_time": null,
     "exception": null,
     "start_time": null,
     "status": "pending"
    },
    "tags": []
   },
   "outputs": [],
   "source": [
    "EOTDSPlot.map_aois(eo_tds_obj)"
   ]
  },
  {
   "cell_type": "markdown",
   "id": "251758a6-c549-41ff-80d2-d6b478c5b9dc",
   "metadata": {
    "papermill": {
     "duration": null,
     "end_time": null,
     "exception": null,
     "start_time": null,
     "status": "pending"
    },
    "tags": []
   },
   "source": [
    "### Statistics functions in aireo_lib\n"
   ]
  },
  {
   "cell_type": "code",
   "execution_count": null,
   "id": "41ced555",
   "metadata": {
    "papermill": {
     "duration": null,
     "end_time": null,
     "exception": null,
     "start_time": null,
     "status": "pending"
    },
    "tags": []
   },
   "outputs": [],
   "source": [
    "import aireo_lib.statistics\n",
    "from importlib import reload\n",
    "reload(aireo_lib.statistics)"
   ]
  },
  {
   "cell_type": "code",
   "execution_count": null,
   "id": "0aa49966",
   "metadata": {
    "papermill": {
     "duration": null,
     "end_time": null,
     "exception": null,
     "start_time": null,
     "status": "pending"
    },
    "tags": []
   },
   "outputs": [],
   "source": [
    "aireo_lib.statistics.EOTDSStatistics.reference_data_statistics(eo_tds_obj)"
   ]
  },
  {
   "cell_type": "code",
   "execution_count": null,
   "id": "b53a9126",
   "metadata": {
    "papermill": {
     "duration": null,
     "end_time": null,
     "exception": null,
     "start_time": null,
     "status": "pending"
    },
    "tags": []
   },
   "outputs": [],
   "source": [
    "aireo_lib.statistics.EOTDSStatistics.metadata_statistics(eo_tds_obj)"
   ]
  },
  {
   "cell_type": "code",
   "execution_count": null,
   "id": "e9721282",
   "metadata": {
    "papermill": {
     "duration": null,
     "end_time": null,
     "exception": null,
     "start_time": null,
     "status": "pending"
    },
    "tags": []
   },
   "outputs": [],
   "source": [
    "aireo_lib.statistics.EOTDSStatistics.dataset_statistics(eo_tds_obj)"
   ]
  },
  {
   "cell_type": "code",
   "execution_count": null,
   "id": "eb0105dc-8137-477a-a16a-103472ffd8d5",
   "metadata": {
    "papermill": {
     "duration": null,
     "end_time": null,
     "exception": null,
     "start_time": null,
     "status": "pending"
    },
    "tags": []
   },
   "outputs": [],
   "source": []
  }
 ],
 "metadata": {
  "kernelspec": {
   "display_name": "EDC-GPU 0.24.5 (Python3)",
   "language": "python",
   "name": "edc-gpu"
  },
  "language_info": {
   "codemirror_mode": {
    "name": "ipython",
    "version": 3
   },
   "file_extension": ".py",
   "mimetype": "text/x-python",
   "name": "python",
   "nbconvert_exporter": "python",
   "pygments_lexer": "ipython3",
   "version": "3.8.10"
  },
  "papermill": {
   "default_parameters": {},
   "duration": 2.207243,
   "end_time": "2021-06-04T10:26:56.436591",
   "environment_variables": {},
   "exception": true,
   "input_path": "/tmp/tmp0spf582u",
   "output_path": "/tmp/notebook_output.ipynb",
   "parameters": {},
   "start_time": "2021-06-04T10:26:54.229348",
   "version": "2.3.3"
  },
  "properties": {
   "authors": [
    {
     "id": "a7f80638-e89a-4349-9cc7-7ed6ec2d79b7",
     "name": "manuel.fernandez@nuigalway.ie"
    }
   ],
   "description": "Use of aireo_lib library as part of AIREO project",
   "id": "35278937-3475-4188-94ba-9177075b5857",
   "license": null,
   "name": "AIREO pilot dataset - SpaceNet7",
   "requirements": [
    "eurodatacube"
   ],
   "tags": [
    "Analysis-Ready Data",
    "EO Data",
    "Getting started",
    "Jupyter",
    "Machine Learning",
    "Sentinel Data",
    "Sentinel Hub"
   ],
   "tosAgree": true,
   "type": "Jupyter Notebook",
   "version": "0.1"
  }
 },
 "nbformat": 4,
 "nbformat_minor": 5
}