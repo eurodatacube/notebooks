{
 "cells": [
  {
   "cell_type": "code",
   "execution_count": 1,
   "metadata": {
    "execution": {
     "iopub.execute_input": "2020-06-23T09:06:33.193670Z",
     "iopub.status.busy": "2020-06-23T09:06:33.192983Z",
     "iopub.status.idle": "2020-06-23T09:06:33.277909Z",
     "shell.execute_reply": "2020-06-23T09:06:33.277342Z"
    },
    "papermill": {
     "duration": 0.093913,
     "end_time": "2020-06-23T09:06:33.278015",
     "exception": false,
     "start_time": "2020-06-23T09:06:33.184102",
     "status": "completed"
    },
    "tags": []
   },
   "outputs": [
    {
     "name": "stdout",
     "output_type": "stream",
     "text": [
      "Notebook is compatible\n"
     ]
    }
   ],
   "source": [
    "from edc import check_compatibility\n",
    "check_compatibility(\"v0.18.4\")"
   ]
  },
  {
   "cell_type": "code",
   "execution_count": 2,
   "metadata": {
    "execution": {
     "iopub.execute_input": "2020-06-23T09:06:33.293084Z",
     "iopub.status.busy": "2020-06-23T09:06:33.292541Z",
     "iopub.status.idle": "2020-06-23T09:06:33.301175Z",
     "shell.execute_reply": "2020-06-23T09:06:33.301552Z"
    },
    "papermill": {
     "duration": 0.018411,
     "end_time": "2020-06-23T09:06:33.301655",
     "exception": false,
     "start_time": "2020-06-23T09:06:33.283244",
     "status": "completed"
    },
    "tags": []
   },
   "outputs": [
    {
     "data": {
      "text/markdown": [
       "API credentials have automatically been injected for your active subscriptions.  \n",
       "The following environment variables are now available:\n",
       "* `SH_INSTANCE_ID`\n",
       "* `SH_CLIENT_ID`\n",
       "* `SH_CLIENT_SECRET`\n",
       "* `SH_CLIENT_NAME`\n",
       "* `GEODB_API_SERVER_URL`\n",
       "* `GEODB_AUTH_CLIENT_ID`\n",
       "* `GEODB_AUTH_AUD`\n",
       "* `GEODB_AUTH_CLIENT_SECRET`\n",
       "* `GEODB_API_SERVER_PORT`\n",
       "* `GEODB_AUTH_DOMAIN`\n",
       "\n",
       "------\n"
      ],
      "text/plain": [
       "<IPython.core.display.Markdown object>"
      ]
     },
     "metadata": {},
     "output_type": "display_data"
    }
   ],
   "source": [
    "from edc import setup_environment_variables\n",
    "setup_environment_variables()"
   ]
  },
  {
   "cell_type": "code",
   "execution_count": 3,
   "metadata": {
    "execution": {
     "iopub.execute_input": "2020-06-23T09:06:33.324246Z",
     "iopub.status.busy": "2020-06-23T09:06:33.323692Z",
     "iopub.status.idle": "2020-06-23T09:06:33.679626Z",
     "shell.execute_reply": "2020-06-23T09:06:33.679041Z"
    },
    "papermill": {
     "duration": 0.371922,
     "end_time": "2020-06-23T09:06:33.679744",
     "exception": false,
     "start_time": "2020-06-23T09:06:33.307822",
     "status": "completed"
    },
    "tags": []
   },
   "outputs": [],
   "source": [
    "%matplotlib inline"
   ]
  },
  {
   "cell_type": "code",
   "execution_count": 4,
   "metadata": {
    "execution": {
     "iopub.execute_input": "2020-06-23T09:06:33.691171Z",
     "iopub.status.busy": "2020-06-23T09:06:33.690609Z",
     "iopub.status.idle": "2020-06-23T09:06:33.692581Z",
     "shell.execute_reply": "2020-06-23T09:06:33.692010Z"
    },
    "papermill": {
     "duration": 0.008619,
     "end_time": "2020-06-23T09:06:33.692674",
     "exception": false,
     "start_time": "2020-06-23T09:06:33.684055",
     "status": "completed"
    },
    "tags": [
     "parameters"
    ]
   },
   "outputs": [],
   "source": [
    "days = 6"
   ]
  },
  {
   "cell_type": "code",
   "execution_count": 5,
   "metadata": {
    "execution": {
     "iopub.execute_input": "2020-06-23T09:06:33.703980Z",
     "iopub.status.busy": "2020-06-23T09:06:33.703423Z",
     "iopub.status.idle": "2020-06-23T09:06:33.705902Z",
     "shell.execute_reply": "2020-06-23T09:06:33.705373Z"
    },
    "papermill": {
     "duration": 0.009114,
     "end_time": "2020-06-23T09:06:33.705990",
     "exception": false,
     "start_time": "2020-06-23T09:06:33.696876",
     "status": "completed"
    },
    "tags": []
   },
   "outputs": [
    {
     "data": {
      "text/plain": [
       "633825300114114700748351602688"
      ]
     },
     "execution_count": 5,
     "metadata": {},
     "output_type": "execute_result"
    }
   ],
   "source": [
    "2 ** 99"
   ]
  },
  {
   "cell_type": "code",
   "execution_count": 6,
   "metadata": {
    "execution": {
     "iopub.execute_input": "2020-06-23T09:06:33.721434Z",
     "iopub.status.busy": "2020-06-23T09:06:33.720880Z",
     "iopub.status.idle": "2020-06-23T09:06:33.723052Z",
     "shell.execute_reply": "2020-06-23T09:06:33.723442Z"
    },
    "papermill": {
     "duration": 0.013093,
     "end_time": "2020-06-23T09:06:33.723536",
     "exception": false,
     "start_time": "2020-06-23T09:06:33.710443",
     "status": "completed"
    },
    "tags": []
   },
   "outputs": [
    {
     "data": {
      "text/plain": [
       "environ{'EDC_DEV_KUBEAPPS_MONGODB_PORT_27017_TCP': 'tcp://10.100.100.66:27017',\n",
       "        'LC_ALL': 'en_US.UTF-8',\n",
       "        'PROXY_API_PORT': 'tcp://10.100.59.208:8001',\n",
       "        'EWPS_1F23B71C_FE41_4FD7_8706_8EE207B283E4_PORT': 'tcp://10.100.252.135:80',\n",
       "        'SYNC_API_PORT': 'tcp://10.100.116.166:80',\n",
       "        'PROXY_API_PORT_8001_TCP_PORT': '8001',\n",
       "        'EDC_CHARTS_PORT_8080_TCP': 'tcp://10.100.26.4:8080',\n",
       "        'EDC_DEV_KUBEAPPS_MONGODB_SERVICE_PORT': '27017',\n",
       "        'LANG': 'en_US.UTF-8',\n",
       "        'CONTRIBUTION_HANDLER_SERVICE_HOST': '10.100.204.130',\n",
       "        'HUB_PORT_8081_TCP_PROTO': 'tcp',\n",
       "        'HUB_SERVICE_HOST': '10.100.164.232',\n",
       "        'HOSTNAME': 'pending-nb-200623-0906-test2-ipynb-2z7tl',\n",
       "        'NBVIEWER_SERVICE_PORT_HTTP': '8080',\n",
       "        'EDC_CHARTS_SERVICE_HOST': '10.100.26.4',\n",
       "        'EDC_DEV_KUBEAPPS_INTERNAL_KUBEOPS_PORT_8080_TCP_ADDR': '10.100.73.99',\n",
       "        'NB_UID': '1000',\n",
       "        'NBVIEWER_PORT_8080_TCP_PROTO': 'tcp',\n",
       "        'EDC_DEV_KUBEAPPS_INTERNAL_ASSETSVC_PORT_8080_TCP_ADDR': '10.100.226.204',\n",
       "        'USER_RESOURCE_MONITOR_SERVICE_PORT_HTTP': '8080',\n",
       "        'EDC_DEV_KUBEAPPS_INTERNAL_KUBEOPS_PORT': 'tcp://10.100.73.99:8080',\n",
       "        'SYNC_API_PORT_80_TCP_ADDR': '10.100.116.166',\n",
       "        'EDC_DEV_KUBEAPPS_INTERNAL_DASHBOARD_PORT_8080_TCP': 'tcp://10.100.3.7:8080',\n",
       "        'PROXY_PUBLIC_PORT_80_TCP_ADDR': '10.100.117.40',\n",
       "        'PROXY_PUBLIC_PORT_443_TCP_ADDR': '10.100.117.40',\n",
       "        'PROXY_PUBLIC_PORT_80_TCP_PORT': '80',\n",
       "        'SYNC_API_PORT_80_TCP': 'tcp://10.100.116.166:80',\n",
       "        'EDC_CHARTS_PORT_8080_TCP_PORT': '8080',\n",
       "        'EDC_CHARTS_PORT_8080_TCP_PROTO': 'tcp',\n",
       "        'CONDA_DIR': '/opt/conda',\n",
       "        'CONDA_VERSION': '4.8.2',\n",
       "        'EDC_DEV_KUBEAPPS_SERVICE_PORT_HTTP': '80',\n",
       "        'CONTRIBUTION_HANDLER_PORT_8080_TCP_PORT': '8080',\n",
       "        'GITHUB_REPO': 'eurodatacube/notebooks',\n",
       "        'PROXY_PUBLIC_SERVICE_PORT': '443',\n",
       "        'NBVIEWER_PORT_8080_TCP': 'tcp://10.100.66.195:8080',\n",
       "        'EDC_DEV_KUBEAPPS_INTERNAL_ASSETSVC_PORT_8080_TCP_PORT': '8080',\n",
       "        'KUBERNETES_PORT_443_TCP_PROTO': 'tcp',\n",
       "        'EDC_DEV_KUBEAPPS_PORT_80_TCP': 'tcp://10.100.240.187:80',\n",
       "        'NBVIEWER_PORT_8080_TCP_ADDR': '10.100.66.195',\n",
       "        'PROXY_PUBLIC_SERVICE_HOST': '10.100.117.40',\n",
       "        'KUBERNETES_PORT_443_TCP_ADDR': '10.100.0.1',\n",
       "        'EDC_DEV_KUBEAPPS_INTERNAL_ASSETSVC_PORT_8080_TCP_PROTO': 'tcp',\n",
       "        'HUB_PORT_8081_TCP': 'tcp://10.100.164.232:8081',\n",
       "        'NBVIEWER_PORT': 'tcp://10.100.66.195:8080',\n",
       "        'USER_RESOURCE_MONITOR_PORT_8080_TCP_PROTO': 'tcp',\n",
       "        'EDC_DEV_KUBEAPPS_INTERNAL_KUBEOPS_SERVICE_PORT': '8080',\n",
       "        'SYNC_API_SERVICE_HOST': '10.100.116.166',\n",
       "        'USER_RESOURCE_MONITOR_PORT': 'tcp://10.100.87.187:8080',\n",
       "        'USER_RESOURCE_MONITOR_SERVICE_PORT': '8080',\n",
       "        'PROXY_PUBLIC_PORT_443_TCP': 'tcp://10.100.117.40:443',\n",
       "        'EDC_DEV_KUBEAPPS_MONGODB_PORT_27017_TCP_PROTO': 'tcp',\n",
       "        'PROXY_PUBLIC_SERVICE_PORT_HTTP': '80',\n",
       "        'KUBERNETES_PORT': 'tcp://10.100.0.1:443',\n",
       "        'HUB_PORT': 'tcp://10.100.164.232:8081',\n",
       "        'PROXY_PUBLIC_PORT_80_TCP': 'tcp://10.100.117.40:80',\n",
       "        'EDC_DEV_KUBEAPPS_MONGODB_SERVICE_HOST': '10.100.100.66',\n",
       "        'CONTRIBUTION_HANDLER_SERVICE_PORT': '8080',\n",
       "        'EDC_DEV_KUBEAPPS_INTERNAL_KUBEOPS_PORT_8080_TCP_PORT': '8080',\n",
       "        'NOTEBOOK_EXECUTION_TIMEOUT_SECONDS': '600',\n",
       "        'PWD': '/home/jovyan',\n",
       "        'HOME': '/home/jovyan',\n",
       "        'MINICONDA_MD5': '87e77f097f6ebb5127c77662dfc3165e',\n",
       "        'PROXY_API_SERVICE_HOST': '10.100.59.208',\n",
       "        'EDC_DEV_KUBEAPPS_INTERNAL_KUBEOPS_SERVICE_HOST': '10.100.73.99',\n",
       "        'CONTRIBUTION_HANDLER_PORT': 'tcp://10.100.204.130:8080',\n",
       "        'EDC_DEV_KUBEAPPS_MONGODB_SERVICE_PORT_MONGODB': '27017',\n",
       "        'EDC_DEV_KUBEAPPS_INTERNAL_DASHBOARD_SERVICE_PORT': '8080',\n",
       "        'EDC_DEV_KUBEAPPS_PORT': 'tcp://10.100.240.187:80',\n",
       "        'NBVIEWER_SERVICE_PORT': '8080',\n",
       "        'JOB_NAME': 'pending-nb-200623-0906-test2-ipynb',\n",
       "        'EDC_DEV_KUBEAPPS_INTERNAL_ASSETSVC_PORT_8080_TCP': 'tcp://10.100.226.204:8080',\n",
       "        'KUBERNETES_SERVICE_PORT_HTTPS': '443',\n",
       "        'CONTRIBUTION_HANDLER_SERVICE_PORT_HTTP': '8080',\n",
       "        'PROXY_API_PORT_8001_TCP': 'tcp://10.100.59.208:8001',\n",
       "        'PROXY_API_SERVICE_PORT': '8001',\n",
       "        'DEBIAN_FRONTEND': 'noninteractive',\n",
       "        'GITHUB_TOKEN': 'ccb683dea5808b27fd7efd8c3ce2e786b69f3953',\n",
       "        'PROXY_API_PORT_8001_TCP_ADDR': '10.100.59.208',\n",
       "        'PROXY_PUBLIC_PORT': 'tcp://10.100.117.40:443',\n",
       "        'KUBERNETES_PORT_443_TCP_PORT': '443',\n",
       "        'EDC_DEV_KUBEAPPS_PORT_80_TCP_ADDR': '10.100.240.187',\n",
       "        'NBVIEWER_PORT_8080_TCP_PORT': '8080',\n",
       "        'EDC_DEV_KUBEAPPS_INTERNAL_DASHBOARD_PORT_8080_TCP_PROTO': 'tcp',\n",
       "        'USER_RESOURCE_MONITOR_SERVICE_HOST': '10.100.87.187',\n",
       "        'NBVIEWER_SERVICE_HOST': '10.100.66.195',\n",
       "        'NOTEBOOK_PATH': 'notebooks/contributions/test2.ipynb',\n",
       "        'NB_USER': 'jovyan',\n",
       "        'HUB_PORT_8081_TCP_PORT': '8081',\n",
       "        'EDC_DEV_KUBEAPPS_INTERNAL_ASSETSVC_SERVICE_PORT_HTTP': '8080',\n",
       "        'KUBERNETES_PORT_443_TCP': 'tcp://10.100.0.1:443',\n",
       "        'EDC_DEV_KUBEAPPS_MONGODB_PORT_27017_TCP_ADDR': '10.100.100.66',\n",
       "        'PROXY_API_PORT_8001_TCP_PROTO': 'tcp',\n",
       "        'HUB_PORT_8081_TCP_ADDR': '10.100.164.232',\n",
       "        'CONTRIBUTION_HANDLER_PORT_8080_TCP_ADDR': '10.100.204.130',\n",
       "        'EWPS_1F23B71C_FE41_4FD7_8706_8EE207B283E4_PORT_80_TCP_PORT': '80',\n",
       "        'EDC_DEV_KUBEAPPS_INTERNAL_DASHBOARD_PORT': 'tcp://10.100.3.7:8080',\n",
       "        'EDC_DEV_KUBEAPPS_INTERNAL_ASSETSVC_SERVICE_PORT': '8080',\n",
       "        'EDC_DEV_KUBEAPPS_INTERNAL_DASHBOARD_SERVICE_HOST': '10.100.3.7',\n",
       "        'SYNC_API_SERVICE_PORT_HTTP': '80',\n",
       "        'CONTRIBUTION_HANDLER_PORT_8080_TCP': 'tcp://10.100.204.130:8080',\n",
       "        'SHELL': '/bin/bash',\n",
       "        'EDC_DEV_KUBEAPPS_SERVICE_PORT': '80',\n",
       "        'EDC_DEV_KUBEAPPS_INTERNAL_ASSETSVC_SERVICE_HOST': '10.100.226.204',\n",
       "        'EDC_DEV_KUBEAPPS_MONGODB_PORT_27017_TCP_PORT': '27017',\n",
       "        'EDC_DEV_KUBEAPPS_INTERNAL_ASSETSVC_PORT': 'tcp://10.100.226.204:8080',\n",
       "        'EDC_DEV_KUBEAPPS_INTERNAL_DASHBOARD_PORT_8080_TCP_PORT': '8080',\n",
       "        'JUPYTER_IMAGE': 'eurodatacube/jupyter-user:0.18.4',\n",
       "        'EDC_DEV_KUBEAPPS_INTERNAL_DASHBOARD_PORT_8080_TCP_ADDR': '10.100.3.7',\n",
       "        'EDC_DEV_KUBEAPPS_INTERNAL_KUBEOPS_SERVICE_PORT_HTTP': '8080',\n",
       "        'EDC_DEV_KUBEAPPS_PORT_80_TCP_PORT': '80',\n",
       "        'EDC_CHARTS_PORT': 'tcp://10.100.26.4:8080',\n",
       "        'EWPS_1F23B71C_FE41_4FD7_8706_8EE207B283E4_SERVICE_HOST': '10.100.252.135',\n",
       "        'HUB_SERVICE_PORT': '8081',\n",
       "        'EDC_DEV_KUBEAPPS_SERVICE_HOST': '10.100.240.187',\n",
       "        'EWPS_1F23B71C_FE41_4FD7_8706_8EE207B283E4_PORT_80_TCP_ADDR': '10.100.252.135',\n",
       "        'EWPS_1F23B71C_FE41_4FD7_8706_8EE207B283E4_PORT_80_TCP_PROTO': 'tcp',\n",
       "        'SHLVL': '2',\n",
       "        'PROXY_PUBLIC_PORT_80_TCP_PROTO': 'tcp',\n",
       "        'LANGUAGE': 'en_US.UTF-8',\n",
       "        'USER_RESOURCE_MONITOR_PORT_8080_TCP': 'tcp://10.100.87.187:8080',\n",
       "        'SYNC_API_PORT_80_TCP_PROTO': 'tcp',\n",
       "        'EDC_DEV_KUBEAPPS_INTERNAL_KUBEOPS_PORT_8080_TCP_PROTO': 'tcp',\n",
       "        'EWPS_1F23B71C_FE41_4FD7_8706_8EE207B283E4_SERVICE_PORT_HTTP': '80',\n",
       "        'KUBERNETES_SERVICE_PORT': '443',\n",
       "        'EDC_CHARTS_SERVICE_PORT': '8080',\n",
       "        'PROXY_PUBLIC_PORT_443_TCP_PORT': '443',\n",
       "        'XDG_CACHE_HOME': '/home/jovyan/.cache/',\n",
       "        'PROXY_PUBLIC_PORT_443_TCP_PROTO': 'tcp',\n",
       "        'EDC_DEV_KUBEAPPS_MONGODB_PORT': 'tcp://10.100.100.66:27017',\n",
       "        'NB_GID': '100',\n",
       "        'EDC_DEV_KUBEAPPS_INTERNAL_DASHBOARD_SERVICE_PORT_HTTP': '8080',\n",
       "        'EDC_CHARTS_SERVICE_PORT_HTTP': '8080',\n",
       "        'EDC_CHARTS_PORT_8080_TCP_ADDR': '10.100.26.4',\n",
       "        'EWPS_1F23B71C_FE41_4FD7_8706_8EE207B283E4_SERVICE_PORT': '80',\n",
       "        'PROXY_PUBLIC_SERVICE_PORT_HTTPS': '443',\n",
       "        'PATH': '/opt/conda/bin:/usr/local/sbin:/usr/local/bin:/usr/sbin:/usr/bin:/sbin:/bin',\n",
       "        'EDC_DEV_KUBEAPPS_INTERNAL_KUBEOPS_PORT_8080_TCP': 'tcp://10.100.73.99:8080',\n",
       "        'EDC_DEV_KUBEAPPS_PORT_80_TCP_PROTO': 'tcp',\n",
       "        'CONTRIBUTION_HANDLER_PORT_8080_TCP_PROTO': 'tcp',\n",
       "        'KUBERNETES_SERVICE_HOST': '10.100.0.1',\n",
       "        'USER_RESOURCE_MONITOR_PORT_8080_TCP_PORT': '8080',\n",
       "        'SYNC_API_PORT_80_TCP_PORT': '80',\n",
       "        'PULL_REQUEST_NUMBER': '66',\n",
       "        'MINICONDA_VERSION': '4.8.2',\n",
       "        'USER_RESOURCE_MONITOR_PORT_8080_TCP_ADDR': '10.100.87.187',\n",
       "        'SYNC_API_SERVICE_PORT': '80',\n",
       "        'EWPS_1F23B71C_FE41_4FD7_8706_8EE207B283E4_PORT_80_TCP': 'tcp://10.100.252.135:80',\n",
       "        '_': '/opt/conda/bin/python3',\n",
       "        'JPY_PARENT_PID': '25',\n",
       "        'TERM': 'xterm-color',\n",
       "        'CLICOLOR': '1',\n",
       "        'PAGER': 'cat',\n",
       "        'GIT_PAGER': 'cat',\n",
       "        'MPLBACKEND': 'module://ipykernel.pylab.backend_inline',\n",
       "        'SH_INSTANCE_ID': 'dcecc28b-8e7b-453a-acf2-c1e94afc4ca1',\n",
       "        'SH_CLIENT_ID': 'bd355194-9be7-461f-b473-c133cdc7aa0f',\n",
       "        'SH_CLIENT_SECRET': '2985c6a9-2728-42bc-b',\n",
       "        'SH_CLIENT_NAME': 'eurodatacube-default',\n",
       "        'GEODB_API_SERVER_URL': 'https://3.120.53.215.nip.io',\n",
       "        'GEODB_AUTH_CLIENT_ID': 'OenjebLfEpL291iOpvqMC7fzbZvjmuM7',\n",
       "        'GEODB_AUTH_AUD': 'https://geodb.brockmann-consult.de',\n",
       "        'GEODB_AUTH_CLIENT_SECRET': 'iZKbyyi0fKnXbHGdJs2LBvuhQ7itAGrTFSRbqiMWflkzXYssxHHuMBkrKdjgYG5L',\n",
       "        'GEODB_API_SERVER_PORT': '443',\n",
       "        'GEODB_AUTH_DOMAIN': 'https://edc.eu.auth0.com'}"
      ]
     },
     "execution_count": 6,
     "metadata": {},
     "output_type": "execute_result"
    }
   ],
   "source": [
    "import os\n",
    "os.environ"
   ]
  },
  {
   "cell_type": "code",
   "execution_count": null,
   "metadata": {
    "papermill": {
     "duration": 0.004981,
     "end_time": "2020-06-23T09:06:33.733547",
     "exception": false,
     "start_time": "2020-06-23T09:06:33.728566",
     "status": "completed"
    },
    "tags": []
   },
   "outputs": [],
   "source": []
  }
 ],
 "metadata": {
  "kernelspec": {
   "display_name": "Python 3",
   "language": "python",
   "name": "python3"
  },
  "language_info": {
   "codemirror_mode": {
    "name": "ipython",
    "version": 3
   },
   "file_extension": ".py",
   "mimetype": "text/x-python",
   "name": "python",
   "nbconvert_exporter": "python",
   "pygments_lexer": "ipython3",
   "version": "3.7.6"
  },
  "papermill": {
   "duration": 1.454135,
   "end_time": "2020-06-23T09:06:33.847053",
   "environment_variables": {},
   "exception": null,
   "input_path": "/tmp/tmpy8jd778x",
   "output_path": "/tmp/notebook_output.ipynb",
   "parameters": {},
   "start_time": "2020-06-23T09:06:32.392918",
   "version": "2.1.0"
  },
  "properties": {
   "authors": [
    {
     "id": "0c0a0ef4-8d0d-4e70-b002-033c7cbb41fd",
     "name": "mallinger.bernhard@eox.at"
    }
   ],
   "description": "asdf",
   "id": "1f709230-830a-4df2-83ed-1528cb204081",
   "license": null,
   "name": "asdf",
   "requirements": [
    "eurodatacube-geodb",
    "eurodatacube"
   ],
   "tags": [
    "Analysis-Ready Data"
   ],
   "tosAgree": true,
   "type": "Jupyter Notebook",
   "version": "1"
  }
 },
 "nbformat": 4,
 "nbformat_minor": 4
}