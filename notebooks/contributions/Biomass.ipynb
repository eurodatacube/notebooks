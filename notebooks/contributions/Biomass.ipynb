{
 "cells": [
  {
   "cell_type": "markdown",
   "id": "26cff353",
   "metadata": {
    "tags": [
     "papermill-error-cell-tag"
    ]
   },
   "source": [
    "<span style=\"color:red; font-family:Helvetica Neue, Helvetica, Arial, sans-serif; font-size:2em;\">An Exception was encountered at '<a href=\"#papermill-error-cell\">In [2]</a>'.</span>"
   ]
  },
  {
   "cell_type": "code",
   "execution_count": 1,
   "id": "592261d2",
   "metadata": {
    "execution": {
     "iopub.execute_input": "2021-05-12T14:28:07.248210Z",
     "iopub.status.busy": "2021-05-12T14:28:07.247484Z",
     "iopub.status.idle": "2021-05-12T14:28:07.317123Z",
     "shell.execute_reply": "2021-05-12T14:28:07.316490Z"
    },
    "papermill": {
     "duration": 0.117627,
     "end_time": "2021-05-12T14:28:07.317279",
     "exception": false,
     "start_time": "2021-05-12T14:28:07.199652",
     "status": "completed"
    },
    "tags": []
   },
   "outputs": [
    {
     "data": {
      "text/html": [
       "<script type=\"text/javascript\">\n",
       "        function toggle(id) {\n",
       "            el = document.getElementById(id);\n",
       "            el.style.display = el.style.display === \"none\" ? \"block\" : \"none\";\n",
       "        }\n",
       "    </script>"
      ],
      "text/plain": [
       "<IPython.core.display.HTML object>"
      ]
     },
     "metadata": {},
     "output_type": "display_data"
    },
    {
     "data": {
      "text/html": [
       "This notebook is compatible with this base image version (user-0.24.5)."
      ],
      "text/plain": [
       "<IPython.core.display.HTML object>"
      ]
     },
     "metadata": {},
     "output_type": "display_data"
    },
    {
     "data": {
      "text/markdown": [
       "\n",
       "\n",
       "---------\n",
       "\n",
       "The following environment variables are available:\n",
       "\n",
       "* `SH_CLIENT_ID`, `SH_INSTANCE_ID`, `SH_CLIENT_NAME`, `SH_CLIENT_SECRET`\n"
      ],
      "text/plain": [
       "<IPython.core.display.Markdown object>"
      ]
     },
     "metadata": {},
     "output_type": "display_data"
    }
   ],
   "source": [
    "from edc import check_compatibility\n",
    "check_compatibility(\"user-0.24.5\", dependencies=[\"SH\"])"
   ]
  },
  {
   "cell_type": "markdown",
   "id": "c716833f",
   "metadata": {
    "papermill": {
     "duration": 0.037715,
     "end_time": "2021-05-12T14:28:07.393979",
     "exception": false,
     "start_time": "2021-05-12T14:28:07.356264",
     "status": "completed"
    },
    "tags": []
   },
   "source": [
    "# Biomass dataset"
   ]
  },
  {
   "cell_type": "markdown",
   "id": "8a53aa91",
   "metadata": {
    "papermill": {
     "duration": 0.037762,
     "end_time": "2021-05-12T14:28:07.470268",
     "exception": false,
     "start_time": "2021-05-12T14:28:07.432506",
     "status": "completed"
    },
    "tags": []
   },
   "source": [
    "## Introduction"
   ]
  },
  {
   "cell_type": "markdown",
   "id": "6d02ad4e",
   "metadata": {
    "papermill": {
     "duration": 0.037502,
     "end_time": "2021-05-12T14:28:07.547099",
     "exception": false,
     "start_time": "2021-05-12T14:28:07.509597",
     "status": "completed"
    },
    "tags": []
   },
   "source": [
    "Forest Observation System [FOS](https://forest-observation-system.net) is an international cooperation aiming to establish an in-situ forest biomass database in order to support Earth Observation with reliable, up to date, representative and comparable data for validation (Schepaschenko, D. et al. 2019)."
   ]
  },
  {
   "cell_type": "markdown",
   "id": "b27fe8c8",
   "metadata": {
    "papermill": {
     "duration": 0.038592,
     "end_time": "2021-05-12T14:28:07.623586",
     "exception": false,
     "start_time": "2021-05-12T14:28:07.584994",
     "status": "completed"
    },
    "tags": []
   },
   "source": [
    "## Content & Description"
   ]
  },
  {
   "cell_type": "markdown",
   "id": "3713b084",
   "metadata": {
    "papermill": {
     "duration": 0.037694,
     "end_time": "2021-05-12T14:28:07.698968",
     "exception": false,
     "start_time": "2021-05-12T14:28:07.661274",
     "status": "completed"
    },
    "tags": []
   },
   "source": [
    "The Biomass dataset is an excel (.xlsx) package containing above-ground biomass estimation of above 260 forest plots divided in 1645 entries and scattered around the world. Majority of the plots have a size of 50x50 m. The storage of coordinates within the excel file makes possible to easily convert the information to GIS formats."
   ]
  },
  {
   "cell_type": "markdown",
   "id": "8ab7ace0",
   "metadata": {
    "papermill": {
     "duration": 0.037833,
     "end_time": "2021-05-12T14:28:07.774966",
     "exception": false,
     "start_time": "2021-05-12T14:28:07.737133",
     "status": "completed"
    },
    "tags": []
   },
   "source": [
    "### Description of the dataset:"
   ]
  },
  {
   "cell_type": "markdown",
   "id": "f6dbecbc",
   "metadata": {
    "papermill": {
     "duration": 0.039608,
     "end_time": "2021-05-12T14:28:07.852259",
     "exception": false,
     "start_time": "2021-05-12T14:28:07.812651",
     "status": "completed"
    },
    "tags": []
   },
   "source": [
    "The dataset has the following content on it:"
   ]
  },
  {
   "cell_type": "markdown",
   "id": "1b3df937",
   "metadata": {
    "tags": [
     "papermill-error-cell-tag"
    ]
   },
   "source": [
    "<span id=\"papermill-error-cell\" style=\"color:red; font-family:Helvetica Neue, Helvetica, Arial, sans-serif; font-size:2em;\">Execution using papermill encountered an exception here and stopped:</span>"
   ]
  },
  {
   "cell_type": "code",
   "execution_count": 2,
   "id": "4ccb7436",
   "metadata": {
    "execution": {
     "iopub.execute_input": "2021-05-12T14:28:07.933203Z",
     "iopub.status.busy": "2021-05-12T14:28:07.932466Z",
     "iopub.status.idle": "2021-05-12T14:28:08.739523Z",
     "shell.execute_reply": "2021-05-12T14:28:08.738673Z"
    },
    "papermill": {
     "duration": 0.84921,
     "end_time": "2021-05-12T14:28:08.739789",
     "exception": true,
     "start_time": "2021-05-12T14:28:07.890579",
     "status": "failed"
    },
    "scrolled": true,
    "tags": []
   },
   "outputs": [
    {
     "ename": "ModuleNotFoundError",
     "evalue": "No module named 'folium'",
     "output_type": "error",
     "traceback": [
      "\u001b[0;31m---------------------------------------------------------------------------\u001b[0m",
      "\u001b[0;31mModuleNotFoundError\u001b[0m                       Traceback (most recent call last)",
      "\u001b[0;32m<ipython-input-2-4955d7a53d3a>\u001b[0m in \u001b[0;36m<module>\u001b[0;34m\u001b[0m\n\u001b[1;32m      1\u001b[0m \u001b[0;31m#import pandas and geopandas, folium and branca\u001b[0m\u001b[0;34m\u001b[0m\u001b[0;34m\u001b[0m\u001b[0;34m\u001b[0m\u001b[0m\n\u001b[1;32m      2\u001b[0m \u001b[0;32mimport\u001b[0m \u001b[0mbranca\u001b[0m\u001b[0;34m.\u001b[0m\u001b[0mcolormap\u001b[0m \u001b[0;32mas\u001b[0m \u001b[0mcm\u001b[0m\u001b[0;34m\u001b[0m\u001b[0;34m\u001b[0m\u001b[0m\n\u001b[0;32m----> 3\u001b[0;31m \u001b[0;32mimport\u001b[0m \u001b[0mfolium\u001b[0m\u001b[0;34m\u001b[0m\u001b[0;34m\u001b[0m\u001b[0m\n\u001b[0m\u001b[1;32m      4\u001b[0m \u001b[0;32mimport\u001b[0m \u001b[0mpandas\u001b[0m \u001b[0;32mas\u001b[0m \u001b[0mpd\u001b[0m\u001b[0;34m\u001b[0m\u001b[0;34m\u001b[0m\u001b[0m\n\u001b[1;32m      5\u001b[0m \u001b[0mpd\u001b[0m\u001b[0;34m.\u001b[0m\u001b[0mset_option\u001b[0m\u001b[0;34m(\u001b[0m\u001b[0;34m'display.max_rows'\u001b[0m\u001b[0;34m,\u001b[0m \u001b[0;32mNone\u001b[0m\u001b[0;34m)\u001b[0m\u001b[0;34m\u001b[0m\u001b[0;34m\u001b[0m\u001b[0m\n",
      "\u001b[0;31mModuleNotFoundError\u001b[0m: No module named 'folium'"
     ]
    }
   ],
   "source": [
    "#import pandas and geopandas, folium and branca\n",
    "import branca.colormap as cm\n",
    "import folium\n",
    "import pandas as pd\n",
    "pd.set_option('display.max_rows', None)\n",
    "import geopandas as gp\n",
    "path = ('https://forest-observation-system.net/Data/FOS_Plots_v2019.04.10.xlsx')\n",
    "df = pd.read_excel (path)\n",
    "df.keys()\n"
   ]
  },
  {
   "cell_type": "markdown",
   "id": "85f1278c",
   "metadata": {
    "papermill": {
     "duration": null,
     "end_time": null,
     "exception": null,
     "start_time": null,
     "status": "pending"
    },
    "tags": []
   },
   "source": [
    "#### Plot_ID"
   ]
  },
  {
   "cell_type": "markdown",
   "id": "7f2a82b9",
   "metadata": {
    "papermill": {
     "duration": null,
     "end_time": null,
     "exception": null,
     "start_time": null,
     "status": "pending"
    },
    "tags": []
   },
   "source": [
    "Plot_ID stores area of interest (AOI) unique identifier code. For each AOI, there are more infomration linked (Sub-plot_ID). \n",
    "By analysing the Polt_ID field, it can be extracted either the name of plots stored in the dataset as well as the number of entries per plot."
   ]
  },
  {
   "cell_type": "code",
   "execution_count": null,
   "id": "f2649e19",
   "metadata": {
    "papermill": {
     "duration": null,
     "end_time": null,
     "exception": null,
     "start_time": null,
     "status": "pending"
    },
    "tags": []
   },
   "outputs": [],
   "source": [
    "df['Plot_ID'].value_counts()"
   ]
  },
  {
   "cell_type": "markdown",
   "id": "e0fc9ce4",
   "metadata": {
    "papermill": {
     "duration": null,
     "end_time": null,
     "exception": null,
     "start_time": null,
     "status": "pending"
    },
    "tags": []
   },
   "source": [
    "#### PlotArea"
   ]
  },
  {
   "cell_type": "markdown",
   "id": "e75647bf",
   "metadata": {
    "papermill": {
     "duration": null,
     "end_time": null,
     "exception": null,
     "start_time": null,
     "status": "pending"
    },
    "tags": []
   },
   "source": [
    "It is mentioned in the dataset specifications that each plot has 50 x 50 m size. This information is stored in the dataset as well. Even though majority of the plots have 50 x 50m seize, there are also other sizes within the dataset. The total amount of different plot sizes and frequency appearing in the dataset are:"
   ]
  },
  {
   "cell_type": "code",
   "execution_count": null,
   "id": "8b3b4719",
   "metadata": {
    "papermill": {
     "duration": null,
     "end_time": null,
     "exception": null,
     "start_time": null,
     "status": "pending"
    },
    "scrolled": true,
    "tags": []
   },
   "outputs": [],
   "source": [
    "print(\"--------------------\")\n",
    "print(\" Area  \", \"  Number of entries  \")\n",
    "df['PlotArea'].value_counts()"
   ]
  },
  {
   "cell_type": "markdown",
   "id": "cd4c7cd4",
   "metadata": {
    "papermill": {
     "duration": null,
     "end_time": null,
     "exception": null,
     "start_time": null,
     "status": "pending"
    },
    "tags": []
   },
   "source": [
    "#### Network"
   ]
  },
  {
   "cell_type": "markdown",
   "id": "c1e57851",
   "metadata": {
    "papermill": {
     "duration": null,
     "end_time": null,
     "exception": null,
     "start_time": null,
     "status": "pending"
    },
    "tags": []
   },
   "source": [
    "The dataset is a cooperation between several actors around the world, the list of projects feeding the dataset is also stored in the dataset and those are:"
   ]
  },
  {
   "cell_type": "code",
   "execution_count": null,
   "id": "74f271ed",
   "metadata": {
    "papermill": {
     "duration": null,
     "end_time": null,
     "exception": null,
     "start_time": null,
     "status": "pending"
    },
    "scrolled": true,
    "tags": []
   },
   "outputs": [],
   "source": [
    "print(\"Main actors contributing to the dataset:\\n \",df.Network.unique())\n"
   ]
  },
  {
   "cell_type": "markdown",
   "id": "7289daee",
   "metadata": {
    "papermill": {
     "duration": null,
     "end_time": null,
     "exception": null,
     "start_time": null,
     "status": "pending"
    },
    "tags": []
   },
   "source": [
    "Each of this providers are focused on an specific area of interest as described in the table below:"
   ]
  },
  {
   "cell_type": "markdown",
   "id": "cc5421f1",
   "metadata": {
    "papermill": {
     "duration": null,
     "end_time": null,
     "exception": null,
     "start_time": null,
     "status": "pending"
    },
    "tags": []
   },
   "source": [
    "| Network      | Description | Site |\n",
    "| ----------- | ----------- | ----------- |\n",
    "| RAINFOR      | Amazon Forest Inventory Network is a long-term, international collaboration to understand the dynamics of Amazon ecosystems      |  http://www.rainfor.org |\n",
    "| AfriTRON  | The African Tropical Rainforest Observation Network (AfriTRON), is an international network of researchers engaged in on-the-ground long-term monitoring of tropical forests.        | http://www.afritron.org |\n",
    "| AusCover | TERN AusCover delivers earth observation data and products that describe important land-surface and environmental characteristics derived using satellite and airborne imagery. | http://www.auscover.org.au/ |\n",
    "| ForestGEO | Forest Global Earth Observatory (ForestGEO), previously known as Center for Tropical Forest Science (CTFS), is a global network of forest research sites and scientists dedicated to the study of tropical and temperate forest function and diversity | https://forestgeo.si.edu |\n",
    "| IIASA |  | https://www.univie.ac.at/bdef/php/ |\n",
    "| TForces | 5-yr interdisciplinary research project aims to construct a Pan-Tropical Observatory of Forest Function, to explore forest response to global change. | http://www.tforces.net |\n",
    "| TmFO | Large scale forest disturbance in Amazonia | https://paracou.cirad.fr |"
   ]
  },
  {
   "cell_type": "markdown",
   "id": "6cfbaef1",
   "metadata": {
    "papermill": {
     "duration": null,
     "end_time": null,
     "exception": null,
     "start_time": null,
     "status": "pending"
    },
    "tags": []
   },
   "source": [
    "Likewise, the organisations behind the above mentioned actors (and also contained in the dataset) are:"
   ]
  },
  {
   "cell_type": "code",
   "execution_count": null,
   "id": "1a4e872d",
   "metadata": {
    "papermill": {
     "duration": null,
     "end_time": null,
     "exception": null,
     "start_time": null,
     "status": "pending"
    },
    "tags": []
   },
   "outputs": [],
   "source": [
    "print(\"Main organisations behind providers:\\n \",df.Institution.unique())"
   ]
  },
  {
   "cell_type": "markdown",
   "id": "cfd2e2c1",
   "metadata": {
    "papermill": {
     "duration": null,
     "end_time": null,
     "exception": null,
     "start_time": null,
     "status": "pending"
    },
    "tags": []
   },
   "source": [
    "#### Forest Status"
   ]
  },
  {
   "cell_type": "markdown",
   "id": "185cc347",
   "metadata": {
    "papermill": {
     "duration": null,
     "end_time": null,
     "exception": null,
     "start_time": null,
     "status": "pending"
    },
    "tags": []
   },
   "source": [
    "Within the forest status field, it has been classified the following classes:\n",
    "As seen above, there are a lot of classes. By measuring the frequency of each of the classes, it could be asessed which are the most listed in the dataset and it could be identified those which frequency is lower:"
   ]
  },
  {
   "cell_type": "code",
   "execution_count": null,
   "id": "b4ee2287",
   "metadata": {
    "papermill": {
     "duration": null,
     "end_time": null,
     "exception": null,
     "start_time": null,
     "status": "pending"
    },
    "tags": []
   },
   "outputs": [],
   "source": [
    "df['Forest_Status'].value_counts()\n"
   ]
  },
  {
   "cell_type": "markdown",
   "id": "c80b1641",
   "metadata": {
    "papermill": {
     "duration": null,
     "end_time": null,
     "exception": null,
     "start_time": null,
     "status": "pending"
    },
    "tags": []
   },
   "source": [
    "#### Exploring the dataset"
   ]
  },
  {
   "cell_type": "markdown",
   "id": "12cc0932",
   "metadata": {
    "papermill": {
     "duration": null,
     "end_time": null,
     "exception": null,
     "start_time": null,
     "status": "pending"
    },
    "tags": []
   },
   "source": [
    "Within the dataset, there is important data stored, where by analysing the data, gives important information about the dataset.\n",
    "\n",
    "Regarding the wood density, it could be identified the following values distribution:"
   ]
  },
  {
   "cell_type": "code",
   "execution_count": null,
   "id": "cd6ac9c4",
   "metadata": {
    "papermill": {
     "duration": null,
     "end_time": null,
     "exception": null,
     "start_time": null,
     "status": "pending"
    },
    "tags": []
   },
   "outputs": [],
   "source": [
    "import seaborn as sns\n",
    "from matplotlib import pyplot as plt\n",
    "sns.displot(df['Wood density'],kde = False)\n",
    "mean=df['Wood density'].mean()\n",
    "\n",
    "plt.axvline(mean, color='r', linestyle='--')\n",
    "plt.legend({'Mean':mean})\n",
    "plt.title('Distribution of the wood density values')\n",
    "plt.xlabel('Wood density value')\n",
    "plt.ylabel('Number of observations')  \n",
    "plt.show()\n"
   ]
  },
  {
   "cell_type": "markdown",
   "id": "da67fd21",
   "metadata": {
    "papermill": {
     "duration": null,
     "end_time": null,
     "exception": null,
     "start_time": null,
     "status": "pending"
    },
    "tags": []
   },
   "source": [
    "By analysing the different values measured of the above ground biomass, it could be compared the distribution of the total measurements by class putting each other"
   ]
  },
  {
   "cell_type": "code",
   "execution_count": null,
   "id": "2d984722",
   "metadata": {
    "papermill": {
     "duration": null,
     "end_time": null,
     "exception": null,
     "start_time": null,
     "status": "pending"
    },
    "scrolled": true,
    "tags": []
   },
   "outputs": [],
   "source": [
    "fig, axs = plt.subplots(2, 4,figsize=(18, 10))\n",
    "sns.distplot(df['AGB_local_97.5'],kde = False,ax=axs[0,0],color='red')\n",
    "sns.distplot(df['AGB_Feldpausch'],kde = False,ax=axs[0,1],color='yellow')\n",
    "sns.distplot(df['AGB_Feldpausch_Cred_2.5'],kde = False,ax=axs[0,2],color='orange')\n",
    "sns.distplot(df['AGB_Feldpausch_Cred_97.5'],kde = False,ax=axs[0,3],color='grey')\n",
    "sns.distplot(df['AGB_Chave'],kde = False,ax=axs[1,0],color='blue')\n",
    "sns.distplot(df['AGB_ChaveCred_2.5'],kde = False,ax=axs[1,1],color='black')\n",
    "sns.distplot(df['AGB_ChaveCred_97.5'],kde = False,ax=axs[1,2],color='brown')\n",
    "axs[0,0].set_title('AGB local 97.5')\n",
    "axs[0,1].set_title('AGB Feldpaush')\n",
    "axs[0,2].set_title('AGB Feldpaush 2.5')\n",
    "axs[0,3].set_title('AGB Feldpaush 97.5')\n",
    "axs[1,0].set_title('AGB Chave')\n",
    "axs[1,1].set_title('AGB Chave 2.5')\n",
    "axs[1,2].set_title('AGB Chave 97.5')\n",
    "\n"
   ]
  },
  {
   "cell_type": "markdown",
   "id": "635a3559",
   "metadata": {
    "papermill": {
     "duration": null,
     "end_time": null,
     "exception": null,
     "start_time": null,
     "status": "pending"
    },
    "tags": []
   },
   "source": [
    "Within the dataset, it is also stored a timeline showing the established year and the census year for each of the entries on it. The plot below aims to represent the distribution of this collected information throughout all the timeline stored in the databse."
   ]
  },
  {
   "cell_type": "code",
   "execution_count": null,
   "id": "b215d9e3",
   "metadata": {
    "papermill": {
     "duration": null,
     "end_time": null,
     "exception": null,
     "start_time": null,
     "status": "pending"
    },
    "scrolled": true,
    "tags": []
   },
   "outputs": [],
   "source": [
    "import seaborn as sns\n",
    "from matplotlib import pyplot as plt\n",
    "sns.distplot(df['YearEstablished'],kde = False,label='Year Established')\n",
    "sns.distplot(df['YearCensus'],kde = False, label='Year Census', bins=10)\n",
    "plt.legend(prop={'size': 12})\n",
    "plt.title('Total observations per year')\n",
    "plt.xlabel('Year established')\n",
    "plt.ylabel('Number of observations')  \n",
    "plt.show()\n"
   ]
  },
  {
   "cell_type": "markdown",
   "id": "39021414",
   "metadata": {
    "papermill": {
     "duration": null,
     "end_time": null,
     "exception": null,
     "start_time": null,
     "status": "pending"
    },
    "tags": []
   },
   "source": [
    "To geolocate the plots, it is quite useful the combination of [Pandas](https://pandas.pydata.org) and [Geopandas](https://geopandas.org) with [Folium](https://python-visualization.github.io/folium/), it's possible to display the whole dataset in an interactive map."
   ]
  },
  {
   "cell_type": "code",
   "execution_count": null,
   "id": "d2539afa",
   "metadata": {
    "papermill": {
     "duration": null,
     "end_time": null,
     "exception": null,
     "start_time": null,
     "status": "pending"
    },
    "scrolled": true,
    "tags": []
   },
   "outputs": [],
   "source": [
    "\n",
    "print('List of countries included in the dataset:\\n ',df.CountryName.unique())"
   ]
  },
  {
   "cell_type": "markdown",
   "id": "e9aea8d2",
   "metadata": {
    "papermill": {
     "duration": null,
     "end_time": null,
     "exception": null,
     "start_time": null,
     "status": "pending"
    },
    "tags": []
   },
   "source": [
    "[Folium](https://python-visualization.github.io/folium/) is a python library to produce interactive maps. Below an example on ploting dataset points using Folium opiton to use leaflet map as a background, with information regarding the forest status within the pop up"
   ]
  },
  {
   "cell_type": "code",
   "execution_count": null,
   "id": "0286b9f0",
   "metadata": {
    "papermill": {
     "duration": null,
     "end_time": null,
     "exception": null,
     "start_time": null,
     "status": "pending"
    },
    "tags": []
   },
   "outputs": [],
   "source": [
    "\n",
    "map = folium.Map(tiles='cartodbpositron')\n",
    "map.save(outfile='infinite_scroll.html')\n",
    "map_fix_boundary = folium.Map(min_zoom=10, max_bounds=True, tiles='cartodbpositron')\n",
    "map_fix_boundary.save(outfile='fix_boundary.html')\n",
    "map\n",
    "\n",
    "plots = folium.map.FeatureGroup()\n",
    "latitudes = list(df.Lat_cnt)\n",
    "longitudes = list(df.Lon_cnt)\n",
    "labels = list(df.Forest_Status)\n",
    "for lat, lng, label in zip(latitudes, longitudes, labels):\n",
    "    folium.Marker(\n",
    "      location = [lat, lng], \n",
    "      popup = label,\n",
    "      icon = folium.Icon(color='green', icon='info-sign')\n",
    "     ).add_to(map) \n",
    "map.add_child(plots)\n",
    "map\n"
   ]
  },
  {
   "cell_type": "markdown",
   "id": "7ecc555a",
   "metadata": {
    "papermill": {
     "duration": null,
     "end_time": null,
     "exception": null,
     "start_time": null,
     "status": "pending"
    },
    "tags": []
   },
   "source": [
    "The providers have used 4 different data processing protocols to get the biomass. "
   ]
  },
  {
   "cell_type": "markdown",
   "id": "9d05667a",
   "metadata": {
    "papermill": {
     "duration": null,
     "end_time": null,
     "exception": null,
     "start_time": null,
     "status": "pending"
    },
    "tags": []
   },
   "source": [
    "| Protocol      |  Information about protocol |\n",
    "| ----------- |  ----------- |\n",
    "| RepFOS_15Feb19_TropiSAR      |  https://forest-observation-system.net/Data/RepFOS_15Feb19_TropiSAR.pdf |\n",
    "| RepFOS_14Feb17_ForestPlots     | https://forest-observation-system.net/Data/RepFOS_14Feb17_ForestPlots.pdf |\n",
    "| RepFOS_14Feb17_BCI_ForestGEO  |  https://forest-observation-system.net/Data/RepFOS_14Feb17_BCI_ForestGEO.pdf |\n",
    "| RepFOS_15Feb19_AfriSAR     | https://forest-observation-system.net/Data/RepFOS_15Feb19_AfriSAR.xlsx|"
   ]
  },
  {
   "cell_type": "markdown",
   "id": "e1d0c2c2",
   "metadata": {
    "papermill": {
     "duration": null,
     "end_time": null,
     "exception": null,
     "start_time": null,
     "status": "pending"
    },
    "tags": []
   },
   "source": [
    "Each of the protocols has been use several times, as listed below"
   ]
  },
  {
   "cell_type": "code",
   "execution_count": null,
   "id": "e2204a9d",
   "metadata": {
    "papermill": {
     "duration": null,
     "end_time": null,
     "exception": null,
     "start_time": null,
     "status": "pending"
    },
    "tags": []
   },
   "outputs": [],
   "source": [
    "df['Biomass processing protocol'].value_counts()"
   ]
  },
  {
   "cell_type": "markdown",
   "id": "b88eea3c",
   "metadata": {
    "papermill": {
     "duration": null,
     "end_time": null,
     "exception": null,
     "start_time": null,
     "status": "pending"
    },
    "tags": []
   },
   "source": [
    "#### Information per entry"
   ]
  },
  {
   "cell_type": "markdown",
   "id": "51ad501a",
   "metadata": {
    "papermill": {
     "duration": null,
     "end_time": null,
     "exception": null,
     "start_time": null,
     "status": "pending"
    },
    "tags": []
   },
   "source": [
    "An important aspect to know is the information associated per entry. Below there si a list of the five first entries of the dataset and the information associated to each of those."
   ]
  },
  {
   "cell_type": "code",
   "execution_count": null,
   "id": "46446d60",
   "metadata": {
    "papermill": {
     "duration": null,
     "end_time": null,
     "exception": null,
     "start_time": null,
     "status": "pending"
    },
    "scrolled": true,
    "tags": []
   },
   "outputs": [],
   "source": [
    "df.iloc[0:5] # first five rows of dataframe"
   ]
  },
  {
   "cell_type": "markdown",
   "id": "7a06d4c2",
   "metadata": {
    "papermill": {
     "duration": null,
     "end_time": null,
     "exception": null,
     "start_time": null,
     "status": "pending"
    },
    "tags": []
   },
   "source": [
    "### Exploring EO-Learn functionality"
   ]
  },
  {
   "cell_type": "markdown",
   "id": "6b2710ae",
   "metadata": {
    "papermill": {
     "duration": null,
     "end_time": null,
     "exception": null,
     "start_time": null,
     "status": "pending"
    },
    "tags": []
   },
   "source": [
    "[eo-learn](https://eo-learn.readthedocs.io/en/latest/) is an opensource Python library acting as a bridge between Earth Observation and Python's data science and machine learning environment. Eo-learn makes extraction of valuable information from satellite imagery as easy as defining a sequence of operations to be performed on satellite imagery."
   ]
  },
  {
   "cell_type": "markdown",
   "id": "eb29602e",
   "metadata": {
    "papermill": {
     "duration": null,
     "end_time": null,
     "exception": null,
     "start_time": null,
     "status": "pending"
    },
    "tags": []
   },
   "source": [
    "This section describes the way to pull information from [Sentinel-hub](https://www.sentinel-hub.com) by using eo-learn. In this example we have used io_examples from [eo-learn library](https://eo-learn.readthedocs.io/en/latest/examples/io/SentinelHubIO.html) and adapt it to this project"
   ]
  },
  {
   "cell_type": "markdown",
   "id": "5bc363f1",
   "metadata": {
    "papermill": {
     "duration": null,
     "end_time": null,
     "exception": null,
     "start_time": null,
     "status": "pending"
    },
    "tags": []
   },
   "source": [
    "For more information about the possibilities to interact, please see [eo-learn Github](https://github.com/sentinel-hub/eo-learn/blob/master/README.md). Below follows an example on how to pull S-2 image based on Biomass dataset variables."
   ]
  },
  {
   "cell_type": "code",
   "execution_count": null,
   "id": "4a1d17c4",
   "metadata": {
    "papermill": {
     "duration": null,
     "end_time": null,
     "exception": null,
     "start_time": null,
     "status": "pending"
    },
    "tags": []
   },
   "outputs": [],
   "source": [
    "from edc import print_info\n",
    "print_info(\"sh-data-access\")"
   ]
  },
  {
   "cell_type": "code",
   "execution_count": null,
   "id": "12c9f557",
   "metadata": {
    "papermill": {
     "duration": null,
     "end_time": null,
     "exception": null,
     "start_time": null,
     "status": "pending"
    },
    "tags": []
   },
   "outputs": [],
   "source": [
    "from edc import setup_environment_variables\n",
    "\n",
    "#setup_environment_variables()\n",
    "# Your client credentials\n",
    "CLIENT_ID = %env SH_CLIENT_ID\n",
    "CLIENT_SECRET = %env SH_CLIENT_SECRET\n",
    "INSTANCE_ID = %env SH_INSTANCE_ID\n",
    "\n"
   ]
  },
  {
   "cell_type": "code",
   "execution_count": null,
   "id": "a46d2127",
   "metadata": {
    "papermill": {
     "duration": null,
     "end_time": null,
     "exception": null,
     "start_time": null,
     "status": "pending"
    },
    "tags": []
   },
   "outputs": [],
   "source": [
    "%matplotlib inline\n",
    "import matplotlib.pyplot as plt\n",
    "import datetime\n",
    "import numpy as np\n",
    "from aenum import MultiValueEnum\n",
    "from matplotlib.colors import ListedColormap, BoundaryNorm\n",
    "\n",
    "from edc import setup_environment_variables\n",
    "from xcube_geodb.core.geodb import GeoDBClient\n",
    "# Sentinel Hub Py\n",
    "from sentinelhub import (SHConfig, BBox, bbox_to_dimensions, CRS,SentinelHubBatch, SentinelHubRequest, DataCollection, MimeType, FisRequest)\n",
    "from sentinelhub.geometry import Geometry\n",
    "\n",
    "from eolearn.core import EOTask, EOPatch, LinearWorkflow, FeatureType, OverwritePermission, \\\n",
    "    LoadTask, SaveTask, EOExecutor, ExtractBandsTask, MergeFeatureTask\n",
    "from eolearn.io import SentinelHubInputTask, SentinelHubDemTask, SentinelHubInputBase, get_available_timestamps,ExportToTiff\n",
    "from eolearn.features import LinearInterpolation, SimpleFilterTask, NormalizedDifferenceIndexTask\n",
    "from eolearn.mask import AddValidDataMaskTask"
   ]
  },
  {
   "cell_type": "code",
   "execution_count": null,
   "id": "53eb5b31",
   "metadata": {
    "papermill": {
     "duration": null,
     "end_time": null,
     "exception": null,
     "start_time": null,
     "status": "pending"
    },
    "tags": []
   },
   "outputs": [],
   "source": [
    "config = SHConfig()\n",
    "\n",
    "if CLIENT_ID and CLIENT_SECRET and INSTANCE_ID:\n",
    "    config.instance_id = INSTANCE_ID\n",
    "    config.sh_client_id = CLIENT_ID\n",
    "    config.sh_client_secret = CLIENT_SECRET\n",
    "\n",
    "if config.sh_client_id == '' or config.sh_client_secret == '' or config.instance_id == '':\n",
    "    print(\"Warning! missing Sentinel Hub credentials (client ID and client secret).\")"
   ]
  },
  {
   "cell_type": "markdown",
   "id": "40b53edd",
   "metadata": {
    "papermill": {
     "duration": null,
     "end_time": null,
     "exception": null,
     "start_time": null,
     "status": "pending"
    },
    "tags": []
   },
   "source": [
    "Next stage is to define AOI and tiem interval. That is the part it can be used information picked from biomass dataset to fill those blanks.In this case, coordinates are picked from dataset to be included in the process."
   ]
  },
  {
   "cell_type": "code",
   "execution_count": null,
   "id": "4610d57b",
   "metadata": {
    "papermill": {
     "duration": null,
     "end_time": null,
     "exception": null,
     "start_time": null,
     "status": "pending"
    },
    "tags": []
   },
   "outputs": [],
   "source": [
    "## let's choose the data from 5th row of the dataset\n",
    "lon = df['Lon_cnt'][1]\n",
    "lat = df['Lat_cnt'][1]\n",
    "LON = round(lon+0.05,2)\n",
    "LAT = round(lat+0.05,1)\n",
    "roi_bbox = BBox(bbox=[ lon,lat,LON, LAT], crs=CRS.WGS84) # since the input requirement is a bbox, we just add 0.001 to the lat lon provided\n",
    "#print(roi_bbox)"
   ]
  },
  {
   "cell_type": "markdown",
   "id": "38d80b52",
   "metadata": {
    "papermill": {
     "duration": null,
     "end_time": null,
     "exception": null,
     "start_time": null,
     "status": "pending"
    },
    "tags": []
   },
   "source": [
    "Set the rest of the variables"
   ]
  },
  {
   "cell_type": "code",
   "execution_count": null,
   "id": "2f6f8137",
   "metadata": {
    "papermill": {
     "duration": null,
     "end_time": null,
     "exception": null,
     "start_time": null,
     "status": "pending"
    },
    "tags": []
   },
   "outputs": [],
   "source": [
    "# time interval of downloaded data\n",
    "START= datetime.date(2018, 3, 1)\n",
    "END = datetime.date(2018, 12, 1)\n",
    "INTERVAL =15\n",
    "\n",
    "\n",
    "# time interval of downloaded data\n",
    "time_interval = (START, END)\n",
    "\n",
    "# maximal cloud coverage (based on Sentinel-2 provided tile metadata)\n",
    "maxcc = .5\n",
    "\n",
    "# resolution of the request (in metres)\n",
    "resolution = 10\n",
    "\n",
    "# time difference parameter (minimum allowed time difference; if two observations are closer than this, they will be mosaicked into one observation)\n",
    "time_difference = datetime.timedelta(hours=2)"
   ]
  },
  {
   "cell_type": "markdown",
   "id": "39be91ec",
   "metadata": {
    "papermill": {
     "duration": null,
     "end_time": null,
     "exception": null,
     "start_time": null,
     "status": "pending"
    },
    "tags": []
   },
   "source": [
    "Set the input task we want"
   ]
  },
  {
   "cell_type": "code",
   "execution_count": null,
   "id": "4e8b71e1",
   "metadata": {
    "papermill": {
     "duration": null,
     "end_time": null,
     "exception": null,
     "start_time": null,
     "status": "pending"
    },
    "tags": []
   },
   "outputs": [],
   "source": [
    "input_task = SentinelHubInputTask(\n",
    "    data_collection=DataCollection.SENTINEL2_L1C,\n",
    "    bands=['B01','B02','B03','B04','B05','B06','B07','B08','B8A','B09','B10','B11','B12'],\n",
    "    bands_feature=(FeatureType.DATA, 'L1C_data'),\n",
    "    additional_data=[(FeatureType.MASK, 'dataMask')],\n",
    "    resolution=resolution,\n",
    "    maxcc=maxcc,\n",
    "    time_difference=time_difference,\n",
    "    config=config,\n",
    "    max_threads=3\n",
    ")"
   ]
  },
  {
   "cell_type": "code",
   "execution_count": null,
   "id": "3e592933",
   "metadata": {
    "papermill": {
     "duration": null,
     "end_time": null,
     "exception": null,
     "start_time": null,
     "status": "pending"
    },
    "tags": []
   },
   "outputs": [],
   "source": [
    "add_l2a_and_scl = SentinelHubInputTask(\n",
    "    data_collection=DataCollection.SENTINEL2_L2A,\n",
    "    bands=['B01','B02','B03','B04','B05','B06','B07','B08','B8A','B09','B11','B12'],\n",
    "    bands_feature=(FeatureType.DATA, 'L2A_data'),\n",
    "    additional_data=[(FeatureType.MASK, 'SCL')],\n",
    "    resolution=resolution,\n",
    "    maxcc=maxcc,\n",
    "    time_difference=time_difference,\n",
    "    config=config,\n",
    "    max_threads=3\n",
    ")"
   ]
  },
  {
   "cell_type": "code",
   "execution_count": null,
   "id": "6b675e36",
   "metadata": {
    "papermill": {
     "duration": null,
     "end_time": null,
     "exception": null,
     "start_time": null,
     "status": "pending"
    },
    "tags": []
   },
   "outputs": [],
   "source": [
    "save = SaveTask('io_example', overwrite_permission=2, compress_level=1)"
   ]
  },
  {
   "cell_type": "markdown",
   "id": "05238efe",
   "metadata": {
    "papermill": {
     "duration": null,
     "end_time": null,
     "exception": null,
     "start_time": null,
     "status": "pending"
    },
    "tags": []
   },
   "source": [
    "Set the workflow and execute it"
   ]
  },
  {
   "cell_type": "code",
   "execution_count": null,
   "id": "4bf31d6d",
   "metadata": {
    "papermill": {
     "duration": null,
     "end_time": null,
     "exception": null,
     "start_time": null,
     "status": "pending"
    },
    "tags": []
   },
   "outputs": [],
   "source": [
    "workflow = LinearWorkflow(input_task, add_l2a_and_scl, save)\n",
    "# Let's visualize it\n",
    "workflow.dependency_graph()\n"
   ]
  },
  {
   "cell_type": "code",
   "execution_count": null,
   "id": "09965af5",
   "metadata": {
    "papermill": {
     "duration": null,
     "end_time": null,
     "exception": null,
     "start_time": null,
     "status": "pending"
    },
    "tags": []
   },
   "outputs": [],
   "source": [
    "result = workflow.execute({\n",
    "    input_task: {'bbox': roi_bbox, 'time_interval': time_interval},\n",
    "    save: {'eopatch_folder': 'eopatch'}\n",
    "})\n"
   ]
  },
  {
   "cell_type": "code",
   "execution_count": null,
   "id": "4128b81d",
   "metadata": {
    "papermill": {
     "duration": null,
     "end_time": null,
     "exception": null,
     "start_time": null,
     "status": "pending"
    },
    "tags": []
   },
   "outputs": [],
   "source": [
    "eopatch = result.eopatch()\n",
    "eopatch"
   ]
  },
  {
   "cell_type": "code",
   "execution_count": null,
   "id": "b8fb9508",
   "metadata": {
    "papermill": {
     "duration": null,
     "end_time": null,
     "exception": null,
     "start_time": null,
     "status": "pending"
    },
    "tags": []
   },
   "outputs": [],
   "source": [
    "\n",
    "f, axarr = plt.subplots(3,3,figsize = (20,20))\n",
    "\n",
    "axarr[0,0].imshow(np.clip(eopatch.data['L1C_data'][5][..., [3,2,1]] * 2.5, 0, 1))\n",
    "axarr[0,0].set_title(\"5th image in eo_patch, RGB image\")\n",
    "axarr[0,0].axis('off')\n",
    "axarr[0,1].imshow(np.clip(eopatch.data['L1C_data'][10][..., [3,2,1]] * 2.5, 0, 1))\n",
    "axarr[0,1].set_title(\"10th image in eo_patch, RGB image\")\n",
    "axarr[0,1].axis('off')\n",
    "axarr[0,2].imshow(np.clip(eopatch.data['L1C_data'][15][..., [3,2,1]] * 2.5, 0, 1))\n",
    "axarr[0,2].set_title(\"15th image in eo_patch, RGB image\")\n",
    "axarr[0,2].axis('off')\n",
    "axarr[1,0].imshow(np.clip(eopatch.data['L1C_data'][5][..., [8,4,3]] * 2.5, 0, 1))\n",
    "axarr[1,0].set_title(\"5th image in eo_patch, False colour image\")\n",
    "axarr[1,0].axis('off')\n",
    "axarr[1,1].imshow(np.clip(eopatch.data['L1C_data'][10][..., [8,4,3]] * 2.5, 0, 1))\n",
    "axarr[1,1].set_title(\"10th image in eo_patch, False colour image\")\n",
    "axarr[1,1].axis('off')\n",
    "axarr[1,2].imshow(np.clip(eopatch.data['L1C_data'][15][..., [8,4,3]] * 2.5, 0, 1))\n",
    "axarr[1,2].set_title(\"15th image in eo_patch, False colour image\")\n",
    "axarr[1,2].axis('off')\n",
    "axarr[2,0].imshow(np.clip(eopatch.data['L1C_data'][5][..., [12,8,4]] * 2.5, 0, 1))\n",
    "axarr[2,0].set_title(\"5th image in eo_patch, SWIR highlighted image\")\n",
    "axarr[2,0].axis('off')\n",
    "axarr[2,1].imshow(np.clip(eopatch.data['L1C_data'][10][..., [12,8,4]] * 2.5, 0, 1))\n",
    "axarr[2,1].set_title(\"10th image in eo_patch, SWIR highlighted image\")\n",
    "axarr[2,1].axis('off')\n",
    "axarr[2,2].imshow(np.clip(eopatch.data['L1C_data'][15][..., [12,8,4]] * 2.5, 0, 1))\n",
    "axarr[2,2].set_title(\"15th image in eo_patch, SWIR highlighted image\")\n",
    "axarr[2,2].axis('off')\n",
    "\n"
   ]
  },
  {
   "cell_type": "markdown",
   "id": "35c8a14a",
   "metadata": {
    "papermill": {
     "duration": null,
     "end_time": null,
     "exception": null,
     "start_time": null,
     "status": "pending"
    },
    "tags": []
   },
   "source": [
    "#### Loading task from eo_patch already saved"
   ]
  },
  {
   "cell_type": "markdown",
   "id": "0e353a61",
   "metadata": {
    "papermill": {
     "duration": null,
     "end_time": null,
     "exception": null,
     "start_time": null,
     "status": "pending"
    },
    "tags": []
   },
   "source": [
    "Once a task cached, it is possible to recall it again by the example below skipping all the steps above explained by doing as follows:"
   ]
  },
  {
   "cell_type": "code",
   "execution_count": null,
   "id": "c822623b",
   "metadata": {
    "papermill": {
     "duration": null,
     "end_time": null,
     "exception": null,
     "start_time": null,
     "status": "pending"
    },
    "tags": []
   },
   "outputs": [],
   "source": [
    "load = LoadTask('io_example')"
   ]
  },
  {
   "cell_type": "code",
   "execution_count": null,
   "id": "7e20f0ec",
   "metadata": {
    "papermill": {
     "duration": null,
     "end_time": null,
     "exception": null,
     "start_time": null,
     "status": "pending"
    },
    "tags": []
   },
   "outputs": [],
   "source": [
    "new_eopatch = load.execute(eopatch_folder='eopatch')\n",
    "new_eopatch"
   ]
  },
  {
   "cell_type": "markdown",
   "id": "63f06833",
   "metadata": {
    "papermill": {
     "duration": null,
     "end_time": null,
     "exception": null,
     "start_time": null,
     "status": "pending"
    },
    "tags": []
   },
   "source": [
    "## Format"
   ]
  },
  {
   "cell_type": "markdown",
   "id": "dd877131",
   "metadata": {
    "papermill": {
     "duration": null,
     "end_time": null,
     "exception": null,
     "start_time": null,
     "status": "pending"
    },
    "tags": []
   },
   "source": [
    "The dataset is in spreadsheet format (.xlsx)"
   ]
  },
  {
   "cell_type": "markdown",
   "id": "735d6f7e",
   "metadata": {
    "papermill": {
     "duration": null,
     "end_time": null,
     "exception": null,
     "start_time": null,
     "status": "pending"
    },
    "tags": []
   },
   "source": [
    "## Version"
   ]
  },
  {
   "cell_type": "markdown",
   "id": "81841b68",
   "metadata": {
    "papermill": {
     "duration": null,
     "end_time": null,
     "exception": null,
     "start_time": null,
     "status": "pending"
    },
    "tags": []
   },
   "source": [
    "FOS plot data v2019.04.10"
   ]
  },
  {
   "cell_type": "markdown",
   "id": "9fb1b678",
   "metadata": {
    "papermill": {
     "duration": null,
     "end_time": null,
     "exception": null,
     "start_time": null,
     "status": "pending"
    },
    "tags": []
   },
   "source": [
    "## License"
   ]
  },
  {
   "cell_type": "markdown",
   "id": "694b64e8",
   "metadata": {
    "papermill": {
     "duration": null,
     "end_time": null,
     "exception": null,
     "start_time": null,
     "status": "pending"
    },
    "tags": []
   },
   "source": [
    "This dataset is licensed under a [Creative Commons Attribution 4.0 International License (CC-BY 4.0).](https://creativecommons.org/licenses/by/4.0/)"
   ]
  },
  {
   "cell_type": "markdown",
   "id": "3a8a89f9",
   "metadata": {
    "papermill": {
     "duration": null,
     "end_time": null,
     "exception": null,
     "start_time": null,
     "status": "pending"
    },
    "tags": []
   },
   "source": [
    "## References"
   ]
  },
  {
   "cell_type": "markdown",
   "id": "2ef14be2",
   "metadata": {
    "papermill": {
     "duration": null,
     "end_time": null,
     "exception": null,
     "start_time": null,
     "status": "pending"
    },
    "tags": []
   },
   "source": [
    "Schepaschenko, D., Chave, J., Phillips, O. L., Lewis, S. L., Davies, S. J., Réjou-Méchain, M., ... & Labrière, N. (2019). The Forest Observation System, building a global reference dataset for remote sensing of forest biomass. Scientific data, 6(1), 1-11."
   ]
  }
 ],
 "metadata": {
  "kernelspec": {
   "display_name": "EDC-GPU 0.23.3 (Python3)",
   "language": "python",
   "name": "edc-gpu"
  },
  "language_info": {
   "codemirror_mode": {
    "name": "ipython",
    "version": 3
   },
   "file_extension": ".py",
   "mimetype": "text/x-python",
   "name": "python",
   "nbconvert_exporter": "python",
   "pygments_lexer": "ipython3",
   "version": "3.8.10"
  },
  "papermill": {
   "default_parameters": {},
   "duration": 3.222725,
   "end_time": "2021-05-12T14:28:09.145649",
   "environment_variables": {},
   "exception": true,
   "input_path": "/tmp/tmpmtmldvni",
   "output_path": "/tmp/notebook_output.ipynb",
   "parameters": {},
   "start_time": "2021-05-12T14:28:05.922924",
   "version": "2.3.3"
  },
  "properties": {
   "authors": [
    {
     "id": "a7f80638-e89a-4349-9cc7-7ed6ec2d79b7",
     "name": "manuel.fernandez@nuigalway.ie"
    }
   ],
   "description": "Describing Forest Observation System Biomass dataset",
   "id": "b944eb9f-eadd-4a85-a841-127d1e8bff52",
   "license": null,
   "name": "Biomass -  Forest Observation System",
   "requirements": [
    "eurodatacube"
   ],
   "tags": [
    "EO Data",
    "Getting started",
    "Sentinel Data",
    "Sentinel Hub",
    "Jupyter",
    "Download Service"
   ],
   "tosAgree": true,
   "type": "Jupyter Notebook",
   "version": "0.1"
  }
 },
 "nbformat": 4,
 "nbformat_minor": 5
}