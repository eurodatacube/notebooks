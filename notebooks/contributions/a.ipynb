{
 "cells": [
  {
   "cell_type": "code",
   "execution_count": 1,
   "id": "09eefbc7",
   "metadata": {
    "execution": {
     "iopub.execute_input": "2021-09-15T08:28:13.975457Z",
     "iopub.status.busy": "2021-09-15T08:28:13.973371Z",
     "iopub.status.idle": "2021-09-15T08:28:14.027782Z",
     "shell.execute_reply": "2021-09-15T08:28:14.027238Z"
    },
    "papermill": {
     "duration": 0.061662,
     "end_time": "2021-09-15T08:28:14.027893",
     "exception": false,
     "start_time": "2021-09-15T08:28:13.966231",
     "status": "completed"
    },
    "tags": []
   },
   "outputs": [
    {
     "data": {
      "text/html": [
       "<script type=\"text/javascript\">\n",
       "        function toggle(id) {\n",
       "            el = document.getElementById(id);\n",
       "            el.style.display = el.style.display === \"none\" ? \"block\" : \"none\";\n",
       "        }\n",
       "    </script>"
      ],
      "text/plain": [
       "<IPython.core.display.HTML object>"
      ]
     },
     "metadata": {},
     "output_type": "display_data"
    },
    {
     "data": {
      "text/html": [
       "This notebook is compatible with this base image version (user-0.24.5)."
      ],
      "text/plain": [
       "<IPython.core.display.HTML object>"
      ]
     },
     "metadata": {},
     "output_type": "display_data"
    }
   ],
   "source": [
    "from edc import check_compatibility\n",
    "check_compatibility(\"user-0.24.5\", dependencies=[])"
   ]
  },
  {
   "cell_type": "code",
   "execution_count": 2,
   "id": "fb1d0029",
   "metadata": {
    "execution": {
     "iopub.execute_input": "2021-09-15T08:28:14.040591Z",
     "iopub.status.busy": "2021-09-15T08:28:14.039867Z",
     "iopub.status.idle": "2021-09-15T08:28:14.042402Z",
     "shell.execute_reply": "2021-09-15T08:28:14.042910Z"
    },
    "papermill": {
     "duration": 0.01057,
     "end_time": "2021-09-15T08:28:14.043048",
     "exception": false,
     "start_time": "2021-09-15T08:28:14.032478",
     "status": "completed"
    },
    "tags": []
   },
   "outputs": [
    {
     "data": {
      "text/plain": [
       "1099511627776"
      ]
     },
     "execution_count": 2,
     "metadata": {},
     "output_type": "execute_result"
    }
   ],
   "source": [
    "2 ** 40"
   ]
  },
  {
   "cell_type": "code",
   "execution_count": 3,
   "id": "a79ab9ac",
   "metadata": {
    "execution": {
     "iopub.execute_input": "2021-09-15T08:28:14.056162Z",
     "iopub.status.busy": "2021-09-15T08:28:14.055628Z",
     "iopub.status.idle": "2021-09-15T08:28:14.057997Z",
     "shell.execute_reply": "2021-09-15T08:28:14.057573Z"
    },
    "papermill": {
     "duration": 0.01011,
     "end_time": "2021-09-15T08:28:14.058094",
     "exception": false,
     "start_time": "2021-09-15T08:28:14.047984",
     "status": "completed"
    },
    "tags": []
   },
   "outputs": [
    {
     "data": {
      "text/plain": [
       "datetime.datetime(2021, 9, 15, 8, 28, 14, 54381)"
      ]
     },
     "execution_count": 3,
     "metadata": {},
     "output_type": "execute_result"
    }
   ],
   "source": [
    "import datetime\n",
    "datetime.datetime.now()"
   ]
  },
  {
   "cell_type": "code",
   "execution_count": null,
   "id": "7279988f",
   "metadata": {
    "papermill": {
     "duration": 0.003352,
     "end_time": "2021-09-15T08:28:14.064710",
     "exception": false,
     "start_time": "2021-09-15T08:28:14.061358",
     "status": "completed"
    },
    "tags": []
   },
   "outputs": [],
   "source": []
  }
 ],
 "metadata": {
  "kernelspec": {
   "display_name": "Python 3",
   "language": "python",
   "name": "python3"
  },
  "language_info": {
   "codemirror_mode": {
    "name": "ipython",
    "version": 3
   },
   "file_extension": ".py",
   "mimetype": "text/x-python",
   "name": "python",
   "nbconvert_exporter": "python",
   "pygments_lexer": "ipython3",
   "version": "3.8.10"
  },
  "papermill": {
   "default_parameters": {},
   "duration": 2.228113,
   "end_time": "2021-09-15T08:28:15.193816",
   "environment_variables": {},
   "exception": null,
   "input_path": "/tmp/tmp6kj936wb",
   "output_path": "/tmp/notebook_output.ipynb",
   "parameters": {},
   "start_time": "2021-09-15T08:28:12.965703",
   "version": "2.3.3"
  },
  "properties": {
   "authors": [
    {
     "id": "0c0a0ef4-8d0d-4e70-b002-033c7cbb41fd",
     "name": "mallinger.bernhard@eox.at"
    }
   ],
   "description": "Demonstration of available GPU capabilities on EOxHub",
   "id": "ce94c320-9ecc-48b3-bafb-4a2f7995e849",
   "license": null,
   "name": "GPU-Support on EOxHub",
   "requirements": [
    "eoxhub"
   ],
   "tags": [
    "Machine Learning",
    "GPU"
   ],
   "tosAgree": true,
   "type": "Jupyter Notebook",
   "version": "0.0.3"
  }
 },
 "nbformat": 4,
 "nbformat_minor": 5
}