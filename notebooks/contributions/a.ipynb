{
 "cells": [
  {
   "cell_type": "code",
   "execution_count": 1,
   "id": "fecc272f",
   "metadata": {
    "execution": {
     "iopub.execute_input": "2022-11-28T14:21:34.562494Z",
     "iopub.status.busy": "2022-11-28T14:21:34.562149Z",
     "iopub.status.idle": "2022-11-28T14:21:34.640898Z",
     "shell.execute_reply": "2022-11-28T14:21:34.640189Z"
    },
    "papermill": {
     "duration": 0.090588,
     "end_time": "2022-11-28T14:21:34.648393",
     "exception": false,
     "start_time": "2022-11-28T14:21:34.557805",
     "status": "completed"
    },
    "tags": []
   },
   "outputs": [
    {
     "data": {
      "text/html": [
       "<script type=\"text/javascript\">\n",
       "        function toggle(id) {\n",
       "            el = document.getElementById(id);\n",
       "            el.style.display = el.style.display === \"none\" ? \"block\" : \"none\";\n",
       "        }\n",
       "    </script>"
      ],
      "text/plain": [
       "<IPython.core.display.HTML object>"
      ]
     },
     "metadata": {},
     "output_type": "display_data"
    },
    {
     "data": {
      "text/html": [
       "This notebook is compatible with this base image version (user-2022.10-14)."
      ],
      "text/plain": [
       "<IPython.core.display.HTML object>"
      ]
     },
     "metadata": {},
     "output_type": "display_data"
    },
    {
     "data": {
      "text/markdown": [
       "\n",
       "\n",
       "---------\n",
       "\n",
       "The following environment variables are available:\n",
       "\n",
       "* `GEODB_AUTH_AUD`, `GEODB_AUTH_CLIENT_ID`, `GEODB_AUTH_DOMAIN`, `GEODB_API_SERVER_URL`, `GEODB_AUTH_CLIENT_SECRET`, `GEODB_API_SERVER_PORT`\n"
      ],
      "text/plain": [
       "<IPython.core.display.Markdown object>"
      ]
     },
     "metadata": {},
     "output_type": "display_data"
    }
   ],
   "source": [
    "from eoxhub import check_compatibility\n",
    "check_compatibility(\"user-2022.10-14\", dependencies=[\"GEODB\"])"
   ]
  },
  {
   "cell_type": "code",
   "execution_count": 2,
   "id": "10183c6c",
   "metadata": {
    "execution": {
     "iopub.execute_input": "2022-11-28T14:21:34.654016Z",
     "iopub.status.busy": "2022-11-28T14:21:34.653326Z",
     "iopub.status.idle": "2022-11-28T14:21:34.659830Z",
     "shell.execute_reply": "2022-11-28T14:21:34.659090Z"
    },
    "papermill": {
     "duration": 0.011999,
     "end_time": "2022-11-28T14:21:34.662209",
     "exception": false,
     "start_time": "2022-11-28T14:21:34.650210",
     "status": "completed"
    },
    "tags": []
   },
   "outputs": [
    {
     "data": {
      "text/plain": [
       "1099511627776"
      ]
     },
     "execution_count": 2,
     "metadata": {},
     "output_type": "execute_result"
    }
   ],
   "source": [
    "2 ** 40"
   ]
  },
  {
   "cell_type": "code",
   "execution_count": 3,
   "id": "0b3a2a33",
   "metadata": {
    "execution": {
     "iopub.execute_input": "2022-11-28T14:21:34.667975Z",
     "iopub.status.busy": "2022-11-28T14:21:34.667218Z",
     "iopub.status.idle": "2022-11-28T14:21:34.677466Z",
     "shell.execute_reply": "2022-11-28T14:21:34.672971Z"
    },
    "papermill": {
     "duration": 0.015833,
     "end_time": "2022-11-28T14:21:34.679861",
     "exception": false,
     "start_time": "2022-11-28T14:21:34.664028",
     "status": "completed"
    },
    "tags": []
   },
   "outputs": [
    {
     "data": {
      "text/plain": [
       "datetime.datetime(2022, 11, 28, 8, 21, 34, 670003)"
      ]
     },
     "execution_count": 3,
     "metadata": {},
     "output_type": "execute_result"
    }
   ],
   "source": [
    "import datetime\n",
    "datetime.datetime.now()"
   ]
  },
  {
   "cell_type": "code",
   "execution_count": null,
   "id": "4cf51ce0",
   "metadata": {
    "papermill": {
     "duration": 0.002526,
     "end_time": "2022-11-28T14:21:34.684430",
     "exception": false,
     "start_time": "2022-11-28T14:21:34.681904",
     "status": "completed"
    },
    "tags": []
   },
   "outputs": [],
   "source": []
  }
 ],
 "metadata": {
  "kernelspec": {
   "display_name": "Python 3",
   "language": "python",
   "name": "python3"
  },
  "language_info": {
   "codemirror_mode": {
    "name": "ipython",
    "version": 3
   },
   "file_extension": ".py",
   "mimetype": "text/x-python",
   "name": "python",
   "nbconvert_exporter": "python",
   "pygments_lexer": "ipython3",
   "version": "3.9.13"
  },
  "papermill": {
   "default_parameters": {},
   "duration": 1.576077,
   "end_time": "2022-11-28T14:21:35.003728",
   "environment_variables": {},
   "exception": null,
   "input_path": "/tmp/tmpzs1sctpl",
   "output_path": "/tmp/notebook_output.ipynb",
   "parameters": {},
   "start_time": "2022-11-28T14:21:33.427651",
   "version": "2.3.4"
  },
  "properties": {
   "authors": [
    {
     "id": "eoxhub_20a41cef-8d63-4030-9e37-aa3412866cee",
     "name": "bernhard.mallinger+hub@eox.at"
    }
   ],
   "description": "asdf",
   "id": "c4efd2ea-0da1-48e6-9ed0-2e0dc892e80a",
   "license": null,
   "name": "test",
   "requirements": [
    "eurodatacube-geodb"
   ],
   "tags": [
    "EO Data"
   ],
   "tosAgree": true,
   "type": "Jupyter Notebook",
   "version": "0.0.1"
  }
 },
 "nbformat": 4,
 "nbformat_minor": 5
}