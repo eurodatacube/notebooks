{
 "cells": [
  {
   "cell_type": "markdown",
   "metadata": {},
   "source": [
    "    # test"
   ]
  },
  {
   "cell_type": "code",
   "execution_count": 2,
   "metadata": {},
   "outputs": [],
   "source": [
    "a = 3\n"
   ]
  },
  {
   "cell_type": "code",
   "execution_count": 4,
   "metadata": {},
   "outputs": [
    {
     "name": "stdout",
     "output_type": "stream",
     "text": [
      "3486784401\n"
     ]
    }
   ],
   "source": [
    "print(a ** 20)\n"
   ]
  },
  {
   "cell_type": "code",
   "execution_count": null,
   "metadata": {},
   "outputs": [],
   "source": []
  }
 ],
 "metadata": {
  "kernelspec": {
   "display_name": "Python 3",
   "language": "python",
   "name": "python3"
  },
  "language_info": {
   "codemirror_mode": {
    "name": "ipython",
    "version": 3
   },
   "file_extension": ".py",
   "mimetype": "text/x-python",
   "name": "python",
   "nbconvert_exporter": "python",
   "pygments_lexer": "ipython3",
   "version": "3.6.9"
  },
  "papermill": {
   "duration": 1.754558,
   "end_time": "2020-05-12T14:04:06.041351",
   "environment_variables": {},
   "exception": true,
   "input_path": "/tmp/notebook_input.ipynb",
   "output_path": "/tmp/notebook_output.ipynb",
   "parameters": {},
   "start_time": "2020-05-12T14:04:04.286793",
   "version": "2.1.0"
  },
  "properties": {
   "description": "asdf",
   "id": "ec92166f-b116-4f24-889b-c33bf7d6adbb",
   "license": null,
   "name": "test error",
   "requirements": [],
   "tags": [
    "GPU"
   ],
   "tosAgree": true,
   "type": "Jupyter Notebook",
   "user_id": "0c0a0ef4-8d0d-4e70-b002-033c7cbb41fd",
   "version": "0.1.5"
  },
  "pycharm": {
   "stem_cell": {
    "cell_type": "raw",
    "metadata": {
     "collapsed": false
    },
    "source": []
   }
  }
 },
 "nbformat": 4,
 "nbformat_minor": 4
}
