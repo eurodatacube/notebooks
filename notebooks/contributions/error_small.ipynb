{
 "cells": [
  {
   "cell_type": "markdown",
   "metadata": {
    "papermill": {
     "duration": 0.013204,
     "end_time": "2020-05-07T14:16:51.820851",
     "exception": false,
     "start_time": "2020-05-07T14:16:51.807647",
     "status": "completed"
    },
    "tags": []
   },
   "source": [
    "<span style=\"color:red; font-family:Helvetica Neue, Helvetica, Arial, sans-serif; font-size:2em;\">An Exception was encountered at 'In [2]'.</span>"
   ]
  },
  {
   "cell_type": "markdown",
   "metadata": {
    "papermill": {
     "duration": 0.010835,
     "end_time": "2020-05-07T14:16:51.843207",
     "exception": false,
     "start_time": "2020-05-07T14:16:51.832372",
     "status": "completed"
    },
    "tags": []
   },
   "source": [
    "# First steps on the Euro Data Cube platform\n",
    "\n",
    "Euro Data Cube provides a JupyterLab environment, which automatically provides **credentials** for services with **active subscriptions** as **asdfenvironment variables.**"
   ]
  },
  {
   "cell_type": "markdown",
   "metadata": {
    "papermill": {
     "duration": 0.01191,
     "end_time": "2020-05-07T14:16:51.865935",
     "exception": false,
     "start_time": "2020-05-07T14:16:51.854025",
     "status": "completed"
    },
    "tags": []
   },
   "source": [
    "## Setup\n",
    "The following platform setup function takes care of initializing your environment. It needs to be **called in every notebook**:"
   ]
  },
  {
   "cell_type": "code",
   "execution_count": 1,
   "metadata": {
    "execution": {
     "iopub.execute_input": "2020-05-07T14:16:51.896041Z",
     "iopub.status.busy": "2020-05-07T14:16:51.894962Z",
     "iopub.status.idle": "2020-05-07T14:16:52.014640Z",
     "shell.execute_reply": "2020-05-07T14:16:52.014047Z"
    },
    "papermill": {
     "duration": 0.134396,
     "end_time": "2020-05-07T14:16:52.014746",
     "exception": false,
     "start_time": "2020-05-07T14:16:51.880350",
     "status": "completed"
    },
    "tags": []
   },
   "outputs": [
    {
     "data": {
      "text/markdown": [
       "API credentials have automatically been injected for your active subscriptions.  \n",
       "The following environment variables are now available:\n",
       "\n",
       "------\n"
      ],
      "text/plain": [
       "<IPython.core.display.Markdown object>"
      ]
     },
     "metadata": {},
     "output_type": "display_data"
    }
   ],
   "source": [
    "from edc import setup_environment_variables\n",
    "setup_environment_variables()"
   ]
  },
  {
   "cell_type": "code",
   "execution_count": 2,
   "metadata": {
    "execution": {
     "iopub.execute_input": "2020-05-07T14:16:52.041706Z",
     "iopub.status.busy": "2020-05-07T14:16:52.040954Z",
     "iopub.status.idle": "2020-05-07T14:16:52.043476Z",
     "shell.execute_reply": "2020-05-07T14:16:52.042893Z"
    },
    "papermill": {
     "duration": 0.017555,
     "end_time": "2020-05-07T14:16:52.043580",
     "exception": false,
     "start_time": "2020-05-07T14:16:52.026025",
     "status": "completed"
    },
    "tags": []
   },
   "outputs": [],
   "source": [
    "a = 3 "
   ]
  },
  {
   "cell_type": "markdown",
   "metadata": {
    "papermill": {
     "duration": 0.01287,
     "end_time": "2020-05-07T14:16:52.069600",
     "exception": false,
     "start_time": "2020-05-07T14:16:52.056730",
     "status": "completed"
    },
    "tags": []
   },
   "source": [
    "As you can see here, the credentials mentioned above are now part of your environment variables.  \n",
    "You can also print them, but make sure to **keep them confidential**!\n"
   ]
  },
  {
   "cell_type": "code",
   "execution_count": 3,
   "metadata": {
    "execution": {
     "iopub.execute_input": "2020-05-07T14:16:52.096496Z",
     "iopub.status.busy": "2020-05-07T14:16:52.095841Z",
     "iopub.status.idle": "2020-05-07T14:16:52.099082Z",
     "shell.execute_reply": "2020-05-07T14:16:52.097993Z"
    },
    "papermill": {
     "duration": 0.018377,
     "end_time": "2020-05-07T14:16:52.099225",
     "exception": true,
     "start_time": "2020-05-07T14:16:52.080848",
     "status": "failed"
    },
    "tags": []
   },
   "outputs": [
    {
     "name": "stderr",
     "output_type": "stream",
     "text": [
      "UsageError: Environment does not have key: AWS_BUCKET\n"
     ]
    }
   ],
   "source": [
    "%env AWS_BUCKET\n"
   ]
  },
  {
   "cell_type": "markdown",
   "metadata": {
    "papermill": {
     "duration": null,
     "end_time": null,
     "exception": null,
     "start_time": null,
     "status": "pending"
    },
    "tags": []
   },
   "source": [
    "Usually, it is not even necessary to access the credentials.  \n",
    "Many libraries such as `xcube_sh` or `xcube_geodb` load them directly from the environment by default.\n",
    "\n",
    "## Retrieving data\n",
    "\n",
    "Let's say you want to retrieve some Sentinel Data as defined by the following cube (don't worry if you don't understand all the details here, it will be explained <a target=\"_blank\" href=\"https://eurodatacube.com/marketplace/notebooks/getting-started/EDC_Sentinel_Hub-XCUBE_integration.ipynb\">here</a>):"
   ]
  },
  {
   "cell_type": "code",
   "execution_count": null,
   "metadata": {
    "execution": {
     "iopub.execute_input": "2020-04-23T10:08:26.215511Z",
     "iopub.status.busy": "2020-04-23T10:08:26.214856Z",
     "iopub.status.idle": "2020-04-23T10:08:26.745423Z",
     "shell.execute_reply": "2020-04-23T10:08:26.744659Z"
    },
    "papermill": {
     "duration": null,
     "end_time": null,
     "exception": null,
     "start_time": null,
     "status": "pending"
    },
    "tags": []
   },
   "outputs": [],
   "source": [
    "from xcube_sh.config import CubeConfig\n",
    "cube_config = CubeConfig(\n",
    "    dataset_name=\"S2L2A\",\n",
    "    band_names=[\"B04\", \"B08\"],\n",
    "    tile_size=[512, 512],\n",
    "    geometry=(10.00, 54.27, 10.30, 54.50),\n",
    "    spatial_res=0.00018,\n",
    "    time_range=[\"2018-05-02\", \"2018-05-26\"],\n",
    "    time_period=\"3D\",\n",
    ")"
   ]
  },
  {
   "cell_type": "markdown",
   "metadata": {
    "papermill": {
     "duration": null,
     "end_time": null,
     "exception": null,
     "start_time": null,
     "status": "pending"
    },
    "tags": []
   },
   "source": [
    "The following `xcube` call will fetch the data using your active SentinelHub subscription automatically using the credentials from the environment variables:"
   ]
  },
  {
   "cell_type": "code",
   "execution_count": null,
   "metadata": {
    "execution": {
     "iopub.execute_input": "2020-04-23T10:08:26.938655Z",
     "iopub.status.busy": "2020-04-23T10:08:26.937833Z",
     "iopub.status.idle": "2020-04-23T10:08:28.153858Z",
     "shell.execute_reply": "2020-04-23T10:08:28.154247Z"
    },
    "papermill": {
     "duration": null,
     "end_time": null,
     "exception": null,
     "start_time": null,
     "status": "pending"
    },
    "tags": []
   },
   "outputs": [],
   "source": [
    "from xcube_sh.cube import open_cube\n",
    "cube = open_cube(cube_config)\n",
    "cube.B04.lat"
   ]
  },
  {
   "cell_type": "markdown",
   "metadata": {
    "papermill": {
     "duration": null,
     "end_time": null,
     "exception": null,
     "start_time": null,
     "status": "pending"
    },
    "tags": []
   },
   "source": [
    "## Explicit credential handling for advanced libraries\n",
    "\n",
    "Some libraries such as the EO-Learn ML library do require you to set up credentials manually. Since the credentials are available using environment variables, there are different means of using them.\n",
    "\n",
    "If you plan to use for instance the SentinelHub command line configuration tool (as recommended by EO-learn), you can make use of the environment variable expansion of the shell:"
   ]
  },
  {
   "cell_type": "code",
   "execution_count": null,
   "metadata": {
    "execution": {
     "iopub.execute_input": "2020-04-23T10:08:28.359541Z",
     "iopub.status.busy": "2020-04-23T10:08:28.358652Z",
     "iopub.status.idle": "2020-04-23T10:08:29.205647Z",
     "shell.execute_reply": "2020-04-23T10:08:29.205051Z"
    },
    "papermill": {
     "duration": null,
     "end_time": null,
     "exception": null,
     "start_time": null,
     "status": "pending"
    },
    "tags": []
   },
   "outputs": [],
   "source": [
    "!sentinelhub.config --sh_client_id $SH_CLIENT_ID > /dev/null"
   ]
  },
  {
   "cell_type": "markdown",
   "metadata": {
    "papermill": {
     "duration": null,
     "end_time": null,
     "exception": null,
     "start_time": null,
     "status": "pending"
    },
    "tags": []
   },
   "source": [
    "See <a target=\"_blank\" href=\"https://eurodatacube.com/marketplace/notebooks/contributions/EDC_Usecase-LPIS_Crop-Type-Classification.ipynb\">this notebook</a> for a complete example.\n",
    "\n",
    "If you need to pass the credentials in Python, the IPython magic command `%env` is a means of achieving that:"
   ]
  },
  {
   "cell_type": "code",
   "execution_count": null,
   "metadata": {
    "execution": {
     "iopub.execute_input": "2020-04-23T10:08:29.398891Z",
     "iopub.status.busy": "2020-04-23T10:08:29.398235Z",
     "iopub.status.idle": "2020-04-23T10:08:29.401041Z",
     "shell.execute_reply": "2020-04-23T10:08:29.400603Z"
    },
    "papermill": {
     "duration": null,
     "end_time": null,
     "exception": null,
     "start_time": null,
     "status": "pending"
    },
    "tags": []
   },
   "outputs": [],
   "source": [
    "client_id = %env SH_CLIENT_ID"
   ]
  },
  {
   "cell_type": "markdown",
   "metadata": {
    "papermill": {
     "duration": null,
     "end_time": null,
     "exception": null,
     "start_time": null,
     "status": "pending"
    },
    "tags": []
   },
   "source": [
    "You can however also access the credentials using idiomatic python:"
   ]
  },
  {
   "cell_type": "code",
   "execution_count": null,
   "metadata": {
    "execution": {
     "iopub.execute_input": "2020-04-23T10:08:29.594201Z",
     "iopub.status.busy": "2020-04-23T10:08:29.593654Z",
     "iopub.status.idle": "2020-04-23T10:08:29.595679Z",
     "shell.execute_reply": "2020-04-23T10:08:29.596129Z"
    },
    "papermill": {
     "duration": null,
     "end_time": null,
     "exception": null,
     "start_time": null,
     "status": "pending"
    },
    "tags": []
   },
   "outputs": [],
   "source": [
    "client_id = os.environ['SH_CLIENT_ID']"
   ]
  },
  {
   "cell_type": "markdown",
   "metadata": {
    "papermill": {
     "duration": null,
     "end_time": null,
     "exception": null,
     "start_time": null,
     "status": "pending"
    },
    "tags": []
   },
   "source": [
    "# Adding custom credentials e.g. for S3 buckets\n",
    "\n",
    "Up until now, we have seen how to use credentials from services activated via Euro Data Cube. If you want to use external services, such as Amazon S3 buckets, you can add the relevant credentials and configuration to a custom environment variable file.\n",
    "\n",
    "This will allow you to use them in all of your notebooks and also to share the notebooks without publishing sensitive information. Users who install your contributed notebook enter their respective credentials in their respective file.\n",
    "\n",
    "To create the your custom environment variable file, just create a text file called `custom.env` in your JupyterLab home directory and add your custom content as shown in this example:\n",
    "```\n",
    "# file contents of \"custom.env\"\n",
    "AWS_BUCKET=foo_bar\n",
    "OTHER_EXTERNAL_SERVICE_CONFIG=3\n",
    "```\n",
    "\n",
    "Now this file will automatically be included in the `setup_environment_variables()` as shown by its output:\n",
    "> ```python\n",
    "> from edc import setup_environment_variables\n",
    "> setup_environment_variables()\n",
    "> ```\n",
    "\n",
    "> API credentials have automatically been injected for your active subscriptions.\n",
    "> The following environment variables are now available:\n",
    ">\n",
    "> *   `SH_INSTANCE_ID`\n",
    "> *   `SH_CLIENT_ID`\n",
    "> *   `SH_CLIENT_SECRET`\n",
    "> *   `SH_CLIENT_NAME`\n",
    ">\n",
    "> The following additional environment variables have been loaded from ~/custom.env:\n",
    ">\n",
    "> *   `AWS_BUCKET`\n",
    "> *   `OTHER_EXTERNAL_SERVICE_CONFIG`\n",
    " \n"
   ]
  },
  {
   "cell_type": "markdown",
   "metadata": {
    "papermill": {
     "duration": null,
     "end_time": null,
     "exception": null,
     "start_time": null,
     "status": "pending"
    },
    "tags": []
   },
   "source": [
    "## Conclusion\n",
    "\n",
    "The Euro Data Cube platform allows you to focus on your data without needing to think about authentication and login credentials.\n",
    "\n",
    "You can even **share notebooks** in the Euro Data Cube marketplace without any changes required. If anyone else runs this notebook on this platform, their respective API service credentials will be used automatically."
   ]
  },
  {
   "cell_type": "markdown",
   "metadata": {
    "papermill": {
     "duration": null,
     "end_time": null,
     "exception": null,
     "start_time": null,
     "status": "pending"
    },
    "tags": []
   },
   "source": [
    "To learn more about using **SentinelHub** or **GeoDB** on the Euro Data Cube platform, check out **<a target=\"_blank\" href=\"https://eurodatacube.com/marketplace/notebooks?tag=Getting%20started\">these notebooks</a>** in the marketplace."
   ]
  }
 ],
 "metadata": {
  "kernelspec": {
   "display_name": "Python 3",
   "language": "python",
   "name": "python3"
  },
  "language_info": {
   "codemirror_mode": {
    "name": "ipython",
    "version": 3
   },
   "file_extension": ".py",
   "mimetype": "text/x-python",
   "name": "python",
   "nbconvert_exporter": "python",
   "pygments_lexer": "ipython3",
   "version": "3.7.6"
  },
  "papermill": {
   "duration": 1.517757,
   "end_time": "2020-05-07T14:16:52.304958",
   "environment_variables": {},
   "exception": true,
   "input_path": "/tmp/notebook_input.ipynb",
   "output_path": "/tmp/notebook_output.ipynb",
   "parameters": {},
   "start_time": "2020-05-07T14:16:50.787201",
   "version": "2.1.0"
  },
  "properties": {
   "description": "asdf",
   "id": "ec92166f-b116-4f24-889b-c33bf7d6adbb",
   "license": null,
   "name": "test error",
   "requirements": [],
   "tags": [
    "GPU"
   ],
   "tosAgree": true,
   "type": "Jupyter Notebook",
   "user_id": "0c0a0ef4-8d0d-4e70-b002-033c7cbb41fd",
   "version": "0.1.0"
  },
  "pycharm": {
   "stem_cell": {
    "cell_type": "raw",
    "metadata": {
     "collapsed": false
    },
    "source": []
   }
  }
 },
 "nbformat": 4,
 "nbformat_minor": 4
}