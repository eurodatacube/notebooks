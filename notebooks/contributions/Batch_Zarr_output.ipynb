{
 "cells": [
  {
   "cell_type": "markdown",
   "id": "d17b88ab",
   "metadata": {
    "tags": [
     "papermill-error-cell-tag"
    ]
   },
   "source": [
    "<span style=\"color:red; font-family:Helvetica Neue, Helvetica, Arial, sans-serif; font-size:2em;\">An Exception was encountered at '<a href=\"#papermill-error-cell\">In [4]</a>'.</span>"
   ]
  },
  {
   "cell_type": "code",
   "execution_count": 1,
   "id": "d4cac73b",
   "metadata": {
    "execution": {
     "iopub.execute_input": "2022-11-25T17:34:19.005135Z",
     "iopub.status.busy": "2022-11-25T17:34:19.004079Z",
     "iopub.status.idle": "2022-11-25T17:34:19.080657Z",
     "shell.execute_reply": "2022-11-25T17:34:19.080052Z"
    },
    "papermill": {
     "duration": 0.088644,
     "end_time": "2022-11-25T17:34:19.082903",
     "exception": false,
     "start_time": "2022-11-25T17:34:18.994259",
     "status": "completed"
    },
    "tags": []
   },
   "outputs": [
    {
     "data": {
      "text/html": [
       "<script type=\"text/javascript\">\n",
       "        function toggle(id) {\n",
       "            el = document.getElementById(id);\n",
       "            el.style.display = el.style.display === \"none\" ? \"block\" : \"none\";\n",
       "        }\n",
       "    </script>"
      ],
      "text/plain": [
       "<IPython.core.display.HTML object>"
      ]
     },
     "metadata": {},
     "output_type": "display_data"
    },
    {
     "data": {
      "text/html": [
       "This notebook is compatible with this base image version (user-2022.10-14)."
      ],
      "text/plain": [
       "<IPython.core.display.HTML object>"
      ]
     },
     "metadata": {},
     "output_type": "display_data"
    },
    {
     "data": {
      "text/markdown": [
       "\n",
       "\n",
       "---------\n",
       "\n",
       "The following environment variables are available:\n",
       "\n",
       "* `SH_CLIENT_ID`, `SH_INSTANCE_ID`, `SH_CLIENT_NAME`, `SH_CLIENT_SECRET`\n"
      ],
      "text/plain": [
       "<IPython.core.display.Markdown object>"
      ]
     },
     "metadata": {},
     "output_type": "display_data"
    }
   ],
   "source": [
    "from eoxhub import check_compatibility\n",
    "check_compatibility(\"user-2022.10-14\", dependencies=[\"SH\"])"
   ]
  },
  {
   "cell_type": "markdown",
   "id": "heard-organ",
   "metadata": {
    "papermill": {
     "duration": 0.006786,
     "end_time": "2022-11-25T17:34:19.096622",
     "exception": false,
     "start_time": "2022-11-25T17:34:19.089836",
     "status": "completed"
    },
    "tags": []
   },
   "source": [
    "# Generating Zarr data cubes with Sentinel Hub Batch API"
   ]
  },
  {
   "cell_type": "markdown",
   "id": "proof-bunch",
   "metadata": {
    "papermill": {
     "duration": 0.006584,
     "end_time": "2022-11-25T17:34:19.109531",
     "exception": false,
     "start_time": "2022-11-25T17:34:19.102947",
     "status": "completed"
    },
    "tags": []
   },
   "source": [
    "In this notebook, we will first create Zarr data cube using Sentinel Hub Batch Processing API. The results (zarr group) will be first be stored on S3 and then we will download them and read them into xarray dataset. \n",
    "\n",
    "You will need an EDC Sentinel Hub Enterprise subscription to execute this notebook as well as your own object storage (S3)."
   ]
  },
  {
   "cell_type": "markdown",
   "id": "regulated-specification",
   "metadata": {
    "papermill": {
     "duration": 0.006321,
     "end_time": "2022-11-25T17:34:19.122087",
     "exception": false,
     "start_time": "2022-11-25T17:34:19.115766",
     "status": "completed"
    },
    "tags": []
   },
   "source": [
    "## Imports and authentication"
   ]
  },
  {
   "cell_type": "markdown",
   "id": "suspended-reflection",
   "metadata": {
    "papermill": {
     "duration": 0.006448,
     "end_time": "2022-11-25T17:34:19.135305",
     "exception": false,
     "start_time": "2022-11-25T17:34:19.128857",
     "status": "completed"
    },
    "tags": []
   },
   "source": [
    "First, let's import all pacakges we will be using and authenticate at Sentinel Hub."
   ]
  },
  {
   "cell_type": "code",
   "execution_count": 2,
   "id": "instructional-volunteer",
   "metadata": {
    "execution": {
     "iopub.execute_input": "2022-11-25T17:34:19.150897Z",
     "iopub.status.busy": "2022-11-25T17:34:19.150387Z",
     "iopub.status.idle": "2022-11-25T17:34:20.841784Z",
     "shell.execute_reply": "2022-11-25T17:34:20.841010Z"
    },
    "papermill": {
     "duration": 1.702175,
     "end_time": "2022-11-25T17:34:20.843947",
     "exception": false,
     "start_time": "2022-11-25T17:34:19.141772",
     "status": "completed"
    },
    "tags": []
   },
   "outputs": [],
   "source": [
    "from oauthlib.oauth2 import BackendApplicationClient\n",
    "from requests_oauthlib import OAuth2Session\n",
    "import os\n",
    "import fsspec\n",
    "import xarray as xr\n",
    "\n",
    "# Your client credentials\n",
    "client_id = os.environ[\"SH_CLIENT_ID\"]\n",
    "client_secret = os.environ[\"SH_CLIENT_SECRET\"]\n",
    "\n",
    "# Create a session\n",
    "client = BackendApplicationClient(client_id=client_id)\n",
    "oauth = OAuth2Session(client=client)\n",
    "\n",
    "# Get token for the session\n",
    "token = oauth.fetch_token(token_url='https://services.sentinel-hub.com/oauth/token',\n",
    "                          client_secret=client_secret)"
   ]
  },
  {
   "cell_type": "markdown",
   "id": "blind-glossary",
   "metadata": {
    "papermill": {
     "duration": 0.00662,
     "end_time": "2022-11-25T17:34:20.856992",
     "exception": false,
     "start_time": "2022-11-25T17:34:20.850372",
     "status": "completed"
    },
    "tags": []
   },
   "source": [
    "## Create Batch Processing request to calculate maximum NDVI in for three months"
   ]
  },
  {
   "cell_type": "markdown",
   "id": "everyday-diameter",
   "metadata": {
    "papermill": {
     "duration": 0.006374,
     "end_time": "2022-11-25T17:34:20.869394",
     "exception": false,
     "start_time": "2022-11-25T17:34:20.863020",
     "status": "completed"
    },
    "tags": []
   },
   "source": [
    "This example is taken from the official Sentinel Hub documentation: https://docs.sentinel-hub.com/api/latest/api/batch/examples/#option-2-zarr-format-output. To run it, please replace a placeholder `<your-bucket>` with your value (e.g. \"s3://my-bucket/batch-zarr-demo\"). Your object storage has to be configured as described here: https://docs.sentinel-hub.com/api/latest/api/batch/#aws-bucket-settings\n",
    "\n",
    "The example requests all Sentinel-2 data acquired between April 2019 and June 2019 for the selected AOI, which is an island of Corsica in this example. The request returns the maximum value of NDVI in this period as well as values of bands 4 and 8 based on which the max NDVI was calculated. The output is stored on selected S3 storage in a Zarr format."
   ]
  },
  {
   "cell_type": "code",
   "execution_count": 3,
   "id": "white-format",
   "metadata": {
    "execution": {
     "iopub.execute_input": "2022-11-25T17:34:20.884551Z",
     "iopub.status.busy": "2022-11-25T17:34:20.883907Z",
     "iopub.status.idle": "2022-11-25T17:34:20.938326Z",
     "shell.execute_reply": "2022-11-25T17:34:20.937568Z"
    },
    "papermill": {
     "duration": 0.064841,
     "end_time": "2022-11-25T17:34:20.940603",
     "exception": false,
     "start_time": "2022-11-25T17:34:20.875762",
     "status": "completed"
    },
    "tags": []
   },
   "outputs": [],
   "source": [
    "url = \"https://services.sentinel-hub.com/api/v1/batch/process\"\n",
    "\n",
    "evalscript = \"\"\"\n",
    "    //VERSION=3\n",
    "    function setup() {\n",
    "        return {\n",
    "            input: [{\n",
    "                bands: [\"B04\", \"B08\"]\n",
    "            }],\n",
    "            output: [{\n",
    "                id: \"maxNDVI\",\n",
    "                sampleType: \"FLOAT32\",\n",
    "                bands: 1\n",
    "            },\n",
    "            {\n",
    "                id: \"band04\",\n",
    "                sampleType: \"UINT16\",\n",
    "                bands: 1\n",
    "            },\n",
    "            {\n",
    "                id: \"band08\",\n",
    "                sampleType: \"UINT16\",\n",
    "                bands: 1\n",
    "            }],\n",
    "            mosaicking: Mosaicking.ORBIT\n",
    "        }\n",
    "    }\n",
    "\n",
    "    function calcNDVI(sample) {\n",
    "        var denom = sample.B04 + sample.B08\n",
    "        return ((denom != 0) ? (sample.B08 - sample.B04) / denom : 0.0)\n",
    "    }\n",
    "\n",
    "    function evaluatePixel(samples) {\n",
    "        var maxNDVI = 0\n",
    "        var band04 = 0\n",
    "        var band08 = 0\n",
    "        for (var i = 0; i < samples.length; i++) {\n",
    "            var ndvi = calcNDVI(samples[i])\n",
    "            if (ndvi > maxNDVI){\n",
    "                maxNDVI = ndvi\n",
    "                band04 = samples[i].B04\n",
    "                band08 = samples[i].B08\n",
    "            }\n",
    "        }\n",
    "\n",
    "        return {\n",
    "            maxNDVI: [maxNDVI],\n",
    "            band04: [band04],\n",
    "            band08: [band08]\n",
    "        }\n",
    "    }\n",
    "\"\"\"\n",
    "\n",
    "payload = {\n",
    "    \"processRequest\": {\n",
    "        \"input\": {\n",
    "            \"bounds\": {\n",
    "                \"bbox\": [\n",
    "                    8.44,\n",
    "                    41.31,\n",
    "                    9.66,\n",
    "                    43.1\n",
    "                ],\n",
    "                \"properties\": {\n",
    "                    \"crs\": \"http://www.opengis.net/def/crs/OGC/1.3/CRS84\"\n",
    "                }\n",
    "            },\n",
    "            \"data\": [{\n",
    "                \"dataFilter\": {\n",
    "                    \"timeRange\": {\n",
    "                        \"from\": \"2019-04-01T00:00:00Z\",\n",
    "                        \"to\": \"2019-06-30T00:00:00Z\"\n",
    "                    },\n",
    "                \"maxCloudCoverage\": 70.0\n",
    "                },\n",
    "                \"type\": \"sentinel-2-l2a\"\n",
    "            }]\n",
    "        },\n",
    "        \"output\": {\n",
    "            \"responses\": [{\n",
    "                \"identifier\": \"band08\",\n",
    "                \"format\": {\n",
    "                    \"type\": \"zarr/array\"\n",
    "                }\n",
    "            },\n",
    "                {\n",
    "                \"identifier\": \"band04\",\n",
    "                \"format\": {\n",
    "                    \"type\": \"zarr/array\"\n",
    "                }\n",
    "            },\n",
    "                {\n",
    "                \"identifier\": \"maxNDVI\",\n",
    "                \"format\": {\n",
    "                    \"type\": \"zarr/array\"\n",
    "                }\n",
    "            }]\n",
    "        },\n",
    "        \"evalscript\": evalscript\n",
    "    },\n",
    "    \"tilingGrid\": {\n",
    "        \"id\": 6,\n",
    "        \"resolution\": 100.0\n",
    "    },\n",
    "    \"zarrOutput\": {\n",
    "        \"path\": \"<your-bucket>/<requestId>\",\n",
    "        \"group\": {\n",
    "            \"zarr_format\": 2\n",
    "        },\n",
    "        \"arrayParameters\": {\n",
    "            \"dtype\": \"<u2\",\n",
    "            \"order\": \"C\",\n",
    "            \"chunks\": [1, 1000, 1000],\n",
    "            \"fill_value\": 0\n",
    "        },\n",
    "        \"arrayOverrides\": {\n",
    "            \"maxNDVI\": {\n",
    "                \"dtype\": \"<f4\",\n",
    "                \"fill_value\": \"NaN\"\n",
    "            },\n",
    "        }\n",
    "    },\n",
    "    \"description\": \"Max NDVI over Corsica with Zarr format output\"\n",
    "}\n",
    "\n",
    "headers = {\n",
    "  'Content-Type': 'application/json'\n",
    "}\n",
    "\n",
    "response = oauth.request(\"POST\", url, headers=headers, json = payload)"
   ]
  },
  {
   "cell_type": "markdown",
   "id": "apart-sister",
   "metadata": {
    "papermill": {
     "duration": 0.006406,
     "end_time": "2022-11-25T17:34:20.953491",
     "exception": false,
     "start_time": "2022-11-25T17:34:20.947085",
     "status": "completed"
    },
    "tags": []
   },
   "source": [
    "From the response, we will extract a request id and store it in a separate variable:"
   ]
  },
  {
   "cell_type": "markdown",
   "id": "4c396ee5",
   "metadata": {
    "tags": [
     "papermill-error-cell-tag"
    ]
   },
   "source": [
    "<span id=\"papermill-error-cell\" style=\"color:red; font-family:Helvetica Neue, Helvetica, Arial, sans-serif; font-size:2em;\">Execution using papermill encountered an exception here and stopped:</span>"
   ]
  },
  {
   "cell_type": "code",
   "execution_count": 4,
   "id": "modern-rendering",
   "metadata": {
    "execution": {
     "iopub.execute_input": "2022-11-25T17:34:20.968549Z",
     "iopub.status.busy": "2022-11-25T17:34:20.968047Z",
     "iopub.status.idle": "2022-11-25T17:34:21.672523Z",
     "shell.execute_reply": "2022-11-25T17:34:21.671140Z"
    },
    "papermill": {
     "duration": 0.713867,
     "end_time": "2022-11-25T17:34:21.674184",
     "exception": true,
     "start_time": "2022-11-25T17:34:20.960317",
     "status": "failed"
    },
    "tags": []
   },
   "outputs": [
    {
     "ename": "KeyError",
     "evalue": "'id'",
     "output_type": "error",
     "traceback": [
      "\u001b[0;31m---------------------------------------------------------------------------\u001b[0m",
      "\u001b[0;31mKeyError\u001b[0m                                  Traceback (most recent call last)",
      "Cell \u001b[0;32mIn [4], line 1\u001b[0m\n\u001b[0;32m----> 1\u001b[0m batch_request_id \u001b[38;5;241m=\u001b[39m \u001b[43mresponse\u001b[49m\u001b[38;5;241;43m.\u001b[39;49m\u001b[43mjson\u001b[49m\u001b[43m(\u001b[49m\u001b[43m)\u001b[49m\u001b[43m[\u001b[49m\u001b[38;5;124;43m'\u001b[39;49m\u001b[38;5;124;43mid\u001b[39;49m\u001b[38;5;124;43m'\u001b[39;49m\u001b[43m]\u001b[49m\n\u001b[1;32m      2\u001b[0m batch_request_id\n",
      "\u001b[0;31mKeyError\u001b[0m: 'id'"
     ]
    }
   ],
   "source": [
    "batch_request_id = response.json()['id']\n",
    "batch_request_id"
   ]
  },
  {
   "cell_type": "markdown",
   "id": "married-marshall",
   "metadata": {
    "papermill": {
     "duration": null,
     "end_time": null,
     "exception": null,
     "start_time": null,
     "status": "pending"
    },
    "tags": []
   },
   "source": [
    "We could request an analysis of the batch request in order to ensure that everything will run smoothly. However, to shorten the process for this demo, we will simply request start of the processing:"
   ]
  },
  {
   "cell_type": "code",
   "execution_count": null,
   "id": "improved-focus",
   "metadata": {
    "papermill": {
     "duration": null,
     "end_time": null,
     "exception": null,
     "start_time": null,
     "status": "pending"
    },
    "tags": []
   },
   "outputs": [],
   "source": [
    "# Start processing\n",
    "url = f\"https://services.sentinel-hub.com/api/v1/batch/process/{batch_request_id}/start\"\n",
    "\n",
    "response = oauth.request(\"POST\", url)\n",
    "\n",
    "response.status_code"
   ]
  },
  {
   "cell_type": "markdown",
   "id": "environmental-lightning",
   "metadata": {
    "papermill": {
     "duration": null,
     "end_time": null,
     "exception": null,
     "start_time": null,
     "status": "pending"
    },
    "tags": []
   },
   "source": [
    "Now we have to wait until the processing is DONE. We can check the status of the request with running:"
   ]
  },
  {
   "cell_type": "code",
   "execution_count": null,
   "id": "august-lending",
   "metadata": {
    "papermill": {
     "duration": null,
     "end_time": null,
     "exception": null,
     "start_time": null,
     "status": "pending"
    },
    "tags": []
   },
   "outputs": [],
   "source": [
    "# Check status\n",
    "url = f\"https://services.sentinel-hub.com/api/v1/batch/process/{batch_request_id}\"\n",
    "\n",
    "response = oauth.request(\"GET\", url)\n",
    "\n",
    "response.json()[\"status\"]"
   ]
  },
  {
   "cell_type": "markdown",
   "id": "fleet-voice",
   "metadata": {
    "papermill": {
     "duration": null,
     "end_time": null,
     "exception": null,
     "start_time": null,
     "status": "pending"
    },
    "tags": []
   },
   "source": [
    "The processing is DONE and the results are available in my object storage as shown below. Note that the folder name is batch request id, since we used a placeholder `<requestId>` in the `path` parameter earlier."
   ]
  },
  {
   "attachments": {
    "image.png": {
     "image/png": "[encoded data removed]"
    }
   },
   "cell_type": "markdown",
   "id": "coastal-chambers",
   "metadata": {
    "papermill": {
     "duration": null,
     "end_time": null,
     "exception": null,
     "start_time": null,
     "status": "pending"
    },
    "tags": []
   },
   "source": [
    "![image.png](attachment:image.png)"
   ]
  },
  {
   "cell_type": "markdown",
   "id": "billion-finance",
   "metadata": {
    "papermill": {
     "duration": null,
     "end_time": null,
     "exception": null,
     "start_time": null,
     "status": "pending"
    },
    "tags": []
   },
   "source": [
    "## Explore the results with xarray"
   ]
  },
  {
   "cell_type": "markdown",
   "id": "aerial-afternoon",
   "metadata": {
    "papermill": {
     "duration": null,
     "end_time": null,
     "exception": null,
     "start_time": null,
     "status": "pending"
    },
    "tags": []
   },
   "source": [
    "We can now download the results and store them in the `./results` folder. Note that you will have to set up your AWS credentials correctly in order to execute this command. "
   ]
  },
  {
   "cell_type": "code",
   "execution_count": null,
   "id": "adequate-christmas",
   "metadata": {
    "papermill": {
     "duration": null,
     "end_time": null,
     "exception": null,
     "start_time": null,
     "status": "pending"
    },
    "tags": []
   },
   "outputs": [],
   "source": [
    "!aws s3 cp <your-bucket>/9920066c-5336-4129-9e49-583dd6088ac3 ./results --recursive "
   ]
  },
  {
   "cell_type": "markdown",
   "id": "operational-aurora",
   "metadata": {
    "papermill": {
     "duration": null,
     "end_time": null,
     "exception": null,
     "start_time": null,
     "status": "pending"
    },
    "tags": []
   },
   "source": [
    "We can now open and explore the date with xarray:"
   ]
  },
  {
   "cell_type": "code",
   "execution_count": null,
   "id": "desperate-morocco",
   "metadata": {
    "papermill": {
     "duration": null,
     "end_time": null,
     "exception": null,
     "start_time": null,
     "status": "pending"
    },
    "tags": []
   },
   "outputs": [],
   "source": [
    "cube_before = xr.open_zarr(\"./results\")\n",
    "cube_before"
   ]
  },
  {
   "cell_type": "code",
   "execution_count": null,
   "id": "authorized-northeast",
   "metadata": {
    "papermill": {
     "duration": null,
     "end_time": null,
     "exception": null,
     "start_time": null,
     "status": "pending"
    },
    "tags": []
   },
   "outputs": [],
   "source": [
    "cube_before.maxNDVI.isel(time=0).plot(figsize=[12,12], vmax=1.0)"
   ]
  },
  {
   "cell_type": "markdown",
   "id": "divine-founder",
   "metadata": {
    "papermill": {
     "duration": null,
     "end_time": null,
     "exception": null,
     "start_time": null,
     "status": "pending"
    },
    "tags": []
   },
   "source": [
    "## Ingest results to Sentinel Hub with Zarr import API"
   ]
  },
  {
   "cell_type": "markdown",
   "id": "sharing-twist",
   "metadata": {
    "papermill": {
     "duration": null,
     "end_time": null,
     "exception": null,
     "start_time": null,
     "status": "pending"
    },
    "tags": []
   },
   "source": [
    "The results can also be ingested back to the Sentinel Hub: "
   ]
  },
  {
   "cell_type": "code",
   "execution_count": null,
   "id": "identified-deadline",
   "metadata": {
    "papermill": {
     "duration": null,
     "end_time": null,
     "exception": null,
     "start_time": null,
     "status": "pending"
    },
    "tags": []
   },
   "outputs": [],
   "source": [
    "collection = {\n",
    "  'name': 'My Zarr Test Nov',\n",
    "  's3Bucket': <your-bucket-name>,\n",
    "  'path': f'<folder-in-your-bucket>/{batch_request_id}/',\n",
    "  \"crs\":\"http://www.opengis.net/def/crs/EPSG/0/3035\"\n",
    "}\n",
    "\n",
    "response = oauth.post('https://services.sentinel-hub.com/api/v1/zarr/collections', json=collection)\n",
    "response.raise_for_status()"
   ]
  },
  {
   "cell_type": "markdown",
   "id": "double-aspect",
   "metadata": {
    "papermill": {
     "duration": null,
     "end_time": null,
     "exception": null,
     "start_time": null,
     "status": "pending"
    },
    "tags": []
   },
   "source": [
    "This create a data collection. To get its id, run `response.json()[\"data\"][\"id\"]`. Form here on, we can use all Sentinel Hub funcionalites when working with this data collection."
   ]
  },
  {
   "cell_type": "code",
   "execution_count": null,
   "id": "drawn-award",
   "metadata": {
    "papermill": {
     "duration": null,
     "end_time": null,
     "exception": null,
     "start_time": null,
     "status": "pending"
    },
    "tags": []
   },
   "outputs": [],
   "source": []
  }
 ],
 "metadata": {
  "kernelspec": {
   "display_name": "pip_base",
   "language": "python",
   "name": "pip_base"
  },
  "language_info": {
   "codemirror_mode": {
    "name": "ipython",
    "version": 3
   },
   "file_extension": ".py",
   "mimetype": "text/x-python",
   "name": "python",
   "nbconvert_exporter": "python",
   "pygments_lexer": "ipython3",
   "version": "3.9.13"
  },
  "papermill": {
   "default_parameters": {},
   "duration": 4.714283,
   "end_time": "2022-11-25T17:34:22.301447",
   "environment_variables": {},
   "exception": true,
   "input_path": "/tmp/tmpueb_wlgj",
   "output_path": "/tmp/notebook_output.ipynb",
   "parameters": {},
   "start_time": "2022-11-25T17:34:17.587164",
   "version": "2.3.4"
  },
  "properties": {
   "authors": [
    {
     "id": "eoxhub_0b01bfcd-2d09-46f8-84e8-cb5720fba14c",
     "name": "anja.vrecko+EDC@sinergise.com"
    }
   ],
   "description": "Process data with SH Batch api and output results as Zarr.",
   "id": "7d5fd9ce-ab2d-4685-b37f-c301a5aadf73",
   "license": null,
   "name": "Batch Zarr output",
   "requirements": [
    "eurodatacube"
   ],
   "tags": [
    "EO Data",
    "Mass Processing",
    "Sentinel Hub",
    "xcube"
   ],
   "tosAgree": true,
   "type": "Jupyter Notebook",
   "version": "1.0"
  },
  "toc": {
   "base_numbering": 1,
   "nav_menu": {},
   "number_sections": true,
   "sideBar": true,
   "skip_h1_title": false,
   "title_cell": "Table of Contents",
   "title_sidebar": "Contents",
   "toc_cell": false,
   "toc_position": {
    "height": "calc(100% - 180px)",
    "left": "10px",
    "top": "150px",
    "width": "384px"
   },
   "toc_section_display": true,
   "toc_window_display": true
  },
  "varInspector": {
   "cols": {
    "lenName": 16,
    "lenType": 16,
    "lenVar": 40
   },
   "kernels_config": {
    "python": {
     "delete_cmd_postfix": "",
     "delete_cmd_prefix": "del ",
     "library": "var_list.py",
     "varRefreshCmd": "print(var_dic_list())"
    },
    "r": {
     "delete_cmd_postfix": ") ",
     "delete_cmd_prefix": "rm(",
     "library": "var_list.r",
     "varRefreshCmd": "cat(var_dic_list()) "
    }
   },
   "types_to_exclude": [
    "module",
    "function",
    "builtin_function_or_method",
    "instance",
    "_Feature"
   ],
   "window_display": false
  }
 },
 "nbformat": 4,
 "nbformat_minor": 5
}