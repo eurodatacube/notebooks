{
 "cells": [
  {
   "cell_type": "code",
   "execution_count": 1,
   "metadata": {
    "execution": {
     "iopub.execute_input": "2020-06-08T14:20:15.423758Z",
     "iopub.status.busy": "2020-06-08T14:20:15.423188Z",
     "iopub.status.idle": "2020-06-08T14:20:15.518890Z",
     "shell.execute_reply": "2020-06-08T14:20:15.519287Z"
    },
    "papermill": {
     "duration": 0.102202,
     "end_time": "2020-06-08T14:20:15.519433",
     "exception": false,
     "start_time": "2020-06-08T14:20:15.417231",
     "status": "completed"
    },
    "tags": []
   },
   "outputs": [
    {
     "data": {
      "text/markdown": [
       "API credentials have automatically been injected for your active subscriptions.  \n",
       "The following environment variables are now available:\n",
       "* `GEODB_API_SERVER_URL`\n",
       "* `GEODB_AUTH_CLIENT_ID`\n",
       "* `GEODB_AUTH_AUD`\n",
       "* `GEODB_AUTH_CLIENT_SECRET`\n",
       "* `GEODB_API_SERVER_PORT`\n",
       "* `GEODB_AUTH_DOMAIN`\n",
       "\n",
       "------\n"
      ],
      "text/plain": [
       "<IPython.core.display.Markdown object>"
      ]
     },
     "metadata": {},
     "output_type": "display_data"
    }
   ],
   "source": [
    "from edc import setup_environment_variables\n",
    "setup_environment_variables()"
   ]
  },
  {
   "cell_type": "code",
   "execution_count": 2,
   "metadata": {
    "execution": {
     "iopub.execute_input": "2020-06-08T14:20:15.530676Z",
     "iopub.status.busy": "2020-06-08T14:20:15.530098Z",
     "iopub.status.idle": "2020-06-08T14:20:15.532586Z",
     "shell.execute_reply": "2020-06-08T14:20:15.532018Z"
    },
    "papermill": {
     "duration": 0.010192,
     "end_time": "2020-06-08T14:20:15.532685",
     "exception": false,
     "start_time": "2020-06-08T14:20:15.522493",
     "status": "completed"
    },
    "tags": []
   },
   "outputs": [
    {
     "name": "stdout",
     "output_type": "stream",
     "text": [
      "Notebook is compatible\n"
     ]
    }
   ],
   "source": [
    "from edc import check_compatibility\n",
    "check_compatibility(\"v0.18.4\")"
   ]
  },
  {
   "cell_type": "code",
   "execution_count": null,
   "metadata": {
    "papermill": {
     "duration": 0.003836,
     "end_time": "2020-06-08T14:20:15.539325",
     "exception": false,
     "start_time": "2020-06-08T14:20:15.535489",
     "status": "completed"
    },
    "tags": []
   },
   "outputs": [],
   "source": []
  }
 ],
 "metadata": {
  "kernelspec": {
   "display_name": "Python 3",
   "language": "python",
   "name": "python3"
  },
  "language_info": {
   "codemirror_mode": {
    "name": "ipython",
    "version": 3
   },
   "file_extension": ".py",
   "mimetype": "text/x-python",
   "name": "python",
   "nbconvert_exporter": "python",
   "pygments_lexer": "ipython3",
   "version": "3.7.6"
  },
  "papermill": {
   "duration": 1.072569,
   "end_time": "2020-06-08T14:20:15.652674",
   "environment_variables": {},
   "exception": null,
   "input_path": "/tmp/tmpquiy7lvv",
   "output_path": "/tmp/notebook_output.ipynb",
   "parameters": {},
   "start_time": "2020-06-08T14:20:14.580105",
   "version": "2.1.0"
  },
  "properties": {
   "description": "test",
   "id": "0ef6073e-142b-4912-9ac6-60d0b39a229b",
   "license": null,
   "name": "test",
   "requirements": [
    "eurodatacube-geodb"
   ],
   "tags": [
    "EO Data"
   ],
   "tosAgree": true,
   "type": "Jupyter Notebook",
   "user_id": "0c0a0ef4-8d0d-4e70-b002-033c7cbb41fd",
   "version": "1.1.1"
  }
 },
 "nbformat": 4,
 "nbformat_minor": 4
}