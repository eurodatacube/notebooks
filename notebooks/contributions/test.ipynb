{
 "cells": [
  {
   "cell_type": "code",
   "execution_count": 1,
   "metadata": {
    "execution": {
     "iopub.execute_input": "2020-11-17T10:38:10.086705Z",
     "iopub.status.busy": "2020-11-17T10:38:10.085681Z",
     "iopub.status.idle": "2020-11-17T10:38:10.135572Z",
     "shell.execute_reply": "2020-11-17T10:38:10.134991Z"
    },
    "papermill": {
     "duration": 0.058569,
     "end_time": "2020-11-17T10:38:10.135724",
     "exception": false,
     "start_time": "2020-11-17T10:38:10.077155",
     "status": "completed"
    },
    "tags": []
   },
   "outputs": [
    {
     "data": {
      "text/html": [
       "<script type=\"text/javascript\">\n",
       "        function toggle(id) {\n",
       "            el = document.getElementById(id);\n",
       "            el.style.display = el.style.display === \"none\" ? \"block\" : \"none\";\n",
       "        }\n",
       "    </script>"
      ],
      "text/plain": [
       "<IPython.core.display.HTML object>"
      ]
     },
     "metadata": {},
     "output_type": "display_data"
    },
    {
     "data": {
      "text/html": [
       "This notebook is compatible with this base image version (user-0.21.2)."
      ],
      "text/plain": [
       "<IPython.core.display.HTML object>"
      ]
     },
     "metadata": {},
     "output_type": "display_data"
    }
   ],
   "source": [
    "from edc import check_compatibility\n",
    "check_compatibility(\"user-0.21.2\")"
   ]
  },
  {
   "cell_type": "code",
   "execution_count": 2,
   "metadata": {
    "execution": {
     "iopub.execute_input": "2020-11-17T10:38:10.146927Z",
     "iopub.status.busy": "2020-11-17T10:38:10.145761Z",
     "iopub.status.idle": "2020-11-17T10:38:10.149873Z",
     "shell.execute_reply": "2020-11-17T10:38:10.149353Z"
    },
    "papermill": {
     "duration": 0.010179,
     "end_time": "2020-11-17T10:38:10.149968",
     "exception": false,
     "start_time": "2020-11-17T10:38:10.139789",
     "status": "completed"
    },
    "tags": []
   },
   "outputs": [
    {
     "data": {
      "text/markdown": [
       "API credentials have automatically been injected for your active subscriptions.  \n",
       "The following environment variables are now available:\n",
       "* `AWS_ACCESS_KEY_ID`, `AWS_BUCKET`, `AWS_SECRET_ACCESS_KEY`\n",
       "* `SH_CLIENT_ID`, `SH_CLIENT_NAME`, `SH_CLIENT_SECRET`, `SH_INSTANCE_ID`\n",
       "* `XCUBE_GEN_API_SERVER_PORT`, `XCUBE_GEN_API_SERVER_URL`, `XCUBE_GEN_API_USER_NAME`, `XCUBE_GEN_AUTH_AUD`, `XCUBE_GEN_AUTH_CLIENT_ID`, `XCUBE_GEN_AUTH_CLIENT_SECRET`, `XCUBE_GEN_AUTH_DOMAIN`\n",
       "\n",
       "The following additional environment variables have been loaded from `~/custom.env`:\n",
       "* `AWS_BUCKET`\n",
       "* `DAPA_URL`\n",
       "* `DB_HOST`, `DB_NAME`, `DB_PASSWORD`, `DB_USER`\n",
       "* `OGC_EDC_URL`\n",
       "* `REFERENCE_DATA`\n"
      ],
      "text/plain": [
       "<IPython.core.display.Markdown object>"
      ]
     },
     "metadata": {},
     "output_type": "display_data"
    }
   ],
   "source": [
    "from edc import setup_environment_variables\n",
    "setup_environment_variables()"
   ]
  },
  {
   "cell_type": "code",
   "execution_count": 3,
   "metadata": {
    "execution": {
     "iopub.execute_input": "2020-11-17T10:38:10.161585Z",
     "iopub.status.busy": "2020-11-17T10:38:10.161022Z",
     "iopub.status.idle": "2020-11-17T10:38:11.627481Z",
     "shell.execute_reply": "2020-11-17T10:38:11.626903Z"
    },
    "papermill": {
     "duration": 1.473484,
     "end_time": "2020-11-17T10:38:11.627650",
     "exception": false,
     "start_time": "2020-11-17T10:38:10.154166",
     "status": "completed"
    },
    "tags": []
   },
   "outputs": [],
   "source": [
    "%matplotlib inline"
   ]
  },
  {
   "cell_type": "code",
   "execution_count": 4,
   "metadata": {
    "execution": {
     "iopub.execute_input": "2020-11-17T10:38:11.643147Z",
     "iopub.status.busy": "2020-11-17T10:38:11.642580Z",
     "iopub.status.idle": "2020-11-17T10:38:11.644624Z",
     "shell.execute_reply": "2020-11-17T10:38:11.644164Z"
    },
    "papermill": {
     "duration": 0.012739,
     "end_time": "2020-11-17T10:38:11.644728",
     "exception": false,
     "start_time": "2020-11-17T10:38:11.631989",
     "status": "completed"
    },
    "tags": [
     "parameters"
    ]
   },
   "outputs": [],
   "source": [
    "days = 6"
   ]
  },
  {
   "cell_type": "code",
   "execution_count": 5,
   "metadata": {
    "execution": {
     "iopub.execute_input": "2020-11-17T10:38:11.683310Z",
     "iopub.status.busy": "2020-11-17T10:38:11.682740Z",
     "iopub.status.idle": "2020-11-17T10:38:11.685247Z",
     "shell.execute_reply": "2020-11-17T10:38:11.684791Z"
    },
    "papermill": {
     "duration": 0.009445,
     "end_time": "2020-11-17T10:38:11.685357",
     "exception": false,
     "start_time": "2020-11-17T10:38:11.675912",
     "status": "completed"
    },
    "tags": []
   },
   "outputs": [
    {
     "data": {
      "text/plain": [
       "633825300114114700748351602688"
      ]
     },
     "execution_count": 5,
     "metadata": {},
     "output_type": "execute_result"
    }
   ],
   "source": [
    "2 ** 99"
   ]
  },
  {
   "cell_type": "code",
   "execution_count": null,
   "metadata": {
    "papermill": {
     "duration": 0.004234,
     "end_time": "2020-11-17T10:38:11.693905",
     "exception": false,
     "start_time": "2020-11-17T10:38:11.689671",
     "status": "completed"
    },
    "tags": []
   },
   "outputs": [],
   "source": []
  }
 ],
 "metadata": {
  "kernelspec": {
   "display_name": "Python 3",
   "language": "python",
   "name": "python3"
  },
  "language_info": {
   "codemirror_mode": {
    "name": "ipython",
    "version": 3
   },
   "file_extension": ".py",
   "mimetype": "text/x-python",
   "name": "python",
   "nbconvert_exporter": "python",
   "pygments_lexer": "ipython3",
   "version": "3.7.8"
  },
  "papermill": {
   "default_parameters": {},
   "duration": 2.697191,
   "end_time": "2020-11-17T10:38:12.002223",
   "environment_variables": {},
   "exception": null,
   "input_path": "/tmp/tmp0xgi5jm3",
   "output_path": "/tmp/notebook_output.ipynb",
   "parameters": {},
   "start_time": "2020-11-17T10:38:09.305032",
   "version": "2.2.0"
  },
  "properties": {
   "authors": [
    {
     "id": "eb7fa88c-36a4-4b5f-959f-c7869d5acda8",
     "name": "bernhard.mallinger@eox.at"
    }
   ],
   "description": "test",
   "id": "cd3b63ed-1b55-4573-b914-d598f5f6c3f8",
   "license": null,
   "name": "test",
   "requirements": [
    "eurodatacube",
    "eurodatacube-xcube-gen"
   ],
   "tags": [
    "Analysis-Ready Data"
   ],
   "tosAgree": true,
   "type": "Jupyter Notebook",
   "version": "1"
  }
 },
 "nbformat": 4,
 "nbformat_minor": 4
}