{
 "cells": [
  {
   "cell_type": "code",
   "execution_count": 1,
   "metadata": {
    "execution": {
     "iopub.execute_input": "2020-10-01T12:53:00.284407Z",
     "iopub.status.busy": "2020-10-01T12:53:00.283845Z",
     "iopub.status.idle": "2020-10-01T12:53:00.335574Z",
     "shell.execute_reply": "2020-10-01T12:53:00.335952Z"
    },
    "papermill": {
     "duration": 0.0579,
     "end_time": "2020-10-01T12:53:00.336187",
     "exception": false,
     "start_time": "2020-10-01T12:53:00.278287",
     "status": "completed"
    },
    "tags": []
   },
   "outputs": [
    {
     "data": {
      "text/markdown": [
       "API credentials have automatically been injected for your active subscriptions.  \n",
       "The following environment variables are now available:\n",
       "* `SH_CLIENT_ID`, `SH_CLIENT_NAME`, `SH_CLIENT_SECRET`, `SH_INSTANCE_ID`\n",
       "\n",
       "The following additional environment variables have been loaded from `~/custom.env`:\n",
       "* `AWS_BUCKET`\n",
       "* `DAPA_URL`\n",
       "* `DB_HOST`, `DB_NAME`, `DB_PASSWORD`, `DB_USER`\n",
       "* `OGC_EDC_URL`\n",
       "* `REFERENCE_DATA`\n"
      ],
      "text/plain": [
       "<IPython.core.display.Markdown object>"
      ]
     },
     "metadata": {},
     "output_type": "display_data"
    }
   ],
   "source": [
    "from edc import setup_environment_variables\n",
    "setup_environment_variables()"
   ]
  },
  {
   "cell_type": "code",
   "execution_count": 2,
   "metadata": {
    "execution": {
     "iopub.execute_input": "2020-10-01T12:53:00.350666Z",
     "iopub.status.busy": "2020-10-01T12:53:00.350062Z",
     "iopub.status.idle": "2020-10-01T12:53:00.353536Z",
     "shell.execute_reply": "2020-10-01T12:53:00.353906Z"
    },
    "papermill": {
     "duration": 0.015549,
     "end_time": "2020-10-01T12:53:00.354022",
     "exception": false,
     "start_time": "2020-10-01T12:53:00.338473",
     "status": "completed"
    },
    "tags": []
   },
   "outputs": [
    {
     "data": {
      "text/html": [
       "<script type=\"text/javascript\">\n",
       "        function toggle(id) {\n",
       "            el = document.getElementById(id);\n",
       "            el.style.display = el.style.display === \"none\" ? \"block\" : \"none\";\n",
       "        }\n",
       "    </script>"
      ],
      "text/plain": [
       "<IPython.core.display.HTML object>"
      ]
     },
     "metadata": {},
     "output_type": "display_data"
    },
    {
     "data": {
      "text/html": [
       "This notebook is compatible with this base image version (user-0.21.0)."
      ],
      "text/plain": [
       "<IPython.core.display.HTML object>"
      ]
     },
     "metadata": {},
     "output_type": "display_data"
    }
   ],
   "source": [
    "from edc import check_compatibility\n",
    "check_compatibility(\"user-0.21.0\")"
   ]
  }
 ],
 "metadata": {
  "language_info": {
   "codemirror_mode": {
    "name": "ipython",
    "version": 3
   },
   "file_extension": ".py",
   "mimetype": "text/x-python",
   "name": "python",
   "nbconvert_exporter": "python",
   "pygments_lexer": "ipython3",
   "version": "3.7.8"
  },
  "papermill": {
   "default_parameters": {},
   "duration": 1.065187,
   "end_time": "2020-10-01T12:53:00.561013",
   "environment_variables": {},
   "exception": null,
   "input_path": "/tmp/tmplbdhd49k",
   "output_path": "/tmp/notebook_output.ipynb",
   "parameters": {},
   "start_time": "2020-10-01T12:52:59.495826",
   "version": "2.2.0"
  },
  "properties": {
   "authors": [
    {
     "id": "f22b3548-6826-4dc7-bd0b-c76a83fe807d",
     "name": "juan@earthpulse.es"
    }
   ],
   "description": "test",
   "id": "5cb435bf-7be5-4882-b452-be1fcc99217c",
   "license": null,
   "name": "phi week test",
   "requirements": [
    "eurodatacube"
   ],
   "tags": [
    "COVID-19"
   ],
   "tosAgree": true,
   "type": "Jupyter Notebook",
   "version": "0.0.1"
  }
 },
 "nbformat": 4,
 "nbformat_minor": 4
}