{
 "cells": [
  {
   "cell_type": "code",
   "execution_count": 1,
   "metadata": {
    "execution": {
     "iopub.execute_input": "2020-11-16T14:29:05.157852Z",
     "iopub.status.busy": "2020-11-16T14:29:05.157317Z",
     "iopub.status.idle": "2020-11-16T14:29:05.207860Z",
     "shell.execute_reply": "2020-11-16T14:29:05.207338Z"
    },
    "papermill": {
     "duration": 0.058576,
     "end_time": "2020-11-16T14:29:05.208009",
     "exception": false,
     "start_time": "2020-11-16T14:29:05.149433",
     "status": "completed"
    },
    "tags": []
   },
   "outputs": [
    {
     "data": {
      "text/html": [
       "<script type=\"text/javascript\">\n",
       "        function toggle(id) {\n",
       "            el = document.getElementById(id);\n",
       "            el.style.display = el.style.display === \"none\" ? \"block\" : \"none\";\n",
       "        }\n",
       "    </script>"
      ],
      "text/plain": [
       "<IPython.core.display.HTML object>"
      ]
     },
     "metadata": {},
     "output_type": "display_data"
    },
    {
     "data": {
      "text/html": [
       "This notebook is compatible with this base image version (user-0.21.2)."
      ],
      "text/plain": [
       "<IPython.core.display.HTML object>"
      ]
     },
     "metadata": {},
     "output_type": "display_data"
    }
   ],
   "source": [
    "from edc import check_compatibility\n",
    "check_compatibility(\"user-0.21.2\")"
   ]
  },
  {
   "cell_type": "code",
   "execution_count": 2,
   "metadata": {
    "execution": {
     "iopub.execute_input": "2020-11-16T14:29:05.217972Z",
     "iopub.status.busy": "2020-11-16T14:29:05.217455Z",
     "iopub.status.idle": "2020-11-16T14:29:05.221290Z",
     "shell.execute_reply": "2020-11-16T14:29:05.220840Z"
    },
    "papermill": {
     "duration": 0.009632,
     "end_time": "2020-11-16T14:29:05.221384",
     "exception": false,
     "start_time": "2020-11-16T14:29:05.211752",
     "status": "completed"
    },
    "tags": []
   },
   "outputs": [
    {
     "data": {
      "text/markdown": [
       "API credentials have automatically been injected for your active subscriptions.  \n",
       "The following environment variables are now available:\n",
       "* `SH_CLIENT_ID`, `SH_CLIENT_NAME`, `SH_CLIENT_SECRET`, `SH_INSTANCE_ID`\n",
       "\n",
       "The following additional environment variables have been loaded from `~/custom.env`:\n",
       "* `AWS_BUCKET`\n",
       "* `DAPA_URL`\n",
       "* `DB_HOST`, `DB_NAME`, `DB_PASSWORD`, `DB_USER`\n",
       "* `OGC_EDC_URL`\n",
       "* `REFERENCE_DATA`\n"
      ],
      "text/plain": [
       "<IPython.core.display.Markdown object>"
      ]
     },
     "metadata": {},
     "output_type": "display_data"
    }
   ],
   "source": [
    "from edc import setup_environment_variables\n",
    "setup_environment_variables()"
   ]
  },
  {
   "cell_type": "code",
   "execution_count": 3,
   "metadata": {
    "execution": {
     "iopub.execute_input": "2020-11-16T14:29:05.232104Z",
     "iopub.status.busy": "2020-11-16T14:29:05.231590Z",
     "iopub.status.idle": "2020-11-16T14:29:06.691132Z",
     "shell.execute_reply": "2020-11-16T14:29:06.690564Z"
    },
    "papermill": {
     "duration": 1.466098,
     "end_time": "2020-11-16T14:29:06.691256",
     "exception": false,
     "start_time": "2020-11-16T14:29:05.225158",
     "status": "completed"
    },
    "tags": []
   },
   "outputs": [],
   "source": [
    "%matplotlib inline"
   ]
  },
  {
   "cell_type": "code",
   "execution_count": 4,
   "metadata": {
    "execution": {
     "iopub.execute_input": "2020-11-16T14:29:06.702876Z",
     "iopub.status.busy": "2020-11-16T14:29:06.702246Z",
     "iopub.status.idle": "2020-11-16T14:29:06.703726Z",
     "shell.execute_reply": "2020-11-16T14:29:06.704156Z"
    },
    "papermill": {
     "duration": 0.008694,
     "end_time": "2020-11-16T14:29:06.704269",
     "exception": false,
     "start_time": "2020-11-16T14:29:06.695575",
     "status": "completed"
    },
    "tags": [
     "parameters"
    ]
   },
   "outputs": [],
   "source": [
    "days = 6"
   ]
  },
  {
   "cell_type": "code",
   "execution_count": 5,
   "metadata": {
    "execution": {
     "iopub.execute_input": "2020-11-16T14:29:06.743378Z",
     "iopub.status.busy": "2020-11-16T14:29:06.742779Z",
     "iopub.status.idle": "2020-11-16T14:29:06.744863Z",
     "shell.execute_reply": "2020-11-16T14:29:06.745237Z"
    },
    "papermill": {
     "duration": 0.009495,
     "end_time": "2020-11-16T14:29:06.745346",
     "exception": false,
     "start_time": "2020-11-16T14:29:06.735851",
     "status": "completed"
    },
    "tags": []
   },
   "outputs": [
    {
     "data": {
      "text/plain": [
       "633825300114114700748351602688"
      ]
     },
     "execution_count": 5,
     "metadata": {},
     "output_type": "execute_result"
    }
   ],
   "source": [
    "2 ** 99"
   ]
  },
  {
   "cell_type": "code",
   "execution_count": null,
   "metadata": {
    "papermill": {
     "duration": 0.004577,
     "end_time": "2020-11-16T14:29:06.754235",
     "exception": false,
     "start_time": "2020-11-16T14:29:06.749658",
     "status": "completed"
    },
    "tags": []
   },
   "outputs": [],
   "source": []
  }
 ],
 "metadata": {
  "kernelspec": {
   "display_name": "Python 3",
   "language": "python",
   "name": "python3"
  },
  "language_info": {
   "codemirror_mode": {
    "name": "ipython",
    "version": 3
   },
   "file_extension": ".py",
   "mimetype": "text/x-python",
   "name": "python",
   "nbconvert_exporter": "python",
   "pygments_lexer": "ipython3",
   "version": "3.7.8"
  },
  "papermill": {
   "default_parameters": {},
   "duration": 2.684909,
   "end_time": "2020-11-16T14:29:07.062954",
   "environment_variables": {},
   "exception": null,
   "input_path": "/tmp/tmplcmz2odl",
   "output_path": "/tmp/notebook_output.ipynb",
   "parameters": {},
   "start_time": "2020-11-16T14:29:04.378045",
   "version": "2.2.0"
  },
  "properties": {
   "authors": [
    {
     "id": "0c0a0ef4-8d0d-4e70-b002-033c7cbb41fd",
     "name": "mallinger.bernhard@eox.at"
    }
   ],
   "description": "test",
   "id": "f9b25399-4f8a-400a-b274-534646bfbad0",
   "license": null,
   "name": "test",
   "requirements": [
    "eurodatacube"
   ],
   "tags": [
    "EO Data"
   ],
   "tosAgree": true,
   "type": "Jupyter Notebook",
   "version": "1"
  }
 },
 "nbformat": 4,
 "nbformat_minor": 4
}