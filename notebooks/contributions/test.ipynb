{
 "cells": [
  {
   "cell_type": "code",
   "execution_count": 1,
   "metadata": {
    "execution": {
     "iopub.execute_input": "2020-11-16T14:32:43.775031Z",
     "iopub.status.busy": "2020-11-16T14:32:43.774478Z",
     "iopub.status.idle": "2020-11-16T14:32:43.825862Z",
     "shell.execute_reply": "2020-11-16T14:32:43.825335Z"
    },
    "papermill": {
     "duration": 0.059867,
     "end_time": "2020-11-16T14:32:43.826011",
     "exception": false,
     "start_time": "2020-11-16T14:32:43.766144",
     "status": "completed"
    },
    "tags": []
   },
   "outputs": [
    {
     "data": {
      "text/html": [
       "<script type=\"text/javascript\">\n",
       "        function toggle(id) {\n",
       "            el = document.getElementById(id);\n",
       "            el.style.display = el.style.display === \"none\" ? \"block\" : \"none\";\n",
       "        }\n",
       "    </script>"
      ],
      "text/plain": [
       "<IPython.core.display.HTML object>"
      ]
     },
     "metadata": {},
     "output_type": "display_data"
    },
    {
     "data": {
      "text/html": [
       "This notebook is compatible with this base image version (user-0.21.2)."
      ],
      "text/plain": [
       "<IPython.core.display.HTML object>"
      ]
     },
     "metadata": {},
     "output_type": "display_data"
    }
   ],
   "source": [
    "from edc import check_compatibility\n",
    "check_compatibility(\"user-0.21.2\")"
   ]
  },
  {
   "cell_type": "code",
   "execution_count": 2,
   "metadata": {
    "execution": {
     "iopub.execute_input": "2020-11-16T14:32:43.837057Z",
     "iopub.status.busy": "2020-11-16T14:32:43.835849Z",
     "iopub.status.idle": "2020-11-16T14:32:43.839700Z",
     "shell.execute_reply": "2020-11-16T14:32:43.839246Z"
    },
    "papermill": {
     "duration": 0.009919,
     "end_time": "2020-11-16T14:32:43.839795",
     "exception": false,
     "start_time": "2020-11-16T14:32:43.829876",
     "status": "completed"
    },
    "tags": []
   },
   "outputs": [
    {
     "data": {
      "text/markdown": [
       "API credentials have automatically been injected for your active subscriptions.  \n",
       "The following environment variables are now available:\n",
       "* `SH_CLIENT_ID`, `SH_CLIENT_NAME`, `SH_CLIENT_SECRET`, `SH_INSTANCE_ID`\n",
       "\n",
       "The following additional environment variables have been loaded from `~/custom.env`:\n",
       "* `AWS_BUCKET`\n",
       "* `DAPA_URL`\n",
       "* `DB_HOST`, `DB_NAME`, `DB_PASSWORD`, `DB_USER`\n",
       "* `OGC_EDC_URL`\n",
       "* `REFERENCE_DATA`\n"
      ],
      "text/plain": [
       "<IPython.core.display.Markdown object>"
      ]
     },
     "metadata": {},
     "output_type": "display_data"
    }
   ],
   "source": [
    "from edc import setup_environment_variables\n",
    "setup_environment_variables()"
   ]
  },
  {
   "cell_type": "code",
   "execution_count": 3,
   "metadata": {
    "execution": {
     "iopub.execute_input": "2020-11-16T14:32:43.851169Z",
     "iopub.status.busy": "2020-11-16T14:32:43.850651Z",
     "iopub.status.idle": "2020-11-16T14:32:45.335159Z",
     "shell.execute_reply": "2020-11-16T14:32:45.334598Z"
    },
    "papermill": {
     "duration": 1.491465,
     "end_time": "2020-11-16T14:32:45.335292",
     "exception": false,
     "start_time": "2020-11-16T14:32:43.843827",
     "status": "completed"
    },
    "tags": []
   },
   "outputs": [],
   "source": [
    "%matplotlib inline"
   ]
  },
  {
   "cell_type": "code",
   "execution_count": 4,
   "metadata": {
    "execution": {
     "iopub.execute_input": "2020-11-16T14:32:45.346717Z",
     "iopub.status.busy": "2020-11-16T14:32:45.346162Z",
     "iopub.status.idle": "2020-11-16T14:32:45.348307Z",
     "shell.execute_reply": "2020-11-16T14:32:45.347794Z"
    },
    "papermill": {
     "duration": 0.008794,
     "end_time": "2020-11-16T14:32:45.348416",
     "exception": false,
     "start_time": "2020-11-16T14:32:45.339622",
     "status": "completed"
    },
    "tags": [
     "parameters"
    ]
   },
   "outputs": [],
   "source": [
    "days = 6"
   ]
  },
  {
   "cell_type": "code",
   "execution_count": 5,
   "metadata": {
    "execution": {
     "iopub.execute_input": "2020-11-16T14:32:45.386922Z",
     "iopub.status.busy": "2020-11-16T14:32:45.386341Z",
     "iopub.status.idle": "2020-11-16T14:32:45.388777Z",
     "shell.execute_reply": "2020-11-16T14:32:45.389171Z"
    },
    "papermill": {
     "duration": 0.009745,
     "end_time": "2020-11-16T14:32:45.389281",
     "exception": false,
     "start_time": "2020-11-16T14:32:45.379536",
     "status": "completed"
    },
    "tags": []
   },
   "outputs": [
    {
     "data": {
      "text/plain": [
       "633825300114114700748351602688"
      ]
     },
     "execution_count": 5,
     "metadata": {},
     "output_type": "execute_result"
    }
   ],
   "source": [
    "2 ** 99"
   ]
  },
  {
   "cell_type": "code",
   "execution_count": null,
   "metadata": {
    "papermill": {
     "duration": 0.004194,
     "end_time": "2020-11-16T14:32:45.401646",
     "exception": false,
     "start_time": "2020-11-16T14:32:45.397452",
     "status": "completed"
    },
    "tags": []
   },
   "outputs": [],
   "source": []
  }
 ],
 "metadata": {
  "kernelspec": {
   "display_name": "Python 3",
   "language": "python",
   "name": "python3"
  },
  "language_info": {
   "codemirror_mode": {
    "name": "ipython",
    "version": 3
   },
   "file_extension": ".py",
   "mimetype": "text/x-python",
   "name": "python",
   "nbconvert_exporter": "python",
   "pygments_lexer": "ipython3",
   "version": "3.7.8"
  },
  "papermill": {
   "default_parameters": {},
   "duration": 2.727557,
   "end_time": "2020-11-16T14:32:45.709654",
   "environment_variables": {},
   "exception": null,
   "input_path": "/tmp/tmp7gtkp16_",
   "output_path": "/tmp/notebook_output.ipynb",
   "parameters": {},
   "start_time": "2020-11-16T14:32:42.982097",
   "version": "2.2.0"
  },
  "properties": {
   "authors": [
    {
     "id": "0c0a0ef4-8d0d-4e70-b002-033c7cbb41fd",
     "name": "mallinger.bernhard@eox.at"
    }
   ],
   "description": "test",
   "id": "f9b25399-4f8a-400a-b274-534646bfbad0",
   "license": null,
   "name": "test",
   "requirements": [
    "eurodatacube"
   ],
   "tags": [
    "EO Data"
   ],
   "tosAgree": true,
   "type": "Jupyter Notebook",
   "version": "1"
  }
 },
 "nbformat": 4,
 "nbformat_minor": 4
}