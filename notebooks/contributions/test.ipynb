{
 "cells": [
  {
   "cell_type": "markdown",
   "metadata": {
    "tags": [
     "papermill-error-cell-tag"
    ]
   },
   "source": [
    "<span style=\"color:red; font-family:Helvetica Neue, Helvetica, Arial, sans-serif; font-size:2em;\">An Exception was encountered at '<a href=\"#papermill-error-cell\">In [1]</a>'.</span>"
   ]
  },
  {
   "cell_type": "markdown",
   "metadata": {
    "tags": [
     "papermill-error-cell-tag"
    ]
   },
   "source": [
    "<span id=\"papermill-error-cell\" style=\"color:red; font-family:Helvetica Neue, Helvetica, Arial, sans-serif; font-size:2em;\">Execution using papermill encountered an exception here and stopped:</span>"
   ]
  },
  {
   "cell_type": "code",
   "execution_count": 1,
   "metadata": {
    "execution": {
     "iopub.execute_input": "2020-11-17T10:28:28.791866Z",
     "iopub.status.busy": "2020-11-17T10:28:28.790782Z",
     "iopub.status.idle": "2020-11-17T10:28:28.937705Z",
     "shell.execute_reply": "2020-11-17T10:28:28.935980Z"
    },
    "papermill": {
     "duration": 0.159143,
     "end_time": "2020-11-17T10:28:28.937957",
     "exception": true,
     "start_time": "2020-11-17T10:28:28.778814",
     "status": "failed"
    },
    "tags": []
   },
   "outputs": [
    {
     "ename": "TypeError",
     "evalue": "exceptions must derive from BaseException",
     "output_type": "error",
     "traceback": [
      "\u001b[0;31m---------------------------------------------------------------------------\u001b[0m",
      "\u001b[0;31mTypeError\u001b[0m                                 Traceback (most recent call last)",
      "\u001b[0;32m<ipython-input-1-56846efbcf20>\u001b[0m in \u001b[0;36m<module>\u001b[0;34m\u001b[0m\n\u001b[1;32m      1\u001b[0m \u001b[0;32mfrom\u001b[0m \u001b[0medc\u001b[0m \u001b[0;32mimport\u001b[0m \u001b[0mcheck_compatibility\u001b[0m\u001b[0;34m\u001b[0m\u001b[0;34m\u001b[0m\u001b[0m\n\u001b[0;32m----> 2\u001b[0;31m \u001b[0;32mraise\u001b[0m \u001b[0;36m4\u001b[0m\u001b[0;34m\u001b[0m\u001b[0;34m\u001b[0m\u001b[0m\n\u001b[0m\u001b[1;32m      3\u001b[0m \u001b[0mcheck_compatibility\u001b[0m\u001b[0;34m(\u001b[0m\u001b[0;34m\"user-0.21.2\"\u001b[0m\u001b[0;34m)\u001b[0m\u001b[0;34m\u001b[0m\u001b[0;34m\u001b[0m\u001b[0m\n",
      "\u001b[0;31mTypeError\u001b[0m: exceptions must derive from BaseException"
     ]
    }
   ],
   "source": [
    "from edc import check_compatibility\n",
    "raise 4\n",
    "check_compatibility(\"user-0.21.2\")"
   ]
  },
  {
   "cell_type": "code",
   "execution_count": null,
   "metadata": {
    "execution": {
     "iopub.execute_input": "2020-11-17T10:08:29.534968Z",
     "iopub.status.busy": "2020-11-17T10:08:29.533825Z",
     "iopub.status.idle": "2020-11-17T10:08:29.552635Z",
     "shell.execute_reply": "2020-11-17T10:08:29.551766Z"
    },
    "papermill": {
     "duration": null,
     "end_time": null,
     "exception": null,
     "start_time": null,
     "status": "pending"
    },
    "tags": []
   },
   "outputs": [],
   "source": [
    "from edc import setup_environment_variables\n",
    "setup_environment_variables()"
   ]
  },
  {
   "cell_type": "code",
   "execution_count": null,
   "metadata": {
    "execution": {
     "iopub.execute_input": "2020-11-17T10:08:29.573371Z",
     "iopub.status.busy": "2020-11-17T10:08:29.572073Z",
     "iopub.status.idle": "2020-11-17T10:08:31.928559Z",
     "shell.execute_reply": "2020-11-17T10:08:31.927675Z"
    },
    "papermill": {
     "duration": null,
     "end_time": null,
     "exception": null,
     "start_time": null,
     "status": "pending"
    },
    "tags": []
   },
   "outputs": [],
   "source": [
    "%matplotlib inline"
   ]
  },
  {
   "cell_type": "code",
   "execution_count": null,
   "metadata": {
    "execution": {
     "iopub.execute_input": "2020-11-17T10:08:31.949370Z",
     "iopub.status.busy": "2020-11-17T10:08:31.948286Z",
     "iopub.status.idle": "2020-11-17T10:08:31.951145Z",
     "shell.execute_reply": "2020-11-17T10:08:31.950485Z"
    },
    "papermill": {
     "duration": null,
     "end_time": null,
     "exception": null,
     "start_time": null,
     "status": "pending"
    },
    "tags": [
     "parameters"
    ]
   },
   "outputs": [],
   "source": [
    "days = 6"
   ]
  },
  {
   "cell_type": "code",
   "execution_count": null,
   "metadata": {
    "execution": {
     "iopub.execute_input": "2020-11-17T10:08:31.999622Z",
     "iopub.status.busy": "2020-11-17T10:08:31.998497Z",
     "iopub.status.idle": "2020-11-17T10:08:32.002731Z",
     "shell.execute_reply": "2020-11-17T10:08:32.001951Z"
    },
    "papermill": {
     "duration": null,
     "end_time": null,
     "exception": null,
     "start_time": null,
     "status": "pending"
    },
    "tags": []
   },
   "outputs": [],
   "source": [
    "2 ** 99"
   ]
  },
  {
   "cell_type": "code",
   "execution_count": null,
   "metadata": {
    "papermill": {
     "duration": null,
     "end_time": null,
     "exception": null,
     "start_time": null,
     "status": "pending"
    },
    "tags": []
   },
   "outputs": [],
   "source": []
  }
 ],
 "metadata": {
  "kernelspec": {
   "display_name": "Python 3",
   "language": "python",
   "name": "python3"
  },
  "language_info": {
   "codemirror_mode": {
    "name": "ipython",
    "version": 3
   },
   "file_extension": ".py",
   "mimetype": "text/x-python",
   "name": "python",
   "nbconvert_exporter": "python",
   "pygments_lexer": "ipython3",
   "version": "3.7.8"
  },
  "papermill": {
   "default_parameters": {},
   "duration": 1.609408,
   "end_time": "2020-11-17T10:28:29.344444",
   "environment_variables": {},
   "exception": true,
   "input_path": "/tmp/tmp4p2ceyr6",
   "output_path": "/tmp/notebook_output.ipynb",
   "parameters": {},
   "start_time": "2020-11-17T10:28:27.735036",
   "version": "2.2.0"
  },
  "properties": {
   "authors": [
    {
     "id": "eb7fa88c-36a4-4b5f-959f-c7869d5acda8",
     "name": "bernhard.mallinger@eox.at"
    }
   ],
   "description": "test",
   "id": "cd3b63ed-1b55-4573-b914-d598f5f6c3f8",
   "license": null,
   "name": "test",
   "requirements": [
    "eurodatacube",
    "eurodatacube-xcube-gen"
   ],
   "tags": [
    "Analysis-Ready Data"
   ],
   "tosAgree": true,
   "type": "Jupyter Notebook",
   "version": "1"
  }
 },
 "nbformat": 4,
 "nbformat_minor": 4
}