{
 "cells": [
  {
   "cell_type": "code",
   "execution_count": 1,
   "metadata": {
    "execution": {
     "iopub.execute_input": "2020-06-25T08:42:00.139765Z",
     "iopub.status.busy": "2020-06-25T08:42:00.139206Z",
     "iopub.status.idle": "2020-06-25T08:42:00.227405Z",
     "shell.execute_reply": "2020-06-25T08:42:00.226786Z"
    },
    "papermill": {
     "duration": 0.09559,
     "end_time": "2020-06-25T08:42:00.227515",
     "exception": false,
     "start_time": "2020-06-25T08:42:00.131925",
     "status": "completed"
    },
    "tags": []
   },
   "outputs": [
    {
     "name": "stdout",
     "output_type": "stream",
     "text": [
      "Notebook is compatible\n"
     ]
    }
   ],
   "source": [
    "from edc import check_compatibility\n",
    "check_compatibility(\"v0.18.4\")"
   ]
  },
  {
   "cell_type": "code",
   "execution_count": 2,
   "metadata": {
    "execution": {
     "iopub.execute_input": "2020-06-25T08:42:00.238087Z",
     "iopub.status.busy": "2020-06-25T08:42:00.237543Z",
     "iopub.status.idle": "2020-06-25T08:42:00.245378Z",
     "shell.execute_reply": "2020-06-25T08:42:00.244902Z"
    },
    "papermill": {
     "duration": 0.014079,
     "end_time": "2020-06-25T08:42:00.245461",
     "exception": false,
     "start_time": "2020-06-25T08:42:00.231382",
     "status": "completed"
    },
    "tags": []
   },
   "outputs": [
    {
     "data": {
      "text/markdown": [
       "API credentials have automatically been injected for your active subscriptions.  \n",
       "The following environment variables are now available:\n",
       "* `SH_INSTANCE_ID`\n",
       "* `SH_CLIENT_ID`\n",
       "* `SH_CLIENT_SECRET`\n",
       "* `SH_CLIENT_NAME`\n",
       "\n",
       "------\n"
      ],
      "text/plain": [
       "<IPython.core.display.Markdown object>"
      ]
     },
     "metadata": {},
     "output_type": "display_data"
    }
   ],
   "source": [
    "from edc import setup_environment_variables\n",
    "setup_environment_variables()"
   ]
  },
  {
   "cell_type": "code",
   "execution_count": 3,
   "metadata": {
    "execution": {
     "iopub.execute_input": "2020-06-25T08:42:00.256466Z",
     "iopub.status.busy": "2020-06-25T08:42:00.255872Z",
     "iopub.status.idle": "2020-06-25T08:42:00.670313Z",
     "shell.execute_reply": "2020-06-25T08:42:00.669668Z"
    },
    "papermill": {
     "duration": 0.421243,
     "end_time": "2020-06-25T08:42:00.670424",
     "exception": false,
     "start_time": "2020-06-25T08:42:00.249181",
     "status": "completed"
    },
    "tags": []
   },
   "outputs": [],
   "source": [
    "%matplotlib inline"
   ]
  },
  {
   "cell_type": "code",
   "execution_count": 4,
   "metadata": {
    "execution": {
     "iopub.execute_input": "2020-06-25T08:42:00.682380Z",
     "iopub.status.busy": "2020-06-25T08:42:00.681768Z",
     "iopub.status.idle": "2020-06-25T08:42:00.683340Z",
     "shell.execute_reply": "2020-06-25T08:42:00.683749Z"
    },
    "papermill": {
     "duration": 0.008967,
     "end_time": "2020-06-25T08:42:00.683857",
     "exception": false,
     "start_time": "2020-06-25T08:42:00.674890",
     "status": "completed"
    },
    "tags": [
     "parameters"
    ]
   },
   "outputs": [],
   "source": [
    "days = 6"
   ]
  },
  {
   "cell_type": "code",
   "execution_count": 5,
   "metadata": {
    "execution": {
     "iopub.execute_input": "2020-06-25T08:42:00.695615Z",
     "iopub.status.busy": "2020-06-25T08:42:00.695012Z",
     "iopub.status.idle": "2020-06-25T08:42:00.697709Z",
     "shell.execute_reply": "2020-06-25T08:42:00.697120Z"
    },
    "papermill": {
     "duration": 0.009646,
     "end_time": "2020-06-25T08:42:00.697796",
     "exception": false,
     "start_time": "2020-06-25T08:42:00.688150",
     "status": "completed"
    },
    "tags": []
   },
   "outputs": [
    {
     "data": {
      "text/plain": [
       "633825300114114700748351602688"
      ]
     },
     "execution_count": 5,
     "metadata": {},
     "output_type": "execute_result"
    }
   ],
   "source": [
    "2 ** 99"
   ]
  },
  {
   "cell_type": "code",
   "execution_count": null,
   "metadata": {
    "papermill": {
     "duration": 0.004686,
     "end_time": "2020-06-25T08:42:00.707109",
     "exception": false,
     "start_time": "2020-06-25T08:42:00.702423",
     "status": "completed"
    },
    "tags": []
   },
   "outputs": [],
   "source": []
  }
 ],
 "metadata": {
  "kernelspec": {
   "display_name": "Python 3",
   "language": "python",
   "name": "python3"
  },
  "language_info": {
   "codemirror_mode": {
    "name": "ipython",
    "version": 3
   },
   "file_extension": ".py",
   "mimetype": "text/x-python",
   "name": "python",
   "nbconvert_exporter": "python",
   "pygments_lexer": "ipython3",
   "version": "3.7.6"
  },
  "papermill": {
   "duration": 1.48045,
   "end_time": "2020-06-25T08:42:00.816182",
   "environment_variables": {},
   "exception": null,
   "input_path": "/tmp/tmp22838efm",
   "output_path": "/tmp/notebook_output.ipynb",
   "parameters": {},
   "start_time": "2020-06-25T08:41:59.335732",
   "version": "2.1.0"
  },
  "properties": {
   "authors": [
    {
     "id": "b62330c3-ed93-4b41-a90f-28f3a73107e9",
     "name": "henrik.fisser@t-online.de"
    },
    {
     "id": "eb7fa88c-36a4-4b5f-959f-c7869d5acda8",
     "name": "bernhard.mallinger@eox.at"
    }
   ],
   "description": "max 80 symbols",
   "id": "e8d9d46d-5375-4a07-b185-b8195f831f30",
   "license": null,
   "name": "AOT anomaly analysis during COVID-19 measures",
   "requirements": [
    "eurodatacube",
    "eoxhub"
   ],
   "tags": [
    "COVID-19",
    "Sentinel Hub"
   ],
   "tosAgree": true,
   "type": "Jupyter Notebook",
   "version": "0.0.2"
  }
 },
 "nbformat": 4,
 "nbformat_minor": 4
}