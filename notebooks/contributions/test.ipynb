{
 "cells": [
  {
   "cell_type": "markdown",
   "id": "9d65800e",
   "metadata": {
    "tags": [
     "papermill-error-cell-tag"
    ]
   },
   "source": [
    "<span style=\"color:red; font-family:Helvetica Neue, Helvetica, Arial, sans-serif; font-size:2em;\">An Exception was encountered at '<a href=\"#papermill-error-cell\">In [2]</a>'.</span>"
   ]
  },
  {
   "cell_type": "code",
   "execution_count": 1,
   "id": "fa8c3790",
   "metadata": {
    "execution": {
     "iopub.execute_input": "2021-05-19T10:20:16.597664Z",
     "iopub.status.busy": "2021-05-19T10:20:16.597133Z",
     "iopub.status.idle": "2021-05-19T10:20:16.651550Z",
     "shell.execute_reply": "2021-05-19T10:20:16.651018Z"
    },
    "papermill": {
     "duration": 0.061234,
     "end_time": "2021-05-19T10:20:16.651723",
     "exception": false,
     "start_time": "2021-05-19T10:20:16.590489",
     "status": "completed"
    },
    "tags": []
   },
   "outputs": [
    {
     "data": {
      "text/html": [
       "<script type=\"text/javascript\">\n",
       "        function toggle(id) {\n",
       "            el = document.getElementById(id);\n",
       "            el.style.display = el.style.display === \"none\" ? \"block\" : \"none\";\n",
       "        }\n",
       "    </script>"
      ],
      "text/plain": [
       "<IPython.core.display.HTML object>"
      ]
     },
     "metadata": {},
     "output_type": "display_data"
    },
    {
     "data": {
      "text/html": [
       "This notebook is compatible with this base image version (user-0.24.5)."
      ],
      "text/plain": [
       "<IPython.core.display.HTML object>"
      ]
     },
     "metadata": {},
     "output_type": "display_data"
    },
    {
     "data": {
      "text/markdown": [
       "\n",
       "\n",
       "---------\n",
       "\n",
       "The following environment variables are available:\n",
       "\n",
       "* `GEODB_AUTH_AUD`, `GEODB_AUTH_CLIENT_ID`, `GEODB_AUTH_DOMAIN`, `GEODB_API_SERVER_URL`, `GEODB_AUTH_CLIENT_SECRET`, `GEODB_API_SERVER_PORT`\n",
       "* `SH_CLIENT_ID`, `SH_INSTANCE_ID`, `SH_CLIENT_NAME`, `SH_CLIENT_SECRET`\n",
       "* `XCUBE_GEN_AUTH_AUD`, `XCUBE_GEN_API_SERVER_PORT`, `XCUBE_GEN_AUTH_DOMAIN`, `XCUBE_GEN_AUTH_CLIENT_ID`, `XCUBE_GEN_AUTH_CLIENT_SECRET`, `XCUBE_GEN_API_SERVER_URL`\n"
      ],
      "text/plain": [
       "<IPython.core.display.Markdown object>"
      ]
     },
     "metadata": {},
     "output_type": "display_data"
    }
   ],
   "source": [
    "from edc import check_compatibility\n",
    "check_compatibility(\"user-0.24.5\", dependencies=[\"GEODB\", \"SH\", \"XCUBE_GEN\"])"
   ]
  },
  {
   "cell_type": "markdown",
   "id": "364eacc1",
   "metadata": {
    "tags": [
     "papermill-error-cell-tag"
    ]
   },
   "source": [
    "<span id=\"papermill-error-cell\" style=\"color:red; font-family:Helvetica Neue, Helvetica, Arial, sans-serif; font-size:2em;\">Execution using papermill encountered an exception here and stopped:</span>"
   ]
  },
  {
   "cell_type": "code",
   "execution_count": 2,
   "id": "545931a5",
   "metadata": {
    "execution": {
     "iopub.execute_input": "2021-05-19T10:20:16.660083Z",
     "iopub.status.busy": "2021-05-19T10:20:16.659518Z",
     "iopub.status.idle": "2021-05-19T10:20:16.661956Z",
     "shell.execute_reply": "2021-05-19T10:20:16.661142Z"
    },
    "papermill": {
     "duration": 0.007357,
     "end_time": "2021-05-19T10:20:16.662142",
     "exception": true,
     "start_time": "2021-05-19T10:20:16.654785",
     "status": "failed"
    },
    "tags": []
   },
   "outputs": [
    {
     "ename": "SyntaxError",
     "evalue": "invalid syntax (<ipython-input-2-ce66e3cdc2eb>, line 1)",
     "output_type": "error",
     "traceback": [
      "\u001b[0;36m  File \u001b[0;32m\"<ipython-input-2-ce66e3cdc2eb>\"\u001b[0;36m, line \u001b[0;32m1\u001b[0m\n\u001b[0;31m    test file\u001b[0m\n\u001b[0m         ^\u001b[0m\n\u001b[0;31mSyntaxError\u001b[0m\u001b[0;31m:\u001b[0m invalid syntax\n"
     ]
    }
   ],
   "source": [
    "test file\n",
    "`print(\"Test\")`"
   ]
  }
 ],
 "metadata": {
  "kernelspec": {
   "display_name": "Python 3",
   "language": "python",
   "name": "python3"
  },
  "language_info": {
   "codemirror_mode": {
    "name": "ipython",
    "version": 3
   },
   "file_extension": ".py",
   "mimetype": "text/x-python",
   "name": "python",
   "nbconvert_exporter": "python",
   "pygments_lexer": "ipython3",
   "version": "3.8.10"
  },
  "papermill": {
   "default_parameters": {},
   "duration": 1.19843,
   "end_time": "2021-05-19T10:20:16.967479",
   "environment_variables": {},
   "exception": true,
   "input_path": "/tmp/tmpwzay1i2s",
   "output_path": "/tmp/notebook_output.ipynb",
   "parameters": {},
   "start_time": "2021-05-19T10:20:15.769049",
   "version": "2.3.3"
  },
  "properties": {
   "authors": [
    {
     "id": "ce08f981-e320-4fca-9d1a-94406101bf1f",
     "name": "radupasparuga25+test6@gmail.com"
    }
   ],
   "description": "test description",
   "id": "0e5c0716-7869-4531-8293-86baaad8285b",
   "license": "Commercial",
   "license_notes": null,
   "license_price": "123",
   "name": "test",
   "requirements": [
    "eurodatacube-geodb",
    "eurodatacube",
    "eurodatacube-xcube-gen"
   ],
   "tags": [
    "Analysis-Ready Data",
    "COVID-19",
    "Crop-type-Classification",
    "DAPA",
    "Download Service",
    "EO Data"
   ],
   "tosAgree": true,
   "type": "Jupyter Notebook",
   "version": "0.0.1"
  }
 },
 "nbformat": 4,
 "nbformat_minor": 5
}