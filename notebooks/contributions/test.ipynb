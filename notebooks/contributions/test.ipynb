{
 "cells": [
  {
   "cell_type": "code",
   "execution_count": 1,
   "metadata": {
    "execution": {
     "iopub.execute_input": "2020-06-25T08:50:42.746636Z",
     "iopub.status.busy": "2020-06-25T08:50:42.746004Z",
     "iopub.status.idle": "2020-06-25T08:50:42.830340Z",
     "shell.execute_reply": "2020-06-25T08:50:42.830758Z"
    },
    "papermill": {
     "duration": 0.092159,
     "end_time": "2020-06-25T08:50:42.830900",
     "exception": false,
     "start_time": "2020-06-25T08:50:42.738741",
     "status": "completed"
    },
    "tags": []
   },
   "outputs": [
    {
     "name": "stdout",
     "output_type": "stream",
     "text": [
      "Notebook is compatible\n"
     ]
    }
   ],
   "source": [
    "from edc import check_compatibility\n",
    "check_compatibility(\"v0.18.4\")"
   ]
  },
  {
   "cell_type": "code",
   "execution_count": 2,
   "metadata": {
    "execution": {
     "iopub.execute_input": "2020-06-25T08:50:42.841259Z",
     "iopub.status.busy": "2020-06-25T08:50:42.840707Z",
     "iopub.status.idle": "2020-06-25T08:50:42.853148Z",
     "shell.execute_reply": "2020-06-25T08:50:42.852599Z"
    },
    "papermill": {
     "duration": 0.018416,
     "end_time": "2020-06-25T08:50:42.853236",
     "exception": false,
     "start_time": "2020-06-25T08:50:42.834820",
     "status": "completed"
    },
    "tags": []
   },
   "outputs": [
    {
     "data": {
      "text/markdown": [
       "API credentials have automatically been injected for your active subscriptions.  \n",
       "The following environment variables are now available:\n",
       "* `SH_INSTANCE_ID`\n",
       "* `SH_CLIENT_ID`\n",
       "* `SH_CLIENT_SECRET`\n",
       "* `SH_CLIENT_NAME`\n",
       "* `GEODB_API_SERVER_URL`\n",
       "* `GEODB_AUTH_CLIENT_ID`\n",
       "* `GEODB_AUTH_AUD`\n",
       "* `GEODB_AUTH_CLIENT_SECRET`\n",
       "* `GEODB_API_SERVER_PORT`\n",
       "* `GEODB_AUTH_DOMAIN`\n",
       "\n",
       "------\n"
      ],
      "text/plain": [
       "<IPython.core.display.Markdown object>"
      ]
     },
     "metadata": {},
     "output_type": "display_data"
    }
   ],
   "source": [
    "from edc import setup_environment_variables\n",
    "setup_environment_variables()"
   ]
  },
  {
   "cell_type": "code",
   "execution_count": 3,
   "metadata": {
    "execution": {
     "iopub.execute_input": "2020-06-25T08:50:42.864180Z",
     "iopub.status.busy": "2020-06-25T08:50:42.863646Z",
     "iopub.status.idle": "2020-06-25T08:50:43.283613Z",
     "shell.execute_reply": "2020-06-25T08:50:43.282960Z"
    },
    "papermill": {
     "duration": 0.426739,
     "end_time": "2020-06-25T08:50:43.283713",
     "exception": false,
     "start_time": "2020-06-25T08:50:42.856974",
     "status": "completed"
    },
    "tags": []
   },
   "outputs": [],
   "source": [
    "%matplotlib inline"
   ]
  },
  {
   "cell_type": "code",
   "execution_count": 4,
   "metadata": {
    "execution": {
     "iopub.execute_input": "2020-06-25T08:50:43.294843Z",
     "iopub.status.busy": "2020-06-25T08:50:43.294303Z",
     "iopub.status.idle": "2020-06-25T08:50:43.296175Z",
     "shell.execute_reply": "2020-06-25T08:50:43.295719Z"
    },
    "papermill": {
     "duration": 0.008568,
     "end_time": "2020-06-25T08:50:43.296257",
     "exception": false,
     "start_time": "2020-06-25T08:50:43.287689",
     "status": "completed"
    },
    "tags": [
     "parameters"
    ]
   },
   "outputs": [],
   "source": [
    "days = 6"
   ]
  },
  {
   "cell_type": "code",
   "execution_count": 5,
   "metadata": {
    "execution": {
     "iopub.execute_input": "2020-06-25T08:50:43.306914Z",
     "iopub.status.busy": "2020-06-25T08:50:43.306366Z",
     "iopub.status.idle": "2020-06-25T08:50:43.308826Z",
     "shell.execute_reply": "2020-06-25T08:50:43.308298Z"
    },
    "papermill": {
     "duration": 0.008814,
     "end_time": "2020-06-25T08:50:43.308906",
     "exception": false,
     "start_time": "2020-06-25T08:50:43.300092",
     "status": "completed"
    },
    "tags": []
   },
   "outputs": [
    {
     "data": {
      "text/plain": [
       "633825300114114700748351602688"
      ]
     },
     "execution_count": 5,
     "metadata": {},
     "output_type": "execute_result"
    }
   ],
   "source": [
    "2 ** 99"
   ]
  },
  {
   "cell_type": "code",
   "execution_count": null,
   "metadata": {
    "papermill": {
     "duration": 0.004253,
     "end_time": "2020-06-25T08:50:43.317238",
     "exception": false,
     "start_time": "2020-06-25T08:50:43.312985",
     "status": "completed"
    },
    "tags": []
   },
   "outputs": [],
   "source": []
  }
 ],
 "metadata": {
  "kernelspec": {
   "display_name": "Python 3",
   "language": "python",
   "name": "python3"
  },
  "language_info": {
   "codemirror_mode": {
    "name": "ipython",
    "version": 3
   },
   "file_extension": ".py",
   "mimetype": "text/x-python",
   "name": "python",
   "nbconvert_exporter": "python",
   "pygments_lexer": "ipython3",
   "version": "3.7.6"
  },
  "papermill": {
   "duration": 1.481572,
   "end_time": "2020-06-25T08:50:43.425238",
   "environment_variables": {},
   "exception": null,
   "input_path": "/tmp/tmpc0qtrp12",
   "output_path": "/tmp/notebook_output.ipynb",
   "parameters": {},
   "start_time": "2020-06-25T08:50:41.943666",
   "version": "2.1.0"
  },
  "properties": {
   "authors": [
    {
     "id": "eb7fa88c-36a4-4b5f-959f-c7869d5acda8",
     "name": "bernhard.mallinger@eox.at"
    }
   ],
   "description": "test",
   "id": "45891bf1-7acc-4e33-b086-1f4252050bf0",
   "license": null,
   "name": "test",
   "requirements": [
    "eurodatacube-geodb",
    "eurodatacube"
   ],
   "tags": [
    "Download Service"
   ],
   "tosAgree": true,
   "type": "Jupyter Notebook",
   "version": "100"
  }
 },
 "nbformat": 4,
 "nbformat_minor": 4
}