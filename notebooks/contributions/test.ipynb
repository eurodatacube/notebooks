{
 "cells": [
  {
   "cell_type": "code",
   "execution_count": 1,
   "metadata": {
    "execution": {
     "iopub.execute_input": "2020-11-17T10:08:29.439071Z",
     "iopub.status.busy": "2020-11-17T10:08:29.438158Z",
     "iopub.status.idle": "2020-11-17T10:08:29.515876Z",
     "shell.execute_reply": "2020-11-17T10:08:29.514905Z"
    },
    "papermill": {
     "duration": 0.090606,
     "end_time": "2020-11-17T10:08:29.516137",
     "exception": false,
     "start_time": "2020-11-17T10:08:29.425531",
     "status": "completed"
    },
    "tags": []
   },
   "outputs": [
    {
     "data": {
      "text/html": [
       "<script type=\"text/javascript\">\n",
       "        function toggle(id) {\n",
       "            el = document.getElementById(id);\n",
       "            el.style.display = el.style.display === \"none\" ? \"block\" : \"none\";\n",
       "        }\n",
       "    </script>"
      ],
      "text/plain": [
       "<IPython.core.display.HTML object>"
      ]
     },
     "metadata": {},
     "output_type": "display_data"
    },
    {
     "data": {
      "text/html": [
       "This notebook is compatible with this base image version (user-0.21.2)."
      ],
      "text/plain": [
       "<IPython.core.display.HTML object>"
      ]
     },
     "metadata": {},
     "output_type": "display_data"
    }
   ],
   "source": [
    "from edc import check_compatibility\n",
    "raise 4\n",
    "check_compatibility(\"user-0.21.2\")"
   ]
  },
  {
   "cell_type": "code",
   "execution_count": 2,
   "metadata": {
    "execution": {
     "iopub.execute_input": "2020-11-17T10:08:29.534968Z",
     "iopub.status.busy": "2020-11-17T10:08:29.533825Z",
     "iopub.status.idle": "2020-11-17T10:08:29.552635Z",
     "shell.execute_reply": "2020-11-17T10:08:29.551766Z"
    },
    "papermill": {
     "duration": 0.029851,
     "end_time": "2020-11-17T10:08:29.552769",
     "exception": false,
     "start_time": "2020-11-17T10:08:29.522918",
     "status": "completed"
    },
    "tags": []
   },
   "outputs": [
    {
     "data": {
      "text/markdown": [
       "API credentials have automatically been injected for your active subscriptions.  \n",
       "The following environment variables are now available:\n",
       "* `AWS_ACCESS_KEY_ID`, `AWS_BUCKET`, `AWS_SECRET_ACCESS_KEY`\n",
       "* `SH_CLIENT_ID`, `SH_CLIENT_NAME`, `SH_CLIENT_SECRET`, `SH_INSTANCE_ID`\n",
       "* `XCUBE_GEN_API_SERVER_PORT`, `XCUBE_GEN_API_SERVER_URL`, `XCUBE_GEN_API_USER_NAME`, `XCUBE_GEN_AUTH_AUD`, `XCUBE_GEN_AUTH_CLIENT_ID`, `XCUBE_GEN_AUTH_CLIENT_SECRET`, `XCUBE_GEN_AUTH_DOMAIN`\n",
       "\n",
       "The following additional environment variables have been loaded from `~/custom.env`:\n",
       "* `AWS_BUCKET`\n",
       "* `DAPA_URL`\n",
       "* `DB_HOST`, `DB_NAME`, `DB_PASSWORD`, `DB_USER`\n",
       "* `OGC_EDC_URL`\n",
       "* `REFERENCE_DATA`\n"
      ],
      "text/plain": [
       "<IPython.core.display.Markdown object>"
      ]
     },
     "metadata": {},
     "output_type": "display_data"
    }
   ],
   "source": [
    "from edc import setup_environment_variables\n",
    "setup_environment_variables()"
   ]
  },
  {
   "cell_type": "code",
   "execution_count": 3,
   "metadata": {
    "execution": {
     "iopub.execute_input": "2020-11-17T10:08:29.573371Z",
     "iopub.status.busy": "2020-11-17T10:08:29.572073Z",
     "iopub.status.idle": "2020-11-17T10:08:31.928559Z",
     "shell.execute_reply": "2020-11-17T10:08:31.927675Z"
    },
    "papermill": {
     "duration": 2.368794,
     "end_time": "2020-11-17T10:08:31.928763",
     "exception": false,
     "start_time": "2020-11-17T10:08:29.559969",
     "status": "completed"
    },
    "tags": []
   },
   "outputs": [],
   "source": [
    "%matplotlib inline"
   ]
  },
  {
   "cell_type": "code",
   "execution_count": 4,
   "metadata": {
    "execution": {
     "iopub.execute_input": "2020-11-17T10:08:31.949370Z",
     "iopub.status.busy": "2020-11-17T10:08:31.948286Z",
     "iopub.status.idle": "2020-11-17T10:08:31.951145Z",
     "shell.execute_reply": "2020-11-17T10:08:31.950485Z"
    },
    "papermill": {
     "duration": 0.015467,
     "end_time": "2020-11-17T10:08:31.951307",
     "exception": false,
     "start_time": "2020-11-17T10:08:31.935840",
     "status": "completed"
    },
    "tags": [
     "parameters"
    ]
   },
   "outputs": [],
   "source": [
    "days = 6"
   ]
  },
  {
   "cell_type": "code",
   "execution_count": 5,
   "metadata": {
    "execution": {
     "iopub.execute_input": "2020-11-17T10:08:31.999622Z",
     "iopub.status.busy": "2020-11-17T10:08:31.998497Z",
     "iopub.status.idle": "2020-11-17T10:08:32.002731Z",
     "shell.execute_reply": "2020-11-17T10:08:32.001951Z"
    },
    "papermill": {
     "duration": 0.015762,
     "end_time": "2020-11-17T10:08:32.002864",
     "exception": false,
     "start_time": "2020-11-17T10:08:31.987102",
     "status": "completed"
    },
    "tags": []
   },
   "outputs": [
    {
     "data": {
      "text/plain": [
       "633825300114114700748351602688"
      ]
     },
     "execution_count": 5,
     "metadata": {},
     "output_type": "execute_result"
    }
   ],
   "source": [
    "2 ** 99"
   ]
  },
  {
   "cell_type": "code",
   "execution_count": null,
   "metadata": {
    "papermill": {
     "duration": 0.008185,
     "end_time": "2020-11-17T10:08:32.018661",
     "exception": false,
     "start_time": "2020-11-17T10:08:32.010476",
     "status": "completed"
    },
    "tags": []
   },
   "outputs": [],
   "source": []
  }
 ],
 "metadata": {
  "kernelspec": {
   "display_name": "Python 3",
   "language": "python",
   "name": "python3"
  },
  "language_info": {
   "codemirror_mode": {
    "name": "ipython",
    "version": 3
   },
   "file_extension": ".py",
   "mimetype": "text/x-python",
   "name": "python",
   "nbconvert_exporter": "python",
   "pygments_lexer": "ipython3",
   "version": "3.7.8"
  },
  "papermill": {
   "default_parameters": {},
   "duration": 3.994036,
   "end_time": "2020-11-17T10:08:32.335500",
   "environment_variables": {},
   "exception": null,
   "input_path": "/tmp/tmp15296o1l",
   "output_path": "/tmp/notebook_output.ipynb",
   "parameters": {},
   "start_time": "2020-11-17T10:08:28.341464",
   "version": "2.2.0"
  },
  "properties": {
   "authors": [
    {
     "id": "eb7fa88c-36a4-4b5f-959f-c7869d5acda8",
     "name": "bernhard.mallinger@eox.at"
    }
   ],
   "description": "test",
   "id": "cd3b63ed-1b55-4573-b914-d598f5f6c3f8",
   "license": null,
   "name": "test",
   "requirements": [
    "eurodatacube",
    "eurodatacube-xcube-gen"
   ],
   "tags": [
    "Analysis-Ready Data"
   ],
   "tosAgree": true,
   "type": "Jupyter Notebook",
   "version": "1"
  }
 },
 "nbformat": 4,
 "nbformat_minor": 4
}
