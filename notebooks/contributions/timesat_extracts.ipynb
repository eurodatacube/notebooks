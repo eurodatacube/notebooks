{
 "cells": [
  {
   "cell_type": "code",
   "execution_count": 1,
   "metadata": {
    "execution": {
     "iopub.execute_input": "2021-01-27T08:20:06.176929Z",
     "iopub.status.busy": "2021-01-27T08:20:06.174747Z",
     "iopub.status.idle": "2021-01-27T08:20:06.243375Z",
     "shell.execute_reply": "2021-01-27T08:20:06.243838Z"
    },
    "papermill": {
     "duration": 0.079563,
     "end_time": "2021-01-27T08:20:06.244080",
     "exception": false,
     "start_time": "2021-01-27T08:20:06.164517",
     "status": "completed"
    },
    "tags": []
   },
   "outputs": [
    {
     "data": {
      "text/markdown": [
       "API credentials have automatically been injected for your active subscriptions.  \n",
       "The following environment variables are now available:\n",
       "* `AWS_ACCESS_KEY_ID`, `AWS_BUCKET`, `AWS_SECRET_ACCESS_KEY`\n",
       "* `GEODB_API_SERVER_PORT`, `GEODB_API_SERVER_URL`, `GEODB_AUTH_AUD`, `GEODB_AUTH_CLIENT_ID`, `GEODB_AUTH_CLIENT_SECRET`, `GEODB_AUTH_DOMAIN`\n",
       "* `SH_CLIENT_ID`, `SH_CLIENT_NAME`, `SH_CLIENT_SECRET`, `SH_INSTANCE_ID`\n",
       "* `XCUBE_GEN_API_SERVER_PORT`, `XCUBE_GEN_API_SERVER_URL`, `XCUBE_GEN_API_USER_NAME`, `XCUBE_GEN_AUTH_AUD`, `XCUBE_GEN_AUTH_CLIENT_ID`, `XCUBE_GEN_AUTH_CLIENT_SECRET`, `XCUBE_GEN_AUTH_DOMAIN`\n",
       "\n",
       "The following additional environment variables have been loaded from `~/custom.env`:\n",
       "* `AWS_BUCKET`\n",
       "* `DAPA_URL`\n",
       "* `DB_HOST`, `DB_NAME`, `DB_PASSWORD`, `DB_USER`\n",
       "* `OGC_EDC_URL`\n",
       "* `REFERENCE_DATA`\n"
      ],
      "text/plain": [
       "<IPython.core.display.Markdown object>"
      ]
     },
     "metadata": {},
     "output_type": "display_data"
    }
   ],
   "source": [
    "from edc import setup_environment_variables\n",
    "setup_environment_variables()"
   ]
  },
  {
   "cell_type": "code",
   "execution_count": 2,
   "metadata": {
    "execution": {
     "iopub.execute_input": "2021-01-27T08:20:06.262372Z",
     "iopub.status.busy": "2021-01-27T08:20:06.261536Z",
     "iopub.status.idle": "2021-01-27T08:20:06.265303Z",
     "shell.execute_reply": "2021-01-27T08:20:06.265873Z"
    },
    "papermill": {
     "duration": 0.015533,
     "end_time": "2021-01-27T08:20:06.266059",
     "exception": false,
     "start_time": "2021-01-27T08:20:06.250526",
     "status": "completed"
    },
    "tags": []
   },
   "outputs": [
    {
     "data": {
      "text/html": [
       "<script type=\"text/javascript\">\n",
       "        function toggle(id) {\n",
       "            el = document.getElementById(id);\n",
       "            el.style.display = el.style.display === \"none\" ? \"block\" : \"none\";\n",
       "        }\n",
       "    </script>"
      ],
      "text/plain": [
       "<IPython.core.display.HTML object>"
      ]
     },
     "metadata": {},
     "output_type": "display_data"
    },
    {
     "data": {
      "text/html": [
       "This notebook is compatible with this base image version (user-0.22.3)."
      ],
      "text/plain": [
       "<IPython.core.display.HTML object>"
      ]
     },
     "metadata": {},
     "output_type": "display_data"
    }
   ],
   "source": [
    "from edc import check_compatibility\n",
    "check_compatibility(\"user-0.22.3\")"
   ]
  },
  {
   "cell_type": "markdown",
   "metadata": {
    "papermill": {
     "duration": 0.006998,
     "end_time": "2021-01-27T08:20:06.280261",
     "exception": false,
     "start_time": "2021-01-27T08:20:06.273263",
     "status": "completed"
    },
    "tags": []
   },
   "source": [
    "# Download"
   ]
  },
  {
   "cell_type": "code",
   "execution_count": 3,
   "metadata": {
    "execution": {
     "iopub.execute_input": "2021-01-27T08:20:06.311938Z",
     "iopub.status.busy": "2021-01-27T08:20:06.311255Z"
    },
    "papermill": {
     "duration": 598.394189,
     "end_time": "2021-01-27T08:30:04.689484",
     "exception": false,
     "start_time": "2021-01-27T08:20:06.295295",
     "status": "completed"
    },
    "tags": []
   },
   "outputs": [
    {
     "name": "stdout",
     "output_type": "stream",
     "text": [
      "cog:timesat_extracts/h15v05/LINT/LINT_h15v05_2000_s1_laea_cog.tif\n",
      "cog:timesat_extracts/h15v05/LINT/LINT_h15v05_2001_s1_laea_cog.tif\n"
     ]
    },
    {
     "name": "stdout",
     "output_type": "stream",
     "text": [
      "cog:timesat_extracts/h15v05/LINT/LINT_h15v05_2002_s1_laea_cog.tif\n",
      "cog:timesat_extracts/h15v05/LINT/LINT_h15v05_2003_s1_laea_cog.tif\n"
     ]
    },
    {
     "name": "stdout",
     "output_type": "stream",
     "text": [
      "cog:timesat_extracts/h15v05/LINT/LINT_h15v05_2004_s1_laea_cog.tif\n",
      "cog:timesat_extracts/h15v05/LINT/LINT_h15v05_2005_s1_laea_cog.tif\n"
     ]
    },
    {
     "name": "stdout",
     "output_type": "stream",
     "text": [
      "cog:timesat_extracts/h15v05/LINT/LINT_h15v05_2006_s1_laea_cog.tif\n",
      "cog:timesat_extracts/h15v05/LINT/LINT_h15v05_2007_s1_laea_cog.tif\n"
     ]
    },
    {
     "name": "stdout",
     "output_type": "stream",
     "text": [
      "cog:timesat_extracts/h15v05/LINT/LINT_h15v05_2008_s1_laea_cog.tif\n",
      "cog:timesat_extracts/h15v05/LINT/LINT_h15v05_2009_s1_laea_cog.tif\n"
     ]
    },
    {
     "name": "stdout",
     "output_type": "stream",
     "text": [
      "cog:timesat_extracts/h15v05/LINT/LINT_h15v05_2010_s1_laea_cog.tif\n",
      "cog:timesat_extracts/h15v05/LINT/LINT_h15v05_2011_s1_laea_cog.tif\n"
     ]
    },
    {
     "name": "stdout",
     "output_type": "stream",
     "text": [
      "cog:timesat_extracts/h15v05/LINT/LINT_h15v05_2012_s1_laea_cog.tif\n",
      "cog:timesat_extracts/h15v05/LINT/LINT_h15v05_2013_s1_laea_cog.tif\n"
     ]
    },
    {
     "name": "stdout",
     "output_type": "stream",
     "text": [
      "cog:timesat_extracts/h15v05/LINT/LINT_h15v05_2014_s1_laea_cog.tif\n",
      "cog:timesat_extracts/h15v05/LINT/LINT_h15v05_2015_s1_laea_cog.tif\n"
     ]
    },
    {
     "name": "stdout",
     "output_type": "stream",
     "text": [
      "cog:timesat_extracts/h15v05/LINT/LINT_h15v05_2016_s1_laea_cog.tif\n",
      "cog:timesat_extracts/h15v05/LINT/LINT_h15v05_2017_s1_laea_cog.tif\n"
     ]
    },
    {
     "name": "stdout",
     "output_type": "stream",
     "text": [
      "cog:timesat_extracts/h15v05/LINT/LINT_h15v05_2018_s1_laea_cog.tif\n",
      "cog:timesat_extracts/h15v05/LINT/LINT_h15v05_2019_s1_laea_cog.tif\n"
     ]
    },
    {
     "name": "stdout",
     "output_type": "stream",
     "text": [
      "cog:timesat_extracts/h15v05/LINT/LINT_h15v05_2020_s1_laea_cog.tif\n",
      "cog:timesat_extracts/h15v05/SINT/SINT_h15v05_2000_s1_laea_cog.tif\n"
     ]
    },
    {
     "name": "stdout",
     "output_type": "stream",
     "text": [
      "cog:timesat_extracts/h15v05/SINT/SINT_h15v05_2001_s1_laea_cog.tif\n",
      "cog:timesat_extracts/h15v05/SINT/SINT_h15v05_2002_s1_laea_cog.tif\n"
     ]
    },
    {
     "name": "stdout",
     "output_type": "stream",
     "text": [
      "cog:timesat_extracts/h15v05/SINT/SINT_h15v05_2003_s1_laea_cog.tif\n",
      "cog:timesat_extracts/h15v05/SINT/SINT_h15v05_2004_s1_laea_cog.tif\n",
      "cog:timesat_extracts/h15v05/SINT/SINT_h15v05_2005_s1_laea_cog.tif\n"
     ]
    },
    {
     "name": "stdout",
     "output_type": "stream",
     "text": [
      "cog:timesat_extracts/h15v05/SINT/SINT_h15v05_2006_s1_laea_cog.tif\n",
      "cog:timesat_extracts/h15v05/SINT/SINT_h15v05_2007_s1_laea_cog.tif\n"
     ]
    },
    {
     "name": "stdout",
     "output_type": "stream",
     "text": [
      "cog:timesat_extracts/h15v05/SINT/SINT_h15v05_2008_s1_laea_cog.tif\n",
      "cog:timesat_extracts/h15v05/SINT/SINT_h15v05_2009_s1_laea_cog.tif\n"
     ]
    },
    {
     "name": "stdout",
     "output_type": "stream",
     "text": [
      "cog:timesat_extracts/h15v05/SINT/SINT_h15v05_2010_s1_laea_cog.tif\n",
      "cog:timesat_extracts/h15v05/SINT/SINT_h15v05_2011_s1_laea_cog.tif\n",
      "cog:timesat_extracts/h15v05/SINT/SINT_h15v05_2012_s1_laea_cog.tif\n"
     ]
    },
    {
     "name": "stdout",
     "output_type": "stream",
     "text": [
      "cog:timesat_extracts/h15v05/SINT/SINT_h15v05_2013_s1_laea_cog.tif\n",
      "cog:timesat_extracts/h15v05/SINT/SINT_h15v05_2014_s1_laea_cog.tif\n",
      "cog:timesat_extracts/h15v05/SINT/SINT_h15v05_2015_s1_laea_cog.tif\n"
     ]
    },
    {
     "name": "stdout",
     "output_type": "stream",
     "text": [
      "cog:timesat_extracts/h15v05/SINT/SINT_h15v05_2016_s1_laea_cog.tif\n",
      "cog:timesat_extracts/h15v05/SINT/SINT_h15v05_2017_s1_laea_cog.tif\n"
     ]
    },
    {
     "name": "stdout",
     "output_type": "stream",
     "text": [
      "cog:timesat_extracts/h15v05/SINT/SINT_h15v05_2018_s1_laea_cog.tif\n",
      "cog:timesat_extracts/h15v05/SINT/SINT_h15v05_2019_s1_laea_cog.tif\n",
      "cog:timesat_extracts/h15v05/SINT/SINT_h15v05_2020_s1_laea_cog.tif\n"
     ]
    },
    {
     "name": "stdout",
     "output_type": "stream",
     "text": [
      "cog:timesat_extracts/h15v05/decrease_rate/decrease_rate_EOS_h15v05_2000_s1_laea_cog.tif\n",
      "cog:timesat_extracts/h15v05/decrease_rate/decrease_rate_EOS_h15v05_2001_s1_laea_cog.tif\n",
      "cog:timesat_extracts/h15v05/decrease_rate/decrease_rate_EOS_h15v05_2002_s1_laea_cog.tif\n"
     ]
    },
    {
     "name": "stdout",
     "output_type": "stream",
     "text": [
      "cog:timesat_extracts/h15v05/decrease_rate/decrease_rate_EOS_h15v05_2003_s1_laea_cog.tif\n",
      "cog:timesat_extracts/h15v05/decrease_rate/decrease_rate_EOS_h15v05_2004_s1_laea_cog.tif\n"
     ]
    },
    {
     "name": "stdout",
     "output_type": "stream",
     "text": [
      "cog:timesat_extracts/h15v05/decrease_rate/decrease_rate_EOS_h15v05_2005_s1_laea_cog.tif\n",
      "cog:timesat_extracts/h15v05/decrease_rate/decrease_rate_EOS_h15v05_2006_s1_laea_cog.tif\n"
     ]
    },
    {
     "name": "stdout",
     "output_type": "stream",
     "text": [
      "cog:timesat_extracts/h15v05/decrease_rate/decrease_rate_EOS_h15v05_2007_s1_laea_cog.tif\n",
      "cog:timesat_extracts/h15v05/decrease_rate/decrease_rate_EOS_h15v05_2008_s1_laea_cog.tif\n",
      "cog:timesat_extracts/h15v05/decrease_rate/decrease_rate_EOS_h15v05_2009_s1_laea_cog.tif\n"
     ]
    },
    {
     "name": "stdout",
     "output_type": "stream",
     "text": [
      "cog:timesat_extracts/h15v05/decrease_rate/decrease_rate_EOS_h15v05_2010_s1_laea_cog.tif\n",
      "cog:timesat_extracts/h15v05/decrease_rate/decrease_rate_EOS_h15v05_2011_s1_laea_cog.tif\n",
      "cog:timesat_extracts/h15v05/decrease_rate/decrease_rate_EOS_h15v05_2012_s1_laea_cog.tif\n"
     ]
    },
    {
     "name": "stdout",
     "output_type": "stream",
     "text": [
      "cog:timesat_extracts/h15v05/decrease_rate/decrease_rate_EOS_h15v05_2013_s1_laea_cog.tif\n",
      "cog:timesat_extracts/h15v05/decrease_rate/decrease_rate_EOS_h15v05_2014_s1_laea_cog.tif\n"
     ]
    },
    {
     "name": "stdout",
     "output_type": "stream",
     "text": [
      "cog:timesat_extracts/h15v05/decrease_rate/decrease_rate_EOS_h15v05_2015_s1_laea_cog.tif\n",
      "cog:timesat_extracts/h15v05/decrease_rate/decrease_rate_EOS_h15v05_2016_s1_laea_cog.tif\n"
     ]
    },
    {
     "name": "stdout",
     "output_type": "stream",
     "text": [
      "cog:timesat_extracts/h15v05/decrease_rate/decrease_rate_EOS_h15v05_2017_s1_laea_cog.tif\n",
      "cog:timesat_extracts/h15v05/decrease_rate/decrease_rate_EOS_h15v05_2018_s1_laea_cog.tif\n",
      "cog:timesat_extracts/h15v05/decrease_rate/decrease_rate_EOS_h15v05_2019_s1_laea_cog.tif\n"
     ]
    },
    {
     "name": "stdout",
     "output_type": "stream",
     "text": [
      "cog:timesat_extracts/h15v05/decrease_rate/decrease_rate_EOS_h15v05_2020_s1_laea_cog.tif\n",
      "cog:timesat_extracts/h15v05/eos/eos_h15v05_2000_s1_laea_cog.tif\n",
      "cog:timesat_extracts/h15v05/eos/eos_h15v05_2001_s1_laea_cog.tif\n"
     ]
    },
    {
     "name": "stdout",
     "output_type": "stream",
     "text": [
      "cog:timesat_extracts/h15v05/eos/eos_h15v05_2002_s1_laea_cog.tif\n",
      "cog:timesat_extracts/h15v05/eos/eos_h15v05_2003_s1_laea_cog.tif\n"
     ]
    },
    {
     "name": "stdout",
     "output_type": "stream",
     "text": [
      "cog:timesat_extracts/h15v05/eos/eos_h15v05_2004_s1_laea_cog.tif\n",
      "cog:timesat_extracts/h15v05/eos/eos_h15v05_2005_s1_laea_cog.tif\n",
      "cog:timesat_extracts/h15v05/eos/eos_h15v05_2006_s1_laea_cog.tif\n"
     ]
    },
    {
     "name": "stdout",
     "output_type": "stream",
     "text": [
      "cog:timesat_extracts/h15v05/eos/eos_h15v05_2007_s1_laea_cog.tif\n",
      "cog:timesat_extracts/h15v05/eos/eos_h15v05_2008_s1_laea_cog.tif\n",
      "cog:timesat_extracts/h15v05/eos/eos_h15v05_2009_s1_laea_cog.tif\n"
     ]
    },
    {
     "name": "stdout",
     "output_type": "stream",
     "text": [
      "cog:timesat_extracts/h15v05/eos/eos_h15v05_2010_s1_laea_cog.tif\n",
      "cog:timesat_extracts/h15v05/eos/eos_h15v05_2011_s1_laea_cog.tif\n"
     ]
    },
    {
     "name": "stdout",
     "output_type": "stream",
     "text": [
      "cog:timesat_extracts/h15v05/eos/eos_h15v05_2012_s1_laea_cog.tif\n",
      "cog:timesat_extracts/h15v05/eos/eos_h15v05_2013_s1_laea_cog.tif\n"
     ]
    },
    {
     "name": "stdout",
     "output_type": "stream",
     "text": [
      "cog:timesat_extracts/h15v05/eos/eos_h15v05_2014_s1_laea_cog.tif\n",
      "cog:timesat_extracts/h15v05/eos/eos_h15v05_2015_s1_laea_cog.tif\n"
     ]
    },
    {
     "name": "stdout",
     "output_type": "stream",
     "text": [
      "cog:timesat_extracts/h15v05/eos/eos_h15v05_2016_s1_laea_cog.tif\n",
      "cog:timesat_extracts/h15v05/eos/eos_h15v05_2017_s1_laea_cog.tif\n",
      "cog:timesat_extracts/h15v05/eos/eos_h15v05_2018_s1_laea_cog.tif\n"
     ]
    },
    {
     "name": "stdout",
     "output_type": "stream",
     "text": [
      "cog:timesat_extracts/h15v05/eos/eos_h15v05_2019_s1_laea_cog.tif\n",
      "cog:timesat_extracts/h15v05/eos/eos_h15v05_2020_s1_laea_cog.tif\n",
      "cog:timesat_extracts/h15v05/eos_value/eos_value_h15v05_2000_s1_laea_cog.tif\n"
     ]
    },
    {
     "name": "stdout",
     "output_type": "stream",
     "text": [
      "cog:timesat_extracts/h15v05/eos_value/eos_value_h15v05_2001_s1_laea_cog.tif\n",
      "cog:timesat_extracts/h15v05/eos_value/eos_value_h15v05_2002_s1_laea_cog.tif\n"
     ]
    },
    {
     "name": "stdout",
     "output_type": "stream",
     "text": [
      "cog:timesat_extracts/h15v05/eos_value/eos_value_h15v05_2003_s1_laea_cog.tif\n",
      "cog:timesat_extracts/h15v05/eos_value/eos_value_h15v05_2004_s1_laea_cog.tif\n"
     ]
    },
    {
     "name": "stdout",
     "output_type": "stream",
     "text": [
      "cog:timesat_extracts/h15v05/eos_value/eos_value_h15v05_2005_s1_laea_cog.tif\n",
      "cog:timesat_extracts/h15v05/eos_value/eos_value_h15v05_2006_s1_laea_cog.tif\n",
      "cog:timesat_extracts/h15v05/eos_value/eos_value_h15v05_2007_s1_laea_cog.tif\n"
     ]
    },
    {
     "name": "stdout",
     "output_type": "stream",
     "text": [
      "cog:timesat_extracts/h15v05/eos_value/eos_value_h15v05_2008_s1_laea_cog.tif\n",
      "cog:timesat_extracts/h15v05/eos_value/eos_value_h15v05_2009_s1_laea_cog.tif\n"
     ]
    },
    {
     "name": "stdout",
     "output_type": "stream",
     "text": [
      "cog:timesat_extracts/h15v05/eos_value/eos_value_h15v05_2010_s1_laea_cog.tif\n",
      "cog:timesat_extracts/h15v05/eos_value/eos_value_h15v05_2011_s1_laea_cog.tif\n"
     ]
    },
    {
     "name": "stdout",
     "output_type": "stream",
     "text": [
      "cog:timesat_extracts/h15v05/eos_value/eos_value_h15v05_2012_s1_laea_cog.tif\n",
      "cog:timesat_extracts/h15v05/eos_value/eos_value_h15v05_2013_s1_laea_cog.tif\n"
     ]
    },
    {
     "name": "stdout",
     "output_type": "stream",
     "text": [
      "cog:timesat_extracts/h15v05/eos_value/eos_value_h15v05_2014_s1_laea_cog.tif\n",
      "cog:timesat_extracts/h15v05/eos_value/eos_value_h15v05_2015_s1_laea_cog.tif\n"
     ]
    },
    {
     "name": "stdout",
     "output_type": "stream",
     "text": [
      "cog:timesat_extracts/h15v05/eos_value/eos_value_h15v05_2016_s1_laea_cog.tif\n",
      "cog:timesat_extracts/h15v05/eos_value/eos_value_h15v05_2017_s1_laea_cog.tif\n"
     ]
    },
    {
     "name": "stdout",
     "output_type": "stream",
     "text": [
      "cog:timesat_extracts/h15v05/eos_value/eos_value_h15v05_2018_s1_laea_cog.tif\n",
      "cog:timesat_extracts/h15v05/eos_value/eos_value_h15v05_2019_s1_laea_cog.tif\n"
     ]
    },
    {
     "name": "stdout",
     "output_type": "stream",
     "text": [
      "cog:timesat_extracts/h15v05/eos_value/eos_value_h15v05_2020_s1_laea_cog.tif\n",
      "cog:timesat_extracts/h15v05/increase_rate/increase_rate_SOS_h15v05_2000_s1_laea_cog.tif\n",
      "cog:timesat_extracts/h15v05/increase_rate/increase_rate_SOS_h15v05_2001_s1_laea_cog.tif\n"
     ]
    },
    {
     "name": "stdout",
     "output_type": "stream",
     "text": [
      "cog:timesat_extracts/h15v05/increase_rate/increase_rate_SOS_h15v05_2002_s1_laea_cog.tif\n",
      "cog:timesat_extracts/h15v05/increase_rate/increase_rate_SOS_h15v05_2003_s1_laea_cog.tif\n"
     ]
    },
    {
     "name": "stdout",
     "output_type": "stream",
     "text": [
      "cog:timesat_extracts/h15v05/increase_rate/increase_rate_SOS_h15v05_2004_s1_laea_cog.tif\n",
      "cog:timesat_extracts/h15v05/increase_rate/increase_rate_SOS_h15v05_2005_s1_laea_cog.tif\n"
     ]
    },
    {
     "name": "stdout",
     "output_type": "stream",
     "text": [
      "cog:timesat_extracts/h15v05/increase_rate/increase_rate_SOS_h15v05_2006_s1_laea_cog.tif\n",
      "cog:timesat_extracts/h15v05/increase_rate/increase_rate_SOS_h15v05_2007_s1_laea_cog.tif\n"
     ]
    },
    {
     "name": "stdout",
     "output_type": "stream",
     "text": [
      "cog:timesat_extracts/h15v05/increase_rate/increase_rate_SOS_h15v05_2008_s1_laea_cog.tif\n",
      "cog:timesat_extracts/h15v05/increase_rate/increase_rate_SOS_h15v05_2009_s1_laea_cog.tif\n"
     ]
    },
    {
     "name": "stdout",
     "output_type": "stream",
     "text": [
      "cog:timesat_extracts/h15v05/increase_rate/increase_rate_SOS_h15v05_2010_s1_laea_cog.tif\n",
      "cog:timesat_extracts/h15v05/increase_rate/increase_rate_SOS_h15v05_2011_s1_laea_cog.tif\n"
     ]
    },
    {
     "name": "stdout",
     "output_type": "stream",
     "text": [
      "cog:timesat_extracts/h15v05/increase_rate/increase_rate_SOS_h15v05_2012_s1_laea_cog.tif\n",
      "cog:timesat_extracts/h15v05/increase_rate/increase_rate_SOS_h15v05_2013_s1_laea_cog.tif\n",
      "cog:timesat_extracts/h15v05/increase_rate/increase_rate_SOS_h15v05_2014_s1_laea_cog.tif\n"
     ]
    },
    {
     "name": "stdout",
     "output_type": "stream",
     "text": [
      "cog:timesat_extracts/h15v05/increase_rate/increase_rate_SOS_h15v05_2015_s1_laea_cog.tif\n",
      "cog:timesat_extracts/h15v05/increase_rate/increase_rate_SOS_h15v05_2016_s1_laea_cog.tif\n"
     ]
    },
    {
     "name": "stdout",
     "output_type": "stream",
     "text": [
      "cog:timesat_extracts/h15v05/increase_rate/increase_rate_SOS_h15v05_2017_s1_laea_cog.tif\n",
      "cog:timesat_extracts/h15v05/increase_rate/increase_rate_SOS_h15v05_2018_s1_laea_cog.tif\n"
     ]
    },
    {
     "name": "stdout",
     "output_type": "stream",
     "text": [
      "cog:timesat_extracts/h15v05/increase_rate/increase_rate_SOS_h15v05_2019_s1_laea_cog.tif\n",
      "cog:timesat_extracts/h15v05/increase_rate/increase_rate_SOS_h15v05_2020_s1_laea_cog.tif\n"
     ]
    },
    {
     "name": "stdout",
     "output_type": "stream",
     "text": [
      "cog:timesat_extracts/h15v05/length_of_season/los_h15v05_2000_s1_laea_cog.tif\n",
      "cog:timesat_extracts/h15v05/length_of_season/los_h15v05_2001_s1_laea_cog.tif\n",
      "cog:timesat_extracts/h15v05/length_of_season/los_h15v05_2002_s1_laea_cog.tif\n"
     ]
    },
    {
     "name": "stdout",
     "output_type": "stream",
     "text": [
      "cog:timesat_extracts/h15v05/length_of_season/los_h15v05_2003_s1_laea_cog.tif\n",
      "cog:timesat_extracts/h15v05/length_of_season/los_h15v05_2004_s1_laea_cog.tif\n",
      "cog:timesat_extracts/h15v05/length_of_season/los_h15v05_2005_s1_laea_cog.tif\n"
     ]
    },
    {
     "name": "stdout",
     "output_type": "stream",
     "text": [
      "cog:timesat_extracts/h15v05/length_of_season/los_h15v05_2006_s1_laea_cog.tif\n",
      "cog:timesat_extracts/h15v05/length_of_season/los_h15v05_2007_s1_laea_cog.tif\n",
      "cog:timesat_extracts/h15v05/length_of_season/los_h15v05_2008_s1_laea_cog.tif\n"
     ]
    },
    {
     "name": "stdout",
     "output_type": "stream",
     "text": [
      "cog:timesat_extracts/h15v05/length_of_season/los_h15v05_2009_s1_laea_cog.tif\n",
      "cog:timesat_extracts/h15v05/length_of_season/los_h15v05_2010_s1_laea_cog.tif\n"
     ]
    },
    {
     "name": "stdout",
     "output_type": "stream",
     "text": [
      "cog:timesat_extracts/h15v05/length_of_season/los_h15v05_2011_s1_laea_cog.tif\n",
      "cog:timesat_extracts/h15v05/length_of_season/los_h15v05_2012_s1_laea_cog.tif\n",
      "cog:timesat_extracts/h15v05/length_of_season/los_h15v05_2013_s1_laea_cog.tif\n"
     ]
    },
    {
     "name": "stdout",
     "output_type": "stream",
     "text": [
      "cog:timesat_extracts/h15v05/length_of_season/los_h15v05_2014_s1_laea_cog.tif\n",
      "cog:timesat_extracts/h15v05/length_of_season/los_h15v05_2015_s1_laea_cog.tif\n"
     ]
    },
    {
     "name": "stdout",
     "output_type": "stream",
     "text": [
      "cog:timesat_extracts/h15v05/length_of_season/los_h15v05_2016_s1_laea_cog.tif\n",
      "cog:timesat_extracts/h15v05/length_of_season/los_h15v05_2017_s1_laea_cog.tif\n",
      "cog:timesat_extracts/h15v05/length_of_season/los_h15v05_2018_s1_laea_cog.tif\n"
     ]
    },
    {
     "name": "stdout",
     "output_type": "stream",
     "text": [
      "cog:timesat_extracts/h15v05/length_of_season/los_h15v05_2019_s1_laea_cog.tif\n",
      "cog:timesat_extracts/h15v05/length_of_season/los_h15v05_2020_s1_laea_cog.tif\n",
      "cog:timesat_extracts/h15v05/seasonal_amplitude/s_amplitude_h15v05_2000_s1_laea_cog.tif\n"
     ]
    },
    {
     "name": "stdout",
     "output_type": "stream",
     "text": [
      "cog:timesat_extracts/h15v05/seasonal_amplitude/s_amplitude_h15v05_2001_s1_laea_cog.tif\n",
      "cog:timesat_extracts/h15v05/seasonal_amplitude/s_amplitude_h15v05_2002_s1_laea_cog.tif\n",
      "cog:timesat_extracts/h15v05/seasonal_amplitude/s_amplitude_h15v05_2003_s1_laea_cog.tif\n"
     ]
    },
    {
     "name": "stdout",
     "output_type": "stream",
     "text": [
      "cog:timesat_extracts/h15v05/seasonal_amplitude/s_amplitude_h15v05_2004_s1_laea_cog.tif\n",
      "cog:timesat_extracts/h15v05/seasonal_amplitude/s_amplitude_h15v05_2005_s1_laea_cog.tif\n"
     ]
    },
    {
     "name": "stdout",
     "output_type": "stream",
     "text": [
      "cog:timesat_extracts/h15v05/seasonal_amplitude/s_amplitude_h15v05_2006_s1_laea_cog.tif\n",
      "cog:timesat_extracts/h15v05/seasonal_amplitude/s_amplitude_h15v05_2007_s1_laea_cog.tif\n"
     ]
    },
    {
     "name": "stdout",
     "output_type": "stream",
     "text": [
      "cog:timesat_extracts/h15v05/seasonal_amplitude/s_amplitude_h15v05_2008_s1_laea_cog.tif\n",
      "cog:timesat_extracts/h15v05/seasonal_amplitude/s_amplitude_h15v05_2009_s1_laea_cog.tif\n",
      "cog:timesat_extracts/h15v05/seasonal_amplitude/s_amplitude_h15v05_2010_s1_laea_cog.tif\n"
     ]
    },
    {
     "name": "stdout",
     "output_type": "stream",
     "text": [
      "cog:timesat_extracts/h15v05/seasonal_amplitude/s_amplitude_h15v05_2011_s1_laea_cog.tif\n",
      "cog:timesat_extracts/h15v05/seasonal_amplitude/s_amplitude_h15v05_2012_s1_laea_cog.tif\n"
     ]
    },
    {
     "name": "stdout",
     "output_type": "stream",
     "text": [
      "cog:timesat_extracts/h15v05/seasonal_amplitude/s_amplitude_h15v05_2013_s1_laea_cog.tif\n",
      "cog:timesat_extracts/h15v05/seasonal_amplitude/s_amplitude_h15v05_2014_s1_laea_cog.tif\n"
     ]
    },
    {
     "name": "stdout",
     "output_type": "stream",
     "text": [
      "cog:timesat_extracts/h15v05/seasonal_amplitude/s_amplitude_h15v05_2015_s1_laea_cog.tif\n",
      "cog:timesat_extracts/h15v05/seasonal_amplitude/s_amplitude_h15v05_2016_s1_laea_cog.tif\n"
     ]
    },
    {
     "name": "stdout",
     "output_type": "stream",
     "text": [
      "cog:timesat_extracts/h15v05/seasonal_amplitude/s_amplitude_h15v05_2017_s1_laea_cog.tif\n",
      "cog:timesat_extracts/h15v05/seasonal_amplitude/s_amplitude_h15v05_2018_s1_laea_cog.tif\n"
     ]
    },
    {
     "name": "stdout",
     "output_type": "stream",
     "text": [
      "cog:timesat_extracts/h15v05/seasonal_amplitude/s_amplitude_h15v05_2019_s1_laea_cog.tif\n",
      "cog:timesat_extracts/h15v05/seasonal_amplitude/s_amplitude_h15v05_2020_s1_laea_cog.tif\n"
     ]
    },
    {
     "name": "stdout",
     "output_type": "stream",
     "text": [
      "cog:timesat_extracts/h15v05/sos/sos_h15v05_2000_s1_laea_cog.tif\n",
      "cog:timesat_extracts/h15v05/sos/sos_h15v05_2001_s1_laea_cog.tif\n"
     ]
    },
    {
     "name": "stdout",
     "output_type": "stream",
     "text": [
      "cog:timesat_extracts/h15v05/sos/sos_h15v05_2002_s1_laea_cog.tif\n",
      "cog:timesat_extracts/h15v05/sos/sos_h15v05_2003_s1_laea_cog.tif\n"
     ]
    },
    {
     "name": "stdout",
     "output_type": "stream",
     "text": [
      "cog:timesat_extracts/h15v05/sos/sos_h15v05_2004_s1_laea_cog.tif\n",
      "cog:timesat_extracts/h15v05/sos/sos_h15v05_2005_s1_laea_cog.tif\n",
      "cog:timesat_extracts/h15v05/sos/sos_h15v05_2006_s1_laea_cog.tif\n"
     ]
    },
    {
     "name": "stdout",
     "output_type": "stream",
     "text": [
      "cog:timesat_extracts/h15v05/sos/sos_h15v05_2007_s1_laea_cog.tif\n",
      "cog:timesat_extracts/h15v05/sos/sos_h15v05_2008_s1_laea_cog.tif\n"
     ]
    },
    {
     "name": "stdout",
     "output_type": "stream",
     "text": [
      "cog:timesat_extracts/h15v05/sos/sos_h15v05_2009_s1_laea_cog.tif\n",
      "cog:timesat_extracts/h15v05/sos/sos_h15v05_2010_s1_laea_cog.tif\n"
     ]
    },
    {
     "name": "stdout",
     "output_type": "stream",
     "text": [
      "cog:timesat_extracts/h15v05/sos/sos_h15v05_2011_s1_laea_cog.tif\n",
      "cog:timesat_extracts/h15v05/sos/sos_h15v05_2012_s1_laea_cog.tif\n"
     ]
    },
    {
     "name": "stdout",
     "output_type": "stream",
     "text": [
      "cog:timesat_extracts/h15v05/sos/sos_h15v05_2013_s1_laea_cog.tif\n",
      "cog:timesat_extracts/h15v05/sos/sos_h15v05_2014_s1_laea_cog.tif\n"
     ]
    },
    {
     "name": "stdout",
     "output_type": "stream",
     "text": [
      "cog:timesat_extracts/h15v05/sos/sos_h15v05_2015_s1_laea_cog.tif\n",
      "cog:timesat_extracts/h15v05/sos/sos_h15v05_2016_s1_laea_cog.tif\n"
     ]
    },
    {
     "name": "stdout",
     "output_type": "stream",
     "text": [
      "cog:timesat_extracts/h15v05/sos/sos_h15v05_2017_s1_laea_cog.tif\n",
      "cog:timesat_extracts/h15v05/sos/sos_h15v05_2018_s1_laea_cog.tif\n",
      "cog:timesat_extracts/h15v05/sos/sos_h15v05_2019_s1_laea_cog.tif\n"
     ]
    },
    {
     "name": "stdout",
     "output_type": "stream",
     "text": [
      "cog:timesat_extracts/h15v05/sos/sos_h15v05_2020_s1_laea_cog.tif\n",
      "cog:timesat_extracts/h15v05/sos_value/sos_value_h15v05_2000_s1_laea_cog.tif\n"
     ]
    },
    {
     "name": "stdout",
     "output_type": "stream",
     "text": [
      "cog:timesat_extracts/h15v05/sos_value/sos_value_h15v05_2001_s1_laea_cog.tif\n",
      "cog:timesat_extracts/h15v05/sos_value/sos_value_h15v05_2002_s1_laea_cog.tif\n",
      "cog:timesat_extracts/h15v05/sos_value/sos_value_h15v05_2003_s1_laea_cog.tif\n"
     ]
    },
    {
     "name": "stdout",
     "output_type": "stream",
     "text": [
      "cog:timesat_extracts/h15v05/sos_value/sos_value_h15v05_2004_s1_laea_cog.tif\n",
      "cog:timesat_extracts/h15v05/sos_value/sos_value_h15v05_2005_s1_laea_cog.tif\n"
     ]
    },
    {
     "name": "stdout",
     "output_type": "stream",
     "text": [
      "cog:timesat_extracts/h15v05/sos_value/sos_value_h15v05_2006_s1_laea_cog.tif\n",
      "cog:timesat_extracts/h15v05/sos_value/sos_value_h15v05_2007_s1_laea_cog.tif\n"
     ]
    },
    {
     "name": "stdout",
     "output_type": "stream",
     "text": [
      "cog:timesat_extracts/h15v05/sos_value/sos_value_h15v05_2008_s1_laea_cog.tif\n",
      "cog:timesat_extracts/h15v05/sos_value/sos_value_h15v05_2009_s1_laea_cog.tif\n"
     ]
    },
    {
     "name": "stdout",
     "output_type": "stream",
     "text": [
      "cog:timesat_extracts/h15v05/sos_value/sos_value_h15v05_2010_s1_laea_cog.tif\n",
      "cog:timesat_extracts/h15v05/sos_value/sos_value_h15v05_2011_s1_laea_cog.tif\n"
     ]
    },
    {
     "name": "stdout",
     "output_type": "stream",
     "text": [
      "cog:timesat_extracts/h15v05/sos_value/sos_value_h15v05_2012_s1_laea_cog.tif\n",
      "cog:timesat_extracts/h15v05/sos_value/sos_value_h15v05_2013_s1_laea_cog.tif\n"
     ]
    },
    {
     "name": "stdout",
     "output_type": "stream",
     "text": [
      "cog:timesat_extracts/h15v05/sos_value/sos_value_h15v05_2014_s1_laea_cog.tif\n",
      "cog:timesat_extracts/h15v05/sos_value/sos_value_h15v05_2015_s1_laea_cog.tif\n"
     ]
    },
    {
     "name": "stdout",
     "output_type": "stream",
     "text": [
      "cog:timesat_extracts/h15v05/sos_value/sos_value_h15v05_2016_s1_laea_cog.tif\n",
      "cog:timesat_extracts/h15v05/sos_value/sos_value_h15v05_2017_s1_laea_cog.tif\n",
      "cog:timesat_extracts/h15v05/sos_value/sos_value_h15v05_2018_s1_laea_cog.tif\n"
     ]
    },
    {
     "name": "stdout",
     "output_type": "stream",
     "text": [
      "cog:timesat_extracts/h15v05/sos_value/sos_value_h15v05_2019_s1_laea_cog.tif\n",
      "cog:timesat_extracts/h15v05/sos_value/sos_value_h15v05_2020_s1_laea_cog.tif\n"
     ]
    },
    {
     "name": "stdout",
     "output_type": "stream",
     "text": [
      "cog:timesat_extracts/h16v02/LINT/LINT_h16v02_2000_s1_laea_cog.tif\n",
      "cog:timesat_extracts/h16v02/LINT/LINT_h16v02_2001_s1_laea_cog.tif\n"
     ]
    },
    {
     "name": "stdout",
     "output_type": "stream",
     "text": [
      "cog:timesat_extracts/h16v02/LINT/LINT_h16v02_2002_s1_laea_cog.tif\n",
      "cog:timesat_extracts/h16v02/LINT/LINT_h16v02_2003_s1_laea_cog.tif\n"
     ]
    },
    {
     "name": "stdout",
     "output_type": "stream",
     "text": [
      "cog:timesat_extracts/h16v02/LINT/LINT_h16v02_2004_s1_laea_cog.tif\n",
      "cog:timesat_extracts/h16v02/LINT/LINT_h16v02_2005_s1_laea_cog.tif\n"
     ]
    },
    {
     "name": "stdout",
     "output_type": "stream",
     "text": [
      "cog:timesat_extracts/h16v02/LINT/LINT_h16v02_2006_s1_laea_cog.tif\n",
      "cog:timesat_extracts/h16v02/LINT/LINT_h16v02_2007_s1_laea_cog.tif\n"
     ]
    },
    {
     "name": "stdout",
     "output_type": "stream",
     "text": [
      "cog:timesat_extracts/h16v02/LINT/LINT_h16v02_2008_s1_laea_cog.tif\n",
      "cog:timesat_extracts/h16v02/LINT/LINT_h16v02_2009_s1_laea_cog.tif\n",
      "cog:timesat_extracts/h16v02/LINT/LINT_h16v02_2010_s1_laea_cog.tif\n"
     ]
    },
    {
     "name": "stdout",
     "output_type": "stream",
     "text": [
      "cog:timesat_extracts/h16v02/LINT/LINT_h16v02_2011_s1_laea_cog.tif\n",
      "cog:timesat_extracts/h16v02/LINT/LINT_h16v02_2012_s1_laea_cog.tif\n"
     ]
    },
    {
     "name": "stdout",
     "output_type": "stream",
     "text": [
      "cog:timesat_extracts/h16v02/LINT/LINT_h16v02_2013_s1_laea_cog.tif\n",
      "cog:timesat_extracts/h16v02/LINT/LINT_h16v02_2014_s1_laea_cog.tif\n"
     ]
    },
    {
     "name": "stdout",
     "output_type": "stream",
     "text": [
      "cog:timesat_extracts/h16v02/LINT/LINT_h16v02_2015_s1_laea_cog.tif\n",
      "cog:timesat_extracts/h16v02/LINT/LINT_h16v02_2016_s1_laea_cog.tif\n"
     ]
    },
    {
     "name": "stdout",
     "output_type": "stream",
     "text": [
      "cog:timesat_extracts/h16v02/LINT/LINT_h16v02_2017_s1_laea_cog.tif\n",
      "cog:timesat_extracts/h16v02/LINT/LINT_h16v02_2018_s1_laea_cog.tif\n"
     ]
    },
    {
     "name": "stdout",
     "output_type": "stream",
     "text": [
      "cog:timesat_extracts/h16v02/LINT/LINT_h16v02_2019_s1_laea_cog.tif\n",
      "cog:timesat_extracts/h16v02/LINT/LINT_h16v02_2020_s1_laea_cog.tif\n"
     ]
    },
    {
     "name": "stdout",
     "output_type": "stream",
     "text": [
      "cog:timesat_extracts/h16v02/SINT/SINT_h16v02_2000_s1_laea_cog.tif\n",
      "cog:timesat_extracts/h16v02/SINT/SINT_h16v02_2001_s1_laea_cog.tif\n"
     ]
    },
    {
     "name": "stdout",
     "output_type": "stream",
     "text": [
      "cog:timesat_extracts/h16v02/SINT/SINT_h16v02_2002_s1_laea_cog.tif\n",
      "cog:timesat_extracts/h16v02/SINT/SINT_h16v02_2003_s1_laea_cog.tif\n"
     ]
    },
    {
     "name": "stdout",
     "output_type": "stream",
     "text": [
      "cog:timesat_extracts/h16v02/SINT/SINT_h16v02_2004_s1_laea_cog.tif\n",
      "cog:timesat_extracts/h16v02/SINT/SINT_h16v02_2005_s1_laea_cog.tif\n",
      "cog:timesat_extracts/h16v02/SINT/SINT_h16v02_2006_s1_laea_cog.tif\n"
     ]
    },
    {
     "name": "stdout",
     "output_type": "stream",
     "text": [
      "cog:timesat_extracts/h16v02/SINT/SINT_h16v02_2007_s1_laea_cog.tif\n",
      "cog:timesat_extracts/h16v02/SINT/SINT_h16v02_2008_s1_laea_cog.tif\n"
     ]
    },
    {
     "name": "stdout",
     "output_type": "stream",
     "text": [
      "cog:timesat_extracts/h16v02/SINT/SINT_h16v02_2009_s1_laea_cog.tif\n",
      "cog:timesat_extracts/h16v02/SINT/SINT_h16v02_2010_s1_laea_cog.tif\n"
     ]
    },
    {
     "name": "stdout",
     "output_type": "stream",
     "text": [
      "cog:timesat_extracts/h16v02/SINT/SINT_h16v02_2011_s1_laea_cog.tif\n",
      "cog:timesat_extracts/h16v02/SINT/SINT_h16v02_2012_s1_laea_cog.tif\n"
     ]
    },
    {
     "name": "stdout",
     "output_type": "stream",
     "text": [
      "cog:timesat_extracts/h16v02/SINT/SINT_h16v02_2013_s1_laea_cog.tif\n",
      "cog:timesat_extracts/h16v02/SINT/SINT_h16v02_2014_s1_laea_cog.tif\n",
      "cog:timesat_extracts/h16v02/SINT/SINT_h16v02_2015_s1_laea_cog.tif\n"
     ]
    },
    {
     "name": "stdout",
     "output_type": "stream",
     "text": [
      "cog:timesat_extracts/h16v02/SINT/SINT_h16v02_2016_s1_laea_cog.tif\n",
      "cog:timesat_extracts/h16v02/SINT/SINT_h16v02_2017_s1_laea_cog.tif\n"
     ]
    },
    {
     "name": "stdout",
     "output_type": "stream",
     "text": [
      "cog:timesat_extracts/h16v02/SINT/SINT_h16v02_2018_s1_laea_cog.tif\n",
      "cog:timesat_extracts/h16v02/SINT/SINT_h16v02_2019_s1_laea_cog.tif\n"
     ]
    },
    {
     "name": "stdout",
     "output_type": "stream",
     "text": [
      "cog:timesat_extracts/h16v02/SINT/SINT_h16v02_2020_s1_laea_cog.tif\n",
      "cog:timesat_extracts/h16v02/decrease_rate/decrease_rate_EOS_h16v02_2000_s1_laea_cog.tif\n",
      "cog:timesat_extracts/h16v02/decrease_rate/decrease_rate_EOS_h16v02_2001_s1_laea_cog.tif\n"
     ]
    },
    {
     "name": "stdout",
     "output_type": "stream",
     "text": [
      "cog:timesat_extracts/h16v02/decrease_rate/decrease_rate_EOS_h16v02_2002_s1_laea_cog.tif\n",
      "cog:timesat_extracts/h16v02/decrease_rate/decrease_rate_EOS_h16v02_2003_s1_laea_cog.tif\n"
     ]
    },
    {
     "name": "stdout",
     "output_type": "stream",
     "text": [
      "cog:timesat_extracts/h16v02/decrease_rate/decrease_rate_EOS_h16v02_2004_s1_laea_cog.tif\n",
      "cog:timesat_extracts/h16v02/decrease_rate/decrease_rate_EOS_h16v02_2005_s1_laea_cog.tif\n"
     ]
    },
    {
     "name": "stdout",
     "output_type": "stream",
     "text": [
      "cog:timesat_extracts/h16v02/decrease_rate/decrease_rate_EOS_h16v02_2006_s1_laea_cog.tif\n",
      "cog:timesat_extracts/h16v02/decrease_rate/decrease_rate_EOS_h16v02_2007_s1_laea_cog.tif\n",
      "cog:timesat_extracts/h16v02/decrease_rate/decrease_rate_EOS_h16v02_2008_s1_laea_cog.tif\n"
     ]
    },
    {
     "name": "stdout",
     "output_type": "stream",
     "text": [
      "cog:timesat_extracts/h16v02/decrease_rate/decrease_rate_EOS_h16v02_2009_s1_laea_cog.tif\n",
      "cog:timesat_extracts/h16v02/decrease_rate/decrease_rate_EOS_h16v02_2010_s1_laea_cog.tif\n"
     ]
    },
    {
     "name": "stdout",
     "output_type": "stream",
     "text": [
      "cog:timesat_extracts/h16v02/decrease_rate/decrease_rate_EOS_h16v02_2011_s1_laea_cog.tif\n",
      "cog:timesat_extracts/h16v02/decrease_rate/decrease_rate_EOS_h16v02_2012_s1_laea_cog.tif\n"
     ]
    },
    {
     "name": "stdout",
     "output_type": "stream",
     "text": [
      "cog:timesat_extracts/h16v02/decrease_rate/decrease_rate_EOS_h16v02_2013_s1_laea_cog.tif\n",
      "cog:timesat_extracts/h16v02/decrease_rate/decrease_rate_EOS_h16v02_2014_s1_laea_cog.tif\n"
     ]
    },
    {
     "name": "stdout",
     "output_type": "stream",
     "text": [
      "cog:timesat_extracts/h16v02/decrease_rate/decrease_rate_EOS_h16v02_2015_s1_laea_cog.tif\n",
      "cog:timesat_extracts/h16v02/decrease_rate/decrease_rate_EOS_h16v02_2016_s1_laea_cog.tif\n"
     ]
    },
    {
     "name": "stdout",
     "output_type": "stream",
     "text": [
      "cog:timesat_extracts/h16v02/decrease_rate/decrease_rate_EOS_h16v02_2017_s1_laea_cog.tif\n",
      "cog:timesat_extracts/h16v02/decrease_rate/decrease_rate_EOS_h16v02_2018_s1_laea_cog.tif\n"
     ]
    },
    {
     "name": "stdout",
     "output_type": "stream",
     "text": [
      "cog:timesat_extracts/h16v02/decrease_rate/decrease_rate_EOS_h16v02_2019_s1_laea_cog.tif\n",
      "cog:timesat_extracts/h16v02/decrease_rate/decrease_rate_EOS_h16v02_2020_s1_laea_cog.tif\n"
     ]
    },
    {
     "name": "stdout",
     "output_type": "stream",
     "text": [
      "cog:timesat_extracts/h16v02/eos/eos_h16v02_2000_s1_laea_cog.tif\n",
      "cog:timesat_extracts/h16v02/eos/eos_h16v02_2001_s1_laea_cog.tif\n",
      "cog:timesat_extracts/h16v02/eos/eos_h16v02_2002_s1_laea_cog.tif\n"
     ]
    },
    {
     "name": "stdout",
     "output_type": "stream",
     "text": [
      "cog:timesat_extracts/h16v02/eos/eos_h16v02_2003_s1_laea_cog.tif\n",
      "cog:timesat_extracts/h16v02/eos/eos_h16v02_2004_s1_laea_cog.tif\n"
     ]
    },
    {
     "name": "stdout",
     "output_type": "stream",
     "text": [
      "cog:timesat_extracts/h16v02/eos/eos_h16v02_2005_s1_laea_cog.tif\n",
      "cog:timesat_extracts/h16v02/eos/eos_h16v02_2006_s1_laea_cog.tif\n",
      "cog:timesat_extracts/h16v02/eos/eos_h16v02_2007_s1_laea_cog.tif\n"
     ]
    },
    {
     "name": "stdout",
     "output_type": "stream",
     "text": [
      "cog:timesat_extracts/h16v02/eos/eos_h16v02_2008_s1_laea_cog.tif\n",
      "cog:timesat_extracts/h16v02/eos/eos_h16v02_2009_s1_laea_cog.tif\n"
     ]
    },
    {
     "name": "stdout",
     "output_type": "stream",
     "text": [
      "cog:timesat_extracts/h16v02/eos/eos_h16v02_2010_s1_laea_cog.tif\n",
      "cog:timesat_extracts/h16v02/eos/eos_h16v02_2011_s1_laea_cog.tif\n"
     ]
    },
    {
     "name": "stdout",
     "output_type": "stream",
     "text": [
      "cog:timesat_extracts/h16v02/eos/eos_h16v02_2012_s1_laea_cog.tif\n",
      "cog:timesat_extracts/h16v02/eos/eos_h16v02_2013_s1_laea_cog.tif\n"
     ]
    },
    {
     "name": "stdout",
     "output_type": "stream",
     "text": [
      "cog:timesat_extracts/h16v02/eos/eos_h16v02_2014_s1_laea_cog.tif\n",
      "cog:timesat_extracts/h16v02/eos/eos_h16v02_2015_s1_laea_cog.tif\n"
     ]
    },
    {
     "name": "stdout",
     "output_type": "stream",
     "text": [
      "cog:timesat_extracts/h16v02/eos/eos_h16v02_2016_s1_laea_cog.tif\n",
      "cog:timesat_extracts/h16v02/eos/eos_h16v02_2017_s1_laea_cog.tif\n"
     ]
    },
    {
     "name": "stdout",
     "output_type": "stream",
     "text": [
      "cog:timesat_extracts/h16v02/eos/eos_h16v02_2018_s1_laea_cog.tif\n",
      "cog:timesat_extracts/h16v02/eos/eos_h16v02_2019_s1_laea_cog.tif\n"
     ]
    },
    {
     "name": "stdout",
     "output_type": "stream",
     "text": [
      "cog:timesat_extracts/h16v02/eos/eos_h16v02_2020_s1_laea_cog.tif\n",
      "cog:timesat_extracts/h16v02/eos_value/eos_value_h16v02_2000_s1_laea_cog.tif\n"
     ]
    },
    {
     "name": "stdout",
     "output_type": "stream",
     "text": [
      "cog:timesat_extracts/h16v02/eos_value/eos_value_h16v02_2001_s1_laea_cog.tif\n",
      "cog:timesat_extracts/h16v02/eos_value/eos_value_h16v02_2002_s1_laea_cog.tif\n"
     ]
    },
    {
     "name": "stdout",
     "output_type": "stream",
     "text": [
      "cog:timesat_extracts/h16v02/eos_value/eos_value_h16v02_2003_s1_laea_cog.tif\n",
      "cog:timesat_extracts/h16v02/eos_value/eos_value_h16v02_2004_s1_laea_cog.tif\n"
     ]
    },
    {
     "name": "stdout",
     "output_type": "stream",
     "text": [
      "cog:timesat_extracts/h16v02/eos_value/eos_value_h16v02_2005_s1_laea_cog.tif\n",
      "cog:timesat_extracts/h16v02/eos_value/eos_value_h16v02_2006_s1_laea_cog.tif\n"
     ]
    },
    {
     "name": "stdout",
     "output_type": "stream",
     "text": [
      "cog:timesat_extracts/h16v02/eos_value/eos_value_h16v02_2007_s1_laea_cog.tif\n",
      "cog:timesat_extracts/h16v02/eos_value/eos_value_h16v02_2008_s1_laea_cog.tif\n"
     ]
    },
    {
     "name": "stdout",
     "output_type": "stream",
     "text": [
      "cog:timesat_extracts/h16v02/eos_value/eos_value_h16v02_2009_s1_laea_cog.tif\n",
      "cog:timesat_extracts/h16v02/eos_value/eos_value_h16v02_2010_s1_laea_cog.tif\n"
     ]
    },
    {
     "name": "stdout",
     "output_type": "stream",
     "text": [
      "cog:timesat_extracts/h16v02/eos_value/eos_value_h16v02_2011_s1_laea_cog.tif\n",
      "cog:timesat_extracts/h16v02/eos_value/eos_value_h16v02_2012_s1_laea_cog.tif\n"
     ]
    },
    {
     "name": "stdout",
     "output_type": "stream",
     "text": [
      "cog:timesat_extracts/h16v02/eos_value/eos_value_h16v02_2013_s1_laea_cog.tif\n",
      "cog:timesat_extracts/h16v02/eos_value/eos_value_h16v02_2014_s1_laea_cog.tif\n"
     ]
    },
    {
     "name": "stdout",
     "output_type": "stream",
     "text": [
      "cog:timesat_extracts/h16v02/eos_value/eos_value_h16v02_2015_s1_laea_cog.tif\n",
      "cog:timesat_extracts/h16v02/eos_value/eos_value_h16v02_2016_s1_laea_cog.tif\n"
     ]
    },
    {
     "name": "stdout",
     "output_type": "stream",
     "text": [
      "cog:timesat_extracts/h16v02/eos_value/eos_value_h16v02_2017_s1_laea_cog.tif\n",
      "cog:timesat_extracts/h16v02/eos_value/eos_value_h16v02_2018_s1_laea_cog.tif\n"
     ]
    },
    {
     "name": "stdout",
     "output_type": "stream",
     "text": [
      "cog:timesat_extracts/h16v02/eos_value/eos_value_h16v02_2019_s1_laea_cog.tif\n",
      "cog:timesat_extracts/h16v02/eos_value/eos_value_h16v02_2020_s1_laea_cog.tif\n",
      "cog:timesat_extracts/h16v02/increase_rate/increase_rate_SOS_h16v02_2000_s1_laea_cog.tif\n"
     ]
    },
    {
     "name": "stdout",
     "output_type": "stream",
     "text": [
      "cog:timesat_extracts/h16v02/increase_rate/increase_rate_SOS_h16v02_2001_s1_laea_cog.tif\n",
      "cog:timesat_extracts/h16v02/increase_rate/increase_rate_SOS_h16v02_2002_s1_laea_cog.tif\n"
     ]
    },
    {
     "name": "stdout",
     "output_type": "stream",
     "text": [
      "cog:timesat_extracts/h16v02/increase_rate/increase_rate_SOS_h16v02_2003_s1_laea_cog.tif\n",
      "cog:timesat_extracts/h16v02/increase_rate/increase_rate_SOS_h16v02_2004_s1_laea_cog.tif\n"
     ]
    },
    {
     "name": "stdout",
     "output_type": "stream",
     "text": [
      "cog:timesat_extracts/h16v02/increase_rate/increase_rate_SOS_h16v02_2005_s1_laea_cog.tif\n",
      "cog:timesat_extracts/h16v02/increase_rate/increase_rate_SOS_h16v02_2006_s1_laea_cog.tif\n",
      "cog:timesat_extracts/h16v02/increase_rate/increase_rate_SOS_h16v02_2007_s1_laea_cog.tif\n"
     ]
    },
    {
     "name": "stdout",
     "output_type": "stream",
     "text": [
      "cog:timesat_extracts/h16v02/increase_rate/increase_rate_SOS_h16v02_2008_s1_laea_cog.tif\n",
      "cog:timesat_extracts/h16v02/increase_rate/increase_rate_SOS_h16v02_2009_s1_laea_cog.tif\n"
     ]
    },
    {
     "name": "stdout",
     "output_type": "stream",
     "text": [
      "cog:timesat_extracts/h16v02/increase_rate/increase_rate_SOS_h16v02_2010_s1_laea_cog.tif\n",
      "cog:timesat_extracts/h16v02/increase_rate/increase_rate_SOS_h16v02_2011_s1_laea_cog.tif\n",
      "cog:timesat_extracts/h16v02/increase_rate/increase_rate_SOS_h16v02_2012_s1_laea_cog.tif\n"
     ]
    },
    {
     "name": "stdout",
     "output_type": "stream",
     "text": [
      "cog:timesat_extracts/h16v02/increase_rate/increase_rate_SOS_h16v02_2013_s1_laea_cog.tif\n",
      "cog:timesat_extracts/h16v02/increase_rate/increase_rate_SOS_h16v02_2014_s1_laea_cog.tif\n",
      "cog:timesat_extracts/h16v02/increase_rate/increase_rate_SOS_h16v02_2015_s1_laea_cog.tif\n"
     ]
    },
    {
     "name": "stdout",
     "output_type": "stream",
     "text": [
      "cog:timesat_extracts/h16v02/increase_rate/increase_rate_SOS_h16v02_2016_s1_laea_cog.tif\n",
      "cog:timesat_extracts/h16v02/increase_rate/increase_rate_SOS_h16v02_2017_s1_laea_cog.tif\n",
      "cog:timesat_extracts/h16v02/increase_rate/increase_rate_SOS_h16v02_2018_s1_laea_cog.tif\n"
     ]
    },
    {
     "name": "stdout",
     "output_type": "stream",
     "text": [
      "cog:timesat_extracts/h16v02/increase_rate/increase_rate_SOS_h16v02_2019_s1_laea_cog.tif\n",
      "cog:timesat_extracts/h16v02/increase_rate/increase_rate_SOS_h16v02_2020_s1_laea_cog.tif\n"
     ]
    },
    {
     "name": "stdout",
     "output_type": "stream",
     "text": [
      "cog:timesat_extracts/h16v02/length_of_season/los_h16v02_2000_s1_laea_cog.tif\n",
      "cog:timesat_extracts/h16v02/length_of_season/los_h16v02_2001_s1_laea_cog.tif\n"
     ]
    },
    {
     "name": "stdout",
     "output_type": "stream",
     "text": [
      "cog:timesat_extracts/h16v02/length_of_season/los_h16v02_2002_s1_laea_cog.tif\n",
      "cog:timesat_extracts/h16v02/length_of_season/los_h16v02_2003_s1_laea_cog.tif\n",
      "cog:timesat_extracts/h16v02/length_of_season/los_h16v02_2004_s1_laea_cog.tif\n"
     ]
    },
    {
     "name": "stdout",
     "output_type": "stream",
     "text": [
      "cog:timesat_extracts/h16v02/length_of_season/los_h16v02_2005_s1_laea_cog.tif\n",
      "cog:timesat_extracts/h16v02/length_of_season/los_h16v02_2006_s1_laea_cog.tif\n",
      "cog:timesat_extracts/h16v02/length_of_season/los_h16v02_2007_s1_laea_cog.tif\n"
     ]
    },
    {
     "name": "stdout",
     "output_type": "stream",
     "text": [
      "cog:timesat_extracts/h16v02/length_of_season/los_h16v02_2008_s1_laea_cog.tif\n",
      "cog:timesat_extracts/h16v02/length_of_season/los_h16v02_2009_s1_laea_cog.tif\n"
     ]
    },
    {
     "name": "stdout",
     "output_type": "stream",
     "text": [
      "cog:timesat_extracts/h16v02/length_of_season/los_h16v02_2010_s1_laea_cog.tif\n",
      "cog:timesat_extracts/h16v02/length_of_season/los_h16v02_2011_s1_laea_cog.tif\n",
      "cog:timesat_extracts/h16v02/length_of_season/los_h16v02_2012_s1_laea_cog.tif\n"
     ]
    },
    {
     "name": "stdout",
     "output_type": "stream",
     "text": [
      "cog:timesat_extracts/h16v02/length_of_season/los_h16v02_2013_s1_laea_cog.tif\n",
      "cog:timesat_extracts/h16v02/length_of_season/los_h16v02_2014_s1_laea_cog.tif\n"
     ]
    },
    {
     "name": "stdout",
     "output_type": "stream",
     "text": [
      "cog:timesat_extracts/h16v02/length_of_season/los_h16v02_2015_s1_laea_cog.tif\n",
      "cog:timesat_extracts/h16v02/length_of_season/los_h16v02_2016_s1_laea_cog.tif\n",
      "cog:timesat_extracts/h16v02/length_of_season/los_h16v02_2017_s1_laea_cog.tif\n"
     ]
    },
    {
     "name": "stdout",
     "output_type": "stream",
     "text": [
      "cog:timesat_extracts/h16v02/length_of_season/los_h16v02_2018_s1_laea_cog.tif\n",
      "cog:timesat_extracts/h16v02/length_of_season/los_h16v02_2019_s1_laea_cog.tif\n"
     ]
    },
    {
     "name": "stdout",
     "output_type": "stream",
     "text": [
      "cog:timesat_extracts/h16v02/length_of_season/los_h16v02_2020_s1_laea_cog.tif\n",
      "cog:timesat_extracts/h16v02/seasonal_amplitude/s_amplitude_h16v02_2000_s1_laea_cog.tif\n",
      "cog:timesat_extracts/h16v02/seasonal_amplitude/s_amplitude_h16v02_2001_s1_laea_cog.tif\n"
     ]
    },
    {
     "name": "stdout",
     "output_type": "stream",
     "text": [
      "cog:timesat_extracts/h16v02/seasonal_amplitude/s_amplitude_h16v02_2002_s1_laea_cog.tif\n",
      "cog:timesat_extracts/h16v02/seasonal_amplitude/s_amplitude_h16v02_2003_s1_laea_cog.tif\n"
     ]
    },
    {
     "name": "stdout",
     "output_type": "stream",
     "text": [
      "cog:timesat_extracts/h16v02/seasonal_amplitude/s_amplitude_h16v02_2004_s1_laea_cog.tif\n",
      "cog:timesat_extracts/h16v02/seasonal_amplitude/s_amplitude_h16v02_2005_s1_laea_cog.tif\n",
      "cog:timesat_extracts/h16v02/seasonal_amplitude/s_amplitude_h16v02_2006_s1_laea_cog.tif\n"
     ]
    },
    {
     "name": "stdout",
     "output_type": "stream",
     "text": [
      "cog:timesat_extracts/h16v02/seasonal_amplitude/s_amplitude_h16v02_2007_s1_laea_cog.tif\n",
      "cog:timesat_extracts/h16v02/seasonal_amplitude/s_amplitude_h16v02_2008_s1_laea_cog.tif\n"
     ]
    },
    {
     "name": "stdout",
     "output_type": "stream",
     "text": [
      "cog:timesat_extracts/h16v02/seasonal_amplitude/s_amplitude_h16v02_2009_s1_laea_cog.tif\n",
      "cog:timesat_extracts/h16v02/seasonal_amplitude/s_amplitude_h16v02_2010_s1_laea_cog.tif\n"
     ]
    },
    {
     "name": "stdout",
     "output_type": "stream",
     "text": [
      "cog:timesat_extracts/h16v02/seasonal_amplitude/s_amplitude_h16v02_2011_s1_laea_cog.tif\n",
      "cog:timesat_extracts/h16v02/seasonal_amplitude/s_amplitude_h16v02_2012_s1_laea_cog.tif\n"
     ]
    },
    {
     "name": "stdout",
     "output_type": "stream",
     "text": [
      "cog:timesat_extracts/h16v02/seasonal_amplitude/s_amplitude_h16v02_2013_s1_laea_cog.tif\n",
      "cog:timesat_extracts/h16v02/seasonal_amplitude/s_amplitude_h16v02_2014_s1_laea_cog.tif\n"
     ]
    },
    {
     "name": "stdout",
     "output_type": "stream",
     "text": [
      "cog:timesat_extracts/h16v02/seasonal_amplitude/s_amplitude_h16v02_2015_s1_laea_cog.tif\n",
      "cog:timesat_extracts/h16v02/seasonal_amplitude/s_amplitude_h16v02_2016_s1_laea_cog.tif\n"
     ]
    },
    {
     "name": "stdout",
     "output_type": "stream",
     "text": [
      "cog:timesat_extracts/h16v02/seasonal_amplitude/s_amplitude_h16v02_2017_s1_laea_cog.tif\n",
      "cog:timesat_extracts/h16v02/seasonal_amplitude/s_amplitude_h16v02_2018_s1_laea_cog.tif\n"
     ]
    },
    {
     "name": "stdout",
     "output_type": "stream",
     "text": [
      "cog:timesat_extracts/h16v02/seasonal_amplitude/s_amplitude_h16v02_2019_s1_laea_cog.tif\n",
      "cog:timesat_extracts/h16v02/seasonal_amplitude/s_amplitude_h16v02_2020_s1_laea_cog.tif\n"
     ]
    },
    {
     "name": "stdout",
     "output_type": "stream",
     "text": [
      "cog:timesat_extracts/h16v02/sos/sos_h16v02_2000_s1_laea_cog.tif\n",
      "cog:timesat_extracts/h16v02/sos/sos_h16v02_2001_s1_laea_cog.tif\n"
     ]
    },
    {
     "name": "stdout",
     "output_type": "stream",
     "text": [
      "cog:timesat_extracts/h16v02/sos/sos_h16v02_2002_s1_laea_cog.tif\n",
      "cog:timesat_extracts/h16v02/sos/sos_h16v02_2003_s1_laea_cog.tif\n"
     ]
    },
    {
     "name": "stdout",
     "output_type": "stream",
     "text": [
      "cog:timesat_extracts/h16v02/sos/sos_h16v02_2004_s1_laea_cog.tif\n",
      "cog:timesat_extracts/h16v02/sos/sos_h16v02_2005_s1_laea_cog.tif\n"
     ]
    },
    {
     "name": "stdout",
     "output_type": "stream",
     "text": [
      "cog:timesat_extracts/h16v02/sos/sos_h16v02_2006_s1_laea_cog.tif\n",
      "cog:timesat_extracts/h16v02/sos/sos_h16v02_2007_s1_laea_cog.tif\n",
      "cog:timesat_extracts/h16v02/sos/sos_h16v02_2008_s1_laea_cog.tif\n"
     ]
    },
    {
     "name": "stdout",
     "output_type": "stream",
     "text": [
      "cog:timesat_extracts/h16v02/sos/sos_h16v02_2009_s1_laea_cog.tif\n",
      "cog:timesat_extracts/h16v02/sos/sos_h16v02_2010_s1_laea_cog.tif\n",
      "cog:timesat_extracts/h16v02/sos/sos_h16v02_2011_s1_laea_cog.tif\n"
     ]
    },
    {
     "name": "stdout",
     "output_type": "stream",
     "text": [
      "cog:timesat_extracts/h16v02/sos/sos_h16v02_2012_s1_laea_cog.tif\n",
      "cog:timesat_extracts/h16v02/sos/sos_h16v02_2013_s1_laea_cog.tif\n"
     ]
    },
    {
     "name": "stdout",
     "output_type": "stream",
     "text": [
      "cog:timesat_extracts/h16v02/sos/sos_h16v02_2014_s1_laea_cog.tif\n",
      "cog:timesat_extracts/h16v02/sos/sos_h16v02_2015_s1_laea_cog.tif\n"
     ]
    },
    {
     "name": "stdout",
     "output_type": "stream",
     "text": [
      "cog:timesat_extracts/h16v02/sos/sos_h16v02_2016_s1_laea_cog.tif\n",
      "cog:timesat_extracts/h16v02/sos/sos_h16v02_2017_s1_laea_cog.tif\n"
     ]
    },
    {
     "name": "stdout",
     "output_type": "stream",
     "text": [
      "cog:timesat_extracts/h16v02/sos/sos_h16v02_2018_s1_laea_cog.tif\n",
      "cog:timesat_extracts/h16v02/sos/sos_h16v02_2019_s1_laea_cog.tif\n",
      "cog:timesat_extracts/h16v02/sos/sos_h16v02_2020_s1_laea_cog.tif\n"
     ]
    },
    {
     "name": "stdout",
     "output_type": "stream",
     "text": [
      "cog:timesat_extracts/h16v02/sos_value/sos_value_h16v02_2000_s1_laea_cog.tif\n",
      "cog:timesat_extracts/h16v02/sos_value/sos_value_h16v02_2001_s1_laea_cog.tif\n"
     ]
    },
    {
     "name": "stdout",
     "output_type": "stream",
     "text": [
      "cog:timesat_extracts/h16v02/sos_value/sos_value_h16v02_2002_s1_laea_cog.tif\n",
      "cog:timesat_extracts/h16v02/sos_value/sos_value_h16v02_2003_s1_laea_cog.tif\n"
     ]
    },
    {
     "name": "stdout",
     "output_type": "stream",
     "text": [
      "cog:timesat_extracts/h16v02/sos_value/sos_value_h16v02_2004_s1_laea_cog.tif\n",
      "cog:timesat_extracts/h16v02/sos_value/sos_value_h16v02_2005_s1_laea_cog.tif\n"
     ]
    },
    {
     "name": "stdout",
     "output_type": "stream",
     "text": [
      "cog:timesat_extracts/h16v02/sos_value/sos_value_h16v02_2006_s1_laea_cog.tif\n",
      "cog:timesat_extracts/h16v02/sos_value/sos_value_h16v02_2007_s1_laea_cog.tif\n"
     ]
    },
    {
     "name": "stdout",
     "output_type": "stream",
     "text": [
      "cog:timesat_extracts/h16v02/sos_value/sos_value_h16v02_2008_s1_laea_cog.tif\n",
      "cog:timesat_extracts/h16v02/sos_value/sos_value_h16v02_2009_s1_laea_cog.tif\n"
     ]
    },
    {
     "name": "stdout",
     "output_type": "stream",
     "text": [
      "cog:timesat_extracts/h16v02/sos_value/sos_value_h16v02_2010_s1_laea_cog.tif\n",
      "cog:timesat_extracts/h16v02/sos_value/sos_value_h16v02_2011_s1_laea_cog.tif\n"
     ]
    },
    {
     "name": "stdout",
     "output_type": "stream",
     "text": [
      "cog:timesat_extracts/h16v02/sos_value/sos_value_h16v02_2012_s1_laea_cog.tif\n",
      "cog:timesat_extracts/h16v02/sos_value/sos_value_h16v02_2013_s1_laea_cog.tif\n",
      "cog:timesat_extracts/h16v02/sos_value/sos_value_h16v02_2014_s1_laea_cog.tif\n"
     ]
    },
    {
     "name": "stdout",
     "output_type": "stream",
     "text": [
      "cog:timesat_extracts/h16v02/sos_value/sos_value_h16v02_2015_s1_laea_cog.tif\n",
      "cog:timesat_extracts/h16v02/sos_value/sos_value_h16v02_2016_s1_laea_cog.tif\n"
     ]
    },
    {
     "name": "stdout",
     "output_type": "stream",
     "text": [
      "cog:timesat_extracts/h16v02/sos_value/sos_value_h16v02_2017_s1_laea_cog.tif\n",
      "cog:timesat_extracts/h16v02/sos_value/sos_value_h16v02_2018_s1_laea_cog.tif\n",
      "cog:timesat_extracts/h16v02/sos_value/sos_value_h16v02_2019_s1_laea_cog.tif\n"
     ]
    },
    {
     "name": "stdout",
     "output_type": "stream",
     "text": [
      "cog:timesat_extracts/h16v02/sos_value/sos_value_h16v02_2020_s1_laea_cog.tif\n",
      "cog:timesat_extracts/h16v05/LINT/LINT_h16v05_2000_s1_laea_cog.tif\n"
     ]
    },
    {
     "name": "stdout",
     "output_type": "stream",
     "text": [
      "cog:timesat_extracts/h16v05/LINT/LINT_h16v05_2001_s1_laea_cog.tif\n",
      "cog:timesat_extracts/h16v05/LINT/LINT_h16v05_2002_s1_laea_cog.tif\n"
     ]
    },
    {
     "name": "stdout",
     "output_type": "stream",
     "text": [
      "cog:timesat_extracts/h16v05/LINT/LINT_h16v05_2003_s1_laea_cog.tif\n",
      "cog:timesat_extracts/h16v05/LINT/LINT_h16v05_2004_s1_laea_cog.tif\n"
     ]
    },
    {
     "name": "stdout",
     "output_type": "stream",
     "text": [
      "cog:timesat_extracts/h16v05/LINT/LINT_h16v05_2005_s1_laea_cog.tif\n",
      "cog:timesat_extracts/h16v05/LINT/LINT_h16v05_2006_s1_laea_cog.tif\n"
     ]
    },
    {
     "name": "stdout",
     "output_type": "stream",
     "text": [
      "cog:timesat_extracts/h16v05/LINT/LINT_h16v05_2007_s1_laea_cog.tif\n",
      "cog:timesat_extracts/h16v05/LINT/LINT_h16v05_2008_s1_laea_cog.tif\n",
      "cog:timesat_extracts/h16v05/LINT/LINT_h16v05_2009_s1_laea_cog.tif\n"
     ]
    },
    {
     "name": "stdout",
     "output_type": "stream",
     "text": [
      "cog:timesat_extracts/h16v05/LINT/LINT_h16v05_2010_s1_laea_cog.tif\n",
      "cog:timesat_extracts/h16v05/LINT/LINT_h16v05_2011_s1_laea_cog.tif\n"
     ]
    },
    {
     "name": "stdout",
     "output_type": "stream",
     "text": [
      "cog:timesat_extracts/h16v05/LINT/LINT_h16v05_2012_s1_laea_cog.tif\n",
      "cog:timesat_extracts/h16v05/LINT/LINT_h16v05_2013_s1_laea_cog.tif\n"
     ]
    },
    {
     "name": "stdout",
     "output_type": "stream",
     "text": [
      "cog:timesat_extracts/h16v05/LINT/LINT_h16v05_2014_s1_laea_cog.tif\n",
      "cog:timesat_extracts/h16v05/LINT/LINT_h16v05_2015_s1_laea_cog.tif\n"
     ]
    },
    {
     "name": "stdout",
     "output_type": "stream",
     "text": [
      "cog:timesat_extracts/h16v05/LINT/LINT_h16v05_2016_s1_laea_cog.tif\n",
      "cog:timesat_extracts/h16v05/LINT/LINT_h16v05_2017_s1_laea_cog.tif\n"
     ]
    },
    {
     "name": "stdout",
     "output_type": "stream",
     "text": [
      "cog:timesat_extracts/h16v05/LINT/LINT_h16v05_2018_s1_laea_cog.tif\n",
      "cog:timesat_extracts/h16v05/LINT/LINT_h16v05_2019_s1_laea_cog.tif\n",
      "cog:timesat_extracts/h16v05/LINT/LINT_h16v05_2020_s1_laea_cog.tif\n"
     ]
    },
    {
     "name": "stdout",
     "output_type": "stream",
     "text": [
      "cog:timesat_extracts/h16v05/SINT/SINT_h16v05_2000_s1_laea_cog.tif\n",
      "cog:timesat_extracts/h16v05/SINT/SINT_h16v05_2001_s1_laea_cog.tif\n"
     ]
    },
    {
     "name": "stdout",
     "output_type": "stream",
     "text": [
      "cog:timesat_extracts/h16v05/SINT/SINT_h16v05_2002_s1_laea_cog.tif\n",
      "cog:timesat_extracts/h16v05/SINT/SINT_h16v05_2003_s1_laea_cog.tif\n"
     ]
    },
    {
     "name": "stdout",
     "output_type": "stream",
     "text": [
      "cog:timesat_extracts/h16v05/SINT/SINT_h16v05_2004_s1_laea_cog.tif\n",
      "cog:timesat_extracts/h16v05/SINT/SINT_h16v05_2005_s1_laea_cog.tif\n",
      "cog:timesat_extracts/h16v05/SINT/SINT_h16v05_2006_s1_laea_cog.tif\n"
     ]
    },
    {
     "name": "stdout",
     "output_type": "stream",
     "text": [
      "cog:timesat_extracts/h16v05/SINT/SINT_h16v05_2007_s1_laea_cog.tif\n",
      "cog:timesat_extracts/h16v05/SINT/SINT_h16v05_2008_s1_laea_cog.tif\n"
     ]
    },
    {
     "name": "stdout",
     "output_type": "stream",
     "text": [
      "cog:timesat_extracts/h16v05/SINT/SINT_h16v05_2009_s1_laea_cog.tif\n",
      "cog:timesat_extracts/h16v05/SINT/SINT_h16v05_2010_s1_laea_cog.tif\n"
     ]
    },
    {
     "name": "stdout",
     "output_type": "stream",
     "text": [
      "cog:timesat_extracts/h16v05/SINT/SINT_h16v05_2011_s1_laea_cog.tif\n",
      "cog:timesat_extracts/h16v05/SINT/SINT_h16v05_2012_s1_laea_cog.tif\n"
     ]
    },
    {
     "name": "stdout",
     "output_type": "stream",
     "text": [
      "cog:timesat_extracts/h16v05/SINT/SINT_h16v05_2013_s1_laea_cog.tif\n",
      "cog:timesat_extracts/h16v05/SINT/SINT_h16v05_2014_s1_laea_cog.tif\n"
     ]
    },
    {
     "name": "stdout",
     "output_type": "stream",
     "text": [
      "cog:timesat_extracts/h16v05/SINT/SINT_h16v05_2015_s1_laea_cog.tif\n",
      "cog:timesat_extracts/h16v05/SINT/SINT_h16v05_2016_s1_laea_cog.tif\n"
     ]
    },
    {
     "name": "stdout",
     "output_type": "stream",
     "text": [
      "cog:timesat_extracts/h16v05/SINT/SINT_h16v05_2017_s1_laea_cog.tif\n",
      "cog:timesat_extracts/h16v05/SINT/SINT_h16v05_2018_s1_laea_cog.tif\n"
     ]
    },
    {
     "name": "stdout",
     "output_type": "stream",
     "text": [
      "cog:timesat_extracts/h16v05/SINT/SINT_h16v05_2019_s1_laea_cog.tif\n",
      "cog:timesat_extracts/h16v05/SINT/SINT_h16v05_2020_s1_laea_cog.tif\n"
     ]
    },
    {
     "name": "stdout",
     "output_type": "stream",
     "text": [
      "cog:timesat_extracts/h16v05/decrease_rate/decrease_rate_EOS_h16v05_2000_s1_laea_cog.tif\n",
      "cog:timesat_extracts/h16v05/decrease_rate/decrease_rate_EOS_h16v05_2001_s1_laea_cog.tif\n"
     ]
    },
    {
     "name": "stdout",
     "output_type": "stream",
     "text": [
      "cog:timesat_extracts/h16v05/decrease_rate/decrease_rate_EOS_h16v05_2002_s1_laea_cog.tif\n",
      "cog:timesat_extracts/h16v05/decrease_rate/decrease_rate_EOS_h16v05_2003_s1_laea_cog.tif\n"
     ]
    },
    {
     "name": "stdout",
     "output_type": "stream",
     "text": [
      "cog:timesat_extracts/h16v05/decrease_rate/decrease_rate_EOS_h16v05_2004_s1_laea_cog.tif\n",
      "cog:timesat_extracts/h16v05/decrease_rate/decrease_rate_EOS_h16v05_2005_s1_laea_cog.tif\n"
     ]
    },
    {
     "name": "stdout",
     "output_type": "stream",
     "text": [
      "cog:timesat_extracts/h16v05/decrease_rate/decrease_rate_EOS_h16v05_2006_s1_laea_cog.tif\n",
      "cog:timesat_extracts/h16v05/decrease_rate/decrease_rate_EOS_h16v05_2007_s1_laea_cog.tif\n"
     ]
    },
    {
     "name": "stdout",
     "output_type": "stream",
     "text": [
      "cog:timesat_extracts/h16v05/decrease_rate/decrease_rate_EOS_h16v05_2008_s1_laea_cog.tif\n",
      "cog:timesat_extracts/h16v05/decrease_rate/decrease_rate_EOS_h16v05_2009_s1_laea_cog.tif\n",
      "cog:timesat_extracts/h16v05/decrease_rate/decrease_rate_EOS_h16v05_2010_s1_laea_cog.tif\n"
     ]
    },
    {
     "name": "stdout",
     "output_type": "stream",
     "text": [
      "cog:timesat_extracts/h16v05/decrease_rate/decrease_rate_EOS_h16v05_2011_s1_laea_cog.tif\n",
      "cog:timesat_extracts/h16v05/decrease_rate/decrease_rate_EOS_h16v05_2012_s1_laea_cog.tif\n"
     ]
    },
    {
     "name": "stdout",
     "output_type": "stream",
     "text": [
      "cog:timesat_extracts/h16v05/decrease_rate/decrease_rate_EOS_h16v05_2013_s1_laea_cog.tif\n",
      "cog:timesat_extracts/h16v05/decrease_rate/decrease_rate_EOS_h16v05_2014_s1_laea_cog.tif\n"
     ]
    },
    {
     "name": "stdout",
     "output_type": "stream",
     "text": [
      "cog:timesat_extracts/h16v05/decrease_rate/decrease_rate_EOS_h16v05_2015_s1_laea_cog.tif\n",
      "cog:timesat_extracts/h16v05/decrease_rate/decrease_rate_EOS_h16v05_2016_s1_laea_cog.tif\n",
      "cog:timesat_extracts/h16v05/decrease_rate/decrease_rate_EOS_h16v05_2017_s1_laea_cog.tif\n"
     ]
    },
    {
     "name": "stdout",
     "output_type": "stream",
     "text": [
      "cog:timesat_extracts/h16v05/decrease_rate/decrease_rate_EOS_h16v05_2018_s1_laea_cog.tif\n",
      "cog:timesat_extracts/h16v05/decrease_rate/decrease_rate_EOS_h16v05_2019_s1_laea_cog.tif\n",
      "cog:timesat_extracts/h16v05/decrease_rate/decrease_rate_EOS_h16v05_2020_s1_laea_cog.tif\n"
     ]
    },
    {
     "name": "stdout",
     "output_type": "stream",
     "text": [
      "cog:timesat_extracts/h16v05/eos/eos_h16v05_2000_s1_laea_cog.tif\n",
      "cog:timesat_extracts/h16v05/eos/eos_h16v05_2001_s1_laea_cog.tif\n",
      "cog:timesat_extracts/h16v05/eos/eos_h16v05_2002_s1_laea_cog.tif\n"
     ]
    },
    {
     "name": "stdout",
     "output_type": "stream",
     "text": [
      "cog:timesat_extracts/h16v05/eos/eos_h16v05_2003_s1_laea_cog.tif\n",
      "cog:timesat_extracts/h16v05/eos/eos_h16v05_2004_s1_laea_cog.tif\n",
      "cog:timesat_extracts/h16v05/eos/eos_h16v05_2005_s1_laea_cog.tif\n"
     ]
    },
    {
     "name": "stdout",
     "output_type": "stream",
     "text": [
      "cog:timesat_extracts/h16v05/eos/eos_h16v05_2006_s1_laea_cog.tif\n",
      "cog:timesat_extracts/h16v05/eos/eos_h16v05_2007_s1_laea_cog.tif\n"
     ]
    },
    {
     "name": "stdout",
     "output_type": "stream",
     "text": [
      "cog:timesat_extracts/h16v05/eos/eos_h16v05_2008_s1_laea_cog.tif\n",
      "cog:timesat_extracts/h16v05/eos/eos_h16v05_2009_s1_laea_cog.tif\n",
      "cog:timesat_extracts/h16v05/eos/eos_h16v05_2010_s1_laea_cog.tif\n"
     ]
    },
    {
     "name": "stdout",
     "output_type": "stream",
     "text": [
      "cog:timesat_extracts/h16v05/eos/eos_h16v05_2011_s1_laea_cog.tif\n",
      "cog:timesat_extracts/h16v05/eos/eos_h16v05_2012_s1_laea_cog.tif\n"
     ]
    },
    {
     "name": "stdout",
     "output_type": "stream",
     "text": [
      "cog:timesat_extracts/h16v05/eos/eos_h16v05_2013_s1_laea_cog.tif\n",
      "cog:timesat_extracts/h16v05/eos/eos_h16v05_2014_s1_laea_cog.tif\n",
      "cog:timesat_extracts/h16v05/eos/eos_h16v05_2015_s1_laea_cog.tif\n"
     ]
    },
    {
     "name": "stdout",
     "output_type": "stream",
     "text": [
      "cog:timesat_extracts/h16v05/eos/eos_h16v05_2016_s1_laea_cog.tif\n",
      "cog:timesat_extracts/h16v05/eos/eos_h16v05_2017_s1_laea_cog.tif\n"
     ]
    },
    {
     "name": "stdout",
     "output_type": "stream",
     "text": [
      "cog:timesat_extracts/h16v05/eos/eos_h16v05_2018_s1_laea_cog.tif\n",
      "cog:timesat_extracts/h16v05/eos/eos_h16v05_2019_s1_laea_cog.tif\n"
     ]
    },
    {
     "name": "stdout",
     "output_type": "stream",
     "text": [
      "cog:timesat_extracts/h16v05/eos/eos_h16v05_2020_s1_laea_cog.tif\n",
      "cog:timesat_extracts/h16v05/eos_value/eos_value_h16v05_2000_s1_laea_cog.tif\n"
     ]
    },
    {
     "name": "stdout",
     "output_type": "stream",
     "text": [
      "cog:timesat_extracts/h16v05/eos_value/eos_value_h16v05_2001_s1_laea_cog.tif\n",
      "cog:timesat_extracts/h16v05/eos_value/eos_value_h16v05_2002_s1_laea_cog.tif\n"
     ]
    },
    {
     "name": "stdout",
     "output_type": "stream",
     "text": [
      "cog:timesat_extracts/h16v05/eos_value/eos_value_h16v05_2003_s1_laea_cog.tif\n",
      "cog:timesat_extracts/h16v05/eos_value/eos_value_h16v05_2004_s1_laea_cog.tif\n"
     ]
    },
    {
     "name": "stdout",
     "output_type": "stream",
     "text": [
      "cog:timesat_extracts/h16v05/eos_value/eos_value_h16v05_2005_s1_laea_cog.tif\n",
      "cog:timesat_extracts/h16v05/eos_value/eos_value_h16v05_2006_s1_laea_cog.tif\n"
     ]
    },
    {
     "name": "stdout",
     "output_type": "stream",
     "text": [
      "cog:timesat_extracts/h16v05/eos_value/eos_value_h16v05_2007_s1_laea_cog.tif\n",
      "cog:timesat_extracts/h16v05/eos_value/eos_value_h16v05_2008_s1_laea_cog.tif\n",
      "cog:timesat_extracts/h16v05/eos_value/eos_value_h16v05_2009_s1_laea_cog.tif\n"
     ]
    },
    {
     "name": "stdout",
     "output_type": "stream",
     "text": [
      "cog:timesat_extracts/h16v05/eos_value/eos_value_h16v05_2010_s1_laea_cog.tif\n",
      "cog:timesat_extracts/h16v05/eos_value/eos_value_h16v05_2011_s1_laea_cog.tif\n"
     ]
    },
    {
     "name": "stdout",
     "output_type": "stream",
     "text": [
      "cog:timesat_extracts/h16v05/eos_value/eos_value_h16v05_2012_s1_laea_cog.tif\n",
      "cog:timesat_extracts/h16v05/eos_value/eos_value_h16v05_2013_s1_laea_cog.tif\n"
     ]
    },
    {
     "name": "stdout",
     "output_type": "stream",
     "text": [
      "cog:timesat_extracts/h16v05/eos_value/eos_value_h16v05_2014_s1_laea_cog.tif\n",
      "cog:timesat_extracts/h16v05/eos_value/eos_value_h16v05_2015_s1_laea_cog.tif\n"
     ]
    },
    {
     "name": "stdout",
     "output_type": "stream",
     "text": [
      "cog:timesat_extracts/h16v05/eos_value/eos_value_h16v05_2016_s1_laea_cog.tif\n",
      "cog:timesat_extracts/h16v05/eos_value/eos_value_h16v05_2017_s1_laea_cog.tif\n"
     ]
    },
    {
     "name": "stdout",
     "output_type": "stream",
     "text": [
      "cog:timesat_extracts/h16v05/eos_value/eos_value_h16v05_2018_s1_laea_cog.tif\n",
      "cog:timesat_extracts/h16v05/eos_value/eos_value_h16v05_2019_s1_laea_cog.tif\n"
     ]
    },
    {
     "name": "stdout",
     "output_type": "stream",
     "text": [
      "cog:timesat_extracts/h16v05/eos_value/eos_value_h16v05_2020_s1_laea_cog.tif\n",
      "cog:timesat_extracts/h16v05/increase_rate/increase_rate_SOS_h16v05_2000_s1_laea_cog.tif\n",
      "cog:timesat_extracts/h16v05/increase_rate/increase_rate_SOS_h16v05_2001_s1_laea_cog.tif\n"
     ]
    },
    {
     "name": "stdout",
     "output_type": "stream",
     "text": [
      "cog:timesat_extracts/h16v05/increase_rate/increase_rate_SOS_h16v05_2002_s1_laea_cog.tif\n",
      "cog:timesat_extracts/h16v05/increase_rate/increase_rate_SOS_h16v05_2003_s1_laea_cog.tif\n"
     ]
    },
    {
     "name": "stdout",
     "output_type": "stream",
     "text": [
      "cog:timesat_extracts/h16v05/increase_rate/increase_rate_SOS_h16v05_2004_s1_laea_cog.tif\n"
     ]
    },
    {
     "name": "stdout",
     "output_type": "stream",
     "text": [
      "cog:timesat_extracts/h16v05/increase_rate/increase_rate_SOS_h16v05_2005_s1_laea_cog.tif\n",
      "cog:timesat_extracts/h16v05/increase_rate/increase_rate_SOS_h16v05_2006_s1_laea_cog.tif\n"
     ]
    },
    {
     "name": "stdout",
     "output_type": "stream",
     "text": [
      "cog:timesat_extracts/h16v05/increase_rate/increase_rate_SOS_h16v05_2007_s1_laea_cog.tif\n",
      "cog:timesat_extracts/h16v05/increase_rate/increase_rate_SOS_h16v05_2008_s1_laea_cog.tif\n"
     ]
    },
    {
     "name": "stdout",
     "output_type": "stream",
     "text": [
      "cog:timesat_extracts/h16v05/increase_rate/increase_rate_SOS_h16v05_2009_s1_laea_cog.tif\n",
      "cog:timesat_extracts/h16v05/increase_rate/increase_rate_SOS_h16v05_2010_s1_laea_cog.tif\n"
     ]
    },
    {
     "name": "stdout",
     "output_type": "stream",
     "text": [
      "cog:timesat_extracts/h16v05/increase_rate/increase_rate_SOS_h16v05_2011_s1_laea_cog.tif\n",
      "cog:timesat_extracts/h16v05/increase_rate/increase_rate_SOS_h16v05_2012_s1_laea_cog.tif\n",
      "cog:timesat_extracts/h16v05/increase_rate/increase_rate_SOS_h16v05_2013_s1_laea_cog.tif\n"
     ]
    },
    {
     "name": "stdout",
     "output_type": "stream",
     "text": [
      "cog:timesat_extracts/h16v05/increase_rate/increase_rate_SOS_h16v05_2014_s1_laea_cog.tif\n",
      "cog:timesat_extracts/h16v05/increase_rate/increase_rate_SOS_h16v05_2015_s1_laea_cog.tif\n"
     ]
    },
    {
     "name": "stdout",
     "output_type": "stream",
     "text": [
      "cog:timesat_extracts/h16v05/increase_rate/increase_rate_SOS_h16v05_2016_s1_laea_cog.tif\n",
      "cog:timesat_extracts/h16v05/increase_rate/increase_rate_SOS_h16v05_2017_s1_laea_cog.tif\n",
      "cog:timesat_extracts/h16v05/increase_rate/increase_rate_SOS_h16v05_2018_s1_laea_cog.tif\n"
     ]
    },
    {
     "name": "stdout",
     "output_type": "stream",
     "text": [
      "cog:timesat_extracts/h16v05/increase_rate/increase_rate_SOS_h16v05_2019_s1_laea_cog.tif\n",
      "cog:timesat_extracts/h16v05/increase_rate/increase_rate_SOS_h16v05_2020_s1_laea_cog.tif\n"
     ]
    },
    {
     "name": "stdout",
     "output_type": "stream",
     "text": [
      "cog:timesat_extracts/h16v05/length_of_season/los_h16v05_2000_s1_laea_cog.tif\n",
      "cog:timesat_extracts/h16v05/length_of_season/los_h16v05_2001_s1_laea_cog.tif\n"
     ]
    },
    {
     "name": "stdout",
     "output_type": "stream",
     "text": [
      "cog:timesat_extracts/h16v05/length_of_season/los_h16v05_2002_s1_laea_cog.tif\n",
      "cog:timesat_extracts/h16v05/length_of_season/los_h16v05_2003_s1_laea_cog.tif\n",
      "cog:timesat_extracts/h16v05/length_of_season/los_h16v05_2004_s1_laea_cog.tif\n"
     ]
    },
    {
     "name": "stdout",
     "output_type": "stream",
     "text": [
      "cog:timesat_extracts/h16v05/length_of_season/los_h16v05_2005_s1_laea_cog.tif\n",
      "cog:timesat_extracts/h16v05/length_of_season/los_h16v05_2006_s1_laea_cog.tif\n"
     ]
    },
    {
     "name": "stdout",
     "output_type": "stream",
     "text": [
      "cog:timesat_extracts/h16v05/length_of_season/los_h16v05_2007_s1_laea_cog.tif\n",
      "cog:timesat_extracts/h16v05/length_of_season/los_h16v05_2008_s1_laea_cog.tif\n"
     ]
    },
    {
     "name": "stdout",
     "output_type": "stream",
     "text": [
      "cog:timesat_extracts/h16v05/length_of_season/los_h16v05_2009_s1_laea_cog.tif\n",
      "cog:timesat_extracts/h16v05/length_of_season/los_h16v05_2010_s1_laea_cog.tif\n"
     ]
    },
    {
     "name": "stdout",
     "output_type": "stream",
     "text": [
      "cog:timesat_extracts/h16v05/length_of_season/los_h16v05_2011_s1_laea_cog.tif\n",
      "cog:timesat_extracts/h16v05/length_of_season/los_h16v05_2012_s1_laea_cog.tif\n",
      "cog:timesat_extracts/h16v05/length_of_season/los_h16v05_2013_s1_laea_cog.tif\n"
     ]
    },
    {
     "name": "stdout",
     "output_type": "stream",
     "text": [
      "cog:timesat_extracts/h16v05/length_of_season/los_h16v05_2014_s1_laea_cog.tif\n",
      "cog:timesat_extracts/h16v05/length_of_season/los_h16v05_2015_s1_laea_cog.tif\n"
     ]
    },
    {
     "name": "stdout",
     "output_type": "stream",
     "text": [
      "cog:timesat_extracts/h16v05/length_of_season/los_h16v05_2016_s1_laea_cog.tif\n",
      "cog:timesat_extracts/h16v05/length_of_season/los_h16v05_2017_s1_laea_cog.tif\n",
      "cog:timesat_extracts/h16v05/length_of_season/los_h16v05_2018_s1_laea_cog.tif\n"
     ]
    },
    {
     "name": "stdout",
     "output_type": "stream",
     "text": [
      "cog:timesat_extracts/h16v05/length_of_season/los_h16v05_2019_s1_laea_cog.tif\n",
      "cog:timesat_extracts/h16v05/length_of_season/los_h16v05_2020_s1_laea_cog.tif\n"
     ]
    },
    {
     "name": "stdout",
     "output_type": "stream",
     "text": [
      "cog:timesat_extracts/h16v05/seasonal_amplitude/s_amplitude_h16v05_2000_s1_laea_cog.tif\n",
      "cog:timesat_extracts/h16v05/seasonal_amplitude/s_amplitude_h16v05_2001_s1_laea_cog.tif\n"
     ]
    },
    {
     "name": "stdout",
     "output_type": "stream",
     "text": [
      "cog:timesat_extracts/h16v05/seasonal_amplitude/s_amplitude_h16v05_2002_s1_laea_cog.tif\n",
      "cog:timesat_extracts/h16v05/seasonal_amplitude/s_amplitude_h16v05_2003_s1_laea_cog.tif\n"
     ]
    },
    {
     "name": "stdout",
     "output_type": "stream",
     "text": [
      "cog:timesat_extracts/h16v05/seasonal_amplitude/s_amplitude_h16v05_2004_s1_laea_cog.tif\n",
      "cog:timesat_extracts/h16v05/seasonal_amplitude/s_amplitude_h16v05_2005_s1_laea_cog.tif\n"
     ]
    },
    {
     "name": "stdout",
     "output_type": "stream",
     "text": [
      "cog:timesat_extracts/h16v05/seasonal_amplitude/s_amplitude_h16v05_2006_s1_laea_cog.tif\n",
      "cog:timesat_extracts/h16v05/seasonal_amplitude/s_amplitude_h16v05_2007_s1_laea_cog.tif\n"
     ]
    },
    {
     "name": "stdout",
     "output_type": "stream",
     "text": [
      "cog:timesat_extracts/h16v05/seasonal_amplitude/s_amplitude_h16v05_2008_s1_laea_cog.tif\n",
      "cog:timesat_extracts/h16v05/seasonal_amplitude/s_amplitude_h16v05_2009_s1_laea_cog.tif\n",
      "cog:timesat_extracts/h16v05/seasonal_amplitude/s_amplitude_h16v05_2010_s1_laea_cog.tif\n"
     ]
    },
    {
     "name": "stdout",
     "output_type": "stream",
     "text": [
      "cog:timesat_extracts/h16v05/seasonal_amplitude/s_amplitude_h16v05_2011_s1_laea_cog.tif\n",
      "cog:timesat_extracts/h16v05/seasonal_amplitude/s_amplitude_h16v05_2012_s1_laea_cog.tif\n"
     ]
    },
    {
     "name": "stdout",
     "output_type": "stream",
     "text": [
      "cog:timesat_extracts/h16v05/seasonal_amplitude/s_amplitude_h16v05_2013_s1_laea_cog.tif\n",
      "cog:timesat_extracts/h16v05/seasonal_amplitude/s_amplitude_h16v05_2014_s1_laea_cog.tif\n",
      "cog:timesat_extracts/h16v05/seasonal_amplitude/s_amplitude_h16v05_2015_s1_laea_cog.tif\n"
     ]
    },
    {
     "name": "stdout",
     "output_type": "stream",
     "text": [
      "cog:timesat_extracts/h16v05/seasonal_amplitude/s_amplitude_h16v05_2016_s1_laea_cog.tif\n",
      "cog:timesat_extracts/h16v05/seasonal_amplitude/s_amplitude_h16v05_2017_s1_laea_cog.tif\n"
     ]
    },
    {
     "name": "stdout",
     "output_type": "stream",
     "text": [
      "cog:timesat_extracts/h16v05/seasonal_amplitude/s_amplitude_h16v05_2018_s1_laea_cog.tif\n",
      "cog:timesat_extracts/h16v05/seasonal_amplitude/s_amplitude_h16v05_2019_s1_laea_cog.tif\n",
      "cog:timesat_extracts/h16v05/seasonal_amplitude/s_amplitude_h16v05_2020_s1_laea_cog.tif\n"
     ]
    },
    {
     "name": "stdout",
     "output_type": "stream",
     "text": [
      "cog:timesat_extracts/h16v05/sos/sos_h16v05_2000_s1_laea_cog.tif\n",
      "cog:timesat_extracts/h16v05/sos/sos_h16v05_2001_s1_laea_cog.tif\n",
      "cog:timesat_extracts/h16v05/sos/sos_h16v05_2002_s1_laea_cog.tif\n"
     ]
    },
    {
     "name": "stdout",
     "output_type": "stream",
     "text": [
      "cog:timesat_extracts/h16v05/sos/sos_h16v05_2003_s1_laea_cog.tif\n",
      "cog:timesat_extracts/h16v05/sos/sos_h16v05_2004_s1_laea_cog.tif\n"
     ]
    },
    {
     "name": "stdout",
     "output_type": "stream",
     "text": [
      "cog:timesat_extracts/h16v05/sos/sos_h16v05_2005_s1_laea_cog.tif\n",
      "cog:timesat_extracts/h16v05/sos/sos_h16v05_2006_s1_laea_cog.tif\n",
      "cog:timesat_extracts/h16v05/sos/sos_h16v05_2007_s1_laea_cog.tif\n"
     ]
    },
    {
     "name": "stdout",
     "output_type": "stream",
     "text": [
      "cog:timesat_extracts/h16v05/sos/sos_h16v05_2008_s1_laea_cog.tif\n",
      "cog:timesat_extracts/h16v05/sos/sos_h16v05_2009_s1_laea_cog.tif\n"
     ]
    },
    {
     "name": "stdout",
     "output_type": "stream",
     "text": [
      "cog:timesat_extracts/h16v05/sos/sos_h16v05_2010_s1_laea_cog.tif\n",
      "cog:timesat_extracts/h16v05/sos/sos_h16v05_2011_s1_laea_cog.tif\n",
      "cog:timesat_extracts/h16v05/sos/sos_h16v05_2012_s1_laea_cog.tif\n"
     ]
    },
    {
     "name": "stdout",
     "output_type": "stream",
     "text": [
      "cog:timesat_extracts/h16v05/sos/sos_h16v05_2013_s1_laea_cog.tif\n",
      "cog:timesat_extracts/h16v05/sos/sos_h16v05_2014_s1_laea_cog.tif\n",
      "cog:timesat_extracts/h16v05/sos/sos_h16v05_2015_s1_laea_cog.tif\n"
     ]
    },
    {
     "name": "stdout",
     "output_type": "stream",
     "text": [
      "cog:timesat_extracts/h16v05/sos/sos_h16v05_2016_s1_laea_cog.tif\n",
      "cog:timesat_extracts/h16v05/sos/sos_h16v05_2017_s1_laea_cog.tif\n"
     ]
    },
    {
     "name": "stdout",
     "output_type": "stream",
     "text": [
      "cog:timesat_extracts/h16v05/sos/sos_h16v05_2018_s1_laea_cog.tif\n",
      "cog:timesat_extracts/h16v05/sos/sos_h16v05_2019_s1_laea_cog.tif\n"
     ]
    },
    {
     "name": "stdout",
     "output_type": "stream",
     "text": [
      "cog:timesat_extracts/h16v05/sos/sos_h16v05_2020_s1_laea_cog.tif\n",
      "cog:timesat_extracts/h16v05/sos_value/sos_value_h16v05_2000_s1_laea_cog.tif\n"
     ]
    },
    {
     "name": "stdout",
     "output_type": "stream",
     "text": [
      "cog:timesat_extracts/h16v05/sos_value/sos_value_h16v05_2001_s1_laea_cog.tif\n",
      "cog:timesat_extracts/h16v05/sos_value/sos_value_h16v05_2002_s1_laea_cog.tif\n"
     ]
    },
    {
     "name": "stdout",
     "output_type": "stream",
     "text": [
      "cog:timesat_extracts/h16v05/sos_value/sos_value_h16v05_2003_s1_laea_cog.tif\n",
      "cog:timesat_extracts/h16v05/sos_value/sos_value_h16v05_2004_s1_laea_cog.tif\n",
      "cog:timesat_extracts/h16v05/sos_value/sos_value_h16v05_2005_s1_laea_cog.tif\n"
     ]
    },
    {
     "name": "stdout",
     "output_type": "stream",
     "text": [
      "cog:timesat_extracts/h16v05/sos_value/sos_value_h16v05_2006_s1_laea_cog.tif\n"
     ]
    },
    {
     "name": "stdout",
     "output_type": "stream",
     "text": [
      "cog:timesat_extracts/h16v05/sos_value/sos_value_h16v05_2007_s1_laea_cog.tif\n",
      "cog:timesat_extracts/h16v05/sos_value/sos_value_h16v05_2008_s1_laea_cog.tif\n"
     ]
    },
    {
     "name": "stdout",
     "output_type": "stream",
     "text": [
      "cog:timesat_extracts/h16v05/sos_value/sos_value_h16v05_2009_s1_laea_cog.tif\n",
      "cog:timesat_extracts/h16v05/sos_value/sos_value_h16v05_2010_s1_laea_cog.tif\n"
     ]
    },
    {
     "name": "stdout",
     "output_type": "stream",
     "text": [
      "cog:timesat_extracts/h16v05/sos_value/sos_value_h16v05_2011_s1_laea_cog.tif\n",
      "cog:timesat_extracts/h16v05/sos_value/sos_value_h16v05_2012_s1_laea_cog.tif\n"
     ]
    },
    {
     "name": "stdout",
     "output_type": "stream",
     "text": [
      "cog:timesat_extracts/h16v05/sos_value/sos_value_h16v05_2013_s1_laea_cog.tif\n",
      "cog:timesat_extracts/h16v05/sos_value/sos_value_h16v05_2014_s1_laea_cog.tif\n"
     ]
    },
    {
     "name": "stdout",
     "output_type": "stream",
     "text": [
      "cog:timesat_extracts/h16v05/sos_value/sos_value_h16v05_2015_s1_laea_cog.tif\n",
      "cog:timesat_extracts/h16v05/sos_value/sos_value_h16v05_2016_s1_laea_cog.tif\n"
     ]
    },
    {
     "name": "stdout",
     "output_type": "stream",
     "text": [
      "cog:timesat_extracts/h16v05/sos_value/sos_value_h16v05_2017_s1_laea_cog.tif\n",
      "cog:timesat_extracts/h16v05/sos_value/sos_value_h16v05_2018_s1_laea_cog.tif\n",
      "cog:timesat_extracts/h16v05/sos_value/sos_value_h16v05_2019_s1_laea_cog.tif\n"
     ]
    },
    {
     "name": "stdout",
     "output_type": "stream",
     "text": [
      "cog:timesat_extracts/h16v05/sos_value/sos_value_h16v05_2020_s1_laea_cog.tif\n",
      "cog:timesat_extracts/h16v06/LINT/LINT_h16v06_2000_s1_laea_cog.tif\n"
     ]
    },
    {
     "name": "stdout",
     "output_type": "stream",
     "text": [
      "cog:timesat_extracts/h16v06/LINT/LINT_h16v06_2001_s1_laea_cog.tif\n"
     ]
    },
    {
     "name": "stdout",
     "output_type": "stream",
     "text": [
      "cog:timesat_extracts/h16v06/LINT/LINT_h16v06_2002_s1_laea_cog.tif\n"
     ]
    },
    {
     "name": "stdout",
     "output_type": "stream",
     "text": [
      "cog:timesat_extracts/h16v06/LINT/LINT_h16v06_2003_s1_laea_cog.tif\n"
     ]
    },
    {
     "name": "stdout",
     "output_type": "stream",
     "text": [
      "cog:timesat_extracts/h16v06/LINT/LINT_h16v06_2004_s1_laea_cog.tif\n"
     ]
    },
    {
     "name": "stdout",
     "output_type": "stream",
     "text": [
      "cog:timesat_extracts/h16v06/LINT/LINT_h16v06_2005_s1_laea_cog.tif\n"
     ]
    },
    {
     "name": "stdout",
     "output_type": "stream",
     "text": [
      "cog:timesat_extracts/h16v06/LINT/LINT_h16v06_2006_s1_laea_cog.tif\n"
     ]
    },
    {
     "name": "stdout",
     "output_type": "stream",
     "text": [
      "cog:timesat_extracts/h16v06/LINT/LINT_h16v06_2007_s1_laea_cog.tif\n"
     ]
    },
    {
     "name": "stdout",
     "output_type": "stream",
     "text": [
      "cog:timesat_extracts/h16v06/LINT/LINT_h16v06_2008_s1_laea_cog.tif\n",
      "cog:timesat_extracts/h16v06/LINT/LINT_h16v06_2009_s1_laea_cog.tif\n"
     ]
    },
    {
     "name": "stdout",
     "output_type": "stream",
     "text": [
      "cog:timesat_extracts/h16v06/LINT/LINT_h16v06_2010_s1_laea_cog.tif\n"
     ]
    },
    {
     "name": "stdout",
     "output_type": "stream",
     "text": [
      "cog:timesat_extracts/h16v06/LINT/LINT_h16v06_2011_s1_laea_cog.tif\n",
      "cog:timesat_extracts/h16v06/LINT/LINT_h16v06_2012_s1_laea_cog.tif\n"
     ]
    },
    {
     "name": "stdout",
     "output_type": "stream",
     "text": [
      "cog:timesat_extracts/h16v06/LINT/LINT_h16v06_2013_s1_laea_cog.tif\n"
     ]
    },
    {
     "name": "stdout",
     "output_type": "stream",
     "text": [
      "cog:timesat_extracts/h16v06/LINT/LINT_h16v06_2014_s1_laea_cog.tif\n"
     ]
    },
    {
     "name": "stdout",
     "output_type": "stream",
     "text": [
      "cog:timesat_extracts/h16v06/LINT/LINT_h16v06_2015_s1_laea_cog.tif\n",
      "cog:timesat_extracts/h16v06/LINT/LINT_h16v06_2016_s1_laea_cog.tif\n"
     ]
    },
    {
     "name": "stdout",
     "output_type": "stream",
     "text": [
      "cog:timesat_extracts/h16v06/LINT/LINT_h16v06_2017_s1_laea_cog.tif\n"
     ]
    },
    {
     "name": "stdout",
     "output_type": "stream",
     "text": [
      "cog:timesat_extracts/h16v06/LINT/LINT_h16v06_2018_s1_laea_cog.tif\n"
     ]
    },
    {
     "name": "stdout",
     "output_type": "stream",
     "text": [
      "cog:timesat_extracts/h16v06/LINT/LINT_h16v06_2019_s1_laea_cog.tif\n",
      "cog:timesat_extracts/h16v06/LINT/LINT_h16v06_2020_s1_laea_cog.tif\n"
     ]
    },
    {
     "name": "stdout",
     "output_type": "stream",
     "text": [
      "cog:timesat_extracts/h16v06/SINT/SINT_h16v06_2000_s1_laea_cog.tif\n"
     ]
    },
    {
     "name": "stdout",
     "output_type": "stream",
     "text": [
      "cog:timesat_extracts/h16v06/SINT/SINT_h16v06_2001_s1_laea_cog.tif\n"
     ]
    },
    {
     "name": "stdout",
     "output_type": "stream",
     "text": [
      "cog:timesat_extracts/h16v06/SINT/SINT_h16v06_2002_s1_laea_cog.tif\n",
      "cog:timesat_extracts/h16v06/SINT/SINT_h16v06_2003_s1_laea_cog.tif\n"
     ]
    },
    {
     "name": "stdout",
     "output_type": "stream",
     "text": [
      "cog:timesat_extracts/h16v06/SINT/SINT_h16v06_2004_s1_laea_cog.tif\n",
      "cog:timesat_extracts/h16v06/SINT/SINT_h16v06_2005_s1_laea_cog.tif\n"
     ]
    },
    {
     "name": "stdout",
     "output_type": "stream",
     "text": [
      "cog:timesat_extracts/h16v06/SINT/SINT_h16v06_2006_s1_laea_cog.tif\n"
     ]
    },
    {
     "name": "stdout",
     "output_type": "stream",
     "text": [
      "cog:timesat_extracts/h16v06/SINT/SINT_h16v06_2007_s1_laea_cog.tif\n",
      "cog:timesat_extracts/h16v06/SINT/SINT_h16v06_2008_s1_laea_cog.tif\n"
     ]
    },
    {
     "name": "stdout",
     "output_type": "stream",
     "text": [
      "cog:timesat_extracts/h16v06/SINT/SINT_h16v06_2009_s1_laea_cog.tif\n"
     ]
    },
    {
     "name": "stdout",
     "output_type": "stream",
     "text": [
      "cog:timesat_extracts/h16v06/SINT/SINT_h16v06_2010_s1_laea_cog.tif\n",
      "cog:timesat_extracts/h16v06/SINT/SINT_h16v06_2011_s1_laea_cog.tif\n"
     ]
    },
    {
     "name": "stdout",
     "output_type": "stream",
     "text": [
      "cog:timesat_extracts/h16v06/SINT/SINT_h16v06_2012_s1_laea_cog.tif\n"
     ]
    },
    {
     "name": "stdout",
     "output_type": "stream",
     "text": [
      "cog:timesat_extracts/h16v06/SINT/SINT_h16v06_2013_s1_laea_cog.tif\n",
      "cog:timesat_extracts/h16v06/SINT/SINT_h16v06_2014_s1_laea_cog.tif\n"
     ]
    },
    {
     "name": "stdout",
     "output_type": "stream",
     "text": [
      "cog:timesat_extracts/h16v06/SINT/SINT_h16v06_2015_s1_laea_cog.tif\n",
      "cog:timesat_extracts/h16v06/SINT/SINT_h16v06_2016_s1_laea_cog.tif\n"
     ]
    },
    {
     "name": "stdout",
     "output_type": "stream",
     "text": [
      "cog:timesat_extracts/h16v06/SINT/SINT_h16v06_2017_s1_laea_cog.tif\n",
      "cog:timesat_extracts/h16v06/SINT/SINT_h16v06_2018_s1_laea_cog.tif\n"
     ]
    },
    {
     "name": "stdout",
     "output_type": "stream",
     "text": [
      "cog:timesat_extracts/h16v06/SINT/SINT_h16v06_2019_s1_laea_cog.tif\n",
      "cog:timesat_extracts/h16v06/SINT/SINT_h16v06_2020_s1_laea_cog.tif\n"
     ]
    },
    {
     "name": "stdout",
     "output_type": "stream",
     "text": [
      "cog:timesat_extracts/h16v06/decrease_rate/decrease_rate_EOS_h16v06_2000_s1_laea_cog.tif\n"
     ]
    },
    {
     "name": "stdout",
     "output_type": "stream",
     "text": [
      "cog:timesat_extracts/h16v06/decrease_rate/decrease_rate_EOS_h16v06_2001_s1_laea_cog.tif\n"
     ]
    },
    {
     "name": "stdout",
     "output_type": "stream",
     "text": [
      "cog:timesat_extracts/h16v06/decrease_rate/decrease_rate_EOS_h16v06_2002_s1_laea_cog.tif\n"
     ]
    },
    {
     "name": "stdout",
     "output_type": "stream",
     "text": [
      "cog:timesat_extracts/h16v06/decrease_rate/decrease_rate_EOS_h16v06_2003_s1_laea_cog.tif\n"
     ]
    },
    {
     "name": "stdout",
     "output_type": "stream",
     "text": [
      "cog:timesat_extracts/h16v06/decrease_rate/decrease_rate_EOS_h16v06_2004_s1_laea_cog.tif\n"
     ]
    },
    {
     "name": "stdout",
     "output_type": "stream",
     "text": [
      "cog:timesat_extracts/h16v06/decrease_rate/decrease_rate_EOS_h16v06_2005_s1_laea_cog.tif\n",
      "cog:timesat_extracts/h16v06/decrease_rate/decrease_rate_EOS_h16v06_2006_s1_laea_cog.tif\n"
     ]
    },
    {
     "name": "stdout",
     "output_type": "stream",
     "text": [
      "cog:timesat_extracts/h16v06/decrease_rate/decrease_rate_EOS_h16v06_2007_s1_laea_cog.tif\n"
     ]
    },
    {
     "name": "stdout",
     "output_type": "stream",
     "text": [
      "cog:timesat_extracts/h16v06/decrease_rate/decrease_rate_EOS_h16v06_2008_s1_laea_cog.tif\n"
     ]
    },
    {
     "name": "stdout",
     "output_type": "stream",
     "text": [
      "cog:timesat_extracts/h16v06/decrease_rate/decrease_rate_EOS_h16v06_2009_s1_laea_cog.tif\n"
     ]
    },
    {
     "name": "stdout",
     "output_type": "stream",
     "text": [
      "cog:timesat_extracts/h16v06/decrease_rate/decrease_rate_EOS_h16v06_2010_s1_laea_cog.tif\n",
      "cog:timesat_extracts/h16v06/decrease_rate/decrease_rate_EOS_h16v06_2011_s1_laea_cog.tif\n"
     ]
    },
    {
     "name": "stdout",
     "output_type": "stream",
     "text": [
      "cog:timesat_extracts/h16v06/decrease_rate/decrease_rate_EOS_h16v06_2012_s1_laea_cog.tif\n"
     ]
    },
    {
     "name": "stdout",
     "output_type": "stream",
     "text": [
      "cog:timesat_extracts/h16v06/decrease_rate/decrease_rate_EOS_h16v06_2013_s1_laea_cog.tif\n"
     ]
    },
    {
     "name": "stdout",
     "output_type": "stream",
     "text": [
      "cog:timesat_extracts/h16v06/decrease_rate/decrease_rate_EOS_h16v06_2014_s1_laea_cog.tif\n",
      "cog:timesat_extracts/h16v06/decrease_rate/decrease_rate_EOS_h16v06_2015_s1_laea_cog.tif\n"
     ]
    },
    {
     "name": "stdout",
     "output_type": "stream",
     "text": [
      "cog:timesat_extracts/h16v06/decrease_rate/decrease_rate_EOS_h16v06_2016_s1_laea_cog.tif\n",
      "cog:timesat_extracts/h16v06/decrease_rate/decrease_rate_EOS_h16v06_2017_s1_laea_cog.tif\n"
     ]
    },
    {
     "name": "stdout",
     "output_type": "stream",
     "text": [
      "cog:timesat_extracts/h16v06/decrease_rate/decrease_rate_EOS_h16v06_2018_s1_laea_cog.tif\n",
      "cog:timesat_extracts/h16v06/decrease_rate/decrease_rate_EOS_h16v06_2019_s1_laea_cog.tif\n"
     ]
    },
    {
     "name": "stdout",
     "output_type": "stream",
     "text": [
      "cog:timesat_extracts/h16v06/decrease_rate/decrease_rate_EOS_h16v06_2020_s1_laea_cog.tif\n",
      "cog:timesat_extracts/h16v06/eos/eos_h16v06_2000_s1_laea_cog.tif\n"
     ]
    },
    {
     "name": "stdout",
     "output_type": "stream",
     "text": [
      "cog:timesat_extracts/h16v06/eos/eos_h16v06_2001_s1_laea_cog.tif\n",
      "cog:timesat_extracts/h16v06/eos/eos_h16v06_2002_s1_laea_cog.tif\n"
     ]
    },
    {
     "name": "stdout",
     "output_type": "stream",
     "text": [
      "cog:timesat_extracts/h16v06/eos/eos_h16v06_2003_s1_laea_cog.tif\n",
      "cog:timesat_extracts/h16v06/eos/eos_h16v06_2004_s1_laea_cog.tif\n"
     ]
    },
    {
     "name": "stdout",
     "output_type": "stream",
     "text": [
      "cog:timesat_extracts/h16v06/eos/eos_h16v06_2005_s1_laea_cog.tif\n",
      "cog:timesat_extracts/h16v06/eos/eos_h16v06_2006_s1_laea_cog.tif\n"
     ]
    },
    {
     "name": "stdout",
     "output_type": "stream",
     "text": [
      "cog:timesat_extracts/h16v06/eos/eos_h16v06_2007_s1_laea_cog.tif\n",
      "cog:timesat_extracts/h16v06/eos/eos_h16v06_2008_s1_laea_cog.tif\n"
     ]
    },
    {
     "name": "stdout",
     "output_type": "stream",
     "text": [
      "cog:timesat_extracts/h16v06/eos/eos_h16v06_2009_s1_laea_cog.tif\n",
      "cog:timesat_extracts/h16v06/eos/eos_h16v06_2010_s1_laea_cog.tif\n"
     ]
    },
    {
     "name": "stdout",
     "output_type": "stream",
     "text": [
      "cog:timesat_extracts/h16v06/eos/eos_h16v06_2011_s1_laea_cog.tif\n",
      "cog:timesat_extracts/h16v06/eos/eos_h16v06_2012_s1_laea_cog.tif\n"
     ]
    },
    {
     "name": "stdout",
     "output_type": "stream",
     "text": [
      "cog:timesat_extracts/h16v06/eos/eos_h16v06_2013_s1_laea_cog.tif\n",
      "cog:timesat_extracts/h16v06/eos/eos_h16v06_2014_s1_laea_cog.tif\n"
     ]
    },
    {
     "name": "stdout",
     "output_type": "stream",
     "text": [
      "cog:timesat_extracts/h16v06/eos/eos_h16v06_2015_s1_laea_cog.tif\n",
      "cog:timesat_extracts/h16v06/eos/eos_h16v06_2016_s1_laea_cog.tif\n"
     ]
    },
    {
     "name": "stdout",
     "output_type": "stream",
     "text": [
      "cog:timesat_extracts/h16v06/eos/eos_h16v06_2017_s1_laea_cog.tif\n",
      "cog:timesat_extracts/h16v06/eos/eos_h16v06_2018_s1_laea_cog.tif\n"
     ]
    },
    {
     "name": "stdout",
     "output_type": "stream",
     "text": [
      "cog:timesat_extracts/h16v06/eos/eos_h16v06_2019_s1_laea_cog.tif\n",
      "cog:timesat_extracts/h16v06/eos/eos_h16v06_2020_s1_laea_cog.tif\n"
     ]
    },
    {
     "name": "stdout",
     "output_type": "stream",
     "text": [
      "cog:timesat_extracts/h16v06/eos_value/eos_value_h16v06_2000_s1_laea_cog.tif\n",
      "cog:timesat_extracts/h16v06/eos_value/eos_value_h16v06_2001_s1_laea_cog.tif\n"
     ]
    },
    {
     "name": "stdout",
     "output_type": "stream",
     "text": [
      "cog:timesat_extracts/h16v06/eos_value/eos_value_h16v06_2002_s1_laea_cog.tif\n",
      "cog:timesat_extracts/h16v06/eos_value/eos_value_h16v06_2003_s1_laea_cog.tif\n"
     ]
    },
    {
     "name": "stdout",
     "output_type": "stream",
     "text": [
      "cog:timesat_extracts/h16v06/eos_value/eos_value_h16v06_2004_s1_laea_cog.tif\n",
      "cog:timesat_extracts/h16v06/eos_value/eos_value_h16v06_2005_s1_laea_cog.tif\n"
     ]
    },
    {
     "name": "stdout",
     "output_type": "stream",
     "text": [
      "cog:timesat_extracts/h16v06/eos_value/eos_value_h16v06_2006_s1_laea_cog.tif\n",
      "cog:timesat_extracts/h16v06/eos_value/eos_value_h16v06_2007_s1_laea_cog.tif\n"
     ]
    },
    {
     "name": "stdout",
     "output_type": "stream",
     "text": [
      "cog:timesat_extracts/h16v06/eos_value/eos_value_h16v06_2008_s1_laea_cog.tif\n"
     ]
    },
    {
     "name": "stdout",
     "output_type": "stream",
     "text": [
      "cog:timesat_extracts/h16v06/eos_value/eos_value_h16v06_2009_s1_laea_cog.tif\n"
     ]
    },
    {
     "name": "stdout",
     "output_type": "stream",
     "text": [
      "cog:timesat_extracts/h16v06/eos_value/eos_value_h16v06_2010_s1_laea_cog.tif\n"
     ]
    },
    {
     "name": "stdout",
     "output_type": "stream",
     "text": [
      "cog:timesat_extracts/h16v06/eos_value/eos_value_h16v06_2011_s1_laea_cog.tif\n",
      "cog:timesat_extracts/h16v06/eos_value/eos_value_h16v06_2012_s1_laea_cog.tif\n"
     ]
    },
    {
     "name": "stdout",
     "output_type": "stream",
     "text": [
      "cog:timesat_extracts/h16v06/eos_value/eos_value_h16v06_2013_s1_laea_cog.tif\n"
     ]
    },
    {
     "name": "stdout",
     "output_type": "stream",
     "text": [
      "cog:timesat_extracts/h16v06/eos_value/eos_value_h16v06_2014_s1_laea_cog.tif\n",
      "cog:timesat_extracts/h16v06/eos_value/eos_value_h16v06_2015_s1_laea_cog.tif\n"
     ]
    },
    {
     "name": "stdout",
     "output_type": "stream",
     "text": [
      "cog:timesat_extracts/h16v06/eos_value/eos_value_h16v06_2016_s1_laea_cog.tif\n",
      "cog:timesat_extracts/h16v06/eos_value/eos_value_h16v06_2017_s1_laea_cog.tif\n"
     ]
    },
    {
     "name": "stdout",
     "output_type": "stream",
     "text": [
      "cog:timesat_extracts/h16v06/eos_value/eos_value_h16v06_2018_s1_laea_cog.tif\n",
      "cog:timesat_extracts/h16v06/eos_value/eos_value_h16v06_2019_s1_laea_cog.tif\n"
     ]
    },
    {
     "name": "stdout",
     "output_type": "stream",
     "text": [
      "cog:timesat_extracts/h16v06/eos_value/eos_value_h16v06_2020_s1_laea_cog.tif\n",
      "cog:timesat_extracts/h16v06/increase_rate/increase_rate_SOS_h16v06_2000_s1_laea_cog.tif\n"
     ]
    },
    {
     "name": "stdout",
     "output_type": "stream",
     "text": [
      "cog:timesat_extracts/h16v06/increase_rate/increase_rate_SOS_h16v06_2001_s1_laea_cog.tif\n"
     ]
    },
    {
     "name": "stdout",
     "output_type": "stream",
     "text": [
      "cog:timesat_extracts/h16v06/increase_rate/increase_rate_SOS_h16v06_2002_s1_laea_cog.tif\n",
      "cog:timesat_extracts/h16v06/increase_rate/increase_rate_SOS_h16v06_2003_s1_laea_cog.tif\n"
     ]
    },
    {
     "name": "stdout",
     "output_type": "stream",
     "text": [
      "cog:timesat_extracts/h16v06/increase_rate/increase_rate_SOS_h16v06_2004_s1_laea_cog.tif\n"
     ]
    },
    {
     "name": "stdout",
     "output_type": "stream",
     "text": [
      "cog:timesat_extracts/h16v06/increase_rate/increase_rate_SOS_h16v06_2005_s1_laea_cog.tif\n"
     ]
    },
    {
     "name": "stdout",
     "output_type": "stream",
     "text": [
      "cog:timesat_extracts/h16v06/increase_rate/increase_rate_SOS_h16v06_2006_s1_laea_cog.tif\n"
     ]
    },
    {
     "name": "stdout",
     "output_type": "stream",
     "text": [
      "cog:timesat_extracts/h16v06/increase_rate/increase_rate_SOS_h16v06_2007_s1_laea_cog.tif\n",
      "cog:timesat_extracts/h16v06/increase_rate/increase_rate_SOS_h16v06_2008_s1_laea_cog.tif\n"
     ]
    },
    {
     "name": "stdout",
     "output_type": "stream",
     "text": [
      "cog:timesat_extracts/h16v06/increase_rate/increase_rate_SOS_h16v06_2009_s1_laea_cog.tif\n",
      "cog:timesat_extracts/h16v06/increase_rate/increase_rate_SOS_h16v06_2010_s1_laea_cog.tif\n"
     ]
    },
    {
     "name": "stdout",
     "output_type": "stream",
     "text": [
      "cog:timesat_extracts/h16v06/increase_rate/increase_rate_SOS_h16v06_2011_s1_laea_cog.tif\n",
      "cog:timesat_extracts/h16v06/increase_rate/increase_rate_SOS_h16v06_2012_s1_laea_cog.tif\n"
     ]
    },
    {
     "name": "stdout",
     "output_type": "stream",
     "text": [
      "cog:timesat_extracts/h16v06/increase_rate/increase_rate_SOS_h16v06_2013_s1_laea_cog.tif\n",
      "cog:timesat_extracts/h16v06/increase_rate/increase_rate_SOS_h16v06_2014_s1_laea_cog.tif\n"
     ]
    },
    {
     "name": "stdout",
     "output_type": "stream",
     "text": [
      "cog:timesat_extracts/h16v06/increase_rate/increase_rate_SOS_h16v06_2015_s1_laea_cog.tif\n",
      "cog:timesat_extracts/h16v06/increase_rate/increase_rate_SOS_h16v06_2016_s1_laea_cog.tif\n"
     ]
    },
    {
     "name": "stdout",
     "output_type": "stream",
     "text": [
      "cog:timesat_extracts/h16v06/increase_rate/increase_rate_SOS_h16v06_2017_s1_laea_cog.tif\n"
     ]
    },
    {
     "name": "stdout",
     "output_type": "stream",
     "text": [
      "cog:timesat_extracts/h16v06/increase_rate/increase_rate_SOS_h16v06_2018_s1_laea_cog.tif\n",
      "cog:timesat_extracts/h16v06/increase_rate/increase_rate_SOS_h16v06_2019_s1_laea_cog.tif\n"
     ]
    },
    {
     "name": "stdout",
     "output_type": "stream",
     "text": [
      "cog:timesat_extracts/h16v06/increase_rate/increase_rate_SOS_h16v06_2020_s1_laea_cog.tif\n",
      "cog:timesat_extracts/h16v06/length_of_season/los_h16v06_2000_s1_laea_cog.tif\n"
     ]
    },
    {
     "name": "stdout",
     "output_type": "stream",
     "text": [
      "cog:timesat_extracts/h16v06/length_of_season/los_h16v06_2001_s1_laea_cog.tif\n"
     ]
    },
    {
     "name": "stdout",
     "output_type": "stream",
     "text": [
      "cog:timesat_extracts/h16v06/length_of_season/los_h16v06_2002_s1_laea_cog.tif\n",
      "cog:timesat_extracts/h16v06/length_of_season/los_h16v06_2003_s1_laea_cog.tif\n"
     ]
    },
    {
     "name": "stdout",
     "output_type": "stream",
     "text": [
      "cog:timesat_extracts/h16v06/length_of_season/los_h16v06_2004_s1_laea_cog.tif\n",
      "cog:timesat_extracts/h16v06/length_of_season/los_h16v06_2005_s1_laea_cog.tif\n"
     ]
    },
    {
     "name": "stdout",
     "output_type": "stream",
     "text": [
      "cog:timesat_extracts/h16v06/length_of_season/los_h16v06_2006_s1_laea_cog.tif\n",
      "cog:timesat_extracts/h16v06/length_of_season/los_h16v06_2007_s1_laea_cog.tif\n"
     ]
    },
    {
     "name": "stdout",
     "output_type": "stream",
     "text": [
      "cog:timesat_extracts/h16v06/length_of_season/los_h16v06_2008_s1_laea_cog.tif\n",
      "cog:timesat_extracts/h16v06/length_of_season/los_h16v06_2009_s1_laea_cog.tif\n"
     ]
    },
    {
     "name": "stdout",
     "output_type": "stream",
     "text": [
      "cog:timesat_extracts/h16v06/length_of_season/los_h16v06_2010_s1_laea_cog.tif\n",
      "cog:timesat_extracts/h16v06/length_of_season/los_h16v06_2011_s1_laea_cog.tif\n"
     ]
    },
    {
     "name": "stdout",
     "output_type": "stream",
     "text": [
      "cog:timesat_extracts/h16v06/length_of_season/los_h16v06_2012_s1_laea_cog.tif\n",
      "cog:timesat_extracts/h16v06/length_of_season/los_h16v06_2013_s1_laea_cog.tif\n"
     ]
    },
    {
     "name": "stdout",
     "output_type": "stream",
     "text": [
      "cog:timesat_extracts/h16v06/length_of_season/los_h16v06_2014_s1_laea_cog.tif\n",
      "cog:timesat_extracts/h16v06/length_of_season/los_h16v06_2015_s1_laea_cog.tif\n"
     ]
    },
    {
     "name": "stdout",
     "output_type": "stream",
     "text": [
      "cog:timesat_extracts/h16v06/length_of_season/los_h16v06_2016_s1_laea_cog.tif\n",
      "cog:timesat_extracts/h16v06/length_of_season/los_h16v06_2017_s1_laea_cog.tif\n"
     ]
    },
    {
     "name": "stdout",
     "output_type": "stream",
     "text": [
      "cog:timesat_extracts/h16v06/length_of_season/los_h16v06_2018_s1_laea_cog.tif\n",
      "cog:timesat_extracts/h16v06/length_of_season/los_h16v06_2019_s1_laea_cog.tif\n"
     ]
    },
    {
     "name": "stdout",
     "output_type": "stream",
     "text": [
      "cog:timesat_extracts/h16v06/length_of_season/los_h16v06_2020_s1_laea_cog.tif\n",
      "cog:timesat_extracts/h16v06/seasonal_amplitude/s_amplitude_h16v06_2000_s1_laea_cog.tif\n"
     ]
    },
    {
     "name": "stdout",
     "output_type": "stream",
     "text": [
      "cog:timesat_extracts/h16v06/seasonal_amplitude/s_amplitude_h16v06_2001_s1_laea_cog.tif\n"
     ]
    },
    {
     "name": "stdout",
     "output_type": "stream",
     "text": [
      "cog:timesat_extracts/h16v06/seasonal_amplitude/s_amplitude_h16v06_2002_s1_laea_cog.tif\n"
     ]
    },
    {
     "name": "stdout",
     "output_type": "stream",
     "text": [
      "cog:timesat_extracts/h16v06/seasonal_amplitude/s_amplitude_h16v06_2003_s1_laea_cog.tif\n",
      "cog:timesat_extracts/h16v06/seasonal_amplitude/s_amplitude_h16v06_2004_s1_laea_cog.tif\n"
     ]
    },
    {
     "name": "stdout",
     "output_type": "stream",
     "text": [
      "cog:timesat_extracts/h16v06/seasonal_amplitude/s_amplitude_h16v06_2005_s1_laea_cog.tif\n",
      "cog:timesat_extracts/h16v06/seasonal_amplitude/s_amplitude_h16v06_2006_s1_laea_cog.tif\n"
     ]
    },
    {
     "name": "stdout",
     "output_type": "stream",
     "text": [
      "cog:timesat_extracts/h16v06/seasonal_amplitude/s_amplitude_h16v06_2007_s1_laea_cog.tif\n"
     ]
    },
    {
     "name": "stdout",
     "output_type": "stream",
     "text": [
      "cog:timesat_extracts/h16v06/seasonal_amplitude/s_amplitude_h16v06_2008_s1_laea_cog.tif\n"
     ]
    },
    {
     "name": "stdout",
     "output_type": "stream",
     "text": [
      "cog:timesat_extracts/h16v06/seasonal_amplitude/s_amplitude_h16v06_2009_s1_laea_cog.tif\n"
     ]
    },
    {
     "name": "stdout",
     "output_type": "stream",
     "text": [
      "cog:timesat_extracts/h16v06/seasonal_amplitude/s_amplitude_h16v06_2010_s1_laea_cog.tif\n"
     ]
    },
    {
     "name": "stdout",
     "output_type": "stream",
     "text": [
      "cog:timesat_extracts/h16v06/seasonal_amplitude/s_amplitude_h16v06_2011_s1_laea_cog.tif\n",
      "cog:timesat_extracts/h16v06/seasonal_amplitude/s_amplitude_h16v06_2012_s1_laea_cog.tif\n"
     ]
    },
    {
     "name": "stdout",
     "output_type": "stream",
     "text": [
      "cog:timesat_extracts/h16v06/seasonal_amplitude/s_amplitude_h16v06_2013_s1_laea_cog.tif\n"
     ]
    },
    {
     "name": "stdout",
     "output_type": "stream",
     "text": [
      "cog:timesat_extracts/h16v06/seasonal_amplitude/s_amplitude_h16v06_2014_s1_laea_cog.tif\n"
     ]
    },
    {
     "name": "stdout",
     "output_type": "stream",
     "text": [
      "cog:timesat_extracts/h16v06/seasonal_amplitude/s_amplitude_h16v06_2015_s1_laea_cog.tif\n",
      "cog:timesat_extracts/h16v06/seasonal_amplitude/s_amplitude_h16v06_2016_s1_laea_cog.tif\n"
     ]
    },
    {
     "name": "stdout",
     "output_type": "stream",
     "text": [
      "cog:timesat_extracts/h16v06/seasonal_amplitude/s_amplitude_h16v06_2017_s1_laea_cog.tif\n",
      "cog:timesat_extracts/h16v06/seasonal_amplitude/s_amplitude_h16v06_2018_s1_laea_cog.tif\n"
     ]
    },
    {
     "name": "stdout",
     "output_type": "stream",
     "text": [
      "cog:timesat_extracts/h16v06/seasonal_amplitude/s_amplitude_h16v06_2019_s1_laea_cog.tif\n",
      "cog:timesat_extracts/h16v06/seasonal_amplitude/s_amplitude_h16v06_2020_s1_laea_cog.tif\n"
     ]
    },
    {
     "name": "stdout",
     "output_type": "stream",
     "text": [
      "cog:timesat_extracts/h16v06/sos/sos_h16v06_2000_s1_laea_cog.tif\n",
      "cog:timesat_extracts/h16v06/sos/sos_h16v06_2001_s1_laea_cog.tif\n"
     ]
    },
    {
     "name": "stdout",
     "output_type": "stream",
     "text": [
      "cog:timesat_extracts/h16v06/sos/sos_h16v06_2002_s1_laea_cog.tif\n",
      "cog:timesat_extracts/h16v06/sos/sos_h16v06_2003_s1_laea_cog.tif\n"
     ]
    },
    {
     "name": "stdout",
     "output_type": "stream",
     "text": [
      "cog:timesat_extracts/h16v06/sos/sos_h16v06_2004_s1_laea_cog.tif\n",
      "cog:timesat_extracts/h16v06/sos/sos_h16v06_2005_s1_laea_cog.tif\n"
     ]
    },
    {
     "name": "stdout",
     "output_type": "stream",
     "text": [
      "cog:timesat_extracts/h16v06/sos/sos_h16v06_2006_s1_laea_cog.tif\n",
      "cog:timesat_extracts/h16v06/sos/sos_h16v06_2007_s1_laea_cog.tif\n"
     ]
    },
    {
     "name": "stdout",
     "output_type": "stream",
     "text": [
      "cog:timesat_extracts/h16v06/sos/sos_h16v06_2008_s1_laea_cog.tif\n",
      "cog:timesat_extracts/h16v06/sos/sos_h16v06_2009_s1_laea_cog.tif\n"
     ]
    },
    {
     "name": "stdout",
     "output_type": "stream",
     "text": [
      "cog:timesat_extracts/h16v06/sos/sos_h16v06_2010_s1_laea_cog.tif\n",
      "cog:timesat_extracts/h16v06/sos/sos_h16v06_2011_s1_laea_cog.tif\n"
     ]
    },
    {
     "name": "stdout",
     "output_type": "stream",
     "text": [
      "cog:timesat_extracts/h16v06/sos/sos_h16v06_2012_s1_laea_cog.tif\n",
      "cog:timesat_extracts/h16v06/sos/sos_h16v06_2013_s1_laea_cog.tif\n"
     ]
    },
    {
     "name": "stdout",
     "output_type": "stream",
     "text": [
      "cog:timesat_extracts/h16v06/sos/sos_h16v06_2014_s1_laea_cog.tif\n",
      "cog:timesat_extracts/h16v06/sos/sos_h16v06_2015_s1_laea_cog.tif\n"
     ]
    },
    {
     "name": "stdout",
     "output_type": "stream",
     "text": [
      "cog:timesat_extracts/h16v06/sos/sos_h16v06_2016_s1_laea_cog.tif\n",
      "cog:timesat_extracts/h16v06/sos/sos_h16v06_2017_s1_laea_cog.tif\n"
     ]
    },
    {
     "name": "stdout",
     "output_type": "stream",
     "text": [
      "cog:timesat_extracts/h16v06/sos/sos_h16v06_2018_s1_laea_cog.tif\n",
      "cog:timesat_extracts/h16v06/sos/sos_h16v06_2019_s1_laea_cog.tif\n"
     ]
    },
    {
     "name": "stdout",
     "output_type": "stream",
     "text": [
      "cog:timesat_extracts/h16v06/sos/sos_h16v06_2020_s1_laea_cog.tif\n",
      "cog:timesat_extracts/h16v06/sos_value/sos_value_h16v06_2000_s1_laea_cog.tif\n"
     ]
    },
    {
     "name": "stdout",
     "output_type": "stream",
     "text": [
      "cog:timesat_extracts/h16v06/sos_value/sos_value_h16v06_2001_s1_laea_cog.tif\n"
     ]
    },
    {
     "name": "stdout",
     "output_type": "stream",
     "text": [
      "cog:timesat_extracts/h16v06/sos_value/sos_value_h16v06_2002_s1_laea_cog.tif\n",
      "cog:timesat_extracts/h16v06/sos_value/sos_value_h16v06_2003_s1_laea_cog.tif\n"
     ]
    },
    {
     "name": "stdout",
     "output_type": "stream",
     "text": [
      "cog:timesat_extracts/h16v06/sos_value/sos_value_h16v06_2004_s1_laea_cog.tif\n"
     ]
    },
    {
     "name": "stdout",
     "output_type": "stream",
     "text": [
      "cog:timesat_extracts/h16v06/sos_value/sos_value_h16v06_2005_s1_laea_cog.tif\n"
     ]
    },
    {
     "name": "stdout",
     "output_type": "stream",
     "text": [
      "cog:timesat_extracts/h16v06/sos_value/sos_value_h16v06_2006_s1_laea_cog.tif\n",
      "cog:timesat_extracts/h16v06/sos_value/sos_value_h16v06_2007_s1_laea_cog.tif\n"
     ]
    },
    {
     "name": "stdout",
     "output_type": "stream",
     "text": [
      "cog:timesat_extracts/h16v06/sos_value/sos_value_h16v06_2008_s1_laea_cog.tif\n",
      "cog:timesat_extracts/h16v06/sos_value/sos_value_h16v06_2009_s1_laea_cog.tif\n"
     ]
    },
    {
     "name": "stdout",
     "output_type": "stream",
     "text": [
      "cog:timesat_extracts/h16v06/sos_value/sos_value_h16v06_2010_s1_laea_cog.tif\n"
     ]
    },
    {
     "name": "stdout",
     "output_type": "stream",
     "text": [
      "cog:timesat_extracts/h16v06/sos_value/sos_value_h16v06_2011_s1_laea_cog.tif\n",
      "cog:timesat_extracts/h16v06/sos_value/sos_value_h16v06_2012_s1_laea_cog.tif\n"
     ]
    },
    {
     "name": "stdout",
     "output_type": "stream",
     "text": [
      "cog:timesat_extracts/h16v06/sos_value/sos_value_h16v06_2013_s1_laea_cog.tif\n"
     ]
    },
    {
     "name": "stdout",
     "output_type": "stream",
     "text": [
      "cog:timesat_extracts/h16v06/sos_value/sos_value_h16v06_2014_s1_laea_cog.tif\n",
      "cog:timesat_extracts/h16v06/sos_value/sos_value_h16v06_2015_s1_laea_cog.tif\n"
     ]
    },
    {
     "name": "stdout",
     "output_type": "stream",
     "text": [
      "cog:timesat_extracts/h16v06/sos_value/sos_value_h16v06_2016_s1_laea_cog.tif\n"
     ]
    },
    {
     "name": "stdout",
     "output_type": "stream",
     "text": [
      "cog:timesat_extracts/h16v06/sos_value/sos_value_h16v06_2017_s1_laea_cog.tif\n"
     ]
    },
    {
     "name": "stdout",
     "output_type": "stream",
     "text": [
      "cog:timesat_extracts/h16v06/sos_value/sos_value_h16v06_2018_s1_laea_cog.tif\n"
     ]
    },
    {
     "name": "stdout",
     "output_type": "stream",
     "text": [
      "cog:timesat_extracts/h16v06/sos_value/sos_value_h16v06_2019_s1_laea_cog.tif\n"
     ]
    },
    {
     "name": "stdout",
     "output_type": "stream",
     "text": [
      "cog:timesat_extracts/h16v06/sos_value/sos_value_h16v06_2020_s1_laea_cog.tif\n",
      "cog:timesat_extracts/h17v02/LINT/LINT_h17v02_2000_s1_laea_cog.tif\n"
     ]
    },
    {
     "name": "stdout",
     "output_type": "stream",
     "text": [
      "cog:timesat_extracts/h17v02/LINT/LINT_h17v02_2001_s1_laea_cog.tif\n",
      "cog:timesat_extracts/h17v02/LINT/LINT_h17v02_2002_s1_laea_cog.tif\n"
     ]
    },
    {
     "name": "stdout",
     "output_type": "stream",
     "text": [
      "cog:timesat_extracts/h17v02/LINT/LINT_h17v02_2003_s1_laea_cog.tif\n",
      "cog:timesat_extracts/h17v02/LINT/LINT_h17v02_2004_s1_laea_cog.tif\n",
      "cog:timesat_extracts/h17v02/LINT/LINT_h17v02_2005_s1_laea_cog.tif\n"
     ]
    },
    {
     "name": "stdout",
     "output_type": "stream",
     "text": [
      "cog:timesat_extracts/h17v02/LINT/LINT_h17v02_2006_s1_laea_cog.tif\n",
      "cog:timesat_extracts/h17v02/LINT/LINT_h17v02_2007_s1_laea_cog.tif\n"
     ]
    },
    {
     "name": "stdout",
     "output_type": "stream",
     "text": [
      "cog:timesat_extracts/h17v02/LINT/LINT_h17v02_2008_s1_laea_cog.tif\n",
      "cog:timesat_extracts/h17v02/LINT/LINT_h17v02_2009_s1_laea_cog.tif\n",
      "cog:timesat_extracts/h17v02/LINT/LINT_h17v02_2010_s1_laea_cog.tif\n"
     ]
    },
    {
     "name": "stdout",
     "output_type": "stream",
     "text": [
      "cog:timesat_extracts/h17v02/LINT/LINT_h17v02_2011_s1_laea_cog.tif\n",
      "cog:timesat_extracts/h17v02/LINT/LINT_h17v02_2012_s1_laea_cog.tif\n"
     ]
    },
    {
     "name": "stdout",
     "output_type": "stream",
     "text": [
      "cog:timesat_extracts/h17v02/LINT/LINT_h17v02_2013_s1_laea_cog.tif\n",
      "cog:timesat_extracts/h17v02/LINT/LINT_h17v02_2014_s1_laea_cog.tif\n",
      "cog:timesat_extracts/h17v02/LINT/LINT_h17v02_2015_s1_laea_cog.tif\n"
     ]
    },
    {
     "name": "stdout",
     "output_type": "stream",
     "text": [
      "cog:timesat_extracts/h17v02/LINT/LINT_h17v02_2016_s1_laea_cog.tif\n",
      "cog:timesat_extracts/h17v02/LINT/LINT_h17v02_2017_s1_laea_cog.tif\n"
     ]
    },
    {
     "name": "stdout",
     "output_type": "stream",
     "text": [
      "cog:timesat_extracts/h17v02/LINT/LINT_h17v02_2018_s1_laea_cog.tif\n",
      "cog:timesat_extracts/h17v02/LINT/LINT_h17v02_2019_s1_laea_cog.tif\n",
      "cog:timesat_extracts/h17v02/LINT/LINT_h17v02_2020_s1_laea_cog.tif\n"
     ]
    },
    {
     "name": "stdout",
     "output_type": "stream",
     "text": [
      "cog:timesat_extracts/h17v02/SINT/SINT_h17v02_2000_s1_laea_cog.tif\n",
      "cog:timesat_extracts/h17v02/SINT/SINT_h17v02_2001_s1_laea_cog.tif\n"
     ]
    },
    {
     "name": "stdout",
     "output_type": "stream",
     "text": [
      "cog:timesat_extracts/h17v02/SINT/SINT_h17v02_2002_s1_laea_cog.tif\n",
      "cog:timesat_extracts/h17v02/SINT/SINT_h17v02_2003_s1_laea_cog.tif\n"
     ]
    },
    {
     "name": "stdout",
     "output_type": "stream",
     "text": [
      "cog:timesat_extracts/h17v02/SINT/SINT_h17v02_2004_s1_laea_cog.tif\n",
      "cog:timesat_extracts/h17v02/SINT/SINT_h17v02_2005_s1_laea_cog.tif\n"
     ]
    },
    {
     "name": "stdout",
     "output_type": "stream",
     "text": [
      "cog:timesat_extracts/h17v02/SINT/SINT_h17v02_2006_s1_laea_cog.tif\n",
      "cog:timesat_extracts/h17v02/SINT/SINT_h17v02_2007_s1_laea_cog.tif\n",
      "cog:timesat_extracts/h17v02/SINT/SINT_h17v02_2008_s1_laea_cog.tif\n"
     ]
    },
    {
     "name": "stdout",
     "output_type": "stream",
     "text": [
      "cog:timesat_extracts/h17v02/SINT/SINT_h17v02_2009_s1_laea_cog.tif\n",
      "cog:timesat_extracts/h17v02/SINT/SINT_h17v02_2010_s1_laea_cog.tif\n"
     ]
    },
    {
     "name": "stdout",
     "output_type": "stream",
     "text": [
      "cog:timesat_extracts/h17v02/SINT/SINT_h17v02_2011_s1_laea_cog.tif\n",
      "cog:timesat_extracts/h17v02/SINT/SINT_h17v02_2012_s1_laea_cog.tif\n"
     ]
    },
    {
     "name": "stdout",
     "output_type": "stream",
     "text": [
      "cog:timesat_extracts/h17v02/SINT/SINT_h17v02_2013_s1_laea_cog.tif\n",
      "cog:timesat_extracts/h17v02/SINT/SINT_h17v02_2014_s1_laea_cog.tif\n"
     ]
    },
    {
     "name": "stdout",
     "output_type": "stream",
     "text": [
      "cog:timesat_extracts/h17v02/SINT/SINT_h17v02_2015_s1_laea_cog.tif\n",
      "cog:timesat_extracts/h17v02/SINT/SINT_h17v02_2016_s1_laea_cog.tif\n",
      "cog:timesat_extracts/h17v02/SINT/SINT_h17v02_2017_s1_laea_cog.tif\n"
     ]
    },
    {
     "name": "stdout",
     "output_type": "stream",
     "text": [
      "cog:timesat_extracts/h17v02/SINT/SINT_h17v02_2018_s1_laea_cog.tif\n",
      "cog:timesat_extracts/h17v02/SINT/SINT_h17v02_2019_s1_laea_cog.tif\n",
      "cog:timesat_extracts/h17v02/SINT/SINT_h17v02_2020_s1_laea_cog.tif\n"
     ]
    },
    {
     "name": "stdout",
     "output_type": "stream",
     "text": [
      "cog:timesat_extracts/h17v02/decrease_rate/decrease_rate_EOS_h17v02_2000_s1_laea_cog.tif\n",
      "cog:timesat_extracts/h17v02/decrease_rate/decrease_rate_EOS_h17v02_2001_s1_laea_cog.tif\n"
     ]
    },
    {
     "name": "stdout",
     "output_type": "stream",
     "text": [
      "cog:timesat_extracts/h17v02/decrease_rate/decrease_rate_EOS_h17v02_2002_s1_laea_cog.tif\n",
      "cog:timesat_extracts/h17v02/decrease_rate/decrease_rate_EOS_h17v02_2003_s1_laea_cog.tif\n"
     ]
    },
    {
     "name": "stdout",
     "output_type": "stream",
     "text": [
      "cog:timesat_extracts/h17v02/decrease_rate/decrease_rate_EOS_h17v02_2004_s1_laea_cog.tif\n",
      "cog:timesat_extracts/h17v02/decrease_rate/decrease_rate_EOS_h17v02_2005_s1_laea_cog.tif\n",
      "cog:timesat_extracts/h17v02/decrease_rate/decrease_rate_EOS_h17v02_2006_s1_laea_cog.tif\n"
     ]
    },
    {
     "name": "stdout",
     "output_type": "stream",
     "text": [
      "cog:timesat_extracts/h17v02/decrease_rate/decrease_rate_EOS_h17v02_2007_s1_laea_cog.tif\n",
      "cog:timesat_extracts/h17v02/decrease_rate/decrease_rate_EOS_h17v02_2008_s1_laea_cog.tif\n"
     ]
    },
    {
     "name": "stdout",
     "output_type": "stream",
     "text": [
      "cog:timesat_extracts/h17v02/decrease_rate/decrease_rate_EOS_h17v02_2009_s1_laea_cog.tif\n",
      "cog:timesat_extracts/h17v02/decrease_rate/decrease_rate_EOS_h17v02_2010_s1_laea_cog.tif\n"
     ]
    },
    {
     "name": "stdout",
     "output_type": "stream",
     "text": [
      "cog:timesat_extracts/h17v02/decrease_rate/decrease_rate_EOS_h17v02_2011_s1_laea_cog.tif\n",
      "cog:timesat_extracts/h17v02/decrease_rate/decrease_rate_EOS_h17v02_2012_s1_laea_cog.tif\n"
     ]
    },
    {
     "name": "stdout",
     "output_type": "stream",
     "text": [
      "cog:timesat_extracts/h17v02/decrease_rate/decrease_rate_EOS_h17v02_2013_s1_laea_cog.tif\n",
      "cog:timesat_extracts/h17v02/decrease_rate/decrease_rate_EOS_h17v02_2014_s1_laea_cog.tif\n"
     ]
    },
    {
     "name": "stdout",
     "output_type": "stream",
     "text": [
      "cog:timesat_extracts/h17v02/decrease_rate/decrease_rate_EOS_h17v02_2015_s1_laea_cog.tif\n",
      "cog:timesat_extracts/h17v02/decrease_rate/decrease_rate_EOS_h17v02_2016_s1_laea_cog.tif\n"
     ]
    },
    {
     "name": "stdout",
     "output_type": "stream",
     "text": [
      "cog:timesat_extracts/h17v02/decrease_rate/decrease_rate_EOS_h17v02_2017_s1_laea_cog.tif\n",
      "cog:timesat_extracts/h17v02/decrease_rate/decrease_rate_EOS_h17v02_2018_s1_laea_cog.tif\n",
      "cog:timesat_extracts/h17v02/decrease_rate/decrease_rate_EOS_h17v02_2019_s1_laea_cog.tif\n"
     ]
    },
    {
     "name": "stdout",
     "output_type": "stream",
     "text": [
      "cog:timesat_extracts/h17v02/decrease_rate/decrease_rate_EOS_h17v02_2020_s1_laea_cog.tif\n",
      "cog:timesat_extracts/h17v02/eos/eos_h17v02_2000_s1_laea_cog.tif\n",
      "cog:timesat_extracts/h17v02/eos/eos_h17v02_2001_s1_laea_cog.tif\n"
     ]
    },
    {
     "name": "stdout",
     "output_type": "stream",
     "text": [
      "cog:timesat_extracts/h17v02/eos/eos_h17v02_2002_s1_laea_cog.tif\n",
      "cog:timesat_extracts/h17v02/eos/eos_h17v02_2003_s1_laea_cog.tif\n",
      "cog:timesat_extracts/h17v02/eos/eos_h17v02_2004_s1_laea_cog.tif\n"
     ]
    },
    {
     "name": "stdout",
     "output_type": "stream",
     "text": [
      "cog:timesat_extracts/h17v02/eos/eos_h17v02_2005_s1_laea_cog.tif\n",
      "cog:timesat_extracts/h17v02/eos/eos_h17v02_2006_s1_laea_cog.tif\n"
     ]
    },
    {
     "name": "stdout",
     "output_type": "stream",
     "text": [
      "cog:timesat_extracts/h17v02/eos/eos_h17v02_2007_s1_laea_cog.tif\n",
      "cog:timesat_extracts/h17v02/eos/eos_h17v02_2008_s1_laea_cog.tif\n",
      "cog:timesat_extracts/h17v02/eos/eos_h17v02_2009_s1_laea_cog.tif\n"
     ]
    },
    {
     "name": "stdout",
     "output_type": "stream",
     "text": [
      "cog:timesat_extracts/h17v02/eos/eos_h17v02_2010_s1_laea_cog.tif\n",
      "cog:timesat_extracts/h17v02/eos/eos_h17v02_2011_s1_laea_cog.tif\n"
     ]
    },
    {
     "name": "stdout",
     "output_type": "stream",
     "text": [
      "cog:timesat_extracts/h17v02/eos/eos_h17v02_2012_s1_laea_cog.tif\n",
      "cog:timesat_extracts/h17v02/eos/eos_h17v02_2013_s1_laea_cog.tif\n",
      "cog:timesat_extracts/h17v02/eos/eos_h17v02_2014_s1_laea_cog.tif\n"
     ]
    },
    {
     "name": "stdout",
     "output_type": "stream",
     "text": [
      "cog:timesat_extracts/h17v02/eos/eos_h17v02_2015_s1_laea_cog.tif\n",
      "cog:timesat_extracts/h17v02/eos/eos_h17v02_2016_s1_laea_cog.tif\n",
      "cog:timesat_extracts/h17v02/eos/eos_h17v02_2017_s1_laea_cog.tif\n"
     ]
    },
    {
     "name": "stdout",
     "output_type": "stream",
     "text": [
      "cog:timesat_extracts/h17v02/eos/eos_h17v02_2018_s1_laea_cog.tif\n",
      "cog:timesat_extracts/h17v02/eos/eos_h17v02_2019_s1_laea_cog.tif\n"
     ]
    },
    {
     "name": "stdout",
     "output_type": "stream",
     "text": [
      "cog:timesat_extracts/h17v02/eos/eos_h17v02_2020_s1_laea_cog.tif\n",
      "cog:timesat_extracts/h17v02/eos_value/eos_value_h17v02_2000_s1_laea_cog.tif\n"
     ]
    },
    {
     "name": "stdout",
     "output_type": "stream",
     "text": [
      "cog:timesat_extracts/h17v02/eos_value/eos_value_h17v02_2001_s1_laea_cog.tif\n",
      "cog:timesat_extracts/h17v02/eos_value/eos_value_h17v02_2002_s1_laea_cog.tif\n"
     ]
    },
    {
     "name": "stdout",
     "output_type": "stream",
     "text": [
      "cog:timesat_extracts/h17v02/eos_value/eos_value_h17v02_2003_s1_laea_cog.tif\n",
      "cog:timesat_extracts/h17v02/eos_value/eos_value_h17v02_2004_s1_laea_cog.tif\n"
     ]
    },
    {
     "name": "stdout",
     "output_type": "stream",
     "text": [
      "cog:timesat_extracts/h17v02/eos_value/eos_value_h17v02_2005_s1_laea_cog.tif\n",
      "cog:timesat_extracts/h17v02/eos_value/eos_value_h17v02_2006_s1_laea_cog.tif\n",
      "cog:timesat_extracts/h17v02/eos_value/eos_value_h17v02_2007_s1_laea_cog.tif\n"
     ]
    },
    {
     "name": "stdout",
     "output_type": "stream",
     "text": [
      "cog:timesat_extracts/h17v02/eos_value/eos_value_h17v02_2008_s1_laea_cog.tif\n",
      "cog:timesat_extracts/h17v02/eos_value/eos_value_h17v02_2009_s1_laea_cog.tif\n",
      "cog:timesat_extracts/h17v02/eos_value/eos_value_h17v02_2010_s1_laea_cog.tif\n"
     ]
    },
    {
     "name": "stdout",
     "output_type": "stream",
     "text": [
      "cog:timesat_extracts/h17v02/eos_value/eos_value_h17v02_2011_s1_laea_cog.tif\n",
      "cog:timesat_extracts/h17v02/eos_value/eos_value_h17v02_2012_s1_laea_cog.tif\n"
     ]
    },
    {
     "name": "stdout",
     "output_type": "stream",
     "text": [
      "cog:timesat_extracts/h17v02/eos_value/eos_value_h17v02_2013_s1_laea_cog.tif\n"
     ]
    },
    {
     "name": "stdout",
     "output_type": "stream",
     "text": [
      "cog:timesat_extracts/h17v02/eos_value/eos_value_h17v02_2014_s1_laea_cog.tif\n",
      "cog:timesat_extracts/h17v02/eos_value/eos_value_h17v02_2015_s1_laea_cog.tif\n"
     ]
    },
    {
     "name": "stdout",
     "output_type": "stream",
     "text": [
      "cog:timesat_extracts/h17v02/eos_value/eos_value_h17v02_2016_s1_laea_cog.tif\n",
      "cog:timesat_extracts/h17v02/eos_value/eos_value_h17v02_2017_s1_laea_cog.tif\n",
      "cog:timesat_extracts/h17v02/eos_value/eos_value_h17v02_2018_s1_laea_cog.tif\n"
     ]
    },
    {
     "name": "stdout",
     "output_type": "stream",
     "text": [
      "cog:timesat_extracts/h17v02/eos_value/eos_value_h17v02_2019_s1_laea_cog.tif\n",
      "cog:timesat_extracts/h17v02/eos_value/eos_value_h17v02_2020_s1_laea_cog.tif\n"
     ]
    },
    {
     "name": "stdout",
     "output_type": "stream",
     "text": [
      "cog:timesat_extracts/h17v02/increase_rate/increase_rate_SOS_h17v02_2000_s1_laea_cog.tif\n",
      "cog:timesat_extracts/h17v02/increase_rate/increase_rate_SOS_h17v02_2001_s1_laea_cog.tif\n"
     ]
    },
    {
     "name": "stdout",
     "output_type": "stream",
     "text": [
      "cog:timesat_extracts/h17v02/increase_rate/increase_rate_SOS_h17v02_2002_s1_laea_cog.tif\n"
     ]
    },
    {
     "name": "stdout",
     "output_type": "stream",
     "text": [
      "cog:timesat_extracts/h17v02/increase_rate/increase_rate_SOS_h17v02_2003_s1_laea_cog.tif\n",
      "cog:timesat_extracts/h17v02/increase_rate/increase_rate_SOS_h17v02_2004_s1_laea_cog.tif\n"
     ]
    },
    {
     "name": "stdout",
     "output_type": "stream",
     "text": [
      "cog:timesat_extracts/h17v02/increase_rate/increase_rate_SOS_h17v02_2005_s1_laea_cog.tif\n",
      "cog:timesat_extracts/h17v02/increase_rate/increase_rate_SOS_h17v02_2006_s1_laea_cog.tif\n"
     ]
    },
    {
     "name": "stdout",
     "output_type": "stream",
     "text": [
      "cog:timesat_extracts/h17v02/increase_rate/increase_rate_SOS_h17v02_2007_s1_laea_cog.tif\n",
      "cog:timesat_extracts/h17v02/increase_rate/increase_rate_SOS_h17v02_2008_s1_laea_cog.tif\n"
     ]
    },
    {
     "name": "stdout",
     "output_type": "stream",
     "text": [
      "cog:timesat_extracts/h17v02/increase_rate/increase_rate_SOS_h17v02_2009_s1_laea_cog.tif\n",
      "cog:timesat_extracts/h17v02/increase_rate/increase_rate_SOS_h17v02_2010_s1_laea_cog.tif\n"
     ]
    },
    {
     "name": "stdout",
     "output_type": "stream",
     "text": [
      "cog:timesat_extracts/h17v02/increase_rate/increase_rate_SOS_h17v02_2011_s1_laea_cog.tif\n",
      "cog:timesat_extracts/h17v02/increase_rate/increase_rate_SOS_h17v02_2012_s1_laea_cog.tif\n"
     ]
    },
    {
     "name": "stdout",
     "output_type": "stream",
     "text": [
      "cog:timesat_extracts/h17v02/increase_rate/increase_rate_SOS_h17v02_2013_s1_laea_cog.tif\n",
      "cog:timesat_extracts/h17v02/increase_rate/increase_rate_SOS_h17v02_2014_s1_laea_cog.tif\n"
     ]
    },
    {
     "name": "stdout",
     "output_type": "stream",
     "text": [
      "cog:timesat_extracts/h17v02/increase_rate/increase_rate_SOS_h17v02_2015_s1_laea_cog.tif\n",
      "cog:timesat_extracts/h17v02/increase_rate/increase_rate_SOS_h17v02_2016_s1_laea_cog.tif\n"
     ]
    },
    {
     "name": "stdout",
     "output_type": "stream",
     "text": [
      "cog:timesat_extracts/h17v02/increase_rate/increase_rate_SOS_h17v02_2017_s1_laea_cog.tif\n",
      "cog:timesat_extracts/h17v02/increase_rate/increase_rate_SOS_h17v02_2018_s1_laea_cog.tif\n"
     ]
    },
    {
     "name": "stdout",
     "output_type": "stream",
     "text": [
      "cog:timesat_extracts/h17v02/increase_rate/increase_rate_SOS_h17v02_2019_s1_laea_cog.tif\n",
      "cog:timesat_extracts/h17v02/increase_rate/increase_rate_SOS_h17v02_2020_s1_laea_cog.tif\n"
     ]
    },
    {
     "name": "stdout",
     "output_type": "stream",
     "text": [
      "cog:timesat_extracts/h17v02/length_of_season/los_h17v02_2000_s1_laea_cog.tif\n",
      "cog:timesat_extracts/h17v02/length_of_season/los_h17v02_2001_s1_laea_cog.tif\n",
      "cog:timesat_extracts/h17v02/length_of_season/los_h17v02_2002_s1_laea_cog.tif\n"
     ]
    },
    {
     "name": "stdout",
     "output_type": "stream",
     "text": [
      "cog:timesat_extracts/h17v02/length_of_season/los_h17v02_2003_s1_laea_cog.tif\n",
      "cog:timesat_extracts/h17v02/length_of_season/los_h17v02_2004_s1_laea_cog.tif\n",
      "cog:timesat_extracts/h17v02/length_of_season/los_h17v02_2005_s1_laea_cog.tif\n"
     ]
    },
    {
     "name": "stdout",
     "output_type": "stream",
     "text": [
      "cog:timesat_extracts/h17v02/length_of_season/los_h17v02_2006_s1_laea_cog.tif\n",
      "cog:timesat_extracts/h17v02/length_of_season/los_h17v02_2007_s1_laea_cog.tif\n"
     ]
    },
    {
     "name": "stdout",
     "output_type": "stream",
     "text": [
      "cog:timesat_extracts/h17v02/length_of_season/los_h17v02_2008_s1_laea_cog.tif\n",
      "cog:timesat_extracts/h17v02/length_of_season/los_h17v02_2009_s1_laea_cog.tif\n"
     ]
    },
    {
     "name": "stdout",
     "output_type": "stream",
     "text": [
      "cog:timesat_extracts/h17v02/length_of_season/los_h17v02_2010_s1_laea_cog.tif\n",
      "cog:timesat_extracts/h17v02/length_of_season/los_h17v02_2011_s1_laea_cog.tif\n"
     ]
    },
    {
     "name": "stdout",
     "output_type": "stream",
     "text": [
      "cog:timesat_extracts/h17v02/length_of_season/los_h17v02_2012_s1_laea_cog.tif\n",
      "cog:timesat_extracts/h17v02/length_of_season/los_h17v02_2013_s1_laea_cog.tif\n",
      "cog:timesat_extracts/h17v02/length_of_season/los_h17v02_2014_s1_laea_cog.tif\n"
     ]
    },
    {
     "name": "stdout",
     "output_type": "stream",
     "text": [
      "cog:timesat_extracts/h17v02/length_of_season/los_h17v02_2015_s1_laea_cog.tif\n",
      "cog:timesat_extracts/h17v02/length_of_season/los_h17v02_2016_s1_laea_cog.tif\n"
     ]
    },
    {
     "name": "stdout",
     "output_type": "stream",
     "text": [
      "cog:timesat_extracts/h17v02/length_of_season/los_h17v02_2017_s1_laea_cog.tif\n",
      "cog:timesat_extracts/h17v02/length_of_season/los_h17v02_2018_s1_laea_cog.tif\n",
      "cog:timesat_extracts/h17v02/length_of_season/los_h17v02_2019_s1_laea_cog.tif\n"
     ]
    },
    {
     "name": "stdout",
     "output_type": "stream",
     "text": [
      "cog:timesat_extracts/h17v02/length_of_season/los_h17v02_2020_s1_laea_cog.tif\n",
      "cog:timesat_extracts/h17v02/seasonal_amplitude/s_amplitude_h17v02_2000_s1_laea_cog.tif\n"
     ]
    },
    {
     "name": "stdout",
     "output_type": "stream",
     "text": [
      "cog:timesat_extracts/h17v02/seasonal_amplitude/s_amplitude_h17v02_2001_s1_laea_cog.tif\n",
      "cog:timesat_extracts/h17v02/seasonal_amplitude/s_amplitude_h17v02_2002_s1_laea_cog.tif\n",
      "cog:timesat_extracts/h17v02/seasonal_amplitude/s_amplitude_h17v02_2003_s1_laea_cog.tif\n"
     ]
    },
    {
     "name": "stdout",
     "output_type": "stream",
     "text": [
      "cog:timesat_extracts/h17v02/seasonal_amplitude/s_amplitude_h17v02_2004_s1_laea_cog.tif\n",
      "cog:timesat_extracts/h17v02/seasonal_amplitude/s_amplitude_h17v02_2005_s1_laea_cog.tif\n",
      "cog:timesat_extracts/h17v02/seasonal_amplitude/s_amplitude_h17v02_2006_s1_laea_cog.tif\n"
     ]
    },
    {
     "name": "stdout",
     "output_type": "stream",
     "text": [
      "cog:timesat_extracts/h17v02/seasonal_amplitude/s_amplitude_h17v02_2007_s1_laea_cog.tif\n",
      "cog:timesat_extracts/h17v02/seasonal_amplitude/s_amplitude_h17v02_2008_s1_laea_cog.tif\n",
      "cog:timesat_extracts/h17v02/seasonal_amplitude/s_amplitude_h17v02_2009_s1_laea_cog.tif\n"
     ]
    },
    {
     "name": "stdout",
     "output_type": "stream",
     "text": [
      "cog:timesat_extracts/h17v02/seasonal_amplitude/s_amplitude_h17v02_2010_s1_laea_cog.tif\n",
      "cog:timesat_extracts/h17v02/seasonal_amplitude/s_amplitude_h17v02_2011_s1_laea_cog.tif\n"
     ]
    },
    {
     "name": "stdout",
     "output_type": "stream",
     "text": [
      "cog:timesat_extracts/h17v02/seasonal_amplitude/s_amplitude_h17v02_2012_s1_laea_cog.tif\n",
      "cog:timesat_extracts/h17v02/seasonal_amplitude/s_amplitude_h17v02_2013_s1_laea_cog.tif\n"
     ]
    },
    {
     "name": "stdout",
     "output_type": "stream",
     "text": [
      "cog:timesat_extracts/h17v02/seasonal_amplitude/s_amplitude_h17v02_2014_s1_laea_cog.tif\n",
      "cog:timesat_extracts/h17v02/seasonal_amplitude/s_amplitude_h17v02_2015_s1_laea_cog.tif\n"
     ]
    },
    {
     "name": "stdout",
     "output_type": "stream",
     "text": [
      "cog:timesat_extracts/h17v02/seasonal_amplitude/s_amplitude_h17v02_2016_s1_laea_cog.tif\n",
      "cog:timesat_extracts/h17v02/seasonal_amplitude/s_amplitude_h17v02_2017_s1_laea_cog.tif\n",
      "cog:timesat_extracts/h17v02/seasonal_amplitude/s_amplitude_h17v02_2018_s1_laea_cog.tif\n"
     ]
    },
    {
     "name": "stdout",
     "output_type": "stream",
     "text": [
      "cog:timesat_extracts/h17v02/seasonal_amplitude/s_amplitude_h17v02_2019_s1_laea_cog.tif\n",
      "cog:timesat_extracts/h17v02/seasonal_amplitude/s_amplitude_h17v02_2020_s1_laea_cog.tif\n",
      "cog:timesat_extracts/h17v02/sos/sos_h17v02_2000_s1_laea_cog.tif\n"
     ]
    },
    {
     "name": "stdout",
     "output_type": "stream",
     "text": [
      "cog:timesat_extracts/h17v02/sos/sos_h17v02_2001_s1_laea_cog.tif\n",
      "cog:timesat_extracts/h17v02/sos/sos_h17v02_2002_s1_laea_cog.tif\n"
     ]
    },
    {
     "name": "stdout",
     "output_type": "stream",
     "text": [
      "cog:timesat_extracts/h17v02/sos/sos_h17v02_2003_s1_laea_cog.tif\n",
      "cog:timesat_extracts/h17v02/sos/sos_h17v02_2004_s1_laea_cog.tif\n"
     ]
    },
    {
     "name": "stdout",
     "output_type": "stream",
     "text": [
      "cog:timesat_extracts/h17v02/sos/sos_h17v02_2005_s1_laea_cog.tif\n",
      "cog:timesat_extracts/h17v02/sos/sos_h17v02_2006_s1_laea_cog.tif\n"
     ]
    },
    {
     "name": "stdout",
     "output_type": "stream",
     "text": [
      "cog:timesat_extracts/h17v02/sos/sos_h17v02_2007_s1_laea_cog.tif\n",
      "cog:timesat_extracts/h17v02/sos/sos_h17v02_2008_s1_laea_cog.tif\n"
     ]
    },
    {
     "name": "stdout",
     "output_type": "stream",
     "text": [
      "cog:timesat_extracts/h17v02/sos/sos_h17v02_2009_s1_laea_cog.tif\n",
      "cog:timesat_extracts/h17v02/sos/sos_h17v02_2010_s1_laea_cog.tif\n"
     ]
    },
    {
     "name": "stdout",
     "output_type": "stream",
     "text": [
      "cog:timesat_extracts/h17v02/sos/sos_h17v02_2011_s1_laea_cog.tif\n",
      "cog:timesat_extracts/h17v02/sos/sos_h17v02_2012_s1_laea_cog.tif\n"
     ]
    },
    {
     "name": "stdout",
     "output_type": "stream",
     "text": [
      "cog:timesat_extracts/h17v02/sos/sos_h17v02_2013_s1_laea_cog.tif\n",
      "cog:timesat_extracts/h17v02/sos/sos_h17v02_2014_s1_laea_cog.tif\n",
      "cog:timesat_extracts/h17v02/sos/sos_h17v02_2015_s1_laea_cog.tif\n"
     ]
    },
    {
     "name": "stdout",
     "output_type": "stream",
     "text": [
      "cog:timesat_extracts/h17v02/sos/sos_h17v02_2016_s1_laea_cog.tif\n",
      "cog:timesat_extracts/h17v02/sos/sos_h17v02_2017_s1_laea_cog.tif\n",
      "cog:timesat_extracts/h17v02/sos/sos_h17v02_2018_s1_laea_cog.tif\n"
     ]
    },
    {
     "name": "stdout",
     "output_type": "stream",
     "text": [
      "cog:timesat_extracts/h17v02/sos/sos_h17v02_2019_s1_laea_cog.tif\n",
      "cog:timesat_extracts/h17v02/sos/sos_h17v02_2020_s1_laea_cog.tif\n"
     ]
    },
    {
     "name": "stdout",
     "output_type": "stream",
     "text": [
      "cog:timesat_extracts/h17v02/sos_value/sos_value_h17v02_2000_s1_laea_cog.tif\n",
      "cog:timesat_extracts/h17v02/sos_value/sos_value_h17v02_2001_s1_laea_cog.tif\n"
     ]
    },
    {
     "name": "stdout",
     "output_type": "stream",
     "text": [
      "cog:timesat_extracts/h17v02/sos_value/sos_value_h17v02_2002_s1_laea_cog.tif\n",
      "cog:timesat_extracts/h17v02/sos_value/sos_value_h17v02_2003_s1_laea_cog.tif\n"
     ]
    },
    {
     "name": "stdout",
     "output_type": "stream",
     "text": [
      "cog:timesat_extracts/h17v02/sos_value/sos_value_h17v02_2004_s1_laea_cog.tif\n",
      "cog:timesat_extracts/h17v02/sos_value/sos_value_h17v02_2005_s1_laea_cog.tif\n"
     ]
    },
    {
     "name": "stdout",
     "output_type": "stream",
     "text": [
      "cog:timesat_extracts/h17v02/sos_value/sos_value_h17v02_2006_s1_laea_cog.tif\n",
      "cog:timesat_extracts/h17v02/sos_value/sos_value_h17v02_2007_s1_laea_cog.tif\n"
     ]
    },
    {
     "name": "stdout",
     "output_type": "stream",
     "text": [
      "cog:timesat_extracts/h17v02/sos_value/sos_value_h17v02_2008_s1_laea_cog.tif\n",
      "cog:timesat_extracts/h17v02/sos_value/sos_value_h17v02_2009_s1_laea_cog.tif\n"
     ]
    },
    {
     "name": "stdout",
     "output_type": "stream",
     "text": [
      "cog:timesat_extracts/h17v02/sos_value/sos_value_h17v02_2010_s1_laea_cog.tif\n",
      "cog:timesat_extracts/h17v02/sos_value/sos_value_h17v02_2011_s1_laea_cog.tif\n",
      "cog:timesat_extracts/h17v02/sos_value/sos_value_h17v02_2012_s1_laea_cog.tif\n"
     ]
    },
    {
     "name": "stdout",
     "output_type": "stream",
     "text": [
      "cog:timesat_extracts/h17v02/sos_value/sos_value_h17v02_2013_s1_laea_cog.tif\n",
      "cog:timesat_extracts/h17v02/sos_value/sos_value_h17v02_2014_s1_laea_cog.tif\n"
     ]
    },
    {
     "name": "stdout",
     "output_type": "stream",
     "text": [
      "cog:timesat_extracts/h17v02/sos_value/sos_value_h17v02_2015_s1_laea_cog.tif\n",
      "cog:timesat_extracts/h17v02/sos_value/sos_value_h17v02_2016_s1_laea_cog.tif\n"
     ]
    },
    {
     "name": "stdout",
     "output_type": "stream",
     "text": [
      "cog:timesat_extracts/h17v02/sos_value/sos_value_h17v02_2017_s1_laea_cog.tif\n",
      "cog:timesat_extracts/h17v02/sos_value/sos_value_h17v02_2018_s1_laea_cog.tif\n"
     ]
    },
    {
     "name": "stdout",
     "output_type": "stream",
     "text": [
      "cog:timesat_extracts/h17v02/sos_value/sos_value_h17v02_2019_s1_laea_cog.tif\n",
      "cog:timesat_extracts/h17v02/sos_value/sos_value_h17v02_2020_s1_laea_cog.tif\n"
     ]
    },
    {
     "name": "stdout",
     "output_type": "stream",
     "text": [
      "cog:timesat_extracts/h17v03/LINT/LINT_h17v03_2000_s1_laea_cog.tif\n",
      "cog:timesat_extracts/h17v03/LINT/LINT_h17v03_2001_s1_laea_cog.tif\n",
      "cog:timesat_extracts/h17v03/LINT/LINT_h17v03_2002_s1_laea_cog.tif\n"
     ]
    },
    {
     "name": "stdout",
     "output_type": "stream",
     "text": [
      "cog:timesat_extracts/h17v03/LINT/LINT_h17v03_2003_s1_laea_cog.tif\n",
      "cog:timesat_extracts/h17v03/LINT/LINT_h17v03_2004_s1_laea_cog.tif\n"
     ]
    },
    {
     "name": "stdout",
     "output_type": "stream",
     "text": [
      "cog:timesat_extracts/h17v03/LINT/LINT_h17v03_2005_s1_laea_cog.tif\n",
      "cog:timesat_extracts/h17v03/LINT/LINT_h17v03_2006_s1_laea_cog.tif\n"
     ]
    },
    {
     "name": "stdout",
     "output_type": "stream",
     "text": [
      "cog:timesat_extracts/h17v03/LINT/LINT_h17v03_2007_s1_laea_cog.tif\n",
      "cog:timesat_extracts/h17v03/LINT/LINT_h17v03_2008_s1_laea_cog.tif\n"
     ]
    },
    {
     "name": "stdout",
     "output_type": "stream",
     "text": [
      "cog:timesat_extracts/h17v03/LINT/LINT_h17v03_2009_s1_laea_cog.tif\n",
      "cog:timesat_extracts/h17v03/LINT/LINT_h17v03_2010_s1_laea_cog.tif\n",
      "cog:timesat_extracts/h17v03/LINT/LINT_h17v03_2011_s1_laea_cog.tif\n"
     ]
    },
    {
     "name": "stdout",
     "output_type": "stream",
     "text": [
      "cog:timesat_extracts/h17v03/LINT/LINT_h17v03_2012_s1_laea_cog.tif\n",
      "cog:timesat_extracts/h17v03/LINT/LINT_h17v03_2013_s1_laea_cog.tif\n"
     ]
    },
    {
     "name": "stdout",
     "output_type": "stream",
     "text": [
      "cog:timesat_extracts/h17v03/LINT/LINT_h17v03_2014_s1_laea_cog.tif\n",
      "cog:timesat_extracts/h17v03/LINT/LINT_h17v03_2015_s1_laea_cog.tif\n",
      "cog:timesat_extracts/h17v03/LINT/LINT_h17v03_2016_s1_laea_cog.tif\n"
     ]
    },
    {
     "name": "stdout",
     "output_type": "stream",
     "text": [
      "cog:timesat_extracts/h17v03/LINT/LINT_h17v03_2017_s1_laea_cog.tif\n",
      "cog:timesat_extracts/h17v03/LINT/LINT_h17v03_2018_s1_laea_cog.tif\n"
     ]
    },
    {
     "name": "stdout",
     "output_type": "stream",
     "text": [
      "cog:timesat_extracts/h17v03/LINT/LINT_h17v03_2019_s1_laea_cog.tif\n",
      "cog:timesat_extracts/h17v03/LINT/LINT_h17v03_2020_s1_laea_cog.tif\n"
     ]
    },
    {
     "name": "stdout",
     "output_type": "stream",
     "text": [
      "cog:timesat_extracts/h17v03/SINT/SINT_h17v03_2000_s1_laea_cog.tif\n",
      "cog:timesat_extracts/h17v03/SINT/SINT_h17v03_2001_s1_laea_cog.tif\n"
     ]
    },
    {
     "name": "stdout",
     "output_type": "stream",
     "text": [
      "cog:timesat_extracts/h17v03/SINT/SINT_h17v03_2002_s1_laea_cog.tif\n",
      "cog:timesat_extracts/h17v03/SINT/SINT_h17v03_2003_s1_laea_cog.tif\n"
     ]
    },
    {
     "name": "stdout",
     "output_type": "stream",
     "text": [
      "cog:timesat_extracts/h17v03/SINT/SINT_h17v03_2004_s1_laea_cog.tif\n",
      "cog:timesat_extracts/h17v03/SINT/SINT_h17v03_2005_s1_laea_cog.tif\n",
      "cog:timesat_extracts/h17v03/SINT/SINT_h17v03_2006_s1_laea_cog.tif\n"
     ]
    },
    {
     "name": "stdout",
     "output_type": "stream",
     "text": [
      "cog:timesat_extracts/h17v03/SINT/SINT_h17v03_2007_s1_laea_cog.tif\n",
      "cog:timesat_extracts/h17v03/SINT/SINT_h17v03_2008_s1_laea_cog.tif\n"
     ]
    },
    {
     "name": "stdout",
     "output_type": "stream",
     "text": [
      "cog:timesat_extracts/h17v03/SINT/SINT_h17v03_2009_s1_laea_cog.tif\n",
      "cog:timesat_extracts/h17v03/SINT/SINT_h17v03_2010_s1_laea_cog.tif\n"
     ]
    },
    {
     "name": "stdout",
     "output_type": "stream",
     "text": [
      "cog:timesat_extracts/h17v03/SINT/SINT_h17v03_2011_s1_laea_cog.tif\n",
      "cog:timesat_extracts/h17v03/SINT/SINT_h17v03_2012_s1_laea_cog.tif\n"
     ]
    },
    {
     "name": "stdout",
     "output_type": "stream",
     "text": [
      "cog:timesat_extracts/h17v03/SINT/SINT_h17v03_2013_s1_laea_cog.tif\n",
      "cog:timesat_extracts/h17v03/SINT/SINT_h17v03_2014_s1_laea_cog.tif\n"
     ]
    },
    {
     "name": "stdout",
     "output_type": "stream",
     "text": [
      "cog:timesat_extracts/h17v03/SINT/SINT_h17v03_2015_s1_laea_cog.tif\n",
      "cog:timesat_extracts/h17v03/SINT/SINT_h17v03_2016_s1_laea_cog.tif\n"
     ]
    },
    {
     "name": "stdout",
     "output_type": "stream",
     "text": [
      "cog:timesat_extracts/h17v03/SINT/SINT_h17v03_2017_s1_laea_cog.tif\n",
      "cog:timesat_extracts/h17v03/SINT/SINT_h17v03_2018_s1_laea_cog.tif\n",
      "cog:timesat_extracts/h17v03/SINT/SINT_h17v03_2019_s1_laea_cog.tif\n"
     ]
    },
    {
     "name": "stdout",
     "output_type": "stream",
     "text": [
      "cog:timesat_extracts/h17v03/SINT/SINT_h17v03_2020_s1_laea_cog.tif\n",
      "cog:timesat_extracts/h17v03/decrease_rate/decrease_rate_EOS_h17v03_2000_s1_laea_cog.tif\n",
      "cog:timesat_extracts/h17v03/decrease_rate/decrease_rate_EOS_h17v03_2001_s1_laea_cog.tif\n"
     ]
    },
    {
     "name": "stdout",
     "output_type": "stream",
     "text": [
      "cog:timesat_extracts/h17v03/decrease_rate/decrease_rate_EOS_h17v03_2002_s1_laea_cog.tif\n",
      "cog:timesat_extracts/h17v03/decrease_rate/decrease_rate_EOS_h17v03_2003_s1_laea_cog.tif\n"
     ]
    },
    {
     "name": "stdout",
     "output_type": "stream",
     "text": [
      "cog:timesat_extracts/h17v03/decrease_rate/decrease_rate_EOS_h17v03_2004_s1_laea_cog.tif\n",
      "cog:timesat_extracts/h17v03/decrease_rate/decrease_rate_EOS_h17v03_2005_s1_laea_cog.tif\n"
     ]
    },
    {
     "name": "stdout",
     "output_type": "stream",
     "text": [
      "cog:timesat_extracts/h17v03/decrease_rate/decrease_rate_EOS_h17v03_2006_s1_laea_cog.tif\n",
      "cog:timesat_extracts/h17v03/decrease_rate/decrease_rate_EOS_h17v03_2007_s1_laea_cog.tif\n"
     ]
    },
    {
     "name": "stdout",
     "output_type": "stream",
     "text": [
      "cog:timesat_extracts/h17v03/decrease_rate/decrease_rate_EOS_h17v03_2008_s1_laea_cog.tif\n",
      "cog:timesat_extracts/h17v03/decrease_rate/decrease_rate_EOS_h17v03_2009_s1_laea_cog.tif\n"
     ]
    },
    {
     "name": "stdout",
     "output_type": "stream",
     "text": [
      "cog:timesat_extracts/h17v03/decrease_rate/decrease_rate_EOS_h17v03_2010_s1_laea_cog.tif\n",
      "cog:timesat_extracts/h17v03/decrease_rate/decrease_rate_EOS_h17v03_2011_s1_laea_cog.tif\n",
      "cog:timesat_extracts/h17v03/decrease_rate/decrease_rate_EOS_h17v03_2012_s1_laea_cog.tif\n"
     ]
    },
    {
     "name": "stdout",
     "output_type": "stream",
     "text": [
      "cog:timesat_extracts/h17v03/decrease_rate/decrease_rate_EOS_h17v03_2013_s1_laea_cog.tif\n",
      "cog:timesat_extracts/h17v03/decrease_rate/decrease_rate_EOS_h17v03_2014_s1_laea_cog.tif\n"
     ]
    },
    {
     "name": "stdout",
     "output_type": "stream",
     "text": [
      "cog:timesat_extracts/h17v03/decrease_rate/decrease_rate_EOS_h17v03_2015_s1_laea_cog.tif\n",
      "cog:timesat_extracts/h17v03/decrease_rate/decrease_rate_EOS_h17v03_2016_s1_laea_cog.tif\n"
     ]
    },
    {
     "name": "stdout",
     "output_type": "stream",
     "text": [
      "cog:timesat_extracts/h17v03/decrease_rate/decrease_rate_EOS_h17v03_2017_s1_laea_cog.tif\n",
      "cog:timesat_extracts/h17v03/decrease_rate/decrease_rate_EOS_h17v03_2018_s1_laea_cog.tif\n"
     ]
    },
    {
     "name": "stdout",
     "output_type": "stream",
     "text": [
      "cog:timesat_extracts/h17v03/decrease_rate/decrease_rate_EOS_h17v03_2019_s1_laea_cog.tif\n",
      "cog:timesat_extracts/h17v03/decrease_rate/decrease_rate_EOS_h17v03_2020_s1_laea_cog.tif\n"
     ]
    },
    {
     "name": "stdout",
     "output_type": "stream",
     "text": [
      "cog:timesat_extracts/h17v03/eos/eos_h17v03_2000_s1_laea_cog.tif\n",
      "cog:timesat_extracts/h17v03/eos/eos_h17v03_2001_s1_laea_cog.tif\n"
     ]
    },
    {
     "name": "stdout",
     "output_type": "stream",
     "text": [
      "cog:timesat_extracts/h17v03/eos/eos_h17v03_2002_s1_laea_cog.tif\n",
      "cog:timesat_extracts/h17v03/eos/eos_h17v03_2003_s1_laea_cog.tif\n"
     ]
    },
    {
     "name": "stdout",
     "output_type": "stream",
     "text": [
      "cog:timesat_extracts/h17v03/eos/eos_h17v03_2004_s1_laea_cog.tif\n",
      "cog:timesat_extracts/h17v03/eos/eos_h17v03_2005_s1_laea_cog.tif\n"
     ]
    },
    {
     "name": "stdout",
     "output_type": "stream",
     "text": [
      "cog:timesat_extracts/h17v03/eos/eos_h17v03_2006_s1_laea_cog.tif\n",
      "cog:timesat_extracts/h17v03/eos/eos_h17v03_2007_s1_laea_cog.tif\n"
     ]
    },
    {
     "name": "stdout",
     "output_type": "stream",
     "text": [
      "cog:timesat_extracts/h17v03/eos/eos_h17v03_2008_s1_laea_cog.tif\n",
      "cog:timesat_extracts/h17v03/eos/eos_h17v03_2009_s1_laea_cog.tif\n"
     ]
    },
    {
     "name": "stdout",
     "output_type": "stream",
     "text": [
      "cog:timesat_extracts/h17v03/eos/eos_h17v03_2010_s1_laea_cog.tif\n",
      "cog:timesat_extracts/h17v03/eos/eos_h17v03_2011_s1_laea_cog.tif\n",
      "cog:timesat_extracts/h17v03/eos/eos_h17v03_2012_s1_laea_cog.tif\n"
     ]
    },
    {
     "name": "stdout",
     "output_type": "stream",
     "text": [
      "cog:timesat_extracts/h17v03/eos/eos_h17v03_2013_s1_laea_cog.tif\n",
      "cog:timesat_extracts/h17v03/eos/eos_h17v03_2014_s1_laea_cog.tif\n"
     ]
    },
    {
     "name": "stdout",
     "output_type": "stream",
     "text": [
      "cog:timesat_extracts/h17v03/eos/eos_h17v03_2015_s1_laea_cog.tif\n",
      "cog:timesat_extracts/h17v03/eos/eos_h17v03_2016_s1_laea_cog.tif\n",
      "cog:timesat_extracts/h17v03/eos/eos_h17v03_2017_s1_laea_cog.tif\n"
     ]
    },
    {
     "name": "stdout",
     "output_type": "stream",
     "text": [
      "cog:timesat_extracts/h17v03/eos/eos_h17v03_2018_s1_laea_cog.tif\n",
      "cog:timesat_extracts/h17v03/eos/eos_h17v03_2019_s1_laea_cog.tif\n"
     ]
    },
    {
     "name": "stdout",
     "output_type": "stream",
     "text": [
      "cog:timesat_extracts/h17v03/eos/eos_h17v03_2020_s1_laea_cog.tif\n",
      "cog:timesat_extracts/h17v03/eos_value/eos_value_h17v03_2000_s1_laea_cog.tif\n"
     ]
    },
    {
     "name": "stdout",
     "output_type": "stream",
     "text": [
      "cog:timesat_extracts/h17v03/eos_value/eos_value_h17v03_2001_s1_laea_cog.tif\n",
      "cog:timesat_extracts/h17v03/eos_value/eos_value_h17v03_2002_s1_laea_cog.tif\n",
      "cog:timesat_extracts/h17v03/eos_value/eos_value_h17v03_2003_s1_laea_cog.tif\n"
     ]
    },
    {
     "name": "stdout",
     "output_type": "stream",
     "text": [
      "cog:timesat_extracts/h17v03/eos_value/eos_value_h17v03_2004_s1_laea_cog.tif\n",
      "cog:timesat_extracts/h17v03/eos_value/eos_value_h17v03_2005_s1_laea_cog.tif\n"
     ]
    },
    {
     "name": "stdout",
     "output_type": "stream",
     "text": [
      "cog:timesat_extracts/h17v03/eos_value/eos_value_h17v03_2006_s1_laea_cog.tif\n",
      "cog:timesat_extracts/h17v03/eos_value/eos_value_h17v03_2007_s1_laea_cog.tif\n"
     ]
    },
    {
     "name": "stdout",
     "output_type": "stream",
     "text": [
      "cog:timesat_extracts/h17v03/eos_value/eos_value_h17v03_2008_s1_laea_cog.tif\n",
      "cog:timesat_extracts/h17v03/eos_value/eos_value_h17v03_2009_s1_laea_cog.tif\n"
     ]
    },
    {
     "name": "stdout",
     "output_type": "stream",
     "text": [
      "cog:timesat_extracts/h17v03/eos_value/eos_value_h17v03_2010_s1_laea_cog.tif\n",
      "cog:timesat_extracts/h17v03/eos_value/eos_value_h17v03_2011_s1_laea_cog.tif\n"
     ]
    },
    {
     "name": "stdout",
     "output_type": "stream",
     "text": [
      "cog:timesat_extracts/h17v03/eos_value/eos_value_h17v03_2012_s1_laea_cog.tif\n",
      "cog:timesat_extracts/h17v03/eos_value/eos_value_h17v03_2013_s1_laea_cog.tif\n",
      "cog:timesat_extracts/h17v03/eos_value/eos_value_h17v03_2014_s1_laea_cog.tif\n"
     ]
    },
    {
     "name": "stdout",
     "output_type": "stream",
     "text": [
      "cog:timesat_extracts/h17v03/eos_value/eos_value_h17v03_2015_s1_laea_cog.tif\n",
      "cog:timesat_extracts/h17v03/eos_value/eos_value_h17v03_2016_s1_laea_cog.tif\n"
     ]
    },
    {
     "name": "stdout",
     "output_type": "stream",
     "text": [
      "cog:timesat_extracts/h17v03/eos_value/eos_value_h17v03_2017_s1_laea_cog.tif\n",
      "cog:timesat_extracts/h17v03/eos_value/eos_value_h17v03_2018_s1_laea_cog.tif\n"
     ]
    },
    {
     "name": "stdout",
     "output_type": "stream",
     "text": [
      "cog:timesat_extracts/h17v03/eos_value/eos_value_h17v03_2019_s1_laea_cog.tif\n",
      "cog:timesat_extracts/h17v03/eos_value/eos_value_h17v03_2020_s1_laea_cog.tif\n"
     ]
    },
    {
     "name": "stdout",
     "output_type": "stream",
     "text": [
      "cog:timesat_extracts/h17v03/increase_rate/increase_rate_SOS_h17v03_2000_s1_laea_cog.tif\n",
      "cog:timesat_extracts/h17v03/increase_rate/increase_rate_SOS_h17v03_2001_s1_laea_cog.tif\n"
     ]
    },
    {
     "name": "stdout",
     "output_type": "stream",
     "text": [
      "cog:timesat_extracts/h17v03/increase_rate/increase_rate_SOS_h17v03_2002_s1_laea_cog.tif\n",
      "cog:timesat_extracts/h17v03/increase_rate/increase_rate_SOS_h17v03_2003_s1_laea_cog.tif\n"
     ]
    },
    {
     "name": "stdout",
     "output_type": "stream",
     "text": [
      "cog:timesat_extracts/h17v03/increase_rate/increase_rate_SOS_h17v03_2004_s1_laea_cog.tif\n",
      "cog:timesat_extracts/h17v03/increase_rate/increase_rate_SOS_h17v03_2005_s1_laea_cog.tif\n"
     ]
    },
    {
     "name": "stdout",
     "output_type": "stream",
     "text": [
      "cog:timesat_extracts/h17v03/increase_rate/increase_rate_SOS_h17v03_2006_s1_laea_cog.tif\n",
      "cog:timesat_extracts/h17v03/increase_rate/increase_rate_SOS_h17v03_2007_s1_laea_cog.tif\n"
     ]
    },
    {
     "name": "stdout",
     "output_type": "stream",
     "text": [
      "cog:timesat_extracts/h17v03/increase_rate/increase_rate_SOS_h17v03_2008_s1_laea_cog.tif\n",
      "cog:timesat_extracts/h17v03/increase_rate/increase_rate_SOS_h17v03_2009_s1_laea_cog.tif\n",
      "cog:timesat_extracts/h17v03/increase_rate/increase_rate_SOS_h17v03_2010_s1_laea_cog.tif\n"
     ]
    },
    {
     "name": "stdout",
     "output_type": "stream",
     "text": [
      "cog:timesat_extracts/h17v03/increase_rate/increase_rate_SOS_h17v03_2011_s1_laea_cog.tif\n",
      "cog:timesat_extracts/h17v03/increase_rate/increase_rate_SOS_h17v03_2012_s1_laea_cog.tif\n",
      "cog:timesat_extracts/h17v03/increase_rate/increase_rate_SOS_h17v03_2013_s1_laea_cog.tif\n"
     ]
    },
    {
     "name": "stdout",
     "output_type": "stream",
     "text": [
      "cog:timesat_extracts/h17v03/increase_rate/increase_rate_SOS_h17v03_2014_s1_laea_cog.tif\n",
      "cog:timesat_extracts/h17v03/increase_rate/increase_rate_SOS_h17v03_2015_s1_laea_cog.tif\n",
      "cog:timesat_extracts/h17v03/increase_rate/increase_rate_SOS_h17v03_2016_s1_laea_cog.tif\n"
     ]
    },
    {
     "name": "stdout",
     "output_type": "stream",
     "text": [
      "cog:timesat_extracts/h17v03/increase_rate/increase_rate_SOS_h17v03_2017_s1_laea_cog.tif\n",
      "cog:timesat_extracts/h17v03/increase_rate/increase_rate_SOS_h17v03_2018_s1_laea_cog.tif\n",
      "cog:timesat_extracts/h17v03/increase_rate/increase_rate_SOS_h17v03_2019_s1_laea_cog.tif\n"
     ]
    },
    {
     "name": "stdout",
     "output_type": "stream",
     "text": [
      "cog:timesat_extracts/h17v03/increase_rate/increase_rate_SOS_h17v03_2020_s1_laea_cog.tif\n",
      "cog:timesat_extracts/h17v03/length_of_season/los_h17v03_2000_s1_laea_cog.tif\n",
      "cog:timesat_extracts/h17v03/length_of_season/los_h17v03_2001_s1_laea_cog.tif\n"
     ]
    },
    {
     "name": "stdout",
     "output_type": "stream",
     "text": [
      "cog:timesat_extracts/h17v03/length_of_season/los_h17v03_2002_s1_laea_cog.tif\n",
      "cog:timesat_extracts/h17v03/length_of_season/los_h17v03_2003_s1_laea_cog.tif\n",
      "cog:timesat_extracts/h17v03/length_of_season/los_h17v03_2004_s1_laea_cog.tif\n"
     ]
    },
    {
     "name": "stdout",
     "output_type": "stream",
     "text": [
      "cog:timesat_extracts/h17v03/length_of_season/los_h17v03_2005_s1_laea_cog.tif\n",
      "cog:timesat_extracts/h17v03/length_of_season/los_h17v03_2006_s1_laea_cog.tif\n",
      "cog:timesat_extracts/h17v03/length_of_season/los_h17v03_2007_s1_laea_cog.tif\n"
     ]
    },
    {
     "name": "stdout",
     "output_type": "stream",
     "text": [
      "cog:timesat_extracts/h17v03/length_of_season/los_h17v03_2008_s1_laea_cog.tif\n",
      "cog:timesat_extracts/h17v03/length_of_season/los_h17v03_2009_s1_laea_cog.tif\n"
     ]
    },
    {
     "name": "stdout",
     "output_type": "stream",
     "text": [
      "cog:timesat_extracts/h17v03/length_of_season/los_h17v03_2010_s1_laea_cog.tif\n",
      "cog:timesat_extracts/h17v03/length_of_season/los_h17v03_2011_s1_laea_cog.tif\n"
     ]
    },
    {
     "name": "stdout",
     "output_type": "stream",
     "text": [
      "cog:timesat_extracts/h17v03/length_of_season/los_h17v03_2012_s1_laea_cog.tif\n",
      "cog:timesat_extracts/h17v03/length_of_season/los_h17v03_2013_s1_laea_cog.tif\n"
     ]
    },
    {
     "name": "stdout",
     "output_type": "stream",
     "text": [
      "cog:timesat_extracts/h17v03/length_of_season/los_h17v03_2014_s1_laea_cog.tif\n",
      "cog:timesat_extracts/h17v03/length_of_season/los_h17v03_2015_s1_laea_cog.tif\n"
     ]
    },
    {
     "name": "stdout",
     "output_type": "stream",
     "text": [
      "cog:timesat_extracts/h17v03/length_of_season/los_h17v03_2016_s1_laea_cog.tif\n",
      "cog:timesat_extracts/h17v03/length_of_season/los_h17v03_2017_s1_laea_cog.tif\n"
     ]
    },
    {
     "name": "stdout",
     "output_type": "stream",
     "text": [
      "cog:timesat_extracts/h17v03/length_of_season/los_h17v03_2018_s1_laea_cog.tif\n",
      "cog:timesat_extracts/h17v03/length_of_season/los_h17v03_2019_s1_laea_cog.tif\n"
     ]
    },
    {
     "name": "stdout",
     "output_type": "stream",
     "text": [
      "cog:timesat_extracts/h17v03/length_of_season/los_h17v03_2020_s1_laea_cog.tif\n",
      "cog:timesat_extracts/h17v03/seasonal_amplitude/s_amplitude_h17v03_2000_s1_laea_cog.tif\n"
     ]
    },
    {
     "name": "stdout",
     "output_type": "stream",
     "text": [
      "cog:timesat_extracts/h17v03/seasonal_amplitude/s_amplitude_h17v03_2001_s1_laea_cog.tif\n",
      "cog:timesat_extracts/h17v03/seasonal_amplitude/s_amplitude_h17v03_2002_s1_laea_cog.tif\n"
     ]
    },
    {
     "name": "stdout",
     "output_type": "stream",
     "text": [
      "cog:timesat_extracts/h17v03/seasonal_amplitude/s_amplitude_h17v03_2003_s1_laea_cog.tif\n",
      "cog:timesat_extracts/h17v03/seasonal_amplitude/s_amplitude_h17v03_2004_s1_laea_cog.tif\n"
     ]
    },
    {
     "name": "stdout",
     "output_type": "stream",
     "text": [
      "cog:timesat_extracts/h17v03/seasonal_amplitude/s_amplitude_h17v03_2005_s1_laea_cog.tif\n",
      "cog:timesat_extracts/h17v03/seasonal_amplitude/s_amplitude_h17v03_2006_s1_laea_cog.tif\n"
     ]
    },
    {
     "name": "stdout",
     "output_type": "stream",
     "text": [
      "cog:timesat_extracts/h17v03/seasonal_amplitude/s_amplitude_h17v03_2007_s1_laea_cog.tif\n",
      "cog:timesat_extracts/h17v03/seasonal_amplitude/s_amplitude_h17v03_2008_s1_laea_cog.tif\n"
     ]
    },
    {
     "name": "stdout",
     "output_type": "stream",
     "text": [
      "cog:timesat_extracts/h17v03/seasonal_amplitude/s_amplitude_h17v03_2009_s1_laea_cog.tif\n",
      "cog:timesat_extracts/h17v03/seasonal_amplitude/s_amplitude_h17v03_2010_s1_laea_cog.tif\n"
     ]
    },
    {
     "name": "stdout",
     "output_type": "stream",
     "text": [
      "cog:timesat_extracts/h17v03/seasonal_amplitude/s_amplitude_h17v03_2011_s1_laea_cog.tif\n",
      "cog:timesat_extracts/h17v03/seasonal_amplitude/s_amplitude_h17v03_2012_s1_laea_cog.tif\n"
     ]
    },
    {
     "name": "stdout",
     "output_type": "stream",
     "text": [
      "cog:timesat_extracts/h17v03/seasonal_amplitude/s_amplitude_h17v03_2013_s1_laea_cog.tif\n",
      "cog:timesat_extracts/h17v03/seasonal_amplitude/s_amplitude_h17v03_2014_s1_laea_cog.tif\n"
     ]
    },
    {
     "name": "stdout",
     "output_type": "stream",
     "text": [
      "cog:timesat_extracts/h17v03/seasonal_amplitude/s_amplitude_h17v03_2015_s1_laea_cog.tif\n",
      "cog:timesat_extracts/h17v03/seasonal_amplitude/s_amplitude_h17v03_2016_s1_laea_cog.tif\n"
     ]
    },
    {
     "name": "stdout",
     "output_type": "stream",
     "text": [
      "cog:timesat_extracts/h17v03/seasonal_amplitude/s_amplitude_h17v03_2017_s1_laea_cog.tif\n",
      "cog:timesat_extracts/h17v03/seasonal_amplitude/s_amplitude_h17v03_2018_s1_laea_cog.tif\n"
     ]
    },
    {
     "name": "stdout",
     "output_type": "stream",
     "text": [
      "cog:timesat_extracts/h17v03/seasonal_amplitude/s_amplitude_h17v03_2019_s1_laea_cog.tif\n"
     ]
    },
    {
     "name": "stdout",
     "output_type": "stream",
     "text": [
      "cog:timesat_extracts/h17v03/seasonal_amplitude/s_amplitude_h17v03_2020_s1_laea_cog.tif\n",
      "cog:timesat_extracts/h17v03/sos/sos_h17v03_2000_s1_laea_cog.tif\n"
     ]
    },
    {
     "name": "stdout",
     "output_type": "stream",
     "text": [
      "cog:timesat_extracts/h17v03/sos/sos_h17v03_2001_s1_laea_cog.tif\n",
      "cog:timesat_extracts/h17v03/sos/sos_h17v03_2002_s1_laea_cog.tif\n",
      "cog:timesat_extracts/h17v03/sos/sos_h17v03_2003_s1_laea_cog.tif\n"
     ]
    },
    {
     "name": "stdout",
     "output_type": "stream",
     "text": [
      "cog:timesat_extracts/h17v03/sos/sos_h17v03_2004_s1_laea_cog.tif\n",
      "cog:timesat_extracts/h17v03/sos/sos_h17v03_2005_s1_laea_cog.tif\n"
     ]
    },
    {
     "name": "stdout",
     "output_type": "stream",
     "text": [
      "cog:timesat_extracts/h17v03/sos/sos_h17v03_2006_s1_laea_cog.tif\n",
      "cog:timesat_extracts/h17v03/sos/sos_h17v03_2007_s1_laea_cog.tif\n",
      "cog:timesat_extracts/h17v03/sos/sos_h17v03_2008_s1_laea_cog.tif\n"
     ]
    },
    {
     "name": "stdout",
     "output_type": "stream",
     "text": [
      "cog:timesat_extracts/h17v03/sos/sos_h17v03_2009_s1_laea_cog.tif\n",
      "cog:timesat_extracts/h17v03/sos/sos_h17v03_2010_s1_laea_cog.tif\n",
      "cog:timesat_extracts/h17v03/sos/sos_h17v03_2011_s1_laea_cog.tif\n"
     ]
    },
    {
     "name": "stdout",
     "output_type": "stream",
     "text": [
      "cog:timesat_extracts/h17v03/sos/sos_h17v03_2012_s1_laea_cog.tif\n",
      "cog:timesat_extracts/h17v03/sos/sos_h17v03_2013_s1_laea_cog.tif\n",
      "cog:timesat_extracts/h17v03/sos/sos_h17v03_2014_s1_laea_cog.tif\n"
     ]
    },
    {
     "name": "stdout",
     "output_type": "stream",
     "text": [
      "cog:timesat_extracts/h17v03/sos/sos_h17v03_2015_s1_laea_cog.tif\n",
      "cog:timesat_extracts/h17v03/sos/sos_h17v03_2016_s1_laea_cog.tif\n"
     ]
    },
    {
     "name": "stdout",
     "output_type": "stream",
     "text": [
      "cog:timesat_extracts/h17v03/sos/sos_h17v03_2017_s1_laea_cog.tif\n",
      "cog:timesat_extracts/h17v03/sos/sos_h17v03_2018_s1_laea_cog.tif\n",
      "cog:timesat_extracts/h17v03/sos/sos_h17v03_2019_s1_laea_cog.tif\n"
     ]
    },
    {
     "name": "stdout",
     "output_type": "stream",
     "text": [
      "cog:timesat_extracts/h17v03/sos/sos_h17v03_2020_s1_laea_cog.tif\n",
      "cog:timesat_extracts/h17v03/sos_value/sos_value_h17v03_2000_s1_laea_cog.tif\n",
      "cog:timesat_extracts/h17v03/sos_value/sos_value_h17v03_2001_s1_laea_cog.tif\n"
     ]
    },
    {
     "name": "stdout",
     "output_type": "stream",
     "text": [
      "cog:timesat_extracts/h17v03/sos_value/sos_value_h17v03_2002_s1_laea_cog.tif\n",
      "cog:timesat_extracts/h17v03/sos_value/sos_value_h17v03_2003_s1_laea_cog.tif\n",
      "cog:timesat_extracts/h17v03/sos_value/sos_value_h17v03_2004_s1_laea_cog.tif\n"
     ]
    },
    {
     "name": "stdout",
     "output_type": "stream",
     "text": [
      "cog:timesat_extracts/h17v03/sos_value/sos_value_h17v03_2005_s1_laea_cog.tif\n",
      "cog:timesat_extracts/h17v03/sos_value/sos_value_h17v03_2006_s1_laea_cog.tif\n"
     ]
    },
    {
     "name": "stdout",
     "output_type": "stream",
     "text": [
      "cog:timesat_extracts/h17v03/sos_value/sos_value_h17v03_2007_s1_laea_cog.tif\n",
      "cog:timesat_extracts/h17v03/sos_value/sos_value_h17v03_2008_s1_laea_cog.tif\n",
      "cog:timesat_extracts/h17v03/sos_value/sos_value_h17v03_2009_s1_laea_cog.tif\n"
     ]
    },
    {
     "name": "stdout",
     "output_type": "stream",
     "text": [
      "cog:timesat_extracts/h17v03/sos_value/sos_value_h17v03_2010_s1_laea_cog.tif\n",
      "cog:timesat_extracts/h17v03/sos_value/sos_value_h17v03_2011_s1_laea_cog.tif\n",
      "cog:timesat_extracts/h17v03/sos_value/sos_value_h17v03_2012_s1_laea_cog.tif\n"
     ]
    },
    {
     "name": "stdout",
     "output_type": "stream",
     "text": [
      "cog:timesat_extracts/h17v03/sos_value/sos_value_h17v03_2013_s1_laea_cog.tif\n",
      "cog:timesat_extracts/h17v03/sos_value/sos_value_h17v03_2014_s1_laea_cog.tif\n",
      "cog:timesat_extracts/h17v03/sos_value/sos_value_h17v03_2015_s1_laea_cog.tif\n"
     ]
    },
    {
     "name": "stdout",
     "output_type": "stream",
     "text": [
      "cog:timesat_extracts/h17v03/sos_value/sos_value_h17v03_2016_s1_laea_cog.tif\n",
      "cog:timesat_extracts/h17v03/sos_value/sos_value_h17v03_2017_s1_laea_cog.tif\n"
     ]
    },
    {
     "name": "stdout",
     "output_type": "stream",
     "text": [
      "cog:timesat_extracts/h17v03/sos_value/sos_value_h17v03_2018_s1_laea_cog.tif\n",
      "cog:timesat_extracts/h17v03/sos_value/sos_value_h17v03_2019_s1_laea_cog.tif\n"
     ]
    },
    {
     "name": "stdout",
     "output_type": "stream",
     "text": [
      "cog:timesat_extracts/h17v03/sos_value/sos_value_h17v03_2020_s1_laea_cog.tif\n",
      "cog:timesat_extracts/h17v04/LINT/LINT_h17v04_2000_s1_laea_cog.tif\n"
     ]
    },
    {
     "name": "stdout",
     "output_type": "stream",
     "text": [
      "cog:timesat_extracts/h17v04/LINT/LINT_h17v04_2001_s1_laea_cog.tif\n",
      "cog:timesat_extracts/h17v04/LINT/LINT_h17v04_2002_s1_laea_cog.tif\n"
     ]
    },
    {
     "name": "stdout",
     "output_type": "stream",
     "text": [
      "cog:timesat_extracts/h17v04/LINT/LINT_h17v04_2003_s1_laea_cog.tif\n",
      "cog:timesat_extracts/h17v04/LINT/LINT_h17v04_2004_s1_laea_cog.tif\n"
     ]
    },
    {
     "name": "stdout",
     "output_type": "stream",
     "text": [
      "cog:timesat_extracts/h17v04/LINT/LINT_h17v04_2005_s1_laea_cog.tif\n",
      "cog:timesat_extracts/h17v04/LINT/LINT_h17v04_2006_s1_laea_cog.tif\n"
     ]
    },
    {
     "name": "stdout",
     "output_type": "stream",
     "text": [
      "cog:timesat_extracts/h17v04/LINT/LINT_h17v04_2007_s1_laea_cog.tif\n",
      "cog:timesat_extracts/h17v04/LINT/LINT_h17v04_2008_s1_laea_cog.tif\n"
     ]
    },
    {
     "name": "stdout",
     "output_type": "stream",
     "text": [
      "cog:timesat_extracts/h17v04/LINT/LINT_h17v04_2009_s1_laea_cog.tif\n",
      "cog:timesat_extracts/h17v04/LINT/LINT_h17v04_2010_s1_laea_cog.tif\n"
     ]
    },
    {
     "name": "stdout",
     "output_type": "stream",
     "text": [
      "cog:timesat_extracts/h17v04/LINT/LINT_h17v04_2011_s1_laea_cog.tif\n",
      "cog:timesat_extracts/h17v04/LINT/LINT_h17v04_2012_s1_laea_cog.tif\n"
     ]
    },
    {
     "name": "stdout",
     "output_type": "stream",
     "text": [
      "cog:timesat_extracts/h17v04/LINT/LINT_h17v04_2013_s1_laea_cog.tif\n",
      "cog:timesat_extracts/h17v04/LINT/LINT_h17v04_2014_s1_laea_cog.tif\n"
     ]
    },
    {
     "name": "stdout",
     "output_type": "stream",
     "text": [
      "cog:timesat_extracts/h17v04/LINT/LINT_h17v04_2015_s1_laea_cog.tif\n",
      "cog:timesat_extracts/h17v04/LINT/LINT_h17v04_2016_s1_laea_cog.tif\n"
     ]
    },
    {
     "name": "stdout",
     "output_type": "stream",
     "text": [
      "cog:timesat_extracts/h17v04/LINT/LINT_h17v04_2017_s1_laea_cog.tif\n",
      "cog:timesat_extracts/h17v04/LINT/LINT_h17v04_2018_s1_laea_cog.tif\n"
     ]
    },
    {
     "name": "stdout",
     "output_type": "stream",
     "text": [
      "cog:timesat_extracts/h17v04/LINT/LINT_h17v04_2019_s1_laea_cog.tif\n",
      "cog:timesat_extracts/h17v04/LINT/LINT_h17v04_2020_s1_laea_cog.tif\n"
     ]
    },
    {
     "name": "stdout",
     "output_type": "stream",
     "text": [
      "cog:timesat_extracts/h17v04/SINT/SINT_h17v04_2000_s1_laea_cog.tif\n",
      "cog:timesat_extracts/h17v04/SINT/SINT_h17v04_2001_s1_laea_cog.tif\n"
     ]
    },
    {
     "name": "stdout",
     "output_type": "stream",
     "text": [
      "cog:timesat_extracts/h17v04/SINT/SINT_h17v04_2002_s1_laea_cog.tif\n",
      "cog:timesat_extracts/h17v04/SINT/SINT_h17v04_2003_s1_laea_cog.tif\n"
     ]
    },
    {
     "name": "stdout",
     "output_type": "stream",
     "text": [
      "cog:timesat_extracts/h17v04/SINT/SINT_h17v04_2004_s1_laea_cog.tif\n",
      "cog:timesat_extracts/h17v04/SINT/SINT_h17v04_2005_s1_laea_cog.tif\n"
     ]
    },
    {
     "name": "stdout",
     "output_type": "stream",
     "text": [
      "cog:timesat_extracts/h17v04/SINT/SINT_h17v04_2006_s1_laea_cog.tif\n",
      "cog:timesat_extracts/h17v04/SINT/SINT_h17v04_2007_s1_laea_cog.tif\n"
     ]
    },
    {
     "name": "stdout",
     "output_type": "stream",
     "text": [
      "cog:timesat_extracts/h17v04/SINT/SINT_h17v04_2008_s1_laea_cog.tif\n",
      "cog:timesat_extracts/h17v04/SINT/SINT_h17v04_2009_s1_laea_cog.tif\n"
     ]
    },
    {
     "name": "stdout",
     "output_type": "stream",
     "text": [
      "cog:timesat_extracts/h17v04/SINT/SINT_h17v04_2010_s1_laea_cog.tif\n",
      "cog:timesat_extracts/h17v04/SINT/SINT_h17v04_2011_s1_laea_cog.tif\n"
     ]
    },
    {
     "name": "stdout",
     "output_type": "stream",
     "text": [
      "cog:timesat_extracts/h17v04/SINT/SINT_h17v04_2012_s1_laea_cog.tif\n",
      "cog:timesat_extracts/h17v04/SINT/SINT_h17v04_2013_s1_laea_cog.tif\n"
     ]
    },
    {
     "name": "stdout",
     "output_type": "stream",
     "text": [
      "cog:timesat_extracts/h17v04/SINT/SINT_h17v04_2014_s1_laea_cog.tif\n",
      "cog:timesat_extracts/h17v04/SINT/SINT_h17v04_2015_s1_laea_cog.tif\n"
     ]
    },
    {
     "name": "stdout",
     "output_type": "stream",
     "text": [
      "cog:timesat_extracts/h17v04/SINT/SINT_h17v04_2016_s1_laea_cog.tif\n",
      "cog:timesat_extracts/h17v04/SINT/SINT_h17v04_2017_s1_laea_cog.tif\n"
     ]
    },
    {
     "name": "stdout",
     "output_type": "stream",
     "text": [
      "cog:timesat_extracts/h17v04/SINT/SINT_h17v04_2018_s1_laea_cog.tif\n",
      "cog:timesat_extracts/h17v04/SINT/SINT_h17v04_2019_s1_laea_cog.tif\n"
     ]
    },
    {
     "name": "stdout",
     "output_type": "stream",
     "text": [
      "cog:timesat_extracts/h17v04/SINT/SINT_h17v04_2020_s1_laea_cog.tif\n",
      "cog:timesat_extracts/h17v04/decrease_rate/decrease_rate_EOS_h17v04_2000_s1_laea_cog.tif\n"
     ]
    },
    {
     "name": "stdout",
     "output_type": "stream",
     "text": [
      "cog:timesat_extracts/h17v04/decrease_rate/decrease_rate_EOS_h17v04_2001_s1_laea_cog.tif\n",
      "cog:timesat_extracts/h17v04/decrease_rate/decrease_rate_EOS_h17v04_2002_s1_laea_cog.tif\n"
     ]
    },
    {
     "name": "stdout",
     "output_type": "stream",
     "text": [
      "cog:timesat_extracts/h17v04/decrease_rate/decrease_rate_EOS_h17v04_2003_s1_laea_cog.tif\n",
      "cog:timesat_extracts/h17v04/decrease_rate/decrease_rate_EOS_h17v04_2004_s1_laea_cog.tif\n"
     ]
    },
    {
     "name": "stdout",
     "output_type": "stream",
     "text": [
      "cog:timesat_extracts/h17v04/decrease_rate/decrease_rate_EOS_h17v04_2005_s1_laea_cog.tif\n",
      "cog:timesat_extracts/h17v04/decrease_rate/decrease_rate_EOS_h17v04_2006_s1_laea_cog.tif\n"
     ]
    },
    {
     "name": "stdout",
     "output_type": "stream",
     "text": [
      "cog:timesat_extracts/h17v04/decrease_rate/decrease_rate_EOS_h17v04_2007_s1_laea_cog.tif\n",
      "cog:timesat_extracts/h17v04/decrease_rate/decrease_rate_EOS_h17v04_2008_s1_laea_cog.tif\n"
     ]
    },
    {
     "name": "stdout",
     "output_type": "stream",
     "text": [
      "cog:timesat_extracts/h17v04/decrease_rate/decrease_rate_EOS_h17v04_2009_s1_laea_cog.tif\n",
      "cog:timesat_extracts/h17v04/decrease_rate/decrease_rate_EOS_h17v04_2010_s1_laea_cog.tif\n"
     ]
    },
    {
     "name": "stdout",
     "output_type": "stream",
     "text": [
      "cog:timesat_extracts/h17v04/decrease_rate/decrease_rate_EOS_h17v04_2011_s1_laea_cog.tif\n"
     ]
    },
    {
     "name": "stdout",
     "output_type": "stream",
     "text": [
      "cog:timesat_extracts/h17v04/decrease_rate/decrease_rate_EOS_h17v04_2012_s1_laea_cog.tif\n",
      "cog:timesat_extracts/h17v04/decrease_rate/decrease_rate_EOS_h17v04_2013_s1_laea_cog.tif\n"
     ]
    },
    {
     "name": "stdout",
     "output_type": "stream",
     "text": [
      "cog:timesat_extracts/h17v04/decrease_rate/decrease_rate_EOS_h17v04_2014_s1_laea_cog.tif\n",
      "cog:timesat_extracts/h17v04/decrease_rate/decrease_rate_EOS_h17v04_2015_s1_laea_cog.tif\n"
     ]
    },
    {
     "name": "stdout",
     "output_type": "stream",
     "text": [
      "cog:timesat_extracts/h17v04/decrease_rate/decrease_rate_EOS_h17v04_2016_s1_laea_cog.tif\n",
      "cog:timesat_extracts/h17v04/decrease_rate/decrease_rate_EOS_h17v04_2017_s1_laea_cog.tif\n"
     ]
    },
    {
     "name": "stdout",
     "output_type": "stream",
     "text": [
      "cog:timesat_extracts/h17v04/decrease_rate/decrease_rate_EOS_h17v04_2018_s1_laea_cog.tif\n",
      "cog:timesat_extracts/h17v04/decrease_rate/decrease_rate_EOS_h17v04_2019_s1_laea_cog.tif\n"
     ]
    },
    {
     "name": "stdout",
     "output_type": "stream",
     "text": [
      "cog:timesat_extracts/h17v04/decrease_rate/decrease_rate_EOS_h17v04_2020_s1_laea_cog.tif\n",
      "cog:timesat_extracts/h17v04/eos/eos_h17v04_2000_s1_laea_cog.tif\n"
     ]
    },
    {
     "name": "stdout",
     "output_type": "stream",
     "text": [
      "cog:timesat_extracts/h17v04/eos/eos_h17v04_2001_s1_laea_cog.tif\n",
      "cog:timesat_extracts/h17v04/eos/eos_h17v04_2002_s1_laea_cog.tif\n"
     ]
    },
    {
     "name": "stdout",
     "output_type": "stream",
     "text": [
      "cog:timesat_extracts/h17v04/eos/eos_h17v04_2003_s1_laea_cog.tif\n",
      "cog:timesat_extracts/h17v04/eos/eos_h17v04_2004_s1_laea_cog.tif\n"
     ]
    },
    {
     "name": "stdout",
     "output_type": "stream",
     "text": [
      "cog:timesat_extracts/h17v04/eos/eos_h17v04_2005_s1_laea_cog.tif\n",
      "cog:timesat_extracts/h17v04/eos/eos_h17v04_2006_s1_laea_cog.tif\n"
     ]
    },
    {
     "name": "stdout",
     "output_type": "stream",
     "text": [
      "cog:timesat_extracts/h17v04/eos/eos_h17v04_2007_s1_laea_cog.tif\n",
      "cog:timesat_extracts/h17v04/eos/eos_h17v04_2008_s1_laea_cog.tif\n"
     ]
    },
    {
     "name": "stdout",
     "output_type": "stream",
     "text": [
      "cog:timesat_extracts/h17v04/eos/eos_h17v04_2009_s1_laea_cog.tif\n",
      "cog:timesat_extracts/h17v04/eos/eos_h17v04_2010_s1_laea_cog.tif\n"
     ]
    },
    {
     "name": "stdout",
     "output_type": "stream",
     "text": [
      "cog:timesat_extracts/h17v04/eos/eos_h17v04_2011_s1_laea_cog.tif\n",
      "cog:timesat_extracts/h17v04/eos/eos_h17v04_2012_s1_laea_cog.tif\n"
     ]
    },
    {
     "name": "stdout",
     "output_type": "stream",
     "text": [
      "cog:timesat_extracts/h17v04/eos/eos_h17v04_2013_s1_laea_cog.tif\n",
      "cog:timesat_extracts/h17v04/eos/eos_h17v04_2014_s1_laea_cog.tif\n"
     ]
    },
    {
     "name": "stdout",
     "output_type": "stream",
     "text": [
      "cog:timesat_extracts/h17v04/eos/eos_h17v04_2015_s1_laea_cog.tif\n",
      "cog:timesat_extracts/h17v04/eos/eos_h17v04_2016_s1_laea_cog.tif\n"
     ]
    },
    {
     "name": "stdout",
     "output_type": "stream",
     "text": [
      "cog:timesat_extracts/h17v04/eos/eos_h17v04_2017_s1_laea_cog.tif\n",
      "cog:timesat_extracts/h17v04/eos/eos_h17v04_2018_s1_laea_cog.tif\n"
     ]
    },
    {
     "name": "stdout",
     "output_type": "stream",
     "text": [
      "cog:timesat_extracts/h17v04/eos/eos_h17v04_2019_s1_laea_cog.tif\n",
      "cog:timesat_extracts/h17v04/eos/eos_h17v04_2020_s1_laea_cog.tif\n"
     ]
    },
    {
     "name": "stdout",
     "output_type": "stream",
     "text": [
      "cog:timesat_extracts/h17v04/eos_value/eos_value_h17v04_2000_s1_laea_cog.tif\n",
      "cog:timesat_extracts/h17v04/eos_value/eos_value_h17v04_2001_s1_laea_cog.tif\n"
     ]
    },
    {
     "name": "stdout",
     "output_type": "stream",
     "text": [
      "cog:timesat_extracts/h17v04/eos_value/eos_value_h17v04_2002_s1_laea_cog.tif\n",
      "cog:timesat_extracts/h17v04/eos_value/eos_value_h17v04_2003_s1_laea_cog.tif\n"
     ]
    },
    {
     "name": "stdout",
     "output_type": "stream",
     "text": [
      "cog:timesat_extracts/h17v04/eos_value/eos_value_h17v04_2004_s1_laea_cog.tif\n",
      "cog:timesat_extracts/h17v04/eos_value/eos_value_h17v04_2005_s1_laea_cog.tif\n"
     ]
    },
    {
     "name": "stdout",
     "output_type": "stream",
     "text": [
      "cog:timesat_extracts/h17v04/eos_value/eos_value_h17v04_2006_s1_laea_cog.tif\n",
      "cog:timesat_extracts/h17v04/eos_value/eos_value_h17v04_2007_s1_laea_cog.tif\n"
     ]
    },
    {
     "name": "stdout",
     "output_type": "stream",
     "text": [
      "cog:timesat_extracts/h17v04/eos_value/eos_value_h17v04_2008_s1_laea_cog.tif\n"
     ]
    },
    {
     "name": "stdout",
     "output_type": "stream",
     "text": [
      "cog:timesat_extracts/h17v04/eos_value/eos_value_h17v04_2009_s1_laea_cog.tif\n",
      "cog:timesat_extracts/h17v04/eos_value/eos_value_h17v04_2010_s1_laea_cog.tif\n"
     ]
    },
    {
     "name": "stdout",
     "output_type": "stream",
     "text": [
      "cog:timesat_extracts/h17v04/eos_value/eos_value_h17v04_2011_s1_laea_cog.tif\n",
      "cog:timesat_extracts/h17v04/eos_value/eos_value_h17v04_2012_s1_laea_cog.tif\n"
     ]
    },
    {
     "name": "stdout",
     "output_type": "stream",
     "text": [
      "cog:timesat_extracts/h17v04/eos_value/eos_value_h17v04_2013_s1_laea_cog.tif\n",
      "cog:timesat_extracts/h17v04/eos_value/eos_value_h17v04_2014_s1_laea_cog.tif\n"
     ]
    },
    {
     "name": "stdout",
     "output_type": "stream",
     "text": [
      "cog:timesat_extracts/h17v04/eos_value/eos_value_h17v04_2015_s1_laea_cog.tif\n",
      "cog:timesat_extracts/h17v04/eos_value/eos_value_h17v04_2016_s1_laea_cog.tif\n"
     ]
    },
    {
     "name": "stdout",
     "output_type": "stream",
     "text": [
      "cog:timesat_extracts/h17v04/eos_value/eos_value_h17v04_2017_s1_laea_cog.tif\n",
      "cog:timesat_extracts/h17v04/eos_value/eos_value_h17v04_2018_s1_laea_cog.tif\n"
     ]
    },
    {
     "name": "stdout",
     "output_type": "stream",
     "text": [
      "cog:timesat_extracts/h17v04/eos_value/eos_value_h17v04_2019_s1_laea_cog.tif\n",
      "cog:timesat_extracts/h17v04/eos_value/eos_value_h17v04_2020_s1_laea_cog.tif\n"
     ]
    },
    {
     "name": "stdout",
     "output_type": "stream",
     "text": [
      "cog:timesat_extracts/h17v04/increase_rate/increase_rate_SOS_h17v04_2000_s1_laea_cog.tif\n",
      "cog:timesat_extracts/h17v04/increase_rate/increase_rate_SOS_h17v04_2001_s1_laea_cog.tif\n"
     ]
    },
    {
     "name": "stdout",
     "output_type": "stream",
     "text": [
      "cog:timesat_extracts/h17v04/increase_rate/increase_rate_SOS_h17v04_2002_s1_laea_cog.tif\n"
     ]
    },
    {
     "name": "stdout",
     "output_type": "stream",
     "text": [
      "cog:timesat_extracts/h17v04/increase_rate/increase_rate_SOS_h17v04_2003_s1_laea_cog.tif\n",
      "cog:timesat_extracts/h17v04/increase_rate/increase_rate_SOS_h17v04_2004_s1_laea_cog.tif\n"
     ]
    },
    {
     "name": "stdout",
     "output_type": "stream",
     "text": [
      "cog:timesat_extracts/h17v04/increase_rate/increase_rate_SOS_h17v04_2005_s1_laea_cog.tif\n",
      "cog:timesat_extracts/h17v04/increase_rate/increase_rate_SOS_h17v04_2006_s1_laea_cog.tif\n"
     ]
    },
    {
     "name": "stdout",
     "output_type": "stream",
     "text": [
      "cog:timesat_extracts/h17v04/increase_rate/increase_rate_SOS_h17v04_2007_s1_laea_cog.tif\n",
      "cog:timesat_extracts/h17v04/increase_rate/increase_rate_SOS_h17v04_2008_s1_laea_cog.tif\n"
     ]
    },
    {
     "name": "stdout",
     "output_type": "stream",
     "text": [
      "cog:timesat_extracts/h17v04/increase_rate/increase_rate_SOS_h17v04_2009_s1_laea_cog.tif\n",
      "cog:timesat_extracts/h17v04/increase_rate/increase_rate_SOS_h17v04_2010_s1_laea_cog.tif\n"
     ]
    },
    {
     "name": "stdout",
     "output_type": "stream",
     "text": [
      "cog:timesat_extracts/h17v04/increase_rate/increase_rate_SOS_h17v04_2011_s1_laea_cog.tif\n",
      "cog:timesat_extracts/h17v04/increase_rate/increase_rate_SOS_h17v04_2012_s1_laea_cog.tif\n"
     ]
    },
    {
     "name": "stdout",
     "output_type": "stream",
     "text": [
      "cog:timesat_extracts/h17v04/increase_rate/increase_rate_SOS_h17v04_2013_s1_laea_cog.tif\n",
      "cog:timesat_extracts/h17v04/increase_rate/increase_rate_SOS_h17v04_2014_s1_laea_cog.tif\n"
     ]
    },
    {
     "name": "stdout",
     "output_type": "stream",
     "text": [
      "cog:timesat_extracts/h17v04/increase_rate/increase_rate_SOS_h17v04_2015_s1_laea_cog.tif\n",
      "cog:timesat_extracts/h17v04/increase_rate/increase_rate_SOS_h17v04_2016_s1_laea_cog.tif\n"
     ]
    },
    {
     "name": "stdout",
     "output_type": "stream",
     "text": [
      "cog:timesat_extracts/h17v04/increase_rate/increase_rate_SOS_h17v04_2017_s1_laea_cog.tif\n",
      "cog:timesat_extracts/h17v04/increase_rate/increase_rate_SOS_h17v04_2018_s1_laea_cog.tif\n"
     ]
    },
    {
     "name": "stdout",
     "output_type": "stream",
     "text": [
      "cog:timesat_extracts/h17v04/increase_rate/increase_rate_SOS_h17v04_2019_s1_laea_cog.tif\n",
      "cog:timesat_extracts/h17v04/increase_rate/increase_rate_SOS_h17v04_2020_s1_laea_cog.tif\n"
     ]
    },
    {
     "name": "stdout",
     "output_type": "stream",
     "text": [
      "cog:timesat_extracts/h17v04/length_of_season/los_h17v04_2000_s1_laea_cog.tif\n",
      "cog:timesat_extracts/h17v04/length_of_season/los_h17v04_2001_s1_laea_cog.tif\n"
     ]
    },
    {
     "name": "stdout",
     "output_type": "stream",
     "text": [
      "cog:timesat_extracts/h17v04/length_of_season/los_h17v04_2002_s1_laea_cog.tif\n",
      "cog:timesat_extracts/h17v04/length_of_season/los_h17v04_2003_s1_laea_cog.tif\n"
     ]
    },
    {
     "name": "stdout",
     "output_type": "stream",
     "text": [
      "cog:timesat_extracts/h17v04/length_of_season/los_h17v04_2004_s1_laea_cog.tif\n",
      "cog:timesat_extracts/h17v04/length_of_season/los_h17v04_2005_s1_laea_cog.tif\n"
     ]
    },
    {
     "name": "stdout",
     "output_type": "stream",
     "text": [
      "cog:timesat_extracts/h17v04/length_of_season/los_h17v04_2006_s1_laea_cog.tif\n",
      "cog:timesat_extracts/h17v04/length_of_season/los_h17v04_2007_s1_laea_cog.tif\n"
     ]
    },
    {
     "name": "stdout",
     "output_type": "stream",
     "text": [
      "cog:timesat_extracts/h17v04/length_of_season/los_h17v04_2008_s1_laea_cog.tif\n",
      "cog:timesat_extracts/h17v04/length_of_season/los_h17v04_2009_s1_laea_cog.tif\n"
     ]
    },
    {
     "name": "stdout",
     "output_type": "stream",
     "text": [
      "cog:timesat_extracts/h17v04/length_of_season/los_h17v04_2010_s1_laea_cog.tif\n",
      "cog:timesat_extracts/h17v04/length_of_season/los_h17v04_2011_s1_laea_cog.tif\n"
     ]
    },
    {
     "name": "stdout",
     "output_type": "stream",
     "text": [
      "cog:timesat_extracts/h17v04/length_of_season/los_h17v04_2012_s1_laea_cog.tif\n",
      "cog:timesat_extracts/h17v04/length_of_season/los_h17v04_2013_s1_laea_cog.tif\n"
     ]
    },
    {
     "name": "stdout",
     "output_type": "stream",
     "text": [
      "cog:timesat_extracts/h17v04/length_of_season/los_h17v04_2014_s1_laea_cog.tif\n",
      "cog:timesat_extracts/h17v04/length_of_season/los_h17v04_2015_s1_laea_cog.tif\n"
     ]
    },
    {
     "name": "stdout",
     "output_type": "stream",
     "text": [
      "cog:timesat_extracts/h17v04/length_of_season/los_h17v04_2016_s1_laea_cog.tif\n",
      "cog:timesat_extracts/h17v04/length_of_season/los_h17v04_2017_s1_laea_cog.tif\n"
     ]
    },
    {
     "name": "stdout",
     "output_type": "stream",
     "text": [
      "cog:timesat_extracts/h17v04/length_of_season/los_h17v04_2018_s1_laea_cog.tif\n",
      "cog:timesat_extracts/h17v04/length_of_season/los_h17v04_2019_s1_laea_cog.tif\n"
     ]
    },
    {
     "name": "stdout",
     "output_type": "stream",
     "text": [
      "cog:timesat_extracts/h17v04/length_of_season/los_h17v04_2020_s1_laea_cog.tif\n",
      "cog:timesat_extracts/h17v04/seasonal_amplitude/s_amplitude_h17v04_2000_s1_laea_cog.tif\n"
     ]
    },
    {
     "name": "stdout",
     "output_type": "stream",
     "text": [
      "cog:timesat_extracts/h17v04/seasonal_amplitude/s_amplitude_h17v04_2001_s1_laea_cog.tif\n",
      "cog:timesat_extracts/h17v04/seasonal_amplitude/s_amplitude_h17v04_2002_s1_laea_cog.tif\n"
     ]
    },
    {
     "name": "stdout",
     "output_type": "stream",
     "text": [
      "cog:timesat_extracts/h17v04/seasonal_amplitude/s_amplitude_h17v04_2003_s1_laea_cog.tif\n",
      "cog:timesat_extracts/h17v04/seasonal_amplitude/s_amplitude_h17v04_2004_s1_laea_cog.tif\n"
     ]
    },
    {
     "name": "stdout",
     "output_type": "stream",
     "text": [
      "cog:timesat_extracts/h17v04/seasonal_amplitude/s_amplitude_h17v04_2005_s1_laea_cog.tif\n",
      "cog:timesat_extracts/h17v04/seasonal_amplitude/s_amplitude_h17v04_2006_s1_laea_cog.tif\n"
     ]
    },
    {
     "name": "stdout",
     "output_type": "stream",
     "text": [
      "cog:timesat_extracts/h17v04/seasonal_amplitude/s_amplitude_h17v04_2007_s1_laea_cog.tif\n",
      "cog:timesat_extracts/h17v04/seasonal_amplitude/s_amplitude_h17v04_2008_s1_laea_cog.tif\n"
     ]
    },
    {
     "name": "stdout",
     "output_type": "stream",
     "text": [
      "cog:timesat_extracts/h17v04/seasonal_amplitude/s_amplitude_h17v04_2009_s1_laea_cog.tif\n",
      "cog:timesat_extracts/h17v04/seasonal_amplitude/s_amplitude_h17v04_2010_s1_laea_cog.tif\n"
     ]
    },
    {
     "name": "stdout",
     "output_type": "stream",
     "text": [
      "cog:timesat_extracts/h17v04/seasonal_amplitude/s_amplitude_h17v04_2011_s1_laea_cog.tif\n",
      "cog:timesat_extracts/h17v04/seasonal_amplitude/s_amplitude_h17v04_2012_s1_laea_cog.tif\n"
     ]
    },
    {
     "name": "stdout",
     "output_type": "stream",
     "text": [
      "cog:timesat_extracts/h17v04/seasonal_amplitude/s_amplitude_h17v04_2013_s1_laea_cog.tif\n",
      "cog:timesat_extracts/h17v04/seasonal_amplitude/s_amplitude_h17v04_2014_s1_laea_cog.tif\n"
     ]
    },
    {
     "name": "stdout",
     "output_type": "stream",
     "text": [
      "cog:timesat_extracts/h17v04/seasonal_amplitude/s_amplitude_h17v04_2015_s1_laea_cog.tif\n"
     ]
    },
    {
     "name": "stdout",
     "output_type": "stream",
     "text": [
      "cog:timesat_extracts/h17v04/seasonal_amplitude/s_amplitude_h17v04_2016_s1_laea_cog.tif\n",
      "cog:timesat_extracts/h17v04/seasonal_amplitude/s_amplitude_h17v04_2017_s1_laea_cog.tif\n"
     ]
    },
    {
     "name": "stdout",
     "output_type": "stream",
     "text": [
      "cog:timesat_extracts/h17v04/seasonal_amplitude/s_amplitude_h17v04_2018_s1_laea_cog.tif\n",
      "cog:timesat_extracts/h17v04/seasonal_amplitude/s_amplitude_h17v04_2019_s1_laea_cog.tif\n"
     ]
    },
    {
     "name": "stdout",
     "output_type": "stream",
     "text": [
      "cog:timesat_extracts/h17v04/seasonal_amplitude/s_amplitude_h17v04_2020_s1_laea_cog.tif\n",
      "cog:timesat_extracts/h17v04/sos/sos_h17v04_2000_s1_laea_cog.tif\n"
     ]
    },
    {
     "name": "stdout",
     "output_type": "stream",
     "text": [
      "cog:timesat_extracts/h17v04/sos/sos_h17v04_2001_s1_laea_cog.tif\n",
      "cog:timesat_extracts/h17v04/sos/sos_h17v04_2002_s1_laea_cog.tif\n"
     ]
    },
    {
     "name": "stdout",
     "output_type": "stream",
     "text": [
      "cog:timesat_extracts/h17v04/sos/sos_h17v04_2003_s1_laea_cog.tif\n",
      "cog:timesat_extracts/h17v04/sos/sos_h17v04_2004_s1_laea_cog.tif\n"
     ]
    },
    {
     "name": "stdout",
     "output_type": "stream",
     "text": [
      "cog:timesat_extracts/h17v04/sos/sos_h17v04_2005_s1_laea_cog.tif\n",
      "cog:timesat_extracts/h17v04/sos/sos_h17v04_2006_s1_laea_cog.tif\n"
     ]
    },
    {
     "name": "stdout",
     "output_type": "stream",
     "text": [
      "cog:timesat_extracts/h17v04/sos/sos_h17v04_2007_s1_laea_cog.tif\n",
      "cog:timesat_extracts/h17v04/sos/sos_h17v04_2008_s1_laea_cog.tif\n"
     ]
    },
    {
     "name": "stdout",
     "output_type": "stream",
     "text": [
      "cog:timesat_extracts/h17v04/sos/sos_h17v04_2009_s1_laea_cog.tif\n",
      "cog:timesat_extracts/h17v04/sos/sos_h17v04_2010_s1_laea_cog.tif\n"
     ]
    },
    {
     "name": "stdout",
     "output_type": "stream",
     "text": [
      "cog:timesat_extracts/h17v04/sos/sos_h17v04_2011_s1_laea_cog.tif\n",
      "cog:timesat_extracts/h17v04/sos/sos_h17v04_2012_s1_laea_cog.tif\n"
     ]
    },
    {
     "name": "stdout",
     "output_type": "stream",
     "text": [
      "cog:timesat_extracts/h17v04/sos/sos_h17v04_2013_s1_laea_cog.tif\n",
      "cog:timesat_extracts/h17v04/sos/sos_h17v04_2014_s1_laea_cog.tif\n"
     ]
    },
    {
     "name": "stdout",
     "output_type": "stream",
     "text": [
      "cog:timesat_extracts/h17v04/sos/sos_h17v04_2015_s1_laea_cog.tif\n",
      "cog:timesat_extracts/h17v04/sos/sos_h17v04_2016_s1_laea_cog.tif\n"
     ]
    },
    {
     "name": "stdout",
     "output_type": "stream",
     "text": [
      "cog:timesat_extracts/h17v04/sos/sos_h17v04_2017_s1_laea_cog.tif\n",
      "cog:timesat_extracts/h17v04/sos/sos_h17v04_2018_s1_laea_cog.tif\n"
     ]
    },
    {
     "name": "stdout",
     "output_type": "stream",
     "text": [
      "cog:timesat_extracts/h17v04/sos/sos_h17v04_2019_s1_laea_cog.tif\n",
      "cog:timesat_extracts/h17v04/sos/sos_h17v04_2020_s1_laea_cog.tif\n"
     ]
    },
    {
     "name": "stdout",
     "output_type": "stream",
     "text": [
      "cog:timesat_extracts/h17v04/sos_value/sos_value_h17v04_2000_s1_laea_cog.tif\n",
      "cog:timesat_extracts/h17v04/sos_value/sos_value_h17v04_2001_s1_laea_cog.tif\n"
     ]
    },
    {
     "name": "stdout",
     "output_type": "stream",
     "text": [
      "cog:timesat_extracts/h17v04/sos_value/sos_value_h17v04_2002_s1_laea_cog.tif\n",
      "cog:timesat_extracts/h17v04/sos_value/sos_value_h17v04_2003_s1_laea_cog.tif\n"
     ]
    },
    {
     "name": "stdout",
     "output_type": "stream",
     "text": [
      "cog:timesat_extracts/h17v04/sos_value/sos_value_h17v04_2004_s1_laea_cog.tif\n",
      "cog:timesat_extracts/h17v04/sos_value/sos_value_h17v04_2005_s1_laea_cog.tif\n"
     ]
    },
    {
     "name": "stdout",
     "output_type": "stream",
     "text": [
      "cog:timesat_extracts/h17v04/sos_value/sos_value_h17v04_2006_s1_laea_cog.tif\n",
      "cog:timesat_extracts/h17v04/sos_value/sos_value_h17v04_2007_s1_laea_cog.tif\n"
     ]
    },
    {
     "name": "stdout",
     "output_type": "stream",
     "text": [
      "cog:timesat_extracts/h17v04/sos_value/sos_value_h17v04_2008_s1_laea_cog.tif\n"
     ]
    },
    {
     "name": "stdout",
     "output_type": "stream",
     "text": [
      "cog:timesat_extracts/h17v04/sos_value/sos_value_h17v04_2009_s1_laea_cog.tif\n",
      "cog:timesat_extracts/h17v04/sos_value/sos_value_h17v04_2010_s1_laea_cog.tif\n"
     ]
    },
    {
     "name": "stdout",
     "output_type": "stream",
     "text": [
      "cog:timesat_extracts/h17v04/sos_value/sos_value_h17v04_2011_s1_laea_cog.tif\n",
      "cog:timesat_extracts/h17v04/sos_value/sos_value_h17v04_2012_s1_laea_cog.tif\n"
     ]
    },
    {
     "name": "stdout",
     "output_type": "stream",
     "text": [
      "cog:timesat_extracts/h17v04/sos_value/sos_value_h17v04_2013_s1_laea_cog.tif\n"
     ]
    },
    {
     "name": "stdout",
     "output_type": "stream",
     "text": [
      "cog:timesat_extracts/h17v04/sos_value/sos_value_h17v04_2014_s1_laea_cog.tif\n",
      "cog:timesat_extracts/h17v04/sos_value/sos_value_h17v04_2015_s1_laea_cog.tif\n"
     ]
    },
    {
     "name": "stdout",
     "output_type": "stream",
     "text": [
      "cog:timesat_extracts/h17v04/sos_value/sos_value_h17v04_2016_s1_laea_cog.tif\n",
      "cog:timesat_extracts/h17v04/sos_value/sos_value_h17v04_2017_s1_laea_cog.tif\n"
     ]
    },
    {
     "name": "stdout",
     "output_type": "stream",
     "text": [
      "cog:timesat_extracts/h17v04/sos_value/sos_value_h17v04_2018_s1_laea_cog.tif\n",
      "cog:timesat_extracts/h17v04/sos_value/sos_value_h17v04_2019_s1_laea_cog.tif\n"
     ]
    },
    {
     "name": "stdout",
     "output_type": "stream",
     "text": [
      "cog:timesat_extracts/h17v04/sos_value/sos_value_h17v04_2020_s1_laea_cog.tif\n",
      "cog:timesat_extracts/h17v05/LINT/LINT_h17v05_2000_s1_laea_cog.tif\n"
     ]
    },
    {
     "name": "stdout",
     "output_type": "stream",
     "text": [
      "cog:timesat_extracts/h17v05/LINT/LINT_h17v05_2001_s1_laea_cog.tif\n"
     ]
    },
    {
     "name": "stdout",
     "output_type": "stream",
     "text": [
      "cog:timesat_extracts/h17v05/LINT/LINT_h17v05_2002_s1_laea_cog.tif\n"
     ]
    },
    {
     "name": "stdout",
     "output_type": "stream",
     "text": [
      "cog:timesat_extracts/h17v05/LINT/LINT_h17v05_2003_s1_laea_cog.tif\n"
     ]
    },
    {
     "name": "stdout",
     "output_type": "stream",
     "text": [
      "cog:timesat_extracts/h17v05/LINT/LINT_h17v05_2004_s1_laea_cog.tif\n"
     ]
    },
    {
     "name": "stdout",
     "output_type": "stream",
     "text": [
      "cog:timesat_extracts/h17v05/LINT/LINT_h17v05_2005_s1_laea_cog.tif\n"
     ]
    },
    {
     "name": "stdout",
     "output_type": "stream",
     "text": [
      "cog:timesat_extracts/h17v05/LINT/LINT_h17v05_2006_s1_laea_cog.tif\n"
     ]
    },
    {
     "name": "stdout",
     "output_type": "stream",
     "text": [
      "cog:timesat_extracts/h17v05/LINT/LINT_h17v05_2007_s1_laea_cog.tif\n",
      "cog:timesat_extracts/h17v05/LINT/LINT_h17v05_2008_s1_laea_cog.tif\n"
     ]
    },
    {
     "name": "stdout",
     "output_type": "stream",
     "text": [
      "cog:timesat_extracts/h17v05/LINT/LINT_h17v05_2009_s1_laea_cog.tif\n"
     ]
    },
    {
     "name": "stdout",
     "output_type": "stream",
     "text": [
      "cog:timesat_extracts/h17v05/LINT/LINT_h17v05_2010_s1_laea_cog.tif\n"
     ]
    },
    {
     "name": "stdout",
     "output_type": "stream",
     "text": [
      "cog:timesat_extracts/h17v05/LINT/LINT_h17v05_2011_s1_laea_cog.tif\n"
     ]
    },
    {
     "name": "stdout",
     "output_type": "stream",
     "text": [
      "cog:timesat_extracts/h17v05/LINT/LINT_h17v05_2012_s1_laea_cog.tif\n"
     ]
    },
    {
     "name": "stdout",
     "output_type": "stream",
     "text": [
      "cog:timesat_extracts/h17v05/LINT/LINT_h17v05_2013_s1_laea_cog.tif\n"
     ]
    },
    {
     "name": "stdout",
     "output_type": "stream",
     "text": [
      "cog:timesat_extracts/h17v05/LINT/LINT_h17v05_2014_s1_laea_cog.tif\n"
     ]
    },
    {
     "name": "stdout",
     "output_type": "stream",
     "text": [
      "cog:timesat_extracts/h17v05/LINT/LINT_h17v05_2015_s1_laea_cog.tif\n"
     ]
    },
    {
     "name": "stdout",
     "output_type": "stream",
     "text": [
      "cog:timesat_extracts/h17v05/LINT/LINT_h17v05_2016_s1_laea_cog.tif\n"
     ]
    },
    {
     "name": "stdout",
     "output_type": "stream",
     "text": [
      "cog:timesat_extracts/h17v05/LINT/LINT_h17v05_2017_s1_laea_cog.tif\n"
     ]
    },
    {
     "name": "stdout",
     "output_type": "stream",
     "text": [
      "cog:timesat_extracts/h17v05/LINT/LINT_h17v05_2018_s1_laea_cog.tif\n"
     ]
    },
    {
     "name": "stdout",
     "output_type": "stream",
     "text": [
      "cog:timesat_extracts/h17v05/LINT/LINT_h17v05_2019_s1_laea_cog.tif\n"
     ]
    },
    {
     "name": "stdout",
     "output_type": "stream",
     "text": [
      "cog:timesat_extracts/h17v05/LINT/LINT_h17v05_2020_s1_laea_cog.tif\n"
     ]
    },
    {
     "name": "stdout",
     "output_type": "stream",
     "text": [
      "cog:timesat_extracts/h17v05/SINT/SINT_h17v05_2000_s1_laea_cog.tif\n"
     ]
    },
    {
     "name": "stdout",
     "output_type": "stream",
     "text": [
      "cog:timesat_extracts/h17v05/SINT/SINT_h17v05_2001_s1_laea_cog.tif\n"
     ]
    },
    {
     "name": "stdout",
     "output_type": "stream",
     "text": [
      "cog:timesat_extracts/h17v05/SINT/SINT_h17v05_2002_s1_laea_cog.tif\n"
     ]
    },
    {
     "name": "stdout",
     "output_type": "stream",
     "text": [
      "cog:timesat_extracts/h17v05/SINT/SINT_h17v05_2003_s1_laea_cog.tif\n"
     ]
    },
    {
     "name": "stdout",
     "output_type": "stream",
     "text": [
      "cog:timesat_extracts/h17v05/SINT/SINT_h17v05_2004_s1_laea_cog.tif\n"
     ]
    },
    {
     "name": "stdout",
     "output_type": "stream",
     "text": [
      "cog:timesat_extracts/h17v05/SINT/SINT_h17v05_2005_s1_laea_cog.tif\n"
     ]
    },
    {
     "name": "stdout",
     "output_type": "stream",
     "text": [
      "cog:timesat_extracts/h17v05/SINT/SINT_h17v05_2006_s1_laea_cog.tif\n",
      "cog:timesat_extracts/h17v05/SINT/SINT_h17v05_2007_s1_laea_cog.tif\n"
     ]
    },
    {
     "name": "stdout",
     "output_type": "stream",
     "text": [
      "cog:timesat_extracts/h17v05/SINT/SINT_h17v05_2008_s1_laea_cog.tif\n"
     ]
    },
    {
     "name": "stdout",
     "output_type": "stream",
     "text": [
      "cog:timesat_extracts/h17v05/SINT/SINT_h17v05_2009_s1_laea_cog.tif\n"
     ]
    },
    {
     "name": "stdout",
     "output_type": "stream",
     "text": [
      "cog:timesat_extracts/h17v05/SINT/SINT_h17v05_2010_s1_laea_cog.tif\n"
     ]
    },
    {
     "name": "stdout",
     "output_type": "stream",
     "text": [
      "cog:timesat_extracts/h17v05/SINT/SINT_h17v05_2011_s1_laea_cog.tif\n"
     ]
    },
    {
     "name": "stdout",
     "output_type": "stream",
     "text": [
      "cog:timesat_extracts/h17v05/SINT/SINT_h17v05_2012_s1_laea_cog.tif\n"
     ]
    },
    {
     "name": "stdout",
     "output_type": "stream",
     "text": [
      "cog:timesat_extracts/h17v05/SINT/SINT_h17v05_2013_s1_laea_cog.tif\n"
     ]
    },
    {
     "name": "stdout",
     "output_type": "stream",
     "text": [
      "cog:timesat_extracts/h17v05/SINT/SINT_h17v05_2014_s1_laea_cog.tif\n"
     ]
    },
    {
     "name": "stdout",
     "output_type": "stream",
     "text": [
      "cog:timesat_extracts/h17v05/SINT/SINT_h17v05_2015_s1_laea_cog.tif\n"
     ]
    },
    {
     "name": "stdout",
     "output_type": "stream",
     "text": [
      "cog:timesat_extracts/h17v05/SINT/SINT_h17v05_2016_s1_laea_cog.tif\n"
     ]
    },
    {
     "name": "stdout",
     "output_type": "stream",
     "text": [
      "cog:timesat_extracts/h17v05/SINT/SINT_h17v05_2017_s1_laea_cog.tif\n"
     ]
    },
    {
     "name": "stdout",
     "output_type": "stream",
     "text": [
      "cog:timesat_extracts/h17v05/SINT/SINT_h17v05_2018_s1_laea_cog.tif\n"
     ]
    },
    {
     "name": "stdout",
     "output_type": "stream",
     "text": [
      "cog:timesat_extracts/h17v05/SINT/SINT_h17v05_2019_s1_laea_cog.tif\n"
     ]
    },
    {
     "name": "stdout",
     "output_type": "stream",
     "text": [
      "cog:timesat_extracts/h17v05/SINT/SINT_h17v05_2020_s1_laea_cog.tif\n"
     ]
    },
    {
     "name": "stdout",
     "output_type": "stream",
     "text": [
      "cog:timesat_extracts/h17v05/decrease_rate/decrease_rate_EOS_h17v05_2000_s1_laea_cog.tif\n"
     ]
    },
    {
     "name": "stdout",
     "output_type": "stream",
     "text": [
      "cog:timesat_extracts/h17v05/decrease_rate/decrease_rate_EOS_h17v05_2001_s1_laea_cog.tif\n",
      "cog:timesat_extracts/h17v05/decrease_rate/decrease_rate_EOS_h17v05_2002_s1_laea_cog.tif\n"
     ]
    },
    {
     "name": "stdout",
     "output_type": "stream",
     "text": [
      "cog:timesat_extracts/h17v05/decrease_rate/decrease_rate_EOS_h17v05_2003_s1_laea_cog.tif\n",
      "cog:timesat_extracts/h17v05/decrease_rate/decrease_rate_EOS_h17v05_2004_s1_laea_cog.tif\n"
     ]
    },
    {
     "name": "stdout",
     "output_type": "stream",
     "text": [
      "cog:timesat_extracts/h17v05/decrease_rate/decrease_rate_EOS_h17v05_2005_s1_laea_cog.tif\n"
     ]
    },
    {
     "name": "stdout",
     "output_type": "stream",
     "text": [
      "cog:timesat_extracts/h17v05/decrease_rate/decrease_rate_EOS_h17v05_2006_s1_laea_cog.tif\n"
     ]
    },
    {
     "name": "stdout",
     "output_type": "stream",
     "text": [
      "cog:timesat_extracts/h17v05/decrease_rate/decrease_rate_EOS_h17v05_2007_s1_laea_cog.tif\n"
     ]
    },
    {
     "name": "stdout",
     "output_type": "stream",
     "text": [
      "cog:timesat_extracts/h17v05/decrease_rate/decrease_rate_EOS_h17v05_2008_s1_laea_cog.tif\n"
     ]
    },
    {
     "name": "stdout",
     "output_type": "stream",
     "text": [
      "cog:timesat_extracts/h17v05/decrease_rate/decrease_rate_EOS_h17v05_2009_s1_laea_cog.tif\n"
     ]
    },
    {
     "name": "stdout",
     "output_type": "stream",
     "text": [
      "cog:timesat_extracts/h17v05/decrease_rate/decrease_rate_EOS_h17v05_2010_s1_laea_cog.tif\n"
     ]
    },
    {
     "name": "stdout",
     "output_type": "stream",
     "text": [
      "cog:timesat_extracts/h17v05/decrease_rate/decrease_rate_EOS_h17v05_2011_s1_laea_cog.tif\n"
     ]
    },
    {
     "name": "stdout",
     "output_type": "stream",
     "text": [
      "cog:timesat_extracts/h17v05/decrease_rate/decrease_rate_EOS_h17v05_2012_s1_laea_cog.tif\n"
     ]
    },
    {
     "name": "stdout",
     "output_type": "stream",
     "text": [
      "cog:timesat_extracts/h17v05/decrease_rate/decrease_rate_EOS_h17v05_2013_s1_laea_cog.tif\n"
     ]
    },
    {
     "name": "stdout",
     "output_type": "stream",
     "text": [
      "cog:timesat_extracts/h17v05/decrease_rate/decrease_rate_EOS_h17v05_2014_s1_laea_cog.tif\n"
     ]
    },
    {
     "name": "stdout",
     "output_type": "stream",
     "text": [
      "cog:timesat_extracts/h17v05/decrease_rate/decrease_rate_EOS_h17v05_2015_s1_laea_cog.tif\n"
     ]
    },
    {
     "name": "stdout",
     "output_type": "stream",
     "text": [
      "cog:timesat_extracts/h17v05/decrease_rate/decrease_rate_EOS_h17v05_2016_s1_laea_cog.tif\n"
     ]
    },
    {
     "name": "stdout",
     "output_type": "stream",
     "text": [
      "cog:timesat_extracts/h17v05/decrease_rate/decrease_rate_EOS_h17v05_2017_s1_laea_cog.tif\n"
     ]
    },
    {
     "name": "stdout",
     "output_type": "stream",
     "text": [
      "cog:timesat_extracts/h17v05/decrease_rate/decrease_rate_EOS_h17v05_2018_s1_laea_cog.tif\n"
     ]
    },
    {
     "name": "stdout",
     "output_type": "stream",
     "text": [
      "cog:timesat_extracts/h17v05/decrease_rate/decrease_rate_EOS_h17v05_2019_s1_laea_cog.tif\n"
     ]
    },
    {
     "name": "stdout",
     "output_type": "stream",
     "text": [
      "cog:timesat_extracts/h17v05/decrease_rate/decrease_rate_EOS_h17v05_2020_s1_laea_cog.tif\n"
     ]
    },
    {
     "name": "stdout",
     "output_type": "stream",
     "text": [
      "cog:timesat_extracts/h17v05/eos/eos_h17v05_2000_s1_laea_cog.tif\n",
      "cog:timesat_extracts/h17v05/eos/eos_h17v05_2001_s1_laea_cog.tif\n"
     ]
    },
    {
     "name": "stdout",
     "output_type": "stream",
     "text": [
      "cog:timesat_extracts/h17v05/eos/eos_h17v05_2002_s1_laea_cog.tif\n",
      "cog:timesat_extracts/h17v05/eos/eos_h17v05_2003_s1_laea_cog.tif\n"
     ]
    },
    {
     "name": "stdout",
     "output_type": "stream",
     "text": [
      "cog:timesat_extracts/h17v05/eos/eos_h17v05_2004_s1_laea_cog.tif\n",
      "cog:timesat_extracts/h17v05/eos/eos_h17v05_2005_s1_laea_cog.tif\n"
     ]
    },
    {
     "name": "stdout",
     "output_type": "stream",
     "text": [
      "cog:timesat_extracts/h17v05/eos/eos_h17v05_2006_s1_laea_cog.tif\n",
      "cog:timesat_extracts/h17v05/eos/eos_h17v05_2007_s1_laea_cog.tif\n"
     ]
    },
    {
     "name": "stdout",
     "output_type": "stream",
     "text": [
      "cog:timesat_extracts/h17v05/eos/eos_h17v05_2008_s1_laea_cog.tif\n",
      "cog:timesat_extracts/h17v05/eos/eos_h17v05_2009_s1_laea_cog.tif\n"
     ]
    },
    {
     "name": "stdout",
     "output_type": "stream",
     "text": [
      "cog:timesat_extracts/h17v05/eos/eos_h17v05_2010_s1_laea_cog.tif\n",
      "cog:timesat_extracts/h17v05/eos/eos_h17v05_2011_s1_laea_cog.tif\n"
     ]
    },
    {
     "name": "stdout",
     "output_type": "stream",
     "text": [
      "cog:timesat_extracts/h17v05/eos/eos_h17v05_2012_s1_laea_cog.tif\n",
      "cog:timesat_extracts/h17v05/eos/eos_h17v05_2013_s1_laea_cog.tif\n"
     ]
    },
    {
     "name": "stdout",
     "output_type": "stream",
     "text": [
      "cog:timesat_extracts/h17v05/eos/eos_h17v05_2014_s1_laea_cog.tif\n",
      "cog:timesat_extracts/h17v05/eos/eos_h17v05_2015_s1_laea_cog.tif\n"
     ]
    },
    {
     "name": "stdout",
     "output_type": "stream",
     "text": [
      "cog:timesat_extracts/h17v05/eos/eos_h17v05_2016_s1_laea_cog.tif\n",
      "cog:timesat_extracts/h17v05/eos/eos_h17v05_2017_s1_laea_cog.tif\n"
     ]
    },
    {
     "name": "stdout",
     "output_type": "stream",
     "text": [
      "cog:timesat_extracts/h17v05/eos/eos_h17v05_2018_s1_laea_cog.tif\n",
      "cog:timesat_extracts/h17v05/eos/eos_h17v05_2019_s1_laea_cog.tif\n"
     ]
    },
    {
     "name": "stdout",
     "output_type": "stream",
     "text": [
      "cog:timesat_extracts/h17v05/eos/eos_h17v05_2020_s1_laea_cog.tif\n",
      "cog:timesat_extracts/h17v05/eos_value/eos_value_h17v05_2000_s1_laea_cog.tif\n"
     ]
    },
    {
     "name": "stdout",
     "output_type": "stream",
     "text": [
      "cog:timesat_extracts/h17v05/eos_value/eos_value_h17v05_2001_s1_laea_cog.tif\n"
     ]
    },
    {
     "name": "stdout",
     "output_type": "stream",
     "text": [
      "cog:timesat_extracts/h17v05/eos_value/eos_value_h17v05_2002_s1_laea_cog.tif\n"
     ]
    },
    {
     "name": "stdout",
     "output_type": "stream",
     "text": [
      "cog:timesat_extracts/h17v05/eos_value/eos_value_h17v05_2003_s1_laea_cog.tif\n"
     ]
    },
    {
     "name": "stdout",
     "output_type": "stream",
     "text": [
      "cog:timesat_extracts/h17v05/eos_value/eos_value_h17v05_2004_s1_laea_cog.tif\n"
     ]
    },
    {
     "name": "stdout",
     "output_type": "stream",
     "text": [
      "cog:timesat_extracts/h17v05/eos_value/eos_value_h17v05_2005_s1_laea_cog.tif\n"
     ]
    },
    {
     "name": "stdout",
     "output_type": "stream",
     "text": [
      "cog:timesat_extracts/h17v05/eos_value/eos_value_h17v05_2006_s1_laea_cog.tif\n"
     ]
    },
    {
     "name": "stdout",
     "output_type": "stream",
     "text": [
      "cog:timesat_extracts/h17v05/eos_value/eos_value_h17v05_2007_s1_laea_cog.tif\n"
     ]
    },
    {
     "name": "stdout",
     "output_type": "stream",
     "text": [
      "cog:timesat_extracts/h17v05/eos_value/eos_value_h17v05_2008_s1_laea_cog.tif\n",
      "cog:timesat_extracts/h17v05/eos_value/eos_value_h17v05_2009_s1_laea_cog.tif\n"
     ]
    },
    {
     "name": "stdout",
     "output_type": "stream",
     "text": [
      "cog:timesat_extracts/h17v05/eos_value/eos_value_h17v05_2010_s1_laea_cog.tif\n"
     ]
    },
    {
     "name": "stdout",
     "output_type": "stream",
     "text": [
      "cog:timesat_extracts/h17v05/eos_value/eos_value_h17v05_2011_s1_laea_cog.tif\n"
     ]
    },
    {
     "name": "stdout",
     "output_type": "stream",
     "text": [
      "cog:timesat_extracts/h17v05/eos_value/eos_value_h17v05_2012_s1_laea_cog.tif\n"
     ]
    },
    {
     "name": "stdout",
     "output_type": "stream",
     "text": [
      "cog:timesat_extracts/h17v05/eos_value/eos_value_h17v05_2013_s1_laea_cog.tif\n"
     ]
    },
    {
     "name": "stdout",
     "output_type": "stream",
     "text": [
      "cog:timesat_extracts/h17v05/eos_value/eos_value_h17v05_2014_s1_laea_cog.tif\n"
     ]
    },
    {
     "name": "stdout",
     "output_type": "stream",
     "text": [
      "cog:timesat_extracts/h17v05/eos_value/eos_value_h17v05_2015_s1_laea_cog.tif\n"
     ]
    },
    {
     "name": "stdout",
     "output_type": "stream",
     "text": [
      "cog:timesat_extracts/h17v05/eos_value/eos_value_h17v05_2016_s1_laea_cog.tif\n"
     ]
    },
    {
     "name": "stdout",
     "output_type": "stream",
     "text": [
      "cog:timesat_extracts/h17v05/eos_value/eos_value_h17v05_2017_s1_laea_cog.tif\n"
     ]
    },
    {
     "name": "stdout",
     "output_type": "stream",
     "text": [
      "cog:timesat_extracts/h17v05/eos_value/eos_value_h17v05_2018_s1_laea_cog.tif\n",
      "cog:timesat_extracts/h17v05/eos_value/eos_value_h17v05_2019_s1_laea_cog.tif\n"
     ]
    },
    {
     "name": "stdout",
     "output_type": "stream",
     "text": [
      "cog:timesat_extracts/h17v05/eos_value/eos_value_h17v05_2020_s1_laea_cog.tif\n"
     ]
    },
    {
     "name": "stdout",
     "output_type": "stream",
     "text": [
      "cog:timesat_extracts/h17v05/increase_rate/increase_rate_SOS_h17v05_2000_s1_laea_cog.tif\n"
     ]
    },
    {
     "name": "stdout",
     "output_type": "stream",
     "text": [
      "cog:timesat_extracts/h17v05/increase_rate/increase_rate_SOS_h17v05_2001_s1_laea_cog.tif\n"
     ]
    },
    {
     "name": "stdout",
     "output_type": "stream",
     "text": [
      "cog:timesat_extracts/h17v05/increase_rate/increase_rate_SOS_h17v05_2002_s1_laea_cog.tif\n"
     ]
    },
    {
     "name": "stdout",
     "output_type": "stream",
     "text": [
      "cog:timesat_extracts/h17v05/increase_rate/increase_rate_SOS_h17v05_2003_s1_laea_cog.tif\n"
     ]
    },
    {
     "name": "stdout",
     "output_type": "stream",
     "text": [
      "cog:timesat_extracts/h17v05/increase_rate/increase_rate_SOS_h17v05_2004_s1_laea_cog.tif\n",
      "cog:timesat_extracts/h17v05/increase_rate/increase_rate_SOS_h17v05_2005_s1_laea_cog.tif\n"
     ]
    },
    {
     "name": "stdout",
     "output_type": "stream",
     "text": [
      "cog:timesat_extracts/h17v05/increase_rate/increase_rate_SOS_h17v05_2006_s1_laea_cog.tif\n"
     ]
    },
    {
     "name": "stdout",
     "output_type": "stream",
     "text": [
      "cog:timesat_extracts/h17v05/increase_rate/increase_rate_SOS_h17v05_2007_s1_laea_cog.tif\n"
     ]
    },
    {
     "name": "stdout",
     "output_type": "stream",
     "text": [
      "cog:timesat_extracts/h17v05/increase_rate/increase_rate_SOS_h17v05_2008_s1_laea_cog.tif\n"
     ]
    },
    {
     "name": "stdout",
     "output_type": "stream",
     "text": [
      "cog:timesat_extracts/h17v05/increase_rate/increase_rate_SOS_h17v05_2009_s1_laea_cog.tif\n"
     ]
    },
    {
     "name": "stdout",
     "output_type": "stream",
     "text": [
      "cog:timesat_extracts/h17v05/increase_rate/increase_rate_SOS_h17v05_2010_s1_laea_cog.tif\n"
     ]
    },
    {
     "name": "stdout",
     "output_type": "stream",
     "text": [
      "cog:timesat_extracts/h17v05/increase_rate/increase_rate_SOS_h17v05_2011_s1_laea_cog.tif\n"
     ]
    },
    {
     "name": "stdout",
     "output_type": "stream",
     "text": [
      "cog:timesat_extracts/h17v05/increase_rate/increase_rate_SOS_h17v05_2012_s1_laea_cog.tif\n"
     ]
    },
    {
     "name": "stdout",
     "output_type": "stream",
     "text": [
      "cog:timesat_extracts/h17v05/increase_rate/increase_rate_SOS_h17v05_2013_s1_laea_cog.tif\n"
     ]
    },
    {
     "name": "stdout",
     "output_type": "stream",
     "text": [
      "cog:timesat_extracts/h17v05/increase_rate/increase_rate_SOS_h17v05_2014_s1_laea_cog.tif\n"
     ]
    },
    {
     "name": "stdout",
     "output_type": "stream",
     "text": [
      "cog:timesat_extracts/h17v05/increase_rate/increase_rate_SOS_h17v05_2015_s1_laea_cog.tif\n"
     ]
    },
    {
     "name": "stdout",
     "output_type": "stream",
     "text": [
      "cog:timesat_extracts/h17v05/increase_rate/increase_rate_SOS_h17v05_2016_s1_laea_cog.tif\n"
     ]
    },
    {
     "name": "stdout",
     "output_type": "stream",
     "text": [
      "cog:timesat_extracts/h17v05/increase_rate/increase_rate_SOS_h17v05_2017_s1_laea_cog.tif\n"
     ]
    },
    {
     "name": "stdout",
     "output_type": "stream",
     "text": [
      "cog:timesat_extracts/h17v05/increase_rate/increase_rate_SOS_h17v05_2018_s1_laea_cog.tif\n"
     ]
    },
    {
     "name": "stdout",
     "output_type": "stream",
     "text": [
      "cog:timesat_extracts/h17v05/increase_rate/increase_rate_SOS_h17v05_2019_s1_laea_cog.tif\n"
     ]
    },
    {
     "name": "stdout",
     "output_type": "stream",
     "text": [
      "cog:timesat_extracts/h17v05/increase_rate/increase_rate_SOS_h17v05_2020_s1_laea_cog.tif\n"
     ]
    },
    {
     "name": "stdout",
     "output_type": "stream",
     "text": [
      "cog:timesat_extracts/h17v05/length_of_season/los_h17v05_2000_s1_laea_cog.tif\n"
     ]
    },
    {
     "name": "stdout",
     "output_type": "stream",
     "text": [
      "cog:timesat_extracts/h17v05/length_of_season/los_h17v05_2001_s1_laea_cog.tif\n",
      "cog:timesat_extracts/h17v05/length_of_season/los_h17v05_2002_s1_laea_cog.tif\n"
     ]
    },
    {
     "name": "stdout",
     "output_type": "stream",
     "text": [
      "cog:timesat_extracts/h17v05/length_of_season/los_h17v05_2003_s1_laea_cog.tif\n",
      "cog:timesat_extracts/h17v05/length_of_season/los_h17v05_2004_s1_laea_cog.tif\n"
     ]
    },
    {
     "name": "stdout",
     "output_type": "stream",
     "text": [
      "cog:timesat_extracts/h17v05/length_of_season/los_h17v05_2005_s1_laea_cog.tif\n",
      "cog:timesat_extracts/h17v05/length_of_season/los_h17v05_2006_s1_laea_cog.tif\n"
     ]
    },
    {
     "name": "stdout",
     "output_type": "stream",
     "text": [
      "cog:timesat_extracts/h17v05/length_of_season/los_h17v05_2007_s1_laea_cog.tif\n",
      "cog:timesat_extracts/h17v05/length_of_season/los_h17v05_2008_s1_laea_cog.tif\n"
     ]
    },
    {
     "name": "stdout",
     "output_type": "stream",
     "text": [
      "cog:timesat_extracts/h17v05/length_of_season/los_h17v05_2009_s1_laea_cog.tif\n",
      "cog:timesat_extracts/h17v05/length_of_season/los_h17v05_2010_s1_laea_cog.tif\n"
     ]
    },
    {
     "name": "stdout",
     "output_type": "stream",
     "text": [
      "cog:timesat_extracts/h17v05/length_of_season/los_h17v05_2011_s1_laea_cog.tif\n",
      "cog:timesat_extracts/h17v05/length_of_season/los_h17v05_2012_s1_laea_cog.tif\n"
     ]
    },
    {
     "name": "stdout",
     "output_type": "stream",
     "text": [
      "cog:timesat_extracts/h17v05/length_of_season/los_h17v05_2013_s1_laea_cog.tif\n",
      "cog:timesat_extracts/h17v05/length_of_season/los_h17v05_2014_s1_laea_cog.tif\n"
     ]
    },
    {
     "name": "stdout",
     "output_type": "stream",
     "text": [
      "cog:timesat_extracts/h17v05/length_of_season/los_h17v05_2015_s1_laea_cog.tif\n",
      "cog:timesat_extracts/h17v05/length_of_season/los_h17v05_2016_s1_laea_cog.tif\n"
     ]
    },
    {
     "name": "stdout",
     "output_type": "stream",
     "text": [
      "cog:timesat_extracts/h17v05/length_of_season/los_h17v05_2017_s1_laea_cog.tif\n",
      "cog:timesat_extracts/h17v05/length_of_season/los_h17v05_2018_s1_laea_cog.tif\n"
     ]
    },
    {
     "name": "stdout",
     "output_type": "stream",
     "text": [
      "cog:timesat_extracts/h17v05/length_of_season/los_h17v05_2019_s1_laea_cog.tif\n",
      "cog:timesat_extracts/h17v05/length_of_season/los_h17v05_2020_s1_laea_cog.tif\n"
     ]
    },
    {
     "name": "stdout",
     "output_type": "stream",
     "text": [
      "cog:timesat_extracts/h17v05/seasonal_amplitude/s_amplitude_h17v05_2000_s1_laea_cog.tif\n"
     ]
    },
    {
     "name": "stdout",
     "output_type": "stream",
     "text": [
      "cog:timesat_extracts/h17v05/seasonal_amplitude/s_amplitude_h17v05_2001_s1_laea_cog.tif\n"
     ]
    },
    {
     "name": "stdout",
     "output_type": "stream",
     "text": [
      "cog:timesat_extracts/h17v05/seasonal_amplitude/s_amplitude_h17v05_2002_s1_laea_cog.tif\n"
     ]
    },
    {
     "name": "stdout",
     "output_type": "stream",
     "text": [
      "cog:timesat_extracts/h17v05/seasonal_amplitude/s_amplitude_h17v05_2003_s1_laea_cog.tif\n"
     ]
    },
    {
     "name": "stdout",
     "output_type": "stream",
     "text": [
      "cog:timesat_extracts/h17v05/seasonal_amplitude/s_amplitude_h17v05_2004_s1_laea_cog.tif\n"
     ]
    },
    {
     "name": "stdout",
     "output_type": "stream",
     "text": [
      "cog:timesat_extracts/h17v05/seasonal_amplitude/s_amplitude_h17v05_2005_s1_laea_cog.tif\n"
     ]
    },
    {
     "name": "stdout",
     "output_type": "stream",
     "text": [
      "cog:timesat_extracts/h17v05/seasonal_amplitude/s_amplitude_h17v05_2006_s1_laea_cog.tif\n"
     ]
    },
    {
     "name": "stdout",
     "output_type": "stream",
     "text": [
      "cog:timesat_extracts/h17v05/seasonal_amplitude/s_amplitude_h17v05_2007_s1_laea_cog.tif\n",
      "cog:timesat_extracts/h17v05/seasonal_amplitude/s_amplitude_h17v05_2008_s1_laea_cog.tif\n"
     ]
    },
    {
     "name": "stdout",
     "output_type": "stream",
     "text": [
      "cog:timesat_extracts/h17v05/seasonal_amplitude/s_amplitude_h17v05_2009_s1_laea_cog.tif\n"
     ]
    },
    {
     "name": "stdout",
     "output_type": "stream",
     "text": [
      "cog:timesat_extracts/h17v05/seasonal_amplitude/s_amplitude_h17v05_2010_s1_laea_cog.tif\n"
     ]
    },
    {
     "name": "stdout",
     "output_type": "stream",
     "text": [
      "cog:timesat_extracts/h17v05/seasonal_amplitude/s_amplitude_h17v05_2011_s1_laea_cog.tif\n"
     ]
    },
    {
     "name": "stdout",
     "output_type": "stream",
     "text": [
      "cog:timesat_extracts/h17v05/seasonal_amplitude/s_amplitude_h17v05_2012_s1_laea_cog.tif\n",
      "cog:timesat_extracts/h17v05/seasonal_amplitude/s_amplitude_h17v05_2013_s1_laea_cog.tif\n"
     ]
    },
    {
     "name": "stdout",
     "output_type": "stream",
     "text": [
      "cog:timesat_extracts/h17v05/seasonal_amplitude/s_amplitude_h17v05_2014_s1_laea_cog.tif\n"
     ]
    },
    {
     "name": "stdout",
     "output_type": "stream",
     "text": [
      "cog:timesat_extracts/h17v05/seasonal_amplitude/s_amplitude_h17v05_2015_s1_laea_cog.tif\n"
     ]
    },
    {
     "name": "stdout",
     "output_type": "stream",
     "text": [
      "cog:timesat_extracts/h17v05/seasonal_amplitude/s_amplitude_h17v05_2016_s1_laea_cog.tif\n",
      "cog:timesat_extracts/h17v05/seasonal_amplitude/s_amplitude_h17v05_2017_s1_laea_cog.tif\n"
     ]
    },
    {
     "name": "stdout",
     "output_type": "stream",
     "text": [
      "cog:timesat_extracts/h17v05/seasonal_amplitude/s_amplitude_h17v05_2018_s1_laea_cog.tif\n"
     ]
    },
    {
     "name": "stdout",
     "output_type": "stream",
     "text": [
      "cog:timesat_extracts/h17v05/seasonal_amplitude/s_amplitude_h17v05_2019_s1_laea_cog.tif\n",
      "cog:timesat_extracts/h17v05/seasonal_amplitude/s_amplitude_h17v05_2020_s1_laea_cog.tif\n"
     ]
    },
    {
     "name": "stdout",
     "output_type": "stream",
     "text": [
      "cog:timesat_extracts/h17v05/sos/sos_h17v05_2000_s1_laea_cog.tif\n",
      "cog:timesat_extracts/h17v05/sos/sos_h17v05_2001_s1_laea_cog.tif\n"
     ]
    },
    {
     "name": "stdout",
     "output_type": "stream",
     "text": [
      "cog:timesat_extracts/h17v05/sos/sos_h17v05_2002_s1_laea_cog.tif\n",
      "cog:timesat_extracts/h17v05/sos/sos_h17v05_2003_s1_laea_cog.tif\n"
     ]
    },
    {
     "name": "stdout",
     "output_type": "stream",
     "text": [
      "cog:timesat_extracts/h17v05/sos/sos_h17v05_2004_s1_laea_cog.tif\n",
      "cog:timesat_extracts/h17v05/sos/sos_h17v05_2005_s1_laea_cog.tif\n"
     ]
    },
    {
     "name": "stdout",
     "output_type": "stream",
     "text": [
      "cog:timesat_extracts/h17v05/sos/sos_h17v05_2006_s1_laea_cog.tif\n",
      "cog:timesat_extracts/h17v05/sos/sos_h17v05_2007_s1_laea_cog.tif\n"
     ]
    },
    {
     "name": "stdout",
     "output_type": "stream",
     "text": [
      "cog:timesat_extracts/h17v05/sos/sos_h17v05_2008_s1_laea_cog.tif\n",
      "cog:timesat_extracts/h17v05/sos/sos_h17v05_2009_s1_laea_cog.tif\n"
     ]
    },
    {
     "name": "stdout",
     "output_type": "stream",
     "text": [
      "cog:timesat_extracts/h17v05/sos/sos_h17v05_2010_s1_laea_cog.tif\n",
      "cog:timesat_extracts/h17v05/sos/sos_h17v05_2011_s1_laea_cog.tif\n"
     ]
    },
    {
     "name": "stdout",
     "output_type": "stream",
     "text": [
      "cog:timesat_extracts/h17v05/sos/sos_h17v05_2012_s1_laea_cog.tif\n",
      "cog:timesat_extracts/h17v05/sos/sos_h17v05_2013_s1_laea_cog.tif\n"
     ]
    },
    {
     "name": "stdout",
     "output_type": "stream",
     "text": [
      "cog:timesat_extracts/h17v05/sos/sos_h17v05_2014_s1_laea_cog.tif\n",
      "cog:timesat_extracts/h17v05/sos/sos_h17v05_2015_s1_laea_cog.tif\n"
     ]
    },
    {
     "name": "stdout",
     "output_type": "stream",
     "text": [
      "cog:timesat_extracts/h17v05/sos/sos_h17v05_2016_s1_laea_cog.tif\n",
      "cog:timesat_extracts/h17v05/sos/sos_h17v05_2017_s1_laea_cog.tif\n"
     ]
    },
    {
     "name": "stdout",
     "output_type": "stream",
     "text": [
      "cog:timesat_extracts/h17v05/sos/sos_h17v05_2018_s1_laea_cog.tif\n",
      "cog:timesat_extracts/h17v05/sos/sos_h17v05_2019_s1_laea_cog.tif\n"
     ]
    },
    {
     "name": "stdout",
     "output_type": "stream",
     "text": [
      "cog:timesat_extracts/h17v05/sos/sos_h17v05_2020_s1_laea_cog.tif\n",
      "cog:timesat_extracts/h17v05/sos_value/sos_value_h17v05_2000_s1_laea_cog.tif\n"
     ]
    },
    {
     "name": "stdout",
     "output_type": "stream",
     "text": [
      "cog:timesat_extracts/h17v05/sos_value/sos_value_h17v05_2001_s1_laea_cog.tif\n",
      "cog:timesat_extracts/h17v05/sos_value/sos_value_h17v05_2002_s1_laea_cog.tif\n"
     ]
    },
    {
     "name": "stdout",
     "output_type": "stream",
     "text": [
      "cog:timesat_extracts/h17v05/sos_value/sos_value_h17v05_2003_s1_laea_cog.tif\n"
     ]
    },
    {
     "name": "stdout",
     "output_type": "stream",
     "text": [
      "cog:timesat_extracts/h17v05/sos_value/sos_value_h17v05_2004_s1_laea_cog.tif\n"
     ]
    },
    {
     "name": "stdout",
     "output_type": "stream",
     "text": [
      "cog:timesat_extracts/h17v05/sos_value/sos_value_h17v05_2005_s1_laea_cog.tif\n"
     ]
    },
    {
     "name": "stdout",
     "output_type": "stream",
     "text": [
      "cog:timesat_extracts/h17v05/sos_value/sos_value_h17v05_2006_s1_laea_cog.tif\n"
     ]
    },
    {
     "name": "stdout",
     "output_type": "stream",
     "text": [
      "cog:timesat_extracts/h17v05/sos_value/sos_value_h17v05_2007_s1_laea_cog.tif\n"
     ]
    },
    {
     "name": "stdout",
     "output_type": "stream",
     "text": [
      "cog:timesat_extracts/h17v05/sos_value/sos_value_h17v05_2008_s1_laea_cog.tif\n"
     ]
    },
    {
     "name": "stdout",
     "output_type": "stream",
     "text": [
      "cog:timesat_extracts/h17v05/sos_value/sos_value_h17v05_2009_s1_laea_cog.tif\n"
     ]
    },
    {
     "name": "stdout",
     "output_type": "stream",
     "text": [
      "cog:timesat_extracts/h17v05/sos_value/sos_value_h17v05_2010_s1_laea_cog.tif\n"
     ]
    },
    {
     "name": "stdout",
     "output_type": "stream",
     "text": [
      "cog:timesat_extracts/h17v05/sos_value/sos_value_h17v05_2011_s1_laea_cog.tif\n"
     ]
    },
    {
     "name": "stdout",
     "output_type": "stream",
     "text": [
      "cog:timesat_extracts/h17v05/sos_value/sos_value_h17v05_2012_s1_laea_cog.tif\n"
     ]
    },
    {
     "name": "stdout",
     "output_type": "stream",
     "text": [
      "cog:timesat_extracts/h17v05/sos_value/sos_value_h17v05_2013_s1_laea_cog.tif\n"
     ]
    },
    {
     "name": "stdout",
     "output_type": "stream",
     "text": [
      "cog:timesat_extracts/h17v05/sos_value/sos_value_h17v05_2014_s1_laea_cog.tif\n",
      "cog:timesat_extracts/h17v05/sos_value/sos_value_h17v05_2015_s1_laea_cog.tif\n"
     ]
    },
    {
     "name": "stdout",
     "output_type": "stream",
     "text": [
      "cog:timesat_extracts/h17v05/sos_value/sos_value_h17v05_2016_s1_laea_cog.tif\n"
     ]
    },
    {
     "name": "stdout",
     "output_type": "stream",
     "text": [
      "cog:timesat_extracts/h17v05/sos_value/sos_value_h17v05_2017_s1_laea_cog.tif\n"
     ]
    },
    {
     "name": "stdout",
     "output_type": "stream",
     "text": [
      "cog:timesat_extracts/h17v05/sos_value/sos_value_h17v05_2018_s1_laea_cog.tif\n"
     ]
    },
    {
     "name": "stdout",
     "output_type": "stream",
     "text": [
      "cog:timesat_extracts/h17v05/sos_value/sos_value_h17v05_2019_s1_laea_cog.tif\n"
     ]
    },
    {
     "name": "stdout",
     "output_type": "stream",
     "text": [
      "cog:timesat_extracts/h17v05/sos_value/sos_value_h17v05_2020_s1_laea_cog.tif\n"
     ]
    },
    {
     "name": "stdout",
     "output_type": "stream",
     "text": [
      "cog:timesat_extracts/h18v01/LINT/LINT_h18v01_2000_s1_laea_cog.tif\n",
      "cog:timesat_extracts/h18v01/LINT/LINT_h18v01_2001_s1_laea_cog.tif\n"
     ]
    },
    {
     "name": "stdout",
     "output_type": "stream",
     "text": [
      "cog:timesat_extracts/h18v01/LINT/LINT_h18v01_2002_s1_laea_cog.tif\n",
      "cog:timesat_extracts/h18v01/LINT/LINT_h18v01_2003_s1_laea_cog.tif\n"
     ]
    },
    {
     "name": "stdout",
     "output_type": "stream",
     "text": [
      "cog:timesat_extracts/h18v01/LINT/LINT_h18v01_2004_s1_laea_cog.tif\n",
      "cog:timesat_extracts/h18v01/LINT/LINT_h18v01_2005_s1_laea_cog.tif\n",
      "cog:timesat_extracts/h18v01/LINT/LINT_h18v01_2006_s1_laea_cog.tif\n"
     ]
    },
    {
     "name": "stdout",
     "output_type": "stream",
     "text": [
      "cog:timesat_extracts/h18v01/LINT/LINT_h18v01_2007_s1_laea_cog.tif\n",
      "cog:timesat_extracts/h18v01/LINT/LINT_h18v01_2008_s1_laea_cog.tif\n"
     ]
    },
    {
     "name": "stdout",
     "output_type": "stream",
     "text": [
      "cog:timesat_extracts/h18v01/LINT/LINT_h18v01_2009_s1_laea_cog.tif\n",
      "cog:timesat_extracts/h18v01/LINT/LINT_h18v01_2010_s1_laea_cog.tif\n"
     ]
    },
    {
     "name": "stdout",
     "output_type": "stream",
     "text": [
      "cog:timesat_extracts/h18v01/LINT/LINT_h18v01_2011_s1_laea_cog.tif\n",
      "cog:timesat_extracts/h18v01/LINT/LINT_h18v01_2012_s1_laea_cog.tif\n"
     ]
    },
    {
     "name": "stdout",
     "output_type": "stream",
     "text": [
      "cog:timesat_extracts/h18v01/LINT/LINT_h18v01_2013_s1_laea_cog.tif\n",
      "cog:timesat_extracts/h18v01/LINT/LINT_h18v01_2014_s1_laea_cog.tif\n"
     ]
    },
    {
     "name": "stdout",
     "output_type": "stream",
     "text": [
      "cog:timesat_extracts/h18v01/LINT/LINT_h18v01_2015_s1_laea_cog.tif\n",
      "cog:timesat_extracts/h18v01/LINT/LINT_h18v01_2016_s1_laea_cog.tif\n"
     ]
    },
    {
     "name": "stdout",
     "output_type": "stream",
     "text": [
      "cog:timesat_extracts/h18v01/LINT/LINT_h18v01_2017_s1_laea_cog.tif\n",
      "cog:timesat_extracts/h18v01/LINT/LINT_h18v01_2018_s1_laea_cog.tif\n"
     ]
    },
    {
     "name": "stdout",
     "output_type": "stream",
     "text": [
      "cog:timesat_extracts/h18v01/LINT/LINT_h18v01_2019_s1_laea_cog.tif\n",
      "cog:timesat_extracts/h18v01/LINT/LINT_h18v01_2020_s1_laea_cog.tif\n"
     ]
    },
    {
     "name": "stdout",
     "output_type": "stream",
     "text": [
      "cog:timesat_extracts/h18v01/SINT/SINT_h18v01_2000_s1_laea_cog.tif\n",
      "cog:timesat_extracts/h18v01/SINT/SINT_h18v01_2001_s1_laea_cog.tif\n"
     ]
    },
    {
     "name": "stdout",
     "output_type": "stream",
     "text": [
      "cog:timesat_extracts/h18v01/SINT/SINT_h18v01_2002_s1_laea_cog.tif\n",
      "cog:timesat_extracts/h18v01/SINT/SINT_h18v01_2003_s1_laea_cog.tif\n",
      "cog:timesat_extracts/h18v01/SINT/SINT_h18v01_2004_s1_laea_cog.tif\n"
     ]
    },
    {
     "name": "stdout",
     "output_type": "stream",
     "text": [
      "cog:timesat_extracts/h18v01/SINT/SINT_h18v01_2005_s1_laea_cog.tif\n",
      "cog:timesat_extracts/h18v01/SINT/SINT_h18v01_2006_s1_laea_cog.tif\n"
     ]
    },
    {
     "name": "stdout",
     "output_type": "stream",
     "text": [
      "cog:timesat_extracts/h18v01/SINT/SINT_h18v01_2007_s1_laea_cog.tif\n",
      "cog:timesat_extracts/h18v01/SINT/SINT_h18v01_2008_s1_laea_cog.tif\n",
      "cog:timesat_extracts/h18v01/SINT/SINT_h18v01_2009_s1_laea_cog.tif\n"
     ]
    },
    {
     "name": "stdout",
     "output_type": "stream",
     "text": [
      "cog:timesat_extracts/h18v01/SINT/SINT_h18v01_2010_s1_laea_cog.tif\n",
      "cog:timesat_extracts/h18v01/SINT/SINT_h18v01_2011_s1_laea_cog.tif\n",
      "cog:timesat_extracts/h18v01/SINT/SINT_h18v01_2012_s1_laea_cog.tif\n"
     ]
    },
    {
     "name": "stdout",
     "output_type": "stream",
     "text": [
      "cog:timesat_extracts/h18v01/SINT/SINT_h18v01_2013_s1_laea_cog.tif\n",
      "cog:timesat_extracts/h18v01/SINT/SINT_h18v01_2014_s1_laea_cog.tif\n",
      "cog:timesat_extracts/h18v01/SINT/SINT_h18v01_2015_s1_laea_cog.tif\n"
     ]
    },
    {
     "name": "stdout",
     "output_type": "stream",
     "text": [
      "cog:timesat_extracts/h18v01/SINT/SINT_h18v01_2016_s1_laea_cog.tif\n",
      "cog:timesat_extracts/h18v01/SINT/SINT_h18v01_2017_s1_laea_cog.tif\n"
     ]
    },
    {
     "name": "stdout",
     "output_type": "stream",
     "text": [
      "cog:timesat_extracts/h18v01/SINT/SINT_h18v01_2018_s1_laea_cog.tif\n",
      "cog:timesat_extracts/h18v01/SINT/SINT_h18v01_2019_s1_laea_cog.tif\n"
     ]
    },
    {
     "name": "stdout",
     "output_type": "stream",
     "text": [
      "cog:timesat_extracts/h18v01/SINT/SINT_h18v01_2020_s1_laea_cog.tif\n",
      "cog:timesat_extracts/h18v01/decrease_rate/decrease_rate_EOS_h18v01_2000_s1_laea_cog.tif\n",
      "cog:timesat_extracts/h18v01/decrease_rate/decrease_rate_EOS_h18v01_2001_s1_laea_cog.tif\n"
     ]
    },
    {
     "name": "stdout",
     "output_type": "stream",
     "text": [
      "cog:timesat_extracts/h18v01/decrease_rate/decrease_rate_EOS_h18v01_2002_s1_laea_cog.tif\n",
      "cog:timesat_extracts/h18v01/decrease_rate/decrease_rate_EOS_h18v01_2003_s1_laea_cog.tif\n"
     ]
    },
    {
     "name": "stdout",
     "output_type": "stream",
     "text": [
      "cog:timesat_extracts/h18v01/decrease_rate/decrease_rate_EOS_h18v01_2004_s1_laea_cog.tif\n",
      "cog:timesat_extracts/h18v01/decrease_rate/decrease_rate_EOS_h18v01_2005_s1_laea_cog.tif\n"
     ]
    },
    {
     "name": "stdout",
     "output_type": "stream",
     "text": [
      "cog:timesat_extracts/h18v01/decrease_rate/decrease_rate_EOS_h18v01_2006_s1_laea_cog.tif\n",
      "cog:timesat_extracts/h18v01/decrease_rate/decrease_rate_EOS_h18v01_2007_s1_laea_cog.tif\n",
      "cog:timesat_extracts/h18v01/decrease_rate/decrease_rate_EOS_h18v01_2008_s1_laea_cog.tif\n"
     ]
    },
    {
     "name": "stdout",
     "output_type": "stream",
     "text": [
      "cog:timesat_extracts/h18v01/decrease_rate/decrease_rate_EOS_h18v01_2009_s1_laea_cog.tif\n",
      "cog:timesat_extracts/h18v01/decrease_rate/decrease_rate_EOS_h18v01_2010_s1_laea_cog.tif\n"
     ]
    },
    {
     "name": "stdout",
     "output_type": "stream",
     "text": [
      "cog:timesat_extracts/h18v01/decrease_rate/decrease_rate_EOS_h18v01_2011_s1_laea_cog.tif\n",
      "cog:timesat_extracts/h18v01/decrease_rate/decrease_rate_EOS_h18v01_2012_s1_laea_cog.tif\n"
     ]
    },
    {
     "name": "stdout",
     "output_type": "stream",
     "text": [
      "cog:timesat_extracts/h18v01/decrease_rate/decrease_rate_EOS_h18v01_2013_s1_laea_cog.tif\n"
     ]
    },
    {
     "name": "stdout",
     "output_type": "stream",
     "text": [
      "cog:timesat_extracts/h18v01/decrease_rate/decrease_rate_EOS_h18v01_2014_s1_laea_cog.tif\n",
      "cog:timesat_extracts/h18v01/decrease_rate/decrease_rate_EOS_h18v01_2015_s1_laea_cog.tif\n",
      "cog:timesat_extracts/h18v01/decrease_rate/decrease_rate_EOS_h18v01_2016_s1_laea_cog.tif\n"
     ]
    },
    {
     "name": "stdout",
     "output_type": "stream",
     "text": [
      "cog:timesat_extracts/h18v01/decrease_rate/decrease_rate_EOS_h18v01_2017_s1_laea_cog.tif\n",
      "cog:timesat_extracts/h18v01/decrease_rate/decrease_rate_EOS_h18v01_2018_s1_laea_cog.tif\n"
     ]
    },
    {
     "name": "stdout",
     "output_type": "stream",
     "text": [
      "cog:timesat_extracts/h18v01/decrease_rate/decrease_rate_EOS_h18v01_2019_s1_laea_cog.tif\n",
      "cog:timesat_extracts/h18v01/decrease_rate/decrease_rate_EOS_h18v01_2020_s1_laea_cog.tif\n"
     ]
    },
    {
     "name": "stdout",
     "output_type": "stream",
     "text": [
      "cog:timesat_extracts/h18v01/eos/eos_h18v01_2000_s1_laea_cog.tif\n",
      "cog:timesat_extracts/h18v01/eos/eos_h18v01_2001_s1_laea_cog.tif\n",
      "cog:timesat_extracts/h18v01/eos/eos_h18v01_2002_s1_laea_cog.tif\n"
     ]
    },
    {
     "name": "stdout",
     "output_type": "stream",
     "text": [
      "cog:timesat_extracts/h18v01/eos/eos_h18v01_2003_s1_laea_cog.tif\n",
      "cog:timesat_extracts/h18v01/eos/eos_h18v01_2004_s1_laea_cog.tif\n",
      "cog:timesat_extracts/h18v01/eos/eos_h18v01_2005_s1_laea_cog.tif\n"
     ]
    },
    {
     "name": "stdout",
     "output_type": "stream",
     "text": [
      "cog:timesat_extracts/h18v01/eos/eos_h18v01_2006_s1_laea_cog.tif\n",
      "cog:timesat_extracts/h18v01/eos/eos_h18v01_2007_s1_laea_cog.tif\n"
     ]
    },
    {
     "name": "stdout",
     "output_type": "stream",
     "text": [
      "cog:timesat_extracts/h18v01/eos/eos_h18v01_2008_s1_laea_cog.tif\n",
      "cog:timesat_extracts/h18v01/eos/eos_h18v01_2009_s1_laea_cog.tif\n",
      "cog:timesat_extracts/h18v01/eos/eos_h18v01_2010_s1_laea_cog.tif\n"
     ]
    },
    {
     "name": "stdout",
     "output_type": "stream",
     "text": [
      "cog:timesat_extracts/h18v01/eos/eos_h18v01_2011_s1_laea_cog.tif\n",
      "cog:timesat_extracts/h18v01/eos/eos_h18v01_2012_s1_laea_cog.tif\n"
     ]
    },
    {
     "name": "stdout",
     "output_type": "stream",
     "text": [
      "cog:timesat_extracts/h18v01/eos/eos_h18v01_2013_s1_laea_cog.tif\n",
      "cog:timesat_extracts/h18v01/eos/eos_h18v01_2014_s1_laea_cog.tif\n"
     ]
    },
    {
     "name": "stdout",
     "output_type": "stream",
     "text": [
      "cog:timesat_extracts/h18v01/eos/eos_h18v01_2015_s1_laea_cog.tif\n",
      "cog:timesat_extracts/h18v01/eos/eos_h18v01_2016_s1_laea_cog.tif\n"
     ]
    },
    {
     "name": "stdout",
     "output_type": "stream",
     "text": [
      "cog:timesat_extracts/h18v01/eos/eos_h18v01_2017_s1_laea_cog.tif\n",
      "cog:timesat_extracts/h18v01/eos/eos_h18v01_2018_s1_laea_cog.tif\n"
     ]
    },
    {
     "name": "stdout",
     "output_type": "stream",
     "text": [
      "cog:timesat_extracts/h18v01/eos/eos_h18v01_2019_s1_laea_cog.tif\n",
      "cog:timesat_extracts/h18v01/eos/eos_h18v01_2020_s1_laea_cog.tif\n",
      "cog:timesat_extracts/h18v01/eos_value/eos_value_h18v01_2000_s1_laea_cog.tif\n"
     ]
    },
    {
     "name": "stdout",
     "output_type": "stream",
     "text": [
      "cog:timesat_extracts/h18v01/eos_value/eos_value_h18v01_2001_s1_laea_cog.tif\n",
      "cog:timesat_extracts/h18v01/eos_value/eos_value_h18v01_2002_s1_laea_cog.tif\n"
     ]
    },
    {
     "name": "stdout",
     "output_type": "stream",
     "text": [
      "cog:timesat_extracts/h18v01/eos_value/eos_value_h18v01_2003_s1_laea_cog.tif\n",
      "cog:timesat_extracts/h18v01/eos_value/eos_value_h18v01_2004_s1_laea_cog.tif\n"
     ]
    },
    {
     "name": "stdout",
     "output_type": "stream",
     "text": [
      "cog:timesat_extracts/h18v01/eos_value/eos_value_h18v01_2005_s1_laea_cog.tif\n",
      "cog:timesat_extracts/h18v01/eos_value/eos_value_h18v01_2006_s1_laea_cog.tif\n"
     ]
    },
    {
     "name": "stdout",
     "output_type": "stream",
     "text": [
      "cog:timesat_extracts/h18v01/eos_value/eos_value_h18v01_2007_s1_laea_cog.tif\n",
      "cog:timesat_extracts/h18v01/eos_value/eos_value_h18v01_2008_s1_laea_cog.tif\n"
     ]
    },
    {
     "name": "stdout",
     "output_type": "stream",
     "text": [
      "cog:timesat_extracts/h18v01/eos_value/eos_value_h18v01_2009_s1_laea_cog.tif\n",
      "cog:timesat_extracts/h18v01/eos_value/eos_value_h18v01_2010_s1_laea_cog.tif\n"
     ]
    },
    {
     "name": "stdout",
     "output_type": "stream",
     "text": [
      "cog:timesat_extracts/h18v01/eos_value/eos_value_h18v01_2011_s1_laea_cog.tif\n",
      "cog:timesat_extracts/h18v01/eos_value/eos_value_h18v01_2012_s1_laea_cog.tif\n"
     ]
    },
    {
     "name": "stdout",
     "output_type": "stream",
     "text": [
      "cog:timesat_extracts/h18v01/eos_value/eos_value_h18v01_2013_s1_laea_cog.tif\n"
     ]
    },
    {
     "name": "stdout",
     "output_type": "stream",
     "text": [
      "cog:timesat_extracts/h18v01/eos_value/eos_value_h18v01_2014_s1_laea_cog.tif\n",
      "cog:timesat_extracts/h18v01/eos_value/eos_value_h18v01_2015_s1_laea_cog.tif\n"
     ]
    },
    {
     "name": "stdout",
     "output_type": "stream",
     "text": [
      "cog:timesat_extracts/h18v01/eos_value/eos_value_h18v01_2016_s1_laea_cog.tif\n",
      "cog:timesat_extracts/h18v01/eos_value/eos_value_h18v01_2017_s1_laea_cog.tif\n",
      "cog:timesat_extracts/h18v01/eos_value/eos_value_h18v01_2018_s1_laea_cog.tif\n"
     ]
    },
    {
     "name": "stdout",
     "output_type": "stream",
     "text": [
      "cog:timesat_extracts/h18v01/eos_value/eos_value_h18v01_2019_s1_laea_cog.tif\n",
      "cog:timesat_extracts/h18v01/eos_value/eos_value_h18v01_2020_s1_laea_cog.tif\n"
     ]
    },
    {
     "name": "stdout",
     "output_type": "stream",
     "text": [
      "cog:timesat_extracts/h18v01/increase_rate/increase_rate_SOS_h18v01_2000_s1_laea_cog.tif\n",
      "cog:timesat_extracts/h18v01/increase_rate/increase_rate_SOS_h18v01_2001_s1_laea_cog.tif\n"
     ]
    },
    {
     "name": "stdout",
     "output_type": "stream",
     "text": [
      "cog:timesat_extracts/h18v01/increase_rate/increase_rate_SOS_h18v01_2002_s1_laea_cog.tif\n",
      "cog:timesat_extracts/h18v01/increase_rate/increase_rate_SOS_h18v01_2003_s1_laea_cog.tif\n"
     ]
    },
    {
     "name": "stdout",
     "output_type": "stream",
     "text": [
      "cog:timesat_extracts/h18v01/increase_rate/increase_rate_SOS_h18v01_2004_s1_laea_cog.tif\n",
      "cog:timesat_extracts/h18v01/increase_rate/increase_rate_SOS_h18v01_2005_s1_laea_cog.tif\n"
     ]
    },
    {
     "name": "stdout",
     "output_type": "stream",
     "text": [
      "cog:timesat_extracts/h18v01/increase_rate/increase_rate_SOS_h18v01_2006_s1_laea_cog.tif\n",
      "cog:timesat_extracts/h18v01/increase_rate/increase_rate_SOS_h18v01_2007_s1_laea_cog.tif\n"
     ]
    },
    {
     "name": "stdout",
     "output_type": "stream",
     "text": [
      "cog:timesat_extracts/h18v01/increase_rate/increase_rate_SOS_h18v01_2008_s1_laea_cog.tif\n",
      "cog:timesat_extracts/h18v01/increase_rate/increase_rate_SOS_h18v01_2009_s1_laea_cog.tif\n"
     ]
    },
    {
     "name": "stdout",
     "output_type": "stream",
     "text": [
      "cog:timesat_extracts/h18v01/increase_rate/increase_rate_SOS_h18v01_2010_s1_laea_cog.tif\n",
      "cog:timesat_extracts/h18v01/increase_rate/increase_rate_SOS_h18v01_2011_s1_laea_cog.tif\n"
     ]
    },
    {
     "name": "stdout",
     "output_type": "stream",
     "text": [
      "cog:timesat_extracts/h18v01/increase_rate/increase_rate_SOS_h18v01_2012_s1_laea_cog.tif\n",
      "cog:timesat_extracts/h18v01/increase_rate/increase_rate_SOS_h18v01_2013_s1_laea_cog.tif\n"
     ]
    },
    {
     "name": "stdout",
     "output_type": "stream",
     "text": [
      "cog:timesat_extracts/h18v01/increase_rate/increase_rate_SOS_h18v01_2014_s1_laea_cog.tif\n",
      "cog:timesat_extracts/h18v01/increase_rate/increase_rate_SOS_h18v01_2015_s1_laea_cog.tif\n",
      "cog:timesat_extracts/h18v01/increase_rate/increase_rate_SOS_h18v01_2016_s1_laea_cog.tif\n"
     ]
    },
    {
     "name": "stdout",
     "output_type": "stream",
     "text": [
      "cog:timesat_extracts/h18v01/increase_rate/increase_rate_SOS_h18v01_2017_s1_laea_cog.tif\n",
      "cog:timesat_extracts/h18v01/increase_rate/increase_rate_SOS_h18v01_2018_s1_laea_cog.tif\n"
     ]
    },
    {
     "name": "stdout",
     "output_type": "stream",
     "text": [
      "cog:timesat_extracts/h18v01/increase_rate/increase_rate_SOS_h18v01_2019_s1_laea_cog.tif\n",
      "cog:timesat_extracts/h18v01/increase_rate/increase_rate_SOS_h18v01_2020_s1_laea_cog.tif\n"
     ]
    },
    {
     "name": "stdout",
     "output_type": "stream",
     "text": [
      "cog:timesat_extracts/h18v01/length_of_season/los_h18v01_2000_s1_laea_cog.tif\n",
      "cog:timesat_extracts/h18v01/length_of_season/los_h18v01_2001_s1_laea_cog.tif\n",
      "cog:timesat_extracts/h18v01/length_of_season/los_h18v01_2002_s1_laea_cog.tif\n"
     ]
    },
    {
     "name": "stdout",
     "output_type": "stream",
     "text": [
      "cog:timesat_extracts/h18v01/length_of_season/los_h18v01_2003_s1_laea_cog.tif\n",
      "cog:timesat_extracts/h18v01/length_of_season/los_h18v01_2004_s1_laea_cog.tif\n",
      "cog:timesat_extracts/h18v01/length_of_season/los_h18v01_2005_s1_laea_cog.tif\n"
     ]
    },
    {
     "name": "stdout",
     "output_type": "stream",
     "text": [
      "cog:timesat_extracts/h18v01/length_of_season/los_h18v01_2006_s1_laea_cog.tif\n",
      "cog:timesat_extracts/h18v01/length_of_season/los_h18v01_2007_s1_laea_cog.tif\n"
     ]
    },
    {
     "name": "stdout",
     "output_type": "stream",
     "text": [
      "cog:timesat_extracts/h18v01/length_of_season/los_h18v01_2008_s1_laea_cog.tif\n",
      "cog:timesat_extracts/h18v01/length_of_season/los_h18v01_2009_s1_laea_cog.tif\n",
      "cog:timesat_extracts/h18v01/length_of_season/los_h18v01_2010_s1_laea_cog.tif\n"
     ]
    },
    {
     "name": "stdout",
     "output_type": "stream",
     "text": [
      "cog:timesat_extracts/h18v01/length_of_season/los_h18v01_2011_s1_laea_cog.tif\n",
      "cog:timesat_extracts/h18v01/length_of_season/los_h18v01_2012_s1_laea_cog.tif\n",
      "cog:timesat_extracts/h18v01/length_of_season/los_h18v01_2013_s1_laea_cog.tif\n"
     ]
    },
    {
     "name": "stdout",
     "output_type": "stream",
     "text": [
      "cog:timesat_extracts/h18v01/length_of_season/los_h18v01_2014_s1_laea_cog.tif\n",
      "cog:timesat_extracts/h18v01/length_of_season/los_h18v01_2015_s1_laea_cog.tif\n"
     ]
    },
    {
     "name": "stdout",
     "output_type": "stream",
     "text": [
      "cog:timesat_extracts/h18v01/length_of_season/los_h18v01_2016_s1_laea_cog.tif\n",
      "cog:timesat_extracts/h18v01/length_of_season/los_h18v01_2017_s1_laea_cog.tif\n"
     ]
    },
    {
     "name": "stdout",
     "output_type": "stream",
     "text": [
      "cog:timesat_extracts/h18v01/length_of_season/los_h18v01_2018_s1_laea_cog.tif\n",
      "cog:timesat_extracts/h18v01/length_of_season/los_h18v01_2019_s1_laea_cog.tif\n"
     ]
    },
    {
     "name": "stdout",
     "output_type": "stream",
     "text": [
      "cog:timesat_extracts/h18v01/length_of_season/los_h18v01_2020_s1_laea_cog.tif\n",
      "cog:timesat_extracts/h18v01/seasonal_amplitude/s_amplitude_h18v01_2000_s1_laea_cog.tif\n"
     ]
    },
    {
     "name": "stdout",
     "output_type": "stream",
     "text": [
      "cog:timesat_extracts/h18v01/seasonal_amplitude/s_amplitude_h18v01_2001_s1_laea_cog.tif\n",
      "cog:timesat_extracts/h18v01/seasonal_amplitude/s_amplitude_h18v01_2002_s1_laea_cog.tif\n"
     ]
    },
    {
     "name": "stdout",
     "output_type": "stream",
     "text": [
      "cog:timesat_extracts/h18v01/seasonal_amplitude/s_amplitude_h18v01_2003_s1_laea_cog.tif\n",
      "cog:timesat_extracts/h18v01/seasonal_amplitude/s_amplitude_h18v01_2004_s1_laea_cog.tif\n"
     ]
    },
    {
     "name": "stdout",
     "output_type": "stream",
     "text": [
      "cog:timesat_extracts/h18v01/seasonal_amplitude/s_amplitude_h18v01_2005_s1_laea_cog.tif\n",
      "cog:timesat_extracts/h18v01/seasonal_amplitude/s_amplitude_h18v01_2006_s1_laea_cog.tif\n"
     ]
    },
    {
     "name": "stdout",
     "output_type": "stream",
     "text": [
      "cog:timesat_extracts/h18v01/seasonal_amplitude/s_amplitude_h18v01_2007_s1_laea_cog.tif\n",
      "cog:timesat_extracts/h18v01/seasonal_amplitude/s_amplitude_h18v01_2008_s1_laea_cog.tif\n"
     ]
    },
    {
     "name": "stdout",
     "output_type": "stream",
     "text": [
      "cog:timesat_extracts/h18v01/seasonal_amplitude/s_amplitude_h18v01_2009_s1_laea_cog.tif\n",
      "cog:timesat_extracts/h18v01/seasonal_amplitude/s_amplitude_h18v01_2010_s1_laea_cog.tif\n"
     ]
    },
    {
     "name": "stdout",
     "output_type": "stream",
     "text": [
      "cog:timesat_extracts/h18v01/seasonal_amplitude/s_amplitude_h18v01_2011_s1_laea_cog.tif\n",
      "cog:timesat_extracts/h18v01/seasonal_amplitude/s_amplitude_h18v01_2012_s1_laea_cog.tif\n"
     ]
    },
    {
     "name": "stdout",
     "output_type": "stream",
     "text": [
      "cog:timesat_extracts/h18v01/seasonal_amplitude/s_amplitude_h18v01_2013_s1_laea_cog.tif\n",
      "cog:timesat_extracts/h18v01/seasonal_amplitude/s_amplitude_h18v01_2014_s1_laea_cog.tif\n"
     ]
    },
    {
     "name": "stdout",
     "output_type": "stream",
     "text": [
      "cog:timesat_extracts/h18v01/seasonal_amplitude/s_amplitude_h18v01_2015_s1_laea_cog.tif\n",
      "cog:timesat_extracts/h18v01/seasonal_amplitude/s_amplitude_h18v01_2016_s1_laea_cog.tif\n",
      "cog:timesat_extracts/h18v01/seasonal_amplitude/s_amplitude_h18v01_2017_s1_laea_cog.tif\n"
     ]
    },
    {
     "name": "stdout",
     "output_type": "stream",
     "text": [
      "cog:timesat_extracts/h18v01/seasonal_amplitude/s_amplitude_h18v01_2018_s1_laea_cog.tif\n",
      "cog:timesat_extracts/h18v01/seasonal_amplitude/s_amplitude_h18v01_2019_s1_laea_cog.tif\n"
     ]
    },
    {
     "name": "stdout",
     "output_type": "stream",
     "text": [
      "cog:timesat_extracts/h18v01/seasonal_amplitude/s_amplitude_h18v01_2020_s1_laea_cog.tif\n",
      "cog:timesat_extracts/h18v01/sos/sos_h18v01_2000_s1_laea_cog.tif\n"
     ]
    },
    {
     "name": "stdout",
     "output_type": "stream",
     "text": [
      "cog:timesat_extracts/h18v01/sos/sos_h18v01_2001_s1_laea_cog.tif\n",
      "cog:timesat_extracts/h18v01/sos/sos_h18v01_2002_s1_laea_cog.tif\n"
     ]
    },
    {
     "name": "stdout",
     "output_type": "stream",
     "text": [
      "cog:timesat_extracts/h18v01/sos/sos_h18v01_2003_s1_laea_cog.tif\n",
      "cog:timesat_extracts/h18v01/sos/sos_h18v01_2004_s1_laea_cog.tif\n"
     ]
    },
    {
     "name": "stdout",
     "output_type": "stream",
     "text": [
      "cog:timesat_extracts/h18v01/sos/sos_h18v01_2005_s1_laea_cog.tif\n",
      "cog:timesat_extracts/h18v01/sos/sos_h18v01_2006_s1_laea_cog.tif\n"
     ]
    },
    {
     "name": "stdout",
     "output_type": "stream",
     "text": [
      "cog:timesat_extracts/h18v01/sos/sos_h18v01_2007_s1_laea_cog.tif\n",
      "cog:timesat_extracts/h18v01/sos/sos_h18v01_2008_s1_laea_cog.tif\n",
      "cog:timesat_extracts/h18v01/sos/sos_h18v01_2009_s1_laea_cog.tif\n"
     ]
    },
    {
     "name": "stdout",
     "output_type": "stream",
     "text": [
      "cog:timesat_extracts/h18v01/sos/sos_h18v01_2010_s1_laea_cog.tif\n",
      "cog:timesat_extracts/h18v01/sos/sos_h18v01_2011_s1_laea_cog.tif\n"
     ]
    },
    {
     "name": "stdout",
     "output_type": "stream",
     "text": [
      "cog:timesat_extracts/h18v01/sos/sos_h18v01_2012_s1_laea_cog.tif\n",
      "cog:timesat_extracts/h18v01/sos/sos_h18v01_2013_s1_laea_cog.tif\n"
     ]
    },
    {
     "name": "stdout",
     "output_type": "stream",
     "text": [
      "cog:timesat_extracts/h18v01/sos/sos_h18v01_2014_s1_laea_cog.tif\n",
      "cog:timesat_extracts/h18v01/sos/sos_h18v01_2015_s1_laea_cog.tif\n"
     ]
    },
    {
     "name": "stdout",
     "output_type": "stream",
     "text": [
      "cog:timesat_extracts/h18v01/sos/sos_h18v01_2016_s1_laea_cog.tif\n",
      "cog:timesat_extracts/h18v01/sos/sos_h18v01_2017_s1_laea_cog.tif\n"
     ]
    },
    {
     "name": "stdout",
     "output_type": "stream",
     "text": [
      "cog:timesat_extracts/h18v01/sos/sos_h18v01_2018_s1_laea_cog.tif\n",
      "cog:timesat_extracts/h18v01/sos/sos_h18v01_2019_s1_laea_cog.tif\n",
      "cog:timesat_extracts/h18v01/sos/sos_h18v01_2020_s1_laea_cog.tif\n"
     ]
    },
    {
     "name": "stdout",
     "output_type": "stream",
     "text": [
      "cog:timesat_extracts/h18v01/sos_value/sos_value_h18v01_2000_s1_laea_cog.tif\n",
      "cog:timesat_extracts/h18v01/sos_value/sos_value_h18v01_2001_s1_laea_cog.tif\n"
     ]
    },
    {
     "name": "stdout",
     "output_type": "stream",
     "text": [
      "cog:timesat_extracts/h18v01/sos_value/sos_value_h18v01_2002_s1_laea_cog.tif\n",
      "cog:timesat_extracts/h18v01/sos_value/sos_value_h18v01_2003_s1_laea_cog.tif\n"
     ]
    },
    {
     "name": "stdout",
     "output_type": "stream",
     "text": [
      "cog:timesat_extracts/h18v01/sos_value/sos_value_h18v01_2004_s1_laea_cog.tif\n",
      "cog:timesat_extracts/h18v01/sos_value/sos_value_h18v01_2005_s1_laea_cog.tif\n"
     ]
    },
    {
     "name": "stdout",
     "output_type": "stream",
     "text": [
      "cog:timesat_extracts/h18v01/sos_value/sos_value_h18v01_2006_s1_laea_cog.tif\n",
      "cog:timesat_extracts/h18v01/sos_value/sos_value_h18v01_2007_s1_laea_cog.tif\n"
     ]
    },
    {
     "name": "stdout",
     "output_type": "stream",
     "text": [
      "cog:timesat_extracts/h18v01/sos_value/sos_value_h18v01_2008_s1_laea_cog.tif\n",
      "cog:timesat_extracts/h18v01/sos_value/sos_value_h18v01_2009_s1_laea_cog.tif\n"
     ]
    },
    {
     "name": "stdout",
     "output_type": "stream",
     "text": [
      "cog:timesat_extracts/h18v01/sos_value/sos_value_h18v01_2010_s1_laea_cog.tif\n",
      "cog:timesat_extracts/h18v01/sos_value/sos_value_h18v01_2011_s1_laea_cog.tif\n"
     ]
    },
    {
     "name": "stdout",
     "output_type": "stream",
     "text": [
      "cog:timesat_extracts/h18v01/sos_value/sos_value_h18v01_2012_s1_laea_cog.tif\n",
      "cog:timesat_extracts/h18v01/sos_value/sos_value_h18v01_2013_s1_laea_cog.tif\n"
     ]
    },
    {
     "name": "stdout",
     "output_type": "stream",
     "text": [
      "cog:timesat_extracts/h18v01/sos_value/sos_value_h18v01_2014_s1_laea_cog.tif\n",
      "cog:timesat_extracts/h18v01/sos_value/sos_value_h18v01_2015_s1_laea_cog.tif\n",
      "cog:timesat_extracts/h18v01/sos_value/sos_value_h18v01_2016_s1_laea_cog.tif\n"
     ]
    },
    {
     "name": "stdout",
     "output_type": "stream",
     "text": [
      "cog:timesat_extracts/h18v01/sos_value/sos_value_h18v01_2017_s1_laea_cog.tif\n",
      "cog:timesat_extracts/h18v01/sos_value/sos_value_h18v01_2018_s1_laea_cog.tif\n"
     ]
    },
    {
     "name": "stdout",
     "output_type": "stream",
     "text": [
      "cog:timesat_extracts/h18v01/sos_value/sos_value_h18v01_2019_s1_laea_cog.tif\n",
      "cog:timesat_extracts/h18v01/sos_value/sos_value_h18v01_2020_s1_laea_cog.tif\n",
      "cog:timesat_extracts/h18v02/LINT/LINT_h18v02_2000_s1_laea_cog.tif\n"
     ]
    },
    {
     "name": "stdout",
     "output_type": "stream",
     "text": [
      "cog:timesat_extracts/h18v02/LINT/LINT_h18v02_2001_s1_laea_cog.tif\n",
      "cog:timesat_extracts/h18v02/LINT/LINT_h18v02_2002_s1_laea_cog.tif\n"
     ]
    },
    {
     "name": "stdout",
     "output_type": "stream",
     "text": [
      "cog:timesat_extracts/h18v02/LINT/LINT_h18v02_2003_s1_laea_cog.tif\n"
     ]
    },
    {
     "name": "stdout",
     "output_type": "stream",
     "text": [
      "cog:timesat_extracts/h18v02/LINT/LINT_h18v02_2004_s1_laea_cog.tif\n",
      "cog:timesat_extracts/h18v02/LINT/LINT_h18v02_2005_s1_laea_cog.tif\n"
     ]
    },
    {
     "name": "stdout",
     "output_type": "stream",
     "text": [
      "cog:timesat_extracts/h18v02/LINT/LINT_h18v02_2006_s1_laea_cog.tif\n"
     ]
    },
    {
     "name": "stdout",
     "output_type": "stream",
     "text": [
      "cog:timesat_extracts/h18v02/LINT/LINT_h18v02_2007_s1_laea_cog.tif\n"
     ]
    },
    {
     "name": "stdout",
     "output_type": "stream",
     "text": [
      "cog:timesat_extracts/h18v02/LINT/LINT_h18v02_2008_s1_laea_cog.tif\n",
      "cog:timesat_extracts/h18v02/LINT/LINT_h18v02_2009_s1_laea_cog.tif\n"
     ]
    },
    {
     "name": "stdout",
     "output_type": "stream",
     "text": [
      "cog:timesat_extracts/h18v02/LINT/LINT_h18v02_2010_s1_laea_cog.tif\n",
      "cog:timesat_extracts/h18v02/LINT/LINT_h18v02_2011_s1_laea_cog.tif\n"
     ]
    },
    {
     "name": "stdout",
     "output_type": "stream",
     "text": [
      "cog:timesat_extracts/h18v02/LINT/LINT_h18v02_2012_s1_laea_cog.tif\n",
      "cog:timesat_extracts/h18v02/LINT/LINT_h18v02_2013_s1_laea_cog.tif\n"
     ]
    },
    {
     "name": "stdout",
     "output_type": "stream",
     "text": [
      "cog:timesat_extracts/h18v02/LINT/LINT_h18v02_2014_s1_laea_cog.tif\n",
      "cog:timesat_extracts/h18v02/LINT/LINT_h18v02_2015_s1_laea_cog.tif\n"
     ]
    },
    {
     "name": "stdout",
     "output_type": "stream",
     "text": [
      "cog:timesat_extracts/h18v02/LINT/LINT_h18v02_2016_s1_laea_cog.tif\n",
      "cog:timesat_extracts/h18v02/LINT/LINT_h18v02_2017_s1_laea_cog.tif\n"
     ]
    },
    {
     "name": "stdout",
     "output_type": "stream",
     "text": [
      "cog:timesat_extracts/h18v02/LINT/LINT_h18v02_2018_s1_laea_cog.tif\n",
      "cog:timesat_extracts/h18v02/LINT/LINT_h18v02_2019_s1_laea_cog.tif\n"
     ]
    },
    {
     "name": "stdout",
     "output_type": "stream",
     "text": [
      "cog:timesat_extracts/h18v02/LINT/LINT_h18v02_2020_s1_laea_cog.tif\n",
      "cog:timesat_extracts/h18v02/SINT/SINT_h18v02_2000_s1_laea_cog.tif\n"
     ]
    },
    {
     "name": "stdout",
     "output_type": "stream",
     "text": [
      "cog:timesat_extracts/h18v02/SINT/SINT_h18v02_2001_s1_laea_cog.tif\n",
      "cog:timesat_extracts/h18v02/SINT/SINT_h18v02_2002_s1_laea_cog.tif\n"
     ]
    },
    {
     "name": "stdout",
     "output_type": "stream",
     "text": [
      "cog:timesat_extracts/h18v02/SINT/SINT_h18v02_2003_s1_laea_cog.tif\n",
      "cog:timesat_extracts/h18v02/SINT/SINT_h18v02_2004_s1_laea_cog.tif\n"
     ]
    },
    {
     "name": "stdout",
     "output_type": "stream",
     "text": [
      "cog:timesat_extracts/h18v02/SINT/SINT_h18v02_2005_s1_laea_cog.tif\n"
     ]
    },
    {
     "name": "stdout",
     "output_type": "stream",
     "text": [
      "cog:timesat_extracts/h18v02/SINT/SINT_h18v02_2006_s1_laea_cog.tif\n",
      "cog:timesat_extracts/h18v02/SINT/SINT_h18v02_2007_s1_laea_cog.tif\n"
     ]
    },
    {
     "name": "stdout",
     "output_type": "stream",
     "text": [
      "cog:timesat_extracts/h18v02/SINT/SINT_h18v02_2008_s1_laea_cog.tif\n",
      "cog:timesat_extracts/h18v02/SINT/SINT_h18v02_2009_s1_laea_cog.tif\n"
     ]
    },
    {
     "name": "stdout",
     "output_type": "stream",
     "text": [
      "cog:timesat_extracts/h18v02/SINT/SINT_h18v02_2010_s1_laea_cog.tif\n",
      "cog:timesat_extracts/h18v02/SINT/SINT_h18v02_2011_s1_laea_cog.tif\n"
     ]
    },
    {
     "name": "stdout",
     "output_type": "stream",
     "text": [
      "cog:timesat_extracts/h18v02/SINT/SINT_h18v02_2012_s1_laea_cog.tif\n",
      "cog:timesat_extracts/h18v02/SINT/SINT_h18v02_2013_s1_laea_cog.tif\n"
     ]
    },
    {
     "name": "stdout",
     "output_type": "stream",
     "text": [
      "cog:timesat_extracts/h18v02/SINT/SINT_h18v02_2014_s1_laea_cog.tif\n",
      "cog:timesat_extracts/h18v02/SINT/SINT_h18v02_2015_s1_laea_cog.tif\n"
     ]
    },
    {
     "name": "stdout",
     "output_type": "stream",
     "text": [
      "cog:timesat_extracts/h18v02/SINT/SINT_h18v02_2016_s1_laea_cog.tif\n",
      "cog:timesat_extracts/h18v02/SINT/SINT_h18v02_2017_s1_laea_cog.tif\n"
     ]
    },
    {
     "name": "stdout",
     "output_type": "stream",
     "text": [
      "cog:timesat_extracts/h18v02/SINT/SINT_h18v02_2018_s1_laea_cog.tif\n",
      "cog:timesat_extracts/h18v02/SINT/SINT_h18v02_2019_s1_laea_cog.tif\n"
     ]
    },
    {
     "name": "stdout",
     "output_type": "stream",
     "text": [
      "cog:timesat_extracts/h18v02/SINT/SINT_h18v02_2020_s1_laea_cog.tif\n",
      "cog:timesat_extracts/h18v02/decrease_rate/decrease_rate_EOS_h18v02_2000_s1_laea_cog.tif\n"
     ]
    },
    {
     "name": "stdout",
     "output_type": "stream",
     "text": [
      "cog:timesat_extracts/h18v02/decrease_rate/decrease_rate_EOS_h18v02_2001_s1_laea_cog.tif\n",
      "cog:timesat_extracts/h18v02/decrease_rate/decrease_rate_EOS_h18v02_2002_s1_laea_cog.tif\n"
     ]
    },
    {
     "name": "stdout",
     "output_type": "stream",
     "text": [
      "cog:timesat_extracts/h18v02/decrease_rate/decrease_rate_EOS_h18v02_2003_s1_laea_cog.tif\n",
      "cog:timesat_extracts/h18v02/decrease_rate/decrease_rate_EOS_h18v02_2004_s1_laea_cog.tif\n"
     ]
    },
    {
     "name": "stdout",
     "output_type": "stream",
     "text": [
      "cog:timesat_extracts/h18v02/decrease_rate/decrease_rate_EOS_h18v02_2005_s1_laea_cog.tif\n",
      "cog:timesat_extracts/h18v02/decrease_rate/decrease_rate_EOS_h18v02_2006_s1_laea_cog.tif\n"
     ]
    },
    {
     "name": "stdout",
     "output_type": "stream",
     "text": [
      "cog:timesat_extracts/h18v02/decrease_rate/decrease_rate_EOS_h18v02_2007_s1_laea_cog.tif\n",
      "cog:timesat_extracts/h18v02/decrease_rate/decrease_rate_EOS_h18v02_2008_s1_laea_cog.tif\n"
     ]
    },
    {
     "name": "stdout",
     "output_type": "stream",
     "text": [
      "cog:timesat_extracts/h18v02/decrease_rate/decrease_rate_EOS_h18v02_2009_s1_laea_cog.tif\n",
      "cog:timesat_extracts/h18v02/decrease_rate/decrease_rate_EOS_h18v02_2010_s1_laea_cog.tif\n"
     ]
    },
    {
     "name": "stdout",
     "output_type": "stream",
     "text": [
      "cog:timesat_extracts/h18v02/decrease_rate/decrease_rate_EOS_h18v02_2011_s1_laea_cog.tif\n",
      "cog:timesat_extracts/h18v02/decrease_rate/decrease_rate_EOS_h18v02_2012_s1_laea_cog.tif\n"
     ]
    },
    {
     "name": "stdout",
     "output_type": "stream",
     "text": [
      "cog:timesat_extracts/h18v02/decrease_rate/decrease_rate_EOS_h18v02_2013_s1_laea_cog.tif\n",
      "cog:timesat_extracts/h18v02/decrease_rate/decrease_rate_EOS_h18v02_2014_s1_laea_cog.tif\n"
     ]
    },
    {
     "name": "stdout",
     "output_type": "stream",
     "text": [
      "cog:timesat_extracts/h18v02/decrease_rate/decrease_rate_EOS_h18v02_2015_s1_laea_cog.tif\n",
      "cog:timesat_extracts/h18v02/decrease_rate/decrease_rate_EOS_h18v02_2016_s1_laea_cog.tif\n"
     ]
    },
    {
     "name": "stdout",
     "output_type": "stream",
     "text": [
      "cog:timesat_extracts/h18v02/decrease_rate/decrease_rate_EOS_h18v02_2017_s1_laea_cog.tif\n",
      "cog:timesat_extracts/h18v02/decrease_rate/decrease_rate_EOS_h18v02_2018_s1_laea_cog.tif\n"
     ]
    },
    {
     "name": "stdout",
     "output_type": "stream",
     "text": [
      "cog:timesat_extracts/h18v02/decrease_rate/decrease_rate_EOS_h18v02_2019_s1_laea_cog.tif\n",
      "cog:timesat_extracts/h18v02/decrease_rate/decrease_rate_EOS_h18v02_2020_s1_laea_cog.tif\n"
     ]
    },
    {
     "name": "stdout",
     "output_type": "stream",
     "text": [
      "cog:timesat_extracts/h18v02/eos/eos_h18v02_2000_s1_laea_cog.tif\n",
      "cog:timesat_extracts/h18v02/eos/eos_h18v02_2001_s1_laea_cog.tif\n"
     ]
    },
    {
     "name": "stdout",
     "output_type": "stream",
     "text": [
      "cog:timesat_extracts/h18v02/eos/eos_h18v02_2002_s1_laea_cog.tif\n",
      "cog:timesat_extracts/h18v02/eos/eos_h18v02_2003_s1_laea_cog.tif\n"
     ]
    },
    {
     "name": "stdout",
     "output_type": "stream",
     "text": [
      "cog:timesat_extracts/h18v02/eos/eos_h18v02_2004_s1_laea_cog.tif\n",
      "cog:timesat_extracts/h18v02/eos/eos_h18v02_2005_s1_laea_cog.tif\n"
     ]
    },
    {
     "name": "stdout",
     "output_type": "stream",
     "text": [
      "cog:timesat_extracts/h18v02/eos/eos_h18v02_2006_s1_laea_cog.tif\n",
      "cog:timesat_extracts/h18v02/eos/eos_h18v02_2007_s1_laea_cog.tif\n"
     ]
    },
    {
     "name": "stdout",
     "output_type": "stream",
     "text": [
      "cog:timesat_extracts/h18v02/eos/eos_h18v02_2008_s1_laea_cog.tif\n",
      "cog:timesat_extracts/h18v02/eos/eos_h18v02_2009_s1_laea_cog.tif\n"
     ]
    },
    {
     "name": "stdout",
     "output_type": "stream",
     "text": [
      "cog:timesat_extracts/h18v02/eos/eos_h18v02_2010_s1_laea_cog.tif\n",
      "cog:timesat_extracts/h18v02/eos/eos_h18v02_2011_s1_laea_cog.tif\n"
     ]
    },
    {
     "name": "stdout",
     "output_type": "stream",
     "text": [
      "cog:timesat_extracts/h18v02/eos/eos_h18v02_2012_s1_laea_cog.tif\n",
      "cog:timesat_extracts/h18v02/eos/eos_h18v02_2013_s1_laea_cog.tif\n"
     ]
    },
    {
     "name": "stdout",
     "output_type": "stream",
     "text": [
      "cog:timesat_extracts/h18v02/eos/eos_h18v02_2014_s1_laea_cog.tif\n",
      "cog:timesat_extracts/h18v02/eos/eos_h18v02_2015_s1_laea_cog.tif\n"
     ]
    },
    {
     "name": "stdout",
     "output_type": "stream",
     "text": [
      "cog:timesat_extracts/h18v02/eos/eos_h18v02_2016_s1_laea_cog.tif\n",
      "cog:timesat_extracts/h18v02/eos/eos_h18v02_2017_s1_laea_cog.tif\n"
     ]
    },
    {
     "name": "stdout",
     "output_type": "stream",
     "text": [
      "cog:timesat_extracts/h18v02/eos/eos_h18v02_2018_s1_laea_cog.tif\n",
      "cog:timesat_extracts/h18v02/eos/eos_h18v02_2019_s1_laea_cog.tif\n"
     ]
    },
    {
     "name": "stdout",
     "output_type": "stream",
     "text": [
      "cog:timesat_extracts/h18v02/eos/eos_h18v02_2020_s1_laea_cog.tif\n",
      "cog:timesat_extracts/h18v02/eos_value/eos_value_h18v02_2000_s1_laea_cog.tif\n"
     ]
    },
    {
     "name": "stdout",
     "output_type": "stream",
     "text": [
      "cog:timesat_extracts/h18v02/eos_value/eos_value_h18v02_2001_s1_laea_cog.tif\n",
      "cog:timesat_extracts/h18v02/eos_value/eos_value_h18v02_2002_s1_laea_cog.tif\n"
     ]
    },
    {
     "name": "stdout",
     "output_type": "stream",
     "text": [
      "cog:timesat_extracts/h18v02/eos_value/eos_value_h18v02_2003_s1_laea_cog.tif\n",
      "cog:timesat_extracts/h18v02/eos_value/eos_value_h18v02_2004_s1_laea_cog.tif\n"
     ]
    },
    {
     "name": "stdout",
     "output_type": "stream",
     "text": [
      "cog:timesat_extracts/h18v02/eos_value/eos_value_h18v02_2005_s1_laea_cog.tif\n",
      "cog:timesat_extracts/h18v02/eos_value/eos_value_h18v02_2006_s1_laea_cog.tif\n"
     ]
    },
    {
     "name": "stdout",
     "output_type": "stream",
     "text": [
      "cog:timesat_extracts/h18v02/eos_value/eos_value_h18v02_2007_s1_laea_cog.tif\n",
      "cog:timesat_extracts/h18v02/eos_value/eos_value_h18v02_2008_s1_laea_cog.tif\n"
     ]
    },
    {
     "name": "stdout",
     "output_type": "stream",
     "text": [
      "cog:timesat_extracts/h18v02/eos_value/eos_value_h18v02_2009_s1_laea_cog.tif\n",
      "cog:timesat_extracts/h18v02/eos_value/eos_value_h18v02_2010_s1_laea_cog.tif\n"
     ]
    },
    {
     "name": "stdout",
     "output_type": "stream",
     "text": [
      "cog:timesat_extracts/h18v02/eos_value/eos_value_h18v02_2011_s1_laea_cog.tif\n",
      "cog:timesat_extracts/h18v02/eos_value/eos_value_h18v02_2012_s1_laea_cog.tif\n"
     ]
    },
    {
     "name": "stdout",
     "output_type": "stream",
     "text": [
      "cog:timesat_extracts/h18v02/eos_value/eos_value_h18v02_2013_s1_laea_cog.tif\n",
      "cog:timesat_extracts/h18v02/eos_value/eos_value_h18v02_2014_s1_laea_cog.tif\n"
     ]
    },
    {
     "name": "stdout",
     "output_type": "stream",
     "text": [
      "cog:timesat_extracts/h18v02/eos_value/eos_value_h18v02_2015_s1_laea_cog.tif\n",
      "cog:timesat_extracts/h18v02/eos_value/eos_value_h18v02_2016_s1_laea_cog.tif\n"
     ]
    },
    {
     "name": "stdout",
     "output_type": "stream",
     "text": [
      "cog:timesat_extracts/h18v02/eos_value/eos_value_h18v02_2017_s1_laea_cog.tif\n",
      "cog:timesat_extracts/h18v02/eos_value/eos_value_h18v02_2018_s1_laea_cog.tif\n"
     ]
    },
    {
     "name": "stdout",
     "output_type": "stream",
     "text": [
      "cog:timesat_extracts/h18v02/eos_value/eos_value_h18v02_2019_s1_laea_cog.tif\n",
      "cog:timesat_extracts/h18v02/eos_value/eos_value_h18v02_2020_s1_laea_cog.tif\n"
     ]
    },
    {
     "name": "stdout",
     "output_type": "stream",
     "text": [
      "cog:timesat_extracts/h18v02/increase_rate/increase_rate_SOS_h18v02_2000_s1_laea_cog.tif\n",
      "cog:timesat_extracts/h18v02/increase_rate/increase_rate_SOS_h18v02_2001_s1_laea_cog.tif\n"
     ]
    },
    {
     "name": "stdout",
     "output_type": "stream",
     "text": [
      "cog:timesat_extracts/h18v02/increase_rate/increase_rate_SOS_h18v02_2002_s1_laea_cog.tif\n",
      "cog:timesat_extracts/h18v02/increase_rate/increase_rate_SOS_h18v02_2003_s1_laea_cog.tif\n"
     ]
    },
    {
     "name": "stdout",
     "output_type": "stream",
     "text": [
      "cog:timesat_extracts/h18v02/increase_rate/increase_rate_SOS_h18v02_2004_s1_laea_cog.tif\n",
      "cog:timesat_extracts/h18v02/increase_rate/increase_rate_SOS_h18v02_2005_s1_laea_cog.tif\n"
     ]
    },
    {
     "name": "stdout",
     "output_type": "stream",
     "text": [
      "cog:timesat_extracts/h18v02/increase_rate/increase_rate_SOS_h18v02_2006_s1_laea_cog.tif\n",
      "cog:timesat_extracts/h18v02/increase_rate/increase_rate_SOS_h18v02_2007_s1_laea_cog.tif\n"
     ]
    },
    {
     "name": "stdout",
     "output_type": "stream",
     "text": [
      "cog:timesat_extracts/h18v02/increase_rate/increase_rate_SOS_h18v02_2008_s1_laea_cog.tif\n",
      "cog:timesat_extracts/h18v02/increase_rate/increase_rate_SOS_h18v02_2009_s1_laea_cog.tif\n"
     ]
    },
    {
     "name": "stdout",
     "output_type": "stream",
     "text": [
      "cog:timesat_extracts/h18v02/increase_rate/increase_rate_SOS_h18v02_2010_s1_laea_cog.tif\n",
      "cog:timesat_extracts/h18v02/increase_rate/increase_rate_SOS_h18v02_2011_s1_laea_cog.tif\n"
     ]
    },
    {
     "name": "stdout",
     "output_type": "stream",
     "text": [
      "cog:timesat_extracts/h18v02/increase_rate/increase_rate_SOS_h18v02_2012_s1_laea_cog.tif\n",
      "cog:timesat_extracts/h18v02/increase_rate/increase_rate_SOS_h18v02_2013_s1_laea_cog.tif\n"
     ]
    },
    {
     "name": "stdout",
     "output_type": "stream",
     "text": [
      "cog:timesat_extracts/h18v02/increase_rate/increase_rate_SOS_h18v02_2014_s1_laea_cog.tif\n",
      "cog:timesat_extracts/h18v02/increase_rate/increase_rate_SOS_h18v02_2015_s1_laea_cog.tif\n"
     ]
    },
    {
     "name": "stdout",
     "output_type": "stream",
     "text": [
      "cog:timesat_extracts/h18v02/increase_rate/increase_rate_SOS_h18v02_2016_s1_laea_cog.tif\n",
      "cog:timesat_extracts/h18v02/increase_rate/increase_rate_SOS_h18v02_2017_s1_laea_cog.tif\n"
     ]
    },
    {
     "name": "stdout",
     "output_type": "stream",
     "text": [
      "cog:timesat_extracts/h18v02/increase_rate/increase_rate_SOS_h18v02_2018_s1_laea_cog.tif\n",
      "cog:timesat_extracts/h18v02/increase_rate/increase_rate_SOS_h18v02_2019_s1_laea_cog.tif\n"
     ]
    },
    {
     "name": "stdout",
     "output_type": "stream",
     "text": [
      "cog:timesat_extracts/h18v02/increase_rate/increase_rate_SOS_h18v02_2020_s1_laea_cog.tif\n",
      "cog:timesat_extracts/h18v02/length_of_season/los_h18v02_2000_s1_laea_cog.tif\n"
     ]
    },
    {
     "name": "stdout",
     "output_type": "stream",
     "text": [
      "cog:timesat_extracts/h18v02/length_of_season/los_h18v02_2001_s1_laea_cog.tif\n",
      "cog:timesat_extracts/h18v02/length_of_season/los_h18v02_2002_s1_laea_cog.tif\n"
     ]
    },
    {
     "name": "stdout",
     "output_type": "stream",
     "text": [
      "cog:timesat_extracts/h18v02/length_of_season/los_h18v02_2003_s1_laea_cog.tif\n",
      "cog:timesat_extracts/h18v02/length_of_season/los_h18v02_2004_s1_laea_cog.tif\n",
      "cog:timesat_extracts/h18v02/length_of_season/los_h18v02_2005_s1_laea_cog.tif\n"
     ]
    },
    {
     "name": "stdout",
     "output_type": "stream",
     "text": [
      "cog:timesat_extracts/h18v02/length_of_season/los_h18v02_2006_s1_laea_cog.tif\n",
      "cog:timesat_extracts/h18v02/length_of_season/los_h18v02_2007_s1_laea_cog.tif\n"
     ]
    },
    {
     "name": "stdout",
     "output_type": "stream",
     "text": [
      "cog:timesat_extracts/h18v02/length_of_season/los_h18v02_2008_s1_laea_cog.tif\n",
      "cog:timesat_extracts/h18v02/length_of_season/los_h18v02_2009_s1_laea_cog.tif\n"
     ]
    },
    {
     "name": "stdout",
     "output_type": "stream",
     "text": [
      "cog:timesat_extracts/h18v02/length_of_season/los_h18v02_2010_s1_laea_cog.tif\n",
      "cog:timesat_extracts/h18v02/length_of_season/los_h18v02_2011_s1_laea_cog.tif\n"
     ]
    },
    {
     "name": "stdout",
     "output_type": "stream",
     "text": [
      "cog:timesat_extracts/h18v02/length_of_season/los_h18v02_2012_s1_laea_cog.tif\n",
      "cog:timesat_extracts/h18v02/length_of_season/los_h18v02_2013_s1_laea_cog.tif\n"
     ]
    },
    {
     "name": "stdout",
     "output_type": "stream",
     "text": [
      "cog:timesat_extracts/h18v02/length_of_season/los_h18v02_2014_s1_laea_cog.tif\n",
      "cog:timesat_extracts/h18v02/length_of_season/los_h18v02_2015_s1_laea_cog.tif\n"
     ]
    },
    {
     "name": "stdout",
     "output_type": "stream",
     "text": [
      "cog:timesat_extracts/h18v02/length_of_season/los_h18v02_2016_s1_laea_cog.tif\n",
      "cog:timesat_extracts/h18v02/length_of_season/los_h18v02_2017_s1_laea_cog.tif\n"
     ]
    },
    {
     "name": "stdout",
     "output_type": "stream",
     "text": [
      "cog:timesat_extracts/h18v02/length_of_season/los_h18v02_2018_s1_laea_cog.tif\n",
      "cog:timesat_extracts/h18v02/length_of_season/los_h18v02_2019_s1_laea_cog.tif\n"
     ]
    },
    {
     "name": "stdout",
     "output_type": "stream",
     "text": [
      "cog:timesat_extracts/h18v02/length_of_season/los_h18v02_2020_s1_laea_cog.tif\n",
      "cog:timesat_extracts/h18v02/seasonal_amplitude/s_amplitude_h18v02_2000_s1_laea_cog.tif\n"
     ]
    },
    {
     "name": "stdout",
     "output_type": "stream",
     "text": [
      "cog:timesat_extracts/h18v02/seasonal_amplitude/s_amplitude_h18v02_2001_s1_laea_cog.tif\n",
      "cog:timesat_extracts/h18v02/seasonal_amplitude/s_amplitude_h18v02_2002_s1_laea_cog.tif\n"
     ]
    },
    {
     "name": "stdout",
     "output_type": "stream",
     "text": [
      "cog:timesat_extracts/h18v02/seasonal_amplitude/s_amplitude_h18v02_2003_s1_laea_cog.tif\n",
      "cog:timesat_extracts/h18v02/seasonal_amplitude/s_amplitude_h18v02_2004_s1_laea_cog.tif\n"
     ]
    },
    {
     "name": "stdout",
     "output_type": "stream",
     "text": [
      "cog:timesat_extracts/h18v02/seasonal_amplitude/s_amplitude_h18v02_2005_s1_laea_cog.tif\n",
      "cog:timesat_extracts/h18v02/seasonal_amplitude/s_amplitude_h18v02_2006_s1_laea_cog.tif\n"
     ]
    },
    {
     "name": "stdout",
     "output_type": "stream",
     "text": [
      "cog:timesat_extracts/h18v02/seasonal_amplitude/s_amplitude_h18v02_2007_s1_laea_cog.tif\n",
      "cog:timesat_extracts/h18v02/seasonal_amplitude/s_amplitude_h18v02_2008_s1_laea_cog.tif\n"
     ]
    },
    {
     "name": "stdout",
     "output_type": "stream",
     "text": [
      "cog:timesat_extracts/h18v02/seasonal_amplitude/s_amplitude_h18v02_2009_s1_laea_cog.tif\n"
     ]
    },
    {
     "name": "stdout",
     "output_type": "stream",
     "text": [
      "cog:timesat_extracts/h18v02/seasonal_amplitude/s_amplitude_h18v02_2010_s1_laea_cog.tif\n",
      "cog:timesat_extracts/h18v02/seasonal_amplitude/s_amplitude_h18v02_2011_s1_laea_cog.tif\n"
     ]
    },
    {
     "name": "stdout",
     "output_type": "stream",
     "text": [
      "cog:timesat_extracts/h18v02/seasonal_amplitude/s_amplitude_h18v02_2012_s1_laea_cog.tif\n",
      "cog:timesat_extracts/h18v02/seasonal_amplitude/s_amplitude_h18v02_2013_s1_laea_cog.tif\n"
     ]
    },
    {
     "name": "stdout",
     "output_type": "stream",
     "text": [
      "cog:timesat_extracts/h18v02/seasonal_amplitude/s_amplitude_h18v02_2014_s1_laea_cog.tif\n",
      "cog:timesat_extracts/h18v02/seasonal_amplitude/s_amplitude_h18v02_2015_s1_laea_cog.tif\n"
     ]
    },
    {
     "name": "stdout",
     "output_type": "stream",
     "text": [
      "cog:timesat_extracts/h18v02/seasonal_amplitude/s_amplitude_h18v02_2016_s1_laea_cog.tif\n",
      "cog:timesat_extracts/h18v02/seasonal_amplitude/s_amplitude_h18v02_2017_s1_laea_cog.tif\n"
     ]
    },
    {
     "name": "stdout",
     "output_type": "stream",
     "text": [
      "cog:timesat_extracts/h18v02/seasonal_amplitude/s_amplitude_h18v02_2018_s1_laea_cog.tif\n",
      "cog:timesat_extracts/h18v02/seasonal_amplitude/s_amplitude_h18v02_2019_s1_laea_cog.tif\n"
     ]
    },
    {
     "name": "stdout",
     "output_type": "stream",
     "text": [
      "cog:timesat_extracts/h18v02/seasonal_amplitude/s_amplitude_h18v02_2020_s1_laea_cog.tif\n",
      "cog:timesat_extracts/h18v02/sos/sos_h18v02_2000_s1_laea_cog.tif\n"
     ]
    },
    {
     "name": "stdout",
     "output_type": "stream",
     "text": [
      "cog:timesat_extracts/h18v02/sos/sos_h18v02_2001_s1_laea_cog.tif\n",
      "cog:timesat_extracts/h18v02/sos/sos_h18v02_2002_s1_laea_cog.tif\n"
     ]
    },
    {
     "name": "stdout",
     "output_type": "stream",
     "text": [
      "cog:timesat_extracts/h18v02/sos/sos_h18v02_2003_s1_laea_cog.tif\n",
      "cog:timesat_extracts/h18v02/sos/sos_h18v02_2004_s1_laea_cog.tif\n"
     ]
    },
    {
     "name": "stdout",
     "output_type": "stream",
     "text": [
      "cog:timesat_extracts/h18v02/sos/sos_h18v02_2005_s1_laea_cog.tif\n",
      "cog:timesat_extracts/h18v02/sos/sos_h18v02_2006_s1_laea_cog.tif\n"
     ]
    },
    {
     "name": "stdout",
     "output_type": "stream",
     "text": [
      "cog:timesat_extracts/h18v02/sos/sos_h18v02_2007_s1_laea_cog.tif\n",
      "cog:timesat_extracts/h18v02/sos/sos_h18v02_2008_s1_laea_cog.tif\n"
     ]
    },
    {
     "name": "stdout",
     "output_type": "stream",
     "text": [
      "cog:timesat_extracts/h18v02/sos/sos_h18v02_2009_s1_laea_cog.tif\n",
      "cog:timesat_extracts/h18v02/sos/sos_h18v02_2010_s1_laea_cog.tif\n"
     ]
    },
    {
     "name": "stdout",
     "output_type": "stream",
     "text": [
      "cog:timesat_extracts/h18v02/sos/sos_h18v02_2011_s1_laea_cog.tif\n",
      "cog:timesat_extracts/h18v02/sos/sos_h18v02_2012_s1_laea_cog.tif\n"
     ]
    },
    {
     "name": "stdout",
     "output_type": "stream",
     "text": [
      "cog:timesat_extracts/h18v02/sos/sos_h18v02_2013_s1_laea_cog.tif\n",
      "cog:timesat_extracts/h18v02/sos/sos_h18v02_2014_s1_laea_cog.tif\n"
     ]
    },
    {
     "name": "stdout",
     "output_type": "stream",
     "text": [
      "cog:timesat_extracts/h18v02/sos/sos_h18v02_2015_s1_laea_cog.tif\n",
      "cog:timesat_extracts/h18v02/sos/sos_h18v02_2016_s1_laea_cog.tif\n"
     ]
    },
    {
     "name": "stdout",
     "output_type": "stream",
     "text": [
      "cog:timesat_extracts/h18v02/sos/sos_h18v02_2017_s1_laea_cog.tif\n",
      "cog:timesat_extracts/h18v02/sos/sos_h18v02_2018_s1_laea_cog.tif\n"
     ]
    },
    {
     "name": "stdout",
     "output_type": "stream",
     "text": [
      "cog:timesat_extracts/h18v02/sos/sos_h18v02_2019_s1_laea_cog.tif\n",
      "cog:timesat_extracts/h18v02/sos/sos_h18v02_2020_s1_laea_cog.tif\n"
     ]
    },
    {
     "name": "stdout",
     "output_type": "stream",
     "text": [
      "cog:timesat_extracts/h18v02/sos_value/sos_value_h18v02_2000_s1_laea_cog.tif\n",
      "cog:timesat_extracts/h18v02/sos_value/sos_value_h18v02_2001_s1_laea_cog.tif\n"
     ]
    },
    {
     "name": "stdout",
     "output_type": "stream",
     "text": [
      "cog:timesat_extracts/h18v02/sos_value/sos_value_h18v02_2002_s1_laea_cog.tif\n",
      "cog:timesat_extracts/h18v02/sos_value/sos_value_h18v02_2003_s1_laea_cog.tif\n"
     ]
    },
    {
     "name": "stdout",
     "output_type": "stream",
     "text": [
      "cog:timesat_extracts/h18v02/sos_value/sos_value_h18v02_2004_s1_laea_cog.tif\n",
      "cog:timesat_extracts/h18v02/sos_value/sos_value_h18v02_2005_s1_laea_cog.tif\n"
     ]
    },
    {
     "name": "stdout",
     "output_type": "stream",
     "text": [
      "cog:timesat_extracts/h18v02/sos_value/sos_value_h18v02_2006_s1_laea_cog.tif\n",
      "cog:timesat_extracts/h18v02/sos_value/sos_value_h18v02_2007_s1_laea_cog.tif\n"
     ]
    },
    {
     "name": "stdout",
     "output_type": "stream",
     "text": [
      "cog:timesat_extracts/h18v02/sos_value/sos_value_h18v02_2008_s1_laea_cog.tif\n",
      "cog:timesat_extracts/h18v02/sos_value/sos_value_h18v02_2009_s1_laea_cog.tif\n"
     ]
    },
    {
     "name": "stdout",
     "output_type": "stream",
     "text": [
      "cog:timesat_extracts/h18v02/sos_value/sos_value_h18v02_2010_s1_laea_cog.tif\n",
      "cog:timesat_extracts/h18v02/sos_value/sos_value_h18v02_2011_s1_laea_cog.tif\n"
     ]
    },
    {
     "name": "stdout",
     "output_type": "stream",
     "text": [
      "cog:timesat_extracts/h18v02/sos_value/sos_value_h18v02_2012_s1_laea_cog.tif\n",
      "cog:timesat_extracts/h18v02/sos_value/sos_value_h18v02_2013_s1_laea_cog.tif\n"
     ]
    },
    {
     "name": "stdout",
     "output_type": "stream",
     "text": [
      "cog:timesat_extracts/h18v02/sos_value/sos_value_h18v02_2014_s1_laea_cog.tif\n",
      "cog:timesat_extracts/h18v02/sos_value/sos_value_h18v02_2015_s1_laea_cog.tif\n"
     ]
    },
    {
     "name": "stdout",
     "output_type": "stream",
     "text": [
      "cog:timesat_extracts/h18v02/sos_value/sos_value_h18v02_2016_s1_laea_cog.tif\n",
      "cog:timesat_extracts/h18v02/sos_value/sos_value_h18v02_2017_s1_laea_cog.tif\n"
     ]
    },
    {
     "name": "stdout",
     "output_type": "stream",
     "text": [
      "cog:timesat_extracts/h18v02/sos_value/sos_value_h18v02_2018_s1_laea_cog.tif\n",
      "cog:timesat_extracts/h18v02/sos_value/sos_value_h18v02_2019_s1_laea_cog.tif\n"
     ]
    },
    {
     "name": "stdout",
     "output_type": "stream",
     "text": [
      "cog:timesat_extracts/h18v02/sos_value/sos_value_h18v02_2020_s1_laea_cog.tif\n",
      "cog:timesat_extracts/h18v03/LINT/LINT_h18v03_2000_s1_laea_cog.tif\n"
     ]
    },
    {
     "name": "stdout",
     "output_type": "stream",
     "text": [
      "cog:timesat_extracts/h18v03/LINT/LINT_h18v03_2001_s1_laea_cog.tif\n",
      "cog:timesat_extracts/h18v03/LINT/LINT_h18v03_2002_s1_laea_cog.tif\n"
     ]
    },
    {
     "name": "stdout",
     "output_type": "stream",
     "text": [
      "cog:timesat_extracts/h18v03/LINT/LINT_h18v03_2003_s1_laea_cog.tif\n",
      "cog:timesat_extracts/h18v03/LINT/LINT_h18v03_2004_s1_laea_cog.tif\n"
     ]
    },
    {
     "name": "stdout",
     "output_type": "stream",
     "text": [
      "cog:timesat_extracts/h18v03/LINT/LINT_h18v03_2005_s1_laea_cog.tif\n",
      "cog:timesat_extracts/h18v03/LINT/LINT_h18v03_2006_s1_laea_cog.tif\n"
     ]
    },
    {
     "name": "stdout",
     "output_type": "stream",
     "text": [
      "cog:timesat_extracts/h18v03/LINT/LINT_h18v03_2007_s1_laea_cog.tif\n",
      "cog:timesat_extracts/h18v03/LINT/LINT_h18v03_2008_s1_laea_cog.tif\n"
     ]
    },
    {
     "name": "stdout",
     "output_type": "stream",
     "text": [
      "cog:timesat_extracts/h18v03/LINT/LINT_h18v03_2009_s1_laea_cog.tif\n",
      "cog:timesat_extracts/h18v03/LINT/LINT_h18v03_2010_s1_laea_cog.tif\n"
     ]
    },
    {
     "name": "stdout",
     "output_type": "stream",
     "text": [
      "cog:timesat_extracts/h18v03/LINT/LINT_h18v03_2011_s1_laea_cog.tif\n",
      "cog:timesat_extracts/h18v03/LINT/LINT_h18v03_2012_s1_laea_cog.tif\n"
     ]
    },
    {
     "name": "stdout",
     "output_type": "stream",
     "text": [
      "cog:timesat_extracts/h18v03/LINT/LINT_h18v03_2013_s1_laea_cog.tif\n",
      "cog:timesat_extracts/h18v03/LINT/LINT_h18v03_2014_s1_laea_cog.tif\n"
     ]
    },
    {
     "name": "stdout",
     "output_type": "stream",
     "text": [
      "cog:timesat_extracts/h18v03/LINT/LINT_h18v03_2015_s1_laea_cog.tif\n"
     ]
    },
    {
     "name": "stdout",
     "output_type": "stream",
     "text": [
      "cog:timesat_extracts/h18v03/LINT/LINT_h18v03_2016_s1_laea_cog.tif\n",
      "cog:timesat_extracts/h18v03/LINT/LINT_h18v03_2017_s1_laea_cog.tif\n"
     ]
    },
    {
     "name": "stdout",
     "output_type": "stream",
     "text": [
      "cog:timesat_extracts/h18v03/LINT/LINT_h18v03_2018_s1_laea_cog.tif\n",
      "cog:timesat_extracts/h18v03/LINT/LINT_h18v03_2019_s1_laea_cog.tif\n"
     ]
    },
    {
     "name": "stdout",
     "output_type": "stream",
     "text": [
      "cog:timesat_extracts/h18v03/LINT/LINT_h18v03_2020_s1_laea_cog.tif\n",
      "cog:timesat_extracts/h18v03/SINT/SINT_h18v03_2000_s1_laea_cog.tif\n"
     ]
    },
    {
     "name": "stdout",
     "output_type": "stream",
     "text": [
      "cog:timesat_extracts/h18v03/SINT/SINT_h18v03_2001_s1_laea_cog.tif\n",
      "cog:timesat_extracts/h18v03/SINT/SINT_h18v03_2002_s1_laea_cog.tif\n"
     ]
    },
    {
     "name": "stdout",
     "output_type": "stream",
     "text": [
      "cog:timesat_extracts/h18v03/SINT/SINT_h18v03_2003_s1_laea_cog.tif\n",
      "cog:timesat_extracts/h18v03/SINT/SINT_h18v03_2004_s1_laea_cog.tif\n"
     ]
    },
    {
     "name": "stdout",
     "output_type": "stream",
     "text": [
      "cog:timesat_extracts/h18v03/SINT/SINT_h18v03_2005_s1_laea_cog.tif\n",
      "cog:timesat_extracts/h18v03/SINT/SINT_h18v03_2006_s1_laea_cog.tif\n"
     ]
    },
    {
     "name": "stdout",
     "output_type": "stream",
     "text": [
      "cog:timesat_extracts/h18v03/SINT/SINT_h18v03_2007_s1_laea_cog.tif\n",
      "cog:timesat_extracts/h18v03/SINT/SINT_h18v03_2008_s1_laea_cog.tif\n"
     ]
    },
    {
     "name": "stdout",
     "output_type": "stream",
     "text": [
      "cog:timesat_extracts/h18v03/SINT/SINT_h18v03_2009_s1_laea_cog.tif\n",
      "cog:timesat_extracts/h18v03/SINT/SINT_h18v03_2010_s1_laea_cog.tif\n"
     ]
    },
    {
     "name": "stdout",
     "output_type": "stream",
     "text": [
      "cog:timesat_extracts/h18v03/SINT/SINT_h18v03_2011_s1_laea_cog.tif\n"
     ]
    },
    {
     "name": "stdout",
     "output_type": "stream",
     "text": [
      "cog:timesat_extracts/h18v03/SINT/SINT_h18v03_2012_s1_laea_cog.tif\n"
     ]
    },
    {
     "name": "stdout",
     "output_type": "stream",
     "text": [
      "cog:timesat_extracts/h18v03/SINT/SINT_h18v03_2013_s1_laea_cog.tif\n",
      "cog:timesat_extracts/h18v03/SINT/SINT_h18v03_2014_s1_laea_cog.tif\n"
     ]
    },
    {
     "name": "stdout",
     "output_type": "stream",
     "text": [
      "cog:timesat_extracts/h18v03/SINT/SINT_h18v03_2015_s1_laea_cog.tif\n"
     ]
    },
    {
     "name": "stdout",
     "output_type": "stream",
     "text": [
      "cog:timesat_extracts/h18v03/SINT/SINT_h18v03_2016_s1_laea_cog.tif\n",
      "cog:timesat_extracts/h18v03/SINT/SINT_h18v03_2017_s1_laea_cog.tif\n"
     ]
    },
    {
     "name": "stdout",
     "output_type": "stream",
     "text": [
      "cog:timesat_extracts/h18v03/SINT/SINT_h18v03_2018_s1_laea_cog.tif\n"
     ]
    },
    {
     "name": "stdout",
     "output_type": "stream",
     "text": [
      "cog:timesat_extracts/h18v03/SINT/SINT_h18v03_2019_s1_laea_cog.tif\n",
      "cog:timesat_extracts/h18v03/SINT/SINT_h18v03_2020_s1_laea_cog.tif\n"
     ]
    },
    {
     "name": "stdout",
     "output_type": "stream",
     "text": [
      "cog:timesat_extracts/h18v03/decrease_rate/decrease_rate_EOS_h18v03_2000_s1_laea_cog.tif\n",
      "cog:timesat_extracts/h18v03/decrease_rate/decrease_rate_EOS_h18v03_2001_s1_laea_cog.tif\n"
     ]
    },
    {
     "name": "stdout",
     "output_type": "stream",
     "text": [
      "cog:timesat_extracts/h18v03/decrease_rate/decrease_rate_EOS_h18v03_2002_s1_laea_cog.tif\n",
      "cog:timesat_extracts/h18v03/decrease_rate/decrease_rate_EOS_h18v03_2003_s1_laea_cog.tif\n"
     ]
    },
    {
     "name": "stdout",
     "output_type": "stream",
     "text": [
      "cog:timesat_extracts/h18v03/decrease_rate/decrease_rate_EOS_h18v03_2004_s1_laea_cog.tif\n",
      "cog:timesat_extracts/h18v03/decrease_rate/decrease_rate_EOS_h18v03_2005_s1_laea_cog.tif\n"
     ]
    },
    {
     "name": "stdout",
     "output_type": "stream",
     "text": [
      "cog:timesat_extracts/h18v03/decrease_rate/decrease_rate_EOS_h18v03_2006_s1_laea_cog.tif\n"
     ]
    },
    {
     "name": "stdout",
     "output_type": "stream",
     "text": [
      "cog:timesat_extracts/h18v03/decrease_rate/decrease_rate_EOS_h18v03_2007_s1_laea_cog.tif\n",
      "cog:timesat_extracts/h18v03/decrease_rate/decrease_rate_EOS_h18v03_2008_s1_laea_cog.tif\n"
     ]
    },
    {
     "name": "stdout",
     "output_type": "stream",
     "text": [
      "cog:timesat_extracts/h18v03/decrease_rate/decrease_rate_EOS_h18v03_2009_s1_laea_cog.tif\n",
      "cog:timesat_extracts/h18v03/decrease_rate/decrease_rate_EOS_h18v03_2010_s1_laea_cog.tif\n"
     ]
    },
    {
     "name": "stdout",
     "output_type": "stream",
     "text": [
      "cog:timesat_extracts/h18v03/decrease_rate/decrease_rate_EOS_h18v03_2011_s1_laea_cog.tif\n",
      "cog:timesat_extracts/h18v03/decrease_rate/decrease_rate_EOS_h18v03_2012_s1_laea_cog.tif\n"
     ]
    },
    {
     "name": "stdout",
     "output_type": "stream",
     "text": [
      "cog:timesat_extracts/h18v03/decrease_rate/decrease_rate_EOS_h18v03_2013_s1_laea_cog.tif\n",
      "cog:timesat_extracts/h18v03/decrease_rate/decrease_rate_EOS_h18v03_2014_s1_laea_cog.tif\n"
     ]
    },
    {
     "name": "stdout",
     "output_type": "stream",
     "text": [
      "cog:timesat_extracts/h18v03/decrease_rate/decrease_rate_EOS_h18v03_2015_s1_laea_cog.tif\n"
     ]
    },
    {
     "name": "stdout",
     "output_type": "stream",
     "text": [
      "cog:timesat_extracts/h18v03/decrease_rate/decrease_rate_EOS_h18v03_2016_s1_laea_cog.tif\n",
      "cog:timesat_extracts/h18v03/decrease_rate/decrease_rate_EOS_h18v03_2017_s1_laea_cog.tif\n"
     ]
    },
    {
     "name": "stdout",
     "output_type": "stream",
     "text": [
      "cog:timesat_extracts/h18v03/decrease_rate/decrease_rate_EOS_h18v03_2018_s1_laea_cog.tif\n",
      "cog:timesat_extracts/h18v03/decrease_rate/decrease_rate_EOS_h18v03_2019_s1_laea_cog.tif\n"
     ]
    },
    {
     "name": "stdout",
     "output_type": "stream",
     "text": [
      "cog:timesat_extracts/h18v03/decrease_rate/decrease_rate_EOS_h18v03_2020_s1_laea_cog.tif\n",
      "cog:timesat_extracts/h18v03/eos/eos_h18v03_2000_s1_laea_cog.tif\n"
     ]
    },
    {
     "name": "stdout",
     "output_type": "stream",
     "text": [
      "cog:timesat_extracts/h18v03/eos/eos_h18v03_2001_s1_laea_cog.tif\n",
      "cog:timesat_extracts/h18v03/eos/eos_h18v03_2002_s1_laea_cog.tif\n"
     ]
    },
    {
     "name": "stdout",
     "output_type": "stream",
     "text": [
      "cog:timesat_extracts/h18v03/eos/eos_h18v03_2003_s1_laea_cog.tif\n",
      "cog:timesat_extracts/h18v03/eos/eos_h18v03_2004_s1_laea_cog.tif\n"
     ]
    },
    {
     "name": "stdout",
     "output_type": "stream",
     "text": [
      "cog:timesat_extracts/h18v03/eos/eos_h18v03_2005_s1_laea_cog.tif\n",
      "cog:timesat_extracts/h18v03/eos/eos_h18v03_2006_s1_laea_cog.tif\n"
     ]
    },
    {
     "name": "stdout",
     "output_type": "stream",
     "text": [
      "cog:timesat_extracts/h18v03/eos/eos_h18v03_2007_s1_laea_cog.tif\n",
      "cog:timesat_extracts/h18v03/eos/eos_h18v03_2008_s1_laea_cog.tif\n"
     ]
    },
    {
     "name": "stdout",
     "output_type": "stream",
     "text": [
      "cog:timesat_extracts/h18v03/eos/eos_h18v03_2009_s1_laea_cog.tif\n",
      "cog:timesat_extracts/h18v03/eos/eos_h18v03_2010_s1_laea_cog.tif\n"
     ]
    },
    {
     "name": "stdout",
     "output_type": "stream",
     "text": [
      "cog:timesat_extracts/h18v03/eos/eos_h18v03_2011_s1_laea_cog.tif\n",
      "cog:timesat_extracts/h18v03/eos/eos_h18v03_2012_s1_laea_cog.tif\n"
     ]
    },
    {
     "name": "stdout",
     "output_type": "stream",
     "text": [
      "cog:timesat_extracts/h18v03/eos/eos_h18v03_2013_s1_laea_cog.tif\n",
      "cog:timesat_extracts/h18v03/eos/eos_h18v03_2014_s1_laea_cog.tif\n"
     ]
    },
    {
     "name": "stdout",
     "output_type": "stream",
     "text": [
      "cog:timesat_extracts/h18v03/eos/eos_h18v03_2015_s1_laea_cog.tif\n",
      "cog:timesat_extracts/h18v03/eos/eos_h18v03_2016_s1_laea_cog.tif\n"
     ]
    },
    {
     "name": "stdout",
     "output_type": "stream",
     "text": [
      "cog:timesat_extracts/h18v03/eos/eos_h18v03_2017_s1_laea_cog.tif\n",
      "cog:timesat_extracts/h18v03/eos/eos_h18v03_2018_s1_laea_cog.tif\n"
     ]
    },
    {
     "name": "stdout",
     "output_type": "stream",
     "text": [
      "cog:timesat_extracts/h18v03/eos/eos_h18v03_2019_s1_laea_cog.tif\n",
      "cog:timesat_extracts/h18v03/eos/eos_h18v03_2020_s1_laea_cog.tif\n"
     ]
    },
    {
     "name": "stdout",
     "output_type": "stream",
     "text": [
      "cog:timesat_extracts/h18v03/eos_value/eos_value_h18v03_2000_s1_laea_cog.tif\n",
      "cog:timesat_extracts/h18v03/eos_value/eos_value_h18v03_2001_s1_laea_cog.tif\n"
     ]
    },
    {
     "name": "stdout",
     "output_type": "stream",
     "text": [
      "cog:timesat_extracts/h18v03/eos_value/eos_value_h18v03_2002_s1_laea_cog.tif\n",
      "cog:timesat_extracts/h18v03/eos_value/eos_value_h18v03_2003_s1_laea_cog.tif\n"
     ]
    },
    {
     "name": "stdout",
     "output_type": "stream",
     "text": [
      "cog:timesat_extracts/h18v03/eos_value/eos_value_h18v03_2004_s1_laea_cog.tif\n",
      "cog:timesat_extracts/h18v03/eos_value/eos_value_h18v03_2005_s1_laea_cog.tif\n"
     ]
    },
    {
     "name": "stdout",
     "output_type": "stream",
     "text": [
      "cog:timesat_extracts/h18v03/eos_value/eos_value_h18v03_2006_s1_laea_cog.tif\n",
      "cog:timesat_extracts/h18v03/eos_value/eos_value_h18v03_2007_s1_laea_cog.tif\n"
     ]
    },
    {
     "name": "stdout",
     "output_type": "stream",
     "text": [
      "cog:timesat_extracts/h18v03/eos_value/eos_value_h18v03_2008_s1_laea_cog.tif\n",
      "cog:timesat_extracts/h18v03/eos_value/eos_value_h18v03_2009_s1_laea_cog.tif\n"
     ]
    },
    {
     "name": "stdout",
     "output_type": "stream",
     "text": [
      "cog:timesat_extracts/h18v03/eos_value/eos_value_h18v03_2010_s1_laea_cog.tif\n"
     ]
    },
    {
     "name": "stdout",
     "output_type": "stream",
     "text": [
      "cog:timesat_extracts/h18v03/eos_value/eos_value_h18v03_2011_s1_laea_cog.tif\n",
      "cog:timesat_extracts/h18v03/eos_value/eos_value_h18v03_2012_s1_laea_cog.tif\n"
     ]
    },
    {
     "name": "stdout",
     "output_type": "stream",
     "text": [
      "cog:timesat_extracts/h18v03/eos_value/eos_value_h18v03_2013_s1_laea_cog.tif\n"
     ]
    },
    {
     "name": "stdout",
     "output_type": "stream",
     "text": [
      "cog:timesat_extracts/h18v03/eos_value/eos_value_h18v03_2014_s1_laea_cog.tif\n",
      "cog:timesat_extracts/h18v03/eos_value/eos_value_h18v03_2015_s1_laea_cog.tif\n"
     ]
    },
    {
     "name": "stdout",
     "output_type": "stream",
     "text": [
      "cog:timesat_extracts/h18v03/eos_value/eos_value_h18v03_2016_s1_laea_cog.tif\n",
      "cog:timesat_extracts/h18v03/eos_value/eos_value_h18v03_2017_s1_laea_cog.tif\n"
     ]
    },
    {
     "name": "stdout",
     "output_type": "stream",
     "text": [
      "cog:timesat_extracts/h18v03/eos_value/eos_value_h18v03_2018_s1_laea_cog.tif\n",
      "cog:timesat_extracts/h18v03/eos_value/eos_value_h18v03_2019_s1_laea_cog.tif\n"
     ]
    },
    {
     "name": "stdout",
     "output_type": "stream",
     "text": [
      "cog:timesat_extracts/h18v03/eos_value/eos_value_h18v03_2020_s1_laea_cog.tif\n"
     ]
    },
    {
     "name": "stdout",
     "output_type": "stream",
     "text": [
      "cog:timesat_extracts/h18v03/increase_rate/increase_rate_SOS_h18v03_2000_s1_laea_cog.tif\n",
      "cog:timesat_extracts/h18v03/increase_rate/increase_rate_SOS_h18v03_2001_s1_laea_cog.tif\n"
     ]
    },
    {
     "name": "stdout",
     "output_type": "stream",
     "text": [
      "cog:timesat_extracts/h18v03/increase_rate/increase_rate_SOS_h18v03_2002_s1_laea_cog.tif\n",
      "cog:timesat_extracts/h18v03/increase_rate/increase_rate_SOS_h18v03_2003_s1_laea_cog.tif\n"
     ]
    },
    {
     "name": "stdout",
     "output_type": "stream",
     "text": [
      "cog:timesat_extracts/h18v03/increase_rate/increase_rate_SOS_h18v03_2004_s1_laea_cog.tif\n",
      "cog:timesat_extracts/h18v03/increase_rate/increase_rate_SOS_h18v03_2005_s1_laea_cog.tif\n"
     ]
    },
    {
     "name": "stdout",
     "output_type": "stream",
     "text": [
      "cog:timesat_extracts/h18v03/increase_rate/increase_rate_SOS_h18v03_2006_s1_laea_cog.tif\n",
      "cog:timesat_extracts/h18v03/increase_rate/increase_rate_SOS_h18v03_2007_s1_laea_cog.tif\n"
     ]
    },
    {
     "name": "stdout",
     "output_type": "stream",
     "text": [
      "cog:timesat_extracts/h18v03/increase_rate/increase_rate_SOS_h18v03_2008_s1_laea_cog.tif\n"
     ]
    },
    {
     "name": "stdout",
     "output_type": "stream",
     "text": [
      "cog:timesat_extracts/h18v03/increase_rate/increase_rate_SOS_h18v03_2009_s1_laea_cog.tif\n",
      "cog:timesat_extracts/h18v03/increase_rate/increase_rate_SOS_h18v03_2010_s1_laea_cog.tif\n"
     ]
    },
    {
     "name": "stdout",
     "output_type": "stream",
     "text": [
      "cog:timesat_extracts/h18v03/increase_rate/increase_rate_SOS_h18v03_2011_s1_laea_cog.tif\n",
      "cog:timesat_extracts/h18v03/increase_rate/increase_rate_SOS_h18v03_2012_s1_laea_cog.tif\n"
     ]
    },
    {
     "name": "stdout",
     "output_type": "stream",
     "text": [
      "cog:timesat_extracts/h18v03/increase_rate/increase_rate_SOS_h18v03_2013_s1_laea_cog.tif\n",
      "cog:timesat_extracts/h18v03/increase_rate/increase_rate_SOS_h18v03_2014_s1_laea_cog.tif\n"
     ]
    },
    {
     "name": "stdout",
     "output_type": "stream",
     "text": [
      "cog:timesat_extracts/h18v03/increase_rate/increase_rate_SOS_h18v03_2015_s1_laea_cog.tif\n",
      "cog:timesat_extracts/h18v03/increase_rate/increase_rate_SOS_h18v03_2016_s1_laea_cog.tif\n"
     ]
    },
    {
     "name": "stdout",
     "output_type": "stream",
     "text": [
      "cog:timesat_extracts/h18v03/increase_rate/increase_rate_SOS_h18v03_2017_s1_laea_cog.tif\n",
      "cog:timesat_extracts/h18v03/increase_rate/increase_rate_SOS_h18v03_2018_s1_laea_cog.tif\n"
     ]
    },
    {
     "name": "stdout",
     "output_type": "stream",
     "text": [
      "cog:timesat_extracts/h18v03/increase_rate/increase_rate_SOS_h18v03_2019_s1_laea_cog.tif\n",
      "cog:timesat_extracts/h18v03/increase_rate/increase_rate_SOS_h18v03_2020_s1_laea_cog.tif\n"
     ]
    },
    {
     "name": "stdout",
     "output_type": "stream",
     "text": [
      "cog:timesat_extracts/h18v03/length_of_season/los_h18v03_2000_s1_laea_cog.tif\n",
      "cog:timesat_extracts/h18v03/length_of_season/los_h18v03_2001_s1_laea_cog.tif\n"
     ]
    },
    {
     "name": "stdout",
     "output_type": "stream",
     "text": [
      "cog:timesat_extracts/h18v03/length_of_season/los_h18v03_2002_s1_laea_cog.tif\n",
      "cog:timesat_extracts/h18v03/length_of_season/los_h18v03_2003_s1_laea_cog.tif\n"
     ]
    },
    {
     "name": "stdout",
     "output_type": "stream",
     "text": [
      "cog:timesat_extracts/h18v03/length_of_season/los_h18v03_2004_s1_laea_cog.tif\n",
      "cog:timesat_extracts/h18v03/length_of_season/los_h18v03_2005_s1_laea_cog.tif\n"
     ]
    },
    {
     "name": "stdout",
     "output_type": "stream",
     "text": [
      "cog:timesat_extracts/h18v03/length_of_season/los_h18v03_2006_s1_laea_cog.tif\n",
      "cog:timesat_extracts/h18v03/length_of_season/los_h18v03_2007_s1_laea_cog.tif\n"
     ]
    },
    {
     "name": "stdout",
     "output_type": "stream",
     "text": [
      "cog:timesat_extracts/h18v03/length_of_season/los_h18v03_2008_s1_laea_cog.tif\n",
      "cog:timesat_extracts/h18v03/length_of_season/los_h18v03_2009_s1_laea_cog.tif\n"
     ]
    },
    {
     "name": "stdout",
     "output_type": "stream",
     "text": [
      "cog:timesat_extracts/h18v03/length_of_season/los_h18v03_2010_s1_laea_cog.tif\n",
      "cog:timesat_extracts/h18v03/length_of_season/los_h18v03_2011_s1_laea_cog.tif\n"
     ]
    },
    {
     "name": "stdout",
     "output_type": "stream",
     "text": [
      "cog:timesat_extracts/h18v03/length_of_season/los_h18v03_2012_s1_laea_cog.tif\n",
      "cog:timesat_extracts/h18v03/length_of_season/los_h18v03_2013_s1_laea_cog.tif\n"
     ]
    },
    {
     "name": "stdout",
     "output_type": "stream",
     "text": [
      "cog:timesat_extracts/h18v03/length_of_season/los_h18v03_2014_s1_laea_cog.tif\n",
      "cog:timesat_extracts/h18v03/length_of_season/los_h18v03_2015_s1_laea_cog.tif\n"
     ]
    },
    {
     "name": "stdout",
     "output_type": "stream",
     "text": [
      "cog:timesat_extracts/h18v03/length_of_season/los_h18v03_2016_s1_laea_cog.tif\n",
      "cog:timesat_extracts/h18v03/length_of_season/los_h18v03_2017_s1_laea_cog.tif\n"
     ]
    },
    {
     "name": "stdout",
     "output_type": "stream",
     "text": [
      "cog:timesat_extracts/h18v03/length_of_season/los_h18v03_2018_s1_laea_cog.tif\n",
      "cog:timesat_extracts/h18v03/length_of_season/los_h18v03_2019_s1_laea_cog.tif\n"
     ]
    },
    {
     "name": "stdout",
     "output_type": "stream",
     "text": [
      "cog:timesat_extracts/h18v03/length_of_season/los_h18v03_2020_s1_laea_cog.tif\n",
      "cog:timesat_extracts/h18v03/seasonal_amplitude/s_amplitude_h18v03_2000_s1_laea_cog.tif\n"
     ]
    },
    {
     "name": "stdout",
     "output_type": "stream",
     "text": [
      "cog:timesat_extracts/h18v03/seasonal_amplitude/s_amplitude_h18v03_2001_s1_laea_cog.tif\n",
      "cog:timesat_extracts/h18v03/seasonal_amplitude/s_amplitude_h18v03_2002_s1_laea_cog.tif\n"
     ]
    },
    {
     "name": "stdout",
     "output_type": "stream",
     "text": [
      "cog:timesat_extracts/h18v03/seasonal_amplitude/s_amplitude_h18v03_2003_s1_laea_cog.tif\n",
      "cog:timesat_extracts/h18v03/seasonal_amplitude/s_amplitude_h18v03_2004_s1_laea_cog.tif\n"
     ]
    },
    {
     "name": "stdout",
     "output_type": "stream",
     "text": [
      "cog:timesat_extracts/h18v03/seasonal_amplitude/s_amplitude_h18v03_2005_s1_laea_cog.tif\n",
      "cog:timesat_extracts/h18v03/seasonal_amplitude/s_amplitude_h18v03_2006_s1_laea_cog.tif\n"
     ]
    },
    {
     "name": "stdout",
     "output_type": "stream",
     "text": [
      "cog:timesat_extracts/h18v03/seasonal_amplitude/s_amplitude_h18v03_2007_s1_laea_cog.tif\n",
      "cog:timesat_extracts/h18v03/seasonal_amplitude/s_amplitude_h18v03_2008_s1_laea_cog.tif\n"
     ]
    },
    {
     "name": "stdout",
     "output_type": "stream",
     "text": [
      "cog:timesat_extracts/h18v03/seasonal_amplitude/s_amplitude_h18v03_2009_s1_laea_cog.tif\n",
      "cog:timesat_extracts/h18v03/seasonal_amplitude/s_amplitude_h18v03_2010_s1_laea_cog.tif\n"
     ]
    },
    {
     "name": "stdout",
     "output_type": "stream",
     "text": [
      "cog:timesat_extracts/h18v03/seasonal_amplitude/s_amplitude_h18v03_2011_s1_laea_cog.tif\n"
     ]
    },
    {
     "name": "stdout",
     "output_type": "stream",
     "text": [
      "cog:timesat_extracts/h18v03/seasonal_amplitude/s_amplitude_h18v03_2012_s1_laea_cog.tif\n",
      "cog:timesat_extracts/h18v03/seasonal_amplitude/s_amplitude_h18v03_2013_s1_laea_cog.tif\n"
     ]
    },
    {
     "name": "stdout",
     "output_type": "stream",
     "text": [
      "cog:timesat_extracts/h18v03/seasonal_amplitude/s_amplitude_h18v03_2014_s1_laea_cog.tif\n",
      "cog:timesat_extracts/h18v03/seasonal_amplitude/s_amplitude_h18v03_2015_s1_laea_cog.tif\n"
     ]
    },
    {
     "name": "stdout",
     "output_type": "stream",
     "text": [
      "cog:timesat_extracts/h18v03/seasonal_amplitude/s_amplitude_h18v03_2016_s1_laea_cog.tif\n",
      "cog:timesat_extracts/h18v03/seasonal_amplitude/s_amplitude_h18v03_2017_s1_laea_cog.tif\n"
     ]
    },
    {
     "name": "stdout",
     "output_type": "stream",
     "text": [
      "cog:timesat_extracts/h18v03/seasonal_amplitude/s_amplitude_h18v03_2018_s1_laea_cog.tif\n",
      "cog:timesat_extracts/h18v03/seasonal_amplitude/s_amplitude_h18v03_2019_s1_laea_cog.tif\n"
     ]
    },
    {
     "name": "stdout",
     "output_type": "stream",
     "text": [
      "cog:timesat_extracts/h18v03/seasonal_amplitude/s_amplitude_h18v03_2020_s1_laea_cog.tif\n",
      "cog:timesat_extracts/h18v03/sos/sos_h18v03_2000_s1_laea_cog.tif\n"
     ]
    },
    {
     "name": "stdout",
     "output_type": "stream",
     "text": [
      "cog:timesat_extracts/h18v03/sos/sos_h18v03_2001_s1_laea_cog.tif\n",
      "cog:timesat_extracts/h18v03/sos/sos_h18v03_2002_s1_laea_cog.tif\n"
     ]
    },
    {
     "name": "stdout",
     "output_type": "stream",
     "text": [
      "cog:timesat_extracts/h18v03/sos/sos_h18v03_2003_s1_laea_cog.tif\n",
      "cog:timesat_extracts/h18v03/sos/sos_h18v03_2004_s1_laea_cog.tif\n"
     ]
    },
    {
     "name": "stdout",
     "output_type": "stream",
     "text": [
      "cog:timesat_extracts/h18v03/sos/sos_h18v03_2005_s1_laea_cog.tif\n",
      "cog:timesat_extracts/h18v03/sos/sos_h18v03_2006_s1_laea_cog.tif\n"
     ]
    },
    {
     "name": "stdout",
     "output_type": "stream",
     "text": [
      "cog:timesat_extracts/h18v03/sos/sos_h18v03_2007_s1_laea_cog.tif\n",
      "cog:timesat_extracts/h18v03/sos/sos_h18v03_2008_s1_laea_cog.tif\n"
     ]
    },
    {
     "name": "stdout",
     "output_type": "stream",
     "text": [
      "cog:timesat_extracts/h18v03/sos/sos_h18v03_2009_s1_laea_cog.tif\n"
     ]
    },
    {
     "name": "stdout",
     "output_type": "stream",
     "text": [
      "cog:timesat_extracts/h18v03/sos/sos_h18v03_2010_s1_laea_cog.tif\n",
      "cog:timesat_extracts/h18v03/sos/sos_h18v03_2011_s1_laea_cog.tif\n"
     ]
    },
    {
     "name": "stdout",
     "output_type": "stream",
     "text": [
      "cog:timesat_extracts/h18v03/sos/sos_h18v03_2012_s1_laea_cog.tif\n",
      "cog:timesat_extracts/h18v03/sos/sos_h18v03_2013_s1_laea_cog.tif\n"
     ]
    },
    {
     "name": "stdout",
     "output_type": "stream",
     "text": [
      "cog:timesat_extracts/h18v03/sos/sos_h18v03_2014_s1_laea_cog.tif\n",
      "cog:timesat_extracts/h18v03/sos/sos_h18v03_2015_s1_laea_cog.tif\n"
     ]
    },
    {
     "name": "stdout",
     "output_type": "stream",
     "text": [
      "cog:timesat_extracts/h18v03/sos/sos_h18v03_2016_s1_laea_cog.tif\n",
      "cog:timesat_extracts/h18v03/sos/sos_h18v03_2017_s1_laea_cog.tif\n"
     ]
    },
    {
     "name": "stdout",
     "output_type": "stream",
     "text": [
      "cog:timesat_extracts/h18v03/sos/sos_h18v03_2018_s1_laea_cog.tif\n"
     ]
    },
    {
     "name": "stdout",
     "output_type": "stream",
     "text": [
      "cog:timesat_extracts/h18v03/sos/sos_h18v03_2019_s1_laea_cog.tif\n",
      "cog:timesat_extracts/h18v03/sos/sos_h18v03_2020_s1_laea_cog.tif\n"
     ]
    },
    {
     "name": "stdout",
     "output_type": "stream",
     "text": [
      "cog:timesat_extracts/h18v03/sos_value/sos_value_h18v03_2000_s1_laea_cog.tif\n",
      "cog:timesat_extracts/h18v03/sos_value/sos_value_h18v03_2001_s1_laea_cog.tif\n"
     ]
    },
    {
     "name": "stdout",
     "output_type": "stream",
     "text": [
      "cog:timesat_extracts/h18v03/sos_value/sos_value_h18v03_2002_s1_laea_cog.tif\n",
      "cog:timesat_extracts/h18v03/sos_value/sos_value_h18v03_2003_s1_laea_cog.tif\n"
     ]
    },
    {
     "name": "stdout",
     "output_type": "stream",
     "text": [
      "cog:timesat_extracts/h18v03/sos_value/sos_value_h18v03_2004_s1_laea_cog.tif\n",
      "cog:timesat_extracts/h18v03/sos_value/sos_value_h18v03_2005_s1_laea_cog.tif\n"
     ]
    },
    {
     "name": "stdout",
     "output_type": "stream",
     "text": [
      "cog:timesat_extracts/h18v03/sos_value/sos_value_h18v03_2006_s1_laea_cog.tif\n",
      "cog:timesat_extracts/h18v03/sos_value/sos_value_h18v03_2007_s1_laea_cog.tif\n"
     ]
    },
    {
     "name": "stdout",
     "output_type": "stream",
     "text": [
      "cog:timesat_extracts/h18v03/sos_value/sos_value_h18v03_2008_s1_laea_cog.tif\n",
      "cog:timesat_extracts/h18v03/sos_value/sos_value_h18v03_2009_s1_laea_cog.tif\n"
     ]
    },
    {
     "name": "stdout",
     "output_type": "stream",
     "text": [
      "cog:timesat_extracts/h18v03/sos_value/sos_value_h18v03_2010_s1_laea_cog.tif\n",
      "cog:timesat_extracts/h18v03/sos_value/sos_value_h18v03_2011_s1_laea_cog.tif\n"
     ]
    },
    {
     "name": "stdout",
     "output_type": "stream",
     "text": [
      "cog:timesat_extracts/h18v03/sos_value/sos_value_h18v03_2012_s1_laea_cog.tif\n",
      "cog:timesat_extracts/h18v03/sos_value/sos_value_h18v03_2013_s1_laea_cog.tif\n"
     ]
    },
    {
     "name": "stdout",
     "output_type": "stream",
     "text": [
      "cog:timesat_extracts/h18v03/sos_value/sos_value_h18v03_2014_s1_laea_cog.tif\n",
      "cog:timesat_extracts/h18v03/sos_value/sos_value_h18v03_2015_s1_laea_cog.tif\n"
     ]
    },
    {
     "name": "stdout",
     "output_type": "stream",
     "text": [
      "cog:timesat_extracts/h18v03/sos_value/sos_value_h18v03_2016_s1_laea_cog.tif\n",
      "cog:timesat_extracts/h18v03/sos_value/sos_value_h18v03_2017_s1_laea_cog.tif\n"
     ]
    },
    {
     "name": "stdout",
     "output_type": "stream",
     "text": [
      "cog:timesat_extracts/h18v03/sos_value/sos_value_h18v03_2018_s1_laea_cog.tif\n"
     ]
    },
    {
     "name": "stdout",
     "output_type": "stream",
     "text": [
      "cog:timesat_extracts/h18v03/sos_value/sos_value_h18v03_2019_s1_laea_cog.tif\n",
      "cog:timesat_extracts/h18v03/sos_value/sos_value_h18v03_2020_s1_laea_cog.tif\n"
     ]
    },
    {
     "name": "stdout",
     "output_type": "stream",
     "text": [
      "cog:timesat_extracts/h18v04/LINT/LINT_h18v04_2000_s1_laea_cog.tif\n"
     ]
    },
    {
     "name": "stdout",
     "output_type": "stream",
     "text": [
      "cog:timesat_extracts/h18v04/LINT/LINT_h18v04_2001_s1_laea_cog.tif\n"
     ]
    },
    {
     "name": "stdout",
     "output_type": "stream",
     "text": [
      "cog:timesat_extracts/h18v04/LINT/LINT_h18v04_2002_s1_laea_cog.tif\n"
     ]
    },
    {
     "name": "stdout",
     "output_type": "stream",
     "text": [
      "cog:timesat_extracts/h18v04/LINT/LINT_h18v04_2003_s1_laea_cog.tif\n"
     ]
    },
    {
     "name": "stdout",
     "output_type": "stream",
     "text": [
      "cog:timesat_extracts/h18v04/LINT/LINT_h18v04_2004_s1_laea_cog.tif\n"
     ]
    },
    {
     "name": "stdout",
     "output_type": "stream",
     "text": [
      "cog:timesat_extracts/h18v04/LINT/LINT_h18v04_2005_s1_laea_cog.tif\n"
     ]
    },
    {
     "name": "stdout",
     "output_type": "stream",
     "text": [
      "cog:timesat_extracts/h18v04/LINT/LINT_h18v04_2006_s1_laea_cog.tif\n"
     ]
    },
    {
     "name": "stdout",
     "output_type": "stream",
     "text": [
      "cog:timesat_extracts/h18v04/LINT/LINT_h18v04_2007_s1_laea_cog.tif\n"
     ]
    },
    {
     "name": "stdout",
     "output_type": "stream",
     "text": [
      "cog:timesat_extracts/h18v04/LINT/LINT_h18v04_2008_s1_laea_cog.tif\n"
     ]
    },
    {
     "name": "stdout",
     "output_type": "stream",
     "text": [
      "cog:timesat_extracts/h18v04/LINT/LINT_h18v04_2009_s1_laea_cog.tif\n"
     ]
    },
    {
     "name": "stdout",
     "output_type": "stream",
     "text": [
      "cog:timesat_extracts/h18v04/LINT/LINT_h18v04_2010_s1_laea_cog.tif\n",
      "cog:timesat_extracts/h18v04/LINT/LINT_h18v04_2011_s1_laea_cog.tif\n"
     ]
    },
    {
     "name": "stdout",
     "output_type": "stream",
     "text": [
      "cog:timesat_extracts/h18v04/LINT/LINT_h18v04_2012_s1_laea_cog.tif\n"
     ]
    },
    {
     "name": "stdout",
     "output_type": "stream",
     "text": [
      "cog:timesat_extracts/h18v04/LINT/LINT_h18v04_2013_s1_laea_cog.tif\n"
     ]
    },
    {
     "name": "stdout",
     "output_type": "stream",
     "text": [
      "cog:timesat_extracts/h18v04/LINT/LINT_h18v04_2014_s1_laea_cog.tif\n"
     ]
    },
    {
     "name": "stdout",
     "output_type": "stream",
     "text": [
      "cog:timesat_extracts/h18v04/LINT/LINT_h18v04_2015_s1_laea_cog.tif\n",
      "cog:timesat_extracts/h18v04/LINT/LINT_h18v04_2016_s1_laea_cog.tif\n"
     ]
    },
    {
     "name": "stdout",
     "output_type": "stream",
     "text": [
      "cog:timesat_extracts/h18v04/LINT/LINT_h18v04_2017_s1_laea_cog.tif\n"
     ]
    },
    {
     "name": "stdout",
     "output_type": "stream",
     "text": [
      "cog:timesat_extracts/h18v04/LINT/LINT_h18v04_2018_s1_laea_cog.tif\n"
     ]
    },
    {
     "name": "stdout",
     "output_type": "stream",
     "text": [
      "cog:timesat_extracts/h18v04/LINT/LINT_h18v04_2019_s1_laea_cog.tif\n"
     ]
    },
    {
     "name": "stdout",
     "output_type": "stream",
     "text": [
      "cog:timesat_extracts/h18v04/LINT/LINT_h18v04_2020_s1_laea_cog.tif\n"
     ]
    },
    {
     "name": "stdout",
     "output_type": "stream",
     "text": [
      "cog:timesat_extracts/h18v04/SINT/SINT_h18v04_2000_s1_laea_cog.tif\n"
     ]
    },
    {
     "name": "stdout",
     "output_type": "stream",
     "text": [
      "cog:timesat_extracts/h18v04/SINT/SINT_h18v04_2001_s1_laea_cog.tif\n",
      "cog:timesat_extracts/h18v04/SINT/SINT_h18v04_2002_s1_laea_cog.tif\n"
     ]
    },
    {
     "name": "stdout",
     "output_type": "stream",
     "text": [
      "cog:timesat_extracts/h18v04/SINT/SINT_h18v04_2003_s1_laea_cog.tif\n"
     ]
    },
    {
     "name": "stdout",
     "output_type": "stream",
     "text": [
      "cog:timesat_extracts/h18v04/SINT/SINT_h18v04_2004_s1_laea_cog.tif\n"
     ]
    },
    {
     "name": "stdout",
     "output_type": "stream",
     "text": [
      "cog:timesat_extracts/h18v04/SINT/SINT_h18v04_2005_s1_laea_cog.tif\n"
     ]
    },
    {
     "name": "stdout",
     "output_type": "stream",
     "text": [
      "cog:timesat_extracts/h18v04/SINT/SINT_h18v04_2006_s1_laea_cog.tif\n"
     ]
    },
    {
     "name": "stdout",
     "output_type": "stream",
     "text": [
      "cog:timesat_extracts/h18v04/SINT/SINT_h18v04_2007_s1_laea_cog.tif\n"
     ]
    },
    {
     "name": "stdout",
     "output_type": "stream",
     "text": [
      "cog:timesat_extracts/h18v04/SINT/SINT_h18v04_2008_s1_laea_cog.tif\n"
     ]
    },
    {
     "name": "stdout",
     "output_type": "stream",
     "text": [
      "cog:timesat_extracts/h18v04/SINT/SINT_h18v04_2009_s1_laea_cog.tif\n"
     ]
    },
    {
     "name": "stdout",
     "output_type": "stream",
     "text": [
      "cog:timesat_extracts/h18v04/SINT/SINT_h18v04_2010_s1_laea_cog.tif\n"
     ]
    },
    {
     "name": "stdout",
     "output_type": "stream",
     "text": [
      "cog:timesat_extracts/h18v04/SINT/SINT_h18v04_2011_s1_laea_cog.tif\n"
     ]
    },
    {
     "name": "stdout",
     "output_type": "stream",
     "text": [
      "cog:timesat_extracts/h18v04/SINT/SINT_h18v04_2012_s1_laea_cog.tif\n"
     ]
    },
    {
     "name": "stdout",
     "output_type": "stream",
     "text": [
      "cog:timesat_extracts/h18v04/SINT/SINT_h18v04_2013_s1_laea_cog.tif\n"
     ]
    },
    {
     "name": "stdout",
     "output_type": "stream",
     "text": [
      "cog:timesat_extracts/h18v04/SINT/SINT_h18v04_2014_s1_laea_cog.tif\n"
     ]
    },
    {
     "name": "stdout",
     "output_type": "stream",
     "text": [
      "cog:timesat_extracts/h18v04/SINT/SINT_h18v04_2015_s1_laea_cog.tif\n"
     ]
    },
    {
     "name": "stdout",
     "output_type": "stream",
     "text": [
      "cog:timesat_extracts/h18v04/SINT/SINT_h18v04_2016_s1_laea_cog.tif\n"
     ]
    },
    {
     "name": "stdout",
     "output_type": "stream",
     "text": [
      "cog:timesat_extracts/h18v04/SINT/SINT_h18v04_2017_s1_laea_cog.tif\n"
     ]
    },
    {
     "name": "stdout",
     "output_type": "stream",
     "text": [
      "cog:timesat_extracts/h18v04/SINT/SINT_h18v04_2018_s1_laea_cog.tif\n"
     ]
    },
    {
     "name": "stdout",
     "output_type": "stream",
     "text": [
      "cog:timesat_extracts/h18v04/SINT/SINT_h18v04_2019_s1_laea_cog.tif\n"
     ]
    },
    {
     "name": "stdout",
     "output_type": "stream",
     "text": [
      "cog:timesat_extracts/h18v04/SINT/SINT_h18v04_2020_s1_laea_cog.tif\n"
     ]
    },
    {
     "name": "stdout",
     "output_type": "stream",
     "text": [
      "cog:timesat_extracts/h18v04/decrease_rate/decrease_rate_EOS_h18v04_2000_s1_laea_cog.tif\n"
     ]
    },
    {
     "name": "stdout",
     "output_type": "stream",
     "text": [
      "cog:timesat_extracts/h18v04/decrease_rate/decrease_rate_EOS_h18v04_2001_s1_laea_cog.tif\n"
     ]
    },
    {
     "name": "stdout",
     "output_type": "stream",
     "text": [
      "cog:timesat_extracts/h18v04/decrease_rate/decrease_rate_EOS_h18v04_2002_s1_laea_cog.tif\n"
     ]
    },
    {
     "name": "stdout",
     "output_type": "stream",
     "text": [
      "cog:timesat_extracts/h18v04/decrease_rate/decrease_rate_EOS_h18v04_2003_s1_laea_cog.tif\n"
     ]
    },
    {
     "name": "stdout",
     "output_type": "stream",
     "text": [
      "cog:timesat_extracts/h18v04/decrease_rate/decrease_rate_EOS_h18v04_2004_s1_laea_cog.tif\n"
     ]
    },
    {
     "name": "stdout",
     "output_type": "stream",
     "text": [
      "cog:timesat_extracts/h18v04/decrease_rate/decrease_rate_EOS_h18v04_2005_s1_laea_cog.tif\n"
     ]
    },
    {
     "name": "stdout",
     "output_type": "stream",
     "text": [
      "cog:timesat_extracts/h18v04/decrease_rate/decrease_rate_EOS_h18v04_2006_s1_laea_cog.tif\n"
     ]
    },
    {
     "name": "stdout",
     "output_type": "stream",
     "text": [
      "cog:timesat_extracts/h18v04/decrease_rate/decrease_rate_EOS_h18v04_2007_s1_laea_cog.tif\n"
     ]
    },
    {
     "name": "stdout",
     "output_type": "stream",
     "text": [
      "cog:timesat_extracts/h18v04/decrease_rate/decrease_rate_EOS_h18v04_2008_s1_laea_cog.tif\n"
     ]
    },
    {
     "name": "stdout",
     "output_type": "stream",
     "text": [
      "cog:timesat_extracts/h18v04/decrease_rate/decrease_rate_EOS_h18v04_2009_s1_laea_cog.tif\n"
     ]
    },
    {
     "name": "stdout",
     "output_type": "stream",
     "text": [
      "cog:timesat_extracts/h18v04/decrease_rate/decrease_rate_EOS_h18v04_2010_s1_laea_cog.tif\n"
     ]
    },
    {
     "name": "stdout",
     "output_type": "stream",
     "text": [
      "cog:timesat_extracts/h18v04/decrease_rate/decrease_rate_EOS_h18v04_2011_s1_laea_cog.tif\n"
     ]
    },
    {
     "name": "stdout",
     "output_type": "stream",
     "text": [
      "cog:timesat_extracts/h18v04/decrease_rate/decrease_rate_EOS_h18v04_2012_s1_laea_cog.tif\n"
     ]
    },
    {
     "name": "stdout",
     "output_type": "stream",
     "text": [
      "cog:timesat_extracts/h18v04/decrease_rate/decrease_rate_EOS_h18v04_2013_s1_laea_cog.tif\n"
     ]
    },
    {
     "name": "stdout",
     "output_type": "stream",
     "text": [
      "cog:timesat_extracts/h18v04/decrease_rate/decrease_rate_EOS_h18v04_2014_s1_laea_cog.tif\n"
     ]
    },
    {
     "name": "stdout",
     "output_type": "stream",
     "text": [
      "cog:timesat_extracts/h18v04/decrease_rate/decrease_rate_EOS_h18v04_2015_s1_laea_cog.tif\n"
     ]
    },
    {
     "name": "stdout",
     "output_type": "stream",
     "text": [
      "cog:timesat_extracts/h18v04/decrease_rate/decrease_rate_EOS_h18v04_2016_s1_laea_cog.tif\n"
     ]
    },
    {
     "name": "stdout",
     "output_type": "stream",
     "text": [
      "cog:timesat_extracts/h18v04/decrease_rate/decrease_rate_EOS_h18v04_2017_s1_laea_cog.tif\n"
     ]
    },
    {
     "name": "stdout",
     "output_type": "stream",
     "text": [
      "cog:timesat_extracts/h18v04/decrease_rate/decrease_rate_EOS_h18v04_2018_s1_laea_cog.tif\n"
     ]
    },
    {
     "name": "stdout",
     "output_type": "stream",
     "text": [
      "cog:timesat_extracts/h18v04/decrease_rate/decrease_rate_EOS_h18v04_2019_s1_laea_cog.tif\n"
     ]
    },
    {
     "name": "stdout",
     "output_type": "stream",
     "text": [
      "cog:timesat_extracts/h18v04/decrease_rate/decrease_rate_EOS_h18v04_2020_s1_laea_cog.tif\n"
     ]
    },
    {
     "name": "stdout",
     "output_type": "stream",
     "text": [
      "cog:timesat_extracts/h18v04/eos/eos_h18v04_2000_s1_laea_cog.tif\n",
      "cog:timesat_extracts/h18v04/eos/eos_h18v04_2001_s1_laea_cog.tif\n"
     ]
    },
    {
     "name": "stdout",
     "output_type": "stream",
     "text": [
      "cog:timesat_extracts/h18v04/eos/eos_h18v04_2002_s1_laea_cog.tif\n",
      "cog:timesat_extracts/h18v04/eos/eos_h18v04_2003_s1_laea_cog.tif\n"
     ]
    },
    {
     "name": "stdout",
     "output_type": "stream",
     "text": [
      "cog:timesat_extracts/h18v04/eos/eos_h18v04_2004_s1_laea_cog.tif\n",
      "cog:timesat_extracts/h18v04/eos/eos_h18v04_2005_s1_laea_cog.tif\n"
     ]
    },
    {
     "name": "stdout",
     "output_type": "stream",
     "text": [
      "cog:timesat_extracts/h18v04/eos/eos_h18v04_2006_s1_laea_cog.tif\n",
      "cog:timesat_extracts/h18v04/eos/eos_h18v04_2007_s1_laea_cog.tif\n"
     ]
    },
    {
     "name": "stdout",
     "output_type": "stream",
     "text": [
      "cog:timesat_extracts/h18v04/eos/eos_h18v04_2008_s1_laea_cog.tif\n",
      "cog:timesat_extracts/h18v04/eos/eos_h18v04_2009_s1_laea_cog.tif\n"
     ]
    },
    {
     "name": "stdout",
     "output_type": "stream",
     "text": [
      "cog:timesat_extracts/h18v04/eos/eos_h18v04_2010_s1_laea_cog.tif\n"
     ]
    },
    {
     "name": "stdout",
     "output_type": "stream",
     "text": [
      "cog:timesat_extracts/h18v04/eos/eos_h18v04_2011_s1_laea_cog.tif\n",
      "cog:timesat_extracts/h18v04/eos/eos_h18v04_2012_s1_laea_cog.tif\n"
     ]
    },
    {
     "name": "stdout",
     "output_type": "stream",
     "text": [
      "cog:timesat_extracts/h18v04/eos/eos_h18v04_2013_s1_laea_cog.tif\n",
      "cog:timesat_extracts/h18v04/eos/eos_h18v04_2014_s1_laea_cog.tif\n"
     ]
    },
    {
     "name": "stdout",
     "output_type": "stream",
     "text": [
      "cog:timesat_extracts/h18v04/eos/eos_h18v04_2015_s1_laea_cog.tif\n",
      "cog:timesat_extracts/h18v04/eos/eos_h18v04_2016_s1_laea_cog.tif\n"
     ]
    },
    {
     "name": "stdout",
     "output_type": "stream",
     "text": [
      "cog:timesat_extracts/h18v04/eos/eos_h18v04_2017_s1_laea_cog.tif\n",
      "cog:timesat_extracts/h18v04/eos/eos_h18v04_2018_s1_laea_cog.tif\n"
     ]
    },
    {
     "name": "stdout",
     "output_type": "stream",
     "text": [
      "cog:timesat_extracts/h18v04/eos/eos_h18v04_2019_s1_laea_cog.tif\n",
      "cog:timesat_extracts/h18v04/eos/eos_h18v04_2020_s1_laea_cog.tif\n"
     ]
    },
    {
     "name": "stdout",
     "output_type": "stream",
     "text": [
      "cog:timesat_extracts/h18v04/eos_value/eos_value_h18v04_2000_s1_laea_cog.tif\n"
     ]
    },
    {
     "name": "stdout",
     "output_type": "stream",
     "text": [
      "cog:timesat_extracts/h18v04/eos_value/eos_value_h18v04_2001_s1_laea_cog.tif\n"
     ]
    },
    {
     "name": "stdout",
     "output_type": "stream",
     "text": [
      "cog:timesat_extracts/h18v04/eos_value/eos_value_h18v04_2002_s1_laea_cog.tif\n"
     ]
    },
    {
     "name": "stdout",
     "output_type": "stream",
     "text": [
      "cog:timesat_extracts/h18v04/eos_value/eos_value_h18v04_2003_s1_laea_cog.tif\n"
     ]
    },
    {
     "name": "stdout",
     "output_type": "stream",
     "text": [
      "cog:timesat_extracts/h18v04/eos_value/eos_value_h18v04_2004_s1_laea_cog.tif\n"
     ]
    },
    {
     "name": "stdout",
     "output_type": "stream",
     "text": [
      "cog:timesat_extracts/h18v04/eos_value/eos_value_h18v04_2005_s1_laea_cog.tif\n"
     ]
    },
    {
     "name": "stdout",
     "output_type": "stream",
     "text": [
      "cog:timesat_extracts/h18v04/eos_value/eos_value_h18v04_2006_s1_laea_cog.tif\n"
     ]
    },
    {
     "name": "stdout",
     "output_type": "stream",
     "text": [
      "cog:timesat_extracts/h18v04/eos_value/eos_value_h18v04_2007_s1_laea_cog.tif\n"
     ]
    },
    {
     "name": "stdout",
     "output_type": "stream",
     "text": [
      "cog:timesat_extracts/h18v04/eos_value/eos_value_h18v04_2008_s1_laea_cog.tif\n"
     ]
    },
    {
     "name": "stdout",
     "output_type": "stream",
     "text": [
      "cog:timesat_extracts/h18v04/eos_value/eos_value_h18v04_2009_s1_laea_cog.tif\n",
      "cog:timesat_extracts/h18v04/eos_value/eos_value_h18v04_2010_s1_laea_cog.tif\n"
     ]
    },
    {
     "name": "stdout",
     "output_type": "stream",
     "text": [
      "cog:timesat_extracts/h18v04/eos_value/eos_value_h18v04_2011_s1_laea_cog.tif\n"
     ]
    },
    {
     "name": "stdout",
     "output_type": "stream",
     "text": [
      "cog:timesat_extracts/h18v04/eos_value/eos_value_h18v04_2012_s1_laea_cog.tif\n"
     ]
    },
    {
     "name": "stdout",
     "output_type": "stream",
     "text": [
      "cog:timesat_extracts/h18v04/eos_value/eos_value_h18v04_2013_s1_laea_cog.tif\n"
     ]
    },
    {
     "name": "stdout",
     "output_type": "stream",
     "text": [
      "cog:timesat_extracts/h18v04/eos_value/eos_value_h18v04_2014_s1_laea_cog.tif\n"
     ]
    },
    {
     "name": "stdout",
     "output_type": "stream",
     "text": [
      "cog:timesat_extracts/h18v04/eos_value/eos_value_h18v04_2015_s1_laea_cog.tif\n"
     ]
    },
    {
     "name": "stdout",
     "output_type": "stream",
     "text": [
      "cog:timesat_extracts/h18v04/eos_value/eos_value_h18v04_2016_s1_laea_cog.tif\n"
     ]
    },
    {
     "name": "stdout",
     "output_type": "stream",
     "text": [
      "cog:timesat_extracts/h18v04/eos_value/eos_value_h18v04_2017_s1_laea_cog.tif\n"
     ]
    },
    {
     "name": "stdout",
     "output_type": "stream",
     "text": [
      "cog:timesat_extracts/h18v04/eos_value/eos_value_h18v04_2018_s1_laea_cog.tif\n"
     ]
    },
    {
     "name": "stdout",
     "output_type": "stream",
     "text": [
      "cog:timesat_extracts/h18v04/eos_value/eos_value_h18v04_2019_s1_laea_cog.tif\n"
     ]
    },
    {
     "name": "stdout",
     "output_type": "stream",
     "text": [
      "cog:timesat_extracts/h18v04/eos_value/eos_value_h18v04_2020_s1_laea_cog.tif\n"
     ]
    },
    {
     "name": "stdout",
     "output_type": "stream",
     "text": [
      "cog:timesat_extracts/h18v04/increase_rate/increase_rate_SOS_h18v04_2000_s1_laea_cog.tif\n"
     ]
    },
    {
     "name": "stdout",
     "output_type": "stream",
     "text": [
      "cog:timesat_extracts/h18v04/increase_rate/increase_rate_SOS_h18v04_2001_s1_laea_cog.tif\n"
     ]
    },
    {
     "name": "stdout",
     "output_type": "stream",
     "text": [
      "cog:timesat_extracts/h18v04/increase_rate/increase_rate_SOS_h18v04_2002_s1_laea_cog.tif\n"
     ]
    },
    {
     "name": "stdout",
     "output_type": "stream",
     "text": [
      "cog:timesat_extracts/h18v04/increase_rate/increase_rate_SOS_h18v04_2003_s1_laea_cog.tif\n",
      "cog:timesat_extracts/h18v04/increase_rate/increase_rate_SOS_h18v04_2004_s1_laea_cog.tif\n"
     ]
    },
    {
     "name": "stdout",
     "output_type": "stream",
     "text": [
      "cog:timesat_extracts/h18v04/increase_rate/increase_rate_SOS_h18v04_2005_s1_laea_cog.tif\n"
     ]
    },
    {
     "name": "stdout",
     "output_type": "stream",
     "text": [
      "cog:timesat_extracts/h18v04/increase_rate/increase_rate_SOS_h18v04_2006_s1_laea_cog.tif\n"
     ]
    },
    {
     "name": "stdout",
     "output_type": "stream",
     "text": [
      "cog:timesat_extracts/h18v04/increase_rate/increase_rate_SOS_h18v04_2007_s1_laea_cog.tif\n"
     ]
    },
    {
     "name": "stdout",
     "output_type": "stream",
     "text": [
      "cog:timesat_extracts/h18v04/increase_rate/increase_rate_SOS_h18v04_2008_s1_laea_cog.tif\n"
     ]
    },
    {
     "name": "stdout",
     "output_type": "stream",
     "text": [
      "cog:timesat_extracts/h18v04/increase_rate/increase_rate_SOS_h18v04_2009_s1_laea_cog.tif\n"
     ]
    },
    {
     "name": "stdout",
     "output_type": "stream",
     "text": [
      "cog:timesat_extracts/h18v04/increase_rate/increase_rate_SOS_h18v04_2010_s1_laea_cog.tif\n"
     ]
    },
    {
     "name": "stdout",
     "output_type": "stream",
     "text": [
      "cog:timesat_extracts/h18v04/increase_rate/increase_rate_SOS_h18v04_2011_s1_laea_cog.tif\n"
     ]
    },
    {
     "name": "stdout",
     "output_type": "stream",
     "text": [
      "cog:timesat_extracts/h18v04/increase_rate/increase_rate_SOS_h18v04_2012_s1_laea_cog.tif\n"
     ]
    },
    {
     "name": "stdout",
     "output_type": "stream",
     "text": [
      "cog:timesat_extracts/h18v04/increase_rate/increase_rate_SOS_h18v04_2013_s1_laea_cog.tif\n",
      "cog:timesat_extracts/h18v04/increase_rate/increase_rate_SOS_h18v04_2014_s1_laea_cog.tif\n"
     ]
    },
    {
     "name": "stdout",
     "output_type": "stream",
     "text": [
      "cog:timesat_extracts/h18v04/increase_rate/increase_rate_SOS_h18v04_2015_s1_laea_cog.tif\n"
     ]
    },
    {
     "name": "stdout",
     "output_type": "stream",
     "text": [
      "cog:timesat_extracts/h18v04/increase_rate/increase_rate_SOS_h18v04_2016_s1_laea_cog.tif\n"
     ]
    },
    {
     "name": "stdout",
     "output_type": "stream",
     "text": [
      "cog:timesat_extracts/h18v04/increase_rate/increase_rate_SOS_h18v04_2017_s1_laea_cog.tif\n"
     ]
    },
    {
     "name": "stdout",
     "output_type": "stream",
     "text": [
      "cog:timesat_extracts/h18v04/increase_rate/increase_rate_SOS_h18v04_2018_s1_laea_cog.tif\n"
     ]
    },
    {
     "name": "stdout",
     "output_type": "stream",
     "text": [
      "cog:timesat_extracts/h18v04/increase_rate/increase_rate_SOS_h18v04_2019_s1_laea_cog.tif\n"
     ]
    },
    {
     "name": "stdout",
     "output_type": "stream",
     "text": [
      "cog:timesat_extracts/h18v04/increase_rate/increase_rate_SOS_h18v04_2020_s1_laea_cog.tif\n"
     ]
    },
    {
     "name": "stdout",
     "output_type": "stream",
     "text": [
      "cog:timesat_extracts/h18v04/length_of_season/los_h18v04_2000_s1_laea_cog.tif\n",
      "cog:timesat_extracts/h18v04/length_of_season/los_h18v04_2001_s1_laea_cog.tif\n"
     ]
    },
    {
     "name": "stdout",
     "output_type": "stream",
     "text": [
      "cog:timesat_extracts/h18v04/length_of_season/los_h18v04_2002_s1_laea_cog.tif\n",
      "cog:timesat_extracts/h18v04/length_of_season/los_h18v04_2003_s1_laea_cog.tif\n"
     ]
    },
    {
     "name": "stdout",
     "output_type": "stream",
     "text": [
      "cog:timesat_extracts/h18v04/length_of_season/los_h18v04_2004_s1_laea_cog.tif\n",
      "cog:timesat_extracts/h18v04/length_of_season/los_h18v04_2005_s1_laea_cog.tif\n"
     ]
    },
    {
     "name": "stdout",
     "output_type": "stream",
     "text": [
      "cog:timesat_extracts/h18v04/length_of_season/los_h18v04_2006_s1_laea_cog.tif\n",
      "cog:timesat_extracts/h18v04/length_of_season/los_h18v04_2007_s1_laea_cog.tif\n"
     ]
    },
    {
     "name": "stdout",
     "output_type": "stream",
     "text": [
      "cog:timesat_extracts/h18v04/length_of_season/los_h18v04_2008_s1_laea_cog.tif\n",
      "cog:timesat_extracts/h18v04/length_of_season/los_h18v04_2009_s1_laea_cog.tif\n"
     ]
    },
    {
     "name": "stdout",
     "output_type": "stream",
     "text": [
      "cog:timesat_extracts/h18v04/length_of_season/los_h18v04_2010_s1_laea_cog.tif\n",
      "cog:timesat_extracts/h18v04/length_of_season/los_h18v04_2011_s1_laea_cog.tif\n"
     ]
    },
    {
     "name": "stdout",
     "output_type": "stream",
     "text": [
      "cog:timesat_extracts/h18v04/length_of_season/los_h18v04_2012_s1_laea_cog.tif\n",
      "cog:timesat_extracts/h18v04/length_of_season/los_h18v04_2013_s1_laea_cog.tif\n"
     ]
    },
    {
     "name": "stdout",
     "output_type": "stream",
     "text": [
      "cog:timesat_extracts/h18v04/length_of_season/los_h18v04_2014_s1_laea_cog.tif\n"
     ]
    },
    {
     "name": "stdout",
     "output_type": "stream",
     "text": [
      "cog:timesat_extracts/h18v04/length_of_season/los_h18v04_2015_s1_laea_cog.tif\n",
      "cog:timesat_extracts/h18v04/length_of_season/los_h18v04_2016_s1_laea_cog.tif\n"
     ]
    },
    {
     "name": "stdout",
     "output_type": "stream",
     "text": [
      "cog:timesat_extracts/h18v04/length_of_season/los_h18v04_2017_s1_laea_cog.tif\n",
      "cog:timesat_extracts/h18v04/length_of_season/los_h18v04_2018_s1_laea_cog.tif\n"
     ]
    },
    {
     "name": "stdout",
     "output_type": "stream",
     "text": [
      "cog:timesat_extracts/h18v04/length_of_season/los_h18v04_2019_s1_laea_cog.tif\n",
      "cog:timesat_extracts/h18v04/length_of_season/los_h18v04_2020_s1_laea_cog.tif\n"
     ]
    },
    {
     "name": "stdout",
     "output_type": "stream",
     "text": [
      "cog:timesat_extracts/h18v04/seasonal_amplitude/s_amplitude_h18v04_2000_s1_laea_cog.tif\n"
     ]
    },
    {
     "name": "stdout",
     "output_type": "stream",
     "text": [
      "cog:timesat_extracts/h18v04/seasonal_amplitude/s_amplitude_h18v04_2001_s1_laea_cog.tif\n"
     ]
    },
    {
     "name": "stdout",
     "output_type": "stream",
     "text": [
      "cog:timesat_extracts/h18v04/seasonal_amplitude/s_amplitude_h18v04_2002_s1_laea_cog.tif\n"
     ]
    },
    {
     "name": "stdout",
     "output_type": "stream",
     "text": [
      "cog:timesat_extracts/h18v04/seasonal_amplitude/s_amplitude_h18v04_2003_s1_laea_cog.tif\n"
     ]
    },
    {
     "name": "stdout",
     "output_type": "stream",
     "text": [
      "cog:timesat_extracts/h18v04/seasonal_amplitude/s_amplitude_h18v04_2004_s1_laea_cog.tif\n"
     ]
    },
    {
     "name": "stdout",
     "output_type": "stream",
     "text": [
      "cog:timesat_extracts/h18v04/seasonal_amplitude/s_amplitude_h18v04_2005_s1_laea_cog.tif\n"
     ]
    },
    {
     "name": "stdout",
     "output_type": "stream",
     "text": [
      "cog:timesat_extracts/h18v04/seasonal_amplitude/s_amplitude_h18v04_2006_s1_laea_cog.tif\n",
      "cog:timesat_extracts/h18v04/seasonal_amplitude/s_amplitude_h18v04_2007_s1_laea_cog.tif\n"
     ]
    },
    {
     "name": "stdout",
     "output_type": "stream",
     "text": [
      "cog:timesat_extracts/h18v04/seasonal_amplitude/s_amplitude_h18v04_2008_s1_laea_cog.tif\n"
     ]
    },
    {
     "name": "stdout",
     "output_type": "stream",
     "text": [
      "cog:timesat_extracts/h18v04/seasonal_amplitude/s_amplitude_h18v04_2009_s1_laea_cog.tif\n",
      "cog:timesat_extracts/h18v04/seasonal_amplitude/s_amplitude_h18v04_2010_s1_laea_cog.tif\n"
     ]
    },
    {
     "name": "stdout",
     "output_type": "stream",
     "text": [
      "cog:timesat_extracts/h18v04/seasonal_amplitude/s_amplitude_h18v04_2011_s1_laea_cog.tif\n",
      "cog:timesat_extracts/h18v04/seasonal_amplitude/s_amplitude_h18v04_2012_s1_laea_cog.tif\n"
     ]
    },
    {
     "name": "stdout",
     "output_type": "stream",
     "text": [
      "cog:timesat_extracts/h18v04/seasonal_amplitude/s_amplitude_h18v04_2013_s1_laea_cog.tif\n"
     ]
    },
    {
     "name": "stdout",
     "output_type": "stream",
     "text": [
      "cog:timesat_extracts/h18v04/seasonal_amplitude/s_amplitude_h18v04_2014_s1_laea_cog.tif\n"
     ]
    },
    {
     "name": "stdout",
     "output_type": "stream",
     "text": [
      "cog:timesat_extracts/h18v04/seasonal_amplitude/s_amplitude_h18v04_2015_s1_laea_cog.tif\n"
     ]
    },
    {
     "name": "stdout",
     "output_type": "stream",
     "text": [
      "cog:timesat_extracts/h18v04/seasonal_amplitude/s_amplitude_h18v04_2016_s1_laea_cog.tif\n"
     ]
    },
    {
     "name": "stdout",
     "output_type": "stream",
     "text": [
      "cog:timesat_extracts/h18v04/seasonal_amplitude/s_amplitude_h18v04_2017_s1_laea_cog.tif\n"
     ]
    },
    {
     "name": "stdout",
     "output_type": "stream",
     "text": [
      "cog:timesat_extracts/h18v04/seasonal_amplitude/s_amplitude_h18v04_2018_s1_laea_cog.tif\n"
     ]
    },
    {
     "name": "stdout",
     "output_type": "stream",
     "text": [
      "cog:timesat_extracts/h18v04/seasonal_amplitude/s_amplitude_h18v04_2019_s1_laea_cog.tif\n"
     ]
    },
    {
     "name": "stdout",
     "output_type": "stream",
     "text": [
      "cog:timesat_extracts/h18v04/seasonal_amplitude/s_amplitude_h18v04_2020_s1_laea_cog.tif\n"
     ]
    },
    {
     "name": "stdout",
     "output_type": "stream",
     "text": [
      "cog:timesat_extracts/h18v04/sos/sos_h18v04_2000_s1_laea_cog.tif\n",
      "cog:timesat_extracts/h18v04/sos/sos_h18v04_2001_s1_laea_cog.tif\n"
     ]
    },
    {
     "name": "stdout",
     "output_type": "stream",
     "text": [
      "cog:timesat_extracts/h18v04/sos/sos_h18v04_2002_s1_laea_cog.tif\n",
      "cog:timesat_extracts/h18v04/sos/sos_h18v04_2003_s1_laea_cog.tif\n"
     ]
    },
    {
     "name": "stdout",
     "output_type": "stream",
     "text": [
      "cog:timesat_extracts/h18v04/sos/sos_h18v04_2004_s1_laea_cog.tif\n",
      "cog:timesat_extracts/h18v04/sos/sos_h18v04_2005_s1_laea_cog.tif\n"
     ]
    },
    {
     "name": "stdout",
     "output_type": "stream",
     "text": [
      "cog:timesat_extracts/h18v04/sos/sos_h18v04_2006_s1_laea_cog.tif\n",
      "cog:timesat_extracts/h18v04/sos/sos_h18v04_2007_s1_laea_cog.tif\n"
     ]
    },
    {
     "name": "stdout",
     "output_type": "stream",
     "text": [
      "cog:timesat_extracts/h18v04/sos/sos_h18v04_2008_s1_laea_cog.tif\n",
      "cog:timesat_extracts/h18v04/sos/sos_h18v04_2009_s1_laea_cog.tif\n"
     ]
    },
    {
     "name": "stdout",
     "output_type": "stream",
     "text": [
      "cog:timesat_extracts/h18v04/sos/sos_h18v04_2010_s1_laea_cog.tif\n",
      "cog:timesat_extracts/h18v04/sos/sos_h18v04_2011_s1_laea_cog.tif\n"
     ]
    },
    {
     "name": "stdout",
     "output_type": "stream",
     "text": [
      "cog:timesat_extracts/h18v04/sos/sos_h18v04_2012_s1_laea_cog.tif\n",
      "cog:timesat_extracts/h18v04/sos/sos_h18v04_2013_s1_laea_cog.tif\n"
     ]
    },
    {
     "name": "stdout",
     "output_type": "stream",
     "text": [
      "cog:timesat_extracts/h18v04/sos/sos_h18v04_2014_s1_laea_cog.tif\n",
      "cog:timesat_extracts/h18v04/sos/sos_h18v04_2015_s1_laea_cog.tif\n"
     ]
    },
    {
     "name": "stdout",
     "output_type": "stream",
     "text": [
      "cog:timesat_extracts/h18v04/sos/sos_h18v04_2016_s1_laea_cog.tif\n",
      "cog:timesat_extracts/h18v04/sos/sos_h18v04_2017_s1_laea_cog.tif\n"
     ]
    },
    {
     "name": "stdout",
     "output_type": "stream",
     "text": [
      "cog:timesat_extracts/h18v04/sos/sos_h18v04_2018_s1_laea_cog.tif\n",
      "cog:timesat_extracts/h18v04/sos/sos_h18v04_2019_s1_laea_cog.tif\n"
     ]
    },
    {
     "name": "stdout",
     "output_type": "stream",
     "text": [
      "cog:timesat_extracts/h18v04/sos/sos_h18v04_2020_s1_laea_cog.tif\n"
     ]
    },
    {
     "name": "stdout",
     "output_type": "stream",
     "text": [
      "cog:timesat_extracts/h18v04/sos_value/sos_value_h18v04_2000_s1_laea_cog.tif\n"
     ]
    },
    {
     "name": "stdout",
     "output_type": "stream",
     "text": [
      "cog:timesat_extracts/h18v04/sos_value/sos_value_h18v04_2001_s1_laea_cog.tif\n"
     ]
    },
    {
     "name": "stdout",
     "output_type": "stream",
     "text": [
      "cog:timesat_extracts/h18v04/sos_value/sos_value_h18v04_2002_s1_laea_cog.tif\n"
     ]
    },
    {
     "name": "stdout",
     "output_type": "stream",
     "text": [
      "cog:timesat_extracts/h18v04/sos_value/sos_value_h18v04_2003_s1_laea_cog.tif\n",
      "cog:timesat_extracts/h18v04/sos_value/sos_value_h18v04_2004_s1_laea_cog.tif\n"
     ]
    },
    {
     "name": "stdout",
     "output_type": "stream",
     "text": [
      "cog:timesat_extracts/h18v04/sos_value/sos_value_h18v04_2005_s1_laea_cog.tif\n",
      "cog:timesat_extracts/h18v04/sos_value/sos_value_h18v04_2006_s1_laea_cog.tif\n"
     ]
    },
    {
     "name": "stdout",
     "output_type": "stream",
     "text": [
      "cog:timesat_extracts/h18v04/sos_value/sos_value_h18v04_2007_s1_laea_cog.tif\n"
     ]
    },
    {
     "name": "stdout",
     "output_type": "stream",
     "text": [
      "cog:timesat_extracts/h18v04/sos_value/sos_value_h18v04_2008_s1_laea_cog.tif\n"
     ]
    },
    {
     "name": "stdout",
     "output_type": "stream",
     "text": [
      "cog:timesat_extracts/h18v04/sos_value/sos_value_h18v04_2009_s1_laea_cog.tif\n"
     ]
    },
    {
     "name": "stdout",
     "output_type": "stream",
     "text": [
      "cog:timesat_extracts/h18v04/sos_value/sos_value_h18v04_2010_s1_laea_cog.tif\n"
     ]
    },
    {
     "name": "stdout",
     "output_type": "stream",
     "text": [
      "cog:timesat_extracts/h18v04/sos_value/sos_value_h18v04_2011_s1_laea_cog.tif\n"
     ]
    },
    {
     "name": "stdout",
     "output_type": "stream",
     "text": [
      "cog:timesat_extracts/h18v04/sos_value/sos_value_h18v04_2012_s1_laea_cog.tif\n"
     ]
    },
    {
     "name": "stdout",
     "output_type": "stream",
     "text": [
      "cog:timesat_extracts/h18v04/sos_value/sos_value_h18v04_2013_s1_laea_cog.tif\n"
     ]
    },
    {
     "name": "stdout",
     "output_type": "stream",
     "text": [
      "cog:timesat_extracts/h18v04/sos_value/sos_value_h18v04_2014_s1_laea_cog.tif\n"
     ]
    },
    {
     "name": "stdout",
     "output_type": "stream",
     "text": [
      "cog:timesat_extracts/h18v04/sos_value/sos_value_h18v04_2015_s1_laea_cog.tif\n",
      "cog:timesat_extracts/h18v04/sos_value/sos_value_h18v04_2016_s1_laea_cog.tif\n"
     ]
    },
    {
     "name": "stdout",
     "output_type": "stream",
     "text": [
      "cog:timesat_extracts/h18v04/sos_value/sos_value_h18v04_2017_s1_laea_cog.tif\n"
     ]
    },
    {
     "name": "stdout",
     "output_type": "stream",
     "text": [
      "cog:timesat_extracts/h18v04/sos_value/sos_value_h18v04_2018_s1_laea_cog.tif\n"
     ]
    },
    {
     "name": "stdout",
     "output_type": "stream",
     "text": [
      "cog:timesat_extracts/h18v04/sos_value/sos_value_h18v04_2019_s1_laea_cog.tif\n"
     ]
    },
    {
     "name": "stdout",
     "output_type": "stream",
     "text": [
      "cog:timesat_extracts/h18v04/sos_value/sos_value_h18v04_2020_s1_laea_cog.tif\n"
     ]
    },
    {
     "name": "stdout",
     "output_type": "stream",
     "text": [
      "cog:timesat_extracts/h18v05/LINT/LINT_h18v05_2000_s1_laea_cog.tif\n"
     ]
    },
    {
     "name": "stdout",
     "output_type": "stream",
     "text": [
      "cog:timesat_extracts/h18v05/LINT/LINT_h18v05_2001_s1_laea_cog.tif\n"
     ]
    },
    {
     "name": "stdout",
     "output_type": "stream",
     "text": [
      "cog:timesat_extracts/h18v05/LINT/LINT_h18v05_2002_s1_laea_cog.tif\n"
     ]
    },
    {
     "name": "stdout",
     "output_type": "stream",
     "text": [
      "cog:timesat_extracts/h18v05/LINT/LINT_h18v05_2003_s1_laea_cog.tif\n"
     ]
    },
    {
     "name": "stdout",
     "output_type": "stream",
     "text": [
      "cog:timesat_extracts/h18v05/LINT/LINT_h18v05_2004_s1_laea_cog.tif\n"
     ]
    },
    {
     "name": "stdout",
     "output_type": "stream",
     "text": [
      "cog:timesat_extracts/h18v05/LINT/LINT_h18v05_2005_s1_laea_cog.tif\n"
     ]
    },
    {
     "name": "stdout",
     "output_type": "stream",
     "text": [
      "cog:timesat_extracts/h18v05/LINT/LINT_h18v05_2006_s1_laea_cog.tif\n"
     ]
    },
    {
     "name": "stdout",
     "output_type": "stream",
     "text": [
      "cog:timesat_extracts/h18v05/LINT/LINT_h18v05_2007_s1_laea_cog.tif\n"
     ]
    },
    {
     "name": "stdout",
     "output_type": "stream",
     "text": [
      "cog:timesat_extracts/h18v05/LINT/LINT_h18v05_2008_s1_laea_cog.tif\n"
     ]
    },
    {
     "name": "stdout",
     "output_type": "stream",
     "text": [
      "cog:timesat_extracts/h18v05/LINT/LINT_h18v05_2009_s1_laea_cog.tif\n"
     ]
    },
    {
     "name": "stdout",
     "output_type": "stream",
     "text": [
      "cog:timesat_extracts/h18v05/LINT/LINT_h18v05_2010_s1_laea_cog.tif\n"
     ]
    },
    {
     "name": "stdout",
     "output_type": "stream",
     "text": [
      "cog:timesat_extracts/h18v05/LINT/LINT_h18v05_2011_s1_laea_cog.tif\n"
     ]
    },
    {
     "name": "stdout",
     "output_type": "stream",
     "text": [
      "cog:timesat_extracts/h18v05/LINT/LINT_h18v05_2012_s1_laea_cog.tif\n"
     ]
    },
    {
     "name": "stdout",
     "output_type": "stream",
     "text": [
      "cog:timesat_extracts/h18v05/LINT/LINT_h18v05_2013_s1_laea_cog.tif\n"
     ]
    },
    {
     "name": "stdout",
     "output_type": "stream",
     "text": [
      "cog:timesat_extracts/h18v05/LINT/LINT_h18v05_2014_s1_laea_cog.tif\n"
     ]
    },
    {
     "name": "stdout",
     "output_type": "stream",
     "text": [
      "cog:timesat_extracts/h18v05/LINT/LINT_h18v05_2015_s1_laea_cog.tif\n"
     ]
    },
    {
     "name": "stdout",
     "output_type": "stream",
     "text": [
      "cog:timesat_extracts/h18v05/LINT/LINT_h18v05_2016_s1_laea_cog.tif\n"
     ]
    },
    {
     "name": "stdout",
     "output_type": "stream",
     "text": [
      "cog:timesat_extracts/h18v05/LINT/LINT_h18v05_2017_s1_laea_cog.tif\n"
     ]
    },
    {
     "name": "stdout",
     "output_type": "stream",
     "text": [
      "cog:timesat_extracts/h18v05/LINT/LINT_h18v05_2018_s1_laea_cog.tif\n"
     ]
    },
    {
     "name": "stdout",
     "output_type": "stream",
     "text": [
      "cog:timesat_extracts/h18v05/LINT/LINT_h18v05_2019_s1_laea_cog.tif\n"
     ]
    },
    {
     "name": "stdout",
     "output_type": "stream",
     "text": [
      "cog:timesat_extracts/h18v05/LINT/LINT_h18v05_2020_s1_laea_cog.tif\n"
     ]
    },
    {
     "name": "stdout",
     "output_type": "stream",
     "text": [
      "cog:timesat_extracts/h18v05/SINT/SINT_h18v05_2000_s1_laea_cog.tif\n"
     ]
    },
    {
     "name": "stdout",
     "output_type": "stream",
     "text": [
      "cog:timesat_extracts/h18v05/SINT/SINT_h18v05_2001_s1_laea_cog.tif\n"
     ]
    },
    {
     "name": "stdout",
     "output_type": "stream",
     "text": [
      "cog:timesat_extracts/h18v05/SINT/SINT_h18v05_2002_s1_laea_cog.tif\n"
     ]
    },
    {
     "name": "stdout",
     "output_type": "stream",
     "text": [
      "cog:timesat_extracts/h18v05/SINT/SINT_h18v05_2003_s1_laea_cog.tif\n",
      "cog:timesat_extracts/h18v05/SINT/SINT_h18v05_2004_s1_laea_cog.tif\n"
     ]
    },
    {
     "name": "stdout",
     "output_type": "stream",
     "text": [
      "cog:timesat_extracts/h18v05/SINT/SINT_h18v05_2005_s1_laea_cog.tif\n"
     ]
    },
    {
     "name": "stdout",
     "output_type": "stream",
     "text": [
      "cog:timesat_extracts/h18v05/SINT/SINT_h18v05_2006_s1_laea_cog.tif\n"
     ]
    },
    {
     "name": "stdout",
     "output_type": "stream",
     "text": [
      "cog:timesat_extracts/h18v05/SINT/SINT_h18v05_2007_s1_laea_cog.tif\n"
     ]
    },
    {
     "name": "stdout",
     "output_type": "stream",
     "text": [
      "cog:timesat_extracts/h18v05/SINT/SINT_h18v05_2008_s1_laea_cog.tif\n"
     ]
    },
    {
     "name": "stdout",
     "output_type": "stream",
     "text": [
      "cog:timesat_extracts/h18v05/SINT/SINT_h18v05_2009_s1_laea_cog.tif\n",
      "cog:timesat_extracts/h18v05/SINT/SINT_h18v05_2010_s1_laea_cog.tif\n"
     ]
    },
    {
     "name": "stdout",
     "output_type": "stream",
     "text": [
      "cog:timesat_extracts/h18v05/SINT/SINT_h18v05_2011_s1_laea_cog.tif\n"
     ]
    },
    {
     "name": "stdout",
     "output_type": "stream",
     "text": [
      "cog:timesat_extracts/h18v05/SINT/SINT_h18v05_2012_s1_laea_cog.tif\n"
     ]
    },
    {
     "name": "stdout",
     "output_type": "stream",
     "text": [
      "cog:timesat_extracts/h18v05/SINT/SINT_h18v05_2013_s1_laea_cog.tif\n"
     ]
    },
    {
     "name": "stdout",
     "output_type": "stream",
     "text": [
      "cog:timesat_extracts/h18v05/SINT/SINT_h18v05_2014_s1_laea_cog.tif\n"
     ]
    },
    {
     "name": "stdout",
     "output_type": "stream",
     "text": [
      "cog:timesat_extracts/h18v05/SINT/SINT_h18v05_2015_s1_laea_cog.tif\n"
     ]
    },
    {
     "name": "stdout",
     "output_type": "stream",
     "text": [
      "cog:timesat_extracts/h18v05/SINT/SINT_h18v05_2016_s1_laea_cog.tif\n"
     ]
    },
    {
     "name": "stdout",
     "output_type": "stream",
     "text": [
      "cog:timesat_extracts/h18v05/SINT/SINT_h18v05_2017_s1_laea_cog.tif\n"
     ]
    },
    {
     "name": "stdout",
     "output_type": "stream",
     "text": [
      "cog:timesat_extracts/h18v05/SINT/SINT_h18v05_2018_s1_laea_cog.tif\n"
     ]
    },
    {
     "name": "stdout",
     "output_type": "stream",
     "text": [
      "cog:timesat_extracts/h18v05/SINT/SINT_h18v05_2019_s1_laea_cog.tif\n"
     ]
    },
    {
     "name": "stdout",
     "output_type": "stream",
     "text": [
      "cog:timesat_extracts/h18v05/SINT/SINT_h18v05_2020_s1_laea_cog.tif\n"
     ]
    },
    {
     "name": "stdout",
     "output_type": "stream",
     "text": [
      "cog:timesat_extracts/h18v05/decrease_rate/decrease_rate_EOS_h18v05_2000_s1_laea_cog.tif\n"
     ]
    },
    {
     "name": "stdout",
     "output_type": "stream",
     "text": [
      "cog:timesat_extracts/h18v05/decrease_rate/decrease_rate_EOS_h18v05_2001_s1_laea_cog.tif\n"
     ]
    },
    {
     "name": "stdout",
     "output_type": "stream",
     "text": [
      "cog:timesat_extracts/h18v05/decrease_rate/decrease_rate_EOS_h18v05_2002_s1_laea_cog.tif\n"
     ]
    },
    {
     "name": "stdout",
     "output_type": "stream",
     "text": [
      "cog:timesat_extracts/h18v05/decrease_rate/decrease_rate_EOS_h18v05_2003_s1_laea_cog.tif\n"
     ]
    },
    {
     "name": "stdout",
     "output_type": "stream",
     "text": [
      "cog:timesat_extracts/h18v05/decrease_rate/decrease_rate_EOS_h18v05_2004_s1_laea_cog.tif\n",
      "cog:timesat_extracts/h18v05/decrease_rate/decrease_rate_EOS_h18v05_2005_s1_laea_cog.tif\n"
     ]
    },
    {
     "name": "stdout",
     "output_type": "stream",
     "text": [
      "cog:timesat_extracts/h18v05/decrease_rate/decrease_rate_EOS_h18v05_2006_s1_laea_cog.tif\n"
     ]
    },
    {
     "name": "stdout",
     "output_type": "stream",
     "text": [
      "cog:timesat_extracts/h18v05/decrease_rate/decrease_rate_EOS_h18v05_2007_s1_laea_cog.tif\n"
     ]
    },
    {
     "name": "stdout",
     "output_type": "stream",
     "text": [
      "cog:timesat_extracts/h18v05/decrease_rate/decrease_rate_EOS_h18v05_2008_s1_laea_cog.tif\n"
     ]
    },
    {
     "name": "stdout",
     "output_type": "stream",
     "text": [
      "cog:timesat_extracts/h18v05/decrease_rate/decrease_rate_EOS_h18v05_2009_s1_laea_cog.tif\n"
     ]
    },
    {
     "name": "stdout",
     "output_type": "stream",
     "text": [
      "cog:timesat_extracts/h18v05/decrease_rate/decrease_rate_EOS_h18v05_2010_s1_laea_cog.tif\n"
     ]
    },
    {
     "name": "stdout",
     "output_type": "stream",
     "text": [
      "cog:timesat_extracts/h18v05/decrease_rate/decrease_rate_EOS_h18v05_2011_s1_laea_cog.tif\n"
     ]
    },
    {
     "name": "stdout",
     "output_type": "stream",
     "text": [
      "cog:timesat_extracts/h18v05/decrease_rate/decrease_rate_EOS_h18v05_2012_s1_laea_cog.tif\n"
     ]
    },
    {
     "name": "stdout",
     "output_type": "stream",
     "text": [
      "cog:timesat_extracts/h18v05/decrease_rate/decrease_rate_EOS_h18v05_2013_s1_laea_cog.tif\n"
     ]
    },
    {
     "name": "stdout",
     "output_type": "stream",
     "text": [
      "cog:timesat_extracts/h18v05/decrease_rate/decrease_rate_EOS_h18v05_2014_s1_laea_cog.tif\n"
     ]
    },
    {
     "name": "stdout",
     "output_type": "stream",
     "text": [
      "cog:timesat_extracts/h18v05/decrease_rate/decrease_rate_EOS_h18v05_2015_s1_laea_cog.tif\n"
     ]
    },
    {
     "name": "stdout",
     "output_type": "stream",
     "text": [
      "cog:timesat_extracts/h18v05/decrease_rate/decrease_rate_EOS_h18v05_2016_s1_laea_cog.tif\n"
     ]
    },
    {
     "name": "stdout",
     "output_type": "stream",
     "text": [
      "cog:timesat_extracts/h18v05/decrease_rate/decrease_rate_EOS_h18v05_2017_s1_laea_cog.tif\n"
     ]
    },
    {
     "name": "stdout",
     "output_type": "stream",
     "text": [
      "cog:timesat_extracts/h18v05/decrease_rate/decrease_rate_EOS_h18v05_2018_s1_laea_cog.tif\n"
     ]
    },
    {
     "name": "stdout",
     "output_type": "stream",
     "text": [
      "cog:timesat_extracts/h18v05/decrease_rate/decrease_rate_EOS_h18v05_2019_s1_laea_cog.tif\n",
      "cog:timesat_extracts/h18v05/decrease_rate/decrease_rate_EOS_h18v05_2020_s1_laea_cog.tif\n"
     ]
    },
    {
     "name": "stdout",
     "output_type": "stream",
     "text": [
      "cog:timesat_extracts/h18v05/eos/eos_h18v05_2000_s1_laea_cog.tif\n",
      "cog:timesat_extracts/h18v05/eos/eos_h18v05_2001_s1_laea_cog.tif\n"
     ]
    },
    {
     "name": "stdout",
     "output_type": "stream",
     "text": [
      "cog:timesat_extracts/h18v05/eos/eos_h18v05_2002_s1_laea_cog.tif\n",
      "cog:timesat_extracts/h18v05/eos/eos_h18v05_2003_s1_laea_cog.tif\n"
     ]
    },
    {
     "name": "stdout",
     "output_type": "stream",
     "text": [
      "cog:timesat_extracts/h18v05/eos/eos_h18v05_2004_s1_laea_cog.tif\n",
      "cog:timesat_extracts/h18v05/eos/eos_h18v05_2005_s1_laea_cog.tif\n"
     ]
    },
    {
     "name": "stdout",
     "output_type": "stream",
     "text": [
      "cog:timesat_extracts/h18v05/eos/eos_h18v05_2006_s1_laea_cog.tif\n",
      "cog:timesat_extracts/h18v05/eos/eos_h18v05_2007_s1_laea_cog.tif\n"
     ]
    },
    {
     "name": "stdout",
     "output_type": "stream",
     "text": [
      "cog:timesat_extracts/h18v05/eos/eos_h18v05_2008_s1_laea_cog.tif\n",
      "cog:timesat_extracts/h18v05/eos/eos_h18v05_2009_s1_laea_cog.tif\n"
     ]
    },
    {
     "name": "stdout",
     "output_type": "stream",
     "text": [
      "cog:timesat_extracts/h18v05/eos/eos_h18v05_2010_s1_laea_cog.tif\n",
      "cog:timesat_extracts/h18v05/eos/eos_h18v05_2011_s1_laea_cog.tif\n"
     ]
    },
    {
     "name": "stdout",
     "output_type": "stream",
     "text": [
      "cog:timesat_extracts/h18v05/eos/eos_h18v05_2012_s1_laea_cog.tif\n",
      "cog:timesat_extracts/h18v05/eos/eos_h18v05_2013_s1_laea_cog.tif\n"
     ]
    },
    {
     "name": "stdout",
     "output_type": "stream",
     "text": [
      "cog:timesat_extracts/h18v05/eos/eos_h18v05_2014_s1_laea_cog.tif\n"
     ]
    },
    {
     "name": "stdout",
     "output_type": "stream",
     "text": [
      "cog:timesat_extracts/h18v05/eos/eos_h18v05_2015_s1_laea_cog.tif\n",
      "cog:timesat_extracts/h18v05/eos/eos_h18v05_2016_s1_laea_cog.tif\n"
     ]
    },
    {
     "name": "stdout",
     "output_type": "stream",
     "text": [
      "cog:timesat_extracts/h18v05/eos/eos_h18v05_2017_s1_laea_cog.tif\n",
      "cog:timesat_extracts/h18v05/eos/eos_h18v05_2018_s1_laea_cog.tif\n"
     ]
    },
    {
     "name": "stdout",
     "output_type": "stream",
     "text": [
      "cog:timesat_extracts/h18v05/eos/eos_h18v05_2019_s1_laea_cog.tif\n",
      "cog:timesat_extracts/h18v05/eos/eos_h18v05_2020_s1_laea_cog.tif\n"
     ]
    },
    {
     "name": "stdout",
     "output_type": "stream",
     "text": [
      "cog:timesat_extracts/h18v05/eos_value/eos_value_h18v05_2000_s1_laea_cog.tif\n"
     ]
    },
    {
     "name": "stdout",
     "output_type": "stream",
     "text": [
      "cog:timesat_extracts/h18v05/eos_value/eos_value_h18v05_2001_s1_laea_cog.tif\n"
     ]
    },
    {
     "name": "stdout",
     "output_type": "stream",
     "text": [
      "cog:timesat_extracts/h18v05/eos_value/eos_value_h18v05_2002_s1_laea_cog.tif\n"
     ]
    },
    {
     "name": "stdout",
     "output_type": "stream",
     "text": [
      "cog:timesat_extracts/h18v05/eos_value/eos_value_h18v05_2003_s1_laea_cog.tif\n"
     ]
    },
    {
     "name": "stdout",
     "output_type": "stream",
     "text": [
      "cog:timesat_extracts/h18v05/eos_value/eos_value_h18v05_2004_s1_laea_cog.tif\n"
     ]
    },
    {
     "name": "stdout",
     "output_type": "stream",
     "text": [
      "cog:timesat_extracts/h18v05/eos_value/eos_value_h18v05_2005_s1_laea_cog.tif\n"
     ]
    },
    {
     "name": "stdout",
     "output_type": "stream",
     "text": [
      "cog:timesat_extracts/h18v05/eos_value/eos_value_h18v05_2006_s1_laea_cog.tif\n"
     ]
    },
    {
     "name": "stdout",
     "output_type": "stream",
     "text": [
      "cog:timesat_extracts/h18v05/eos_value/eos_value_h18v05_2007_s1_laea_cog.tif\n"
     ]
    },
    {
     "name": "stdout",
     "output_type": "stream",
     "text": [
      "cog:timesat_extracts/h18v05/eos_value/eos_value_h18v05_2008_s1_laea_cog.tif\n"
     ]
    },
    {
     "name": "stdout",
     "output_type": "stream",
     "text": [
      "cog:timesat_extracts/h18v05/eos_value/eos_value_h18v05_2009_s1_laea_cog.tif\n"
     ]
    },
    {
     "name": "stdout",
     "output_type": "stream",
     "text": [
      "cog:timesat_extracts/h18v05/eos_value/eos_value_h18v05_2010_s1_laea_cog.tif\n"
     ]
    },
    {
     "name": "stdout",
     "output_type": "stream",
     "text": [
      "cog:timesat_extracts/h18v05/eos_value/eos_value_h18v05_2011_s1_laea_cog.tif\n"
     ]
    },
    {
     "name": "stdout",
     "output_type": "stream",
     "text": [
      "cog:timesat_extracts/h18v05/eos_value/eos_value_h18v05_2012_s1_laea_cog.tif\n"
     ]
    },
    {
     "name": "stdout",
     "output_type": "stream",
     "text": [
      "cog:timesat_extracts/h18v05/eos_value/eos_value_h18v05_2013_s1_laea_cog.tif\n"
     ]
    },
    {
     "name": "stdout",
     "output_type": "stream",
     "text": [
      "cog:timesat_extracts/h18v05/eos_value/eos_value_h18v05_2014_s1_laea_cog.tif\n"
     ]
    },
    {
     "name": "stdout",
     "output_type": "stream",
     "text": [
      "cog:timesat_extracts/h18v05/eos_value/eos_value_h18v05_2015_s1_laea_cog.tif\n"
     ]
    },
    {
     "name": "stdout",
     "output_type": "stream",
     "text": [
      "cog:timesat_extracts/h18v05/eos_value/eos_value_h18v05_2016_s1_laea_cog.tif\n"
     ]
    },
    {
     "name": "stdout",
     "output_type": "stream",
     "text": [
      "cog:timesat_extracts/h18v05/eos_value/eos_value_h18v05_2017_s1_laea_cog.tif\n"
     ]
    },
    {
     "name": "stdout",
     "output_type": "stream",
     "text": [
      "cog:timesat_extracts/h18v05/eos_value/eos_value_h18v05_2018_s1_laea_cog.tif\n"
     ]
    },
    {
     "name": "stdout",
     "output_type": "stream",
     "text": [
      "cog:timesat_extracts/h18v05/eos_value/eos_value_h18v05_2019_s1_laea_cog.tif\n",
      "cog:timesat_extracts/h18v05/eos_value/eos_value_h18v05_2020_s1_laea_cog.tif\n"
     ]
    },
    {
     "name": "stdout",
     "output_type": "stream",
     "text": [
      "cog:timesat_extracts/h18v05/increase_rate/increase_rate_SOS_h18v05_2000_s1_laea_cog.tif\n"
     ]
    },
    {
     "name": "stdout",
     "output_type": "stream",
     "text": [
      "cog:timesat_extracts/h18v05/increase_rate/increase_rate_SOS_h18v05_2001_s1_laea_cog.tif\n"
     ]
    },
    {
     "name": "stdout",
     "output_type": "stream",
     "text": [
      "cog:timesat_extracts/h18v05/increase_rate/increase_rate_SOS_h18v05_2002_s1_laea_cog.tif\n"
     ]
    },
    {
     "name": "stdout",
     "output_type": "stream",
     "text": [
      "cog:timesat_extracts/h18v05/increase_rate/increase_rate_SOS_h18v05_2003_s1_laea_cog.tif\n"
     ]
    },
    {
     "name": "stdout",
     "output_type": "stream",
     "text": [
      "cog:timesat_extracts/h18v05/increase_rate/increase_rate_SOS_h18v05_2004_s1_laea_cog.tif\n"
     ]
    },
    {
     "name": "stdout",
     "output_type": "stream",
     "text": [
      "cog:timesat_extracts/h18v05/increase_rate/increase_rate_SOS_h18v05_2005_s1_laea_cog.tif\n"
     ]
    },
    {
     "name": "stdout",
     "output_type": "stream",
     "text": [
      "cog:timesat_extracts/h18v05/increase_rate/increase_rate_SOS_h18v05_2006_s1_laea_cog.tif\n"
     ]
    },
    {
     "name": "stdout",
     "output_type": "stream",
     "text": [
      "cog:timesat_extracts/h18v05/increase_rate/increase_rate_SOS_h18v05_2007_s1_laea_cog.tif\n"
     ]
    },
    {
     "name": "stdout",
     "output_type": "stream",
     "text": [
      "cog:timesat_extracts/h18v05/increase_rate/increase_rate_SOS_h18v05_2008_s1_laea_cog.tif\n"
     ]
    },
    {
     "name": "stdout",
     "output_type": "stream",
     "text": [
      "cog:timesat_extracts/h18v05/increase_rate/increase_rate_SOS_h18v05_2009_s1_laea_cog.tif\n"
     ]
    },
    {
     "name": "stdout",
     "output_type": "stream",
     "text": [
      "cog:timesat_extracts/h18v05/increase_rate/increase_rate_SOS_h18v05_2010_s1_laea_cog.tif\n"
     ]
    },
    {
     "name": "stdout",
     "output_type": "stream",
     "text": [
      "cog:timesat_extracts/h18v05/increase_rate/increase_rate_SOS_h18v05_2011_s1_laea_cog.tif\n"
     ]
    },
    {
     "name": "stdout",
     "output_type": "stream",
     "text": [
      "cog:timesat_extracts/h18v05/increase_rate/increase_rate_SOS_h18v05_2012_s1_laea_cog.tif\n",
      "cog:timesat_extracts/h18v05/increase_rate/increase_rate_SOS_h18v05_2013_s1_laea_cog.tif\n"
     ]
    },
    {
     "name": "stdout",
     "output_type": "stream",
     "text": [
      "cog:timesat_extracts/h18v05/increase_rate/increase_rate_SOS_h18v05_2014_s1_laea_cog.tif\n"
     ]
    },
    {
     "name": "stdout",
     "output_type": "stream",
     "text": [
      "cog:timesat_extracts/h18v05/increase_rate/increase_rate_SOS_h18v05_2015_s1_laea_cog.tif\n"
     ]
    },
    {
     "name": "stdout",
     "output_type": "stream",
     "text": [
      "cog:timesat_extracts/h18v05/increase_rate/increase_rate_SOS_h18v05_2016_s1_laea_cog.tif\n"
     ]
    },
    {
     "name": "stdout",
     "output_type": "stream",
     "text": [
      "cog:timesat_extracts/h18v05/increase_rate/increase_rate_SOS_h18v05_2017_s1_laea_cog.tif\n",
      "cog:timesat_extracts/h18v05/increase_rate/increase_rate_SOS_h18v05_2018_s1_laea_cog.tif\n"
     ]
    },
    {
     "name": "stdout",
     "output_type": "stream",
     "text": [
      "cog:timesat_extracts/h18v05/increase_rate/increase_rate_SOS_h18v05_2019_s1_laea_cog.tif\n"
     ]
    },
    {
     "name": "stdout",
     "output_type": "stream",
     "text": [
      "cog:timesat_extracts/h18v05/increase_rate/increase_rate_SOS_h18v05_2020_s1_laea_cog.tif\n"
     ]
    },
    {
     "name": "stdout",
     "output_type": "stream",
     "text": [
      "cog:timesat_extracts/h18v05/length_of_season/los_h18v05_2000_s1_laea_cog.tif\n",
      "cog:timesat_extracts/h18v05/length_of_season/los_h18v05_2001_s1_laea_cog.tif\n"
     ]
    },
    {
     "name": "stdout",
     "output_type": "stream",
     "text": [
      "cog:timesat_extracts/h18v05/length_of_season/los_h18v05_2002_s1_laea_cog.tif\n"
     ]
    },
    {
     "name": "stdout",
     "output_type": "stream",
     "text": [
      "cog:timesat_extracts/h18v05/length_of_season/los_h18v05_2003_s1_laea_cog.tif\n",
      "cog:timesat_extracts/h18v05/length_of_season/los_h18v05_2004_s1_laea_cog.tif\n"
     ]
    },
    {
     "name": "stdout",
     "output_type": "stream",
     "text": [
      "cog:timesat_extracts/h18v05/length_of_season/los_h18v05_2005_s1_laea_cog.tif\n",
      "cog:timesat_extracts/h18v05/length_of_season/los_h18v05_2006_s1_laea_cog.tif\n"
     ]
    },
    {
     "name": "stdout",
     "output_type": "stream",
     "text": [
      "cog:timesat_extracts/h18v05/length_of_season/los_h18v05_2007_s1_laea_cog.tif\n",
      "cog:timesat_extracts/h18v05/length_of_season/los_h18v05_2008_s1_laea_cog.tif\n"
     ]
    },
    {
     "name": "stdout",
     "output_type": "stream",
     "text": [
      "cog:timesat_extracts/h18v05/length_of_season/los_h18v05_2009_s1_laea_cog.tif\n",
      "cog:timesat_extracts/h18v05/length_of_season/los_h18v05_2010_s1_laea_cog.tif\n"
     ]
    },
    {
     "name": "stdout",
     "output_type": "stream",
     "text": [
      "cog:timesat_extracts/h18v05/length_of_season/los_h18v05_2011_s1_laea_cog.tif\n",
      "cog:timesat_extracts/h18v05/length_of_season/los_h18v05_2012_s1_laea_cog.tif\n"
     ]
    },
    {
     "name": "stdout",
     "output_type": "stream",
     "text": [
      "cog:timesat_extracts/h18v05/length_of_season/los_h18v05_2013_s1_laea_cog.tif\n",
      "cog:timesat_extracts/h18v05/length_of_season/los_h18v05_2014_s1_laea_cog.tif\n"
     ]
    },
    {
     "name": "stdout",
     "output_type": "stream",
     "text": [
      "cog:timesat_extracts/h18v05/length_of_season/los_h18v05_2015_s1_laea_cog.tif\n"
     ]
    },
    {
     "name": "stdout",
     "output_type": "stream",
     "text": [
      "cog:timesat_extracts/h18v05/length_of_season/los_h18v05_2016_s1_laea_cog.tif\n",
      "cog:timesat_extracts/h18v05/length_of_season/los_h18v05_2017_s1_laea_cog.tif\n"
     ]
    },
    {
     "name": "stdout",
     "output_type": "stream",
     "text": [
      "cog:timesat_extracts/h18v05/length_of_season/los_h18v05_2018_s1_laea_cog.tif\n",
      "cog:timesat_extracts/h18v05/length_of_season/los_h18v05_2019_s1_laea_cog.tif\n"
     ]
    },
    {
     "name": "stdout",
     "output_type": "stream",
     "text": [
      "cog:timesat_extracts/h18v05/length_of_season/los_h18v05_2020_s1_laea_cog.tif\n"
     ]
    },
    {
     "name": "stdout",
     "output_type": "stream",
     "text": [
      "cog:timesat_extracts/h18v05/seasonal_amplitude/s_amplitude_h18v05_2000_s1_laea_cog.tif\n"
     ]
    },
    {
     "name": "stdout",
     "output_type": "stream",
     "text": [
      "cog:timesat_extracts/h18v05/seasonal_amplitude/s_amplitude_h18v05_2001_s1_laea_cog.tif\n"
     ]
    },
    {
     "name": "stdout",
     "output_type": "stream",
     "text": [
      "cog:timesat_extracts/h18v05/seasonal_amplitude/s_amplitude_h18v05_2002_s1_laea_cog.tif\n"
     ]
    },
    {
     "name": "stdout",
     "output_type": "stream",
     "text": [
      "cog:timesat_extracts/h18v05/seasonal_amplitude/s_amplitude_h18v05_2003_s1_laea_cog.tif\n"
     ]
    },
    {
     "name": "stdout",
     "output_type": "stream",
     "text": [
      "cog:timesat_extracts/h18v05/seasonal_amplitude/s_amplitude_h18v05_2004_s1_laea_cog.tif\n"
     ]
    },
    {
     "name": "stdout",
     "output_type": "stream",
     "text": [
      "cog:timesat_extracts/h18v05/seasonal_amplitude/s_amplitude_h18v05_2005_s1_laea_cog.tif\n",
      "cog:timesat_extracts/h18v05/seasonal_amplitude/s_amplitude_h18v05_2006_s1_laea_cog.tif\n"
     ]
    },
    {
     "name": "stdout",
     "output_type": "stream",
     "text": [
      "cog:timesat_extracts/h18v05/seasonal_amplitude/s_amplitude_h18v05_2007_s1_laea_cog.tif\n",
      "cog:timesat_extracts/h18v05/seasonal_amplitude/s_amplitude_h18v05_2008_s1_laea_cog.tif\n"
     ]
    },
    {
     "name": "stdout",
     "output_type": "stream",
     "text": [
      "cog:timesat_extracts/h18v05/seasonal_amplitude/s_amplitude_h18v05_2009_s1_laea_cog.tif\n",
      "cog:timesat_extracts/h18v05/seasonal_amplitude/s_amplitude_h18v05_2010_s1_laea_cog.tif\n"
     ]
    },
    {
     "name": "stdout",
     "output_type": "stream",
     "text": [
      "cog:timesat_extracts/h18v05/seasonal_amplitude/s_amplitude_h18v05_2011_s1_laea_cog.tif\n",
      "cog:timesat_extracts/h18v05/seasonal_amplitude/s_amplitude_h18v05_2012_s1_laea_cog.tif\n"
     ]
    },
    {
     "name": "stdout",
     "output_type": "stream",
     "text": [
      "cog:timesat_extracts/h18v05/seasonal_amplitude/s_amplitude_h18v05_2013_s1_laea_cog.tif\n",
      "cog:timesat_extracts/h18v05/seasonal_amplitude/s_amplitude_h18v05_2014_s1_laea_cog.tif\n"
     ]
    },
    {
     "name": "stdout",
     "output_type": "stream",
     "text": [
      "cog:timesat_extracts/h18v05/seasonal_amplitude/s_amplitude_h18v05_2015_s1_laea_cog.tif\n"
     ]
    },
    {
     "name": "stdout",
     "output_type": "stream",
     "text": [
      "cog:timesat_extracts/h18v05/seasonal_amplitude/s_amplitude_h18v05_2016_s1_laea_cog.tif\n"
     ]
    },
    {
     "name": "stdout",
     "output_type": "stream",
     "text": [
      "cog:timesat_extracts/h18v05/seasonal_amplitude/s_amplitude_h18v05_2017_s1_laea_cog.tif\n",
      "cog:timesat_extracts/h18v05/seasonal_amplitude/s_amplitude_h18v05_2018_s1_laea_cog.tif\n"
     ]
    },
    {
     "name": "stdout",
     "output_type": "stream",
     "text": [
      "cog:timesat_extracts/h18v05/seasonal_amplitude/s_amplitude_h18v05_2019_s1_laea_cog.tif\n"
     ]
    },
    {
     "name": "stdout",
     "output_type": "stream",
     "text": [
      "cog:timesat_extracts/h18v05/seasonal_amplitude/s_amplitude_h18v05_2020_s1_laea_cog.tif\n",
      "cog:timesat_extracts/h18v05/sos/sos_h18v05_2000_s1_laea_cog.tif\n"
     ]
    },
    {
     "name": "stdout",
     "output_type": "stream",
     "text": [
      "cog:timesat_extracts/h18v05/sos/sos_h18v05_2001_s1_laea_cog.tif\n",
      "cog:timesat_extracts/h18v05/sos/sos_h18v05_2002_s1_laea_cog.tif\n"
     ]
    },
    {
     "name": "stdout",
     "output_type": "stream",
     "text": [
      "cog:timesat_extracts/h18v05/sos/sos_h18v05_2003_s1_laea_cog.tif\n",
      "cog:timesat_extracts/h18v05/sos/sos_h18v05_2004_s1_laea_cog.tif\n"
     ]
    },
    {
     "name": "stdout",
     "output_type": "stream",
     "text": [
      "cog:timesat_extracts/h18v05/sos/sos_h18v05_2005_s1_laea_cog.tif\n",
      "cog:timesat_extracts/h18v05/sos/sos_h18v05_2006_s1_laea_cog.tif\n"
     ]
    },
    {
     "name": "stdout",
     "output_type": "stream",
     "text": [
      "cog:timesat_extracts/h18v05/sos/sos_h18v05_2007_s1_laea_cog.tif\n",
      "cog:timesat_extracts/h18v05/sos/sos_h18v05_2008_s1_laea_cog.tif\n"
     ]
    },
    {
     "name": "stdout",
     "output_type": "stream",
     "text": [
      "cog:timesat_extracts/h18v05/sos/sos_h18v05_2009_s1_laea_cog.tif\n"
     ]
    },
    {
     "name": "stdout",
     "output_type": "stream",
     "text": [
      "cog:timesat_extracts/h18v05/sos/sos_h18v05_2010_s1_laea_cog.tif\n",
      "cog:timesat_extracts/h18v05/sos/sos_h18v05_2011_s1_laea_cog.tif\n"
     ]
    },
    {
     "name": "stdout",
     "output_type": "stream",
     "text": [
      "cog:timesat_extracts/h18v05/sos/sos_h18v05_2012_s1_laea_cog.tif\n",
      "cog:timesat_extracts/h18v05/sos/sos_h18v05_2013_s1_laea_cog.tif\n"
     ]
    },
    {
     "name": "stdout",
     "output_type": "stream",
     "text": [
      "cog:timesat_extracts/h18v05/sos/sos_h18v05_2014_s1_laea_cog.tif\n",
      "cog:timesat_extracts/h18v05/sos/sos_h18v05_2015_s1_laea_cog.tif\n"
     ]
    },
    {
     "name": "stdout",
     "output_type": "stream",
     "text": [
      "cog:timesat_extracts/h18v05/sos/sos_h18v05_2016_s1_laea_cog.tif\n",
      "cog:timesat_extracts/h18v05/sos/sos_h18v05_2017_s1_laea_cog.tif\n"
     ]
    },
    {
     "name": "stdout",
     "output_type": "stream",
     "text": [
      "cog:timesat_extracts/h18v05/sos/sos_h18v05_2018_s1_laea_cog.tif\n",
      "cog:timesat_extracts/h18v05/sos/sos_h18v05_2019_s1_laea_cog.tif\n"
     ]
    },
    {
     "name": "stdout",
     "output_type": "stream",
     "text": [
      "cog:timesat_extracts/h18v05/sos/sos_h18v05_2020_s1_laea_cog.tif\n",
      "cog:timesat_extracts/h18v05/sos_value/sos_value_h18v05_2000_s1_laea_cog.tif\n"
     ]
    },
    {
     "name": "stdout",
     "output_type": "stream",
     "text": [
      "cog:timesat_extracts/h18v05/sos_value/sos_value_h18v05_2001_s1_laea_cog.tif\n"
     ]
    },
    {
     "name": "stdout",
     "output_type": "stream",
     "text": [
      "cog:timesat_extracts/h18v05/sos_value/sos_value_h18v05_2002_s1_laea_cog.tif\n"
     ]
    },
    {
     "name": "stdout",
     "output_type": "stream",
     "text": [
      "cog:timesat_extracts/h18v05/sos_value/sos_value_h18v05_2003_s1_laea_cog.tif\n"
     ]
    },
    {
     "name": "stdout",
     "output_type": "stream",
     "text": [
      "cog:timesat_extracts/h18v05/sos_value/sos_value_h18v05_2004_s1_laea_cog.tif\n"
     ]
    },
    {
     "name": "stdout",
     "output_type": "stream",
     "text": [
      "cog:timesat_extracts/h18v05/sos_value/sos_value_h18v05_2005_s1_laea_cog.tif\n"
     ]
    },
    {
     "name": "stdout",
     "output_type": "stream",
     "text": [
      "cog:timesat_extracts/h18v05/sos_value/sos_value_h18v05_2006_s1_laea_cog.tif\n"
     ]
    },
    {
     "name": "stdout",
     "output_type": "stream",
     "text": [
      "cog:timesat_extracts/h18v05/sos_value/sos_value_h18v05_2007_s1_laea_cog.tif\n",
      "cog:timesat_extracts/h18v05/sos_value/sos_value_h18v05_2008_s1_laea_cog.tif\n"
     ]
    },
    {
     "name": "stdout",
     "output_type": "stream",
     "text": [
      "cog:timesat_extracts/h18v05/sos_value/sos_value_h18v05_2009_s1_laea_cog.tif\n"
     ]
    },
    {
     "name": "stdout",
     "output_type": "stream",
     "text": [
      "cog:timesat_extracts/h18v05/sos_value/sos_value_h18v05_2010_s1_laea_cog.tif\n"
     ]
    },
    {
     "name": "stdout",
     "output_type": "stream",
     "text": [
      "cog:timesat_extracts/h18v05/sos_value/sos_value_h18v05_2011_s1_laea_cog.tif\n"
     ]
    },
    {
     "name": "stdout",
     "output_type": "stream",
     "text": [
      "cog:timesat_extracts/h18v05/sos_value/sos_value_h18v05_2012_s1_laea_cog.tif\n"
     ]
    },
    {
     "name": "stdout",
     "output_type": "stream",
     "text": [
      "cog:timesat_extracts/h18v05/sos_value/sos_value_h18v05_2013_s1_laea_cog.tif\n"
     ]
    },
    {
     "name": "stdout",
     "output_type": "stream",
     "text": [
      "cog:timesat_extracts/h18v05/sos_value/sos_value_h18v05_2014_s1_laea_cog.tif\n"
     ]
    },
    {
     "name": "stdout",
     "output_type": "stream",
     "text": [
      "cog:timesat_extracts/h18v05/sos_value/sos_value_h18v05_2015_s1_laea_cog.tif\n"
     ]
    },
    {
     "name": "stdout",
     "output_type": "stream",
     "text": [
      "cog:timesat_extracts/h18v05/sos_value/sos_value_h18v05_2016_s1_laea_cog.tif\n"
     ]
    },
    {
     "name": "stdout",
     "output_type": "stream",
     "text": [
      "cog:timesat_extracts/h18v05/sos_value/sos_value_h18v05_2017_s1_laea_cog.tif\n"
     ]
    },
    {
     "name": "stdout",
     "output_type": "stream",
     "text": [
      "cog:timesat_extracts/h18v05/sos_value/sos_value_h18v05_2018_s1_laea_cog.tif\n",
      "cog:timesat_extracts/h18v05/sos_value/sos_value_h18v05_2019_s1_laea_cog.tif\n"
     ]
    },
    {
     "name": "stdout",
     "output_type": "stream",
     "text": [
      "cog:timesat_extracts/h18v05/sos_value/sos_value_h18v05_2020_s1_laea_cog.tif\n"
     ]
    },
    {
     "name": "stdout",
     "output_type": "stream",
     "text": [
      "cog:timesat_extracts/h19v01/LINT/LINT_h19v01_2000_s1_laea_cog.tif\n",
      "cog:timesat_extracts/h19v01/LINT/LINT_h19v01_2001_s1_laea_cog.tif\n"
     ]
    },
    {
     "name": "stdout",
     "output_type": "stream",
     "text": [
      "cog:timesat_extracts/h19v01/LINT/LINT_h19v01_2002_s1_laea_cog.tif\n",
      "cog:timesat_extracts/h19v01/LINT/LINT_h19v01_2003_s1_laea_cog.tif\n"
     ]
    },
    {
     "name": "stdout",
     "output_type": "stream",
     "text": [
      "cog:timesat_extracts/h19v01/LINT/LINT_h19v01_2004_s1_laea_cog.tif\n",
      "cog:timesat_extracts/h19v01/LINT/LINT_h19v01_2005_s1_laea_cog.tif\n"
     ]
    },
    {
     "name": "stdout",
     "output_type": "stream",
     "text": [
      "cog:timesat_extracts/h19v01/LINT/LINT_h19v01_2006_s1_laea_cog.tif\n",
      "cog:timesat_extracts/h19v01/LINT/LINT_h19v01_2007_s1_laea_cog.tif\n",
      "cog:timesat_extracts/h19v01/LINT/LINT_h19v01_2008_s1_laea_cog.tif\n"
     ]
    },
    {
     "name": "stdout",
     "output_type": "stream",
     "text": [
      "cog:timesat_extracts/h19v01/LINT/LINT_h19v01_2009_s1_laea_cog.tif\n",
      "cog:timesat_extracts/h19v01/LINT/LINT_h19v01_2010_s1_laea_cog.tif\n"
     ]
    },
    {
     "name": "stdout",
     "output_type": "stream",
     "text": [
      "cog:timesat_extracts/h19v01/LINT/LINT_h19v01_2011_s1_laea_cog.tif\n",
      "cog:timesat_extracts/h19v01/LINT/LINT_h19v01_2012_s1_laea_cog.tif\n",
      "cog:timesat_extracts/h19v01/LINT/LINT_h19v01_2013_s1_laea_cog.tif\n"
     ]
    },
    {
     "name": "stdout",
     "output_type": "stream",
     "text": [
      "cog:timesat_extracts/h19v01/LINT/LINT_h19v01_2014_s1_laea_cog.tif\n",
      "cog:timesat_extracts/h19v01/LINT/LINT_h19v01_2015_s1_laea_cog.tif\n",
      "cog:timesat_extracts/h19v01/LINT/LINT_h19v01_2016_s1_laea_cog.tif\n"
     ]
    },
    {
     "name": "stdout",
     "output_type": "stream",
     "text": [
      "cog:timesat_extracts/h19v01/LINT/LINT_h19v01_2017_s1_laea_cog.tif\n",
      "cog:timesat_extracts/h19v01/LINT/LINT_h19v01_2018_s1_laea_cog.tif\n"
     ]
    },
    {
     "name": "stdout",
     "output_type": "stream",
     "text": [
      "cog:timesat_extracts/h19v01/LINT/LINT_h19v01_2019_s1_laea_cog.tif\n",
      "cog:timesat_extracts/h19v01/LINT/LINT_h19v01_2020_s1_laea_cog.tif\n"
     ]
    },
    {
     "name": "stdout",
     "output_type": "stream",
     "text": [
      "cog:timesat_extracts/h19v01/SINT/SINT_h19v01_2000_s1_laea_cog.tif\n",
      "cog:timesat_extracts/h19v01/SINT/SINT_h19v01_2001_s1_laea_cog.tif\n"
     ]
    },
    {
     "name": "stdout",
     "output_type": "stream",
     "text": [
      "cog:timesat_extracts/h19v01/SINT/SINT_h19v01_2002_s1_laea_cog.tif\n",
      "cog:timesat_extracts/h19v01/SINT/SINT_h19v01_2003_s1_laea_cog.tif\n"
     ]
    },
    {
     "name": "stdout",
     "output_type": "stream",
     "text": [
      "cog:timesat_extracts/h19v01/SINT/SINT_h19v01_2004_s1_laea_cog.tif\n",
      "cog:timesat_extracts/h19v01/SINT/SINT_h19v01_2005_s1_laea_cog.tif\n"
     ]
    },
    {
     "name": "stdout",
     "output_type": "stream",
     "text": [
      "cog:timesat_extracts/h19v01/SINT/SINT_h19v01_2006_s1_laea_cog.tif\n",
      "cog:timesat_extracts/h19v01/SINT/SINT_h19v01_2007_s1_laea_cog.tif\n",
      "cog:timesat_extracts/h19v01/SINT/SINT_h19v01_2008_s1_laea_cog.tif\n"
     ]
    },
    {
     "name": "stdout",
     "output_type": "stream",
     "text": [
      "cog:timesat_extracts/h19v01/SINT/SINT_h19v01_2009_s1_laea_cog.tif\n",
      "cog:timesat_extracts/h19v01/SINT/SINT_h19v01_2010_s1_laea_cog.tif\n"
     ]
    },
    {
     "name": "stdout",
     "output_type": "stream",
     "text": [
      "cog:timesat_extracts/h19v01/SINT/SINT_h19v01_2011_s1_laea_cog.tif\n",
      "cog:timesat_extracts/h19v01/SINT/SINT_h19v01_2012_s1_laea_cog.tif\n"
     ]
    },
    {
     "name": "stdout",
     "output_type": "stream",
     "text": [
      "cog:timesat_extracts/h19v01/SINT/SINT_h19v01_2013_s1_laea_cog.tif\n",
      "cog:timesat_extracts/h19v01/SINT/SINT_h19v01_2014_s1_laea_cog.tif\n"
     ]
    },
    {
     "name": "stdout",
     "output_type": "stream",
     "text": [
      "cog:timesat_extracts/h19v01/SINT/SINT_h19v01_2015_s1_laea_cog.tif\n",
      "cog:timesat_extracts/h19v01/SINT/SINT_h19v01_2016_s1_laea_cog.tif\n"
     ]
    },
    {
     "name": "stdout",
     "output_type": "stream",
     "text": [
      "cog:timesat_extracts/h19v01/SINT/SINT_h19v01_2017_s1_laea_cog.tif\n",
      "cog:timesat_extracts/h19v01/SINT/SINT_h19v01_2018_s1_laea_cog.tif\n"
     ]
    },
    {
     "name": "stdout",
     "output_type": "stream",
     "text": [
      "cog:timesat_extracts/h19v01/SINT/SINT_h19v01_2019_s1_laea_cog.tif\n",
      "cog:timesat_extracts/h19v01/SINT/SINT_h19v01_2020_s1_laea_cog.tif\n"
     ]
    },
    {
     "name": "stdout",
     "output_type": "stream",
     "text": [
      "cog:timesat_extracts/h19v01/decrease_rate/decrease_rate_EOS_h19v01_2000_s1_laea_cog.tif\n",
      "cog:timesat_extracts/h19v01/decrease_rate/decrease_rate_EOS_h19v01_2001_s1_laea_cog.tif\n"
     ]
    },
    {
     "name": "stdout",
     "output_type": "stream",
     "text": [
      "cog:timesat_extracts/h19v01/decrease_rate/decrease_rate_EOS_h19v01_2002_s1_laea_cog.tif\n",
      "cog:timesat_extracts/h19v01/decrease_rate/decrease_rate_EOS_h19v01_2003_s1_laea_cog.tif\n"
     ]
    },
    {
     "name": "stdout",
     "output_type": "stream",
     "text": [
      "cog:timesat_extracts/h19v01/decrease_rate/decrease_rate_EOS_h19v01_2004_s1_laea_cog.tif\n",
      "cog:timesat_extracts/h19v01/decrease_rate/decrease_rate_EOS_h19v01_2005_s1_laea_cog.tif\n"
     ]
    },
    {
     "name": "stdout",
     "output_type": "stream",
     "text": [
      "cog:timesat_extracts/h19v01/decrease_rate/decrease_rate_EOS_h19v01_2006_s1_laea_cog.tif\n",
      "cog:timesat_extracts/h19v01/decrease_rate/decrease_rate_EOS_h19v01_2007_s1_laea_cog.tif\n",
      "cog:timesat_extracts/h19v01/decrease_rate/decrease_rate_EOS_h19v01_2008_s1_laea_cog.tif\n"
     ]
    },
    {
     "name": "stdout",
     "output_type": "stream",
     "text": [
      "cog:timesat_extracts/h19v01/decrease_rate/decrease_rate_EOS_h19v01_2009_s1_laea_cog.tif\n",
      "cog:timesat_extracts/h19v01/decrease_rate/decrease_rate_EOS_h19v01_2010_s1_laea_cog.tif\n",
      "cog:timesat_extracts/h19v01/decrease_rate/decrease_rate_EOS_h19v01_2011_s1_laea_cog.tif\n"
     ]
    },
    {
     "name": "stdout",
     "output_type": "stream",
     "text": [
      "cog:timesat_extracts/h19v01/decrease_rate/decrease_rate_EOS_h19v01_2012_s1_laea_cog.tif\n",
      "cog:timesat_extracts/h19v01/decrease_rate/decrease_rate_EOS_h19v01_2013_s1_laea_cog.tif\n"
     ]
    },
    {
     "name": "stdout",
     "output_type": "stream",
     "text": [
      "cog:timesat_extracts/h19v01/decrease_rate/decrease_rate_EOS_h19v01_2014_s1_laea_cog.tif\n",
      "cog:timesat_extracts/h19v01/decrease_rate/decrease_rate_EOS_h19v01_2015_s1_laea_cog.tif\n"
     ]
    },
    {
     "name": "stdout",
     "output_type": "stream",
     "text": [
      "cog:timesat_extracts/h19v01/decrease_rate/decrease_rate_EOS_h19v01_2016_s1_laea_cog.tif\n",
      "cog:timesat_extracts/h19v01/decrease_rate/decrease_rate_EOS_h19v01_2017_s1_laea_cog.tif\n"
     ]
    },
    {
     "name": "stdout",
     "output_type": "stream",
     "text": [
      "cog:timesat_extracts/h19v01/decrease_rate/decrease_rate_EOS_h19v01_2018_s1_laea_cog.tif\n",
      "cog:timesat_extracts/h19v01/decrease_rate/decrease_rate_EOS_h19v01_2019_s1_laea_cog.tif\n"
     ]
    },
    {
     "name": "stdout",
     "output_type": "stream",
     "text": [
      "cog:timesat_extracts/h19v01/decrease_rate/decrease_rate_EOS_h19v01_2020_s1_laea_cog.tif\n",
      "cog:timesat_extracts/h19v01/eos/eos_h19v01_2000_s1_laea_cog.tif\n"
     ]
    },
    {
     "name": "stdout",
     "output_type": "stream",
     "text": [
      "cog:timesat_extracts/h19v01/eos/eos_h19v01_2001_s1_laea_cog.tif\n",
      "cog:timesat_extracts/h19v01/eos/eos_h19v01_2002_s1_laea_cog.tif\n"
     ]
    },
    {
     "name": "stdout",
     "output_type": "stream",
     "text": [
      "cog:timesat_extracts/h19v01/eos/eos_h19v01_2003_s1_laea_cog.tif\n",
      "cog:timesat_extracts/h19v01/eos/eos_h19v01_2004_s1_laea_cog.tif\n",
      "cog:timesat_extracts/h19v01/eos/eos_h19v01_2005_s1_laea_cog.tif\n"
     ]
    },
    {
     "name": "stdout",
     "output_type": "stream",
     "text": [
      "cog:timesat_extracts/h19v01/eos/eos_h19v01_2006_s1_laea_cog.tif\n",
      "cog:timesat_extracts/h19v01/eos/eos_h19v01_2007_s1_laea_cog.tif\n",
      "cog:timesat_extracts/h19v01/eos/eos_h19v01_2008_s1_laea_cog.tif\n"
     ]
    },
    {
     "name": "stdout",
     "output_type": "stream",
     "text": [
      "cog:timesat_extracts/h19v01/eos/eos_h19v01_2009_s1_laea_cog.tif\n",
      "cog:timesat_extracts/h19v01/eos/eos_h19v01_2010_s1_laea_cog.tif\n",
      "cog:timesat_extracts/h19v01/eos/eos_h19v01_2011_s1_laea_cog.tif\n"
     ]
    },
    {
     "name": "stdout",
     "output_type": "stream",
     "text": [
      "cog:timesat_extracts/h19v01/eos/eos_h19v01_2012_s1_laea_cog.tif\n",
      "cog:timesat_extracts/h19v01/eos/eos_h19v01_2013_s1_laea_cog.tif\n"
     ]
    },
    {
     "name": "stdout",
     "output_type": "stream",
     "text": [
      "cog:timesat_extracts/h19v01/eos/eos_h19v01_2014_s1_laea_cog.tif\n",
      "cog:timesat_extracts/h19v01/eos/eos_h19v01_2015_s1_laea_cog.tif\n",
      "cog:timesat_extracts/h19v01/eos/eos_h19v01_2016_s1_laea_cog.tif\n"
     ]
    },
    {
     "name": "stdout",
     "output_type": "stream",
     "text": [
      "cog:timesat_extracts/h19v01/eos/eos_h19v01_2017_s1_laea_cog.tif\n",
      "cog:timesat_extracts/h19v01/eos/eos_h19v01_2018_s1_laea_cog.tif\n"
     ]
    },
    {
     "name": "stdout",
     "output_type": "stream",
     "text": [
      "cog:timesat_extracts/h19v01/eos/eos_h19v01_2019_s1_laea_cog.tif\n",
      "cog:timesat_extracts/h19v01/eos/eos_h19v01_2020_s1_laea_cog.tif\n"
     ]
    },
    {
     "name": "stdout",
     "output_type": "stream",
     "text": [
      "cog:timesat_extracts/h19v01/eos_value/eos_value_h19v01_2000_s1_laea_cog.tif\n",
      "cog:timesat_extracts/h19v01/eos_value/eos_value_h19v01_2001_s1_laea_cog.tif\n"
     ]
    },
    {
     "name": "stdout",
     "output_type": "stream",
     "text": [
      "cog:timesat_extracts/h19v01/eos_value/eos_value_h19v01_2002_s1_laea_cog.tif\n",
      "cog:timesat_extracts/h19v01/eos_value/eos_value_h19v01_2003_s1_laea_cog.tif\n"
     ]
    },
    {
     "name": "stdout",
     "output_type": "stream",
     "text": [
      "cog:timesat_extracts/h19v01/eos_value/eos_value_h19v01_2004_s1_laea_cog.tif\n",
      "cog:timesat_extracts/h19v01/eos_value/eos_value_h19v01_2005_s1_laea_cog.tif\n"
     ]
    },
    {
     "name": "stdout",
     "output_type": "stream",
     "text": [
      "cog:timesat_extracts/h19v01/eos_value/eos_value_h19v01_2006_s1_laea_cog.tif\n",
      "cog:timesat_extracts/h19v01/eos_value/eos_value_h19v01_2007_s1_laea_cog.tif\n"
     ]
    },
    {
     "name": "stdout",
     "output_type": "stream",
     "text": [
      "cog:timesat_extracts/h19v01/eos_value/eos_value_h19v01_2008_s1_laea_cog.tif\n",
      "cog:timesat_extracts/h19v01/eos_value/eos_value_h19v01_2009_s1_laea_cog.tif\n"
     ]
    },
    {
     "name": "stdout",
     "output_type": "stream",
     "text": [
      "cog:timesat_extracts/h19v01/eos_value/eos_value_h19v01_2010_s1_laea_cog.tif\n",
      "cog:timesat_extracts/h19v01/eos_value/eos_value_h19v01_2011_s1_laea_cog.tif\n"
     ]
    },
    {
     "name": "stdout",
     "output_type": "stream",
     "text": [
      "cog:timesat_extracts/h19v01/eos_value/eos_value_h19v01_2012_s1_laea_cog.tif\n",
      "cog:timesat_extracts/h19v01/eos_value/eos_value_h19v01_2013_s1_laea_cog.tif\n",
      "cog:timesat_extracts/h19v01/eos_value/eos_value_h19v01_2014_s1_laea_cog.tif\n"
     ]
    },
    {
     "name": "stdout",
     "output_type": "stream",
     "text": [
      "cog:timesat_extracts/h19v01/eos_value/eos_value_h19v01_2015_s1_laea_cog.tif\n",
      "cog:timesat_extracts/h19v01/eos_value/eos_value_h19v01_2016_s1_laea_cog.tif\n"
     ]
    },
    {
     "name": "stdout",
     "output_type": "stream",
     "text": [
      "cog:timesat_extracts/h19v01/eos_value/eos_value_h19v01_2017_s1_laea_cog.tif\n",
      "cog:timesat_extracts/h19v01/eos_value/eos_value_h19v01_2018_s1_laea_cog.tif\n"
     ]
    },
    {
     "name": "stdout",
     "output_type": "stream",
     "text": [
      "cog:timesat_extracts/h19v01/eos_value/eos_value_h19v01_2019_s1_laea_cog.tif\n",
      "cog:timesat_extracts/h19v01/eos_value/eos_value_h19v01_2020_s1_laea_cog.tif\n"
     ]
    },
    {
     "name": "stdout",
     "output_type": "stream",
     "text": [
      "cog:timesat_extracts/h19v01/increase_rate/increase_rate_SOS_h19v01_2000_s1_laea_cog.tif\n",
      "cog:timesat_extracts/h19v01/increase_rate/increase_rate_SOS_h19v01_2001_s1_laea_cog.tif\n"
     ]
    },
    {
     "name": "stdout",
     "output_type": "stream",
     "text": [
      "cog:timesat_extracts/h19v01/increase_rate/increase_rate_SOS_h19v01_2002_s1_laea_cog.tif\n",
      "cog:timesat_extracts/h19v01/increase_rate/increase_rate_SOS_h19v01_2003_s1_laea_cog.tif\n"
     ]
    },
    {
     "name": "stdout",
     "output_type": "stream",
     "text": [
      "cog:timesat_extracts/h19v01/increase_rate/increase_rate_SOS_h19v01_2004_s1_laea_cog.tif\n",
      "cog:timesat_extracts/h19v01/increase_rate/increase_rate_SOS_h19v01_2005_s1_laea_cog.tif\n"
     ]
    },
    {
     "name": "stdout",
     "output_type": "stream",
     "text": [
      "cog:timesat_extracts/h19v01/increase_rate/increase_rate_SOS_h19v01_2006_s1_laea_cog.tif\n",
      "cog:timesat_extracts/h19v01/increase_rate/increase_rate_SOS_h19v01_2007_s1_laea_cog.tif\n",
      "cog:timesat_extracts/h19v01/increase_rate/increase_rate_SOS_h19v01_2008_s1_laea_cog.tif\n"
     ]
    },
    {
     "name": "stdout",
     "output_type": "stream",
     "text": [
      "cog:timesat_extracts/h19v01/increase_rate/increase_rate_SOS_h19v01_2009_s1_laea_cog.tif\n",
      "cog:timesat_extracts/h19v01/increase_rate/increase_rate_SOS_h19v01_2010_s1_laea_cog.tif\n",
      "cog:timesat_extracts/h19v01/increase_rate/increase_rate_SOS_h19v01_2011_s1_laea_cog.tif\n"
     ]
    },
    {
     "name": "stdout",
     "output_type": "stream",
     "text": [
      "cog:timesat_extracts/h19v01/increase_rate/increase_rate_SOS_h19v01_2012_s1_laea_cog.tif\n",
      "cog:timesat_extracts/h19v01/increase_rate/increase_rate_SOS_h19v01_2013_s1_laea_cog.tif\n"
     ]
    },
    {
     "name": "stdout",
     "output_type": "stream",
     "text": [
      "cog:timesat_extracts/h19v01/increase_rate/increase_rate_SOS_h19v01_2014_s1_laea_cog.tif\n",
      "cog:timesat_extracts/h19v01/increase_rate/increase_rate_SOS_h19v01_2015_s1_laea_cog.tif\n"
     ]
    },
    {
     "name": "stdout",
     "output_type": "stream",
     "text": [
      "cog:timesat_extracts/h19v01/increase_rate/increase_rate_SOS_h19v01_2016_s1_laea_cog.tif\n",
      "cog:timesat_extracts/h19v01/increase_rate/increase_rate_SOS_h19v01_2017_s1_laea_cog.tif\n"
     ]
    },
    {
     "name": "stdout",
     "output_type": "stream",
     "text": [
      "cog:timesat_extracts/h19v01/increase_rate/increase_rate_SOS_h19v01_2018_s1_laea_cog.tif\n",
      "cog:timesat_extracts/h19v01/increase_rate/increase_rate_SOS_h19v01_2019_s1_laea_cog.tif\n"
     ]
    },
    {
     "name": "stdout",
     "output_type": "stream",
     "text": [
      "cog:timesat_extracts/h19v01/increase_rate/increase_rate_SOS_h19v01_2020_s1_laea_cog.tif\n",
      "cog:timesat_extracts/h19v01/length_of_season/los_h19v01_2000_s1_laea_cog.tif\n"
     ]
    },
    {
     "name": "stdout",
     "output_type": "stream",
     "text": [
      "cog:timesat_extracts/h19v01/length_of_season/los_h19v01_2001_s1_laea_cog.tif\n",
      "cog:timesat_extracts/h19v01/length_of_season/los_h19v01_2002_s1_laea_cog.tif\n",
      "cog:timesat_extracts/h19v01/length_of_season/los_h19v01_2003_s1_laea_cog.tif\n"
     ]
    },
    {
     "name": "stdout",
     "output_type": "stream",
     "text": [
      "cog:timesat_extracts/h19v01/length_of_season/los_h19v01_2004_s1_laea_cog.tif\n",
      "cog:timesat_extracts/h19v01/length_of_season/los_h19v01_2005_s1_laea_cog.tif\n"
     ]
    },
    {
     "name": "stdout",
     "output_type": "stream",
     "text": [
      "cog:timesat_extracts/h19v01/length_of_season/los_h19v01_2006_s1_laea_cog.tif\n",
      "cog:timesat_extracts/h19v01/length_of_season/los_h19v01_2007_s1_laea_cog.tif\n",
      "cog:timesat_extracts/h19v01/length_of_season/los_h19v01_2008_s1_laea_cog.tif\n"
     ]
    },
    {
     "name": "stdout",
     "output_type": "stream",
     "text": [
      "cog:timesat_extracts/h19v01/length_of_season/los_h19v01_2009_s1_laea_cog.tif\n",
      "cog:timesat_extracts/h19v01/length_of_season/los_h19v01_2010_s1_laea_cog.tif\n",
      "cog:timesat_extracts/h19v01/length_of_season/los_h19v01_2011_s1_laea_cog.tif\n"
     ]
    },
    {
     "name": "stdout",
     "output_type": "stream",
     "text": [
      "cog:timesat_extracts/h19v01/length_of_season/los_h19v01_2012_s1_laea_cog.tif\n",
      "cog:timesat_extracts/h19v01/length_of_season/los_h19v01_2013_s1_laea_cog.tif\n"
     ]
    },
    {
     "name": "stdout",
     "output_type": "stream",
     "text": [
      "cog:timesat_extracts/h19v01/length_of_season/los_h19v01_2014_s1_laea_cog.tif\n",
      "cog:timesat_extracts/h19v01/length_of_season/los_h19v01_2015_s1_laea_cog.tif\n",
      "cog:timesat_extracts/h19v01/length_of_season/los_h19v01_2016_s1_laea_cog.tif\n"
     ]
    },
    {
     "name": "stdout",
     "output_type": "stream",
     "text": [
      "cog:timesat_extracts/h19v01/length_of_season/los_h19v01_2017_s1_laea_cog.tif\n",
      "cog:timesat_extracts/h19v01/length_of_season/los_h19v01_2018_s1_laea_cog.tif\n"
     ]
    },
    {
     "name": "stdout",
     "output_type": "stream",
     "text": [
      "cog:timesat_extracts/h19v01/length_of_season/los_h19v01_2019_s1_laea_cog.tif\n",
      "cog:timesat_extracts/h19v01/length_of_season/los_h19v01_2020_s1_laea_cog.tif\n",
      "cog:timesat_extracts/h19v01/seasonal_amplitude/s_amplitude_h19v01_2000_s1_laea_cog.tif\n"
     ]
    },
    {
     "name": "stdout",
     "output_type": "stream",
     "text": [
      "cog:timesat_extracts/h19v01/seasonal_amplitude/s_amplitude_h19v01_2001_s1_laea_cog.tif\n",
      "cog:timesat_extracts/h19v01/seasonal_amplitude/s_amplitude_h19v01_2002_s1_laea_cog.tif\n"
     ]
    },
    {
     "name": "stdout",
     "output_type": "stream",
     "text": [
      "cog:timesat_extracts/h19v01/seasonal_amplitude/s_amplitude_h19v01_2003_s1_laea_cog.tif\n",
      "cog:timesat_extracts/h19v01/seasonal_amplitude/s_amplitude_h19v01_2004_s1_laea_cog.tif\n"
     ]
    },
    {
     "name": "stdout",
     "output_type": "stream",
     "text": [
      "cog:timesat_extracts/h19v01/seasonal_amplitude/s_amplitude_h19v01_2005_s1_laea_cog.tif\n",
      "cog:timesat_extracts/h19v01/seasonal_amplitude/s_amplitude_h19v01_2006_s1_laea_cog.tif\n",
      "cog:timesat_extracts/h19v01/seasonal_amplitude/s_amplitude_h19v01_2007_s1_laea_cog.tif\n"
     ]
    },
    {
     "name": "stdout",
     "output_type": "stream",
     "text": [
      "cog:timesat_extracts/h19v01/seasonal_amplitude/s_amplitude_h19v01_2008_s1_laea_cog.tif\n",
      "cog:timesat_extracts/h19v01/seasonal_amplitude/s_amplitude_h19v01_2009_s1_laea_cog.tif\n"
     ]
    },
    {
     "name": "stdout",
     "output_type": "stream",
     "text": [
      "cog:timesat_extracts/h19v01/seasonal_amplitude/s_amplitude_h19v01_2010_s1_laea_cog.tif\n",
      "cog:timesat_extracts/h19v01/seasonal_amplitude/s_amplitude_h19v01_2011_s1_laea_cog.tif\n"
     ]
    },
    {
     "name": "stdout",
     "output_type": "stream",
     "text": [
      "cog:timesat_extracts/h19v01/seasonal_amplitude/s_amplitude_h19v01_2012_s1_laea_cog.tif\n",
      "cog:timesat_extracts/h19v01/seasonal_amplitude/s_amplitude_h19v01_2013_s1_laea_cog.tif\n"
     ]
    },
    {
     "name": "stdout",
     "output_type": "stream",
     "text": [
      "cog:timesat_extracts/h19v01/seasonal_amplitude/s_amplitude_h19v01_2014_s1_laea_cog.tif\n",
      "cog:timesat_extracts/h19v01/seasonal_amplitude/s_amplitude_h19v01_2015_s1_laea_cog.tif\n"
     ]
    },
    {
     "name": "stdout",
     "output_type": "stream",
     "text": [
      "cog:timesat_extracts/h19v01/seasonal_amplitude/s_amplitude_h19v01_2016_s1_laea_cog.tif\n",
      "cog:timesat_extracts/h19v01/seasonal_amplitude/s_amplitude_h19v01_2017_s1_laea_cog.tif\n",
      "cog:timesat_extracts/h19v01/seasonal_amplitude/s_amplitude_h19v01_2018_s1_laea_cog.tif\n"
     ]
    },
    {
     "name": "stdout",
     "output_type": "stream",
     "text": [
      "cog:timesat_extracts/h19v01/seasonal_amplitude/s_amplitude_h19v01_2019_s1_laea_cog.tif\n",
      "cog:timesat_extracts/h19v01/seasonal_amplitude/s_amplitude_h19v01_2020_s1_laea_cog.tif\n"
     ]
    },
    {
     "name": "stdout",
     "output_type": "stream",
     "text": [
      "cog:timesat_extracts/h19v01/sos/sos_h19v01_2000_s1_laea_cog.tif\n",
      "cog:timesat_extracts/h19v01/sos/sos_h19v01_2001_s1_laea_cog.tif\n",
      "cog:timesat_extracts/h19v01/sos/sos_h19v01_2002_s1_laea_cog.tif\n"
     ]
    },
    {
     "name": "stdout",
     "output_type": "stream",
     "text": [
      "cog:timesat_extracts/h19v01/sos/sos_h19v01_2003_s1_laea_cog.tif\n",
      "cog:timesat_extracts/h19v01/sos/sos_h19v01_2004_s1_laea_cog.tif\n"
     ]
    },
    {
     "name": "stdout",
     "output_type": "stream",
     "text": [
      "cog:timesat_extracts/h19v01/sos/sos_h19v01_2005_s1_laea_cog.tif\n",
      "cog:timesat_extracts/h19v01/sos/sos_h19v01_2006_s1_laea_cog.tif\n",
      "cog:timesat_extracts/h19v01/sos/sos_h19v01_2007_s1_laea_cog.tif\n"
     ]
    },
    {
     "name": "stdout",
     "output_type": "stream",
     "text": [
      "cog:timesat_extracts/h19v01/sos/sos_h19v01_2008_s1_laea_cog.tif\n",
      "cog:timesat_extracts/h19v01/sos/sos_h19v01_2009_s1_laea_cog.tif\n"
     ]
    },
    {
     "name": "stdout",
     "output_type": "stream",
     "text": [
      "cog:timesat_extracts/h19v01/sos/sos_h19v01_2010_s1_laea_cog.tif\n",
      "cog:timesat_extracts/h19v01/sos/sos_h19v01_2011_s1_laea_cog.tif\n"
     ]
    },
    {
     "name": "stdout",
     "output_type": "stream",
     "text": [
      "cog:timesat_extracts/h19v01/sos/sos_h19v01_2012_s1_laea_cog.tif\n",
      "cog:timesat_extracts/h19v01/sos/sos_h19v01_2013_s1_laea_cog.tif\n",
      "cog:timesat_extracts/h19v01/sos/sos_h19v01_2014_s1_laea_cog.tif\n"
     ]
    },
    {
     "name": "stdout",
     "output_type": "stream",
     "text": [
      "cog:timesat_extracts/h19v01/sos/sos_h19v01_2015_s1_laea_cog.tif\n",
      "cog:timesat_extracts/h19v01/sos/sos_h19v01_2016_s1_laea_cog.tif\n",
      "cog:timesat_extracts/h19v01/sos/sos_h19v01_2017_s1_laea_cog.tif\n"
     ]
    },
    {
     "name": "stdout",
     "output_type": "stream",
     "text": [
      "cog:timesat_extracts/h19v01/sos/sos_h19v01_2018_s1_laea_cog.tif\n",
      "cog:timesat_extracts/h19v01/sos/sos_h19v01_2019_s1_laea_cog.tif\n"
     ]
    },
    {
     "name": "stdout",
     "output_type": "stream",
     "text": [
      "cog:timesat_extracts/h19v01/sos/sos_h19v01_2020_s1_laea_cog.tif\n",
      "cog:timesat_extracts/h19v01/sos_value/sos_value_h19v01_2000_s1_laea_cog.tif\n"
     ]
    },
    {
     "name": "stdout",
     "output_type": "stream",
     "text": [
      "cog:timesat_extracts/h19v01/sos_value/sos_value_h19v01_2001_s1_laea_cog.tif\n",
      "cog:timesat_extracts/h19v01/sos_value/sos_value_h19v01_2002_s1_laea_cog.tif\n",
      "cog:timesat_extracts/h19v01/sos_value/sos_value_h19v01_2003_s1_laea_cog.tif\n"
     ]
    },
    {
     "name": "stdout",
     "output_type": "stream",
     "text": [
      "cog:timesat_extracts/h19v01/sos_value/sos_value_h19v01_2004_s1_laea_cog.tif\n",
      "cog:timesat_extracts/h19v01/sos_value/sos_value_h19v01_2005_s1_laea_cog.tif\n"
     ]
    },
    {
     "name": "stdout",
     "output_type": "stream",
     "text": [
      "cog:timesat_extracts/h19v01/sos_value/sos_value_h19v01_2006_s1_laea_cog.tif\n",
      "cog:timesat_extracts/h19v01/sos_value/sos_value_h19v01_2007_s1_laea_cog.tif\n"
     ]
    },
    {
     "name": "stdout",
     "output_type": "stream",
     "text": [
      "cog:timesat_extracts/h19v01/sos_value/sos_value_h19v01_2008_s1_laea_cog.tif\n",
      "cog:timesat_extracts/h19v01/sos_value/sos_value_h19v01_2009_s1_laea_cog.tif\n"
     ]
    },
    {
     "name": "stdout",
     "output_type": "stream",
     "text": [
      "cog:timesat_extracts/h19v01/sos_value/sos_value_h19v01_2010_s1_laea_cog.tif\n",
      "cog:timesat_extracts/h19v01/sos_value/sos_value_h19v01_2011_s1_laea_cog.tif\n"
     ]
    },
    {
     "name": "stdout",
     "output_type": "stream",
     "text": [
      "cog:timesat_extracts/h19v01/sos_value/sos_value_h19v01_2012_s1_laea_cog.tif\n",
      "cog:timesat_extracts/h19v01/sos_value/sos_value_h19v01_2013_s1_laea_cog.tif\n"
     ]
    },
    {
     "name": "stdout",
     "output_type": "stream",
     "text": [
      "cog:timesat_extracts/h19v01/sos_value/sos_value_h19v01_2014_s1_laea_cog.tif\n",
      "cog:timesat_extracts/h19v01/sos_value/sos_value_h19v01_2015_s1_laea_cog.tif\n"
     ]
    },
    {
     "name": "stdout",
     "output_type": "stream",
     "text": [
      "cog:timesat_extracts/h19v01/sos_value/sos_value_h19v01_2016_s1_laea_cog.tif\n",
      "cog:timesat_extracts/h19v01/sos_value/sos_value_h19v01_2017_s1_laea_cog.tif\n"
     ]
    },
    {
     "name": "stdout",
     "output_type": "stream",
     "text": [
      "cog:timesat_extracts/h19v01/sos_value/sos_value_h19v01_2018_s1_laea_cog.tif\n",
      "cog:timesat_extracts/h19v01/sos_value/sos_value_h19v01_2019_s1_laea_cog.tif\n",
      "cog:timesat_extracts/h19v01/sos_value/sos_value_h19v01_2020_s1_laea_cog.tif\n"
     ]
    },
    {
     "name": "stdout",
     "output_type": "stream",
     "text": [
      "cog:timesat_extracts/h19v02/LINT/LINT_h19v02_2000_s1_laea_cog.tif\n",
      "cog:timesat_extracts/h19v02/LINT/LINT_h19v02_2001_s1_laea_cog.tif\n"
     ]
    },
    {
     "name": "stdout",
     "output_type": "stream",
     "text": [
      "cog:timesat_extracts/h19v02/LINT/LINT_h19v02_2002_s1_laea_cog.tif\n",
      "cog:timesat_extracts/h19v02/LINT/LINT_h19v02_2003_s1_laea_cog.tif\n"
     ]
    },
    {
     "name": "stdout",
     "output_type": "stream",
     "text": [
      "cog:timesat_extracts/h19v02/LINT/LINT_h19v02_2004_s1_laea_cog.tif\n",
      "cog:timesat_extracts/h19v02/LINT/LINT_h19v02_2005_s1_laea_cog.tif\n"
     ]
    },
    {
     "name": "stdout",
     "output_type": "stream",
     "text": [
      "cog:timesat_extracts/h19v02/LINT/LINT_h19v02_2006_s1_laea_cog.tif\n",
      "cog:timesat_extracts/h19v02/LINT/LINT_h19v02_2007_s1_laea_cog.tif\n"
     ]
    },
    {
     "name": "stdout",
     "output_type": "stream",
     "text": [
      "cog:timesat_extracts/h19v02/LINT/LINT_h19v02_2008_s1_laea_cog.tif\n",
      "cog:timesat_extracts/h19v02/LINT/LINT_h19v02_2009_s1_laea_cog.tif\n"
     ]
    },
    {
     "name": "stdout",
     "output_type": "stream",
     "text": [
      "cog:timesat_extracts/h19v02/LINT/LINT_h19v02_2010_s1_laea_cog.tif\n",
      "cog:timesat_extracts/h19v02/LINT/LINT_h19v02_2011_s1_laea_cog.tif\n"
     ]
    },
    {
     "name": "stdout",
     "output_type": "stream",
     "text": [
      "cog:timesat_extracts/h19v02/LINT/LINT_h19v02_2012_s1_laea_cog.tif\n",
      "cog:timesat_extracts/h19v02/LINT/LINT_h19v02_2013_s1_laea_cog.tif\n"
     ]
    },
    {
     "name": "stdout",
     "output_type": "stream",
     "text": [
      "cog:timesat_extracts/h19v02/LINT/LINT_h19v02_2014_s1_laea_cog.tif\n",
      "cog:timesat_extracts/h19v02/LINT/LINT_h19v02_2015_s1_laea_cog.tif\n"
     ]
    },
    {
     "name": "stdout",
     "output_type": "stream",
     "text": [
      "cog:timesat_extracts/h19v02/LINT/LINT_h19v02_2016_s1_laea_cog.tif\n",
      "cog:timesat_extracts/h19v02/LINT/LINT_h19v02_2017_s1_laea_cog.tif\n"
     ]
    },
    {
     "name": "stdout",
     "output_type": "stream",
     "text": [
      "cog:timesat_extracts/h19v02/LINT/LINT_h19v02_2018_s1_laea_cog.tif\n"
     ]
    },
    {
     "name": "stdout",
     "output_type": "stream",
     "text": [
      "cog:timesat_extracts/h19v02/LINT/LINT_h19v02_2019_s1_laea_cog.tif\n",
      "cog:timesat_extracts/h19v02/LINT/LINT_h19v02_2020_s1_laea_cog.tif\n"
     ]
    },
    {
     "name": "stdout",
     "output_type": "stream",
     "text": [
      "cog:timesat_extracts/h19v02/SINT/SINT_h19v02_2000_s1_laea_cog.tif\n",
      "cog:timesat_extracts/h19v02/SINT/SINT_h19v02_2001_s1_laea_cog.tif\n"
     ]
    },
    {
     "name": "stdout",
     "output_type": "stream",
     "text": [
      "cog:timesat_extracts/h19v02/SINT/SINT_h19v02_2002_s1_laea_cog.tif\n"
     ]
    },
    {
     "name": "stdout",
     "output_type": "stream",
     "text": [
      "cog:timesat_extracts/h19v02/SINT/SINT_h19v02_2003_s1_laea_cog.tif\n",
      "cog:timesat_extracts/h19v02/SINT/SINT_h19v02_2004_s1_laea_cog.tif\n"
     ]
    },
    {
     "name": "stdout",
     "output_type": "stream",
     "text": [
      "cog:timesat_extracts/h19v02/SINT/SINT_h19v02_2005_s1_laea_cog.tif\n",
      "cog:timesat_extracts/h19v02/SINT/SINT_h19v02_2006_s1_laea_cog.tif\n"
     ]
    },
    {
     "name": "stdout",
     "output_type": "stream",
     "text": [
      "cog:timesat_extracts/h19v02/SINT/SINT_h19v02_2007_s1_laea_cog.tif\n",
      "cog:timesat_extracts/h19v02/SINT/SINT_h19v02_2008_s1_laea_cog.tif\n"
     ]
    },
    {
     "name": "stdout",
     "output_type": "stream",
     "text": [
      "cog:timesat_extracts/h19v02/SINT/SINT_h19v02_2009_s1_laea_cog.tif\n",
      "cog:timesat_extracts/h19v02/SINT/SINT_h19v02_2010_s1_laea_cog.tif\n"
     ]
    },
    {
     "name": "stdout",
     "output_type": "stream",
     "text": [
      "cog:timesat_extracts/h19v02/SINT/SINT_h19v02_2011_s1_laea_cog.tif\n"
     ]
    },
    {
     "name": "stdout",
     "output_type": "stream",
     "text": [
      "cog:timesat_extracts/h19v02/SINT/SINT_h19v02_2012_s1_laea_cog.tif\n",
      "cog:timesat_extracts/h19v02/SINT/SINT_h19v02_2013_s1_laea_cog.tif\n"
     ]
    },
    {
     "name": "stdout",
     "output_type": "stream",
     "text": [
      "cog:timesat_extracts/h19v02/SINT/SINT_h19v02_2014_s1_laea_cog.tif\n",
      "cog:timesat_extracts/h19v02/SINT/SINT_h19v02_2015_s1_laea_cog.tif\n"
     ]
    },
    {
     "name": "stdout",
     "output_type": "stream",
     "text": [
      "cog:timesat_extracts/h19v02/SINT/SINT_h19v02_2016_s1_laea_cog.tif\n",
      "cog:timesat_extracts/h19v02/SINT/SINT_h19v02_2017_s1_laea_cog.tif\n"
     ]
    },
    {
     "name": "stdout",
     "output_type": "stream",
     "text": [
      "cog:timesat_extracts/h19v02/SINT/SINT_h19v02_2018_s1_laea_cog.tif\n"
     ]
    },
    {
     "name": "stdout",
     "output_type": "stream",
     "text": [
      "cog:timesat_extracts/h19v02/SINT/SINT_h19v02_2019_s1_laea_cog.tif\n",
      "cog:timesat_extracts/h19v02/SINT/SINT_h19v02_2020_s1_laea_cog.tif\n"
     ]
    },
    {
     "name": "stdout",
     "output_type": "stream",
     "text": [
      "cog:timesat_extracts/h19v02/decrease_rate/decrease_rate_EOS_h19v02_2000_s1_laea_cog.tif\n",
      "cog:timesat_extracts/h19v02/decrease_rate/decrease_rate_EOS_h19v02_2001_s1_laea_cog.tif\n"
     ]
    },
    {
     "name": "stdout",
     "output_type": "stream",
     "text": [
      "cog:timesat_extracts/h19v02/decrease_rate/decrease_rate_EOS_h19v02_2002_s1_laea_cog.tif\n"
     ]
    },
    {
     "name": "stdout",
     "output_type": "stream",
     "text": [
      "cog:timesat_extracts/h19v02/decrease_rate/decrease_rate_EOS_h19v02_2003_s1_laea_cog.tif\n",
      "cog:timesat_extracts/h19v02/decrease_rate/decrease_rate_EOS_h19v02_2004_s1_laea_cog.tif\n"
     ]
    },
    {
     "name": "stdout",
     "output_type": "stream",
     "text": [
      "cog:timesat_extracts/h19v02/decrease_rate/decrease_rate_EOS_h19v02_2005_s1_laea_cog.tif\n",
      "cog:timesat_extracts/h19v02/decrease_rate/decrease_rate_EOS_h19v02_2006_s1_laea_cog.tif\n"
     ]
    },
    {
     "name": "stdout",
     "output_type": "stream",
     "text": [
      "cog:timesat_extracts/h19v02/decrease_rate/decrease_rate_EOS_h19v02_2007_s1_laea_cog.tif\n",
      "cog:timesat_extracts/h19v02/decrease_rate/decrease_rate_EOS_h19v02_2008_s1_laea_cog.tif\n"
     ]
    },
    {
     "name": "stdout",
     "output_type": "stream",
     "text": [
      "cog:timesat_extracts/h19v02/decrease_rate/decrease_rate_EOS_h19v02_2009_s1_laea_cog.tif\n",
      "cog:timesat_extracts/h19v02/decrease_rate/decrease_rate_EOS_h19v02_2010_s1_laea_cog.tif\n"
     ]
    },
    {
     "name": "stdout",
     "output_type": "stream",
     "text": [
      "cog:timesat_extracts/h19v02/decrease_rate/decrease_rate_EOS_h19v02_2011_s1_laea_cog.tif\n",
      "cog:timesat_extracts/h19v02/decrease_rate/decrease_rate_EOS_h19v02_2012_s1_laea_cog.tif\n"
     ]
    },
    {
     "name": "stdout",
     "output_type": "stream",
     "text": [
      "cog:timesat_extracts/h19v02/decrease_rate/decrease_rate_EOS_h19v02_2013_s1_laea_cog.tif\n",
      "cog:timesat_extracts/h19v02/decrease_rate/decrease_rate_EOS_h19v02_2014_s1_laea_cog.tif\n"
     ]
    },
    {
     "name": "stdout",
     "output_type": "stream",
     "text": [
      "cog:timesat_extracts/h19v02/decrease_rate/decrease_rate_EOS_h19v02_2015_s1_laea_cog.tif\n",
      "cog:timesat_extracts/h19v02/decrease_rate/decrease_rate_EOS_h19v02_2016_s1_laea_cog.tif\n"
     ]
    },
    {
     "name": "stdout",
     "output_type": "stream",
     "text": [
      "cog:timesat_extracts/h19v02/decrease_rate/decrease_rate_EOS_h19v02_2017_s1_laea_cog.tif\n",
      "cog:timesat_extracts/h19v02/decrease_rate/decrease_rate_EOS_h19v02_2018_s1_laea_cog.tif\n"
     ]
    },
    {
     "name": "stdout",
     "output_type": "stream",
     "text": [
      "cog:timesat_extracts/h19v02/decrease_rate/decrease_rate_EOS_h19v02_2019_s1_laea_cog.tif\n",
      "cog:timesat_extracts/h19v02/decrease_rate/decrease_rate_EOS_h19v02_2020_s1_laea_cog.tif\n"
     ]
    },
    {
     "name": "stdout",
     "output_type": "stream",
     "text": [
      "cog:timesat_extracts/h19v02/eos/eos_h19v02_2000_s1_laea_cog.tif\n",
      "cog:timesat_extracts/h19v02/eos/eos_h19v02_2001_s1_laea_cog.tif\n"
     ]
    },
    {
     "name": "stdout",
     "output_type": "stream",
     "text": [
      "cog:timesat_extracts/h19v02/eos/eos_h19v02_2002_s1_laea_cog.tif\n",
      "cog:timesat_extracts/h19v02/eos/eos_h19v02_2003_s1_laea_cog.tif\n"
     ]
    },
    {
     "name": "stdout",
     "output_type": "stream",
     "text": [
      "cog:timesat_extracts/h19v02/eos/eos_h19v02_2004_s1_laea_cog.tif\n",
      "cog:timesat_extracts/h19v02/eos/eos_h19v02_2005_s1_laea_cog.tif\n"
     ]
    },
    {
     "name": "stdout",
     "output_type": "stream",
     "text": [
      "cog:timesat_extracts/h19v02/eos/eos_h19v02_2006_s1_laea_cog.tif\n",
      "cog:timesat_extracts/h19v02/eos/eos_h19v02_2007_s1_laea_cog.tif\n"
     ]
    },
    {
     "name": "stdout",
     "output_type": "stream",
     "text": [
      "cog:timesat_extracts/h19v02/eos/eos_h19v02_2008_s1_laea_cog.tif\n",
      "cog:timesat_extracts/h19v02/eos/eos_h19v02_2009_s1_laea_cog.tif\n"
     ]
    },
    {
     "name": "stdout",
     "output_type": "stream",
     "text": [
      "cog:timesat_extracts/h19v02/eos/eos_h19v02_2010_s1_laea_cog.tif\n",
      "cog:timesat_extracts/h19v02/eos/eos_h19v02_2011_s1_laea_cog.tif\n"
     ]
    },
    {
     "name": "stdout",
     "output_type": "stream",
     "text": [
      "cog:timesat_extracts/h19v02/eos/eos_h19v02_2012_s1_laea_cog.tif\n",
      "cog:timesat_extracts/h19v02/eos/eos_h19v02_2013_s1_laea_cog.tif\n"
     ]
    },
    {
     "name": "stdout",
     "output_type": "stream",
     "text": [
      "cog:timesat_extracts/h19v02/eos/eos_h19v02_2014_s1_laea_cog.tif\n",
      "cog:timesat_extracts/h19v02/eos/eos_h19v02_2015_s1_laea_cog.tif\n"
     ]
    },
    {
     "name": "stdout",
     "output_type": "stream",
     "text": [
      "cog:timesat_extracts/h19v02/eos/eos_h19v02_2016_s1_laea_cog.tif\n",
      "cog:timesat_extracts/h19v02/eos/eos_h19v02_2017_s1_laea_cog.tif\n"
     ]
    },
    {
     "name": "stdout",
     "output_type": "stream",
     "text": [
      "cog:timesat_extracts/h19v02/eos/eos_h19v02_2018_s1_laea_cog.tif\n",
      "cog:timesat_extracts/h19v02/eos/eos_h19v02_2019_s1_laea_cog.tif\n"
     ]
    },
    {
     "name": "stdout",
     "output_type": "stream",
     "text": [
      "cog:timesat_extracts/h19v02/eos/eos_h19v02_2020_s1_laea_cog.tif\n",
      "cog:timesat_extracts/h19v02/eos_value/eos_value_h19v02_2000_s1_laea_cog.tif\n"
     ]
    },
    {
     "name": "stdout",
     "output_type": "stream",
     "text": [
      "cog:timesat_extracts/h19v02/eos_value/eos_value_h19v02_2001_s1_laea_cog.tif\n",
      "cog:timesat_extracts/h19v02/eos_value/eos_value_h19v02_2002_s1_laea_cog.tif\n"
     ]
    },
    {
     "name": "stdout",
     "output_type": "stream",
     "text": [
      "cog:timesat_extracts/h19v02/eos_value/eos_value_h19v02_2003_s1_laea_cog.tif\n",
      "cog:timesat_extracts/h19v02/eos_value/eos_value_h19v02_2004_s1_laea_cog.tif\n"
     ]
    },
    {
     "name": "stdout",
     "output_type": "stream",
     "text": [
      "cog:timesat_extracts/h19v02/eos_value/eos_value_h19v02_2005_s1_laea_cog.tif\n",
      "cog:timesat_extracts/h19v02/eos_value/eos_value_h19v02_2006_s1_laea_cog.tif\n"
     ]
    },
    {
     "name": "stdout",
     "output_type": "stream",
     "text": [
      "cog:timesat_extracts/h19v02/eos_value/eos_value_h19v02_2007_s1_laea_cog.tif\n",
      "cog:timesat_extracts/h19v02/eos_value/eos_value_h19v02_2008_s1_laea_cog.tif\n"
     ]
    },
    {
     "name": "stdout",
     "output_type": "stream",
     "text": [
      "cog:timesat_extracts/h19v02/eos_value/eos_value_h19v02_2009_s1_laea_cog.tif\n",
      "cog:timesat_extracts/h19v02/eos_value/eos_value_h19v02_2010_s1_laea_cog.tif\n"
     ]
    },
    {
     "name": "stdout",
     "output_type": "stream",
     "text": [
      "cog:timesat_extracts/h19v02/eos_value/eos_value_h19v02_2011_s1_laea_cog.tif\n"
     ]
    },
    {
     "name": "stdout",
     "output_type": "stream",
     "text": [
      "cog:timesat_extracts/h19v02/eos_value/eos_value_h19v02_2012_s1_laea_cog.tif\n",
      "cog:timesat_extracts/h19v02/eos_value/eos_value_h19v02_2013_s1_laea_cog.tif\n"
     ]
    },
    {
     "name": "stdout",
     "output_type": "stream",
     "text": [
      "cog:timesat_extracts/h19v02/eos_value/eos_value_h19v02_2014_s1_laea_cog.tif\n",
      "cog:timesat_extracts/h19v02/eos_value/eos_value_h19v02_2015_s1_laea_cog.tif\n"
     ]
    },
    {
     "name": "stdout",
     "output_type": "stream",
     "text": [
      "cog:timesat_extracts/h19v02/eos_value/eos_value_h19v02_2016_s1_laea_cog.tif\n",
      "cog:timesat_extracts/h19v02/eos_value/eos_value_h19v02_2017_s1_laea_cog.tif\n"
     ]
    },
    {
     "name": "stdout",
     "output_type": "stream",
     "text": [
      "cog:timesat_extracts/h19v02/eos_value/eos_value_h19v02_2018_s1_laea_cog.tif\n",
      "cog:timesat_extracts/h19v02/eos_value/eos_value_h19v02_2019_s1_laea_cog.tif\n"
     ]
    },
    {
     "name": "stdout",
     "output_type": "stream",
     "text": [
      "cog:timesat_extracts/h19v02/eos_value/eos_value_h19v02_2020_s1_laea_cog.tif\n",
      "cog:timesat_extracts/h19v02/increase_rate/increase_rate_SOS_h19v02_2000_s1_laea_cog.tif\n"
     ]
    },
    {
     "name": "stdout",
     "output_type": "stream",
     "text": [
      "cog:timesat_extracts/h19v02/increase_rate/increase_rate_SOS_h19v02_2001_s1_laea_cog.tif\n",
      "cog:timesat_extracts/h19v02/increase_rate/increase_rate_SOS_h19v02_2002_s1_laea_cog.tif\n"
     ]
    },
    {
     "name": "stdout",
     "output_type": "stream",
     "text": [
      "cog:timesat_extracts/h19v02/increase_rate/increase_rate_SOS_h19v02_2003_s1_laea_cog.tif\n",
      "cog:timesat_extracts/h19v02/increase_rate/increase_rate_SOS_h19v02_2004_s1_laea_cog.tif\n"
     ]
    },
    {
     "name": "stdout",
     "output_type": "stream",
     "text": [
      "cog:timesat_extracts/h19v02/increase_rate/increase_rate_SOS_h19v02_2005_s1_laea_cog.tif\n",
      "cog:timesat_extracts/h19v02/increase_rate/increase_rate_SOS_h19v02_2006_s1_laea_cog.tif\n"
     ]
    },
    {
     "name": "stdout",
     "output_type": "stream",
     "text": [
      "cog:timesat_extracts/h19v02/increase_rate/increase_rate_SOS_h19v02_2007_s1_laea_cog.tif\n",
      "cog:timesat_extracts/h19v02/increase_rate/increase_rate_SOS_h19v02_2008_s1_laea_cog.tif\n"
     ]
    },
    {
     "name": "stdout",
     "output_type": "stream",
     "text": [
      "cog:timesat_extracts/h19v02/increase_rate/increase_rate_SOS_h19v02_2009_s1_laea_cog.tif\n"
     ]
    },
    {
     "name": "stdout",
     "output_type": "stream",
     "text": [
      "cog:timesat_extracts/h19v02/increase_rate/increase_rate_SOS_h19v02_2010_s1_laea_cog.tif\n",
      "cog:timesat_extracts/h19v02/increase_rate/increase_rate_SOS_h19v02_2011_s1_laea_cog.tif\n"
     ]
    },
    {
     "name": "stdout",
     "output_type": "stream",
     "text": [
      "cog:timesat_extracts/h19v02/increase_rate/increase_rate_SOS_h19v02_2012_s1_laea_cog.tif\n",
      "cog:timesat_extracts/h19v02/increase_rate/increase_rate_SOS_h19v02_2013_s1_laea_cog.tif\n"
     ]
    },
    {
     "name": "stdout",
     "output_type": "stream",
     "text": [
      "cog:timesat_extracts/h19v02/increase_rate/increase_rate_SOS_h19v02_2014_s1_laea_cog.tif\n",
      "cog:timesat_extracts/h19v02/increase_rate/increase_rate_SOS_h19v02_2015_s1_laea_cog.tif\n"
     ]
    },
    {
     "name": "stdout",
     "output_type": "stream",
     "text": [
      "cog:timesat_extracts/h19v02/increase_rate/increase_rate_SOS_h19v02_2016_s1_laea_cog.tif\n",
      "cog:timesat_extracts/h19v02/increase_rate/increase_rate_SOS_h19v02_2017_s1_laea_cog.tif\n"
     ]
    },
    {
     "name": "stdout",
     "output_type": "stream",
     "text": [
      "cog:timesat_extracts/h19v02/increase_rate/increase_rate_SOS_h19v02_2018_s1_laea_cog.tif\n",
      "cog:timesat_extracts/h19v02/increase_rate/increase_rate_SOS_h19v02_2019_s1_laea_cog.tif\n"
     ]
    },
    {
     "name": "stdout",
     "output_type": "stream",
     "text": [
      "cog:timesat_extracts/h19v02/increase_rate/increase_rate_SOS_h19v02_2020_s1_laea_cog.tif\n"
     ]
    },
    {
     "name": "stdout",
     "output_type": "stream",
     "text": [
      "cog:timesat_extracts/h19v02/length_of_season/los_h19v02_2000_s1_laea_cog.tif\n",
      "cog:timesat_extracts/h19v02/length_of_season/los_h19v02_2001_s1_laea_cog.tif\n"
     ]
    },
    {
     "name": "stdout",
     "output_type": "stream",
     "text": [
      "cog:timesat_extracts/h19v02/length_of_season/los_h19v02_2002_s1_laea_cog.tif\n",
      "cog:timesat_extracts/h19v02/length_of_season/los_h19v02_2003_s1_laea_cog.tif\n"
     ]
    },
    {
     "name": "stdout",
     "output_type": "stream",
     "text": [
      "cog:timesat_extracts/h19v02/length_of_season/los_h19v02_2004_s1_laea_cog.tif\n",
      "cog:timesat_extracts/h19v02/length_of_season/los_h19v02_2005_s1_laea_cog.tif\n"
     ]
    },
    {
     "name": "stdout",
     "output_type": "stream",
     "text": [
      "cog:timesat_extracts/h19v02/length_of_season/los_h19v02_2006_s1_laea_cog.tif\n",
      "cog:timesat_extracts/h19v02/length_of_season/los_h19v02_2007_s1_laea_cog.tif\n"
     ]
    },
    {
     "name": "stdout",
     "output_type": "stream",
     "text": [
      "cog:timesat_extracts/h19v02/length_of_season/los_h19v02_2008_s1_laea_cog.tif\n",
      "cog:timesat_extracts/h19v02/length_of_season/los_h19v02_2009_s1_laea_cog.tif\n"
     ]
    },
    {
     "name": "stdout",
     "output_type": "stream",
     "text": [
      "cog:timesat_extracts/h19v02/length_of_season/los_h19v02_2010_s1_laea_cog.tif\n",
      "cog:timesat_extracts/h19v02/length_of_season/los_h19v02_2011_s1_laea_cog.tif\n"
     ]
    },
    {
     "name": "stdout",
     "output_type": "stream",
     "text": [
      "cog:timesat_extracts/h19v02/length_of_season/los_h19v02_2012_s1_laea_cog.tif\n",
      "cog:timesat_extracts/h19v02/length_of_season/los_h19v02_2013_s1_laea_cog.tif\n"
     ]
    },
    {
     "name": "stdout",
     "output_type": "stream",
     "text": [
      "cog:timesat_extracts/h19v02/length_of_season/los_h19v02_2014_s1_laea_cog.tif\n",
      "cog:timesat_extracts/h19v02/length_of_season/los_h19v02_2015_s1_laea_cog.tif\n"
     ]
    },
    {
     "name": "stdout",
     "output_type": "stream",
     "text": [
      "cog:timesat_extracts/h19v02/length_of_season/los_h19v02_2016_s1_laea_cog.tif\n",
      "cog:timesat_extracts/h19v02/length_of_season/los_h19v02_2017_s1_laea_cog.tif\n"
     ]
    },
    {
     "name": "stdout",
     "output_type": "stream",
     "text": [
      "cog:timesat_extracts/h19v02/length_of_season/los_h19v02_2018_s1_laea_cog.tif\n",
      "cog:timesat_extracts/h19v02/length_of_season/los_h19v02_2019_s1_laea_cog.tif\n"
     ]
    },
    {
     "name": "stdout",
     "output_type": "stream",
     "text": [
      "cog:timesat_extracts/h19v02/length_of_season/los_h19v02_2020_s1_laea_cog.tif\n",
      "cog:timesat_extracts/h19v02/seasonal_amplitude/s_amplitude_h19v02_2000_s1_laea_cog.tif\n"
     ]
    },
    {
     "name": "stdout",
     "output_type": "stream",
     "text": [
      "cog:timesat_extracts/h19v02/seasonal_amplitude/s_amplitude_h19v02_2001_s1_laea_cog.tif\n",
      "cog:timesat_extracts/h19v02/seasonal_amplitude/s_amplitude_h19v02_2002_s1_laea_cog.tif\n"
     ]
    },
    {
     "name": "stdout",
     "output_type": "stream",
     "text": [
      "cog:timesat_extracts/h19v02/seasonal_amplitude/s_amplitude_h19v02_2003_s1_laea_cog.tif\n",
      "cog:timesat_extracts/h19v02/seasonal_amplitude/s_amplitude_h19v02_2004_s1_laea_cog.tif\n"
     ]
    },
    {
     "name": "stdout",
     "output_type": "stream",
     "text": [
      "cog:timesat_extracts/h19v02/seasonal_amplitude/s_amplitude_h19v02_2005_s1_laea_cog.tif\n"
     ]
    },
    {
     "name": "stdout",
     "output_type": "stream",
     "text": [
      "cog:timesat_extracts/h19v02/seasonal_amplitude/s_amplitude_h19v02_2006_s1_laea_cog.tif\n",
      "cog:timesat_extracts/h19v02/seasonal_amplitude/s_amplitude_h19v02_2007_s1_laea_cog.tif\n"
     ]
    },
    {
     "name": "stdout",
     "output_type": "stream",
     "text": [
      "cog:timesat_extracts/h19v02/seasonal_amplitude/s_amplitude_h19v02_2008_s1_laea_cog.tif\n",
      "cog:timesat_extracts/h19v02/seasonal_amplitude/s_amplitude_h19v02_2009_s1_laea_cog.tif\n"
     ]
    },
    {
     "name": "stdout",
     "output_type": "stream",
     "text": [
      "cog:timesat_extracts/h19v02/seasonal_amplitude/s_amplitude_h19v02_2010_s1_laea_cog.tif\n",
      "cog:timesat_extracts/h19v02/seasonal_amplitude/s_amplitude_h19v02_2011_s1_laea_cog.tif\n"
     ]
    },
    {
     "name": "stdout",
     "output_type": "stream",
     "text": [
      "cog:timesat_extracts/h19v02/seasonal_amplitude/s_amplitude_h19v02_2012_s1_laea_cog.tif\n",
      "cog:timesat_extracts/h19v02/seasonal_amplitude/s_amplitude_h19v02_2013_s1_laea_cog.tif\n"
     ]
    },
    {
     "name": "stdout",
     "output_type": "stream",
     "text": [
      "cog:timesat_extracts/h19v02/seasonal_amplitude/s_amplitude_h19v02_2014_s1_laea_cog.tif\n",
      "cog:timesat_extracts/h19v02/seasonal_amplitude/s_amplitude_h19v02_2015_s1_laea_cog.tif\n"
     ]
    },
    {
     "name": "stdout",
     "output_type": "stream",
     "text": [
      "cog:timesat_extracts/h19v02/seasonal_amplitude/s_amplitude_h19v02_2016_s1_laea_cog.tif\n",
      "cog:timesat_extracts/h19v02/seasonal_amplitude/s_amplitude_h19v02_2017_s1_laea_cog.tif\n"
     ]
    },
    {
     "name": "stdout",
     "output_type": "stream",
     "text": [
      "cog:timesat_extracts/h19v02/seasonal_amplitude/s_amplitude_h19v02_2018_s1_laea_cog.tif\n",
      "cog:timesat_extracts/h19v02/seasonal_amplitude/s_amplitude_h19v02_2019_s1_laea_cog.tif\n"
     ]
    },
    {
     "name": "stdout",
     "output_type": "stream",
     "text": [
      "cog:timesat_extracts/h19v02/seasonal_amplitude/s_amplitude_h19v02_2020_s1_laea_cog.tif\n",
      "cog:timesat_extracts/h19v02/sos/sos_h19v02_2000_s1_laea_cog.tif\n"
     ]
    },
    {
     "name": "stdout",
     "output_type": "stream",
     "text": [
      "cog:timesat_extracts/h19v02/sos/sos_h19v02_2001_s1_laea_cog.tif\n",
      "cog:timesat_extracts/h19v02/sos/sos_h19v02_2002_s1_laea_cog.tif\n"
     ]
    },
    {
     "name": "stdout",
     "output_type": "stream",
     "text": [
      "cog:timesat_extracts/h19v02/sos/sos_h19v02_2003_s1_laea_cog.tif\n",
      "cog:timesat_extracts/h19v02/sos/sos_h19v02_2004_s1_laea_cog.tif\n"
     ]
    },
    {
     "name": "stdout",
     "output_type": "stream",
     "text": [
      "cog:timesat_extracts/h19v02/sos/sos_h19v02_2005_s1_laea_cog.tif\n",
      "cog:timesat_extracts/h19v02/sos/sos_h19v02_2006_s1_laea_cog.tif\n"
     ]
    },
    {
     "name": "stdout",
     "output_type": "stream",
     "text": [
      "cog:timesat_extracts/h19v02/sos/sos_h19v02_2007_s1_laea_cog.tif\n",
      "cog:timesat_extracts/h19v02/sos/sos_h19v02_2008_s1_laea_cog.tif\n"
     ]
    },
    {
     "name": "stdout",
     "output_type": "stream",
     "text": [
      "cog:timesat_extracts/h19v02/sos/sos_h19v02_2009_s1_laea_cog.tif\n",
      "cog:timesat_extracts/h19v02/sos/sos_h19v02_2010_s1_laea_cog.tif\n"
     ]
    },
    {
     "name": "stdout",
     "output_type": "stream",
     "text": [
      "cog:timesat_extracts/h19v02/sos/sos_h19v02_2011_s1_laea_cog.tif\n",
      "cog:timesat_extracts/h19v02/sos/sos_h19v02_2012_s1_laea_cog.tif\n"
     ]
    },
    {
     "name": "stdout",
     "output_type": "stream",
     "text": [
      "cog:timesat_extracts/h19v02/sos/sos_h19v02_2013_s1_laea_cog.tif\n",
      "cog:timesat_extracts/h19v02/sos/sos_h19v02_2014_s1_laea_cog.tif\n"
     ]
    },
    {
     "name": "stdout",
     "output_type": "stream",
     "text": [
      "cog:timesat_extracts/h19v02/sos/sos_h19v02_2015_s1_laea_cog.tif\n",
      "cog:timesat_extracts/h19v02/sos/sos_h19v02_2016_s1_laea_cog.tif\n"
     ]
    },
    {
     "name": "stdout",
     "output_type": "stream",
     "text": [
      "cog:timesat_extracts/h19v02/sos/sos_h19v02_2017_s1_laea_cog.tif\n",
      "cog:timesat_extracts/h19v02/sos/sos_h19v02_2018_s1_laea_cog.tif\n"
     ]
    },
    {
     "name": "stdout",
     "output_type": "stream",
     "text": [
      "cog:timesat_extracts/h19v02/sos/sos_h19v02_2019_s1_laea_cog.tif\n",
      "cog:timesat_extracts/h19v02/sos/sos_h19v02_2020_s1_laea_cog.tif\n"
     ]
    },
    {
     "name": "stdout",
     "output_type": "stream",
     "text": [
      "cog:timesat_extracts/h19v02/sos_value/sos_value_h19v02_2000_s1_laea_cog.tif\n",
      "cog:timesat_extracts/h19v02/sos_value/sos_value_h19v02_2001_s1_laea_cog.tif\n"
     ]
    },
    {
     "name": "stdout",
     "output_type": "stream",
     "text": [
      "cog:timesat_extracts/h19v02/sos_value/sos_value_h19v02_2002_s1_laea_cog.tif\n",
      "cog:timesat_extracts/h19v02/sos_value/sos_value_h19v02_2003_s1_laea_cog.tif\n"
     ]
    },
    {
     "name": "stdout",
     "output_type": "stream",
     "text": [
      "cog:timesat_extracts/h19v02/sos_value/sos_value_h19v02_2004_s1_laea_cog.tif\n",
      "cog:timesat_extracts/h19v02/sos_value/sos_value_h19v02_2005_s1_laea_cog.tif\n"
     ]
    },
    {
     "name": "stdout",
     "output_type": "stream",
     "text": [
      "cog:timesat_extracts/h19v02/sos_value/sos_value_h19v02_2006_s1_laea_cog.tif\n",
      "cog:timesat_extracts/h19v02/sos_value/sos_value_h19v02_2007_s1_laea_cog.tif\n"
     ]
    },
    {
     "name": "stdout",
     "output_type": "stream",
     "text": [
      "cog:timesat_extracts/h19v02/sos_value/sos_value_h19v02_2008_s1_laea_cog.tif\n",
      "cog:timesat_extracts/h19v02/sos_value/sos_value_h19v02_2009_s1_laea_cog.tif\n"
     ]
    },
    {
     "name": "stdout",
     "output_type": "stream",
     "text": [
      "cog:timesat_extracts/h19v02/sos_value/sos_value_h19v02_2010_s1_laea_cog.tif\n",
      "cog:timesat_extracts/h19v02/sos_value/sos_value_h19v02_2011_s1_laea_cog.tif\n"
     ]
    },
    {
     "name": "stdout",
     "output_type": "stream",
     "text": [
      "cog:timesat_extracts/h19v02/sos_value/sos_value_h19v02_2012_s1_laea_cog.tif\n",
      "cog:timesat_extracts/h19v02/sos_value/sos_value_h19v02_2013_s1_laea_cog.tif\n"
     ]
    },
    {
     "name": "stdout",
     "output_type": "stream",
     "text": [
      "cog:timesat_extracts/h19v02/sos_value/sos_value_h19v02_2014_s1_laea_cog.tif\n",
      "cog:timesat_extracts/h19v02/sos_value/sos_value_h19v02_2015_s1_laea_cog.tif\n"
     ]
    },
    {
     "name": "stdout",
     "output_type": "stream",
     "text": [
      "cog:timesat_extracts/h19v02/sos_value/sos_value_h19v02_2016_s1_laea_cog.tif\n",
      "cog:timesat_extracts/h19v02/sos_value/sos_value_h19v02_2017_s1_laea_cog.tif\n"
     ]
    },
    {
     "name": "stdout",
     "output_type": "stream",
     "text": [
      "cog:timesat_extracts/h19v02/sos_value/sos_value_h19v02_2018_s1_laea_cog.tif\n",
      "cog:timesat_extracts/h19v02/sos_value/sos_value_h19v02_2019_s1_laea_cog.tif\n"
     ]
    },
    {
     "name": "stdout",
     "output_type": "stream",
     "text": [
      "cog:timesat_extracts/h19v02/sos_value/sos_value_h19v02_2020_s1_laea_cog.tif\n"
     ]
    },
    {
     "name": "stdout",
     "output_type": "stream",
     "text": [
      "cog:timesat_extracts/h19v03/LINT/LINT_h19v03_2000_s1_laea_cog.tif\n"
     ]
    },
    {
     "name": "stdout",
     "output_type": "stream",
     "text": [
      "cog:timesat_extracts/h19v03/LINT/LINT_h19v03_2001_s1_laea_cog.tif\n",
      "cog:timesat_extracts/h19v03/LINT/LINT_h19v03_2002_s1_laea_cog.tif\n"
     ]
    },
    {
     "name": "stdout",
     "output_type": "stream",
     "text": [
      "cog:timesat_extracts/h19v03/LINT/LINT_h19v03_2003_s1_laea_cog.tif\n"
     ]
    },
    {
     "name": "stdout",
     "output_type": "stream",
     "text": [
      "cog:timesat_extracts/h19v03/LINT/LINT_h19v03_2004_s1_laea_cog.tif\n"
     ]
    },
    {
     "name": "stdout",
     "output_type": "stream",
     "text": [
      "cog:timesat_extracts/h19v03/LINT/LINT_h19v03_2005_s1_laea_cog.tif\n",
      "cog:timesat_extracts/h19v03/LINT/LINT_h19v03_2006_s1_laea_cog.tif\n"
     ]
    },
    {
     "name": "stdout",
     "output_type": "stream",
     "text": [
      "cog:timesat_extracts/h19v03/LINT/LINT_h19v03_2007_s1_laea_cog.tif\n"
     ]
    },
    {
     "name": "stdout",
     "output_type": "stream",
     "text": [
      "cog:timesat_extracts/h19v03/LINT/LINT_h19v03_2008_s1_laea_cog.tif\n",
      "cog:timesat_extracts/h19v03/LINT/LINT_h19v03_2009_s1_laea_cog.tif\n"
     ]
    },
    {
     "name": "stdout",
     "output_type": "stream",
     "text": [
      "cog:timesat_extracts/h19v03/LINT/LINT_h19v03_2010_s1_laea_cog.tif\n",
      "cog:timesat_extracts/h19v03/LINT/LINT_h19v03_2011_s1_laea_cog.tif\n"
     ]
    },
    {
     "name": "stdout",
     "output_type": "stream",
     "text": [
      "cog:timesat_extracts/h19v03/LINT/LINT_h19v03_2012_s1_laea_cog.tif\n"
     ]
    },
    {
     "name": "stdout",
     "output_type": "stream",
     "text": [
      "cog:timesat_extracts/h19v03/LINT/LINT_h19v03_2013_s1_laea_cog.tif\n"
     ]
    },
    {
     "name": "stdout",
     "output_type": "stream",
     "text": [
      "cog:timesat_extracts/h19v03/LINT/LINT_h19v03_2014_s1_laea_cog.tif\n"
     ]
    },
    {
     "name": "stdout",
     "output_type": "stream",
     "text": [
      "cog:timesat_extracts/h19v03/LINT/LINT_h19v03_2015_s1_laea_cog.tif\n"
     ]
    },
    {
     "name": "stdout",
     "output_type": "stream",
     "text": [
      "cog:timesat_extracts/h19v03/LINT/LINT_h19v03_2016_s1_laea_cog.tif\n",
      "cog:timesat_extracts/h19v03/LINT/LINT_h19v03_2017_s1_laea_cog.tif\n"
     ]
    },
    {
     "name": "stdout",
     "output_type": "stream",
     "text": [
      "cog:timesat_extracts/h19v03/LINT/LINT_h19v03_2018_s1_laea_cog.tif\n"
     ]
    },
    {
     "name": "stdout",
     "output_type": "stream",
     "text": [
      "cog:timesat_extracts/h19v03/LINT/LINT_h19v03_2019_s1_laea_cog.tif\n",
      "cog:timesat_extracts/h19v03/LINT/LINT_h19v03_2020_s1_laea_cog.tif\n"
     ]
    },
    {
     "name": "stdout",
     "output_type": "stream",
     "text": [
      "cog:timesat_extracts/h19v03/SINT/SINT_h19v03_2000_s1_laea_cog.tif\n"
     ]
    },
    {
     "name": "stdout",
     "output_type": "stream",
     "text": [
      "cog:timesat_extracts/h19v03/SINT/SINT_h19v03_2001_s1_laea_cog.tif\n"
     ]
    },
    {
     "name": "stdout",
     "output_type": "stream",
     "text": [
      "cog:timesat_extracts/h19v03/SINT/SINT_h19v03_2002_s1_laea_cog.tif\n"
     ]
    },
    {
     "name": "stdout",
     "output_type": "stream",
     "text": [
      "cog:timesat_extracts/h19v03/SINT/SINT_h19v03_2003_s1_laea_cog.tif\n"
     ]
    },
    {
     "name": "stdout",
     "output_type": "stream",
     "text": [
      "cog:timesat_extracts/h19v03/SINT/SINT_h19v03_2004_s1_laea_cog.tif\n",
      "cog:timesat_extracts/h19v03/SINT/SINT_h19v03_2005_s1_laea_cog.tif\n"
     ]
    },
    {
     "name": "stdout",
     "output_type": "stream",
     "text": [
      "cog:timesat_extracts/h19v03/SINT/SINT_h19v03_2006_s1_laea_cog.tif\n"
     ]
    },
    {
     "name": "stdout",
     "output_type": "stream",
     "text": [
      "cog:timesat_extracts/h19v03/SINT/SINT_h19v03_2007_s1_laea_cog.tif\n"
     ]
    },
    {
     "name": "stdout",
     "output_type": "stream",
     "text": [
      "cog:timesat_extracts/h19v03/SINT/SINT_h19v03_2008_s1_laea_cog.tif\n"
     ]
    },
    {
     "name": "stdout",
     "output_type": "stream",
     "text": [
      "cog:timesat_extracts/h19v03/SINT/SINT_h19v03_2009_s1_laea_cog.tif\n"
     ]
    },
    {
     "name": "stdout",
     "output_type": "stream",
     "text": [
      "cog:timesat_extracts/h19v03/SINT/SINT_h19v03_2010_s1_laea_cog.tif\n",
      "cog:timesat_extracts/h19v03/SINT/SINT_h19v03_2011_s1_laea_cog.tif\n"
     ]
    },
    {
     "name": "stdout",
     "output_type": "stream",
     "text": [
      "cog:timesat_extracts/h19v03/SINT/SINT_h19v03_2012_s1_laea_cog.tif\n"
     ]
    },
    {
     "name": "stdout",
     "output_type": "stream",
     "text": [
      "cog:timesat_extracts/h19v03/SINT/SINT_h19v03_2013_s1_laea_cog.tif\n"
     ]
    },
    {
     "name": "stdout",
     "output_type": "stream",
     "text": [
      "cog:timesat_extracts/h19v03/SINT/SINT_h19v03_2014_s1_laea_cog.tif\n"
     ]
    },
    {
     "name": "stdout",
     "output_type": "stream",
     "text": [
      "cog:timesat_extracts/h19v03/SINT/SINT_h19v03_2015_s1_laea_cog.tif\n",
      "cog:timesat_extracts/h19v03/SINT/SINT_h19v03_2016_s1_laea_cog.tif\n"
     ]
    },
    {
     "name": "stdout",
     "output_type": "stream",
     "text": [
      "cog:timesat_extracts/h19v03/SINT/SINT_h19v03_2017_s1_laea_cog.tif\n",
      "cog:timesat_extracts/h19v03/SINT/SINT_h19v03_2018_s1_laea_cog.tif\n"
     ]
    },
    {
     "name": "stdout",
     "output_type": "stream",
     "text": [
      "cog:timesat_extracts/h19v03/SINT/SINT_h19v03_2019_s1_laea_cog.tif\n"
     ]
    },
    {
     "name": "stdout",
     "output_type": "stream",
     "text": [
      "cog:timesat_extracts/h19v03/SINT/SINT_h19v03_2020_s1_laea_cog.tif\n"
     ]
    },
    {
     "name": "stdout",
     "output_type": "stream",
     "text": [
      "cog:timesat_extracts/h19v03/decrease_rate/decrease_rate_EOS_h19v03_2000_s1_laea_cog.tif\n"
     ]
    },
    {
     "name": "stdout",
     "output_type": "stream",
     "text": [
      "cog:timesat_extracts/h19v03/decrease_rate/decrease_rate_EOS_h19v03_2001_s1_laea_cog.tif\n"
     ]
    },
    {
     "name": "stdout",
     "output_type": "stream",
     "text": [
      "cog:timesat_extracts/h19v03/decrease_rate/decrease_rate_EOS_h19v03_2002_s1_laea_cog.tif\n"
     ]
    },
    {
     "name": "stdout",
     "output_type": "stream",
     "text": [
      "cog:timesat_extracts/h19v03/decrease_rate/decrease_rate_EOS_h19v03_2003_s1_laea_cog.tif\n"
     ]
    },
    {
     "name": "stdout",
     "output_type": "stream",
     "text": [
      "cog:timesat_extracts/h19v03/decrease_rate/decrease_rate_EOS_h19v03_2004_s1_laea_cog.tif\n"
     ]
    },
    {
     "name": "stdout",
     "output_type": "stream",
     "text": [
      "cog:timesat_extracts/h19v03/decrease_rate/decrease_rate_EOS_h19v03_2005_s1_laea_cog.tif\n"
     ]
    },
    {
     "name": "stdout",
     "output_type": "stream",
     "text": [
      "cog:timesat_extracts/h19v03/decrease_rate/decrease_rate_EOS_h19v03_2006_s1_laea_cog.tif\n"
     ]
    },
    {
     "name": "stdout",
     "output_type": "stream",
     "text": [
      "cog:timesat_extracts/h19v03/decrease_rate/decrease_rate_EOS_h19v03_2007_s1_laea_cog.tif\n"
     ]
    },
    {
     "name": "stdout",
     "output_type": "stream",
     "text": [
      "cog:timesat_extracts/h19v03/decrease_rate/decrease_rate_EOS_h19v03_2008_s1_laea_cog.tif\n"
     ]
    },
    {
     "name": "stdout",
     "output_type": "stream",
     "text": [
      "cog:timesat_extracts/h19v03/decrease_rate/decrease_rate_EOS_h19v03_2009_s1_laea_cog.tif\n",
      "cog:timesat_extracts/h19v03/decrease_rate/decrease_rate_EOS_h19v03_2010_s1_laea_cog.tif\n"
     ]
    },
    {
     "name": "stdout",
     "output_type": "stream",
     "text": [
      "cog:timesat_extracts/h19v03/decrease_rate/decrease_rate_EOS_h19v03_2011_s1_laea_cog.tif\n"
     ]
    },
    {
     "name": "stdout",
     "output_type": "stream",
     "text": [
      "cog:timesat_extracts/h19v03/decrease_rate/decrease_rate_EOS_h19v03_2012_s1_laea_cog.tif\n"
     ]
    },
    {
     "name": "stdout",
     "output_type": "stream",
     "text": [
      "cog:timesat_extracts/h19v03/decrease_rate/decrease_rate_EOS_h19v03_2013_s1_laea_cog.tif\n"
     ]
    },
    {
     "name": "stdout",
     "output_type": "stream",
     "text": [
      "cog:timesat_extracts/h19v03/decrease_rate/decrease_rate_EOS_h19v03_2014_s1_laea_cog.tif\n"
     ]
    },
    {
     "name": "stdout",
     "output_type": "stream",
     "text": [
      "cog:timesat_extracts/h19v03/decrease_rate/decrease_rate_EOS_h19v03_2015_s1_laea_cog.tif\n"
     ]
    },
    {
     "name": "stdout",
     "output_type": "stream",
     "text": [
      "cog:timesat_extracts/h19v03/decrease_rate/decrease_rate_EOS_h19v03_2016_s1_laea_cog.tif\n"
     ]
    },
    {
     "name": "stdout",
     "output_type": "stream",
     "text": [
      "cog:timesat_extracts/h19v03/decrease_rate/decrease_rate_EOS_h19v03_2017_s1_laea_cog.tif\n",
      "cog:timesat_extracts/h19v03/decrease_rate/decrease_rate_EOS_h19v03_2018_s1_laea_cog.tif\n"
     ]
    },
    {
     "name": "stdout",
     "output_type": "stream",
     "text": [
      "cog:timesat_extracts/h19v03/decrease_rate/decrease_rate_EOS_h19v03_2019_s1_laea_cog.tif\n"
     ]
    },
    {
     "name": "stdout",
     "output_type": "stream",
     "text": [
      "cog:timesat_extracts/h19v03/decrease_rate/decrease_rate_EOS_h19v03_2020_s1_laea_cog.tif\n"
     ]
    },
    {
     "name": "stdout",
     "output_type": "stream",
     "text": [
      "cog:timesat_extracts/h19v03/eos/eos_h19v03_2000_s1_laea_cog.tif\n",
      "cog:timesat_extracts/h19v03/eos/eos_h19v03_2001_s1_laea_cog.tif\n"
     ]
    },
    {
     "name": "stdout",
     "output_type": "stream",
     "text": [
      "cog:timesat_extracts/h19v03/eos/eos_h19v03_2002_s1_laea_cog.tif\n"
     ]
    },
    {
     "name": "stdout",
     "output_type": "stream",
     "text": [
      "cog:timesat_extracts/h19v03/eos/eos_h19v03_2003_s1_laea_cog.tif\n",
      "cog:timesat_extracts/h19v03/eos/eos_h19v03_2004_s1_laea_cog.tif\n"
     ]
    },
    {
     "name": "stdout",
     "output_type": "stream",
     "text": [
      "cog:timesat_extracts/h19v03/eos/eos_h19v03_2005_s1_laea_cog.tif\n",
      "cog:timesat_extracts/h19v03/eos/eos_h19v03_2006_s1_laea_cog.tif\n"
     ]
    },
    {
     "name": "stdout",
     "output_type": "stream",
     "text": [
      "cog:timesat_extracts/h19v03/eos/eos_h19v03_2007_s1_laea_cog.tif\n",
      "cog:timesat_extracts/h19v03/eos/eos_h19v03_2008_s1_laea_cog.tif\n"
     ]
    },
    {
     "name": "stdout",
     "output_type": "stream",
     "text": [
      "cog:timesat_extracts/h19v03/eos/eos_h19v03_2009_s1_laea_cog.tif\n",
      "cog:timesat_extracts/h19v03/eos/eos_h19v03_2010_s1_laea_cog.tif\n"
     ]
    },
    {
     "name": "stdout",
     "output_type": "stream",
     "text": [
      "cog:timesat_extracts/h19v03/eos/eos_h19v03_2011_s1_laea_cog.tif\n"
     ]
    },
    {
     "name": "stdout",
     "output_type": "stream",
     "text": [
      "cog:timesat_extracts/h19v03/eos/eos_h19v03_2012_s1_laea_cog.tif\n",
      "cog:timesat_extracts/h19v03/eos/eos_h19v03_2013_s1_laea_cog.tif\n"
     ]
    },
    {
     "name": "stdout",
     "output_type": "stream",
     "text": [
      "cog:timesat_extracts/h19v03/eos/eos_h19v03_2014_s1_laea_cog.tif\n",
      "cog:timesat_extracts/h19v03/eos/eos_h19v03_2015_s1_laea_cog.tif\n"
     ]
    },
    {
     "name": "stdout",
     "output_type": "stream",
     "text": [
      "cog:timesat_extracts/h19v03/eos/eos_h19v03_2016_s1_laea_cog.tif\n",
      "cog:timesat_extracts/h19v03/eos/eos_h19v03_2017_s1_laea_cog.tif\n"
     ]
    },
    {
     "name": "stdout",
     "output_type": "stream",
     "text": [
      "cog:timesat_extracts/h19v03/eos/eos_h19v03_2018_s1_laea_cog.tif\n",
      "cog:timesat_extracts/h19v03/eos/eos_h19v03_2019_s1_laea_cog.tif\n"
     ]
    },
    {
     "name": "stdout",
     "output_type": "stream",
     "text": [
      "cog:timesat_extracts/h19v03/eos/eos_h19v03_2020_s1_laea_cog.tif\n",
      "cog:timesat_extracts/h19v03/eos_value/eos_value_h19v03_2000_s1_laea_cog.tif\n"
     ]
    },
    {
     "name": "stdout",
     "output_type": "stream",
     "text": [
      "cog:timesat_extracts/h19v03/eos_value/eos_value_h19v03_2001_s1_laea_cog.tif\n"
     ]
    },
    {
     "name": "stdout",
     "output_type": "stream",
     "text": [
      "cog:timesat_extracts/h19v03/eos_value/eos_value_h19v03_2002_s1_laea_cog.tif\n"
     ]
    },
    {
     "name": "stdout",
     "output_type": "stream",
     "text": [
      "cog:timesat_extracts/h19v03/eos_value/eos_value_h19v03_2003_s1_laea_cog.tif\n"
     ]
    },
    {
     "name": "stdout",
     "output_type": "stream",
     "text": [
      "cog:timesat_extracts/h19v03/eos_value/eos_value_h19v03_2004_s1_laea_cog.tif\n"
     ]
    },
    {
     "name": "stdout",
     "output_type": "stream",
     "text": [
      "cog:timesat_extracts/h19v03/eos_value/eos_value_h19v03_2005_s1_laea_cog.tif\n",
      "cog:timesat_extracts/h19v03/eos_value/eos_value_h19v03_2006_s1_laea_cog.tif\n"
     ]
    },
    {
     "name": "stdout",
     "output_type": "stream",
     "text": [
      "cog:timesat_extracts/h19v03/eos_value/eos_value_h19v03_2007_s1_laea_cog.tif\n"
     ]
    },
    {
     "name": "stdout",
     "output_type": "stream",
     "text": [
      "cog:timesat_extracts/h19v03/eos_value/eos_value_h19v03_2008_s1_laea_cog.tif\n"
     ]
    },
    {
     "name": "stdout",
     "output_type": "stream",
     "text": [
      "cog:timesat_extracts/h19v03/eos_value/eos_value_h19v03_2009_s1_laea_cog.tif\n"
     ]
    },
    {
     "name": "stdout",
     "output_type": "stream",
     "text": [
      "cog:timesat_extracts/h19v03/eos_value/eos_value_h19v03_2010_s1_laea_cog.tif\n"
     ]
    },
    {
     "name": "stdout",
     "output_type": "stream",
     "text": [
      "cog:timesat_extracts/h19v03/eos_value/eos_value_h19v03_2011_s1_laea_cog.tif\n"
     ]
    },
    {
     "name": "stdout",
     "output_type": "stream",
     "text": [
      "cog:timesat_extracts/h19v03/eos_value/eos_value_h19v03_2012_s1_laea_cog.tif\n"
     ]
    },
    {
     "name": "stdout",
     "output_type": "stream",
     "text": [
      "cog:timesat_extracts/h19v03/eos_value/eos_value_h19v03_2013_s1_laea_cog.tif\n",
      "cog:timesat_extracts/h19v03/eos_value/eos_value_h19v03_2014_s1_laea_cog.tif\n"
     ]
    },
    {
     "name": "stdout",
     "output_type": "stream",
     "text": [
      "cog:timesat_extracts/h19v03/eos_value/eos_value_h19v03_2015_s1_laea_cog.tif\n"
     ]
    },
    {
     "name": "stdout",
     "output_type": "stream",
     "text": [
      "cog:timesat_extracts/h19v03/eos_value/eos_value_h19v03_2016_s1_laea_cog.tif\n",
      "cog:timesat_extracts/h19v03/eos_value/eos_value_h19v03_2017_s1_laea_cog.tif\n"
     ]
    },
    {
     "name": "stdout",
     "output_type": "stream",
     "text": [
      "cog:timesat_extracts/h19v03/eos_value/eos_value_h19v03_2018_s1_laea_cog.tif\n"
     ]
    },
    {
     "name": "stdout",
     "output_type": "stream",
     "text": [
      "cog:timesat_extracts/h19v03/eos_value/eos_value_h19v03_2019_s1_laea_cog.tif\n"
     ]
    },
    {
     "name": "stdout",
     "output_type": "stream",
     "text": [
      "cog:timesat_extracts/h19v03/eos_value/eos_value_h19v03_2020_s1_laea_cog.tif\n",
      "cog:timesat_extracts/h19v03/increase_rate/increase_rate_SOS_h19v03_2000_s1_laea_cog.tif\n"
     ]
    },
    {
     "name": "stdout",
     "output_type": "stream",
     "text": [
      "cog:timesat_extracts/h19v03/increase_rate/increase_rate_SOS_h19v03_2001_s1_laea_cog.tif\n",
      "cog:timesat_extracts/h19v03/increase_rate/increase_rate_SOS_h19v03_2002_s1_laea_cog.tif\n"
     ]
    },
    {
     "name": "stdout",
     "output_type": "stream",
     "text": [
      "cog:timesat_extracts/h19v03/increase_rate/increase_rate_SOS_h19v03_2003_s1_laea_cog.tif\n"
     ]
    },
    {
     "name": "stdout",
     "output_type": "stream",
     "text": [
      "cog:timesat_extracts/h19v03/increase_rate/increase_rate_SOS_h19v03_2004_s1_laea_cog.tif\n",
      "cog:timesat_extracts/h19v03/increase_rate/increase_rate_SOS_h19v03_2005_s1_laea_cog.tif\n"
     ]
    },
    {
     "name": "stdout",
     "output_type": "stream",
     "text": [
      "cog:timesat_extracts/h19v03/increase_rate/increase_rate_SOS_h19v03_2006_s1_laea_cog.tif\n",
      "cog:timesat_extracts/h19v03/increase_rate/increase_rate_SOS_h19v03_2007_s1_laea_cog.tif\n"
     ]
    },
    {
     "name": "stdout",
     "output_type": "stream",
     "text": [
      "cog:timesat_extracts/h19v03/increase_rate/increase_rate_SOS_h19v03_2008_s1_laea_cog.tif\n",
      "cog:timesat_extracts/h19v03/increase_rate/increase_rate_SOS_h19v03_2009_s1_laea_cog.tif\n"
     ]
    },
    {
     "name": "stdout",
     "output_type": "stream",
     "text": [
      "cog:timesat_extracts/h19v03/increase_rate/increase_rate_SOS_h19v03_2010_s1_laea_cog.tif\n"
     ]
    },
    {
     "name": "stdout",
     "output_type": "stream",
     "text": [
      "cog:timesat_extracts/h19v03/increase_rate/increase_rate_SOS_h19v03_2011_s1_laea_cog.tif\n"
     ]
    },
    {
     "name": "stdout",
     "output_type": "stream",
     "text": [
      "cog:timesat_extracts/h19v03/increase_rate/increase_rate_SOS_h19v03_2012_s1_laea_cog.tif\n"
     ]
    },
    {
     "name": "stdout",
     "output_type": "stream",
     "text": [
      "cog:timesat_extracts/h19v03/increase_rate/increase_rate_SOS_h19v03_2013_s1_laea_cog.tif\n"
     ]
    },
    {
     "name": "stdout",
     "output_type": "stream",
     "text": [
      "cog:timesat_extracts/h19v03/increase_rate/increase_rate_SOS_h19v03_2014_s1_laea_cog.tif\n"
     ]
    },
    {
     "name": "stdout",
     "output_type": "stream",
     "text": [
      "cog:timesat_extracts/h19v03/increase_rate/increase_rate_SOS_h19v03_2015_s1_laea_cog.tif\n"
     ]
    },
    {
     "name": "stdout",
     "output_type": "stream",
     "text": [
      "cog:timesat_extracts/h19v03/increase_rate/increase_rate_SOS_h19v03_2016_s1_laea_cog.tif\n"
     ]
    },
    {
     "name": "stdout",
     "output_type": "stream",
     "text": [
      "cog:timesat_extracts/h19v03/increase_rate/increase_rate_SOS_h19v03_2017_s1_laea_cog.tif\n"
     ]
    },
    {
     "name": "stdout",
     "output_type": "stream",
     "text": [
      "cog:timesat_extracts/h19v03/increase_rate/increase_rate_SOS_h19v03_2018_s1_laea_cog.tif\n"
     ]
    },
    {
     "name": "stdout",
     "output_type": "stream",
     "text": [
      "cog:timesat_extracts/h19v03/increase_rate/increase_rate_SOS_h19v03_2019_s1_laea_cog.tif\n"
     ]
    },
    {
     "name": "stdout",
     "output_type": "stream",
     "text": [
      "cog:timesat_extracts/h19v03/increase_rate/increase_rate_SOS_h19v03_2020_s1_laea_cog.tif\n"
     ]
    },
    {
     "name": "stdout",
     "output_type": "stream",
     "text": [
      "cog:timesat_extracts/h19v03/length_of_season/los_h19v03_2000_s1_laea_cog.tif\n",
      "cog:timesat_extracts/h19v03/length_of_season/los_h19v03_2001_s1_laea_cog.tif\n"
     ]
    },
    {
     "name": "stdout",
     "output_type": "stream",
     "text": [
      "cog:timesat_extracts/h19v03/length_of_season/los_h19v03_2002_s1_laea_cog.tif\n",
      "cog:timesat_extracts/h19v03/length_of_season/los_h19v03_2003_s1_laea_cog.tif\n"
     ]
    },
    {
     "name": "stdout",
     "output_type": "stream",
     "text": [
      "cog:timesat_extracts/h19v03/length_of_season/los_h19v03_2004_s1_laea_cog.tif\n"
     ]
    },
    {
     "name": "stdout",
     "output_type": "stream",
     "text": [
      "cog:timesat_extracts/h19v03/length_of_season/los_h19v03_2005_s1_laea_cog.tif\n"
     ]
    },
    {
     "name": "stdout",
     "output_type": "stream",
     "text": [
      "cog:timesat_extracts/h19v03/length_of_season/los_h19v03_2006_s1_laea_cog.tif\n"
     ]
    },
    {
     "name": "stdout",
     "output_type": "stream",
     "text": [
      "cog:timesat_extracts/h19v03/length_of_season/los_h19v03_2007_s1_laea_cog.tif\n",
      "cog:timesat_extracts/h19v03/length_of_season/los_h19v03_2008_s1_laea_cog.tif\n"
     ]
    },
    {
     "name": "stdout",
     "output_type": "stream",
     "text": [
      "cog:timesat_extracts/h19v03/length_of_season/los_h19v03_2009_s1_laea_cog.tif\n",
      "cog:timesat_extracts/h19v03/length_of_season/los_h19v03_2010_s1_laea_cog.tif\n"
     ]
    },
    {
     "name": "stdout",
     "output_type": "stream",
     "text": [
      "cog:timesat_extracts/h19v03/length_of_season/los_h19v03_2011_s1_laea_cog.tif\n",
      "cog:timesat_extracts/h19v03/length_of_season/los_h19v03_2012_s1_laea_cog.tif\n"
     ]
    },
    {
     "name": "stdout",
     "output_type": "stream",
     "text": [
      "cog:timesat_extracts/h19v03/length_of_season/los_h19v03_2013_s1_laea_cog.tif\n"
     ]
    },
    {
     "name": "stdout",
     "output_type": "stream",
     "text": [
      "cog:timesat_extracts/h19v03/length_of_season/los_h19v03_2014_s1_laea_cog.tif\n"
     ]
    },
    {
     "name": "stdout",
     "output_type": "stream",
     "text": [
      "cog:timesat_extracts/h19v03/length_of_season/los_h19v03_2015_s1_laea_cog.tif\n",
      "cog:timesat_extracts/h19v03/length_of_season/los_h19v03_2016_s1_laea_cog.tif\n"
     ]
    },
    {
     "name": "stdout",
     "output_type": "stream",
     "text": [
      "cog:timesat_extracts/h19v03/length_of_season/los_h19v03_2017_s1_laea_cog.tif\n",
      "cog:timesat_extracts/h19v03/length_of_season/los_h19v03_2018_s1_laea_cog.tif\n"
     ]
    },
    {
     "name": "stdout",
     "output_type": "stream",
     "text": [
      "cog:timesat_extracts/h19v03/length_of_season/los_h19v03_2019_s1_laea_cog.tif\n",
      "cog:timesat_extracts/h19v03/length_of_season/los_h19v03_2020_s1_laea_cog.tif\n"
     ]
    },
    {
     "name": "stdout",
     "output_type": "stream",
     "text": [
      "cog:timesat_extracts/h19v03/seasonal_amplitude/s_amplitude_h19v03_2000_s1_laea_cog.tif\n"
     ]
    },
    {
     "name": "stdout",
     "output_type": "stream",
     "text": [
      "cog:timesat_extracts/h19v03/seasonal_amplitude/s_amplitude_h19v03_2001_s1_laea_cog.tif\n",
      "cog:timesat_extracts/h19v03/seasonal_amplitude/s_amplitude_h19v03_2002_s1_laea_cog.tif\n"
     ]
    },
    {
     "name": "stdout",
     "output_type": "stream",
     "text": [
      "cog:timesat_extracts/h19v03/seasonal_amplitude/s_amplitude_h19v03_2003_s1_laea_cog.tif\n"
     ]
    },
    {
     "name": "stdout",
     "output_type": "stream",
     "text": [
      "cog:timesat_extracts/h19v03/seasonal_amplitude/s_amplitude_h19v03_2004_s1_laea_cog.tif\n"
     ]
    },
    {
     "name": "stdout",
     "output_type": "stream",
     "text": [
      "cog:timesat_extracts/h19v03/seasonal_amplitude/s_amplitude_h19v03_2005_s1_laea_cog.tif\n"
     ]
    },
    {
     "name": "stdout",
     "output_type": "stream",
     "text": [
      "cog:timesat_extracts/h19v03/seasonal_amplitude/s_amplitude_h19v03_2006_s1_laea_cog.tif\n",
      "cog:timesat_extracts/h19v03/seasonal_amplitude/s_amplitude_h19v03_2007_s1_laea_cog.tif\n"
     ]
    },
    {
     "name": "stdout",
     "output_type": "stream",
     "text": [
      "cog:timesat_extracts/h19v03/seasonal_amplitude/s_amplitude_h19v03_2008_s1_laea_cog.tif\n"
     ]
    },
    {
     "name": "stdout",
     "output_type": "stream",
     "text": [
      "cog:timesat_extracts/h19v03/seasonal_amplitude/s_amplitude_h19v03_2009_s1_laea_cog.tif\n"
     ]
    },
    {
     "name": "stdout",
     "output_type": "stream",
     "text": [
      "cog:timesat_extracts/h19v03/seasonal_amplitude/s_amplitude_h19v03_2010_s1_laea_cog.tif\n"
     ]
    },
    {
     "name": "stdout",
     "output_type": "stream",
     "text": [
      "cog:timesat_extracts/h19v03/seasonal_amplitude/s_amplitude_h19v03_2011_s1_laea_cog.tif\n"
     ]
    },
    {
     "name": "stdout",
     "output_type": "stream",
     "text": [
      "cog:timesat_extracts/h19v03/seasonal_amplitude/s_amplitude_h19v03_2012_s1_laea_cog.tif\n"
     ]
    },
    {
     "name": "stdout",
     "output_type": "stream",
     "text": [
      "cog:timesat_extracts/h19v03/seasonal_amplitude/s_amplitude_h19v03_2013_s1_laea_cog.tif\n"
     ]
    },
    {
     "name": "stdout",
     "output_type": "stream",
     "text": [
      "cog:timesat_extracts/h19v03/seasonal_amplitude/s_amplitude_h19v03_2014_s1_laea_cog.tif\n"
     ]
    },
    {
     "name": "stdout",
     "output_type": "stream",
     "text": [
      "cog:timesat_extracts/h19v03/seasonal_amplitude/s_amplitude_h19v03_2015_s1_laea_cog.tif\n"
     ]
    },
    {
     "name": "stdout",
     "output_type": "stream",
     "text": [
      "cog:timesat_extracts/h19v03/seasonal_amplitude/s_amplitude_h19v03_2016_s1_laea_cog.tif\n"
     ]
    },
    {
     "name": "stdout",
     "output_type": "stream",
     "text": [
      "cog:timesat_extracts/h19v03/seasonal_amplitude/s_amplitude_h19v03_2017_s1_laea_cog.tif\n"
     ]
    },
    {
     "name": "stdout",
     "output_type": "stream",
     "text": [
      "cog:timesat_extracts/h19v03/seasonal_amplitude/s_amplitude_h19v03_2018_s1_laea_cog.tif\n"
     ]
    },
    {
     "name": "stdout",
     "output_type": "stream",
     "text": [
      "cog:timesat_extracts/h19v03/seasonal_amplitude/s_amplitude_h19v03_2019_s1_laea_cog.tif\n"
     ]
    },
    {
     "name": "stdout",
     "output_type": "stream",
     "text": [
      "cog:timesat_extracts/h19v03/seasonal_amplitude/s_amplitude_h19v03_2020_s1_laea_cog.tif\n"
     ]
    },
    {
     "name": "stdout",
     "output_type": "stream",
     "text": [
      "cog:timesat_extracts/h19v03/sos/sos_h19v03_2000_s1_laea_cog.tif\n"
     ]
    },
    {
     "name": "stdout",
     "output_type": "stream",
     "text": [
      "cog:timesat_extracts/h19v03/sos/sos_h19v03_2001_s1_laea_cog.tif\n",
      "cog:timesat_extracts/h19v03/sos/sos_h19v03_2002_s1_laea_cog.tif\n"
     ]
    },
    {
     "name": "stdout",
     "output_type": "stream",
     "text": [
      "cog:timesat_extracts/h19v03/sos/sos_h19v03_2003_s1_laea_cog.tif\n"
     ]
    },
    {
     "name": "stdout",
     "output_type": "stream",
     "text": [
      "cog:timesat_extracts/h19v03/sos/sos_h19v03_2004_s1_laea_cog.tif\n",
      "cog:timesat_extracts/h19v03/sos/sos_h19v03_2005_s1_laea_cog.tif\n"
     ]
    },
    {
     "name": "stdout",
     "output_type": "stream",
     "text": [
      "cog:timesat_extracts/h19v03/sos/sos_h19v03_2006_s1_laea_cog.tif\n",
      "cog:timesat_extracts/h19v03/sos/sos_h19v03_2007_s1_laea_cog.tif\n"
     ]
    },
    {
     "name": "stdout",
     "output_type": "stream",
     "text": [
      "cog:timesat_extracts/h19v03/sos/sos_h19v03_2008_s1_laea_cog.tif\n",
      "cog:timesat_extracts/h19v03/sos/sos_h19v03_2009_s1_laea_cog.tif\n"
     ]
    },
    {
     "name": "stdout",
     "output_type": "stream",
     "text": [
      "cog:timesat_extracts/h19v03/sos/sos_h19v03_2010_s1_laea_cog.tif\n"
     ]
    },
    {
     "name": "stdout",
     "output_type": "stream",
     "text": [
      "cog:timesat_extracts/h19v03/sos/sos_h19v03_2011_s1_laea_cog.tif\n",
      "cog:timesat_extracts/h19v03/sos/sos_h19v03_2012_s1_laea_cog.tif\n"
     ]
    },
    {
     "name": "stdout",
     "output_type": "stream",
     "text": [
      "cog:timesat_extracts/h19v03/sos/sos_h19v03_2013_s1_laea_cog.tif\n",
      "cog:timesat_extracts/h19v03/sos/sos_h19v03_2014_s1_laea_cog.tif\n"
     ]
    },
    {
     "name": "stdout",
     "output_type": "stream",
     "text": [
      "cog:timesat_extracts/h19v03/sos/sos_h19v03_2015_s1_laea_cog.tif\n",
      "cog:timesat_extracts/h19v03/sos/sos_h19v03_2016_s1_laea_cog.tif\n"
     ]
    },
    {
     "name": "stdout",
     "output_type": "stream",
     "text": [
      "cog:timesat_extracts/h19v03/sos/sos_h19v03_2017_s1_laea_cog.tif\n",
      "cog:timesat_extracts/h19v03/sos/sos_h19v03_2018_s1_laea_cog.tif\n"
     ]
    },
    {
     "name": "stdout",
     "output_type": "stream",
     "text": [
      "cog:timesat_extracts/h19v03/sos/sos_h19v03_2019_s1_laea_cog.tif\n",
      "cog:timesat_extracts/h19v03/sos/sos_h19v03_2020_s1_laea_cog.tif\n"
     ]
    },
    {
     "name": "stdout",
     "output_type": "stream",
     "text": [
      "cog:timesat_extracts/h19v03/sos_value/sos_value_h19v03_2000_s1_laea_cog.tif\n",
      "cog:timesat_extracts/h19v03/sos_value/sos_value_h19v03_2001_s1_laea_cog.tif\n"
     ]
    },
    {
     "name": "stdout",
     "output_type": "stream",
     "text": [
      "cog:timesat_extracts/h19v03/sos_value/sos_value_h19v03_2002_s1_laea_cog.tif\n"
     ]
    },
    {
     "name": "stdout",
     "output_type": "stream",
     "text": [
      "cog:timesat_extracts/h19v03/sos_value/sos_value_h19v03_2003_s1_laea_cog.tif\n",
      "cog:timesat_extracts/h19v03/sos_value/sos_value_h19v03_2004_s1_laea_cog.tif\n"
     ]
    },
    {
     "name": "stdout",
     "output_type": "stream",
     "text": [
      "cog:timesat_extracts/h19v03/sos_value/sos_value_h19v03_2005_s1_laea_cog.tif\n"
     ]
    },
    {
     "name": "stdout",
     "output_type": "stream",
     "text": [
      "cog:timesat_extracts/h19v03/sos_value/sos_value_h19v03_2006_s1_laea_cog.tif\n",
      "cog:timesat_extracts/h19v03/sos_value/sos_value_h19v03_2007_s1_laea_cog.tif\n"
     ]
    },
    {
     "name": "stdout",
     "output_type": "stream",
     "text": [
      "cog:timesat_extracts/h19v03/sos_value/sos_value_h19v03_2008_s1_laea_cog.tif\n",
      "cog:timesat_extracts/h19v03/sos_value/sos_value_h19v03_2009_s1_laea_cog.tif\n"
     ]
    },
    {
     "name": "stdout",
     "output_type": "stream",
     "text": [
      "cog:timesat_extracts/h19v03/sos_value/sos_value_h19v03_2010_s1_laea_cog.tif\n"
     ]
    },
    {
     "name": "stdout",
     "output_type": "stream",
     "text": [
      "cog:timesat_extracts/h19v03/sos_value/sos_value_h19v03_2011_s1_laea_cog.tif\n"
     ]
    },
    {
     "name": "stdout",
     "output_type": "stream",
     "text": [
      "cog:timesat_extracts/h19v03/sos_value/sos_value_h19v03_2012_s1_laea_cog.tif\n"
     ]
    },
    {
     "name": "stdout",
     "output_type": "stream",
     "text": [
      "cog:timesat_extracts/h19v03/sos_value/sos_value_h19v03_2013_s1_laea_cog.tif\n"
     ]
    },
    {
     "name": "stdout",
     "output_type": "stream",
     "text": [
      "cog:timesat_extracts/h19v03/sos_value/sos_value_h19v03_2014_s1_laea_cog.tif\n"
     ]
    },
    {
     "name": "stdout",
     "output_type": "stream",
     "text": [
      "cog:timesat_extracts/h19v03/sos_value/sos_value_h19v03_2015_s1_laea_cog.tif\n"
     ]
    },
    {
     "name": "stdout",
     "output_type": "stream",
     "text": [
      "cog:timesat_extracts/h19v03/sos_value/sos_value_h19v03_2016_s1_laea_cog.tif\n"
     ]
    },
    {
     "name": "stdout",
     "output_type": "stream",
     "text": [
      "cog:timesat_extracts/h19v03/sos_value/sos_value_h19v03_2017_s1_laea_cog.tif\n"
     ]
    },
    {
     "name": "stdout",
     "output_type": "stream",
     "text": [
      "cog:timesat_extracts/h19v03/sos_value/sos_value_h19v03_2018_s1_laea_cog.tif\n"
     ]
    },
    {
     "name": "stdout",
     "output_type": "stream",
     "text": [
      "cog:timesat_extracts/h19v03/sos_value/sos_value_h19v03_2019_s1_laea_cog.tif\n"
     ]
    },
    {
     "name": "stdout",
     "output_type": "stream",
     "text": [
      "cog:timesat_extracts/h19v03/sos_value/sos_value_h19v03_2020_s1_laea_cog.tif\n"
     ]
    },
    {
     "name": "stdout",
     "output_type": "stream",
     "text": [
      "cog:timesat_extracts/h19v04/LINT/LINT_h19v04_2000_s1_laea_cog.tif\n"
     ]
    },
    {
     "name": "stdout",
     "output_type": "stream",
     "text": [
      "cog:timesat_extracts/h19v04/LINT/LINT_h19v04_2001_s1_laea_cog.tif\n"
     ]
    },
    {
     "name": "stdout",
     "output_type": "stream",
     "text": [
      "cog:timesat_extracts/h19v04/LINT/LINT_h19v04_2002_s1_laea_cog.tif\n"
     ]
    },
    {
     "name": "stdout",
     "output_type": "stream",
     "text": [
      "cog:timesat_extracts/h19v04/LINT/LINT_h19v04_2003_s1_laea_cog.tif\n"
     ]
    },
    {
     "name": "stdout",
     "output_type": "stream",
     "text": [
      "cog:timesat_extracts/h19v04/LINT/LINT_h19v04_2004_s1_laea_cog.tif\n"
     ]
    },
    {
     "name": "stdout",
     "output_type": "stream",
     "text": [
      "cog:timesat_extracts/h19v04/LINT/LINT_h19v04_2005_s1_laea_cog.tif\n"
     ]
    },
    {
     "name": "stdout",
     "output_type": "stream",
     "text": [
      "cog:timesat_extracts/h19v04/LINT/LINT_h19v04_2006_s1_laea_cog.tif\n"
     ]
    },
    {
     "name": "stdout",
     "output_type": "stream",
     "text": [
      "cog:timesat_extracts/h19v04/LINT/LINT_h19v04_2007_s1_laea_cog.tif\n",
      "cog:timesat_extracts/h19v04/LINT/LINT_h19v04_2008_s1_laea_cog.tif\n"
     ]
    },
    {
     "name": "stdout",
     "output_type": "stream",
     "text": [
      "cog:timesat_extracts/h19v04/LINT/LINT_h19v04_2009_s1_laea_cog.tif\n"
     ]
    },
    {
     "name": "stdout",
     "output_type": "stream",
     "text": [
      "cog:timesat_extracts/h19v04/LINT/LINT_h19v04_2010_s1_laea_cog.tif\n"
     ]
    },
    {
     "name": "stdout",
     "output_type": "stream",
     "text": [
      "cog:timesat_extracts/h19v04/LINT/LINT_h19v04_2011_s1_laea_cog.tif\n"
     ]
    },
    {
     "name": "stdout",
     "output_type": "stream",
     "text": [
      "cog:timesat_extracts/h19v04/LINT/LINT_h19v04_2012_s1_laea_cog.tif\n"
     ]
    },
    {
     "name": "stdout",
     "output_type": "stream",
     "text": [
      "cog:timesat_extracts/h19v04/LINT/LINT_h19v04_2013_s1_laea_cog.tif\n"
     ]
    },
    {
     "name": "stdout",
     "output_type": "stream",
     "text": [
      "cog:timesat_extracts/h19v04/LINT/LINT_h19v04_2014_s1_laea_cog.tif\n"
     ]
    },
    {
     "name": "stdout",
     "output_type": "stream",
     "text": [
      "cog:timesat_extracts/h19v04/LINT/LINT_h19v04_2015_s1_laea_cog.tif\n"
     ]
    },
    {
     "name": "stdout",
     "output_type": "stream",
     "text": [
      "cog:timesat_extracts/h19v04/LINT/LINT_h19v04_2016_s1_laea_cog.tif\n"
     ]
    },
    {
     "name": "stdout",
     "output_type": "stream",
     "text": [
      "cog:timesat_extracts/h19v04/LINT/LINT_h19v04_2017_s1_laea_cog.tif\n"
     ]
    },
    {
     "name": "stdout",
     "output_type": "stream",
     "text": [
      "cog:timesat_extracts/h19v04/LINT/LINT_h19v04_2018_s1_laea_cog.tif\n"
     ]
    },
    {
     "name": "stdout",
     "output_type": "stream",
     "text": [
      "cog:timesat_extracts/h19v04/LINT/LINT_h19v04_2019_s1_laea_cog.tif\n"
     ]
    },
    {
     "name": "stdout",
     "output_type": "stream",
     "text": [
      "cog:timesat_extracts/h19v04/LINT/LINT_h19v04_2020_s1_laea_cog.tif\n"
     ]
    },
    {
     "name": "stdout",
     "output_type": "stream",
     "text": [
      "cog:timesat_extracts/h19v04/SINT/SINT_h19v04_2000_s1_laea_cog.tif\n"
     ]
    },
    {
     "name": "stdout",
     "output_type": "stream",
     "text": [
      "cog:timesat_extracts/h19v04/SINT/SINT_h19v04_2001_s1_laea_cog.tif\n",
      "cog:timesat_extracts/h19v04/SINT/SINT_h19v04_2002_s1_laea_cog.tif\n"
     ]
    },
    {
     "name": "stdout",
     "output_type": "stream",
     "text": [
      "cog:timesat_extracts/h19v04/SINT/SINT_h19v04_2003_s1_laea_cog.tif\n"
     ]
    },
    {
     "name": "stdout",
     "output_type": "stream",
     "text": [
      "cog:timesat_extracts/h19v04/SINT/SINT_h19v04_2004_s1_laea_cog.tif\n"
     ]
    },
    {
     "name": "stdout",
     "output_type": "stream",
     "text": [
      "cog:timesat_extracts/h19v04/SINT/SINT_h19v04_2005_s1_laea_cog.tif\n"
     ]
    },
    {
     "name": "stdout",
     "output_type": "stream",
     "text": [
      "cog:timesat_extracts/h19v04/SINT/SINT_h19v04_2006_s1_laea_cog.tif\n"
     ]
    },
    {
     "name": "stdout",
     "output_type": "stream",
     "text": [
      "cog:timesat_extracts/h19v04/SINT/SINT_h19v04_2007_s1_laea_cog.tif\n"
     ]
    },
    {
     "name": "stdout",
     "output_type": "stream",
     "text": [
      "cog:timesat_extracts/h19v04/SINT/SINT_h19v04_2008_s1_laea_cog.tif\n"
     ]
    },
    {
     "name": "stdout",
     "output_type": "stream",
     "text": [
      "cog:timesat_extracts/h19v04/SINT/SINT_h19v04_2009_s1_laea_cog.tif\n"
     ]
    },
    {
     "name": "stdout",
     "output_type": "stream",
     "text": [
      "cog:timesat_extracts/h19v04/SINT/SINT_h19v04_2010_s1_laea_cog.tif\n",
      "cog:timesat_extracts/h19v04/SINT/SINT_h19v04_2011_s1_laea_cog.tif\n"
     ]
    },
    {
     "name": "stdout",
     "output_type": "stream",
     "text": [
      "cog:timesat_extracts/h19v04/SINT/SINT_h19v04_2012_s1_laea_cog.tif\n"
     ]
    },
    {
     "name": "stdout",
     "output_type": "stream",
     "text": [
      "cog:timesat_extracts/h19v04/SINT/SINT_h19v04_2013_s1_laea_cog.tif\n"
     ]
    },
    {
     "name": "stdout",
     "output_type": "stream",
     "text": [
      "cog:timesat_extracts/h19v04/SINT/SINT_h19v04_2014_s1_laea_cog.tif\n"
     ]
    },
    {
     "name": "stdout",
     "output_type": "stream",
     "text": [
      "cog:timesat_extracts/h19v04/SINT/SINT_h19v04_2015_s1_laea_cog.tif\n"
     ]
    },
    {
     "name": "stdout",
     "output_type": "stream",
     "text": [
      "cog:timesat_extracts/h19v04/SINT/SINT_h19v04_2016_s1_laea_cog.tif\n",
      "cog:timesat_extracts/h19v04/SINT/SINT_h19v04_2017_s1_laea_cog.tif\n"
     ]
    },
    {
     "name": "stdout",
     "output_type": "stream",
     "text": [
      "cog:timesat_extracts/h19v04/SINT/SINT_h19v04_2018_s1_laea_cog.tif\n"
     ]
    },
    {
     "name": "stdout",
     "output_type": "stream",
     "text": [
      "cog:timesat_extracts/h19v04/SINT/SINT_h19v04_2019_s1_laea_cog.tif\n"
     ]
    },
    {
     "name": "stdout",
     "output_type": "stream",
     "text": [
      "cog:timesat_extracts/h19v04/SINT/SINT_h19v04_2020_s1_laea_cog.tif\n"
     ]
    },
    {
     "name": "stdout",
     "output_type": "stream",
     "text": [
      "cog:timesat_extracts/h19v04/decrease_rate/decrease_rate_EOS_h19v04_2000_s1_laea_cog.tif\n"
     ]
    },
    {
     "name": "stdout",
     "output_type": "stream",
     "text": [
      "cog:timesat_extracts/h19v04/decrease_rate/decrease_rate_EOS_h19v04_2001_s1_laea_cog.tif\n"
     ]
    },
    {
     "name": "stdout",
     "output_type": "stream",
     "text": [
      "cog:timesat_extracts/h19v04/decrease_rate/decrease_rate_EOS_h19v04_2002_s1_laea_cog.tif\n"
     ]
    },
    {
     "name": "stdout",
     "output_type": "stream",
     "text": [
      "cog:timesat_extracts/h19v04/decrease_rate/decrease_rate_EOS_h19v04_2003_s1_laea_cog.tif\n"
     ]
    },
    {
     "name": "stdout",
     "output_type": "stream",
     "text": [
      "cog:timesat_extracts/h19v04/decrease_rate/decrease_rate_EOS_h19v04_2004_s1_laea_cog.tif\n",
      "cog:timesat_extracts/h19v04/decrease_rate/decrease_rate_EOS_h19v04_2005_s1_laea_cog.tif\n"
     ]
    },
    {
     "name": "stdout",
     "output_type": "stream",
     "text": [
      "cog:timesat_extracts/h19v04/decrease_rate/decrease_rate_EOS_h19v04_2006_s1_laea_cog.tif\n"
     ]
    },
    {
     "name": "stdout",
     "output_type": "stream",
     "text": [
      "cog:timesat_extracts/h19v04/decrease_rate/decrease_rate_EOS_h19v04_2007_s1_laea_cog.tif\n",
      "cog:timesat_extracts/h19v04/decrease_rate/decrease_rate_EOS_h19v04_2008_s1_laea_cog.tif\n"
     ]
    },
    {
     "name": "stdout",
     "output_type": "stream",
     "text": [
      "cog:timesat_extracts/h19v04/decrease_rate/decrease_rate_EOS_h19v04_2009_s1_laea_cog.tif\n"
     ]
    },
    {
     "name": "stdout",
     "output_type": "stream",
     "text": [
      "cog:timesat_extracts/h19v04/decrease_rate/decrease_rate_EOS_h19v04_2010_s1_laea_cog.tif\n"
     ]
    },
    {
     "name": "stdout",
     "output_type": "stream",
     "text": [
      "cog:timesat_extracts/h19v04/decrease_rate/decrease_rate_EOS_h19v04_2011_s1_laea_cog.tif\n",
      "cog:timesat_extracts/h19v04/decrease_rate/decrease_rate_EOS_h19v04_2012_s1_laea_cog.tif\n"
     ]
    },
    {
     "name": "stdout",
     "output_type": "stream",
     "text": [
      "cog:timesat_extracts/h19v04/decrease_rate/decrease_rate_EOS_h19v04_2013_s1_laea_cog.tif\n",
      "cog:timesat_extracts/h19v04/decrease_rate/decrease_rate_EOS_h19v04_2014_s1_laea_cog.tif\n"
     ]
    },
    {
     "name": "stdout",
     "output_type": "stream",
     "text": [
      "cog:timesat_extracts/h19v04/decrease_rate/decrease_rate_EOS_h19v04_2015_s1_laea_cog.tif\n",
      "cog:timesat_extracts/h19v04/decrease_rate/decrease_rate_EOS_h19v04_2016_s1_laea_cog.tif\n"
     ]
    },
    {
     "name": "stdout",
     "output_type": "stream",
     "text": [
      "cog:timesat_extracts/h19v04/decrease_rate/decrease_rate_EOS_h19v04_2017_s1_laea_cog.tif\n"
     ]
    },
    {
     "name": "stdout",
     "output_type": "stream",
     "text": [
      "cog:timesat_extracts/h19v04/decrease_rate/decrease_rate_EOS_h19v04_2018_s1_laea_cog.tif\n"
     ]
    },
    {
     "name": "stdout",
     "output_type": "stream",
     "text": [
      "cog:timesat_extracts/h19v04/decrease_rate/decrease_rate_EOS_h19v04_2019_s1_laea_cog.tif\n"
     ]
    },
    {
     "name": "stdout",
     "output_type": "stream",
     "text": [
      "cog:timesat_extracts/h19v04/decrease_rate/decrease_rate_EOS_h19v04_2020_s1_laea_cog.tif\n"
     ]
    },
    {
     "name": "stdout",
     "output_type": "stream",
     "text": [
      "cog:timesat_extracts/h19v04/eos/eos_h19v04_2000_s1_laea_cog.tif\n",
      "cog:timesat_extracts/h19v04/eos/eos_h19v04_2001_s1_laea_cog.tif\n"
     ]
    },
    {
     "name": "stdout",
     "output_type": "stream",
     "text": [
      "cog:timesat_extracts/h19v04/eos/eos_h19v04_2002_s1_laea_cog.tif\n",
      "cog:timesat_extracts/h19v04/eos/eos_h19v04_2003_s1_laea_cog.tif\n"
     ]
    },
    {
     "name": "stdout",
     "output_type": "stream",
     "text": [
      "cog:timesat_extracts/h19v04/eos/eos_h19v04_2004_s1_laea_cog.tif\n",
      "cog:timesat_extracts/h19v04/eos/eos_h19v04_2005_s1_laea_cog.tif\n"
     ]
    },
    {
     "name": "stdout",
     "output_type": "stream",
     "text": [
      "cog:timesat_extracts/h19v04/eos/eos_h19v04_2006_s1_laea_cog.tif\n",
      "cog:timesat_extracts/h19v04/eos/eos_h19v04_2007_s1_laea_cog.tif\n"
     ]
    },
    {
     "name": "stdout",
     "output_type": "stream",
     "text": [
      "cog:timesat_extracts/h19v04/eos/eos_h19v04_2008_s1_laea_cog.tif\n"
     ]
    },
    {
     "name": "stdout",
     "output_type": "stream",
     "text": [
      "cog:timesat_extracts/h19v04/eos/eos_h19v04_2009_s1_laea_cog.tif\n",
      "cog:timesat_extracts/h19v04/eos/eos_h19v04_2010_s1_laea_cog.tif\n"
     ]
    },
    {
     "name": "stdout",
     "output_type": "stream",
     "text": [
      "cog:timesat_extracts/h19v04/eos/eos_h19v04_2011_s1_laea_cog.tif\n",
      "cog:timesat_extracts/h19v04/eos/eos_h19v04_2012_s1_laea_cog.tif\n"
     ]
    },
    {
     "name": "stdout",
     "output_type": "stream",
     "text": [
      "cog:timesat_extracts/h19v04/eos/eos_h19v04_2013_s1_laea_cog.tif\n",
      "cog:timesat_extracts/h19v04/eos/eos_h19v04_2014_s1_laea_cog.tif\n"
     ]
    },
    {
     "name": "stdout",
     "output_type": "stream",
     "text": [
      "cog:timesat_extracts/h19v04/eos/eos_h19v04_2015_s1_laea_cog.tif\n",
      "cog:timesat_extracts/h19v04/eos/eos_h19v04_2016_s1_laea_cog.tif\n"
     ]
    },
    {
     "name": "stdout",
     "output_type": "stream",
     "text": [
      "cog:timesat_extracts/h19v04/eos/eos_h19v04_2017_s1_laea_cog.tif\n",
      "cog:timesat_extracts/h19v04/eos/eos_h19v04_2018_s1_laea_cog.tif\n"
     ]
    },
    {
     "name": "stdout",
     "output_type": "stream",
     "text": [
      "cog:timesat_extracts/h19v04/eos/eos_h19v04_2019_s1_laea_cog.tif\n"
     ]
    },
    {
     "name": "stdout",
     "output_type": "stream",
     "text": [
      "cog:timesat_extracts/h19v04/eos/eos_h19v04_2020_s1_laea_cog.tif\n",
      "cog:timesat_extracts/h19v04/eos_value/eos_value_h19v04_2000_s1_laea_cog.tif\n"
     ]
    },
    {
     "name": "stdout",
     "output_type": "stream",
     "text": [
      "cog:timesat_extracts/h19v04/eos_value/eos_value_h19v04_2001_s1_laea_cog.tif\n"
     ]
    },
    {
     "name": "stdout",
     "output_type": "stream",
     "text": [
      "cog:timesat_extracts/h19v04/eos_value/eos_value_h19v04_2002_s1_laea_cog.tif\n"
     ]
    },
    {
     "name": "stdout",
     "output_type": "stream",
     "text": [
      "cog:timesat_extracts/h19v04/eos_value/eos_value_h19v04_2003_s1_laea_cog.tif\n"
     ]
    },
    {
     "name": "stdout",
     "output_type": "stream",
     "text": [
      "cog:timesat_extracts/h19v04/eos_value/eos_value_h19v04_2004_s1_laea_cog.tif\n",
      "cog:timesat_extracts/h19v04/eos_value/eos_value_h19v04_2005_s1_laea_cog.tif\n"
     ]
    },
    {
     "name": "stdout",
     "output_type": "stream",
     "text": [
      "cog:timesat_extracts/h19v04/eos_value/eos_value_h19v04_2006_s1_laea_cog.tif\n"
     ]
    },
    {
     "name": "stdout",
     "output_type": "stream",
     "text": [
      "cog:timesat_extracts/h19v04/eos_value/eos_value_h19v04_2007_s1_laea_cog.tif\n"
     ]
    },
    {
     "name": "stdout",
     "output_type": "stream",
     "text": [
      "cog:timesat_extracts/h19v04/eos_value/eos_value_h19v04_2008_s1_laea_cog.tif\n"
     ]
    },
    {
     "name": "stdout",
     "output_type": "stream",
     "text": [
      "cog:timesat_extracts/h19v04/eos_value/eos_value_h19v04_2009_s1_laea_cog.tif\n"
     ]
    },
    {
     "name": "stdout",
     "output_type": "stream",
     "text": [
      "cog:timesat_extracts/h19v04/eos_value/eos_value_h19v04_2010_s1_laea_cog.tif\n",
      "cog:timesat_extracts/h19v04/eos_value/eos_value_h19v04_2011_s1_laea_cog.tif\n"
     ]
    },
    {
     "name": "stdout",
     "output_type": "stream",
     "text": [
      "cog:timesat_extracts/h19v04/eos_value/eos_value_h19v04_2012_s1_laea_cog.tif\n"
     ]
    },
    {
     "name": "stdout",
     "output_type": "stream",
     "text": [
      "cog:timesat_extracts/h19v04/eos_value/eos_value_h19v04_2013_s1_laea_cog.tif\n"
     ]
    },
    {
     "name": "stdout",
     "output_type": "stream",
     "text": [
      "cog:timesat_extracts/h19v04/eos_value/eos_value_h19v04_2014_s1_laea_cog.tif\n"
     ]
    },
    {
     "name": "stdout",
     "output_type": "stream",
     "text": [
      "cog:timesat_extracts/h19v04/eos_value/eos_value_h19v04_2015_s1_laea_cog.tif\n"
     ]
    },
    {
     "name": "stdout",
     "output_type": "stream",
     "text": [
      "cog:timesat_extracts/h19v04/eos_value/eos_value_h19v04_2016_s1_laea_cog.tif\n"
     ]
    },
    {
     "name": "stdout",
     "output_type": "stream",
     "text": [
      "cog:timesat_extracts/h19v04/eos_value/eos_value_h19v04_2017_s1_laea_cog.tif\n"
     ]
    },
    {
     "name": "stdout",
     "output_type": "stream",
     "text": [
      "cog:timesat_extracts/h19v04/eos_value/eos_value_h19v04_2018_s1_laea_cog.tif\n"
     ]
    },
    {
     "name": "stdout",
     "output_type": "stream",
     "text": [
      "cog:timesat_extracts/h19v04/eos_value/eos_value_h19v04_2019_s1_laea_cog.tif\n"
     ]
    },
    {
     "name": "stdout",
     "output_type": "stream",
     "text": [
      "cog:timesat_extracts/h19v04/eos_value/eos_value_h19v04_2020_s1_laea_cog.tif\n"
     ]
    },
    {
     "name": "stdout",
     "output_type": "stream",
     "text": [
      "cog:timesat_extracts/h19v04/increase_rate/increase_rate_SOS_h19v04_2000_s1_laea_cog.tif\n"
     ]
    },
    {
     "name": "stdout",
     "output_type": "stream",
     "text": [
      "cog:timesat_extracts/h19v04/increase_rate/increase_rate_SOS_h19v04_2001_s1_laea_cog.tif\n"
     ]
    },
    {
     "name": "stdout",
     "output_type": "stream",
     "text": [
      "cog:timesat_extracts/h19v04/increase_rate/increase_rate_SOS_h19v04_2002_s1_laea_cog.tif\n"
     ]
    },
    {
     "name": "stdout",
     "output_type": "stream",
     "text": [
      "cog:timesat_extracts/h19v04/increase_rate/increase_rate_SOS_h19v04_2003_s1_laea_cog.tif\n"
     ]
    },
    {
     "name": "stdout",
     "output_type": "stream",
     "text": [
      "cog:timesat_extracts/h19v04/increase_rate/increase_rate_SOS_h19v04_2004_s1_laea_cog.tif\n"
     ]
    },
    {
     "name": "stdout",
     "output_type": "stream",
     "text": [
      "cog:timesat_extracts/h19v04/increase_rate/increase_rate_SOS_h19v04_2005_s1_laea_cog.tif\n",
      "cog:timesat_extracts/h19v04/increase_rate/increase_rate_SOS_h19v04_2006_s1_laea_cog.tif\n"
     ]
    },
    {
     "name": "stdout",
     "output_type": "stream",
     "text": [
      "cog:timesat_extracts/h19v04/increase_rate/increase_rate_SOS_h19v04_2007_s1_laea_cog.tif\n"
     ]
    },
    {
     "name": "stdout",
     "output_type": "stream",
     "text": [
      "cog:timesat_extracts/h19v04/increase_rate/increase_rate_SOS_h19v04_2008_s1_laea_cog.tif\n"
     ]
    },
    {
     "name": "stdout",
     "output_type": "stream",
     "text": [
      "cog:timesat_extracts/h19v04/increase_rate/increase_rate_SOS_h19v04_2009_s1_laea_cog.tif\n"
     ]
    },
    {
     "name": "stdout",
     "output_type": "stream",
     "text": [
      "cog:timesat_extracts/h19v04/increase_rate/increase_rate_SOS_h19v04_2010_s1_laea_cog.tif\n"
     ]
    },
    {
     "name": "stdout",
     "output_type": "stream",
     "text": [
      "cog:timesat_extracts/h19v04/increase_rate/increase_rate_SOS_h19v04_2011_s1_laea_cog.tif\n"
     ]
    },
    {
     "name": "stdout",
     "output_type": "stream",
     "text": [
      "cog:timesat_extracts/h19v04/increase_rate/increase_rate_SOS_h19v04_2012_s1_laea_cog.tif\n"
     ]
    },
    {
     "name": "stdout",
     "output_type": "stream",
     "text": [
      "cog:timesat_extracts/h19v04/increase_rate/increase_rate_SOS_h19v04_2013_s1_laea_cog.tif\n",
      "cog:timesat_extracts/h19v04/increase_rate/increase_rate_SOS_h19v04_2014_s1_laea_cog.tif\n"
     ]
    },
    {
     "name": "stdout",
     "output_type": "stream",
     "text": [
      "cog:timesat_extracts/h19v04/increase_rate/increase_rate_SOS_h19v04_2015_s1_laea_cog.tif\n"
     ]
    },
    {
     "name": "stdout",
     "output_type": "stream",
     "text": [
      "cog:timesat_extracts/h19v04/increase_rate/increase_rate_SOS_h19v04_2016_s1_laea_cog.tif\n"
     ]
    },
    {
     "name": "stdout",
     "output_type": "stream",
     "text": [
      "cog:timesat_extracts/h19v04/increase_rate/increase_rate_SOS_h19v04_2017_s1_laea_cog.tif\n"
     ]
    },
    {
     "name": "stdout",
     "output_type": "stream",
     "text": [
      "cog:timesat_extracts/h19v04/increase_rate/increase_rate_SOS_h19v04_2018_s1_laea_cog.tif\n"
     ]
    },
    {
     "name": "stdout",
     "output_type": "stream",
     "text": [
      "cog:timesat_extracts/h19v04/increase_rate/increase_rate_SOS_h19v04_2019_s1_laea_cog.tif\n"
     ]
    },
    {
     "name": "stdout",
     "output_type": "stream",
     "text": [
      "cog:timesat_extracts/h19v04/increase_rate/increase_rate_SOS_h19v04_2020_s1_laea_cog.tif\n"
     ]
    },
    {
     "name": "stdout",
     "output_type": "stream",
     "text": [
      "cog:timesat_extracts/h19v04/length_of_season/los_h19v04_2000_s1_laea_cog.tif\n",
      "cog:timesat_extracts/h19v04/length_of_season/los_h19v04_2001_s1_laea_cog.tif\n"
     ]
    },
    {
     "name": "stdout",
     "output_type": "stream",
     "text": [
      "cog:timesat_extracts/h19v04/length_of_season/los_h19v04_2002_s1_laea_cog.tif\n",
      "cog:timesat_extracts/h19v04/length_of_season/los_h19v04_2003_s1_laea_cog.tif\n"
     ]
    },
    {
     "name": "stdout",
     "output_type": "stream",
     "text": [
      "cog:timesat_extracts/h19v04/length_of_season/los_h19v04_2004_s1_laea_cog.tif\n",
      "cog:timesat_extracts/h19v04/length_of_season/los_h19v04_2005_s1_laea_cog.tif\n"
     ]
    },
    {
     "name": "stdout",
     "output_type": "stream",
     "text": [
      "cog:timesat_extracts/h19v04/length_of_season/los_h19v04_2006_s1_laea_cog.tif\n"
     ]
    },
    {
     "name": "stdout",
     "output_type": "stream",
     "text": [
      "cog:timesat_extracts/h19v04/length_of_season/los_h19v04_2007_s1_laea_cog.tif\n",
      "cog:timesat_extracts/h19v04/length_of_season/los_h19v04_2008_s1_laea_cog.tif\n"
     ]
    },
    {
     "name": "stdout",
     "output_type": "stream",
     "text": [
      "cog:timesat_extracts/h19v04/length_of_season/los_h19v04_2009_s1_laea_cog.tif\n",
      "cog:timesat_extracts/h19v04/length_of_season/los_h19v04_2010_s1_laea_cog.tif\n"
     ]
    },
    {
     "name": "stdout",
     "output_type": "stream",
     "text": [
      "cog:timesat_extracts/h19v04/length_of_season/los_h19v04_2011_s1_laea_cog.tif\n"
     ]
    },
    {
     "name": "stdout",
     "output_type": "stream",
     "text": [
      "cog:timesat_extracts/h19v04/length_of_season/los_h19v04_2012_s1_laea_cog.tif\n",
      "cog:timesat_extracts/h19v04/length_of_season/los_h19v04_2013_s1_laea_cog.tif\n"
     ]
    },
    {
     "name": "stdout",
     "output_type": "stream",
     "text": [
      "cog:timesat_extracts/h19v04/length_of_season/los_h19v04_2014_s1_laea_cog.tif\n",
      "cog:timesat_extracts/h19v04/length_of_season/los_h19v04_2015_s1_laea_cog.tif\n"
     ]
    },
    {
     "name": "stdout",
     "output_type": "stream",
     "text": [
      "cog:timesat_extracts/h19v04/length_of_season/los_h19v04_2016_s1_laea_cog.tif\n",
      "cog:timesat_extracts/h19v04/length_of_season/los_h19v04_2017_s1_laea_cog.tif\n"
     ]
    },
    {
     "name": "stdout",
     "output_type": "stream",
     "text": [
      "cog:timesat_extracts/h19v04/length_of_season/los_h19v04_2018_s1_laea_cog.tif\n",
      "cog:timesat_extracts/h19v04/length_of_season/los_h19v04_2019_s1_laea_cog.tif\n"
     ]
    },
    {
     "name": "stdout",
     "output_type": "stream",
     "text": [
      "cog:timesat_extracts/h19v04/length_of_season/los_h19v04_2020_s1_laea_cog.tif\n",
      "cog:timesat_extracts/h19v04/seasonal_amplitude/s_amplitude_h19v04_2000_s1_laea_cog.tif\n"
     ]
    },
    {
     "name": "stdout",
     "output_type": "stream",
     "text": [
      "cog:timesat_extracts/h19v04/seasonal_amplitude/s_amplitude_h19v04_2001_s1_laea_cog.tif\n"
     ]
    },
    {
     "name": "stdout",
     "output_type": "stream",
     "text": [
      "cog:timesat_extracts/h19v04/seasonal_amplitude/s_amplitude_h19v04_2002_s1_laea_cog.tif\n"
     ]
    },
    {
     "name": "stdout",
     "output_type": "stream",
     "text": [
      "cog:timesat_extracts/h19v04/seasonal_amplitude/s_amplitude_h19v04_2003_s1_laea_cog.tif\n"
     ]
    },
    {
     "name": "stdout",
     "output_type": "stream",
     "text": [
      "cog:timesat_extracts/h19v04/seasonal_amplitude/s_amplitude_h19v04_2004_s1_laea_cog.tif\n"
     ]
    },
    {
     "name": "stdout",
     "output_type": "stream",
     "text": [
      "cog:timesat_extracts/h19v04/seasonal_amplitude/s_amplitude_h19v04_2005_s1_laea_cog.tif\n"
     ]
    },
    {
     "name": "stdout",
     "output_type": "stream",
     "text": [
      "cog:timesat_extracts/h19v04/seasonal_amplitude/s_amplitude_h19v04_2006_s1_laea_cog.tif\n"
     ]
    },
    {
     "name": "stdout",
     "output_type": "stream",
     "text": [
      "cog:timesat_extracts/h19v04/seasonal_amplitude/s_amplitude_h19v04_2007_s1_laea_cog.tif\n"
     ]
    },
    {
     "name": "stdout",
     "output_type": "stream",
     "text": [
      "cog:timesat_extracts/h19v04/seasonal_amplitude/s_amplitude_h19v04_2008_s1_laea_cog.tif\n"
     ]
    },
    {
     "name": "stdout",
     "output_type": "stream",
     "text": [
      "cog:timesat_extracts/h19v04/seasonal_amplitude/s_amplitude_h19v04_2009_s1_laea_cog.tif\n"
     ]
    },
    {
     "name": "stdout",
     "output_type": "stream",
     "text": [
      "cog:timesat_extracts/h19v04/seasonal_amplitude/s_amplitude_h19v04_2010_s1_laea_cog.tif\n"
     ]
    },
    {
     "name": "stdout",
     "output_type": "stream",
     "text": [
      "cog:timesat_extracts/h19v04/seasonal_amplitude/s_amplitude_h19v04_2011_s1_laea_cog.tif\n"
     ]
    },
    {
     "name": "stdout",
     "output_type": "stream",
     "text": [
      "cog:timesat_extracts/h19v04/seasonal_amplitude/s_amplitude_h19v04_2012_s1_laea_cog.tif\n"
     ]
    },
    {
     "name": "stdout",
     "output_type": "stream",
     "text": [
      "cog:timesat_extracts/h19v04/seasonal_amplitude/s_amplitude_h19v04_2013_s1_laea_cog.tif\n"
     ]
    },
    {
     "name": "stdout",
     "output_type": "stream",
     "text": [
      "cog:timesat_extracts/h19v04/seasonal_amplitude/s_amplitude_h19v04_2014_s1_laea_cog.tif\n"
     ]
    },
    {
     "name": "stdout",
     "output_type": "stream",
     "text": [
      "cog:timesat_extracts/h19v04/seasonal_amplitude/s_amplitude_h19v04_2015_s1_laea_cog.tif\n"
     ]
    },
    {
     "name": "stdout",
     "output_type": "stream",
     "text": [
      "cog:timesat_extracts/h19v04/seasonal_amplitude/s_amplitude_h19v04_2016_s1_laea_cog.tif\n"
     ]
    },
    {
     "name": "stdout",
     "output_type": "stream",
     "text": [
      "cog:timesat_extracts/h19v04/seasonal_amplitude/s_amplitude_h19v04_2017_s1_laea_cog.tif\n"
     ]
    },
    {
     "name": "stdout",
     "output_type": "stream",
     "text": [
      "cog:timesat_extracts/h19v04/seasonal_amplitude/s_amplitude_h19v04_2018_s1_laea_cog.tif\n"
     ]
    },
    {
     "name": "stdout",
     "output_type": "stream",
     "text": [
      "cog:timesat_extracts/h19v04/seasonal_amplitude/s_amplitude_h19v04_2019_s1_laea_cog.tif\n"
     ]
    },
    {
     "name": "stdout",
     "output_type": "stream",
     "text": [
      "cog:timesat_extracts/h19v04/seasonal_amplitude/s_amplitude_h19v04_2020_s1_laea_cog.tif\n"
     ]
    },
    {
     "name": "stdout",
     "output_type": "stream",
     "text": [
      "cog:timesat_extracts/h19v04/sos/sos_h19v04_2000_s1_laea_cog.tif\n",
      "cog:timesat_extracts/h19v04/sos/sos_h19v04_2001_s1_laea_cog.tif\n"
     ]
    },
    {
     "name": "stdout",
     "output_type": "stream",
     "text": [
      "cog:timesat_extracts/h19v04/sos/sos_h19v04_2002_s1_laea_cog.tif\n"
     ]
    },
    {
     "name": "stdout",
     "output_type": "stream",
     "text": [
      "cog:timesat_extracts/h19v04/sos/sos_h19v04_2003_s1_laea_cog.tif\n",
      "cog:timesat_extracts/h19v04/sos/sos_h19v04_2004_s1_laea_cog.tif\n"
     ]
    },
    {
     "name": "stdout",
     "output_type": "stream",
     "text": [
      "cog:timesat_extracts/h19v04/sos/sos_h19v04_2005_s1_laea_cog.tif\n",
      "cog:timesat_extracts/h19v04/sos/sos_h19v04_2006_s1_laea_cog.tif\n"
     ]
    },
    {
     "name": "stdout",
     "output_type": "stream",
     "text": [
      "cog:timesat_extracts/h19v04/sos/sos_h19v04_2007_s1_laea_cog.tif\n",
      "cog:timesat_extracts/h19v04/sos/sos_h19v04_2008_s1_laea_cog.tif\n"
     ]
    },
    {
     "name": "stdout",
     "output_type": "stream",
     "text": [
      "cog:timesat_extracts/h19v04/sos/sos_h19v04_2009_s1_laea_cog.tif\n",
      "cog:timesat_extracts/h19v04/sos/sos_h19v04_2010_s1_laea_cog.tif\n"
     ]
    },
    {
     "name": "stdout",
     "output_type": "stream",
     "text": [
      "cog:timesat_extracts/h19v04/sos/sos_h19v04_2011_s1_laea_cog.tif\n",
      "cog:timesat_extracts/h19v04/sos/sos_h19v04_2012_s1_laea_cog.tif\n"
     ]
    },
    {
     "name": "stdout",
     "output_type": "stream",
     "text": [
      "cog:timesat_extracts/h19v04/sos/sos_h19v04_2013_s1_laea_cog.tif\n"
     ]
    },
    {
     "name": "stdout",
     "output_type": "stream",
     "text": [
      "cog:timesat_extracts/h19v04/sos/sos_h19v04_2014_s1_laea_cog.tif\n",
      "cog:timesat_extracts/h19v04/sos/sos_h19v04_2015_s1_laea_cog.tif\n"
     ]
    },
    {
     "name": "stdout",
     "output_type": "stream",
     "text": [
      "cog:timesat_extracts/h19v04/sos/sos_h19v04_2016_s1_laea_cog.tif\n",
      "cog:timesat_extracts/h19v04/sos/sos_h19v04_2017_s1_laea_cog.tif\n"
     ]
    },
    {
     "name": "stdout",
     "output_type": "stream",
     "text": [
      "cog:timesat_extracts/h19v04/sos/sos_h19v04_2018_s1_laea_cog.tif\n",
      "cog:timesat_extracts/h19v04/sos/sos_h19v04_2019_s1_laea_cog.tif\n"
     ]
    },
    {
     "name": "stdout",
     "output_type": "stream",
     "text": [
      "cog:timesat_extracts/h19v04/sos/sos_h19v04_2020_s1_laea_cog.tif\n",
      "cog:timesat_extracts/h19v04/sos_value/sos_value_h19v04_2000_s1_laea_cog.tif\n"
     ]
    },
    {
     "name": "stdout",
     "output_type": "stream",
     "text": [
      "cog:timesat_extracts/h19v04/sos_value/sos_value_h19v04_2001_s1_laea_cog.tif\n"
     ]
    },
    {
     "name": "stdout",
     "output_type": "stream",
     "text": [
      "cog:timesat_extracts/h19v04/sos_value/sos_value_h19v04_2002_s1_laea_cog.tif\n"
     ]
    },
    {
     "name": "stdout",
     "output_type": "stream",
     "text": [
      "cog:timesat_extracts/h19v04/sos_value/sos_value_h19v04_2003_s1_laea_cog.tif\n"
     ]
    },
    {
     "name": "stdout",
     "output_type": "stream",
     "text": [
      "cog:timesat_extracts/h19v04/sos_value/sos_value_h19v04_2004_s1_laea_cog.tif\n"
     ]
    },
    {
     "name": "stdout",
     "output_type": "stream",
     "text": [
      "cog:timesat_extracts/h19v04/sos_value/sos_value_h19v04_2005_s1_laea_cog.tif\n"
     ]
    },
    {
     "name": "stdout",
     "output_type": "stream",
     "text": [
      "cog:timesat_extracts/h19v04/sos_value/sos_value_h19v04_2006_s1_laea_cog.tif\n"
     ]
    },
    {
     "name": "stdout",
     "output_type": "stream",
     "text": [
      "cog:timesat_extracts/h19v04/sos_value/sos_value_h19v04_2007_s1_laea_cog.tif\n"
     ]
    },
    {
     "name": "stdout",
     "output_type": "stream",
     "text": [
      "cog:timesat_extracts/h19v04/sos_value/sos_value_h19v04_2008_s1_laea_cog.tif\n"
     ]
    },
    {
     "name": "stdout",
     "output_type": "stream",
     "text": [
      "cog:timesat_extracts/h19v04/sos_value/sos_value_h19v04_2009_s1_laea_cog.tif\n"
     ]
    },
    {
     "name": "stdout",
     "output_type": "stream",
     "text": [
      "cog:timesat_extracts/h19v04/sos_value/sos_value_h19v04_2010_s1_laea_cog.tif\n"
     ]
    },
    {
     "name": "stdout",
     "output_type": "stream",
     "text": [
      "cog:timesat_extracts/h19v04/sos_value/sos_value_h19v04_2011_s1_laea_cog.tif\n"
     ]
    },
    {
     "name": "stdout",
     "output_type": "stream",
     "text": [
      "cog:timesat_extracts/h19v04/sos_value/sos_value_h19v04_2012_s1_laea_cog.tif\n"
     ]
    },
    {
     "name": "stdout",
     "output_type": "stream",
     "text": [
      "cog:timesat_extracts/h19v04/sos_value/sos_value_h19v04_2013_s1_laea_cog.tif\n"
     ]
    },
    {
     "name": "stdout",
     "output_type": "stream",
     "text": [
      "cog:timesat_extracts/h19v04/sos_value/sos_value_h19v04_2014_s1_laea_cog.tif\n",
      "cog:timesat_extracts/h19v04/sos_value/sos_value_h19v04_2015_s1_laea_cog.tif\n"
     ]
    },
    {
     "name": "stdout",
     "output_type": "stream",
     "text": [
      "cog:timesat_extracts/h19v04/sos_value/sos_value_h19v04_2016_s1_laea_cog.tif\n"
     ]
    },
    {
     "name": "stdout",
     "output_type": "stream",
     "text": [
      "cog:timesat_extracts/h19v04/sos_value/sos_value_h19v04_2017_s1_laea_cog.tif\n"
     ]
    },
    {
     "name": "stdout",
     "output_type": "stream",
     "text": [
      "cog:timesat_extracts/h19v04/sos_value/sos_value_h19v04_2018_s1_laea_cog.tif\n"
     ]
    },
    {
     "name": "stdout",
     "output_type": "stream",
     "text": [
      "cog:timesat_extracts/h19v04/sos_value/sos_value_h19v04_2019_s1_laea_cog.tif\n"
     ]
    },
    {
     "name": "stdout",
     "output_type": "stream",
     "text": [
      "cog:timesat_extracts/h19v04/sos_value/sos_value_h19v04_2020_s1_laea_cog.tif\n"
     ]
    },
    {
     "name": "stdout",
     "output_type": "stream",
     "text": [
      "cog:timesat_extracts/h19v05/LINT/LINT_h19v05_2000_s1_laea_cog.tif\n",
      "cog:timesat_extracts/h19v05/LINT/LINT_h19v05_2001_s1_laea_cog.tif\n"
     ]
    },
    {
     "name": "stdout",
     "output_type": "stream",
     "text": [
      "cog:timesat_extracts/h19v05/LINT/LINT_h19v05_2002_s1_laea_cog.tif\n",
      "cog:timesat_extracts/h19v05/LINT/LINT_h19v05_2003_s1_laea_cog.tif\n"
     ]
    },
    {
     "name": "stdout",
     "output_type": "stream",
     "text": [
      "cog:timesat_extracts/h19v05/LINT/LINT_h19v05_2004_s1_laea_cog.tif\n",
      "cog:timesat_extracts/h19v05/LINT/LINT_h19v05_2005_s1_laea_cog.tif\n"
     ]
    },
    {
     "name": "stdout",
     "output_type": "stream",
     "text": [
      "cog:timesat_extracts/h19v05/LINT/LINT_h19v05_2006_s1_laea_cog.tif\n",
      "cog:timesat_extracts/h19v05/LINT/LINT_h19v05_2007_s1_laea_cog.tif\n"
     ]
    },
    {
     "name": "stdout",
     "output_type": "stream",
     "text": [
      "cog:timesat_extracts/h19v05/LINT/LINT_h19v05_2008_s1_laea_cog.tif\n"
     ]
    },
    {
     "name": "stdout",
     "output_type": "stream",
     "text": [
      "cog:timesat_extracts/h19v05/LINT/LINT_h19v05_2009_s1_laea_cog.tif\n"
     ]
    },
    {
     "name": "stdout",
     "output_type": "stream",
     "text": [
      "cog:timesat_extracts/h19v05/LINT/LINT_h19v05_2010_s1_laea_cog.tif\n"
     ]
    },
    {
     "name": "stdout",
     "output_type": "stream",
     "text": [
      "cog:timesat_extracts/h19v05/LINT/LINT_h19v05_2011_s1_laea_cog.tif\n",
      "cog:timesat_extracts/h19v05/LINT/LINT_h19v05_2012_s1_laea_cog.tif\n"
     ]
    },
    {
     "name": "stdout",
     "output_type": "stream",
     "text": [
      "cog:timesat_extracts/h19v05/LINT/LINT_h19v05_2013_s1_laea_cog.tif\n",
      "cog:timesat_extracts/h19v05/LINT/LINT_h19v05_2014_s1_laea_cog.tif\n"
     ]
    },
    {
     "name": "stdout",
     "output_type": "stream",
     "text": [
      "cog:timesat_extracts/h19v05/LINT/LINT_h19v05_2015_s1_laea_cog.tif\n",
      "cog:timesat_extracts/h19v05/LINT/LINT_h19v05_2016_s1_laea_cog.tif\n"
     ]
    },
    {
     "name": "stdout",
     "output_type": "stream",
     "text": [
      "cog:timesat_extracts/h19v05/LINT/LINT_h19v05_2017_s1_laea_cog.tif\n",
      "cog:timesat_extracts/h19v05/LINT/LINT_h19v05_2018_s1_laea_cog.tif\n"
     ]
    },
    {
     "name": "stdout",
     "output_type": "stream",
     "text": [
      "cog:timesat_extracts/h19v05/LINT/LINT_h19v05_2019_s1_laea_cog.tif\n",
      "cog:timesat_extracts/h19v05/LINT/LINT_h19v05_2020_s1_laea_cog.tif\n"
     ]
    },
    {
     "name": "stdout",
     "output_type": "stream",
     "text": [
      "cog:timesat_extracts/h19v05/SINT/SINT_h19v05_2000_s1_laea_cog.tif\n",
      "cog:timesat_extracts/h19v05/SINT/SINT_h19v05_2001_s1_laea_cog.tif\n"
     ]
    },
    {
     "name": "stdout",
     "output_type": "stream",
     "text": [
      "cog:timesat_extracts/h19v05/SINT/SINT_h19v05_2002_s1_laea_cog.tif\n",
      "cog:timesat_extracts/h19v05/SINT/SINT_h19v05_2003_s1_laea_cog.tif\n"
     ]
    },
    {
     "name": "stdout",
     "output_type": "stream",
     "text": [
      "cog:timesat_extracts/h19v05/SINT/SINT_h19v05_2004_s1_laea_cog.tif\n",
      "cog:timesat_extracts/h19v05/SINT/SINT_h19v05_2005_s1_laea_cog.tif\n"
     ]
    },
    {
     "name": "stdout",
     "output_type": "stream",
     "text": [
      "cog:timesat_extracts/h19v05/SINT/SINT_h19v05_2006_s1_laea_cog.tif\n"
     ]
    },
    {
     "name": "stdout",
     "output_type": "stream",
     "text": [
      "cog:timesat_extracts/h19v05/SINT/SINT_h19v05_2007_s1_laea_cog.tif\n",
      "cog:timesat_extracts/h19v05/SINT/SINT_h19v05_2008_s1_laea_cog.tif\n"
     ]
    },
    {
     "name": "stdout",
     "output_type": "stream",
     "text": [
      "cog:timesat_extracts/h19v05/SINT/SINT_h19v05_2009_s1_laea_cog.tif\n",
      "cog:timesat_extracts/h19v05/SINT/SINT_h19v05_2010_s1_laea_cog.tif\n"
     ]
    },
    {
     "name": "stdout",
     "output_type": "stream",
     "text": [
      "cog:timesat_extracts/h19v05/SINT/SINT_h19v05_2011_s1_laea_cog.tif\n",
      "cog:timesat_extracts/h19v05/SINT/SINT_h19v05_2012_s1_laea_cog.tif\n"
     ]
    },
    {
     "name": "stdout",
     "output_type": "stream",
     "text": [
      "cog:timesat_extracts/h19v05/SINT/SINT_h19v05_2013_s1_laea_cog.tif\n",
      "cog:timesat_extracts/h19v05/SINT/SINT_h19v05_2014_s1_laea_cog.tif\n"
     ]
    },
    {
     "name": "stdout",
     "output_type": "stream",
     "text": [
      "cog:timesat_extracts/h19v05/SINT/SINT_h19v05_2015_s1_laea_cog.tif\n",
      "cog:timesat_extracts/h19v05/SINT/SINT_h19v05_2016_s1_laea_cog.tif\n"
     ]
    },
    {
     "name": "stdout",
     "output_type": "stream",
     "text": [
      "cog:timesat_extracts/h19v05/SINT/SINT_h19v05_2017_s1_laea_cog.tif\n",
      "cog:timesat_extracts/h19v05/SINT/SINT_h19v05_2018_s1_laea_cog.tif\n"
     ]
    },
    {
     "name": "stdout",
     "output_type": "stream",
     "text": [
      "cog:timesat_extracts/h19v05/SINT/SINT_h19v05_2019_s1_laea_cog.tif\n",
      "cog:timesat_extracts/h19v05/SINT/SINT_h19v05_2020_s1_laea_cog.tif\n"
     ]
    },
    {
     "name": "stdout",
     "output_type": "stream",
     "text": [
      "cog:timesat_extracts/h19v05/decrease_rate/decrease_rate_EOS_h19v05_2000_s1_laea_cog.tif\n",
      "cog:timesat_extracts/h19v05/decrease_rate/decrease_rate_EOS_h19v05_2001_s1_laea_cog.tif\n"
     ]
    },
    {
     "name": "stdout",
     "output_type": "stream",
     "text": [
      "cog:timesat_extracts/h19v05/decrease_rate/decrease_rate_EOS_h19v05_2002_s1_laea_cog.tif\n",
      "cog:timesat_extracts/h19v05/decrease_rate/decrease_rate_EOS_h19v05_2003_s1_laea_cog.tif\n"
     ]
    },
    {
     "name": "stdout",
     "output_type": "stream",
     "text": [
      "cog:timesat_extracts/h19v05/decrease_rate/decrease_rate_EOS_h19v05_2004_s1_laea_cog.tif\n",
      "cog:timesat_extracts/h19v05/decrease_rate/decrease_rate_EOS_h19v05_2005_s1_laea_cog.tif\n"
     ]
    },
    {
     "name": "stdout",
     "output_type": "stream",
     "text": [
      "cog:timesat_extracts/h19v05/decrease_rate/decrease_rate_EOS_h19v05_2006_s1_laea_cog.tif\n",
      "cog:timesat_extracts/h19v05/decrease_rate/decrease_rate_EOS_h19v05_2007_s1_laea_cog.tif\n"
     ]
    },
    {
     "name": "stdout",
     "output_type": "stream",
     "text": [
      "cog:timesat_extracts/h19v05/decrease_rate/decrease_rate_EOS_h19v05_2008_s1_laea_cog.tif\n",
      "cog:timesat_extracts/h19v05/decrease_rate/decrease_rate_EOS_h19v05_2009_s1_laea_cog.tif\n"
     ]
    },
    {
     "name": "stdout",
     "output_type": "stream",
     "text": [
      "cog:timesat_extracts/h19v05/decrease_rate/decrease_rate_EOS_h19v05_2010_s1_laea_cog.tif\n",
      "cog:timesat_extracts/h19v05/decrease_rate/decrease_rate_EOS_h19v05_2011_s1_laea_cog.tif\n"
     ]
    },
    {
     "name": "stdout",
     "output_type": "stream",
     "text": [
      "cog:timesat_extracts/h19v05/decrease_rate/decrease_rate_EOS_h19v05_2012_s1_laea_cog.tif\n",
      "cog:timesat_extracts/h19v05/decrease_rate/decrease_rate_EOS_h19v05_2013_s1_laea_cog.tif\n"
     ]
    },
    {
     "name": "stdout",
     "output_type": "stream",
     "text": [
      "cog:timesat_extracts/h19v05/decrease_rate/decrease_rate_EOS_h19v05_2014_s1_laea_cog.tif\n"
     ]
    },
    {
     "name": "stdout",
     "output_type": "stream",
     "text": [
      "cog:timesat_extracts/h19v05/decrease_rate/decrease_rate_EOS_h19v05_2015_s1_laea_cog.tif\n",
      "cog:timesat_extracts/h19v05/decrease_rate/decrease_rate_EOS_h19v05_2016_s1_laea_cog.tif\n"
     ]
    },
    {
     "name": "stdout",
     "output_type": "stream",
     "text": [
      "cog:timesat_extracts/h19v05/decrease_rate/decrease_rate_EOS_h19v05_2017_s1_laea_cog.tif\n",
      "cog:timesat_extracts/h19v05/decrease_rate/decrease_rate_EOS_h19v05_2018_s1_laea_cog.tif\n"
     ]
    },
    {
     "name": "stdout",
     "output_type": "stream",
     "text": [
      "cog:timesat_extracts/h19v05/decrease_rate/decrease_rate_EOS_h19v05_2019_s1_laea_cog.tif\n",
      "cog:timesat_extracts/h19v05/decrease_rate/decrease_rate_EOS_h19v05_2020_s1_laea_cog.tif\n"
     ]
    },
    {
     "name": "stdout",
     "output_type": "stream",
     "text": [
      "cog:timesat_extracts/h19v05/eos/eos_h19v05_2000_s1_laea_cog.tif\n",
      "cog:timesat_extracts/h19v05/eos/eos_h19v05_2001_s1_laea_cog.tif\n"
     ]
    },
    {
     "name": "stdout",
     "output_type": "stream",
     "text": [
      "cog:timesat_extracts/h19v05/eos/eos_h19v05_2002_s1_laea_cog.tif\n",
      "cog:timesat_extracts/h19v05/eos/eos_h19v05_2003_s1_laea_cog.tif\n"
     ]
    },
    {
     "name": "stdout",
     "output_type": "stream",
     "text": [
      "cog:timesat_extracts/h19v05/eos/eos_h19v05_2004_s1_laea_cog.tif\n",
      "cog:timesat_extracts/h19v05/eos/eos_h19v05_2005_s1_laea_cog.tif\n"
     ]
    },
    {
     "name": "stdout",
     "output_type": "stream",
     "text": [
      "cog:timesat_extracts/h19v05/eos/eos_h19v05_2006_s1_laea_cog.tif\n",
      "cog:timesat_extracts/h19v05/eos/eos_h19v05_2007_s1_laea_cog.tif\n"
     ]
    },
    {
     "name": "stdout",
     "output_type": "stream",
     "text": [
      "cog:timesat_extracts/h19v05/eos/eos_h19v05_2008_s1_laea_cog.tif\n",
      "cog:timesat_extracts/h19v05/eos/eos_h19v05_2009_s1_laea_cog.tif\n"
     ]
    },
    {
     "name": "stdout",
     "output_type": "stream",
     "text": [
      "cog:timesat_extracts/h19v05/eos/eos_h19v05_2010_s1_laea_cog.tif\n",
      "cog:timesat_extracts/h19v05/eos/eos_h19v05_2011_s1_laea_cog.tif\n"
     ]
    },
    {
     "name": "stdout",
     "output_type": "stream",
     "text": [
      "cog:timesat_extracts/h19v05/eos/eos_h19v05_2012_s1_laea_cog.tif\n",
      "cog:timesat_extracts/h19v05/eos/eos_h19v05_2013_s1_laea_cog.tif\n"
     ]
    },
    {
     "name": "stdout",
     "output_type": "stream",
     "text": [
      "cog:timesat_extracts/h19v05/eos/eos_h19v05_2014_s1_laea_cog.tif\n",
      "cog:timesat_extracts/h19v05/eos/eos_h19v05_2015_s1_laea_cog.tif\n"
     ]
    },
    {
     "name": "stdout",
     "output_type": "stream",
     "text": [
      "cog:timesat_extracts/h19v05/eos/eos_h19v05_2016_s1_laea_cog.tif\n",
      "cog:timesat_extracts/h19v05/eos/eos_h19v05_2017_s1_laea_cog.tif\n"
     ]
    },
    {
     "name": "stdout",
     "output_type": "stream",
     "text": [
      "cog:timesat_extracts/h19v05/eos/eos_h19v05_2018_s1_laea_cog.tif\n",
      "cog:timesat_extracts/h19v05/eos/eos_h19v05_2019_s1_laea_cog.tif\n"
     ]
    },
    {
     "name": "stdout",
     "output_type": "stream",
     "text": [
      "cog:timesat_extracts/h19v05/eos/eos_h19v05_2020_s1_laea_cog.tif\n",
      "cog:timesat_extracts/h19v05/eos_value/eos_value_h19v05_2000_s1_laea_cog.tif\n"
     ]
    },
    {
     "name": "stdout",
     "output_type": "stream",
     "text": [
      "cog:timesat_extracts/h19v05/eos_value/eos_value_h19v05_2001_s1_laea_cog.tif\n",
      "cog:timesat_extracts/h19v05/eos_value/eos_value_h19v05_2002_s1_laea_cog.tif\n"
     ]
    },
    {
     "name": "stdout",
     "output_type": "stream",
     "text": [
      "cog:timesat_extracts/h19v05/eos_value/eos_value_h19v05_2003_s1_laea_cog.tif\n",
      "cog:timesat_extracts/h19v05/eos_value/eos_value_h19v05_2004_s1_laea_cog.tif\n"
     ]
    },
    {
     "name": "stdout",
     "output_type": "stream",
     "text": [
      "cog:timesat_extracts/h19v05/eos_value/eos_value_h19v05_2005_s1_laea_cog.tif\n"
     ]
    },
    {
     "name": "stdout",
     "output_type": "stream",
     "text": [
      "cog:timesat_extracts/h19v05/eos_value/eos_value_h19v05_2006_s1_laea_cog.tif\n",
      "cog:timesat_extracts/h19v05/eos_value/eos_value_h19v05_2007_s1_laea_cog.tif\n"
     ]
    },
    {
     "name": "stdout",
     "output_type": "stream",
     "text": [
      "cog:timesat_extracts/h19v05/eos_value/eos_value_h19v05_2008_s1_laea_cog.tif\n",
      "cog:timesat_extracts/h19v05/eos_value/eos_value_h19v05_2009_s1_laea_cog.tif\n"
     ]
    },
    {
     "name": "stdout",
     "output_type": "stream",
     "text": [
      "cog:timesat_extracts/h19v05/eos_value/eos_value_h19v05_2010_s1_laea_cog.tif\n",
      "cog:timesat_extracts/h19v05/eos_value/eos_value_h19v05_2011_s1_laea_cog.tif\n"
     ]
    },
    {
     "name": "stdout",
     "output_type": "stream",
     "text": [
      "cog:timesat_extracts/h19v05/eos_value/eos_value_h19v05_2012_s1_laea_cog.tif\n",
      "cog:timesat_extracts/h19v05/eos_value/eos_value_h19v05_2013_s1_laea_cog.tif\n"
     ]
    },
    {
     "name": "stdout",
     "output_type": "stream",
     "text": [
      "cog:timesat_extracts/h19v05/eos_value/eos_value_h19v05_2014_s1_laea_cog.tif\n",
      "cog:timesat_extracts/h19v05/eos_value/eos_value_h19v05_2015_s1_laea_cog.tif\n"
     ]
    },
    {
     "name": "stdout",
     "output_type": "stream",
     "text": [
      "cog:timesat_extracts/h19v05/eos_value/eos_value_h19v05_2016_s1_laea_cog.tif\n",
      "cog:timesat_extracts/h19v05/eos_value/eos_value_h19v05_2017_s1_laea_cog.tif\n"
     ]
    },
    {
     "name": "stdout",
     "output_type": "stream",
     "text": [
      "cog:timesat_extracts/h19v05/eos_value/eos_value_h19v05_2018_s1_laea_cog.tif\n"
     ]
    },
    {
     "name": "stdout",
     "output_type": "stream",
     "text": [
      "cog:timesat_extracts/h19v05/eos_value/eos_value_h19v05_2019_s1_laea_cog.tif\n",
      "cog:timesat_extracts/h19v05/eos_value/eos_value_h19v05_2020_s1_laea_cog.tif\n"
     ]
    },
    {
     "name": "stdout",
     "output_type": "stream",
     "text": [
      "cog:timesat_extracts/h19v05/increase_rate/increase_rate_SOS_h19v05_2000_s1_laea_cog.tif\n",
      "cog:timesat_extracts/h19v05/increase_rate/increase_rate_SOS_h19v05_2001_s1_laea_cog.tif\n"
     ]
    },
    {
     "name": "stdout",
     "output_type": "stream",
     "text": [
      "cog:timesat_extracts/h19v05/increase_rate/increase_rate_SOS_h19v05_2002_s1_laea_cog.tif\n",
      "cog:timesat_extracts/h19v05/increase_rate/increase_rate_SOS_h19v05_2003_s1_laea_cog.tif\n"
     ]
    },
    {
     "name": "stdout",
     "output_type": "stream",
     "text": [
      "cog:timesat_extracts/h19v05/increase_rate/increase_rate_SOS_h19v05_2004_s1_laea_cog.tif\n",
      "cog:timesat_extracts/h19v05/increase_rate/increase_rate_SOS_h19v05_2005_s1_laea_cog.tif\n"
     ]
    },
    {
     "name": "stdout",
     "output_type": "stream",
     "text": [
      "cog:timesat_extracts/h19v05/increase_rate/increase_rate_SOS_h19v05_2006_s1_laea_cog.tif\n",
      "cog:timesat_extracts/h19v05/increase_rate/increase_rate_SOS_h19v05_2007_s1_laea_cog.tif\n"
     ]
    },
    {
     "name": "stdout",
     "output_type": "stream",
     "text": [
      "cog:timesat_extracts/h19v05/increase_rate/increase_rate_SOS_h19v05_2008_s1_laea_cog.tif\n",
      "cog:timesat_extracts/h19v05/increase_rate/increase_rate_SOS_h19v05_2009_s1_laea_cog.tif\n"
     ]
    },
    {
     "name": "stdout",
     "output_type": "stream",
     "text": [
      "cog:timesat_extracts/h19v05/increase_rate/increase_rate_SOS_h19v05_2010_s1_laea_cog.tif\n"
     ]
    },
    {
     "name": "stdout",
     "output_type": "stream",
     "text": [
      "cog:timesat_extracts/h19v05/increase_rate/increase_rate_SOS_h19v05_2011_s1_laea_cog.tif\n",
      "cog:timesat_extracts/h19v05/increase_rate/increase_rate_SOS_h19v05_2012_s1_laea_cog.tif\n"
     ]
    },
    {
     "name": "stdout",
     "output_type": "stream",
     "text": [
      "cog:timesat_extracts/h19v05/increase_rate/increase_rate_SOS_h19v05_2013_s1_laea_cog.tif\n",
      "cog:timesat_extracts/h19v05/increase_rate/increase_rate_SOS_h19v05_2014_s1_laea_cog.tif\n"
     ]
    },
    {
     "name": "stdout",
     "output_type": "stream",
     "text": [
      "cog:timesat_extracts/h19v05/increase_rate/increase_rate_SOS_h19v05_2015_s1_laea_cog.tif\n",
      "cog:timesat_extracts/h19v05/increase_rate/increase_rate_SOS_h19v05_2016_s1_laea_cog.tif\n"
     ]
    },
    {
     "name": "stdout",
     "output_type": "stream",
     "text": [
      "cog:timesat_extracts/h19v05/increase_rate/increase_rate_SOS_h19v05_2017_s1_laea_cog.tif\n",
      "cog:timesat_extracts/h19v05/increase_rate/increase_rate_SOS_h19v05_2018_s1_laea_cog.tif\n"
     ]
    },
    {
     "name": "stdout",
     "output_type": "stream",
     "text": [
      "cog:timesat_extracts/h19v05/increase_rate/increase_rate_SOS_h19v05_2019_s1_laea_cog.tif\n"
     ]
    },
    {
     "name": "stdout",
     "output_type": "stream",
     "text": [
      "cog:timesat_extracts/h19v05/increase_rate/increase_rate_SOS_h19v05_2020_s1_laea_cog.tif\n"
     ]
    },
    {
     "name": "stdout",
     "output_type": "stream",
     "text": [
      "cog:timesat_extracts/h19v05/length_of_season/los_h19v05_2000_s1_laea_cog.tif\n",
      "cog:timesat_extracts/h19v05/length_of_season/los_h19v05_2001_s1_laea_cog.tif\n"
     ]
    },
    {
     "name": "stdout",
     "output_type": "stream",
     "text": [
      "cog:timesat_extracts/h19v05/length_of_season/los_h19v05_2002_s1_laea_cog.tif\n",
      "cog:timesat_extracts/h19v05/length_of_season/los_h19v05_2003_s1_laea_cog.tif\n"
     ]
    },
    {
     "name": "stdout",
     "output_type": "stream",
     "text": [
      "cog:timesat_extracts/h19v05/length_of_season/los_h19v05_2004_s1_laea_cog.tif\n",
      "cog:timesat_extracts/h19v05/length_of_season/los_h19v05_2005_s1_laea_cog.tif\n"
     ]
    },
    {
     "name": "stdout",
     "output_type": "stream",
     "text": [
      "cog:timesat_extracts/h19v05/length_of_season/los_h19v05_2006_s1_laea_cog.tif\n",
      "cog:timesat_extracts/h19v05/length_of_season/los_h19v05_2007_s1_laea_cog.tif\n"
     ]
    },
    {
     "name": "stdout",
     "output_type": "stream",
     "text": [
      "cog:timesat_extracts/h19v05/length_of_season/los_h19v05_2008_s1_laea_cog.tif\n",
      "cog:timesat_extracts/h19v05/length_of_season/los_h19v05_2009_s1_laea_cog.tif\n"
     ]
    },
    {
     "name": "stdout",
     "output_type": "stream",
     "text": [
      "cog:timesat_extracts/h19v05/length_of_season/los_h19v05_2010_s1_laea_cog.tif\n",
      "cog:timesat_extracts/h19v05/length_of_season/los_h19v05_2011_s1_laea_cog.tif\n"
     ]
    },
    {
     "name": "stdout",
     "output_type": "stream",
     "text": [
      "cog:timesat_extracts/h19v05/length_of_season/los_h19v05_2012_s1_laea_cog.tif\n",
      "cog:timesat_extracts/h19v05/length_of_season/los_h19v05_2013_s1_laea_cog.tif\n"
     ]
    },
    {
     "name": "stdout",
     "output_type": "stream",
     "text": [
      "cog:timesat_extracts/h19v05/length_of_season/los_h19v05_2014_s1_laea_cog.tif\n"
     ]
    },
    {
     "name": "stdout",
     "output_type": "stream",
     "text": [
      "cog:timesat_extracts/h19v05/length_of_season/los_h19v05_2015_s1_laea_cog.tif\n",
      "cog:timesat_extracts/h19v05/length_of_season/los_h19v05_2016_s1_laea_cog.tif\n"
     ]
    },
    {
     "name": "stdout",
     "output_type": "stream",
     "text": [
      "cog:timesat_extracts/h19v05/length_of_season/los_h19v05_2017_s1_laea_cog.tif\n",
      "cog:timesat_extracts/h19v05/length_of_season/los_h19v05_2018_s1_laea_cog.tif\n"
     ]
    },
    {
     "name": "stdout",
     "output_type": "stream",
     "text": [
      "cog:timesat_extracts/h19v05/length_of_season/los_h19v05_2019_s1_laea_cog.tif\n",
      "cog:timesat_extracts/h19v05/length_of_season/los_h19v05_2020_s1_laea_cog.tif\n"
     ]
    },
    {
     "name": "stdout",
     "output_type": "stream",
     "text": [
      "cog:timesat_extracts/h19v05/seasonal_amplitude/s_amplitude_h19v05_2000_s1_laea_cog.tif\n"
     ]
    },
    {
     "name": "stdout",
     "output_type": "stream",
     "text": [
      "cog:timesat_extracts/h19v05/seasonal_amplitude/s_amplitude_h19v05_2001_s1_laea_cog.tif\n"
     ]
    },
    {
     "name": "stdout",
     "output_type": "stream",
     "text": [
      "cog:timesat_extracts/h19v05/seasonal_amplitude/s_amplitude_h19v05_2002_s1_laea_cog.tif\n"
     ]
    },
    {
     "name": "stdout",
     "output_type": "stream",
     "text": [
      "cog:timesat_extracts/h19v05/seasonal_amplitude/s_amplitude_h19v05_2003_s1_laea_cog.tif\n"
     ]
    },
    {
     "name": "stdout",
     "output_type": "stream",
     "text": [
      "cog:timesat_extracts/h19v05/seasonal_amplitude/s_amplitude_h19v05_2004_s1_laea_cog.tif\n"
     ]
    },
    {
     "name": "stdout",
     "output_type": "stream",
     "text": [
      "cog:timesat_extracts/h19v05/seasonal_amplitude/s_amplitude_h19v05_2005_s1_laea_cog.tif\n"
     ]
    },
    {
     "name": "stdout",
     "output_type": "stream",
     "text": [
      "cog:timesat_extracts/h19v05/seasonal_amplitude/s_amplitude_h19v05_2006_s1_laea_cog.tif\n"
     ]
    },
    {
     "name": "stdout",
     "output_type": "stream",
     "text": [
      "cog:timesat_extracts/h19v05/seasonal_amplitude/s_amplitude_h19v05_2007_s1_laea_cog.tif\n"
     ]
    },
    {
     "name": "stdout",
     "output_type": "stream",
     "text": [
      "cog:timesat_extracts/h19v05/seasonal_amplitude/s_amplitude_h19v05_2008_s1_laea_cog.tif\n"
     ]
    },
    {
     "name": "stdout",
     "output_type": "stream",
     "text": [
      "cog:timesat_extracts/h19v05/seasonal_amplitude/s_amplitude_h19v05_2009_s1_laea_cog.tif\n"
     ]
    },
    {
     "name": "stdout",
     "output_type": "stream",
     "text": [
      "cog:timesat_extracts/h19v05/seasonal_amplitude/s_amplitude_h19v05_2010_s1_laea_cog.tif\n",
      "cog:timesat_extracts/h19v05/seasonal_amplitude/s_amplitude_h19v05_2011_s1_laea_cog.tif\n"
     ]
    },
    {
     "name": "stdout",
     "output_type": "stream",
     "text": [
      "cog:timesat_extracts/h19v05/seasonal_amplitude/s_amplitude_h19v05_2012_s1_laea_cog.tif\n",
      "cog:timesat_extracts/h19v05/seasonal_amplitude/s_amplitude_h19v05_2013_s1_laea_cog.tif\n"
     ]
    },
    {
     "name": "stdout",
     "output_type": "stream",
     "text": [
      "cog:timesat_extracts/h19v05/seasonal_amplitude/s_amplitude_h19v05_2014_s1_laea_cog.tif\n",
      "cog:timesat_extracts/h19v05/seasonal_amplitude/s_amplitude_h19v05_2015_s1_laea_cog.tif\n"
     ]
    },
    {
     "name": "stdout",
     "output_type": "stream",
     "text": [
      "cog:timesat_extracts/h19v05/seasonal_amplitude/s_amplitude_h19v05_2016_s1_laea_cog.tif\n",
      "cog:timesat_extracts/h19v05/seasonal_amplitude/s_amplitude_h19v05_2017_s1_laea_cog.tif\n"
     ]
    },
    {
     "name": "stdout",
     "output_type": "stream",
     "text": [
      "cog:timesat_extracts/h19v05/seasonal_amplitude/s_amplitude_h19v05_2018_s1_laea_cog.tif\n",
      "cog:timesat_extracts/h19v05/seasonal_amplitude/s_amplitude_h19v05_2019_s1_laea_cog.tif\n"
     ]
    },
    {
     "name": "stdout",
     "output_type": "stream",
     "text": [
      "cog:timesat_extracts/h19v05/seasonal_amplitude/s_amplitude_h19v05_2020_s1_laea_cog.tif\n",
      "cog:timesat_extracts/h19v05/sos/sos_h19v05_2000_s1_laea_cog.tif\n"
     ]
    },
    {
     "name": "stdout",
     "output_type": "stream",
     "text": [
      "cog:timesat_extracts/h19v05/sos/sos_h19v05_2001_s1_laea_cog.tif\n",
      "cog:timesat_extracts/h19v05/sos/sos_h19v05_2002_s1_laea_cog.tif\n"
     ]
    },
    {
     "name": "stdout",
     "output_type": "stream",
     "text": [
      "cog:timesat_extracts/h19v05/sos/sos_h19v05_2003_s1_laea_cog.tif\n",
      "cog:timesat_extracts/h19v05/sos/sos_h19v05_2004_s1_laea_cog.tif\n"
     ]
    },
    {
     "name": "stdout",
     "output_type": "stream",
     "text": [
      "cog:timesat_extracts/h19v05/sos/sos_h19v05_2005_s1_laea_cog.tif\n",
      "cog:timesat_extracts/h19v05/sos/sos_h19v05_2006_s1_laea_cog.tif\n"
     ]
    },
    {
     "name": "stdout",
     "output_type": "stream",
     "text": [
      "cog:timesat_extracts/h19v05/sos/sos_h19v05_2007_s1_laea_cog.tif\n",
      "cog:timesat_extracts/h19v05/sos/sos_h19v05_2008_s1_laea_cog.tif\n"
     ]
    },
    {
     "name": "stdout",
     "output_type": "stream",
     "text": [
      "cog:timesat_extracts/h19v05/sos/sos_h19v05_2009_s1_laea_cog.tif\n",
      "cog:timesat_extracts/h19v05/sos/sos_h19v05_2010_s1_laea_cog.tif\n"
     ]
    },
    {
     "name": "stdout",
     "output_type": "stream",
     "text": [
      "cog:timesat_extracts/h19v05/sos/sos_h19v05_2011_s1_laea_cog.tif\n",
      "cog:timesat_extracts/h19v05/sos/sos_h19v05_2012_s1_laea_cog.tif\n"
     ]
    },
    {
     "name": "stdout",
     "output_type": "stream",
     "text": [
      "cog:timesat_extracts/h19v05/sos/sos_h19v05_2013_s1_laea_cog.tif\n",
      "cog:timesat_extracts/h19v05/sos/sos_h19v05_2014_s1_laea_cog.tif\n"
     ]
    },
    {
     "name": "stdout",
     "output_type": "stream",
     "text": [
      "cog:timesat_extracts/h19v05/sos/sos_h19v05_2015_s1_laea_cog.tif\n",
      "cog:timesat_extracts/h19v05/sos/sos_h19v05_2016_s1_laea_cog.tif\n"
     ]
    },
    {
     "name": "stdout",
     "output_type": "stream",
     "text": [
      "cog:timesat_extracts/h19v05/sos/sos_h19v05_2017_s1_laea_cog.tif\n",
      "cog:timesat_extracts/h19v05/sos/sos_h19v05_2018_s1_laea_cog.tif\n"
     ]
    },
    {
     "name": "stdout",
     "output_type": "stream",
     "text": [
      "cog:timesat_extracts/h19v05/sos/sos_h19v05_2019_s1_laea_cog.tif\n",
      "cog:timesat_extracts/h19v05/sos/sos_h19v05_2020_s1_laea_cog.tif\n"
     ]
    },
    {
     "name": "stdout",
     "output_type": "stream",
     "text": [
      "cog:timesat_extracts/h19v05/sos_value/sos_value_h19v05_2000_s1_laea_cog.tif\n"
     ]
    },
    {
     "name": "stdout",
     "output_type": "stream",
     "text": [
      "cog:timesat_extracts/h19v05/sos_value/sos_value_h19v05_2001_s1_laea_cog.tif\n",
      "cog:timesat_extracts/h19v05/sos_value/sos_value_h19v05_2002_s1_laea_cog.tif\n"
     ]
    },
    {
     "name": "stdout",
     "output_type": "stream",
     "text": [
      "cog:timesat_extracts/h19v05/sos_value/sos_value_h19v05_2003_s1_laea_cog.tif\n"
     ]
    },
    {
     "name": "stdout",
     "output_type": "stream",
     "text": [
      "cog:timesat_extracts/h19v05/sos_value/sos_value_h19v05_2004_s1_laea_cog.tif\n"
     ]
    },
    {
     "name": "stdout",
     "output_type": "stream",
     "text": [
      "cog:timesat_extracts/h19v05/sos_value/sos_value_h19v05_2005_s1_laea_cog.tif\n"
     ]
    },
    {
     "name": "stdout",
     "output_type": "stream",
     "text": [
      "cog:timesat_extracts/h19v05/sos_value/sos_value_h19v05_2006_s1_laea_cog.tif\n"
     ]
    },
    {
     "name": "stdout",
     "output_type": "stream",
     "text": [
      "cog:timesat_extracts/h19v05/sos_value/sos_value_h19v05_2007_s1_laea_cog.tif\n"
     ]
    },
    {
     "name": "stdout",
     "output_type": "stream",
     "text": [
      "cog:timesat_extracts/h19v05/sos_value/sos_value_h19v05_2008_s1_laea_cog.tif\n"
     ]
    },
    {
     "name": "stdout",
     "output_type": "stream",
     "text": [
      "cog:timesat_extracts/h19v05/sos_value/sos_value_h19v05_2009_s1_laea_cog.tif\n",
      "cog:timesat_extracts/h19v05/sos_value/sos_value_h19v05_2010_s1_laea_cog.tif\n"
     ]
    },
    {
     "name": "stdout",
     "output_type": "stream",
     "text": [
      "cog:timesat_extracts/h19v05/sos_value/sos_value_h19v05_2011_s1_laea_cog.tif\n",
      "cog:timesat_extracts/h19v05/sos_value/sos_value_h19v05_2012_s1_laea_cog.tif\n"
     ]
    },
    {
     "name": "stdout",
     "output_type": "stream",
     "text": [
      "cog:timesat_extracts/h19v05/sos_value/sos_value_h19v05_2013_s1_laea_cog.tif\n",
      "cog:timesat_extracts/h19v05/sos_value/sos_value_h19v05_2014_s1_laea_cog.tif\n"
     ]
    },
    {
     "name": "stdout",
     "output_type": "stream",
     "text": [
      "cog:timesat_extracts/h19v05/sos_value/sos_value_h19v05_2015_s1_laea_cog.tif\n",
      "cog:timesat_extracts/h19v05/sos_value/sos_value_h19v05_2016_s1_laea_cog.tif\n"
     ]
    },
    {
     "name": "stdout",
     "output_type": "stream",
     "text": [
      "cog:timesat_extracts/h19v05/sos_value/sos_value_h19v05_2017_s1_laea_cog.tif\n",
      "cog:timesat_extracts/h19v05/sos_value/sos_value_h19v05_2018_s1_laea_cog.tif\n"
     ]
    },
    {
     "name": "stdout",
     "output_type": "stream",
     "text": [
      "cog:timesat_extracts/h19v05/sos_value/sos_value_h19v05_2019_s1_laea_cog.tif\n"
     ]
    },
    {
     "name": "stdout",
     "output_type": "stream",
     "text": [
      "cog:timesat_extracts/h19v05/sos_value/sos_value_h19v05_2020_s1_laea_cog.tif\n",
      "cog:timesat_extracts/h20v03/LINT/LINT_h20v03_2000_s1_laea_cog.tif\n"
     ]
    },
    {
     "name": "stdout",
     "output_type": "stream",
     "text": [
      "cog:timesat_extracts/h20v03/LINT/LINT_h20v03_2001_s1_laea_cog.tif\n",
      "cog:timesat_extracts/h20v03/LINT/LINT_h20v03_2002_s1_laea_cog.tif\n"
     ]
    },
    {
     "name": "stdout",
     "output_type": "stream",
     "text": [
      "cog:timesat_extracts/h20v03/LINT/LINT_h20v03_2003_s1_laea_cog.tif\n",
      "cog:timesat_extracts/h20v03/LINT/LINT_h20v03_2004_s1_laea_cog.tif\n"
     ]
    },
    {
     "name": "stdout",
     "output_type": "stream",
     "text": [
      "cog:timesat_extracts/h20v03/LINT/LINT_h20v03_2005_s1_laea_cog.tif\n"
     ]
    },
    {
     "name": "stdout",
     "output_type": "stream",
     "text": [
      "cog:timesat_extracts/h20v03/LINT/LINT_h20v03_2006_s1_laea_cog.tif\n"
     ]
    },
    {
     "name": "stdout",
     "output_type": "stream",
     "text": [
      "cog:timesat_extracts/h20v03/LINT/LINT_h20v03_2007_s1_laea_cog.tif\n"
     ]
    },
    {
     "name": "stdout",
     "output_type": "stream",
     "text": [
      "cog:timesat_extracts/h20v03/LINT/LINT_h20v03_2008_s1_laea_cog.tif\n",
      "cog:timesat_extracts/h20v03/LINT/LINT_h20v03_2009_s1_laea_cog.tif\n"
     ]
    },
    {
     "name": "stdout",
     "output_type": "stream",
     "text": [
      "cog:timesat_extracts/h20v03/LINT/LINT_h20v03_2010_s1_laea_cog.tif\n",
      "cog:timesat_extracts/h20v03/LINT/LINT_h20v03_2011_s1_laea_cog.tif\n"
     ]
    },
    {
     "name": "stdout",
     "output_type": "stream",
     "text": [
      "cog:timesat_extracts/h20v03/LINT/LINT_h20v03_2012_s1_laea_cog.tif\n"
     ]
    },
    {
     "name": "stdout",
     "output_type": "stream",
     "text": [
      "cog:timesat_extracts/h20v03/LINT/LINT_h20v03_2013_s1_laea_cog.tif\n"
     ]
    },
    {
     "name": "stdout",
     "output_type": "stream",
     "text": [
      "cog:timesat_extracts/h20v03/LINT/LINT_h20v03_2014_s1_laea_cog.tif\n"
     ]
    },
    {
     "name": "stdout",
     "output_type": "stream",
     "text": [
      "cog:timesat_extracts/h20v03/LINT/LINT_h20v03_2015_s1_laea_cog.tif\n",
      "cog:timesat_extracts/h20v03/LINT/LINT_h20v03_2016_s1_laea_cog.tif\n"
     ]
    },
    {
     "name": "stdout",
     "output_type": "stream",
     "text": [
      "cog:timesat_extracts/h20v03/LINT/LINT_h20v03_2017_s1_laea_cog.tif\n",
      "cog:timesat_extracts/h20v03/LINT/LINT_h20v03_2018_s1_laea_cog.tif\n"
     ]
    },
    {
     "name": "stdout",
     "output_type": "stream",
     "text": [
      "cog:timesat_extracts/h20v03/LINT/LINT_h20v03_2019_s1_laea_cog.tif\n"
     ]
    },
    {
     "name": "stdout",
     "output_type": "stream",
     "text": [
      "cog:timesat_extracts/h20v03/LINT/LINT_h20v03_2020_s1_laea_cog.tif\n"
     ]
    },
    {
     "name": "stdout",
     "output_type": "stream",
     "text": [
      "cog:timesat_extracts/h20v03/SINT/SINT_h20v03_2000_s1_laea_cog.tif\n",
      "cog:timesat_extracts/h20v03/SINT/SINT_h20v03_2001_s1_laea_cog.tif\n"
     ]
    },
    {
     "name": "stdout",
     "output_type": "stream",
     "text": [
      "cog:timesat_extracts/h20v03/SINT/SINT_h20v03_2002_s1_laea_cog.tif\n"
     ]
    },
    {
     "name": "stdout",
     "output_type": "stream",
     "text": [
      "cog:timesat_extracts/h20v03/SINT/SINT_h20v03_2003_s1_laea_cog.tif\n"
     ]
    },
    {
     "name": "stdout",
     "output_type": "stream",
     "text": [
      "cog:timesat_extracts/h20v03/SINT/SINT_h20v03_2004_s1_laea_cog.tif\n",
      "cog:timesat_extracts/h20v03/SINT/SINT_h20v03_2005_s1_laea_cog.tif\n"
     ]
    },
    {
     "name": "stdout",
     "output_type": "stream",
     "text": [
      "cog:timesat_extracts/h20v03/SINT/SINT_h20v03_2006_s1_laea_cog.tif\n",
      "cog:timesat_extracts/h20v03/SINT/SINT_h20v03_2007_s1_laea_cog.tif\n"
     ]
    },
    {
     "name": "stdout",
     "output_type": "stream",
     "text": [
      "cog:timesat_extracts/h20v03/SINT/SINT_h20v03_2008_s1_laea_cog.tif\n"
     ]
    },
    {
     "name": "stdout",
     "output_type": "stream",
     "text": [
      "cog:timesat_extracts/h20v03/SINT/SINT_h20v03_2009_s1_laea_cog.tif\n"
     ]
    },
    {
     "name": "stdout",
     "output_type": "stream",
     "text": [
      "cog:timesat_extracts/h20v03/SINT/SINT_h20v03_2010_s1_laea_cog.tif\n"
     ]
    },
    {
     "name": "stdout",
     "output_type": "stream",
     "text": [
      "cog:timesat_extracts/h20v03/SINT/SINT_h20v03_2011_s1_laea_cog.tif\n"
     ]
    },
    {
     "name": "stdout",
     "output_type": "stream",
     "text": [
      "cog:timesat_extracts/h20v03/SINT/SINT_h20v03_2012_s1_laea_cog.tif\n",
      "cog:timesat_extracts/h20v03/SINT/SINT_h20v03_2013_s1_laea_cog.tif\n"
     ]
    },
    {
     "name": "stdout",
     "output_type": "stream",
     "text": [
      "cog:timesat_extracts/h20v03/SINT/SINT_h20v03_2014_s1_laea_cog.tif\n"
     ]
    },
    {
     "name": "stdout",
     "output_type": "stream",
     "text": [
      "cog:timesat_extracts/h20v03/SINT/SINT_h20v03_2015_s1_laea_cog.tif\n",
      "cog:timesat_extracts/h20v03/SINT/SINT_h20v03_2016_s1_laea_cog.tif\n"
     ]
    },
    {
     "name": "stdout",
     "output_type": "stream",
     "text": [
      "cog:timesat_extracts/h20v03/SINT/SINT_h20v03_2017_s1_laea_cog.tif\n"
     ]
    },
    {
     "name": "stdout",
     "output_type": "stream",
     "text": [
      "cog:timesat_extracts/h20v03/SINT/SINT_h20v03_2018_s1_laea_cog.tif\n",
      "cog:timesat_extracts/h20v03/SINT/SINT_h20v03_2019_s1_laea_cog.tif\n"
     ]
    },
    {
     "name": "stdout",
     "output_type": "stream",
     "text": [
      "cog:timesat_extracts/h20v03/SINT/SINT_h20v03_2020_s1_laea_cog.tif\n",
      "cog:timesat_extracts/h20v03/decrease_rate/decrease_rate_EOS_h20v03_2000_s1_laea_cog.tif\n"
     ]
    },
    {
     "name": "stdout",
     "output_type": "stream",
     "text": [
      "cog:timesat_extracts/h20v03/decrease_rate/decrease_rate_EOS_h20v03_2001_s1_laea_cog.tif\n",
      "cog:timesat_extracts/h20v03/decrease_rate/decrease_rate_EOS_h20v03_2002_s1_laea_cog.tif\n"
     ]
    },
    {
     "name": "stdout",
     "output_type": "stream",
     "text": [
      "cog:timesat_extracts/h20v03/decrease_rate/decrease_rate_EOS_h20v03_2003_s1_laea_cog.tif\n",
      "cog:timesat_extracts/h20v03/decrease_rate/decrease_rate_EOS_h20v03_2004_s1_laea_cog.tif\n"
     ]
    },
    {
     "name": "stdout",
     "output_type": "stream",
     "text": [
      "cog:timesat_extracts/h20v03/decrease_rate/decrease_rate_EOS_h20v03_2005_s1_laea_cog.tif\n"
     ]
    },
    {
     "name": "stdout",
     "output_type": "stream",
     "text": [
      "cog:timesat_extracts/h20v03/decrease_rate/decrease_rate_EOS_h20v03_2006_s1_laea_cog.tif\n",
      "cog:timesat_extracts/h20v03/decrease_rate/decrease_rate_EOS_h20v03_2007_s1_laea_cog.tif\n"
     ]
    },
    {
     "name": "stdout",
     "output_type": "stream",
     "text": [
      "cog:timesat_extracts/h20v03/decrease_rate/decrease_rate_EOS_h20v03_2008_s1_laea_cog.tif\n"
     ]
    },
    {
     "name": "stdout",
     "output_type": "stream",
     "text": [
      "cog:timesat_extracts/h20v03/decrease_rate/decrease_rate_EOS_h20v03_2009_s1_laea_cog.tif\n",
      "cog:timesat_extracts/h20v03/decrease_rate/decrease_rate_EOS_h20v03_2010_s1_laea_cog.tif\n"
     ]
    },
    {
     "name": "stdout",
     "output_type": "stream",
     "text": [
      "cog:timesat_extracts/h20v03/decrease_rate/decrease_rate_EOS_h20v03_2011_s1_laea_cog.tif\n",
      "cog:timesat_extracts/h20v03/decrease_rate/decrease_rate_EOS_h20v03_2012_s1_laea_cog.tif\n"
     ]
    },
    {
     "name": "stdout",
     "output_type": "stream",
     "text": [
      "cog:timesat_extracts/h20v03/decrease_rate/decrease_rate_EOS_h20v03_2013_s1_laea_cog.tif\n"
     ]
    },
    {
     "name": "stdout",
     "output_type": "stream",
     "text": [
      "cog:timesat_extracts/h20v03/decrease_rate/decrease_rate_EOS_h20v03_2014_s1_laea_cog.tif\n"
     ]
    },
    {
     "name": "stdout",
     "output_type": "stream",
     "text": [
      "cog:timesat_extracts/h20v03/decrease_rate/decrease_rate_EOS_h20v03_2015_s1_laea_cog.tif\n",
      "cog:timesat_extracts/h20v03/decrease_rate/decrease_rate_EOS_h20v03_2016_s1_laea_cog.tif\n"
     ]
    },
    {
     "name": "stdout",
     "output_type": "stream",
     "text": [
      "cog:timesat_extracts/h20v03/decrease_rate/decrease_rate_EOS_h20v03_2017_s1_laea_cog.tif\n",
      "cog:timesat_extracts/h20v03/decrease_rate/decrease_rate_EOS_h20v03_2018_s1_laea_cog.tif\n"
     ]
    },
    {
     "name": "stdout",
     "output_type": "stream",
     "text": [
      "cog:timesat_extracts/h20v03/decrease_rate/decrease_rate_EOS_h20v03_2019_s1_laea_cog.tif\n"
     ]
    },
    {
     "name": "stdout",
     "output_type": "stream",
     "text": [
      "cog:timesat_extracts/h20v03/decrease_rate/decrease_rate_EOS_h20v03_2020_s1_laea_cog.tif\n",
      "cog:timesat_extracts/h20v03/eos/eos_h20v03_2000_s1_laea_cog.tif\n"
     ]
    }
   ],
   "source": [
    "import boto3\n",
    "import os\n",
    "\n",
    "\n",
    "#set the output folder\n",
    "output=r'C:\\Users\\andr3581\\OneDrive Corp\\OneDrive - Atkins Ltd\\Desktop\\downalodtest'\n",
    "\n",
    "if os.path.exists(output)==False:\n",
    "    os.makedirs(output)\n",
    "\n",
    "#credentials    \n",
    "access_key='fb6da226803846ac96bfcb292be6ce7c'\n",
    "secret_key='a598af0bfeec4734b8e6e771ee578250'\n",
    "host='https://eumetsat.dpi.wekeo.eu:8080'\n",
    "\n",
    "#connect to cucket with credentials\n",
    "s3=boto3.resource('s3',aws_access_key_id=access_key,\n",
    "aws_secret_access_key=secret_key, endpoint_url=host,)\n",
    "bucket=s3.Bucket('cog')\n",
    "\n",
    "#change our working directory to the output\n",
    "os.chdir(output)\n",
    "\n",
    "#start downloading .tif\n",
    "for obj in bucket.objects.filter(Prefix='timesat_extracts/'):\n",
    "    if 'cog.tif' in obj.key:\n",
    "    \n",
    "        print('{0}:{1}'.format(bucket.name, obj.key))\n",
    "        \n",
    "        output_folder= output+'/'+obj.key.split('/')[-3] + '/'+obj.key.split('/')[-2]\n",
    "        if os.path.exists(output_folder)==False:\n",
    "            os.makedirs(output_folder)\n",
    "        os.chdir(output_folder)\n",
    "        bucket.download_file(obj.key, obj.key.split('/')[-1]) #name on cloud, name locally"
   ]
  },
  {
   "cell_type": "markdown",
   "metadata": {
    "papermill": {
     "duration": null,
     "end_time": null,
     "exception": null,
     "start_time": null,
     "status": "completed"
    },
    "tags": []
   },
   "source": [
    "# Check the folders"
   ]
  },
  {
   "cell_type": "code",
   "execution_count": null,
   "metadata": {
    "papermill": {
     "duration": null,
     "end_time": null,
     "exception": null,
     "start_time": null,
     "status": "completed"
    },
    "tags": []
   },
   "outputs": [],
   "source": [
    "import boto3\n",
    "import os\n",
    "\n",
    "\n",
    "\n",
    "#credentials    \n",
    "access_key='fb6da226803846ac96bfcb292be6ce7c'\n",
    "secret_key='a598af0bfeec4734b8e6e771ee578250'\n",
    "host='https://eumetsat.dpi.wekeo.eu:8080'\n",
    "\n",
    "#connect to cucket with credentials\n",
    "s3=boto3.resource('s3',aws_access_key_id=access_key,\n",
    "aws_secret_access_key=secret_key, endpoint_url=host,)\n",
    "bucket=s3.Bucket('cog')\n",
    "\n",
    "#change our working directory to the output\n",
    "os.chdir(output)\n",
    "\n",
    "#start downloading .tif\n",
    "for obj in bucket.objects.filter(Prefix='timesat_extracts/'):\n",
    "    if 'cog.tif' in obj.key:\n",
    "    \n",
    "        print('{0}:{1}'.format(bucket.name, obj.key))\n",
    "        \n"
   ]
  },
  {
   "cell_type": "markdown",
   "metadata": {
    "papermill": {
     "duration": null,
     "end_time": null,
     "exception": null,
     "start_time": null,
     "status": "completed"
    },
    "tags": []
   },
   "source": [
    "# Download specific folder"
   ]
  },
  {
   "cell_type": "code",
   "execution_count": null,
   "metadata": {
    "papermill": {
     "duration": null,
     "end_time": null,
     "exception": null,
     "start_time": null,
     "status": "completed"
    },
    "tags": []
   },
   "outputs": [],
   "source": [
    "import boto3\n",
    "import os\n",
    "\n",
    "\n",
    "#set the output folder\n",
    "output=r'C:\\Users\\andr3581\\OneDrive Corp\\OneDrive - Atkins Ltd\\Desktop\\downalodtest'\n",
    "\n",
    "if os.path.exists(output)==False:\n",
    "    os.makedirs(output)\n",
    "\n",
    "#credentials    \n",
    "access_key='fb6da226803846ac96bfcb292be6ce7c'\n",
    "secret_key='a598af0bfeec4734b8e6e771ee578250'\n",
    "host='https://eumetsat.dpi.wekeo.eu:8080'\n",
    "\n",
    "#connect to cucket with credentials\n",
    "s3=boto3.resource('s3',aws_access_key_id=access_key,\n",
    "aws_secret_access_key=secret_key, endpoint_url=host,)\n",
    "bucket=s3.Bucket('cog')\n",
    "\n",
    "#change our working directory to the output\n",
    "os.chdir(output)\n",
    "\n",
    "#start downloading .tif\n",
    "for obj in bucket.objects.filter(Prefix='timesat_extracts/'):\n",
    "    if 'cog.tif' in obj.key and 'eos_value' in obj.key and 'h15v05' in obj.key:\n",
    "    \n",
    "        print('{0}:{1}'.format(bucket.name, obj.key))\n",
    "        \n",
    "        output_folder= output+'/'+obj.key.split('/')[-3] + '/'+obj.key.split('/')[-2]\n",
    "        if os.path.exists(output_folder)==False:\n",
    "            os.makedirs(output_folder)\n",
    "        os.chdir(output_folder)\n",
    "        bucket.download_file(obj.key, obj.key.split('/')[-1]) #name on cloud, name locally"
   ]
  },
  {
   "cell_type": "code",
   "execution_count": null,
   "metadata": {
    "papermill": {
     "duration": null,
     "end_time": null,
     "exception": null,
     "start_time": null,
     "status": "completed"
    },
    "tags": []
   },
   "outputs": [],
   "source": []
  }
 ],
 "metadata": {
  "kernelspec": {
   "display_name": "Python 3",
   "language": "python",
   "name": "python3"
  },
  "language_info": {
   "codemirror_mode": {
    "name": "ipython",
    "version": 3
   },
   "file_extension": ".py",
   "mimetype": "text/x-python",
   "name": "python",
   "nbconvert_exporter": "python",
   "pygments_lexer": "ipython3",
   "version": "3.7.3"
  },
  "papermill": {
   "default_parameters": {},
   "duration": 606.456095,
   "end_time": "2021-01-27T08:30:11.586231",
   "environment_variables": {},
   "exception": null,
   "input_path": "/tmp/tmpfd_9n7bu",
   "output_path": "/tmp/notebook_output.ipynb",
   "parameters": {},
   "start_time": "2021-01-27T08:20:05.130136",
   "version": "2.2.2"
  },
  "properties": {
   "authors": [
    {
     "id": "07071631-cf13-4d16-b1bb-1fa6e7ed24cd",
     "name": "loehnertz@space4environment.com"
    }
   ],
   "description": "timesat_extracts",
   "id": "c551256b-2eb5-47f9-85e9-a0877f0ed2eb",
   "license": null,
   "name": "timesat_extracts",
   "requirements": [
    "eurodatacube-geodb",
    "eurodatacube-xcube-gen",
    "eurodatacube"
   ],
   "tags": [
    "EO Data"
   ],
   "tosAgree": true,
   "type": "Jupyter Notebook",
   "version": "1"
  }
 },
 "nbformat": 4,
 "nbformat_minor": 2
}