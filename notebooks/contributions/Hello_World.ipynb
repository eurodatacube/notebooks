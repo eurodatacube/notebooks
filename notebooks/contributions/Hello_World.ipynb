{
 "cells": [
  {
   "cell_type": "code",
   "execution_count": 1,
   "metadata": {
    "execution": {
     "iopub.execute_input": "2020-09-29T13:18:27.290148Z",
     "iopub.status.busy": "2020-09-29T13:18:27.289551Z",
     "iopub.status.idle": "2020-09-29T13:18:27.339801Z",
     "shell.execute_reply": "2020-09-29T13:18:27.339222Z"
    },
    "papermill": {
     "duration": 0.056387,
     "end_time": "2020-09-29T13:18:27.339950",
     "exception": false,
     "start_time": "2020-09-29T13:18:27.283563",
     "status": "completed"
    },
    "tags": []
   },
   "outputs": [
    {
     "data": {
      "text/html": [
       "<script type=\"text/javascript\">\n",
       "        function toggle(id) {\n",
       "            el = document.getElementById(id);\n",
       "            el.style.display = el.style.display === \"none\" ? \"block\" : \"none\";\n",
       "        }\n",
       "    </script>"
      ],
      "text/plain": [
       "<IPython.core.display.HTML object>"
      ]
     },
     "metadata": {},
     "output_type": "display_data"
    },
    {
     "data": {
      "text/html": [
       "This notebook is compatible with this base image version (user-0.21.0)."
      ],
      "text/plain": [
       "<IPython.core.display.HTML object>"
      ]
     },
     "metadata": {},
     "output_type": "display_data"
    }
   ],
   "source": [
    "from edc import check_compatibility\n",
    "check_compatibility(\"user-0.21.0\")"
   ]
  },
  {
   "cell_type": "code",
   "execution_count": 2,
   "metadata": {
    "execution": {
     "iopub.execute_input": "2020-09-29T13:18:27.349144Z",
     "iopub.status.busy": "2020-09-29T13:18:27.348628Z",
     "iopub.status.idle": "2020-09-29T13:18:27.351644Z",
     "shell.execute_reply": "2020-09-29T13:18:27.351186Z"
    },
    "papermill": {
     "duration": 0.008674,
     "end_time": "2020-09-29T13:18:27.351738",
     "exception": false,
     "start_time": "2020-09-29T13:18:27.343064",
     "status": "completed"
    },
    "tags": []
   },
   "outputs": [
    {
     "data": {
      "text/markdown": [
       "API credentials have automatically been injected for your active subscriptions.  \n",
       "The following environment variables are now available:\n",
       "* `SH_CLIENT_ID`, `SH_CLIENT_NAME`, `SH_CLIENT_SECRET`, `SH_INSTANCE_ID`\n",
       "\n",
       "The following additional environment variables have been loaded from `~/custom.env`:\n",
       "* `AWS_BUCKET`\n",
       "* `DAPA_URL`\n",
       "* `DB_HOST`, `DB_NAME`, `DB_PASSWORD`, `DB_USER`\n",
       "* `OGC_EDC_URL`\n",
       "* `REFERENCE_DATA`\n"
      ],
      "text/plain": [
       "<IPython.core.display.Markdown object>"
      ]
     },
     "metadata": {},
     "output_type": "display_data"
    }
   ],
   "source": [
    "from edc import setup_environment_variables\n",
    "setup_environment_variables()"
   ]
  },
  {
   "cell_type": "code",
   "execution_count": 3,
   "metadata": {
    "execution": {
     "iopub.execute_input": "2020-09-29T13:18:27.362320Z",
     "iopub.status.busy": "2020-09-29T13:18:27.361706Z",
     "iopub.status.idle": "2020-09-29T13:18:27.363909Z",
     "shell.execute_reply": "2020-09-29T13:18:27.364261Z"
    },
    "papermill": {
     "duration": 0.008163,
     "end_time": "2020-09-29T13:18:27.364365",
     "exception": false,
     "start_time": "2020-09-29T13:18:27.356202",
     "status": "completed"
    },
    "tags": []
   },
   "outputs": [
    {
     "data": {
      "text/plain": [
       "True"
      ]
     },
     "execution_count": 3,
     "metadata": {},
     "output_type": "execute_result"
    }
   ],
   "source": [
    "import os\n",
    "'SH_CLIENT_SECRET' in os.environ"
   ]
  },
  {
   "cell_type": "code",
   "execution_count": null,
   "metadata": {
    "papermill": {
     "duration": 0.003408,
     "end_time": "2020-09-29T13:18:27.371274",
     "exception": false,
     "start_time": "2020-09-29T13:18:27.367866",
     "status": "completed"
    },
    "tags": []
   },
   "outputs": [],
   "source": []
  }
 ],
 "metadata": {
  "kernelspec": {
   "display_name": "EDC 0.21.0 (Python3)",
   "language": "python",
   "name": "edc"
  },
  "language_info": {
   "codemirror_mode": {
    "name": "ipython",
    "version": 3
   },
   "file_extension": ".py",
   "mimetype": "text/x-python",
   "name": "python",
   "nbconvert_exporter": "python",
   "pygments_lexer": "ipython3",
   "version": "3.7.8"
  },
  "papermill": {
   "default_parameters": {},
   "duration": 1.066087,
   "end_time": "2020-09-29T13:18:27.578872",
   "environment_variables": {},
   "exception": null,
   "input_path": "/tmp/tmp664eihvj",
   "output_path": "/tmp/notebook_output.ipynb",
   "parameters": {},
   "start_time": "2020-09-29T13:18:26.512785",
   "version": "2.2.0"
  },
  "properties": {
   "authors": [
    {
     "id": "0b5dc7f9-ada6-4a5d-874b-0b17d544788d",
     "name": "silvester.pari+phiweekrehearsal03@eox.at"
    }
   ],
   "description": "This is a short example notebook",
   "id": "3e3218c2-845f-4db6-b9ed-908087373310",
   "license": null,
   "name": "Hello World",
   "requirements": [
    "eurodatacube"
   ],
   "tags": [
    "Jupyter"
   ],
   "tosAgree": true,
   "type": "Jupyter Notebook",
   "version": "0.0.1"
  }
 },
 "nbformat": 4,
 "nbformat_minor": 4
}