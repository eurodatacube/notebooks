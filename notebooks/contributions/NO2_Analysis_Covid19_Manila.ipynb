{
 "cells": [
  {
   "cell_type": "markdown",
   "metadata": {
    "tags": [
     "papermill-error-cell-tag"
    ]
   },
   "source": [
    "<span style=\"color:red; font-family:Helvetica Neue, Helvetica, Arial, sans-serif; font-size:2em;\">An Exception was encountered at '<a href=\"#papermill-error-cell\">In [4]</a>'.</span>"
   ]
  },
  {
   "cell_type": "code",
   "execution_count": 1,
   "metadata": {
    "execution": {
     "iopub.execute_input": "2020-07-12T02:41:48.261569Z",
     "iopub.status.busy": "2020-07-12T02:41:48.261035Z",
     "iopub.status.idle": "2020-07-12T02:41:48.311009Z",
     "shell.execute_reply": "2020-07-12T02:41:48.310473Z"
    },
    "papermill": {
     "duration": 0.060408,
     "end_time": "2020-07-12T02:41:48.311097",
     "exception": false,
     "start_time": "2020-07-12T02:41:48.250689",
     "status": "completed"
    },
    "tags": []
   },
   "outputs": [
    {
     "data": {
      "text/markdown": [
       "API credentials have automatically been injected for your active subscriptions.  \n",
       "The following environment variables are now available:\n",
       "\n",
       "The following additional environment variables have been loaded from `~/custom.env`:\n",
       "* `AWS_BUCKET`\n",
       "* `DB_HOST`, `DB_NAME`, `DB_PASSWORD`, `DB_USER`\n",
       "* `OGC_EDC_URL`\n",
       "* `REFERENCE_DATA`\n"
      ],
      "text/plain": [
       "<IPython.core.display.Markdown object>"
      ]
     },
     "metadata": {},
     "output_type": "display_data"
    }
   ],
   "source": [
    "from edc import setup_environment_variables\n",
    "setup_environment_variables()"
   ]
  },
  {
   "cell_type": "code",
   "execution_count": 2,
   "metadata": {
    "execution": {
     "iopub.execute_input": "2020-07-12T02:41:48.329290Z",
     "iopub.status.busy": "2020-07-12T02:41:48.328738Z",
     "iopub.status.idle": "2020-07-12T02:41:48.331300Z",
     "shell.execute_reply": "2020-07-12T02:41:48.330775Z"
    },
    "papermill": {
     "duration": 0.011885,
     "end_time": "2020-07-12T02:41:48.331385",
     "exception": false,
     "start_time": "2020-07-12T02:41:48.319500",
     "status": "completed"
    },
    "tags": []
   },
   "outputs": [
    {
     "data": {
      "text/markdown": [
       "This notebook is compatible with this base image version (user-0.19.3)."
      ],
      "text/plain": [
       "<IPython.core.display.Markdown object>"
      ]
     },
     "metadata": {},
     "output_type": "display_data"
    }
   ],
   "source": [
    "from edc import check_compatibility\n",
    "check_compatibility(\"user-0.19.3\")"
   ]
  },
  {
   "cell_type": "markdown",
   "metadata": {
    "papermill": {
     "duration": 0.007022,
     "end_time": "2020-07-12T02:41:48.345444",
     "exception": false,
     "start_time": "2020-07-12T02:41:48.338422",
     "status": "completed"
    },
    "tags": []
   },
   "source": [
    "# Impact of Covid19 induced lockdown on NO2 levels \n",
    "\n",
    "- Countries have initiated lockdown measures to control the spread of the disease \n",
    "- Not all of the measures were successful (Italy) \n",
    "- Countries (Germany) which successful implemented a lockdown showed a marked decrease in NO2 levels \n",
    "\n",
    "- NO2 is produced when fossil fuels are burned, as during transportation (cars, trucks etc. ) or \n",
    "- due to other economic activities (like factories )\n"
   ]
  },
  {
   "cell_type": "markdown",
   "metadata": {
    "papermill": {
     "duration": 0.006926,
     "end_time": "2020-07-12T02:41:48.359522",
     "exception": false,
     "start_time": "2020-07-12T02:41:48.352596",
     "status": "completed"
    },
    "tags": []
   },
   "source": [
    "## Load required dependencies & credentials"
   ]
  },
  {
   "cell_type": "code",
   "execution_count": 3,
   "metadata": {
    "execution": {
     "iopub.execute_input": "2020-07-12T02:41:48.377106Z",
     "iopub.status.busy": "2020-07-12T02:41:48.376515Z",
     "iopub.status.idle": "2020-07-12T02:41:50.223175Z",
     "shell.execute_reply": "2020-07-12T02:41:50.222604Z"
    },
    "papermill": {
     "duration": 1.856819,
     "end_time": "2020-07-12T02:41:50.223290",
     "exception": false,
     "start_time": "2020-07-12T02:41:48.366471",
     "status": "completed"
    },
    "tags": []
   },
   "outputs": [],
   "source": [
    "# Import required packages\n",
    "\n",
    "from xcube_sh.config import CubeConfig\n",
    "from xcube_sh.cube import open_cube\n",
    "from xcube_sh.sentinelhub import SentinelHub\n",
    "import xarray as xr\n",
    "\n",
    "from sentinelhub import BBox, WmsRequest, DataSource, SHConfig\n",
    "from functools import partial\n",
    "\n",
    "import numpy as np\n",
    "import pandas as pd\n",
    "\n",
    "from matplotlib import pyplot as plt\n"
   ]
  },
  {
   "cell_type": "markdown",
   "metadata": {
    "tags": [
     "papermill-error-cell-tag"
    ]
   },
   "source": [
    "<span id=\"papermill-error-cell\" style=\"color:red; font-family:Helvetica Neue, Helvetica, Arial, sans-serif; font-size:2em;\">Execution using papermill encountered an exception here and stopped:</span>"
   ]
  },
  {
   "cell_type": "code",
   "execution_count": 4,
   "metadata": {
    "execution": {
     "iopub.execute_input": "2020-07-12T02:41:50.245636Z",
     "iopub.status.busy": "2020-07-12T02:41:50.245074Z",
     "iopub.status.idle": "2020-07-12T02:41:50.367003Z",
     "shell.execute_reply": "2020-07-12T02:41:50.366320Z"
    },
    "papermill": {
     "duration": 0.136433,
     "end_time": "2020-07-12T02:41:50.367146",
     "exception": true,
     "start_time": "2020-07-12T02:41:50.230713",
     "status": "failed"
    },
    "tags": []
   },
   "outputs": [
    {
     "ename": "KeyError",
     "evalue": "'SH_CLIENT_ID'",
     "output_type": "error",
     "traceback": [
      "\u001b[0;31m---------------------------------------------------------------------------\u001b[0m",
      "\u001b[0;31mKeyError\u001b[0m                                  Traceback (most recent call last)",
      "\u001b[0;32m<ipython-input-4-03c63f8c6abd>\u001b[0m in \u001b[0;36m<module>\u001b[0;34m\u001b[0m\n\u001b[1;32m      2\u001b[0m \u001b[0;34m\u001b[0m\u001b[0m\n\u001b[1;32m      3\u001b[0m \u001b[0;32mimport\u001b[0m \u001b[0mos\u001b[0m\u001b[0;34m\u001b[0m\u001b[0;34m\u001b[0m\u001b[0m\n\u001b[0;32m----> 4\u001b[0;31m sh_credentials = dict(client_id=os.environ['SH_CLIENT_ID'],\n\u001b[0m\u001b[1;32m      5\u001b[0m                       client_secret=os.environ['SH_CLIENT_SECRET']) # This is only provided when the Oauth credentials are created\n\u001b[1;32m      6\u001b[0m \u001b[0;34m\u001b[0m\u001b[0m\n",
      "\u001b[0;32m/opt/conda/envs/eurodatacube-0.19.3/lib/python3.8/os.py\u001b[0m in \u001b[0;36m__getitem__\u001b[0;34m(self, key)\u001b[0m\n\u001b[1;32m    673\u001b[0m         \u001b[0;32mexcept\u001b[0m \u001b[0mKeyError\u001b[0m\u001b[0;34m:\u001b[0m\u001b[0;34m\u001b[0m\u001b[0;34m\u001b[0m\u001b[0m\n\u001b[1;32m    674\u001b[0m             \u001b[0;31m# raise KeyError with the original key value\u001b[0m\u001b[0;34m\u001b[0m\u001b[0;34m\u001b[0m\u001b[0;34m\u001b[0m\u001b[0m\n\u001b[0;32m--> 675\u001b[0;31m             \u001b[0;32mraise\u001b[0m \u001b[0mKeyError\u001b[0m\u001b[0;34m(\u001b[0m\u001b[0mkey\u001b[0m\u001b[0;34m)\u001b[0m \u001b[0;32mfrom\u001b[0m \u001b[0;32mNone\u001b[0m\u001b[0;34m\u001b[0m\u001b[0;34m\u001b[0m\u001b[0m\n\u001b[0m\u001b[1;32m    676\u001b[0m         \u001b[0;32mreturn\u001b[0m \u001b[0mself\u001b[0m\u001b[0;34m.\u001b[0m\u001b[0mdecodevalue\u001b[0m\u001b[0;34m(\u001b[0m\u001b[0mvalue\u001b[0m\u001b[0;34m)\u001b[0m\u001b[0;34m\u001b[0m\u001b[0;34m\u001b[0m\u001b[0m\n\u001b[1;32m    677\u001b[0m \u001b[0;34m\u001b[0m\u001b[0m\n",
      "\u001b[0;31mKeyError\u001b[0m: 'SH_CLIENT_ID'"
     ]
    }
   ],
   "source": [
    "# Set Sentinel Hub credentials\n",
    "\n",
    "import os\n",
    "sh_credentials = dict(client_id=os.environ['SH_CLIENT_ID'],\n",
    "                      client_secret=os.environ['SH_CLIENT_SECRET']) # This is only provided when the Oauth credentials are created\n",
    "\n",
    "# Sentinel-3 OLCI, Sentinel-3 SLSTR and Sentinel-5 layers are processed on different infrastructure, \n",
    "# which requires to used different end-point\n",
    "\n",
    "sh_credentials.update(api_url='https://creodias.sentinel-hub.com/api/v1') "
   ]
  },
  {
   "cell_type": "markdown",
   "metadata": {
    "papermill": {
     "duration": null,
     "end_time": null,
     "exception": null,
     "start_time": null,
     "status": "pending"
    },
    "tags": []
   },
   "source": [
    "## Core function to calculate NO2 values\n",
    "\n",
    "NO2 values are calculated over the given period (Jan -May) for 2020 & 2019"
   ]
  },
  {
   "cell_type": "code",
   "execution_count": null,
   "metadata": {
    "papermill": {
     "duration": null,
     "end_time": null,
     "exception": null,
     "start_time": null,
     "status": "pending"
    },
    "tags": []
   },
   "outputs": [],
   "source": [
    "def caculateNO2(geometry, timerange):\n",
    "    \"\"\"\n",
    "    parameters:\n",
    "    geometry: BBox object to be passed. This contains the bounding box for the area of interest (AOI)\n",
    "    timerange: list giving the start & end of the time range format: YYYY-mm-dd\n",
    "    \n",
    "    return:\n",
    "    a dataframe with two columns: Mean NO2 and Timestamp\n",
    "    NO2 mean values for the time span between given timerange \n",
    "    \n",
    "    \"\"\"\n",
    "    cube_config = CubeConfig(dataset_name='S5PL2',\n",
    "                         band_names=['NO2'],\n",
    "                         tile_size=[512, 512],\n",
    "                         geometry=geometry,\n",
    "                         spatial_res=abs(bbox[2]-bbox[0])/512,\n",
    "                         time_range= timerange,\n",
    "                         time_period='3D') \n",
    "    cube = open_cube(cube_config, **sh_credentials)\n",
    "\n",
    "    no2_values = list() \n",
    "    timestamp = list()\n",
    "\n",
    "    for i in range(cube.time.shape[0]):\n",
    "        no2_values.append(np.nanmean(cube.NO2.isel(time=i).values[0]))\n",
    "        timestamp.append(cube.NO2.isel(time=i).time.values)\n",
    "        \n",
    "    assert len(no2_values) == len(timestamp)\n",
    "    \n",
    "    return pd.DataFrame({'DateTime': timestamp, 'Mean NO2': no2_values})"
   ]
  },
  {
   "cell_type": "markdown",
   "metadata": {
    "papermill": {
     "duration": null,
     "end_time": null,
     "exception": null,
     "start_time": null,
     "status": "pending"
    },
    "tags": []
   },
   "source": [
    "## Read area of interest as a csv file\n",
    "*Uncomment the next code block if you want to read the AOI from a csv file*\n",
    "\n",
    "File has the following columns:\n",
    "- Country: Name of country/territory of interest\n",
    "- x1, y1 : Upper left corner co-ordinates (lat/lon)\n",
    "- x2, y2 : Lower right corner co-ordinates"
   ]
  },
  {
   "cell_type": "code",
   "execution_count": null,
   "metadata": {
    "papermill": {
     "duration": null,
     "end_time": null,
     "exception": null,
     "start_time": null,
     "status": "pending"
    },
    "tags": []
   },
   "outputs": [],
   "source": [
    "# aoi = pd.read_csv('AOI.csv')\n",
    "# print(aoi.shape)\n",
    "# print(aoi.head(8))\n",
    "\n",
    "# shape = aoi.shape\n",
    "# nullCount = sum(aoi.isna().sum())\n",
    "# print(f\"Shape of 2020 DF: {shape}, Count of Null values: {nullCount}\".format(shape , nullCount ))"
   ]
  },
  {
   "cell_type": "markdown",
   "metadata": {
    "papermill": {
     "duration": null,
     "end_time": null,
     "exception": null,
     "start_time": null,
     "status": "pending"
    },
    "tags": []
   },
   "source": [
    "## Define AOI as a list\n",
    "\n",
    "*This is a list of dictionaries with the required information*\n",
    "\n",
    "Each dict has the following keys:\n",
    "\n",
    "- Country: Name of country/territory of interest\n",
    "- x1, y1 : Upper left corner co-ordinates (lat/lon)\n",
    "- x2, y2 : Lower right corner co-ordinates"
   ]
  },
  {
   "cell_type": "code",
   "execution_count": null,
   "metadata": {
    "papermill": {
     "duration": null,
     "end_time": null,
     "exception": null,
     "start_time": null,
     "status": "pending"
    },
    "tags": []
   },
   "outputs": [],
   "source": [
    "aoi = list()\n",
    "\n",
    "# \n",
    "country1 = dict()\n",
    "country1['Country'] = 'Manila'\n",
    "country1['x1'] = 120.9\n",
    "country1['y1'] = 14.5\n",
    "country1['x2'] = 121.1\n",
    "country1['y2'] = 14.6\n",
    "aoi.append(country1)\n",
    "\n",
    "country2 = dict()\n",
    "country2['Country'] = 'Germany'\n",
    "country2['x1'] = 54.77 \n",
    "country2['y1'] = 4.70\n",
    "country2['x2'] = 47.63\n",
    "country2['y2'] = 15.73\n",
    "aoi.append(country2)\n",
    "\n",
    "#print(len(aoi))"
   ]
  },
  {
   "cell_type": "markdown",
   "metadata": {
    "papermill": {
     "duration": null,
     "end_time": null,
     "exception": null,
     "start_time": null,
     "status": "pending"
    },
    "tags": []
   },
   "source": [
    "## Main loop \n",
    "\n",
    "We iterate over each row in the `aoi.csv` file \n",
    "\n",
    "Sentinel-5P data for each defined AOI cube is extracted \n",
    "\n",
    "NO2 values for each tile is then averaged & stored in a list\n",
    "\n",
    "For the purpose of this demo we will calculate the NO2 values for one AOI and for one month \n",
    "(*That will ensure that we don't exceed the timelimit of 10mins!*)"
   ]
  },
  {
   "cell_type": "code",
   "execution_count": null,
   "metadata": {
    "papermill": {
     "duration": null,
     "end_time": null,
     "exception": null,
     "start_time": null,
     "status": "pending"
    },
    "tags": []
   },
   "outputs": [],
   "source": [
    "import time \n",
    "\n",
    "start = time.time()\n",
    "aoi_no2 = list()\n",
    "\n",
    "# Check length of provided aoi list OR dataframe\n",
    "len_aoi = len(aoi)\n",
    "\n",
    "# Define how many AOIs you want to process. For the demo we will use only one \n",
    "counter = 1\n",
    "\n",
    "for idx in range(counter):\n",
    "    aoi_dict = dict()\n",
    "    \n",
    "    # Check if aoi is passed as a list or a dataframe\n",
    "    if isinstance(aoi, list):\n",
    "        aoi_dict['Country_BBox'] = aoi[idx]['Country']\n",
    "        x1 = int(aoi[idx]['x1'])  # degree \n",
    "        y1 = int(aoi[idx]['y1'])  # degree\n",
    "        x2 = int(aoi[idx]['x2'])  # degree\n",
    "        y2 = int(aoi[idx]['y2'])  # degree\n",
    "                \n",
    "    else:\n",
    "        aoi_dict['Country_BBox'] = aoi.loc[idx]['Country']\n",
    "        print(\"Processing: \", aoi_dict['Country_BBox'])\n",
    "        x1 = int(aoi.loc[idx]['x1'])  # degree \n",
    "        y1 = int(aoi.loc[idx]['y1'])  # degree\n",
    "        x2 = int(aoi.loc[idx]['x2'])  # degree\n",
    "        y2 = int(aoi.loc[idx]['y2'])  # degree\n",
    "\n",
    "    bbox = x1, y1, x2, y2\n",
    "    timerange = ['2020-04-01', '2020-05-31']\n",
    "    aoi_dict['NO2_2020'] = caculateNO2(bbox, timerange)\n",
    "    shape = aoi_dict['NO2_2020'].shape\n",
    "    nullCount = sum(aoi_dict['NO2_2020'].isna().sum())\n",
    "    print(f\"Shape of 2020 DF: {shape}, Count of Null values: {nullCount}\".format(shape , nullCount ))    \n",
    "    \n",
    "    timerange = ['2019-04-01', '2019-05-31']\n",
    "    aoi_dict['NO2_2019'] = caculateNO2(bbox, timerange)\n",
    "    shape = aoi_dict['NO2_2019'].shape\n",
    "    nullCount = sum(aoi_dict['NO2_2019'].isna().sum())\n",
    "    print(f\"Shape of 2019 DF: {shape}, Count of Null values: {nullCount}\".format(shape , nullCount ))\n",
    "\n",
    "    aoi_no2.append(aoi_dict)\n",
    "\n",
    "end = time.time()\n",
    "#print(len(aoi_no2))\n"
   ]
  },
  {
   "cell_type": "code",
   "execution_count": null,
   "metadata": {
    "papermill": {
     "duration": null,
     "end_time": null,
     "exception": null,
     "start_time": null,
     "status": "pending"
    },
    "tags": []
   },
   "outputs": [],
   "source": [
    "print(\"Total processing time: {:.2} mins\".format((end-start)/60)) "
   ]
  },
  {
   "cell_type": "markdown",
   "metadata": {
    "papermill": {
     "duration": null,
     "end_time": null,
     "exception": null,
     "start_time": null,
     "status": "pending"
    },
    "tags": []
   },
   "source": [
    "The list is then pickled so that the information can then be reused in another run"
   ]
  },
  {
   "cell_type": "code",
   "execution_count": null,
   "metadata": {
    "papermill": {
     "duration": null,
     "end_time": null,
     "exception": null,
     "start_time": null,
     "status": "pending"
    },
    "tags": []
   },
   "outputs": [],
   "source": [
    "import pickle \n",
    "#print(len(aoi_no2))\n",
    "with open('aoi_list_no2.pkl', 'wb') as f:\n",
    "    pickle.dump(aoi_no2, f)"
   ]
  },
  {
   "cell_type": "markdown",
   "metadata": {
    "papermill": {
     "duration": null,
     "end_time": null,
     "exception": null,
     "start_time": null,
     "status": "pending"
    },
    "tags": []
   },
   "source": [
    "## Plotting function\n",
    "\n",
    "This plots the NO2 values over time"
   ]
  },
  {
   "cell_type": "code",
   "execution_count": null,
   "metadata": {
    "papermill": {
     "duration": null,
     "end_time": null,
     "exception": null,
     "start_time": null,
     "status": "pending"
    },
    "tags": []
   },
   "outputs": [],
   "source": [
    "import matplotlib.pyplot as plt\n",
    "\n",
    "def plot_no2(idx):\n",
    "    \"\"\"\n",
    "    parameters:\n",
    "    idx: Input id for accessing NO2 data \n",
    "    \n",
    "    return:\n",
    "    None\n",
    "    line plots for NO2 (2020 vs 2019) are generated\n",
    "    \"\"\"\n",
    "\n",
    "    plt.plot(aoi_no2[idx]['NO2_2020']['DateTime'], aoi_no2[idx]['NO2_2020']['Mean NO2'],  label = 'NO2 levels (2020)')\n",
    "    plt.plot(aoi_no2[idx]['NO2_2020']['DateTime'], aoi_no2[idx]['NO2_2019']['Mean NO2'], label = 'NO2 levels (2019)')\n",
    "    plt.ylabel('NO2 Levels')\n",
    "    plt.xlabel('Month')\n",
    "    plt.title('NO2 levels for '+ aoi_no2[idx]['Country_BBox'])\n",
    "    plt.legend()\n",
    "    plt.savefig(aoi_no2[idx]['Country_BBox']+'.png')\n",
    "    plt.show()"
   ]
  },
  {
   "cell_type": "code",
   "execution_count": null,
   "metadata": {
    "papermill": {
     "duration": null,
     "end_time": null,
     "exception": null,
     "start_time": null,
     "status": "pending"
    },
    "tags": []
   },
   "outputs": [],
   "source": [
    "for idx in range(len(aoi_no2)):\n",
    "    plot_no2(idx)\n"
   ]
  }
 ],
 "metadata": {
  "kernelspec": {
   "display_name": "Python 3",
   "language": "python",
   "name": "python3"
  },
  "language_info": {
   "codemirror_mode": {
    "name": "ipython",
    "version": 3
   },
   "file_extension": ".py",
   "mimetype": "text/x-python",
   "name": "python",
   "nbconvert_exporter": "python",
   "pygments_lexer": "ipython3",
   "version": "3.8.3"
  },
  "papermill": {
   "duration": 4.203686,
   "end_time": "2020-07-12T02:41:51.666991",
   "environment_variables": {},
   "exception": true,
   "input_path": "/tmp/tmp4bxb7gmr",
   "output_path": "/tmp/notebook_output.ipynb",
   "parameters": {},
   "start_time": "2020-07-12T02:41:47.463305",
   "version": "2.1.0"
  },
  "properties": {
   "authors": [
    {
     "id": "0e5324b6-d1ed-4cc6-a2a5-4ac0e49ea681",
     "name": "kweklydia@gmail.com"
    }
   ],
   "description": "NO2 COVID19 ADB Manila Impact Trade and Industry",
   "id": "0ae37c72-8d66-4c14-bff8-0fdeca272780",
   "license": null,
   "name": "COVID19 NO2 Manila",
   "requirements": [],
   "tags": [
    "COVID-19"
   ],
   "tosAgree": true,
   "type": "Jupyter Notebook",
   "version": "0.01"
  }
 },
 "nbformat": 4,
 "nbformat_minor": 4
}