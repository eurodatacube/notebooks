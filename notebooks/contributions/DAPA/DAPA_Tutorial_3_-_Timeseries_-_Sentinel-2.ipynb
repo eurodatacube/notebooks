{
 "cells": [
  {
   "cell_type": "markdown",
   "metadata": {
    "papermill": {
     "duration": 0.021404,
     "end_time": "2020-07-15T12:32:25.822513",
     "exception": false,
     "start_time": "2020-07-15T12:32:25.801109",
     "status": "completed"
    },
    "tags": []
   },
   "source": [
    "# DAPA Tutorial #3: Timeseries - Sentinel-2"
   ]
  },
  {
   "cell_type": "markdown",
   "metadata": {
    "papermill": {
     "duration": 0.019774,
     "end_time": "2020-07-15T12:32:25.858705",
     "exception": false,
     "start_time": "2020-07-15T12:32:25.838931",
     "status": "completed"
    },
    "tags": []
   },
   "source": [
    "## Load environment variables\n",
    "Please make sure that the environment variable \"DAPA_URL\" is set in the `custom.env` file. You can check this by executing the following block. \n",
    "\n",
    "If DAPA_URL is not set, please create a text file named `custom.env` in your home directory with the following input: \n",
    ">DAPA_URL=YOUR-PERSONAL-DAPA-APP-URL"
   ]
  },
  {
   "cell_type": "code",
   "execution_count": 1,
   "metadata": {
    "papermill": {
     "duration": 0.124312,
     "end_time": "2020-07-15T12:32:26.001918",
     "exception": false,
     "start_time": "2020-07-15T12:32:25.877606",
     "status": "completed"
    },
    "tags": []
   },
   "outputs": [
    {
     "data": {
      "text/markdown": [
       "API credentials have automatically been injected for your active subscriptions.  \n",
       "The following environment variables are now available:\n",
       "* `SH_CLIENT_ID`, `SH_CLIENT_NAME`, `SH_CLIENT_SECRET`, `SH_INSTANCE_ID`\n",
       "\n",
       "The following additional environment variables have been loaded from `~/custom.env`:\n",
       "* `DAPA_URL`\n"
      ],
      "text/plain": [
       "<IPython.core.display.Markdown object>"
      ]
     },
     "metadata": {},
     "output_type": "display_data"
    }
   ],
   "source": [
    "from edc import setup_environment_variables\n",
    "setup_environment_variables()"
   ]
  },
  {
   "cell_type": "markdown",
   "metadata": {
    "papermill": {
     "duration": 0.015888,
     "end_time": "2020-07-15T12:32:26.034089",
     "exception": false,
     "start_time": "2020-07-15T12:32:26.018201",
     "status": "completed"
    },
    "tags": []
   },
   "source": [
    "## Check notebook compabtibility\n",
    "**Please note:** If you conduct this notebook again at a later time, the base image of this Jupyter Hub service can include newer versions of the libraries installed. Thus, the notebook execution can fail. This compatibility check is only necessary when something is broken. "
   ]
  },
  {
   "cell_type": "code",
   "execution_count": 2,
   "metadata": {
    "papermill": {
     "duration": 0.031014,
     "end_time": "2020-07-15T12:32:26.086688",
     "exception": false,
     "start_time": "2020-07-15T12:32:26.055674",
     "status": "completed"
    },
    "tags": []
   },
   "outputs": [
    {
     "data": {
      "text/markdown": [
       "This notebook is compatible with this base image version (user-0.19.6)."
      ],
      "text/plain": [
       "<IPython.core.display.Markdown object>"
      ]
     },
     "metadata": {},
     "output_type": "display_data"
    }
   ],
   "source": [
    "from edc import check_compatibility\n",
    "check_compatibility(\"user-0.19.6\")"
   ]
  },
  {
   "cell_type": "markdown",
   "metadata": {
    "papermill": {
     "duration": 0.022827,
     "end_time": "2020-07-15T12:32:26.132225",
     "exception": false,
     "start_time": "2020-07-15T12:32:26.109398",
     "status": "completed"
    },
    "tags": []
   },
   "source": [
    "## Load libraries\n",
    "Python libraries used in this tutorial will be loaded."
   ]
  },
  {
   "cell_type": "code",
   "execution_count": 3,
   "metadata": {
    "papermill": {
     "duration": 3.461574,
     "end_time": "2020-07-15T12:32:29.611332",
     "exception": false,
     "start_time": "2020-07-15T12:32:26.149758",
     "status": "completed"
    },
    "tags": []
   },
   "outputs": [],
   "source": [
    "import os\n",
    "import xarray as xr\n",
    "import pandas as pd\n",
    "import requests\n",
    "import matplotlib\n",
    "from ipyleaflet import Map, Rectangle, Marker, DrawControl, basemaps, basemap_to_tiles\n",
    "%matplotlib inline"
   ]
  },
  {
   "cell_type": "markdown",
   "metadata": {
    "papermill": {
     "duration": 0.019275,
     "end_time": "2020-07-15T12:32:29.647242",
     "exception": false,
     "start_time": "2020-07-15T12:32:29.627967",
     "status": "completed"
    },
    "tags": []
   },
   "source": [
    "## Set DAPA endpoint\n",
    "Execute the following code to check if the DAPA_URL is available in the environment variable and to set the `/dapa` endpoint. "
   ]
  },
  {
   "cell_type": "code",
   "execution_count": 4,
   "metadata": {
    "papermill": {
     "duration": 0.030615,
     "end_time": "2020-07-15T12:32:29.698637",
     "exception": false,
     "start_time": "2020-07-15T12:32:29.668022",
     "status": "completed"
    },
    "tags": []
   },
   "outputs": [
    {
     "name": "stdout",
     "output_type": "stream",
     "text": [
      "DAPA path: /oapi\n"
     ]
    }
   ],
   "source": [
    "service_url = None\n",
    "dapa_url = None\n",
    "\n",
    "if 'DAPA_URL' not in os.environ:\n",
    "    print('!! DAPA_URL does not exist as environment variable. Please make sure this is the case - see first block of this notebook! !!')\n",
    "else:    \n",
    "    service_url = os.environ['DAPA_URL']\n",
    "    dapa_url = '{}/{}'.format(service_url, 'oapi')\n",
    "    print('DAPA path: {}'.format(dapa_url.replace(service_url, '')))"
   ]
  },
  {
   "cell_type": "markdown",
   "metadata": {
    "papermill": {
     "duration": 0.017413,
     "end_time": "2020-07-15T12:32:29.733410",
     "exception": false,
     "start_time": "2020-07-15T12:32:29.715997",
     "status": "completed"
    },
    "tags": []
   },
   "source": [
    "## Get collections supported by this endpoint\n",
    "This request provides a list of collections. The path of each collection is used as starting path of this service."
   ]
  },
  {
   "cell_type": "code",
   "execution_count": 5,
   "metadata": {
    "papermill": {
     "duration": 0.073691,
     "end_time": "2020-07-15T12:32:29.833974",
     "exception": false,
     "start_time": "2020-07-15T12:32:29.760283",
     "status": "completed"
    },
    "tags": []
   },
   "outputs": [
    {
     "name": "stdout",
     "output_type": "stream",
     "text": [
      "DAPA path: /oapi/collections\n"
     ]
    },
    {
     "data": {
      "text/plain": [
       "['/oapi/collections/DEM/dapa/',\n",
       " '/oapi/collections/L8L1C/dapa/',\n",
       " '/oapi/collections/S1GRD/dapa/',\n",
       " '/oapi/collections/S2L1C/dapa/',\n",
       " '/oapi/collections/S2L2A/dapa/',\n",
       " '/oapi/collections/S3OLCI/dapa/',\n",
       " '/oapi/collections/S3SLSTR/dapa/',\n",
       " '/oapi/collections/S5PL2/dapa/',\n",
       " '/oapi/collections/MODIS/dapa/']"
      ]
     },
     "execution_count": 5,
     "metadata": {},
     "output_type": "execute_result"
    }
   ],
   "source": [
    "collections_url = '{}/{}'.format(dapa_url, 'collections')\n",
    "collections = requests.get(collections_url)\n",
    "\n",
    "print('DAPA path: {}'.format(collections.url.replace(service_url, '')))\n",
    "collections.json()"
   ]
  },
  {
   "cell_type": "markdown",
   "metadata": {
    "papermill": {
     "duration": 0.016251,
     "end_time": "2020-07-15T12:32:29.870503",
     "exception": false,
     "start_time": "2020-07-15T12:32:29.854252",
     "status": "completed"
    },
    "tags": []
   },
   "source": [
    "## Get fields of collection Sentinel-2 L2A\n",
    "The fields (or variables in other DAPA endpoints - these are the bands of the raster data) can be retrieved in all requests to the DAPA endpoint. In addition to the fixed set of fields, \"virtual\" fields can be used to conduct math operations (e.g., the calculation of indices). "
   ]
  },
  {
   "cell_type": "code",
   "execution_count": 6,
   "metadata": {
    "papermill": {
     "duration": 0.071274,
     "end_time": "2020-07-15T12:32:29.963237",
     "exception": false,
     "start_time": "2020-07-15T12:32:29.891963",
     "status": "completed"
    },
    "tags": []
   },
   "outputs": [
    {
     "name": "stdout",
     "output_type": "stream",
     "text": [
      "DAPA path: /oapi/collections/S2L2A/dapa/fields\n"
     ]
    },
    {
     "data": {
      "text/plain": [
       "[{'id': 'B01'},\n",
       " {'id': 'B02'},\n",
       " {'id': 'B03'},\n",
       " {'id': 'B04'},\n",
       " {'id': 'B05'},\n",
       " {'id': 'B06'},\n",
       " {'id': 'B07'},\n",
       " {'id': 'B08'},\n",
       " {'id': 'B8A'},\n",
       " {'id': 'B09'},\n",
       " {'id': 'B11'},\n",
       " {'id': 'B12'},\n",
       " {'id': 'SCL'},\n",
       " {'id': 'SNW'},\n",
       " {'id': 'CLD'}]"
      ]
     },
     "execution_count": 6,
     "metadata": {},
     "output_type": "execute_result"
    }
   ],
   "source": [
    "collection = 'S2L2A'\n",
    "\n",
    "fields_url = '{}/{}/{}/{}'.format(dapa_url, 'collections', collection, 'dapa/fields')\n",
    "fields = requests.get(fields_url)\n",
    "\n",
    "print('DAPA path: {}'.format(fields.url.replace(service_url, '')))\n",
    "fields.json()"
   ]
  },
  {
   "cell_type": "markdown",
   "metadata": {
    "papermill": {
     "duration": 0.017226,
     "end_time": "2020-07-15T12:32:29.999468",
     "exception": false,
     "start_time": "2020-07-15T12:32:29.982242",
     "status": "completed"
    },
    "tags": []
   },
   "source": [
    "## Retrieve NDVI as 1d time-series extraced for a single point"
   ]
  },
  {
   "cell_type": "markdown",
   "metadata": {
    "papermill": {
     "duration": 0.021526,
     "end_time": "2020-07-15T12:32:30.040390",
     "exception": false,
     "start_time": "2020-07-15T12:32:30.018864",
     "status": "completed"
    },
    "tags": []
   },
   "source": [
    "### Set DAPA URL and parameters\n",
    "The output of this request is a time-series requested from a point of interest (`timeseries/position` endpoint). As the input collection (S2L2A) is a multi-temporal raster and the requested geometry is a point, no aggregation is conducted.\n",
    "\n",
    "To retrieve a time-series of a point, the parameter `point` needs to be provided. The `time` parameter allows to extract data only within a specific time span. The band (`field`) from which the point is being extracted needs to be specified as well."
   ]
  },
  {
   "cell_type": "code",
   "execution_count": 7,
   "metadata": {
    "papermill": {
     "duration": 0.074605,
     "end_time": "2020-07-15T12:32:30.137621",
     "exception": false,
     "start_time": "2020-07-15T12:32:30.063016",
     "status": "completed"
    },
    "tags": []
   },
   "outputs": [
    {
     "data": {
      "application/vnd.jupyter.widget-view+json": {
       "model_id": "32032fc7a3cf46f0abbc39927af1cda9",
       "version_major": 2,
       "version_minor": 0
      },
      "text/plain": [
       "Map(center=[48.05, 11.49], controls=(ZoomControl(options=['position', 'zoom_in_text', 'zoom_in_title', 'zoom_o…"
      ]
     },
     "metadata": {},
     "output_type": "display_data"
    }
   ],
   "source": [
    "# DAPA URL\n",
    "url = '{}/{}/{}/{}'.format(dapa_url, 'collections', collection, 'dapa/timeseries/position')\n",
    "\n",
    "# Parameters for this request\n",
    "params = {\n",
    "    'point': '11.49,48.05',\n",
    "    'time': '2018-04-01T00:00:00Z/2018-05-01T00:00:00Z',\n",
    "    'fields': 'NDVI=(B08-B04)/(B08%2BB04)'    # Please note: + signs need to be URL encoded -> %2B\n",
    "}\n",
    "\n",
    "# show point in the map\n",
    "location = list(reversed([float(coord) for coord in params['point'].split(',')]))\n",
    "m = Map(\n",
    "    basemap=basemap_to_tiles(basemaps.OpenStreetMap.Mapnik),\n",
    "    center=location,\n",
    "    zoom=10\n",
    ")\n",
    "\n",
    "marker = Marker(location=location, draggable=False)\n",
    "m.add_layer(marker)\n",
    "\n",
    "m"
   ]
  },
  {
   "cell_type": "markdown",
   "metadata": {
    "papermill": {
     "duration": 0.018036,
     "end_time": "2020-07-15T12:32:30.186498",
     "exception": false,
     "start_time": "2020-07-15T12:32:30.168462",
     "status": "completed"
    },
    "tags": []
   },
   "source": [
    "### Build request URL and conduct request"
   ]
  },
  {
   "cell_type": "code",
   "execution_count": 8,
   "metadata": {
    "papermill": {
     "duration": 12.973416,
     "end_time": "2020-07-15T12:32:43.177787",
     "exception": false,
     "start_time": "2020-07-15T12:32:30.204371",
     "status": "completed"
    },
    "tags": []
   },
   "outputs": [
    {
     "name": "stdout",
     "output_type": "stream",
     "text": [
      "DAPA path: /oapi/collections/S2L2A/dapa/timeseries/position?point=11.49,48.05&time=2018-04-01T00:00:00Z/2018-05-01T00:00:00Z&fields=NDVI=(B08-B04)/(B08%2BB04)\n",
      "Status code: 200\n"
     ]
    }
   ],
   "source": [
    "params_str = \"&\".join(\"%s=%s\" % (k, v) for k,v in params.items())\n",
    "r = requests.get(url, params=params_str)\n",
    "\n",
    "print('DAPA path: {}'.format(r.url.replace(service_url, '')))\n",
    "print('Status code: {}'.format(r.status_code))"
   ]
  },
  {
   "cell_type": "markdown",
   "metadata": {
    "papermill": {
     "duration": 0.020676,
     "end_time": "2020-07-15T12:32:43.223636",
     "exception": false,
     "start_time": "2020-07-15T12:32:43.202960",
     "status": "completed"
    },
    "tags": []
   },
   "source": [
    "### Write timeseries dataset to CSV file\n",
    "The response of this request returns data as CSV including headers splitted by comma. Additional output formats (e.g., CSV with headers included) will be integrated within the testbed activtiy. \n",
    "\n",
    "You can either write the response to file or use it as string (`r.content` variable). "
   ]
  },
  {
   "cell_type": "code",
   "execution_count": 9,
   "metadata": {
    "papermill": {
     "duration": 0.027698,
     "end_time": "2020-07-15T12:32:43.270319",
     "exception": false,
     "start_time": "2020-07-15T12:32:43.242621",
     "status": "completed"
    },
    "tags": []
   },
   "outputs": [],
   "source": [
    "# write time-series data to CSV file\n",
    "with open('timeseries_s2.csv', 'wb') as filew:\n",
    "    filew.write(r.content)"
   ]
  },
  {
   "cell_type": "markdown",
   "metadata": {
    "papermill": {
     "duration": 0.021836,
     "end_time": "2020-07-15T12:32:43.311782",
     "exception": false,
     "start_time": "2020-07-15T12:32:43.289946",
     "status": "completed"
    },
    "tags": []
   },
   "source": [
    "### Open timeseries dataset with pandas\n",
    "Time-series data can be opened, processed, and plotted easily with the `Pandas` library. You only need to specify the `datetime` column to automatically convert dates from string to a datetime object. "
   ]
  },
  {
   "cell_type": "code",
   "execution_count": 10,
   "metadata": {
    "papermill": {
     "duration": 0.052986,
     "end_time": "2020-07-15T12:32:43.388911",
     "exception": false,
     "start_time": "2020-07-15T12:32:43.335925",
     "status": "completed"
    },
    "scrolled": true,
    "tags": []
   },
   "outputs": [
    {
     "data": {
      "text/html": [
       "<div>\n",
       "<style scoped>\n",
       "    .dataframe tbody tr th:only-of-type {\n",
       "        vertical-align: middle;\n",
       "    }\n",
       "\n",
       "    .dataframe tbody tr th {\n",
       "        vertical-align: top;\n",
       "    }\n",
       "\n",
       "    .dataframe thead th {\n",
       "        text-align: right;\n",
       "    }\n",
       "</style>\n",
       "<table border=\"1\" class=\"dataframe\">\n",
       "  <thead>\n",
       "    <tr style=\"text-align: right;\">\n",
       "      <th></th>\n",
       "      <th>NDVI</th>\n",
       "    </tr>\n",
       "    <tr>\n",
       "      <th>datetime</th>\n",
       "      <th></th>\n",
       "    </tr>\n",
       "  </thead>\n",
       "  <tbody>\n",
       "    <tr>\n",
       "      <th>2018-04-02 10:24:35+00:00</th>\n",
       "      <td>0.701217</td>\n",
       "    </tr>\n",
       "    <tr>\n",
       "      <th>2018-04-04 10:10:21+00:00</th>\n",
       "      <td>0.229457</td>\n",
       "    </tr>\n",
       "    <tr>\n",
       "      <th>2018-04-07 10:20:20+00:00</th>\n",
       "      <td>0.833333</td>\n",
       "    </tr>\n",
       "    <tr>\n",
       "      <th>2018-04-09 10:13:43+00:00</th>\n",
       "      <td>0.634615</td>\n",
       "    </tr>\n",
       "    <tr>\n",
       "      <th>2018-04-12 10:20:24+00:00</th>\n",
       "      <td>0.100667</td>\n",
       "    </tr>\n",
       "    <tr>\n",
       "      <th>2018-04-14 10:15:36+00:00</th>\n",
       "      <td>0.509171</td>\n",
       "    </tr>\n",
       "    <tr>\n",
       "      <th>2018-04-17 10:20:21+00:00</th>\n",
       "      <td>0.497207</td>\n",
       "    </tr>\n",
       "    <tr>\n",
       "      <th>2018-04-19 10:14:57+00:00</th>\n",
       "      <td>0.686788</td>\n",
       "    </tr>\n",
       "    <tr>\n",
       "      <th>2018-04-22 10:21:15+00:00</th>\n",
       "      <td>0.671642</td>\n",
       "    </tr>\n",
       "    <tr>\n",
       "      <th>2018-04-24 10:15:26+00:00</th>\n",
       "      <td>0.016803</td>\n",
       "    </tr>\n",
       "    <tr>\n",
       "      <th>2018-04-27 10:20:22+00:00</th>\n",
       "      <td>0.774345</td>\n",
       "    </tr>\n",
       "    <tr>\n",
       "      <th>2018-04-29 10:12:58+00:00</th>\n",
       "      <td>0.214486</td>\n",
       "    </tr>\n",
       "  </tbody>\n",
       "</table>\n",
       "</div>"
      ],
      "text/plain": [
       "                               NDVI\n",
       "datetime                           \n",
       "2018-04-02 10:24:35+00:00  0.701217\n",
       "2018-04-04 10:10:21+00:00  0.229457\n",
       "2018-04-07 10:20:20+00:00  0.833333\n",
       "2018-04-09 10:13:43+00:00  0.634615\n",
       "2018-04-12 10:20:24+00:00  0.100667\n",
       "2018-04-14 10:15:36+00:00  0.509171\n",
       "2018-04-17 10:20:21+00:00  0.497207\n",
       "2018-04-19 10:14:57+00:00  0.686788\n",
       "2018-04-22 10:21:15+00:00  0.671642\n",
       "2018-04-24 10:15:26+00:00  0.016803\n",
       "2018-04-27 10:20:22+00:00  0.774345\n",
       "2018-04-29 10:12:58+00:00  0.214486"
      ]
     },
     "execution_count": 10,
     "metadata": {},
     "output_type": "execute_result"
    }
   ],
   "source": [
    "# read data into Pandas dataframe\n",
    "ds = pd.read_csv('timeseries_s2.csv', parse_dates=['datetime'])\n",
    "\n",
    "# set index to datetime column\n",
    "ds.set_index('datetime', inplace=True)\n",
    "\n",
    "# show dataframe\n",
    "ds"
   ]
  },
  {
   "cell_type": "markdown",
   "metadata": {
    "papermill": {
     "duration": 0.024014,
     "end_time": "2020-07-15T12:32:43.435174",
     "exception": false,
     "start_time": "2020-07-15T12:32:43.411160",
     "status": "completed"
    },
    "tags": []
   },
   "source": [
    "### Plot NDVI data"
   ]
  },
  {
   "cell_type": "code",
   "execution_count": 11,
   "metadata": {
    "papermill": {
     "duration": 0.307587,
     "end_time": "2020-07-15T12:32:43.766514",
     "exception": false,
     "start_time": "2020-07-15T12:32:43.458927",
     "status": "completed"
    },
    "tags": []
   },
   "outputs": [
    {
     "data": {
      "text/plain": [
       "<matplotlib.axes._subplots.AxesSubplot at 0x7efe3036f3d0>"
      ]
     },
     "execution_count": 11,
     "metadata": {},
     "output_type": "execute_result"
    },
    {
     "data": {
      "image/png": "[encoded data removed]",
      "text/plain": [
       "<Figure size 432x288 with 1 Axes>"
      ]
     },
     "metadata": {
      "needs_background": "light"
     },
     "output_type": "display_data"
    }
   ],
   "source": [
    "ds.plot()"
   ]
  },
  {
   "cell_type": "markdown",
   "metadata": {
    "papermill": {
     "duration": 0.020551,
     "end_time": "2020-07-15T12:32:43.808660",
     "exception": false,
     "start_time": "2020-07-15T12:32:43.788109",
     "status": "completed"
    },
    "tags": []
   },
   "source": [
    "### Output CSV file"
   ]
  },
  {
   "cell_type": "code",
   "execution_count": 12,
   "metadata": {
    "papermill": {
     "duration": 0.164649,
     "end_time": "2020-07-15T12:32:43.995435",
     "exception": false,
     "start_time": "2020-07-15T12:32:43.830786",
     "status": "completed"
    },
    "tags": []
   },
   "outputs": [
    {
     "name": "stdout",
     "output_type": "stream",
     "text": [
      "datetime,NDVI\n",
      "2018-04-02T10:24:35Z,0.7012165\n",
      "2018-04-04T10:10:21Z,0.22945666\n",
      "2018-04-07T10:20:20Z,0.8333333\n",
      "2018-04-09T10:13:43Z,0.63461536\n",
      "2018-04-12T10:20:24Z,0.10066674\n",
      "2018-04-14T10:15:36Z,0.5091714\n",
      "2018-04-17T10:20:21Z,0.49720672\n",
      "2018-04-19T10:14:57Z,0.68678766\n",
      "2018-04-22T10:21:15Z,0.67164177\n",
      "2018-04-24T10:15:26Z,0.0168028\n",
      "2018-04-27T10:20:22Z,0.77434456\n",
      "2018-04-29T10:12:58Z,0.2144858\n"
     ]
    }
   ],
   "source": [
    "!cat timeseries_s2.csv"
   ]
  },
  {
   "cell_type": "markdown",
   "metadata": {},
   "source": [
    "## Time-series aggregated over area"
   ]
  },
  {
   "cell_type": "code",
   "execution_count": 13,
   "metadata": {},
   "outputs": [
    {
     "name": "stdout",
     "output_type": "stream",
     "text": [
      "DAPA path: /oapi/collections/S2L2A/dapa/timeseries/area?bbox=11.49,48.05,11.66,48.22&aggregate=min,max,avg&time=2018-04-01T00:00:00Z/2018-05-01T00:00:00Z&fields=NDVI=(B08-B04)/(B08%2BB04)\n",
      "Status code: 200\n"
     ]
    }
   ],
   "source": [
    "# DAPA URL\n",
    "url = '{}/{}/{}/{}'.format(dapa_url, 'collections', collection, 'dapa/timeseries/area')\n",
    "\n",
    "# Parameters for this request\n",
    "params = {\n",
    "    #'point': '11.49,48.05',\n",
    "    'bbox': '11.49,48.05,11.66,48.22',\n",
    "    'aggregate': 'min,max,avg',\n",
    "    'time': '2018-04-01T00:00:00Z/2018-05-01T00:00:00Z',\n",
    "    'fields': 'NDVI=(B08-B04)/(B08%2BB04)'    # Please note: + signs need to be URL encoded -> %2B\n",
    "}\n",
    "\n",
    "params_str = \"&\".join(\"%s=%s\" % (k, v) for k,v in params.items())\n",
    "r = requests.get(url, params=params_str)\n",
    "\n",
    "print('DAPA path: {}'.format(r.url.replace(service_url, '')))\n",
    "print('Status code: {}'.format(r.status_code))"
   ]
  },
  {
   "cell_type": "code",
   "execution_count": 14,
   "metadata": {},
   "outputs": [
    {
     "data": {
      "text/html": [
       "<div>\n",
       "<style scoped>\n",
       "    .dataframe tbody tr th:only-of-type {\n",
       "        vertical-align: middle;\n",
       "    }\n",
       "\n",
       "    .dataframe tbody tr th {\n",
       "        vertical-align: top;\n",
       "    }\n",
       "\n",
       "    .dataframe thead th {\n",
       "        text-align: right;\n",
       "    }\n",
       "</style>\n",
       "<table border=\"1\" class=\"dataframe\">\n",
       "  <thead>\n",
       "    <tr style=\"text-align: right;\">\n",
       "      <th></th>\n",
       "      <th>NDVI_min</th>\n",
       "      <th>NDVI_max</th>\n",
       "      <th>NDVI_avg</th>\n",
       "    </tr>\n",
       "    <tr>\n",
       "      <th>datetime</th>\n",
       "      <th></th>\n",
       "      <th></th>\n",
       "      <th></th>\n",
       "    </tr>\n",
       "  </thead>\n",
       "  <tbody>\n",
       "    <tr>\n",
       "      <th>2018-04-02 10:24:35+00:00</th>\n",
       "      <td>-1.000000</td>\n",
       "      <td>1.000000</td>\n",
       "      <td>0.351652</td>\n",
       "    </tr>\n",
       "    <tr>\n",
       "      <th>2018-04-04 10:10:21+00:00</th>\n",
       "      <td>-0.089418</td>\n",
       "      <td>0.601969</td>\n",
       "      <td>0.146855</td>\n",
       "    </tr>\n",
       "    <tr>\n",
       "      <th>2018-04-07 10:20:20+00:00</th>\n",
       "      <td>-1.000000</td>\n",
       "      <td>1.000000</td>\n",
       "      <td>0.366545</td>\n",
       "    </tr>\n",
       "    <tr>\n",
       "      <th>2018-04-09 10:13:43+00:00</th>\n",
       "      <td>-0.236350</td>\n",
       "      <td>0.874247</td>\n",
       "      <td>0.190702</td>\n",
       "    </tr>\n",
       "    <tr>\n",
       "      <th>2018-04-12 10:20:24+00:00</th>\n",
       "      <td>-0.086605</td>\n",
       "      <td>0.435908</td>\n",
       "      <td>0.096532</td>\n",
       "    </tr>\n",
       "    <tr>\n",
       "      <th>2018-04-14 10:15:36+00:00</th>\n",
       "      <td>-0.210497</td>\n",
       "      <td>0.798558</td>\n",
       "      <td>0.313741</td>\n",
       "    </tr>\n",
       "    <tr>\n",
       "      <th>2018-04-17 10:20:21+00:00</th>\n",
       "      <td>-0.565506</td>\n",
       "      <td>0.914530</td>\n",
       "      <td>0.217762</td>\n",
       "    </tr>\n",
       "    <tr>\n",
       "      <th>2018-04-19 10:14:57+00:00</th>\n",
       "      <td>-1.000000</td>\n",
       "      <td>1.000000</td>\n",
       "      <td>0.428746</td>\n",
       "    </tr>\n",
       "    <tr>\n",
       "      <th>2018-04-22 10:21:15+00:00</th>\n",
       "      <td>-1.000000</td>\n",
       "      <td>1.000000</td>\n",
       "      <td>0.459265</td>\n",
       "    </tr>\n",
       "    <tr>\n",
       "      <th>2018-04-24 10:15:26+00:00</th>\n",
       "      <td>-0.377535</td>\n",
       "      <td>1.000000</td>\n",
       "      <td>0.289178</td>\n",
       "    </tr>\n",
       "    <tr>\n",
       "      <th>2018-04-27 10:20:22+00:00</th>\n",
       "      <td>-1.000000</td>\n",
       "      <td>1.000000</td>\n",
       "      <td>0.490446</td>\n",
       "    </tr>\n",
       "    <tr>\n",
       "      <th>2018-04-29 10:12:58+00:00</th>\n",
       "      <td>-0.006635</td>\n",
       "      <td>0.830065</td>\n",
       "      <td>0.230646</td>\n",
       "    </tr>\n",
       "  </tbody>\n",
       "</table>\n",
       "</div>"
      ],
      "text/plain": [
       "                           NDVI_min  NDVI_max  NDVI_avg\n",
       "datetime                                               \n",
       "2018-04-02 10:24:35+00:00 -1.000000  1.000000  0.351652\n",
       "2018-04-04 10:10:21+00:00 -0.089418  0.601969  0.146855\n",
       "2018-04-07 10:20:20+00:00 -1.000000  1.000000  0.366545\n",
       "2018-04-09 10:13:43+00:00 -0.236350  0.874247  0.190702\n",
       "2018-04-12 10:20:24+00:00 -0.086605  0.435908  0.096532\n",
       "2018-04-14 10:15:36+00:00 -0.210497  0.798558  0.313741\n",
       "2018-04-17 10:20:21+00:00 -0.565506  0.914530  0.217762\n",
       "2018-04-19 10:14:57+00:00 -1.000000  1.000000  0.428746\n",
       "2018-04-22 10:21:15+00:00 -1.000000  1.000000  0.459265\n",
       "2018-04-24 10:15:26+00:00 -0.377535  1.000000  0.289178\n",
       "2018-04-27 10:20:22+00:00 -1.000000  1.000000  0.490446\n",
       "2018-04-29 10:12:58+00:00 -0.006635  0.830065  0.230646"
      ]
     },
     "execution_count": 14,
     "metadata": {},
     "output_type": "execute_result"
    }
   ],
   "source": [
    "# read data into Pandas dataframe\n",
    "from io import StringIO\n",
    "ds = pd.read_csv(StringIO(r.text), parse_dates=['datetime'])\n",
    "\n",
    "# set index to datetime column\n",
    "ds.set_index('datetime', inplace=True)\n",
    "\n",
    "# show dataframe\n",
    "ds"
   ]
  },
  {
   "cell_type": "code",
   "execution_count": 16,
   "metadata": {},
   "outputs": [
    {
     "data": {
      "text/plain": [
       "<matplotlib.axes._subplots.AxesSubplot at 0x7efe5e33b760>"
      ]
     },
     "execution_count": 16,
     "metadata": {},
     "output_type": "execute_result"
    },
    {
     "data": {
      "image/png": "[encoded data removed]",
      "text/plain": [
       "<Figure size 432x288 with 1 Axes>"
      ]
     },
     "metadata": {
      "needs_background": "light"
     },
     "output_type": "display_data"
    }
   ],
   "source": [
    "ds.plot()"
   ]
  }
 ],
 "metadata": {
  "kernelspec": {
   "display_name": "EDC 0.19.6 (Python3)",
   "language": "python",
   "name": "edc"
  },
  "language_info": {
   "codemirror_mode": {
    "name": "ipython",
    "version": 3
   },
   "file_extension": ".py",
   "mimetype": "text/x-python",
   "name": "python",
   "nbconvert_exporter": "python",
   "pygments_lexer": "ipython3",
   "version": "3.8.4"
  },
  "papermill": {
   "duration": 19.844003,
   "end_time": "2020-07-15T12:32:44.529274",
   "environment_variables": {},
   "exception": null,
   "input_path": "/tmp/tmphsqa90jm",
   "output_path": "/tmp/notebook_output.ipynb",
   "parameters": {},
   "start_time": "2020-07-15T12:32:24.685271",
   "version": "2.1.2"
  },
  "properties": {
   "authors": [
    {
     "id": "47919774-57f5-4b2d-9f6c-570b91e23604",
     "name": "jonas.eberle@dlr.de"
    }
   ],
   "description": "Timeseries extraction based on DAPA experimental interface",
   "id": "6cf1d7e1-ad61-4dac-8dd0-e2bfedb6e343",
   "license": null,
   "name": "DAPA Tutorial #3: Timeseries - Sentinel-2 - OGC Testbed 16",
   "requirements": [],
   "tags": [
    "DAPA"
   ],
   "tosAgree": true,
   "type": "Jupyter Notebook",
   "version": "0.1"
  },
  "widgets": {
   "application/vnd.jupyter.widget-state+json": {
    "state": {
     "2596ba66df874b8588de01abe8a214fe": {
      "model_module": "jupyter-leaflet",
      "model_module_version": "^0.13.1",
      "model_name": "LeafletMapStyleModel",
      "state": {
       "_model_module": "jupyter-leaflet",
       "_model_module_version": "^0.13.1",
       "_model_name": "LeafletMapStyleModel",
       "_view_count": null,
       "_view_module": "@jupyter-widgets/base",
       "_view_module_version": "1.2.0",
       "_view_name": "StyleView",
       "cursor": "grab"
      }
     },
     "56d94c32b66b4e8981e46d445a79318f": {
      "model_module": "jupyter-leaflet",
      "model_module_version": "^0.13.1",
      "model_name": "LeafletTileLayerModel",
      "state": {
       "_model_module": "jupyter-leaflet",
       "_model_module_version": "^0.13.1",
       "_model_name": "LeafletTileLayerModel",
       "_view_count": null,
       "_view_module": "jupyter-leaflet",
       "_view_module_version": "^0.13.1",
       "_view_name": "LeafletTileLayerView",
       "attribution": "Map data (c) <a href=\"https://openstreetmap.org\">OpenStreetMap</a> contributors",
       "base": true,
       "bottom": true,
       "detect_retina": false,
       "loading": false,
       "max_native_zoom": 18,
       "max_zoom": 19,
       "min_native_zoom": 0,
       "min_zoom": 1,
       "name": "OpenStreetMap.Mapnik",
       "no_wrap": false,
       "opacity": 1,
       "options": [
        "attribution",
        "detect_retina",
        "max_native_zoom",
        "max_zoom",
        "min_native_zoom",
        "min_zoom",
        "no_wrap",
        "tile_size",
        "tms"
       ],
       "popup": null,
       "popup_max_height": null,
       "popup_max_width": 300,
       "popup_min_width": 50,
       "show_loading": false,
       "tile_size": 256,
       "tms": false,
       "url": "https://{s}.tile.openstreetmap.org/{z}/{x}/{y}.png",
       "visible": true
      }
     },
     "5dddbb539c364326a66e54eca95f4bab": {
      "model_module": "@jupyter-widgets/base",
      "model_module_version": "1.2.0",
      "model_name": "LayoutModel",
      "state": {
       "_model_module": "@jupyter-widgets/base",
       "_model_module_version": "1.2.0",
       "_model_name": "LayoutModel",
       "_view_count": null,
       "_view_module": "@jupyter-widgets/base",
       "_view_module_version": "1.2.0",
       "_view_name": "LayoutView",
       "align_content": null,
       "align_items": null,
       "align_self": null,
       "border": null,
       "bottom": null,
       "display": null,
       "flex": null,
       "flex_flow": null,
       "grid_area": null,
       "grid_auto_columns": null,
       "grid_auto_flow": null,
       "grid_auto_rows": null,
       "grid_column": null,
       "grid_gap": null,
       "grid_row": null,
       "grid_template_areas": null,
       "grid_template_columns": null,
       "grid_template_rows": null,
       "height": null,
       "justify_content": null,
       "justify_items": null,
       "left": null,
       "margin": null,
       "max_height": null,
       "max_width": null,
       "min_height": null,
       "min_width": null,
       "object_fit": null,
       "object_position": null,
       "order": null,
       "overflow": null,
       "overflow_x": null,
       "overflow_y": null,
       "padding": null,
       "right": null,
       "top": null,
       "visibility": null,
       "width": null
      }
     },
     "60aee4cd98134ba19451076607c2a362": {
      "model_module": "jupyter-leaflet",
      "model_module_version": "^0.13.1",
      "model_name": "LeafletAttributionControlModel",
      "state": {
       "_model_module": "jupyter-leaflet",
       "_model_module_version": "^0.13.1",
       "_model_name": "LeafletAttributionControlModel",
       "_view_count": null,
       "_view_module": "jupyter-leaflet",
       "_view_module_version": "^0.13.1",
       "_view_name": "LeafletAttributionControlView",
       "options": [
        "position",
        "prefix"
       ],
       "position": "bottomright",
       "prefix": "Leaflet"
      }
     },
     "722f673428144c71b52e448ec8becc7c": {
      "model_module": "jupyter-leaflet",
      "model_module_version": "^0.13.1",
      "model_name": "LeafletMapStyleModel",
      "state": {
       "_model_module": "jupyter-leaflet",
       "_model_module_version": "^0.13.1",
       "_model_name": "LeafletMapStyleModel",
       "_view_count": null,
       "_view_module": "@jupyter-widgets/base",
       "_view_module_version": "1.2.0",
       "_view_name": "StyleView",
       "cursor": "grab"
      }
     },
     "bafbf9c03e2a44ad93827fd49f4e6dff": {
      "model_module": "jupyter-leaflet",
      "model_module_version": "^0.13.1",
      "model_name": "LeafletMarkerModel",
      "state": {
       "_model_module": "jupyter-leaflet",
       "_model_module_version": "^0.13.1",
       "_model_name": "LeafletMarkerModel",
       "_view_count": null,
       "_view_module": "jupyter-leaflet",
       "_view_module_version": "^0.13.1",
       "_view_name": "LeafletMarkerView",
       "alt": "",
       "base": false,
       "bottom": false,
       "draggable": false,
       "icon": null,
       "keyboard": true,
       "location": [
        48.05,
        11.49
       ],
       "name": "",
       "opacity": 1,
       "options": [
        "alt",
        "draggable",
        "keyboard",
        "rise_offset",
        "rise_on_hover",
        "rotation_angle",
        "rotation_origin",
        "title",
        "z_index_offset"
       ],
       "popup": null,
       "popup_max_height": null,
       "popup_max_width": 300,
       "popup_min_width": 50,
       "rise_offset": 250,
       "rise_on_hover": false,
       "rotation_angle": 0,
       "rotation_origin": "",
       "title": "",
       "visible": true,
       "z_index_offset": 0
      }
     },
     "cb4139cf0ce44c409a21c856ae645b93": {
      "model_module": "jupyter-leaflet",
      "model_module_version": "^0.13.1",
      "model_name": "LeafletZoomControlModel",
      "state": {
       "_model_module": "jupyter-leaflet",
       "_model_module_version": "^0.13.1",
       "_model_name": "LeafletZoomControlModel",
       "_view_count": null,
       "_view_module": "jupyter-leaflet",
       "_view_module_version": "^0.13.1",
       "_view_name": "LeafletZoomControlView",
       "options": [
        "position",
        "zoom_in_text",
        "zoom_in_title",
        "zoom_out_text",
        "zoom_out_title"
       ],
       "position": "topleft",
       "zoom_in_text": "+",
       "zoom_in_title": "Zoom in",
       "zoom_out_text": "-",
       "zoom_out_title": "Zoom out"
      }
     },
     "e5a372419b204cd98227281578609984": {
      "model_module": "jupyter-leaflet",
      "model_module_version": "^0.13.1",
      "model_name": "LeafletMapModel",
      "state": {
       "_dom_classes": [],
       "_model_module": "jupyter-leaflet",
       "_model_module_version": "^0.13.1",
       "_model_name": "LeafletMapModel",
       "_view_count": null,
       "_view_module": "jupyter-leaflet",
       "_view_module_version": "^0.13.1",
       "_view_name": "LeafletMapView",
       "bottom": 0,
       "bounce_at_zoom_limits": true,
       "box_zoom": true,
       "center": [
        48.05,
        11.49
       ],
       "close_popup_on_click": true,
       "controls": [
        "IPY_MODEL_cb4139cf0ce44c409a21c856ae645b93",
        "IPY_MODEL_60aee4cd98134ba19451076607c2a362"
       ],
       "crs": {
        "custom": false,
        "name": "EPSG3857"
       },
       "default_style": "IPY_MODEL_722f673428144c71b52e448ec8becc7c",
       "double_click_zoom": true,
       "dragging": true,
       "dragging_style": "IPY_MODEL_eb98c818721a4bb3b3f28f506cb9a09b",
       "east": 0,
       "fullscreen": false,
       "inertia": true,
       "inertia_deceleration": 3000,
       "inertia_max_speed": 1500,
       "interpolation": "bilinear",
       "keyboard": true,
       "keyboard_pan_offset": 80,
       "keyboard_zoom_offset": 1,
       "layers": [
        "IPY_MODEL_56d94c32b66b4e8981e46d445a79318f",
        "IPY_MODEL_bafbf9c03e2a44ad93827fd49f4e6dff"
       ],
       "layout": "IPY_MODEL_5dddbb539c364326a66e54eca95f4bab",
       "left": 9007199254740991,
       "max_zoom": 18,
       "min_zoom": 1,
       "modisdate": "yesterday",
       "north": 0,
       "options": [
        "bounce_at_zoom_limits",
        "box_zoom",
        "center",
        "close_popup_on_click",
        "double_click_zoom",
        "dragging",
        "fullscreen",
        "inertia",
        "inertia_deceleration",
        "inertia_max_speed",
        "interpolation",
        "keyboard",
        "keyboard_pan_offset",
        "keyboard_zoom_offset",
        "max_zoom",
        "min_zoom",
        "scroll_wheel_zoom",
        "tap",
        "tap_tolerance",
        "touch_zoom",
        "world_copy_jump",
        "zoom",
        "zoom_animation_threshold",
        "zoom_delta",
        "zoom_snap",
        "zoom_start"
       ],
       "right": 0,
       "scroll_wheel_zoom": false,
       "south": 0,
       "style": "IPY_MODEL_2596ba66df874b8588de01abe8a214fe",
       "tap": true,
       "tap_tolerance": 15,
       "top": 9007199254740991,
       "touch_zoom": true,
       "west": 0,
       "window_url": "",
       "world_copy_jump": false,
       "zoom": 10,
       "zoom_animation_threshold": 4,
       "zoom_delta": 1,
       "zoom_snap": 1,
       "zoom_start": 12
      }
     },
     "eb98c818721a4bb3b3f28f506cb9a09b": {
      "model_module": "jupyter-leaflet",
      "model_module_version": "^0.13.1",
      "model_name": "LeafletMapStyleModel",
      "state": {
       "_model_module": "jupyter-leaflet",
       "_model_module_version": "^0.13.1",
       "_model_name": "LeafletMapStyleModel",
       "_view_count": null,
       "_view_module": "@jupyter-widgets/base",
       "_view_module_version": "1.2.0",
       "_view_name": "StyleView",
       "cursor": "move"
      }
     }
    },
    "version_major": 2,
    "version_minor": 0
   }
  }
 },
 "nbformat": 4,
 "nbformat_minor": 4
}
