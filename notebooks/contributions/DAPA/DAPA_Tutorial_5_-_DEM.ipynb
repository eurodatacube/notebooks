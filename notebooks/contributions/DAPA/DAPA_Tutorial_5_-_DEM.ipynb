{
 "cells": [
  {
   "cell_type": "markdown",
   "metadata": {
    "papermill": {
     "duration": 0.013524,
     "end_time": "2020-07-15T14:30:03.302958",
     "exception": false,
     "start_time": "2020-07-15T14:30:03.289434",
     "status": "completed"
    },
    "tags": []
   },
   "source": [
    "# DAPA Tutorial #5: DEM"
   ]
  },
  {
   "cell_type": "markdown",
   "metadata": {
    "papermill": {
     "duration": 0.016143,
     "end_time": "2020-07-15T14:30:03.331560",
     "exception": false,
     "start_time": "2020-07-15T14:30:03.315417",
     "status": "completed"
    },
    "tags": []
   },
   "source": [
    "## Load environment variables\n",
    "Please make sure that the environment variable \"DAPA_URL\" is set in the `custom.env` file. You can check this by executing the following block. \n",
    "\n",
    "If DAPA_URL is not set, please create a text file named `custom.env` in your home directory with the following input: \n",
    ">DAPA_URL=YOUR-PERSONAL-DAPA-APP-URL"
   ]
  },
  {
   "cell_type": "code",
   "execution_count": 1,
   "metadata": {
    "papermill": {
     "duration": 0.066663,
     "end_time": "2020-07-15T14:30:03.410055",
     "exception": false,
     "start_time": "2020-07-15T14:30:03.343392",
     "status": "completed"
    },
    "tags": []
   },
   "outputs": [
    {
     "data": {
      "text/markdown": [
       "API credentials have automatically been injected for your active subscriptions.  \n",
       "The following environment variables are now available:\n",
       "* `SH_CLIENT_ID`, `SH_CLIENT_NAME`, `SH_CLIENT_SECRET`, `SH_INSTANCE_ID`\n",
       "\n",
       "The following additional environment variables have been loaded from `~/custom.env`:\n",
       "* `DAPA_URL`\n"
      ],
      "text/plain": [
       "<IPython.core.display.Markdown object>"
      ]
     },
     "metadata": {},
     "output_type": "display_data"
    }
   ],
   "source": [
    "from edc import setup_environment_variables\n",
    "setup_environment_variables()"
   ]
  },
  {
   "cell_type": "markdown",
   "metadata": {
    "papermill": {
     "duration": 0.012433,
     "end_time": "2020-07-15T14:30:03.435196",
     "exception": false,
     "start_time": "2020-07-15T14:30:03.422763",
     "status": "completed"
    },
    "tags": []
   },
   "source": [
    "## Check notebook compabtibility\n",
    "**Please note:** If you conduct this notebook again at a later time, the base image of this Jupyter Hub service can include newer versions of the libraries installed. Thus, the notebook execution can fail. This compatibility check is only necessary when something is broken. "
   ]
  },
  {
   "cell_type": "code",
   "execution_count": 2,
   "metadata": {
    "papermill": {
     "duration": 0.018533,
     "end_time": "2020-07-15T14:30:03.466082",
     "exception": false,
     "start_time": "2020-07-15T14:30:03.447549",
     "status": "completed"
    },
    "tags": []
   },
   "outputs": [
    {
     "data": {
      "text/markdown": [
       "This notebook is compatible with this base image version (user-0.19.6)."
      ],
      "text/plain": [
       "<IPython.core.display.Markdown object>"
      ]
     },
     "metadata": {},
     "output_type": "display_data"
    }
   ],
   "source": [
    "from edc import check_compatibility\n",
    "check_compatibility(\"user-0.19.6\")"
   ]
  },
  {
   "cell_type": "markdown",
   "metadata": {
    "papermill": {
     "duration": 0.012637,
     "end_time": "2020-07-15T14:30:03.491192",
     "exception": false,
     "start_time": "2020-07-15T14:30:03.478555",
     "status": "completed"
    },
    "tags": []
   },
   "source": [
    "## Load libraries"
   ]
  },
  {
   "cell_type": "markdown",
   "metadata": {
    "papermill": {
     "duration": 0.012145,
     "end_time": "2020-07-15T14:30:03.516304",
     "exception": false,
     "start_time": "2020-07-15T14:30:03.504159",
     "status": "completed"
    },
    "tags": []
   },
   "source": [
    "Python libraries used in this tutorial will be loaded."
   ]
  },
  {
   "cell_type": "code",
   "execution_count": 3,
   "metadata": {
    "papermill": {
     "duration": 2.055458,
     "end_time": "2020-07-15T14:30:05.583783",
     "exception": false,
     "start_time": "2020-07-15T14:30:03.528325",
     "status": "completed"
    },
    "tags": []
   },
   "outputs": [],
   "source": [
    "import os\n",
    "import xarray as xr\n",
    "import pandas as pd\n",
    "import requests\n",
    "import matplotlib\n",
    "import rasterio\n",
    "from rasterio.plot import show\n",
    "from ipyleaflet import Map, Rectangle, DrawControl, basemaps, basemap_to_tiles\n",
    "%matplotlib inline"
   ]
  },
  {
   "cell_type": "markdown",
   "metadata": {
    "papermill": {
     "duration": 0.012077,
     "end_time": "2020-07-15T14:30:05.608525",
     "exception": false,
     "start_time": "2020-07-15T14:30:05.596448",
     "status": "completed"
    },
    "tags": []
   },
   "source": [
    "## Set DAPA endpoint\n",
    "Execute the following code to check if the DAPA_URL is available in the environment variable and to set the `/dapa` endpoint. "
   ]
  },
  {
   "cell_type": "code",
   "execution_count": 4,
   "metadata": {
    "papermill": {
     "duration": 0.018757,
     "end_time": "2020-07-15T14:30:05.639198",
     "exception": false,
     "start_time": "2020-07-15T14:30:05.620441",
     "status": "completed"
    },
    "tags": []
   },
   "outputs": [
    {
     "name": "stdout",
     "output_type": "stream",
     "text": [
      "DAPA path: /oapi\n"
     ]
    }
   ],
   "source": [
    "service_url = None\n",
    "dapa_url = None\n",
    "\n",
    "if 'DAPA_URL' not in os.environ:\n",
    "    print('!! DAPA_URL does not exist as environment variable. Please make sure this is the case - see first block of this notebook! !!')\n",
    "else:    \n",
    "    service_url = os.environ['DAPA_URL']\n",
    "    dapa_url = '{}/{}'.format(service_url, 'oapi')\n",
    "    print('DAPA path: {}'.format(dapa_url.replace(service_url, '')))"
   ]
  },
  {
   "cell_type": "markdown",
   "metadata": {
    "papermill": {
     "duration": 0.012218,
     "end_time": "2020-07-15T14:30:05.667985",
     "exception": false,
     "start_time": "2020-07-15T14:30:05.655767",
     "status": "completed"
    },
    "tags": []
   },
   "source": [
    "## Get collections supported by this endpoint\n",
    "This request provides a list of collections. The path of each collection is used as starting path of this service."
   ]
  },
  {
   "cell_type": "code",
   "execution_count": 5,
   "metadata": {
    "papermill": {
     "duration": 0.04802,
     "end_time": "2020-07-15T14:30:05.728135",
     "exception": false,
     "start_time": "2020-07-15T14:30:05.680115",
     "status": "completed"
    },
    "tags": []
   },
   "outputs": [
    {
     "name": "stdout",
     "output_type": "stream",
     "text": [
      "DAPA path: /oapi/collections\n"
     ]
    },
    {
     "data": {
      "text/plain": [
       "['/oapi/collections/DEM/dapa/',\n",
       " '/oapi/collections/L8L1C/dapa/',\n",
       " '/oapi/collections/S1GRD/dapa/',\n",
       " '/oapi/collections/S2L1C/dapa/',\n",
       " '/oapi/collections/S2L2A/dapa/',\n",
       " '/oapi/collections/S3OLCI/dapa/',\n",
       " '/oapi/collections/S3SLSTR/dapa/',\n",
       " '/oapi/collections/S5PL2/dapa/',\n",
       " '/oapi/collections/MODIS/dapa/']"
      ]
     },
     "execution_count": 5,
     "metadata": {},
     "output_type": "execute_result"
    }
   ],
   "source": [
    "collections_url = '{}/{}'.format(dapa_url, 'collections')\n",
    "collections = requests.get(collections_url)\n",
    "\n",
    "print('DAPA path: {}'.format(collections.url.replace(service_url, '')))\n",
    "collections.json()"
   ]
  },
  {
   "cell_type": "markdown",
   "metadata": {
    "papermill": {
     "duration": 0.012602,
     "end_time": "2020-07-15T14:30:05.753270",
     "exception": false,
     "start_time": "2020-07-15T14:30:05.740668",
     "status": "completed"
    },
    "tags": []
   },
   "source": [
    "## Get fields of collection DEM\n",
    "The fields (or variables in other DAPA endpoints - these are the bands of the raster data) can be retrieved in all requests to the DAPA endpoint. In addition to the fixed set of fields, \"virtual\" fields can be used to conduct math operations (e.g., the calculation of indices). "
   ]
  },
  {
   "cell_type": "code",
   "execution_count": 6,
   "metadata": {
    "papermill": {
     "duration": 0.044432,
     "end_time": "2020-07-15T14:30:05.810050",
     "exception": false,
     "start_time": "2020-07-15T14:30:05.765618",
     "status": "completed"
    },
    "tags": []
   },
   "outputs": [
    {
     "name": "stdout",
     "output_type": "stream",
     "text": [
      "DAPA path: /oapi/collections/DEM/dapa/fields\n"
     ]
    },
    {
     "data": {
      "text/plain": [
       "[{'id': 'DEM'}]"
      ]
     },
     "execution_count": 6,
     "metadata": {},
     "output_type": "execute_result"
    }
   ],
   "source": [
    "collection = 'DEM'\n",
    "\n",
    "fields_url = '{}/{}/{}/{}'.format(dapa_url, 'collections', collection, 'dapa/fields')\n",
    "fields = requests.get(fields_url)\n",
    "\n",
    "print('DAPA path: {}'.format(fields.url.replace(service_url, '')))\n",
    "fields.json()"
   ]
  },
  {
   "cell_type": "markdown",
   "metadata": {
    "papermill": {
     "duration": 0.013004,
     "end_time": "2020-07-15T14:30:05.835988",
     "exception": false,
     "start_time": "2020-07-15T14:30:05.822984",
     "status": "completed"
    },
    "tags": []
   },
   "source": [
    "## Retrieve a subset of an area of interest"
   ]
  },
  {
   "cell_type": "markdown",
   "metadata": {
    "papermill": {
     "duration": 0.013144,
     "end_time": "2020-07-15T14:30:05.862090",
     "exception": false,
     "start_time": "2020-07-15T14:30:05.848946",
     "status": "completed"
    },
    "tags": []
   },
   "source": [
    "### Set DAPA URL and parameters\n",
    "The output of this request is a single raster (`area` endpoint). As the input collection (DEM) is a single raster as well, only subsetting is done, no aggregation method needs to be specified.\n",
    "\n",
    "To retrieve a subset of an area of interest, a bounding box (`bbox`) or polygon geometry (`geom`) needs to be provided. Also the band (`field`) to be returned by DAPA needs to be specified."
   ]
  },
  {
   "cell_type": "code",
   "execution_count": 7,
   "metadata": {
    "papermill": {
     "duration": 0.039846,
     "end_time": "2020-07-15T14:30:05.914947",
     "exception": false,
     "start_time": "2020-07-15T14:30:05.875101",
     "status": "completed"
    },
    "tags": []
   },
   "outputs": [
    {
     "data": {
      "application/vnd.jupyter.widget-view+json": {
       "model_id": "bafbb7901fde4c7eb8ed532e81100701",
       "version_major": 2,
       "version_minor": 0
      },
      "text/plain": [
       "Map(center=[48.25, 11.5], controls=(ZoomControl(options=['position', 'zoom_in_text', 'zoom_in_title', 'zoom_ou…"
      ]
     },
     "metadata": {},
     "output_type": "display_data"
    }
   ],
   "source": [
    "# DAPA URL\n",
    "url = '{}/{}/{}/{}'.format(dapa_url, 'collections', collection, 'dapa/area')\n",
    "\n",
    "# Parameters for this request\n",
    "params = {\n",
    "    'bbox': '11,48,12,48.5',\n",
    "    'fields': 'DEM'\n",
    "}\n",
    "\n",
    "# show area in the map\n",
    "m = Map(\n",
    "    basemap=basemap_to_tiles(basemaps.OpenStreetMap.Mapnik),\n",
    "    center=(48.25, 11.5),\n",
    "    zoom=9\n",
    ")\n",
    "\n",
    "bbox = [float(coord) for coord in params['bbox'].split(',')]\n",
    "rectangle = Rectangle(bounds=((bbox[1], bbox[0]), (bbox[3], bbox[2])))\n",
    "m.add_layer(rectangle)\n",
    "m"
   ]
  },
  {
   "cell_type": "markdown",
   "metadata": {
    "papermill": {
     "duration": 0.013706,
     "end_time": "2020-07-15T14:30:05.942360",
     "exception": false,
     "start_time": "2020-07-15T14:30:05.928654",
     "status": "completed"
    },
    "tags": []
   },
   "source": [
    "### Build request URL and conduct request"
   ]
  },
  {
   "cell_type": "code",
   "execution_count": 8,
   "metadata": {
    "papermill": {
     "duration": 0.35372,
     "end_time": "2020-07-15T14:30:06.314003",
     "exception": false,
     "start_time": "2020-07-15T14:30:05.960283",
     "status": "completed"
    },
    "tags": []
   },
   "outputs": [
    {
     "name": "stdout",
     "output_type": "stream",
     "text": [
      "DAPA path: /oapi/collections/DEM/dapa/area?bbox=11,48,12,48.5&fields=DEM\n",
      "Status code: 200\n"
     ]
    }
   ],
   "source": [
    "params_str = \"&\".join(\"%s=%s\" % (k, v) for k,v in params.items())\n",
    "r = requests.get(url, params=params_str)\n",
    "\n",
    "print('DAPA path: {}'.format(r.url.replace(service_url, '')))\n",
    "print('Status code: {}'.format(r.status_code))"
   ]
  },
  {
   "cell_type": "markdown",
   "metadata": {
    "papermill": {
     "duration": 0.01339,
     "end_time": "2020-07-15T14:30:06.341010",
     "exception": false,
     "start_time": "2020-07-15T14:30:06.327620",
     "status": "completed"
    },
    "tags": []
   },
   "source": [
    "### Write raster dataset to GeoTIFF file\n",
    "The response of the `area` endpoint is currently a GeoTIFF file, which can either be saved to disk or used directly in further processing."
   ]
  },
  {
   "cell_type": "code",
   "execution_count": 9,
   "metadata": {
    "papermill": {
     "duration": 0.019171,
     "end_time": "2020-07-15T14:30:06.373585",
     "exception": false,
     "start_time": "2020-07-15T14:30:06.354414",
     "status": "completed"
    },
    "tags": []
   },
   "outputs": [],
   "source": [
    "with open('dem_subset.tif', 'wb') as filew:\n",
    "    filew.write(r.content)"
   ]
  },
  {
   "cell_type": "markdown",
   "metadata": {
    "papermill": {
     "duration": 0.013341,
     "end_time": "2020-07-15T14:30:06.400629",
     "exception": false,
     "start_time": "2020-07-15T14:30:06.387288",
     "status": "completed"
    },
    "tags": []
   },
   "source": [
    "### Open raster dataset with xarray\n",
    "The GeoTIFF file can be opened with xarray. As the request only specified one field and no aggregation is needed, only one band is available."
   ]
  },
  {
   "cell_type": "code",
   "execution_count": 10,
   "metadata": {
    "papermill": {
     "duration": 0.045052,
     "end_time": "2020-07-15T14:30:06.459117",
     "exception": false,
     "start_time": "2020-07-15T14:30:06.414065",
     "status": "completed"
    },
    "tags": []
   },
   "outputs": [
    {
     "data": {
      "text/html": [
       "<pre>&lt;xarray.DataArray (band: 1, y: 512, x: 512)&gt;\n",
       "[262144 values with dtype=float32]\n",
       "Coordinates:\n",
       "  * band     (band) int64 1\n",
       "  * y        (y) float64 48.5 48.5 48.5 48.5 48.5 ... 48.0 48.0 48.0 48.0 48.0\n",
       "  * x        (x) float64 11.0 11.0 11.0 11.01 11.01 ... 11.99 12.0 12.0 12.0\n",
       "Attributes:\n",
       "    transform:               (0.001953125, 0.0, 11.0, 0.0, -0.0009765625, 48.5)\n",
       "    crs:                     +init=epsg:4326\n",
       "    res:                     (0.001953125, 0.0009765625)\n",
       "    is_tiled:                0\n",
       "    nodatavals:              (nan,)\n",
       "    scales:                  (1.0,)\n",
       "    offsets:                 (0.0,)\n",
       "    descriptions:            (&#x27;DEM&#x27;,)\n",
       "    AREA_OR_POINT:           Area\n",
       "    TIFFTAG_RESOLUTIONUNIT:  1 (unitless)\n",
       "    TIFFTAG_XRESOLUTION:     1\n",
       "    TIFFTAG_YRESOLUTION:     1</pre>"
      ],
      "text/plain": [
       "<xarray.DataArray (band: 1, y: 512, x: 512)>\n",
       "[262144 values with dtype=float32]\n",
       "Coordinates:\n",
       "  * band     (band) int64 1\n",
       "  * y        (y) float64 48.5 48.5 48.5 48.5 48.5 ... 48.0 48.0 48.0 48.0 48.0\n",
       "  * x        (x) float64 11.0 11.0 11.0 11.01 11.01 ... 11.99 12.0 12.0 12.0\n",
       "Attributes:\n",
       "    transform:               (0.001953125, 0.0, 11.0, 0.0, -0.0009765625, 48.5)\n",
       "    crs:                     +init=epsg:4326\n",
       "    res:                     (0.001953125, 0.0009765625)\n",
       "    is_tiled:                0\n",
       "    nodatavals:              (nan,)\n",
       "    scales:                  (1.0,)\n",
       "    offsets:                 (0.0,)\n",
       "    descriptions:            ('DEM',)\n",
       "    AREA_OR_POINT:           Area\n",
       "    TIFFTAG_RESOLUTIONUNIT:  1 (unitless)\n",
       "    TIFFTAG_XRESOLUTION:     1\n",
       "    TIFFTAG_YRESOLUTION:     1"
      ]
     },
     "execution_count": 10,
     "metadata": {},
     "output_type": "execute_result"
    }
   ],
   "source": [
    "ds = xr.open_rasterio('dem_subset.tif')\n",
    "ds"
   ]
  },
  {
   "cell_type": "markdown",
   "metadata": {
    "papermill": {
     "duration": 0.013473,
     "end_time": "2020-07-15T14:30:06.486427",
     "exception": false,
     "start_time": "2020-07-15T14:30:06.472954",
     "status": "completed"
    },
    "tags": []
   },
   "source": [
    "### Plot DEM image"
   ]
  },
  {
   "cell_type": "code",
   "execution_count": 11,
   "metadata": {
    "papermill": {
     "duration": 0.353873,
     "end_time": "2020-07-15T14:30:06.853904",
     "exception": false,
     "start_time": "2020-07-15T14:30:06.500031",
     "status": "completed"
    },
    "tags": []
   },
   "outputs": [
    {
     "data": {
      "text/plain": [
       "<matplotlib.collections.QuadMesh at 0x7fadbb3867f0>"
      ]
     },
     "execution_count": 11,
     "metadata": {},
     "output_type": "execute_result"
    },
    {
     "data": {
      "image/png": "[encoded data removed]",
      "text/plain": [
       "<Figure size 432x288 with 2 Axes>"
      ]
     },
     "metadata": {
      "needs_background": "light"
     },
     "output_type": "display_data"
    }
   ],
   "source": [
    "ds[0].plot()"
   ]
  },
  {
   "cell_type": "markdown",
   "metadata": {
    "papermill": {
     "duration": 0.016302,
     "end_time": "2020-07-15T14:30:06.887315",
     "exception": false,
     "start_time": "2020-07-15T14:30:06.871013",
     "status": "completed"
    },
    "tags": []
   },
   "source": [
    "## Output gdalinfo"
   ]
  },
  {
   "cell_type": "code",
   "execution_count": 12,
   "metadata": {
    "papermill": {
     "duration": 0.223717,
     "end_time": "2020-07-15T14:30:07.127102",
     "exception": false,
     "start_time": "2020-07-15T14:30:06.903385",
     "status": "completed"
    },
    "scrolled": true,
    "tags": []
   },
   "outputs": [
    {
     "name": "stdout",
     "output_type": "stream",
     "text": [
      "Driver: GTiff/GeoTIFF\n",
      "Files: dem_subset.tif\n",
      "       dem_subset.tif.aux.xml\n",
      "Size is 512, 512\n",
      "Coordinate System is:\n",
      "GEOGCRS[\"WGS 84\",\n",
      "    DATUM[\"World Geodetic System 1984\",\n",
      "        ELLIPSOID[\"WGS 84\",6378137,298.257223563,\n",
      "            LENGTHUNIT[\"metre\",1]]],\n",
      "    PRIMEM[\"Greenwich\",0,\n",
      "        ANGLEUNIT[\"degree\",0.0174532925199433]],\n",
      "    CS[ellipsoidal,2],\n",
      "        AXIS[\"latitude\",north,\n",
      "            ORDER[1],\n",
      "            ANGLEUNIT[\"degree\",0.0174532925199433]],\n",
      "        AXIS[\"longitude\",east,\n",
      "            ORDER[2],\n",
      "            ANGLEUNIT[\"degree\",0.0174532925199433]],\n",
      "    ID[\"EPSG\",4326]]\n",
      "Data axis to CRS axis mapping: 2,1\n",
      "Origin = (11.000000000000000,48.500000000000000)\n",
      "Pixel Size = (0.001953125000000,-0.000976562500000)\n",
      "Metadata:\n",
      "  AREA_OR_POINT=Area\n",
      "  TIFFTAG_RESOLUTIONUNIT=1 (unitless)\n",
      "  TIFFTAG_XRESOLUTION=1\n",
      "  TIFFTAG_YRESOLUTION=1\n",
      "Image Structure Metadata:\n",
      "  COMPRESSION=DEFLATE\n",
      "  INTERLEAVE=BAND\n",
      "Corner Coordinates:\n",
      "Upper Left  (  11.0000000,  48.5000000) ( 11d 0' 0.00\"E, 48d30' 0.00\"N)\n",
      "Lower Left  (  11.0000000,  48.0000000) ( 11d 0' 0.00\"E, 48d 0' 0.00\"N)\n",
      "Upper Right (  12.0000000,  48.5000000) ( 12d 0' 0.00\"E, 48d30' 0.00\"N)\n",
      "Lower Right (  12.0000000,  48.0000000) ( 12d 0' 0.00\"E, 48d 0' 0.00\"N)\n",
      "Center      (  11.5000000,  48.2500000) ( 11d30' 0.00\"E, 48d15' 0.00\"N)\n",
      "Band 1 Block=512x8 Type=Float32, ColorInterp=Gray\n",
      "  Description = DEM\n",
      "  Min=404.000 Max=706.000 \n",
      "  Minimum=404.000, Maximum=706.000, Mean=515.058, StdDev=50.925\n",
      "  Metadata:\n",
      "    STATISTICS_MAXIMUM=706\n",
      "    STATISTICS_MEAN=515.05847167968\n",
      "    STATISTICS_MINIMUM=404\n",
      "    STATISTICS_STDDEV=50.925299661138\n",
      "    STATISTICS_VALID_PERCENT=100\n"
     ]
    }
   ],
   "source": [
    "!gdalinfo -stats dem_subset.tif"
   ]
  },
  {
   "cell_type": "markdown",
   "metadata": {
    "papermill": {
     "duration": 0.016497,
     "end_time": "2020-07-15T14:30:07.160363",
     "exception": false,
     "start_time": "2020-07-15T14:30:07.143866",
     "status": "completed"
    },
    "tags": []
   },
   "source": [
    "## Retrieve DEM value within an area of interest aggregated spatially\n",
    "The output of this request is a single value requested from an area of interest (`value/area` endpoint). As the input collection (DEM) is a single raster, only spatial aggregation is conducted.\n",
    "\n",
    "To retrieve a single value of an area of interest, a bounding box (`bbox`) or polygon geometry (`geom`) needs to be provided together with the `aggregate` parameter, which specifies the aggregation methods being conducted. The band (`field`) to be returned by DAPA needs to be specified.\n",
    "\n",
    "The response of this request returns plain text with values splitted by comma. The order of the values relates to the order of the functions specified in the `aggregate` parameter. Additional output formats will be integrated within the testbed activtiy. "
   ]
  },
  {
   "cell_type": "code",
   "execution_count": 13,
   "metadata": {
    "papermill": {
     "duration": 0.32141,
     "end_time": "2020-07-15T14:30:07.498224",
     "exception": false,
     "start_time": "2020-07-15T14:30:07.176814",
     "status": "completed"
    },
    "tags": []
   },
   "outputs": [
    {
     "name": "stdout",
     "output_type": "stream",
     "text": [
      "DAPA path: /oapi/collections/DEM/dapa/value/area?bbox=11,48,12,48.5&fields=DEM&aggregate=min,max,avg\n",
      "Status code: 200\n"
     ]
    }
   ],
   "source": [
    "url = '{}/{}/{}/{}'.format(dapa_url, 'collections', collection, 'dapa/value/area')\n",
    "params = {\n",
    "    'bbox': '11,48,12,48.5',\n",
    "    'fields': 'DEM',\n",
    "    'aggregate': 'min,max,avg'\n",
    "}\n",
    "\n",
    "params_str = \"&\".join(\"%s=%s\" % (k, v) for k,v in params.items())\n",
    "r = requests.get(url, params=params_str)\n",
    "\n",
    "print('DAPA path: {}'.format(r.url.replace(service_url, '')))\n",
    "print('Status code: {}'.format(r.status_code))"
   ]
  },
  {
   "cell_type": "markdown",
   "metadata": {
    "papermill": {
     "duration": 0.016719,
     "end_time": "2020-07-15T14:30:07.531876",
     "exception": false,
     "start_time": "2020-07-15T14:30:07.515157",
     "status": "completed"
    },
    "tags": []
   },
   "source": [
    "Print values of the request"
   ]
  },
  {
   "cell_type": "code",
   "execution_count": 14,
   "metadata": {
    "papermill": {
     "duration": 0.022922,
     "end_time": "2020-07-15T14:30:07.571943",
     "exception": false,
     "start_time": "2020-07-15T14:30:07.549021",
     "status": "completed"
    },
    "tags": []
   },
   "outputs": [
    {
     "name": "stdout",
     "output_type": "stream",
     "text": [
      "min: 404.0\n",
      "max: 706.0\n",
      "avg: 515.0584\n"
     ]
    }
   ],
   "source": [
    "values = r.text.split(',')\n",
    "print('min: %s' % values[0])\n",
    "print('max: %s' % values[1])\n",
    "print('avg: %s' % values[2])"
   ]
  },
  {
   "cell_type": "markdown",
   "metadata": {
    "papermill": {
     "duration": 0.01682,
     "end_time": "2020-07-15T14:30:07.605493",
     "exception": false,
     "start_time": "2020-07-15T14:30:07.588673",
     "status": "completed"
    },
    "tags": []
   },
   "source": [
    "## Retrieve DEM value at a specific point\n",
    "The output of this request is a single value requested from a point of interest (`value/position` endpoint). As the input collection (DEM) is a single raster and the requested geometry is a point, no aggregation is needed.\n",
    "\n",
    "To retrieve a single value of a point, the parameter `point` needs to be provided. The band (`field`) to be returned by DAPA needs to be specified.\n",
    "\n",
    "The response of this request returns plain text with values splitted by comma. The order of the values relates to the order of the fields specified in the `fields` parameter. Additional output formats will be integrated within the testbed activtiy. "
   ]
  },
  {
   "cell_type": "code",
   "execution_count": 15,
   "metadata": {
    "papermill": {
     "duration": 0.213945,
     "end_time": "2020-07-15T14:30:07.836055",
     "exception": false,
     "start_time": "2020-07-15T14:30:07.622110",
     "status": "completed"
    },
    "tags": []
   },
   "outputs": [
    {
     "name": "stdout",
     "output_type": "stream",
     "text": [
      "DAPA path: /oapi/collections/DEM/dapa/value/position?point=11,48&fields=DEM\n",
      "Status code: 200\n",
      "Value: 648.0\n"
     ]
    }
   ],
   "source": [
    "url = '{}/{}/{}/{}'.format(dapa_url, 'collections', collection, 'dapa/value/position')\n",
    "params = {\n",
    "    'point': '11,48',\n",
    "    'fields': 'DEM'\n",
    "}\n",
    "\n",
    "params_str = \"&\".join(\"%s=%s\" % (k, v) for k,v in params.items())\n",
    "r = requests.get(url, params=params_str)\n",
    "\n",
    "print('DAPA path: {}'.format(r.url.replace(service_url, '')))\n",
    "print('Status code: {}'.format(r.status_code))\n",
    "print('Value: {}'.format(r.text))"
   ]
  },
  {
   "cell_type": "markdown",
   "metadata": {
    "papermill": {
     "duration": 0.017658,
     "end_time": "2020-07-15T14:30:07.871156",
     "exception": false,
     "start_time": "2020-07-15T14:30:07.853498",
     "status": "completed"
    },
    "tags": []
   },
   "source": [
    "## Retrieve DEM value at a specific point calculated in feet\n",
    "You can do math operations in the `fields` parameter. To calculate from meter to feet you need only to specify a virtual field: \n",
    "> FEET=DEM/0.3048"
   ]
  },
  {
   "cell_type": "code",
   "execution_count": 16,
   "metadata": {
    "papermill": {
     "duration": 0.14119,
     "end_time": "2020-07-15T14:30:08.029879",
     "exception": false,
     "start_time": "2020-07-15T14:30:07.888689",
     "status": "completed"
    },
    "tags": []
   },
   "outputs": [
    {
     "name": "stdout",
     "output_type": "stream",
     "text": [
      "DAPA path: /oapi/collections/DEM/dapa/value/position?point=11,48&fields=FEET=DEM/0.3048\n",
      "Status code: 200\n",
      "Value: 2125.9841\n"
     ]
    }
   ],
   "source": [
    "url = '{}/{}/{}/{}'.format(dapa_url, 'collections', collection, 'dapa/value/position')\n",
    "params = {\n",
    "    'point': '11,48',\n",
    "    'fields': 'FEET=DEM/0.3048'\n",
    "}\n",
    "\n",
    "params_str = \"&\".join(\"%s=%s\" % (k, v) for k,v in params.items())\n",
    "r = requests.get(url, params=params_str)\n",
    "\n",
    "print('DAPA path: {}'.format(r.url.replace(service_url, '')))\n",
    "print('Status code: {}'.format(r.status_code))\n",
    "print('Value: {}'.format(r.text))"
   ]
  }
 ],
 "metadata": {
  "kernelspec": {
   "display_name": "EDC 0.19.6 (Python3)",
   "language": "python",
   "name": "edc"
  },
  "language_info": {
   "codemirror_mode": {
    "name": "ipython",
    "version": 3
   },
   "file_extension": ".py",
   "mimetype": "text/x-python",
   "name": "python",
   "nbconvert_exporter": "python",
   "pygments_lexer": "ipython3",
   "version": "3.8.4"
  },
  "papermill": {
   "duration": 5.961975,
   "end_time": "2020-07-15T14:30:08.454464",
   "environment_variables": {},
   "exception": null,
   "input_path": "/tmp/tmp00ib99uz",
   "output_path": "/tmp/notebook_output.ipynb",
   "parameters": {},
   "start_time": "2020-07-15T14:30:02.492489",
   "version": "2.1.2"
  },
  "properties": {
   "authors": [
    {
     "id": "47919774-57f5-4b2d-9f6c-570b91e23604",
     "name": "jonas.eberle@dlr.de"
    }
   ],
   "description": "DEM example based on DAPA experimental interface",
   "id": "819590ab-5711-493b-8875-4aefcad5acb1",
   "license": null,
   "name": "DAPA Tutorial #5: DEM example – OGC Testbed 16",
   "requirements": [
    "eoxhub"
   ],
   "tags": [
    "DAPA"
   ],
   "tosAgree": true,
   "type": "Jupyter Notebook",
   "version": "0.2"
  },
  "widgets": {
   "application/vnd.jupyter.widget-state+json": {
    "state": {
     "0367a77c3376456889e8caa6b856020d": {
      "model_module": "jupyter-leaflet",
      "model_module_version": "^0.13.1",
      "model_name": "LeafletAttributionControlModel",
      "state": {
       "_model_module": "jupyter-leaflet",
       "_model_module_version": "^0.13.1",
       "_model_name": "LeafletAttributionControlModel",
       "_view_count": null,
       "_view_module": "jupyter-leaflet",
       "_view_module_version": "^0.13.1",
       "_view_name": "LeafletAttributionControlView",
       "options": [
        "position",
        "prefix"
       ],
       "position": "bottomright",
       "prefix": "Leaflet"
      }
     },
     "077f281fec844410b7d49581e019b9c1": {
      "model_module": "jupyter-leaflet",
      "model_module_version": "^0.13.1",
      "model_name": "LeafletMapModel",
      "state": {
       "_dom_classes": [],
       "_model_module": "jupyter-leaflet",
       "_model_module_version": "^0.13.1",
       "_model_name": "LeafletMapModel",
       "_view_count": null,
       "_view_module": "jupyter-leaflet",
       "_view_module_version": "^0.13.1",
       "_view_name": "LeafletMapView",
       "bottom": 0,
       "bounce_at_zoom_limits": true,
       "box_zoom": true,
       "center": [
        48.25,
        11.5
       ],
       "close_popup_on_click": true,
       "controls": [
        "IPY_MODEL_9f4734b67589422da92b2ddafafb4cb9",
        "IPY_MODEL_0367a77c3376456889e8caa6b856020d"
       ],
       "crs": {
        "custom": false,
        "name": "EPSG3857"
       },
       "default_style": "IPY_MODEL_ba13caa165e74d519d739eb9ea3f0d6c",
       "double_click_zoom": true,
       "dragging": true,
       "dragging_style": "IPY_MODEL_762c0ccd873e463fbea51329cd89e327",
       "east": 0,
       "fullscreen": false,
       "inertia": true,
       "inertia_deceleration": 3000,
       "inertia_max_speed": 1500,
       "interpolation": "bilinear",
       "keyboard": true,
       "keyboard_pan_offset": 80,
       "keyboard_zoom_offset": 1,
       "layers": [
        "IPY_MODEL_b15dee636f1e48dbac445f71f1cc0e60",
        "IPY_MODEL_2038707234994e38bdc868cdbbc9ac3b"
       ],
       "layout": "IPY_MODEL_2e769ab4c9294bef862ffc2009981d15",
       "left": 9007199254740991,
       "max_zoom": 18,
       "min_zoom": 1,
       "modisdate": "yesterday",
       "north": 0,
       "options": [
        "bounce_at_zoom_limits",
        "box_zoom",
        "center",
        "close_popup_on_click",
        "double_click_zoom",
        "dragging",
        "fullscreen",
        "inertia",
        "inertia_deceleration",
        "inertia_max_speed",
        "interpolation",
        "keyboard",
        "keyboard_pan_offset",
        "keyboard_zoom_offset",
        "max_zoom",
        "min_zoom",
        "scroll_wheel_zoom",
        "tap",
        "tap_tolerance",
        "touch_zoom",
        "world_copy_jump",
        "zoom",
        "zoom_animation_threshold",
        "zoom_delta",
        "zoom_snap",
        "zoom_start"
       ],
       "right": 0,
       "scroll_wheel_zoom": false,
       "south": 0,
       "style": "IPY_MODEL_b53bd53826804dd4babbec04202f4920",
       "tap": true,
       "tap_tolerance": 15,
       "top": 9007199254740991,
       "touch_zoom": true,
       "west": 0,
       "window_url": "",
       "world_copy_jump": false,
       "zoom": 9,
       "zoom_animation_threshold": 4,
       "zoom_delta": 1,
       "zoom_snap": 1,
       "zoom_start": 12
      }
     },
     "2038707234994e38bdc868cdbbc9ac3b": {
      "model_module": "jupyter-leaflet",
      "model_module_version": "^0.13.1",
      "model_name": "LeafletRectangleModel",
      "state": {
       "_model_module": "jupyter-leaflet",
       "_model_module_version": "^0.13.1",
       "_model_name": "LeafletRectangleModel",
       "_view_count": null,
       "_view_module": "jupyter-leaflet",
       "_view_module_version": "^0.13.1",
       "_view_name": "LeafletRectangleView",
       "base": false,
       "bottom": false,
       "bounds": [
        [
         48,
         11
        ],
        [
         48.5,
         12
        ]
       ],
       "class_name": "",
       "color": "#0033FF",
       "dash_array": null,
       "draggable": false,
       "fill": true,
       "fill_color": null,
       "fill_opacity": 0.2,
       "line_cap": "round",
       "line_join": "round",
       "locations": [],
       "name": "",
       "no_clip": true,
       "opacity": 1,
       "options": [
        "class_name",
        "color",
        "dash_array",
        "draggable",
        "fill",
        "fill_color",
        "fill_opacity",
        "line_cap",
        "line_join",
        "no_clip",
        "opacity",
        "pointer_events",
        "smooth_factor",
        "stroke",
        "transform",
        "weight"
       ],
       "pointer_events": "",
       "popup": null,
       "popup_max_height": null,
       "popup_max_width": 300,
       "popup_min_width": 50,
       "rotation": true,
       "scaling": true,
       "smooth_factor": 1,
       "stroke": true,
       "transform": false,
       "uniform_scaling": false,
       "weight": 5
      }
     },
     "2e769ab4c9294bef862ffc2009981d15": {
      "model_module": "@jupyter-widgets/base",
      "model_module_version": "1.2.0",
      "model_name": "LayoutModel",
      "state": {
       "_model_module": "@jupyter-widgets/base",
       "_model_module_version": "1.2.0",
       "_model_name": "LayoutModel",
       "_view_count": null,
       "_view_module": "@jupyter-widgets/base",
       "_view_module_version": "1.2.0",
       "_view_name": "LayoutView",
       "align_content": null,
       "align_items": null,
       "align_self": null,
       "border": null,
       "bottom": null,
       "display": null,
       "flex": null,
       "flex_flow": null,
       "grid_area": null,
       "grid_auto_columns": null,
       "grid_auto_flow": null,
       "grid_auto_rows": null,
       "grid_column": null,
       "grid_gap": null,
       "grid_row": null,
       "grid_template_areas": null,
       "grid_template_columns": null,
       "grid_template_rows": null,
       "height": null,
       "justify_content": null,
       "justify_items": null,
       "left": null,
       "margin": null,
       "max_height": null,
       "max_width": null,
       "min_height": null,
       "min_width": null,
       "object_fit": null,
       "object_position": null,
       "order": null,
       "overflow": null,
       "overflow_x": null,
       "overflow_y": null,
       "padding": null,
       "right": null,
       "top": null,
       "visibility": null,
       "width": null
      }
     },
     "762c0ccd873e463fbea51329cd89e327": {
      "model_module": "jupyter-leaflet",
      "model_module_version": "^0.13.1",
      "model_name": "LeafletMapStyleModel",
      "state": {
       "_model_module": "jupyter-leaflet",
       "_model_module_version": "^0.13.1",
       "_model_name": "LeafletMapStyleModel",
       "_view_count": null,
       "_view_module": "@jupyter-widgets/base",
       "_view_module_version": "1.2.0",
       "_view_name": "StyleView",
       "cursor": "move"
      }
     },
     "9f4734b67589422da92b2ddafafb4cb9": {
      "model_module": "jupyter-leaflet",
      "model_module_version": "^0.13.1",
      "model_name": "LeafletZoomControlModel",
      "state": {
       "_model_module": "jupyter-leaflet",
       "_model_module_version": "^0.13.1",
       "_model_name": "LeafletZoomControlModel",
       "_view_count": null,
       "_view_module": "jupyter-leaflet",
       "_view_module_version": "^0.13.1",
       "_view_name": "LeafletZoomControlView",
       "options": [
        "position",
        "zoom_in_text",
        "zoom_in_title",
        "zoom_out_text",
        "zoom_out_title"
       ],
       "position": "topleft",
       "zoom_in_text": "+",
       "zoom_in_title": "Zoom in",
       "zoom_out_text": "-",
       "zoom_out_title": "Zoom out"
      }
     },
     "b15dee636f1e48dbac445f71f1cc0e60": {
      "model_module": "jupyter-leaflet",
      "model_module_version": "^0.13.1",
      "model_name": "LeafletTileLayerModel",
      "state": {
       "_model_module": "jupyter-leaflet",
       "_model_module_version": "^0.13.1",
       "_model_name": "LeafletTileLayerModel",
       "_view_count": null,
       "_view_module": "jupyter-leaflet",
       "_view_module_version": "^0.13.1",
       "_view_name": "LeafletTileLayerView",
       "attribution": "Map data (c) <a href=\"https://openstreetmap.org\">OpenStreetMap</a> contributors",
       "base": true,
       "bottom": true,
       "detect_retina": false,
       "loading": false,
       "max_native_zoom": 18,
       "max_zoom": 19,
       "min_native_zoom": 0,
       "min_zoom": 1,
       "name": "OpenStreetMap.Mapnik",
       "no_wrap": false,
       "opacity": 1,
       "options": [
        "attribution",
        "detect_retina",
        "max_native_zoom",
        "max_zoom",
        "min_native_zoom",
        "min_zoom",
        "no_wrap",
        "tile_size",
        "tms"
       ],
       "popup": null,
       "popup_max_height": null,
       "popup_max_width": 300,
       "popup_min_width": 50,
       "show_loading": false,
       "tile_size": 256,
       "tms": false,
       "url": "https://{s}.tile.openstreetmap.org/{z}/{x}/{y}.png",
       "visible": true
      }
     },
     "b53bd53826804dd4babbec04202f4920": {
      "model_module": "jupyter-leaflet",
      "model_module_version": "^0.13.1",
      "model_name": "LeafletMapStyleModel",
      "state": {
       "_model_module": "jupyter-leaflet",
       "_model_module_version": "^0.13.1",
       "_model_name": "LeafletMapStyleModel",
       "_view_count": null,
       "_view_module": "@jupyter-widgets/base",
       "_view_module_version": "1.2.0",
       "_view_name": "StyleView",
       "cursor": "grab"
      }
     },
     "ba13caa165e74d519d739eb9ea3f0d6c": {
      "model_module": "jupyter-leaflet",
      "model_module_version": "^0.13.1",
      "model_name": "LeafletMapStyleModel",
      "state": {
       "_model_module": "jupyter-leaflet",
       "_model_module_version": "^0.13.1",
       "_model_name": "LeafletMapStyleModel",
       "_view_count": null,
       "_view_module": "@jupyter-widgets/base",
       "_view_module_version": "1.2.0",
       "_view_name": "StyleView",
       "cursor": "grab"
      }
     }
    },
    "version_major": 2,
    "version_minor": 0
   }
  }
 },
 "nbformat": 4,
 "nbformat_minor": 4
}
