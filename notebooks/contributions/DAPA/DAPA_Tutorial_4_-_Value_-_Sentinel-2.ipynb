{
 "cells": [
  {
   "cell_type": "markdown",
   "metadata": {
    "papermill": {
     "duration": 0.01082,
     "end_time": "2020-07-15T13:01:22.382498",
     "exception": false,
     "start_time": "2020-07-15T13:01:22.371678",
     "status": "completed"
    },
    "tags": []
   },
   "source": [
    "# DAPA Tutorial #4: Value - Sentinel-2"
   ]
  },
  {
   "cell_type": "markdown",
   "metadata": {
    "papermill": {
     "duration": 0.008101,
     "end_time": "2020-07-15T13:01:22.398782",
     "exception": false,
     "start_time": "2020-07-15T13:01:22.390681",
     "status": "completed"
    },
    "tags": []
   },
   "source": [
    "## Load environment variables\n",
    "Please make sure that the environment variable \"DAPA_URL\" is set in the `custom.env` file. You can check this by executing the following block. \n",
    "\n",
    "If DAPA_URL is not set, please create a text file named `custom.env` in your home directory with the following input: \n",
    ">DAPA_URL=YOUR-PERSONAL-DAPA-APP-URL"
   ]
  },
  {
   "cell_type": "code",
   "execution_count": 1,
   "metadata": {
    "papermill": {
     "duration": 0.062437,
     "end_time": "2020-07-15T13:01:22.469220",
     "exception": false,
     "start_time": "2020-07-15T13:01:22.406783",
     "status": "completed"
    },
    "tags": []
   },
   "outputs": [
    {
     "data": {
      "text/markdown": [
       "API credentials have automatically been injected for your active subscriptions.  \n",
       "The following environment variables are now available:\n",
       "* `SH_CLIENT_ID`, `SH_CLIENT_NAME`, `SH_CLIENT_SECRET`, `SH_INSTANCE_ID`\n",
       "\n",
       "The following additional environment variables have been loaded from `~/custom.env`:\n",
       "* `DAPA_URL`\n"
      ],
      "text/plain": [
       "<IPython.core.display.Markdown object>"
      ]
     },
     "metadata": {},
     "output_type": "display_data"
    }
   ],
   "source": [
    "from edc import setup_environment_variables\n",
    "setup_environment_variables()"
   ]
  },
  {
   "cell_type": "markdown",
   "metadata": {
    "papermill": {
     "duration": 0.008408,
     "end_time": "2020-07-15T13:01:22.486143",
     "exception": false,
     "start_time": "2020-07-15T13:01:22.477735",
     "status": "completed"
    },
    "tags": []
   },
   "source": [
    "## Check notebook compabtibility\n",
    "**Please note:** If you conduct this notebook again at a later time, the base image of this Jupyter Hub service can include newer versions of the libraries installed. Thus, the notebook execution can fail. This compatibility check is only necessary when something is broken. "
   ]
  },
  {
   "cell_type": "code",
   "execution_count": 2,
   "metadata": {
    "papermill": {
     "duration": 0.013848,
     "end_time": "2020-07-15T13:01:22.508287",
     "exception": false,
     "start_time": "2020-07-15T13:01:22.494439",
     "status": "completed"
    },
    "tags": []
   },
   "outputs": [
    {
     "data": {
      "text/markdown": [
       "This notebook is compatible with this base image version (user-0.19.6)."
      ],
      "text/plain": [
       "<IPython.core.display.Markdown object>"
      ]
     },
     "metadata": {},
     "output_type": "display_data"
    }
   ],
   "source": [
    "from edc import check_compatibility\n",
    "check_compatibility(\"user-0.19.6\")"
   ]
  },
  {
   "cell_type": "markdown",
   "metadata": {
    "papermill": {
     "duration": 0.008825,
     "end_time": "2020-07-15T13:01:22.525741",
     "exception": false,
     "start_time": "2020-07-15T13:01:22.516916",
     "status": "completed"
    },
    "tags": []
   },
   "source": [
    "## Load libraries\n",
    "Python libraries used in this tutorial will be loaded."
   ]
  },
  {
   "cell_type": "code",
   "execution_count": 3,
   "metadata": {
    "papermill": {
     "duration": 1.862817,
     "end_time": "2020-07-15T13:01:24.397140",
     "exception": false,
     "start_time": "2020-07-15T13:01:22.534323",
     "status": "completed"
    },
    "tags": []
   },
   "outputs": [],
   "source": [
    "import os\n",
    "import xarray as xr\n",
    "import pandas as pd\n",
    "import requests\n",
    "import matplotlib\n",
    "from ipyleaflet import Map, Rectangle, Marker, DrawControl, basemaps, basemap_to_tiles\n",
    "%matplotlib inline"
   ]
  },
  {
   "cell_type": "markdown",
   "metadata": {
    "papermill": {
     "duration": 0.008849,
     "end_time": "2020-07-15T13:01:24.414802",
     "exception": false,
     "start_time": "2020-07-15T13:01:24.405953",
     "status": "completed"
    },
    "tags": []
   },
   "source": [
    "## Set DAPA endpoint\n",
    "Execute the following code to check if the DAPA_URL is available in the environment variable and to set the `/dapa` endpoint. "
   ]
  },
  {
   "cell_type": "code",
   "execution_count": 4,
   "metadata": {
    "papermill": {
     "duration": 0.014937,
     "end_time": "2020-07-15T13:01:24.438299",
     "exception": false,
     "start_time": "2020-07-15T13:01:24.423362",
     "status": "completed"
    },
    "tags": []
   },
   "outputs": [
    {
     "name": "stdout",
     "output_type": "stream",
     "text": [
      "DAPA path: /oapi\n"
     ]
    }
   ],
   "source": [
    "service_url = None\n",
    "dapa_url = None\n",
    "\n",
    "if 'DAPA_URL' not in os.environ:\n",
    "    print('!! DAPA_URL does not exist as environment variable. Please make sure this is the case - see first block of this notebook! !!')\n",
    "else:    \n",
    "    service_url = os.environ['DAPA_URL']\n",
    "    dapa_url = '{}/{}'.format(service_url, 'oapi')\n",
    "    print('DAPA path: {}'.format(dapa_url.replace(service_url, '')))"
   ]
  },
  {
   "cell_type": "markdown",
   "metadata": {
    "papermill": {
     "duration": 0.008763,
     "end_time": "2020-07-15T13:01:24.455823",
     "exception": false,
     "start_time": "2020-07-15T13:01:24.447060",
     "status": "completed"
    },
    "tags": []
   },
   "source": [
    "## Get collections supported by this endpoint\n",
    "This request provides a list of collections. The path of each collection is used as starting path of this service."
   ]
  },
  {
   "cell_type": "code",
   "execution_count": 5,
   "metadata": {
    "papermill": {
     "duration": 0.046622,
     "end_time": "2020-07-15T13:01:24.511101",
     "exception": false,
     "start_time": "2020-07-15T13:01:24.464479",
     "status": "completed"
    },
    "tags": []
   },
   "outputs": [
    {
     "name": "stdout",
     "output_type": "stream",
     "text": [
      "DAPA path: /oapi/collections\n"
     ]
    },
    {
     "data": {
      "text/plain": [
       "['/oapi/collections/DEM/dapa/',\n",
       " '/oapi/collections/L8L1C/dapa/',\n",
       " '/oapi/collections/S1GRD/dapa/',\n",
       " '/oapi/collections/S2L1C/dapa/',\n",
       " '/oapi/collections/S2L2A/dapa/',\n",
       " '/oapi/collections/S3OLCI/dapa/',\n",
       " '/oapi/collections/S3SLSTR/dapa/',\n",
       " '/oapi/collections/S5PL2/dapa/',\n",
       " '/oapi/collections/MODIS/dapa/']"
      ]
     },
     "execution_count": 5,
     "metadata": {},
     "output_type": "execute_result"
    }
   ],
   "source": [
    "collections_url = '{}/{}'.format(dapa_url, 'collections')\n",
    "collections = requests.get(collections_url)\n",
    "\n",
    "print('DAPA path: {}'.format(collections.url.replace(service_url, '')))\n",
    "collections.json()"
   ]
  },
  {
   "cell_type": "markdown",
   "metadata": {
    "papermill": {
     "duration": 0.009211,
     "end_time": "2020-07-15T13:01:24.529482",
     "exception": false,
     "start_time": "2020-07-15T13:01:24.520271",
     "status": "completed"
    },
    "tags": []
   },
   "source": [
    "## Get fields of collection Sentinel-2 L2A\n",
    "The fields (or variables in other DAPA endpoints - these are the bands of the raster data) can be retrieved in all requests to the DAPA endpoint. In addition to the fixed set of fields, \"virtual\" fields can be used to conduct math operations (e.g., the calculation of indices). "
   ]
  },
  {
   "cell_type": "code",
   "execution_count": 6,
   "metadata": {
    "papermill": {
     "duration": 0.042859,
     "end_time": "2020-07-15T13:01:24.581346",
     "exception": false,
     "start_time": "2020-07-15T13:01:24.538487",
     "status": "completed"
    },
    "tags": []
   },
   "outputs": [
    {
     "name": "stdout",
     "output_type": "stream",
     "text": [
      "DAPA path: /oapi/collections/S2L2A/dapa/fields\n"
     ]
    },
    {
     "data": {
      "text/plain": [
       "[{'id': 'B01'},\n",
       " {'id': 'B02'},\n",
       " {'id': 'B03'},\n",
       " {'id': 'B04'},\n",
       " {'id': 'B05'},\n",
       " {'id': 'B06'},\n",
       " {'id': 'B07'},\n",
       " {'id': 'B08'},\n",
       " {'id': 'B8A'},\n",
       " {'id': 'B09'},\n",
       " {'id': 'B11'},\n",
       " {'id': 'B12'},\n",
       " {'id': 'SCL'},\n",
       " {'id': 'SNW'},\n",
       " {'id': 'CLD'}]"
      ]
     },
     "execution_count": 6,
     "metadata": {},
     "output_type": "execute_result"
    }
   ],
   "source": [
    "collection = 'S2L2A'\n",
    "\n",
    "fields_url = '{}/{}/{}/{}'.format(dapa_url, 'collections', collection, 'dapa/fields')\n",
    "fields = requests.get(fields_url)\n",
    "\n",
    "print('DAPA path: {}'.format(fields.url.replace(service_url, '')))\n",
    "fields.json()"
   ]
  },
  {
   "cell_type": "markdown",
   "metadata": {
    "papermill": {
     "duration": 0.009485,
     "end_time": "2020-07-15T13:01:24.600317",
     "exception": false,
     "start_time": "2020-07-15T13:01:24.590832",
     "status": "completed"
    },
    "tags": []
   },
   "source": [
    "## Retrieve an NDVI value extraced for a single point"
   ]
  },
  {
   "cell_type": "markdown",
   "metadata": {
    "papermill": {
     "duration": 0.009524,
     "end_time": "2020-07-15T13:01:24.619376",
     "exception": false,
     "start_time": "2020-07-15T13:01:24.609852",
     "status": "completed"
    },
    "tags": []
   },
   "source": [
    "### Set DAPA URL and parameters\n",
    "The output of this request is a single value requested from a point of interest (`value/position` endpoint). As the input collection (S2L2A) is a multi-temporal raster and the requested geometry is a point, temporal aggregation is conducted.\n",
    "\n",
    "To retrieve a single value of a point, the parameter `point` needs to be provided. For the temporal aggregation, the parameter `aggregate` needs to include the aggregation functions splitted by comma. The `time` parameter allows to aggregate data only within a specific time span. The band (`field`) from which the point is being extracted needs to be specified as well."
   ]
  },
  {
   "cell_type": "code",
   "execution_count": 7,
   "metadata": {
    "papermill": {
     "duration": 0.038241,
     "end_time": "2020-07-15T13:01:24.667337",
     "exception": false,
     "start_time": "2020-07-15T13:01:24.629096",
     "status": "completed"
    },
    "tags": []
   },
   "outputs": [
    {
     "data": {
      "application/vnd.jupyter.widget-view+json": {
       "model_id": "24d50f1c6b094bdfa7ee39790149d5af",
       "version_major": 2,
       "version_minor": 0
      },
      "text/plain": [
       "Map(center=[48.05, 11.49], controls=(ZoomControl(options=['position', 'zoom_in_text', 'zoom_in_title', 'zoom_o…"
      ]
     },
     "metadata": {},
     "output_type": "display_data"
    }
   ],
   "source": [
    "# DAPA URL\n",
    "url = '{}/{}/{}/{}'.format(dapa_url, 'collections', collection, 'dapa/value/position')\n",
    "\n",
    "# Parameters for this request\n",
    "params = {\n",
    "    'point': '11.49,48.05',\n",
    "    'time': '2018-04-01T00:00:00Z/2018-07-01T00:00:00Z',\n",
    "    'fields': 'NDVI=(B04-B08)/(B04%2BB08)',\n",
    "    'aggregate': 'min,max,avg'\n",
    "}\n",
    "\n",
    "# show point in the map\n",
    "location = list(reversed([float(coord) for coord in params['point'].split(',')]))\n",
    "\n",
    "m = Map(\n",
    "    basemap=basemap_to_tiles(basemaps.OpenStreetMap.Mapnik),\n",
    "    center=location,\n",
    "    zoom=10\n",
    ")\n",
    "\n",
    "marker = Marker(location=location, draggable=False)\n",
    "m.add_layer(marker)\n",
    "\n",
    "m"
   ]
  },
  {
   "cell_type": "markdown",
   "metadata": {
    "papermill": {
     "duration": 0.009956,
     "end_time": "2020-07-15T13:01:24.687210",
     "exception": false,
     "start_time": "2020-07-15T13:01:24.677254",
     "status": "completed"
    },
    "tags": []
   },
   "source": [
    "### Build request URL and conduct request"
   ]
  },
  {
   "cell_type": "code",
   "execution_count": 8,
   "metadata": {
    "papermill": {
     "duration": 8.332347,
     "end_time": "2020-07-15T13:01:33.029445",
     "exception": false,
     "start_time": "2020-07-15T13:01:24.697098",
     "status": "completed"
    },
    "tags": []
   },
   "outputs": [
    {
     "name": "stdout",
     "output_type": "stream",
     "text": [
      "DAPA path: /oapi/collections/S2L2A/dapa/value/position?point=11.49,48.05&time=2018-04-01T00:00:00Z/2018-07-01T00:00:00Z&fields=NDVI=(B04-B08)/(B04%2BB08)&aggregate=min,max,avg\n",
      "Status code: 200\n"
     ]
    }
   ],
   "source": [
    "params_str = \"&\".join(\"%s=%s\" % (k, v) for k,v in params.items())\n",
    "r = requests.get(url, params=params_str)\n",
    "\n",
    "print('DAPA path: {}'.format(r.url.replace(service_url, '')))\n",
    "print('Status code: {}'.format(r.status_code))"
   ]
  },
  {
   "cell_type": "markdown",
   "metadata": {
    "papermill": {
     "duration": 0.010138,
     "end_time": "2020-07-15T13:01:33.049903",
     "exception": false,
     "start_time": "2020-07-15T13:01:33.039765",
     "status": "completed"
    },
    "tags": []
   },
   "source": [
    "### Show content (one value for each aggregation method)\n",
    "The response of this request returns plain text with values splitted by comma. The order of the values relates to the order of the fields specified in the `fields` parameter in combination with the order of the `aggregation` functions. Additional output formats (e.g., CSV with headers included) will be integrated within the testbed activtiy. "
   ]
  },
  {
   "cell_type": "code",
   "execution_count": 9,
   "metadata": {
    "papermill": {
     "duration": 0.016291,
     "end_time": "2020-07-15T13:01:33.076269",
     "exception": false,
     "start_time": "2020-07-15T13:01:33.059978",
     "status": "completed"
    },
    "tags": []
   },
   "outputs": [
    {
     "data": {
      "text/plain": [
       "'-0.8713367,0.039432675,-0.4004872'"
      ]
     },
     "execution_count": 9,
     "metadata": {},
     "output_type": "execute_result"
    }
   ],
   "source": [
    "values = r.text\n",
    "values"
   ]
  },
  {
   "cell_type": "code",
   "execution_count": 10,
   "metadata": {
    "papermill": {
     "duration": 0.018337,
     "end_time": "2020-07-15T13:01:33.105246",
     "exception": false,
     "start_time": "2020-07-15T13:01:33.086909",
     "status": "completed"
    },
    "tags": []
   },
   "outputs": [
    {
     "name": "stdout",
     "output_type": "stream",
     "text": [
      "min: -0.8713367\n",
      "max: 0.039432675\n",
      "avg: -0.4004872\n"
     ]
    }
   ],
   "source": [
    "print('%s: %s' % (params['aggregate'].split(',')[0], values.split(',')[0]))\n",
    "print('%s: %s' % (params['aggregate'].split(',')[1], values.split(',')[1]))\n",
    "print('%s: %s' % (params['aggregate'].split(',')[2], values.split(',')[2]))"
   ]
  }
 ],
 "metadata": {
  "kernelspec": {
   "display_name": "EDC 0.19.6 (Python3)",
   "language": "python",
   "name": "edc"
  },
  "language_info": {
   "codemirror_mode": {
    "name": "ipython",
    "version": 3
   },
   "file_extension": ".py",
   "mimetype": "text/x-python",
   "name": "python",
   "nbconvert_exporter": "python",
   "pygments_lexer": "ipython3",
   "version": "3.8.4"
  },
  "papermill": {
   "duration": 11.936635,
   "end_time": "2020-07-15T13:01:33.521855",
   "environment_variables": {},
   "exception": null,
   "input_path": "/tmp/tmpljfc2rjf",
   "output_path": "/tmp/notebook_output.ipynb",
   "parameters": {},
   "start_time": "2020-07-15T13:01:21.585220",
   "version": "2.1.2"
  },
  "properties": {
   "authors": [
    {
     "id": "47919774-57f5-4b2d-9f6c-570b91e23604",
     "name": "jonas.eberle@dlr.de"
    }
   ],
   "description": "Value extraction based on DAPA experimental interface",
   "id": "95e1bd19-f57f-491f-afb2-1b10fb2efed1",
   "license": null,
   "name": "DAPA Tutorial #4: Value - Sentinel-2 - OGC Testbed 16",
   "requirements": [],
   "tags": [
    "DAPA"
   ],
   "tosAgree": true,
   "type": "Jupyter Notebook",
   "version": "0.1"
  },
  "widgets": {
   "application/vnd.jupyter.widget-state+json": {
    "state": {
     "29a4dffd12f04935b045d70aa7de73c2": {
      "model_module": "jupyter-leaflet",
      "model_module_version": "^0.13.1",
      "model_name": "LeafletMapStyleModel",
      "state": {
       "_model_module": "jupyter-leaflet",
       "_model_module_version": "^0.13.1",
       "_model_name": "LeafletMapStyleModel",
       "_view_count": null,
       "_view_module": "@jupyter-widgets/base",
       "_view_module_version": "1.2.0",
       "_view_name": "StyleView",
       "cursor": "grab"
      }
     },
     "4ba62bf1e6514ad88969f8f4104fa22c": {
      "model_module": "jupyter-leaflet",
      "model_module_version": "^0.13.1",
      "model_name": "LeafletMarkerModel",
      "state": {
       "_model_module": "jupyter-leaflet",
       "_model_module_version": "^0.13.1",
       "_model_name": "LeafletMarkerModel",
       "_view_count": null,
       "_view_module": "jupyter-leaflet",
       "_view_module_version": "^0.13.1",
       "_view_name": "LeafletMarkerView",
       "alt": "",
       "base": false,
       "bottom": false,
       "draggable": false,
       "icon": null,
       "keyboard": true,
       "location": [
        48.05,
        11.49
       ],
       "name": "",
       "opacity": 1,
       "options": [
        "alt",
        "draggable",
        "keyboard",
        "rise_offset",
        "rise_on_hover",
        "rotation_angle",
        "rotation_origin",
        "title",
        "z_index_offset"
       ],
       "popup": null,
       "popup_max_height": null,
       "popup_max_width": 300,
       "popup_min_width": 50,
       "rise_offset": 250,
       "rise_on_hover": false,
       "rotation_angle": 0,
       "rotation_origin": "",
       "title": "",
       "visible": true,
       "z_index_offset": 0
      }
     },
     "53f0e0ab38a74a4d9e98e2855a81c567": {
      "model_module": "jupyter-leaflet",
      "model_module_version": "^0.13.1",
      "model_name": "LeafletMapStyleModel",
      "state": {
       "_model_module": "jupyter-leaflet",
       "_model_module_version": "^0.13.1",
       "_model_name": "LeafletMapStyleModel",
       "_view_count": null,
       "_view_module": "@jupyter-widgets/base",
       "_view_module_version": "1.2.0",
       "_view_name": "StyleView",
       "cursor": "move"
      }
     },
     "682693fe388c4b588fc8a0df21c8afd4": {
      "model_module": "jupyter-leaflet",
      "model_module_version": "^0.13.1",
      "model_name": "LeafletMapModel",
      "state": {
       "_dom_classes": [],
       "_model_module": "jupyter-leaflet",
       "_model_module_version": "^0.13.1",
       "_model_name": "LeafletMapModel",
       "_view_count": null,
       "_view_module": "jupyter-leaflet",
       "_view_module_version": "^0.13.1",
       "_view_name": "LeafletMapView",
       "bottom": 0,
       "bounce_at_zoom_limits": true,
       "box_zoom": true,
       "center": [
        48.05,
        11.49
       ],
       "close_popup_on_click": true,
       "controls": [
        "IPY_MODEL_bd0c2400401f4b1c9884b603de435b78",
        "IPY_MODEL_d822f68e73ca4bff958f137fff77aec9"
       ],
       "crs": {
        "custom": false,
        "name": "EPSG3857"
       },
       "default_style": "IPY_MODEL_29a4dffd12f04935b045d70aa7de73c2",
       "double_click_zoom": true,
       "dragging": true,
       "dragging_style": "IPY_MODEL_53f0e0ab38a74a4d9e98e2855a81c567",
       "east": 0,
       "fullscreen": false,
       "inertia": true,
       "inertia_deceleration": 3000,
       "inertia_max_speed": 1500,
       "interpolation": "bilinear",
       "keyboard": true,
       "keyboard_pan_offset": 80,
       "keyboard_zoom_offset": 1,
       "layers": [
        "IPY_MODEL_a92532aa673e4ba9a66261b1b4307e1e",
        "IPY_MODEL_4ba62bf1e6514ad88969f8f4104fa22c"
       ],
       "layout": "IPY_MODEL_eb98dab01251447c942ce77cb83e9fe5",
       "left": 9007199254740991,
       "max_zoom": 18,
       "min_zoom": 1,
       "modisdate": "yesterday",
       "north": 0,
       "options": [
        "bounce_at_zoom_limits",
        "box_zoom",
        "center",
        "close_popup_on_click",
        "double_click_zoom",
        "dragging",
        "fullscreen",
        "inertia",
        "inertia_deceleration",
        "inertia_max_speed",
        "interpolation",
        "keyboard",
        "keyboard_pan_offset",
        "keyboard_zoom_offset",
        "max_zoom",
        "min_zoom",
        "scroll_wheel_zoom",
        "tap",
        "tap_tolerance",
        "touch_zoom",
        "world_copy_jump",
        "zoom",
        "zoom_animation_threshold",
        "zoom_delta",
        "zoom_snap",
        "zoom_start"
       ],
       "right": 0,
       "scroll_wheel_zoom": false,
       "south": 0,
       "style": "IPY_MODEL_de90fe4409514e9abd42b73069078609",
       "tap": true,
       "tap_tolerance": 15,
       "top": 9007199254740991,
       "touch_zoom": true,
       "west": 0,
       "window_url": "",
       "world_copy_jump": false,
       "zoom": 10,
       "zoom_animation_threshold": 4,
       "zoom_delta": 1,
       "zoom_snap": 1,
       "zoom_start": 12
      }
     },
     "a92532aa673e4ba9a66261b1b4307e1e": {
      "model_module": "jupyter-leaflet",
      "model_module_version": "^0.13.1",
      "model_name": "LeafletTileLayerModel",
      "state": {
       "_model_module": "jupyter-leaflet",
       "_model_module_version": "^0.13.1",
       "_model_name": "LeafletTileLayerModel",
       "_view_count": null,
       "_view_module": "jupyter-leaflet",
       "_view_module_version": "^0.13.1",
       "_view_name": "LeafletTileLayerView",
       "attribution": "Map data (c) <a href=\"https://openstreetmap.org\">OpenStreetMap</a> contributors",
       "base": true,
       "bottom": true,
       "detect_retina": false,
       "loading": false,
       "max_native_zoom": 18,
       "max_zoom": 19,
       "min_native_zoom": 0,
       "min_zoom": 1,
       "name": "OpenStreetMap.Mapnik",
       "no_wrap": false,
       "opacity": 1,
       "options": [
        "attribution",
        "detect_retina",
        "max_native_zoom",
        "max_zoom",
        "min_native_zoom",
        "min_zoom",
        "no_wrap",
        "tile_size",
        "tms"
       ],
       "popup": null,
       "popup_max_height": null,
       "popup_max_width": 300,
       "popup_min_width": 50,
       "show_loading": false,
       "tile_size": 256,
       "tms": false,
       "url": "https://{s}.tile.openstreetmap.org/{z}/{x}/{y}.png",
       "visible": true
      }
     },
     "bd0c2400401f4b1c9884b603de435b78": {
      "model_module": "jupyter-leaflet",
      "model_module_version": "^0.13.1",
      "model_name": "LeafletZoomControlModel",
      "state": {
       "_model_module": "jupyter-leaflet",
       "_model_module_version": "^0.13.1",
       "_model_name": "LeafletZoomControlModel",
       "_view_count": null,
       "_view_module": "jupyter-leaflet",
       "_view_module_version": "^0.13.1",
       "_view_name": "LeafletZoomControlView",
       "options": [
        "position",
        "zoom_in_text",
        "zoom_in_title",
        "zoom_out_text",
        "zoom_out_title"
       ],
       "position": "topleft",
       "zoom_in_text": "+",
       "zoom_in_title": "Zoom in",
       "zoom_out_text": "-",
       "zoom_out_title": "Zoom out"
      }
     },
     "d822f68e73ca4bff958f137fff77aec9": {
      "model_module": "jupyter-leaflet",
      "model_module_version": "^0.13.1",
      "model_name": "LeafletAttributionControlModel",
      "state": {
       "_model_module": "jupyter-leaflet",
       "_model_module_version": "^0.13.1",
       "_model_name": "LeafletAttributionControlModel",
       "_view_count": null,
       "_view_module": "jupyter-leaflet",
       "_view_module_version": "^0.13.1",
       "_view_name": "LeafletAttributionControlView",
       "options": [
        "position",
        "prefix"
       ],
       "position": "bottomright",
       "prefix": "Leaflet"
      }
     },
     "de90fe4409514e9abd42b73069078609": {
      "model_module": "jupyter-leaflet",
      "model_module_version": "^0.13.1",
      "model_name": "LeafletMapStyleModel",
      "state": {
       "_model_module": "jupyter-leaflet",
       "_model_module_version": "^0.13.1",
       "_model_name": "LeafletMapStyleModel",
       "_view_count": null,
       "_view_module": "@jupyter-widgets/base",
       "_view_module_version": "1.2.0",
       "_view_name": "StyleView",
       "cursor": "grab"
      }
     },
     "eb98dab01251447c942ce77cb83e9fe5": {
      "model_module": "@jupyter-widgets/base",
      "model_module_version": "1.2.0",
      "model_name": "LayoutModel",
      "state": {
       "_model_module": "@jupyter-widgets/base",
       "_model_module_version": "1.2.0",
       "_model_name": "LayoutModel",
       "_view_count": null,
       "_view_module": "@jupyter-widgets/base",
       "_view_module_version": "1.2.0",
       "_view_name": "LayoutView",
       "align_content": null,
       "align_items": null,
       "align_self": null,
       "border": null,
       "bottom": null,
       "display": null,
       "flex": null,
       "flex_flow": null,
       "grid_area": null,
       "grid_auto_columns": null,
       "grid_auto_flow": null,
       "grid_auto_rows": null,
       "grid_column": null,
       "grid_gap": null,
       "grid_row": null,
       "grid_template_areas": null,
       "grid_template_columns": null,
       "grid_template_rows": null,
       "height": null,
       "justify_content": null,
       "justify_items": null,
       "left": null,
       "margin": null,
       "max_height": null,
       "max_width": null,
       "min_height": null,
       "min_width": null,
       "object_fit": null,
       "object_position": null,
       "order": null,
       "overflow": null,
       "overflow_x": null,
       "overflow_y": null,
       "padding": null,
       "right": null,
       "top": null,
       "visibility": null,
       "width": null
      }
     }
    },
    "version_major": 2,
    "version_minor": 0
   }
  }
 },
 "nbformat": 4,
 "nbformat_minor": 4
}
