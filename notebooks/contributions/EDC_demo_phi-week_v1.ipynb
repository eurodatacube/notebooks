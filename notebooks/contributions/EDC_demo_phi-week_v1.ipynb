{
 "cells": [
  {
   "cell_type": "markdown",
   "metadata": {
    "tags": [
     "papermill-error-cell-tag"
    ]
   },
   "source": [
    "<span style=\"color:red; font-family:Helvetica Neue, Helvetica, Arial, sans-serif; font-size:2em;\">An Exception was encountered at '<a href=\"#papermill-error-cell\">In [7]</a>'.</span>"
   ]
  },
  {
   "cell_type": "code",
   "execution_count": 1,
   "metadata": {
    "execution": {
     "iopub.execute_input": "2020-10-01T08:12:16.338546Z",
     "iopub.status.busy": "2020-10-01T08:12:16.337942Z",
     "iopub.status.idle": "2020-10-01T08:12:16.389797Z",
     "shell.execute_reply": "2020-10-01T08:12:16.390177Z"
    },
    "papermill": {
     "duration": 0.080456,
     "end_time": "2020-10-01T08:12:16.390418",
     "exception": false,
     "start_time": "2020-10-01T08:12:16.309962",
     "status": "completed"
    },
    "tags": []
   },
   "outputs": [
    {
     "data": {
      "text/html": [
       "<script type=\"text/javascript\">\n",
       "        function toggle(id) {\n",
       "            el = document.getElementById(id);\n",
       "            el.style.display = el.style.display === \"none\" ? \"block\" : \"none\";\n",
       "        }\n",
       "    </script>"
      ],
      "text/plain": [
       "<IPython.core.display.HTML object>"
      ]
     },
     "metadata": {},
     "output_type": "display_data"
    },
    {
     "data": {
      "text/html": [
       "This notebook is compatible with this base image version (user-0.21.0)."
      ],
      "text/plain": [
       "<IPython.core.display.HTML object>"
      ]
     },
     "metadata": {},
     "output_type": "display_data"
    }
   ],
   "source": [
    "from edc import check_compatibility\n",
    "check_compatibility(\"user-0.21.0\")"
   ]
  },
  {
   "cell_type": "markdown",
   "metadata": {
    "papermill": {
     "duration": 0.024165,
     "end_time": "2020-10-01T08:12:16.439127",
     "exception": false,
     "start_time": "2020-10-01T08:12:16.414962",
     "status": "completed"
    },
    "tags": []
   },
   "source": [
    "## xcube-gen and xcube-geodb Hands-On Workshop &Phi;-Week 2020\n",
    "### Alicja Balfanz and Helge Dzierzon from Brockmann Consult"
   ]
  },
  {
   "cell_type": "markdown",
   "metadata": {
    "papermill": {
     "duration": 0.024118,
     "end_time": "2020-10-01T08:12:16.488038",
     "exception": false,
     "start_time": "2020-10-01T08:12:16.463920",
     "status": "completed"
    },
    "tags": []
   },
   "source": [
    "In this Notebook we present how to:\n",
    "* Access data via xcube-sh with a short excursion to the xcube Generator User Interface\n",
    "* Use xcube-geodb"
   ]
  },
  {
   "cell_type": "markdown",
   "metadata": {
    "papermill": {
     "duration": 0.025139,
     "end_time": "2020-10-01T08:12:16.537265",
     "exception": false,
     "start_time": "2020-10-01T08:12:16.512126",
     "status": "completed"
    },
    "tags": []
   },
   "source": [
    "__Before getting started:__ Setup the environment variables"
   ]
  },
  {
   "cell_type": "code",
   "execution_count": 2,
   "metadata": {
    "execution": {
     "iopub.execute_input": "2020-10-01T08:12:16.589145Z",
     "iopub.status.busy": "2020-10-01T08:12:16.588603Z",
     "iopub.status.idle": "2020-10-01T08:12:16.592547Z",
     "shell.execute_reply": "2020-10-01T08:12:16.592084Z"
    },
    "papermill": {
     "duration": 0.031234,
     "end_time": "2020-10-01T08:12:16.592651",
     "exception": false,
     "start_time": "2020-10-01T08:12:16.561417",
     "status": "completed"
    },
    "tags": []
   },
   "outputs": [
    {
     "data": {
      "text/markdown": [
       "API credentials have automatically been injected for your active subscriptions.  \n",
       "The following environment variables are now available:\n",
       "\n",
       "The following additional environment variables have been loaded from `~/custom.env`:\n",
       "* `AWS_BUCKET`\n",
       "* `DAPA_URL`\n",
       "* `DB_HOST`, `DB_NAME`, `DB_PASSWORD`, `DB_USER`\n",
       "* `OGC_EDC_URL`\n",
       "* `REFERENCE_DATA`\n"
      ],
      "text/plain": [
       "<IPython.core.display.Markdown object>"
      ]
     },
     "metadata": {},
     "output_type": "display_data"
    }
   ],
   "source": [
    "from edc import setup_environment_variables\n",
    "setup_environment_variables()"
   ]
  },
  {
   "cell_type": "markdown",
   "metadata": {
    "papermill": {
     "duration": 0.024725,
     "end_time": "2020-10-01T08:12:16.642068",
     "exception": false,
     "start_time": "2020-10-01T08:12:16.617343",
     "status": "completed"
    },
    "tags": []
   },
   "source": [
    "##  1) Data access via xcube-sh"
   ]
  },
  {
   "cell_type": "markdown",
   "metadata": {
    "papermill": {
     "duration": 0.025016,
     "end_time": "2020-10-01T08:12:16.692930",
     "exception": false,
     "start_time": "2020-10-01T08:12:16.667914",
     "status": "completed"
    },
    "tags": []
   },
   "source": [
    "Please Note!\n",
    "\n",
    "The following example shows the use of xcube and xcube Generator User Interface by accissing Sentinel-2 data from SentinelHub. However, SentinelHub is not the only available source! \n",
    "Currently there are three Datastores accessible: \n",
    "* Climate Data Store \n",
    "* SENTINEL Hub  \n",
    "* ESA CCI Open Data Portal"
   ]
  },
  {
   "cell_type": "markdown",
   "metadata": {
    "papermill": {
     "duration": 0.026515,
     "end_time": "2020-10-01T08:12:16.744088",
     "exception": false,
     "start_time": "2020-10-01T08:12:16.717573",
     "status": "completed"
    },
    "tags": []
   },
   "source": [
    "__Step 1__: Import packages for xcube-sh "
   ]
  },
  {
   "cell_type": "code",
   "execution_count": 3,
   "metadata": {
    "execution": {
     "iopub.execute_input": "2020-10-01T08:12:16.797702Z",
     "iopub.status.busy": "2020-10-01T08:12:16.797142Z",
     "iopub.status.idle": "2020-10-01T08:12:17.646350Z",
     "shell.execute_reply": "2020-10-01T08:12:17.645795Z"
    },
    "papermill": {
     "duration": 0.877842,
     "end_time": "2020-10-01T08:12:17.646472",
     "exception": false,
     "start_time": "2020-10-01T08:12:16.768630",
     "status": "completed"
    },
    "tags": []
   },
   "outputs": [],
   "source": [
    "# xcube_sh imports\n",
    "from xcube_sh.cube import open_cube\n",
    "from xcube_sh.config import CubeConfig\n",
    "\n",
    "# various utilities\n",
    "import json\n",
    "import xarray as xr\n",
    "import shapely.geometry\n",
    "import IPython.display\n",
    "import zarr\n",
    "\n",
    "import warnings\n",
    "warnings.filterwarnings('ignore')\n",
    "warnings.simplefilter('ignore')"
   ]
  },
  {
   "cell_type": "markdown",
   "metadata": {
    "papermill": {
     "duration": 0.024946,
     "end_time": "2020-10-01T08:12:17.700270",
     "exception": false,
     "start_time": "2020-10-01T08:12:17.675324",
     "status": "completed"
    },
    "tags": []
   },
   "source": [
    "__Step 2__: Setting CubeConfig parameters for generating S2 cubes"
   ]
  },
  {
   "cell_type": "code",
   "execution_count": 4,
   "metadata": {
    "execution": {
     "iopub.execute_input": "2020-10-01T08:12:17.755804Z",
     "iopub.status.busy": "2020-10-01T08:12:17.755216Z",
     "iopub.status.idle": "2020-10-01T08:12:17.757032Z",
     "shell.execute_reply": "2020-10-01T08:12:17.757427Z"
    },
    "papermill": {
     "duration": 0.031796,
     "end_time": "2020-10-01T08:12:17.757566",
     "exception": false,
     "start_time": "2020-10-01T08:12:17.725770",
     "status": "completed"
    },
    "tags": []
   },
   "outputs": [],
   "source": [
    "dataset_name = 'S2L2A' # dataset name\n",
    "band_names = ['B01', 'B02', 'B03', 'B04', 'B05', 'B06', 'B08', 'SCL', 'CLD'] # band names\n",
    "tile_size = [500, 500] # tile size \n",
    "# geometry (bounding box for the area covering Hamburg)\n",
    "x1 = 9.86\n",
    "y1 = 53.45\n",
    "x2 = 10.14\n",
    "y2 = 53.62\n",
    "bbox = x1, y1, x2, y2\n",
    "spatial_res = 0.00018 # spatial resolution (approx. 20 m in degree)\n",
    "time_tolerance='2H'"
   ]
  },
  {
   "cell_type": "markdown",
   "metadata": {
    "papermill": {
     "duration": 0.025636,
     "end_time": "2020-10-01T08:12:17.807797",
     "exception": false,
     "start_time": "2020-10-01T08:12:17.782161",
     "status": "completed"
    },
    "tags": []
   },
   "source": [
    "A description about the dataset and the bands may be found here: https://docs.sentinel-hub.com/api/latest/data/sentinel-2-l2a/ ."
   ]
  },
  {
   "cell_type": "markdown",
   "metadata": {
    "papermill": {
     "duration": 0.024691,
     "end_time": "2020-10-01T08:12:17.857170",
     "exception": false,
     "start_time": "2020-10-01T08:12:17.832479",
     "status": "completed"
    },
    "tags": []
   },
   "source": [
    "__Step 3:__ Setting cube configurations for 2018 summer season (May - August)"
   ]
  },
  {
   "cell_type": "code",
   "execution_count": 5,
   "metadata": {
    "execution": {
     "iopub.execute_input": "2020-10-01T08:12:17.912762Z",
     "iopub.status.busy": "2020-10-01T08:12:17.912179Z",
     "iopub.status.idle": "2020-10-01T08:12:17.913864Z",
     "shell.execute_reply": "2020-10-01T08:12:17.914230Z"
    },
    "papermill": {
     "duration": 0.031966,
     "end_time": "2020-10-01T08:12:17.914353",
     "exception": false,
     "start_time": "2020-10-01T08:12:17.882387",
     "status": "completed"
    },
    "tags": []
   },
   "outputs": [],
   "source": [
    "cube_config_2018 = CubeConfig(dataset_name = dataset_name,\n",
    "                              band_names = band_names,\n",
    "                              tile_size = tile_size, \n",
    "                              bbox = bbox,\n",
    "                              spatial_res = spatial_res,\n",
    "                              time_range = ['2018-05-01', '2018-08-31'],\n",
    "                              time_tolerance = time_tolerance)"
   ]
  },
  {
   "cell_type": "markdown",
   "metadata": {
    "papermill": {
     "duration": 0.029806,
     "end_time": "2020-10-01T08:12:17.968901",
     "exception": false,
     "start_time": "2020-10-01T08:12:17.939095",
     "status": "completed"
    },
    "tags": []
   },
   "source": [
    "__Step 4:__ View bounding box to check seleceted area"
   ]
  },
  {
   "cell_type": "code",
   "execution_count": 6,
   "metadata": {
    "execution": {
     "iopub.execute_input": "2020-10-01T08:12:18.023136Z",
     "iopub.status.busy": "2020-10-01T08:12:18.022551Z",
     "iopub.status.idle": "2020-10-01T08:12:18.025794Z",
     "shell.execute_reply": "2020-10-01T08:12:18.025332Z"
    },
    "papermill": {
     "duration": 0.0321,
     "end_time": "2020-10-01T08:12:18.025901",
     "exception": false,
     "start_time": "2020-10-01T08:12:17.993801",
     "status": "completed"
    },
    "tags": []
   },
   "outputs": [
    {
     "data": {
      "application/geo+json": {
       "coordinates": [
        [
         [
          10.14,
          53.45
         ],
         [
          10.14,
          53.62
         ],
         [
          9.86,
          53.62
         ],
         [
          9.86,
          53.45
         ],
         [
          10.14,
          53.45
         ]
        ]
       ],
       "type": "Polygon"
      },
      "text/plain": [
       "<IPython.display.GeoJSON object>"
      ]
     },
     "metadata": {
      "application/geo+json": {
       "expanded": false,
       "root": "root"
      }
     },
     "output_type": "display_data"
    }
   ],
   "source": [
    "IPython.display.GeoJSON(shapely.geometry.box(*bbox).__geo_interface__)"
   ]
  },
  {
   "cell_type": "markdown",
   "metadata": {
    "papermill": {
     "duration": 0.02597,
     "end_time": "2020-10-01T08:12:18.077228",
     "exception": false,
     "start_time": "2020-10-01T08:12:18.051258",
     "status": "completed"
    },
    "tags": []
   },
   "source": [
    "__Step 5:__ Open data cube"
   ]
  },
  {
   "cell_type": "markdown",
   "metadata": {
    "tags": [
     "papermill-error-cell-tag"
    ]
   },
   "source": [
    "<span id=\"papermill-error-cell\" style=\"color:red; font-family:Helvetica Neue, Helvetica, Arial, sans-serif; font-size:2em;\">Execution using papermill encountered an exception here and stopped:</span>"
   ]
  },
  {
   "cell_type": "code",
   "execution_count": 7,
   "metadata": {
    "execution": {
     "iopub.execute_input": "2020-10-01T08:12:18.133503Z",
     "iopub.status.busy": "2020-10-01T08:12:18.130845Z",
     "iopub.status.idle": "2020-10-01T08:12:18.247106Z",
     "shell.execute_reply": "2020-10-01T08:12:18.246325Z"
    },
    "papermill": {
     "duration": 0.144732,
     "end_time": "2020-10-01T08:12:18.247270",
     "exception": true,
     "start_time": "2020-10-01T08:12:18.102538",
     "status": "failed"
    },
    "tags": []
   },
   "outputs": [
    {
     "ename": "ValueError",
     "evalue": "Both client_id and client_secret must be provided.\nConsider setting environment variables SH_CLIENT_ID and SH_CLIENT_SECRET.\nFor more information refer to https://docs.sentinel-hub.com/api/latest/#/API/authentication",
     "output_type": "error",
     "traceback": [
      "\u001b[0;31m---------------------------------------------------------------------------\u001b[0m",
      "\u001b[0;31mValueError\u001b[0m                                Traceback (most recent call last)",
      "\u001b[0;32m<ipython-input-7-8b5332e7ffa2>\u001b[0m in \u001b[0;36m<module>\u001b[0;34m\u001b[0m\n\u001b[0;32m----> 1\u001b[0;31m \u001b[0mcube_S2_2018\u001b[0m \u001b[0;34m=\u001b[0m \u001b[0mopen_cube\u001b[0m\u001b[0;34m(\u001b[0m\u001b[0mcube_config_2018\u001b[0m\u001b[0;34m)\u001b[0m\u001b[0;34m\u001b[0m\u001b[0;34m\u001b[0m\u001b[0m\n\u001b[0m\u001b[1;32m      2\u001b[0m \u001b[0mcube_S2_2018\u001b[0m\u001b[0;34m\u001b[0m\u001b[0;34m\u001b[0m\u001b[0m\n",
      "\u001b[0;32m/opt/conda/envs/eurodatacube-0.21.0/lib/python3.7/site-packages/xcube_sh/cube.py\u001b[0m in \u001b[0;36mopen_cube\u001b[0;34m(cube_config, observer, trace_store_calls, max_cache_size, **sh_kwargs)\u001b[0m\n\u001b[1;32m     47\u001b[0m     \u001b[0;34m:\u001b[0m\u001b[0;32mreturn\u001b[0m\u001b[0;34m:\u001b[0m \u001b[0mthe\u001b[0m \u001b[0mdata\u001b[0m \u001b[0mcube\u001b[0m \u001b[0mrepresented\u001b[0m \u001b[0mby\u001b[0m \u001b[0man\u001b[0m \u001b[0mxarray\u001b[0m \u001b[0mDataset\u001b[0m \u001b[0mobject\u001b[0m\u001b[0;34m.\u001b[0m\u001b[0;34m\u001b[0m\u001b[0;34m\u001b[0m\u001b[0m\n\u001b[1;32m     48\u001b[0m     \"\"\"\n\u001b[0;32m---> 49\u001b[0;31m     \u001b[0msentinel_hub\u001b[0m \u001b[0;34m=\u001b[0m \u001b[0mSentinelHub\u001b[0m\u001b[0;34m(\u001b[0m\u001b[0;34m**\u001b[0m\u001b[0msh_kwargs\u001b[0m\u001b[0;34m)\u001b[0m\u001b[0;34m\u001b[0m\u001b[0;34m\u001b[0m\u001b[0m\n\u001b[0m\u001b[1;32m     50\u001b[0m     \u001b[0mcube_store\u001b[0m \u001b[0;34m=\u001b[0m \u001b[0mSentinelHubChunkStore\u001b[0m\u001b[0;34m(\u001b[0m\u001b[0msentinel_hub\u001b[0m\u001b[0;34m,\u001b[0m \u001b[0mcube_config\u001b[0m\u001b[0;34m,\u001b[0m \u001b[0mobserver\u001b[0m\u001b[0;34m=\u001b[0m\u001b[0mobserver\u001b[0m\u001b[0;34m,\u001b[0m \u001b[0mtrace_store_calls\u001b[0m\u001b[0;34m=\u001b[0m\u001b[0mtrace_store_calls\u001b[0m\u001b[0;34m)\u001b[0m\u001b[0;34m\u001b[0m\u001b[0;34m\u001b[0m\u001b[0m\n\u001b[1;32m     51\u001b[0m     \u001b[0;32mif\u001b[0m \u001b[0mmax_cache_size\u001b[0m\u001b[0;34m:\u001b[0m\u001b[0;34m\u001b[0m\u001b[0;34m\u001b[0m\u001b[0m\n",
      "\u001b[0;32m/opt/conda/envs/eurodatacube-0.21.0/lib/python3.7/site-packages/xcube_sh/sentinelhub.py\u001b[0m in \u001b[0;36m__init__\u001b[0;34m(self, client_id, client_secret, instance_id, api_url, oauth2_url, enable_warnings, error_policy, error_handler, num_retries, retry_backoff_max, retry_backoff_base, session)\u001b[0m\n\u001b[1;32m     94\u001b[0m \u001b[0;34m\u001b[0m\u001b[0m\n\u001b[1;32m     95\u001b[0m             \u001b[0;32mif\u001b[0m \u001b[0;32mnot\u001b[0m \u001b[0mclient_id\u001b[0m \u001b[0;32mor\u001b[0m \u001b[0;32mnot\u001b[0m \u001b[0mclient_secret\u001b[0m\u001b[0;34m:\u001b[0m\u001b[0;34m\u001b[0m\u001b[0;34m\u001b[0m\u001b[0m\n\u001b[0;32m---> 96\u001b[0;31m                 raise ValueError('Both client_id and client_secret must be provided.\\n'\n\u001b[0m\u001b[1;32m     97\u001b[0m                                  \u001b[0;34m'Consider setting environment variables SH_CLIENT_ID and SH_CLIENT_SECRET.\\n'\u001b[0m\u001b[0;34m\u001b[0m\u001b[0;34m\u001b[0m\u001b[0m\n\u001b[1;32m     98\u001b[0m                                  \u001b[0;34m'For more information refer to '\u001b[0m\u001b[0;34m\u001b[0m\u001b[0;34m\u001b[0m\u001b[0m\n",
      "\u001b[0;31mValueError\u001b[0m: Both client_id and client_secret must be provided.\nConsider setting environment variables SH_CLIENT_ID and SH_CLIENT_SECRET.\nFor more information refer to https://docs.sentinel-hub.com/api/latest/#/API/authentication"
     ]
    }
   ],
   "source": [
    "cube_S2_2018 = open_cube(cube_config_2018)\n",
    "cube_S2_2018"
   ]
  },
  {
   "cell_type": "markdown",
   "metadata": {
    "papermill": {
     "duration": null,
     "end_time": null,
     "exception": null,
     "start_time": null,
     "status": "pending"
    },
    "tags": []
   },
   "source": [
    "__Step 6:__ Plot a single scene for a specific timestamp and band"
   ]
  },
  {
   "cell_type": "code",
   "execution_count": null,
   "metadata": {
    "papermill": {
     "duration": null,
     "end_time": null,
     "exception": null,
     "start_time": null,
     "status": "pending"
    },
    "tags": []
   },
   "outputs": [],
   "source": [
    "cube_S2_2018.B04.sel(time='2018-07-25 12:00:00', method='nearest').plot.imshow(vmin=0, vmax=0.2, cmap='Greys_r', figsize=(14, 10))"
   ]
  },
  {
   "cell_type": "markdown",
   "metadata": {
    "papermill": {
     "duration": null,
     "end_time": null,
     "exception": null,
     "start_time": null,
     "status": "pending"
    },
    "tags": []
   },
   "source": [
    "__Step 7:__ Plot a timeseries for a certain location"
   ]
  },
  {
   "cell_type": "code",
   "execution_count": null,
   "metadata": {
    "papermill": {
     "duration": null,
     "end_time": null,
     "exception": null,
     "start_time": null,
     "status": "pending"
    },
    "tags": []
   },
   "outputs": [],
   "source": [
    "cube_S2_2018.B04.sel(lat=53.56, lon=10.00, method='nearest').plot()"
   ]
  },
  {
   "cell_type": "markdown",
   "metadata": {
    "papermill": {
     "duration": null,
     "end_time": null,
     "exception": null,
     "start_time": null,
     "status": "pending"
    },
    "tags": []
   },
   "source": [
    "If one wants a subest, e.g. because the region of interest is smaler, this can be achieved by using xcube python api: "
   ]
  },
  {
   "cell_type": "code",
   "execution_count": null,
   "metadata": {
    "papermill": {
     "duration": null,
     "end_time": null,
     "exception": null,
     "start_time": null,
     "status": "pending"
    },
    "tags": []
   },
   "outputs": [],
   "source": [
    "# xcube imports\n",
    "from xcube.core.compute import compute_cube\n",
    "from xcube.core.maskset import MaskSet\n",
    "from xcube.core.geom import mask_dataset_by_geometry\n",
    "from xcube.core.geom import clip_dataset_by_geometry"
   ]
  },
  {
   "cell_type": "markdown",
   "metadata": {
    "papermill": {
     "duration": null,
     "end_time": null,
     "exception": null,
     "start_time": null,
     "status": "pending"
    },
    "tags": []
   },
   "source": [
    "There are two ways of selecting the area of interest:\n",
    "* By masking - this keeps only the data of the WKT Polygon or shapefile\n",
    "* By clipping - this creates a new bounding box, which ensures that the area of interest is within the subset but keeps the surrounding data (*this is commented out in the following cells*)"
   ]
  },
  {
   "cell_type": "code",
   "execution_count": null,
   "metadata": {
    "papermill": {
     "duration": null,
     "end_time": null,
     "exception": null,
     "start_time": null,
     "status": "pending"
    },
    "tags": []
   },
   "outputs": [],
   "source": [
    "# Great tool to quickly generate WKT Polygons: https://arthur-e.github.io/Wicket/sandbox-gmaps3.html\n",
    "polygon = \"POLYGON((9.994461289534694 53.580963332925194,10.0002977763511 53.57280950628081,9.995147935042507 53.5625130540729,9.987766495833522 53.55374380185022,9.993946305403835 53.55088830422569,10.002529374251491 53.5553754282651,10.016605607161647 53.56190130476089,10.018493882308132 53.568528117753054,10.00853752244485 53.57535774603685,10.016090623030788 53.578211592240635,10.013000718245632 53.579740359179034,10.00682090867532 53.579230776342285,10.003387681136257 53.58249200035297,9.994461289534694 53.580963332925194))\""
   ]
  },
  {
   "cell_type": "code",
   "execution_count": null,
   "metadata": {
    "papermill": {
     "duration": null,
     "end_time": null,
     "exception": null,
     "start_time": null,
     "status": "pending"
    },
    "tags": []
   },
   "outputs": [],
   "source": [
    "cube_S2_2018_masked = mask_dataset_by_geometry(cube_S2_2018, geometry=polygon)\n",
    "# cube_S2_2018_clipped = clip_dataset_by_geometry(cube_S2_2018, geometry=polygon)"
   ]
  },
  {
   "cell_type": "code",
   "execution_count": null,
   "metadata": {
    "papermill": {
     "duration": null,
     "end_time": null,
     "exception": null,
     "start_time": null,
     "status": "pending"
    },
    "tags": []
   },
   "outputs": [],
   "source": [
    "cube_S2_2018_masked\n",
    "# cube_S2_2018_clipped"
   ]
  },
  {
   "cell_type": "code",
   "execution_count": null,
   "metadata": {
    "papermill": {
     "duration": null,
     "end_time": null,
     "exception": null,
     "start_time": null,
     "status": "pending"
    },
    "tags": []
   },
   "outputs": [],
   "source": [
    "cube_S2_2018_masked.B04.sel(time='2018-07-25 12:00:00', method='nearest').plot.imshow(vmin=0, vmax=0.2, cmap='Greys_r', figsize=(14, 10))\n",
    "# cube_S2_2018_clipped.B04.sel(time='2018-07-25 12:00:00', method='nearest').plot.imshow(vmin=0, vmax=0.2, cmap='Greys_r', figsize=(14, 10))"
   ]
  },
  {
   "cell_type": "markdown",
   "metadata": {
    "papermill": {
     "duration": null,
     "end_time": null,
     "exception": null,
     "start_time": null,
     "status": "pending"
    },
    "tags": []
   },
   "source": [
    "Save cube as zarr:"
   ]
  },
  {
   "cell_type": "code",
   "execution_count": null,
   "metadata": {
    "papermill": {
     "duration": null,
     "end_time": null,
     "exception": null,
     "start_time": null,
     "status": "pending"
    },
    "tags": []
   },
   "outputs": [],
   "source": [
    "# cube_S2_2018_masked.to_zarr('Alster_cube_2018_masked.zarr')\n",
    "# cube_S2_2018_clipped.to_zarr('Alster_cube_2018.zarr')"
   ]
  },
  {
   "cell_type": "markdown",
   "metadata": {
    "papermill": {
     "duration": null,
     "end_time": null,
     "exception": null,
     "start_time": null,
     "status": "pending"
    },
    "tags": []
   },
   "source": [
    "## How to generate a datacube with the help of xcube Generator user interface"
   ]
  },
  {
   "cell_type": "markdown",
   "metadata": {
    "papermill": {
     "duration": null,
     "end_time": null,
     "exception": null,
     "start_time": null,
     "status": "pending"
    },
    "tags": []
   },
   "source": [
    "__This section is not hands-on!__\n",
    "\n",
    "If you want to check out the xcube Generator yourself later, please take a look at the [xcube Generator User Guide](https://eurodatacube.com/documentation/xcube-gen-ui-guide) to give you more detail. "
   ]
  },
  {
   "cell_type": "markdown",
   "metadata": {
    "papermill": {
     "duration": null,
     "end_time": null,
     "exception": null,
     "start_time": null,
     "status": "pending"
    },
    "tags": []
   },
   "source": [
    "__Open a cube from s3 bucket:__  \n",
    "The below cell shows how to open a generated datacube which is stored in a public bucket with the help of xcube "
   ]
  },
  {
   "cell_type": "code",
   "execution_count": null,
   "metadata": {
    "papermill": {
     "duration": null,
     "end_time": null,
     "exception": null,
     "start_time": null,
     "status": "pending"
    },
    "tags": []
   },
   "outputs": [],
   "source": [
    "from xcube.core.dsio import open_cube\n",
    "cube_from_s3 = open_cube('s3://edc-phi-week-2020/xcube-gen-1b11e7c1-94f9-4246-833e-a2a12d301a3e.zarr')"
   ]
  },
  {
   "cell_type": "code",
   "execution_count": null,
   "metadata": {
    "papermill": {
     "duration": null,
     "end_time": null,
     "exception": null,
     "start_time": null,
     "status": "pending"
    },
    "tags": []
   },
   "outputs": [],
   "source": [
    "cube_from_s3"
   ]
  },
  {
   "cell_type": "markdown",
   "metadata": {
    "papermill": {
     "duration": null,
     "end_time": null,
     "exception": null,
     "start_time": null,
     "status": "pending"
    },
    "tags": []
   },
   "source": [
    "__Open a cube stored loccaly, here in the workspace:__"
   ]
  },
  {
   "cell_type": "code",
   "execution_count": null,
   "metadata": {
    "papermill": {
     "duration": null,
     "end_time": null,
     "exception": null,
     "start_time": null,
     "status": "pending"
    },
    "tags": []
   },
   "outputs": [],
   "source": [
    "cube = xr.open_zarr('Alster_cube_2018.zarr')"
   ]
  },
  {
   "cell_type": "markdown",
   "metadata": {
    "papermill": {
     "duration": null,
     "end_time": null,
     "exception": null,
     "start_time": null,
     "status": "pending"
    },
    "tags": []
   },
   "source": [
    "Discover, which flags are available within the datacube:"
   ]
  },
  {
   "cell_type": "code",
   "execution_count": null,
   "metadata": {
    "papermill": {
     "duration": null,
     "end_time": null,
     "exception": null,
     "start_time": null,
     "status": "pending"
    },
    "tags": []
   },
   "outputs": [],
   "source": [
    "mask = MaskSet(cube.SCL)\n",
    "mask"
   ]
  },
  {
   "cell_type": "code",
   "execution_count": null,
   "metadata": {
    "papermill": {
     "duration": null,
     "end_time": null,
     "exception": null,
     "start_time": null,
     "status": "pending"
    },
    "tags": []
   },
   "outputs": [],
   "source": [
    "mask.clouds_high_probability"
   ]
  },
  {
   "cell_type": "markdown",
   "metadata": {
    "papermill": {
     "duration": null,
     "end_time": null,
     "exception": null,
     "start_time": null,
     "status": "pending"
    },
    "tags": []
   },
   "source": [
    "Make a datacube with all clouds masked out:"
   ]
  },
  {
   "cell_type": "code",
   "execution_count": null,
   "metadata": {
    "papermill": {
     "duration": null,
     "end_time": null,
     "exception": null,
     "start_time": null,
     "status": "pending"
    },
    "tags": []
   },
   "outputs": [],
   "source": [
    "cube_wo_clouds = cube.where(xr.ufuncs.logical_not(mask.cloud_shadows | mask.snow_or_ice | \n",
    "                                                  mask.saturated_or_defective | mask.cirrus | \n",
    "                                                  mask.clouds_low_probability_or_unclassified | \n",
    "                                                  mask.clouds_medium_probability | mask.clouds_high_probability))"
   ]
  },
  {
   "cell_type": "markdown",
   "metadata": {
    "papermill": {
     "duration": null,
     "end_time": null,
     "exception": null,
     "start_time": null,
     "status": "pending"
    },
    "tags": []
   },
   "source": [
    "Keep only the waterbodies of the datacube:"
   ]
  },
  {
   "cell_type": "code",
   "execution_count": null,
   "metadata": {
    "papermill": {
     "duration": null,
     "end_time": null,
     "exception": null,
     "start_time": null,
     "status": "pending"
    },
    "tags": []
   },
   "outputs": [],
   "source": [
    "cube_water_wo_clouds = cube_wo_clouds.where(mask.water)"
   ]
  },
  {
   "cell_type": "markdown",
   "metadata": {
    "papermill": {
     "duration": null,
     "end_time": null,
     "exception": null,
     "start_time": null,
     "status": "pending"
    },
    "tags": []
   },
   "source": [
    "If you want to take a look at the water mask, please uncomment the following line: "
   ]
  },
  {
   "cell_type": "code",
   "execution_count": null,
   "metadata": {
    "papermill": {
     "duration": null,
     "end_time": null,
     "exception": null,
     "start_time": null,
     "status": "pending"
    },
    "tags": []
   },
   "outputs": [],
   "source": [
    "# mask.water.sel(time='2018-07-20 12:00:00', method='nearest').plot.imshow(figsize=(14, 10))"
   ]
  },
  {
   "cell_type": "markdown",
   "metadata": {
    "papermill": {
     "duration": null,
     "end_time": null,
     "exception": null,
     "start_time": null,
     "status": "pending"
    },
    "tags": []
   },
   "source": [
    "Take a look at a time stamp without any masking:"
   ]
  },
  {
   "cell_type": "code",
   "execution_count": null,
   "metadata": {
    "papermill": {
     "duration": null,
     "end_time": null,
     "exception": null,
     "start_time": null,
     "status": "pending"
    },
    "tags": []
   },
   "outputs": [],
   "source": [
    "cube.B04.sel(time='2018-07-20 12:00:00', method='nearest').plot.imshow(vmin=0, vmax=0.2, cmap='Greys_r', figsize=(14, 10))"
   ]
  },
  {
   "cell_type": "markdown",
   "metadata": {
    "papermill": {
     "duration": null,
     "end_time": null,
     "exception": null,
     "start_time": null,
     "status": "pending"
    },
    "tags": []
   },
   "source": [
    "Take a look at a time stamp of the waterbodies and all clouds masked out:"
   ]
  },
  {
   "cell_type": "code",
   "execution_count": null,
   "metadata": {
    "papermill": {
     "duration": null,
     "end_time": null,
     "exception": null,
     "start_time": null,
     "status": "pending"
    },
    "tags": []
   },
   "outputs": [],
   "source": [
    "cube_water_wo_clouds.B04.sel(time='2018-07-20 12:00:00', method='nearest').plot.imshow(vmin=0, vmax=.2, figsize=(14, 10))"
   ]
  },
  {
   "cell_type": "markdown",
   "metadata": {
    "papermill": {
     "duration": null,
     "end_time": null,
     "exception": null,
     "start_time": null,
     "status": "pending"
    },
    "tags": []
   },
   "source": [
    "## 2) Using the xcube-geodb\n",
    "\n",
    "The xcube-geodb consists of a Restful service and a Python client. Let's import the Python dependencies to access the geodb service.\n",
    "\n",
    "__Step 1__: Import the geodb client"
   ]
  },
  {
   "cell_type": "code",
   "execution_count": null,
   "metadata": {
    "papermill": {
     "duration": null,
     "end_time": null,
     "exception": null,
     "start_time": null,
     "status": "pending"
    },
    "tags": []
   },
   "outputs": [],
   "source": [
    "from xcube_geodb.core.geodb import GeoDBClient"
   ]
  },
  {
   "cell_type": "markdown",
   "metadata": {
    "papermill": {
     "duration": null,
     "end_time": null,
     "exception": null,
     "start_time": null,
     "status": "pending"
    },
    "tags": []
   },
   "source": [
    "__Step 2__: Instantiate the client"
   ]
  },
  {
   "cell_type": "code",
   "execution_count": null,
   "metadata": {
    "papermill": {
     "duration": null,
     "end_time": null,
     "exception": null,
     "start_time": null,
     "status": "pending"
    },
    "tags": []
   },
   "outputs": [],
   "source": [
    "geodb = GeoDBClient()"
   ]
  },
  {
   "cell_type": "markdown",
   "metadata": {
    "papermill": {
     "duration": null,
     "end_time": null,
     "exception": null,
     "start_time": null,
     "status": "pending"
    },
    "tags": []
   },
   "source": [
    "__Step 3__: As a subscriber a user name is associated with you. Check your user name."
   ]
  },
  {
   "cell_type": "code",
   "execution_count": null,
   "metadata": {
    "papermill": {
     "duration": null,
     "end_time": null,
     "exception": null,
     "start_time": null,
     "status": "pending"
    },
    "tags": []
   },
   "outputs": [],
   "source": [
    "geodb.whoami"
   ]
  },
  {
   "cell_type": "markdown",
   "metadata": {
    "papermill": {
     "duration": null,
     "end_time": null,
     "exception": null,
     "start_time": null,
     "status": "pending"
    },
    "tags": []
   },
   "source": [
    "__Step 4__: Let's see what collections you have access to"
   ]
  },
  {
   "cell_type": "code",
   "execution_count": null,
   "metadata": {
    "papermill": {
     "duration": null,
     "end_time": null,
     "exception": null,
     "start_time": null,
     "status": "pending"
    },
    "tags": []
   },
   "outputs": [],
   "source": [
    "ds = geodb.get_my_collections()\n",
    "ds"
   ]
  },
  {
   "cell_type": "markdown",
   "metadata": {
    "papermill": {
     "duration": null,
     "end_time": null,
     "exception": null,
     "start_time": null,
     "status": "pending"
    },
    "tags": []
   },
   "source": [
    "__Step 5__: In the next step you will create a collection. The properties are defined using OGC standards for properties. However, types are given using postgresql types."
   ]
  },
  {
   "cell_type": "code",
   "execution_count": null,
   "metadata": {
    "papermill": {
     "duration": null,
     "end_time": null,
     "exception": null,
     "start_time": null,
     "status": "pending"
    },
    "tags": []
   },
   "outputs": [],
   "source": [
    "#geodb.drop_collection(\"alster\")\n",
    "\n",
    "collections = {\n",
    "        \"alster\": \n",
    "        {\n",
    "            \"crs\": 4326,\n",
    "            \"properties\": \n",
    "            {\n",
    "                \"date\": \"date\", \n",
    "                \"chl\": \"float\",\n",
    "                \"chl_min\": \"float\",\n",
    "                \"chl_max\": \"float\",\n",
    "                \"status\": \"text\"\n",
    "            }\n",
    "        }\n",
    "    }\n",
    "\n",
    "\n",
    "geodb.create_collections(collections)"
   ]
  },
  {
   "cell_type": "markdown",
   "metadata": {
    "papermill": {
     "duration": null,
     "end_time": null,
     "exception": null,
     "start_time": null,
     "status": "pending"
    },
    "tags": []
   },
   "source": [
    "__Step 6__: Let's check whether the collection has been created"
   ]
  },
  {
   "cell_type": "code",
   "execution_count": null,
   "metadata": {
    "papermill": {
     "duration": null,
     "end_time": null,
     "exception": null,
     "start_time": null,
     "status": "pending"
    },
    "tags": []
   },
   "outputs": [],
   "source": [
    "ds = geodb.get_my_collections()\n",
    "ds"
   ]
  },
  {
   "cell_type": "markdown",
   "metadata": {
    "papermill": {
     "duration": null,
     "end_time": null,
     "exception": null,
     "start_time": null,
     "status": "pending"
    },
    "tags": []
   },
   "source": [
    "__Step 7__: No collection is useful without data. We have created a sample dataset for you which you no load from an S3 AWS object store and open it into a GeoDataFrame. The data is obtained from a local water authority (HU)."
   ]
  },
  {
   "cell_type": "code",
   "execution_count": null,
   "metadata": {
    "papermill": {
     "duration": null,
     "end_time": null,
     "exception": null,
     "start_time": null,
     "status": "pending"
    },
    "tags": []
   },
   "outputs": [],
   "source": [
    "import geopandas\n",
    "import pandas\n",
    "gdf = geopandas.read_file('https://edc-phi-week-2020.s3.eu-central-1.amazonaws.com/hands-on/alster.geojson')\n",
    "gdf = gdf.where(pandas.notnull(gdf), None)\n",
    "gdf"
   ]
  },
  {
   "cell_type": "code",
   "execution_count": null,
   "metadata": {
    "papermill": {
     "duration": null,
     "end_time": null,
     "exception": null,
     "start_time": null,
     "status": "pending"
    },
    "tags": []
   },
   "outputs": [],
   "source": [
    "geodb.insert_into_collection('alster', gdf)"
   ]
  },
  {
   "cell_type": "markdown",
   "metadata": {
    "papermill": {
     "duration": null,
     "end_time": null,
     "exception": null,
     "start_time": null,
     "status": "pending"
    },
    "tags": []
   },
   "source": [
    "__Step 8__: Load the inserted data from the geoDB"
   ]
  },
  {
   "cell_type": "code",
   "execution_count": null,
   "metadata": {
    "papermill": {
     "duration": null,
     "end_time": null,
     "exception": null,
     "start_time": null,
     "status": "pending"
    },
    "tags": []
   },
   "outputs": [],
   "source": [
    "# geodb.get_collection('alster', database='phi_week')"
   ]
  },
  {
   "cell_type": "code",
   "execution_count": null,
   "metadata": {
    "papermill": {
     "duration": null,
     "end_time": null,
     "exception": null,
     "start_time": null,
     "status": "pending"
    },
    "tags": []
   },
   "outputs": [],
   "source": [
    "gdf = geodb.get_collection('alster')\n",
    "gdf['date'] = pandas.to_datetime(gdf['date'])\n",
    "gdf"
   ]
  },
  {
   "cell_type": "code",
   "execution_count": null,
   "metadata": {
    "papermill": {
     "duration": null,
     "end_time": null,
     "exception": null,
     "start_time": null,
     "status": "pending"
    },
    "tags": []
   },
   "outputs": [],
   "source": [
    "feat = gdf['geometry'][0]"
   ]
  },
  {
   "cell_type": "markdown",
   "metadata": {
    "papermill": {
     "duration": null,
     "end_time": null,
     "exception": null,
     "start_time": null,
     "status": "pending"
    },
    "tags": []
   },
   "source": [
    "__Step 9__: Combine data from Sentinel"
   ]
  },
  {
   "cell_type": "code",
   "execution_count": null,
   "metadata": {
    "papermill": {
     "duration": null,
     "end_time": null,
     "exception": null,
     "start_time": null,
     "status": "pending"
    },
    "tags": []
   },
   "outputs": [],
   "source": [
    "cube_S2_2018['B3o1'] = cube_S2_2018.B03/ cube_S2_2018.B01\n",
    "cube_S2_2018['B3o2'] = cube_S2_2018.B03/ cube_S2_2018.B02\n",
    "cube_S2_2018"
   ]
  },
  {
   "cell_type": "code",
   "execution_count": null,
   "metadata": {
    "papermill": {
     "duration": null,
     "end_time": null,
     "exception": null,
     "start_time": null,
     "status": "pending"
    },
    "tags": []
   },
   "outputs": [],
   "source": [
    "cube_S2_2018_point_low = cube_S2_2018.where((cube_S2_2018.B3o1 < 10) & (cube_S2_2018.SCL==6)).sel(lat=feat.y, lon=feat.x, method='nearest')\n",
    "cube_S2_2018_point_high = cube_S2_2018.where((cube_S2_2018.B3o2 < 10) & (cube_S2_2018.SCL==6)).sel(lat=feat.y, lon=feat.x, method='nearest')"
   ]
  },
  {
   "cell_type": "markdown",
   "metadata": {
    "papermill": {
     "duration": null,
     "end_time": null,
     "exception": null,
     "start_time": null,
     "status": "pending"
    },
    "tags": []
   },
   "source": [
    "__Step 10__: Group point time series data by date"
   ]
  },
  {
   "cell_type": "code",
   "execution_count": null,
   "metadata": {
    "papermill": {
     "duration": null,
     "end_time": null,
     "exception": null,
     "start_time": null,
     "status": "pending"
    },
    "tags": []
   },
   "outputs": [],
   "source": [
    "agg = gdf.query(\"date >= '2018-05-01' and date <= '2018-09-01'\").groupby(['date']).mean()\n",
    "agg"
   ]
  },
  {
   "cell_type": "markdown",
   "metadata": {
    "papermill": {
     "duration": null,
     "end_time": null,
     "exception": null,
     "start_time": null,
     "status": "pending"
    },
    "tags": []
   },
   "source": [
    "__Step 11__: Plot result"
   ]
  },
  {
   "cell_type": "code",
   "execution_count": null,
   "metadata": {
    "papermill": {
     "duration": null,
     "end_time": null,
     "exception": null,
     "start_time": null,
     "status": "pending"
    },
    "tags": []
   },
   "outputs": [],
   "source": [
    "import matplotlib.pyplot as plt"
   ]
  },
  {
   "cell_type": "code",
   "execution_count": null,
   "metadata": {
    "papermill": {
     "duration": null,
     "end_time": null,
     "exception": null,
     "start_time": null,
     "status": "pending"
    },
    "tags": []
   },
   "outputs": [],
   "source": [
    "fig, ax1 = plt.subplots(constrained_layout=True, figsize=(10, 10))\n",
    "ax1.set_ylabel('Sentinel 2 colour ratio', color='red')  \n",
    "ax1.plot(cube_S2_2018_point_low.time, cube_S2_2018_point_low.B3o1.values, label = \"B3o1\", color='red', marker='.', linestyle = 'None', markersize=10)\n",
    "ax1.plot(cube_S2_2018_point_high.time, cube_S2_2018_point_high.B3o2.values, label = \"B3o2\", color='red', marker='.', linestyle = 'None', markersize=10)\n",
    "\n",
    "ax2 = ax1.twinx()  \n",
    "ax2.plot(agg.index, agg.chl_max, label = \"Chlorophyll max. (tot) [µg/l]\", color='green', marker='.', linestyle = 'None',  markersize=10)\n",
    "ax2.set_ylabel('in-situ chl max', color='green')  \n",
    "\n",
    "\n",
    "fig.legend()\n",
    "\n"
   ]
  },
  {
   "cell_type": "code",
   "execution_count": null,
   "metadata": {
    "papermill": {
     "duration": null,
     "end_time": null,
     "exception": null,
     "start_time": null,
     "status": "pending"
    },
    "tags": []
   },
   "outputs": [],
   "source": []
  }
 ],
 "metadata": {
  "kernelspec": {
   "display_name": "EDC 0.21.0 (Python3)",
   "language": "python",
   "name": "edc"
  },
  "language_info": {
   "codemirror_mode": {
    "name": "ipython",
    "version": 3
   },
   "file_extension": ".py",
   "mimetype": "text/x-python",
   "name": "python",
   "nbconvert_exporter": "python",
   "pygments_lexer": "ipython3",
   "version": "3.7.8"
  },
  "papermill": {
   "default_parameters": {},
   "duration": 3.163553,
   "end_time": "2020-10-01T08:12:18.651851",
   "environment_variables": {},
   "exception": true,
   "input_path": "/tmp/tmpalfrtxml",
   "output_path": "/tmp/notebook_output.ipynb",
   "parameters": {},
   "start_time": "2020-10-01T08:12:15.488298",
   "version": "2.2.0"
  },
  "properties": {
   "authors": [
    {
     "id": "dbf6155e-c330-4243-a217-f74ecdfc3ec6",
     "name": "gunnar.brandt@brockmann-consult.de"
    }
   ],
   "description": "Integrating data cubes and feature data with xcube",
   "id": "832fb835-3c70-4eb5-a324-88fe26268165",
   "license": null,
   "name": "Euro Data Cube - Hands-on Tutorial phi-Week 2020: xcube-gen and xcube-geodb ",
   "requirements": [],
   "tags": [
    "GeoDB",
    "xcube",
    "Sentinel Data",
    "Jupyter",
    "Getting started",
    "EO Data",
    "On-the-fly",
    "Sentinel Hub"
   ],
   "tosAgree": true,
   "type": "Jupyter Notebook",
   "version": "0.0.1"
  }
 },
 "nbformat": 4,
 "nbformat_minor": 4
}