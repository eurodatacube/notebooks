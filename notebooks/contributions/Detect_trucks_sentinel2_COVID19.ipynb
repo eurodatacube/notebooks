{
 "cells": [
  {
   "cell_type": "markdown",
   "metadata": {},
   "source": [
    "<span style=\"color:red; font-family:Helvetica Neue, Helvetica, Arial, sans-serif; font-size:2em;\">An Exception was encountered at 'In [6]'.</span>"
   ]
  },
  {
   "cell_type": "markdown",
   "metadata": {
    "papermill": {
     "duration": 0.030007,
     "end_time": "2020-05-11T10:32:49.194848",
     "exception": false,
     "start_time": "2020-05-11T10:32:49.164841",
     "status": "completed"
    },
    "tags": []
   },
   "source": [
    "# Detect trucks using Sentinel-2\n",
    "---\n",
    "Author: Henrik Fisser, 2020\n",
    "\n",
    "This script was developed and executed on the EOxHub-hosted JupyterLab and uses xcube for computations on data cubes retrieved from Sentinel Hub. If you do not have access to these resources you may execute the calculation as a Javascript on Sentinel-hub EO Browser. \n",
    "You find the Javascript here: https://github.com/hfisser/Truck_Detection_Sentinel2_COVID19/blob/master/detect_trucks_sentinel2_COVID19.js\n",
    "\n",
    "What does this script do?\n",
    "----\n",
    "It detects trucks in Sentinel-2 data. The detection exploits the offset of different wavelengths reflected by moving objects. It targets pixels where blue is higher than green and red. First, a road mask is calculated and the data is masked to these pixels. Second, the ratios between blue and green and blue and red are calculated. Finally, thresholds are applied to these ratios. Each truck is represented by one to three pixels with value 1 in the result. In order to visualize the results they may be vectorized, which this script does not do.\n",
    "\n",
    "The first part of the notebook demonstrates the procedure at a single timestamp. The second part calculates the same for more timestamps.\n",
    "\n",
    "Questions or Feedback?\n",
    "---\n",
    "Just send me a message :).\n",
    "\n",
    "Load dependencies\n",
    "---"
   ]
  },
  {
   "cell_type": "code",
   "execution_count": 1,
   "metadata": {
    "execution": {
     "iopub.execute_input": "2020-05-11T10:32:49.261361Z",
     "iopub.status.busy": "2020-05-11T10:32:49.260465Z",
     "iopub.status.idle": "2020-05-11T10:32:49.279282Z",
     "shell.execute_reply": "2020-05-11T10:32:49.280180Z"
    },
    "papermill": {
     "duration": 0.053123,
     "end_time": "2020-05-11T10:32:49.280408",
     "exception": false,
     "start_time": "2020-05-11T10:32:49.227285",
     "status": "completed"
    },
    "tags": []
   },
   "outputs": [
    {
     "name": "stdout",
     "output_type": "stream",
     "text": [
      "cannot find .env file\n"
     ]
    }
   ],
   "source": [
    "# load creds\n",
    "%load_ext dotenv\n",
    "%dotenv"
   ]
  },
  {
   "cell_type": "code",
   "execution_count": 2,
   "metadata": {
    "execution": {
     "iopub.execute_input": "2020-05-11T10:32:49.337554Z",
     "iopub.status.busy": "2020-05-11T10:32:49.336745Z",
     "iopub.status.idle": "2020-05-11T10:32:52.908137Z",
     "shell.execute_reply": "2020-05-11T10:32:52.906658Z"
    },
    "papermill": {
     "duration": 3.597958,
     "end_time": "2020-05-11T10:32:52.908411",
     "exception": false,
     "start_time": "2020-05-11T10:32:49.310453",
     "status": "completed"
    },
    "tags": []
   },
   "outputs": [],
   "source": [
    "from xcube_sh.cube import open_cube\n",
    "from xcube_sh.config import CubeConfig\n",
    "from xcube.core.maskset import MaskSet\n",
    "\n",
    "import os\n",
    "import json\n",
    "import numpy as np\n",
    "import xarray as xr\n",
    "import shapely.geometry\n",
    "import IPython.display\n",
    "\n",
    "%matplotlib inline"
   ]
  },
  {
   "cell_type": "markdown",
   "metadata": {
    "papermill": {
     "duration": 0.021926,
     "end_time": "2020-05-11T10:32:52.948049",
     "exception": false,
     "start_time": "2020-05-11T10:32:52.926123",
     "status": "completed"
    },
    "tags": []
   },
   "source": [
    "General parameters\n",
    "---\n"
   ]
  },
  {
   "cell_type": "code",
   "execution_count": 3,
   "metadata": {
    "execution": {
     "iopub.execute_input": "2020-05-11T10:32:53.003305Z",
     "iopub.status.busy": "2020-05-11T10:32:53.002516Z",
     "iopub.status.idle": "2020-05-11T10:32:53.006127Z",
     "shell.execute_reply": "2020-05-11T10:32:53.005349Z"
    },
    "papermill": {
     "duration": 0.037342,
     "end_time": "2020-05-11T10:32:53.006249",
     "exception": false,
     "start_time": "2020-05-11T10:32:52.968907",
     "status": "completed"
    },
    "tags": []
   },
   "outputs": [],
   "source": [
    "dataset = \"S2L2A\"\n",
    "spatial_res = 0.00009 # 10m\n",
    "band_names = [\"B02\", \"B03\", \"B04\", \"B08\", \"B11\", \"SCL\"]\n",
    "time_period = \"1D\"\n",
    "\n",
    "fig = [16, 10] # for plotting"
   ]
  },
  {
   "cell_type": "markdown",
   "metadata": {
    "papermill": {
     "duration": 0.027502,
     "end_time": "2020-05-11T10:32:53.062935",
     "exception": false,
     "start_time": "2020-05-11T10:32:53.035433",
     "status": "completed"
    },
    "tags": []
   },
   "source": [
    "Specific parameters\n",
    "---"
   ]
  },
  {
   "cell_type": "code",
   "execution_count": 4,
   "metadata": {
    "execution": {
     "iopub.execute_input": "2020-05-11T10:32:53.123123Z",
     "iopub.status.busy": "2020-05-11T10:32:53.122330Z",
     "iopub.status.idle": "2020-05-11T10:32:53.126000Z",
     "shell.execute_reply": "2020-05-11T10:32:53.125437Z"
    },
    "papermill": {
     "duration": 0.042894,
     "end_time": "2020-05-11T10:32:53.126103",
     "exception": false,
     "start_time": "2020-05-11T10:32:53.083209",
     "status": "completed"
    },
    "tags": []
   },
   "outputs": [],
   "source": [
    "min_rgb = 0.04\n",
    "max_red = 0.15\n",
    "max_green = 0.15\n",
    "max_blue = 0.4\n",
    "max_ndvi = 0.7 # quite high to account for mixed pixels\n",
    "max_ndwi = 0.001\n",
    "max_ndsi = 0.0001\n",
    "min_b11 = 0.05\n",
    "max_b11 = 0.55\n",
    "min_green_ratio = 0.05\n",
    "min_red_ratio = 0.1"
   ]
  },
  {
   "cell_type": "markdown",
   "metadata": {
    "papermill": {
     "duration": 0.018694,
     "end_time": "2020-05-11T10:32:53.164654",
     "exception": false,
     "start_time": "2020-05-11T10:32:53.145960",
     "status": "completed"
    },
    "tags": []
   },
   "source": [
    "Area Of Interest\n",
    "---"
   ]
  },
  {
   "cell_type": "code",
   "execution_count": 5,
   "metadata": {
    "execution": {
     "iopub.execute_input": "2020-05-11T10:32:53.218301Z",
     "iopub.status.busy": "2020-05-11T10:32:53.217478Z",
     "iopub.status.idle": "2020-05-11T10:32:53.224049Z",
     "shell.execute_reply": "2020-05-11T10:32:53.223211Z"
    },
    "papermill": {
     "duration": 0.037886,
     "end_time": "2020-05-11T10:32:53.224176",
     "exception": false,
     "start_time": "2020-05-11T10:32:53.186290",
     "status": "completed"
    },
    "tags": []
   },
   "outputs": [
    {
     "data": {
      "application/geo+json": {
       "coordinates": [
        [
         [
          5.3,
          51.6
         ],
         [
          5.3,
          52.15
         ],
         [
          3.94,
          52.15
         ],
         [
          3.94,
          51.6
         ],
         [
          5.3,
          51.6
         ]
        ]
       ],
       "type": "Polygon"
      },
      "text/plain": [
       "<IPython.display.GeoJSON object>"
      ]
     },
     "metadata": {
      "application/geo+json": {
       "expanded": false,
       "root": "root"
      }
     },
     "output_type": "display_data"
    }
   ],
   "source": [
    "aoi_rotterdam = 3.94, 51.6, 5.3, 52.15\n",
    "place = \"rotterdam\"\n",
    "# dates where chosen according to available cloud-free acquisitions\n",
    "dates_rotterdam = [\"2019-02-15\", \"2019-02-25\", \"2019-04-01\", # 2019\n",
    "                   \"2020-03-21\", \"2020-03-26\", \"2020-03-31\", \"2020-04-20\"] # 2020\n",
    "\n",
    "dates = dates_rotterdam\n",
    "aoi = aoi_rotterdam\n",
    "\n",
    "IPython.display.GeoJSON(shapely.geometry.box(*aoi).__geo_interface__)"
   ]
  },
  {
   "cell_type": "markdown",
   "metadata": {
    "papermill": {
     "duration": 0.029792,
     "end_time": "2020-05-11T10:32:53.273574",
     "exception": false,
     "start_time": "2020-05-11T10:32:53.243782",
     "status": "completed"
    },
    "tags": []
   },
   "source": [
    "# Do calculation for a single timestamp\n",
    "---"
   ]
  },
  {
   "cell_type": "markdown",
   "metadata": {
    "papermill": {
     "duration": 0.022067,
     "end_time": "2020-05-11T10:32:53.342171",
     "exception": false,
     "start_time": "2020-05-11T10:32:53.320104",
     "status": "completed"
    },
    "tags": []
   },
   "source": [
    "__1. Get Sentinel-2 L2A data__"
   ]
  },
  {
   "cell_type": "code",
   "execution_count": 6,
   "metadata": {
    "execution": {
     "iopub.execute_input": "2020-05-11T10:32:53.657724Z",
     "iopub.status.busy": "2020-05-11T10:32:53.653604Z",
     "iopub.status.idle": "2020-05-11T10:32:54.302129Z",
     "shell.execute_reply": "2020-05-11T10:32:54.301250Z"
    },
    "papermill": {
     "duration": 0.935883,
     "end_time": "2020-05-11T10:32:54.302292",
     "exception": true,
     "start_time": "2020-05-11T10:32:53.366409",
     "status": "failed"
    },
    "tags": []
   },
   "outputs": [
    {
     "ename": "ValueError",
     "evalue": "Both client_id and client_secret must be provided.\nConsider setting environment variables SH_CLIENT_ID and SH_CLIENT_SECRET.\nFor more information refer to https://docs.sentinel-hub.com/api/latest/#/API/authentication",
     "output_type": "error",
     "traceback": [
      "\u001b[0;31m---------------------------------------------------------------------------\u001b[0m",
      "\u001b[0;31mValueError\u001b[0m                                Traceback (most recent call last)",
      "\u001b[0;32m<ipython-input-6-79e0718e19ff>\u001b[0m in \u001b[0;36m<module>\u001b[0;34m\u001b[0m\n\u001b[1;32m      6\u001b[0m                       \u001b[0mtime_range\u001b[0m \u001b[0;34m=\u001b[0m \u001b[0;34m[\u001b[0m\u001b[0mdates\u001b[0m\u001b[0;34m[\u001b[0m\u001b[0;34m-\u001b[0m\u001b[0;36m2\u001b[0m\u001b[0;34m]\u001b[0m\u001b[0;34m,\u001b[0m \u001b[0mdates\u001b[0m\u001b[0;34m[\u001b[0m\u001b[0;34m-\u001b[0m\u001b[0;36m1\u001b[0m\u001b[0;34m]\u001b[0m\u001b[0;34m]\u001b[0m\u001b[0;34m,\u001b[0m\u001b[0;34m\u001b[0m\u001b[0;34m\u001b[0m\u001b[0m\n\u001b[1;32m      7\u001b[0m                       time_period = time_period)\n\u001b[0;32m----> 8\u001b[0;31m \u001b[0mcube\u001b[0m \u001b[0;34m=\u001b[0m \u001b[0mopen_cube\u001b[0m\u001b[0;34m(\u001b[0m\u001b[0mcube_con\u001b[0m\u001b[0;34m)\u001b[0m\u001b[0;34m\u001b[0m\u001b[0;34m\u001b[0m\u001b[0m\n\u001b[0m\u001b[1;32m      9\u001b[0m \u001b[0mscl\u001b[0m \u001b[0;34m=\u001b[0m \u001b[0mMaskSet\u001b[0m\u001b[0;34m(\u001b[0m\u001b[0mcube\u001b[0m\u001b[0;34m.\u001b[0m\u001b[0mSCL\u001b[0m\u001b[0;34m)\u001b[0m\u001b[0;34m\u001b[0m\u001b[0;34m\u001b[0m\u001b[0m\n\u001b[1;32m     10\u001b[0m \u001b[0mcube\u001b[0m \u001b[0;34m=\u001b[0m \u001b[0mcube\u001b[0m\u001b[0;34m.\u001b[0m\u001b[0mwhere\u001b[0m\u001b[0;34m(\u001b[0m\u001b[0;34m(\u001b[0m\u001b[0mscl\u001b[0m\u001b[0;34m.\u001b[0m\u001b[0mclouds_high_probability\u001b[0m\u001b[0;34m)\u001b[0m \u001b[0;34m==\u001b[0m \u001b[0;36m0\u001b[0m\u001b[0;34m)\u001b[0m\u001b[0;34m\u001b[0m\u001b[0;34m\u001b[0m\u001b[0m\n",
      "\u001b[0;32m/opt/conda/lib/python3.7/site-packages/xcube_sh/cube.py\u001b[0m in \u001b[0;36mopen_cube\u001b[0;34m(cube_config, observer, trace_store_calls, max_cache_size, **sh_kwargs)\u001b[0m\n\u001b[1;32m     47\u001b[0m     \u001b[0;34m:\u001b[0m\u001b[0;32mreturn\u001b[0m\u001b[0;34m:\u001b[0m \u001b[0mthe\u001b[0m \u001b[0mdata\u001b[0m \u001b[0mcube\u001b[0m \u001b[0mrepresented\u001b[0m \u001b[0mby\u001b[0m \u001b[0man\u001b[0m \u001b[0mxarray\u001b[0m \u001b[0mDataset\u001b[0m \u001b[0mobject\u001b[0m\u001b[0;34m.\u001b[0m\u001b[0;34m\u001b[0m\u001b[0;34m\u001b[0m\u001b[0m\n\u001b[1;32m     48\u001b[0m     \"\"\"\n\u001b[0;32m---> 49\u001b[0;31m     \u001b[0msentinel_hub\u001b[0m \u001b[0;34m=\u001b[0m \u001b[0mSentinelHub\u001b[0m\u001b[0;34m(\u001b[0m\u001b[0;34m**\u001b[0m\u001b[0msh_kwargs\u001b[0m\u001b[0;34m)\u001b[0m\u001b[0;34m\u001b[0m\u001b[0;34m\u001b[0m\u001b[0m\n\u001b[0m\u001b[1;32m     50\u001b[0m     \u001b[0mcube_store\u001b[0m \u001b[0;34m=\u001b[0m \u001b[0mSentinelHubStore\u001b[0m\u001b[0;34m(\u001b[0m\u001b[0msentinel_hub\u001b[0m\u001b[0;34m,\u001b[0m \u001b[0mcube_config\u001b[0m\u001b[0;34m,\u001b[0m \u001b[0mobserver\u001b[0m\u001b[0;34m=\u001b[0m\u001b[0mobserver\u001b[0m\u001b[0;34m,\u001b[0m \u001b[0mtrace_store_calls\u001b[0m\u001b[0;34m=\u001b[0m\u001b[0mtrace_store_calls\u001b[0m\u001b[0;34m)\u001b[0m\u001b[0;34m\u001b[0m\u001b[0;34m\u001b[0m\u001b[0m\n\u001b[1;32m     51\u001b[0m     \u001b[0;32mif\u001b[0m \u001b[0mmax_cache_size\u001b[0m\u001b[0;34m:\u001b[0m\u001b[0;34m\u001b[0m\u001b[0;34m\u001b[0m\u001b[0m\n",
      "\u001b[0;32m/opt/conda/lib/python3.7/site-packages/xcube_sh/sentinelhub.py\u001b[0m in \u001b[0;36m__init__\u001b[0;34m(self, client_id, client_secret, instance_id, api_url, oauth2_url, enable_warnings, error_policy, error_handler, num_retries, retry_backoff_max, retry_backoff_base, session)\u001b[0m\n\u001b[1;32m     90\u001b[0m \u001b[0;34m\u001b[0m\u001b[0m\n\u001b[1;32m     91\u001b[0m             \u001b[0;32mif\u001b[0m \u001b[0;32mnot\u001b[0m \u001b[0mclient_id\u001b[0m \u001b[0;32mor\u001b[0m \u001b[0;32mnot\u001b[0m \u001b[0mclient_secret\u001b[0m\u001b[0;34m:\u001b[0m\u001b[0;34m\u001b[0m\u001b[0;34m\u001b[0m\u001b[0m\n\u001b[0;32m---> 92\u001b[0;31m                 raise ValueError('Both client_id and client_secret must be provided.\\n'\n\u001b[0m\u001b[1;32m     93\u001b[0m                                  \u001b[0;34m'Consider setting environment variables SH_CLIENT_ID and SH_CLIENT_SECRET.\\n'\u001b[0m\u001b[0;34m\u001b[0m\u001b[0;34m\u001b[0m\u001b[0m\n\u001b[1;32m     94\u001b[0m                                  \u001b[0;34m'For more information refer to '\u001b[0m\u001b[0;34m\u001b[0m\u001b[0;34m\u001b[0m\u001b[0m\n",
      "\u001b[0;31mValueError\u001b[0m: Both client_id and client_secret must be provided.\nConsider setting environment variables SH_CLIENT_ID and SH_CLIENT_SECRET.\nFor more information refer to https://docs.sentinel-hub.com/api/latest/#/API/authentication"
     ]
    }
   ],
   "source": [
    "cube_con = CubeConfig(dataset_name = dataset,\n",
    "                      band_names = band_names,\n",
    "                      tile_size = [512, 512],\n",
    "                      geometry = aoi,\n",
    "                      spatial_res = spatial_res,\n",
    "                      time_range = [dates[-2], dates[-1]],\n",
    "                      time_period = time_period)\n",
    "cube = open_cube(cube_con)\n",
    "scl = MaskSet(cube.SCL)\n",
    "cube = cube.where((scl.clouds_high_probability) == 0)"
   ]
  },
  {
   "cell_type": "code",
   "execution_count": null,
   "metadata": {
    "papermill": {
     "duration": null,
     "end_time": null,
     "exception": null,
     "start_time": null,
     "status": "pending"
    },
    "tags": []
   },
   "outputs": [],
   "source": [
    "date = dates[-1] # do exmaple calculation for last timestamp of dates\n",
    "timestamp1 = cube.sel(time = cube.time[-1])\n",
    "timestamp1.B02.plot.imshow(vmin = 0, vmax = 0.2, figsize = [16, 8])"
   ]
  },
  {
   "cell_type": "markdown",
   "metadata": {
    "papermill": {
     "duration": null,
     "end_time": null,
     "exception": null,
     "start_time": null,
     "status": "pending"
    },
    "tags": []
   },
   "source": [
    "This is for demonstration purpose. The calculation with more timestamps and a masking of wrongly detected invariant features is implemented in the consecutive section."
   ]
  },
  {
   "cell_type": "markdown",
   "metadata": {
    "papermill": {
     "duration": null,
     "end_time": null,
     "exception": null,
     "start_time": null,
     "status": "pending"
    },
    "tags": []
   },
   "source": [
    "__2. Compute a roads mask using band ratios and thresholds__"
   ]
  },
  {
   "cell_type": "code",
   "execution_count": null,
   "metadata": {
    "papermill": {
     "duration": null,
     "end_time": null,
     "exception": null,
     "start_time": null,
     "status": "pending"
    },
    "tags": []
   },
   "outputs": [],
   "source": [
    "B02 = timestamp1.B02\n",
    "B03 = timestamp1.B03\n",
    "B04 = timestamp1.B04\n",
    "B08 = timestamp1.B08\n",
    "B11 = timestamp1.B11\n",
    "  \n",
    "# Compute a roads mask using band ratios and thresholds\n",
    "ndvi_mask = ((B08 - B04) / (B08 + B04)) < max_ndvi\n",
    "ndwi_mask = ((B02 - B11) / (B02 + B11)) < max_ndwi\n",
    "ndsi_mask = ((B03 - B11) / (B03 + B11)) < max_ndsi\n",
    "low_rgb_mask = (B02 > min_rgb) * (B03 > min_rgb) * (B04 > min_rgb)\n",
    "high_rgb_mask = (B02 < max_blue) * (B03 < max_green) * (B04 < max_red)\n",
    "b11_mask = ((B11 - B03) / (B11 + B03)) < max_b11\n",
    "b11_mask_abs = (B11 > min_b11) * (B11 < max_b11)\n",
    "roads_mask = ndvi_mask * ndwi_mask * ndsi_mask * low_rgb_mask * high_rgb_mask * b11_mask * b11_mask_abs"
   ]
  },
  {
   "cell_type": "markdown",
   "metadata": {
    "papermill": {
     "duration": null,
     "end_time": null,
     "exception": null,
     "start_time": null,
     "status": "pending"
    },
    "tags": []
   },
   "source": [
    "_Plot roads mask_ \\\n",
    "The masking is designated to not miss pixels that could be vehicles."
   ]
  },
  {
   "cell_type": "code",
   "execution_count": null,
   "metadata": {
    "papermill": {
     "duration": null,
     "end_time": null,
     "exception": null,
     "start_time": null,
     "status": "pending"
    },
    "tags": []
   },
   "outputs": [],
   "source": [
    "roads_mask.plot.imshow(vmin = 0, vmax = 1, cmap = \"binary\", figsize = [16, 8])\n",
    "roads_mask.to_netcdf(\"roads_mask_example_\" + date + \".nc\")"
   ]
  },
  {
   "cell_type": "markdown",
   "metadata": {
    "papermill": {
     "duration": null,
     "end_time": null,
     "exception": null,
     "start_time": null,
     "status": "pending"
    },
    "tags": []
   },
   "source": [
    "__3. Extract vehicles from RGB ratios__"
   ]
  },
  {
   "cell_type": "code",
   "execution_count": null,
   "metadata": {
    "papermill": {
     "duration": null,
     "end_time": null,
     "exception": null,
     "start_time": null,
     "status": "pending"
    },
    "tags": []
   },
   "outputs": [],
   "source": [
    "bg_ratio = (B02 - B03) / (B02 + B03) \n",
    "br_ratio = (B02 - B04) / (B02 + B04)\n",
    "\n",
    "bg_low = (bg_ratio * roads_mask) > min_green_ratio \n",
    "br_low = (br_ratio * roads_mask) > min_red_ratio\n",
    "vehicles = bg_low * br_low"
   ]
  },
  {
   "cell_type": "markdown",
   "metadata": {
    "papermill": {
     "duration": null,
     "end_time": null,
     "exception": null,
     "start_time": null,
     "status": "pending"
    },
    "tags": []
   },
   "source": [
    "_Plot vehicles_ \\\n",
    "__Note: In this plot you basically see nothing since the detected single pixels are too small to bee visible here. Vectorization of these pixels shows the result.__"
   ]
  },
  {
   "cell_type": "code",
   "execution_count": null,
   "metadata": {
    "papermill": {
     "duration": null,
     "end_time": null,
     "exception": null,
     "start_time": null,
     "status": "pending"
    },
    "tags": []
   },
   "outputs": [],
   "source": [
    "vehicles.plot.imshow(vmin = 0, vmax = 1, cmap = \"binary\", figsize = [16, 8])\n",
    "vehicles.to_netcdf(\"vehicles_example_\" + date + \".nc\")"
   ]
  },
  {
   "cell_type": "markdown",
   "metadata": {
    "papermill": {
     "duration": null,
     "end_time": null,
     "exception": null,
     "start_time": null,
     "status": "pending"
    },
    "tags": []
   },
   "source": [
    "# Do calculation for more timestamps\n",
    "---\n"
   ]
  },
  {
   "cell_type": "markdown",
   "metadata": {
    "papermill": {
     "duration": null,
     "end_time": null,
     "exception": null,
     "start_time": null,
     "status": "pending"
    },
    "tags": []
   },
   "source": [
    "__1. Get Sentinel-2 L2A data__"
   ]
  },
  {
   "cell_type": "code",
   "execution_count": null,
   "metadata": {
    "papermill": {
     "duration": null,
     "end_time": null,
     "exception": null,
     "start_time": null,
     "status": "pending"
    },
    "tags": []
   },
   "outputs": [],
   "source": [
    "cube_con_2019 = CubeConfig(dataset_name = dataset,\n",
    "                           band_names = band_names,\n",
    "                           tile_size = [512, 512],\n",
    "                           geometry = aoi,\n",
    "                           spatial_res = spatial_res,\n",
    "                           time_range = [dates[0], dates[2]],\n",
    "                           time_period = time_period)\n",
    "cube_con_2020 = CubeConfig(dataset_name = dataset,\n",
    "                           band_names = band_names,\n",
    "                           tile_size = [512, 512],\n",
    "                           geometry = aoi,\n",
    "                           spatial_res = spatial_res,\n",
    "                           time_range = [dates[3], dates[-1]],\n",
    "                           time_period = time_period)\n",
    "cube_2019 = open_cube(cube_con_2019)\n",
    "cube_2020 = open_cube(cube_con_2020)\n",
    "\n",
    "# Write RGB of last date before masking\n",
    "last_ts = cube_2020.sel(time = cube_2020.time[-1])\n",
    "suffix = \"_\" + place + \"_\" + dates[-1] +  \".nc\"\n",
    "b02_path, b03_path, b04_path = \"B02\" + suffix, \"B03\" + suffix, \"B04\" + suffix\n",
    "if not os.path.exists(b02_path): last_ts.B02.to_netcdf(b02_path)\n",
    "if not os.path.exists(b03_path): last_ts.B03.to_netcdf(b03_path)\n",
    "if not os.path.exists(b04_path): last_ts.B04.to_netcdf(b04_path)\n",
    "\n",
    "# Mask out clouds of high probability    \n",
    "scl_2019 = MaskSet(cube_2019.SCL)\n",
    "scl_2020 = MaskSet(cube_2020.SCL)\n",
    "cube_2019 = cube_2019.where((scl_2019.clouds_high_probability + \n",
    "                             scl_2019.clouds_medium_probability + \n",
    "                             scl_2019.clouds_low_probability_or_unclassified +\n",
    "                             scl_2019.cirrus) == 0)\n",
    "cube_2020 = cube_2020.where((scl_2020.clouds_high_probability +\n",
    "                             scl_2020.clouds_medium_probability +\n",
    "                             scl_2020.clouds_low_probability_or_unclassified + \n",
    "                             scl_2020.cirrus) == 0)"
   ]
  },
  {
   "cell_type": "markdown",
   "metadata": {
    "papermill": {
     "duration": null,
     "end_time": null,
     "exception": null,
     "start_time": null,
     "status": "pending"
    },
    "tags": []
   },
   "source": [
    "__2. Calculate road mask and vehicle layer timestamp-wise__"
   ]
  },
  {
   "cell_type": "code",
   "execution_count": null,
   "metadata": {
    "collapsed": true,
    "jupyter": {
     "outputs_hidden": true
    },
    "papermill": {
     "duration": null,
     "end_time": null,
     "exception": null,
     "start_time": null,
     "status": "pending"
    },
    "tags": []
   },
   "outputs": [],
   "source": [
    "vehicles_results = {} # will hold vehicle masks of all timestamps\n",
    "for date in dates:\n",
    "    cube = cube_2019 if date.startswith(\"2019\") else cube_2020\n",
    "    date_formatted = str(cube.time.values[[str(t).startswith(date) for t in cube.time.values]][0])\n",
    "    timestamp = cube.sel(time = date_formatted)\n",
    "    B02 = timestamp.B02\n",
    "    B03 = timestamp.B03\n",
    "    B04 = timestamp.B04\n",
    "    B08 = timestamp.B08\n",
    "    B11 = timestamp.B11\n",
    "    \n",
    "    # Compute a roads mask using band ratios and thresholds\n",
    "    ndvi_mask = ((B08 - B04) / (B08 + B04)) < max_ndvi\n",
    "    ndwi_mask = ((B02 - B11) / (B02 + B11)) < max_ndwi\n",
    "    ndsi_mask = ((B03 - B11) / (B03 + B11)) < max_ndsi\n",
    "    low_rgb_mask = (B02 > min_rgb) * (B03 > min_rgb) * (B04 > min_rgb)\n",
    "    high_rgb_mask = (B02 < max_blue) * (B03 < max_green) * (B04 < max_red)\n",
    "    b11_mask = ((B11 - B03) / (B11 + B03)) < max_b11\n",
    "    b11_mask_abs = (B11 > min_b11) * (B11 < max_b11)\n",
    "    roads_mask = ndvi_mask * ndwi_mask * ndsi_mask * low_rgb_mask * high_rgb_mask * b11_mask * b11_mask_abs  \n",
    "    \n",
    "    # Extract vehicles from RGB ratios\n",
    "    bg_ratio = (B02 - B03) / (B02 + B03)\n",
    "    br_ratio = (B02 - B04) / (B02 + B04)\n",
    "    bg_low = (bg_ratio * roads_mask) > min_green_ratio\n",
    "    br_low = (br_ratio * roads_mask) > min_red_ratio\n",
    "       \n",
    "    if date == dates[-1]:\n",
    "        bg_ratio_path = \"bg_ratio.nc\"\n",
    "        br_ratio_path = \"br_ratio.nc\"\n",
    "        bg_mask_path = \"bg_mask.nc\"\n",
    "        br_mask_path = \"br_mask.nc\"\n",
    "        roads_path = \"road_mask.nc\"\n",
    "        if not os.path.exists(bg_ratio_path): bg_ratio.to_netcdf(bg_ratio_path)\n",
    "        if not os.path.exists(br_ratio_path): br_ratio.to_netcdf(br_ratio_path)\n",
    "        if not os.path.exists(bg_mask_path): bg_low.to_netcdf(bg_mask_path)\n",
    "        if not os.path.exists(br_mask_path): br_low.to_netcdf(br_mask_path)\n",
    "        if not os.path.exists(roads_path): roads_mask.to_netcdf(roads_path)\n",
    "    \n",
    "    vehicles = bg_low * br_low\n",
    "    vehicles_results[date] = vehicles"
   ]
  },
  {
   "cell_type": "markdown",
   "metadata": {
    "papermill": {
     "duration": null,
     "end_time": null,
     "exception": null,
     "start_time": null,
     "status": "pending"
    },
    "tags": []
   },
   "source": [
    "__3. Write results__"
   ]
  },
  {
   "cell_type": "code",
   "execution_count": null,
   "metadata": {
    "collapsed": true,
    "jupyter": {
     "outputs_hidden": true
    },
    "papermill": {
     "duration": null,
     "end_time": null,
     "exception": null,
     "start_time": null,
     "status": "pending"
    },
    "tags": []
   },
   "outputs": [],
   "source": [
    "suffix = \"_\" + place + \".nc\"\n",
    "for i in range(0, len(dates)):\n",
    "    if not os.path.exists(dates[i] + suffix): vehicles_results[dates[i]].to_netcdf(dates[i] + suffix)"
   ]
  }
 ],
 "metadata": {
  "kernelspec": {
   "display_name": "Python 3",
   "language": "python",
   "name": "python3"
  },
  "language_info": {
   "codemirror_mode": {
    "name": "ipython",
    "version": 3
   },
   "file_extension": ".py",
   "mimetype": "text/x-python",
   "name": "python",
   "nbconvert_exporter": "python",
   "pygments_lexer": "ipython3",
   "version": "3.7.6"
  },
  "papermill": {
   "duration": 7.645123,
   "end_time": "2020-05-11T10:32:54.512713",
   "environment_variables": {},
   "exception": true,
   "input_path": "/tmp/notebook_input.ipynb",
   "output_path": "/tmp/notebook_output.ipynb",
   "parameters": {},
   "start_time": "2020-05-11T10:32:46.867590",
   "version": "2.1.0"
  },
  "properties": {
   "description": "Truck Detection with Sentinel-2 during COVID19 crisis",
   "id": "4d8309c3-d77f-46b6-b339-cad19328ad50",
   "license": null,
   "name": "Truck Detection with Sentinel-2 during COVID19 crisis",
   "requirements": [
    "eurodatacube"
   ],
   "tags": [
    "COVID-19"
   ],
   "tosAgree": true,
   "type": "Jupyter Notebook",
   "user_id": "0c0a0ef4-8d0d-4e70-b002-033c7cbb41fd",
   "version": "0.0.1"
  }
 },
 "nbformat": 4,
 "nbformat_minor": 4
}