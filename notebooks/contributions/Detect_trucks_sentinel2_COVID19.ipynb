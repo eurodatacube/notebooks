{
 "cells": [
  {
   "cell_type": "code",
   "execution_count": 1,
   "metadata": {},
   "outputs": [
    {
     "data": {
      "text/markdown": [
       "API credentials have automatically been injected for your active subscriptions.  \n",
       "The following environment variables are now available:\n",
       "* `SH_INSTANCE_ID`\n",
       "* `SH_CLIENT_ID`\n",
       "* `SH_CLIENT_SECRET`\n",
       "* `SH_CLIENT_NAME`\n",
       "* `GEODB_API_SERVER_URL`\n",
       "* `GEODB_AUTH_CLIENT_ID`\n",
       "* `GEODB_AUTH_AUD`\n",
       "* `GEODB_AUTH_CLIENT_SECRET`\n",
       "* `GEODB_API_SERVER_PORT`\n",
       "* `GEODB_AUTH_DOMAIN`\n",
       "\n",
       "------\n"
      ],
      "text/plain": [
       "<IPython.core.display.Markdown object>"
      ]
     },
     "metadata": {},
     "output_type": "display_data"
    }
   ],
   "source": [
    "from edc import setup_environment_variables\n",
    "setup_environment_variables()"
   ]
  },
  {
   "cell_type": "markdown",
   "metadata": {},
   "source": [
    "# Detect trucks using Sentinel-2\n",
    "---\n",
    "Author: Henrik Fisser, 2020\n",
    "\n",
    "This script was developed and executed on the EOxHub-hosted JupyterLab and uses xcube for computations on data cubes retrieved from Sentinel Hub. If you do not have access to these resources you may execute the calculation as a Javascript on Sentinel-hub EO Browser. \n",
    "You find the Javascript here: https://github.com/hfisser/Truck_Detection_Sentinel2_COVID19/blob/master/detect_trucks_sentinel2_COVID19.js\n",
    "\n",
    "What does this script do?\n",
    "----\n",
    "It detects trucks in Sentinel-2 data. The detection exploits the offset of different wavelengths reflected by moving objects. It targets pixels where blue is higher than green and red. First, a road mask is calculated and the data is masked to these pixels. Second, the ratios between blue and green and blue and red are calculated. Finally, thresholds are applied to these ratios. Each truck is represented by one to three pixels with value 1 in the result. In order to visualize the results they may be vectorized, which this script does not do.\n",
    "\n",
    "The first part of the notebook demonstrates the procedure at a single timestamp. The second part calculates the same for more timestamps.\n",
    "\n",
    "Questions or Feedback?\n",
    "---\n",
    "Just send me a message :).\n",
    "\n",
    "Load dependencies\n",
    "---"
   ]
  },
  {
   "cell_type": "code",
   "execution_count": 2,
   "metadata": {},
   "outputs": [],
   "source": [
    "from xcube_sh.cube import open_cube\n",
    "from xcube_sh.config import CubeConfig\n",
    "from xcube.core.maskset import MaskSet\n",
    "\n",
    "import os\n",
    "import json\n",
    "import numpy as np\n",
    "import xarray as xr\n",
    "import shapely.geometry\n",
    "import IPython.display\n",
    "\n",
    "%matplotlib inline"
   ]
  },
  {
   "cell_type": "markdown",
   "metadata": {},
   "source": [
    "General parameters\n",
    "---\n"
   ]
  },
  {
   "cell_type": "code",
   "execution_count": 3,
   "metadata": {},
   "outputs": [],
   "source": [
    "dataset = \"S2L2A\"\n",
    "spatial_res = 0.00009 # 10m\n",
    "band_names = [\"B02\", \"B03\", \"B04\", \"B08\", \"B11\", \"SCL\"]\n",
    "time_period = \"1D\"\n",
    "\n",
    "fig = [16, 10] # for plotting"
   ]
  },
  {
   "cell_type": "markdown",
   "metadata": {},
   "source": [
    "Specific parameters\n",
    "---"
   ]
  },
  {
   "cell_type": "code",
   "execution_count": 4,
   "metadata": {},
   "outputs": [],
   "source": [
    "min_rgb = 0.04\n",
    "max_red = 0.15\n",
    "max_green = 0.15\n",
    "max_blue = 0.4\n",
    "max_ndvi = 0.7 # quite high to account for mixed pixels\n",
    "max_ndwi = 0.001\n",
    "max_ndsi = 0.0001\n",
    "min_b11 = 0.05\n",
    "max_b11 = 0.55\n",
    "min_green_ratio = 0.05\n",
    "min_red_ratio = 0.1"
   ]
  },
  {
   "cell_type": "markdown",
   "metadata": {},
   "source": [
    "Area Of Interest\n",
    "---"
   ]
  },
  {
   "cell_type": "code",
   "execution_count": 5,
   "metadata": {},
   "outputs": [
    {
     "data": {
      "application/geo+json": {
       "coordinates": [
        [
         [
          5.3,
          51.6
         ],
         [
          5.3,
          52.15
         ],
         [
          3.94,
          52.15
         ],
         [
          3.94,
          51.6
         ],
         [
          5.3,
          51.6
         ]
        ]
       ],
       "type": "Polygon"
      },
      "text/plain": [
       "<IPython.display.GeoJSON object>"
      ]
     },
     "metadata": {
      "application/geo+json": {
       "expanded": false,
       "root": "root"
      }
     },
     "output_type": "display_data"
    }
   ],
   "source": [
    "aoi_rotterdam = 3.94, 51.6, 5.3, 52.15\n",
    "place = \"rotterdam\"\n",
    "# dates where chosen according to available cloud-free acquisitions\n",
    "dates_rotterdam = [\"2019-02-15\", \"2019-02-25\", \"2019-04-01\", # 2019\n",
    "                   \"2020-03-21\", \"2020-03-26\", \"2020-03-31\", \"2020-04-20\"] # 2020\n",
    "\n",
    "dates = dates_rotterdam\n",
    "aoi = aoi_rotterdam\n",
    "\n",
    "IPython.display.GeoJSON(shapely.geometry.box(*aoi).__geo_interface__)"
   ]
  },
  {
   "cell_type": "markdown",
   "metadata": {},
   "source": [
    "# Do calculation for a single timestamp\n",
    "---"
   ]
  },
  {
   "cell_type": "markdown",
   "metadata": {},
   "source": [
    "__1. Get Sentinel-2 L2A data__"
   ]
  },
  {
   "cell_type": "code",
   "execution_count": null,
   "metadata": {},
   "outputs": [],
   "source": [
    "cube_con = CubeConfig(dataset_name = dataset,\n",
    "                      band_names = band_names,\n",
    "                      tile_size = [512, 512],\n",
    "                      geometry = aoi,\n",
    "                      spatial_res = spatial_res,\n",
    "                      time_range = [dates[-2], dates[-1]],\n",
    "                      time_period = time_period)\n",
    "cube = open_cube(cube_con)\n",
    "scl = MaskSet(cube.SCL)\n",
    "cube = cube.where((scl.clouds_high_probability) == 0)"
   ]
  },
  {
   "cell_type": "code",
   "execution_count": null,
   "metadata": {},
   "outputs": [],
   "source": [
    "date = dates[-1] # do exmaple calculation for last timestamp of dates\n",
    "timestamp1 = cube.sel(time = cube.time[-1])\n",
    "timestamp1.B02.plot.imshow(vmin = 0, vmax = 0.2, figsize = [16, 8])"
   ]
  },
  {
   "cell_type": "markdown",
   "metadata": {},
   "source": [
    "This is for demonstration purpose. The calculation with more timestamps and a masking of wrongly detected invariant features is implemented in the consecutive section."
   ]
  },
  {
   "cell_type": "markdown",
   "metadata": {},
   "source": [
    "__2. Compute a roads mask using band ratios and thresholds__"
   ]
  },
  {
   "cell_type": "code",
   "execution_count": null,
   "metadata": {},
   "outputs": [],
   "source": [
    "B02 = timestamp1.B02\n",
    "B03 = timestamp1.B03\n",
    "B04 = timestamp1.B04\n",
    "B08 = timestamp1.B08\n",
    "B11 = timestamp1.B11\n",
    "  \n",
    "# Compute a roads mask using band ratios and thresholds\n",
    "ndvi_mask = ((B08 - B04) / (B08 + B04)) < max_ndvi\n",
    "ndwi_mask = ((B02 - B11) / (B02 + B11)) < max_ndwi\n",
    "ndsi_mask = ((B03 - B11) / (B03 + B11)) < max_ndsi\n",
    "low_rgb_mask = (B02 > min_rgb) * (B03 > min_rgb) * (B04 > min_rgb)\n",
    "high_rgb_mask = (B02 < max_blue) * (B03 < max_green) * (B04 < max_red)\n",
    "b11_mask = ((B11 - B03) / (B11 + B03)) < max_b11\n",
    "b11_mask_abs = (B11 > min_b11) * (B11 < max_b11)\n",
    "roads_mask = ndvi_mask * ndwi_mask * ndsi_mask * low_rgb_mask * high_rgb_mask * b11_mask * b11_mask_abs"
   ]
  },
  {
   "cell_type": "markdown",
   "metadata": {},
   "source": [
    "_Plot roads mask_ \\\n",
    "The masking is designated to not miss pixels that could be vehicles."
   ]
  },
  {
   "cell_type": "code",
   "execution_count": null,
   "metadata": {},
   "outputs": [],
   "source": [
    "roads_mask.plot.imshow(vmin = 0, vmax = 1, cmap = \"binary\", figsize = [16, 8])\n",
    "roads_mask.to_netcdf(\"roads_mask_example_\" + date + \".nc\")"
   ]
  },
  {
   "cell_type": "markdown",
   "metadata": {},
   "source": [
    "__3. Extract vehicles from RGB ratios__"
   ]
  },
  {
   "cell_type": "code",
   "execution_count": null,
   "metadata": {},
   "outputs": [],
   "source": [
    "bg_ratio = (B02 - B03) / (B02 + B03) \n",
    "br_ratio = (B02 - B04) / (B02 + B04)\n",
    "\n",
    "bg_low = (bg_ratio * roads_mask) > min_green_ratio \n",
    "br_low = (br_ratio * roads_mask) > min_red_ratio\n",
    "vehicles = bg_low * br_low"
   ]
  },
  {
   "cell_type": "markdown",
   "metadata": {},
   "source": [
    "_Plot vehicles_ \\\n",
    "__Note: In this plot you basically see nothing since the detected single pixels are too small to bee visible here. Vectorization of these pixels shows the result.__"
   ]
  },
  {
   "cell_type": "code",
   "execution_count": null,
   "metadata": {},
   "outputs": [],
   "source": [
    "vehicles.plot.imshow(vmin = 0, vmax = 1, cmap = \"binary\", figsize = [16, 8])\n",
    "vehicles.to_netcdf(\"vehicles_example_\" + date + \".nc\")"
   ]
  },
  {
   "cell_type": "markdown",
   "metadata": {},
   "source": [
    "# Do calculation for more timestamps\n",
    "---\n"
   ]
  },
  {
   "cell_type": "markdown",
   "metadata": {},
   "source": [
    "__1. Get Sentinel-2 L2A data__"
   ]
  },
  {
   "cell_type": "code",
   "execution_count": null,
   "metadata": {},
   "outputs": [],
   "source": [
    "cube_con_2019 = CubeConfig(dataset_name = dataset,\n",
    "                           band_names = band_names,\n",
    "                           tile_size = [512, 512],\n",
    "                           geometry = aoi,\n",
    "                           spatial_res = spatial_res,\n",
    "                           time_range = [dates[0], dates[2]],\n",
    "                           time_period = time_period)\n",
    "cube_con_2020 = CubeConfig(dataset_name = dataset,\n",
    "                           band_names = band_names,\n",
    "                           tile_size = [512, 512],\n",
    "                           geometry = aoi,\n",
    "                           spatial_res = spatial_res,\n",
    "                           time_range = [dates[3], dates[-1]],\n",
    "                           time_period = time_period)\n",
    "cube_2019 = open_cube(cube_con_2019)\n",
    "cube_2020 = open_cube(cube_con_2020)\n",
    "\n",
    "# Write RGB of last date before masking\n",
    "last_ts = cube_2020.sel(time = cube_2020.time[-1])\n",
    "suffix = \"_\" + place + \"_\" + dates[-1] +  \".nc\"\n",
    "b02_path, b03_path, b04_path = \"B02\" + suffix, \"B03\" + suffix, \"B04\" + suffix\n",
    "if not os.path.exists(b02_path): last_ts.B02.to_netcdf(b02_path)\n",
    "if not os.path.exists(b03_path): last_ts.B03.to_netcdf(b03_path)\n",
    "if not os.path.exists(b04_path): last_ts.B04.to_netcdf(b04_path)\n",
    "\n",
    "# Mask out clouds of high probability    \n",
    "scl_2019 = MaskSet(cube_2019.SCL)\n",
    "scl_2020 = MaskSet(cube_2020.SCL)\n",
    "cube_2019 = cube_2019.where((scl_2019.clouds_high_probability + \n",
    "                             scl_2019.clouds_medium_probability + \n",
    "                             scl_2019.clouds_low_probability_or_unclassified +\n",
    "                             scl_2019.cirrus) == 0)\n",
    "cube_2020 = cube_2020.where((scl_2020.clouds_high_probability +\n",
    "                             scl_2020.clouds_medium_probability +\n",
    "                             scl_2020.clouds_low_probability_or_unclassified + \n",
    "                             scl_2020.cirrus) == 0)"
   ]
  },
  {
   "cell_type": "markdown",
   "metadata": {},
   "source": [
    "__2. Calculate road mask and vehicle layer timestamp-wise__"
   ]
  },
  {
   "cell_type": "code",
   "execution_count": null,
   "metadata": {},
   "outputs": [],
   "source": [
    "vehicles_results = {} # will hold vehicle masks of all timestamps\n",
    "for date in dates:\n",
    "    cube = cube_2019 if date.startswith(\"2019\") else cube_2020\n",
    "    date_formatted = str(cube.time.values[[str(t).startswith(date) for t in cube.time.values]][0])\n",
    "    timestamp = cube.sel(time = date_formatted)\n",
    "    B02 = timestamp.B02\n",
    "    B03 = timestamp.B03\n",
    "    B04 = timestamp.B04\n",
    "    B08 = timestamp.B08\n",
    "    B11 = timestamp.B11\n",
    "    \n",
    "    # Compute a roads mask using band ratios and thresholds\n",
    "    ndvi_mask = ((B08 - B04) / (B08 + B04)) < max_ndvi\n",
    "    ndwi_mask = ((B02 - B11) / (B02 + B11)) < max_ndwi\n",
    "    ndsi_mask = ((B03 - B11) / (B03 + B11)) < max_ndsi\n",
    "    low_rgb_mask = (B02 > min_rgb) * (B03 > min_rgb) * (B04 > min_rgb)\n",
    "    high_rgb_mask = (B02 < max_blue) * (B03 < max_green) * (B04 < max_red)\n",
    "    b11_mask = ((B11 - B03) / (B11 + B03)) < max_b11\n",
    "    b11_mask_abs = (B11 > min_b11) * (B11 < max_b11)\n",
    "    roads_mask = ndvi_mask * ndwi_mask * ndsi_mask * low_rgb_mask * high_rgb_mask * b11_mask * b11_mask_abs  \n",
    "    \n",
    "    # Extract vehicles from RGB ratios\n",
    "    bg_ratio = (B02 - B03) / (B02 + B03)\n",
    "    br_ratio = (B02 - B04) / (B02 + B04)\n",
    "    bg_low = (bg_ratio * roads_mask) > min_green_ratio\n",
    "    br_low = (br_ratio * roads_mask) > min_red_ratio\n",
    "       \n",
    "    if date == dates[-1]:\n",
    "        bg_ratio_path = \"bg_ratio.nc\"\n",
    "        br_ratio_path = \"br_ratio.nc\"\n",
    "        bg_mask_path = \"bg_mask.nc\"\n",
    "        br_mask_path = \"br_mask.nc\"\n",
    "        roads_path = \"road_mask.nc\"\n",
    "        if not os.path.exists(bg_ratio_path): bg_ratio.to_netcdf(bg_ratio_path)\n",
    "        if not os.path.exists(br_ratio_path): br_ratio.to_netcdf(br_ratio_path)\n",
    "        if not os.path.exists(bg_mask_path): bg_low.to_netcdf(bg_mask_path)\n",
    "        if not os.path.exists(br_mask_path): br_low.to_netcdf(br_mask_path)\n",
    "        if not os.path.exists(roads_path): roads_mask.to_netcdf(roads_path)\n",
    "    \n",
    "    vehicles = bg_low * br_low\n",
    "    vehicles_results[date] = vehicles"
   ]
  },
  {
   "cell_type": "markdown",
   "metadata": {},
   "source": [
    "__3. Write results__"
   ]
  },
  {
   "cell_type": "code",
   "execution_count": null,
   "metadata": {},
   "outputs": [],
   "source": [
    "suffix = \"_\" + place + \".nc\"\n",
    "for i in range(0, len(dates)):\n",
    "    if not os.path.exists(dates[i] + suffix): vehicles_results[dates[i]].to_netcdf(dates[i] + suffix)"
   ]
  }
 ],
 "metadata": {
  "kernelspec": {
   "display_name": "Python 3",
   "language": "python",
   "name": "python3"
  },
  "language_info": {
   "codemirror_mode": {
    "name": "ipython",
    "version": 3
   },
   "file_extension": ".py",
   "mimetype": "text/x-python",
   "name": "python",
   "nbconvert_exporter": "python",
   "pygments_lexer": "ipython3",
   "version": "3.7.6"
  },
  "properties": {
   "description": "Truck Detection with Sentinel-2 during COVID19 crisis",
   "id": "4d8309c3-d77f-46b6-b339-cad19328ad50",
   "license": null,
   "name": "Truck Detection with Sentinel-2 during COVID19 crisis",
   "requirements": [
    "eurodatacube"
   ],
   "tags": [
    "COVID-19"
   ],
   "tosAgree": true,
   "type": "Jupyter Notebook",
   "user_id": "0c0a0ef4-8d0d-4e70-b002-033c7cbb41fd",
   "version": "0.0.1"
  }
 },
 "nbformat": 4,
 "nbformat_minor": 4
}
