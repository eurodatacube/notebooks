{
 "cells": [
  {
   "cell_type": "code",
   "execution_count": 1,
   "metadata": {
    "execution": {
     "iopub.execute_input": "2020-06-17T13:56:18.615460Z",
     "iopub.status.busy": "2020-06-17T13:56:18.614916Z",
     "iopub.status.idle": "2020-06-17T13:56:18.698275Z",
     "shell.execute_reply": "2020-06-17T13:56:18.697802Z"
    },
    "papermill": {
     "duration": 0.088459,
     "end_time": "2020-06-17T13:56:18.698368",
     "exception": false,
     "start_time": "2020-06-17T13:56:18.609909",
     "status": "completed"
    },
    "tags": []
   },
   "outputs": [
    {
     "data": {
      "text/markdown": [
       "API credentials have automatically been injected for your active subscriptions.  \n",
       "The following environment variables are now available:\n",
       "* `GEODB_API_SERVER_URL`\n",
       "* `GEODB_AUTH_CLIENT_ID`\n",
       "* `GEODB_AUTH_AUD`\n",
       "* `GEODB_AUTH_CLIENT_SECRET`\n",
       "* `GEODB_API_SERVER_PORT`\n",
       "* `GEODB_AUTH_DOMAIN`\n",
       "\n",
       "------\n"
      ],
      "text/plain": [
       "<IPython.core.display.Markdown object>"
      ]
     },
     "metadata": {},
     "output_type": "display_data"
    }
   ],
   "source": [
    "from edc import setup_environment_variables\n",
    "setup_environment_variables()"
   ]
  },
  {
   "cell_type": "code",
   "execution_count": 2,
   "metadata": {
    "execution": {
     "iopub.execute_input": "2020-06-17T13:56:18.707487Z",
     "iopub.status.busy": "2020-06-17T13:56:18.706972Z",
     "iopub.status.idle": "2020-06-17T13:56:18.709352Z",
     "shell.execute_reply": "2020-06-17T13:56:18.708899Z"
    },
    "papermill": {
     "duration": 0.006949,
     "end_time": "2020-06-17T13:56:18.709428",
     "exception": false,
     "start_time": "2020-06-17T13:56:18.702479",
     "status": "completed"
    },
    "tags": []
   },
   "outputs": [
    {
     "name": "stdout",
     "output_type": "stream",
     "text": [
      "Notebook is compatible\n"
     ]
    }
   ],
   "source": [
    "from edc import check_compatibility\n",
    "check_compatibility(\"v0.18.4\")"
   ]
  },
  {
   "cell_type": "code",
   "execution_count": 3,
   "metadata": {
    "execution": {
     "iopub.execute_input": "2020-06-17T13:56:18.717226Z",
     "iopub.status.busy": "2020-06-17T13:56:18.716709Z",
     "iopub.status.idle": "2020-06-17T13:56:18.719047Z",
     "shell.execute_reply": "2020-06-17T13:56:18.718602Z"
    },
    "papermill": {
     "duration": 0.007243,
     "end_time": "2020-06-17T13:56:18.719123",
     "exception": false,
     "start_time": "2020-06-17T13:56:18.711880",
     "status": "completed"
    },
    "tags": []
   },
   "outputs": [
    {
     "data": {
      "text/plain": [
       "8"
      ]
     },
     "execution_count": 3,
     "metadata": {},
     "output_type": "execute_result"
    }
   ],
   "source": [
    "2 ** 3"
   ]
  }
 ],
 "metadata": {
  "kernelspec": {
   "display_name": "Python 3",
   "language": "python",
   "name": "python3"
  },
  "language_info": {
   "codemirror_mode": {
    "name": "ipython",
    "version": 3
   },
   "file_extension": ".py",
   "mimetype": "text/x-python",
   "name": "python",
   "nbconvert_exporter": "python",
   "pygments_lexer": "ipython3",
   "version": "3.7.6"
  },
  "papermill": {
   "duration": 0.998489,
   "end_time": "2020-06-17T13:56:18.825082",
   "environment_variables": {},
   "exception": null,
   "input_path": "/tmp/tmp16a_3cgf",
   "output_path": "/tmp/notebook_output.ipynb",
   "parameters": {},
   "start_time": "2020-06-17T13:56:17.826593",
   "version": "2.1.0"
  },
  "properties": {
   "authors": [
    {
     "id": "0c0a0ef4-8d0d-4e70-b002-033c7cbb41fd"
    }
   ],
   "description": "test",
   "id": "c2e923cc-8a56-4032-ac47-f33de391c344",
   "license": null,
   "name": "test",
   "requirements": [
    "eurodatacube-geodb"
   ],
   "tags": [
    "EO Data"
   ],
   "tosAgree": true,
   "type": "Jupyter Notebook",
   "version": "1"
  }
 },
 "nbformat": 4,
 "nbformat_minor": 4
}