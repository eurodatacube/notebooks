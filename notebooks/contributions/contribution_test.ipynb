{
 "cells": [
  {
   "cell_type": "code",
   "execution_count": 1,
   "metadata": {
    "execution": {
     "iopub.execute_input": "2020-06-18T10:14:11.439848Z",
     "iopub.status.busy": "2020-06-18T10:14:11.439278Z",
     "iopub.status.idle": "2020-06-18T10:14:11.526300Z",
     "shell.execute_reply": "2020-06-18T10:14:11.526693Z"
    },
    "papermill": {
     "duration": 0.093346,
     "end_time": "2020-06-18T10:14:11.526837",
     "exception": false,
     "start_time": "2020-06-18T10:14:11.433491",
     "status": "completed"
    },
    "tags": []
   },
   "outputs": [
    {
     "data": {
      "text/markdown": [
       "API credentials have automatically been injected for your active subscriptions.  \n",
       "The following environment variables are now available:\n",
       "* `GEODB_API_SERVER_URL`\n",
       "* `GEODB_AUTH_CLIENT_ID`\n",
       "* `GEODB_AUTH_AUD`\n",
       "* `GEODB_AUTH_CLIENT_SECRET`\n",
       "* `GEODB_API_SERVER_PORT`\n",
       "* `GEODB_AUTH_DOMAIN`\n",
       "\n",
       "------\n"
      ],
      "text/plain": [
       "<IPython.core.display.Markdown object>"
      ]
     },
     "metadata": {},
     "output_type": "display_data"
    }
   ],
   "source": [
    "from edc import setup_environment_variables\n",
    "setup_environment_variables()"
   ]
  },
  {
   "cell_type": "code",
   "execution_count": 2,
   "metadata": {
    "execution": {
     "iopub.execute_input": "2020-06-18T10:14:11.536534Z",
     "iopub.status.busy": "2020-06-18T10:14:11.535934Z",
     "iopub.status.idle": "2020-06-18T10:14:11.537974Z",
     "shell.execute_reply": "2020-06-18T10:14:11.538334Z"
    },
    "papermill": {
     "duration": 0.007412,
     "end_time": "2020-06-18T10:14:11.538436",
     "exception": false,
     "start_time": "2020-06-18T10:14:11.531024",
     "status": "completed"
    },
    "tags": []
   },
   "outputs": [
    {
     "name": "stdout",
     "output_type": "stream",
     "text": [
      "Notebook is compatible\n"
     ]
    }
   ],
   "source": [
    "from edc import check_compatibility\n",
    "check_compatibility(\"v0.18.4\")"
   ]
  },
  {
   "cell_type": "code",
   "execution_count": 3,
   "metadata": {
    "execution": {
     "iopub.execute_input": "2020-06-18T10:14:11.546708Z",
     "iopub.status.busy": "2020-06-18T10:14:11.546170Z",
     "iopub.status.idle": "2020-06-18T10:14:11.548928Z",
     "shell.execute_reply": "2020-06-18T10:14:11.548127Z"
    },
    "papermill": {
     "duration": 0.007985,
     "end_time": "2020-06-18T10:14:11.549041",
     "exception": false,
     "start_time": "2020-06-18T10:14:11.541056",
     "status": "completed"
    },
    "tags": []
   },
   "outputs": [
    {
     "data": {
      "text/plain": [
       "8"
      ]
     },
     "execution_count": 3,
     "metadata": {},
     "output_type": "execute_result"
    }
   ],
   "source": [
    "2 ** 3"
   ]
  }
 ],
 "metadata": {
  "kernelspec": {
   "display_name": "Python 3",
   "language": "python",
   "name": "python3"
  },
  "language_info": {
   "codemirror_mode": {
    "name": "ipython",
    "version": 3
   },
   "file_extension": ".py",
   "mimetype": "text/x-python",
   "name": "python",
   "nbconvert_exporter": "python",
   "pygments_lexer": "ipython3",
   "version": "3.7.6"
  },
  "papermill": {
   "duration": 1.013681,
   "end_time": "2020-06-18T10:14:11.657743",
   "environment_variables": {},
   "exception": null,
   "input_path": "/tmp/tmpbhxl_hsr",
   "output_path": "/tmp/notebook_output.ipynb",
   "parameters": {},
   "start_time": "2020-06-18T10:14:10.644062",
   "version": "2.1.0"
  },
  "properties": {
   "authors": [
    {
     "id": "0c0a0ef4-8d0d-4e70-b002-033c7cbb41fd"
    }
   ],
   "description": "test",
   "id": "539be2d2-278c-49bb-bfbf-c46d77680883",
   "license": null,
   "name": "test",
   "requirements": [
    "eurodatacube-geodb"
   ],
   "tags": [
    "Analysis-Ready Data"
   ],
   "tosAgree": true,
   "type": "Jupyter Notebook",
   "version": "1"
  }
 },
 "nbformat": 4,
 "nbformat_minor": 4
}