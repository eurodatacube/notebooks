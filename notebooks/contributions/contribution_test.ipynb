{
 "cells": [
  {
   "cell_type": "code",
   "execution_count": 1,
   "metadata": {
    "execution": {
     "iopub.execute_input": "2020-06-18T07:36:32.808755Z",
     "iopub.status.busy": "2020-06-18T07:36:32.808112Z",
     "iopub.status.idle": "2020-06-18T07:36:32.907853Z",
     "shell.execute_reply": "2020-06-18T07:36:32.908250Z"
    },
    "papermill": {
     "duration": 0.106126,
     "end_time": "2020-06-18T07:36:32.908438",
     "exception": false,
     "start_time": "2020-06-18T07:36:32.802312",
     "status": "completed"
    },
    "tags": []
   },
   "outputs": [
    {
     "data": {
      "text/markdown": [
       "API credentials have automatically been injected for your active subscriptions.  \n",
       "The following environment variables are now available:\n",
       "* `GEODB_API_SERVER_URL`\n",
       "* `GEODB_AUTH_CLIENT_ID`\n",
       "* `GEODB_AUTH_AUD`\n",
       "* `GEODB_AUTH_CLIENT_SECRET`\n",
       "* `GEODB_API_SERVER_PORT`\n",
       "* `GEODB_AUTH_DOMAIN`\n",
       "\n",
       "------\n"
      ],
      "text/plain": [
       "<IPython.core.display.Markdown object>"
      ]
     },
     "metadata": {},
     "output_type": "display_data"
    }
   ],
   "source": [
    "from edc import setup_environment_variables\n",
    "setup_environment_variables()"
   ]
  },
  {
   "cell_type": "code",
   "execution_count": 2,
   "metadata": {
    "execution": {
     "iopub.execute_input": "2020-06-18T07:36:32.918386Z",
     "iopub.status.busy": "2020-06-18T07:36:32.917818Z",
     "iopub.status.idle": "2020-06-18T07:36:32.920083Z",
     "shell.execute_reply": "2020-06-18T07:36:32.920500Z"
    },
    "papermill": {
     "duration": 0.007975,
     "end_time": "2020-06-18T07:36:32.920608",
     "exception": false,
     "start_time": "2020-06-18T07:36:32.912633",
     "status": "completed"
    },
    "tags": []
   },
   "outputs": [
    {
     "name": "stdout",
     "output_type": "stream",
     "text": [
      "Notebook is compatible\n"
     ]
    }
   ],
   "source": [
    "from edc import check_compatibility\n",
    "check_compatibility(\"v0.18.4\")"
   ]
  },
  {
   "cell_type": "code",
   "execution_count": 3,
   "metadata": {
    "execution": {
     "iopub.execute_input": "2020-06-18T07:36:32.930411Z",
     "iopub.status.busy": "2020-06-18T07:36:32.929874Z",
     "iopub.status.idle": "2020-06-18T07:36:32.932289Z",
     "shell.execute_reply": "2020-06-18T07:36:32.931819Z"
    },
    "papermill": {
     "duration": 0.007787,
     "end_time": "2020-06-18T07:36:32.932432",
     "exception": false,
     "start_time": "2020-06-18T07:36:32.924645",
     "status": "completed"
    },
    "tags": []
   },
   "outputs": [
    {
     "data": {
      "text/plain": [
       "8"
      ]
     },
     "execution_count": 3,
     "metadata": {},
     "output_type": "execute_result"
    }
   ],
   "source": [
    "2 ** 3"
   ]
  }
 ],
 "metadata": {
  "kernelspec": {
   "display_name": "Python 3",
   "language": "python",
   "name": "python3"
  },
  "language_info": {
   "codemirror_mode": {
    "name": "ipython",
    "version": 3
   },
   "file_extension": ".py",
   "mimetype": "text/x-python",
   "name": "python",
   "nbconvert_exporter": "python",
   "pygments_lexer": "ipython3",
   "version": "3.7.6"
  },
  "papermill": {
   "duration": 1.037901,
   "end_time": "2020-06-18T07:36:33.047268",
   "environment_variables": {},
   "exception": null,
   "input_path": "/tmp/tmpmoywxipf",
   "output_path": "/tmp/notebook_output.ipynb",
   "parameters": {},
   "start_time": "2020-06-18T07:36:32.009367",
   "version": "2.1.0"
  },
  "properties": {
   "authors": [
    {
     "id": "0c0a0ef4-8d0d-4e70-b002-033c7cbb41fd"
    }
   ],
   "description": "test",
   "id": "315807a1-c3c9-406b-b171-fb555c833bc5",
   "license": null,
   "name": "test",
   "requirements": [
    "eurodatacube-geodb"
   ],
   "tags": [
    "Analysis-Ready Data"
   ],
   "tosAgree": true,
   "type": "Jupyter Notebook",
   "version": "1"
  }
 },
 "nbformat": 4,
 "nbformat_minor": 4
}