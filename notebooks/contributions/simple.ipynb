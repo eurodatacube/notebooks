{
 "cells": [
  {
   "cell_type": "code",
   "execution_count": 1,
   "metadata": {
    "execution": {
     "iopub.execute_input": "2020-05-06T10:35:42.443172Z",
     "iopub.status.busy": "2020-05-06T10:35:42.442526Z",
     "iopub.status.idle": "2020-05-06T10:35:43.069535Z",
     "shell.execute_reply": "2020-05-06T10:35:43.069967Z"
    },
    "papermill": {
     "duration": 0.637221,
     "end_time": "2020-05-06T10:35:43.070147",
     "exception": false,
     "start_time": "2020-05-06T10:35:42.432926",
     "status": "completed"
    },
    "tags": []
   },
   "outputs": [
    {
     "name": "stdout",
     "output_type": "stream",
     "text": [
      "root\r\n"
     ]
    }
   ],
   "source": [
    "!whoami"
   ]
  },
  {
   "cell_type": "code",
   "execution_count": 2,
   "metadata": {
    "execution": {
     "iopub.execute_input": "2020-05-06T10:35:43.090010Z",
     "iopub.status.busy": "2020-05-06T10:35:43.089213Z",
     "iopub.status.idle": "2020-05-06T10:35:43.093817Z",
     "shell.execute_reply": "2020-05-06T10:35:43.093237Z"
    },
    "papermill": {
     "duration": 0.019578,
     "end_time": "2020-05-06T10:35:43.093923",
     "exception": false,
     "start_time": "2020-05-06T10:35:43.074345",
     "status": "completed"
    },
    "tags": []
   },
   "outputs": [
    {
     "data": {
      "text/plain": [
       "4"
      ]
     },
     "execution_count": 2,
     "metadata": {},
     "output_type": "execute_result"
    }
   ],
   "source": [
    "1 + 3"
   ]
  },
  {
   "cell_type": "code",
   "execution_count": 3,
   "metadata": {
    "execution": {
     "iopub.execute_input": "2020-05-06T10:35:43.108338Z",
     "iopub.status.busy": "2020-05-06T10:35:43.107210Z",
     "iopub.status.idle": "2020-05-06T10:35:43.112528Z",
     "shell.execute_reply": "2020-05-06T10:35:43.114057Z"
    },
    "papermill": {
     "duration": 0.015912,
     "end_time": "2020-05-06T10:35:43.114264",
     "exception": false,
     "start_time": "2020-05-06T10:35:43.098352",
     "status": "completed"
    },
    "tags": []
   },
   "outputs": [
    {
     "data": {
      "text/plain": [
       "5357543035931336604742125245300009052807024058527668037218751941851755255624680612465991894078479290637973364587765734125935726428461570217992288787349287401967283887412115492710537302531185570938977091076523237491790970633699383779582771973038531457285598238843271083830214915826312193418602834034688"
      ]
     },
     "execution_count": 3,
     "metadata": {},
     "output_type": "execute_result"
    }
   ],
   "source": [
    "2 ** 999 "
   ]
  },
  {
   "cell_type": "code",
   "execution_count": null,
   "metadata": {
    "papermill": {
     "duration": 0.010493,
     "end_time": "2020-05-06T10:35:43.135954",
     "exception": false,
     "start_time": "2020-05-06T10:35:43.125461",
     "status": "completed"
    },
    "tags": []
   },
   "outputs": [],
   "source": []
  }
 ],
 "metadata": {
  "kernelspec": {
   "display_name": "Python 3",
   "language": "python",
   "name": "python"
  },
  "language_info": {
   "codemirror_mode": {
    "name": "ipython",
    "version": 3
   },
   "file_extension": ".py",
   "mimetype": "text/x-python",
   "name": "python",
   "nbconvert_exporter": "python",
   "pygments_lexer": "ipython3",
   "version": "3.8.1"
  },
  "papermill": {
   "duration": 2.243067,
   "end_time": "2020-05-06T10:35:43.252905",
   "environment_variables": {},
   "exception": null,
   "input_path": "/tmp/somefile",
   "output_path": "/tmp/otherfile",
   "parameters": {},
   "start_time": "2020-05-06T10:35:41.009838",
   "version": "2.1.1"
  },
  "properties": {
   "description": "test",
   "id": "2c0eb4ee-f46d-4783-95b1-c4a863abfc87",
   "license": null,
   "name": "submission validation test",
   "requirements": [],
   "tags": [
    "Jupyter"
   ],
   "tosAgree": true,
   "type": "Jupyter Notebook",
   "user_id": "0c0a0ef4-8d0d-4e70-b002-033c7cbb41fd",
   "version": "0.1.0"
  }
 },
 "nbformat": 4,
 "nbformat_minor": 4
}
