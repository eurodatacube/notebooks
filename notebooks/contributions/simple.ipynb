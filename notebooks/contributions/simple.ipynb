{
 "cells": [
  {
   "cell_type": "markdown",
   "metadata": {},
   "source": [
    "<span style=\"color:red; font-family:Helvetica Neue, Helvetica, Arial, sans-serif; font-size:2em;\">An Exception was encountered at 'In [2]'.</span>"
   ]
  },
  {
   "cell_type": "code",
   "execution_count": 1,
   "metadata": {
    "execution": {
     "iopub.execute_input": "2020-05-07T13:02:40.920755Z",
     "iopub.status.busy": "2020-05-07T13:02:40.919957Z",
     "iopub.status.idle": "2020-05-07T13:02:41.617061Z",
     "shell.execute_reply": "2020-05-07T13:02:41.616312Z"
    },
    "papermill": {
     "duration": 0.706581,
     "end_time": "2020-05-07T13:02:41.617197",
     "exception": false,
     "start_time": "2020-05-07T13:02:40.910616",
     "status": "completed"
    },
    "tags": []
   },
   "outputs": [
    {
     "name": "stdout",
     "output_type": "stream",
     "text": [
      "jovyan\r\n"
     ]
    }
   ],
   "source": [
    "!whoami"
   ]
  },
  {
   "cell_type": "code",
   "execution_count": 2,
   "metadata": {
    "execution": {
     "iopub.execute_input": "2020-05-07T13:02:41.633117Z",
     "iopub.status.busy": "2020-05-07T13:02:41.632508Z",
     "iopub.status.idle": "2020-05-07T13:02:41.703293Z",
     "shell.execute_reply": "2020-05-07T13:02:41.701830Z"
    },
    "papermill": {
     "duration": 0.081052,
     "end_time": "2020-05-07T13:02:41.703516",
     "exception": true,
     "start_time": "2020-05-07T13:02:41.622464",
     "status": "failed"
    },
    "tags": []
   },
   "outputs": [
    {
     "ename": "ZeroDivisionError",
     "evalue": "division by zero",
     "output_type": "error",
     "traceback": [
      "\u001b[0;31m---------------------------------------------------------------------------\u001b[0m",
      "\u001b[0;31mZeroDivisionError\u001b[0m                         Traceback (most recent call last)",
      "\u001b[0;32m<ipython-input-2-3cdf446d56bd>\u001b[0m in \u001b[0;36m<module>\u001b[0;34m\u001b[0m\n\u001b[0;32m----> 1\u001b[0;31m \u001b[0;36m1\u001b[0m \u001b[0;34m+\u001b[0m \u001b[0;36m3\u001b[0m \u001b[0;34m/\u001b[0m \u001b[0;36m0\u001b[0m\u001b[0;34m\u001b[0m\u001b[0;34m\u001b[0m\u001b[0m\n\u001b[0m",
      "\u001b[0;31mZeroDivisionError\u001b[0m: division by zero"
     ]
    }
   ],
   "source": [
    "1 + 3 / 0"
   ]
  },
  {
   "cell_type": "code",
   "execution_count": null,
   "metadata": {
    "execution": {
     "iopub.execute_input": "2020-05-07T12:39:46.949527Z",
     "iopub.status.busy": "2020-05-07T12:39:46.948820Z",
     "iopub.status.idle": "2020-05-07T12:39:46.952515Z",
     "shell.execute_reply": "2020-05-07T12:39:46.951863Z"
    },
    "papermill": {
     "duration": null,
     "end_time": null,
     "exception": null,
     "start_time": null,
     "status": "pending"
    },
    "tags": []
   },
   "outputs": [],
   "source": [
    "2 ** 999 "
   ]
  },
  {
   "cell_type": "code",
   "execution_count": null,
   "metadata": {
    "papermill": {
     "duration": null,
     "end_time": null,
     "exception": null,
     "start_time": null,
     "status": "pending"
    },
    "tags": []
   },
   "outputs": [],
   "source": []
  }
 ],
 "metadata": {
  "kernelspec": {
   "display_name": "Python 3",
   "language": "python",
   "name": "python"
  },
  "language_info": {
   "codemirror_mode": {
    "name": "ipython",
    "version": 3
   },
   "file_extension": ".py",
   "mimetype": "text/x-python",
   "name": "python",
   "nbconvert_exporter": "python",
   "pygments_lexer": "ipython3",
   "version": "3.7.6"
  },
  "papermill": {
   "duration": 2.285594,
   "end_time": "2020-05-07T13:02:41.814419",
   "environment_variables": {},
   "exception": true,
   "input_path": "/tmp/notebook_input.ipynb",
   "output_path": "/tmp/notebook_output.ipynb",
   "parameters": {},
   "start_time": "2020-05-07T13:02:39.528825",
   "version": "2.1.1"
  },
  "properties": {
   "description": "test",
   "id": "2c0eb4ee-f46d-4783-95b1-c4a863abfc87",
   "license": null,
   "name": "submission validation test",
   "requirements": [],
   "tags": [
    "Jupyter"
   ],
   "tosAgree": true,
   "type": "Jupyter Notebook",
   "user_id": "0c0a0ef4-8d0d-4e70-b002-033c7cbb41fd",
   "version": "0.2.0"
  }
 },
 "nbformat": 4,
 "nbformat_minor": 4
}