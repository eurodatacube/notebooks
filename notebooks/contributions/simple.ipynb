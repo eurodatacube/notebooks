{
 "cells": [
  {
   "cell_type": "code",
   "execution_count": 1,
   "metadata": {
    "execution": {
     "iopub.execute_input": "2020-05-06T10:23:09.079103Z",
     "iopub.status.busy": "2020-05-06T10:23:09.078078Z",
     "iopub.status.idle": "2020-05-06T10:23:09.782314Z",
     "shell.execute_reply": "2020-05-06T10:23:09.781362Z"
    },
    "papermill": {
     "duration": 0.714044,
     "end_time": "2020-05-06T10:23:09.782446",
     "exception": false,
     "start_time": "2020-05-06T10:23:09.068402",
     "status": "completed"
    },
    "tags": []
   },
   "outputs": [
    {
     "name": "stdout",
     "output_type": "stream",
     "text": [
      "root\r\n"
     ]
    }
   ],
   "source": [
    "!whoami"
   ]
  },
  {
   "cell_type": "code",
   "execution_count": 2,
   "metadata": {
    "execution": {
     "iopub.execute_input": "2020-05-06T10:23:09.806732Z",
     "iopub.status.busy": "2020-05-06T10:23:09.803722Z",
     "iopub.status.idle": "2020-05-06T10:23:09.810726Z",
     "shell.execute_reply": "2020-05-06T10:23:09.810124Z"
    },
    "papermill": {
     "duration": 0.020095,
     "end_time": "2020-05-06T10:23:09.810924",
     "exception": false,
     "start_time": "2020-05-06T10:23:09.790829",
     "status": "completed"
    },
    "tags": []
   },
   "outputs": [
    {
     "data": {
      "text/plain": [
       "4"
      ]
     },
     "execution_count": 2,
     "metadata": {},
     "output_type": "execute_result"
    }
   ],
   "source": [
    "1 + 3"
   ]
  },
  {
   "cell_type": "code",
   "execution_count": 3,
   "metadata": {
    "execution": {
     "iopub.execute_input": "2020-05-06T10:23:09.833122Z",
     "iopub.status.busy": "2020-05-06T10:23:09.832432Z",
     "iopub.status.idle": "2020-05-06T10:23:09.836792Z",
     "shell.execute_reply": "2020-05-06T10:23:09.836253Z"
    },
    "papermill": {
     "duration": 0.019324,
     "end_time": "2020-05-06T10:23:09.836988",
     "exception": false,
     "start_time": "2020-05-06T10:23:09.817664",
     "status": "completed"
    },
    "tags": []
   },
   "outputs": [
    {
     "data": {
      "text/plain": [
       "5357543035931336604742125245300009052807024058527668037218751941851755255624680612465991894078479290637973364587765734125935726428461570217992288787349287401967283887412115492710537302531185570938977091076523237491790970633699383779582771973038531457285598238843271083830214915826312193418602834034688"
      ]
     },
     "execution_count": 3,
     "metadata": {},
     "output_type": "execute_result"
    }
   ],
   "source": [
    "2 ** 999 "
   ]
  },
  {
   "cell_type": "code",
   "execution_count": null,
   "metadata": {
    "papermill": {
     "duration": 0.006059,
     "end_time": "2020-05-06T10:23:09.848738",
     "exception": false,
     "start_time": "2020-05-06T10:23:09.842679",
     "status": "completed"
    },
    "tags": []
   },
   "outputs": [],
   "source": []
  }
 ],
 "metadata": {
  "kernelspec": {
   "display_name": "Python 3",
   "language": "python",
   "name": "python"
  },
  "language_info": {
   "codemirror_mode": {
    "name": "ipython",
    "version": 3
   },
   "file_extension": ".py",
   "mimetype": "text/x-python",
   "name": "python",
   "nbconvert_exporter": "python",
   "pygments_lexer": "ipython3",
   "version": "3.8.1"
  },
  "papermill": {
   "duration": 2.673058,
   "end_time": "2020-05-06T10:23:09.963602",
   "environment_variables": {},
   "exception": null,
   "input_path": "/tmp/somefile",
   "output_path": "/tmp/otherfile",
   "parameters": {},
   "start_time": "2020-05-06T10:23:07.290544",
   "version": "2.1.1"
  },
  "properties": {
   "description": "test",
   "id": "2c0eb4ee-f46d-4783-95b1-c4a863abfc87",
   "license": null,
   "name": "submission validation test",
   "requirements": [],
   "tags": [
    "Jupyter"
   ],
   "tosAgree": true,
   "type": "Jupyter Notebook",
   "user_id": "0c0a0ef4-8d0d-4e70-b002-033c7cbb41fd",
   "version": "0.0.0"
  }
 },
 "nbformat": 4,
 "nbformat_minor": 4
}