{
 "cells": [
  {
   "cell_type": "code",
   "execution_count": 1,
   "metadata": {
    "execution": {
     "iopub.execute_input": "2020-05-07T12:39:46.253801Z",
     "iopub.status.busy": "2020-05-07T12:39:46.253067Z",
     "iopub.status.idle": "2020-05-07T12:39:46.909403Z",
     "shell.execute_reply": "2020-05-07T12:39:46.909869Z"
    },
    "papermill": {
     "duration": 0.667908,
     "end_time": "2020-05-07T12:39:46.910043",
     "exception": false,
     "start_time": "2020-05-07T12:39:46.242135",
     "status": "completed"
    },
    "tags": []
   },
   "outputs": [
    {
     "name": "stdout",
     "output_type": "stream",
     "text": [
      "jovyan\r\n"
     ]
    }
   ],
   "source": [
    "!whoami"
   ]
  },
  {
   "cell_type": "code",
   "execution_count": 2,
   "metadata": {
    "execution": {
     "iopub.execute_input": "2020-05-07T12:39:46.931526Z",
     "iopub.status.busy": "2020-05-07T12:39:46.930626Z",
     "iopub.status.idle": "2020-05-07T12:39:46.934688Z",
     "shell.execute_reply": "2020-05-07T12:39:46.934143Z"
    },
    "papermill": {
     "duration": 0.020328,
     "end_time": "2020-05-07T12:39:46.934793",
     "exception": false,
     "start_time": "2020-05-07T12:39:46.914465",
     "status": "completed"
    },
    "tags": []
   },
   "outputs": [
    {
     "data": {
      "text/plain": [
       "4"
      ]
     },
     "execution_count": 2,
     "metadata": {},
     "output_type": "execute_result"
    }
   ],
   "source": [
    "1 + 3 / 0"
   ]
  },
  {
   "cell_type": "code",
   "execution_count": 3,
   "metadata": {
    "execution": {
     "iopub.execute_input": "2020-05-07T12:39:46.949527Z",
     "iopub.status.busy": "2020-05-07T12:39:46.948820Z",
     "iopub.status.idle": "2020-05-07T12:39:46.952515Z",
     "shell.execute_reply": "2020-05-07T12:39:46.951863Z"
    },
    "papermill": {
     "duration": 0.013184,
     "end_time": "2020-05-07T12:39:46.952631",
     "exception": false,
     "start_time": "2020-05-07T12:39:46.939447",
     "status": "completed"
    },
    "tags": []
   },
   "outputs": [
    {
     "data": {
      "text/plain": [
       "5357543035931336604742125245300009052807024058527668037218751941851755255624680612465991894078479290637973364587765734125935726428461570217992288787349287401967283887412115492710537302531185570938977091076523237491790970633699383779582771973038531457285598238843271083830214915826312193418602834034688"
      ]
     },
     "execution_count": 3,
     "metadata": {},
     "output_type": "execute_result"
    }
   ],
   "source": [
    "2 ** 999 "
   ]
  },
  {
   "cell_type": "code",
   "execution_count": null,
   "metadata": {
    "papermill": {
     "duration": 0.004559,
     "end_time": "2020-05-07T12:39:46.962147",
     "exception": false,
     "start_time": "2020-05-07T12:39:46.957588",
     "status": "completed"
    },
    "tags": []
   },
   "outputs": [],
   "source": []
  }
 ],
 "metadata": {
  "kernelspec": {
   "display_name": "Python 3",
   "language": "python",
   "name": "python"
  },
  "language_info": {
   "codemirror_mode": {
    "name": "ipython",
    "version": 3
   },
   "file_extension": ".py",
   "mimetype": "text/x-python",
   "name": "python",
   "nbconvert_exporter": "python",
   "pygments_lexer": "ipython3",
   "version": "3.7.6"
  },
  "papermill": {
   "duration": 2.096177,
   "end_time": "2020-05-07T12:39:46.976983",
   "environment_variables": {},
   "exception": null,
   "input_path": "/tmp/notebook_input.ipynb",
   "output_path": "/tmp/notebook_output.ipynb",
   "parameters": {},
   "start_time": "2020-05-07T12:39:44.880806",
   "version": "2.1.1"
  },
  "properties": {
   "description": "test",
   "id": "2c0eb4ee-f46d-4783-95b1-c4a863abfc87",
   "license": null,
   "name": "submission validation test",
   "requirements": [],
   "tags": [
    "Jupyter"
   ],
   "tosAgree": true,
   "type": "Jupyter Notebook",
   "user_id": "0c0a0ef4-8d0d-4e70-b002-033c7cbb41fd",
   "version": "0.2.0"
  }
 },
 "nbformat": 4,
 "nbformat_minor": 4
}
