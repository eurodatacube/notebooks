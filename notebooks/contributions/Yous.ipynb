{
 "cells": [
  {
   "cell_type": "code",
   "execution_count": 1,
   "metadata": {
    "execution": {
     "iopub.execute_input": "2020-10-01T12:53:45.758205Z",
     "iopub.status.busy": "2020-10-01T12:53:45.757591Z",
     "iopub.status.idle": "2020-10-01T12:53:45.809783Z",
     "shell.execute_reply": "2020-10-01T12:53:45.809169Z"
    },
    "papermill": {
     "duration": 0.058921,
     "end_time": "2020-10-01T12:53:45.809943",
     "exception": false,
     "start_time": "2020-10-01T12:53:45.751022",
     "status": "completed"
    },
    "tags": []
   },
   "outputs": [
    {
     "data": {
      "text/html": [
       "<script type=\"text/javascript\">\n",
       "        function toggle(id) {\n",
       "            el = document.getElementById(id);\n",
       "            el.style.display = el.style.display === \"none\" ? \"block\" : \"none\";\n",
       "        }\n",
       "    </script>"
      ],
      "text/plain": [
       "<IPython.core.display.HTML object>"
      ]
     },
     "metadata": {},
     "output_type": "display_data"
    },
    {
     "data": {
      "text/html": [
       "This notebook is compatible with this base image version (user-0.21.0)."
      ],
      "text/plain": [
       "<IPython.core.display.HTML object>"
      ]
     },
     "metadata": {},
     "output_type": "display_data"
    }
   ],
   "source": [
    "from edc import check_compatibility\n",
    "check_compatibility(\"user-0.21.0\")"
   ]
  },
  {
   "cell_type": "code",
   "execution_count": 2,
   "metadata": {
    "execution": {
     "iopub.execute_input": "2020-10-01T12:53:45.821165Z",
     "iopub.status.busy": "2020-10-01T12:53:45.820642Z",
     "iopub.status.idle": "2020-10-01T12:53:45.822777Z",
     "shell.execute_reply": "2020-10-01T12:53:45.823196Z"
    },
    "papermill": {
     "duration": 0.00976,
     "end_time": "2020-10-01T12:53:45.823325",
     "exception": false,
     "start_time": "2020-10-01T12:53:45.813565",
     "status": "completed"
    },
    "tags": []
   },
   "outputs": [
    {
     "name": "stdout",
     "output_type": "stream",
     "text": [
      "HEllo\n"
     ]
    }
   ],
   "source": [
    "print('HEllo')"
   ]
  },
  {
   "cell_type": "code",
   "execution_count": 3,
   "metadata": {
    "execution": {
     "iopub.execute_input": "2020-10-01T12:53:45.834687Z",
     "iopub.status.busy": "2020-10-01T12:53:45.833963Z",
     "iopub.status.idle": "2020-10-01T12:53:45.836620Z",
     "shell.execute_reply": "2020-10-01T12:53:45.836995Z"
    },
    "papermill": {
     "duration": 0.010528,
     "end_time": "2020-10-01T12:53:45.837105",
     "exception": false,
     "start_time": "2020-10-01T12:53:45.826577",
     "status": "completed"
    },
    "tags": []
   },
   "outputs": [
    {
     "data": {
      "text/plain": [
       "False"
      ]
     },
     "execution_count": 3,
     "metadata": {},
     "output_type": "execute_result"
    }
   ],
   "source": [
    "import os\n",
    "'SH_CLIENT_SECRET' in os.environ"
   ]
  },
  {
   "cell_type": "code",
   "execution_count": 4,
   "metadata": {
    "execution": {
     "iopub.execute_input": "2020-10-01T12:53:45.847711Z",
     "iopub.status.busy": "2020-10-01T12:53:45.847150Z",
     "iopub.status.idle": "2020-10-01T12:53:45.850321Z",
     "shell.execute_reply": "2020-10-01T12:53:45.859472Z"
    },
    "papermill": {
     "duration": 0.018935,
     "end_time": "2020-10-01T12:53:45.859583",
     "exception": false,
     "start_time": "2020-10-01T12:53:45.840648",
     "status": "completed"
    },
    "tags": []
   },
   "outputs": [
    {
     "data": {
      "text/markdown": [
       "API credentials have automatically been injected for your active subscriptions.  \n",
       "The following environment variables are now available:\n",
       "* `SH_CLIENT_ID`, `SH_CLIENT_NAME`, `SH_CLIENT_SECRET`, `SH_INSTANCE_ID`\n",
       "\n",
       "The following additional environment variables have been loaded from `~/custom.env`:\n",
       "* `AWS_BUCKET`\n",
       "* `DAPA_URL`\n",
       "* `DB_HOST`, `DB_NAME`, `DB_PASSWORD`, `DB_USER`\n",
       "* `OGC_EDC_URL`\n",
       "* `REFERENCE_DATA`\n"
      ],
      "text/plain": [
       "<IPython.core.display.Markdown object>"
      ]
     },
     "metadata": {},
     "output_type": "display_data"
    }
   ],
   "source": [
    "from edc import setup_environment_variables\n",
    "setup_environment_variables()"
   ]
  }
 ],
 "metadata": {
  "kernelspec": {
   "display_name": "EDC 0.21.0 (Python3)",
   "language": "python",
   "name": "edc"
  },
  "language_info": {
   "codemirror_mode": {
    "name": "ipython",
    "version": 3
   },
   "file_extension": ".py",
   "mimetype": "text/x-python",
   "name": "python",
   "nbconvert_exporter": "python",
   "pygments_lexer": "ipython3",
   "version": "3.7.8"
  },
  "papermill": {
   "default_parameters": {},
   "duration": 1.093138,
   "end_time": "2020-10-01T12:53:46.067324",
   "environment_variables": {},
   "exception": null,
   "input_path": "/tmp/tmpuu0cqp20",
   "output_path": "/tmp/notebook_output.ipynb",
   "parameters": {},
   "start_time": "2020-10-01T12:53:44.974186",
   "version": "2.2.0"
  },
  "properties": {
   "authors": [
    {
     "id": "9889961c-01d6-4f4f-9797-059e0f633a61",
     "name": "yoselineangel@gmail.com"
    }
   ],
   "description": "Hands ON",
   "id": "ff083998-e20f-4da8-9ccb-6c619285be35",
   "license": null,
   "name": "Phi",
   "requirements": [
    "eurodatacube"
   ],
   "tags": [
    "Jupyter"
   ],
   "tosAgree": true,
   "type": "Jupyter Notebook",
   "version": "0.0.1"
  }
 },
 "nbformat": 4,
 "nbformat_minor": 4
}