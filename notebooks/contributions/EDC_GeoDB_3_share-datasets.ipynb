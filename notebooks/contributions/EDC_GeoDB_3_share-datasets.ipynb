{
 "cells": [
  {
   "cell_type": "code",
   "execution_count": 1,
   "id": "a7c0ae21",
   "metadata": {
    "execution": {
     "iopub.execute_input": "2021-07-06T13:55:18.713886Z",
     "iopub.status.busy": "2021-07-06T13:55:18.713293Z",
     "iopub.status.idle": "2021-07-06T13:55:19.005679Z",
     "shell.execute_reply": "2021-07-06T13:55:19.006074Z"
    },
    "papermill": {
     "duration": 0.306287,
     "end_time": "2021-07-06T13:55:19.006287",
     "exception": false,
     "start_time": "2021-07-06T13:55:18.700000",
     "status": "completed"
    },
    "tags": []
   },
   "outputs": [
    {
     "data": {
      "text/markdown": [
       "\n",
       "***Notebook Title***  \n",
       "GeoDB: Sharing Data\n",
       "\n",
       "***Notebook Description***  \n",
       "Euro Data Cube GeoDB: Sharing Data\n",
       "\n",
       "\n",
       "***Notebook Dependencies***  \n",
       "This notebook requires an active subscription to:\n",
       "* EDC GeoDB\n"
      ],
      "text/plain": [
       "<IPython.core.display.Markdown object>"
      ]
     },
     "metadata": {},
     "output_type": "display_data"
    }
   ],
   "source": [
    "from edc import print_info\n",
    "print_info(\"geodb-sharing\")"
   ]
  },
  {
   "cell_type": "code",
   "execution_count": 2,
   "id": "7058232e",
   "metadata": {
    "execution": {
     "iopub.execute_input": "2021-07-06T13:55:19.027126Z",
     "iopub.status.busy": "2021-07-06T13:55:19.026521Z",
     "iopub.status.idle": "2021-07-06T13:55:19.030909Z",
     "shell.execute_reply": "2021-07-06T13:55:19.030343Z"
    },
    "papermill": {
     "duration": 0.016532,
     "end_time": "2021-07-06T13:55:19.031014",
     "exception": false,
     "start_time": "2021-07-06T13:55:19.014482",
     "status": "completed"
    },
    "tags": []
   },
   "outputs": [
    {
     "data": {
      "text/html": [
       "<script type=\"text/javascript\">\n",
       "        function toggle(id) {\n",
       "            el = document.getElementById(id);\n",
       "            el.style.display = el.style.display === \"none\" ? \"block\" : \"none\";\n",
       "        }\n",
       "    </script>"
      ],
      "text/plain": [
       "<IPython.core.display.HTML object>"
      ]
     },
     "metadata": {},
     "output_type": "display_data"
    },
    {
     "data": {
      "text/html": [
       "This notebook is compatible with this base image version (user-0.24.5)."
      ],
      "text/plain": [
       "<IPython.core.display.HTML object>"
      ]
     },
     "metadata": {},
     "output_type": "display_data"
    },
    {
     "data": {
      "text/markdown": [
       "\n",
       "\n",
       "---------\n",
       "\n",
       "The following environment variables are available:\n",
       "\n",
       "* `GEODB_AUTH_AUD`, `GEODB_AUTH_CLIENT_ID`, `GEODB_AUTH_DOMAIN`, `GEODB_API_SERVER_URL`, `GEODB_AUTH_CLIENT_SECRET`, `GEODB_API_SERVER_PORT`\n"
      ],
      "text/plain": [
       "<IPython.core.display.Markdown object>"
      ]
     },
     "metadata": {},
     "output_type": "display_data"
    }
   ],
   "source": [
    "from edc import check_compatibility\n",
    "check_compatibility(\"user-0.24.5\", dependencies=[\"GEODB\"])"
   ]
  },
  {
   "cell_type": "markdown",
   "id": "fd931226",
   "metadata": {
    "papermill": {
     "duration": 0.008631,
     "end_time": "2021-07-06T13:55:19.049452",
     "exception": false,
     "start_time": "2021-07-06T13:55:19.040821",
     "status": "completed"
    },
    "tags": []
   },
   "source": [
    "## Sharing Data"
   ]
  },
  {
   "cell_type": "code",
   "execution_count": 3,
   "id": "e4f50222",
   "metadata": {
    "execution": {
     "iopub.execute_input": "2021-07-06T13:55:19.071893Z",
     "iopub.status.busy": "2021-07-06T13:55:19.071038Z",
     "iopub.status.idle": "2021-07-06T13:55:19.621606Z",
     "shell.execute_reply": "2021-07-06T13:55:19.622272Z"
    },
    "papermill": {
     "duration": 0.563684,
     "end_time": "2021-07-06T13:55:19.622413",
     "exception": false,
     "start_time": "2021-07-06T13:55:19.058729",
     "status": "completed"
    },
    "tags": []
   },
   "outputs": [],
   "source": [
    "from xcube_geodb.core.geodb import GeoDBClient"
   ]
  },
  {
   "cell_type": "code",
   "execution_count": 4,
   "id": "62e0361c",
   "metadata": {
    "execution": {
     "iopub.execute_input": "2021-07-06T13:55:19.645017Z",
     "iopub.status.busy": "2021-07-06T13:55:19.644402Z",
     "iopub.status.idle": "2021-07-06T13:55:20.387514Z",
     "shell.execute_reply": "2021-07-06T13:55:20.386995Z"
    },
    "papermill": {
     "duration": 0.756499,
     "end_time": "2021-07-06T13:55:20.387635",
     "exception": false,
     "start_time": "2021-07-06T13:55:19.631136",
     "status": "completed"
    },
    "tags": []
   },
   "outputs": [
    {
     "data": {
      "text/plain": [
       "'geodb_418dfeac-15f0-4606-9edb-fd9eb722bf04'"
      ]
     },
     "execution_count": 4,
     "metadata": {},
     "output_type": "execute_result"
    }
   ],
   "source": [
    "geodb = GeoDBClient()\n",
    "geodb.whoami"
   ]
  },
  {
   "cell_type": "code",
   "execution_count": 5,
   "id": "a4511adb",
   "metadata": {
    "execution": {
     "iopub.execute_input": "2021-07-06T13:55:20.410398Z",
     "iopub.status.busy": "2021-07-06T13:55:20.409093Z",
     "iopub.status.idle": "2021-07-06T13:55:22.530812Z",
     "shell.execute_reply": "2021-07-06T13:55:22.530138Z"
    },
    "papermill": {
     "duration": 2.134407,
     "end_time": "2021-07-06T13:55:22.530926",
     "exception": false,
     "start_time": "2021-07-06T13:55:20.396519",
     "status": "completed"
    },
    "tags": []
   },
   "outputs": [],
   "source": [
    "ds = geodb.get_my_collections()\n",
    "\n",
    "if ds[(ds.database == geodb.whoami) & (ds.table_name == 'land_use')].table_name.count() == 0:\n",
    "    # Have a look at fiona feature schema\n",
    "    collections = {\n",
    "            \"land_use\": \n",
    "            {\n",
    "                \"crs\": 3794,\n",
    "                \"properties\": \n",
    "                {\n",
    "                    \"RABA_PID\": \"float\", \n",
    "                    \"RABA_ID\": \"float\", \n",
    "                    \"D_OD\": \"date\"\n",
    "                }\n",
    "            }\n",
    "        }\n",
    "\n",
    "\n",
    "    geodb.create_collections(collections)\n",
    "    import geopandas\n",
    "    import os\n",
    "    gdf = geopandas.read_file(os.path.expanduser(\"~/.shared/notebooks/eurodatacube/notebooks/getting-started/data/sample/land_use.shp\"))\n",
    "    geodb.insert_into_collection('land_use', gdf)"
   ]
  },
  {
   "cell_type": "markdown",
   "id": "88f209da",
   "metadata": {
    "papermill": {
     "duration": 0.008845,
     "end_time": "2021-07-06T13:55:22.548612",
     "exception": false,
     "start_time": "2021-07-06T13:55:22.539767",
     "status": "completed"
    },
    "tags": []
   },
   "source": [
    "### Publish a Collection to the World"
   ]
  },
  {
   "cell_type": "code",
   "execution_count": 6,
   "id": "650d74fc",
   "metadata": {
    "execution": {
     "iopub.execute_input": "2021-07-06T13:55:22.571405Z",
     "iopub.status.busy": "2021-07-06T13:55:22.570213Z",
     "iopub.status.idle": "2021-07-06T13:55:23.333780Z",
     "shell.execute_reply": "2021-07-06T13:55:23.334127Z"
    },
    "papermill": {
     "duration": 0.775784,
     "end_time": "2021-07-06T13:55:23.334258",
     "exception": false,
     "start_time": "2021-07-06T13:55:22.558474",
     "status": "completed"
    },
    "tags": []
   },
   "outputs": [
    {
     "data": {
      "text/html": [
       "<div>\n",
       "<style scoped>\n",
       "    .dataframe tbody tr th:only-of-type {\n",
       "        vertical-align: middle;\n",
       "    }\n",
       "\n",
       "    .dataframe tbody tr th {\n",
       "        vertical-align: top;\n",
       "    }\n",
       "\n",
       "    .dataframe thead th {\n",
       "        text-align: right;\n",
       "    }\n",
       "</style>\n",
       "<table border=\"1\" class=\"dataframe\">\n",
       "  <thead>\n",
       "    <tr style=\"text-align: right;\">\n",
       "      <th></th>\n",
       "      <th>Grants</th>\n",
       "    </tr>\n",
       "  </thead>\n",
       "  <tbody>\n",
       "    <tr>\n",
       "      <th>0</th>\n",
       "      <td>No Grants</td>\n",
       "    </tr>\n",
       "  </tbody>\n",
       "</table>\n",
       "</div>"
      ],
      "text/plain": [
       "      Grants\n",
       "0  No Grants"
      ]
     },
     "execution_count": 6,
     "metadata": {},
     "output_type": "execute_result"
    }
   ],
   "source": [
    "geodb.list_my_grants()"
   ]
  },
  {
   "cell_type": "code",
   "execution_count": 7,
   "id": "ebc91a40",
   "metadata": {
    "execution": {
     "iopub.execute_input": "2021-07-06T13:55:23.358057Z",
     "iopub.status.busy": "2021-07-06T13:55:23.357398Z",
     "iopub.status.idle": "2021-07-06T13:55:24.752991Z",
     "shell.execute_reply": "2021-07-06T13:55:24.752482Z"
    },
    "papermill": {
     "duration": 1.409814,
     "end_time": "2021-07-06T13:55:24.753104",
     "exception": false,
     "start_time": "2021-07-06T13:55:23.343290",
     "status": "completed"
    },
    "tags": []
   },
   "outputs": [
    {
     "data": {
      "text/plain": [
       "Access granted on land_use to public."
      ]
     },
     "execution_count": 7,
     "metadata": {},
     "output_type": "execute_result"
    }
   ],
   "source": [
    "geodb.publish_collection(\"land_use\")"
   ]
  },
  {
   "cell_type": "markdown",
   "id": "06f4e31d",
   "metadata": {
    "papermill": {
     "duration": 0.009553,
     "end_time": "2021-07-06T13:55:24.772030",
     "exception": false,
     "start_time": "2021-07-06T13:55:24.762477",
     "status": "completed"
    },
    "tags": []
   },
   "source": [
    "### Accessing Collection as a different User\n",
    "\n",
    "Please be aware that you cannot change the user easily within a Notebook. Here, we changed the credentials in the background. The following cells will not run and are for demonstration only."
   ]
  },
  {
   "cell_type": "code",
   "execution_count": 8,
   "id": "a2727e70",
   "metadata": {
    "execution": {
     "iopub.execute_input": "2021-07-06T13:55:24.796380Z",
     "iopub.status.busy": "2021-07-06T13:55:24.795808Z",
     "iopub.status.idle": "2021-07-06T13:55:25.616215Z",
     "shell.execute_reply": "2021-07-06T13:55:25.615704Z"
    },
    "papermill": {
     "duration": 0.834306,
     "end_time": "2021-07-06T13:55:25.616319",
     "exception": false,
     "start_time": "2021-07-06T13:55:24.782013",
     "status": "completed"
    },
    "tags": []
   },
   "outputs": [
    {
     "data": {
      "text/plain": [
       "'geodb_418dfeac-15f0-4606-9edb-fd9eb722bf04'"
      ]
     },
     "execution_count": 8,
     "metadata": {},
     "output_type": "execute_result"
    }
   ],
   "source": [
    "geodb = GeoDBClient()\n",
    "geodb.whoami"
   ]
  },
  {
   "cell_type": "code",
   "execution_count": 9,
   "id": "ceb79dd9",
   "metadata": {
    "execution": {
     "iopub.execute_input": "2021-07-06T13:55:25.639963Z",
     "iopub.status.busy": "2021-07-06T13:55:25.639437Z",
     "iopub.status.idle": "2021-07-06T13:55:25.641415Z",
     "shell.execute_reply": "2021-07-06T13:55:25.640903Z"
    },
    "papermill": {
     "duration": 0.015163,
     "end_time": "2021-07-06T13:55:25.641514",
     "exception": false,
     "start_time": "2021-07-06T13:55:25.626351",
     "status": "completed"
    },
    "tags": []
   },
   "outputs": [],
   "source": [
    "# geodb.get_collection('land_use', database='geodb_admin')"
   ]
  },
  {
   "cell_type": "markdown",
   "id": "dddda2d0",
   "metadata": {
    "papermill": {
     "duration": 0.00932,
     "end_time": "2021-07-06T13:55:25.660159",
     "exception": false,
     "start_time": "2021-07-06T13:55:25.650839",
     "status": "completed"
    },
    "tags": []
   },
   "source": [
    "### Revoke access"
   ]
  },
  {
   "cell_type": "code",
   "execution_count": 10,
   "id": "13ac9d7e",
   "metadata": {
    "execution": {
     "iopub.execute_input": "2021-07-06T13:55:25.684152Z",
     "iopub.status.busy": "2021-07-06T13:55:25.683597Z",
     "iopub.status.idle": "2021-07-06T13:55:26.097542Z",
     "shell.execute_reply": "2021-07-06T13:55:26.097934Z"
    },
    "papermill": {
     "duration": 0.427898,
     "end_time": "2021-07-06T13:55:26.098073",
     "exception": false,
     "start_time": "2021-07-06T13:55:25.670175",
     "status": "completed"
    },
    "tags": []
   },
   "outputs": [
    {
     "data": {
      "text/html": [
       "<div>\n",
       "<style scoped>\n",
       "    .dataframe tbody tr th:only-of-type {\n",
       "        vertical-align: middle;\n",
       "    }\n",
       "\n",
       "    .dataframe tbody tr th {\n",
       "        vertical-align: top;\n",
       "    }\n",
       "\n",
       "    .dataframe thead th {\n",
       "        text-align: right;\n",
       "    }\n",
       "</style>\n",
       "<table border=\"1\" class=\"dataframe\">\n",
       "  <thead>\n",
       "    <tr style=\"text-align: right;\">\n",
       "      <th></th>\n",
       "      <th>database</th>\n",
       "      <th>table_name</th>\n",
       "      <th>grantee</th>\n",
       "      <th>privileges</th>\n",
       "    </tr>\n",
       "  </thead>\n",
       "  <tbody>\n",
       "    <tr>\n",
       "      <th>0</th>\n",
       "      <td>geodb_418dfeac-15f0-4606-9edb-fd9eb722bf04</td>\n",
       "      <td>land_use</td>\n",
       "      <td>PUBLIC</td>\n",
       "      <td>SELECT</td>\n",
       "    </tr>\n",
       "  </tbody>\n",
       "</table>\n",
       "</div>"
      ],
      "text/plain": [
       "                                     database table_name grantee privileges\n",
       "0  geodb_418dfeac-15f0-4606-9edb-fd9eb722bf04   land_use  PUBLIC     SELECT"
      ]
     },
     "execution_count": 10,
     "metadata": {},
     "output_type": "execute_result"
    }
   ],
   "source": [
    "geodb.list_my_grants()"
   ]
  },
  {
   "cell_type": "code",
   "execution_count": 11,
   "id": "12ef6ef9",
   "metadata": {
    "execution": {
     "iopub.execute_input": "2021-07-06T13:55:26.122642Z",
     "iopub.status.busy": "2021-07-06T13:55:26.121939Z",
     "iopub.status.idle": "2021-07-06T13:55:30.128235Z",
     "shell.execute_reply": "2021-07-06T13:55:30.128602Z"
    },
    "papermill": {
     "duration": 4.020953,
     "end_time": "2021-07-06T13:55:30.128734",
     "exception": false,
     "start_time": "2021-07-06T13:55:26.107781",
     "status": "completed"
    },
    "tags": []
   },
   "outputs": [
    {
     "data": {
      "text/plain": [
       "Access revoked from user public on land_use"
      ]
     },
     "execution_count": 11,
     "metadata": {},
     "output_type": "execute_result"
    }
   ],
   "source": [
    "geodb.unpublish_collection(\"land_use\")"
   ]
  },
  {
   "cell_type": "code",
   "execution_count": 12,
   "id": "bf4e8d9e",
   "metadata": {
    "execution": {
     "iopub.execute_input": "2021-07-06T13:55:30.152978Z",
     "iopub.status.busy": "2021-07-06T13:55:30.151917Z",
     "iopub.status.idle": "2021-07-06T13:55:30.661433Z",
     "shell.execute_reply": "2021-07-06T13:55:30.660940Z"
    },
    "papermill": {
     "duration": 0.522794,
     "end_time": "2021-07-06T13:55:30.661552",
     "exception": false,
     "start_time": "2021-07-06T13:55:30.138758",
     "status": "completed"
    },
    "tags": []
   },
   "outputs": [
    {
     "data": {
      "text/html": [
       "<div>\n",
       "<style scoped>\n",
       "    .dataframe tbody tr th:only-of-type {\n",
       "        vertical-align: middle;\n",
       "    }\n",
       "\n",
       "    .dataframe tbody tr th {\n",
       "        vertical-align: top;\n",
       "    }\n",
       "\n",
       "    .dataframe thead th {\n",
       "        text-align: right;\n",
       "    }\n",
       "</style>\n",
       "<table border=\"1\" class=\"dataframe\">\n",
       "  <thead>\n",
       "    <tr style=\"text-align: right;\">\n",
       "      <th></th>\n",
       "      <th>Grants</th>\n",
       "    </tr>\n",
       "  </thead>\n",
       "  <tbody>\n",
       "    <tr>\n",
       "      <th>0</th>\n",
       "      <td>No Grants</td>\n",
       "    </tr>\n",
       "  </tbody>\n",
       "</table>\n",
       "</div>"
      ],
      "text/plain": [
       "      Grants\n",
       "0  No Grants"
      ]
     },
     "execution_count": 12,
     "metadata": {},
     "output_type": "execute_result"
    }
   ],
   "source": [
    "geodb.list_my_grants()"
   ]
  },
  {
   "cell_type": "code",
   "execution_count": 13,
   "id": "aa25661a",
   "metadata": {
    "execution": {
     "iopub.execute_input": "2021-07-06T13:55:30.686604Z",
     "iopub.status.busy": "2021-07-06T13:55:30.685602Z",
     "iopub.status.idle": "2021-07-06T13:55:36.874857Z",
     "shell.execute_reply": "2021-07-06T13:55:36.874380Z"
    },
    "papermill": {
     "duration": 6.20324,
     "end_time": "2021-07-06T13:55:36.874972",
     "exception": false,
     "start_time": "2021-07-06T13:55:30.671732",
     "status": "completed"
    },
    "tags": []
   },
   "outputs": [
    {
     "data": {
      "text/html": [
       "<div>\n",
       "<style scoped>\n",
       "    .dataframe tbody tr th:only-of-type {\n",
       "        vertical-align: middle;\n",
       "    }\n",
       "\n",
       "    .dataframe tbody tr th {\n",
       "        vertical-align: top;\n",
       "    }\n",
       "\n",
       "    .dataframe thead th {\n",
       "        text-align: right;\n",
       "    }\n",
       "</style>\n",
       "<table border=\"1\" class=\"dataframe\">\n",
       "  <thead>\n",
       "    <tr style=\"text-align: right;\">\n",
       "      <th></th>\n",
       "      <th>id</th>\n",
       "      <th>created_at</th>\n",
       "      <th>modified_at</th>\n",
       "      <th>geometry</th>\n",
       "      <th>raba_pid</th>\n",
       "      <th>raba_id</th>\n",
       "      <th>d_od</th>\n",
       "    </tr>\n",
       "  </thead>\n",
       "  <tbody>\n",
       "    <tr>\n",
       "      <th>0</th>\n",
       "      <td>12</td>\n",
       "      <td>2020-09-29T09:23:21.172369+00:00</td>\n",
       "      <td>None</td>\n",
       "      <td>POLYGON ((453673.609 91328.224, 453678.929 913...</td>\n",
       "      <td>5983074</td>\n",
       "      <td>1600</td>\n",
       "      <td>2019-03-26</td>\n",
       "    </tr>\n",
       "    <tr>\n",
       "      <th>1</th>\n",
       "      <td>13</td>\n",
       "      <td>2020-09-29T09:23:21.172369+00:00</td>\n",
       "      <td>None</td>\n",
       "      <td>POLYGON ((460312.295 96127.114, 460300.319 961...</td>\n",
       "      <td>5983199</td>\n",
       "      <td>1600</td>\n",
       "      <td>2019-03-11</td>\n",
       "    </tr>\n",
       "  </tbody>\n",
       "</table>\n",
       "</div>"
      ],
      "text/plain": [
       "   id                        created_at modified_at  \\\n",
       "0  12  2020-09-29T09:23:21.172369+00:00        None   \n",
       "1  13  2020-09-29T09:23:21.172369+00:00        None   \n",
       "\n",
       "                                            geometry  raba_pid  raba_id  \\\n",
       "0  POLYGON ((453673.609 91328.224, 453678.929 913...   5983074     1600   \n",
       "1  POLYGON ((460312.295 96127.114, 460300.319 961...   5983199     1600   \n",
       "\n",
       "         d_od  \n",
       "0  2019-03-26  \n",
       "1  2019-03-11  "
      ]
     },
     "execution_count": 13,
     "metadata": {},
     "output_type": "execute_result"
    }
   ],
   "source": [
    "gdf = geodb.get_collection_by_bbox(collection=\"land_use\", bbox=(452750.0, 88909.549, 464000.0, 102486.299),\n",
    "                comparison_mode=\"contains\", bbox_crs=3794, limit=2, offset=10)\n",
    "gdf"
   ]
  },
  {
   "cell_type": "code",
   "execution_count": null,
   "id": "7f3a346f",
   "metadata": {
    "papermill": {
     "duration": 0.010454,
     "end_time": "2021-07-06T13:55:36.896010",
     "exception": false,
     "start_time": "2021-07-06T13:55:36.885556",
     "status": "completed"
    },
    "tags": []
   },
   "outputs": [],
   "source": []
  }
 ],
 "metadata": {
  "kernelspec": {
   "display_name": "Python 3",
   "language": "python",
   "name": "python3"
  },
  "language_info": {
   "codemirror_mode": {
    "name": "ipython",
    "version": 3
   },
   "file_extension": ".py",
   "mimetype": "text/x-python",
   "name": "python",
   "nbconvert_exporter": "python",
   "pygments_lexer": "ipython3",
   "version": "3.8.10"
  },
  "papermill": {
   "duration": 20.261114,
   "end_time": "2021-07-06T13:55:38.125148",
   "environment_variables": {},
   "exception": null,
   "input_path": "/tmp/tmpnpu88v_d",
   "output_path": "/tmp/notebook_output.ipynb",
   "parameters": {},
   "start_time": "2021-07-06T13:55:17.864034",
   "version": "2.1.2"
  },
  "properties": {
   "authors": [
    {
     "id": "139b9f28-6757-4ffa-8345-3f658eb33850",
     "name": "alicja.balfanz@brockmann-consult.de"
    }
   ],
   "description": "Euro Data Cube GeoDB: Sharing Data",
   "id": "geodb-sharing",
   "license": null,
   "name": "GeoDB: Sharing Data",
   "requirements": [
    "eurodatacube-geodb",
    "eoxhub"
   ],
   "tags": [
    "Getting started",
    "GeoDB"
   ],
   "tosAgree": true,
   "type": "Jupyter Notebook",
   "version": "0.2.1"
  },
  "pycharm": {
   "stem_cell": {
    "cell_type": "raw",
    "metadata": {
     "collapsed": false
    },
    "source": []
   }
  }
 },
 "nbformat": 4,
 "nbformat_minor": 5
}