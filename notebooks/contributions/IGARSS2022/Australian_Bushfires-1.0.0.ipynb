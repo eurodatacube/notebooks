{
 "cells": [
  {
   "cell_type": "markdown",
   "id": "c0340728",
   "metadata": {},
   "source": [
    "# Australian Bushfires\n",
    "\n",
    "## Geo-storytelling with EODASHBOARD and the Euro Data Cube - Notebook #2\n",
    "\n",
    "In this notebook:\n",
    "\n",
    "- [Australian Bushfires story on EODASHBOARD](#EODASHBOARD-Australian-Bushfires-Story)\n",
    "- [Setting an Area of Interest from Open Street Map and Displaying it on a map](#New-South-Wales-AOI)\n",
    "- [Visualising Sentinel-2 data during the bushfire season](#Visualising-Sentinel-2-data-during-the-bushfire-season)\n",
    "- [Visualising Sentinel-2 indices - SWIR](#Request-all-bands-of-the-Sentinel-2-image)\n",
    "- [Getting Carbon Monoxide Data from Sentinel-5p](#Getting-Carbon-Monoxide-Data-from-Sentinel-5p)"
   ]
  },
  {
   "cell_type": "code",
   "execution_count": null,
   "id": "4f71488d",
   "metadata": {},
   "outputs": [],
   "source": [
    "from edc import check_compatibility\n",
    "check_compatibility(\"user-2022.07-00\", dependencies=[\"SH\"])"
   ]
  },
  {
   "cell_type": "markdown",
   "id": "c0efd812",
   "metadata": {
    "tags": []
   },
   "source": [
    "### EODASHBOARD Australian Bushfires Story\n",
    "\n",
    "\n",
    "Australian bushfires in 2019-2020 emitted 700 million metric tons of CO2 into the atmosphere. \n",
    "\n",
    "To access the full story on the Australian Bushfires that took place in 2019-2020 season visit the [Atmosphere Section on EO Dashboard](https://www.eodashboard.org/story?id=australian-bushfires).\n",
    "\n",
    "Atmosphere Datasets can be explored on EO Dashboard in the EXPLORE DATASETS mode (https://eodashboard.org/explore), with the Atmosphere Filter Activated. "
   ]
  },
  {
   "cell_type": "markdown",
   "id": "759c65e4",
   "metadata": {},
   "source": [
    "![Atmos-explore-datasets](Atmosphere-EXPLORE-DATASETS.png) "
   ]
  },
  {
   "cell_type": "markdown",
   "id": "524af6b9",
   "metadata": {},
   "source": [
    "# New South Wales AOI\n",
    "\n",
    "Exploring the EO Dashboard we can visually observe that some of the areas most affected by the bushfires in the 2019-2020 season were in the state of Victoria. The bushfires affected a very large area, but we will restrict our analysis to a smaller region, in order to keep the datasets manageable and to have shorter computation times. \n",
    "\n",
    "Navigating to [Page 3 of the Australian Bushfires Story on EO Dashboard](https://www.eodashboard.org/story?id=australian-bushfires&page=3), we can use the time bar in the interactive map to explore the month of December 2019.\n",
    "\n",
    "![](Australia-2019-12-16.png)\n",
    "\n",
    "\n",
    "## Using the Overpass Turbo API from Open Street Map to extract the polygon of a region\n",
    "\n",
    "The [Overpass turbo API](https://overpass-turbo.eu) is a web-based data filtering tool for [OpenStreetMap](http://www.openstreetmap.org/). \n",
    "\n",
    "In the first step we create a request to fetch the information we are interested in. For further details on how to create the query please look at the manual or have a look at the tutorial mentioned in the introduction.\n",
    "\n",
    "In principle a good approach would be to filter by a tag of interest. You can look for possible tags in multiple places, one practical place is [tagfinder](http://tagfinder.herokuapp.com/). \n",
    "\n",
    "As we are looking at the bushfires in 2019-2020 season in Australia we might be interested in looking for data in an area that was affected by the fires, such as New South Wales. \n",
    "\n",
    "To reduce the data request we will be focusing only on one city in the region, such as Goald Coast.\n",
    "\n",
    "Source: https://overpass-turbo.eu/# "
   ]
  },
  {
   "cell_type": "code",
   "execution_count": null,
   "id": "3a40c7a4",
   "metadata": {},
   "outputs": [],
   "source": [
    "import requests\n",
    "import json\n",
    "overpass_url = \"http://overpass-api.de/api/interpreter\"\n",
    "#area[name=\"Sydney\"][admin_level=6];\n",
    "# define the query \n",
    "\n",
    "overpass_query = \"\"\"\n",
    "[out:json];\n",
    "area[name=\"Gold Coast City\"][admin_level=6];\n",
    "(\n",
    "  relation[\"type\"=\"boundary\"][\"name\"=\"Gold Coast City\"];\n",
    ");\n",
    "out geom;\n",
    "\"\"\"\n",
    "\n",
    "# create the request \n",
    "\n",
    "response = requests.get(overpass_url, params={'data': overpass_query})\n",
    "\n",
    "# get the response \n",
    "\n",
    "data = response.json()\n",
    "\n",
    "# uncomment below to print the response \n",
    "\n",
    "data"
   ]
  },
  {
   "cell_type": "markdown",
   "id": "d1e128b7",
   "metadata": {},
   "source": [
    "### Extract the bounding box \n",
    "\n",
    "The API response indicates the outer contour of the city is composed of many segments. We will retain only the  minlat, minlon, maxlat and maxlon.\n",
    "\n",
    "Recalling here the relevant information from the Overpass API for Gold Coastal City:\n",
    "\n",
    "'bounds': {'minlat': -28.26511,\n",
    "           'minlon': 153.16891,\n",
    "           'maxlat': -27.690395,\n",
    "           'maxlon': 153.5519459}\n",
    "\n",
    "for the specific forest area around Newcastle and Gosford: the Wollemi, Blue Mountain and Yengo National Parks\n",
    "'bounds': {'minlat': -33.962,\n",
    "           'minlon': 149.815,\n",
    "           'maxlat': -32.815,\n",
    "           'maxlon': 151.370}\n"
   ]
  },
  {
   "cell_type": "markdown",
   "id": "d7143a84",
   "metadata": {},
   "source": [
    "### Plot the boundingbox on the map\n",
    "\n",
    "Now that we have the information we are interested in let's do a basic plot using matplotlib to inspect the results. \n",
    "\n",
    "You can then use the requested data to further explore and combine with other datasets to create higher value results.\n"
   ]
  },
  {
   "cell_type": "code",
   "execution_count": null,
   "id": "5436e0dc",
   "metadata": {},
   "outputs": [],
   "source": [
    "import geojson\n",
    "import shapely.wkt\n",
    "\n",
    "# use the coordinates above to construct the boundingbox\n",
    "\n",
    "#Goald Costal City\n",
    "#area = shapely.wkt.loads('POLYGON((153.16549 -28.309585,153.16549 -27.737359,153.665323 -27.737359,153.665323 -28.309585,153.16549 -28.309585))')\n",
    "\n",
    "#National Parks\n",
    "area = shapely.wkt.loads('POLYGON((149.815 -33.962,149.815 -32.815,151.370 -32.810,151.370 -33.962,149.815 -33.962))')\n",
    "\n",
    "gj_feat = geojson.Feature(geometry=area, properties={})\n",
    "\n",
    "gj_feat"
   ]
  },
  {
   "cell_type": "code",
   "execution_count": null,
   "id": "91a43041",
   "metadata": {},
   "outputs": [],
   "source": [
    "import shapely.geometry\n",
    "import IPython.display \n",
    "from IPython.display import GeoJSON\n",
    "IPython.display.GeoJSON(gj_feat)"
   ]
  },
  {
   "cell_type": "markdown",
   "id": "c9c5ed6c",
   "metadata": {},
   "source": [
    "# Visualising Sentinel-2 data during the bushfire season"
   ]
  },
  {
   "cell_type": "markdown",
   "id": "e883c526",
   "metadata": {},
   "source": [
    "In the following cells we will access Sentinel-2 imagery from [Sentinel Hub](https://docs.sentinel-hub.com/api/latest/). Sentinel Hub is a multi-spectral and multi-temporal big data satellite imagery service, capable of fully automated archiving, real-time processing and distribution of remote sensing data and related EO products. Users can use APIs to retrieve satellite data over their AOI and specific time range from full archives in a matter of seconds.\n",
    "\n",
    "The cells below are based on the example notebook available in the [Euro Data Cube Marketplace](https://eurodatacube.com/marketplace). You can access the complete Notebook, including several other examples on how to get started with Sentinel-Hub here: [Using Sentinel Hub Python package in EDC: a starter's guide.](https://eurodatacube.com/marketplace/notebooks/curated/sentinelhub-py.ipynb)"
   ]
  },
  {
   "cell_type": "markdown",
   "id": "39de591d",
   "metadata": {},
   "source": [
    "## Prerequisites\n",
    "\n",
    "Before acccessing the data, we will start by importing the necessary Python libraries (already configured in your EDC workspace), generate credentials automatically to access the services and define the `plot_image` function that can be found in the `utils.py` [file](https://github.com/sentinel-hub/sentinelhub-py/blob/master/examples/utils.py) located in Sentinel Hub's [GitHub repository](https://github.com/sentinel-hub/sentinelhub-py)."
   ]
  },
  {
   "cell_type": "code",
   "execution_count": null,
   "id": "89f13b23",
   "metadata": {},
   "outputs": [],
   "source": [
    "# EDC libraries\n",
    "from edc import setup_environment_variables\n",
    "\n",
    "# Utilities\n",
    "import os\n",
    "import datetime\n",
    "import numpy as np\n",
    "import matplotlib.pyplot as plt\n",
    "from IPython.display import display, Image\n",
    "\n",
    "# Sentinel Hub\n",
    "from sentinelhub import (MimeType, CRS, BBox, SentinelHubRequest, SentinelHubDownloadClient, \n",
    "                         DataCollection, bbox_to_dimensions, DownloadRequest, SHConfig)\n",
    "\n"
   ]
  },
  {
   "cell_type": "markdown",
   "id": "f7b1636b",
   "metadata": {},
   "source": [
    "#### Credentials\n",
    "\n",
    "Credentials for Sentinel Hub services are automatically injected as environement variables. It is therefore easy to populate Sentinel Hub's credential manager with the values."
   ]
  },
  {
   "cell_type": "code",
   "execution_count": null,
   "id": "f695a2c6",
   "metadata": {},
   "outputs": [],
   "source": [
    "# Pass Sentinel Hub credentials to SHConfig\n",
    "\n",
    "config = SHConfig()\n",
    "config.sh_client_id = os.environ[\"SH_CLIENT_ID\"]\n",
    "config.sh_client_secret = os.environ[\"SH_CLIENT_SECRET\"]"
   ]
  },
  {
   "cell_type": "markdown",
   "id": "01d50827",
   "metadata": {},
   "source": [
    "#### Utility function for plotting images\n",
    "\n",
    "In the following cell, we define the `plot_image` function which will be used to display the requested images for all examples demonstrated in this notebook."
   ]
  },
  {
   "cell_type": "code",
   "execution_count": null,
   "id": "405d8807",
   "metadata": {},
   "outputs": [],
   "source": [
    "# Define the plot_image function\n",
    "\n",
    "def plot_image(image, factor=1.0, clip_range = None, **kwargs):\n",
    "    \"\"\"\n",
    "    Utility function for plotting RGB images.\n",
    "    \"\"\"\n",
    "    fig, ax = plt.subplots(nrows=1, ncols=1, figsize=(15, 15))\n",
    "    if clip_range is not None:\n",
    "        ax.imshow(np.clip(image * factor, *clip_range), **kwargs)\n",
    "    else:\n",
    "        ax.imshow(image * factor, **kwargs)\n",
    "    ax.set_xticks([])\n",
    "    ax.set_yticks([])"
   ]
  },
  {
   "cell_type": "code",
   "execution_count": null,
   "id": "8e7925ef",
   "metadata": {},
   "outputs": [],
   "source": [
    "# Configure plots for inline use in Jupyter Notebook\n",
    "\n",
    "%matplotlib inline"
   ]
  },
  {
   "cell_type": "markdown",
   "id": "a246f0d0",
   "metadata": {},
   "source": [
    "## Preview the Sentinel-2 imagery\n",
    "\n",
    "For verification, we downloaded a preview from the [EO Browser over the region](https://sentinelshare.page.link/B4ga) (not exatly the same boundingbox) and stored it in the Images directory. The Sentinel-2 imagery of [New South Wales](https://www.openstreetmap.org/relation/11675459) that we will request from Sentinel Hub will be similar to the preview shown below (Sentinel-2 on 2019-12-21):"
   ]
  },
  {
   "cell_type": "markdown",
   "id": "411d679e",
   "metadata": {},
   "source": [
    "![](Images/2019-12-21-23_59_Sentinel-2_L2A_True_color.jpg)"
   ]
  },
  {
   "cell_type": "markdown",
   "id": "b12d20e6",
   "metadata": {},
   "source": [
    "# Retrieving Sentinel-2 imagery over the area of interest\n",
    "\n",
    "\n",
    "From the interactive map on EO Dashboard we can select relevant dates when the firest were impacting the Area of Interest. Starting from November 2019 we can observe the Carbon Monoxide plume advancing from the south and extending over the Gold Coast City. \n",
    "\n",
    "We will retrieve Sentinel-2 data from the Sentinel Hub. \n",
    "\n",
    "All requests require bounding box to be given as an instance of `sentinelhub.geometry.BBox` with corresponding Coordinate Reference System (`sentinelhub.constants.CRS`). \n",
    "\n",
    "In our case it is in WGS84 and we can use the predefined WGS84 coordinate reference system from `sentinelhub.constants.CRS`.\n",
    "\n",
    "`'bounds': {'minlat': -28.26511, 'minlon': 153.16891, 'maxlat': -27.690395, 'maxlon': 153.5519459}`\n",
    "\n",
    "The boundingbox will have the format: [minlon,mminlat,maxlon,maxlat]"
   ]
  },
  {
   "cell_type": "code",
   "execution_count": null,
   "id": "8c78f9b7",
   "metadata": {},
   "outputs": [],
   "source": [
    "# Define bbox of the form [minlon,mminlat,maxlon,maxlat]\n",
    "minlat=-33.920\n",
    "minlon=149.815\n",
    "maxlat=-32.814\n",
    "maxlon=151.348\n",
    "\n",
    "\n",
    "#minlat=-28.26511\n",
    "#minlon=153.16891\n",
    "#maxlat=-27.690395\n",
    "#maxlon=153.5519459\n",
    "\n",
    "\n",
    "GoldCoast_coords_wgs84 = [minlon,minlat,maxlon,maxlat]"
   ]
  },
  {
   "cell_type": "markdown",
   "id": "df39c4a8",
   "metadata": {},
   "source": [
    "When the bounding box bounds have been defined, you can initialize the BBox of the area of interest. Using the bbox_to_dimensions utility function, you can provide the desired resolution parameter of the image in meters and obtain the output image shape."
   ]
  },
  {
   "cell_type": "code",
   "execution_count": null,
   "id": "e6752fd3",
   "metadata": {},
   "outputs": [],
   "source": [
    "resolution = 60\n",
    "GoldCoast_bbox = BBox(bbox=GoldCoast_coords_wgs84, crs=CRS.WGS84)\n",
    "GoldCoast_size = bbox_to_dimensions(GoldCoast_bbox, resolution=resolution)\n",
    "\n",
    "print(f'Image shape at {resolution} m resolution: {GoldCoast_size} pixels')"
   ]
  },
  {
   "cell_type": "markdown",
   "id": "ac68db05",
   "metadata": {},
   "source": [
    "## Retireve the true color (PNG) Sentinel-2 image on a specific date\n",
    "\n",
    "We build the request according to the [API Reference](https://docs.sentinel-hub.com/api/latest/reference/), using the `SentinelHubRequest` class. Each Process API request also needs an [evalscript](https://docs.sentinel-hub.com/api/latest/#/Evalscript/V3/README).\n",
    "\n",
    "The information that we specify in the `SentinelHubRequest` object is:\n",
    "- an evalscript,\n",
    "- a list of input data collections with time interval,\n",
    "- a format of the response,\n",
    "- a bounding box and it’s size (size or resolution).\n",
    "\n",
    "The evalscript in the example is used to select the appropriate bands. We return the RGB (B04, B03, B02) Sentinel-2 L1C bands.\n",
    "\n",
    "The image from November 22nd 2019 is downloaded. Without any additional parameters in the evalscript, the downloaded data will correspond to reflectance values in `UINT8` format (values in 0-255 range)."
   ]
  },
  {
   "cell_type": "code",
   "execution_count": null,
   "id": "536c84db",
   "metadata": {},
   "outputs": [],
   "source": [
    "# define the evalscript \n",
    "\n",
    "evalscript_true_color = \"\"\"\n",
    "    //VERSION=3\n",
    "\n",
    "    function setup() {\n",
    "        return {\n",
    "            input: [{\n",
    "                bands: [\"B02\", \"B03\", \"B04\"]\n",
    "            }],\n",
    "            output: {\n",
    "                bands: 3\n",
    "            }\n",
    "        };\n",
    "    }\n",
    "\n",
    "    function evaluatePixel(sample) {\n",
    "        return [sample.B04, sample.B03, sample.B02];\n",
    "    }\n",
    "\"\"\"\n",
    "\n",
    "# we nned to specify the collection and the time interval\n",
    "# for a list of collections available in the Sentinel Hub visit https://docs.sentinel-hub.com/api/latest/data/ \n",
    "\n",
    "request_true_color = SentinelHubRequest(\n",
    "    evalscript=evalscript_true_color,\n",
    "    input_data=[\n",
    "        SentinelHubRequest.input_data(\n",
    "            data_collection=DataCollection.SENTINEL2_L1C, \n",
    "            time_interval=('2019-12-21', '2019-12-21'),\n",
    "        )\n",
    "    ],\n",
    "    responses=[\n",
    "        SentinelHubRequest.output_response('default', MimeType.PNG)\n",
    "    ],\n",
    "    bbox=GoldCoast_bbox,\n",
    "    size=GoldCoast_size,\n",
    "    config=config\n",
    ")"
   ]
  },
  {
   "cell_type": "code",
   "execution_count": null,
   "id": "bc53b2f1",
   "metadata": {},
   "outputs": [],
   "source": [
    "# send the request to Sentinel Hub\n",
    "\n",
    "true_color_imgs = request_true_color.get_data()"
   ]
  },
  {
   "cell_type": "markdown",
   "id": "238f58a4",
   "metadata": {},
   "source": [
    "The method `get_data()` will always return a list of length 1 with the available image from the requested time interval in the form of numpy arrays."
   ]
  },
  {
   "cell_type": "code",
   "execution_count": null,
   "id": "c943df30",
   "metadata": {},
   "outputs": [],
   "source": [
    "print(f'Returned data is of type = {type(true_color_imgs)} and length {len(true_color_imgs)}.')\n",
    "print(f'Single element in the list is of type {type(true_color_imgs[-1])} and has shape {true_color_imgs[-1].shape}')"
   ]
  },
  {
   "cell_type": "code",
   "execution_count": null,
   "id": "48773bfe",
   "metadata": {},
   "outputs": [],
   "source": [
    "image = true_color_imgs[0]\n",
    "print(f'Image type: {image.dtype}')\n",
    "\n",
    "# plot function\n",
    "# factor 1/255 to scale between 0-1\n",
    "# factor 3.5 to increase brightness\n",
    "plot_image(image, factor=3.5/255, clip_range=(0,1))"
   ]
  },
  {
   "cell_type": "markdown",
   "id": "4dc8c441",
   "metadata": {},
   "source": [
    "# Visualising Sentinel-2 indices - SWIR\n",
    "\n",
    "Sentinel-2 images have [13 bands](https://sentinels.copernicus.eu/web/sentinel/user-guides/sentinel-2-msi/resolutions/radiometric). To learn more about Sentinel-2 MSI instrument and available products visit the [Sentinel-2 webpage](https://sentinels.copernicus.eu/web/sentinel/user-guides/sentinel-2-msi).\n",
    "\n",
    "### Optimising the request \n",
    "\n",
    "We will retrieve the data from Sentinel Hub.\n",
    "\n",
    "To get more details about how Sentinel Hub returns the values of the requested data visit: [How Are The Values Calculated Within Sentinel Hub And How Are They Returned As An Output?](https://www.sentinel-hub.com/faq/how-are-values-calculated-within-sentinel-hub-and-how-are-they-returned-output/)\n",
    "\n",
    "When we are downloading big chunks of data, it is important to consider ways to optimize the request. One way to reduce the amount of data downloaded is to get raw digital numbers as `INT16` instead of getting reflectances which are `FLOAT32`. Less data means a faster download and a smaller usage of Sentinel Hub processing units.\n",
    "\n",
    "In order to achieve this, we set the input units to `DN` (digital numbers) and the output `sampleType` argument to `INT16`. \n",
    "\n",
    "Given that Sentinel-2 has 13 bands, we have to set the output image type to the `TIFF` format via `MimeType.TIFF` in the request if we want to retrieve all the bands. In the cell below we are asking only for 3 bands but will use this procedure for exemplification.\n",
    "\n",
    "The dynamic range of the digital numbers is 0-10000, so for visualisation we have to scale the downloaded data appropriately.\n",
    "\n",
    "The following cell will return the bands B12, B8A and B04 necessary to compute the SWIR index of the Sentinel-2 Level 2A product. More information here: https://custom-scripts.sentinel-hub.com/sentinel-2/swir-rgb/"
   ]
  },
  {
   "cell_type": "code",
   "execution_count": null,
   "id": "b8b8b937",
   "metadata": {},
   "outputs": [],
   "source": [
    "#define an evalscript with the function to get all 13 bands of the Sentinel-2 image\n",
    "evalscript_SWIR = \"\"\"\n",
    "    //VERSION=3\n",
    "\n",
    "    function setup() {\n",
    "        return {\n",
    "            input: [{\n",
    "                bands: [\"B12\", \"B8A\", \"B04\"]\n",
    "            }],\n",
    "            output: {\n",
    "                bands: 3\n",
    "            }\n",
    "        };\n",
    "    }\n",
    "\n",
    "    function evaluatePixel(sample) {\n",
    "        return [sample.B12, sample.B8A, sample.B04];\n",
    "    }\n",
    "\"\"\"\n",
    "\n",
    "\n",
    "#call the function\n",
    "\n",
    "request_SWIR = SentinelHubRequest(\n",
    "    evalscript=evalscript_SWIR,\n",
    "    input_data=[\n",
    "        SentinelHubRequest.input_data(\n",
    "            data_collection=DataCollection.SENTINEL2_L2A,\n",
    "            time_interval=('2019-12-16', '2019-12-16'),\n",
    "            mosaicking_order='leastCC'\n",
    "    )],\n",
    "    responses=[\n",
    "        SentinelHubRequest.output_response('default', MimeType.TIFF)\n",
    "    ],\n",
    "    bbox=GoldCoast_bbox,\n",
    "    size=GoldCoast_size,\n",
    "    config=config\n",
    ")"
   ]
  },
  {
   "cell_type": "code",
   "execution_count": null,
   "id": "c65e2ca4",
   "metadata": {},
   "outputs": [],
   "source": [
    "SWIR_response = request_SWIR.get_data()"
   ]
  },
  {
   "cell_type": "code",
   "execution_count": null,
   "id": "da6a5410",
   "metadata": {},
   "outputs": [],
   "source": [
    "# Image showing the SWIR band B12\n",
    "# Factor 1/1e4 due to the DN band values in the range 0-10000\n",
    "# Factor 3.5 to increase the brightness\n",
    "plot_image(SWIR_response[0], factor=2.5/255, clip_range=(0,1))"
   ]
  },
  {
   "cell_type": "markdown",
   "id": "ee3059d5",
   "metadata": {},
   "source": [
    "# Getting Carbon Monoxide Data from Sentinel-5p\n",
    "\n",
    "In the following sections we will see how to access Sentinel-5p Level 2 data from Sentinel Hub using the xcube service, as well as the reprocessed Sentinel-5p Level 3 products which are displayed on EO Dashboard. \n",
    "On the reprocessed data, we will use the Sentinel Hub Statistical API to extract time series over the area of interest defined before.\n",
    "\n",
    "For more informaiton about the Sentinel-5p Level 2 products please refer to the Algorithm Theoretical Basis Document (ATBD) available on [this page](http://www.tropomi.eu/data-products/carbon-monoxide)."
   ]
  },
  {
   "cell_type": "code",
   "execution_count": null,
   "id": "098e9585",
   "metadata": {},
   "outputs": [],
   "source": [
    "from edc import print_info\n",
    "print_info(\"sh-data-access\")"
   ]
  },
  {
   "cell_type": "code",
   "execution_count": null,
   "id": "2fb45fe2",
   "metadata": {},
   "outputs": [],
   "source": [
    "# xcube_sh imports\n",
    "from xcube_sh.cube import open_cube\n",
    "from xcube_sh.config import CubeConfig\n",
    "from xcube_sh.observers import Observers\n",
    "from xcube_sh.viewer import ViewerServer\n",
    "\n",
    "# xcube imports\n",
    "from xcube.core.maskset import MaskSet\n",
    "from xcube.core.geom import mask_dataset_by_geometry\n",
    "from xcube.core.geom import clip_dataset_by_geometry\n",
    "\n",
    "# Various utilities\n",
    "import json\n",
    "import xarray as xr\n",
    "import shapely.geometry\n",
    "import IPython.display\n",
    "import zarr"
   ]
  },
  {
   "cell_type": "code",
   "execution_count": null,
   "id": "14c58bd4",
   "metadata": {},
   "outputs": [],
   "source": [
    "%matplotlib inline"
   ]
  },
  {
   "cell_type": "code",
   "execution_count": null,
   "id": "c3c1d6e1",
   "metadata": {},
   "outputs": [],
   "source": [
    "x1 = minlon # degree\n",
    "y1 = minlat  # degree\n",
    "x2 = maxlon  # degree\n",
    "y2 = maxlat  # degree\n",
    "\n",
    "bbox = x1, y1, x2, y2"
   ]
  },
  {
   "cell_type": "markdown",
   "id": "36f240ce",
   "metadata": {},
   "source": [
    "Visualize the bounding box. If you don't see anything, please refer to EDC Setup example [here](https://eurodatacube.com/marketplace/notebooks/curated/EDC_Sentinel_Hub-Setup)."
   ]
  },
  {
   "cell_type": "code",
   "execution_count": null,
   "id": "24f3b3d7",
   "metadata": {},
   "outputs": [],
   "source": [
    "IPython.display.GeoJSON(shapely.geometry.box(*bbox).__geo_interface__)"
   ]
  },
  {
   "cell_type": "code",
   "execution_count": null,
   "id": "2cf27292",
   "metadata": {},
   "outputs": [],
   "source": [
    "spatial_res = 0.035   # = 3.5 km in degree>"
   ]
  },
  {
   "cell_type": "code",
   "execution_count": null,
   "id": "61a10402",
   "metadata": {},
   "outputs": [],
   "source": [
    "cube_config = CubeConfig(dataset_name='sentinel-5p-l2',\n",
    "                         band_names=['CO'],\n",
    "                         tile_size=[1835, 2338],\n",
    "                         bbox=bbox,\n",
    "                         spatial_res=spatial_res,\n",
    "                         time_range=['2019-10-01', '2019-12-31'],\n",
    "                         time_period='2D')"
   ]
  },
  {
   "cell_type": "markdown",
   "id": "a6ea8fbc",
   "metadata": {},
   "source": [
    "We define a request_collector as an observer for SH requests made, so we can show SH usage stats. This is a developer tool, useful for demonstration purposes too. Otherwise, this is not needed."
   ]
  },
  {
   "cell_type": "code",
   "execution_count": null,
   "id": "d4bebb5b",
   "metadata": {},
   "outputs": [],
   "source": [
    "request_collector = Observers.request_collector()"
   ]
  },
  {
   "cell_type": "markdown",
   "id": "f5b406dc",
   "metadata": {},
   "source": [
    "Open a data cube:"
   ]
  },
  {
   "cell_type": "code",
   "execution_count": null,
   "id": "2ce60361",
   "metadata": {},
   "outputs": [],
   "source": [
    "cube = open_cube(cube_config, observer=request_collector)"
   ]
  },
  {
   "cell_type": "code",
   "execution_count": null,
   "id": "d4384012",
   "metadata": {},
   "outputs": [],
   "source": [
    "cube"
   ]
  },
  {
   "cell_type": "markdown",
   "id": "62aac3fc",
   "metadata": {},
   "source": [
    "No requests have been made yet. Requests are made only if data is actually required."
   ]
  },
  {
   "cell_type": "code",
   "execution_count": null,
   "id": "d11469ce",
   "metadata": {},
   "outputs": [],
   "source": [
    "request_collector.stats"
   ]
  },
  {
   "cell_type": "markdown",
   "id": "0bafa213",
   "metadata": {},
   "source": [
    "Note, the cube's time coordinates are monotonically increasing and the distance between two time steps is varying:"
   ]
  },
  {
   "cell_type": "code",
   "execution_count": null,
   "id": "341b2778",
   "metadata": {},
   "outputs": [],
   "source": [
    "cube.time.diff(dim='time').plot.line()"
   ]
  },
  {
   "cell_type": "code",
   "execution_count": null,
   "id": "96c30a02",
   "metadata": {
    "tags": []
   },
   "outputs": [],
   "source": [
    "#cube.CO\n",
    "s5p_co = cube.CO\n",
    "s5p_co"
   ]
  },
  {
   "cell_type": "markdown",
   "id": "77d6868f",
   "metadata": {},
   "source": [
    "To set the visualisation limits, get the maximum value in the dataset"
   ]
  },
  {
   "cell_type": "code",
   "execution_count": null,
   "id": "d034d9ee",
   "metadata": {},
   "outputs": [],
   "source": [
    "import pandas as pd\n",
    "\n",
    "co_values = list() \n",
    "timestamp = list()\n",
    "\n",
    "for i in range(cube.time.shape[0]):\n",
    "    co_values.append(np.nanmean(cube.CO.isel(time=i).values[0]))\n",
    "    timestamp.append(cube.CO.isel(time=i).time.values)\n",
    "        \n",
    "assert len(co_values) == len(timestamp)\n",
    "    \n",
    "pd.DataFrame({'DateTime': timestamp, 'Mean CO': co_values})"
   ]
  },
  {
   "cell_type": "code",
   "execution_count": null,
   "id": "4e65e777",
   "metadata": {},
   "outputs": [],
   "source": [
    "s5p_co_2912 = cube.CO.sel(time='2019-12-17', method='nearest')\n",
    "\n",
    "#cube.CO.sel(time='2019-12-16 10:00:00', method='nearest').plot.imshow(vmin=0, vmax=0.08, cmap='rainbow', figsize=(10,9))"
   ]
  },
  {
   "cell_type": "code",
   "execution_count": null,
   "id": "19e2511c",
   "metadata": {},
   "outputs": [],
   "source": [
    "s5p_co_2912.plot.pcolormesh(cmap='viridis',figsize=(10,9))"
   ]
  },
  {
   "cell_type": "code",
   "execution_count": null,
   "id": "104b3bd6",
   "metadata": {},
   "outputs": [],
   "source": [
    "def visualize_pcolormesh(data_array, longitude, latitude, projection, color_scale, unit, long_name, vmin, vmax, \n",
    "                         set_global=True, lonmin=-180, lonmax=180, latmin=-90, latmax=90):\n",
    "    \"\"\" \n",
    "    Visualizes a xarray.DataArray with matplotlib's pcolormesh function.\n",
    "    \n",
    "    Parameters:\n",
    "        data_array(xarray.DataArray): xarray.DataArray holding the data values\n",
    "        longitude(xarray.DataArray): xarray.DataArray holding the longitude values\n",
    "        latitude(xarray.DataArray): xarray.DataArray holding the latitude values\n",
    "        projection(str): a projection provided by the cartopy library, e.g. ccrs.PlateCarree()\n",
    "        color_scale(str): string taken from matplotlib's color ramp reference\n",
    "        unit(str): the unit of the parameter, taken from the NetCDF file if possible\n",
    "        long_name(str): long name of the parameter, taken from the NetCDF file if possible\n",
    "        vmin(int): minimum number on visualisation legend\n",
    "        vmax(int): maximum number on visualisation legend\n",
    "        set_global(boolean): optional kwarg, default is True\n",
    "        lonmin,lonmax,latmin,latmax(float): optional kwarg, set geographic extent is set_global kwarg is set to \n",
    "                                            False\n",
    "\n",
    "    \"\"\"\n",
    "    fig=plt.figure(figsize=(20, 10))\n",
    "\n",
    "    ax = plt.axes(projection=projection)\n",
    "   \n",
    "    img = plt.pcolormesh(longitude, latitude, data_array, \n",
    "                        cmap=plt.get_cmap(color_scale), transform=ccrs.PlateCarree(),\n",
    "                        vmin=vmin,\n",
    "                        vmax=vmax,\n",
    "                        shading='auto')\n",
    "\n",
    "    ax.add_feature(cfeature.BORDERS, edgecolor='black', linewidth=1)\n",
    "    ax.add_feature(cfeature.COASTLINE, edgecolor='black', linewidth=1)\n",
    "\n",
    "    if (projection==ccrs.PlateCarree()):\n",
    "        ax.set_extent([lonmin, lonmax, latmin, latmax], projection)\n",
    "        gl = ax.gridlines(draw_labels=True, linestyle='--')\n",
    "        gl.top_labels=False\n",
    "        gl.right_labels=False\n",
    "        gl.xformatter=LONGITUDE_FORMATTER\n",
    "        gl.yformatter=LATITUDE_FORMATTER\n",
    "        gl.xlabel_style={'size':14}\n",
    "        gl.ylabel_style={'size':14}\n",
    "\n",
    "    if(set_global):\n",
    "        ax.set_global()\n",
    "        ax.gridlines()\n",
    "\n",
    "    cbar = fig.colorbar(img, ax=ax, orientation='horizontal', fraction=0.04, pad=0.1)\n",
    "    cbar.set_label(unit, fontsize=16)\n",
    "    cbar.ax.tick_params(labelsize=14)\n",
    "    ax.set_title(long_name, fontsize=20, pad=20.0)\n",
    "\n",
    " #   plt.show()\n",
    "    return fig, ax"
   ]
  },
  {
   "cell_type": "code",
   "execution_count": null,
   "id": "5b546e56",
   "metadata": {},
   "outputs": [],
   "source": [
    "%matplotlib inline\n",
    "import os\n",
    "import xarray as xr\n",
    "import numpy as np\n",
    "import netCDF4 as nc\n",
    "\n",
    "import matplotlib.pyplot as plt\n",
    "from matplotlib.colors import LogNorm\n",
    "import cartopy.crs as ccrs\n",
    "from cartopy.mpl.gridliner import LONGITUDE_FORMATTER, LATITUDE_FORMATTER\n",
    "import cartopy.feature as cfeature\n",
    "\n",
    "from matplotlib.axes import Axes\n",
    "from cartopy.mpl.geoaxes import GeoAxes\n",
    "GeoAxes._pcolormesh_patched = Axes.pcolormesh\n",
    "\n",
    "\n",
    "\n",
    "visualize_pcolormesh(data_array=s5p_co_2912, \n",
    "                     longitude=s5p_co_2912.lon, \n",
    "                     latitude=s5p_co_2912.lat, \n",
    "                     projection=ccrs.PlateCarree(), \n",
    "                     color_scale='viridis', \n",
    "                     unit='*1e-18 molecules per cm2', \n",
    "                     long_name='CO', \n",
    "                     vmin=0.015,\n",
    "                     vmax=0.03,\n",
    "                     lonmin=minlon, \n",
    "                     lonmax=maxlon, \n",
    "                     latmin=minlat, \n",
    "                     latmax=maxlat, \n",
    "                     set_global=False)"
   ]
  },
  {
   "cell_type": "code",
   "execution_count": null,
   "id": "6bba40e5",
   "metadata": {},
   "outputs": [],
   "source": []
  },
  {
   "cell_type": "markdown",
   "id": "1145fa83",
   "metadata": {},
   "source": [
    "## Accessing TROPOMI CO data with Statistical API"
   ]
  },
  {
   "cell_type": "code",
   "execution_count": null,
   "id": "bd60b149",
   "metadata": {},
   "outputs": [],
   "source": [
    "#!/usr/bin/python\n",
    "\n",
    "from oauthlib.oauth2 import BackendApplicationClient\n",
    "from requests_oauthlib import OAuth2Session\n",
    "import json\n",
    "\n",
    "# Your client credentials\n",
    "client_id = config.sh_client_id\n",
    "client_secret = config.sh_client_secret\n",
    "\n",
    "# Create a session\n",
    "client = BackendApplicationClient(client_id=client_id)\n",
    "oauth = OAuth2Session(client=client)\n",
    "\n",
    "# Get token for the session\n",
    "token = oauth.fetch_token(token_url='https://services.sentinel-hub.com/oauth/token',\n",
    "                          client_secret=client_secret)\n",
    "\n",
    "header = {\"content-type\": \"application/json\"}\n",
    "\n",
    "json_body = {\n",
    "    \"input\": {\n",
    "        \"bounds\": {\n",
    "            \"geometry\": {\n",
    "                \"type\": \"Polygon\",\n",
    "                \"coordinates\": [\n",
    "                    [\n",
    "                        [\n",
    "                            minlon,\n",
    "                            minlat\n",
    "                        ],\n",
    "                        [\n",
    "                            minlon,\n",
    "                            maxlat\n",
    "                        ],\n",
    "                        [\n",
    "                            maxlon,\n",
    "                            maxlat\n",
    "                        ],\n",
    "                        [\n",
    "                            maxlon,\n",
    "                            minlat\n",
    "                        ],\n",
    "                        [\n",
    "                            minlon,\n",
    "                            minlat\n",
    "                        ]\n",
    "                    ]\n",
    "                ]\n",
    "            }\n",
    "        },\n",
    "        \"data\": [\n",
    "            {\n",
    "                \"dataFilter\": {\n",
    "\n",
    "                },\n",
    "                \"type\": \"byoc-57a07405-8ec2-4b9c-a273-23e287c173f8\"\n",
    "            }\n",
    "        ]\n",
    "    },\n",
    "    \"aggregation\": {\n",
    "        \"timeRange\": {\n",
    "            \"from\": \"2019-11-01T00:00:00Z\",\n",
    "            \"to\": \"2020-01-31T00:00:00Z\"\n",
    "        },\n",
    "        \"aggregationInterval\": {\n",
    "            \"of\": \"P3D\"\n",
    "        },\n",
    "        \"width\": 100,\n",
    "        \"height\": 100,\n",
    "        \"evalscript\": '''\n",
    "            //VERSION=3\\n\n",
    "            function setup() {\\n\n",
    "            return {\\n\n",
    "                input: [{\\n\n",
    "                bands: [\\n\n",
    "                    \\\"co\\\",\\n\n",
    "                    \\\"dataMask\\\"\\n\n",
    "                ]\\n\n",
    "                }],\\n\n",
    "                output: [\\n\n",
    "                {\\n\n",
    "                    id: \\\"data\\\",\\n\n",
    "                    bands: 1,\\n\n",
    "                    sampleType: \\\"FLOAT32\\\"\\n\n",
    "                },\\n\n",
    "                {\\n\n",
    "                    id: \\\"dataMask\\\",\\n\n",
    "                    bands: 1\\n\n",
    "                }\\n\n",
    "                ]\\n\n",
    "            }\\n\n",
    "            }\\n\n",
    "            function evaluatePixel(samples) {\\n\n",
    "            let validValue = 1\\n\n",
    "            if (samples.co >= 1e20 ){\\n\n",
    "                validValue = 0\\n\n",
    "            }\\n\n",
    "            let index = samples.co;\\n\n",
    "            return {\\n\n",
    "                data:  [index],\\n\n",
    "                dataMask: [samples.dataMask * validValue]\\n\n",
    "            }\\n\n",
    "            }'''\n",
    "        },\n",
    "        \"calculations\": {\n",
    "            \"default\": {\n",
    "\n",
    "            }\n",
    "        }\n",
    "}\n",
    "\n",
    "url = \"https://services.sentinel-hub.com/api/v1/statistics\"\n",
    "resp = oauth.post(\n",
    "    url, data =json.dumps(json_body), headers=header\n",
    ")\n",
    "\n",
    "if resp.status_code == 200:\n",
    "    try:\n",
    "        respjson = resp.json()\n",
    "        response_status = respjson[\"status\"]\n",
    "    except Exception:\n",
    "        print(\"Issue parsing response\")\n",
    "\n",
    "print(respjson)\n",
    "respjson"
   ]
  },
  {
   "cell_type": "code",
   "execution_count": null,
   "id": "0f50558b",
   "metadata": {},
   "outputs": [],
   "source": [
    "from datetime import datetime\n"
   ]
  },
  {
   "cell_type": "code",
   "execution_count": null,
   "id": "09493031",
   "metadata": {},
   "outputs": [],
   "source": [
    "time_lst = []\n",
    "mean_lst = []\n",
    "for entry in respjson['data']:\n",
    "    interval_time = entry['interval']\n",
    "    time_lst.append(interval_time['from'])\n",
    "    mean_value = entry['outputs']['data']['bands']['B0']['stats']['mean']\n",
    "    mean_lst.append(mean_value)\n",
    "\n",
    "time_axis = []\n",
    "new_list = [s.replace(\"Z\", \"\") for s in time_lst]\n",
    "\n",
    "for j in range(len(time_lst)):\n",
    "    time_axis.append(datetime.strptime(new_list[j], '%Y-%m-%dT%H:%M:%S').strftime('%Y/%m/%d'))"
   ]
  },
  {
   "cell_type": "code",
   "execution_count": null,
   "id": "5c5eb031",
   "metadata": {},
   "outputs": [],
   "source": [
    "fig = plt.figure(figsize=(20,10))\n",
    "plt.plot_date(time_axis, mean_lst, linestyle='solid', linewidth=1)\n",
    "plt.title('Mean of timeseries data')\n",
    "fig.autofmt_xdate()\n",
    "plt.show()"
   ]
  },
  {
   "cell_type": "code",
   "execution_count": null,
   "id": "6016de74",
   "metadata": {},
   "outputs": [],
   "source": []
  }
 ],
 "metadata": {
  "kernelspec": {
   "display_name": "Python [conda env:edc-default-2022.07-00]",
   "language": "python",
   "name": "conda-env-edc-default-2022.07-00-py"
  },
  "language_info": {
   "codemirror_mode": {
    "name": "ipython",
    "version": 3
   },
   "file_extension": ".py",
   "mimetype": "text/x-python",
   "name": "python",
   "nbconvert_exporter": "python",
   "pygments_lexer": "ipython3",
   "version": "3.9.13"
  }
 },
 "nbformat": 4,
 "nbformat_minor": 5
}
