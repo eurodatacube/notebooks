{
 "cells": [
  {
   "cell_type": "code",
   "execution_count": null,
   "id": "bd6aec2b",
   "metadata": {
    "papermill": {
     "duration": 0.20069,
     "end_time": "2022-07-05T10:50:38.543816",
     "exception": false,
     "start_time": "2022-07-05T10:50:38.343126",
     "status": "completed"
    },
    "tags": []
   },
   "outputs": [],
   "source": [
    "from eoxhub import check_compatibility\n",
    "check_compatibility(\"user-2022.06-03\", dependencies=[\"SH\", \"GEODB\"])"
   ]
  },
  {
   "cell_type": "markdown",
   "id": "d4c49345",
   "metadata": {
    "papermill": {
     "duration": 0.024547,
     "end_time": "2022-07-05T10:50:38.591406",
     "exception": false,
     "start_time": "2022-07-05T10:50:38.566859",
     "status": "completed"
    },
    "tags": []
   },
   "source": [
    "# Environmental Impacts of Lockdown in Venice, Italy during 2020\n",
    "\n",
    "## Geo-storytelling with EODASHBOARD and the Euro Data Cube - Notebook #2"
   ]
  },
  {
   "cell_type": "markdown",
   "id": "51a9a148",
   "metadata": {
    "papermill": {
     "duration": 0.052871,
     "end_time": "2022-07-05T10:50:38.686609",
     "exception": false,
     "start_time": "2022-07-05T10:50:38.633738",
     "status": "completed"
    },
    "tags": []
   },
   "source": [
    "This notebook looks at the impact of the mobility restrictions imposed in the Italian region Veneto during the Covid-19 pandemic to restrict the spread of the virus. \n",
    "\n",
    "It uses Earth Observation data from ESA, NASA and JAXA from the [EO Dashboard](https://eodashboard.org), together with other geospatial data as well as non-EO information.\n",
    "\n",
    "To read more about the tri-agency collaboration visit https://eodashboard.org. "
   ]
  },
  {
   "cell_type": "markdown",
   "id": "00abcc00",
   "metadata": {
    "papermill": {
     "duration": 0.019091,
     "end_time": "2022-07-05T10:50:38.729938",
     "exception": false,
     "start_time": "2022-07-05T10:50:38.710847",
     "status": "completed"
    },
    "tags": []
   },
   "source": [
    "## In this Notebook:\n",
    "\n",
    "1. [We download and plot open data about mobility over the region of Veneto and determine extreme values associated with the lockdown](#Covid-Mobility-Data-from-Google)\n",
    "2. [We then access vessel density data in the venice Lagoon and evaluate the reduction in vessel traffic during the lockdown](#Requesting-Vessel-Density-Data)\n",
    "3. [Using the extreme value's date as a proxy for the period of reduced activity, we request NASA nightlight data and visually inspect if changes are visible](#Using-the-NASA-API-to-retreive-nightlights-data)\n",
    "4. [We inspect whether an environmental impact of the activity reduciton is visible in the water quality in the lagoon by visually inspecting Copernicus Sentinel-2 imagery](#Retreiving-Sentinel-2-imagery-over-the-Island-of-Venice)\n",
    "5. [We proceed to access and visualise Chlorophyll-a concentration maps in the Venice lagoon](#Requesting-Water-Quality-Data-from-JAXA)\n",
    "6. [We access water quality time series and inspect the Chlorophyll-a variation compared to the climatology](#Retreiving-water-quality-time-series-from-GeoDB)"
   ]
  },
  {
   "cell_type": "markdown",
   "id": "328da602",
   "metadata": {
    "papermill": {
     "duration": 0.040292,
     "end_time": "2022-07-05T10:50:38.802720",
     "exception": false,
     "start_time": "2022-07-05T10:50:38.762428",
     "status": "completed"
    },
    "tags": []
   },
   "source": [
    "### Permissions and Package Download"
   ]
  },
  {
   "cell_type": "code",
   "execution_count": null,
   "id": "4049023b",
   "metadata": {
    "papermill": {
     "duration": 3.618549,
     "end_time": "2022-07-05T10:50:42.441430",
     "exception": false,
     "start_time": "2022-07-05T10:50:38.822881",
     "status": "completed"
    },
    "tags": []
   },
   "outputs": [],
   "source": [
    "#Import necessary packages\n",
    "\n",
    "import concurrent.futures\n",
    "import datetime as dt\n",
    "from ipyleaflet import basemaps, Map, GeoJSON\n",
    "import json\n",
    "import requests as re\n",
    "import matplotlib.pyplot as plt\n",
    "import pprint\n",
    "import time\n",
    "import datetime\n",
    "import csv\n",
    "import requests\n",
    "import numpy as np\n",
    "import sys\n",
    "import pandas as pd\n",
    "import geojson\n",
    "import requests as re\n",
    "from ipyleaflet import Map, basemaps, basemap_to_tiles, TileLayer, SplitMapControl\n",
    "import warnings\n",
    "warnings.filterwarnings('ignore')\n",
    "\n",
    "from bokeh.plotting import figure, show, output_notebook\n",
    "from bokeh.models import ColumnDataSource\n",
    "from bokeh.palettes import Spectral3\n",
    "from bokeh.palettes import Spectral6\n",
    "from bokeh.transform import factor_cmap\n",
    "from __future__ import print_function\n",
    "from ipywidgets import interact, interactive, fixed, interact_manual\n",
    "import ipywidgets as widgets\n",
    "import matplotlib.patches as mpatches\n",
    "\n",
    "\n",
    "# Configure plots for inline use in Jupyter Notebook\n",
    "%matplotlib inline"
   ]
  },
  {
   "cell_type": "code",
   "execution_count": null,
   "id": "d62aabaf",
   "metadata": {
    "papermill": {
     "duration": 1.324738,
     "end_time": "2022-07-05T10:50:43.798713",
     "exception": false,
     "start_time": "2022-07-05T10:50:42.473975",
     "status": "completed"
    },
    "tags": []
   },
   "outputs": [],
   "source": [
    "# Time Series data in Step 6. are store in the geodatabase, so we check if the xcube_geodb service is active\n",
    "\n",
    "from edc import check_compatibility\n",
    "from xcube_geodb.core.geodb import GeoDBClient\n",
    "geodb = GeoDBClient()\n",
    "geodb.whoami"
   ]
  },
  {
   "cell_type": "code",
   "execution_count": null,
   "id": "7725eaeb",
   "metadata": {
    "papermill": {
     "duration": 0.608204,
     "end_time": "2022-07-05T10:50:44.435222",
     "exception": false,
     "start_time": "2022-07-05T10:50:43.827018",
     "status": "completed"
    },
    "tags": []
   },
   "outputs": [],
   "source": [
    "# Sentinel-2 imagery and the water quality maps that we use in Steps 4. and 5. will be accessed from the Sentinel Hub. \n",
    "# Here we make sure that the data needed for the authentication to use the Sentinel Hub services is available, and we establish a session \n",
    "\n",
    "import os\n",
    "from oauthlib.oauth2 import BackendApplicationClient\n",
    "from requests_oauthlib import OAuth2Session\n",
    "# Your client credentials\n",
    "client_id = os.environ['SH_CLIENT_ID']\n",
    "client_secret = os.environ['SH_CLIENT_SECRET']\n",
    "# Create a session\n",
    "client = BackendApplicationClient(client_id=client_id)\n",
    "oauth = OAuth2Session(client=client)\n",
    "# Get token for the session\n",
    "token = oauth.fetch_token(token_url='https://services.sentinel-hub.com/oauth/token',\n",
    "                          client_id=client_id, client_secret=client_secret)\n",
    "# All requests using this session will have an access token automatically added\n",
    "resp = oauth.get(\"https://services.sentinel-hub.com/oauth/tokeninfo\")\n",
    "# Sentinel Hub\n",
    "from sentinelhub import (MimeType, CRS, BBox, SentinelHubRequest, SentinelHubDownloadClient, \n",
    "                         DataCollection, bbox_to_dimensions, DownloadRequest, SHConfig)"
   ]
  },
  {
   "cell_type": "code",
   "execution_count": null,
   "id": "afd48273",
   "metadata": {
    "papermill": {
     "duration": 0.057435,
     "end_time": "2022-07-05T10:50:44.515500",
     "exception": false,
     "start_time": "2022-07-05T10:50:44.458065",
     "status": "completed"
    },
    "tags": []
   },
   "outputs": [],
   "source": [
    "# Pass Sentinel Hub credentials to SHConfig\n",
    "config = SHConfig()\n",
    "config.sh_client_id = os.environ[\"SH_CLIENT_ID\"]\n",
    "config.sh_client_secret = os.environ[\"SH_CLIENT_SECRET\"]"
   ]
  },
  {
   "cell_type": "markdown",
   "id": "7a482f62",
   "metadata": {
    "papermill": {
     "duration": 0.023451,
     "end_time": "2022-07-05T10:50:44.573019",
     "exception": false,
     "start_time": "2022-07-05T10:50:44.549568",
     "status": "completed"
    },
    "tags": []
   },
   "source": [
    "## Covid Mobility Data from Google\n",
    "\n",
    "Google provides open data on mobility, called \"Google COVID-19 Community Mobility Reports\". To access the original data source, visit: https://www.google.com/covid19/mobility/ \n",
    "\n",
    "In EO Dashboard this indicator is called \"Mobility Data\" and provides country-level aggregated charts. On EO Dashboard it can be accessed at: https://eodashboard.org/explore?indicator=GG. \n",
    "\n",
    "All charts and maps on EO Dashboard provide an \"embed link\" and we will use this together with the IFrame library to inspect the mobility trends at country level for Italy. \n",
    "\n",
    "**Tip: try interacting with the chart, zoom in/out, activate/deactivate categories by clicking on the legend items, hover over the chart to get more details**\n"
   ]
  },
  {
   "cell_type": "code",
   "execution_count": null,
   "id": "ea717247",
   "metadata": {
    "papermill": {
     "duration": 0.05133,
     "end_time": "2022-07-05T10:50:44.651822",
     "exception": false,
     "start_time": "2022-07-05T10:50:44.600492",
     "status": "completed"
    },
    "tags": []
   },
   "outputs": [],
   "source": [
    "# How Mobility data is presented in EO Dashboard\n",
    "\n",
    "from IPython.display import IFrame\n",
    "IFrame('https://eodashboard.org/iframe?poi=IT-GG', width=800, height=500)"
   ]
  },
  {
   "cell_type": "markdown",
   "id": "bcdec8e5",
   "metadata": {
    "papermill": {
     "duration": 0.039487,
     "end_time": "2022-07-05T10:50:44.721877",
     "exception": false,
     "start_time": "2022-07-05T10:50:44.682390",
     "status": "completed"
    },
    "tags": []
   },
   "source": [
    "### Mobility in Veneto \n",
    "\n",
    "We want to focus only on the region of Veneto, not the entire country, as we will use the COVID Mobility data to relate lockdowns to changing behaviour in the region and especially in the Venice lagoon. \n",
    "\n",
    "We use this data to estimate the times where the lockdown restrictions were at their highest and inturn relate this to activity and finaly water quality.\n",
    "\n",
    "The Covid Mobility data covers the larger area of Veneto, which includes the region of Venice. Below we display the region using NUTS data:"
   ]
  },
  {
   "cell_type": "code",
   "execution_count": null,
   "id": "3dcb468a",
   "metadata": {
    "papermill": {
     "duration": 0.686937,
     "end_time": "2022-07-05T10:50:45.585530",
     "exception": false,
     "start_time": "2022-07-05T10:50:44.898593",
     "status": "completed"
    },
    "tags": []
   },
   "outputs": [],
   "source": [
    "import requests\n",
    "# First let us get the area information of the country from the administratives zones\n",
    "# You can find all the different NUTS levels, resolution here: https://gisco-services.ec.europa.eu/distribution/v2/nuts/nuts-2021-files.html\n",
    "\n",
    "response = requests.get(\n",
    "    \"https://gisco-services.ec.europa.eu/distribution/v2/nuts/geojson/NUTS_RG_10M_2021_4326_LEVL_2.geojson\"\n",
    ")\n",
    "\n",
    "data = response.json()\n",
    "\n",
    "# Now lets find the geometry information for one country\n",
    "match = [x for x in data[\"features\"] if x[\"properties\"][\"NUTS_ID\"] == 'ITH3'][0]"
   ]
  },
  {
   "cell_type": "code",
   "execution_count": null,
   "id": "dbec2304",
   "metadata": {
    "papermill": {
     "duration": 0.0556,
     "end_time": "2022-07-05T10:50:45.659787",
     "exception": false,
     "start_time": "2022-07-05T10:50:45.604187",
     "status": "completed"
    },
    "tags": []
   },
   "outputs": [],
   "source": [
    "import shapely.geometry\n",
    "import IPython.display\n",
    "IPython.display.GeoJSON(match)"
   ]
  },
  {
   "cell_type": "code",
   "execution_count": null,
   "id": "67e1a362",
   "metadata": {
    "papermill": {
     "duration": 10.353136,
     "end_time": "2022-07-05T10:50:56.033026",
     "exception": false,
     "start_time": "2022-07-05T10:50:45.679890",
     "status": "completed"
    },
    "tags": []
   },
   "outputs": [],
   "source": [
    "# Download google mobilty dataset\n",
    "\n",
    "url = 'https://www.gstatic.com/covid19/mobility/Global_Mobility_Report.csv'\n",
    "\n",
    "gfile = requests.get(url, allow_redirects=True)\n",
    "open('gmobility_data.csv', 'wb').write(gfile.content)"
   ]
  },
  {
   "cell_type": "code",
   "execution_count": null,
   "id": "5ae676b0",
   "metadata": {
    "papermill": {
     "duration": 72.294561,
     "end_time": "2022-07-05T10:52:08.356129",
     "exception": false,
     "start_time": "2022-07-05T10:50:56.061568",
     "status": "completed"
    },
    "tags": []
   },
   "outputs": [],
   "source": [
    "# open dataset and retrieve the data\n",
    "with open('gmobility_data.csv') as csvfile:\n",
    "    reader = csv.DictReader(csvfile, delimiter=\",\", quotechar='\"')\n",
    "    country_data = {}\n",
    "    # Le us say we interested in retail_and_recreation_percent_change_from_baseline in 3 countries, France, Italy and Austria\n",
    "    countries = [\"IT\"]\n",
    "    for key in countries:\n",
    "        country_data[key] = []\n",
    "    # We iterate through the csv rows and extract the wanted data\n",
    "    for row in reader:\n",
    "        # For now we skip subregional data and only look at overall country data\n",
    "        # this is the case for countries that have no information on the following 3 parameters\n",
    "        if row[\"sub_region_1\"] == 'Veneto' and row[\"sub_region_2\"] == '' and row[\"metro_area\"] == '' :\n",
    "            location_key = row[\"country_region_code\"]\n",
    "\n",
    "            if location_key in countries:\n",
    "                country_data[location_key].append((\n",
    "                    datetime.datetime.strptime(row[\"date\"], \"%Y-%m-%d\"), # convert to date object\n",
    "                    float(row[\"retail_and_recreation_percent_change_from_baseline\"]) #convert to float\n",
    "                ))"
   ]
  },
  {
   "cell_type": "code",
   "execution_count": null,
   "id": "865b5843",
   "metadata": {
    "papermill": {
     "duration": 0.079217,
     "end_time": "2022-07-05T10:52:08.480204",
     "exception": false,
     "start_time": "2022-07-05T10:52:08.400987",
     "status": "completed"
    },
    "tags": []
   },
   "outputs": [],
   "source": [
    "# creating a pandas dataframe to store the data\n",
    "veneto = pd.DataFrame(country_data[key], columns=['date','retail_and_recreation_percent_change_from_baseline'])\n",
    "veneto['date'] =  pd.to_datetime(veneto['date'], infer_datetime_format=True)\n",
    "veneto_ts = veneto.set_index('date') "
   ]
  },
  {
   "cell_type": "code",
   "execution_count": null,
   "id": "b58e6130",
   "metadata": {
    "papermill": {
     "duration": 0.113552,
     "end_time": "2022-07-05T10:52:08.613055",
     "exception": false,
     "start_time": "2022-07-05T10:52:08.499503",
     "status": "completed"
    },
    "tags": []
   },
   "outputs": [],
   "source": [
    "# resampling the data\n",
    "weekly_veneto = veneto_ts.resample('W').mean()"
   ]
  },
  {
   "cell_type": "code",
   "execution_count": null,
   "id": "d5c70e0d",
   "metadata": {
    "papermill": {
     "duration": 0.669599,
     "end_time": "2022-07-05T10:52:09.302369",
     "exception": false,
     "start_time": "2022-07-05T10:52:08.632770",
     "status": "completed"
    },
    "tags": []
   },
   "outputs": [],
   "source": [
    "# plotting the data\n",
    "weekly_veneto.plot(y='retail_and_recreation_percent_change_from_baseline', figsize=(15,8))"
   ]
  },
  {
   "cell_type": "code",
   "execution_count": null,
   "id": "21e0c3dd",
   "metadata": {
    "papermill": {
     "duration": 0.080722,
     "end_time": "2022-07-05T10:52:09.434738",
     "exception": false,
     "start_time": "2022-07-05T10:52:09.354016",
     "status": "completed"
    },
    "tags": []
   },
   "outputs": [],
   "source": [
    "# We output the date of the lowest value\n",
    "weekly_veneto.retail_and_recreation_percent_change_from_baseline.idxmin()"
   ]
  },
  {
   "cell_type": "markdown",
   "id": "4cc505f5",
   "metadata": {
    "papermill": {
     "duration": 0.034118,
     "end_time": "2022-07-05T10:52:09.499141",
     "exception": false,
     "start_time": "2022-07-05T10:52:09.465023",
     "status": "completed"
    },
    "tags": []
   },
   "source": [
    "We can see from the figure the drop in the acivity from the baseline within the region and use this to help understand the impacts of this change."
   ]
  },
  {
   "cell_type": "markdown",
   "id": "c32c7584",
   "metadata": {
    "papermill": {
     "duration": 0.041269,
     "end_time": "2022-07-05T10:52:09.586552",
     "exception": false,
     "start_time": "2022-07-05T10:52:09.545283",
     "status": "completed"
    },
    "tags": []
   },
   "source": [
    "## Requesting Vessel Density Data"
   ]
  },
  {
   "cell_type": "markdown",
   "id": "e3946b3e",
   "metadata": {
    "papermill": {
     "duration": 0.038329,
     "end_time": "2022-07-05T10:52:09.696039",
     "exception": false,
     "start_time": "2022-07-05T10:52:09.657710",
     "status": "completed"
    },
    "tags": []
   },
   "source": [
    "We retrieve vessel data from the Euro Data Cube for Venice lagoon. \n",
    "\n",
    "This data layer is covering only the European region and can be visualised on the EO Dashboard instance focused only on Europe. This instance is branded \"Rapid Action on Covid 19 and EO (RACE)\" and includes some of the datasets from the ESA-NASA-JAXA instance as well as other Europe-centric datasets. \n",
    "This dashboard instance is accessble at https://race.esa.int. \n",
    "\n",
    "The vessel density data visualisation in the RACE Dashboard can be inspected here: https://race.esa.int/?poi=World-E13o "
   ]
  },
  {
   "cell_type": "code",
   "execution_count": null,
   "id": "aabe91fc",
   "metadata": {
    "papermill": {
     "duration": 0.086647,
     "end_time": "2022-07-05T10:52:09.820052",
     "exception": false,
     "start_time": "2022-07-05T10:52:09.733405",
     "status": "completed"
    },
    "tags": []
   },
   "outputs": [],
   "source": [
    "# let's use the IFrame to embed the vesel density map\n",
    "# for a better experience, access this indicator direclty on the RACE Dashboard, at: https://race.esa.int/?poi=World-E13o \n",
    "# there you will be able to use the Draw AOI feature to generate times sereis of vessel density on your custom area.\n",
    "\n",
    "# the view below is offering limitted functionalities.\n",
    "# the 4 tabs: ALL, CARGO, TANKER, OTHERS\n",
    "\n",
    "IFrame('https://race.esa.int/iframe?poi=World-E13o', width=800, height=500)"
   ]
  },
  {
   "cell_type": "markdown",
   "id": "cb322f3f",
   "metadata": {
    "papermill": {
     "duration": 0.03582,
     "end_time": "2022-07-05T10:52:09.907372",
     "exception": false,
     "start_time": "2022-07-05T10:52:09.871552",
     "status": "completed"
    },
    "tags": []
   },
   "source": [
    "### Getting the actual vessel density map data\n",
    "\n",
    "The vessel data is accessible using the Sentinel Hub service, and can be retrieve using the byoc (bring your own COG) code availble in the [Eurodatacube Collections](https://collections.eurodatacube.com/)."
   ]
  },
  {
   "cell_type": "code",
   "execution_count": null,
   "id": "829ac25a",
   "metadata": {
    "papermill": {
     "duration": 0.103449,
     "end_time": "2022-07-05T10:52:10.051986",
     "exception": false,
     "start_time": "2022-07-05T10:52:09.948537",
     "status": "completed"
    },
    "tags": []
   },
   "outputs": [],
   "source": [
    "# define the area\n",
    "\n",
    "def bbox(coord_list):\n",
    "     box = []\n",
    "     for i in (0,1):\n",
    "         res = sorted(coord_list, key=lambda x:x[i])\n",
    "         box.append((res[0][i],res[-1][i]))\n",
    "     ret = f\"({box[0][0]} {box[1][0]}, {box[0][1]} {box[1][1]})\"\n",
    "     return ret\n",
    "\n",
    "# Parse the json here\n",
    "\n",
    "import geojson\n",
    "import shapely.wkt\n",
    "\n",
    "# We have the POLYGON pre-defined for the Venice Lagoon. It is the same one that is used in EO Dashboard to display the Venice Water Quality Maps.\n",
    "\n",
    "area = shapely.wkt.loads('POLYGON((12.174395 44.778037,12.196361 44.816998,12.085149 45.405263,12.426024 45.583514,13.153667 45.779148,13.603981 45.811687,13.804426 45.675662,13.823647 45.596962,13.626039 45.443008,13.549156 45.433376,13.626039 45.323461,13.713905 45.095238,13.78383 44.980605,13.830519 44.892158,13.8 44.5,12.234821 44.481556,12.06659 44.581469,12.174395 44.778037))')\n",
    "gj_feat = geojson.Feature(geometry=area, properties={})\n",
    "\n",
    "IPython.display.GeoJSON(gj_feat)"
   ]
  },
  {
   "cell_type": "code",
   "execution_count": null,
   "id": "18e02334",
   "metadata": {
    "papermill": {
     "duration": 0.06885,
     "end_time": "2022-07-05T10:52:10.172800",
     "exception": false,
     "start_time": "2022-07-05T10:52:10.103950",
     "status": "completed"
    },
    "tags": []
   },
   "outputs": [],
   "source": [
    "# we create a bounding box for the geojson \n",
    "\n",
    "line = bbox(list(geojson.utils.coords(gj_feat)))\n",
    "print(line)"
   ]
  },
  {
   "cell_type": "code",
   "execution_count": null,
   "id": "a2f78020",
   "metadata": {
    "papermill": {
     "duration": 0.079785,
     "end_time": "2022-07-05T10:52:10.303740",
     "exception": false,
     "start_time": "2022-07-05T10:52:10.223955",
     "status": "completed"
    },
    "tags": []
   },
   "outputs": [],
   "source": [
    "# use the coordinates to define the boundinbox for the Venice Laggon in the Adriatic \n",
    "adriatic = [\n",
    "  12.06659,\n",
    "  44.481556,\n",
    "  13.830519,\n",
    "  45.811687\n",
    "]"
   ]
  },
  {
   "cell_type": "code",
   "execution_count": null,
   "id": "6980251e",
   "metadata": {
    "papermill": {
     "duration": 0.117045,
     "end_time": "2022-07-05T10:52:10.458457",
     "exception": false,
     "start_time": "2022-07-05T10:52:10.341412",
     "status": "completed"
    },
    "tags": []
   },
   "outputs": [],
   "source": [
    "# set the resolution and create a Sentinel Hub bbox and size object\n",
    "\n",
    "resolution = 100\n",
    "adriatic_bbox = BBox(bbox=adriatic, crs=CRS.WGS84)\n",
    "adriatic_size = bbox_to_dimensions(adriatic_bbox, resolution=resolution)\n",
    "\n",
    "print(f'Image shape at {resolution} m resolution: {adriatic_bbox} pixels')"
   ]
  },
  {
   "cell_type": "code",
   "execution_count": null,
   "id": "488e89c4",
   "metadata": {
    "papermill": {
     "duration": 0.06817,
     "end_time": "2022-07-05T10:52:10.561226",
     "exception": false,
     "start_time": "2022-07-05T10:52:10.493056",
     "status": "completed"
    },
    "tags": []
   },
   "outputs": [],
   "source": [
    "# Define the plot_image function\n",
    "def plot_image(image, factor=1.0, clip_range = None, **kwargs):\n",
    "    \"\"\"\n",
    "    Utility function for plotting RGB images.\n",
    "    \"\"\"\n",
    "    fig, ax = plt.subplots(nrows=1, ncols=1, figsize=(15, 15))\n",
    "    if clip_range is not None:\n",
    "        ax.imshow(np.clip(image * factor, *clip_range), **kwargs)\n",
    "    else:\n",
    "        ax.imshow(image * factor, **kwargs)\n",
    "    \n",
    "    ax.set_xticks([])\n",
    "    ax.set_yticks([])"
   ]
  },
  {
   "cell_type": "markdown",
   "id": "bb9c0dfb",
   "metadata": {
    "papermill": {
     "duration": 0.037826,
     "end_time": "2022-07-05T10:52:10.629077",
     "exception": false,
     "start_time": "2022-07-05T10:52:10.591251",
     "status": "completed"
    },
    "tags": []
   },
   "source": [
    "#### Request vessel density data from the Sentinel Hub\n",
    "\n",
    "First we build the evalscript to request the data"
   ]
  },
  {
   "cell_type": "markdown",
   "id": "c594421e-01da-4d13-b4dd-5333f57ebc51",
   "metadata": {},
   "source": [
    "### variables to be inicted in the script for retrieving the SH images  and bands"
   ]
  },
  {
   "cell_type": "code",
   "execution_count": null,
   "id": "cc204b09-c5e1-4efe-a9c5-ae70a1632738",
   "metadata": {},
   "outputs": [],
   "source": [
    "### Parameters for the scripts for retrieving images from SH\n",
    "band = \"All\"\n",
    "collectionID = \"beee9b47-b1ab-4044-baa5-0958d3465f12\"\n",
    "start_date_cov = \"2020-03-15\"\n",
    "end_date_cov= \"2020-04-15\" \n",
    "start_date_pre = \"2020-01-15\"\n",
    "end_date_pre= \"2020-02-15\" "
   ]
  },
  {
   "cell_type": "code",
   "execution_count": null,
   "id": "784d2a7e",
   "metadata": {
    "papermill": {
     "duration": 0.061603,
     "end_time": "2022-07-05T10:52:10.730911",
     "exception": false,
     "start_time": "2022-07-05T10:52:10.669308",
     "status": "completed"
    },
    "tags": []
   },
   "outputs": [],
   "source": [
    "evalscript_vessels = \"\"\"\n",
    "    //VERSION=3\n",
    "    function setup() {\n",
    "    return {\n",
    "        input: [{\n",
    "          bands: [\"%s\", \"dataMask\"], // this sets which bands to use\n",
    "        }],\n",
    "        output: { // this defines the output image type\n",
    "          bands: 4,\n",
    "          sampleType: \"UINT8\"\n",
    "        }\n",
    "    };\n",
    "}\n",
    "\n",
    "function evaluatePixel(sample) {\n",
    "\n",
    "  var arr = colorBlend(sample.%s,    [0.5, 2, 5 , 10, 20 , 100],    \n",
    "  [[0,155,143],[0,219,0],[255,252,0],[244,154,0],[208,19,0], [161,0,0] ]); \n",
    "  if (sample.dataMask==1)  arr.push(255);\n",
    "  else arr.push(0);\n",
    "  return arr;\n",
    "}\n",
    "\n",
    "    \"\"\"%(band,band)\n",
    "print(evalscript_vessels)"
   ]
  },
  {
   "cell_type": "markdown",
   "id": "fedfdc5d",
   "metadata": {
    "papermill": {
     "duration": 0.031322,
     "end_time": "2022-07-05T10:52:10.788269",
     "exception": false,
     "start_time": "2022-07-05T10:52:10.756947",
     "status": "completed"
    },
    "tags": []
   },
   "source": [
    "Now we request data over the lockdown period, remember we detected a low point in activity of 2020-04-05. \n"
   ]
  },
  {
   "cell_type": "code",
   "execution_count": null,
   "id": "b6dd8c7a",
   "metadata": {
    "papermill": {
     "duration": 0.078018,
     "end_time": "2022-07-05T10:52:10.898944",
     "exception": false,
     "start_time": "2022-07-05T10:52:10.820926",
     "status": "completed"
    },
    "tags": []
   },
   "outputs": [],
   "source": [
    "request_vessels_covid = SentinelHubRequest(\n",
    "    evalscript=evalscript_vessels,\n",
    "    input_data=[\n",
    "        SentinelHubRequest.input_data(\n",
    "            data_collection=DataCollection.define_byoc(collectionID),\n",
    "            time_interval=(start_date_cov, end_date_cov),\n",
    "        )\n",
    "    ],\n",
    "    responses=[\n",
    "        SentinelHubRequest.output_response('default', MimeType.PNG)\n",
    "    ],\n",
    "    bbox=adriatic_bbox,\n",
    "    size=adriatic_size,\n",
    "    config=config\n",
    ")"
   ]
  },
  {
   "cell_type": "markdown",
   "id": "45c5e19c",
   "metadata": {
    "papermill": {
     "duration": 0.047867,
     "end_time": "2022-07-05T10:52:10.983861",
     "exception": false,
     "start_time": "2022-07-05T10:52:10.935994",
     "status": "completed"
    },
    "tags": []
   },
   "source": [
    "We set the pre-covid period one month before."
   ]
  },
  {
   "cell_type": "code",
   "execution_count": null,
   "id": "560eade4",
   "metadata": {
    "papermill": {
     "duration": 0.043065,
     "end_time": "2022-07-05T10:52:11.071960",
     "exception": false,
     "start_time": "2022-07-05T10:52:11.028895",
     "status": "completed"
    },
    "tags": []
   },
   "outputs": [],
   "source": [
    "request_vessels_pre = SentinelHubRequest(\n",
    "    evalscript=evalscript_vessels,\n",
    "    input_data=[\n",
    "        SentinelHubRequest.input_data(\n",
    "            data_collection=DataCollection.define_byoc('beee9b47-b1ab-4044-baa5-0958d3465f12'),\n",
    "            time_interval=(start_date_pre, end_date_pre),\n",
    "        )\n",
    "    ],\n",
    "    responses=[\n",
    "        SentinelHubRequest.output_response('default', MimeType.PNG)\n",
    "    ],\n",
    "    bbox=adriatic_bbox,\n",
    "    size=adriatic_size,\n",
    "    config=config\n",
    ")"
   ]
  },
  {
   "cell_type": "markdown",
   "id": "3d3bb7a4",
   "metadata": {
    "papermill": {
     "duration": 0.05769,
     "end_time": "2022-07-05T10:52:11.193156",
     "exception": false,
     "start_time": "2022-07-05T10:52:11.135466",
     "status": "completed"
    },
    "tags": []
   },
   "source": [
    "#### Request vessel density map data during lockdown"
   ]
  },
  {
   "cell_type": "code",
   "execution_count": null,
   "id": "dd9eef33",
   "metadata": {
    "papermill": {
     "duration": 8.648586,
     "end_time": "2022-07-05T10:52:19.921966",
     "exception": false,
     "start_time": "2022-07-05T10:52:11.273380",
     "status": "completed"
    },
    "tags": []
   },
   "outputs": [],
   "source": [
    "vessel_covid = request_vessels_covid.get_data()"
   ]
  },
  {
   "cell_type": "code",
   "execution_count": null,
   "id": "e2674bbd",
   "metadata": {
    "papermill": {
     "duration": 11.501941,
     "end_time": "2022-07-05T10:52:31.452712",
     "exception": false,
     "start_time": "2022-07-05T10:52:19.950771",
     "status": "completed"
    },
    "tags": []
   },
   "outputs": [],
   "source": [
    "image = vessel_covid[0]\n",
    "print(f'Image type: {image.dtype}')\n",
    "\n",
    "# plot function\n",
    "covid_data = request_vessels_covid.get_data()\n",
    "plot_image(covid_data[0], factor=1 / 255)"
   ]
  },
  {
   "cell_type": "markdown",
   "id": "985d2513",
   "metadata": {
    "papermill": {
     "duration": 0.092552,
     "end_time": "2022-07-05T10:52:31.674760",
     "exception": false,
     "start_time": "2022-07-05T10:52:31.582208",
     "status": "completed"
    },
    "tags": []
   },
   "source": [
    "#### Request vessel density map data before lockdown"
   ]
  },
  {
   "cell_type": "code",
   "execution_count": null,
   "id": "ca49b477",
   "metadata": {
    "papermill": {
     "duration": 7.356362,
     "end_time": "2022-07-05T10:52:39.070863",
     "exception": false,
     "start_time": "2022-07-05T10:52:31.714501",
     "status": "completed"
    },
    "tags": []
   },
   "outputs": [],
   "source": [
    "vessel_pre = request_vessels_pre.get_data()"
   ]
  },
  {
   "cell_type": "code",
   "execution_count": null,
   "id": "ea56d03b",
   "metadata": {
    "papermill": {
     "duration": 9.380721,
     "end_time": "2022-07-05T10:52:48.593247",
     "exception": false,
     "start_time": "2022-07-05T10:52:39.212526",
     "status": "completed"
    },
    "tags": []
   },
   "outputs": [],
   "source": [
    "image = vessel_pre[0]\n",
    "print(f'Image type: {image.dtype}')\n",
    "\n",
    "# plot function\n",
    "pre_data = request_vessels_pre.get_data()\n",
    "plot_image(pre_data[0], factor=1 / 255)"
   ]
  },
  {
   "cell_type": "code",
   "execution_count": null,
   "id": "bb2a115c",
   "metadata": {
    "papermill": {
     "duration": 0.089805,
     "end_time": "2022-07-05T10:52:48.735979",
     "exception": false,
     "start_time": "2022-07-05T10:52:48.646174",
     "status": "completed"
    },
    "tags": []
   },
   "outputs": [],
   "source": [
    "# get the range of values for the vessel density maps\n",
    "\n",
    "import numpy as np\n",
    "min_pre = np.amin(pre_data[0])\n",
    "max_pre = np.amax(pre_data[0])\n",
    "\n",
    "min_post = np.amin(covid_data[0])\n",
    "max_post = np.amax(covid_data[0])\n",
    "\n",
    "print (\"min value pre-lockdown:\", min_pre, \"max value pre-lockdown:\", max_pre)\n",
    "print (\"min value lockdown:\", min_post, \"max value lockdown:\", max_post)"
   ]
  },
  {
   "cell_type": "markdown",
   "id": "7dab8864",
   "metadata": {
    "papermill": {
     "duration": 0.058219,
     "end_time": "2022-07-05T10:52:48.859311",
     "exception": false,
     "start_time": "2022-07-05T10:52:48.801092",
     "status": "completed"
    },
    "tags": []
   },
   "source": [
    "The red areas indicate areas with high vessel density and the dark green areas with low density. \n",
    "From the two images we can see a clear reduction in vessel density with the data corresponding to reduced acrivity in the Veneto region.\n",
    "\n",
    "From the [dataset documentation](https://www.emodnet-humanactivities.eu/documents/Vessel%20density%20maps_method_v1.5.pdfhttps://www.emodnet-humanactivities.eu/documents/Vessel%20density%20maps_method_v1.5.pdf) we know that the units of density in the published maps are `total ship time in hours spent in a cell over the whole month`. As the cells are 1 km , this is immediately per square km.\n",
    "\n",
    "So every pixel in the original data has a value of `N = nr_hours x nr_ships x nr_days_in_month`\n",
    "\n",
    "In order to obtain the density as the average number of instantaneous ships per square km, the values of the published monthly maps must be divided by the total number of hours in the month, which is 28, 30 or 31 times 24 hours depending on the month. For the published yearly average maps, the values must be multiplied by 12 and divided by 365 times 24 hours (for 2017).\n",
    "\n",
    "To convert to ship density per square degree instead of per square km, the published numbers can be multiplied by the factor ( 60 * 1.852 )2 cos( latitude ).\n",
    "\n",
    "**Note that in the plotted images above, the pixel values range between [0, 255]. This is due to the fact that all values above 100 hours have been capped at 255**."
   ]
  },
  {
   "cell_type": "markdown",
   "id": "0879dc1b",
   "metadata": {
    "papermill": {
     "duration": 0.044905,
     "end_time": "2022-07-05T10:52:48.955260",
     "exception": false,
     "start_time": "2022-07-05T10:52:48.910355",
     "status": "completed"
    },
    "tags": []
   },
   "source": [
    "### Exercise 1: Use EO Dashboard/ RACE Dashboard to extract vessel density time series"
   ]
  },
  {
   "cell_type": "markdown",
   "id": "4ca82b83",
   "metadata": {
    "papermill": {
     "duration": 0.036279,
     "end_time": "2022-07-05T10:52:49.039190",
     "exception": false,
     "start_time": "2022-07-05T10:52:49.002911",
     "status": "completed"
    },
    "tags": []
   },
   "source": [
    "Vessel data can be accessed on the RACE Dashboard at https://race.esa.int/?poi=World-E13o\n",
    "\n",
    "Using the Draw AOI feature, generate a time series chart. Note that the polygon information is included in the URL.\n",
    "Use the information from the previously defined bounding box to customise the AOI, then regenerate the graph.\n",
    "Download the CSV and import it into your workspace.\n",
    "\n",
    "Read the CSV and plot the graph.\n",
    "Can you determine significant changes in the vessel traffic from the plot?\n",
    "\n"
   ]
  },
  {
   "cell_type": "markdown",
   "id": "f9922b22",
   "metadata": {
    "papermill": {
     "duration": 0.058104,
     "end_time": "2022-07-05T10:52:49.129255",
     "exception": false,
     "start_time": "2022-07-05T10:52:49.071151",
     "status": "completed"
    },
    "tags": []
   },
   "source": [
    "## Using the NASA API to retrieve nightlights data\n",
    "\n",
    "Let's inspect the Nightlights data over Venice. To inspect other locations and learn more about these datasets access this [Nightlights Story on EO Dashboard](https://eodashboard.org/story?id=nightlights) "
   ]
  },
  {
   "cell_type": "code",
   "execution_count": null,
   "id": "67aad823",
   "metadata": {
    "papermill": {
     "duration": 0.073698,
     "end_time": "2022-07-05T10:52:49.258864",
     "exception": false,
     "start_time": "2022-07-05T10:52:49.185166",
     "status": "completed"
    },
    "tags": []
   },
   "outputs": [],
   "source": [
    "IFrame('https://eodashboard.org/explore?indicator=N5&poi=IT01-N5', width=800, height=500)"
   ]
  },
  {
   "cell_type": "markdown",
   "id": "f1ba7dc5",
   "metadata": {
    "papermill": {
     "duration": 0.03409,
     "end_time": "2022-07-05T10:52:49.361609",
     "exception": false,
     "start_time": "2022-07-05T10:52:49.327519",
     "status": "completed"
    },
    "tags": []
   },
   "source": [
    "Now we retrieve nightlights data from the NASA API to check if there is a reduction in activity in the island of Venice over the covid period. The High Definition Nightlights dataset is processed to eliminate light sources like moonlight reflectance and other interferences. The darker shades are places with less light while the lighter shades of yellow are areas with more light.\n",
    "\n",
    "The endpoints include a STAC API, which is a catalog endpoint to retrieve metadata on available datasets: https://staging-stac.delta-backend.com/docs/\n",
    "\n",
    "The other is to render the data for which we find information in the STAC API: https://staging-raster.delta-backend.com/docs/\n"
   ]
  },
  {
   "cell_type": "code",
   "execution_count": null,
   "id": "9de8539c",
   "metadata": {
    "papermill": {
     "duration": 0.037355,
     "end_time": "2022-07-05T10:52:49.431358",
     "exception": false,
     "start_time": "2022-07-05T10:52:49.394003",
     "status": "completed"
    },
    "tags": []
   },
   "outputs": [],
   "source": [
    "# endpoints for nasa api\n",
    "STAC_ENDPOINT_URL = \"https://staging-stac.delta-backend.xyz\"\n",
    "RASTER_ENDPOINT_URL = \"https://staging-raster.delta-backend.xyz\""
   ]
  },
  {
   "cell_type": "markdown",
   "id": "24f5b30f",
   "metadata": {
    "papermill": {
     "duration": 0.031318,
     "end_time": "2022-07-05T10:52:49.490863",
     "exception": false,
     "start_time": "2022-07-05T10:52:49.459545",
     "status": "completed"
    },
    "tags": []
   },
   "source": [
    "#### Request metadata for the nightlights data"
   ]
  },
  {
   "cell_type": "code",
   "execution_count": null,
   "id": "13e4f188",
   "metadata": {
    "papermill": {
     "duration": 3.113906,
     "end_time": "2022-07-05T10:52:52.656639",
     "exception": false,
     "start_time": "2022-07-05T10:52:49.542733",
     "status": "completed"
    },
    "tags": []
   },
   "outputs": [],
   "source": [
    "# summary of the metadata for the indicator of interest\n",
    "nightlights_collection_summary = re.get(f\"{STAC_ENDPOINT_URL}/collections/nightlights-hd-monthly\").json()\n",
    "nightlights_collection_summary"
   ]
  },
  {
   "cell_type": "markdown",
   "id": "672cbbd0",
   "metadata": {
    "papermill": {
     "duration": 0.041209,
     "end_time": "2022-07-05T10:52:52.742167",
     "exception": false,
     "start_time": "2022-07-05T10:52:52.700958",
     "status": "completed"
    },
    "tags": []
   },
   "source": [
    "#### Request nightlights data before lockdown"
   ]
  },
  {
   "cell_type": "code",
   "execution_count": null,
   "id": "ea404f6b",
   "metadata": {
    "papermill": {
     "duration": 1.666432,
     "end_time": "2022-07-05T10:52:54.454290",
     "exception": false,
     "start_time": "2022-07-05T10:52:52.787858",
     "status": "completed"
    },
    "tags": []
   },
   "outputs": [],
   "source": [
    "# retrieving a pre-covid image from the STAC API\n",
    "\n",
    "response_pre = re.post(\n",
    "    f\"{STAC_ENDPOINT_URL}/search\", \n",
    "    json={\n",
    "        \"collections\": [\"nightlights-hd-monthly\"],\n",
    "        \"query\": {\"datetime\": {\"eq\":\"2019-04-01T00:00:00\"}},\n",
    "        \"limit\": 100\n",
    "    }\n",
    ").json()\n",
    "item_pre = response_pre[\"features\"][0]"
   ]
  },
  {
   "cell_type": "markdown",
   "id": "dfcfe9f8",
   "metadata": {
    "papermill": {
     "duration": 0.06323,
     "end_time": "2022-07-05T10:52:54.566007",
     "exception": false,
     "start_time": "2022-07-05T10:52:54.502777",
     "status": "completed"
    },
    "tags": []
   },
   "source": [
    "In order to render the image correctly you must define the visualisation parameters, which will differ between datasets. Here in the [documentation](https://staging-raster.delta-backend.com/docs#/Cloud%20Optimized%20GeoTIFF/preview_cog_preview__format__get) you can input the correct visualisation parameters and generate an output, this will help you to form the request within the notebook."
   ]
  },
  {
   "cell_type": "code",
   "execution_count": null,
   "id": "4d6b56ce",
   "metadata": {
    "papermill": {
     "duration": 5.46402,
     "end_time": "2022-07-05T10:53:00.076591",
     "exception": false,
     "start_time": "2022-07-05T10:52:54.612571",
     "status": "completed"
    },
    "tags": []
   },
   "outputs": [],
   "source": [
    "# rendering the image with the RASTER API\n",
    "tiles_pre_covid = re.get(\n",
    "    f\"{RASTER_ENDPOINT_URL}/stac/tilejson.json?collection={item_pre['collection']}&item={item_pre['id']}&assets=cog_default&bidx=1&unscale=false&resampling=nearest&max_size=1024&rescale=0%2C255&colormap_name=plasma\", \n",
    ").json()\n",
    "tiles_pre_covid"
   ]
  },
  {
   "cell_type": "markdown",
   "id": "98088365",
   "metadata": {
    "papermill": {
     "duration": 0.050741,
     "end_time": "2022-07-05T10:53:00.191896",
     "exception": false,
     "start_time": "2022-07-05T10:53:00.141155",
     "status": "completed"
    },
    "tags": []
   },
   "source": [
    "#### Request nightlights data during lockdown"
   ]
  },
  {
   "cell_type": "code",
   "execution_count": null,
   "id": "63cf0b16",
   "metadata": {
    "papermill": {
     "duration": 2.043093,
     "end_time": "2022-07-05T10:53:02.293191",
     "exception": false,
     "start_time": "2022-07-05T10:53:00.250098",
     "status": "completed"
    },
    "tags": []
   },
   "outputs": [],
   "source": [
    "# retrieving a covid image from the STAC API\n",
    "\n",
    "response_nasa_covid = re.post(\n",
    "    f\"{STAC_ENDPOINT_URL}/search\", \n",
    "    json={\n",
    "        \"collections\": [\"nightlights-hd-monthly\"],\n",
    "        \"query\": {\"datetime\": {\"eq\":\"2020-04-01T00:00:00\"}},\n",
    "        \"limit\": 100\n",
    "    }\n",
    ").json()\n",
    "item_covid = response_nasa_covid[\"features\"][0]"
   ]
  },
  {
   "cell_type": "code",
   "execution_count": null,
   "id": "a16d05d5",
   "metadata": {
    "papermill": {
     "duration": 0.862686,
     "end_time": "2022-07-05T10:53:03.215582",
     "exception": false,
     "start_time": "2022-07-05T10:53:02.352896",
     "status": "completed"
    },
    "tags": []
   },
   "outputs": [],
   "source": [
    "tiles_covid = re.get(\n",
    "    f\"{RASTER_ENDPOINT_URL}/stac/tilejson.json?collection={item_covid['collection']}&item={item_covid['id']}&assets=cog_default&bidx=1&unscale=false&resampling=nearest&max_size=1024&rescale=0%2C255&colormap_name=plasma\", \n",
    ").json()\n",
    "tiles_covid"
   ]
  },
  {
   "cell_type": "markdown",
   "id": "7580cf00",
   "metadata": {
    "papermill": {
     "duration": 0.056919,
     "end_time": "2022-07-05T10:53:03.320185",
     "exception": false,
     "start_time": "2022-07-05T10:53:03.263266",
     "status": "completed"
    },
    "tags": []
   },
   "source": [
    "### Directly compare the two images"
   ]
  },
  {
   "cell_type": "code",
   "execution_count": null,
   "id": "5a23399b",
   "metadata": {
    "papermill": {
     "duration": 0.073037,
     "end_time": "2022-07-05T10:53:03.462262",
     "exception": false,
     "start_time": "2022-07-05T10:53:03.389225",
     "status": "completed"
    },
    "tags": []
   },
   "outputs": [],
   "source": [
    "# set map parameters\n",
    "center = [45.438558, 12.333421]\n",
    "zoom = 13"
   ]
  },
  {
   "cell_type": "code",
   "execution_count": null,
   "id": "27bf3015",
   "metadata": {
    "papermill": {
     "duration": 0.119445,
     "end_time": "2022-07-05T10:53:03.634873",
     "exception": false,
     "start_time": "2022-07-05T10:53:03.515428",
     "status": "completed"
    },
    "tags": []
   },
   "outputs": [],
   "source": [
    "# display interactive map\n",
    "m = Map(center=center, zoom=zoom)\n",
    "m"
   ]
  },
  {
   "cell_type": "code",
   "execution_count": null,
   "id": "5a8d6b97",
   "metadata": {
    "papermill": {
     "duration": 0.105775,
     "end_time": "2022-07-05T10:53:03.789508",
     "exception": false,
     "start_time": "2022-07-05T10:53:03.683733",
     "status": "completed"
    },
    "tags": []
   },
   "outputs": [],
   "source": [
    "left = TileLayer(url=tiles_pre_covid[\"tiles\"][0])\n",
    "right = TileLayer(url=tiles_covid[\"tiles\"][0])\n",
    "\n",
    "control = SplitMapControl(left_layer=left, right_layer=right)\n",
    "m.add_control(control)"
   ]
  },
  {
   "cell_type": "markdown",
   "id": "41827013",
   "metadata": {
    "papermill": {
     "duration": 0.0513,
     "end_time": "2022-07-05T10:53:03.907361",
     "exception": false,
     "start_time": "2022-07-05T10:53:03.856061",
     "status": "completed"
    },
    "tags": []
   },
   "source": [
    "The darker areas indicate a reduction in luminosity and the yellow areas higher luminosity, when comparing the two images we can see a reduction in activity over the covid period."
   ]
  },
  {
   "cell_type": "markdown",
   "id": "2f028f58",
   "metadata": {
    "papermill": {
     "duration": 0.052318,
     "end_time": "2022-07-05T10:53:04.026347",
     "exception": false,
     "start_time": "2022-07-05T10:53:03.974029",
     "status": "completed"
    },
    "tags": []
   },
   "source": [
    "### Retrieving Sentinel 2 imagery over the Island of Venice\n",
    "Now we have identified the drop in activity due to the lockdown conditions we can retrieve the satellite images to see if there is a corresponding impact visable.\n",
    "\n",
    "[Sentinel-2](https://sentinel.esa.int/web/sentinel/missions/sentinel-2) is a multispectral satellite with 13 spectral bands, launched in 2016. We use the Red, Green and Blue bands to contruct a true colour image over the island of Vencie from August 2019 to August 2020.\n",
    "\n",
    "This data is stored in the Sentinel Hub, for more infomation on the dataset and parameters visit the [documentation.](https://docs.sentinel-hub.com/api/latest/data/sentinel-2-l1c/)"
   ]
  },
  {
   "cell_type": "markdown",
   "id": "a8154df6",
   "metadata": {
    "papermill": {
     "duration": 0.081116,
     "end_time": "2022-07-05T10:53:04.164134",
     "exception": false,
     "start_time": "2022-07-05T10:53:04.083018",
     "status": "completed"
    },
    "tags": []
   },
   "source": [
    "First we define a bounding box for our area of intrest. An easy way to do this is using the [SH Request Builder.](https://apps.sentinel-hub.com/requests-builder/)\n"
   ]
  },
  {
   "cell_type": "code",
   "execution_count": null,
   "id": "85d0184d",
   "metadata": {
    "papermill": {
     "duration": 0.086847,
     "end_time": "2022-07-05T10:53:04.315799",
     "exception": false,
     "start_time": "2022-07-05T10:53:04.228952",
     "status": "completed"
    },
    "tags": []
   },
   "outputs": [],
   "source": [
    "# defining our bbox over the island of Venice\n",
    "\n",
    "venice = [\n",
    "  12.296613,\n",
    "  45.411707,\n",
    "  12.393469,\n",
    "  45.469281\n",
    "]"
   ]
  },
  {
   "cell_type": "code",
   "execution_count": null,
   "id": "6baf36ab",
   "metadata": {
    "papermill": {
     "duration": 0.07315,
     "end_time": "2022-07-05T10:53:04.429799",
     "exception": false,
     "start_time": "2022-07-05T10:53:04.356649",
     "status": "completed"
    },
    "tags": []
   },
   "outputs": [],
   "source": [
    "#Set the resolution and create a sentinel hub bbox and size object\n",
    "\n",
    "resolution = 10\n",
    "venice_bbox = BBox(bbox=venice, crs=CRS.WGS84)\n",
    "venice_size = bbox_to_dimensions(venice_bbox, resolution=resolution)\n",
    "\n",
    "print(f'Image shape at {resolution} m resolution: {venice_bbox} pixels')"
   ]
  },
  {
   "cell_type": "markdown",
   "id": "5c0146f3",
   "metadata": {
    "papermill": {
     "duration": 0.076946,
     "end_time": "2022-07-05T10:53:04.590440",
     "exception": false,
     "start_time": "2022-07-05T10:53:04.513494",
     "status": "completed"
    },
    "tags": []
   },
   "source": [
    "Below we use the [Evalscript](https://docs.sentinel-hub.com/api/latest/evalscript/v3/) to define the metadata and preprocessing for RGB Sentinel-2 imagery from the Sentinelhub."
   ]
  },
  {
   "cell_type": "code",
   "execution_count": null,
   "id": "ce9c53e2",
   "metadata": {
    "papermill": {
     "duration": 0.085832,
     "end_time": "2022-07-05T10:53:04.718811",
     "exception": false,
     "start_time": "2022-07-05T10:53:04.632979",
     "status": "completed"
    },
    "tags": []
   },
   "outputs": [],
   "source": [
    "evalscript_true_color = \"\"\"\n",
    "    //VERSION=3\n",
    "\n",
    "    function setup() {\n",
    "        return {\n",
    "            input: [{\n",
    "                bands: [\"B02\", \"B03\", \"B04\"]\n",
    "            }],\n",
    "            output: {\n",
    "                bands: 3\n",
    "            }\n",
    "        };\n",
    "    }\n",
    "\n",
    "    function evaluatePixel(sample) {\n",
    "        return [2.5 * sample.B04, 2.5 * sample.B03, 2.5 * sample.B02];\n",
    "    }\n",
    "\"\"\""
   ]
  },
  {
   "cell_type": "code",
   "execution_count": null,
   "id": "adadd413",
   "metadata": {
    "papermill": {
     "duration": 0.078657,
     "end_time": "2022-07-05T10:53:04.854265",
     "exception": false,
     "start_time": "2022-07-05T10:53:04.775608",
     "status": "completed"
    },
    "tags": []
   },
   "outputs": [],
   "source": [
    "# We create a list of dates for retreiving multiple images\n",
    "\n",
    "start = datetime.datetime(2019,8,1)\n",
    "end = datetime.datetime(2020,8,1)\n",
    "n_chunks =13\n",
    "tdelta = (end - start) / n_chunks\n",
    "edges = [(start + i*tdelta).date().isoformat() for i in range(n_chunks)]\n",
    "slots = [(edges[i], edges[i+1]) for i in range(len(edges)-1)]\n",
    "\n",
    "print('Monthly time windows:\\n')\n",
    "for slot in slots:\n",
    "    print(slot)"
   ]
  },
  {
   "cell_type": "code",
   "execution_count": null,
   "id": "f4732e0a",
   "metadata": {
    "papermill": {
     "duration": 0.109411,
     "end_time": "2022-07-05T10:53:05.020413",
     "exception": false,
     "start_time": "2022-07-05T10:53:04.911002",
     "status": "completed"
    },
    "tags": []
   },
   "outputs": [],
   "source": [
    "# define the function to retreive the image\n",
    "def get_true_color_request(time_interval):\n",
    "    return SentinelHubRequest(\n",
    "        evalscript=evalscript_true_color,\n",
    "        input_data=[\n",
    "            SentinelHubRequest.input_data(\n",
    "                data_collection=DataCollection.SENTINEL2_L1C,\n",
    "                time_interval=time_interval,\n",
    "                mosaicking_order='leastCC'\n",
    "            )\n",
    "        ],\n",
    "        responses=[\n",
    "            SentinelHubRequest.output_response('default', MimeType.PNG)\n",
    "        ],\n",
    "        bbox=venice_bbox,\n",
    "        size=venice_size,\n",
    "        config=config\n",
    "    )"
   ]
  },
  {
   "cell_type": "code",
   "execution_count": null,
   "id": "f9a681da",
   "metadata": {
    "papermill": {
     "duration": 14.479156,
     "end_time": "2022-07-05T10:53:19.544856",
     "exception": false,
     "start_time": "2022-07-05T10:53:05.065700",
     "status": "completed"
    },
    "tags": []
   },
   "outputs": [],
   "source": [
    "# create a list of requests\n",
    "list_of_requests = [get_true_color_request(slot) for slot in slots]\n",
    "list_of_requests = [request.download_list[0] for request in list_of_requests]\n",
    "\n",
    "# download data with multiple threads\n",
    "data = SentinelHubDownloadClient(config=config).download(list_of_requests, max_threads=5)\n",
    "# some stuff for pretty plots\n",
    "ncols = 3\n",
    "nrows = 4\n",
    "aspect_ratio = venice_size[0] / venice_size[1]\n",
    "subplot_kw = {'xticks': [], 'yticks': [], 'frame_on': False}\n",
    "\n",
    "fig, axs = plt.subplots(ncols=ncols, nrows=nrows, figsize=(5 * ncols * aspect_ratio, 5 * nrows),\n",
    "                        subplot_kw=subplot_kw)\n",
    "\n",
    "for idx, image in enumerate(data):\n",
    "    ax = axs[idx // ncols][idx % ncols]\n",
    "    ax.imshow(np.clip(image * 2.5/255, 0, 1))\n",
    "    ax.set_title(f'{slots[idx][0]}  -  {slots[idx][1]}', fontsize=10)\n",
    "\n",
    "plt.tight_layout()"
   ]
  },
  {
   "cell_type": "markdown",
   "id": "3adf852a",
   "metadata": {},
   "source": [
    "## EXERCISE\n",
    "Are you aware of the atmospheric correction effect on the image? To understand the impact on the true color images use SENTINEL2_L2A instead of SENTINEL2_L1C in the get true color request function"
   ]
  },
  {
   "cell_type": "markdown",
   "id": "6288c075",
   "metadata": {
    "papermill": {
     "duration": 0.169185,
     "end_time": "2022-07-05T10:53:19.875504",
     "exception": false,
     "start_time": "2022-07-05T10:53:19.706319",
     "status": "completed"
    },
    "tags": []
   },
   "source": [
    "From the images we can see a sharp reduction in the amount of boats which are travelling around the Island of Venice, and a corresponding impovement in the water quality."
   ]
  },
  {
   "cell_type": "markdown",
   "id": "0c4b25c3",
   "metadata": {
    "papermill": {
     "duration": 0.167594,
     "end_time": "2022-07-05T10:53:20.250593",
     "exception": false,
     "start_time": "2022-07-05T10:53:20.082999",
     "status": "completed"
    },
    "tags": []
   },
   "source": [
    "## Requesting Water Quality Data from JAXA"
   ]
  },
  {
   "cell_type": "markdown",
   "id": "c1753767",
   "metadata": {
    "papermill": {
     "duration": 0.144081,
     "end_time": "2022-07-05T10:53:20.567702",
     "exception": false,
     "start_time": "2022-07-05T10:53:20.423621",
     "status": "completed"
    },
    "tags": []
   },
   "source": [
    "In order to test our theory about the improved water quality we use JAXA water quality data, specifically [water quality Chlorophyll-a weekly anomaly](https://collections.eurodatacube.com/jaxa_wq_chla/).\n",
    "\n",
    "As data is stored in the Sentinel Hub we use a similar syntax as above to retrieve the data but instead define the byoc code, stated in the documentation.\n",
    "\n",
    "We will request this data using the Adriatic boundinbox."
   ]
  },
  {
   "cell_type": "markdown",
   "id": "5b1911cd-d38f-4c58-a2eb-c208747dbcfc",
   "metadata": {},
   "source": [
    "The following cell is reccomended to set the reference collection and the band to be used."
   ]
  },
  {
   "cell_type": "code",
   "execution_count": null,
   "id": "a012e9e6-8b0f-4335-bc31-f82fdfc4efee",
   "metadata": {},
   "outputs": [],
   "source": [
    "### Parameters for the scripts for retrieving images from SH\n",
    "band = \"chla\"\n",
    "collectionID = \"198aa13a-b0c0-4b78-8f69-e08fc58551a7\"\n",
    "start_date = \"2020-03-15\"\n",
    "end_date= \"2020-04-15\" "
   ]
  },
  {
   "cell_type": "code",
   "execution_count": null,
   "id": "40a4bfe0",
   "metadata": {
    "papermill": {
     "duration": 0.190222,
     "end_time": "2022-07-05T10:53:20.952708",
     "exception": false,
     "start_time": "2022-07-05T10:53:20.762486",
     "status": "completed"
    },
    "tags": []
   },
   "outputs": [],
   "source": [
    "evalscript_jaxa = \"\"\"\n",
    "    //VERSION=3\n",
    "    function setup() {\n",
    "      return {\n",
    "        input: [\"%s\"],\n",
    "        output: { bands: 1,\n",
    "          sampleType: \"UINT8\" }\n",
    "      };\n",
    "    }\n",
    "    function evaluatePixel(sample) {\n",
    "        return [sample.%s];\n",
    "    }\n",
    "    \"\"\"%(band,band)\n",
    "print(evalscript_jaxa)"
   ]
  },
  {
   "cell_type": "code",
   "execution_count": null,
   "id": "a1285b88",
   "metadata": {
    "papermill": {
     "duration": 4.856224,
     "end_time": "2022-07-05T10:53:26.018870",
     "exception": false,
     "start_time": "2022-07-05T10:53:21.162646",
     "status": "completed"
    },
    "tags": []
   },
   "outputs": [],
   "source": [
    "#defining the request\n",
    "request_jaxa = SentinelHubRequest(\n",
    "    evalscript=evalscript_jaxa,\n",
    "    input_data=[\n",
    "        SentinelHubRequest.input_data(\n",
    "            data_collection=DataCollection.define_byoc(collectionID),  #('4f5f67f1-5715-4f2b-8c98-ae57948ee2f5'),\n",
    "            time_interval=(start_date, end_date),\n",
    "        )\n",
    "    ],\n",
    "    responses=[\n",
    "        SentinelHubRequest.output_response('default', MimeType.PNG)\n",
    "    ],\n",
    "    bbox=adriatic_bbox,\n",
    "    size=adriatic_size,\n",
    "    config=config\n",
    ")\n",
    "\n",
    "jaxa = request_jaxa.get_data()"
   ]
  },
  {
   "cell_type": "code",
   "execution_count": null,
   "id": "b1075f2f",
   "metadata": {
    "papermill": {
     "duration": 1.3346,
     "end_time": "2022-07-05T10:53:27.522304",
     "exception": false,
     "start_time": "2022-07-05T10:53:26.187704",
     "status": "completed"
    },
    "tags": []
   },
   "outputs": [],
   "source": [
    "# retreiving a single image\n",
    "image = jaxa[0]\n",
    "print(f'Image type: {image.dtype}')\n",
    "\n",
    "# plot function\n",
    "plot_image(jaxa[0], factor=1 / 255)"
   ]
  },
  {
   "cell_type": "code",
   "execution_count": null,
   "id": "e3edb661",
   "metadata": {
    "papermill": {
     "duration": 0.236496,
     "end_time": "2022-07-05T10:53:27.921028",
     "exception": false,
     "start_time": "2022-07-05T10:53:27.684532",
     "status": "completed"
    },
    "tags": []
   },
   "outputs": [],
   "source": [
    "def get_water_quality_request(time_interval):\n",
    "    return SentinelHubRequest(\n",
    "        evalscript=evalscript_jaxa,\n",
    "        input_data=[\n",
    "            SentinelHubRequest.input_data(\n",
    "                data_collection=DataCollection.define_byoc(collectionID),\n",
    "                time_interval=time_interval\n",
    "            )\n",
    "        ],\n",
    "        responses=[\n",
    "            SentinelHubRequest.output_response('default', MimeType.PNG)\n",
    "        ],\n",
    "        bbox=adriatic_bbox,\n",
    "        size=adriatic_size,\n",
    "        config=config\n",
    "    )"
   ]
  },
  {
   "cell_type": "code",
   "execution_count": null,
   "id": "ec9847e6",
   "metadata": {
    "papermill": {
     "duration": 20.127828,
     "end_time": "2022-07-05T10:53:48.228169",
     "exception": false,
     "start_time": "2022-07-05T10:53:28.100341",
     "status": "completed"
    },
    "tags": []
   },
   "outputs": [],
   "source": [
    "# create a list of requests\n",
    "\n",
    "import matplotlib\n",
    "import matplotlib.pyplot as plt\n",
    "from matplotlib.cm import coolwarm \n",
    "\n",
    "list_of_requests = [get_water_quality_request(slot) for slot in slots]\n",
    "list_of_requests = [request.download_list[0] for request in list_of_requests]\n",
    "\n",
    "# download data with multiple threads\n",
    "data = SentinelHubDownloadClient(config=config).download(list_of_requests, max_threads=5)\n",
    "# some stuff for pretty plots\n",
    "ncols = 3\n",
    "nrows = 4\n",
    "aspect_ratio = venice_size[0] / venice_size[1]\n",
    "subplot_kw = {'xticks': [], 'yticks': [], 'frame_on': False}\n",
    "\n",
    "fig, axs = plt.subplots(ncols=ncols, nrows=nrows, figsize=(5 * ncols * aspect_ratio, 5 * nrows),\n",
    "                        subplot_kw=subplot_kw)\n",
    "\n",
    "for idx, image in enumerate(data):\n",
    "    ax = axs[idx // ncols][idx % ncols]\n",
    "    ax.imshow(np.clip(image * 1/255, 0, 1))\n",
    "    ax.set_title(f'{slots[idx][0]}  -  {slots[idx][1]}', fontsize=10)\n",
    "plt.tight_layout()"
   ]
  },
  {
   "cell_type": "markdown",
   "id": "70e9ad5f",
   "metadata": {
    "papermill": {
     "duration": 0.214147,
     "end_time": "2022-07-05T10:53:48.623609",
     "exception": false,
     "start_time": "2022-07-05T10:53:48.409462",
     "status": "completed"
    },
    "tags": []
   },
   "source": [
    "The range lies from 0-1 (blue to yellow), 0 being no anomaly in chlorophyll-a and the 1 being high anomaly. From a first look at the images it is hard to make robust conclusions on the water quality. However the image retrieved over the period of the first lockdown does seem to have the lowest anomalies."
   ]
  },
  {
   "cell_type": "markdown",
   "id": "c27e156b",
   "metadata": {
    "papermill": {
     "duration": 0.208677,
     "end_time": "2022-07-05T10:53:49.104492",
     "exception": false,
     "start_time": "2022-07-05T10:53:48.895815",
     "status": "completed"
    },
    "tags": []
   },
   "source": [
    "### Exercise 2: Retrieving Water Quality Datasets from the SentinelHub\n",
    "\n",
    "Search the edc collections and retrieve a different [water quality product.](https://collections.eurodatacube.com/)"
   ]
  },
  {
   "cell_type": "markdown",
   "id": "a8e99e7a",
   "metadata": {
    "papermill": {
     "duration": 0.288407,
     "end_time": "2022-07-05T10:53:49.704745",
     "exception": false,
     "start_time": "2022-07-05T10:53:49.416338",
     "status": "completed"
    },
    "tags": []
   },
   "source": [
    "Copy the above structure to access another water quality dataset, you will need to change some parameters.\n"
   ]
  },
  {
   "cell_type": "markdown",
   "id": "53d39eeb",
   "metadata": {
    "papermill": {
     "duration": 0.221806,
     "end_time": "2022-07-05T10:53:50.154880",
     "exception": false,
     "start_time": "2022-07-05T10:53:49.933074",
     "status": "completed"
    },
    "tags": []
   },
   "source": [
    "## Retrieving water quality time series from GeoDB"
   ]
  },
  {
   "cell_type": "markdown",
   "id": "e4c23874",
   "metadata": {
    "papermill": {
     "duration": 0.23826,
     "end_time": "2022-07-05T10:53:50.717033",
     "exception": false,
     "start_time": "2022-07-05T10:53:50.478773",
     "status": "completed"
    },
    "tags": []
   },
   "source": [
    "On EO Dahboard we also have access to Chlorophyll a and Total Suspended Sediments time sereis data on a number of locations, including Venice.\n",
    "You can inspect these time series on the dashboard at: https://eodashboard.org/explore?indicator=N3b\n",
    "\n",
    "For Venice, the time series is available here: https://eodashboard.org/explore?indicator=N3b&poi=IT6-N3b\n",
    "\n",
    "The displayed time series show weekly Chl concentration anomalies (%) as calculated from Sentinel-3 (purple), MODIS (blue) and GCOM-C(light blue) around the Alta Aqua Oceanographic Tower (AAOT at 45.30 N, 12.50 E) in the North Adriatic Sea, the Mediterranean sub-basin most influenced by river runoff, in particular by the Po River, which is the largest river in Italy and which runs along many different industrialized areas.\n",
    "\n",
    "On EO Dashboard we can see that the measurements from the three sensors on Sentinel3, MODIS and GCOM-C are in agreement.\n",
    "\n",
    "We could go a bit deeper in the analysis if we only focus on the Sentinel3 data, where we have access to the same time series but compared to the climatology. This graph is not available on EO Dashboard, but we can visualise it on The RACE platform. \n",
    "This data is stored in the EuroDataCube GeoDB.\n",
    "\n",
    "(For a complete overview of where the data is available please use the DataAccess.jpynb).\n",
    "\n",
    "https://race.esa.int/?indicator=N3&poi=IT6-N3 "
   ]
  },
  {
   "cell_type": "code",
   "execution_count": null,
   "id": "9e17bea3",
   "metadata": {
    "papermill": {
     "duration": 0.232237,
     "end_time": "2022-07-05T10:53:51.223831",
     "exception": false,
     "start_time": "2022-07-05T10:53:50.991594",
     "status": "completed"
    },
    "tags": []
   },
   "outputs": [],
   "source": [
    "geodb_database = \"eodash\"\n",
    "geodb_collection = \"N3\""
   ]
  },
  {
   "cell_type": "code",
   "execution_count": null,
   "id": "e6b7dfbe",
   "metadata": {
    "papermill": {
     "duration": 0.666348,
     "end_time": "2022-07-05T10:53:52.161902",
     "exception": false,
     "start_time": "2022-07-05T10:53:51.495554",
     "status": "completed"
    },
    "tags": []
   },
   "outputs": [],
   "source": [
    "data = geodb.get_collection(collection=geodb_collection, database=geodb_database)\n",
    "data.head()"
   ]
  },
  {
   "cell_type": "code",
   "execution_count": null,
   "id": "f0292b4f",
   "metadata": {
    "papermill": {
     "duration": 3.512669,
     "end_time": "2022-07-05T10:53:55.897883",
     "exception": false,
     "start_time": "2022-07-05T10:53:52.385214",
     "status": "completed"
    },
    "tags": []
   },
   "outputs": [],
   "source": [
    "# display the locations of the data\n",
    "cities = geodb.get_collection_pg(geodb_collection, database=geodb_database, group='city, geometry', select='city, geometry')\n",
    "\n",
    "features = json.loads(cities.to_json())\n",
    "\n",
    "IPython.display.GeoJSON(features)\n",
    "    "
   ]
  },
  {
   "cell_type": "code",
   "execution_count": null,
   "id": "e85e2fd4",
   "metadata": {
    "papermill": {
     "duration": 0.315458,
     "end_time": "2022-07-05T10:53:56.453385",
     "exception": false,
     "start_time": "2022-07-05T10:53:56.137927",
     "status": "completed"
    },
    "tags": []
   },
   "outputs": [],
   "source": [
    "def plot_city(city=cities.city[0]):\n",
    "    #A bit hidden in this function lies the query against the RACE collection of interest.\n",
    "    gdf = geodb.get_collection(geodb_collection, database=geodb_database, query=f\"city=eq.{city}\")\n",
    "    \n",
    "    # A bit if data cleaning to get this working as None values are given as '/'\n",
    "    gdf = gdf.drop(gdf[gdf.indicator_value == \"/\"].index)\n",
    "    \n",
    "    indicator_values = geodb.get_collection_pg(geodb_collection, database=geodb_database, group='indicator_value', select='indicator_value')\n",
    "    \n",
    "    # A bit if data cleaning to get this working as None values are given as '/'\n",
    "    indicator_values = indicator_values.drop(indicator_values[indicator_values.indicator_value == \"/\"].index)\n",
    "    \n",
    "    gdf['time'] = pd.to_datetime(gdf.time)\n",
    "    gdf['measurement_value']  = gdf.measurement_value.astype(float)\n",
    "    source = ColumnDataSource(data=dict(time=gdf.time, measurement_value=gdf.measurement_value, indicator_value=gdf.indicator_value))\n",
    "    \n",
    "    p = figure(x_axis_type='datetime', width=800)\n",
    "    p.title.text = geodb_collection + \" in \" +  city\n",
    "    p.title.align = \"center\"\n",
    "    p.title.text_font_size = \"25px\"\n",
    "\n",
    "    p.vbar(x='time', top='measurement_value', legend_field=\"indicator_value\", line_width=2, fill_color=factor_cmap('indicator_value', palette=Spectral3, factors=indicator_values.indicator_value), line_color=factor_cmap('indicator_value', palette=Spectral3, factors=indicator_values.indicator_value), source=source)\n",
    "\n",
    "    show(p)"
   ]
  },
  {
   "cell_type": "markdown",
   "id": "aef254d9",
   "metadata": {
    "papermill": {
     "duration": 0.333148,
     "end_time": "2022-07-05T10:53:57.052168",
     "exception": false,
     "start_time": "2022-07-05T10:53:56.719020",
     "status": "completed"
    },
    "tags": []
   },
   "source": [
    "Now we plot the cities with insitu water quality timeseries for the Venice lagoon."
   ]
  },
  {
   "cell_type": "code",
   "execution_count": null,
   "id": "d5770233",
   "metadata": {
    "papermill": {
     "duration": 6.986759,
     "end_time": "2022-07-05T10:54:04.328591",
     "exception": false,
     "start_time": "2022-07-05T10:53:57.341832",
     "status": "completed"
    },
    "tags": []
   },
   "outputs": [],
   "source": [
    "# Generate a unique list of cities\n",
    "output_notebook()\n",
    "cities = geodb.get_collection_pg(geodb_collection, database=geodb_database, group='city', select='city')\n",
    "\n",
    "interact(plot_city, city=cities.city[0]);"
   ]
  },
  {
   "cell_type": "markdown",
   "id": "b7a3fb44",
   "metadata": {
    "papermill": {
     "duration": 0.209142,
     "end_time": "2022-07-05T10:54:04.817543",
     "exception": false,
     "start_time": "2022-07-05T10:54:04.608401",
     "status": "completed"
    },
    "tags": []
   },
   "source": [
    "### Exercise 3 ###\n",
    "\n",
    "Can you make some conclusions from the time series? This event has been studied at length in the literature, this [paper](https://www.sciencedirect.com/science/article/pii/S0048969722000912) can be a starting point for some ideas on how to improve the method.\n",
    "\n",
    "There could be another reason for the change in water quality in the region, the largest river in Italy is located just below Venice. Can you preform some anaylsis to investigate this further?"
   ]
  },
  {
   "cell_type": "code",
   "execution_count": null,
   "id": "822af6a9",
   "metadata": {
    "papermill": {
     "duration": 0.244425,
     "end_time": "2022-07-05T10:54:05.364058",
     "exception": false,
     "start_time": "2022-07-05T10:54:05.119633",
     "status": "completed"
    },
    "tags": []
   },
   "outputs": [],
   "source": []
  }
 ],
 "metadata": {
  "kernelspec": {
   "display_name": "Python [conda env:edc-default-2022.07-00]",
   "language": "python",
   "name": "conda-env-edc-default-2022.07-00-py"
  },
  "language_info": {
   "codemirror_mode": {
    "name": "ipython",
    "version": 3
   },
   "file_extension": ".py",
   "mimetype": "text/x-python",
   "name": "python",
   "nbconvert_exporter": "python",
   "pygments_lexer": "ipython3",
   "version": "3.9.13"
  },
  "papermill": {
   "default_parameters": {},
   "duration": 212.123717,
   "end_time": "2022-07-05T10:54:07.078982",
   "environment_variables": {},
   "exception": null,
   "input_path": "/tmp/tmp_3lr5u5o",
   "output_path": "/tmp/notebook_output.ipynb",
   "parameters": {},
   "start_time": "2022-07-05T10:50:34.955265",
   "version": "2.3.4"
  },
  "properties": {
   "authors": [
    {
     "id": "edfb9926-6c9d-4be2-a6f0-aaef93b2a038",
     "name": "Tristan.Williams@esa.int"
    }
   ],
   "description": "IGARSS Training Notebook #2",
   "id": "dec3befb-5b71-41db-8f06-c553fdef4aae",
   "license": null,
   "name": "IGARSS-Venice",
   "requirements": [
    "eurodatacube",
    "eurodatacube-geodb"
   ],
   "tags": [
    "IGARSS2022"
   ],
   "tosAgree": true,
   "type": "Jupyter Notebook",
   "version": "0.0.5"
  },
  "widgets": {
   "application/vnd.jupyter.widget-state+json": {
    "state": {
     "01fb73817dfa48a6805bbfb2bda4ce3f": {
      "model_module": "@jupyter-widgets/output",
      "model_module_version": "1.0.0",
      "model_name": "OutputModel",
      "state": {
       "_dom_classes": [],
       "_model_module": "@jupyter-widgets/output",
       "_model_module_version": "1.0.0",
       "_model_name": "OutputModel",
       "_view_count": null,
       "_view_module": "@jupyter-widgets/output",
       "_view_module_version": "1.0.0",
       "_view_name": "OutputView",
       "layout": "IPY_MODEL_34a5083a5c2641ebbd8acf936560d6b8",
       "msg_id": "",
       "outputs": [
        {
         "data": {
          "text/html": "\n  <div class=\"bk-root\" id=\"a4727298-6271-4a03-b9c0-8b8fc794a236\" data-root-id=\"1004\"></div>\n"
         },
         "metadata": {},
         "output_type": "display_data"
        },
        {
         "data": {
          "application/javascript": "(function(root) {\n  function embed_document(root) {\n  const docs_json = {\"8e545733-0b41-4450-85fb-f03a8cbb6e1d\":{\"defs\":[],\"roots\":{\"references\":[{\"attributes\":{\"below\":[{\"id\":\"1013\"}],\"center\":[{\"id\":\"1016\"},{\"id\":\"1020\"},{\"id\":\"1069\"}],\"left\":[{\"id\":\"1017\"}],\"renderers\":[{\"id\":\"1044\"}],\"title\":{\"id\":\"1035\"},\"toolbar\":{\"id\":\"1028\"},\"width\":800,\"x_range\":{\"id\":\"1005\"},\"x_scale\":{\"id\":\"1009\"},\"y_range\":{\"id\":\"1007\"},\"y_scale\":{\"id\":\"1011\"}},\"id\":\"1004\",\"subtype\":\"Figure\",\"type\":\"Plot\"},{\"attributes\":{},\"id\":\"1007\",\"type\":\"DataRange1d\"},{\"attributes\":{},\"id\":\"1018\",\"type\":\"BasicTicker\"},{\"attributes\":{},\"id\":\"1011\",\"type\":\"LinearScale\"},{\"attributes\":{\"label\":{\"field\":\"indicator_value\"},\"renderers\":[{\"id\":\"1044\"}]},\"id\":\"1070\",\"type\":\"LegendItem\"},{\"attributes\":{},\"id\":\"1052\",\"type\":\"DatetimeTickFormatter\"},{\"attributes\":{},\"id\":\"1055\",\"type\":\"Selection\"},{\"attributes\":{},\"id\":\"1024\",\"type\":\"SaveTool\"},{\"attributes\":{\"months\":[0,1,2,3,4,5,6,7,8,9,10,11]},\"id\":\"1064\",\"type\":\"MonthsTicker\"},{\"attributes\":{},\"id\":\"1025\",\"type\":\"ResetTool\"},{\"attributes\":{\"bottom_units\":\"screen\",\"coordinates\":null,\"fill_alpha\":0.5,\"fill_color\":\"lightgrey\",\"group\":null,\"left_units\":\"screen\",\"level\":\"overlay\",\"line_alpha\":1.0,\"line_color\":\"black\",\"line_dash\":[4,4],\"line_width\":2,\"right_units\":\"screen\",\"syncable\":false,\"top_units\":\"screen\"},\"id\":\"1027\",\"type\":\"BoxAnnotation\"},{\"attributes\":{\"days\":[1,8,15,22]},\"id\":\"1062\",\"type\":\"DaysTicker\"},{\"attributes\":{\"coordinates\":null,\"formatter\":{\"id\":\"1049\"},\"group\":null,\"major_label_policy\":{\"id\":\"1050\"},\"ticker\":{\"id\":\"1018\"}},\"id\":\"1017\",\"type\":\"LinearAxis\"},{\"attributes\":{\"factors\":[\"NORMAL\",\"HIGH\",\"LOW\"],\"palette\":[\"#99d594\",\"#ffffbf\",\"#fc8d59\"]},\"id\":\"1039\",\"type\":\"CategoricalColorMapper\"},{\"attributes\":{},\"id\":\"1068\",\"type\":\"YearsTicker\"},{\"attributes\":{\"overlay\":{\"id\":\"1027\"}},\"id\":\"1023\",\"type\":\"BoxZoomTool\"},{\"attributes\":{\"days\":[1,4,7,10,13,16,19,22,25,28]},\"id\":\"1061\",\"type\":\"DaysTicker\"},{\"attributes\":{},\"id\":\"1049\",\"type\":\"BasicTickFormatter\"},{\"attributes\":{\"base\":24,\"mantissas\":[1,2,4,6,8,12],\"max_interval\":43200000.0,\"min_interval\":3600000.0,\"num_minor_ticks\":0},\"id\":\"1059\",\"type\":\"AdaptiveTicker\"},{\"attributes\":{\"mantissas\":[1,2,5],\"max_interval\":500.0,\"num_minor_ticks\":0},\"id\":\"1057\",\"type\":\"AdaptiveTicker\"},{\"attributes\":{},\"id\":\"1022\",\"type\":\"WheelZoomTool\"},{\"attributes\":{\"axis\":{\"id\":\"1017\"},\"coordinates\":null,\"dimension\":1,\"group\":null,\"ticker\":null},\"id\":\"1020\",\"type\":\"Grid\"},{\"attributes\":{\"days\":[1,15]},\"id\":\"1063\",\"type\":\"DaysTicker\"},{\"attributes\":{\"tools\":[{\"id\":\"1021\"},{\"id\":\"1022\"},{\"id\":\"1023\"},{\"id\":\"1024\"},{\"id\":\"1025\"},{\"id\":\"1026\"}]},\"id\":\"1028\",\"type\":\"Toolbar\"},{\"attributes\":{},\"id\":\"1005\",\"type\":\"DataRange1d\"},{\"attributes\":{\"coordinates\":null,\"group\":null,\"items\":[{\"id\":\"1070\"}]},\"id\":\"1069\",\"type\":\"Legend\"},{\"attributes\":{\"align\":\"center\",\"coordinates\":null,\"group\":null,\"text\":\"N3 in Venice Lagoon\",\"text_font_size\":\"25px\"},\"id\":\"1035\",\"type\":\"Title\"},{\"attributes\":{},\"id\":\"1021\",\"type\":\"PanTool\"},{\"attributes\":{},\"id\":\"1054\",\"type\":\"UnionRenderers\"},{\"attributes\":{},\"id\":\"1026\",\"type\":\"HelpTool\"},{\"attributes\":{\"months\":[0,2,4,6,8,10]},\"id\":\"1065\",\"type\":\"MonthsTicker\"},{\"attributes\":{\"num_minor_ticks\":5,\"tickers\":[{\"id\":\"1057\"},{\"id\":\"1058\"},{\"id\":\"1059\"},{\"id\":\"1060\"},{\"id\":\"1061\"},{\"id\":\"1062\"},{\"id\":\"1063\"},{\"id\":\"1064\"},{\"id\":\"1065\"},{\"id\":\"1066\"},{\"id\":\"1067\"},{\"id\":\"1068\"}]},\"id\":\"1014\",\"type\":\"DatetimeTicker\"},{\"attributes\":{\"months\":[0,6]},\"id\":\"1067\",\"type\":\"MonthsTicker\"},{\"attributes\":{\"fill_alpha\":{\"value\":0.1},\"fill_color\":{\"field\":\"indicator_value\",\"transform\":{\"id\":\"1038\"}},\"hatch_alpha\":{\"value\":0.1},\"line_alpha\":{\"value\":0.1},\"line_color\":{\"field\":\"indicator_value\",\"transform\":{\"id\":\"1039\"}},\"line_width\":{\"value\":2},\"top\":{\"field\":\"measurement_value\"},\"x\":{\"field\":\"time\"}},\"id\":\"1042\",\"type\":\"VBar\"},{\"attributes\":{\"days\":[1,2,3,4,5,6,7,8,9,10,11,12,13,14,15,16,17,18,19,20,21,22,23,24,25,26,27,28,29,30,31]},\"id\":\"1060\",\"type\":\"DaysTicker\"},{\"attributes\":{\"coordinates\":null,\"data_source\":{\"id\":\"1003\"},\"glyph\":{\"id\":\"1041\"},\"group\":null,\"hover_glyph\":null,\"muted_glyph\":{\"id\":\"1043\"},\"nonselection_glyph\":{\"id\":\"1042\"},\"view\":{\"id\":\"1045\"}},\"id\":\"1044\",\"type\":\"GlyphRenderer\"},{\"attributes\":{\"base\":60,\"mantissas\":[1,2,5,10,15,20,30],\"max_interval\":1800000.0,\"min_interval\":1000.0,\"num_minor_ticks\":0},\"id\":\"1058\",\"type\":\"AdaptiveTicker\"},{\"attributes\":{},\"id\":\"1050\",\"type\":\"AllLabels\"},{\"attributes\":{\"factors\":[\"NORMAL\",\"HIGH\",\"LOW\"],\"palette\":[\"#99d594\",\"#ffffbf\",\"#fc8d59\"]},\"id\":\"1038\",\"type\":\"CategoricalColorMapper\"},{\"attributes\":{\"fill_alpha\":{\"value\":0.2},\"fill_color\":{\"field\":\"indicator_value\",\"transform\":{\"id\":\"1038\"}},\"hatch_alpha\":{\"value\":0.2},\"line_alpha\":{\"value\":0.2},\"line_color\":{\"field\":\"indicator_value\",\"transform\":{\"id\":\"1039\"}},\"line_width\":{\"value\":2},\"top\":{\"field\":\"measurement_value\"},\"x\":{\"field\":\"time\"}},\"id\":\"1043\",\"type\":\"VBar\"},{\"attributes\":{\"months\":[0,4,8]},\"id\":\"1066\",\"type\":\"MonthsTicker\"},{\"attributes\":{\"axis\":{\"id\":\"1013\"},\"coordinates\":null,\"group\":null,\"ticker\":null},\"id\":\"1016\",\"type\":\"Grid\"},{\"attributes\":{},\"id\":\"1009\",\"type\":\"LinearScale\"},{\"attributes\":{\"coordinates\":null,\"formatter\":{\"id\":\"1052\"},\"group\":null,\"major_label_policy\":{\"id\":\"1053\"},\"ticker\":{\"id\":\"1014\"}},\"id\":\"1013\",\"type\":\"DatetimeAxis\"},{\"attributes\":{\"fill_color\":{\"field\":\"indicator_value\",\"transform\":{\"id\":\"1038\"}},\"line_color\":{\"field\":\"indicator_value\",\"transform\":{\"id\":\"1039\"}},\"line_width\":{\"value\":2},\"top\":{\"field\":\"measurement_value\"},\"x\":{\"field\":\"time\"}},\"id\":\"1041\",\"type\":\"VBar\"},{\"attributes\":{\"data\":{\"indicator_value\":[\"NORMAL\",\"LOW\",\"LOW\",\"NORMAL\",\"NORMAL\",\"LOW\",\"NORMAL\",\"NORMAL\",\"LOW\",\"LOW\",\"LOW\",\"LOW\",\"LOW\",\"NORMAL\",\"HIGH\",\"NORMAL\",\"NORMAL\",\"HIGH\",\"NORMAL\",\"HIGH\",\"NORMAL\",\"LOW\",\"LOW\",\"LOW\",\"NORMAL\",\"LOW\",\"LOW\",\"LOW\",\"LOW\",\"LOW\",\"LOW\",\"LOW\",\"LOW\",\"NORMAL\",\"LOW\",\"LOW\",\"LOW\",\"NORMAL\",\"NORMAL\",\"HIGH\",\"LOW\",\"NORMAL\",\"LOW\",\"LOW\",\"LOW\",\"LOW\",\"NORMAL\",\"LOW\",\"LOW\",\"LOW\",\"LOW\",\"LOW\",\"LOW\",\"LOW\",\"HIGH\",\"NORMAL\",\"LOW\",\"HIGH\",\"HIGH\",\"HIGH\",\"LOW\",\"NORMAL\",\"LOW\",\"HIGH\",\"HIGH\",\"NORMAL\",\"NORMAL\",\"NORMAL\",\"HIGH\",\"NORMAL\",\"LOW\",\"LOW\",\"NORMAL\",\"HIGH\",\"NORMAL\",\"HIGH\",\"NORMAL\",\"HIGH\",\"NORMAL\",\"NORMAL\",\"NORMAL\",\"LOW\",\"LOW\",\"HIGH\",\"LOW\",\"LOW\",\"LOW\",\"LOW\",\"NORMAL\",\"HIGH\",\"HIGH\",\"LOW\",\"LOW\",\"LOW\",\"LOW\",\"LOW\",\"LOW\",\"LOW\",\"NORMAL\",\"NORMAL\",\"HIGH\",\"NORMAL\",\"HIGH\",\"HIGH\",\"LOW\",\"LOW\",\"NORMAL\",\"NORMAL\",\"NORMAL\",\"LOW\",\"LOW\",\"NORMAL\",\"LOW\",\"LOW\",\"LOW\",\"HIGH\",\"HIGH\",\"LOW\",\"NORMAL\",\"NORMAL\",\"LOW\",\"NORMAL\",\"LOW\",\"HIGH\",\"LOW\",\"HIGH\",\"LOW\",\"LOW\",\"LOW\",\"LOW\",\"LOW\",\"LOW\",\"LOW\",\"LOW\",\"LOW\",\"LOW\",\"LOW\",\"LOW\",\"LOW\",\"LOW\",\"LOW\",\"NORMAL\",\"LOW\",\"LOW\",\"NORMAL\",\"LOW\"],\"measurement_value\":{\"__ndarray__\":\"sp3vp8ZLt79SuB6F61HIv2MQWDm0yN6/u0kMAiuHlr8zMzMzMzPDv+xRuB6F68G/F9nO91PjxT8hsHJoke3MP/yp8dJNYrC/8tJNYhBYyb9xPQrXo3DNv1g5tMh2vp+/HFpkO99P3T8X2c73U+PVP+kmMQisHNo/IbByaJHt6D+WQ4ts5/vJPx+F61G4HuU/001iEFg54D/dJAaBlUPTPwMrhxbZztc/bef7qfHSzb8shxbZzvfbv5duEoPAyuW/xSCwcmiR1b8NAiuHFtnev6RwPQrXo+C/H4XrUbge5b/2KFyPwvXIvy/dJAaBldO/2s73U+Oly78hsHJoke3Mv3E9CtejcM2//Knx0k1icD/8qfHSTWKgPxFYObTIds6/PN9PjZdukr+mm8QgsHLQP1g5tMh2vs8/jGzn+6nxwj+7SQwCK4fev6rx0k1iELi/gZVDi2zn278pXI/C9SjMv+Olm8QgsMK/SgwCK4cW2b+4HoXrUbiev2Dl0CLb+b6/EoPAyqFFxr9Ei2zn+6mxPyuHFtnO96O/I9v5fmq8tL/8qfHSTWLAP/yp8dJNYmA/SOF6FK5H5T/TTWIQWDnUP3sUrkfhenS/lkOLbOf76T/P91PjpZvkPzEIrBxaZPE/UrgehetRyD/Xo3A9CtfTP5MYBFYOLdI/HFpkO99P1T/P91PjpZvEP3e+nxov3dy/PQrXo3A9yr+mm8QgsHLIv0oMAiuHFtk/KVyPwvUovD+BlUOLbOe7v1g5tMh2vr+/WmQ730+Nl78UrkfhehTOP9v5fmq8dKO/hetRuB6F0z+4HoXrUbi+PyUGgZVDi8w/+FPjpZvEwD/o+6nx0k3SP4/C9Shcj8K/Nl66SQwCy781XrpJDALTv99PjZduEsM/PN9PjZdu0r8j2/l+arzgvyuHFtnO9+O/MzMzMzMz77+TGARWDi3CvzvfT42Xbto/lkOLbOf72T/b+X5qvHTTv/yp8dJNYmA/pHA9CtejwD/RItv5fmq8P/p+arx0k5g/ObTIdr6fuj9t5/up8dLdP0SLbOf7qcE/K4cW2c732z/P91PjpZvUP5zEILByaNk/9ihcj8L15D+HFtnO91PvP0oMAiuHFsk/ukkMAiuHpr8/NV66SQzCvyPb+X5qvNS/7FG4HoXrob+yne+nxkvjvwrXo3A9Cse/eekmMQisfL+wcmiR7XzPv8/3U+Olm9y/WmQ730+Nx78CK4cW2c7HP4ts5/up8aK/sHJoke18v7+q8dJNYhCovx1aZDvfT80/uB6F61G4nr89CtejcD3KP5HtfD81Xrq/+n5qvHSTiL+R7Xw/NV7Sv90kBoGVQ9u/7FG4HoXr2b8Sg8DKoUXev8dLN4lBYNW/uB6F61G4vr9WDi2yne/Hv0SLbOf7qeG/sHJoke18778X2c73U+PtvzEIrBxaZMu/sHJoke18779SuB6F61G4v4GVQ4ts5+e/ZmZmZmZm6r+R7Xw/NV7mvxBYObTIdt6/c2iR7Xw/1T/4U+Olm8TAvzEIrBxaZMu/JzEIrBxaxL+q8dJNYhDIvw==\",\"dtype\":\"float64\",\"order\":\"little\",\"shape\":[146]},\"time\":{\"__ndarray__\":\"AACAHeSFdkIAAMDlJIh2QgAAAK5linZCAABAdqaMdkIAAIA+5452QgAAwAYokXZCAAAAz2iTdkIAAECXqZV2QgAAgF/ql3ZCAADAJyuadkIAAADwa5x2QgAAwEguo3ZCAAAAEW+ldkIAAEDZr6d2QgAAwGkxrHZCAAAAMnKudkIAAED6srB2QgAAwIo0tXZCAAAAU3W3dkIAAEAbtrl2QgAAgOP2u3ZCAADAqze+dkIAAEA8ucJ2QgAAgAT6xHZCAADAzDrHdkIAAACVe8l2QgAAQF28y3ZCAADA7T3QdkIAAAC2ftJ2QgAAQH6/1HZCAACARgDXdkIAAMAOQdl2QgAAANeB23ZCAABAn8LddkIAAIBnA+B2QgAAwC9E4nZCAAAA+ITkdkIAAEDAxeZ2QgAAgIgG6XZCAABAMF/7dkIAAACJIQJ3QgAAQFFiBHdCAACAGaMGd0IAAMDh4wh3QgAAAKokC3dCAABAcmUNd0IAAIA6pg93QgAAwALnEXdCAAAAyycUd0IAAECTaBZ3QgAAgFupGHdCAADAI+oad0IAAADsKh13QgAAQLRrH3dCAACAfKwhd0IAAMBE7SN3QgAAQNVuKHdCAACAna8qd0IAAMBl8Cx3QgAAAC4xL3dCAABA9nExd0IAAIC+sjN3QgAAwIbzNXdCAAAATzQ4d0IAAEAXdTp3QgAAgN+1PHdCAADAp/Y+d0IAAABwN0F3QgAAQDh4Q3dCAACAALlFd0IAAMDI+Ud3QgAAAJE6SndCAABAWXtMd0IAAIAhvE53QgAAwOn8UHdCAAAAsj1Td0IAAEB6flV3QgAAwAoAWndCAAAA00Bcd0IAAECbgV53QgAAgGPCYHdCAABA3Ydwd0IAAIClyHJ3QgAAQP6KeXdCAACAxst7d0IAAMCODH53QgAAAFdNgHdCAABAH46Cd0IAAIDnzoR3QgAAwK8Ph3dCAAAAeFCJd0IAAEBAkYt3QgAAgAjSjXdCAADA0BKQd0IAAACZU5J3QgAAQGGUlHdCAACAKdWWd0IAAMDxFZl3QgAAALpWm3dCAABAgpedd0IAAIBK2J93QgAAwBIZondCAAAA21mkd0IAAECjmqZ3QgAAgGvbqHdCAAAA/Fytd0IAAEDEna93QgAAgIzesXdCAADAVB+0d0IAAAAdYLZ3QgAAQOWguHdCAACAreG6d0IAAMB1Ir13QgAAQAakwXdCAACAzuTDd0IAAMCWJcZ3QgAAAF9myHdCAABAJ6fKd0IAAIDv58x3QgAAwLcoz3dCAAAAgGnRd0IAAEBIqtN3QgAAgBDr1XdCAABAirDld0IAAIBS8ed3QgAAwBoy6ndCAAAA43Lsd0IAAECrs+53QgAAwDs183dCAAAABHb1d0IAAEDMtvd3QgAAgJT3+XdCAADAXDj8d0IAAAAlef53QgAAQO25AHhCAADAXDj8d0IAAIC1+gJ4QgAAwH07BXhCAAAARnwHeEIAAEAOvQl4QgAAgNb9C3hCAADAnj4OeEIAAABnfxB4QgAAQC/AEnhCAACA9wAVeEIAAMC/QRd4Qg==\",\"dtype\":\"float64\",\"order\":\"little\",\"shape\":[146]}},\"selected\":{\"id\":\"1055\"},\"selection_policy\":{\"id\":\"1054\"}},\"id\":\"1003\",\"type\":\"ColumnDataSource\"},{\"attributes\":{\"source\":{\"id\":\"1003\"}},\"id\":\"1045\",\"type\":\"CDSView\"},{\"attributes\":{},\"id\":\"1053\",\"type\":\"AllLabels\"}],\"root_ids\":[\"1004\"]},\"title\":\"Bokeh Application\",\"version\":\"2.4.3\"}};\n  const render_items = [{\"docid\":\"8e545733-0b41-4450-85fb-f03a8cbb6e1d\",\"root_ids\":[\"1004\"],\"roots\":{\"1004\":\"a4727298-6271-4a03-b9c0-8b8fc794a236\"}}];\n  root.Bokeh.embed.embed_items_notebook(docs_json, render_items);\n  }\n  if (root.Bokeh !== undefined) {\n    embed_document(root);\n  } else {\n    let attempts = 0;\n    const timer = setInterval(function(root) {\n      if (root.Bokeh !== undefined) {\n        clearInterval(timer);\n        embed_document(root);\n      } else {\n        attempts++;\n        if (attempts > 100) {\n          clearInterval(timer);\n          console.log(\"Bokeh: ERROR: Unable to run BokehJS code because BokehJS library is missing\");\n        }\n      }\n    }, 10, root)\n  }\n})(window);",
          "application/vnd.bokehjs_exec.v0+json": ""
         },
         "metadata": {
          "application/vnd.bokehjs_exec.v0+json": {
           "id": "1004"
          }
         },
         "output_type": "display_data"
        }
       ]
      }
     },
     "03bc1b7cf3bd468085de54cb6892055d": {
      "model_module": "jupyter-leaflet",
      "model_module_version": "^0.16.0",
      "model_name": "LeafletMapStyleModel",
      "state": {
       "_model_module": "jupyter-leaflet",
       "_model_module_version": "^0.16.0",
       "_model_name": "LeafletMapStyleModel",
       "_view_count": null,
       "_view_module": "@jupyter-widgets/base",
       "_view_module_version": "1.2.0",
       "_view_name": "StyleView",
       "cursor": "grab"
      }
     },
     "12de1aa130ed4c679d890f5ee133aad1": {
      "model_module": "jupyter-leaflet",
      "model_module_version": "^0.16.0",
      "model_name": "LeafletMapStyleModel",
      "state": {
       "_model_module": "jupyter-leaflet",
       "_model_module_version": "^0.16.0",
       "_model_name": "LeafletMapStyleModel",
       "_view_count": null,
       "_view_module": "@jupyter-widgets/base",
       "_view_module_version": "1.2.0",
       "_view_name": "StyleView",
       "cursor": "move"
      }
     },
     "270457656b1d4918b6b5e194dd072cde": {
      "model_module": "jupyter-leaflet",
      "model_module_version": "^0.16.0",
      "model_name": "LeafletAttributionControlModel",
      "state": {
       "_model_module": "jupyter-leaflet",
       "_model_module_version": "^0.16.0",
       "_model_name": "LeafletAttributionControlModel",
       "_view_count": null,
       "_view_module": "jupyter-leaflet",
       "_view_module_version": "^0.16.0",
       "_view_name": "LeafletAttributionControlView",
       "options": [
        "position",
        "prefix"
       ],
       "position": "bottomright",
       "prefix": "ipyleaflet"
      }
     },
     "280c0c4ab2f3473c9a2bc214f303529a": {
      "model_module": "jupyter-leaflet",
      "model_module_version": "^0.16.0",
      "model_name": "LeafletSplitMapControlModel",
      "state": {
       "_model_module": "jupyter-leaflet",
       "_model_module_version": "^0.16.0",
       "_model_name": "LeafletSplitMapControlModel",
       "_view_count": null,
       "_view_module": "jupyter-leaflet",
       "_view_module_version": "^0.16.0",
       "_view_name": "LeafletSplitMapControlView",
       "left_layer": "IPY_MODEL_f132ff221400410a9e23697862b45ee6",
       "options": [
        "position"
       ],
       "position": "topleft",
       "right_layer": "IPY_MODEL_dd0c53ebb83e404d9b5d64d10edde732"
      }
     },
     "34a5083a5c2641ebbd8acf936560d6b8": {
      "model_module": "@jupyter-widgets/base",
      "model_module_version": "1.2.0",
      "model_name": "LayoutModel",
      "state": {
       "_model_module": "@jupyter-widgets/base",
       "_model_module_version": "1.2.0",
       "_model_name": "LayoutModel",
       "_view_count": null,
       "_view_module": "@jupyter-widgets/base",
       "_view_module_version": "1.2.0",
       "_view_name": "LayoutView",
       "align_content": null,
       "align_items": null,
       "align_self": null,
       "border": null,
       "bottom": null,
       "display": null,
       "flex": null,
       "flex_flow": null,
       "grid_area": null,
       "grid_auto_columns": null,
       "grid_auto_flow": null,
       "grid_auto_rows": null,
       "grid_column": null,
       "grid_gap": null,
       "grid_row": null,
       "grid_template_areas": null,
       "grid_template_columns": null,
       "grid_template_rows": null,
       "height": null,
       "justify_content": null,
       "justify_items": null,
       "left": null,
       "margin": null,
       "max_height": null,
       "max_width": null,
       "min_height": null,
       "min_width": null,
       "object_fit": null,
       "object_position": null,
       "order": null,
       "overflow": null,
       "overflow_x": null,
       "overflow_y": null,
       "padding": null,
       "right": null,
       "top": null,
       "visibility": null,
       "width": null
      }
     },
     "4a07486eae274b778a10531bedaf4fb2": {
      "model_module": "jupyter-leaflet",
      "model_module_version": "^0.16.0",
      "model_name": "LeafletZoomControlModel",
      "state": {
       "_model_module": "jupyter-leaflet",
       "_model_module_version": "^0.16.0",
       "_model_name": "LeafletZoomControlModel",
       "_view_count": null,
       "_view_module": "jupyter-leaflet",
       "_view_module_version": "^0.16.0",
       "_view_name": "LeafletZoomControlView",
       "options": [
        "position",
        "zoom_in_text",
        "zoom_in_title",
        "zoom_out_text",
        "zoom_out_title"
       ],
       "position": "topleft",
       "zoom_in_text": "+",
       "zoom_in_title": "Zoom in",
       "zoom_out_text": "-",
       "zoom_out_title": "Zoom out"
      }
     },
     "51354e6fee934107b5b9d6c34f089a88": {
      "model_module": "jupyter-leaflet",
      "model_module_version": "^0.16.0",
      "model_name": "LeafletMapModel",
      "state": {
       "_dom_classes": [],
       "_model_module": "jupyter-leaflet",
       "_model_module_version": "^0.16.0",
       "_model_name": "LeafletMapModel",
       "_view_count": null,
       "_view_module": "jupyter-leaflet",
       "_view_module_version": "^0.16.0",
       "_view_name": "LeafletMapView",
       "bottom": 0,
       "bounce_at_zoom_limits": true,
       "box_zoom": true,
       "center": [
        45.438558,
        12.333421
       ],
       "close_popup_on_click": true,
       "controls": [
        "IPY_MODEL_4a07486eae274b778a10531bedaf4fb2",
        "IPY_MODEL_270457656b1d4918b6b5e194dd072cde",
        "IPY_MODEL_280c0c4ab2f3473c9a2bc214f303529a"
       ],
       "crs": {
        "custom": false,
        "name": "EPSG3857"
       },
       "default_style": "IPY_MODEL_7395d3e1dad44825bac173889fbf1de5",
       "double_click_zoom": true,
       "dragging": true,
       "dragging_style": "IPY_MODEL_12de1aa130ed4c679d890f5ee133aad1",
       "east": 0,
       "fullscreen": false,
       "inertia": true,
       "inertia_deceleration": 3000,
       "inertia_max_speed": 1500,
       "interpolation": "bilinear",
       "keyboard": true,
       "keyboard_pan_offset": 80,
       "keyboard_zoom_offset": 1,
       "layers": [
        "IPY_MODEL_68f0cc96185944b6a246aa3cc6ce7a3d"
       ],
       "layout": "IPY_MODEL_a4d479888d854cd6b7fea172506f2f9c",
       "left": 9007199254740991,
       "max_zoom": 18,
       "min_zoom": 1,
       "modisdate": "2022-07-04",
       "north": 0,
       "options": [
        "bounce_at_zoom_limits",
        "box_zoom",
        "center",
        "close_popup_on_click",
        "double_click_zoom",
        "dragging",
        "fullscreen",
        "inertia",
        "inertia_deceleration",
        "inertia_max_speed",
        "interpolation",
        "keyboard",
        "keyboard_pan_offset",
        "keyboard_zoom_offset",
        "max_zoom",
        "min_zoom",
        "prefer_canvas",
        "scroll_wheel_zoom",
        "tap",
        "tap_tolerance",
        "touch_zoom",
        "world_copy_jump",
        "zoom",
        "zoom_animation_threshold",
        "zoom_delta",
        "zoom_snap",
        "zoom_start"
       ],
       "prefer_canvas": false,
       "right": 0,
       "scroll_wheel_zoom": false,
       "south": 0,
       "style": "IPY_MODEL_03bc1b7cf3bd468085de54cb6892055d",
       "tap": true,
       "tap_tolerance": 15,
       "top": 9007199254740991,
       "touch_zoom": true,
       "west": 0,
       "window_url": "",
       "world_copy_jump": false,
       "zoom": 13,
       "zoom_animation_threshold": 4,
       "zoom_delta": 1,
       "zoom_snap": 1,
       "zoom_start": 12
      }
     },
     "63b7cbe47836406fa0a4b1592eb974c6": {
      "model_module": "@jupyter-widgets/base",
      "model_module_version": "1.2.0",
      "model_name": "LayoutModel",
      "state": {
       "_model_module": "@jupyter-widgets/base",
       "_model_module_version": "1.2.0",
       "_model_name": "LayoutModel",
       "_view_count": null,
       "_view_module": "@jupyter-widgets/base",
       "_view_module_version": "1.2.0",
       "_view_name": "LayoutView",
       "align_content": null,
       "align_items": null,
       "align_self": null,
       "border": null,
       "bottom": null,
       "display": null,
       "flex": null,
       "flex_flow": null,
       "grid_area": null,
       "grid_auto_columns": null,
       "grid_auto_flow": null,
       "grid_auto_rows": null,
       "grid_column": null,
       "grid_gap": null,
       "grid_row": null,
       "grid_template_areas": null,
       "grid_template_columns": null,
       "grid_template_rows": null,
       "height": null,
       "justify_content": null,
       "justify_items": null,
       "left": null,
       "margin": null,
       "max_height": null,
       "max_width": null,
       "min_height": null,
       "min_width": null,
       "object_fit": null,
       "object_position": null,
       "order": null,
       "overflow": null,
       "overflow_x": null,
       "overflow_y": null,
       "padding": null,
       "right": null,
       "top": null,
       "visibility": null,
       "width": null
      }
     },
     "68f0cc96185944b6a246aa3cc6ce7a3d": {
      "model_module": "jupyter-leaflet",
      "model_module_version": "^0.16.0",
      "model_name": "LeafletTileLayerModel",
      "state": {
       "_model_module": "jupyter-leaflet",
       "_model_module_version": "^0.16.0",
       "_model_name": "LeafletTileLayerModel",
       "_view_count": null,
       "_view_module": "jupyter-leaflet",
       "_view_module_version": "^0.16.0",
       "_view_name": "LeafletTileLayerView",
       "attribution": "&copy; <a href=\"https://www.openstreetmap.org/copyright\">OpenStreetMap</a> contributors",
       "base": true,
       "bottom": true,
       "bounds": null,
       "detect_retina": false,
       "loading": false,
       "max_native_zoom": 18,
       "max_zoom": 19,
       "min_native_zoom": 0,
       "min_zoom": 1,
       "name": "OpenStreetMap.Mapnik",
       "no_wrap": false,
       "opacity": 1,
       "options": [
        "attribution",
        "bounds",
        "detect_retina",
        "max_native_zoom",
        "max_zoom",
        "min_native_zoom",
        "min_zoom",
        "no_wrap",
        "tile_size",
        "tms"
       ],
       "popup": null,
       "popup_max_height": null,
       "popup_max_width": 300,
       "popup_min_width": 50,
       "show_loading": false,
       "tile_size": 256,
       "tms": false,
       "url": "https://a.tile.openstreetmap.org/{z}/{x}/{y}.png",
       "visible": true
      }
     },
     "7395d3e1dad44825bac173889fbf1de5": {
      "model_module": "jupyter-leaflet",
      "model_module_version": "^0.16.0",
      "model_name": "LeafletMapStyleModel",
      "state": {
       "_model_module": "jupyter-leaflet",
       "_model_module_version": "^0.16.0",
       "_model_name": "LeafletMapStyleModel",
       "_view_count": null,
       "_view_module": "@jupyter-widgets/base",
       "_view_module_version": "1.2.0",
       "_view_name": "StyleView",
       "cursor": "grab"
      }
     },
     "908282849edd4b41bdb0451b70beedd8": {
      "model_module": "@jupyter-widgets/controls",
      "model_module_version": "1.5.0",
      "model_name": "DescriptionStyleModel",
      "state": {
       "_model_module": "@jupyter-widgets/controls",
       "_model_module_version": "1.5.0",
       "_model_name": "DescriptionStyleModel",
       "_view_count": null,
       "_view_module": "@jupyter-widgets/base",
       "_view_module_version": "1.2.0",
       "_view_name": "StyleView",
       "description_width": ""
      }
     },
     "a4d479888d854cd6b7fea172506f2f9c": {
      "model_module": "@jupyter-widgets/base",
      "model_module_version": "1.2.0",
      "model_name": "LayoutModel",
      "state": {
       "_model_module": "@jupyter-widgets/base",
       "_model_module_version": "1.2.0",
       "_model_name": "LayoutModel",
       "_view_count": null,
       "_view_module": "@jupyter-widgets/base",
       "_view_module_version": "1.2.0",
       "_view_name": "LayoutView",
       "align_content": null,
       "align_items": null,
       "align_self": null,
       "border": null,
       "bottom": null,
       "display": null,
       "flex": null,
       "flex_flow": null,
       "grid_area": null,
       "grid_auto_columns": null,
       "grid_auto_flow": null,
       "grid_auto_rows": null,
       "grid_column": null,
       "grid_gap": null,
       "grid_row": null,
       "grid_template_areas": null,
       "grid_template_columns": null,
       "grid_template_rows": null,
       "height": null,
       "justify_content": null,
       "justify_items": null,
       "left": null,
       "margin": null,
       "max_height": null,
       "max_width": null,
       "min_height": null,
       "min_width": null,
       "object_fit": null,
       "object_position": null,
       "order": null,
       "overflow": null,
       "overflow_x": null,
       "overflow_y": null,
       "padding": null,
       "right": null,
       "top": null,
       "visibility": null,
       "width": null
      }
     },
     "c668949c88654310bb432b6f687e67cc": {
      "model_module": "@jupyter-widgets/base",
      "model_module_version": "1.2.0",
      "model_name": "LayoutModel",
      "state": {
       "_model_module": "@jupyter-widgets/base",
       "_model_module_version": "1.2.0",
       "_model_name": "LayoutModel",
       "_view_count": null,
       "_view_module": "@jupyter-widgets/base",
       "_view_module_version": "1.2.0",
       "_view_name": "LayoutView",
       "align_content": null,
       "align_items": null,
       "align_self": null,
       "border": null,
       "bottom": null,
       "display": null,
       "flex": null,
       "flex_flow": null,
       "grid_area": null,
       "grid_auto_columns": null,
       "grid_auto_flow": null,
       "grid_auto_rows": null,
       "grid_column": null,
       "grid_gap": null,
       "grid_row": null,
       "grid_template_areas": null,
       "grid_template_columns": null,
       "grid_template_rows": null,
       "height": null,
       "justify_content": null,
       "justify_items": null,
       "left": null,
       "margin": null,
       "max_height": null,
       "max_width": null,
       "min_height": null,
       "min_width": null,
       "object_fit": null,
       "object_position": null,
       "order": null,
       "overflow": null,
       "overflow_x": null,
       "overflow_y": null,
       "padding": null,
       "right": null,
       "top": null,
       "visibility": null,
       "width": null
      }
     },
     "dd0c53ebb83e404d9b5d64d10edde732": {
      "model_module": "jupyter-leaflet",
      "model_module_version": "^0.16.0",
      "model_name": "LeafletTileLayerModel",
      "state": {
       "_model_module": "jupyter-leaflet",
       "_model_module_version": "^0.16.0",
       "_model_name": "LeafletTileLayerModel",
       "_view_count": null,
       "_view_module": "jupyter-leaflet",
       "_view_module_version": "^0.16.0",
       "_view_name": "LeafletTileLayerView",
       "attribution": "Map data (c) <a href=\"https://openstreetmap.org\">OpenStreetMap</a> contributors",
       "base": false,
       "bottom": true,
       "bounds": null,
       "detect_retina": false,
       "loading": false,
       "max_native_zoom": 18,
       "max_zoom": 18,
       "min_native_zoom": 0,
       "min_zoom": 0,
       "name": "",
       "no_wrap": false,
       "opacity": 1,
       "options": [
        "attribution",
        "bounds",
        "detect_retina",
        "max_native_zoom",
        "max_zoom",
        "min_native_zoom",
        "min_zoom",
        "no_wrap",
        "tile_size",
        "tms"
       ],
       "popup": null,
       "popup_max_height": null,
       "popup_max_width": 300,
       "popup_min_width": 50,
       "show_loading": false,
       "tile_size": 256,
       "tms": false,
       "url": "https://staging-raster.delta-backend.xyz/stac/tiles/WebMercatorQuad/{z}/{x}/{y}@1x?collection=nightlights-hd-monthly&item=finalBMHD_ScaledVenice_202004&assets=cog_default&bidx=1&unscale=false&resampling=nearest&max_size=1024&rescale=0%2C255&colormap_name=plasma",
       "visible": true
      }
     },
     "eafd7126761f451fa965778af38ae919": {
      "model_module": "@jupyter-widgets/controls",
      "model_module_version": "1.5.0",
      "model_name": "VBoxModel",
      "state": {
       "_dom_classes": [
        "widget-interact"
       ],
       "_model_module": "@jupyter-widgets/controls",
       "_model_module_version": "1.5.0",
       "_model_name": "VBoxModel",
       "_view_count": null,
       "_view_module": "@jupyter-widgets/controls",
       "_view_module_version": "1.5.0",
       "_view_name": "VBoxView",
       "box_style": "",
       "children": [
        "IPY_MODEL_f26f019fb9404400a43d4507b7f2be71",
        "IPY_MODEL_01fb73817dfa48a6805bbfb2bda4ce3f"
       ],
       "layout": "IPY_MODEL_63b7cbe47836406fa0a4b1592eb974c6"
      }
     },
     "f132ff221400410a9e23697862b45ee6": {
      "model_module": "jupyter-leaflet",
      "model_module_version": "^0.16.0",
      "model_name": "LeafletTileLayerModel",
      "state": {
       "_model_module": "jupyter-leaflet",
       "_model_module_version": "^0.16.0",
       "_model_name": "LeafletTileLayerModel",
       "_view_count": null,
       "_view_module": "jupyter-leaflet",
       "_view_module_version": "^0.16.0",
       "_view_name": "LeafletTileLayerView",
       "attribution": "Map data (c) <a href=\"https://openstreetmap.org\">OpenStreetMap</a> contributors",
       "base": false,
       "bottom": true,
       "bounds": null,
       "detect_retina": false,
       "loading": false,
       "max_native_zoom": 18,
       "max_zoom": 18,
       "min_native_zoom": 0,
       "min_zoom": 0,
       "name": "",
       "no_wrap": false,
       "opacity": 1,
       "options": [
        "attribution",
        "bounds",
        "detect_retina",
        "max_native_zoom",
        "max_zoom",
        "min_native_zoom",
        "min_zoom",
        "no_wrap",
        "tile_size",
        "tms"
       ],
       "popup": null,
       "popup_max_height": null,
       "popup_max_width": 300,
       "popup_min_width": 50,
       "show_loading": false,
       "tile_size": 256,
       "tms": false,
       "url": "https://staging-raster.delta-backend.xyz/stac/tiles/WebMercatorQuad/{z}/{x}/{y}@1x?collection=nightlights-hd-monthly&item=finalBMHD_ScaledVenice_201904&assets=cog_default&bidx=1&unscale=false&resampling=nearest&max_size=1024&rescale=0%2C255&colormap_name=plasma",
       "visible": true
      }
     },
     "f26f019fb9404400a43d4507b7f2be71": {
      "model_module": "@jupyter-widgets/controls",
      "model_module_version": "1.5.0",
      "model_name": "TextModel",
      "state": {
       "_dom_classes": [],
       "_model_module": "@jupyter-widgets/controls",
       "_model_module_version": "1.5.0",
       "_model_name": "TextModel",
       "_view_count": null,
       "_view_module": "@jupyter-widgets/controls",
       "_view_module_version": "1.5.0",
       "_view_name": "TextView",
       "continuous_update": true,
       "description": "city",
       "description_tooltip": null,
       "disabled": false,
       "layout": "IPY_MODEL_c668949c88654310bb432b6f687e67cc",
       "placeholder": "​",
       "style": "IPY_MODEL_908282849edd4b41bdb0451b70beedd8",
       "value": "Venice Lagoon"
      }
     }
    },
    "version_major": 2,
    "version_minor": 0
   }
  }
 },
 "nbformat": 4,
 "nbformat_minor": 5
}
