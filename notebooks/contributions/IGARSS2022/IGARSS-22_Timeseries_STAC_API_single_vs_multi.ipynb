{
 "cells": [
  {
   "cell_type": "code",
   "execution_count": 1,
   "id": "b13a19b0-93e0-4c8a-95e1-629a83b05cd0",
   "metadata": {
    "execution": {
     "iopub.execute_input": "2023-03-22T13:14:02.154099Z",
     "iopub.status.busy": "2023-03-22T13:14:02.152393Z",
     "iopub.status.idle": "2023-03-22T13:14:02.267553Z",
     "shell.execute_reply": "2023-03-22T13:14:02.265095Z"
    },
    "papermill": {
     "duration": 0.129807,
     "end_time": "2023-03-22T13:14:02.270394",
     "exception": false,
     "start_time": "2023-03-22T13:14:02.140587",
     "status": "completed"
    },
    "tags": []
   },
   "outputs": [
    {
     "data": {
      "text/html": [
       "<script type=\"text/javascript\">\n",
       "        function toggle(id) {\n",
       "            el = document.getElementById(id);\n",
       "            el.style.display = el.style.display === \"none\" ? \"block\" : \"none\";\n",
       "        }\n",
       "    </script>"
      ],
      "text/plain": [
       "<IPython.core.display.HTML object>"
      ]
     },
     "metadata": {},
     "output_type": "display_data"
    },
    {
     "data": {
      "text/html": [
       "This notebook is compatible with this base image version (user-2023.03-02)."
      ],
      "text/plain": [
       "<IPython.core.display.HTML object>"
      ]
     },
     "metadata": {},
     "output_type": "display_data"
    }
   ],
   "source": [
    "from eoxhub import check_compatibility\n",
    "check_compatibility(\"user-2023.03-02\", dependencies=[])"
   ]
  },
  {
   "cell_type": "markdown",
   "id": "eb4fb6e5",
   "metadata": {
    "papermill": {
     "duration": 0.007609,
     "end_time": "2023-03-22T13:14:02.287176",
     "exception": false,
     "start_time": "2023-03-22T13:14:02.279567",
     "status": "completed"
    },
    "tags": []
   },
   "source": [
    "# Time series using STAC API statistics endpoints\n",
    "\n",
    "This notebook demonstrates how to generate a timeseries using STAC API statistics endpoints.\n",
    "\n",
    "* Author: Leo Thomas\n",
    "* Lasted Updated Date: July 13, 2022"
   ]
  },
  {
   "cell_type": "code",
   "execution_count": 2,
   "id": "a21597e1",
   "metadata": {
    "execution": {
     "iopub.execute_input": "2023-03-22T13:14:02.310657Z",
     "iopub.status.busy": "2023-03-22T13:14:02.309835Z",
     "iopub.status.idle": "2023-03-22T13:14:03.830891Z",
     "shell.execute_reply": "2023-03-22T13:14:03.828608Z"
    },
    "papermill": {
     "duration": 1.538027,
     "end_time": "2023-03-22T13:14:03.834390",
     "exception": false,
     "start_time": "2023-03-22T13:14:02.296363",
     "status": "completed"
    },
    "tags": []
   },
   "outputs": [],
   "source": [
    "import datetime as dt\n",
    "from ipyleaflet import basemaps, Map, GeoJSON\n",
    "import json\n",
    "import requests as re\n",
    "import matplotlib.pyplot as plt\n",
    "import pprint\n",
    "import time\n",
    "\n",
    "STAC_API_URL = \"https://staging-stac.delta-backend.com\"\n",
    "RASTER_API_URL = \"https://staging-raster.delta-backend.com\""
   ]
  },
  {
   "cell_type": "markdown",
   "id": "e586af7a",
   "metadata": {
    "papermill": {
     "duration": 0.010152,
     "end_time": "2023-03-22T13:14:03.859097",
     "exception": false,
     "start_time": "2023-03-22T13:14:03.848945",
     "status": "completed"
    },
    "tags": []
   },
   "source": [
    "# Declare your collection of interest\n",
    "\n",
    "You can discover available collections the following ways:\n",
    "\n",
    "* Use the `{STAC_ENDPOINT_URL}/collections` API endpoint (JSON response)\n",
    "* Programmatically using `pystac` (see example in the `list-collections.ipynb` notebook\n",
    "* In the STAC Browser: http://delta-staging-stac-browser.s3-website-us-east-1.amazonaws.com/\n"
   ]
  },
  {
   "cell_type": "code",
   "execution_count": 3,
   "id": "b811b704",
   "metadata": {
    "execution": {
     "iopub.execute_input": "2023-03-22T13:14:03.884049Z",
     "iopub.status.busy": "2023-03-22T13:14:03.883285Z",
     "iopub.status.idle": "2023-03-22T13:14:03.892798Z",
     "shell.execute_reply": "2023-03-22T13:14:03.889039Z"
    },
    "papermill": {
     "duration": 0.026651,
     "end_time": "2023-03-22T13:14:03.897242",
     "exception": false,
     "start_time": "2023-03-22T13:14:03.870591",
     "status": "completed"
    },
    "tags": []
   },
   "outputs": [],
   "source": [
    "collection = 'no2-monthly'"
   ]
  },
  {
   "cell_type": "markdown",
   "id": "924655ba",
   "metadata": {
    "papermill": {
     "duration": 0.011979,
     "end_time": "2023-03-22T13:14:03.920867",
     "exception": false,
     "start_time": "2023-03-22T13:14:03.908888",
     "status": "completed"
    },
    "tags": []
   },
   "source": [
    "## Discover data using the STAC endpoint"
   ]
  },
  {
   "cell_type": "code",
   "execution_count": 4,
   "id": "b53ee50a",
   "metadata": {
    "execution": {
     "iopub.execute_input": "2023-03-22T13:14:03.945406Z",
     "iopub.status.busy": "2023-03-22T13:14:03.944595Z",
     "iopub.status.idle": "2023-03-22T13:14:04.715317Z",
     "shell.execute_reply": "2023-03-22T13:14:04.712382Z"
    },
    "papermill": {
     "duration": 0.786754,
     "end_time": "2023-03-22T13:14:04.719141",
     "exception": false,
     "start_time": "2023-03-22T13:14:03.932387",
     "status": "completed"
    },
    "tags": []
   },
   "outputs": [
    {
     "data": {
      "text/plain": [
       "{'id': 'no2-monthly',\n",
       " 'type': 'Collection',\n",
       " 'links': [{'rel': 'items',\n",
       "   'type': 'application/geo+json',\n",
       "   'href': 'https://staging-stac.delta-backend.com/collections/no2-monthly/items'},\n",
       "  {'rel': 'parent',\n",
       "   'type': 'application/json',\n",
       "   'href': 'https://staging-stac.delta-backend.com/'},\n",
       "  {'rel': 'root',\n",
       "   'type': 'application/json',\n",
       "   'href': 'https://staging-stac.delta-backend.com/'},\n",
       "  {'rel': 'self',\n",
       "   'type': 'application/json',\n",
       "   'href': 'https://staging-stac.delta-backend.com/collections/no2-monthly'}],\n",
       " 'title': 'NO₂',\n",
       " 'extent': {'spatial': {'bbox': [[-180, -90, 180, 90]]},\n",
       "  'temporal': {'interval': [['2016-01-01 00:00:00+00',\n",
       "     '2022-12-01 00:00:00+00']]}},\n",
       " 'license': 'MIT',\n",
       " 'summaries': {'datetime': ['2016-01-01T00:00:00Z', '2022-12-01T00:00:00Z'],\n",
       "  'cog_default': {'max': 50064805976866816, 'min': -10183824872833024}},\n",
       " 'description': 'Darker colors indicate higher nitrogen dioxide (NO₂) levels and more activity. Lighter colors indicate lower levels of NO₂ and less activity. Missing pixels indicate areas of no data most likely associated with cloud cover or snow.',\n",
       " 'item_assets': {'cog_default': {'type': 'image/tiff; application=geotiff; profile=cloud-optimized',\n",
       "   'roles': ['data', 'layer'],\n",
       "   'title': 'Default COG Layer',\n",
       "   'description': 'Cloud optimized default layer to display on map'}},\n",
       " 'stac_version': '1.0.0',\n",
       " 'stac_extensions': ['https://stac-extensions.github.io/item-assets/v1.0.0/schema.json'],\n",
       " 'dashboard:is_periodic': True,\n",
       " 'dashboard:time_density': 'month'}"
      ]
     },
     "execution_count": 4,
     "metadata": {},
     "output_type": "execute_result"
    }
   ],
   "source": [
    "re.get(f\"{STAC_API_URL}/collections/{collection}\").json()"
   ]
  },
  {
   "cell_type": "markdown",
   "id": "ea8ac8a9",
   "metadata": {
    "papermill": {
     "duration": 0.008965,
     "end_time": "2023-03-22T13:14:04.736750",
     "exception": false,
     "start_time": "2023-03-22T13:14:04.727785",
     "status": "completed"
    },
    "tags": []
   },
   "source": [
    "## Describe the periodic nature of the data"
   ]
  },
  {
   "cell_type": "code",
   "execution_count": 5,
   "id": "1cb72339",
   "metadata": {
    "execution": {
     "iopub.execute_input": "2023-03-22T13:14:04.801035Z",
     "iopub.status.busy": "2023-03-22T13:14:04.798695Z",
     "iopub.status.idle": "2023-03-22T13:14:05.549573Z",
     "shell.execute_reply": "2023-03-22T13:14:05.541024Z"
    },
    "papermill": {
     "duration": 0.766128,
     "end_time": "2023-03-22T13:14:05.553301",
     "exception": false,
     "start_time": "2023-03-22T13:14:04.787173",
     "status": "completed"
    },
    "scrolled": true,
    "tags": []
   },
   "outputs": [
    {
     "name": "stdout",
     "output_type": "stream",
     "text": [
      "{'dashboard:is_periodic': True,\n",
      " 'dashboard:time_density': 'month',\n",
      " 'summaries': {'cog_default': {'max': 50064805976866816,\n",
      "                               'min': -10183824872833024},\n",
      "               'datetime': ['2016-01-01T00:00:00Z', '2022-12-01T00:00:00Z']}}\n"
     ]
    }
   ],
   "source": [
    "pprint.pprint({\n",
    "    k:v for k,v in re.get(f\"{STAC_API_URL}/collections/no2-monthly\").json().items()\n",
    "    if k in [\"dashboard:is_periodic\", \"dashboard:time_density\", \"summaries\"]\n",
    "})"
   ]
  },
  {
   "cell_type": "markdown",
   "id": "e1744bcd",
   "metadata": {
    "papermill": {
     "duration": 0.009484,
     "end_time": "2023-03-22T13:14:05.585488",
     "exception": false,
     "start_time": "2023-03-22T13:14:05.576004",
     "status": "completed"
    },
    "tags": []
   },
   "source": [
    "## Load and inspect one of the STAC items\n",
    "\n",
    "This step is just for demonstration, to inspect what an item looks like."
   ]
  },
  {
   "cell_type": "code",
   "execution_count": 6,
   "id": "a1554809",
   "metadata": {
    "execution": {
     "iopub.execute_input": "2023-03-22T13:14:05.608667Z",
     "iopub.status.busy": "2023-03-22T13:14:05.607960Z",
     "iopub.status.idle": "2023-03-22T13:14:06.964447Z",
     "shell.execute_reply": "2023-03-22T13:14:06.961945Z"
    },
    "papermill": {
     "duration": 1.375056,
     "end_time": "2023-03-22T13:14:06.971215",
     "exception": false,
     "start_time": "2023-03-22T13:14:05.596159",
     "status": "completed"
    },
    "tags": []
   },
   "outputs": [
    {
     "data": {
      "text/plain": [
       "{'id': 'OMI_trno2_0.10x0.10_202212_Col3_V4.nc',\n",
       " 'bbox': [-180.0, -90.0, 180.0, 90.0],\n",
       " 'type': 'Feature',\n",
       " 'links': [{'rel': 'collection',\n",
       "   'type': 'application/json',\n",
       "   'href': 'https://staging-stac.delta-backend.com/collections/no2-monthly'},\n",
       "  {'rel': 'parent',\n",
       "   'type': 'application/json',\n",
       "   'href': 'https://staging-stac.delta-backend.com/collections/no2-monthly'},\n",
       "  {'rel': 'root',\n",
       "   'type': 'application/json',\n",
       "   'href': 'https://staging-stac.delta-backend.com/'},\n",
       "  {'rel': 'self',\n",
       "   'type': 'application/geo+json',\n",
       "   'href': 'https://staging-stac.delta-backend.com/collections/no2-monthly/items/OMI_trno2_0.10x0.10_202212_Col3_V4.nc'}],\n",
       " 'assets': {'cog_default': {'href': 's3://veda-data-store-staging/no2-monthly/OMI_trno2_0.10x0.10_202212_Col3_V4.nc.tif',\n",
       "   'type': 'image/tiff; application=geotiff; profile=cloud-optimized',\n",
       "   'roles': ['data', 'layer'],\n",
       "   'title': 'Default COG Layer',\n",
       "   'description': 'Cloud optimized default layer to display on map',\n",
       "   'raster:bands': [{'scale': 1.0,\n",
       "     'nodata': -1.2676506002282294e+30,\n",
       "     'offset': 0.0,\n",
       "     'sampling': 'area',\n",
       "     'data_type': 'float32',\n",
       "     'histogram': {'max': 38843752944500740,\n",
       "      'min': -6707683428139008.0,\n",
       "      'count': 11.0,\n",
       "      'buckets': [58.0,\n",
       "       423787.0,\n",
       "       8532.0,\n",
       "       1008.0,\n",
       "       339.0,\n",
       "       199.0,\n",
       "       79.0,\n",
       "       4.0,\n",
       "       0.0,\n",
       "       2.0]},\n",
       "     'statistics': {'mean': 423085978017950.7,\n",
       "      'stddev': 971153921053730.1,\n",
       "      'maximum': 38843752944500740,\n",
       "      'minimum': -6707683428139008.0,\n",
       "      'valid_percent': 82.78045654296875}}]}},\n",
       " 'geometry': {'type': 'Polygon',\n",
       "  'coordinates': [[[-180, -90],\n",
       "    [180, -90],\n",
       "    [180, 90],\n",
       "    [-180, 90],\n",
       "    [-180, -90]]]},\n",
       " 'collection': 'no2-monthly',\n",
       " 'properties': {'proj:bbox': [-180.0, -90.0, 180.0, 90.0],\n",
       "  'proj:epsg': 4326.0,\n",
       "  'proj:shape': [1800.0, 3600.0],\n",
       "  'end_datetime': '2022-12-31T00:00:00',\n",
       "  'proj:geometry': {'type': 'Polygon',\n",
       "   'coordinates': [[[-180.0, -90.0],\n",
       "     [180.0, -90.0],\n",
       "     [180.0, 90.0],\n",
       "     [-180.0, 90.0],\n",
       "     [-180.0, -90.0]]]},\n",
       "  'proj:transform': [0.1, 0.0, -180.0, 0.0, -0.1, 90.0, 0.0, 0.0, 1.0],\n",
       "  'start_datetime': '2022-12-01T00:00:00'},\n",
       " 'stac_version': '1.0.0',\n",
       " 'stac_extensions': ['https://stac-extensions.github.io/projection/v1.0.0/schema.json',\n",
       "  'https://stac-extensions.github.io/raster/v1.1.0/schema.json']}"
      ]
     },
     "execution_count": 6,
     "metadata": {},
     "output_type": "execute_result"
    }
   ],
   "source": [
    "items = re.get(f\"{STAC_API_URL}/collections/{collection}/items?limit=100\").json()[\"features\"]\n",
    "items[0]"
   ]
  },
  {
   "cell_type": "markdown",
   "id": "b95b2001",
   "metadata": {
    "papermill": {
     "duration": 0.015219,
     "end_time": "2023-03-22T13:14:07.000160",
     "exception": false,
     "start_time": "2023-03-22T13:14:06.984941",
     "status": "completed"
    },
    "tags": []
   },
   "source": [
    "## Define a bounding box\n",
    "\n",
    "We've defined a bounding box for France in this case."
   ]
  },
  {
   "cell_type": "code",
   "execution_count": 7,
   "id": "e60f264c",
   "metadata": {
    "execution": {
     "iopub.execute_input": "2023-03-22T13:14:07.042727Z",
     "iopub.status.busy": "2023-03-22T13:14:07.042035Z",
     "iopub.status.idle": "2023-03-22T13:14:07.072841Z",
     "shell.execute_reply": "2023-03-22T13:14:07.070098Z"
    },
    "papermill": {
     "duration": 0.055523,
     "end_time": "2023-03-22T13:14:07.078577",
     "exception": false,
     "start_time": "2023-03-22T13:14:07.023054",
     "status": "completed"
    },
    "tags": []
   },
   "outputs": [],
   "source": [
    "bounding_box_france = { \n",
    "    \"type\": \"Feature\",\n",
    "    \"properties\": {},\n",
    "    \"geometry\": {\n",
    "        \"type\": \"Polygon\",\n",
    "        \"coordinates\": [[\n",
    "            [\n",
    "              -5.4534286,\n",
    "              41.2632185\n",
    "            ],\n",
    "            [\n",
    "              9.8678344,\n",
    "              41.2632185\n",
    "            ],\n",
    "            [\n",
    "              9.8678344,\n",
    "              51.268318\n",
    "            ],\n",
    "            [\n",
    "              -5.4534286,\n",
    "              51.268318\n",
    "            ],\n",
    "            [\n",
    "              -5.4534286,\n",
    "              41.2632185\n",
    "            ]\n",
    "        ]]\n",
    "    }\n",
    "}\n",
    "\n"
   ]
  },
  {
   "cell_type": "markdown",
   "id": "e287ce5b",
   "metadata": {
    "papermill": {
     "duration": 0.022779,
     "end_time": "2023-03-22T13:14:07.118491",
     "exception": false,
     "start_time": "2023-03-22T13:14:07.095712",
     "status": "completed"
    },
    "tags": []
   },
   "source": [
    "## Map the bounding box\n",
    "\n",
    "This step is for visual inspection of the bounding box."
   ]
  },
  {
   "cell_type": "code",
   "execution_count": 8,
   "id": "c7586f0d",
   "metadata": {
    "execution": {
     "iopub.execute_input": "2023-03-22T13:14:07.155259Z",
     "iopub.status.busy": "2023-03-22T13:14:07.154280Z",
     "iopub.status.idle": "2023-03-22T13:14:07.184049Z",
     "shell.execute_reply": "2023-03-22T13:14:07.182475Z"
    },
    "papermill": {
     "duration": 0.095161,
     "end_time": "2023-03-22T13:14:07.228618",
     "exception": false,
     "start_time": "2023-03-22T13:14:07.133457",
     "status": "completed"
    },
    "tags": []
   },
   "outputs": [
    {
     "data": {
      "application/vnd.jupyter.widget-view+json": {
       "model_id": "a24bfc3ec6714fbfa5ff61354fb4c06d",
       "version_major": 2,
       "version_minor": 0
      },
      "text/plain": [
       "Map(center=[47, 4], controls=(ZoomControl(options=['position', 'zoom_in_text', 'zoom_in_title', 'zoom_out_text…"
      ]
     },
     "execution_count": 8,
     "metadata": {},
     "output_type": "execute_result"
    }
   ],
   "source": [
    "m = Map(\n",
    "    basemap=basemaps.OpenStreetMap.Mapnik,\n",
    "    center=(47,4),\n",
    "    zoom=3\n",
    ")\n",
    "geo = GeoJSON(\n",
    "    data=bounding_box_france,\n",
    "    style={\"color\": \"red\", \"fillOpacity\": 0}\n",
    ")\n",
    "m.add_layer(geo)\n",
    "m"
   ]
  },
  {
   "cell_type": "markdown",
   "id": "b72be43c",
   "metadata": {
    "papermill": {
     "duration": 0.016362,
     "end_time": "2023-03-22T13:14:07.258371",
     "exception": false,
     "start_time": "2023-03-22T13:14:07.242009",
     "status": "completed"
    },
    "tags": []
   },
   "source": [
    "## Use `/cog/statistics` to get data for the bounding box\n",
    "\n",
    "First, we create a `generate_stats` function and then we call it with the bounding box defined for France."
   ]
  },
  {
   "cell_type": "code",
   "execution_count": 9,
   "id": "4ba40c1a",
   "metadata": {
    "execution": {
     "iopub.execute_input": "2023-03-22T13:14:07.280233Z",
     "iopub.status.busy": "2023-03-22T13:14:07.279834Z",
     "iopub.status.idle": "2023-03-22T13:14:07.292092Z",
     "shell.execute_reply": "2023-03-22T13:14:07.288380Z"
    },
    "papermill": {
     "duration": 0.029689,
     "end_time": "2023-03-22T13:14:07.298709",
     "exception": false,
     "start_time": "2023-03-22T13:14:07.269020",
     "status": "completed"
    },
    "tags": []
   },
   "outputs": [],
   "source": [
    "def generate_stats(item, bounding_box):\n",
    "    result = re.post(\n",
    "        f\"{RASTER_API_URL}/cog/statistics\", \n",
    "        params={\n",
    "            \"url\":item[\"assets\"][\"cog_default\"][\"href\"]\n",
    "        },\n",
    "        json=bounding_box\n",
    "    ).json()    \n",
    "    return {\n",
    "        **result[\"properties\"], \"start_datetime\":item[\"properties\"][\"start_datetime\"]\n",
    "    }\n",
    "   "
   ]
  },
  {
   "cell_type": "markdown",
   "id": "69e112b7",
   "metadata": {
    "papermill": {
     "duration": 0.014967,
     "end_time": "2023-03-22T13:14:07.328855",
     "exception": false,
     "start_time": "2023-03-22T13:14:07.313888",
     "status": "completed"
    },
    "tags": []
   },
   "source": [
    "## Generate and estimate time to generate statistics\n",
    "\n",
    "This may take a minute, depending on the network."
   ]
  },
  {
   "cell_type": "code",
   "execution_count": 10,
   "id": "4f859305",
   "metadata": {
    "execution": {
     "iopub.execute_input": "2023-03-22T13:14:07.358187Z",
     "iopub.status.busy": "2023-03-22T13:14:07.357659Z",
     "iopub.status.idle": "2023-03-22T13:15:29.960141Z",
     "shell.execute_reply": "2023-03-22T13:15:29.952468Z"
    },
    "papermill": {
     "duration": 82.640115,
     "end_time": "2023-03-22T13:15:29.985929",
     "exception": false,
     "start_time": "2023-03-22T13:14:07.345814",
     "status": "completed"
    },
    "scrolled": true,
    "tags": []
   },
   "outputs": [
    {
     "name": "stdout",
     "output_type": "stream",
     "text": [
      "Elapsed time for small bounding box (france): 82.58 seconds. Items queried: 84\n"
     ]
    }
   ],
   "source": [
    "start = time.time()\n",
    "stats = [generate_stats(item, bounding_box_france) for item in items]\n",
    "end = time.time()\n",
    "print(f\"Elapsed time for small bounding box (france): {round(end-start,2)} seconds. Items queried: {len(items)}\")"
   ]
  },
  {
   "cell_type": "markdown",
   "id": "83a4e608",
   "metadata": {
    "papermill": {
     "duration": 0.028121,
     "end_time": "2023-03-22T13:15:30.061808",
     "exception": false,
     "start_time": "2023-03-22T13:15:30.033687",
     "status": "completed"
    },
    "tags": []
   },
   "source": [
    "## Inspect one result"
   ]
  },
  {
   "cell_type": "code",
   "execution_count": 11,
   "id": "5340a615",
   "metadata": {
    "execution": {
     "iopub.execute_input": "2023-03-22T13:15:30.111260Z",
     "iopub.status.busy": "2023-03-22T13:15:30.107875Z",
     "iopub.status.idle": "2023-03-22T13:15:30.157196Z",
     "shell.execute_reply": "2023-03-22T13:15:30.150028Z"
    },
    "papermill": {
     "duration": 0.07487,
     "end_time": "2023-03-22T13:15:30.163173",
     "exception": false,
     "start_time": "2023-03-22T13:15:30.088303",
     "status": "completed"
    },
    "tags": []
   },
   "outputs": [
    {
     "data": {
      "text/plain": [
       "{'statistics': {'1': {'min': -3706634085859328.0,\n",
       "   'max': 9359124580007936.0,\n",
       "   'mean': 1527997900534075.2,\n",
       "   'count': 15163.0,\n",
       "   'sum': 2.3169032165798183e+19,\n",
       "   'std': 1219667867095242.0,\n",
       "   'median': 1346475602739200.0,\n",
       "   'majority': 408108295782400.0,\n",
       "   'minority': -3706634085859328.0,\n",
       "   'unique': 15147.0,\n",
       "   'histogram': [[11.0,\n",
       "     127.0,\n",
       "     1014.0,\n",
       "     7655.0,\n",
       "     4688.0,\n",
       "     1083.0,\n",
       "     375.0,\n",
       "     151.0,\n",
       "     42.0,\n",
       "     17.0],\n",
       "    [-3706634085859328.0,\n",
       "     -2400058326646784.0,\n",
       "     -1093482366107648.0,\n",
       "     213093510545408.0,\n",
       "     1519669353644032.0,\n",
       "     2826245247074304.0,\n",
       "     4132821006286848.0,\n",
       "     5439396765499392.0,\n",
       "     6745973061582848.0,\n",
       "     8052548820795392.0,\n",
       "     9359124580007936.0]],\n",
       "   'valid_percent': 99.1,\n",
       "   'masked_pixels': 137.0,\n",
       "   'valid_pixels': 15163.0,\n",
       "   'percentile_98': 5036644475129037.0,\n",
       "   'percentile_2': -612850714196049.9}},\n",
       " 'start_datetime': '2022-11-01T00:00:00'}"
      ]
     },
     "execution_count": 11,
     "metadata": {},
     "output_type": "execute_result"
    }
   ],
   "source": [
    "stats[1]"
   ]
  },
  {
   "cell_type": "code",
   "execution_count": 12,
   "id": "85641f5f",
   "metadata": {
    "execution": {
     "iopub.execute_input": "2023-03-22T13:15:30.197877Z",
     "iopub.status.busy": "2023-03-22T13:15:30.196641Z",
     "iopub.status.idle": "2023-03-22T13:15:30.242716Z",
     "shell.execute_reply": "2023-03-22T13:15:30.237637Z"
    },
    "papermill": {
     "duration": 0.068718,
     "end_time": "2023-03-22T13:15:30.248139",
     "exception": false,
     "start_time": "2023-03-22T13:15:30.179421",
     "status": "completed"
    },
    "tags": []
   },
   "outputs": [],
   "source": [
    "dates = [dt.datetime.strptime(stat[\"start_datetime\"], \"%Y-%m-%dT%H:%M:%S\") for stat in stats]\n",
    "means = [stat[\"statistics\"][\"1\"][\"mean\"] for stat in stats]\n",
    "std_devs = [stat[\"statistics\"][\"1\"][\"std\"] for stat in stats]\n",
    "upper_bounds = [m+s for (m,s) in zip(means, std_devs)]\n",
    "lower_bounds = [m-s for (m,s) in zip(means, std_devs)]"
   ]
  },
  {
   "cell_type": "code",
   "execution_count": 13,
   "id": "e45a4ee7",
   "metadata": {
    "execution": {
     "iopub.execute_input": "2023-03-22T13:15:30.278457Z",
     "iopub.status.busy": "2023-03-22T13:15:30.277913Z",
     "iopub.status.idle": "2023-03-22T13:15:31.060430Z",
     "shell.execute_reply": "2023-03-22T13:15:31.058771Z"
    },
    "papermill": {
     "duration": 0.809461,
     "end_time": "2023-03-22T13:15:31.069523",
     "exception": false,
     "start_time": "2023-03-22T13:15:30.260062",
     "status": "completed"
    },
    "tags": []
   },
   "outputs": [
    {
     "data": {
      "text/plain": [
       "Text(0.5, 1.0, 'NO2 Values in France (2016-2022)')"
      ]
     },
     "execution_count": 13,
     "metadata": {},
     "output_type": "execute_result"
    },
    {
     "data": {
      "image/png": "[encoded data removed]",
      "text/plain": [
       "<Figure size 2000x1000 with 1 Axes>"
      ]
     },
     "metadata": {},
     "output_type": "display_data"
    }
   ],
   "source": [
    "fig = plt.figure(figsize=(20,10))\n",
    "plt.plot(dates, means, 'black', label=\"Mean monthly NO2 values\")\n",
    "\n",
    "plt.fill_between(dates, upper_bounds, lower_bounds, facecolor=\"lightgray\", interpolate=False, label=\"+/- one standard devation\")\n",
    "plt.legend()\n",
    "plt.title(\"NO2 Values in France (2016-2022)\")"
   ]
  },
  {
   "cell_type": "markdown",
   "id": "61a4e527",
   "metadata": {
    "papermill": {
     "duration": 0.019207,
     "end_time": "2023-03-22T13:15:31.120464",
     "exception": false,
     "start_time": "2023-03-22T13:15:31.101257",
     "status": "completed"
    },
    "tags": []
   },
   "source": [
    "### Comparison: multi vs single threaded approach\n",
    "\n",
    "Earlier we requested the statistics from the NASA API for each timestep individually. The API is powered by [AWS Lambda](https://aws.amazon.com/lambda/), which is **highly** scalable. Since each statistics request is for a single timestamp, we can request statistics for multiple timesteps concurrently. We will do this by using the `concurrent.futures` library: "
   ]
  },
  {
   "cell_type": "code",
   "execution_count": 14,
   "id": "d59d40ca",
   "metadata": {
    "execution": {
     "iopub.execute_input": "2023-03-22T13:15:31.153911Z",
     "iopub.status.busy": "2023-03-22T13:15:31.152575Z",
     "iopub.status.idle": "2023-03-22T13:15:39.471364Z",
     "shell.execute_reply": "2023-03-22T13:15:39.469785Z"
    },
    "papermill": {
     "duration": 8.33949,
     "end_time": "2023-03-22T13:15:39.475801",
     "exception": false,
     "start_time": "2023-03-22T13:15:31.136311",
     "status": "completed"
    },
    "tags": []
   },
   "outputs": [
    {
     "name": "stdout",
     "output_type": "stream",
     "text": [
      "Elapsed time for small bounding box (france) with multi-threading: 8.31 seconds. Items queried: 84\n"
     ]
    }
   ],
   "source": [
    "from concurrent.futures import ThreadPoolExecutor \n",
    "\n",
    "def _generate_stats(item):\n",
    "    return generate_stats(item, bounding_box_france)\n",
    "\n",
    "start = time.time()\n",
    "with ThreadPoolExecutor(max_workers=10) as executor: \n",
    "    stats = list(executor.map(_generate_stats, items))\n",
    "end = time.time()\n",
    "print(f\"Elapsed time for small bounding box (france) with multi-threading: {round(end-start,2)} seconds. Items queried: {len(items)}\")"
   ]
  }
 ],
 "metadata": {
  "kernelspec": {
   "display_name": "python3 (edc-default-2022.07-00)",
   "language": "python",
   "name": "conda-env-edc-default-2022.07-00-py"
  },
  "language_info": {
   "codemirror_mode": {
    "name": "ipython",
    "version": 3
   },
   "file_extension": ".py",
   "mimetype": "text/x-python",
   "name": "python",
   "nbconvert_exporter": "python",
   "pygments_lexer": "ipython3",
   "version": "3.9.16"
  },
  "papermill": {
   "default_parameters": {},
   "duration": 99.979783,
   "end_time": "2023-03-22T13:15:40.241728",
   "environment_variables": {},
   "exception": null,
   "input_path": "/tmp/tmp1x0gjpme",
   "output_path": "/tmp/cur_notebook.ipynb",
   "parameters": {},
   "start_time": "2023-03-22T13:14:00.261945",
   "version": "2.3.4"
  },
  "properties": {
   "description": "IGARSS-22 workshop tutorial",
   "id": "IGARSS-22_4",
   "license": null,
   "name": "Time series using STAC API statistics endpoints",
   "requirements": [],
   "tags": [
    "IGARSS-22",
    "EO Dashboard"
   ],
   "version": "1.0"
  },
  "widgets": {
   "application/vnd.jupyter.widget-state+json": {
    "state": {
     "114b67c22e784517bdd03c452db2e21d": {
      "model_module": "jupyter-leaflet",
      "model_module_version": "^0.17",
      "model_name": "LeafletAttributionControlModel",
      "state": {
       "_model_module": "jupyter-leaflet",
       "_model_module_version": "^0.17",
       "_model_name": "LeafletAttributionControlModel",
       "_view_count": null,
       "_view_module": "jupyter-leaflet",
       "_view_module_version": "^0.17",
       "_view_name": "LeafletAttributionControlView",
       "options": [
        "position",
        "prefix"
       ],
       "position": "bottomright",
       "prefix": "ipyleaflet"
      }
     },
     "2ee20beb545d45d9bede67d852e2e136": {
      "model_module": "jupyter-leaflet",
      "model_module_version": "^0.17",
      "model_name": "LeafletGeoJSONModel",
      "state": {
       "_model_module": "jupyter-leaflet",
       "_model_module_version": "^0.17",
       "_model_name": "LeafletGeoJSONModel",
       "_view_count": null,
       "_view_module": "jupyter-leaflet",
       "_view_module_version": "^0.17",
       "_view_name": "LeafletGeoJSONView",
       "base": false,
       "bottom": false,
       "data": {
        "geometry": {
         "coordinates": [
          [
           [
            -5.4534286,
            41.2632185
           ],
           [
            9.8678344,
            41.2632185
           ],
           [
            9.8678344,
            51.268318
           ],
           [
            -5.4534286,
            51.268318
           ],
           [
            -5.4534286,
            41.2632185
           ]
          ]
         ],
         "type": "Polygon"
        },
        "properties": {
         "style": {
          "color": "red",
          "fillOpacity": 0
         }
        },
        "type": "Feature"
       },
       "hover_style": {},
       "layers": [],
       "name": "",
       "options": [],
       "pane": "",
       "point_style": {},
       "popup": null,
       "popup_max_height": null,
       "popup_max_width": 300,
       "popup_min_width": 50,
       "style": {
        "color": "red",
        "fillOpacity": 0
       },
       "subitems": [],
       "visible": true
      }
     },
     "57012888104c4daf9d6e453399d7c1df": {
      "model_module": "jupyter-leaflet",
      "model_module_version": "^0.17",
      "model_name": "LeafletMapStyleModel",
      "state": {
       "_model_module": "jupyter-leaflet",
       "_model_module_version": "^0.17",
       "_model_name": "LeafletMapStyleModel",
       "_view_count": null,
       "_view_module": "@jupyter-widgets/base",
       "_view_module_version": "2.0.0",
       "_view_name": "StyleView",
       "cursor": "grab"
      }
     },
     "8493885b7fdd4c41b10daa2ed9cbd9d0": {
      "model_module": "jupyter-leaflet",
      "model_module_version": "^0.17",
      "model_name": "LeafletTileLayerModel",
      "state": {
       "_model_module": "jupyter-leaflet",
       "_model_module_version": "^0.17",
       "_model_name": "LeafletTileLayerModel",
       "_view_count": null,
       "_view_module": "jupyter-leaflet",
       "_view_module_version": "^0.17",
       "_view_name": "LeafletTileLayerView",
       "attribution": "&copy; <a href=\"https://www.openstreetmap.org/copyright\">OpenStreetMap</a> contributors",
       "base": true,
       "bottom": true,
       "bounds": null,
       "detect_retina": false,
       "loading": false,
       "max_native_zoom": null,
       "max_zoom": 19,
       "min_native_zoom": null,
       "min_zoom": 1,
       "name": "OpenStreetMap.Mapnik",
       "no_wrap": false,
       "opacity": 1.0,
       "options": [
        "attribution",
        "bounds",
        "detect_retina",
        "max_native_zoom",
        "max_zoom",
        "min_native_zoom",
        "min_zoom",
        "no_wrap",
        "tile_size",
        "tms",
        "zoom_offset"
       ],
       "pane": "",
       "popup": null,
       "popup_max_height": null,
       "popup_max_width": 300,
       "popup_min_width": 50,
       "show_loading": false,
       "subitems": [],
       "tile_size": 256,
       "tms": false,
       "url": "https://tile.openstreetmap.org/{z}/{x}/{y}.png",
       "visible": true,
       "zoom_offset": 0
      }
     },
     "a24bfc3ec6714fbfa5ff61354fb4c06d": {
      "model_module": "jupyter-leaflet",
      "model_module_version": "^0.17",
      "model_name": "LeafletMapModel",
      "state": {
       "_dom_classes": [],
       "_model_module": "jupyter-leaflet",
       "_model_module_version": "^0.17",
       "_model_name": "LeafletMapModel",
       "_view_count": null,
       "_view_module": "jupyter-leaflet",
       "_view_module_version": "^0.17",
       "_view_name": "LeafletMapView",
       "bottom": 0.0,
       "bounce_at_zoom_limits": true,
       "box_zoom": true,
       "center": [
        47,
        4
       ],
       "close_popup_on_click": true,
       "controls": [
        "IPY_MODEL_c11c0fd0086248128c3059cedba8b5f1",
        "IPY_MODEL_114b67c22e784517bdd03c452db2e21d"
       ],
       "crs": {
        "custom": false,
        "name": "EPSG3857"
       },
       "default_style": "IPY_MODEL_57012888104c4daf9d6e453399d7c1df",
       "double_click_zoom": true,
       "dragging": true,
       "dragging_style": "IPY_MODEL_dcf854492e414ed897e5d89f00d029bf",
       "east": 0.0,
       "fullscreen": false,
       "inertia": true,
       "inertia_deceleration": 3000,
       "inertia_max_speed": 1500,
       "interpolation": "bilinear",
       "keyboard": true,
       "keyboard_pan_offset": 80,
       "keyboard_zoom_offset": 1,
       "layers": [
        "IPY_MODEL_8493885b7fdd4c41b10daa2ed9cbd9d0",
        "IPY_MODEL_2ee20beb545d45d9bede67d852e2e136"
       ],
       "layout": "IPY_MODEL_b1ca97c235c940f5bcd25b31843db090",
       "left": 9007199254740991.0,
       "max_zoom": null,
       "min_zoom": null,
       "modisdate": "2023-03-21",
       "north": 0.0,
       "options": [
        "bounce_at_zoom_limits",
        "box_zoom",
        "center",
        "close_popup_on_click",
        "double_click_zoom",
        "dragging",
        "fullscreen",
        "inertia",
        "inertia_deceleration",
        "inertia_max_speed",
        "interpolation",
        "keyboard",
        "keyboard_pan_offset",
        "keyboard_zoom_offset",
        "max_zoom",
        "min_zoom",
        "prefer_canvas",
        "scroll_wheel_zoom",
        "tap",
        "tap_tolerance",
        "touch_zoom",
        "world_copy_jump",
        "zoom",
        "zoom_animation_threshold",
        "zoom_delta",
        "zoom_snap"
       ],
       "panes": {},
       "prefer_canvas": false,
       "right": 0.0,
       "scroll_wheel_zoom": false,
       "south": 0.0,
       "style": "IPY_MODEL_d7c16f376b6f4a76b08d1be5844baba0",
       "tabbable": null,
       "tap": true,
       "tap_tolerance": 15,
       "tooltip": null,
       "top": 9007199254740991.0,
       "touch_zoom": true,
       "west": 0.0,
       "window_url": "",
       "world_copy_jump": false,
       "zoom": 3.0,
       "zoom_animation_threshold": 4,
       "zoom_delta": 1.0,
       "zoom_snap": 1.0
      }
     },
     "b1ca97c235c940f5bcd25b31843db090": {
      "model_module": "@jupyter-widgets/base",
      "model_module_version": "2.0.0",
      "model_name": "LayoutModel",
      "state": {
       "_model_module": "@jupyter-widgets/base",
       "_model_module_version": "2.0.0",
       "_model_name": "LayoutModel",
       "_view_count": null,
       "_view_module": "@jupyter-widgets/base",
       "_view_module_version": "2.0.0",
       "_view_name": "LayoutView",
       "align_content": null,
       "align_items": null,
       "align_self": null,
       "border_bottom": null,
       "border_left": null,
       "border_right": null,
       "border_top": null,
       "bottom": null,
       "display": null,
       "flex": null,
       "flex_flow": null,
       "grid_area": null,
       "grid_auto_columns": null,
       "grid_auto_flow": null,
       "grid_auto_rows": null,
       "grid_column": null,
       "grid_gap": null,
       "grid_row": null,
       "grid_template_areas": null,
       "grid_template_columns": null,
       "grid_template_rows": null,
       "height": null,
       "justify_content": null,
       "justify_items": null,
       "left": null,
       "margin": null,
       "max_height": null,
       "max_width": null,
       "min_height": null,
       "min_width": null,
       "object_fit": null,
       "object_position": null,
       "order": null,
       "overflow": null,
       "padding": null,
       "right": null,
       "top": null,
       "visibility": null,
       "width": null
      }
     },
     "c11c0fd0086248128c3059cedba8b5f1": {
      "model_module": "jupyter-leaflet",
      "model_module_version": "^0.17",
      "model_name": "LeafletZoomControlModel",
      "state": {
       "_model_module": "jupyter-leaflet",
       "_model_module_version": "^0.17",
       "_model_name": "LeafletZoomControlModel",
       "_view_count": null,
       "_view_module": "jupyter-leaflet",
       "_view_module_version": "^0.17",
       "_view_name": "LeafletZoomControlView",
       "options": [
        "position",
        "zoom_in_text",
        "zoom_in_title",
        "zoom_out_text",
        "zoom_out_title"
       ],
       "position": "topleft",
       "zoom_in_text": "+",
       "zoom_in_title": "Zoom in",
       "zoom_out_text": "-",
       "zoom_out_title": "Zoom out"
      }
     },
     "d7c16f376b6f4a76b08d1be5844baba0": {
      "model_module": "jupyter-leaflet",
      "model_module_version": "^0.17",
      "model_name": "LeafletMapStyleModel",
      "state": {
       "_model_module": "jupyter-leaflet",
       "_model_module_version": "^0.17",
       "_model_name": "LeafletMapStyleModel",
       "_view_count": null,
       "_view_module": "@jupyter-widgets/base",
       "_view_module_version": "2.0.0",
       "_view_name": "StyleView",
       "cursor": "grab"
      }
     },
     "dcf854492e414ed897e5d89f00d029bf": {
      "model_module": "jupyter-leaflet",
      "model_module_version": "^0.17",
      "model_name": "LeafletMapStyleModel",
      "state": {
       "_model_module": "jupyter-leaflet",
       "_model_module_version": "^0.17",
       "_model_name": "LeafletMapStyleModel",
       "_view_count": null,
       "_view_module": "@jupyter-widgets/base",
       "_view_module_version": "2.0.0",
       "_view_name": "StyleView",
       "cursor": "move"
      }
     }
    },
    "version_major": 2,
    "version_minor": 0
   }
  }
 },
 "nbformat": 4,
 "nbformat_minor": 5
}