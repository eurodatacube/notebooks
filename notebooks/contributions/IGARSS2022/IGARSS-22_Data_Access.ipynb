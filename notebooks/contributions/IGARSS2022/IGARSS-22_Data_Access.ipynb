{
 "cells": [
  {
   "cell_type": "code",
   "execution_count": 1,
   "id": "c7e863ce",
   "metadata": {
    "execution": {
     "iopub.execute_input": "2022-07-19T04:33:59.795525Z",
     "iopub.status.busy": "2022-07-19T04:33:59.794345Z",
     "iopub.status.idle": "2022-07-19T04:33:59.895882Z",
     "shell.execute_reply": "2022-07-19T04:33:59.884526Z"
    },
    "papermill": {
     "duration": 0.127407,
     "end_time": "2022-07-19T04:33:59.898763",
     "exception": false,
     "start_time": "2022-07-19T04:33:59.771356",
     "status": "completed"
    },
    "tags": []
   },
   "outputs": [
    {
     "data": {
      "text/html": [
       "<script type=\"text/javascript\">\n",
       "        function toggle(id) {\n",
       "            el = document.getElementById(id);\n",
       "            el.style.display = el.style.display === \"none\" ? \"block\" : \"none\";\n",
       "        }\n",
       "    </script>"
      ],
      "text/plain": [
       "<IPython.core.display.HTML object>"
      ]
     },
     "metadata": {},
     "output_type": "display_data"
    },
    {
     "data": {
      "text/html": [
       "This notebook is compatible with this base image version (user-2022.07-00)."
      ],
      "text/plain": [
       "<IPython.core.display.HTML object>"
      ]
     },
     "metadata": {},
     "output_type": "display_data"
    },
    {
     "data": {
      "text/markdown": [
       "\n",
       "\n",
       "---------\n",
       "\n",
       "The following environment variables are available:\n",
       "\n",
       "* `GEODB_AUTH_AUD`, `GEODB_AUTH_CLIENT_ID`, `GEODB_AUTH_DOMAIN`, `GEODB_API_SERVER_URL`, `GEODB_AUTH_CLIENT_SECRET`, `GEODB_API_SERVER_PORT`\n",
       "* `SH_CLIENT_ID`, `SH_INSTANCE_ID`, `SH_CLIENT_NAME`, `SH_CLIENT_SECRET`\n"
      ],
      "text/plain": [
       "<IPython.core.display.Markdown object>"
      ]
     },
     "metadata": {},
     "output_type": "display_data"
    }
   ],
   "source": [
    "from eoxhub import check_compatibility\n",
    "check_compatibility(\"user-2022.07-00\", dependencies=[\"GEODB\", \"SH\"])"
   ]
  },
  {
   "cell_type": "markdown",
   "id": "67253235-8502-4d00-84b1-fe8dd50ed7ee",
   "metadata": {
    "papermill": {
     "duration": 0.013107,
     "end_time": "2022-07-19T04:33:59.925583",
     "exception": false,
     "start_time": "2022-07-19T04:33:59.912476",
     "status": "completed"
    },
    "tags": []
   },
   "source": [
    "# Data Access\n",
    "\n",
    "## Geo-storytelling with EODASHBOARD and the Euro Data Cube - Notebook #1"
   ]
  },
  {
   "cell_type": "markdown",
   "id": "651e6209-928a-4ad8-87c1-6f24b674722f",
   "metadata": {
    "papermill": {
     "duration": 0.012961,
     "end_time": "2022-07-19T04:33:59.951054",
     "exception": false,
     "start_time": "2022-07-19T04:33:59.938093",
     "status": "completed"
    },
    "tags": []
   },
   "source": [
    "This notebook provides information on how to discover and access the data provided by NASA, ESA and JAXA in the frame of the EO Dashboard cooperation.\n",
    "\n",
    "The data provided by the European Space Agency (ESA) can be access through the [Euro Data Cube](https://eurodatacube.com) in both raster and vector format. The raster data is typically available via the [Sentinel Hub](https://docs.sentinel-hub.com/api/latest/) services whie the vector data is stored in a geodatabase and accessible via the GeoDB service. Data in the Euro Data Cube is typically presented as Collections. To browse all collections available, visit https://collections.eurodatacube.com\n",
    "\n",
    "NASA make their datasets discoverable as STAC items and available via an open [API](https://nasa-impact.github.io/veda-documentation/).\n",
    "\n",
    "The Japanse Aerospace Exploration Agency (JAXA) provide some of the data via the Euro Dat Cube (using the same mechanisms as ESA) and others via web services. \n",
    "\n",
    "In this notebook we will show you how to access the different datasets. "
   ]
  },
  {
   "cell_type": "markdown",
   "id": "7189ed6c-ab61-4700-b826-132230c1aefe",
   "metadata": {
    "papermill": {
     "duration": 0.014676,
     "end_time": "2022-07-19T04:33:59.979209",
     "exception": false,
     "start_time": "2022-07-19T04:33:59.964533",
     "status": "completed"
    },
    "tags": []
   },
   "source": [
    "## List of Datasets \n",
    "\n",
    "In EO Dashboard datasets are typically grouped by their primary domain (e.g. Agriculture, or Economy). However, the richness and diversity of the observations make the resources much more valuable when combined. \n",
    "For simplicity, below we list all the datasets grouped by their primary domain.\n",
    "\n",
    "The datasets marked with (EU) are available in the Euro Data Cube but they are not exposed via the EO Dashboard. Instead, they are exposed via the [Rapid Action on Covid-19 and EO (RACE) Platform](https://race.esa.int), which uses the same technology as [EO Dashboard](https://eodashboard.org) but is focused only on Europe. \n",
    "\n"
   ]
  },
  {
   "cell_type": "markdown",
   "id": "156ba644-86ca-4e17-af53-1a3642f2e1fc",
   "metadata": {
    "papermill": {
     "duration": 0.013881,
     "end_time": "2022-07-19T04:34:00.005564",
     "exception": false,
     "start_time": "2022-07-19T04:33:59.991683",
     "status": "completed"
    },
    "tags": []
   },
   "source": [
    "### Economic Datasets"
   ]
  },
  {
   "cell_type": "markdown",
   "id": "a56bafe3-3bc5-4645-89a1-952ee308559a",
   "metadata": {
    "papermill": {
     "duration": 0.012906,
     "end_time": "2022-07-19T04:34:00.031637",
     "exception": false,
     "start_time": "2022-07-19T04:34:00.018731",
     "status": "completed"
    },
    "tags": []
   },
   "source": [
    "#### Raster"
   ]
  },
  {
   "cell_type": "markdown",
   "id": "aa8edb6a-77d2-428a-98f5-fe76f0010441",
   "metadata": {
    "papermill": {
     "duration": 0.014936,
     "end_time": "2022-07-19T04:34:00.059298",
     "exception": false,
     "start_time": "2022-07-19T04:34:00.044362",
     "status": "completed"
    },
    "tags": []
   },
   "source": [
    "- Nightlights [visualise on EO Dashboard](https://www.eodashboard.org/explore?indicator=N5)\n",
    "- Population Density (Meta) [visualise on EO Dashboard](https://www.eodashboard.org/explore?indicator=FB&poi=W7-FB)\n",
    "- Population Density (SEDAC) [visualise on EO Dashboard](https://www.eodashboard.org/explore?indicator=NASAPopulation&poi=W6-NASAPopulation)\n",
    "- Recovery Proxy Maps [visualise on EO Dashboard](https://www.eodashboard.org/explore?indicator=N8&poi=TG01-N8)\n",
    "- Slowdown Proxy Maps [visualise on EO Dashboard](https://www.eodashboard.org/explore?indicator=N7&poi=SG01-N7)\n",
    "- Global Gridded Relative Deprivation Index (GRDI) Subnational Human Development Index (SHDI) Constituent raster [Visualise on EO Dashboard](https://eodashboard.org/explore?poi=W15-GRDI3)\n",
    "- Global Gridded Relative Deprivation Index (GRDI) VIIRS Night Lights (VNL) Slope Constituent raster[Visualise on EO Dashboard](https://eodashboard.org/explore?poi=W16-GRDI4)\n",
    "- Global Gridded Relative Deprivation Index (GRDI) VIIRS Night Lights (VNL) Constituent raster [Visualise on EO Dashboard](https://eodashboard.org/explore?poi=W17-GRDI5)\n",
    "- Global Gridded Relative Deprivation Index (GRDI) raster showing count of constituent inputs that were filled in per cell using the Fill Missing Values tool [Visualise on EO Dashboard](https://eodashboard.org/explore?poi=W18-GRDI6)\n",
    "- Global Gridded Relative Deprivation Index (GRDI) built-up area (BUILT) Constituent raster [Visualise on EO Dashboard](https://eodashboard.org/explore?poi=W13-GRDI1)\n",
    "- Global Gridded Relative Deprivation Index (GRDI), V1 raster [Visualise on EO Dashboard](https://eodashboard.org/explore?poi=W14-GRDI2)\n",
    "- Global Gridded Relative Deprivation Index (GRDI) Infant Mortality Rate (IMR) Constituent raster [Visualise on EO Dashboard](https://eodashboard.org/explore?poi=W19-GRDI7)\n",
    "- Global Gridded Relative Deprivation Index (GRDI) Child Dependency Ratio (CDR) Constituent raster [Visualise on EO Dashboard](https://eodashboard.org/explore?poi=W20-GRDI8)\n",
    "- World Settlement Footprint [visualise on EO Dashboard](https://eodashboard.org/explore?poi=WSF-WSF)\n",
    "- Volume of activity at parking lot (EU) [visualise on RACE](https://race.esa.int/?indicator=E11a&poi=PL7-E11a)"
   ]
  },
  {
   "cell_type": "markdown",
   "id": "015ce174-d72d-451b-9eb7-ca240e71b802",
   "metadata": {
    "papermill": {
     "duration": 0.01362,
     "end_time": "2022-07-19T04:34:00.087395",
     "exception": false,
     "start_time": "2022-07-19T04:34:00.073775",
     "status": "completed"
    },
    "tags": []
   },
   "source": [
    "#### Vector / Tabular"
   ]
  },
  {
   "cell_type": "markdown",
   "id": "b82037fe-7b41-4510-8367-559ff2002906",
   "metadata": {
    "papermill": {
     "duration": 0.01224,
     "end_time": "2022-07-19T04:34:00.112737",
     "exception": false,
     "start_time": "2022-07-19T04:34:00.100497",
     "status": "completed"
    },
    "tags": []
   },
   "source": [
    "- Airports: Throughput [visualise on EO Dashboard](https://www.eodashboard.org/explore?indicator=E13b&poi=US042-E13b)\n",
    "- Activity (cars/containers) [visualise on EO Dashboard](https://www.eodashboard.org/explore?indicator=E9&poi=US052-E9)\n",
    "- Airpports: airplanes traffic (EU) [visualise on RACE](https://race.esa.int/?indicator=E13d&poi=NO1-E13d)\n",
    "- Mobilility Data [visualise on EO Dashboard](https://www.eodashboard.org/explore?indicator=GG)\n",
    "- Ports and Shipping - Major Harbours [visualise on EO Dashboard](https://www.eodashboard.org/explore?indicator=E13c&poi=US01-E13c)\n",
    "- Ports and Shipping - impact on air quality (EU) [visualise on RACE](https://race.esa.int/?indicator=C1&poi=IT3-C1)\n",
    "- Ports and Shipping - impact on cruises (EU) [visualise on RACE]()\n",
    "- Ports and Shipping - traffic AIS (EU) [visualise on RACE]()\n",
    "- Ports and Shipping - traffic AIS, Sentinel-1, mobile (EU) [visualise on RACE]()\n",
    "- Border crossing points: volume of activity(EU) [visualise on RACE]()\n",
    "- Commercial centres: volume of activity (EU) [visualise on RACE]()\n",
    "- europe: Crude Oil Storage Index (EU) [visualise on RACE](https://race.esa.int/?poi=EU1-OX)\n",
    "- european sites: Crude Oil Storage Index (EU) [visualise on RACE]()\n",
    "- Oil Storage Volume (EU) [visualise on RACE](https://race.esa.int/?indicator=E3&poi=NL3-E3)\n",
    "- Finished Goods Production: output inventory level (EU) [visualise on RACE](https://race.esa.int/?indicator=E8&poi=DE10-E8)\n",
    "- Number of Trucks Timeseries (EU) [visualise on RACE](https://race.esa.int/?poi=W2-E12c)\n",
    "- Vessel Density Timeseries (EU) [visualise on RACE](https://race.esa.int/?poi=World-E13o)"
   ]
  },
  {
   "cell_type": "markdown",
   "id": "963765c3-a38e-4904-8b3a-3c72f220ca53",
   "metadata": {
    "papermill": {
     "duration": 0.012228,
     "end_time": "2022-07-19T04:34:00.138803",
     "exception": false,
     "start_time": "2022-07-19T04:34:00.126575",
     "status": "completed"
    },
    "tags": []
   },
   "source": [
    "### Agriculture"
   ]
  },
  {
   "cell_type": "markdown",
   "id": "76b961fe-a395-4ea5-8e3b-210af44f707c",
   "metadata": {
    "papermill": {
     "duration": 0.012367,
     "end_time": "2022-07-19T04:34:00.164688",
     "exception": false,
     "start_time": "2022-07-19T04:34:00.152321",
     "status": "completed"
    },
    "tags": []
   },
   "source": [
    "#### Raster"
   ]
  },
  {
   "cell_type": "markdown",
   "id": "790e7f46-fcb7-4554-b384-24a98326fe21",
   "metadata": {
    "papermill": {
     "duration": 0.013377,
     "end_time": "2022-07-19T04:34:00.190768",
     "exception": false,
     "start_time": "2022-07-19T04:34:00.177391",
     "status": "completed"
    },
    "tags": []
   },
   "source": [
    "- global: Aboveground Biomass [visualise on EO Dashboard](https://eodashboard.org/explore?indicator=NCEO)\n",
    "- global: GEOGLAM Crop Conditions [visualise on EO Dashboard](https://eodashboard.org/explore?poi=W6-N6)\n",
    "- global: Global NDVI [visualise on EO Dashboard](https://eodashboard.org/explore?poi=World-E10e)\n",
    "- global: Soil Moisture [visualise on EO Dashboard](https://eodashboard.org/explore?poi=World-SMC&indicator=SMC)\n",
    "- global: Solar Induced Chlorophyll Fluorescense [visualise on EO Dashboard](https://eodashboard.org/explore?poi=EG01-SIF&indicator=SIF)"
   ]
  },
  {
   "cell_type": "markdown",
   "id": "30639d4a-acf6-45ef-a840-c41c870558c7",
   "metadata": {
    "papermill": {
     "duration": 0.015393,
     "end_time": "2022-07-19T04:34:00.219904",
     "exception": false,
     "start_time": "2022-07-19T04:34:00.204511",
     "status": "completed"
    },
    "tags": []
   },
   "source": [
    "#### Vector / Tabular"
   ]
  },
  {
   "cell_type": "markdown",
   "id": "ac15be0c-9c20-4ef2-b8f7-60b984c85265",
   "metadata": {
    "papermill": {
     "duration": 0.014973,
     "end_time": "2022-07-19T04:34:00.248127",
     "exception": false,
     "start_time": "2022-07-19T04:34:00.233154",
     "status": "completed"
    },
    "tags": []
   },
   "source": [
    "- Activity Indicator [visualise on EO Dashboard](https://eodashboard.org/explore?poi=DE11-E10a2&indicator=E10a2)\n",
    "- Harvesting Activity: cummulative harvested area [visualise on EO Dashboard](https://eodashboard.org/explore?indicator=E10a8&poi=ES41-E10a8)\n",
    "- Harvesting Evolution over time [visualise on EO Dashboard](https://eodashboard.org/explore?indicator=E10a6&poi=ES22a-E10a6)\n",
    "- Planting Activity [visualise on EO Dashboard](https://eodashboard.org/explore?poi=US08-E10c&indicator=E10c)\n",
    "- Productive Area [visualise on EO Dashboard](https://eodashboard.org/explore?poi=DE11-E10a1&indicator=E10a1)\n",
    "- Productive Area Change [visualise on EO Dashboard](https://eodashboard.org/explore?indicator=E10a3&poi=DE11-E10a3)\n",
    "- Regional Cropland [visualise on EO Dashboard](https://eodashboard.org/explore?indicator=E10d&poi=TG01-E10d)\n",
    "- Agricultural Workers (EU) [visualise on RACE](https://race.esa.int/?indicator=E10a9&poi=IT_492-E10a9)\n",
    "- National Harvesting Evolution (EU) [visualise on RACE](https://race.esa.int/?indicator=E10a10&poi=FRa-E10a10)"
   ]
  },
  {
   "cell_type": "markdown",
   "id": "dcefa1c3-d61e-4dd6-aaed-584fc24897d8",
   "metadata": {
    "papermill": {
     "duration": 0.012863,
     "end_time": "2022-07-19T04:34:00.276054",
     "exception": false,
     "start_time": "2022-07-19T04:34:00.263191",
     "status": "completed"
    },
    "tags": []
   },
   "source": [
    "### Health\n",
    "\n",
    "- Covid-19 Cases [visualise on EO Dashboard]()\n",
    "- Covid-19 Vaccinations [visualise on EO Dashboard]()"
   ]
  },
  {
   "cell_type": "markdown",
   "id": "bc683ff9-3267-4293-80a5-248eeb78bdaa",
   "metadata": {
    "papermill": {
     "duration": 0.015164,
     "end_time": "2022-07-19T04:34:00.303719",
     "exception": false,
     "start_time": "2022-07-19T04:34:00.288555",
     "status": "completed"
    },
    "tags": []
   },
   "source": [
    "### Atmosphere"
   ]
  },
  {
   "cell_type": "markdown",
   "id": "fa5543fb-3f32-45c9-b85a-98739ce2bdc4",
   "metadata": {
    "papermill": {
     "duration": 0.016534,
     "end_time": "2022-07-19T04:34:00.334111",
     "exception": false,
     "start_time": "2022-07-19T04:34:00.317577",
     "status": "completed"
    },
    "tags": []
   },
   "source": [
    "#### Raster"
   ]
  },
  {
   "cell_type": "markdown",
   "id": "61632150-e246-4975-a747-803ff8fcf8d3",
   "metadata": {
    "papermill": {
     "duration": 0.013242,
     "end_time": "2022-07-19T04:34:00.363125",
     "exception": false,
     "start_time": "2022-07-19T04:34:00.349883",
     "status": "completed"
    },
    "tags": []
   },
   "source": [
    "- global: Carbon Monoxide (TROPOMI) [visualise on EO Dashboard](https://eodashboard.org/explore?indicator=N1&poi=WorldCO-N1)\n",
    "- global: Methane (weekly - TROPOMI) [visualise on EO Dashboard](https://eodashboard.org/explore?indicator=N1&poi=CH4-N1)\n",
    "- global: Nitrogen Dioxide (weekly - TROPOMI)[visualise on EO Dashboard](https://eodashboard.org/explore?indicator=N1&poi=W1-N1)\n",
    "- global: Nitrogen Dioxide (monthly - OMI/Aura)[visualise on EO Dashboard](https://eodashboard.org/explore?indicator=N1&poi=W2-N1)\n",
    "- global: Nitrogen Dioxide Difference (monthly compared to baseline - OMI/Aura)[visualise on EO Dashboard](https://eodashboard.org/explore?indicator=N1&poi=W3-N1)\n",
    "- global: Nitrogen Dioxide (yearly - OMI/Aura) [visualise on EO Dashboard](https://eodashboard.org/explore?indicator=N1&poi=W8-N9)\n",
    "- global: Sulfur Dioxide (OMI/Aura) [visualise on EO Dashboard](https://eodashboard.org/explore?indicator=N1&poi=W9-N10)\n",
    "- global: Sulfur Dioxide (TROPOMI) [visualise on EO Dashboard](https://eodashboard.org/explore?indicator=N1&poi=SO2-N1)\n",
    "- global: Carbon Dioxide mean [visualise on EO Dashboard](https://eodashboard.org/explore?poi=W4-N2)\n",
    "- global: Carbon Dioxide Difference  (monthly compared to baseline) [visualise on EO Dashboard](https://eodashboard.org/explore?poi=W5-N2)\n",
    "- europe: C3S Data - Temperature (EU) [visualise on RACE](https://race.esa.int/?poi=CDS-CDS1)\n",
    "- europe: C3S Data - Relative humidity (EU) [visualise on RACE](https://race.esa.int/?poi=CDS-CDS2)\n",
    "- europe: C3S Data - Wind U (EU) [visualise on RACE](https://race.esa.int/?poi=CDS-CDS3)\n",
    "- europe: C3S Data - Wind V (EU) [visualise on RACE](https://race.esa.int/?poi=CDS-CDS4)\n",
    "- europe: CAMS Air Quality - NO2 (EU) [visualise on RACE](https://race.esa.int/?indicator=N1b&poi=GCAQ1-N1b)\n",
    "- europe: CAMS Air Quality - PM2.5 (EU) [visualise on RACE](https://race.esa.int/?indicator=N1b&poi=GCAQ2-N1b)\n",
    "- europe: CAMS Air Quality - PM10 (EU)[visualise on RACE](https://race.esa.int/?indicator=N1b&poi=GCAQ3-N1b)\n",
    "- europe: CAMS Air Quality - O3 (EU) [visualise on RACE](https://race.esa.int/?indicator=N1b&poi=GCAQ4-N1b)"
   ]
  },
  {
   "cell_type": "markdown",
   "id": "2bb7391e-4fcc-4c14-b074-c5f0b1860d50",
   "metadata": {
    "papermill": {
     "duration": 0.011835,
     "end_time": "2022-07-19T04:34:00.387591",
     "exception": false,
     "start_time": "2022-07-19T04:34:00.375756",
     "status": "completed"
    },
    "tags": []
   },
   "source": [
    "#### Vector / Tabular"
   ]
  },
  {
   "cell_type": "markdown",
   "id": "e2e8d68d-84dc-4332-ad02-175da06275ba",
   "metadata": {
    "papermill": {
     "duration": 0.016483,
     "end_time": "2022-07-19T04:34:00.416641",
     "exception": false,
     "start_time": "2022-07-19T04:34:00.400158",
     "status": "completed"
    },
    "tags": []
   },
   "source": [
    "- global cities: Air Quality (NO2) at city level [visualise on EO Dashboard](https://eodashboard.org/explore?poi=US01-N1&indicator=N1)\n",
    "- european cities: CAMS Air Quality - NO2 (EU) [visualise on RACE](https://race.esa.int/?indicator=N1b&poi=IS1-N1b)\n",
    "- european cities: CAMS Air Quality - PM2.5 (EU) [visualise on RACE](https://race.esa.int/?indicator=N1b&poi=IS1-N1a)\n",
    "- european cities: CAMS Air Quality - PM10 (EU) [visualise on RACE](https://race.esa.int/?indicator=N1b&poi=IS1-N1c)\n",
    "- european cities: CAMS Air Quality - O3 (EU) [visualise on RACE](https://race.esa.int/?indicator=N1b&poi=IS1-N1d)"
   ]
  },
  {
   "cell_type": "markdown",
   "id": "05ec8472-f965-4f08-a4bc-0d2066f72064",
   "metadata": {
    "papermill": {
     "duration": 0.013228,
     "end_time": "2022-07-19T04:34:00.443477",
     "exception": false,
     "start_time": "2022-07-19T04:34:00.430249",
     "status": "completed"
    },
    "tags": []
   },
   "source": [
    "### Water & Ocean"
   ]
  },
  {
   "cell_type": "markdown",
   "id": "efaaf997-be0d-436e-80dd-25f87549ea17",
   "metadata": {
    "papermill": {
     "duration": 0.012105,
     "end_time": "2022-07-19T04:34:00.469694",
     "exception": false,
     "start_time": "2022-07-19T04:34:00.457589",
     "status": "completed"
    },
    "tags": []
   },
   "source": [
    "#### Raster"
   ]
  },
  {
   "cell_type": "markdown",
   "id": "041151ac-2e38-487e-a649-e68782ffe54f",
   "metadata": {
    "papermill": {
     "duration": 0.0138,
     "end_time": "2022-07-19T04:34:00.497287",
     "exception": false,
     "start_time": "2022-07-19T04:34:00.483487",
     "status": "completed"
    },
    "tags": []
   },
   "source": [
    "- global: Ocean Primary Productivity [visualise on EO Dashboard](https://eodashboard.org/explore?poi=NPP-NPP)\n",
    "- global: Precipitation Anomaly [visualise on EO Dashboard](https://eodashboard.org/explore?poi=World-PRC)\n",
    "- global: Soil Moisture [visualise on EO Dashboard](https://eodashboard.org/explore?poi=World-SMC)\n",
    "- global: Sea Ice Concentration [visualise on EO Dashboard](https://eodashboard.org/explore?poi=World-N12&indicator=N12)\n",
    "- global: Sea Ice Thickness [visualise on EO Dashboard](https://eodashboard.org/explore?poi=W8-SIE&indicator=SIE)\n",
    "- regional: Water Quality Regional Maps (EU)[visualise on RACE](https://race.esa.int/?poi=World-N3c&indicator=N3a2)\n",
    "- regional: Water Quality Regional Maps [visualise on EO Dashboard](https://eodashboard.org/explore?poi=JP04-N3a2&indicator=N3a2)\n",
    "- europe: CMEMS Water Quality (EU) [visualise on RACE](https://race.esa.int/?poi=World-N3c)"
   ]
  },
  {
   "cell_type": "markdown",
   "id": "b29de45c-3729-45b3-93b6-5e4cc09431c6",
   "metadata": {
    "papermill": {
     "duration": 0.018784,
     "end_time": "2022-07-19T04:34:00.528821",
     "exception": false,
     "start_time": "2022-07-19T04:34:00.510037",
     "status": "completed"
    },
    "tags": []
   },
   "source": [
    "#### Vector / Tabular"
   ]
  },
  {
   "cell_type": "markdown",
   "id": "944092d8-e301-42e7-8485-d0f05383ddc0",
   "metadata": {
    "papermill": {
     "duration": 0.013586,
     "end_time": "2022-07-19T04:34:00.556134",
     "exception": false,
     "start_time": "2022-07-19T04:34:00.542548",
     "status": "completed"
    },
    "tags": []
   },
   "source": [
    "- regional: Water Quality Time Series [visualise on EO Dashboard]()"
   ]
  },
  {
   "cell_type": "markdown",
   "id": "946c5268-9920-4387-9929-84aa80a80439",
   "metadata": {
    "papermill": {
     "duration": 0.013045,
     "end_time": "2022-07-19T04:34:00.583328",
     "exception": false,
     "start_time": "2022-07-19T04:34:00.570283",
     "status": "completed"
    },
    "tags": []
   },
   "source": [
    "All the avaialable raster data can be explored in the [EuroDataCube collection archive](https://collections.eurodatacube.com/) where you can easily search for data. The vector data, stored in the GeoDB is listed below."
   ]
  },
  {
   "cell_type": "markdown",
   "id": "68a013d0-6c3b-405f-b8bf-488787f37784",
   "metadata": {
    "papermill": {
     "duration": 0.013373,
     "end_time": "2022-07-19T04:34:00.610233",
     "exception": false,
     "start_time": "2022-07-19T04:34:00.596860",
     "status": "completed"
    },
    "tags": []
   },
   "source": [
    "### How do I access the data?"
   ]
  },
  {
   "cell_type": "markdown",
   "id": "54873d42-ab16-4fcd-984f-3908452b641c",
   "metadata": {
    "papermill": {
     "duration": 0.012857,
     "end_time": "2022-07-19T04:34:00.638219",
     "exception": false,
     "start_time": "2022-07-19T04:34:00.625362",
     "status": "completed"
    },
    "tags": []
   },
   "source": [
    "The vector data is stored in the GeoDB, you can access it using the following steps:"
   ]
  },
  {
   "cell_type": "markdown",
   "id": "7672f93e-ce0b-4538-9a89-05b0ecd5504a",
   "metadata": {
    "papermill": {
     "duration": 0.06137,
     "end_time": "2022-07-19T04:34:00.713008",
     "exception": false,
     "start_time": "2022-07-19T04:34:00.651638",
     "status": "completed"
    },
    "tags": []
   },
   "source": [
    "### 1. Accessing vector data with [GeoDB](https://xcube-geodb.readthedocs.io/en/latest/)"
   ]
  },
  {
   "cell_type": "markdown",
   "id": "bb1c50e0-e92f-4a4c-badc-b767e94ba25b",
   "metadata": {
    "papermill": {
     "duration": 0.012861,
     "end_time": "2022-07-19T04:34:00.741523",
     "exception": false,
     "start_time": "2022-07-19T04:34:00.728662",
     "status": "completed"
    },
    "tags": []
   },
   "source": [
    "This first cell is just checking the appropriate permissions are in place"
   ]
  },
  {
   "cell_type": "code",
   "execution_count": 2,
   "id": "644bcbf5-4377-4ff7-9893-110a57bcb6bc",
   "metadata": {
    "execution": {
     "iopub.execute_input": "2022-07-19T04:34:00.768672Z",
     "iopub.status.busy": "2022-07-19T04:34:00.768350Z",
     "iopub.status.idle": "2022-07-19T04:34:02.134674Z",
     "shell.execute_reply": "2022-07-19T04:34:02.133055Z"
    },
    "papermill": {
     "duration": 1.383106,
     "end_time": "2022-07-19T04:34:02.137536",
     "exception": false,
     "start_time": "2022-07-19T04:34:00.754430",
     "status": "completed"
    },
    "tags": []
   },
   "outputs": [
    {
     "data": {
      "text/plain": [
       "'geodb_418dfeac-15f0-4606-9edb-fd9eb722bf04'"
      ]
     },
     "execution_count": 2,
     "metadata": {},
     "output_type": "execute_result"
    }
   ],
   "source": [
    "from edc import check_compatibility\n",
    "from xcube_geodb.core.geodb import GeoDBClient\n",
    "geodb = GeoDBClient()\n",
    "geodb.whoami"
   ]
  },
  {
   "cell_type": "markdown",
   "id": "fee86636-21d9-42e5-8a46-43881f4c5bf4",
   "metadata": {
    "papermill": {
     "duration": 0.01436,
     "end_time": "2022-07-19T04:34:02.164842",
     "exception": false,
     "start_time": "2022-07-19T04:34:02.150482",
     "status": "completed"
    },
    "tags": []
   },
   "source": [
    "Each indicator has a code which can be used to query the data, we need to define the indicator of interest and the database we are going to query. A full list of the indicators available through the GeoDB is shown bellow. JSON files describing each indicator are available [here](https://github.com/eurodatacube/eodash/tree/master/app/public/data/internal)."
   ]
  },
  {
   "cell_type": "markdown",
   "id": "67796ddf-69ca-4f60-b82a-b960494e783e",
   "metadata": {
    "papermill": {
     "duration": 0.015422,
     "end_time": "2022-07-19T04:34:02.194419",
     "exception": false,
     "start_time": "2022-07-19T04:34:02.178997",
     "status": "completed"
    },
    "tags": []
   },
   "source": [
    " | Name                                                    | Collection Code        | Available Locations |\n",
    "  | ------------------------------------------------------- | ---------------------- | ------------ |\n",
    "  | Import/production sites: status of metallic ores        |   E1                   | Port of Genoa, Gdynia, Gdansk, Gijon, Genova, Hamburg, Dunkirk, Dunkirque, Ghent |\n",
    "  | Productive area                                         |  E10a1_tri             | Brandenburg        |\n",
    "  | Activity Indicator                                      |  E10a2_tri             | Brandenburg        |\n",
    "  | Productive area change                                  |  E10a3_tri             | Brandenburg        |\n",
    "  | Number of berry trucks in 2018-2019                     |   E10a5                | Laguna de las Madres        |\n",
    "  | Regional Harvesting Evolution                           |   E10a6                | Regions of Spain        |\n",
    "  | Harvesting activity: cumulative harvested area          |   E10a8                | Regions of Spain        |\n",
    "  | National Harvesting Evolution                           |   E10a10               | Europe        | \n",
    "  | Commercial centres: volume of activity                  |   E11                  | Warsaw, Brussels, Athens, Milan, Rome, Bucharest       |\n",
    "  | Border crossing points: volume of activity              |   E12b                 | GB Border        |\n",
    "  | Airports: throughput                                    | E13b, E13b_tri         | European Airports      |\n",
    "  | Airports: airplane traffic                              | E13d                   | European Airports        |\n",
    "  | Ports and Shipping - Major Harbours                     | E13c_tri               | Hamburg, Ghent, Gdynia, Dunkirk, Genoa, Suez\n",
    "  | Maritime Traffic                                        | E13e,f,g,h,i,l,m,n     | Gioia Tauro, Genoa        |\n",
    "  | Changes in commertial fluxes                            |   E13n                 | Gijon        |\n",
    "  | Ports and Shipping - Major Harbours                     |   E200                 | Hamburg, Ghent, Gdynia, Dunkirk, Genoa, Suez   |\n",
    "  | Finished goods production: output inventory level       |   E8                   | Swindon, Cassino, Ghent, Mioveni, Russelsheim, Leipzig, Craiova, Nosovice, Martorell, Barcelona, Emden, Ingolstadt, Kvasiny        |\n",
    "  | Activity (cars/containers)                              |   E9_tri               | Beijing, Singapore, Palm Springs, Los Angeles, Arcadia, Nagoya        |\n",
    "  | Air Quality (tropomi NO2)                               |   N1, N1_tri           | European Cities & Major World Cities        |\n",
    "  | CAMS Air Quality (PM 2.5)                               |   N1a                  | European Cities        |\n",
    "  | CAMS Air Quality (NO2)                                  |   N1b                  | European Cities        |\n",
    "  | CAMS Air Quality (PM10)                                 |   N1c                  | European Cities        |\n",
    "  | CAMS Air Quality (O3)                                   |   N1d                  | European Cities        |\n",
    "  | Greenhouse Gas                                          |   N2_tri               | Major World Cities        |\n",
    "  | Water Quality Time Series                               |   N3, N3b_tri          | Barcelona, Marseilles, Venice Lagoon & Major World Ports       |\n"
   ]
  },
  {
   "cell_type": "markdown",
   "id": "2fc3415b-b2ad-4841-be62-f077f5e1b1ea",
   "metadata": {
    "papermill": {
     "duration": 0.013001,
     "end_time": "2022-07-19T04:34:02.220549",
     "exception": false,
     "start_time": "2022-07-19T04:34:02.207548",
     "status": "completed"
    },
    "tags": []
   },
   "source": [
    "Please feel free to change the value of `geodb_collection` and use other indicators."
   ]
  },
  {
   "cell_type": "code",
   "execution_count": 3,
   "id": "dc1b901d-6ee5-4cc4-9f64-921fa2c11dfd",
   "metadata": {
    "execution": {
     "iopub.execute_input": "2022-07-19T04:34:02.247067Z",
     "iopub.status.busy": "2022-07-19T04:34:02.246643Z",
     "iopub.status.idle": "2022-07-19T04:34:02.251779Z",
     "shell.execute_reply": "2022-07-19T04:34:02.250831Z"
    },
    "papermill": {
     "duration": 0.020974,
     "end_time": "2022-07-19T04:34:02.253806",
     "exception": false,
     "start_time": "2022-07-19T04:34:02.232832",
     "status": "completed"
    },
    "tags": []
   },
   "outputs": [],
   "source": [
    "geodb_database = \"eodash\"\n",
    "geodb_collection = \"E13c_tri\""
   ]
  },
  {
   "cell_type": "markdown",
   "id": "5326708f-7018-420f-9b94-cae205e9ea43",
   "metadata": {
    "papermill": {
     "duration": 0.012485,
     "end_time": "2022-07-19T04:34:02.278736",
     "exception": false,
     "start_time": "2022-07-19T04:34:02.266251",
     "status": "completed"
    },
    "tags": []
   },
   "source": [
    "To get an overview over the data we can get the first rows of the dataset. \n",
    "\n",
    "The data contains measured values during a measurement period categorised as \"low\", \"medium\", \"high\" under \"indicator_value\" heading."
   ]
  },
  {
   "cell_type": "code",
   "execution_count": 4,
   "id": "baf38698-bf60-4588-b8dd-25d4bd3f9d74",
   "metadata": {
    "execution": {
     "iopub.execute_input": "2022-07-19T04:34:02.309316Z",
     "iopub.status.busy": "2022-07-19T04:34:02.308534Z",
     "iopub.status.idle": "2022-07-19T04:34:02.760328Z",
     "shell.execute_reply": "2022-07-19T04:34:02.759374Z"
    },
    "papermill": {
     "duration": 0.471501,
     "end_time": "2022-07-19T04:34:02.762482",
     "exception": false,
     "start_time": "2022-07-19T04:34:02.290981",
     "status": "completed"
    },
    "tags": []
   },
   "outputs": [
    {
     "data": {
      "text/html": [
       "<div>\n",
       "<style scoped>\n",
       "    .dataframe tbody tr th:only-of-type {\n",
       "        vertical-align: middle;\n",
       "    }\n",
       "\n",
       "    .dataframe tbody tr th {\n",
       "        vertical-align: top;\n",
       "    }\n",
       "\n",
       "    .dataframe thead th {\n",
       "        text-align: right;\n",
       "    }\n",
       "</style>\n",
       "<table border=\"1\" class=\"dataframe\">\n",
       "  <thead>\n",
       "    <tr style=\"text-align: right;\">\n",
       "      <th></th>\n",
       "      <th>id</th>\n",
       "      <th>created_at</th>\n",
       "      <th>modified_at</th>\n",
       "      <th>geometry</th>\n",
       "      <th>aoi</th>\n",
       "      <th>country</th>\n",
       "      <th>region</th>\n",
       "      <th>city</th>\n",
       "      <th>site_name</th>\n",
       "      <th>description</th>\n",
       "      <th>...</th>\n",
       "      <th>reference_value</th>\n",
       "      <th>rule</th>\n",
       "      <th>indicator_value</th>\n",
       "      <th>sub_aoi</th>\n",
       "      <th>y_axis</th>\n",
       "      <th>indicator_name</th>\n",
       "      <th>color_code</th>\n",
       "      <th>data_provider</th>\n",
       "      <th>aoi_id</th>\n",
       "      <th>update_frequency</th>\n",
       "    </tr>\n",
       "  </thead>\n",
       "  <tbody>\n",
       "    <tr>\n",
       "      <th>0</th>\n",
       "      <td>449</td>\n",
       "      <td>2021-12-14T14:05:59.974126+00:00</td>\n",
       "      <td>2022-02-24T11:16:06.935296+00:00</td>\n",
       "      <td>POINT (18.51089 54.53786)</td>\n",
       "      <td>54.537859,18.510887</td>\n",
       "      <td>PL</td>\n",
       "      <td>/</td>\n",
       "      <td>Gdynia</td>\n",
       "      <td>Port of Gdynia/Gdansk</td>\n",
       "      <td>Ports and Shipping - Major Harbours</td>\n",
       "      <td>...</td>\n",
       "      <td>5</td>\n",
       "      <td>X is the Measurement value. If X&lt;(ref_value-30...</td>\n",
       "      <td>Low</td>\n",
       "      <td>MULTIPOLYGON(((18.56179820666602 54.5171532394...</td>\n",
       "      <td>Number of ships in Port</td>\n",
       "      <td>Changes in Ships traffic within the Port</td>\n",
       "      <td>RED</td>\n",
       "      <td>PLES</td>\n",
       "      <td>PL1</td>\n",
       "      <td>Weekly</td>\n",
       "    </tr>\n",
       "    <tr>\n",
       "      <th>1</th>\n",
       "      <td>450</td>\n",
       "      <td>2021-12-14T14:05:59.974126+00:00</td>\n",
       "      <td>2022-02-24T11:16:06.935296+00:00</td>\n",
       "      <td>POINT (2.28537 51.03614)</td>\n",
       "      <td>51.036138,2.285374</td>\n",
       "      <td>FR</td>\n",
       "      <td>/</td>\n",
       "      <td>Dunkirk</td>\n",
       "      <td>Port of Dunkirk</td>\n",
       "      <td>Ports and Shipping - Major Harbours</td>\n",
       "      <td>...</td>\n",
       "      <td>7</td>\n",
       "      <td>X is the Measurement value. If X&lt;(ref_value-30...</td>\n",
       "      <td>Low</td>\n",
       "      <td>MULTIPOLYGON(((2.1499827079701284 51.034478942...</td>\n",
       "      <td>Number of ships in Port</td>\n",
       "      <td>Changes in Ships traffic within the Port</td>\n",
       "      <td>RED</td>\n",
       "      <td>PLES</td>\n",
       "      <td>FR3</td>\n",
       "      <td>Weekly</td>\n",
       "    </tr>\n",
       "    <tr>\n",
       "      <th>2</th>\n",
       "      <td>453</td>\n",
       "      <td>2021-12-14T14:05:59.974126+00:00</td>\n",
       "      <td>2022-02-24T11:16:06.935296+00:00</td>\n",
       "      <td>POINT (32.31492 30.93955)</td>\n",
       "      <td>30.939554,32.314923</td>\n",
       "      <td>EG</td>\n",
       "      <td>/</td>\n",
       "      <td>Suez</td>\n",
       "      <td>Suez Canal</td>\n",
       "      <td>Ports and Shipping - Major Harbours</td>\n",
       "      <td>...</td>\n",
       "      <td>28</td>\n",
       "      <td>X is the Measurement value. If X&lt;(ref_value-30...</td>\n",
       "      <td>Low</td>\n",
       "      <td>MULTIPOLYGON(((32.2245676834261 31.36554628042...</td>\n",
       "      <td>Number of ships in Port</td>\n",
       "      <td>Changes in Ships traffic within the Port</td>\n",
       "      <td>RED</td>\n",
       "      <td>PLES</td>\n",
       "      <td>EG1</td>\n",
       "      <td>Weekly</td>\n",
       "    </tr>\n",
       "    <tr>\n",
       "      <th>3</th>\n",
       "      <td>463</td>\n",
       "      <td>2022-01-18T10:23:23.995343+00:00</td>\n",
       "      <td>2022-02-24T11:16:06.935296+00:00</td>\n",
       "      <td>POINT (8.88585 44.40814)</td>\n",
       "      <td>44.408142,8.885851</td>\n",
       "      <td>IT</td>\n",
       "      <td>/</td>\n",
       "      <td>Genoa</td>\n",
       "      <td>Port of Genoa and surrounding industrial areas</td>\n",
       "      <td>Ports and Shipping - Major Harbours</td>\n",
       "      <td>...</td>\n",
       "      <td>14</td>\n",
       "      <td>X is the Measurement value. If X&lt;(ref_value-30...</td>\n",
       "      <td>Low</td>\n",
       "      <td>MULTIPOLYGON(((8.917566076705773 44.4026124064...</td>\n",
       "      <td>Number of ships in Port</td>\n",
       "      <td>Changes in Ships traffic within the Port</td>\n",
       "      <td>RED</td>\n",
       "      <td>PLES</td>\n",
       "      <td>IT3</td>\n",
       "      <td>Weekly</td>\n",
       "    </tr>\n",
       "    <tr>\n",
       "      <th>4</th>\n",
       "      <td>467</td>\n",
       "      <td>2022-01-26T22:11:17.719758+00:00</td>\n",
       "      <td>2022-02-24T11:16:06.935296+00:00</td>\n",
       "      <td>POINT (2.28537 51.03614)</td>\n",
       "      <td>51.036138,2.285374</td>\n",
       "      <td>FR</td>\n",
       "      <td>/</td>\n",
       "      <td>Dunkirk</td>\n",
       "      <td>Port of Dunkirk</td>\n",
       "      <td>Ports and Shipping - Major Harbours</td>\n",
       "      <td>...</td>\n",
       "      <td>7</td>\n",
       "      <td>X is the Measurement value. If X&lt;(ref_value-30...</td>\n",
       "      <td>Low</td>\n",
       "      <td>MULTIPOLYGON(((2.1499827079701284 51.034478942...</td>\n",
       "      <td>Number of ships in Port</td>\n",
       "      <td>Changes in Ships traffic within the Port</td>\n",
       "      <td>RED</td>\n",
       "      <td>PLES</td>\n",
       "      <td>FR3</td>\n",
       "      <td>Weekly</td>\n",
       "    </tr>\n",
       "  </tbody>\n",
       "</table>\n",
       "<p>5 rows × 28 columns</p>\n",
       "</div>"
      ],
      "text/plain": [
       "    id                        created_at                       modified_at  \\\n",
       "0  449  2021-12-14T14:05:59.974126+00:00  2022-02-24T11:16:06.935296+00:00   \n",
       "1  450  2021-12-14T14:05:59.974126+00:00  2022-02-24T11:16:06.935296+00:00   \n",
       "2  453  2021-12-14T14:05:59.974126+00:00  2022-02-24T11:16:06.935296+00:00   \n",
       "3  463  2022-01-18T10:23:23.995343+00:00  2022-02-24T11:16:06.935296+00:00   \n",
       "4  467  2022-01-26T22:11:17.719758+00:00  2022-02-24T11:16:06.935296+00:00   \n",
       "\n",
       "                    geometry                  aoi country region     city  \\\n",
       "0  POINT (18.51089 54.53786)  54.537859,18.510887      PL      /   Gdynia   \n",
       "1   POINT (2.28537 51.03614)   51.036138,2.285374      FR      /  Dunkirk   \n",
       "2  POINT (32.31492 30.93955)  30.939554,32.314923      EG      /    Suez    \n",
       "3   POINT (8.88585 44.40814)   44.408142,8.885851      IT      /    Genoa   \n",
       "4   POINT (2.28537 51.03614)   51.036138,2.285374      FR      /  Dunkirk   \n",
       "\n",
       "                                        site_name  \\\n",
       "0                           Port of Gdynia/Gdansk   \n",
       "1                                 Port of Dunkirk   \n",
       "2                                      Suez Canal   \n",
       "3  Port of Genoa and surrounding industrial areas   \n",
       "4                                 Port of Dunkirk   \n",
       "\n",
       "                           description  ... reference_value  \\\n",
       "0  Ports and Shipping - Major Harbours  ...               5   \n",
       "1  Ports and Shipping - Major Harbours  ...               7   \n",
       "2  Ports and Shipping - Major Harbours  ...              28   \n",
       "3  Ports and Shipping - Major Harbours  ...              14   \n",
       "4  Ports and Shipping - Major Harbours  ...               7   \n",
       "\n",
       "                                                rule indicator_value  \\\n",
       "0  X is the Measurement value. If X<(ref_value-30...             Low   \n",
       "1  X is the Measurement value. If X<(ref_value-30...             Low   \n",
       "2  X is the Measurement value. If X<(ref_value-30...             Low   \n",
       "3  X is the Measurement value. If X<(ref_value-30...             Low   \n",
       "4  X is the Measurement value. If X<(ref_value-30...             Low   \n",
       "\n",
       "                                             sub_aoi                   y_axis  \\\n",
       "0  MULTIPOLYGON(((18.56179820666602 54.5171532394...  Number of ships in Port   \n",
       "1  MULTIPOLYGON(((2.1499827079701284 51.034478942...  Number of ships in Port   \n",
       "2  MULTIPOLYGON(((32.2245676834261 31.36554628042...  Number of ships in Port   \n",
       "3  MULTIPOLYGON(((8.917566076705773 44.4026124064...  Number of ships in Port   \n",
       "4  MULTIPOLYGON(((2.1499827079701284 51.034478942...  Number of ships in Port   \n",
       "\n",
       "                             indicator_name color_code data_provider aoi_id  \\\n",
       "0  Changes in Ships traffic within the Port        RED          PLES    PL1   \n",
       "1  Changes in Ships traffic within the Port        RED          PLES    FR3   \n",
       "2  Changes in Ships traffic within the Port        RED          PLES    EG1   \n",
       "3  Changes in Ships traffic within the Port        RED          PLES    IT3   \n",
       "4  Changes in Ships traffic within the Port        RED          PLES    FR3   \n",
       "\n",
       "  update_frequency  \n",
       "0           Weekly  \n",
       "1           Weekly  \n",
       "2           Weekly  \n",
       "3           Weekly  \n",
       "4           Weekly  \n",
       "\n",
       "[5 rows x 28 columns]"
      ]
     },
     "execution_count": 4,
     "metadata": {},
     "output_type": "execute_result"
    }
   ],
   "source": [
    "data = geodb.get_collection(collection=geodb_collection, database=geodb_database)\n",
    "data.head()"
   ]
  },
  {
   "cell_type": "markdown",
   "id": "64891b79-e729-4beb-a03c-8072162022c6",
   "metadata": {
    "papermill": {
     "duration": 0.01313,
     "end_time": "2022-07-19T04:34:02.788427",
     "exception": false,
     "start_time": "2022-07-19T04:34:02.775297",
     "status": "completed"
    },
    "tags": []
   },
   "source": [
    "A valid header line for a CSV uses the strings in bold and looks like this:\n",
    "\n",
    "`AOI,Country,Region,City,Site Name,Description,Method,EO Sensor,Input Data,Indicator code,Time,Measurement Value,Reference Description,Reference time,Reference value,Rule,Indicator Value,Sub-AOI,Y axis,Indicator Name,Color code,Data Provider,AOI_ID,Update Frequency`"
   ]
  },
  {
   "cell_type": "markdown",
   "id": "b19e5f79-8423-4bb6-ac99-ba4432f108e0",
   "metadata": {
    "papermill": {
     "duration": 0.013581,
     "end_time": "2022-07-19T04:34:02.821131",
     "exception": false,
     "start_time": "2022-07-19T04:34:02.807550",
     "status": "completed"
    },
    "tags": []
   },
   "source": [
    "### 2. Accessing Raster Data [(SentinelHub)](https://docs.sentinel-hub.com/api/latest/reference/#tag/process)"
   ]
  },
  {
   "cell_type": "markdown",
   "id": "55ae659e-1f71-4393-840c-46e12e292040",
   "metadata": {
    "papermill": {
     "duration": 0.012391,
     "end_time": "2022-07-19T04:34:02.850942",
     "exception": false,
     "start_time": "2022-07-19T04:34:02.838551",
     "status": "completed"
    },
    "tags": []
   },
   "source": [
    "All the datasets stored [here](https://collections.eurodatacube.com/) are requested using the SentinelHub Processing API, this uncludes satellite data and BYOC datasets.\n",
    "\n",
    "These datasets are requested using an evalscript and a request. In the evalscript you must define the collection ID and the band name, along with the visualisation parameters. "
   ]
  },
  {
   "cell_type": "markdown",
   "id": "59612477-5567-4f09-b59f-198fd4810482",
   "metadata": {
    "papermill": {
     "duration": 0.012681,
     "end_time": "2022-07-19T04:34:02.879445",
     "exception": false,
     "start_time": "2022-07-19T04:34:02.866764",
     "status": "completed"
    },
    "tags": []
   },
   "source": [
    "### BYOC Datasets "
   ]
  },
  {
   "cell_type": "markdown",
   "id": "86439e97-e59f-4af5-adb2-73afee386bec",
   "metadata": {
    "papermill": {
     "duration": 0.015323,
     "end_time": "2022-07-19T04:34:02.907157",
     "exception": false,
     "start_time": "2022-07-19T04:34:02.891834",
     "status": "completed"
    },
    "tags": []
   },
   "source": [
    "These datasets have a custom ID which is used to request the data. Below is a list of the data which is stored in this way:\n",
    "\n",
    "\n",
    "| Public Collection| collection ID| BandName| Description |\n",
    "| -------------------| ----------- | ------- | -----------|\n",
    "| [CHL_water_quality_Saturday]('https://collections.eurodatacube.com/chl_water_quality_saturday/') |82560c29-0b55-44c8-a01c-43b95c359518|chl| Chlorophyll anomaly maps for 3 sites: Lagoon Venice, Marseille and Barcelona regions |\n",
    "|[TSMN_water_quality_Saturday]('https://collections.eurodatacube.com/tsmn_water_quality_saturday/') |358448a1-23c1-4d58-924d-22249ab09048|tsmnn| Total suspended matter maps for 3 sites: Lagoon Venice, Marseille and Barcelona regions |\n",
    "|[E12C_Motorway]('https://collections.eurodatacube.com/e12c_motorway/') |efb2b070-39d6-4cfc-842f-57f8f54f22a0|MotorwayActivity| Detection of moving trucks on motorways in the EU using Sentinel-2 |\n",
    "|[E12D_Primary_corrected]('https://collections.eurodatacube.com/e12d_primary_corrected/')|06e51c55-a10c-43ba-ad93-ddd6258d5e9a|PrimaryRoadsActivity| Detection of moving trucks on motorways in the EU using Sentinel-2 |\n",
    "|[ICEYE_E3]('https://collections.eurodatacube.com/iceye_e3/') |c47fa011-e9cd-4076-9b2f-68a93d757e58|GRD | Oil storages filling up as demand for oil decreases when people are not travelling |\n",
    "|[ICEYE_E11]('https://collections.eurodatacube.com/iceye_e11/')|0771d000-92ca-4f7d-9788-b56ca0411cf7|GRD| Activity for leisure industry reduced |\n",
    "|[ICEYE_E11a]('https://collections.eurodatacube.com/iceye_e11a/')|a9ae7d6a-70c8-4575-854a-1a8f0cb33317|GRD| Activity at leisure facility (Stadium) affected by COVID |\n",
    "|[ICEYE_E13b]('https://collections.eurodatacube.com/iceye_e13b/') |4a537983-1c61-4c6e-9c85-7b3972b7b596|GRD| ICEYE image and detection of parked airplanes |\n",
    "|[JAXA_wq_chla_anomaly]('https://collections.eurodatacube.com/jaxa_wq_chla/')|198aa13a-b0c0-4b78-8f69-e08fc58551a7|chla| Water quality Chlorophyll-a weekly anomaly |\n",
    "|[JAXA_wq_tsm_anomaly]('https://collections.eurodatacube.com/jaxa_wq_tsm/')|925b4bf6-ca1b-45df-a523-88f30823ab07|tsm| Total suspended matter weekly anomoly |\n",
    "|[2mT_2020_Monthly_Average_from_CDS]('https://collections.eurodatacube.com/2mt_2020_monthly_average_from_cds/')|0b3eebec-30de-4fa6-9cd3-4b252d45d847|AIR2MT| Gridded ERA5 is the fifth generation ECMWF reanalysis for the global climate and weather for the past 4 to 7 decades - 2 meter temperature |\n",
    "|[Wind_10m_u]('https://collections.eurodatacube.com/wind_10m_u/')|067fbb53-b1c3-4a57-9c81-adf2488a47ee|windu10m| Gridded ERA5 is the fifth generation ECMWF reanalysis for the global climate and weather for the past 4 to 7 decades - Easterly Winds |\n",
    "|[Wind_10m_v]('https://collections.eurodatacube.com/wind_10m_v/')|3043d07f-3c20-410c-9a87-7da720942ab8|windv10m| Gridded ERA5 is the fifth generation ECMWF reanalysis for the global climate and weather for the past 4 to 7 decades - Northern Winds |\n",
    "|[Population_density]('https://collections.eurodatacube.com/population_density/')|b468089b-2627-4787-b984-89c10434f6c6|populationDensity|Gridded Population of the World v4 for year 2020|\n",
    "|[S5P-NO2-tropno-daily-check]('https://collections.eurodatacube.com/s5p-no2-tropno-daily-check/')|972e67a7-2ca8-4bf6-964a-11fe772e3ac2|tropno2| The data comes from the Copernicus Sentinel-5P satellite and shows the averaged nitrogen dioxide concentrations across the globe |\n",
    "|S5P-SO2-daily|4ad9663f-d173-411d-8d28-3081d4d9e3aa|so2 | The data comes from the Copernicus Sentinel-5P satellite and shows the average solfure dioxide concentrations\n",
    "|S5P-CO-3daily|57a07405-8ec2-4b9c-a273-23e287c173f8|co | The data comes from the Copernicus Sentinel-5P satellite and shows the average carbon monoxide concentrations\n",
    "|S5P-CH4-weekly|0ecb4a55-5ce2-4525-bdcb-a333d37d46ef|ch4 | The data comes from the Copernicus Sentinel-5P satellite and shows the average methane concentrations\n",
    "|Ocean-Net-Primary-Production (BICEP)|a216afca-8a65-4072-87a5-8ed7aa21e08a|pp | This dataset is produced in the frame of project Biological Pump and Carbon Exchange Processes (BICEP)\n"
   ]
  },
  {
   "cell_type": "markdown",
   "id": "bed86db9-cd2b-4293-93d4-92fa7d451bc1",
   "metadata": {
    "papermill": {
     "duration": 0.012784,
     "end_time": "2022-07-19T04:34:02.933661",
     "exception": false,
     "start_time": "2022-07-19T04:34:02.920877",
     "status": "completed"
    },
    "tags": []
   },
   "source": [
    "### Requesting Data"
   ]
  },
  {
   "cell_type": "markdown",
   "id": "dea2a186-3e17-4b38-b542-d06e9928464a",
   "metadata": {
    "papermill": {
     "duration": 0.013541,
     "end_time": "2022-07-19T04:34:02.960296",
     "exception": false,
     "start_time": "2022-07-19T04:34:02.946755",
     "status": "completed"
    },
    "tags": []
   },
   "source": [
    "First the permissions:"
   ]
  },
  {
   "cell_type": "code",
   "execution_count": 5,
   "id": "9f9bf71b-c6d2-43e7-b53a-cc72f608fc10",
   "metadata": {
    "execution": {
     "iopub.execute_input": "2022-07-19T04:34:02.988518Z",
     "iopub.status.busy": "2022-07-19T04:34:02.987509Z",
     "iopub.status.idle": "2022-07-19T04:34:03.138108Z",
     "shell.execute_reply": "2022-07-19T04:34:03.136616Z"
    },
    "papermill": {
     "duration": 0.167837,
     "end_time": "2022-07-19T04:34:03.140938",
     "exception": false,
     "start_time": "2022-07-19T04:34:02.973101",
     "status": "completed"
    },
    "tags": []
   },
   "outputs": [],
   "source": [
    "import os\n",
    "from oauthlib.oauth2 import BackendApplicationClient\n",
    "from requests_oauthlib import OAuth2Session\n",
    "\n",
    "# Your client credentials\n",
    "client_id = os.environ['SH_CLIENT_ID']\n",
    "client_secret = os.environ['SH_CLIENT_SECRET']\n",
    "\n",
    "# Create a session\n",
    "client = BackendApplicationClient(client_id=client_id)\n",
    "oauth = OAuth2Session(client=client)\n",
    "\n",
    "# Get token for the session\n",
    "token = oauth.fetch_token(token_url='https://services.sentinel-hub.com/oauth/token',\n",
    "                          client_id=client_id, client_secret=client_secret)\n",
    "\n",
    "# All requests using this session will have an access token automatically added\n",
    "resp = oauth.get(\"https://services.sentinel-hub.com/oauth/tokeninfo\")"
   ]
  },
  {
   "cell_type": "markdown",
   "id": "b833d682-ecff-4f66-9685-4d00d695749f",
   "metadata": {
    "papermill": {
     "duration": 0.022587,
     "end_time": "2022-07-19T04:34:03.184105",
     "exception": false,
     "start_time": "2022-07-19T04:34:03.161518",
     "status": "completed"
    },
    "tags": []
   },
   "source": [
    "\n",
    "As an example, here we access the population density information for a specific country (Austria).\n",
    "We use the [NUTS Tool](https://ec.europa.eu/eurostat/web/gisco/geodata/reference-data/administrative-units-statistical-units/nuts) to help."
   ]
  },
  {
   "cell_type": "code",
   "execution_count": 6,
   "id": "abafa32a-f8c0-405f-af95-7fb0c4cbbe28",
   "metadata": {
    "execution": {
     "iopub.execute_input": "2022-07-19T04:34:03.214992Z",
     "iopub.status.busy": "2022-07-19T04:34:03.214178Z",
     "iopub.status.idle": "2022-07-19T04:34:03.493532Z",
     "shell.execute_reply": "2022-07-19T04:34:03.491978Z"
    },
    "papermill": {
     "duration": 0.299247,
     "end_time": "2022-07-19T04:34:03.497852",
     "exception": false,
     "start_time": "2022-07-19T04:34:03.198605",
     "status": "completed"
    },
    "tags": []
   },
   "outputs": [],
   "source": [
    "import requests\n",
    "# First let us get the area information of the country from the administratives zones\n",
    "# You can find all the different NUTS levels, resolution here: https://gisco-services.ec.europa.eu/distribution/v2/nuts/nuts-2021-files.html\n",
    "\n",
    "response = requests.get(\n",
    "    \"https://gisco-services.ec.europa.eu/distribution/v2/nuts/geojson/NUTS_RG_10M_2021_4326_LEVL_0.geojson\"\n",
    ")\n",
    "\n",
    "data = response.json()\n",
    "\n",
    "# Now lets find the geometry information for one country\n",
    "match = [x for x in data[\"features\"] if x[\"properties\"][\"CNTR_CODE\"] == 'AT'][0]"
   ]
  },
  {
   "cell_type": "markdown",
   "id": "3999dafe-e0d3-41a0-b005-aa8c7ea8d3a4",
   "metadata": {
    "papermill": {
     "duration": 0.015794,
     "end_time": "2022-07-19T04:34:03.535341",
     "exception": false,
     "start_time": "2022-07-19T04:34:03.519547",
     "status": "completed"
    },
    "tags": []
   },
   "source": [
    "Here we see how to access specifically loaded datasets, for learning how to access default datasets look further down in this tutorial notebook. You have access to a number of [datasets](https://collections.eurodatacube.com/). We display the syntax using population data:\n",
    "\n"
   ]
  },
  {
   "cell_type": "code",
   "execution_count": 7,
   "id": "5c64c1fe-af22-40a4-a39a-9e7fb5cccf55",
   "metadata": {
    "execution": {
     "iopub.execute_input": "2022-07-19T04:34:03.563309Z",
     "iopub.status.busy": "2022-07-19T04:34:03.562772Z",
     "iopub.status.idle": "2022-07-19T04:34:03.645707Z",
     "shell.execute_reply": "2022-07-19T04:34:03.644626Z"
    },
    "papermill": {
     "duration": 0.099626,
     "end_time": "2022-07-19T04:34:03.648198",
     "exception": false,
     "start_time": "2022-07-19T04:34:03.548572",
     "status": "completed"
    },
    "tags": []
   },
   "outputs": [],
   "source": [
    "response = requests.post('https://shservices.mundiwebservices.com/api/v1/process',\n",
    "  headers={\"Authorization\" : \"Bearer %s\"%(token['access_token'])},\n",
    "  json={\n",
    "    \"input\": {\n",
    "        \"bounds\": {\n",
    "            \"geometry\": match[\"geometry\"]\n",
    "        },\n",
    "        \"data\": [{\n",
    "            \"type\": \"byoc-collectionID\"\n",
    "        }]\n",
    "    },\n",
    "    \"output\": {\n",
    "        \"width\": 800,\n",
    "        \"height\": 400,\n",
    "    },\n",
    "    \"evalscript\": \"\"\"\n",
    "    //VERSION=3\n",
    "    function setup() {\n",
    "      return {\n",
    "        input: [{\n",
    "          bands: [\"band_name\", \"dataMask\"], // this sets which bands to use\n",
    "        }],\n",
    "        output: { // this defines the output image type\n",
    "          bands: 4,\n",
    "          sampleType: \"UINT8\"\n",
    "        }\n",
    "      };\n",
    "    }\n",
    "\n",
    "    function evaluatePixel(sample) {\n",
    "      var arr = colorBlend(\n",
    "          sample.band_name,\n",
    "          [1, 5, 25, 250, 1000, 10000],\n",
    "          [[255,242,209],[255,218,166],[250,184,85],[253,141,60],[240,59,32],[189,0,38]]\n",
    "      ); \n",
    "      if (sample.dataMask==1)  arr.push(255);\n",
    "      else arr.push(0);\n",
    "      return arr;\n",
    "    }\n",
    "    \"\"\"\n",
    "})"
   ]
  },
  {
   "cell_type": "markdown",
   "id": "88ede812-e1fc-41e0-a3f7-a860ec1d17b5",
   "metadata": {
    "papermill": {
     "duration": 0.012695,
     "end_time": "2022-07-19T04:34:03.674142",
     "exception": false,
     "start_time": "2022-07-19T04:34:03.661447",
     "status": "completed"
    },
    "tags": []
   },
   "source": [
    "#### Satellite Imagery \n",
    "Now that we have the necessary token we can access the data through the processing API.  \n",
    "As described in the documentation we can access multiple datasets, but for this challenge we consider the following the most relevant:  \n",
    "- [S1GRD](https://docs.sentinel-hub.com/api/latest/data/sentinel-1-grd/)\n",
    "- [S2L1C](https://docs.sentinel-hub.com/api/latest/data/sentinel-2-l1c/#available-bands-and-data)\n",
    "- [S2L2A](https://docs.sentinel-hub.com/api/latest/data/sentinel-2-l2a/#available-bands-and-data)\n",
    "- [S3OLCI](https://docs.sentinel-hub.com/api/latest/data/sentinel-3-olci-l1b/#available-bands-and-data)\n",
    "- [S3SLSTR](https://docs.sentinel-hub.com/api/latest/data/sentinel-3-slstr-l1b/#available-bands-and-data)\n",
    "- [S5PL2](https://docs.sentinel-hub.com/api/latest/data/sentinel-5p-l2/#available-bands-and-data)  \n",
    "\n",
    "Have also a look at the linked references of the list as they also show available bands for the datasets.\n",
    "This identifier can then be used in the data type definition of the request.  \n",
    "The example that follows is taken from the API documentation, we are selecting a bounding box, which bands will be used and a function of how the pixel will be evaluated.   "
   ]
  },
  {
   "cell_type": "code",
   "execution_count": 8,
   "id": "6974c8fb-a80c-4452-bdb5-316eef059933",
   "metadata": {
    "execution": {
     "iopub.execute_input": "2022-07-19T04:34:03.706535Z",
     "iopub.status.busy": "2022-07-19T04:34:03.706014Z",
     "iopub.status.idle": "2022-07-19T04:34:04.342898Z",
     "shell.execute_reply": "2022-07-19T04:34:04.341767Z"
    },
    "papermill": {
     "duration": 0.656293,
     "end_time": "2022-07-19T04:34:04.345204",
     "exception": false,
     "start_time": "2022-07-19T04:34:03.688911",
     "status": "completed"
    },
    "tags": []
   },
   "outputs": [],
   "source": [
    "import requests\n",
    "\n",
    "available_datasets = ['S2L1C', 'S2L2A']\n",
    "responses = {}\n",
    "\n",
    "for ds in available_datasets:\n",
    "    responses[ds] = requests.post('https://services.sentinel-hub.com/api/v1/process',\n",
    "      headers={\"Authorization\" : \"Bearer %s\"%(token['access_token'])},\n",
    "      json={\n",
    "        \"input\": {\n",
    "            \"bounds\": {\n",
    "                \"bbox\": [ 13.45, 45.4, 13.55,45.5 ]\n",
    "            },\n",
    "            \"data\": [{\n",
    "                \"type\": ds\n",
    "            }]\n",
    "        },\n",
    "        \"evalscript\": \"\"\"\n",
    "        //VERSION=3\n",
    "\n",
    "        function setup() {\n",
    "          return {\n",
    "            input: [\"B02\", \"B03\", \"B04\"],\n",
    "            output: {\n",
    "              bands: 3\n",
    "            }\n",
    "          };\n",
    "        }\n",
    "\n",
    "        function evaluatePixel(\n",
    "          sample,\n",
    "          scenes,\n",
    "          inputMetadata,\n",
    "          customData,\n",
    "          outputMetadata\n",
    "        ) {\n",
    "          return [2.5 * sample.B04, 2.5 * sample.B03, 2.5 * sample.B02];\n",
    "        }\n",
    "        \"\"\"\n",
    "    })"
   ]
  },
  {
   "cell_type": "markdown",
   "id": "602af9dd-7a57-401f-bb67-ae806aa0fc07",
   "metadata": {
    "papermill": {
     "duration": 0.012044,
     "end_time": "2022-07-19T04:34:04.369822",
     "exception": false,
     "start_time": "2022-07-19T04:34:04.357778",
     "status": "completed"
    },
    "tags": []
   },
   "source": [
    "### Requesting Data with SentinelHub Function\n",
    "You can also request the data using the [SentinelHub Request Function](https://sentinelhub-py.readthedocs.io/en/latest/examples/process_request.html) which you may find more intuitive. "
   ]
  },
  {
   "cell_type": "code",
   "execution_count": 9,
   "id": "ee05e6a9-0ae9-49e4-a771-ac4ca9e3a69d",
   "metadata": {
    "execution": {
     "iopub.execute_input": "2022-07-19T04:34:04.398452Z",
     "iopub.status.busy": "2022-07-19T04:34:04.397440Z",
     "iopub.status.idle": "2022-07-19T04:34:04.699869Z",
     "shell.execute_reply": "2022-07-19T04:34:04.698637Z"
    },
    "papermill": {
     "duration": 0.320317,
     "end_time": "2022-07-19T04:34:04.702562",
     "exception": false,
     "start_time": "2022-07-19T04:34:04.382245",
     "status": "completed"
    },
    "tags": []
   },
   "outputs": [
    {
     "name": "stdout",
     "output_type": "stream",
     "text": [
      "Warning! To use Process API, please provide the credentials (OAuth client ID and client secret).\n"
     ]
    }
   ],
   "source": [
    "from sentinelhub import (\n",
    "    CRS,\n",
    "    BBox,\n",
    "    DataCollection,\n",
    "    DownloadRequest,\n",
    "    MimeType,\n",
    "    SentinelHubDownloadClient,\n",
    "    SentinelHubRequest,\n",
    "    bbox_to_dimensions,\n",
    ")\n",
    "\n",
    "from sentinelhub import SHConfig\n",
    "\n",
    "config = SHConfig()\n",
    "\n",
    "if not config.sh_client_id or not config.sh_client_secret:\n",
    "    print(\"Warning! To use Process API, please provide the credentials (OAuth client ID and client secret).\")"
   ]
  },
  {
   "cell_type": "code",
   "execution_count": 10,
   "id": "40eb82c9-bf11-4f7a-bbd9-37c62f28c451",
   "metadata": {
    "execution": {
     "iopub.execute_input": "2022-07-19T04:34:04.735930Z",
     "iopub.status.busy": "2022-07-19T04:34:04.735304Z",
     "iopub.status.idle": "2022-07-19T04:34:04.741162Z",
     "shell.execute_reply": "2022-07-19T04:34:04.740175Z"
    },
    "papermill": {
     "duration": 0.024567,
     "end_time": "2022-07-19T04:34:04.743515",
     "exception": false,
     "start_time": "2022-07-19T04:34:04.718948",
     "status": "completed"
    },
    "tags": []
   },
   "outputs": [],
   "source": [
    "# Pass Sentinel Hub credentials to SHConfig\n",
    "config = SHConfig()\n",
    "config.sh_client_id = os.environ[\"SH_CLIENT_ID\"]\n",
    "config.sh_client_secret = os.environ[\"SH_CLIENT_SECRET\"]"
   ]
  },
  {
   "cell_type": "markdown",
   "id": "6a7f4684-9e3b-47ed-8693-29fc02b68def",
   "metadata": {
    "papermill": {
     "duration": 0.012731,
     "end_time": "2022-07-19T04:34:04.769257",
     "exception": false,
     "start_time": "2022-07-19T04:34:04.756526",
     "status": "completed"
    },
    "tags": []
   },
   "source": [
    "Below we define our area using a bbox, which we use to define a [sentinelhub bbox object](https://sentinelhub-py.readthedocs.io/en/latest/_modules/sentinelhub/geometry.html). When requesting data with the bbox object you must also define the size of the area. Be aware the maximum number of pixels is (2500, 2500). \n",
    "\n",
    "The area can also be defined as a [sentinelhub geometry object](https://sentinelhub-py.readthedocs.io/en/latest/_modules/sentinelhub/geometry.html) from any of the following geometry representations:\n",
    "    - `shapely.geometry.Polygon` or `shapely.geometry.MultiPolygon`\n",
    "    - A GeoJSON dictionary with (multi)polygon coordinates\n",
    "    - A WKT string with (multi)polygon coordinates"
   ]
  },
  {
   "cell_type": "code",
   "execution_count": 11,
   "id": "4b538f87-4c2e-456c-b578-27129b9ab401",
   "metadata": {
    "execution": {
     "iopub.execute_input": "2022-07-19T04:34:04.803969Z",
     "iopub.status.busy": "2022-07-19T04:34:04.803484Z",
     "iopub.status.idle": "2022-07-19T04:34:04.809752Z",
     "shell.execute_reply": "2022-07-19T04:34:04.808356Z"
    },
    "papermill": {
     "duration": 0.030663,
     "end_time": "2022-07-19T04:34:04.812252",
     "exception": false,
     "start_time": "2022-07-19T04:34:04.781589",
     "status": "completed"
    },
    "tags": []
   },
   "outputs": [],
   "source": [
    "# define bbox\n",
    "betsiboka_coords_wgs84 = [46.16, -16.15, 46.51, -15.58]"
   ]
  },
  {
   "cell_type": "code",
   "execution_count": 12,
   "id": "f80d0a28-6337-4225-b12a-9e454a3c22fb",
   "metadata": {
    "execution": {
     "iopub.execute_input": "2022-07-19T04:34:04.841292Z",
     "iopub.status.busy": "2022-07-19T04:34:04.840525Z",
     "iopub.status.idle": "2022-07-19T04:34:04.858436Z",
     "shell.execute_reply": "2022-07-19T04:34:04.857317Z"
    },
    "papermill": {
     "duration": 0.03384,
     "end_time": "2022-07-19T04:34:04.860393",
     "exception": false,
     "start_time": "2022-07-19T04:34:04.826553",
     "status": "completed"
    },
    "tags": []
   },
   "outputs": [
    {
     "name": "stdout",
     "output_type": "stream",
     "text": [
      "Image shape at 60 m resolution: (631, 1047) pixels\n"
     ]
    }
   ],
   "source": [
    "# creating SH bbox object\n",
    "resolution = 60\n",
    "betsiboka_bbox = BBox(bbox=betsiboka_coords_wgs84, crs=CRS.WGS84)\n",
    "betsiboka_size = bbox_to_dimensions(betsiboka_bbox, resolution=resolution)\n",
    "\n",
    "print(f\"Image shape at {resolution} m resolution: {betsiboka_size} pixels\")"
   ]
  },
  {
   "cell_type": "code",
   "execution_count": 13,
   "id": "1736475b-eecd-489c-8fbf-d5c5780a86d1",
   "metadata": {
    "execution": {
     "iopub.execute_input": "2022-07-19T04:34:04.903685Z",
     "iopub.status.busy": "2022-07-19T04:34:04.903317Z",
     "iopub.status.idle": "2022-07-19T04:34:07.355188Z",
     "shell.execute_reply": "2022-07-19T04:34:07.353676Z"
    },
    "papermill": {
     "duration": 2.483102,
     "end_time": "2022-07-19T04:34:07.358067",
     "exception": false,
     "start_time": "2022-07-19T04:34:04.874965",
     "status": "completed"
    },
    "tags": []
   },
   "outputs": [],
   "source": [
    "evalscript_true_color = \"\"\"\n",
    "    //VERSION=3\n",
    "\n",
    "    function setup() {\n",
    "        return {\n",
    "            input: [{\n",
    "                bands: [\"B02\", \"B03\", \"B04\"]\n",
    "            }],\n",
    "            output: {\n",
    "                bands: 3\n",
    "            }\n",
    "        };\n",
    "    }\n",
    "\n",
    "    function evaluatePixel(sample) {\n",
    "        return [sample.B04, sample.B03, sample.B02];\n",
    "    }\n",
    "\"\"\"\n",
    "\n",
    "request_true_color = SentinelHubRequest(\n",
    "    evalscript=evalscript_true_color,\n",
    "    input_data=[\n",
    "        SentinelHubRequest.input_data(\n",
    "            data_collection=DataCollection.SENTINEL2_L1C,\n",
    "            time_interval=(\"2020-06-12\", \"2020-06-13\"),\n",
    "        )\n",
    "    ],\n",
    "    responses=[SentinelHubRequest.output_response(\"default\", MimeType.PNG)],\n",
    "    bbox=betsiboka_bbox, # geometry = geometry\n",
    "    size=betsiboka_size, # not needed for geometry object\n",
    "    config=config,\n",
    ")\n",
    "\n",
    "true_color_imgs = request_true_color.get_data()"
   ]
  },
  {
   "cell_type": "markdown",
   "id": "e95a7d3f-cab0-4740-ac95-5a0828712cc7",
   "metadata": {
    "papermill": {
     "duration": 0.013876,
     "end_time": "2022-07-19T04:34:07.385201",
     "exception": false,
     "start_time": "2022-07-19T04:34:07.371325",
     "status": "completed"
    },
    "tags": []
   },
   "source": [
    "### 2. Accessing Raster Data [(NASA API)](https://nasa-impact.github.io/veda-documentation/)"
   ]
  },
  {
   "cell_type": "markdown",
   "id": "6d106ad6-5dc7-4c5d-9301-d5a977ae7ba1",
   "metadata": {
    "papermill": {
     "duration": 0.024661,
     "end_time": "2022-07-19T04:34:07.432695",
     "exception": false,
     "start_time": "2022-07-19T04:34:07.408034",
     "status": "completed"
    },
    "tags": []
   },
   "source": [
    "The data is accessed using a [STAC endpoint](https://staging-stac.delta-backend.xyz/docs)."
   ]
  },
  {
   "cell_type": "code",
   "execution_count": 14,
   "id": "a9fe829d-2abf-4e27-a781-ded84b5f8bf7",
   "metadata": {
    "execution": {
     "iopub.execute_input": "2022-07-19T04:34:07.472615Z",
     "iopub.status.busy": "2022-07-19T04:34:07.471510Z",
     "iopub.status.idle": "2022-07-19T04:34:10.999168Z",
     "shell.execute_reply": "2022-07-19T04:34:10.997538Z"
    },
    "papermill": {
     "duration": 3.546583,
     "end_time": "2022-07-19T04:34:11.002497",
     "exception": false,
     "start_time": "2022-07-19T04:34:07.455914",
     "status": "completed"
    },
    "tags": []
   },
   "outputs": [
    {
     "name": "stdout",
     "output_type": "stream",
     "text": [
      "Defaulting to user installation because normal site-packages is not writeable\r\n"
     ]
    },
    {
     "name": "stdout",
     "output_type": "stream",
     "text": [
      "Collecting pystac\r\n"
     ]
    },
    {
     "name": "stdout",
     "output_type": "stream",
     "text": [
      "  Downloading pystac-1.4.0-py3-none-any.whl (137 kB)\r\n",
      "\u001b[?25l     \u001b[90m━━━━━━━━━━━━━━━━━━━━━━━━━━━━━━━━━━━━━━━━\u001b[0m \u001b[32m0.0/137.4 kB\u001b[0m \u001b[31m?\u001b[0m eta \u001b[36m-:--:--\u001b[0m\r",
      "\u001b[2K     \u001b[90m━━━━━━━━━━━━━━━━━━━━━━━━━━━━━━━━━━━━━━\u001b[0m \u001b[32m137.4/137.4 kB\u001b[0m \u001b[31m17.1 MB/s\u001b[0m eta \u001b[36m0:00:00\u001b[0m\r\n",
      "\u001b[?25hRequirement already satisfied: python-dateutil>=2.7.0 in /opt/conda/envs/edc-default-2022.07-00/lib/python3.9/site-packages (from pystac) (2.8.2)\r\n",
      "Requirement already satisfied: six>=1.5 in /opt/conda/envs/edc-default-2022.07-00/lib/python3.9/site-packages (from python-dateutil>=2.7.0->pystac) (1.16.0)\r\n"
     ]
    },
    {
     "name": "stdout",
     "output_type": "stream",
     "text": [
      "Installing collected packages: pystac\r\n"
     ]
    },
    {
     "name": "stdout",
     "output_type": "stream",
     "text": [
      "Successfully installed pystac-1.4.0\r\n"
     ]
    }
   ],
   "source": [
    "import sys\n",
    "!{sys.executable} -m pip install pystac"
   ]
  },
  {
   "cell_type": "code",
   "execution_count": 15,
   "id": "6088a136-270d-48bd-a1c7-7469ebea7fde",
   "metadata": {
    "execution": {
     "iopub.execute_input": "2022-07-19T04:34:11.046311Z",
     "iopub.status.busy": "2022-07-19T04:34:11.045023Z",
     "iopub.status.idle": "2022-07-19T04:34:12.391985Z",
     "shell.execute_reply": "2022-07-19T04:34:12.390801Z"
    },
    "papermill": {
     "duration": 1.369947,
     "end_time": "2022-07-19T04:34:12.394367",
     "exception": false,
     "start_time": "2022-07-19T04:34:11.024420",
     "status": "completed"
    },
    "tags": []
   },
   "outputs": [],
   "source": [
    "from pystac import Catalog\n",
    "import concurrent.futures\n",
    "import datetime as dt\n",
    "from ipyleaflet import basemaps, Map, GeoJSON\n",
    "import json\n",
    "import requests as re\n",
    "import matplotlib.pyplot as plt\n",
    "import pprint\n",
    "import time\n",
    "\n",
    "STAC_ENDPOINT_URL = \"https://staging-stac.delta-backend.xyz\""
   ]
  },
  {
   "cell_type": "code",
   "execution_count": 16,
   "id": "7fd4ad2a-651f-49a8-a811-040238e7e865",
   "metadata": {
    "execution": {
     "iopub.execute_input": "2022-07-19T04:34:12.426780Z",
     "iopub.status.busy": "2022-07-19T04:34:12.425991Z",
     "iopub.status.idle": "2022-07-19T04:34:15.503763Z",
     "shell.execute_reply": "2022-07-19T04:34:15.502213Z"
    },
    "papermill": {
     "duration": 3.098774,
     "end_time": "2022-07-19T04:34:15.508451",
     "exception": false,
     "start_time": "2022-07-19T04:34:12.409677",
     "status": "completed"
    },
    "tags": []
   },
   "outputs": [],
   "source": [
    "stac_api_url = 'https://staging-stac.delta-backend.xyz/'\n",
    "catalog = Catalog.from_file(stac_api_url)"
   ]
  },
  {
   "cell_type": "markdown",
   "id": "0c2fa293-03b1-4dff-90ad-2c10cae8bf0f",
   "metadata": {
    "papermill": {
     "duration": 0.016446,
     "end_time": "2022-07-19T04:34:15.542277",
     "exception": false,
     "start_time": "2022-07-19T04:34:15.525831",
     "status": "completed"
    },
    "tags": []
   },
   "source": [
    "Below we list the availabe datasets."
   ]
  },
  {
   "cell_type": "code",
   "execution_count": 17,
   "id": "c1ea64b2-77a8-4f63-8cda-0a8b4f9a2735",
   "metadata": {
    "execution": {
     "iopub.execute_input": "2022-07-19T04:34:15.573121Z",
     "iopub.status.busy": "2022-07-19T04:34:15.572545Z",
     "iopub.status.idle": "2022-07-19T04:34:53.894374Z",
     "shell.execute_reply": "2022-07-19T04:34:53.893332Z"
    },
    "papermill": {
     "duration": 38.340389,
     "end_time": "2022-07-19T04:34:53.897096",
     "exception": false,
     "start_time": "2022-07-19T04:34:15.556707",
     "status": "completed"
    },
    "tags": []
   },
   "outputs": [
    {
     "name": "stdout",
     "output_type": "stream",
     "text": [
      "no2-monthly\n"
     ]
    },
    {
     "name": "stdout",
     "output_type": "stream",
     "text": [
      "nightlights-hd-1band\n"
     ]
    },
    {
     "name": "stdout",
     "output_type": "stream",
     "text": [
      "grdi-cdr-raster\n"
     ]
    },
    {
     "name": "stdout",
     "output_type": "stream",
     "text": [
      "hls-l30-002-ej-reprocessed\n"
     ]
    },
    {
     "name": "stdout",
     "output_type": "stream",
     "text": [
      "facebook_population_density\n"
     ]
    },
    {
     "name": "stdout",
     "output_type": "stream",
     "text": [
      "blue-tarp-planetscope\n"
     ]
    },
    {
     "name": "stdout",
     "output_type": "stream",
     "text": [
      "social-vulnerability-index-housing\n"
     ]
    },
    {
     "name": "stdout",
     "output_type": "stream",
     "text": [
      "social-vulnerability-index-household-nopop\n"
     ]
    },
    {
     "name": "stdout",
     "output_type": "stream",
     "text": [
      "grdi-v1-built\n"
     ]
    },
    {
     "name": "stdout",
     "output_type": "stream",
     "text": [
      "social-vulnerability-index-household\n"
     ]
    },
    {
     "name": "stdout",
     "output_type": "stream",
     "text": [
      "hls-s30-002-ej-reprocessed\n"
     ]
    },
    {
     "name": "stdout",
     "output_type": "stream",
     "text": [
      "nightlights-hd-monthly\n"
     ]
    },
    {
     "name": "stdout",
     "output_type": "stream",
     "text": [
      "grdi-vnl-slope-raster\n"
     ]
    },
    {
     "name": "stdout",
     "output_type": "stream",
     "text": [
      "geoglam\n"
     ]
    },
    {
     "name": "stdout",
     "output_type": "stream",
     "text": [
      "grdi-vnl-raster\n"
     ]
    },
    {
     "name": "stdout",
     "output_type": "stream",
     "text": [
      "social-vulnerability-index-housing-nopop\n"
     ]
    },
    {
     "name": "stdout",
     "output_type": "stream",
     "text": [
      "social-vulnerability-index-socioeconomic\n"
     ]
    },
    {
     "name": "stdout",
     "output_type": "stream",
     "text": [
      "social-vulnerability-index-socioeconomic-nopop\n"
     ]
    },
    {
     "name": "stdout",
     "output_type": "stream",
     "text": [
      "grdi-filled-missing-values-count\n"
     ]
    },
    {
     "name": "stdout",
     "output_type": "stream",
     "text": [
      "grdi-shdi-raster\n"
     ]
    },
    {
     "name": "stdout",
     "output_type": "stream",
     "text": [
      "blue-tarp-detection\n"
     ]
    },
    {
     "name": "stdout",
     "output_type": "stream",
     "text": [
      "MO_NPP_npp_vgpm\n"
     ]
    },
    {
     "name": "stdout",
     "output_type": "stream",
     "text": [
      "grdi-imr-raster\n"
     ]
    },
    {
     "name": "stdout",
     "output_type": "stream",
     "text": [
      "social-vulnerability-index-overall-nopop\n"
     ]
    },
    {
     "name": "stdout",
     "output_type": "stream",
     "text": [
      "social-vulnerability-index-overall\n"
     ]
    },
    {
     "name": "stdout",
     "output_type": "stream",
     "text": [
      "hls-l30-002-ej\n"
     ]
    },
    {
     "name": "stdout",
     "output_type": "stream",
     "text": [
      "grdi-v1-raster\n"
     ]
    },
    {
     "name": "stdout",
     "output_type": "stream",
     "text": [
      "IS2SITMOGR4-cog\n"
     ]
    },
    {
     "name": "stdout",
     "output_type": "stream",
     "text": [
      "social-vulnerability-index-minority\n"
     ]
    },
    {
     "name": "stdout",
     "output_type": "stream",
     "text": [
      "hls-s30-002-ej\n"
     ]
    },
    {
     "name": "stdout",
     "output_type": "stream",
     "text": [
      "nceo_africa_2017\n"
     ]
    },
    {
     "name": "stdout",
     "output_type": "stream",
     "text": [
      "lis-tws-trend\n"
     ]
    },
    {
     "name": "stdout",
     "output_type": "stream",
     "text": [
      "OMSO2PCA-COG\n"
     ]
    },
    {
     "name": "stdout",
     "output_type": "stream",
     "text": [
      "HLSS30.002\n"
     ]
    },
    {
     "name": "stdout",
     "output_type": "stream",
     "text": [
      "HLSL30.002\n"
     ]
    },
    {
     "name": "stdout",
     "output_type": "stream",
     "text": [
      "nightlights-500m-daily\n"
     ]
    },
    {
     "name": "stdout",
     "output_type": "stream",
     "text": [
      "OMI_trno2-COG\n"
     ]
    },
    {
     "name": "stdout",
     "output_type": "stream",
     "text": [
      "no2-monthly-diff\n"
     ]
    },
    {
     "name": "stdout",
     "output_type": "stream",
     "text": [
      "social-vulnerability-index-minority-nopop\n"
     ]
    }
   ],
   "source": [
    "for root, subcatalogs, items in catalog.walk():\n",
    "    # subcats represents any catalogs or collections owned by root\n",
    "    for cat in subcatalogs:\n",
    "        print(cat.id)"
   ]
  },
  {
   "cell_type": "markdown",
   "id": "10e8ea1e-cc44-4e86-8858-ff6e1b7231e1",
   "metadata": {
    "papermill": {
     "duration": 0.017692,
     "end_time": "2022-07-19T04:34:53.931504",
     "exception": false,
     "start_time": "2022-07-19T04:34:53.913812",
     "status": "completed"
    },
    "tags": []
   },
   "source": [
    "Select an indicator of interesting and load as a json."
   ]
  },
  {
   "cell_type": "code",
   "execution_count": 18,
   "id": "7cec08fa-dd1a-4009-9350-d4596d29c41c",
   "metadata": {
    "execution": {
     "iopub.execute_input": "2022-07-19T04:34:53.968587Z",
     "iopub.status.busy": "2022-07-19T04:34:53.967898Z",
     "iopub.status.idle": "2022-07-19T04:34:55.011757Z",
     "shell.execute_reply": "2022-07-19T04:34:55.010342Z"
    },
    "papermill": {
     "duration": 1.064517,
     "end_time": "2022-07-19T04:34:55.014416",
     "exception": false,
     "start_time": "2022-07-19T04:34:53.949899",
     "status": "completed"
    },
    "tags": []
   },
   "outputs": [
    {
     "data": {
      "text/plain": [
       "{'id': 'no2-monthly',\n",
       " 'type': 'Collection',\n",
       " 'links': [{'rel': 'items',\n",
       "   'type': 'application/geo+json',\n",
       "   'href': 'https://staging-stac.delta-backend.xyz/collections/no2-monthly/items'},\n",
       "  {'rel': 'parent',\n",
       "   'type': 'application/json',\n",
       "   'href': 'https://staging-stac.delta-backend.xyz/'},\n",
       "  {'rel': 'root',\n",
       "   'type': 'application/json',\n",
       "   'href': 'https://staging-stac.delta-backend.xyz/'},\n",
       "  {'rel': 'self',\n",
       "   'type': 'application/json',\n",
       "   'href': 'https://staging-stac.delta-backend.xyz/collections/no2-monthly'}],\n",
       " 'title': 'NO₂',\n",
       " 'extent': {'spatial': {'bbox': [[-180, -90, 180, 90]]},\n",
       "  'temporal': {'interval': [['2016-01-01T00:00:00Z',\n",
       "     '2022-01-01T00:00:00Z']]}},\n",
       " 'license': 'MIT',\n",
       " 'summaries': {'datetime': ['2016-01-01T00:00:00Z', '2022-05-01T00:00:00Z'],\n",
       "  'cog_default': {'max': 50064805976866816, 'min': -6618294421291008}},\n",
       " 'description': 'Darker colors indicate higher nitrogen dioxide (NO₂) levels and more activity. Lighter colors indicate lower levels of NO₂ and less activity. Missing pixels indicate areas of no data most likely associated with cloud cover or snow.',\n",
       " 'item_assets': {'cog_default': {'type': 'image/tiff; application=geotiff; profile=cloud-optimized',\n",
       "   'roles': ['data', 'layer'],\n",
       "   'title': 'Default COG Layer',\n",
       "   'description': 'Cloud optimized default layer to display on map'}},\n",
       " 'stac_version': '1.0.0',\n",
       " 'stac_extensions': ['https://stac-extensions.github.io/item-assets/v1.0.0/schema.json'],\n",
       " 'dashboard:is_periodic': True,\n",
       " 'dashboard:time_density': 'month'}"
      ]
     },
     "execution_count": 18,
     "metadata": {},
     "output_type": "execute_result"
    }
   ],
   "source": [
    "re.get(f\"{STAC_ENDPOINT_URL}/collections/no2-monthly\").json()"
   ]
  },
  {
   "cell_type": "markdown",
   "id": "abc88039-e6f4-413d-ba17-fa96f9e395f6",
   "metadata": {
    "papermill": {
     "duration": 0.017375,
     "end_time": "2022-07-19T04:34:55.050084",
     "exception": false,
     "start_time": "2022-07-19T04:34:55.032709",
     "status": "completed"
    },
    "tags": []
   },
   "source": [
    "Find the periodicy of the data."
   ]
  },
  {
   "cell_type": "code",
   "execution_count": 19,
   "id": "1c239079-a873-42d7-9ca5-8aaa4dc33166",
   "metadata": {
    "execution": {
     "iopub.execute_input": "2022-07-19T04:34:55.090080Z",
     "iopub.status.busy": "2022-07-19T04:34:55.089330Z",
     "iopub.status.idle": "2022-07-19T04:34:56.054477Z",
     "shell.execute_reply": "2022-07-19T04:34:56.053308Z"
    },
    "papermill": {
     "duration": 0.988193,
     "end_time": "2022-07-19T04:34:56.056723",
     "exception": false,
     "start_time": "2022-07-19T04:34:55.068530",
     "status": "completed"
    },
    "tags": []
   },
   "outputs": [
    {
     "name": "stdout",
     "output_type": "stream",
     "text": [
      "{'dashboard:is_periodic': True,\n",
      " 'dashboard:time_density': 'month',\n",
      " 'summaries': {'cog_default': {'max': 50064805976866816,\n",
      "                               'min': -6618294421291008},\n",
      "               'datetime': ['2016-01-01T00:00:00Z', '2022-05-01T00:00:00Z']}}\n"
     ]
    }
   ],
   "source": [
    "pprint.pprint({\n",
    "    k:v for k,v in re.get(f\"{STAC_ENDPOINT_URL}/collections/no2-monthly\").json().items()\n",
    "    if k in [\"dashboard:is_periodic\", \"dashboard:time_density\", \"summaries\"]\n",
    "})"
   ]
  },
  {
   "cell_type": "markdown",
   "id": "51342733-4cf1-4ec2-b089-8e77f796f1f2",
   "metadata": {
    "papermill": {
     "duration": 0.017087,
     "end_time": "2022-07-19T04:34:56.090283",
     "exception": false,
     "start_time": "2022-07-19T04:34:56.073196",
     "status": "completed"
    },
    "tags": []
   },
   "source": [
    "Inspect one of the monthly measurments."
   ]
  },
  {
   "cell_type": "code",
   "execution_count": 20,
   "id": "c3e365e7-15ae-4397-8349-061ed3b4d718",
   "metadata": {
    "execution": {
     "iopub.execute_input": "2022-07-19T04:34:56.132306Z",
     "iopub.status.busy": "2022-07-19T04:34:56.131537Z",
     "iopub.status.idle": "2022-07-19T04:35:00.417598Z",
     "shell.execute_reply": "2022-07-19T04:35:00.415987Z"
    },
    "papermill": {
     "duration": 4.312237,
     "end_time": "2022-07-19T04:35:00.419882",
     "exception": false,
     "start_time": "2022-07-19T04:34:56.107645",
     "status": "completed"
    },
    "tags": []
   },
   "outputs": [
    {
     "data": {
      "text/plain": [
       "{'id': 'OMI_trno2_monthly_0.10x0.10_202205_Col3_V4.nc',\n",
       " 'bbox': [-180.0, -90.0, 180.0, 90.0],\n",
       " 'type': 'Feature',\n",
       " 'links': [{'rel': 'collection',\n",
       "   'type': 'application/json',\n",
       "   'href': 'https://staging-stac.delta-backend.xyz/collections/no2-monthly'},\n",
       "  {'rel': 'parent',\n",
       "   'type': 'application/json',\n",
       "   'href': 'https://staging-stac.delta-backend.xyz/collections/no2-monthly'},\n",
       "  {'rel': 'root',\n",
       "   'type': 'application/json',\n",
       "   'href': 'https://staging-stac.delta-backend.xyz/'},\n",
       "  {'rel': 'self',\n",
       "   'type': 'application/geo+json',\n",
       "   'href': 'https://staging-stac.delta-backend.xyz/collections/no2-monthly/items/OMI_trno2_monthly_0.10x0.10_202205_Col3_V4.nc'}],\n",
       " 'assets': {'cog_default': {'href': 's3://veda-data-store-staging/no2-monthly/OMI_trno2_monthly_0.10x0.10_202205_Col3_V4.nc.tif',\n",
       "   'type': 'image/tiff; application=geotiff; profile=cloud-optimized',\n",
       "   'roles': ['data', 'layer'],\n",
       "   'raster:bands': [{'scale': 1.0,\n",
       "     'nodata': -1.2676506002282294e+30,\n",
       "     'offset': 0.0,\n",
       "     'sampling': 'area',\n",
       "     'data_type': 'float32',\n",
       "     'histogram': {'max': 16009167399550976,\n",
       "      'min': -2647376502194176.0,\n",
       "      'count': 11,\n",
       "      'buckets': [254, 378517, 28452, 2275, 668, 196, 31, 15, 5, 2]},\n",
       "     'statistics': {'mean': 420353736794736.56,\n",
       "      'stddev': 570417159377508.8,\n",
       "      'maximum': 16009167399550976,\n",
       "      'minimum': -2647376502194176.0,\n",
       "      'valid_percent': 78.28044891357422}}]}},\n",
       " 'geometry': {'type': 'Polygon',\n",
       "  'coordinates': [[[-180.0, -90.0],\n",
       "    [180.0, -90.0],\n",
       "    [180.0, 90.0],\n",
       "    [-180.0, 90.0],\n",
       "    [-180.0, -90.0]]]},\n",
       " 'collection': 'no2-monthly',\n",
       " 'properties': {'datetime': None,\n",
       "  'proj:bbox': [-180.0, -90.0, 180.0, 90.0],\n",
       "  'proj:epsg': 4326,\n",
       "  'proj:shape': [1800, 3600],\n",
       "  'end_datetime': '2022-05-31T00:00:00Z',\n",
       "  'proj:geometry': {'type': 'Polygon',\n",
       "   'coordinates': [[[-180.0, -90.0],\n",
       "     [180.0, -90.0],\n",
       "     [180.0, 90.0],\n",
       "     [-180.0, 90.0],\n",
       "     [-180.0, -90.0]]]},\n",
       "  'proj:transform': [0.1, 0.0, -180.0, 0.0, -0.1, 90.0, 0.0, 0.0, 1.0],\n",
       "  'start_datetime': '2022-05-01T00:00:00Z'},\n",
       " 'stac_version': '1.0.0',\n",
       " 'stac_extensions': ['https://stac-extensions.github.io/projection/v1.0.0/schema.json',\n",
       "  'https://stac-extensions.github.io/raster/v1.1.0/schema.json']}"
      ]
     },
     "execution_count": 20,
     "metadata": {},
     "output_type": "execute_result"
    }
   ],
   "source": [
    "items = re.get(f\"{STAC_ENDPOINT_URL}/collections/no2-monthly/items?limit=100\").json()[\"features\"]\n",
    "items[0]"
   ]
  }
 ],
 "metadata": {
  "kernelspec": {
   "display_name": "python3 (edc-default-2022.07-00)",
   "language": "python",
   "name": "conda-env-edc-default-2022.07-00-py"
  },
  "language_info": {
   "codemirror_mode": {
    "name": "ipython",
    "version": 3
   },
   "file_extension": ".py",
   "mimetype": "text/x-python",
   "name": "python",
   "nbconvert_exporter": "python",
   "pygments_lexer": "ipython3",
   "version": "3.9.13"
  },
  "papermill": {
   "default_parameters": {},
   "duration": 62.611402,
   "end_time": "2022-07-19T04:35:00.954395",
   "environment_variables": {},
   "exception": null,
   "input_path": "/tmp/tmpegeu4y92",
   "output_path": "/tmp/notebook_output.ipynb",
   "parameters": {},
   "start_time": "2022-07-19T04:33:58.342993",
   "version": "2.3.4"
  },
  "properties": {
   "authors": [
    {
     "id": "edfb9926-6c9d-4be2-a6f0-aaef93b2a038",
     "name": "Tristan.Williams@esa.int"
    }
   ],
   "description": "IGARSS-22 workshop tutorial",
   "id": "116a6935-723d-4672-ba70-1febc5e66c4c",
   "license": null,
   "name": "Data Access",
   "requirements": [
    "eurodatacube-geodb",
    "eurodatacube"
   ],
   "tags": [
    "IGARSS-22",
    "EO Dashboard"
   ],
   "tosAgree": true,
   "type": "Jupyter Notebook",
   "version": "1.0"
  }
 },
 "nbformat": 4,
 "nbformat_minor": 5
}