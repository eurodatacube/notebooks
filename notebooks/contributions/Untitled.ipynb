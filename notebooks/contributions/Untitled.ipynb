{
 "cells": [
  {
   "cell_type": "code",
   "execution_count": 1,
   "metadata": {
    "execution": {
     "iopub.execute_input": "2020-06-29T06:45:48.840113Z",
     "iopub.status.busy": "2020-06-29T06:45:48.839511Z",
     "iopub.status.idle": "2020-06-29T06:45:48.931406Z",
     "shell.execute_reply": "2020-06-29T06:45:48.931795Z"
    },
    "papermill": {
     "duration": 0.098498,
     "end_time": "2020-06-29T06:45:48.931941",
     "exception": false,
     "start_time": "2020-06-29T06:45:48.833443",
     "status": "completed"
    },
    "tags": []
   },
   "outputs": [
    {
     "data": {
      "text/markdown": [
       "API credentials have automatically been injected for your active subscriptions.  \n",
       "The following environment variables are now available:\n",
       "* `SH_INSTANCE_ID`\n",
       "* `SH_CLIENT_ID`\n",
       "* `SH_CLIENT_SECRET`\n",
       "* `SH_CLIENT_NAME`\n",
       "\n",
       "------\n"
      ],
      "text/plain": [
       "<IPython.core.display.Markdown object>"
      ]
     },
     "metadata": {},
     "output_type": "display_data"
    }
   ],
   "source": [
    "from edc import setup_environment_variables\n",
    "setup_environment_variables()"
   ]
  },
  {
   "cell_type": "code",
   "execution_count": 2,
   "metadata": {
    "execution": {
     "iopub.execute_input": "2020-06-29T06:45:48.942084Z",
     "iopub.status.busy": "2020-06-29T06:45:48.941532Z",
     "iopub.status.idle": "2020-06-29T06:45:48.943472Z",
     "shell.execute_reply": "2020-06-29T06:45:48.943838Z"
    },
    "papermill": {
     "duration": 0.0077,
     "end_time": "2020-06-29T06:45:48.943949",
     "exception": false,
     "start_time": "2020-06-29T06:45:48.936249",
     "status": "completed"
    },
    "tags": []
   },
   "outputs": [
    {
     "name": "stdout",
     "output_type": "stream",
     "text": [
      "Notebook is compatible\n"
     ]
    }
   ],
   "source": [
    "from edc import check_compatibility\n",
    "check_compatibility(\"v0.18.4\")"
   ]
  },
  {
   "cell_type": "code",
   "execution_count": null,
   "metadata": {
    "papermill": {
     "duration": 0.003056,
     "end_time": "2020-06-29T06:45:48.950189",
     "exception": false,
     "start_time": "2020-06-29T06:45:48.947133",
     "status": "completed"
    },
    "tags": []
   },
   "outputs": [],
   "source": []
  }
 ],
 "metadata": {
  "kernelspec": {
   "display_name": "Python 3",
   "language": "python",
   "name": "python3"
  },
  "language_info": {
   "codemirror_mode": {
    "name": "ipython",
    "version": 3
   },
   "file_extension": ".py",
   "mimetype": "text/x-python",
   "name": "python",
   "nbconvert_exporter": "python",
   "pygments_lexer": "ipython3",
   "version": "3.7.6"
  },
  "papermill": {
   "duration": 1.024956,
   "end_time": "2020-06-29T06:45:49.057057",
   "environment_variables": {},
   "exception": null,
   "input_path": "/tmp/tmp646j1vfe",
   "output_path": "/tmp/notebook_output.ipynb",
   "parameters": {},
   "start_time": "2020-06-29T06:45:48.032101",
   "version": "2.1.0"
  },
  "properties": {
   "authors": [
    {
     "id": "6cdc9873-9e89-426c-bc0c-7e007237c94f",
     "name": "lauyingyee@gmail.com"
    }
   ],
   "description": "sentinel1235",
   "id": "3813f878-f82f-4dd4-b7c3-f335e062bfff",
   "license": null,
   "name": "hahaha",
   "requirements": [
    "eurodatacube"
   ],
   "tags": [],
   "tosAgree": true,
   "type": "Jupyter Notebook",
   "version": "0.0.1"
  }
 },
 "nbformat": 4,
 "nbformat_minor": 4
}