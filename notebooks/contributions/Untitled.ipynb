{
 "cells": [
  {
   "cell_type": "code",
   "execution_count": 1,
   "metadata": {
    "execution": {
     "iopub.execute_input": "2020-10-01T12:53:41.942005Z",
     "iopub.status.busy": "2020-10-01T12:53:41.941397Z",
     "iopub.status.idle": "2020-10-01T12:53:41.992600Z",
     "shell.execute_reply": "2020-10-01T12:53:41.993005Z"
    },
    "papermill": {
     "duration": 0.057813,
     "end_time": "2020-10-01T12:53:41.993244",
     "exception": false,
     "start_time": "2020-10-01T12:53:41.935431",
     "status": "completed"
    },
    "tags": []
   },
   "outputs": [
    {
     "data": {
      "text/markdown": [
       "API credentials have automatically been injected for your active subscriptions.  \n",
       "The following environment variables are now available:\n",
       "* `SH_CLIENT_ID`, `SH_CLIENT_NAME`, `SH_CLIENT_SECRET`, `SH_INSTANCE_ID`\n",
       "\n",
       "The following additional environment variables have been loaded from `~/custom.env`:\n",
       "* `AWS_BUCKET`\n",
       "* `DAPA_URL`\n",
       "* `DB_HOST`, `DB_NAME`, `DB_PASSWORD`, `DB_USER`\n",
       "* `OGC_EDC_URL`\n",
       "* `REFERENCE_DATA`\n"
      ],
      "text/plain": [
       "<IPython.core.display.Markdown object>"
      ]
     },
     "metadata": {},
     "output_type": "display_data"
    }
   ],
   "source": [
    "from edc import setup_environment_variables\n",
    "setup_environment_variables()"
   ]
  },
  {
   "cell_type": "code",
   "execution_count": 2,
   "metadata": {
    "execution": {
     "iopub.execute_input": "2020-10-01T12:53:42.001347Z",
     "iopub.status.busy": "2020-10-01T12:53:42.000767Z",
     "iopub.status.idle": "2020-10-01T12:53:42.003944Z",
     "shell.execute_reply": "2020-10-01T12:53:42.004382Z"
    },
    "papermill": {
     "duration": 0.008506,
     "end_time": "2020-10-01T12:53:42.004498",
     "exception": false,
     "start_time": "2020-10-01T12:53:41.995992",
     "status": "completed"
    },
    "tags": []
   },
   "outputs": [
    {
     "data": {
      "text/html": [
       "<script type=\"text/javascript\">\n",
       "        function toggle(id) {\n",
       "            el = document.getElementById(id);\n",
       "            el.style.display = el.style.display === \"none\" ? \"block\" : \"none\";\n",
       "        }\n",
       "    </script>"
      ],
      "text/plain": [
       "<IPython.core.display.HTML object>"
      ]
     },
     "metadata": {},
     "output_type": "display_data"
    },
    {
     "data": {
      "text/html": [
       "This notebook is compatible with this base image version (user-0.21.0)."
      ],
      "text/plain": [
       "<IPython.core.display.HTML object>"
      ]
     },
     "metadata": {},
     "output_type": "display_data"
    }
   ],
   "source": [
    "from edc import check_compatibility\n",
    "check_compatibility(\"user-0.21.0\")"
   ]
  },
  {
   "cell_type": "code",
   "execution_count": null,
   "metadata": {
    "papermill": {
     "duration": 0.004394,
     "end_time": "2020-10-01T12:53:42.011887",
     "exception": false,
     "start_time": "2020-10-01T12:53:42.007493",
     "status": "completed"
    },
    "tags": []
   },
   "outputs": [],
   "source": []
  }
 ],
 "metadata": {
  "kernelspec": {
   "display_name": "EDC 0.21.0 (Python3)",
   "language": "python",
   "name": "edc"
  },
  "language_info": {
   "codemirror_mode": {
    "name": "ipython",
    "version": 3
   },
   "file_extension": ".py",
   "mimetype": "text/x-python",
   "name": "python",
   "nbconvert_exporter": "python",
   "pygments_lexer": "ipython3",
   "version": "3.7.8"
  },
  "papermill": {
   "default_parameters": {},
   "duration": 1.092745,
   "end_time": "2020-10-01T12:53:42.219074",
   "environment_variables": {},
   "exception": null,
   "input_path": "/tmp/tmpom7xm_9t",
   "output_path": "/tmp/notebook_output.ipynb",
   "parameters": {},
   "start_time": "2020-10-01T12:53:41.126329",
   "version": "2.2.0"
  },
  "properties": {
   "authors": [
    {
     "id": "50e9882e-ca56-4fb8-9b2a-faa2535d1051",
     "name": "nadir@witted.it"
    }
   ],
   "description": "hallo",
   "id": "91ed6cfa-3593-410e-a08c-9cf7a2c0d644",
   "license": null,
   "name": "phi test",
   "requirements": [
    "eurodatacube"
   ],
   "tags": [
    "Sentinel Hub"
   ],
   "tosAgree": true,
   "type": "Jupyter Notebook",
   "version": "1"
  }
 },
 "nbformat": 4,
 "nbformat_minor": 4
}