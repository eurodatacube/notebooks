{
 "cells": [
  {
   "cell_type": "markdown",
   "id": "1a9e4da4",
   "metadata": {
    "tags": [
     "papermill-error-cell-tag"
    ]
   },
   "source": [
    "<span style=\"color:red; font-family:Helvetica Neue, Helvetica, Arial, sans-serif; font-size:2em;\">An Exception was encountered at '<a href=\"#papermill-error-cell\">In [2]</a>'.</span>"
   ]
  },
  {
   "cell_type": "code",
   "execution_count": 1,
   "id": "fc1b9018",
   "metadata": {
    "execution": {
     "iopub.execute_input": "2023-08-08T00:20:16.549950Z",
     "iopub.status.busy": "2023-08-08T00:20:16.549138Z",
     "iopub.status.idle": "2023-08-08T00:20:16.630970Z",
     "shell.execute_reply": "2023-08-08T00:20:16.630276Z"
    },
    "papermill": {
     "duration": 0.099309,
     "end_time": "2023-08-08T00:20:16.635306",
     "exception": false,
     "start_time": "2023-08-08T00:20:16.535997",
     "status": "completed"
    },
    "tags": []
   },
   "outputs": [
    {
     "data": {
      "text/html": [
       "<script type=\"text/javascript\">\n",
       "        function toggle(id) {\n",
       "            el = document.getElementById(id);\n",
       "            el.style.display = el.style.display === \"none\" ? \"block\" : \"none\";\n",
       "        }\n",
       "    </script>"
      ],
      "text/plain": [
       "<IPython.core.display.HTML object>"
      ]
     },
     "metadata": {},
     "output_type": "display_data"
    },
    {
     "data": {
      "text/html": [
       "This notebook is compatible with this base image version (user-2023.03-02)."
      ],
      "text/plain": [
       "<IPython.core.display.HTML object>"
      ]
     },
     "metadata": {},
     "output_type": "display_data"
    }
   ],
   "source": [
    "from eoxhub import check_compatibility\n",
    "check_compatibility(\"user-2023.03-02\", dependencies=[])"
   ]
  },
  {
   "attachments": {},
   "cell_type": "markdown",
   "id": "77e78ba4",
   "metadata": {
    "papermill": {
     "duration": 0.012586,
     "end_time": "2023-08-08T00:20:16.662961",
     "exception": false,
     "start_time": "2023-08-08T00:20:16.650375",
     "status": "completed"
    },
    "tags": []
   },
   "source": [
    "# Using the NASA VEDA EOAPI\n",
    "\n",
    "This notebook is divided into two parts, each demonstrating the functionalities of the VEDA Earth Observation API (EOAPI).\n",
    "1. Reading and visualizing one of the datasets from the VEDA data catalog\n",
    "2. Using the EOAPI to generate a time-series of OMI (ozone monitoring instrument) NO₂ and SO₂ datasets\n",
    "\n",
    "Author: Slesa Adhikari"
   ]
  },
  {
   "attachments": {},
   "cell_type": "markdown",
   "id": "9b3931a2",
   "metadata": {
    "papermill": {
     "duration": 0.025729,
     "end_time": "2023-08-08T00:20:16.702776",
     "exception": false,
     "start_time": "2023-08-08T00:20:16.677047",
     "status": "completed"
    },
    "tags": []
   },
   "source": [
    "#### 1. Reading and visualizing one of the datasets from the VEDA data catalog"
   ]
  },
  {
   "attachments": {},
   "cell_type": "markdown",
   "id": "eb50c1a0",
   "metadata": {
    "papermill": {
     "duration": 0.011462,
     "end_time": "2023-08-08T00:20:16.726037",
     "exception": false,
     "start_time": "2023-08-08T00:20:16.714575",
     "status": "completed"
    },
    "tags": []
   },
   "source": [
    "**Import all the necesssary libraries**\n",
    "\n",
    "Make sure you install these first using:\n",
    "\n",
    "```bash\n",
    "pip install pystac_client folium seaborn pandas\n",
    "```"
   ]
  },
  {
   "cell_type": "markdown",
   "id": "4286f37f",
   "metadata": {
    "tags": [
     "papermill-error-cell-tag"
    ]
   },
   "source": [
    "<span id=\"papermill-error-cell\" style=\"color:red; font-family:Helvetica Neue, Helvetica, Arial, sans-serif; font-size:2em;\">Execution using papermill encountered an exception here and stopped:</span>"
   ]
  },
  {
   "cell_type": "code",
   "execution_count": 2,
   "id": "0dae0875",
   "metadata": {
    "execution": {
     "iopub.execute_input": "2023-08-08T00:20:16.757555Z",
     "iopub.status.busy": "2023-08-08T00:20:16.756764Z",
     "iopub.status.idle": "2023-08-08T00:20:17.108846Z",
     "shell.execute_reply": "2023-08-08T00:20:17.107517Z"
    },
    "papermill": {
     "duration": 0.368341,
     "end_time": "2023-08-08T00:20:17.111306",
     "exception": true,
     "start_time": "2023-08-08T00:20:16.742965",
     "status": "failed"
    },
    "tags": []
   },
   "outputs": [
    {
     "ename": "ModuleNotFoundError",
     "evalue": "No module named 'pystac_client'",
     "output_type": "error",
     "traceback": [
      "\u001b[0;31m---------------------------------------------------------------------------\u001b[0m",
      "\u001b[0;31mModuleNotFoundError\u001b[0m                       Traceback (most recent call last)",
      "Cell \u001b[0;32mIn[2], line 3\u001b[0m\n\u001b[1;32m      1\u001b[0m \u001b[38;5;66;03m# imports\u001b[39;00m\n\u001b[1;32m      2\u001b[0m \u001b[38;5;28;01mimport\u001b[39;00m \u001b[38;5;21;01mrequests\u001b[39;00m\n\u001b[0;32m----> 3\u001b[0m \u001b[38;5;28;01mfrom\u001b[39;00m \u001b[38;5;21;01mpystac_client\u001b[39;00m \u001b[38;5;28;01mimport\u001b[39;00m Client\n\u001b[1;32m      4\u001b[0m \u001b[38;5;28;01mimport\u001b[39;00m \u001b[38;5;21;01mfolium\u001b[39;00m\n\u001b[1;32m      5\u001b[0m \u001b[38;5;28;01mimport\u001b[39;00m \u001b[38;5;21;01mseaborn\u001b[39;00m \u001b[38;5;28;01mas\u001b[39;00m \u001b[38;5;21;01msns\u001b[39;00m\n",
      "\u001b[0;31mModuleNotFoundError\u001b[0m: No module named 'pystac_client'"
     ]
    }
   ],
   "source": [
    "# imports\n",
    "import requests\n",
    "from pystac_client import Client\n",
    "import folium\n",
    "import seaborn as sns\n",
    "import matplotlib.pyplot as plt\n",
    "import pandas as pd"
   ]
  },
  {
   "attachments": {},
   "cell_type": "markdown",
   "id": "95dcd690",
   "metadata": {
    "papermill": {
     "duration": null,
     "end_time": null,
     "exception": null,
     "start_time": null,
     "status": "pending"
    },
    "tags": []
   },
   "source": [
    "**Define the API endpoints**\n",
    "\n",
    "The EOAPI is a combination of two components.\n",
    "1. Data catalog - the [SpatioTemporal Asset Catalog (STAC)](https://stacspec.org/en/) specification is used to catalog the available datasets\n",
    "2. Dynamic tile server - [TiTiler](https://developmentseed.org/titiler/) is used to dynamically serve cloud optimized geotiff (raster) data files"
   ]
  },
  {
   "cell_type": "code",
   "execution_count": null,
   "id": "77205213",
   "metadata": {
    "papermill": {
     "duration": null,
     "end_time": null,
     "exception": null,
     "start_time": null,
     "status": "pending"
    },
    "tags": []
   },
   "outputs": [],
   "source": [
    "STAC_API_URL = \"https://staging-stac.delta-backend.com/\"\n",
    "RASTER_API_URL = \"https://staging-raster.delta-backend.com\""
   ]
  },
  {
   "attachments": {},
   "cell_type": "markdown",
   "id": "59ee6b65",
   "metadata": {
    "papermill": {
     "duration": null,
     "end_time": null,
     "exception": null,
     "start_time": null,
     "status": "pending"
    },
    "tags": []
   },
   "source": [
    "Use the `pystac_client` library to interact with the STAC data catalog"
   ]
  },
  {
   "cell_type": "code",
   "execution_count": null,
   "id": "33c9d348",
   "metadata": {
    "papermill": {
     "duration": null,
     "end_time": null,
     "exception": null,
     "start_time": null,
     "status": "pending"
    },
    "tags": []
   },
   "outputs": [],
   "source": [
    "catalog = Client.open(STAC_API_URL)"
   ]
  },
  {
   "attachments": {},
   "cell_type": "markdown",
   "id": "666413bd",
   "metadata": {
    "papermill": {
     "duration": null,
     "end_time": null,
     "exception": null,
     "start_time": null,
     "status": "pending"
    },
    "tags": []
   },
   "source": [
    "List all the datasets (collections) in the catalog"
   ]
  },
  {
   "cell_type": "code",
   "execution_count": null,
   "id": "65a236ee",
   "metadata": {
    "papermill": {
     "duration": null,
     "end_time": null,
     "exception": null,
     "start_time": null,
     "status": "pending"
    },
    "tags": []
   },
   "outputs": [],
   "source": [
    "for collection in list(catalog.get_collections()):\n",
    "    print(f\"{collection.id} - {collection.title}\")"
   ]
  },
  {
   "attachments": {},
   "cell_type": "markdown",
   "id": "93e96294",
   "metadata": {
    "papermill": {
     "duration": null,
     "end_time": null,
     "exception": null,
     "start_time": null,
     "status": "pending"
    },
    "tags": []
   },
   "source": [
    "Choose a collection to work with. We'll choose the `no2-monthly` dataset for this example.\n",
    "This is the global nitrogen dioxide data organized into monthly metrics."
   ]
  },
  {
   "cell_type": "code",
   "execution_count": null,
   "id": "a6cb97ba",
   "metadata": {
    "papermill": {
     "duration": null,
     "end_time": null,
     "exception": null,
     "start_time": null,
     "status": "pending"
    },
    "tags": []
   },
   "outputs": [],
   "source": [
    "collection_id = \"no2-monthly\""
   ]
  },
  {
   "attachments": {},
   "cell_type": "markdown",
   "id": "5083eaed",
   "metadata": {
    "papermill": {
     "duration": null,
     "end_time": null,
     "exception": null,
     "start_time": null,
     "status": "pending"
    },
    "tags": []
   },
   "source": [
    "Search all the items in the collection."
   ]
  },
  {
   "cell_type": "code",
   "execution_count": null,
   "id": "0b0256dd",
   "metadata": {
    "papermill": {
     "duration": null,
     "end_time": null,
     "exception": null,
     "start_time": null,
     "status": "pending"
    },
    "tags": []
   },
   "outputs": [],
   "source": [
    "search = catalog.search(collections=[collection_id])\n",
    "items = list(search.items())\n",
    "items"
   ]
  },
  {
   "attachments": {},
   "cell_type": "markdown",
   "id": "c07bdfc2",
   "metadata": {
    "papermill": {
     "duration": null,
     "end_time": null,
     "exception": null,
     "start_time": null,
     "status": "pending"
    },
    "tags": []
   },
   "source": [
    "Load and inspect one of the item's assets. In the catalog, the cloud optimized geotiffs (COG) are indexed under `cog_default` asset."
   ]
  },
  {
   "cell_type": "code",
   "execution_count": null,
   "id": "5e18e34b",
   "metadata": {
    "papermill": {
     "duration": null,
     "end_time": null,
     "exception": null,
     "start_time": null,
     "status": "pending"
    },
    "tags": []
   },
   "outputs": [],
   "source": [
    "s3_uri = items[0].assets[\"cog_default\"].href"
   ]
  },
  {
   "attachments": {},
   "cell_type": "markdown",
   "id": "548b81b4",
   "metadata": {
    "papermill": {
     "duration": null,
     "end_time": null,
     "exception": null,
     "start_time": null,
     "status": "pending"
    },
    "tags": []
   },
   "source": [
    "Get statistics for the COG file using the TiTiler api endpoint `/cog/statistics`"
   ]
  },
  {
   "cell_type": "code",
   "execution_count": null,
   "id": "a8b7e17b",
   "metadata": {
    "papermill": {
     "duration": null,
     "end_time": null,
     "exception": null,
     "start_time": null,
     "status": "pending"
    },
    "tags": []
   },
   "outputs": [],
   "source": [
    "stats = requests.get(\n",
    "    f\"{RASTER_API_URL}/cog/statistics\",\n",
    "    params={\"url\": s3_uri}\n",
    ").json()\n",
    "stats"
   ]
  },
  {
   "attachments": {},
   "cell_type": "markdown",
   "id": "d004fb0f",
   "metadata": {
    "papermill": {
     "duration": null,
     "end_time": null,
     "exception": null,
     "start_time": null,
     "status": "pending"
    },
    "tags": []
   },
   "source": [
    "**Display the COG in a map**"
   ]
  },
  {
   "attachments": {},
   "cell_type": "markdown",
   "id": "6e11a376",
   "metadata": {
    "papermill": {
     "duration": null,
     "end_time": null,
     "exception": null,
     "start_time": null,
     "status": "pending"
    },
    "tags": []
   },
   "source": [
    "Now, we'll make a request for imagery tiles to the raster API.\n",
    "\n",
    "Define the query parameters for the request:\n",
    "- collection\n",
    "- item\n",
    "- rescale\n",
    "- colormap\n",
    "- assets"
   ]
  },
  {
   "cell_type": "code",
   "execution_count": null,
   "id": "1ce0126f",
   "metadata": {
    "papermill": {
     "duration": null,
     "end_time": null,
     "exception": null,
     "start_time": null,
     "status": "pending"
    },
    "tags": []
   },
   "outputs": [],
   "source": [
    "collection = collection_id\n",
    "item = items[0].id\n",
    "colormap = \"rainbow\"\n",
    "assets = \"cog_default\"\n",
    "rescale = f\"{stats['1']['min']},{stats['1']['max']}\""
   ]
  },
  {
   "attachments": {},
   "cell_type": "markdown",
   "id": "67b31ac2",
   "metadata": {
    "papermill": {
     "duration": null,
     "end_time": null,
     "exception": null,
     "start_time": null,
     "status": "pending"
    },
    "tags": []
   },
   "source": [
    "Get the tileset json for the relevant item."
   ]
  },
  {
   "cell_type": "code",
   "execution_count": null,
   "id": "b839f6ce",
   "metadata": {
    "papermill": {
     "duration": null,
     "end_time": null,
     "exception": null,
     "start_time": null,
     "status": "pending"
    },
    "tags": []
   },
   "outputs": [],
   "source": [
    "tiles = requests.get(\n",
    "    f\"{RASTER_API_URL}/stac/tilejson.json?collection={collection}&item={item}&assets={assets}&colormap_name={colormap}&rescale={rescale}\"\n",
    ").json()"
   ]
  },
  {
   "cell_type": "code",
   "execution_count": null,
   "id": "7df350d0",
   "metadata": {
    "papermill": {
     "duration": null,
     "end_time": null,
     "exception": null,
     "start_time": null,
     "status": "pending"
    },
    "tags": []
   },
   "outputs": [],
   "source": [
    "tiles"
   ]
  },
  {
   "attachments": {},
   "cell_type": "markdown",
   "id": "ce2b12a5",
   "metadata": {
    "papermill": {
     "duration": null,
     "end_time": null,
     "exception": null,
     "start_time": null,
     "status": "pending"
    },
    "tags": []
   },
   "source": [
    "Use the `/tiles` endpoint to visualize the file in a map"
   ]
  },
  {
   "cell_type": "code",
   "execution_count": null,
   "id": "f5b670de",
   "metadata": {
    "papermill": {
     "duration": null,
     "end_time": null,
     "exception": null,
     "start_time": null,
     "status": "pending"
    },
    "tags": []
   },
   "outputs": [],
   "source": [
    "m = folium.Map(\n",
    "    zoom_start=10,\n",
    "    scroll_wheel_zoom=True, \n",
    "    tiles=tiles[\"tiles\"][0],\n",
    "    attr=\"VEDA\", \n",
    "    minzoom=0, \n",
    "    maxzoom=18,\n",
    ")"
   ]
  },
  {
   "cell_type": "code",
   "execution_count": null,
   "id": "c35580bf",
   "metadata": {
    "papermill": {
     "duration": null,
     "end_time": null,
     "exception": null,
     "start_time": null,
     "status": "pending"
    },
    "tags": []
   },
   "outputs": [],
   "source": [
    "m"
   ]
  },
  {
   "attachments": {},
   "cell_type": "markdown",
   "id": "3238d83f",
   "metadata": {
    "papermill": {
     "duration": null,
     "end_time": null,
     "exception": null,
     "start_time": null,
     "status": "pending"
    },
    "tags": []
   },
   "source": [
    "#### 2. Using the EOAPI to generate a time-series of OMI NO₂ and SO₂ datasets"
   ]
  },
  {
   "attachments": {},
   "cell_type": "markdown",
   "id": "21df8fde",
   "metadata": {
    "papermill": {
     "duration": null,
     "end_time": null,
     "exception": null,
     "start_time": null,
     "status": "pending"
    },
    "tags": []
   },
   "source": [
    "There's a story published in the EODashboard with the following title:\n",
    "\n",
    "> Air pollution in India, China and the U.S. have changed significantly over the past two decades\n",
    "\n",
    "Link: https://eodashboard.org/story?id=air-pollution-us-india-china\n",
    "\n",
    "The story talks about the trend of air pollution in India, China and the U.S. using the NO<sub>2</sub> and SO<sub>2</sub> readings taken from the OMI instrument\n",
    "\n",
    "Here, we'll recreate the analysis using the EOAPI."
   ]
  },
  {
   "cell_type": "code",
   "execution_count": null,
   "id": "66d13259",
   "metadata": {
    "papermill": {
     "duration": null,
     "end_time": null,
     "exception": null,
     "start_time": null,
     "status": "pending"
    },
    "tags": []
   },
   "outputs": [],
   "source": [
    "# Here, we find the relevant collection ID for the dataset\n",
    "collections = {\n",
    "    \"no2\": \"OMI_trno2-COG\",\n",
    "    \"so2\": \"OMSO2PCA-COG\",\n",
    "}"
   ]
  },
  {
   "attachments": {},
   "cell_type": "markdown",
   "id": "43303741",
   "metadata": {
    "papermill": {
     "duration": null,
     "end_time": null,
     "exception": null,
     "start_time": null,
     "status": "pending"
    },
    "tags": []
   },
   "source": [
    "Define the roughly similar Area of Interest (AOI) for each of the countries as seen in the story.\n",
    "\n",
    "Disclaimer: Since the AOI is roughly similar, but not exactly the same, the results may differe slightly, but should maintain similar trends."
   ]
  },
  {
   "cell_type": "code",
   "execution_count": null,
   "id": "f81e825b",
   "metadata": {
    "papermill": {
     "duration": null,
     "end_time": null,
     "exception": null,
     "start_time": null,
     "status": "pending"
    },
    "tags": []
   },
   "outputs": [],
   "source": [
    "aois = {\n",
    "    \"india\": {\n",
    "      \"type\": \"Feature\",\n",
    "      \"properties\": {},\n",
    "      \"geometry\": {\n",
    "        \"coordinates\": [\n",
    "          [\n",
    "            [\n",
    "              84.44227371801799,\n",
    "              25.276852788244952\n",
    "            ],\n",
    "            [\n",
    "              81.73331688510166,\n",
    "              25.379576397063317\n",
    "            ],\n",
    "            [\n",
    "              81.40290450746915,\n",
    "              20.640781701865322\n",
    "            ],\n",
    "            [\n",
    "              84.09079123546121,\n",
    "              20.59296261766137\n",
    "            ],\n",
    "            [\n",
    "              84.44227371801799,\n",
    "              25.276852788244952\n",
    "            ]\n",
    "          ]\n",
    "        ],\n",
    "        \"type\": \"Polygon\"\n",
    "      }\n",
    "    },\n",
    "    \"china\": {\n",
    "      \"type\": \"Feature\",\n",
    "      \"properties\": {},\n",
    "      \"geometry\": {\n",
    "        \"coordinates\": [\n",
    "          [\n",
    "            [\n",
    "              118.14487188674968,\n",
    "              40.38237805885373\n",
    "            ],\n",
    "            [\n",
    "              112.59679754686567,\n",
    "              40.39197699341523\n",
    "            ],\n",
    "            [\n",
    "              112.78712023622006,\n",
    "              32.015052150835814\n",
    "            ],\n",
    "            [\n",
    "              117.937454307721,\n",
    "              32.102440507249895\n",
    "            ],\n",
    "            [\n",
    "              118.14487188674968,\n",
    "              40.38237805885373\n",
    "            ]\n",
    "          ]\n",
    "        ],\n",
    "        \"type\": \"Polygon\"\n",
    "      }\n",
    "    },\n",
    "    \"usa\": {\n",
    "        \"type\": \"Feature\",\n",
    "        \"properties\": {},\n",
    "        \"geometry\": {\n",
    "            \"coordinates\": [\n",
    "            [\n",
    "                [\n",
    "                -80.16702521343733,\n",
    "                41.73420113945659\n",
    "                ],\n",
    "                [\n",
    "                -83.56446680395005,\n",
    "                38.599369254919566\n",
    "                ],\n",
    "                [\n",
    "                -82.00280661075571,\n",
    "                37.54658260550103\n",
    "                ],\n",
    "                [\n",
    "                -78.28140359718638,\n",
    "                40.450899619800595\n",
    "                ],\n",
    "                [\n",
    "                -80.16702521343733,\n",
    "                41.73420113945659\n",
    "                ]\n",
    "            ]\n",
    "            ],\n",
    "            \"type\": \"Polygon\"\n",
    "        }\n",
    "    },\n",
    "}"
   ]
  },
  {
   "attachments": {},
   "cell_type": "markdown",
   "id": "9974d150",
   "metadata": {
    "papermill": {
     "duration": null,
     "end_time": null,
     "exception": null,
     "start_time": null,
     "status": "pending"
    },
    "tags": []
   },
   "source": [
    "Define a function that takes the following params:\n",
    "  1. `item`: a STAC item\n",
    "  2. `geojson`: the geojson of the AOI\n",
    "\n",
    "Using the `/cog/statistics/` endpoint of the raster API, we get back the statistics of the `item` (which corresponds to one COG file) within the given `geojson` AOI.\n",
    "\n",
    "The statistics includes `min`, `max`, `mean`, `std`, etc."
   ]
  },
  {
   "cell_type": "code",
   "execution_count": null,
   "id": "2f4561f6",
   "metadata": {
    "papermill": {
     "duration": null,
     "end_time": null,
     "exception": null,
     "start_time": null,
     "status": "pending"
    },
    "tags": []
   },
   "outputs": [],
   "source": [
    "# the bounding box should be passed to the geojson param as a geojson Feature or FeatureCollection\n",
    "def generate_stats(item, geojson):\n",
    "    result = requests.post(\n",
    "        f\"{RASTER_API_URL}/cog/statistics\", \n",
    "        params={\n",
    "            \"url\": item.assets[\"cog_default\"].href\n",
    "        },\n",
    "        json=geojson\n",
    "    ).json()\n",
    "    return {\n",
    "        **result[\"properties\"],\n",
    "        \"start_datetime\": str(item.properties.get(\"datetime\", item.properties.get(\"start_datetime\")))[:4],\n",
    "        \"collection\": item.collection_id\n",
    "    }"
   ]
  },
  {
   "attachments": {},
   "cell_type": "markdown",
   "id": "58c5b9aa",
   "metadata": {
    "papermill": {
     "duration": null,
     "end_time": null,
     "exception": null,
     "start_time": null,
     "status": "pending"
    },
    "tags": []
   },
   "source": [
    "Let's start out with the US 🇺🇸 !\n",
    "\n",
    "We'll get all the items in the NO2 and SO2 collections and generate the statistics from them for the Ohio River Valley region of the United States."
   ]
  },
  {
   "cell_type": "code",
   "execution_count": null,
   "id": "32b47a5c",
   "metadata": {
    "papermill": {
     "duration": null,
     "end_time": null,
     "exception": null,
     "start_time": null,
     "status": "pending"
    },
    "tags": []
   },
   "outputs": [],
   "source": [
    "usa_aoi = aois[\"usa\"]\n",
    "items = list(catalog.search(collections=[collections[\"no2\"], collections[\"so2\"]]).items())\n",
    "usa_stats = [\n",
    "    generate_stats(item, usa_aoi)\n",
    "    for item in items\n",
    "]"
   ]
  },
  {
   "attachments": {},
   "cell_type": "markdown",
   "id": "b37f7555",
   "metadata": {
    "papermill": {
     "duration": null,
     "end_time": null,
     "exception": null,
     "start_time": null,
     "status": "pending"
    },
    "tags": []
   },
   "source": [
    "Create a function that takes the statistics (which is a json) and converts it to a pandas dataframe in a format that'll make it easy to read and visualize.\n",
    "\n",
    "We are only concerned with the `mean` statistics for this example. Specifically the change from the year 2005 as a percentage. We'll use pandas to calculate this change percentage and assign it to the `change` column."
   ]
  },
  {
   "cell_type": "code",
   "execution_count": null,
   "id": "167b31fa",
   "metadata": {
    "papermill": {
     "duration": null,
     "end_time": null,
     "exception": null,
     "start_time": null,
     "status": "pending"
    },
    "tags": []
   },
   "outputs": [],
   "source": [
    "def clean_stats(stats_json) -> pd.DataFrame:\n",
    "    # convert the stats_json as is to pandas dataframe\n",
    "    df = pd.json_normalize(stats_json)\n",
    "    # simple renaming for readability\n",
    "    df.columns = [col.replace(\"statistics.1.\", \"\") for col in df.columns]\n",
    "    # create a date column from the start_datetime column\n",
    "    df[\"date\"] = pd.to_datetime(df[\"start_datetime\"], format=\"mixed\")\n",
    "    # rename the collection to a more friendly name\n",
    "    df[\"collection\"] = df[\"collection\"].map(lambda x: next(key for key, value in collections.items() if value == x))\n",
    "    # sort the dataframe by the date column\n",
    "    df = df.sort_values(by=[\"date\"])\n",
    "    # create a change column that calculates the change of the mean values from the value in 2005\n",
    "    df[\"change\"] = df.groupby(\"collection\", group_keys=False)[\"mean\"].apply(lambda x: x.div(x.iloc[0]).subtract(1).mul(100))\n",
    "    return df"
   ]
  },
  {
   "cell_type": "code",
   "execution_count": null,
   "id": "62ca596c",
   "metadata": {
    "papermill": {
     "duration": null,
     "end_time": null,
     "exception": null,
     "start_time": null,
     "status": "pending"
    },
    "tags": []
   },
   "outputs": [],
   "source": [
    "cleaned_stats_df = clean_stats(usa_stats)"
   ]
  },
  {
   "attachments": {},
   "cell_type": "markdown",
   "id": "1a3a027d",
   "metadata": {
    "papermill": {
     "duration": null,
     "end_time": null,
     "exception": null,
     "start_time": null,
     "status": "pending"
    },
    "tags": []
   },
   "source": [
    "We'll now create a time-series of the change in mean values for NO2 and SO2 for the area in the US."
   ]
  },
  {
   "cell_type": "code",
   "execution_count": null,
   "id": "f1b063d9",
   "metadata": {
    "papermill": {
     "duration": null,
     "end_time": null,
     "exception": null,
     "start_time": null,
     "status": "pending"
    },
    "tags": []
   },
   "outputs": [],
   "source": [
    "plt.xticks([i for i in range(0, 21, 2)])\n",
    "sns.set_style(\"darkgrid\")\n",
    "ax = sns.lineplot(\n",
    "    x=\"start_datetime\",\n",
    "    y=\"change\",\n",
    "    hue=\"collection\",\n",
    "    data=cleaned_stats_df,\n",
    "    palette=[\"#2196f3\", \"#ff5722\"],\n",
    "    style=\"collection\",\n",
    "    markers=[\"*\", \"d\"],\n",
    ")\n",
    "ax.set_title(\"US - Ohio River Valley\")\n",
    "ax.set_xlabel(\"Years\")\n",
    "ax.set_ylabel(\"Change from 2005 (%)\")\n",
    "plt.legend(frameon=False, ncol=3)\n",
    "plt.show()"
   ]
  },
  {
   "attachments": {},
   "cell_type": "markdown",
   "id": "e224bf5e",
   "metadata": {
    "papermill": {
     "duration": null,
     "end_time": null,
     "exception": null,
     "start_time": null,
     "status": "pending"
    },
    "tags": []
   },
   "source": [
    "Now, let's create a function that creates this trend graph, given the country."
   ]
  },
  {
   "cell_type": "code",
   "execution_count": null,
   "id": "ef2f391e",
   "metadata": {
    "papermill": {
     "duration": null,
     "end_time": null,
     "exception": null,
     "start_time": null,
     "status": "pending"
    },
    "tags": []
   },
   "outputs": [],
   "source": [
    "def create_chart(country):\n",
    "    stats = [generate_stats(item, aois[country]) for item in list(catalog.search(collections=[collections[\"no2\"], collections[\"so2\"]]).items())]\n",
    "    df = clean_stats(stats)\n",
    "\n",
    "    # Create a chart using Seaborn\n",
    "    plt.xticks([i for i in range(0, 21, 2)])\n",
    "    sns.set_style(\"darkgrid\")\n",
    "    ax = sns.lineplot(\n",
    "        x=\"start_datetime\",\n",
    "        y=\"change\",\n",
    "        hue=\"collection\",\n",
    "        data=df,\n",
    "        palette=[\"#2196f3\", \"#ff5722\"],\n",
    "        style=\"collection\",\n",
    "        markers=[\"*\", \"d\"],\n",
    "        legend=\"full\",\n",
    "        # label=[\"no2\", \"so2\"]\n",
    "    )\n",
    "    ax.set_title(country.title())\n",
    "    ax.set_xlabel(\"Years\")\n",
    "    ax.set_ylabel(\"Change from 2005 (%)\")\n",
    "    ax.legend([\"no2\", \"so2\"])\n",
    "    plt.legend(frameon=False, ncol=3)\n",
    "    plt.show()"
   ]
  },
  {
   "attachments": {},
   "cell_type": "markdown",
   "id": "329a1802",
   "metadata": {
    "papermill": {
     "duration": null,
     "end_time": null,
     "exception": null,
     "start_time": null,
     "status": "pending"
    },
    "tags": []
   },
   "source": [
    "We can use this function to create charts for the rest of the AOIs."
   ]
  },
  {
   "attachments": {},
   "cell_type": "markdown",
   "id": "58941bf0",
   "metadata": {
    "papermill": {
     "duration": null,
     "end_time": null,
     "exception": null,
     "start_time": null,
     "status": "pending"
    },
    "tags": []
   },
   "source": [
    "India 🇮🇳"
   ]
  },
  {
   "cell_type": "code",
   "execution_count": null,
   "id": "d2721e65",
   "metadata": {
    "papermill": {
     "duration": null,
     "end_time": null,
     "exception": null,
     "start_time": null,
     "status": "pending"
    },
    "tags": []
   },
   "outputs": [],
   "source": [
    "create_chart(\"india\")"
   ]
  },
  {
   "attachments": {},
   "cell_type": "markdown",
   "id": "bada46c6",
   "metadata": {
    "papermill": {
     "duration": null,
     "end_time": null,
     "exception": null,
     "start_time": null,
     "status": "pending"
    },
    "tags": []
   },
   "source": [
    "China 🇨🇳"
   ]
  },
  {
   "cell_type": "code",
   "execution_count": null,
   "id": "c0cb747e",
   "metadata": {
    "papermill": {
     "duration": null,
     "end_time": null,
     "exception": null,
     "start_time": null,
     "status": "pending"
    },
    "tags": []
   },
   "outputs": [],
   "source": [
    "create_chart(\"china\")"
   ]
  },
  {
   "cell_type": "code",
   "execution_count": null,
   "id": "d4af5788",
   "metadata": {
    "papermill": {
     "duration": null,
     "end_time": null,
     "exception": null,
     "start_time": null,
     "status": "pending"
    },
    "tags": []
   },
   "outputs": [],
   "source": []
  }
 ],
 "metadata": {
  "kernelspec": {
   "display_name": ".venv",
   "language": "python",
   "name": "python3"
  },
  "language_info": {
   "codemirror_mode": {
    "name": "ipython",
    "version": 3
   },
   "file_extension": ".py",
   "mimetype": "text/x-python",
   "name": "python",
   "nbconvert_exporter": "python",
   "pygments_lexer": "ipython3",
   "version": "3.9.16"
  },
  "papermill": {
   "default_parameters": {},
   "duration": 2.346626,
   "end_time": "2023-08-08T00:20:17.341784",
   "environment_variables": {},
   "exception": true,
   "input_path": "/tmp/tmptdy8wivu",
   "output_path": "/tmp/notebook_output.ipynb",
   "parameters": {},
   "start_time": "2023-08-08T00:20:14.995158",
   "version": "2.3.4"
  },
  "properties": {
   "authors": [
    {
     "id": "c5a81d60-7435-4dfc-af25-4e20bc840a0c",
     "name": "slesa.adhikari@uah.edu"
    }
   ],
   "description": "We look at air quality trends in China, India and the US",
   "id": "9bce07ff-a6af-4359-87e0-e5bb0c73c571",
   "license": null,
   "name": "Using the NASA VEDA EOAPI to look at Air Quality Trends",
   "requirements": [],
   "tags": [
    "Analysis-Ready Data",
    "Open Standard",
    "On-the-fly"
   ],
   "tosAgree": true,
   "type": "Jupyter Notebook",
   "version": "0.0.1"
  },
  "vscode": {
   "interpreter": {
    "hash": "a74cf7cb4b4aadc784751f4c034f6cd6db68cf22c43df63a2979c2f2ee505749"
   }
  }
 },
 "nbformat": 4,
 "nbformat_minor": 5
}