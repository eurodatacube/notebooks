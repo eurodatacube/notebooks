{
 "cells": [
  {
   "cell_type": "code",
   "execution_count": 1,
   "id": "fe18d94b",
   "metadata": {
    "execution": {
     "iopub.execute_input": "2022-11-03T09:34:29.641423Z",
     "iopub.status.busy": "2022-11-03T09:34:29.640632Z",
     "iopub.status.idle": "2022-11-03T09:34:29.700881Z",
     "shell.execute_reply": "2022-11-03T09:34:29.699947Z"
    },
    "papermill": {
     "duration": 0.084144,
     "end_time": "2022-11-03T09:34:29.702607",
     "exception": false,
     "start_time": "2022-11-03T09:34:29.618463",
     "status": "completed"
    },
    "tags": []
   },
   "outputs": [
    {
     "data": {
      "text/html": [
       "<script type=\"text/javascript\">\n",
       "        function toggle(id) {\n",
       "            el = document.getElementById(id);\n",
       "            el.style.display = el.style.display === \"none\" ? \"block\" : \"none\";\n",
       "        }\n",
       "    </script>"
      ],
      "text/plain": [
       "<IPython.core.display.HTML object>"
      ]
     },
     "metadata": {},
     "output_type": "display_data"
    },
    {
     "data": {
      "text/html": [
       "This notebook is compatible with this base image version (user-2022.10-14)."
      ],
      "text/plain": [
       "<IPython.core.display.HTML object>"
      ]
     },
     "metadata": {},
     "output_type": "display_data"
    },
    {
     "data": {
      "text/markdown": [
       "\n",
       "\n",
       "---------\n",
       "\n",
       "The following environment variables are available:\n",
       "\n",
       "* `SH_CLIENT_ID`, `SH_INSTANCE_ID`, `SH_CLIENT_NAME`, `SH_CLIENT_SECRET`\n"
      ],
      "text/plain": [
       "<IPython.core.display.Markdown object>"
      ]
     },
     "metadata": {},
     "output_type": "display_data"
    }
   ],
   "source": [
    "from eoxhub import check_compatibility\n",
    "check_compatibility(\"user-2022.10-14\", dependencies=[\"SH\"])"
   ]
  },
  {
   "cell_type": "markdown",
   "id": "9cc57bf1-13fa-4075-884b-d827514b3eb8",
   "metadata": {
    "papermill": {
     "duration": 0.047592,
     "end_time": "2022-11-03T09:34:29.767479",
     "exception": false,
     "start_time": "2022-11-03T09:34:29.719887",
     "status": "completed"
    },
    "tags": []
   },
   "source": [
    "<img src=\"https://github.com/sentinel-hub/eo-grow-examples/raw/main/GEM/docs/figs/gem.png\"/>"
   ]
  },
  {
   "cell_type": "markdown",
   "id": "0f64b129-8f73-4f2b-9d29-6ec8cf8b4958",
   "metadata": {
    "papermill": {
     "duration": 0.017643,
     "end_time": "2022-11-03T09:34:29.826011",
     "exception": false,
     "start_time": "2022-11-03T09:34:29.808368",
     "status": "completed"
    },
    "tags": []
   },
   "source": [
    "<hr>\n",
    "\n",
    "The Global Earth Monitor (GEM) project is addressing the challenge of continuous monitoring of large areas in a sustainable cost-effective way. The goal of the project is to establish a new disruptive Earth Observation Data - Exploitation model which will dramatically enhance the exploitation of Copernicus data.\n",
    "\n",
    "Read more about the project, and subscribe to our newsletter [here](https://www.globalearthmonitor.eu).\n",
    "\n",
    "_This project has received funding from the European Union’s Horizon 2020 research and innovation programme under Grant Agreement No. 101004112._\n",
    "    \n",
    "<hr>"
   ]
  },
  {
   "cell_type": "markdown",
   "id": "4ce7c03c-ced7-4183-9010-6e9a4620f882",
   "metadata": {
    "papermill": {
     "duration": 0.017238,
     "end_time": "2022-11-03T09:34:29.863933",
     "exception": false,
     "start_time": "2022-11-03T09:34:29.846695",
     "status": "completed"
    },
    "tags": []
   },
   "source": [
    "The example in this notebook shows how a typical Earth Observation workflow can be run using [`eo-grow`](https://github.com/sentinel-hub/eo-grow.git).\n",
    "\n",
    "The workflow is depicted in the image below:\n",
    "<img src=\"https://github.com/sentinel-hub/eo-grow-examples/raw/main/GEM/docs/figs/pipeline.png\" />\n",
    "\n",
    "and skips the ML part for the sake of ease. The full example, with instructions on how to run it on large scale is given in [`eo-grow-examples`](https://github.com/sentinel-hub/eo-grow-examples.git).\n"
   ]
  },
  {
   "cell_type": "markdown",
   "id": "984f4816-fece-4407-b9f4-b8da1f535022",
   "metadata": {
    "papermill": {
     "duration": 0.017318,
     "end_time": "2022-11-03T09:34:29.898660",
     "exception": false,
     "start_time": "2022-11-03T09:34:29.881342",
     "status": "completed"
    },
    "tags": []
   },
   "source": [
    "## Pre-requisites\n",
    "\n",
    " * EOxHub Workspace subscription\n",
    " * Sentinel Hub subscription\n",
    "\n",
    "\n",
    "## Configuration\n",
    "\n",
    "To set up the workspace,first import the neccessary python libraries. These libraries are pre-installed in EOxHub Workspace. Additionally import environment variables which automatically includes Sentinel Hub credentials that will be used to configure Sentinel Hub API.\n"
   ]
  },
  {
   "cell_type": "markdown",
   "id": "7ddd598a-713d-48ae-a470-3a7d8abdceb5",
   "metadata": {
    "papermill": {
     "duration": 0.017733,
     "end_time": "2022-11-03T09:34:29.934434",
     "exception": false,
     "start_time": "2022-11-03T09:34:29.916701",
     "status": "completed"
    },
    "tags": []
   },
   "source": [
    "### Imports"
   ]
  },
  {
   "cell_type": "code",
   "execution_count": 2,
   "id": "911c1849-4757-48c6-9df8-efb9b377125c",
   "metadata": {
    "execution": {
     "iopub.execute_input": "2022-11-03T09:34:29.970364Z",
     "iopub.status.busy": "2022-11-03T09:34:29.969791Z",
     "iopub.status.idle": "2022-11-03T09:34:32.984103Z",
     "shell.execute_reply": "2022-11-03T09:34:32.983257Z"
    },
    "papermill": {
     "duration": 3.035012,
     "end_time": "2022-11-03T09:34:32.986638",
     "exception": false,
     "start_time": "2022-11-03T09:34:29.951626",
     "status": "completed"
    },
    "tags": []
   },
   "outputs": [],
   "source": [
    "%matplotlib inline\n",
    "\n",
    "import os\n",
    "from typing import Any, Dict\n",
    "import warnings\n",
    "import shutil\n",
    "\n",
    "import IPython\n",
    "\n",
    "from eogrow.core.config import RawConfig, interpret_config_from_dict, recursive_config_join\n",
    "from eogrow.core.storage import StorageManager\n",
    "from eogrow.core.area import UtmZoneAreaManager\n",
    "from eogrow.pipelines.download import DownloadEvalscriptPipeline\n",
    "from eogrow.pipelines.features import FeaturesPipeline\n",
    "from eogrow.pipelines.prediction import RegressionPredictionPipeline\n",
    "from eogrow.pipelines.export_maps import ExportMapsPipeline\n",
    "from eogrow.pipelines.byoc import IngestByocTilesPipeline\n",
    "\n",
    "from sentinelhub import SHConfig\n",
    "\n",
    "warnings.filterwarnings('ignore')"
   ]
  },
  {
   "cell_type": "markdown",
   "id": "7330e607-601f-472f-b542-6ad397038959",
   "metadata": {
    "papermill": {
     "duration": 0.018738,
     "end_time": "2022-11-03T09:34:33.023362",
     "exception": false,
     "start_time": "2022-11-03T09:34:33.004624",
     "status": "completed"
    },
    "tags": []
   },
   "source": [
    "### Some helper functions"
   ]
  },
  {
   "cell_type": "code",
   "execution_count": 3,
   "id": "5ebd250f-dfd4-4c7c-b2e9-cd21cd94f15a",
   "metadata": {
    "execution": {
     "iopub.execute_input": "2022-11-03T09:34:33.060602Z",
     "iopub.status.busy": "2022-11-03T09:34:33.059956Z",
     "iopub.status.idle": "2022-11-03T09:34:33.067915Z",
     "shell.execute_reply": "2022-11-03T09:34:33.066859Z"
    },
    "papermill": {
     "duration": 0.028198,
     "end_time": "2022-11-03T09:34:33.069577",
     "exception": false,
     "start_time": "2022-11-03T09:34:33.041379",
     "status": "completed"
    },
    "tags": []
   },
   "outputs": [],
   "source": [
    "def prepare_config(global_config: Dict[str, Any], pipeline_config: Dict[str, Any]) -> RawConfig:\n",
    "    joint_config = recursive_config_join(pipeline_config, global_config)\n",
    "    return interpret_config_from_dict(joint_config)"
   ]
  },
  {
   "cell_type": "markdown",
   "id": "ef053af9-ebdf-4616-a126-eb44e9c0b9ea",
   "metadata": {
    "papermill": {
     "duration": 0.017427,
     "end_time": "2022-11-03T09:34:33.105990",
     "exception": false,
     "start_time": "2022-11-03T09:34:33.088563",
     "status": "completed"
    },
    "tags": []
   },
   "source": [
    "### Credentials"
   ]
  },
  {
   "cell_type": "markdown",
   "id": "47d73d10-19fe-4b8a-86ec-fb3a2a733cc1",
   "metadata": {
    "papermill": {
     "duration": 0.021235,
     "end_time": "2022-11-03T09:34:33.145020",
     "exception": false,
     "start_time": "2022-11-03T09:34:33.123785",
     "status": "completed"
    },
    "tags": []
   },
   "source": [
    "Sentinel Hub credentials `SH_CLIENT_ID` and `SH_CLIENT_SECRET` are already imported as envornment variables. In the next step pass the credentials to `SHConfig()` object:"
   ]
  },
  {
   "cell_type": "code",
   "execution_count": 4,
   "id": "383edd2f-f8e7-4746-a229-23cf783f8043",
   "metadata": {
    "execution": {
     "iopub.execute_input": "2022-11-03T09:34:33.181687Z",
     "iopub.status.busy": "2022-11-03T09:34:33.180996Z",
     "iopub.status.idle": "2022-11-03T09:34:33.186244Z",
     "shell.execute_reply": "2022-11-03T09:34:33.185444Z"
    },
    "papermill": {
     "duration": 0.025797,
     "end_time": "2022-11-03T09:34:33.187876",
     "exception": false,
     "start_time": "2022-11-03T09:34:33.162079",
     "status": "completed"
    },
    "tags": []
   },
   "outputs": [],
   "source": [
    "# Pass Sentinel Hub credentials to SHConfig\n",
    "config = SHConfig()\n",
    "config.sh_client_id = os.environ[\"SH_CLIENT_ID\"]\n",
    "config.sh_client_secret = os.environ[\"SH_CLIENT_SECRET\"]\n",
    "config.save()"
   ]
  },
  {
   "cell_type": "markdown",
   "id": "e8d61017-e5b9-4eb4-97df-f629f3676644",
   "metadata": {
    "papermill": {
     "duration": 0.019839,
     "end_time": "2022-11-03T09:34:33.225437",
     "exception": false,
     "start_time": "2022-11-03T09:34:33.205598",
     "status": "completed"
    },
    "tags": []
   },
   "source": [
    "## Running the pipelines"
   ]
  },
  {
   "cell_type": "markdown",
   "id": "8dfe73ee-71c5-4e7b-9b30-ef1014ee9cc3",
   "metadata": {
    "papermill": {
     "duration": 0.017568,
     "end_time": "2022-11-03T09:34:33.260640",
     "exception": false,
     "start_time": "2022-11-03T09:34:33.243072",
     "status": "completed"
    },
    "tags": []
   },
   "source": [
    "### Prepare project data"
   ]
  },
  {
   "cell_type": "markdown",
   "id": "143f98bb-2283-485b-a936-66fefb181be1",
   "metadata": {
    "papermill": {
     "duration": 0.018025,
     "end_time": "2022-11-03T09:34:33.295937",
     "exception": false,
     "start_time": "2022-11-03T09:34:33.277912",
     "status": "completed"
    },
    "tags": []
   },
   "source": [
    "First, let's get some data and set up the project folder"
   ]
  },
  {
   "cell_type": "code",
   "execution_count": 5,
   "id": "4d4c5178-6c88-455d-a21f-67f0c870b0d9",
   "metadata": {
    "execution": {
     "iopub.execute_input": "2022-11-03T09:34:33.337527Z",
     "iopub.status.busy": "2022-11-03T09:34:33.336883Z",
     "iopub.status.idle": "2022-11-03T09:34:35.395860Z",
     "shell.execute_reply": "2022-11-03T09:34:35.395017Z"
    },
    "papermill": {
     "duration": 2.081437,
     "end_time": "2022-11-03T09:34:35.397820",
     "exception": false,
     "start_time": "2022-11-03T09:34:33.316383",
     "status": "completed"
    },
    "tags": []
   },
   "outputs": [],
   "source": [
    "PROJECT_FOLDER = './gem_project'\n",
    "\n",
    "if os.path.exists(PROJECT_FOLDER):\n",
    "    print(\"Local project already exists!\")\n",
    "else:\n",
    "    shutil.copytree(\n",
    "        os.path.join(os.environ['EDC_PATH'], \"notebooks/contributions/eogrow/project\"), \n",
    "        PROJECT_FOLDER\n",
    "    )"
   ]
  },
  {
   "cell_type": "markdown",
   "id": "cc49a960-04e5-4f03-883a-cd371a0f46df",
   "metadata": {
    "papermill": {
     "duration": 0.081265,
     "end_time": "2022-11-03T09:34:35.498098",
     "exception": false,
     "start_time": "2022-11-03T09:34:35.416833",
     "status": "completed"
    },
    "tags": []
   },
   "source": [
    "### Define area of interest (AOI)"
   ]
  },
  {
   "cell_type": "markdown",
   "id": "4eadef4f-5552-49c8-94aa-9f07acd520c4",
   "metadata": {
    "papermill": {
     "duration": 0.018002,
     "end_time": "2022-11-03T09:34:35.542013",
     "exception": false,
     "start_time": "2022-11-03T09:34:35.524011",
     "status": "completed"
    },
    "tags": []
   },
   "source": [
    "For this example the AOI is covering area around Porto Novo (Benin) and Lagos (Nigeria), as can be seen below.   \n",
    "The AOI is stored in `project/input-data/demo-aoi.geojson`, and is specified as input parameter in the `AreaManager` part of the global config (below)."
   ]
  },
  {
   "cell_type": "code",
   "execution_count": 6,
   "id": "6bfeb703-7472-446d-aa4c-3d839aae665b",
   "metadata": {
    "execution": {
     "iopub.execute_input": "2022-11-03T09:34:35.581191Z",
     "iopub.status.busy": "2022-11-03T09:34:35.580326Z",
     "iopub.status.idle": "2022-11-03T09:34:35.587328Z",
     "shell.execute_reply": "2022-11-03T09:34:35.586366Z"
    },
    "papermill": {
     "duration": 0.027181,
     "end_time": "2022-11-03T09:34:35.588828",
     "exception": false,
     "start_time": "2022-11-03T09:34:35.561647",
     "status": "completed"
    },
    "tags": []
   },
   "outputs": [
    {
     "data": {
      "application/geo+json": {
       "crs": {
        "properties": {
         "name": "urn:ogc:def:crs:OGC:1.3:CRS84"
        },
        "type": "name"
       },
       "features": [
        {
         "geometry": {
          "coordinates": [
           [
            [
             2.949785238078182,
             6.781508517178976
            ],
            [
             3.739614837730474,
             6.7874920747521
            ],
            [
             3.741609356921515,
             6.410527947645325
            ],
            [
             2.951779757269223,
             6.404544390072201
            ],
            [
             2.949785238078182,
             6.781508517178976
            ]
           ]
          ],
          "type": "Polygon"
         },
         "properties": {},
         "type": "Feature"
        }
       ],
       "name": "demo_aoi",
       "type": "FeatureCollection"
      },
      "text/plain": [
       "<IPython.display.GeoJSON object>"
      ]
     },
     "metadata": {
      "application/geo+json": {
       "expanded": false,
       "root": "root"
      }
     },
     "output_type": "display_data"
    }
   ],
   "source": [
    "IPython.display.GeoJSON(filename=f'{PROJECT_FOLDER}/input-data/demo-aoi.geojson')"
   ]
  },
  {
   "cell_type": "markdown",
   "id": "8a871af4-12a9-4530-8784-97259557e137",
   "metadata": {
    "papermill": {
     "duration": 0.018058,
     "end_time": "2022-11-03T09:34:35.634832",
     "exception": false,
     "start_time": "2022-11-03T09:34:35.616774",
     "status": "completed"
    },
    "tags": []
   },
   "source": [
    "### Config with global parameters"
   ]
  },
  {
   "cell_type": "markdown",
   "id": "5d76c37b-196b-4244-9593-dd0d4413445c",
   "metadata": {
    "papermill": {
     "duration": 0.022676,
     "end_time": "2022-11-03T09:34:35.675743",
     "exception": false,
     "start_time": "2022-11-03T09:34:35.653067",
     "status": "completed"
    },
    "tags": []
   },
   "source": [
    "The main configuration parameters are defined here: a folder, where everything (data, model, results, ...) will be stored. In this case, the project folder is local path; it could also be a path on object storage (AWS S3). As it is local, one can also copy the notebook and corresponding files under `project` to local machine and run things there.  "
   ]
  },
  {
   "cell_type": "code",
   "execution_count": 7,
   "id": "b51772d0-b903-467a-a480-5efe7bdd2043",
   "metadata": {
    "execution": {
     "iopub.execute_input": "2022-11-03T09:34:35.713470Z",
     "iopub.status.busy": "2022-11-03T09:34:35.712681Z",
     "iopub.status.idle": "2022-11-03T09:34:35.718785Z",
     "shell.execute_reply": "2022-11-03T09:34:35.717881Z"
    },
    "papermill": {
     "duration": 0.026274,
     "end_time": "2022-11-03T09:34:35.720458",
     "exception": false,
     "start_time": "2022-11-03T09:34:35.694184",
     "status": "completed"
    },
    "tags": []
   },
   "outputs": [],
   "source": [
    "storage_config = {\n",
    "    \"manager\": \"eogrow.core.storage.StorageManager\",\n",
    "    \"project_folder\": PROJECT_FOLDER,\n",
    "    \"structure\": {\n",
    "      \"data\": \"data\",\n",
    "      \"features\": \"features\",\n",
    "      \"predictions\": \"predictions\",\n",
    "      \"models\": \"models\",\n",
    "      \"maps\": \"maps\"\n",
    "    }\n",
    "}\n",
    "\n",
    "area_config = {\n",
    "    \"manager\": \"eogrow.core.area.utm.UtmZoneAreaManager\",\n",
    "    \"area_filename\": \"demo-aoi.geojson\",\n",
    "    \"patch_size_x\": 256*120,\n",
    "    \"patch_size_y\": 256*120,\n",
    "}\n",
    "\n",
    "logging_config = {\n",
    "    \"manager\": \"eogrow.core.logging.LoggingManager\",\n",
    "    \"save_logs\": True,\n",
    "    \"show_logs\": True,\n",
    "    \"capture_warnings\": False\n",
    "}\n",
    "\n",
    "global_config = {\n",
    "    \"storage\": storage_config,\n",
    "    \"area\": area_config,\n",
    "    \"eopatch\": {\"manager\": \"eogrow.core.eopatch.EOPatchManager\"},\n",
    "    \"logging\": logging_config,\n",
    "    \"use_ray\": False,\n",
    "    \"workers\": 1\n",
    "}"
   ]
  },
  {
   "cell_type": "code",
   "execution_count": 8,
   "id": "933ad1db-bc20-431d-818a-50c9f4d98cb8",
   "metadata": {
    "execution": {
     "iopub.execute_input": "2022-11-03T09:34:35.758211Z",
     "iopub.status.busy": "2022-11-03T09:34:35.757352Z",
     "iopub.status.idle": "2022-11-03T09:34:35.774516Z",
     "shell.execute_reply": "2022-11-03T09:34:35.773821Z"
    },
    "papermill": {
     "duration": 0.038477,
     "end_time": "2022-11-03T09:34:35.776363",
     "exception": false,
     "start_time": "2022-11-03T09:34:35.737886",
     "status": "completed"
    },
    "tags": []
   },
   "outputs": [],
   "source": [
    "storage_manager = StorageManager.from_raw_config(storage_config)"
   ]
  },
  {
   "cell_type": "markdown",
   "id": "d2b8eb38-06d7-4aaf-ba1b-81ca47a10ee9",
   "metadata": {
    "papermill": {
     "duration": 0.017577,
     "end_time": "2022-11-03T09:34:35.811294",
     "exception": false,
     "start_time": "2022-11-03T09:34:35.793717",
     "status": "completed"
    },
    "tags": []
   },
   "source": [
    "### Download pipeline"
   ]
  },
  {
   "cell_type": "markdown",
   "id": "fd4da202-7b85-4d22-ac22-c96a69281149",
   "metadata": {
    "papermill": {
     "duration": 0.017439,
     "end_time": "2022-11-03T09:34:35.845823",
     "exception": false,
     "start_time": "2022-11-03T09:34:35.828384",
     "status": "completed"
    },
    "tags": []
   },
   "source": [
    "As for this demonstration we are not using object storage (AWS S3), we will be requesting data through Sentinel Hub ProcessingAPI. When relying on object storage, we could have used the BatchAPI and corresponding `eogrow.pipelines.batch_download.BatchDownloadPipeline`.\n",
    "\n",
    "This pipeline takes care of the first step in literally any EO workflow: getting the data.\n",
    "\n",
    "<img src=\"https://github.com/sentinel-hub/eo-grow-examples/raw/main/GEM/docs/figs/download_pipeline.png\" width=\"500 px\"/>"
   ]
  },
  {
   "cell_type": "code",
   "execution_count": 9,
   "id": "925657b9-4a53-44a8-8caf-f383b73aff47",
   "metadata": {
    "execution": {
     "iopub.execute_input": "2022-11-03T09:34:35.883775Z",
     "iopub.status.busy": "2022-11-03T09:34:35.882947Z",
     "iopub.status.idle": "2022-11-03T09:34:35.887908Z",
     "shell.execute_reply": "2022-11-03T09:34:35.887320Z"
    },
    "papermill": {
     "duration": 0.027096,
     "end_time": "2022-11-03T09:34:35.891423",
     "exception": false,
     "start_time": "2022-11-03T09:34:35.864327",
     "status": "completed"
    },
    "tags": []
   },
   "outputs": [],
   "source": [
    "evalscript_path = os.path.join(storage_manager.get_input_data_folder(full_path=True), 'evalscript.js')"
   ]
  },
  {
   "cell_type": "code",
   "execution_count": 10,
   "id": "bf12dc03-3454-4a98-945c-b7e12037599f",
   "metadata": {
    "execution": {
     "iopub.execute_input": "2022-11-03T09:34:35.928574Z",
     "iopub.status.busy": "2022-11-03T09:34:35.927967Z",
     "iopub.status.idle": "2022-11-03T09:34:35.934172Z",
     "shell.execute_reply": "2022-11-03T09:34:35.933377Z"
    },
    "papermill": {
     "duration": 0.026657,
     "end_time": "2022-11-03T09:34:35.935763",
     "exception": false,
     "start_time": "2022-11-03T09:34:35.909106",
     "status": "completed"
    },
    "tags": []
   },
   "outputs": [],
   "source": [
    "download_config = {\n",
    "  \"pipeline\": \"eogrow.pipelines.download.DownloadEvalscriptPipeline\",\n",
    "  \"data_collection\": {\n",
    "    \"name\": \"BYOC_484d8dbb-9e3e-41f2-b96b-35189d3ae37f\",\n",
    "  },\n",
    "  \"time_period\": [\"2020-01-01\", \"2021-01-01\"],\n",
    "  \"resolution\": 120,\n",
    "  \"resampling_type\": \"BILINEAR\",\n",
    "  \"skip_existing\": True,\n",
    "  \"output_folder_key\": \"data\",\n",
    "  \"features\": [[\"data\", \"BANDS\"], [\"mask\", \"QUALITY_MASK\"]],\n",
    "  \"postprocessing\": {\n",
    "      \"rescale_schemas\": [{\n",
    "          \"rescale_factor\": 0.0001,\n",
    "          \"dtype\": \"float\",\n",
    "          \"features_to_rescale\": [[\"data\", \"BANDS\"]],\n",
    "      }],\n",
    "  },\n",
    "  \"evalscript_path\": evalscript_path\n",
    "}"
   ]
  },
  {
   "cell_type": "code",
   "execution_count": 11,
   "id": "ca737c1e-cad5-4184-9dd9-de15a7403b62",
   "metadata": {
    "execution": {
     "iopub.execute_input": "2022-11-03T09:34:35.972807Z",
     "iopub.status.busy": "2022-11-03T09:34:35.971842Z",
     "iopub.status.idle": "2022-11-03T09:34:35.979404Z",
     "shell.execute_reply": "2022-11-03T09:34:35.978713Z"
    },
    "papermill": {
     "duration": 0.027515,
     "end_time": "2022-11-03T09:34:35.981078",
     "exception": false,
     "start_time": "2022-11-03T09:34:35.953563",
     "status": "completed"
    },
    "tags": []
   },
   "outputs": [],
   "source": [
    "download_pipeline = DownloadEvalscriptPipeline.from_raw_config(prepare_config(global_config, download_config))"
   ]
  },
  {
   "cell_type": "code",
   "execution_count": 12,
   "id": "e7f0ef0c-3483-4826-bcca-0d1724a9aa74",
   "metadata": {
    "execution": {
     "iopub.execute_input": "2022-11-03T09:34:36.022343Z",
     "iopub.status.busy": "2022-11-03T09:34:36.021368Z",
     "iopub.status.idle": "2022-11-03T09:35:32.423636Z",
     "shell.execute_reply": "2022-11-03T09:35:32.422928Z"
    },
    "papermill": {
     "duration": 56.424214,
     "end_time": "2022-11-03T09:35:32.425541",
     "exception": false,
     "start_time": "2022-11-03T09:34:36.001327",
     "status": "completed"
    },
    "tags": []
   },
   "outputs": [
    {
     "name": "stdout",
     "output_type": "stream",
     "text": [
      "INFO eogrow.core.pipeline:236: Running DownloadEvalscriptPipeline\n"
     ]
    },
    {
     "name": "stdout",
     "output_type": "stream",
     "text": [
      "INFO eogrow.core.area.base:155: Calculating a unary union of the geometries\n"
     ]
    },
    {
     "name": "stdout",
     "output_type": "stream",
     "text": [
      "INFO eogrow.core.area.base:169: Finished processing area geometry\n"
     ]
    },
    {
     "name": "stdout",
     "output_type": "stream",
     "text": [
      "INFO eogrow.core.area.base:183: Saving area geometry to cache/area_demo-aoi_UtmZoneAreaManager__.gpkg\n"
     ]
    },
    {
     "name": "stdout",
     "output_type": "stream",
     "text": [
      "INFO eogrow.core.area.utm:54: Splitting area geometry into UTM zone grid\n"
     ]
    },
    {
     "name": "stdout",
     "output_type": "stream",
     "text": [
      "INFO eogrow.core.area.base:217: Saving grid to cache/grid_demo-aoi_UtmZoneAreaManager___30720_30720_0.0_0.0_0.0_0.0.gpkg\n"
     ]
    },
    {
     "name": "stdout",
     "output_type": "stream",
     "text": [
      "INFO eogrow.core.pipeline:121: Checking which EOPatches can be skipped\n"
     ]
    },
    {
     "data": {
      "application/vnd.jupyter.widget-view+json": {
       "model_id": "f141bf0a241e45149d0f395c66797132",
       "version_major": 2,
       "version_minor": 0
      },
      "text/plain": [
       "Checking EOPatches:   0%|          | 0/6 [00:00<?, ?it/s]"
      ]
     },
     "metadata": {},
     "output_type": "display_data"
    },
    {
     "name": "stdout",
     "output_type": "stream",
     "text": [
      "INFO eogrow.core.pipeline:127: No EOPatches were skipped, 6 / 6 remaining\n"
     ]
    },
    {
     "name": "stdout",
     "output_type": "stream",
     "text": [
      "INFO eogrow.core.pipeline:193: Starting EOExecutor for 6 EOPatches\n"
     ]
    },
    {
     "data": {
      "application/vnd.jupyter.widget-view+json": {
       "model_id": "d851464c9b004e518c107ee46e7cb9d4",
       "version_major": 2,
       "version_minor": 0
      },
      "text/plain": [
       "  0%|          | 0/6 [00:00<?, ?it/s]"
      ]
     },
     "metadata": {},
     "output_type": "display_data"
    },
    {
     "name": "stdout",
     "output_type": "stream",
     "text": [
      "INFO eogrow.core.pipeline:208: EOExecutor finished with 6 / 6 success rate\n"
     ]
    },
    {
     "name": "stdout",
     "output_type": "stream",
     "text": [
      "INFO eogrow.core.pipeline:217: Saved EOExecution report to /home/jovyan/gem_project/logs/2022-11-03T09-34-36Z-DownloadEvalscriptPipeline-3424b79150/eoexecution-report-2022_11_03-04_34_36/report.html\n"
     ]
    },
    {
     "name": "stdout",
     "output_type": "stream",
     "text": [
      "INFO eogrow.core.pipeline:248: Pipeline finished successfully!\n"
     ]
    }
   ],
   "source": [
    "download_pipeline.run()"
   ]
  },
  {
   "cell_type": "markdown",
   "id": "1c92000b-ca5e-4f49-9b46-cd8013994b11",
   "metadata": {
    "papermill": {
     "duration": 0.021708,
     "end_time": "2022-11-03T09:35:32.471597",
     "exception": false,
     "start_time": "2022-11-03T09:35:32.449889",
     "status": "completed"
    },
    "tags": []
   },
   "source": [
    "### Features pipeline"
   ]
  },
  {
   "cell_type": "markdown",
   "id": "4d4d0f47-2cbf-4502-8679-ea2732581bba",
   "metadata": {
    "papermill": {
     "duration": 0.019864,
     "end_time": "2022-11-03T09:35:32.510015",
     "exception": false,
     "start_time": "2022-11-03T09:35:32.490151",
     "status": "completed"
    },
    "tags": []
   },
   "source": [
    "In this pipeline we are computing a (trivial) set of indices. With SentinelHub we could have easily retrieved them via apropriately tailored evalscript, reducing also the amout of requested data. "
   ]
  },
  {
   "cell_type": "code",
   "execution_count": 13,
   "id": "cc7440a0-a1ef-4cf2-9829-0ab7cf30d657",
   "metadata": {
    "execution": {
     "iopub.execute_input": "2022-11-03T09:35:32.551258Z",
     "iopub.status.busy": "2022-11-03T09:35:32.550940Z",
     "iopub.status.idle": "2022-11-03T09:35:32.556276Z",
     "shell.execute_reply": "2022-11-03T09:35:32.555364Z"
    },
    "papermill": {
     "duration": 0.027217,
     "end_time": "2022-11-03T09:35:32.557852",
     "exception": false,
     "start_time": "2022-11-03T09:35:32.530635",
     "status": "completed"
    },
    "tags": []
   },
   "outputs": [],
   "source": [
    "features_config = {\n",
    "  \"pipeline\": \"eogrow.pipelines.features.FeaturesPipeline\",\n",
    "  \"input_folder_key\": \"data\",\n",
    "  \"output_folder_key\": \"features\",\n",
    "  \"bands_feature_name\": \"BANDS\",\n",
    "  \"data_preparation\": {\n",
    "    \"valid_data_feature_name\": \"QUALITY_MASK\" # because we won't do any filtering this features plays no role\n",
    "  },\n",
    "  \"ndis\": {\n",
    "    \"NDVI\": [7,3],\n",
    "    \"NDWI\": [2,7],\n",
    "    \"NDBI\": [10,7]\n",
    "  },\n",
    "  \"output_feature_name\": \"FEATURES\",\n",
    "  \"dtype\": \"float\",\n",
    "  \"skip_existing\": True\n",
    "}"
   ]
  },
  {
   "cell_type": "code",
   "execution_count": 14,
   "id": "60d4a6c6-f269-4a65-802b-3f4416dca997",
   "metadata": {
    "execution": {
     "iopub.execute_input": "2022-11-03T09:35:32.596319Z",
     "iopub.status.busy": "2022-11-03T09:35:32.595788Z",
     "iopub.status.idle": "2022-11-03T09:35:32.602317Z",
     "shell.execute_reply": "2022-11-03T09:35:32.601692Z"
    },
    "papermill": {
     "duration": 0.028099,
     "end_time": "2022-11-03T09:35:32.604167",
     "exception": false,
     "start_time": "2022-11-03T09:35:32.576068",
     "status": "completed"
    },
    "tags": []
   },
   "outputs": [],
   "source": [
    "features_pipeline = FeaturesPipeline.from_raw_config(prepare_config(global_config, features_config))"
   ]
  },
  {
   "cell_type": "code",
   "execution_count": 15,
   "id": "eee2b2e8-d1bb-4e4c-9879-1cd262fe69fa",
   "metadata": {
    "execution": {
     "iopub.execute_input": "2022-11-03T09:35:32.646336Z",
     "iopub.status.busy": "2022-11-03T09:35:32.645861Z",
     "iopub.status.idle": "2022-11-03T09:36:17.294936Z",
     "shell.execute_reply": "2022-11-03T09:36:17.294315Z"
    },
    "papermill": {
     "duration": 44.673742,
     "end_time": "2022-11-03T09:36:17.296783",
     "exception": false,
     "start_time": "2022-11-03T09:35:32.623041",
     "status": "completed"
    },
    "tags": []
   },
   "outputs": [
    {
     "name": "stdout",
     "output_type": "stream",
     "text": [
      "INFO eogrow.core.pipeline:236: Running FeaturesPipeline\n"
     ]
    },
    {
     "name": "stdout",
     "output_type": "stream",
     "text": [
      "INFO eogrow.core.area.base:206: Loading grid from cache/grid_demo-aoi_UtmZoneAreaManager___30720_30720_0.0_0.0_0.0_0.0.gpkg\n"
     ]
    },
    {
     "name": "stdout",
     "output_type": "stream",
     "text": [
      "INFO eogrow.core.pipeline:121: Checking which EOPatches can be skipped\n"
     ]
    },
    {
     "data": {
      "application/vnd.jupyter.widget-view+json": {
       "model_id": "0bd4b1dceffc43b7b382c46aa53bbeff",
       "version_major": 2,
       "version_minor": 0
      },
      "text/plain": [
       "Checking EOPatches:   0%|          | 0/6 [00:00<?, ?it/s]"
      ]
     },
     "metadata": {},
     "output_type": "display_data"
    },
    {
     "name": "stdout",
     "output_type": "stream",
     "text": [
      "INFO eogrow.core.pipeline:127: No EOPatches were skipped, 6 / 6 remaining\n"
     ]
    },
    {
     "name": "stdout",
     "output_type": "stream",
     "text": [
      "INFO eogrow.core.pipeline:193: Starting EOExecutor for 6 EOPatches\n"
     ]
    },
    {
     "data": {
      "application/vnd.jupyter.widget-view+json": {
       "model_id": "495dcaf3bcf64b5d8d6441a68d903857",
       "version_major": 2,
       "version_minor": 0
      },
      "text/plain": [
       "  0%|          | 0/6 [00:00<?, ?it/s]"
      ]
     },
     "metadata": {},
     "output_type": "display_data"
    },
    {
     "name": "stdout",
     "output_type": "stream",
     "text": [
      "INFO eogrow.core.pipeline:208: EOExecutor finished with 6 / 6 success rate\n"
     ]
    },
    {
     "name": "stdout",
     "output_type": "stream",
     "text": [
      "INFO eogrow.core.pipeline:217: Saved EOExecution report to /home/jovyan/gem_project/logs/2022-11-03T09-35-32Z-FeaturesPipeline-b369d8c335/eoexecution-report-2022_11_03-04_35_32/report.html\n"
     ]
    },
    {
     "name": "stdout",
     "output_type": "stream",
     "text": [
      "INFO eogrow.core.pipeline:248: Pipeline finished successfully!\n"
     ]
    }
   ],
   "source": [
    "features_pipeline.run()"
   ]
  },
  {
   "cell_type": "markdown",
   "id": "362f880b-083b-4e9e-8b09-3cf30258e1a4",
   "metadata": {
    "papermill": {
     "duration": 0.018405,
     "end_time": "2022-11-03T09:36:17.333845",
     "exception": false,
     "start_time": "2022-11-03T09:36:17.315440",
     "status": "completed"
    },
    "tags": []
   },
   "source": [
    "### Prediction pipeline"
   ]
  },
  {
   "cell_type": "markdown",
   "id": "7f07967f-02da-4251-958a-3e139cae05f2",
   "metadata": {
    "papermill": {
     "duration": 0.017782,
     "end_time": "2022-11-03T09:36:17.370082",
     "exception": false,
     "start_time": "2022-11-03T09:36:17.352300",
     "status": "completed"
    },
    "tags": []
   },
   "source": [
    "As specified, this workflow is a slimmed down version of the full example, available on `eo-grow-examples`. As such, we are skipping the training part, and will continue straight with the prediction pipeline, using the model that is the result from the full example. For ease of use, the model is included in this example at `project/models/`.\n",
    "\n",
    "<img src=\"https://github.com/sentinel-hub/eo-grow-examples/raw/main/GEM/docs/figs/prediction_pipeline.png\" width=\"600 px\"/>"
   ]
  },
  {
   "cell_type": "code",
   "execution_count": 16,
   "id": "c506458c-e106-495e-ac6c-585b72586c08",
   "metadata": {
    "execution": {
     "iopub.execute_input": "2022-11-03T09:36:17.408701Z",
     "iopub.status.busy": "2022-11-03T09:36:17.407796Z",
     "iopub.status.idle": "2022-11-03T09:36:17.413170Z",
     "shell.execute_reply": "2022-11-03T09:36:17.412631Z"
    },
    "papermill": {
     "duration": 0.027138,
     "end_time": "2022-11-03T09:36:17.414719",
     "exception": false,
     "start_time": "2022-11-03T09:36:17.387581",
     "status": "completed"
    },
    "tags": []
   },
   "outputs": [],
   "source": [
    "prediction_config = {\n",
    "  \"pipeline\": \"eogrow.pipelines.prediction.RegressionPredictionPipeline\",\n",
    "  \"input_folder_key\": \"features\",\n",
    "  \"model_folder_key\": \"models\",\n",
    "  \"output_folder_key\": \"predictions\",\n",
    "  \"input_features\": [[\"data\", \"FEATURES\"]],\n",
    "  \"output_feature_name\": \"test_prediction\",\n",
    "  \"dtype\": \"float32\",\n",
    "  \"model_filename\": \"gem-example_model.gz\",\n",
    "  \"clip_predictions\": [0, 100],\n",
    "  \"skip_existing\": True\n",
    "}"
   ]
  },
  {
   "cell_type": "code",
   "execution_count": 17,
   "id": "7020eb4d-9dd3-4b0a-8ea8-2a91a3a21892",
   "metadata": {
    "execution": {
     "iopub.execute_input": "2022-11-03T09:36:17.452183Z",
     "iopub.status.busy": "2022-11-03T09:36:17.451361Z",
     "iopub.status.idle": "2022-11-03T09:36:17.458052Z",
     "shell.execute_reply": "2022-11-03T09:36:17.457500Z"
    },
    "papermill": {
     "duration": 0.027239,
     "end_time": "2022-11-03T09:36:17.459612",
     "exception": false,
     "start_time": "2022-11-03T09:36:17.432373",
     "status": "completed"
    },
    "tags": []
   },
   "outputs": [],
   "source": [
    "prediction_pipeline = RegressionPredictionPipeline.from_raw_config(prepare_config(global_config, prediction_config))"
   ]
  },
  {
   "cell_type": "code",
   "execution_count": 18,
   "id": "93c4e0a6-3a7c-4a65-bb88-688576cee12b",
   "metadata": {
    "execution": {
     "iopub.execute_input": "2022-11-03T09:36:17.504994Z",
     "iopub.status.busy": "2022-11-03T09:36:17.504401Z",
     "iopub.status.idle": "2022-11-03T09:36:57.534849Z",
     "shell.execute_reply": "2022-11-03T09:36:57.534070Z"
    },
    "papermill": {
     "duration": 40.05925,
     "end_time": "2022-11-03T09:36:57.536962",
     "exception": false,
     "start_time": "2022-11-03T09:36:17.477712",
     "status": "completed"
    },
    "tags": []
   },
   "outputs": [
    {
     "name": "stdout",
     "output_type": "stream",
     "text": [
      "INFO eogrow.core.pipeline:236: Running RegressionPredictionPipeline\n"
     ]
    },
    {
     "name": "stdout",
     "output_type": "stream",
     "text": [
      "INFO eogrow.core.area.base:206: Loading grid from cache/grid_demo-aoi_UtmZoneAreaManager___30720_30720_0.0_0.0_0.0_0.0.gpkg\n"
     ]
    },
    {
     "name": "stdout",
     "output_type": "stream",
     "text": [
      "INFO eogrow.core.pipeline:121: Checking which EOPatches can be skipped\n"
     ]
    },
    {
     "data": {
      "application/vnd.jupyter.widget-view+json": {
       "model_id": "0f48bf36f79a41ae9c4fcdd33f3a4ea8",
       "version_major": 2,
       "version_minor": 0
      },
      "text/plain": [
       "Checking EOPatches:   0%|          | 0/6 [00:00<?, ?it/s]"
      ]
     },
     "metadata": {},
     "output_type": "display_data"
    },
    {
     "name": "stdout",
     "output_type": "stream",
     "text": [
      "INFO eogrow.core.pipeline:127: No EOPatches were skipped, 6 / 6 remaining\n"
     ]
    },
    {
     "name": "stdout",
     "output_type": "stream",
     "text": [
      "INFO eogrow.core.pipeline:193: Starting EOExecutor for 6 EOPatches\n"
     ]
    },
    {
     "data": {
      "application/vnd.jupyter.widget-view+json": {
       "model_id": "1472ae19c12c4b289fc87168255da09a",
       "version_major": 2,
       "version_minor": 0
      },
      "text/plain": [
       "  0%|          | 0/6 [00:00<?, ?it/s]"
      ]
     },
     "metadata": {},
     "output_type": "display_data"
    },
    {
     "name": "stdout",
     "output_type": "stream",
     "text": [
      "INFO eogrow.core.pipeline:208: EOExecutor finished with 6 / 6 success rate\n"
     ]
    },
    {
     "name": "stdout",
     "output_type": "stream",
     "text": [
      "INFO eogrow.core.pipeline:217: Saved EOExecution report to /home/jovyan/gem_project/logs/2022-11-03T09-36-17Z-RegressionPredictionPipeline-35cfee8374/eoexecution-report-2022_11_03-04_36_17/report.html\n"
     ]
    },
    {
     "name": "stdout",
     "output_type": "stream",
     "text": [
      "INFO eogrow.core.pipeline:248: Pipeline finished successfully!\n"
     ]
    }
   ],
   "source": [
    "prediction_pipeline.run()"
   ]
  },
  {
   "cell_type": "markdown",
   "id": "a3284e63-1da5-457e-89aa-4f4075efa400",
   "metadata": {
    "papermill": {
     "duration": 0.020493,
     "end_time": "2022-11-03T09:36:57.577314",
     "exception": false,
     "start_time": "2022-11-03T09:36:57.556821",
     "status": "completed"
    },
    "tags": []
   },
   "source": [
    "### Export predictions to maps pipeline"
   ]
  },
  {
   "cell_type": "markdown",
   "id": "dc3e6225-a2dd-45cd-b82c-113c7bc2935c",
   "metadata": {
    "papermill": {
     "duration": 0.019375,
     "end_time": "2022-11-03T09:36:57.618956",
     "exception": false,
     "start_time": "2022-11-03T09:36:57.599581",
     "status": "completed"
    },
    "tags": []
   },
   "source": [
    "This pipeline takes care of exporting final results as cloud-optimised-geotiffs (see parameter `cofigy=True` in config below). \n",
    "\n",
    "<img src=\"https://github.com/sentinel-hub/eo-grow-examples/raw/main/GEM/docs/figs/maps_pipeline.png\" width=\"500 px\" />"
   ]
  },
  {
   "cell_type": "code",
   "execution_count": 19,
   "id": "17b3a709-aec8-462c-9197-8b2429223aa3",
   "metadata": {
    "execution": {
     "iopub.execute_input": "2022-11-03T09:36:57.659725Z",
     "iopub.status.busy": "2022-11-03T09:36:57.659163Z",
     "iopub.status.idle": "2022-11-03T09:36:57.664917Z",
     "shell.execute_reply": "2022-11-03T09:36:57.664022Z"
    },
    "papermill": {
     "duration": 0.02837,
     "end_time": "2022-11-03T09:36:57.666782",
     "exception": false,
     "start_time": "2022-11-03T09:36:57.638412",
     "status": "completed"
    },
    "tags": []
   },
   "outputs": [],
   "source": [
    "export_map_config = {\n",
    "  \"pipeline\": \"eogrow.pipelines.export_maps.ExportMapsPipeline\",\n",
    "  \"input_folder_key\": \"predictions\",\n",
    "  \"output_folder_key\": \"maps\",\n",
    "  \"feature\": [\"data_timeless\", \"test_prediction\"],\n",
    "  \"map_name\": \"result.tiff\",\n",
    "  \"map_dtype\": \"uint8\",\n",
    "  \"band_indices\": [0],\n",
    "  \"cogify\": True,\n",
    "  \"workers\": 1\n",
    "}"
   ]
  },
  {
   "cell_type": "code",
   "execution_count": 20,
   "id": "fd5e7a55-1c0f-4612-99c9-d2a5c4fa3cda",
   "metadata": {
    "execution": {
     "iopub.execute_input": "2022-11-03T09:36:57.710407Z",
     "iopub.status.busy": "2022-11-03T09:36:57.710053Z",
     "iopub.status.idle": "2022-11-03T09:36:57.717219Z",
     "shell.execute_reply": "2022-11-03T09:36:57.716380Z"
    },
    "papermill": {
     "duration": 0.032816,
     "end_time": "2022-11-03T09:36:57.719524",
     "exception": false,
     "start_time": "2022-11-03T09:36:57.686708",
     "status": "completed"
    },
    "tags": []
   },
   "outputs": [],
   "source": [
    "export_pipeline = ExportMapsPipeline.from_raw_config(prepare_config(global_config, export_map_config))"
   ]
  },
  {
   "cell_type": "code",
   "execution_count": 21,
   "id": "bc9282c0-2b34-4b1f-9810-a25775d95bcd",
   "metadata": {
    "execution": {
     "iopub.execute_input": "2022-11-03T09:36:57.760124Z",
     "iopub.status.busy": "2022-11-03T09:36:57.759694Z",
     "iopub.status.idle": "2022-11-03T09:36:58.548996Z",
     "shell.execute_reply": "2022-11-03T09:36:58.548204Z"
    },
    "papermill": {
     "duration": 0.812053,
     "end_time": "2022-11-03T09:36:58.550939",
     "exception": false,
     "start_time": "2022-11-03T09:36:57.738886",
     "status": "completed"
    },
    "tags": []
   },
   "outputs": [
    {
     "name": "stdout",
     "output_type": "stream",
     "text": [
      "INFO eogrow.core.pipeline:236: Running ExportMapsPipeline\n"
     ]
    },
    {
     "name": "stdout",
     "output_type": "stream",
     "text": [
      "INFO eogrow.core.area.base:206: Loading grid from cache/grid_demo-aoi_UtmZoneAreaManager___30720_30720_0.0_0.0_0.0_0.0.gpkg\n"
     ]
    },
    {
     "name": "stdout",
     "output_type": "stream",
     "text": [
      "INFO eogrow.core.pipeline:193: Starting EOExecutor for 6 EOPatches\n"
     ]
    },
    {
     "data": {
      "application/vnd.jupyter.widget-view+json": {
       "model_id": "e555dbffb6f6494486583ae6d13def6f",
       "version_major": 2,
       "version_minor": 0
      },
      "text/plain": [
       "  0%|          | 0/6 [00:00<?, ?it/s]"
      ]
     },
     "metadata": {},
     "output_type": "display_data"
    },
    {
     "name": "stdout",
     "output_type": "stream",
     "text": [
      "INFO eogrow.core.pipeline:208: EOExecutor finished with 6 / 6 success rate\n"
     ]
    },
    {
     "name": "stdout",
     "output_type": "stream",
     "text": [
      "INFO eogrow.core.pipeline:217: Saved EOExecution report to /home/jovyan/gem_project/logs/2022-11-03T09-36-57Z-ExportMapsPipeline-8c1335b4ce/eoexecution-report-2022_11_03-04_36_57/report.html\n"
     ]
    },
    {
     "name": "stdout",
     "output_type": "stream",
     "text": [
      "INFO eogrow.utils.map:150: merging 6 tiffs to /home/jovyan/gem_project/maps/test_prediction/UTM_32631/result.tiff\n"
     ]
    },
    {
     "name": "stdout",
     "output_type": "stream",
     "text": [
      "0"
     ]
    },
    {
     "name": "stdout",
     "output_type": "stream",
     "text": [
      "...10...20...30...40...50...60...70...80...90...100 - done.\n",
      "INFO eogrow.utils.map:154: merging done\n"
     ]
    },
    {
     "name": "stdout",
     "output_type": "stream",
     "text": [
      "INFO eogrow.utils.map:85: cogifying /home/jovyan/gem_project/maps/test_prediction/UTM_32631/result.tiff\n"
     ]
    },
    {
     "name": "stdout",
     "output_type": "stream",
     "text": [
      "0"
     ]
    },
    {
     "name": "stdout",
     "output_type": "stream",
     "text": [
      "...10...20...30...40...50...60...70...80...90...100 - done.\n"
     ]
    },
    {
     "name": "stdout",
     "output_type": "stream",
     "text": [
      "Input file size is 768, 512\n",
      "0...10...20...30...40...50...60...70...80...90...100 - done.\n",
      "INFO eogrow.utils.map:88: cogifying done\n"
     ]
    },
    {
     "name": "stdout",
     "output_type": "stream",
     "text": [
      "INFO eogrow.pipelines.export_maps:160: Merged map is saved at /home/jovyan/gem_project/maps/test_prediction/UTM_32631/result.tiff\n"
     ]
    },
    {
     "name": "stderr",
     "output_type": "stream",
     "text": [
      "Warning 1: General options of gdal_translate make the COPY_SRC_OVERVIEWS creation option ineffective as they hide the overviews\n"
     ]
    },
    {
     "data": {
      "application/vnd.jupyter.widget-view+json": {
       "model_id": "9c1f94d96699463f826a208d993f621a",
       "version_major": 2,
       "version_minor": 0
      },
      "text/plain": [
       "Deleting temp tiffs:   0%|          | 0/6 [00:00<?, ?it/s]"
      ]
     },
     "metadata": {},
     "output_type": "display_data"
    },
    {
     "name": "stdout",
     "output_type": "stream",
     "text": [
      "INFO eogrow.pipelines.export_maps:165: Cleaned original temporary maps\n"
     ]
    },
    {
     "name": "stdout",
     "output_type": "stream",
     "text": [
      "INFO eogrow.core.pipeline:248: Pipeline finished successfully!\n"
     ]
    }
   ],
   "source": [
    "export_pipeline.run()"
   ]
  },
  {
   "cell_type": "markdown",
   "id": "e5a8d246-cfe1-4c6a-b541-9f100e3bdf53",
   "metadata": {
    "papermill": {
     "duration": 0.036321,
     "end_time": "2022-11-03T09:36:58.608744",
     "exception": false,
     "start_time": "2022-11-03T09:36:58.572423",
     "status": "completed"
    },
    "tags": []
   },
   "source": [
    "### Ingest results to BYOD on Sentinel Hub"
   ]
  },
  {
   "cell_type": "markdown",
   "id": "343abc27-069c-46bd-8d98-4965292dcfe6",
   "metadata": {
    "papermill": {
     "duration": 0.020586,
     "end_time": "2022-11-03T09:36:58.649231",
     "exception": false,
     "start_time": "2022-11-03T09:36:58.628645",
     "status": "completed"
    },
    "tags": []
   },
   "source": [
    "The following code would ingest the results back to the Sentinel Hub services (using [Bring Your Own Data](https://docs.sentinel-hub.com/api/latest/api/byoc/)) if we were using object storage (AWS S3 bucket) for project's storage.\n",
    "\n",
    "<img src=\"https://github.com/sentinel-hub/eo-grow-examples/raw/main/GEM/docs/figs/byoc_pipeline.png\" width=\"700 px\"/>\n",
    "\n",
    "\n",
    "```python\n",
    "ingestion_config = {\n",
    "  \"pipeline\": \"eogrow.pipelines.byoc.IngestByocTilesPipeline\",\n",
    "  \"byoc_tile_folder_key\": \"maps\",\n",
    "  \"new_collection_name\": \"GEM eo-grow example predictions over Lagos\",\n",
    "  \"sensing_time\": \"2020-12-31\",\n",
    "  \"cover_geometry_folder_key\": \"input_data\",\n",
    "  \"cover_geometry\": \"demo-aoi.geojson\"\n",
    "}\n",
    "\n",
    "ingestion_pipeline = IngestByocTilesPipeline.from_raw_config(prepare_config(global_config, ingestion_config))\n",
    "ingestion_pipeline.run()\n",
    "```"
   ]
  },
  {
   "cell_type": "markdown",
   "id": "daa6d93d-2772-470c-9f8c-7388fbe77802",
   "metadata": {
    "papermill": {
     "duration": 0.02018,
     "end_time": "2022-11-03T09:36:58.689829",
     "exception": false,
     "start_time": "2022-11-03T09:36:58.669649",
     "status": "completed"
    },
    "tags": []
   },
   "source": [
    "### Visualize the results"
   ]
  },
  {
   "cell_type": "markdown",
   "id": "564fe5d8-a280-4bdd-b79c-b52602a2a3b0",
   "metadata": {
    "papermill": {
     "duration": 0.021316,
     "end_time": "2022-11-03T09:36:58.731714",
     "exception": false,
     "start_time": "2022-11-03T09:36:58.710398",
     "status": "completed"
    },
    "tags": []
   },
   "source": [
    "As we cannot use BYOC functinality in this (non object storage based) example, we'll rely on eo-learn and matplotlib to quickly visualize the results of built-up areas in the AOI. "
   ]
  },
  {
   "cell_type": "code",
   "execution_count": 22,
   "id": "be454f4a-c269-411b-b7b4-ce1e137d1658",
   "metadata": {
    "execution": {
     "iopub.execute_input": "2022-11-03T09:36:58.775014Z",
     "iopub.status.busy": "2022-11-03T09:36:58.774358Z",
     "iopub.status.idle": "2022-11-03T09:36:58.780365Z",
     "shell.execute_reply": "2022-11-03T09:36:58.779593Z"
    },
    "papermill": {
     "duration": 0.029991,
     "end_time": "2022-11-03T09:36:58.782186",
     "exception": false,
     "start_time": "2022-11-03T09:36:58.752195",
     "status": "completed"
    },
    "tags": []
   },
   "outputs": [],
   "source": [
    "import matplotlib.pyplot as plt\n",
    "from eolearn.core import EOPatch\n",
    "from tqdm.auto import tqdm as tqdm\n",
    "\n",
    "%matplotlib inline"
   ]
  },
  {
   "cell_type": "code",
   "execution_count": 23,
   "id": "4a43bfac-e016-42c0-928a-e4201d55ec1d",
   "metadata": {
    "execution": {
     "iopub.execute_input": "2022-11-03T09:36:58.827004Z",
     "iopub.status.busy": "2022-11-03T09:36:58.826371Z",
     "iopub.status.idle": "2022-11-03T09:36:58.831387Z",
     "shell.execute_reply": "2022-11-03T09:36:58.830628Z"
    },
    "papermill": {
     "duration": 0.028165,
     "end_time": "2022-11-03T09:36:58.832947",
     "exception": false,
     "start_time": "2022-11-03T09:36:58.804782",
     "status": "completed"
    },
    "tags": []
   },
   "outputs": [],
   "source": [
    "%matplotlib inline"
   ]
  },
  {
   "cell_type": "code",
   "execution_count": 24,
   "id": "7172de48-4cc9-4549-b266-4c79a4fcbeda",
   "metadata": {
    "execution": {
     "iopub.execute_input": "2022-11-03T09:36:58.875325Z",
     "iopub.status.busy": "2022-11-03T09:36:58.874751Z",
     "iopub.status.idle": "2022-11-03T09:36:59.882335Z",
     "shell.execute_reply": "2022-11-03T09:36:59.881553Z"
    },
    "papermill": {
     "duration": 1.046034,
     "end_time": "2022-11-03T09:36:59.899204",
     "exception": false,
     "start_time": "2022-11-03T09:36:58.853170",
     "status": "completed"
    },
    "tags": []
   },
   "outputs": [
    {
     "data": {
      "application/vnd.jupyter.widget-view+json": {
       "model_id": "ce8e30e65bae462e8be8e12e2b731124",
       "version_major": 2,
       "version_minor": 0
      },
      "text/plain": [
       "  0%|          | 0/6 [00:00<?, ?it/s]"
      ]
     },
     "metadata": {},
     "output_type": "display_data"
    },
    {
     "data": {
      "image/png": "[encoded data removed]",
      "text/plain": [
       "<Figure size 3000x2000 with 6 Axes>"
      ]
     },
     "metadata": {},
     "output_type": "display_data"
    }
   ],
   "source": [
    "fig, axs = plt.subplots(nrows=2, ncols=3, figsize=(30, 20))\n",
    "\n",
    "for eop_name in tqdm(download_pipeline.eopatch_manager.get_eopatch_filenames()):\n",
    "    eopatch_path = os.path.join(storage_manager.get_folder('predictions', full_path=True), eop_name)\n",
    "    eopatch = EOPatch.load(eopatch_path, lazy_loading=True)\n",
    "\n",
    "    j, i = int(eop_name.split(\"-\")[4]), int(eop_name.split(\"-\")[6])\n",
    "    ax = axs[1-i][j]\n",
    "    ax.imshow(eopatch.data_timeless[\"test_prediction\"].squeeze(), vmin=5, vmax=80, cmap='Reds')\n",
    "    ax.set_xticks([])\n",
    "    ax.set_yticks([])\n",
    "    ax.set_aspect(\"auto\")\n",
    "    ax.set_axis_off()\n",
    "    del eopatch\n",
    "\n",
    "fig.subplots_adjust(wspace=0, hspace=0)"
   ]
  }
 ],
 "metadata": {
  "kernelspec": {
   "display_name": "Python [conda env:edc-default-2022.10-14]",
   "language": "python",
   "name": "conda-env-edc-default-2022.10-14-py"
  },
  "language_info": {
   "codemirror_mode": {
    "name": "ipython",
    "version": 3
   },
   "file_extension": ".py",
   "mimetype": "text/x-python",
   "name": "python",
   "nbconvert_exporter": "python",
   "pygments_lexer": "ipython3",
   "version": "3.9.13"
  },
  "papermill": {
   "default_parameters": {},
   "duration": 152.382632,
   "end_time": "2022-11-03T09:37:00.952465",
   "environment_variables": {},
   "exception": null,
   "input_path": "/tmp/tmpqnetr25_",
   "output_path": "/tmp/notebook_output.ipynb",
   "parameters": {},
   "start_time": "2022-11-03T09:34:28.569833",
   "version": "2.3.4"
  },
  "properties": {
   "automatically_executable": false,
   "authors": [
    {
     "id": "f0a99622-4b85-4610-8669-c73e560d096b",
     "name": "eoresearch@sinergise.com"
    }
   ],
   "description": "Demo of eo-grow, Global Earth Monitor project framework.",
   "id": "3a6e29d2-a7ff-4298-a1f2-7cec24910885",
   "license": null,
   "name": "GEM eo-grow example",
   "requirements": [
    "eurodatacube"
   ],
   "tags": [
    "EO Data",
    "Jupyter",
    "Land-Use-Classification",
    "Machine Learning",
    "Mass Processing",
    "Sentinel Data",
    "Sentinel Hub"
   ],
   "tosAgree": true,
   "type": "Jupyter Notebook",
   "version": "0.0.1"
  },
  "widgets": {
   "application/vnd.jupyter.widget-state+json": {
    "state": {
     "031618f7ccfe47d5a70c4e5d23dd9c46": {
      "model_module": "@jupyter-widgets/base",
      "model_module_version": "2.0.0",
      "model_name": "LayoutModel",
      "state": {
       "_model_module": "@jupyter-widgets/base",
       "_model_module_version": "2.0.0",
       "_model_name": "LayoutModel",
       "_view_count": null,
       "_view_module": "@jupyter-widgets/base",
       "_view_module_version": "2.0.0",
       "_view_name": "LayoutView",
       "align_content": null,
       "align_items": null,
       "align_self": null,
       "border_bottom": null,
       "border_left": null,
       "border_right": null,
       "border_top": null,
       "bottom": null,
       "display": null,
       "flex": null,
       "flex_flow": null,
       "grid_area": null,
       "grid_auto_columns": null,
       "grid_auto_flow": null,
       "grid_auto_rows": null,
       "grid_column": null,
       "grid_gap": null,
       "grid_row": null,
       "grid_template_areas": null,
       "grid_template_columns": null,
       "grid_template_rows": null,
       "height": null,
       "justify_content": null,
       "justify_items": null,
       "left": null,
       "margin": null,
       "max_height": null,
       "max_width": null,
       "min_height": null,
       "min_width": null,
       "object_fit": null,
       "object_position": null,
       "order": null,
       "overflow": null,
       "padding": null,
       "right": null,
       "top": null,
       "visibility": null,
       "width": null
      }
     },
     "092bd90a45be47c19eb18695a9db6705": {
      "model_module": "@jupyter-widgets/base",
      "model_module_version": "2.0.0",
      "model_name": "LayoutModel",
      "state": {
       "_model_module": "@jupyter-widgets/base",
       "_model_module_version": "2.0.0",
       "_model_name": "LayoutModel",
       "_view_count": null,
       "_view_module": "@jupyter-widgets/base",
       "_view_module_version": "2.0.0",
       "_view_name": "LayoutView",
       "align_content": null,
       "align_items": null,
       "align_self": null,
       "border_bottom": null,
       "border_left": null,
       "border_right": null,
       "border_top": null,
       "bottom": null,
       "display": null,
       "flex": null,
       "flex_flow": null,
       "grid_area": null,
       "grid_auto_columns": null,
       "grid_auto_flow": null,
       "grid_auto_rows": null,
       "grid_column": null,
       "grid_gap": null,
       "grid_row": null,
       "grid_template_areas": null,
       "grid_template_columns": null,
       "grid_template_rows": null,
       "height": null,
       "justify_content": null,
       "justify_items": null,
       "left": null,
       "margin": null,
       "max_height": null,
       "max_width": null,
       "min_height": null,
       "min_width": null,
       "object_fit": null,
       "object_position": null,
       "order": null,
       "overflow": null,
       "padding": null,
       "right": null,
       "top": null,
       "visibility": null,
       "width": null
      }
     },
     "0b465054735d45db95e4c7fe4167a727": {
      "model_module": "@jupyter-widgets/controls",
      "model_module_version": "2.0.0",
      "model_name": "FloatProgressModel",
      "state": {
       "_dom_classes": [],
       "_model_module": "@jupyter-widgets/controls",
       "_model_module_version": "2.0.0",
       "_model_name": "FloatProgressModel",
       "_view_count": null,
       "_view_module": "@jupyter-widgets/controls",
       "_view_module_version": "2.0.0",
       "_view_name": "ProgressView",
       "bar_style": "success",
       "description": "",
       "description_allow_html": false,
       "layout": "IPY_MODEL_7bdf8a71b83647a49410c4cb10ca95f7",
       "max": 6.0,
       "min": 0.0,
       "orientation": "horizontal",
       "style": "IPY_MODEL_9b44cf5535cf4211b870c5b9b510f6ed",
       "tabbable": null,
       "tooltip": null,
       "value": 6.0
      }
     },
     "0bd4b1dceffc43b7b382c46aa53bbeff": {
      "model_module": "@jupyter-widgets/controls",
      "model_module_version": "2.0.0",
      "model_name": "HBoxModel",
      "state": {
       "_dom_classes": [],
       "_model_module": "@jupyter-widgets/controls",
       "_model_module_version": "2.0.0",
       "_model_name": "HBoxModel",
       "_view_count": null,
       "_view_module": "@jupyter-widgets/controls",
       "_view_module_version": "2.0.0",
       "_view_name": "HBoxView",
       "box_style": "",
       "children": [
        "IPY_MODEL_c4bf2bfe46894f3c9a8807f55c9d8ec4",
        "IPY_MODEL_e39c68b91c894b0f8f9897a5e0c6accb",
        "IPY_MODEL_699893abbea6404ca56f50d6a0411710"
       ],
       "layout": "IPY_MODEL_6871072efb1d4e79bec63c8295d29167",
       "tabbable": null,
       "tooltip": null
      }
     },
     "0c7d2dbc7bb4476b8fb2c701009b8c06": {
      "model_module": "@jupyter-widgets/controls",
      "model_module_version": "2.0.0",
      "model_name": "FloatProgressModel",
      "state": {
       "_dom_classes": [],
       "_model_module": "@jupyter-widgets/controls",
       "_model_module_version": "2.0.0",
       "_model_name": "FloatProgressModel",
       "_view_count": null,
       "_view_module": "@jupyter-widgets/controls",
       "_view_module_version": "2.0.0",
       "_view_name": "ProgressView",
       "bar_style": "success",
       "description": "",
       "description_allow_html": false,
       "layout": "IPY_MODEL_b845152b1c924c7390888474b5dd376f",
       "max": 6.0,
       "min": 0.0,
       "orientation": "horizontal",
       "style": "IPY_MODEL_9b0b399de1454484bc023bb4232418cc",
       "tabbable": null,
       "tooltip": null,
       "value": 6.0
      }
     },
     "0e34dfb5bcec4801804b86f0a4278923": {
      "model_module": "@jupyter-widgets/base",
      "model_module_version": "2.0.0",
      "model_name": "LayoutModel",
      "state": {
       "_model_module": "@jupyter-widgets/base",
       "_model_module_version": "2.0.0",
       "_model_name": "LayoutModel",
       "_view_count": null,
       "_view_module": "@jupyter-widgets/base",
       "_view_module_version": "2.0.0",
       "_view_name": "LayoutView",
       "align_content": null,
       "align_items": null,
       "align_self": null,
       "border_bottom": null,
       "border_left": null,
       "border_right": null,
       "border_top": null,
       "bottom": null,
       "display": null,
       "flex": null,
       "flex_flow": null,
       "grid_area": null,
       "grid_auto_columns": null,
       "grid_auto_flow": null,
       "grid_auto_rows": null,
       "grid_column": null,
       "grid_gap": null,
       "grid_row": null,
       "grid_template_areas": null,
       "grid_template_columns": null,
       "grid_template_rows": null,
       "height": null,
       "justify_content": null,
       "justify_items": null,
       "left": null,
       "margin": null,
       "max_height": null,
       "max_width": null,
       "min_height": null,
       "min_width": null,
       "object_fit": null,
       "object_position": null,
       "order": null,
       "overflow": null,
       "padding": null,
       "right": null,
       "top": null,
       "visibility": null,
       "width": null
      }
     },
     "0f48bf36f79a41ae9c4fcdd33f3a4ea8": {
      "model_module": "@jupyter-widgets/controls",
      "model_module_version": "2.0.0",
      "model_name": "HBoxModel",
      "state": {
       "_dom_classes": [],
       "_model_module": "@jupyter-widgets/controls",
       "_model_module_version": "2.0.0",
       "_model_name": "HBoxModel",
       "_view_count": null,
       "_view_module": "@jupyter-widgets/controls",
       "_view_module_version": "2.0.0",
       "_view_name": "HBoxView",
       "box_style": "",
       "children": [
        "IPY_MODEL_27a458ddc9844019b3a8cf7468dd5349",
        "IPY_MODEL_e2b8d61aa7174086a25f034baf2fcf6a",
        "IPY_MODEL_67049b1ff4144bd3b5d947f356e89052"
       ],
       "layout": "IPY_MODEL_031618f7ccfe47d5a70c4e5d23dd9c46",
       "tabbable": null,
       "tooltip": null
      }
     },
     "0f69ec1c77654dd4acf308172bf50042": {
      "model_module": "@jupyter-widgets/controls",
      "model_module_version": "2.0.0",
      "model_name": "ProgressStyleModel",
      "state": {
       "_model_module": "@jupyter-widgets/controls",
       "_model_module_version": "2.0.0",
       "_model_name": "ProgressStyleModel",
       "_view_count": null,
       "_view_module": "@jupyter-widgets/base",
       "_view_module_version": "2.0.0",
       "_view_name": "StyleView",
       "bar_color": null,
       "description_width": ""
      }
     },
     "112275b0822a48c9bfd2c7d04cc7ce63": {
      "model_module": "@jupyter-widgets/controls",
      "model_module_version": "2.0.0",
      "model_name": "HTMLModel",
      "state": {
       "_dom_classes": [],
       "_model_module": "@jupyter-widgets/controls",
       "_model_module_version": "2.0.0",
       "_model_name": "HTMLModel",
       "_view_count": null,
       "_view_module": "@jupyter-widgets/controls",
       "_view_module_version": "2.0.0",
       "_view_name": "HTMLView",
       "description": "",
       "description_allow_html": false,
       "layout": "IPY_MODEL_1b7175f4d1694c91b24baf3c46bee92b",
       "placeholder": "​",
       "style": "IPY_MODEL_5d42c86f781d4db88746550715f35d0a",
       "tabbable": null,
       "tooltip": null,
       "value": " 6/6 [00:56&lt;00:00,  8.42s/it]"
      }
     },
     "1288b1662ba5496ca123ca7384e80ea9": {
      "model_module": "@jupyter-widgets/controls",
      "model_module_version": "2.0.0",
      "model_name": "HTMLModel",
      "state": {
       "_dom_classes": [],
       "_model_module": "@jupyter-widgets/controls",
       "_model_module_version": "2.0.0",
       "_model_name": "HTMLModel",
       "_view_count": null,
       "_view_module": "@jupyter-widgets/controls",
       "_view_module_version": "2.0.0",
       "_view_name": "HTMLView",
       "description": "",
       "description_allow_html": false,
       "layout": "IPY_MODEL_1d11b946e9c64c0aba26cbccdd6d226c",
       "placeholder": "​",
       "style": "IPY_MODEL_67a2f325e84e4d9390b44c6ae204edc6",
       "tabbable": null,
       "tooltip": null,
       "value": "100%"
      }
     },
     "12f69289e8c2420ca2c7d297a61f09ae": {
      "model_module": "@jupyter-widgets/base",
      "model_module_version": "2.0.0",
      "model_name": "LayoutModel",
      "state": {
       "_model_module": "@jupyter-widgets/base",
       "_model_module_version": "2.0.0",
       "_model_name": "LayoutModel",
       "_view_count": null,
       "_view_module": "@jupyter-widgets/base",
       "_view_module_version": "2.0.0",
       "_view_name": "LayoutView",
       "align_content": null,
       "align_items": null,
       "align_self": null,
       "border_bottom": null,
       "border_left": null,
       "border_right": null,
       "border_top": null,
       "bottom": null,
       "display": null,
       "flex": null,
       "flex_flow": null,
       "grid_area": null,
       "grid_auto_columns": null,
       "grid_auto_flow": null,
       "grid_auto_rows": null,
       "grid_column": null,
       "grid_gap": null,
       "grid_row": null,
       "grid_template_areas": null,
       "grid_template_columns": null,
       "grid_template_rows": null,
       "height": null,
       "justify_content": null,
       "justify_items": null,
       "left": null,
       "margin": null,
       "max_height": null,
       "max_width": null,
       "min_height": null,
       "min_width": null,
       "object_fit": null,
       "object_position": null,
       "order": null,
       "overflow": null,
       "padding": null,
       "right": null,
       "top": null,
       "visibility": null,
       "width": null
      }
     },
     "1472ae19c12c4b289fc87168255da09a": {
      "model_module": "@jupyter-widgets/controls",
      "model_module_version": "2.0.0",
      "model_name": "HBoxModel",
      "state": {
       "_dom_classes": [],
       "_model_module": "@jupyter-widgets/controls",
       "_model_module_version": "2.0.0",
       "_model_name": "HBoxModel",
       "_view_count": null,
       "_view_module": "@jupyter-widgets/controls",
       "_view_module_version": "2.0.0",
       "_view_name": "HBoxView",
       "box_style": "",
       "children": [
        "IPY_MODEL_d971b8f852ee4a4396bd292ec11c0f49",
        "IPY_MODEL_df8b96e1d9b940f4b7128722f7e023cd",
        "IPY_MODEL_93de4032eadd4d0fbbafec2e70a58a5a"
       ],
       "layout": "IPY_MODEL_9d5622fc175946dfb368d77397e6fc88",
       "tabbable": null,
       "tooltip": null
      }
     },
     "15541a134baf4737a41e68e857b76a3c": {
      "model_module": "@jupyter-widgets/base",
      "model_module_version": "2.0.0",
      "model_name": "LayoutModel",
      "state": {
       "_model_module": "@jupyter-widgets/base",
       "_model_module_version": "2.0.0",
       "_model_name": "LayoutModel",
       "_view_count": null,
       "_view_module": "@jupyter-widgets/base",
       "_view_module_version": "2.0.0",
       "_view_name": "LayoutView",
       "align_content": null,
       "align_items": null,
       "align_self": null,
       "border_bottom": null,
       "border_left": null,
       "border_right": null,
       "border_top": null,
       "bottom": null,
       "display": null,
       "flex": null,
       "flex_flow": null,
       "grid_area": null,
       "grid_auto_columns": null,
       "grid_auto_flow": null,
       "grid_auto_rows": null,
       "grid_column": null,
       "grid_gap": null,
       "grid_row": null,
       "grid_template_areas": null,
       "grid_template_columns": null,
       "grid_template_rows": null,
       "height": null,
       "justify_content": null,
       "justify_items": null,
       "left": null,
       "margin": null,
       "max_height": null,
       "max_width": null,
       "min_height": null,
       "min_width": null,
       "object_fit": null,
       "object_position": null,
       "order": null,
       "overflow": null,
       "padding": null,
       "right": null,
       "top": null,
       "visibility": null,
       "width": null
      }
     },
     "19e795d6cabe46dfb723062550d39ff6": {
      "model_module": "@jupyter-widgets/controls",
      "model_module_version": "2.0.0",
      "model_name": "HTMLStyleModel",
      "state": {
       "_model_module": "@jupyter-widgets/controls",
       "_model_module_version": "2.0.0",
       "_model_name": "HTMLStyleModel",
       "_view_count": null,
       "_view_module": "@jupyter-widgets/base",
       "_view_module_version": "2.0.0",
       "_view_name": "StyleView",
       "background": null,
       "description_width": "",
       "font_size": null,
       "text_color": null
      }
     },
     "1b7175f4d1694c91b24baf3c46bee92b": {
      "model_module": "@jupyter-widgets/base",
      "model_module_version": "2.0.0",
      "model_name": "LayoutModel",
      "state": {
       "_model_module": "@jupyter-widgets/base",
       "_model_module_version": "2.0.0",
       "_model_name": "LayoutModel",
       "_view_count": null,
       "_view_module": "@jupyter-widgets/base",
       "_view_module_version": "2.0.0",
       "_view_name": "LayoutView",
       "align_content": null,
       "align_items": null,
       "align_self": null,
       "border_bottom": null,
       "border_left": null,
       "border_right": null,
       "border_top": null,
       "bottom": null,
       "display": null,
       "flex": null,
       "flex_flow": null,
       "grid_area": null,
       "grid_auto_columns": null,
       "grid_auto_flow": null,
       "grid_auto_rows": null,
       "grid_column": null,
       "grid_gap": null,
       "grid_row": null,
       "grid_template_areas": null,
       "grid_template_columns": null,
       "grid_template_rows": null,
       "height": null,
       "justify_content": null,
       "justify_items": null,
       "left": null,
       "margin": null,
       "max_height": null,
       "max_width": null,
       "min_height": null,
       "min_width": null,
       "object_fit": null,
       "object_position": null,
       "order": null,
       "overflow": null,
       "padding": null,
       "right": null,
       "top": null,
       "visibility": null,
       "width": null
      }
     },
     "1d11b946e9c64c0aba26cbccdd6d226c": {
      "model_module": "@jupyter-widgets/base",
      "model_module_version": "2.0.0",
      "model_name": "LayoutModel",
      "state": {
       "_model_module": "@jupyter-widgets/base",
       "_model_module_version": "2.0.0",
       "_model_name": "LayoutModel",
       "_view_count": null,
       "_view_module": "@jupyter-widgets/base",
       "_view_module_version": "2.0.0",
       "_view_name": "LayoutView",
       "align_content": null,
       "align_items": null,
       "align_self": null,
       "border_bottom": null,
       "border_left": null,
       "border_right": null,
       "border_top": null,
       "bottom": null,
       "display": null,
       "flex": null,
       "flex_flow": null,
       "grid_area": null,
       "grid_auto_columns": null,
       "grid_auto_flow": null,
       "grid_auto_rows": null,
       "grid_column": null,
       "grid_gap": null,
       "grid_row": null,
       "grid_template_areas": null,
       "grid_template_columns": null,
       "grid_template_rows": null,
       "height": null,
       "justify_content": null,
       "justify_items": null,
       "left": null,
       "margin": null,
       "max_height": null,
       "max_width": null,
       "min_height": null,
       "min_width": null,
       "object_fit": null,
       "object_position": null,
       "order": null,
       "overflow": null,
       "padding": null,
       "right": null,
       "top": null,
       "visibility": null,
       "width": null
      }
     },
     "1e01767e64fe4d56a0b3e90a6e4ef5ba": {
      "model_module": "@jupyter-widgets/base",
      "model_module_version": "2.0.0",
      "model_name": "LayoutModel",
      "state": {
       "_model_module": "@jupyter-widgets/base",
       "_model_module_version": "2.0.0",
       "_model_name": "LayoutModel",
       "_view_count": null,
       "_view_module": "@jupyter-widgets/base",
       "_view_module_version": "2.0.0",
       "_view_name": "LayoutView",
       "align_content": null,
       "align_items": null,
       "align_self": null,
       "border_bottom": null,
       "border_left": null,
       "border_right": null,
       "border_top": null,
       "bottom": null,
       "display": null,
       "flex": null,
       "flex_flow": null,
       "grid_area": null,
       "grid_auto_columns": null,
       "grid_auto_flow": null,
       "grid_auto_rows": null,
       "grid_column": null,
       "grid_gap": null,
       "grid_row": null,
       "grid_template_areas": null,
       "grid_template_columns": null,
       "grid_template_rows": null,
       "height": null,
       "justify_content": null,
       "justify_items": null,
       "left": null,
       "margin": null,
       "max_height": null,
       "max_width": null,
       "min_height": null,
       "min_width": null,
       "object_fit": null,
       "object_position": null,
       "order": null,
       "overflow": null,
       "padding": null,
       "right": null,
       "top": null,
       "visibility": null,
       "width": null
      }
     },
     "1f36c56702a24432b93bf9518b1d32cd": {
      "model_module": "@jupyter-widgets/base",
      "model_module_version": "2.0.0",
      "model_name": "LayoutModel",
      "state": {
       "_model_module": "@jupyter-widgets/base",
       "_model_module_version": "2.0.0",
       "_model_name": "LayoutModel",
       "_view_count": null,
       "_view_module": "@jupyter-widgets/base",
       "_view_module_version": "2.0.0",
       "_view_name": "LayoutView",
       "align_content": null,
       "align_items": null,
       "align_self": null,
       "border_bottom": null,
       "border_left": null,
       "border_right": null,
       "border_top": null,
       "bottom": null,
       "display": null,
       "flex": null,
       "flex_flow": null,
       "grid_area": null,
       "grid_auto_columns": null,
       "grid_auto_flow": null,
       "grid_auto_rows": null,
       "grid_column": null,
       "grid_gap": null,
       "grid_row": null,
       "grid_template_areas": null,
       "grid_template_columns": null,
       "grid_template_rows": null,
       "height": null,
       "justify_content": null,
       "justify_items": null,
       "left": null,
       "margin": null,
       "max_height": null,
       "max_width": null,
       "min_height": null,
       "min_width": null,
       "object_fit": null,
       "object_position": null,
       "order": null,
       "overflow": null,
       "padding": null,
       "right": null,
       "top": null,
       "visibility": null,
       "width": null
      }
     },
     "21ad8b20381549ad9f4cb1a3974ff040": {
      "model_module": "@jupyter-widgets/base",
      "model_module_version": "2.0.0",
      "model_name": "LayoutModel",
      "state": {
       "_model_module": "@jupyter-widgets/base",
       "_model_module_version": "2.0.0",
       "_model_name": "LayoutModel",
       "_view_count": null,
       "_view_module": "@jupyter-widgets/base",
       "_view_module_version": "2.0.0",
       "_view_name": "LayoutView",
       "align_content": null,
       "align_items": null,
       "align_self": null,
       "border_bottom": null,
       "border_left": null,
       "border_right": null,
       "border_top": null,
       "bottom": null,
       "display": null,
       "flex": null,
       "flex_flow": null,
       "grid_area": null,
       "grid_auto_columns": null,
       "grid_auto_flow": null,
       "grid_auto_rows": null,
       "grid_column": null,
       "grid_gap": null,
       "grid_row": null,
       "grid_template_areas": null,
       "grid_template_columns": null,
       "grid_template_rows": null,
       "height": null,
       "justify_content": null,
       "justify_items": null,
       "left": null,
       "margin": null,
       "max_height": null,
       "max_width": null,
       "min_height": null,
       "min_width": null,
       "object_fit": null,
       "object_position": null,
       "order": null,
       "overflow": null,
       "padding": null,
       "right": null,
       "top": null,
       "visibility": null,
       "width": null
      }
     },
     "21c5a80efba4457088f6a67cda653927": {
      "model_module": "@jupyter-widgets/base",
      "model_module_version": "2.0.0",
      "model_name": "LayoutModel",
      "state": {
       "_model_module": "@jupyter-widgets/base",
       "_model_module_version": "2.0.0",
       "_model_name": "LayoutModel",
       "_view_count": null,
       "_view_module": "@jupyter-widgets/base",
       "_view_module_version": "2.0.0",
       "_view_name": "LayoutView",
       "align_content": null,
       "align_items": null,
       "align_self": null,
       "border_bottom": null,
       "border_left": null,
       "border_right": null,
       "border_top": null,
       "bottom": null,
       "display": null,
       "flex": null,
       "flex_flow": null,
       "grid_area": null,
       "grid_auto_columns": null,
       "grid_auto_flow": null,
       "grid_auto_rows": null,
       "grid_column": null,
       "grid_gap": null,
       "grid_row": null,
       "grid_template_areas": null,
       "grid_template_columns": null,
       "grid_template_rows": null,
       "height": null,
       "justify_content": null,
       "justify_items": null,
       "left": null,
       "margin": null,
       "max_height": null,
       "max_width": null,
       "min_height": null,
       "min_width": null,
       "object_fit": null,
       "object_position": null,
       "order": null,
       "overflow": null,
       "padding": null,
       "right": null,
       "top": null,
       "visibility": null,
       "width": null
      }
     },
     "23087a9e5cc44e1897c688ddd6a640cb": {
      "model_module": "@jupyter-widgets/base",
      "model_module_version": "2.0.0",
      "model_name": "LayoutModel",
      "state": {
       "_model_module": "@jupyter-widgets/base",
       "_model_module_version": "2.0.0",
       "_model_name": "LayoutModel",
       "_view_count": null,
       "_view_module": "@jupyter-widgets/base",
       "_view_module_version": "2.0.0",
       "_view_name": "LayoutView",
       "align_content": null,
       "align_items": null,
       "align_self": null,
       "border_bottom": null,
       "border_left": null,
       "border_right": null,
       "border_top": null,
       "bottom": null,
       "display": null,
       "flex": null,
       "flex_flow": null,
       "grid_area": null,
       "grid_auto_columns": null,
       "grid_auto_flow": null,
       "grid_auto_rows": null,
       "grid_column": null,
       "grid_gap": null,
       "grid_row": null,
       "grid_template_areas": null,
       "grid_template_columns": null,
       "grid_template_rows": null,
       "height": null,
       "justify_content": null,
       "justify_items": null,
       "left": null,
       "margin": null,
       "max_height": null,
       "max_width": null,
       "min_height": null,
       "min_width": null,
       "object_fit": null,
       "object_position": null,
       "order": null,
       "overflow": null,
       "padding": null,
       "right": null,
       "top": null,
       "visibility": null,
       "width": null
      }
     },
     "27a458ddc9844019b3a8cf7468dd5349": {
      "model_module": "@jupyter-widgets/controls",
      "model_module_version": "2.0.0",
      "model_name": "HTMLModel",
      "state": {
       "_dom_classes": [],
       "_model_module": "@jupyter-widgets/controls",
       "_model_module_version": "2.0.0",
       "_model_name": "HTMLModel",
       "_view_count": null,
       "_view_module": "@jupyter-widgets/controls",
       "_view_module_version": "2.0.0",
       "_view_name": "HTMLView",
       "description": "",
       "description_allow_html": false,
       "layout": "IPY_MODEL_c103f4a519e84e71a782b67426a7b733",
       "placeholder": "​",
       "style": "IPY_MODEL_19e795d6cabe46dfb723062550d39ff6",
       "tabbable": null,
       "tooltip": null,
       "value": "Checking EOPatches: 100%"
      }
     },
     "29a8bc52e91849938005f60a23104d8e": {
      "model_module": "@jupyter-widgets/controls",
      "model_module_version": "2.0.0",
      "model_name": "ProgressStyleModel",
      "state": {
       "_model_module": "@jupyter-widgets/controls",
       "_model_module_version": "2.0.0",
       "_model_name": "ProgressStyleModel",
       "_view_count": null,
       "_view_module": "@jupyter-widgets/base",
       "_view_module_version": "2.0.0",
       "_view_name": "StyleView",
       "bar_color": null,
       "description_width": ""
      }
     },
     "344787eb04b34af19db893a8670f9505": {
      "model_module": "@jupyter-widgets/controls",
      "model_module_version": "2.0.0",
      "model_name": "HTMLModel",
      "state": {
       "_dom_classes": [],
       "_model_module": "@jupyter-widgets/controls",
       "_model_module_version": "2.0.0",
       "_model_name": "HTMLModel",
       "_view_count": null,
       "_view_module": "@jupyter-widgets/controls",
       "_view_module_version": "2.0.0",
       "_view_name": "HTMLView",
       "description": "",
       "description_allow_html": false,
       "layout": "IPY_MODEL_21ad8b20381549ad9f4cb1a3974ff040",
       "placeholder": "​",
       "style": "IPY_MODEL_e4c321d26b354ac8a38f90ffa01d1335",
       "tabbable": null,
       "tooltip": null,
       "value": " 6/6 [00:44&lt;00:00,  7.42s/it]"
      }
     },
     "34ce5380bd904eabb3e40d35e766d71c": {
      "model_module": "@jupyter-widgets/base",
      "model_module_version": "2.0.0",
      "model_name": "LayoutModel",
      "state": {
       "_model_module": "@jupyter-widgets/base",
       "_model_module_version": "2.0.0",
       "_model_name": "LayoutModel",
       "_view_count": null,
       "_view_module": "@jupyter-widgets/base",
       "_view_module_version": "2.0.0",
       "_view_name": "LayoutView",
       "align_content": null,
       "align_items": null,
       "align_self": null,
       "border_bottom": null,
       "border_left": null,
       "border_right": null,
       "border_top": null,
       "bottom": null,
       "display": null,
       "flex": null,
       "flex_flow": null,
       "grid_area": null,
       "grid_auto_columns": null,
       "grid_auto_flow": null,
       "grid_auto_rows": null,
       "grid_column": null,
       "grid_gap": null,
       "grid_row": null,
       "grid_template_areas": null,
       "grid_template_columns": null,
       "grid_template_rows": null,
       "height": null,
       "justify_content": null,
       "justify_items": null,
       "left": null,
       "margin": null,
       "max_height": null,
       "max_width": null,
       "min_height": null,
       "min_width": null,
       "object_fit": null,
       "object_position": null,
       "order": null,
       "overflow": null,
       "padding": null,
       "right": null,
       "top": null,
       "visibility": null,
       "width": null
      }
     },
     "375e197d745a4c669f8c47ff3861230a": {
      "model_module": "@jupyter-widgets/controls",
      "model_module_version": "2.0.0",
      "model_name": "HTMLModel",
      "state": {
       "_dom_classes": [],
       "_model_module": "@jupyter-widgets/controls",
       "_model_module_version": "2.0.0",
       "_model_name": "HTMLModel",
       "_view_count": null,
       "_view_module": "@jupyter-widgets/controls",
       "_view_module_version": "2.0.0",
       "_view_name": "HTMLView",
       "description": "",
       "description_allow_html": false,
       "layout": "IPY_MODEL_6fd466be260d4fb1a096ec2e7f020446",
       "placeholder": "​",
       "style": "IPY_MODEL_5ef32497ed434bb49ccf52bdcd10fc55",
       "tabbable": null,
       "tooltip": null,
       "value": "Checking EOPatches: 100%"
      }
     },
     "3a28dc5ab125405a84b312b82ff8d5f0": {
      "model_module": "@jupyter-widgets/base",
      "model_module_version": "2.0.0",
      "model_name": "LayoutModel",
      "state": {
       "_model_module": "@jupyter-widgets/base",
       "_model_module_version": "2.0.0",
       "_model_name": "LayoutModel",
       "_view_count": null,
       "_view_module": "@jupyter-widgets/base",
       "_view_module_version": "2.0.0",
       "_view_name": "LayoutView",
       "align_content": null,
       "align_items": null,
       "align_self": null,
       "border_bottom": null,
       "border_left": null,
       "border_right": null,
       "border_top": null,
       "bottom": null,
       "display": null,
       "flex": null,
       "flex_flow": null,
       "grid_area": null,
       "grid_auto_columns": null,
       "grid_auto_flow": null,
       "grid_auto_rows": null,
       "grid_column": null,
       "grid_gap": null,
       "grid_row": null,
       "grid_template_areas": null,
       "grid_template_columns": null,
       "grid_template_rows": null,
       "height": null,
       "justify_content": null,
       "justify_items": null,
       "left": null,
       "margin": null,
       "max_height": null,
       "max_width": null,
       "min_height": null,
       "min_width": null,
       "object_fit": null,
       "object_position": null,
       "order": null,
       "overflow": null,
       "padding": null,
       "right": null,
       "top": null,
       "visibility": null,
       "width": null
      }
     },
     "450954d5c33d4712a2d619b30acb0f2e": {
      "model_module": "@jupyter-widgets/controls",
      "model_module_version": "2.0.0",
      "model_name": "FloatProgressModel",
      "state": {
       "_dom_classes": [],
       "_model_module": "@jupyter-widgets/controls",
       "_model_module_version": "2.0.0",
       "_model_name": "FloatProgressModel",
       "_view_count": null,
       "_view_module": "@jupyter-widgets/controls",
       "_view_module_version": "2.0.0",
       "_view_name": "ProgressView",
       "bar_style": "success",
       "description": "",
       "description_allow_html": false,
       "layout": "IPY_MODEL_0e34dfb5bcec4801804b86f0a4278923",
       "max": 6.0,
       "min": 0.0,
       "orientation": "horizontal",
       "style": "IPY_MODEL_29a8bc52e91849938005f60a23104d8e",
       "tabbable": null,
       "tooltip": null,
       "value": 6.0
      }
     },
     "457fb15e36224bba9dfaef642b1788c4": {
      "model_module": "@jupyter-widgets/base",
      "model_module_version": "2.0.0",
      "model_name": "LayoutModel",
      "state": {
       "_model_module": "@jupyter-widgets/base",
       "_model_module_version": "2.0.0",
       "_model_name": "LayoutModel",
       "_view_count": null,
       "_view_module": "@jupyter-widgets/base",
       "_view_module_version": "2.0.0",
       "_view_name": "LayoutView",
       "align_content": null,
       "align_items": null,
       "align_self": null,
       "border_bottom": null,
       "border_left": null,
       "border_right": null,
       "border_top": null,
       "bottom": null,
       "display": null,
       "flex": null,
       "flex_flow": null,
       "grid_area": null,
       "grid_auto_columns": null,
       "grid_auto_flow": null,
       "grid_auto_rows": null,
       "grid_column": null,
       "grid_gap": null,
       "grid_row": null,
       "grid_template_areas": null,
       "grid_template_columns": null,
       "grid_template_rows": null,
       "height": null,
       "justify_content": null,
       "justify_items": null,
       "left": null,
       "margin": null,
       "max_height": null,
       "max_width": null,
       "min_height": null,
       "min_width": null,
       "object_fit": null,
       "object_position": null,
       "order": null,
       "overflow": null,
       "padding": null,
       "right": null,
       "top": null,
       "visibility": null,
       "width": null
      }
     },
     "489e5025e2b2427c8b938311fa369368": {
      "model_module": "@jupyter-widgets/controls",
      "model_module_version": "2.0.0",
      "model_name": "FloatProgressModel",
      "state": {
       "_dom_classes": [],
       "_model_module": "@jupyter-widgets/controls",
       "_model_module_version": "2.0.0",
       "_model_name": "FloatProgressModel",
       "_view_count": null,
       "_view_module": "@jupyter-widgets/controls",
       "_view_module_version": "2.0.0",
       "_view_name": "ProgressView",
       "bar_style": "success",
       "description": "",
       "description_allow_html": false,
       "layout": "IPY_MODEL_21c5a80efba4457088f6a67cda653927",
       "max": 6.0,
       "min": 0.0,
       "orientation": "horizontal",
       "style": "IPY_MODEL_5f1aeb6ce4754f13be7107d1bfe6584d",
       "tabbable": null,
       "tooltip": null,
       "value": 6.0
      }
     },
     "48ca4d5c4a9843588c72954ae29ac992": {
      "model_module": "@jupyter-widgets/controls",
      "model_module_version": "2.0.0",
      "model_name": "HTMLModel",
      "state": {
       "_dom_classes": [],
       "_model_module": "@jupyter-widgets/controls",
       "_model_module_version": "2.0.0",
       "_model_name": "HTMLModel",
       "_view_count": null,
       "_view_module": "@jupyter-widgets/controls",
       "_view_module_version": "2.0.0",
       "_view_name": "HTMLView",
       "description": "",
       "description_allow_html": false,
       "layout": "IPY_MODEL_bdc12b32ee9b45e9905664871aeb3009",
       "placeholder": "​",
       "style": "IPY_MODEL_b2d92871fcf449acb48d885021f7d734",
       "tabbable": null,
       "tooltip": null,
       "value": "100%"
      }
     },
     "495dcaf3bcf64b5d8d6441a68d903857": {
      "model_module": "@jupyter-widgets/controls",
      "model_module_version": "2.0.0",
      "model_name": "HBoxModel",
      "state": {
       "_dom_classes": [],
       "_model_module": "@jupyter-widgets/controls",
       "_model_module_version": "2.0.0",
       "_model_name": "HBoxModel",
       "_view_count": null,
       "_view_module": "@jupyter-widgets/controls",
       "_view_module_version": "2.0.0",
       "_view_name": "HBoxView",
       "box_style": "",
       "children": [
        "IPY_MODEL_48ca4d5c4a9843588c72954ae29ac992",
        "IPY_MODEL_450954d5c33d4712a2d619b30acb0f2e",
        "IPY_MODEL_344787eb04b34af19db893a8670f9505"
       ],
       "layout": "IPY_MODEL_8407ee91b3584d33a51995d7481659f7",
       "tabbable": null,
       "tooltip": null
      }
     },
     "53767da8f1cc4cbba4ce0e8b3355687a": {
      "model_module": "@jupyter-widgets/controls",
      "model_module_version": "2.0.0",
      "model_name": "HTMLStyleModel",
      "state": {
       "_model_module": "@jupyter-widgets/controls",
       "_model_module_version": "2.0.0",
       "_model_name": "HTMLStyleModel",
       "_view_count": null,
       "_view_module": "@jupyter-widgets/base",
       "_view_module_version": "2.0.0",
       "_view_name": "StyleView",
       "background": null,
       "description_width": "",
       "font_size": null,
       "text_color": null
      }
     },
     "5449e41d471247a08128f3d424c18ab6": {
      "model_module": "@jupyter-widgets/base",
      "model_module_version": "2.0.0",
      "model_name": "LayoutModel",
      "state": {
       "_model_module": "@jupyter-widgets/base",
       "_model_module_version": "2.0.0",
       "_model_name": "LayoutModel",
       "_view_count": null,
       "_view_module": "@jupyter-widgets/base",
       "_view_module_version": "2.0.0",
       "_view_name": "LayoutView",
       "align_content": null,
       "align_items": null,
       "align_self": null,
       "border_bottom": null,
       "border_left": null,
       "border_right": null,
       "border_top": null,
       "bottom": null,
       "display": null,
       "flex": null,
       "flex_flow": null,
       "grid_area": null,
       "grid_auto_columns": null,
       "grid_auto_flow": null,
       "grid_auto_rows": null,
       "grid_column": null,
       "grid_gap": null,
       "grid_row": null,
       "grid_template_areas": null,
       "grid_template_columns": null,
       "grid_template_rows": null,
       "height": null,
       "justify_content": null,
       "justify_items": null,
       "left": null,
       "margin": null,
       "max_height": null,
       "max_width": null,
       "min_height": null,
       "min_width": null,
       "object_fit": null,
       "object_position": null,
       "order": null,
       "overflow": null,
       "padding": null,
       "right": null,
       "top": null,
       "visibility": null,
       "width": null
      }
     },
     "5ceafdf2bc9e4fc7b318885fe7640870": {
      "model_module": "@jupyter-widgets/base",
      "model_module_version": "2.0.0",
      "model_name": "LayoutModel",
      "state": {
       "_model_module": "@jupyter-widgets/base",
       "_model_module_version": "2.0.0",
       "_model_name": "LayoutModel",
       "_view_count": null,
       "_view_module": "@jupyter-widgets/base",
       "_view_module_version": "2.0.0",
       "_view_name": "LayoutView",
       "align_content": null,
       "align_items": null,
       "align_self": null,
       "border_bottom": null,
       "border_left": null,
       "border_right": null,
       "border_top": null,
       "bottom": null,
       "display": null,
       "flex": null,
       "flex_flow": null,
       "grid_area": null,
       "grid_auto_columns": null,
       "grid_auto_flow": null,
       "grid_auto_rows": null,
       "grid_column": null,
       "grid_gap": null,
       "grid_row": null,
       "grid_template_areas": null,
       "grid_template_columns": null,
       "grid_template_rows": null,
       "height": null,
       "justify_content": null,
       "justify_items": null,
       "left": null,
       "margin": null,
       "max_height": null,
       "max_width": null,
       "min_height": null,
       "min_width": null,
       "object_fit": null,
       "object_position": null,
       "order": null,
       "overflow": null,
       "padding": null,
       "right": null,
       "top": null,
       "visibility": null,
       "width": null
      }
     },
     "5d42c86f781d4db88746550715f35d0a": {
      "model_module": "@jupyter-widgets/controls",
      "model_module_version": "2.0.0",
      "model_name": "HTMLStyleModel",
      "state": {
       "_model_module": "@jupyter-widgets/controls",
       "_model_module_version": "2.0.0",
       "_model_name": "HTMLStyleModel",
       "_view_count": null,
       "_view_module": "@jupyter-widgets/base",
       "_view_module_version": "2.0.0",
       "_view_name": "StyleView",
       "background": null,
       "description_width": "",
       "font_size": null,
       "text_color": null
      }
     },
     "5ef32497ed434bb49ccf52bdcd10fc55": {
      "model_module": "@jupyter-widgets/controls",
      "model_module_version": "2.0.0",
      "model_name": "HTMLStyleModel",
      "state": {
       "_model_module": "@jupyter-widgets/controls",
       "_model_module_version": "2.0.0",
       "_model_name": "HTMLStyleModel",
       "_view_count": null,
       "_view_module": "@jupyter-widgets/base",
       "_view_module_version": "2.0.0",
       "_view_name": "StyleView",
       "background": null,
       "description_width": "",
       "font_size": null,
       "text_color": null
      }
     },
     "5f1aeb6ce4754f13be7107d1bfe6584d": {
      "model_module": "@jupyter-widgets/controls",
      "model_module_version": "2.0.0",
      "model_name": "ProgressStyleModel",
      "state": {
       "_model_module": "@jupyter-widgets/controls",
       "_model_module_version": "2.0.0",
       "_model_name": "ProgressStyleModel",
       "_view_count": null,
       "_view_module": "@jupyter-widgets/base",
       "_view_module_version": "2.0.0",
       "_view_name": "StyleView",
       "bar_color": null,
       "description_width": ""
      }
     },
     "5f5a74d016754efcab6540d75067b83e": {
      "model_module": "@jupyter-widgets/controls",
      "model_module_version": "2.0.0",
      "model_name": "HTMLStyleModel",
      "state": {
       "_model_module": "@jupyter-widgets/controls",
       "_model_module_version": "2.0.0",
       "_model_name": "HTMLStyleModel",
       "_view_count": null,
       "_view_module": "@jupyter-widgets/base",
       "_view_module_version": "2.0.0",
       "_view_name": "StyleView",
       "background": null,
       "description_width": "",
       "font_size": null,
       "text_color": null
      }
     },
     "67049b1ff4144bd3b5d947f356e89052": {
      "model_module": "@jupyter-widgets/controls",
      "model_module_version": "2.0.0",
      "model_name": "HTMLModel",
      "state": {
       "_dom_classes": [],
       "_model_module": "@jupyter-widgets/controls",
       "_model_module_version": "2.0.0",
       "_model_name": "HTMLModel",
       "_view_count": null,
       "_view_module": "@jupyter-widgets/controls",
       "_view_module_version": "2.0.0",
       "_view_name": "HTMLView",
       "description": "",
       "description_allow_html": false,
       "layout": "IPY_MODEL_6be6014baee14ecd92e9b019c5c8bca3",
       "placeholder": "​",
       "style": "IPY_MODEL_5f5a74d016754efcab6540d75067b83e",
       "tabbable": null,
       "tooltip": null,
       "value": " 6/6 [00:00&lt;00:00, 256.15it/s]"
      }
     },
     "67a2f325e84e4d9390b44c6ae204edc6": {
      "model_module": "@jupyter-widgets/controls",
      "model_module_version": "2.0.0",
      "model_name": "HTMLStyleModel",
      "state": {
       "_model_module": "@jupyter-widgets/controls",
       "_model_module_version": "2.0.0",
       "_model_name": "HTMLStyleModel",
       "_view_count": null,
       "_view_module": "@jupyter-widgets/base",
       "_view_module_version": "2.0.0",
       "_view_name": "StyleView",
       "background": null,
       "description_width": "",
       "font_size": null,
       "text_color": null
      }
     },
     "6871072efb1d4e79bec63c8295d29167": {
      "model_module": "@jupyter-widgets/base",
      "model_module_version": "2.0.0",
      "model_name": "LayoutModel",
      "state": {
       "_model_module": "@jupyter-widgets/base",
       "_model_module_version": "2.0.0",
       "_model_name": "LayoutModel",
       "_view_count": null,
       "_view_module": "@jupyter-widgets/base",
       "_view_module_version": "2.0.0",
       "_view_name": "LayoutView",
       "align_content": null,
       "align_items": null,
       "align_self": null,
       "border_bottom": null,
       "border_left": null,
       "border_right": null,
       "border_top": null,
       "bottom": null,
       "display": null,
       "flex": null,
       "flex_flow": null,
       "grid_area": null,
       "grid_auto_columns": null,
       "grid_auto_flow": null,
       "grid_auto_rows": null,
       "grid_column": null,
       "grid_gap": null,
       "grid_row": null,
       "grid_template_areas": null,
       "grid_template_columns": null,
       "grid_template_rows": null,
       "height": null,
       "justify_content": null,
       "justify_items": null,
       "left": null,
       "margin": null,
       "max_height": null,
       "max_width": null,
       "min_height": null,
       "min_width": null,
       "object_fit": null,
       "object_position": null,
       "order": null,
       "overflow": null,
       "padding": null,
       "right": null,
       "top": null,
       "visibility": null,
       "width": null
      }
     },
     "699893abbea6404ca56f50d6a0411710": {
      "model_module": "@jupyter-widgets/controls",
      "model_module_version": "2.0.0",
      "model_name": "HTMLModel",
      "state": {
       "_dom_classes": [],
       "_model_module": "@jupyter-widgets/controls",
       "_model_module_version": "2.0.0",
       "_model_name": "HTMLModel",
       "_view_count": null,
       "_view_module": "@jupyter-widgets/controls",
       "_view_module_version": "2.0.0",
       "_view_name": "HTMLView",
       "description": "",
       "description_allow_html": false,
       "layout": "IPY_MODEL_1f36c56702a24432b93bf9518b1d32cd",
       "placeholder": "​",
       "style": "IPY_MODEL_dc958a4e64544e44af62eb8afb2428b1",
       "tabbable": null,
       "tooltip": null,
       "value": " 6/6 [00:00&lt;00:00, 252.53it/s]"
      }
     },
     "6be6014baee14ecd92e9b019c5c8bca3": {
      "model_module": "@jupyter-widgets/base",
      "model_module_version": "2.0.0",
      "model_name": "LayoutModel",
      "state": {
       "_model_module": "@jupyter-widgets/base",
       "_model_module_version": "2.0.0",
       "_model_name": "LayoutModel",
       "_view_count": null,
       "_view_module": "@jupyter-widgets/base",
       "_view_module_version": "2.0.0",
       "_view_name": "LayoutView",
       "align_content": null,
       "align_items": null,
       "align_self": null,
       "border_bottom": null,
       "border_left": null,
       "border_right": null,
       "border_top": null,
       "bottom": null,
       "display": null,
       "flex": null,
       "flex_flow": null,
       "grid_area": null,
       "grid_auto_columns": null,
       "grid_auto_flow": null,
       "grid_auto_rows": null,
       "grid_column": null,
       "grid_gap": null,
       "grid_row": null,
       "grid_template_areas": null,
       "grid_template_columns": null,
       "grid_template_rows": null,
       "height": null,
       "justify_content": null,
       "justify_items": null,
       "left": null,
       "margin": null,
       "max_height": null,
       "max_width": null,
       "min_height": null,
       "min_width": null,
       "object_fit": null,
       "object_position": null,
       "order": null,
       "overflow": null,
       "padding": null,
       "right": null,
       "top": null,
       "visibility": null,
       "width": null
      }
     },
     "6d5a84d2a0cb48879f0b9b9705e0f539": {
      "model_module": "@jupyter-widgets/base",
      "model_module_version": "2.0.0",
      "model_name": "LayoutModel",
      "state": {
       "_model_module": "@jupyter-widgets/base",
       "_model_module_version": "2.0.0",
       "_model_name": "LayoutModel",
       "_view_count": null,
       "_view_module": "@jupyter-widgets/base",
       "_view_module_version": "2.0.0",
       "_view_name": "LayoutView",
       "align_content": null,
       "align_items": null,
       "align_self": null,
       "border_bottom": null,
       "border_left": null,
       "border_right": null,
       "border_top": null,
       "bottom": null,
       "display": null,
       "flex": null,
       "flex_flow": null,
       "grid_area": null,
       "grid_auto_columns": null,
       "grid_auto_flow": null,
       "grid_auto_rows": null,
       "grid_column": null,
       "grid_gap": null,
       "grid_row": null,
       "grid_template_areas": null,
       "grid_template_columns": null,
       "grid_template_rows": null,
       "height": null,
       "justify_content": null,
       "justify_items": null,
       "left": null,
       "margin": null,
       "max_height": null,
       "max_width": null,
       "min_height": null,
       "min_width": null,
       "object_fit": null,
       "object_position": null,
       "order": null,
       "overflow": null,
       "padding": null,
       "right": null,
       "top": null,
       "visibility": null,
       "width": null
      }
     },
     "6e29db5748774df48ebda27478f43172": {
      "model_module": "@jupyter-widgets/controls",
      "model_module_version": "2.0.0",
      "model_name": "HTMLModel",
      "state": {
       "_dom_classes": [],
       "_model_module": "@jupyter-widgets/controls",
       "_model_module_version": "2.0.0",
       "_model_name": "HTMLModel",
       "_view_count": null,
       "_view_module": "@jupyter-widgets/controls",
       "_view_module_version": "2.0.0",
       "_view_name": "HTMLView",
       "description": "",
       "description_allow_html": false,
       "layout": "IPY_MODEL_b0e98e72e89c467e95240e4a15951cc5",
       "placeholder": "​",
       "style": "IPY_MODEL_861939e084534a178315c5f25e4c63a1",
       "tabbable": null,
       "tooltip": null,
       "value": " 6/6 [00:00&lt;00:00, 97.59it/s]"
      }
     },
     "6e5e4f3deafe40cba3231f464b384984": {
      "model_module": "@jupyter-widgets/controls",
      "model_module_version": "2.0.0",
      "model_name": "FloatProgressModel",
      "state": {
       "_dom_classes": [],
       "_model_module": "@jupyter-widgets/controls",
       "_model_module_version": "2.0.0",
       "_model_name": "FloatProgressModel",
       "_view_count": null,
       "_view_module": "@jupyter-widgets/controls",
       "_view_module_version": "2.0.0",
       "_view_name": "ProgressView",
       "bar_style": "success",
       "description": "",
       "description_allow_html": false,
       "layout": "IPY_MODEL_e6ed31addba64055b4b78f21387e4020",
       "max": 6.0,
       "min": 0.0,
       "orientation": "horizontal",
       "style": "IPY_MODEL_db5968f7ef984f9dae97ea1041d907b5",
       "tabbable": null,
       "tooltip": null,
       "value": 6.0
      }
     },
     "6fd466be260d4fb1a096ec2e7f020446": {
      "model_module": "@jupyter-widgets/base",
      "model_module_version": "2.0.0",
      "model_name": "LayoutModel",
      "state": {
       "_model_module": "@jupyter-widgets/base",
       "_model_module_version": "2.0.0",
       "_model_name": "LayoutModel",
       "_view_count": null,
       "_view_module": "@jupyter-widgets/base",
       "_view_module_version": "2.0.0",
       "_view_name": "LayoutView",
       "align_content": null,
       "align_items": null,
       "align_self": null,
       "border_bottom": null,
       "border_left": null,
       "border_right": null,
       "border_top": null,
       "bottom": null,
       "display": null,
       "flex": null,
       "flex_flow": null,
       "grid_area": null,
       "grid_auto_columns": null,
       "grid_auto_flow": null,
       "grid_auto_rows": null,
       "grid_column": null,
       "grid_gap": null,
       "grid_row": null,
       "grid_template_areas": null,
       "grid_template_columns": null,
       "grid_template_rows": null,
       "height": null,
       "justify_content": null,
       "justify_items": null,
       "left": null,
       "margin": null,
       "max_height": null,
       "max_width": null,
       "min_height": null,
       "min_width": null,
       "object_fit": null,
       "object_position": null,
       "order": null,
       "overflow": null,
       "padding": null,
       "right": null,
       "top": null,
       "visibility": null,
       "width": null
      }
     },
     "74333e5a09e745398f16903cd430681f": {
      "model_module": "@jupyter-widgets/base",
      "model_module_version": "2.0.0",
      "model_name": "LayoutModel",
      "state": {
       "_model_module": "@jupyter-widgets/base",
       "_model_module_version": "2.0.0",
       "_model_name": "LayoutModel",
       "_view_count": null,
       "_view_module": "@jupyter-widgets/base",
       "_view_module_version": "2.0.0",
       "_view_name": "LayoutView",
       "align_content": null,
       "align_items": null,
       "align_self": null,
       "border_bottom": null,
       "border_left": null,
       "border_right": null,
       "border_top": null,
       "bottom": null,
       "display": null,
       "flex": null,
       "flex_flow": null,
       "grid_area": null,
       "grid_auto_columns": null,
       "grid_auto_flow": null,
       "grid_auto_rows": null,
       "grid_column": null,
       "grid_gap": null,
       "grid_row": null,
       "grid_template_areas": null,
       "grid_template_columns": null,
       "grid_template_rows": null,
       "height": null,
       "justify_content": null,
       "justify_items": null,
       "left": null,
       "margin": null,
       "max_height": null,
       "max_width": null,
       "min_height": null,
       "min_width": null,
       "object_fit": null,
       "object_position": null,
       "order": null,
       "overflow": null,
       "padding": null,
       "right": null,
       "top": null,
       "visibility": null,
       "width": null
      }
     },
     "7b0103df5be542eda7008430efd4b101": {
      "model_module": "@jupyter-widgets/base",
      "model_module_version": "2.0.0",
      "model_name": "LayoutModel",
      "state": {
       "_model_module": "@jupyter-widgets/base",
       "_model_module_version": "2.0.0",
       "_model_name": "LayoutModel",
       "_view_count": null,
       "_view_module": "@jupyter-widgets/base",
       "_view_module_version": "2.0.0",
       "_view_name": "LayoutView",
       "align_content": null,
       "align_items": null,
       "align_self": null,
       "border_bottom": null,
       "border_left": null,
       "border_right": null,
       "border_top": null,
       "bottom": null,
       "display": null,
       "flex": null,
       "flex_flow": null,
       "grid_area": null,
       "grid_auto_columns": null,
       "grid_auto_flow": null,
       "grid_auto_rows": null,
       "grid_column": null,
       "grid_gap": null,
       "grid_row": null,
       "grid_template_areas": null,
       "grid_template_columns": null,
       "grid_template_rows": null,
       "height": null,
       "justify_content": null,
       "justify_items": null,
       "left": null,
       "margin": null,
       "max_height": null,
       "max_width": null,
       "min_height": null,
       "min_width": null,
       "object_fit": null,
       "object_position": null,
       "order": null,
       "overflow": null,
       "padding": null,
       "right": null,
       "top": null,
       "visibility": null,
       "width": null
      }
     },
     "7b92b024499c46a7aeee7eb11dae2027": {
      "model_module": "@jupyter-widgets/controls",
      "model_module_version": "2.0.0",
      "model_name": "HTMLStyleModel",
      "state": {
       "_model_module": "@jupyter-widgets/controls",
       "_model_module_version": "2.0.0",
       "_model_name": "HTMLStyleModel",
       "_view_count": null,
       "_view_module": "@jupyter-widgets/base",
       "_view_module_version": "2.0.0",
       "_view_name": "StyleView",
       "background": null,
       "description_width": "",
       "font_size": null,
       "text_color": null
      }
     },
     "7bdf8a71b83647a49410c4cb10ca95f7": {
      "model_module": "@jupyter-widgets/base",
      "model_module_version": "2.0.0",
      "model_name": "LayoutModel",
      "state": {
       "_model_module": "@jupyter-widgets/base",
       "_model_module_version": "2.0.0",
       "_model_name": "LayoutModel",
       "_view_count": null,
       "_view_module": "@jupyter-widgets/base",
       "_view_module_version": "2.0.0",
       "_view_name": "LayoutView",
       "align_content": null,
       "align_items": null,
       "align_self": null,
       "border_bottom": null,
       "border_left": null,
       "border_right": null,
       "border_top": null,
       "bottom": null,
       "display": null,
       "flex": null,
       "flex_flow": null,
       "grid_area": null,
       "grid_auto_columns": null,
       "grid_auto_flow": null,
       "grid_auto_rows": null,
       "grid_column": null,
       "grid_gap": null,
       "grid_row": null,
       "grid_template_areas": null,
       "grid_template_columns": null,
       "grid_template_rows": null,
       "height": null,
       "justify_content": null,
       "justify_items": null,
       "left": null,
       "margin": null,
       "max_height": null,
       "max_width": null,
       "min_height": null,
       "min_width": null,
       "object_fit": null,
       "object_position": null,
       "order": null,
       "overflow": null,
       "padding": null,
       "right": null,
       "top": null,
       "visibility": null,
       "width": null
      }
     },
     "7c27060a5d1240279f8efc5edeb9476d": {
      "model_module": "@jupyter-widgets/controls",
      "model_module_version": "2.0.0",
      "model_name": "HTMLStyleModel",
      "state": {
       "_model_module": "@jupyter-widgets/controls",
       "_model_module_version": "2.0.0",
       "_model_name": "HTMLStyleModel",
       "_view_count": null,
       "_view_module": "@jupyter-widgets/base",
       "_view_module_version": "2.0.0",
       "_view_name": "StyleView",
       "background": null,
       "description_width": "",
       "font_size": null,
       "text_color": null
      }
     },
     "8407ee91b3584d33a51995d7481659f7": {
      "model_module": "@jupyter-widgets/base",
      "model_module_version": "2.0.0",
      "model_name": "LayoutModel",
      "state": {
       "_model_module": "@jupyter-widgets/base",
       "_model_module_version": "2.0.0",
       "_model_name": "LayoutModel",
       "_view_count": null,
       "_view_module": "@jupyter-widgets/base",
       "_view_module_version": "2.0.0",
       "_view_name": "LayoutView",
       "align_content": null,
       "align_items": null,
       "align_self": null,
       "border_bottom": null,
       "border_left": null,
       "border_right": null,
       "border_top": null,
       "bottom": null,
       "display": null,
       "flex": null,
       "flex_flow": null,
       "grid_area": null,
       "grid_auto_columns": null,
       "grid_auto_flow": null,
       "grid_auto_rows": null,
       "grid_column": null,
       "grid_gap": null,
       "grid_row": null,
       "grid_template_areas": null,
       "grid_template_columns": null,
       "grid_template_rows": null,
       "height": null,
       "justify_content": null,
       "justify_items": null,
       "left": null,
       "margin": null,
       "max_height": null,
       "max_width": null,
       "min_height": null,
       "min_width": null,
       "object_fit": null,
       "object_position": null,
       "order": null,
       "overflow": null,
       "padding": null,
       "right": null,
       "top": null,
       "visibility": null,
       "width": null
      }
     },
     "861939e084534a178315c5f25e4c63a1": {
      "model_module": "@jupyter-widgets/controls",
      "model_module_version": "2.0.0",
      "model_name": "HTMLStyleModel",
      "state": {
       "_model_module": "@jupyter-widgets/controls",
       "_model_module_version": "2.0.0",
       "_model_name": "HTMLStyleModel",
       "_view_count": null,
       "_view_module": "@jupyter-widgets/base",
       "_view_module_version": "2.0.0",
       "_view_name": "StyleView",
       "background": null,
       "description_width": "",
       "font_size": null,
       "text_color": null
      }
     },
     "8b27225b934a4cfba3044b5788f1ffb9": {
      "model_module": "@jupyter-widgets/controls",
      "model_module_version": "2.0.0",
      "model_name": "HTMLStyleModel",
      "state": {
       "_model_module": "@jupyter-widgets/controls",
       "_model_module_version": "2.0.0",
       "_model_name": "HTMLStyleModel",
       "_view_count": null,
       "_view_module": "@jupyter-widgets/base",
       "_view_module_version": "2.0.0",
       "_view_name": "StyleView",
       "background": null,
       "description_width": "",
       "font_size": null,
       "text_color": null
      }
     },
     "93de4032eadd4d0fbbafec2e70a58a5a": {
      "model_module": "@jupyter-widgets/controls",
      "model_module_version": "2.0.0",
      "model_name": "HTMLModel",
      "state": {
       "_dom_classes": [],
       "_model_module": "@jupyter-widgets/controls",
       "_model_module_version": "2.0.0",
       "_model_name": "HTMLModel",
       "_view_count": null,
       "_view_module": "@jupyter-widgets/controls",
       "_view_module_version": "2.0.0",
       "_view_name": "HTMLView",
       "description": "",
       "description_allow_html": false,
       "layout": "IPY_MODEL_092bd90a45be47c19eb18695a9db6705",
       "placeholder": "​",
       "style": "IPY_MODEL_bce7e8c07166439e87efffd28aa7e1d0",
       "tabbable": null,
       "tooltip": null,
       "value": " 6/6 [00:39&lt;00:00,  6.49s/it]"
      }
     },
     "9445aee9a80d4f20926743c2d7d340eb": {
      "model_module": "@jupyter-widgets/controls",
      "model_module_version": "2.0.0",
      "model_name": "HTMLStyleModel",
      "state": {
       "_model_module": "@jupyter-widgets/controls",
       "_model_module_version": "2.0.0",
       "_model_name": "HTMLStyleModel",
       "_view_count": null,
       "_view_module": "@jupyter-widgets/base",
       "_view_module_version": "2.0.0",
       "_view_name": "StyleView",
       "background": null,
       "description_width": "",
       "font_size": null,
       "text_color": null
      }
     },
     "9939cabfbb444507a5ed7fe35916066b": {
      "model_module": "@jupyter-widgets/controls",
      "model_module_version": "2.0.0",
      "model_name": "HTMLStyleModel",
      "state": {
       "_model_module": "@jupyter-widgets/controls",
       "_model_module_version": "2.0.0",
       "_model_name": "HTMLStyleModel",
       "_view_count": null,
       "_view_module": "@jupyter-widgets/base",
       "_view_module_version": "2.0.0",
       "_view_name": "StyleView",
       "background": null,
       "description_width": "",
       "font_size": null,
       "text_color": null
      }
     },
     "9b0b399de1454484bc023bb4232418cc": {
      "model_module": "@jupyter-widgets/controls",
      "model_module_version": "2.0.0",
      "model_name": "ProgressStyleModel",
      "state": {
       "_model_module": "@jupyter-widgets/controls",
       "_model_module_version": "2.0.0",
       "_model_name": "ProgressStyleModel",
       "_view_count": null,
       "_view_module": "@jupyter-widgets/base",
       "_view_module_version": "2.0.0",
       "_view_name": "StyleView",
       "bar_color": null,
       "description_width": ""
      }
     },
     "9b44cf5535cf4211b870c5b9b510f6ed": {
      "model_module": "@jupyter-widgets/controls",
      "model_module_version": "2.0.0",
      "model_name": "ProgressStyleModel",
      "state": {
       "_model_module": "@jupyter-widgets/controls",
       "_model_module_version": "2.0.0",
       "_model_name": "ProgressStyleModel",
       "_view_count": null,
       "_view_module": "@jupyter-widgets/base",
       "_view_module_version": "2.0.0",
       "_view_name": "StyleView",
       "bar_color": null,
       "description_width": ""
      }
     },
     "9c1f94d96699463f826a208d993f621a": {
      "model_module": "@jupyter-widgets/controls",
      "model_module_version": "2.0.0",
      "model_name": "HBoxModel",
      "state": {
       "_dom_classes": [],
       "_model_module": "@jupyter-widgets/controls",
       "_model_module_version": "2.0.0",
       "_model_name": "HBoxModel",
       "_view_count": null,
       "_view_module": "@jupyter-widgets/controls",
       "_view_module_version": "2.0.0",
       "_view_name": "HBoxView",
       "box_style": "",
       "children": [
        "IPY_MODEL_f7845c0005774a368915f3fae9f35ea4",
        "IPY_MODEL_6e5e4f3deafe40cba3231f464b384984",
        "IPY_MODEL_b50a7b5587f643d582aec1d2bc1148a2"
       ],
       "layout": "IPY_MODEL_15541a134baf4737a41e68e857b76a3c",
       "tabbable": null,
       "tooltip": null
      }
     },
     "9d5622fc175946dfb368d77397e6fc88": {
      "model_module": "@jupyter-widgets/base",
      "model_module_version": "2.0.0",
      "model_name": "LayoutModel",
      "state": {
       "_model_module": "@jupyter-widgets/base",
       "_model_module_version": "2.0.0",
       "_model_name": "LayoutModel",
       "_view_count": null,
       "_view_module": "@jupyter-widgets/base",
       "_view_module_version": "2.0.0",
       "_view_name": "LayoutView",
       "align_content": null,
       "align_items": null,
       "align_self": null,
       "border_bottom": null,
       "border_left": null,
       "border_right": null,
       "border_top": null,
       "bottom": null,
       "display": null,
       "flex": null,
       "flex_flow": null,
       "grid_area": null,
       "grid_auto_columns": null,
       "grid_auto_flow": null,
       "grid_auto_rows": null,
       "grid_column": null,
       "grid_gap": null,
       "grid_row": null,
       "grid_template_areas": null,
       "grid_template_columns": null,
       "grid_template_rows": null,
       "height": null,
       "justify_content": null,
       "justify_items": null,
       "left": null,
       "margin": null,
       "max_height": null,
       "max_width": null,
       "min_height": null,
       "min_width": null,
       "object_fit": null,
       "object_position": null,
       "order": null,
       "overflow": null,
       "padding": null,
       "right": null,
       "top": null,
       "visibility": null,
       "width": null
      }
     },
     "9d6e6a49274243b390ec5ba8f81f618a": {
      "model_module": "@jupyter-widgets/controls",
      "model_module_version": "2.0.0",
      "model_name": "ProgressStyleModel",
      "state": {
       "_model_module": "@jupyter-widgets/controls",
       "_model_module_version": "2.0.0",
       "_model_name": "ProgressStyleModel",
       "_view_count": null,
       "_view_module": "@jupyter-widgets/base",
       "_view_module_version": "2.0.0",
       "_view_name": "StyleView",
       "bar_color": null,
       "description_width": ""
      }
     },
     "a8361fb3b1e644e2b3b5afc51a3a0970": {
      "model_module": "@jupyter-widgets/controls",
      "model_module_version": "2.0.0",
      "model_name": "HTMLStyleModel",
      "state": {
       "_model_module": "@jupyter-widgets/controls",
       "_model_module_version": "2.0.0",
       "_model_name": "HTMLStyleModel",
       "_view_count": null,
       "_view_module": "@jupyter-widgets/base",
       "_view_module_version": "2.0.0",
       "_view_name": "StyleView",
       "background": null,
       "description_width": "",
       "font_size": null,
       "text_color": null
      }
     },
     "a9f9a856706f48a2a3d9c7f72c9445a8": {
      "model_module": "@jupyter-widgets/base",
      "model_module_version": "2.0.0",
      "model_name": "LayoutModel",
      "state": {
       "_model_module": "@jupyter-widgets/base",
       "_model_module_version": "2.0.0",
       "_model_name": "LayoutModel",
       "_view_count": null,
       "_view_module": "@jupyter-widgets/base",
       "_view_module_version": "2.0.0",
       "_view_name": "LayoutView",
       "align_content": null,
       "align_items": null,
       "align_self": null,
       "border_bottom": null,
       "border_left": null,
       "border_right": null,
       "border_top": null,
       "bottom": null,
       "display": null,
       "flex": null,
       "flex_flow": null,
       "grid_area": null,
       "grid_auto_columns": null,
       "grid_auto_flow": null,
       "grid_auto_rows": null,
       "grid_column": null,
       "grid_gap": null,
       "grid_row": null,
       "grid_template_areas": null,
       "grid_template_columns": null,
       "grid_template_rows": null,
       "height": null,
       "justify_content": null,
       "justify_items": null,
       "left": null,
       "margin": null,
       "max_height": null,
       "max_width": null,
       "min_height": null,
       "min_width": null,
       "object_fit": null,
       "object_position": null,
       "order": null,
       "overflow": null,
       "padding": null,
       "right": null,
       "top": null,
       "visibility": null,
       "width": null
      }
     },
     "b0e98e72e89c467e95240e4a15951cc5": {
      "model_module": "@jupyter-widgets/base",
      "model_module_version": "2.0.0",
      "model_name": "LayoutModel",
      "state": {
       "_model_module": "@jupyter-widgets/base",
       "_model_module_version": "2.0.0",
       "_model_name": "LayoutModel",
       "_view_count": null,
       "_view_module": "@jupyter-widgets/base",
       "_view_module_version": "2.0.0",
       "_view_name": "LayoutView",
       "align_content": null,
       "align_items": null,
       "align_self": null,
       "border_bottom": null,
       "border_left": null,
       "border_right": null,
       "border_top": null,
       "bottom": null,
       "display": null,
       "flex": null,
       "flex_flow": null,
       "grid_area": null,
       "grid_auto_columns": null,
       "grid_auto_flow": null,
       "grid_auto_rows": null,
       "grid_column": null,
       "grid_gap": null,
       "grid_row": null,
       "grid_template_areas": null,
       "grid_template_columns": null,
       "grid_template_rows": null,
       "height": null,
       "justify_content": null,
       "justify_items": null,
       "left": null,
       "margin": null,
       "max_height": null,
       "max_width": null,
       "min_height": null,
       "min_width": null,
       "object_fit": null,
       "object_position": null,
       "order": null,
       "overflow": null,
       "padding": null,
       "right": null,
       "top": null,
       "visibility": null,
       "width": null
      }
     },
     "b2d92871fcf449acb48d885021f7d734": {
      "model_module": "@jupyter-widgets/controls",
      "model_module_version": "2.0.0",
      "model_name": "HTMLStyleModel",
      "state": {
       "_model_module": "@jupyter-widgets/controls",
       "_model_module_version": "2.0.0",
       "_model_name": "HTMLStyleModel",
       "_view_count": null,
       "_view_module": "@jupyter-widgets/base",
       "_view_module_version": "2.0.0",
       "_view_name": "StyleView",
       "background": null,
       "description_width": "",
       "font_size": null,
       "text_color": null
      }
     },
     "b50a7b5587f643d582aec1d2bc1148a2": {
      "model_module": "@jupyter-widgets/controls",
      "model_module_version": "2.0.0",
      "model_name": "HTMLModel",
      "state": {
       "_dom_classes": [],
       "_model_module": "@jupyter-widgets/controls",
       "_model_module_version": "2.0.0",
       "_model_name": "HTMLModel",
       "_view_count": null,
       "_view_module": "@jupyter-widgets/controls",
       "_view_module_version": "2.0.0",
       "_view_name": "HTMLView",
       "description": "",
       "description_allow_html": false,
       "layout": "IPY_MODEL_6d5a84d2a0cb48879f0b9b9705e0f539",
       "placeholder": "​",
       "style": "IPY_MODEL_a8361fb3b1e644e2b3b5afc51a3a0970",
       "tabbable": null,
       "tooltip": null,
       "value": " 6/6 [00:00&lt;00:00, 294.22it/s]"
      }
     },
     "b811b692d3ef4a30ac1563b22eba8c1b": {
      "model_module": "@jupyter-widgets/base",
      "model_module_version": "2.0.0",
      "model_name": "LayoutModel",
      "state": {
       "_model_module": "@jupyter-widgets/base",
       "_model_module_version": "2.0.0",
       "_model_name": "LayoutModel",
       "_view_count": null,
       "_view_module": "@jupyter-widgets/base",
       "_view_module_version": "2.0.0",
       "_view_name": "LayoutView",
       "align_content": null,
       "align_items": null,
       "align_self": null,
       "border_bottom": null,
       "border_left": null,
       "border_right": null,
       "border_top": null,
       "bottom": null,
       "display": null,
       "flex": null,
       "flex_flow": null,
       "grid_area": null,
       "grid_auto_columns": null,
       "grid_auto_flow": null,
       "grid_auto_rows": null,
       "grid_column": null,
       "grid_gap": null,
       "grid_row": null,
       "grid_template_areas": null,
       "grid_template_columns": null,
       "grid_template_rows": null,
       "height": null,
       "justify_content": null,
       "justify_items": null,
       "left": null,
       "margin": null,
       "max_height": null,
       "max_width": null,
       "min_height": null,
       "min_width": null,
       "object_fit": null,
       "object_position": null,
       "order": null,
       "overflow": null,
       "padding": null,
       "right": null,
       "top": null,
       "visibility": null,
       "width": null
      }
     },
     "b845152b1c924c7390888474b5dd376f": {
      "model_module": "@jupyter-widgets/base",
      "model_module_version": "2.0.0",
      "model_name": "LayoutModel",
      "state": {
       "_model_module": "@jupyter-widgets/base",
       "_model_module_version": "2.0.0",
       "_model_name": "LayoutModel",
       "_view_count": null,
       "_view_module": "@jupyter-widgets/base",
       "_view_module_version": "2.0.0",
       "_view_name": "LayoutView",
       "align_content": null,
       "align_items": null,
       "align_self": null,
       "border_bottom": null,
       "border_left": null,
       "border_right": null,
       "border_top": null,
       "bottom": null,
       "display": null,
       "flex": null,
       "flex_flow": null,
       "grid_area": null,
       "grid_auto_columns": null,
       "grid_auto_flow": null,
       "grid_auto_rows": null,
       "grid_column": null,
       "grid_gap": null,
       "grid_row": null,
       "grid_template_areas": null,
       "grid_template_columns": null,
       "grid_template_rows": null,
       "height": null,
       "justify_content": null,
       "justify_items": null,
       "left": null,
       "margin": null,
       "max_height": null,
       "max_width": null,
       "min_height": null,
       "min_width": null,
       "object_fit": null,
       "object_position": null,
       "order": null,
       "overflow": null,
       "padding": null,
       "right": null,
       "top": null,
       "visibility": null,
       "width": null
      }
     },
     "bce7e8c07166439e87efffd28aa7e1d0": {
      "model_module": "@jupyter-widgets/controls",
      "model_module_version": "2.0.0",
      "model_name": "HTMLStyleModel",
      "state": {
       "_model_module": "@jupyter-widgets/controls",
       "_model_module_version": "2.0.0",
       "_model_name": "HTMLStyleModel",
       "_view_count": null,
       "_view_module": "@jupyter-widgets/base",
       "_view_module_version": "2.0.0",
       "_view_name": "StyleView",
       "background": null,
       "description_width": "",
       "font_size": null,
       "text_color": null
      }
     },
     "bdc12b32ee9b45e9905664871aeb3009": {
      "model_module": "@jupyter-widgets/base",
      "model_module_version": "2.0.0",
      "model_name": "LayoutModel",
      "state": {
       "_model_module": "@jupyter-widgets/base",
       "_model_module_version": "2.0.0",
       "_model_name": "LayoutModel",
       "_view_count": null,
       "_view_module": "@jupyter-widgets/base",
       "_view_module_version": "2.0.0",
       "_view_name": "LayoutView",
       "align_content": null,
       "align_items": null,
       "align_self": null,
       "border_bottom": null,
       "border_left": null,
       "border_right": null,
       "border_top": null,
       "bottom": null,
       "display": null,
       "flex": null,
       "flex_flow": null,
       "grid_area": null,
       "grid_auto_columns": null,
       "grid_auto_flow": null,
       "grid_auto_rows": null,
       "grid_column": null,
       "grid_gap": null,
       "grid_row": null,
       "grid_template_areas": null,
       "grid_template_columns": null,
       "grid_template_rows": null,
       "height": null,
       "justify_content": null,
       "justify_items": null,
       "left": null,
       "margin": null,
       "max_height": null,
       "max_width": null,
       "min_height": null,
       "min_width": null,
       "object_fit": null,
       "object_position": null,
       "order": null,
       "overflow": null,
       "padding": null,
       "right": null,
       "top": null,
       "visibility": null,
       "width": null
      }
     },
     "c103f4a519e84e71a782b67426a7b733": {
      "model_module": "@jupyter-widgets/base",
      "model_module_version": "2.0.0",
      "model_name": "LayoutModel",
      "state": {
       "_model_module": "@jupyter-widgets/base",
       "_model_module_version": "2.0.0",
       "_model_name": "LayoutModel",
       "_view_count": null,
       "_view_module": "@jupyter-widgets/base",
       "_view_module_version": "2.0.0",
       "_view_name": "LayoutView",
       "align_content": null,
       "align_items": null,
       "align_self": null,
       "border_bottom": null,
       "border_left": null,
       "border_right": null,
       "border_top": null,
       "bottom": null,
       "display": null,
       "flex": null,
       "flex_flow": null,
       "grid_area": null,
       "grid_auto_columns": null,
       "grid_auto_flow": null,
       "grid_auto_rows": null,
       "grid_column": null,
       "grid_gap": null,
       "grid_row": null,
       "grid_template_areas": null,
       "grid_template_columns": null,
       "grid_template_rows": null,
       "height": null,
       "justify_content": null,
       "justify_items": null,
       "left": null,
       "margin": null,
       "max_height": null,
       "max_width": null,
       "min_height": null,
       "min_width": null,
       "object_fit": null,
       "object_position": null,
       "order": null,
       "overflow": null,
       "padding": null,
       "right": null,
       "top": null,
       "visibility": null,
       "width": null
      }
     },
     "c15b5c805e7343fbbe86d47d4d1dee4c": {
      "model_module": "@jupyter-widgets/base",
      "model_module_version": "2.0.0",
      "model_name": "LayoutModel",
      "state": {
       "_model_module": "@jupyter-widgets/base",
       "_model_module_version": "2.0.0",
       "_model_name": "LayoutModel",
       "_view_count": null,
       "_view_module": "@jupyter-widgets/base",
       "_view_module_version": "2.0.0",
       "_view_name": "LayoutView",
       "align_content": null,
       "align_items": null,
       "align_self": null,
       "border_bottom": null,
       "border_left": null,
       "border_right": null,
       "border_top": null,
       "bottom": null,
       "display": null,
       "flex": null,
       "flex_flow": null,
       "grid_area": null,
       "grid_auto_columns": null,
       "grid_auto_flow": null,
       "grid_auto_rows": null,
       "grid_column": null,
       "grid_gap": null,
       "grid_row": null,
       "grid_template_areas": null,
       "grid_template_columns": null,
       "grid_template_rows": null,
       "height": null,
       "justify_content": null,
       "justify_items": null,
       "left": null,
       "margin": null,
       "max_height": null,
       "max_width": null,
       "min_height": null,
       "min_width": null,
       "object_fit": null,
       "object_position": null,
       "order": null,
       "overflow": null,
       "padding": null,
       "right": null,
       "top": null,
       "visibility": null,
       "width": null
      }
     },
     "c4bf2bfe46894f3c9a8807f55c9d8ec4": {
      "model_module": "@jupyter-widgets/controls",
      "model_module_version": "2.0.0",
      "model_name": "HTMLModel",
      "state": {
       "_dom_classes": [],
       "_model_module": "@jupyter-widgets/controls",
       "_model_module_version": "2.0.0",
       "_model_name": "HTMLModel",
       "_view_count": null,
       "_view_module": "@jupyter-widgets/controls",
       "_view_module_version": "2.0.0",
       "_view_name": "HTMLView",
       "description": "",
       "description_allow_html": false,
       "layout": "IPY_MODEL_3a28dc5ab125405a84b312b82ff8d5f0",
       "placeholder": "​",
       "style": "IPY_MODEL_7b92b024499c46a7aeee7eb11dae2027",
       "tabbable": null,
       "tooltip": null,
       "value": "Checking EOPatches: 100%"
      }
     },
     "c91dda506154490eb958c4f9794e01bd": {
      "model_module": "@jupyter-widgets/controls",
      "model_module_version": "2.0.0",
      "model_name": "HTMLModel",
      "state": {
       "_dom_classes": [],
       "_model_module": "@jupyter-widgets/controls",
       "_model_module_version": "2.0.0",
       "_model_name": "HTMLModel",
       "_view_count": null,
       "_view_module": "@jupyter-widgets/controls",
       "_view_module_version": "2.0.0",
       "_view_name": "HTMLView",
       "description": "",
       "description_allow_html": false,
       "layout": "IPY_MODEL_5ceafdf2bc9e4fc7b318885fe7640870",
       "placeholder": "​",
       "style": "IPY_MODEL_9445aee9a80d4f20926743c2d7d340eb",
       "tabbable": null,
       "tooltip": null,
       "value": "100%"
      }
     },
     "ce355557e00f429aa5bab3d13a6bc428": {
      "model_module": "@jupyter-widgets/base",
      "model_module_version": "2.0.0",
      "model_name": "LayoutModel",
      "state": {
       "_model_module": "@jupyter-widgets/base",
       "_model_module_version": "2.0.0",
       "_model_name": "LayoutModel",
       "_view_count": null,
       "_view_module": "@jupyter-widgets/base",
       "_view_module_version": "2.0.0",
       "_view_name": "LayoutView",
       "align_content": null,
       "align_items": null,
       "align_self": null,
       "border_bottom": null,
       "border_left": null,
       "border_right": null,
       "border_top": null,
       "bottom": null,
       "display": null,
       "flex": null,
       "flex_flow": null,
       "grid_area": null,
       "grid_auto_columns": null,
       "grid_auto_flow": null,
       "grid_auto_rows": null,
       "grid_column": null,
       "grid_gap": null,
       "grid_row": null,
       "grid_template_areas": null,
       "grid_template_columns": null,
       "grid_template_rows": null,
       "height": null,
       "justify_content": null,
       "justify_items": null,
       "left": null,
       "margin": null,
       "max_height": null,
       "max_width": null,
       "min_height": null,
       "min_width": null,
       "object_fit": null,
       "object_position": null,
       "order": null,
       "overflow": null,
       "padding": null,
       "right": null,
       "top": null,
       "visibility": null,
       "width": null
      }
     },
     "ce8e30e65bae462e8be8e12e2b731124": {
      "model_module": "@jupyter-widgets/controls",
      "model_module_version": "2.0.0",
      "model_name": "HBoxModel",
      "state": {
       "_dom_classes": [],
       "_model_module": "@jupyter-widgets/controls",
       "_model_module_version": "2.0.0",
       "_model_name": "HBoxModel",
       "_view_count": null,
       "_view_module": "@jupyter-widgets/controls",
       "_view_module_version": "2.0.0",
       "_view_name": "HBoxView",
       "box_style": "",
       "children": [
        "IPY_MODEL_1288b1662ba5496ca123ca7384e80ea9",
        "IPY_MODEL_ec548a39ffd2491f9cb41549da6de1d0",
        "IPY_MODEL_6e29db5748774df48ebda27478f43172"
       ],
       "layout": "IPY_MODEL_c15b5c805e7343fbbe86d47d4d1dee4c",
       "tabbable": null,
       "tooltip": null
      }
     },
     "d851464c9b004e518c107ee46e7cb9d4": {
      "model_module": "@jupyter-widgets/controls",
      "model_module_version": "2.0.0",
      "model_name": "HBoxModel",
      "state": {
       "_dom_classes": [],
       "_model_module": "@jupyter-widgets/controls",
       "_model_module_version": "2.0.0",
       "_model_name": "HBoxModel",
       "_view_count": null,
       "_view_module": "@jupyter-widgets/controls",
       "_view_module_version": "2.0.0",
       "_view_name": "HBoxView",
       "box_style": "",
       "children": [
        "IPY_MODEL_e11e56070adc473fa4317d9fa8ee413c",
        "IPY_MODEL_0c7d2dbc7bb4476b8fb2c701009b8c06",
        "IPY_MODEL_112275b0822a48c9bfd2c7d04cc7ce63"
       ],
       "layout": "IPY_MODEL_b811b692d3ef4a30ac1563b22eba8c1b",
       "tabbable": null,
       "tooltip": null
      }
     },
     "d971b8f852ee4a4396bd292ec11c0f49": {
      "model_module": "@jupyter-widgets/controls",
      "model_module_version": "2.0.0",
      "model_name": "HTMLModel",
      "state": {
       "_dom_classes": [],
       "_model_module": "@jupyter-widgets/controls",
       "_model_module_version": "2.0.0",
       "_model_name": "HTMLModel",
       "_view_count": null,
       "_view_module": "@jupyter-widgets/controls",
       "_view_module_version": "2.0.0",
       "_view_name": "HTMLView",
       "description": "",
       "description_allow_html": false,
       "layout": "IPY_MODEL_7b0103df5be542eda7008430efd4b101",
       "placeholder": "​",
       "style": "IPY_MODEL_ead89aa3beea4381aae5317c14e6a8e4",
       "tabbable": null,
       "tooltip": null,
       "value": "100%"
      }
     },
     "db5968f7ef984f9dae97ea1041d907b5": {
      "model_module": "@jupyter-widgets/controls",
      "model_module_version": "2.0.0",
      "model_name": "ProgressStyleModel",
      "state": {
       "_model_module": "@jupyter-widgets/controls",
       "_model_module_version": "2.0.0",
       "_model_name": "ProgressStyleModel",
       "_view_count": null,
       "_view_module": "@jupyter-widgets/base",
       "_view_module_version": "2.0.0",
       "_view_name": "StyleView",
       "bar_color": null,
       "description_width": ""
      }
     },
     "db7a0fcbe2ac452eb07517d57086966a": {
      "model_module": "@jupyter-widgets/controls",
      "model_module_version": "2.0.0",
      "model_name": "HTMLModel",
      "state": {
       "_dom_classes": [],
       "_model_module": "@jupyter-widgets/controls",
       "_model_module_version": "2.0.0",
       "_model_name": "HTMLModel",
       "_view_count": null,
       "_view_module": "@jupyter-widgets/controls",
       "_view_module_version": "2.0.0",
       "_view_name": "HTMLView",
       "description": "",
       "description_allow_html": false,
       "layout": "IPY_MODEL_457fb15e36224bba9dfaef642b1788c4",
       "placeholder": "​",
       "style": "IPY_MODEL_53767da8f1cc4cbba4ce0e8b3355687a",
       "tabbable": null,
       "tooltip": null,
       "value": " 6/6 [00:00&lt;00:00, 57.73it/s]"
      }
     },
     "dc958a4e64544e44af62eb8afb2428b1": {
      "model_module": "@jupyter-widgets/controls",
      "model_module_version": "2.0.0",
      "model_name": "HTMLStyleModel",
      "state": {
       "_model_module": "@jupyter-widgets/controls",
       "_model_module_version": "2.0.0",
       "_model_name": "HTMLStyleModel",
       "_view_count": null,
       "_view_module": "@jupyter-widgets/base",
       "_view_module_version": "2.0.0",
       "_view_name": "StyleView",
       "background": null,
       "description_width": "",
       "font_size": null,
       "text_color": null
      }
     },
     "df8b96e1d9b940f4b7128722f7e023cd": {
      "model_module": "@jupyter-widgets/controls",
      "model_module_version": "2.0.0",
      "model_name": "FloatProgressModel",
      "state": {
       "_dom_classes": [],
       "_model_module": "@jupyter-widgets/controls",
       "_model_module_version": "2.0.0",
       "_model_name": "FloatProgressModel",
       "_view_count": null,
       "_view_module": "@jupyter-widgets/controls",
       "_view_module_version": "2.0.0",
       "_view_name": "ProgressView",
       "bar_style": "success",
       "description": "",
       "description_allow_html": false,
       "layout": "IPY_MODEL_74333e5a09e745398f16903cd430681f",
       "max": 6.0,
       "min": 0.0,
       "orientation": "horizontal",
       "style": "IPY_MODEL_fb08a831c180411ea092ce99125c3588",
       "tabbable": null,
       "tooltip": null,
       "value": 6.0
      }
     },
     "e11e56070adc473fa4317d9fa8ee413c": {
      "model_module": "@jupyter-widgets/controls",
      "model_module_version": "2.0.0",
      "model_name": "HTMLModel",
      "state": {
       "_dom_classes": [],
       "_model_module": "@jupyter-widgets/controls",
       "_model_module_version": "2.0.0",
       "_model_name": "HTMLModel",
       "_view_count": null,
       "_view_module": "@jupyter-widgets/controls",
       "_view_module_version": "2.0.0",
       "_view_name": "HTMLView",
       "description": "",
       "description_allow_html": false,
       "layout": "IPY_MODEL_f5b24daddec842debe409f99afaa5488",
       "placeholder": "​",
       "style": "IPY_MODEL_9939cabfbb444507a5ed7fe35916066b",
       "tabbable": null,
       "tooltip": null,
       "value": "100%"
      }
     },
     "e2b8d61aa7174086a25f034baf2fcf6a": {
      "model_module": "@jupyter-widgets/controls",
      "model_module_version": "2.0.0",
      "model_name": "FloatProgressModel",
      "state": {
       "_dom_classes": [],
       "_model_module": "@jupyter-widgets/controls",
       "_model_module_version": "2.0.0",
       "_model_name": "FloatProgressModel",
       "_view_count": null,
       "_view_module": "@jupyter-widgets/controls",
       "_view_module_version": "2.0.0",
       "_view_name": "ProgressView",
       "bar_style": "success",
       "description": "",
       "description_allow_html": false,
       "layout": "IPY_MODEL_34ce5380bd904eabb3e40d35e766d71c",
       "max": 6.0,
       "min": 0.0,
       "orientation": "horizontal",
       "style": "IPY_MODEL_9d6e6a49274243b390ec5ba8f81f618a",
       "tabbable": null,
       "tooltip": null,
       "value": 6.0
      }
     },
     "e39c68b91c894b0f8f9897a5e0c6accb": {
      "model_module": "@jupyter-widgets/controls",
      "model_module_version": "2.0.0",
      "model_name": "FloatProgressModel",
      "state": {
       "_dom_classes": [],
       "_model_module": "@jupyter-widgets/controls",
       "_model_module_version": "2.0.0",
       "_model_name": "FloatProgressModel",
       "_view_count": null,
       "_view_module": "@jupyter-widgets/controls",
       "_view_module_version": "2.0.0",
       "_view_name": "ProgressView",
       "bar_style": "success",
       "description": "",
       "description_allow_html": false,
       "layout": "IPY_MODEL_23087a9e5cc44e1897c688ddd6a640cb",
       "max": 6.0,
       "min": 0.0,
       "orientation": "horizontal",
       "style": "IPY_MODEL_f67e6fff9c394ce1b59ab77565bd7593",
       "tabbable": null,
       "tooltip": null,
       "value": 6.0
      }
     },
     "e4c321d26b354ac8a38f90ffa01d1335": {
      "model_module": "@jupyter-widgets/controls",
      "model_module_version": "2.0.0",
      "model_name": "HTMLStyleModel",
      "state": {
       "_model_module": "@jupyter-widgets/controls",
       "_model_module_version": "2.0.0",
       "_model_name": "HTMLStyleModel",
       "_view_count": null,
       "_view_module": "@jupyter-widgets/base",
       "_view_module_version": "2.0.0",
       "_view_name": "StyleView",
       "background": null,
       "description_width": "",
       "font_size": null,
       "text_color": null
      }
     },
     "e555dbffb6f6494486583ae6d13def6f": {
      "model_module": "@jupyter-widgets/controls",
      "model_module_version": "2.0.0",
      "model_name": "HBoxModel",
      "state": {
       "_dom_classes": [],
       "_model_module": "@jupyter-widgets/controls",
       "_model_module_version": "2.0.0",
       "_model_name": "HBoxModel",
       "_view_count": null,
       "_view_module": "@jupyter-widgets/controls",
       "_view_module_version": "2.0.0",
       "_view_name": "HBoxView",
       "box_style": "",
       "children": [
        "IPY_MODEL_c91dda506154490eb958c4f9794e01bd",
        "IPY_MODEL_489e5025e2b2427c8b938311fa369368",
        "IPY_MODEL_db7a0fcbe2ac452eb07517d57086966a"
       ],
       "layout": "IPY_MODEL_12f69289e8c2420ca2c7d297a61f09ae",
       "tabbable": null,
       "tooltip": null
      }
     },
     "e6ed31addba64055b4b78f21387e4020": {
      "model_module": "@jupyter-widgets/base",
      "model_module_version": "2.0.0",
      "model_name": "LayoutModel",
      "state": {
       "_model_module": "@jupyter-widgets/base",
       "_model_module_version": "2.0.0",
       "_model_name": "LayoutModel",
       "_view_count": null,
       "_view_module": "@jupyter-widgets/base",
       "_view_module_version": "2.0.0",
       "_view_name": "LayoutView",
       "align_content": null,
       "align_items": null,
       "align_self": null,
       "border_bottom": null,
       "border_left": null,
       "border_right": null,
       "border_top": null,
       "bottom": null,
       "display": null,
       "flex": null,
       "flex_flow": null,
       "grid_area": null,
       "grid_auto_columns": null,
       "grid_auto_flow": null,
       "grid_auto_rows": null,
       "grid_column": null,
       "grid_gap": null,
       "grid_row": null,
       "grid_template_areas": null,
       "grid_template_columns": null,
       "grid_template_rows": null,
       "height": null,
       "justify_content": null,
       "justify_items": null,
       "left": null,
       "margin": null,
       "max_height": null,
       "max_width": null,
       "min_height": null,
       "min_width": null,
       "object_fit": null,
       "object_position": null,
       "order": null,
       "overflow": null,
       "padding": null,
       "right": null,
       "top": null,
       "visibility": null,
       "width": null
      }
     },
     "ead89aa3beea4381aae5317c14e6a8e4": {
      "model_module": "@jupyter-widgets/controls",
      "model_module_version": "2.0.0",
      "model_name": "HTMLStyleModel",
      "state": {
       "_model_module": "@jupyter-widgets/controls",
       "_model_module_version": "2.0.0",
       "_model_name": "HTMLStyleModel",
       "_view_count": null,
       "_view_module": "@jupyter-widgets/base",
       "_view_module_version": "2.0.0",
       "_view_name": "StyleView",
       "background": null,
       "description_width": "",
       "font_size": null,
       "text_color": null
      }
     },
     "ec548a39ffd2491f9cb41549da6de1d0": {
      "model_module": "@jupyter-widgets/controls",
      "model_module_version": "2.0.0",
      "model_name": "FloatProgressModel",
      "state": {
       "_dom_classes": [],
       "_model_module": "@jupyter-widgets/controls",
       "_model_module_version": "2.0.0",
       "_model_name": "FloatProgressModel",
       "_view_count": null,
       "_view_module": "@jupyter-widgets/controls",
       "_view_module_version": "2.0.0",
       "_view_name": "ProgressView",
       "bar_style": "success",
       "description": "",
       "description_allow_html": false,
       "layout": "IPY_MODEL_ce355557e00f429aa5bab3d13a6bc428",
       "max": 6.0,
       "min": 0.0,
       "orientation": "horizontal",
       "style": "IPY_MODEL_0f69ec1c77654dd4acf308172bf50042",
       "tabbable": null,
       "tooltip": null,
       "value": 6.0
      }
     },
     "f141bf0a241e45149d0f395c66797132": {
      "model_module": "@jupyter-widgets/controls",
      "model_module_version": "2.0.0",
      "model_name": "HBoxModel",
      "state": {
       "_dom_classes": [],
       "_model_module": "@jupyter-widgets/controls",
       "_model_module_version": "2.0.0",
       "_model_name": "HBoxModel",
       "_view_count": null,
       "_view_module": "@jupyter-widgets/controls",
       "_view_module_version": "2.0.0",
       "_view_name": "HBoxView",
       "box_style": "",
       "children": [
        "IPY_MODEL_375e197d745a4c669f8c47ff3861230a",
        "IPY_MODEL_0b465054735d45db95e4c7fe4167a727",
        "IPY_MODEL_f8c8132033e14cbba90f3c85799c6a1c"
       ],
       "layout": "IPY_MODEL_5449e41d471247a08128f3d424c18ab6",
       "tabbable": null,
       "tooltip": null
      }
     },
     "f5b24daddec842debe409f99afaa5488": {
      "model_module": "@jupyter-widgets/base",
      "model_module_version": "2.0.0",
      "model_name": "LayoutModel",
      "state": {
       "_model_module": "@jupyter-widgets/base",
       "_model_module_version": "2.0.0",
       "_model_name": "LayoutModel",
       "_view_count": null,
       "_view_module": "@jupyter-widgets/base",
       "_view_module_version": "2.0.0",
       "_view_name": "LayoutView",
       "align_content": null,
       "align_items": null,
       "align_self": null,
       "border_bottom": null,
       "border_left": null,
       "border_right": null,
       "border_top": null,
       "bottom": null,
       "display": null,
       "flex": null,
       "flex_flow": null,
       "grid_area": null,
       "grid_auto_columns": null,
       "grid_auto_flow": null,
       "grid_auto_rows": null,
       "grid_column": null,
       "grid_gap": null,
       "grid_row": null,
       "grid_template_areas": null,
       "grid_template_columns": null,
       "grid_template_rows": null,
       "height": null,
       "justify_content": null,
       "justify_items": null,
       "left": null,
       "margin": null,
       "max_height": null,
       "max_width": null,
       "min_height": null,
       "min_width": null,
       "object_fit": null,
       "object_position": null,
       "order": null,
       "overflow": null,
       "padding": null,
       "right": null,
       "top": null,
       "visibility": null,
       "width": null
      }
     },
     "f67e6fff9c394ce1b59ab77565bd7593": {
      "model_module": "@jupyter-widgets/controls",
      "model_module_version": "2.0.0",
      "model_name": "ProgressStyleModel",
      "state": {
       "_model_module": "@jupyter-widgets/controls",
       "_model_module_version": "2.0.0",
       "_model_name": "ProgressStyleModel",
       "_view_count": null,
       "_view_module": "@jupyter-widgets/base",
       "_view_module_version": "2.0.0",
       "_view_name": "StyleView",
       "bar_color": null,
       "description_width": ""
      }
     },
     "f7845c0005774a368915f3fae9f35ea4": {
      "model_module": "@jupyter-widgets/controls",
      "model_module_version": "2.0.0",
      "model_name": "HTMLModel",
      "state": {
       "_dom_classes": [],
       "_model_module": "@jupyter-widgets/controls",
       "_model_module_version": "2.0.0",
       "_model_name": "HTMLModel",
       "_view_count": null,
       "_view_module": "@jupyter-widgets/controls",
       "_view_module_version": "2.0.0",
       "_view_name": "HTMLView",
       "description": "",
       "description_allow_html": false,
       "layout": "IPY_MODEL_a9f9a856706f48a2a3d9c7f72c9445a8",
       "placeholder": "​",
       "style": "IPY_MODEL_8b27225b934a4cfba3044b5788f1ffb9",
       "tabbable": null,
       "tooltip": null,
       "value": "Deleting temp tiffs: 100%"
      }
     },
     "f8c8132033e14cbba90f3c85799c6a1c": {
      "model_module": "@jupyter-widgets/controls",
      "model_module_version": "2.0.0",
      "model_name": "HTMLModel",
      "state": {
       "_dom_classes": [],
       "_model_module": "@jupyter-widgets/controls",
       "_model_module_version": "2.0.0",
       "_model_name": "HTMLModel",
       "_view_count": null,
       "_view_module": "@jupyter-widgets/controls",
       "_view_module_version": "2.0.0",
       "_view_name": "HTMLView",
       "description": "",
       "description_allow_html": false,
       "layout": "IPY_MODEL_1e01767e64fe4d56a0b3e90a6e4ef5ba",
       "placeholder": "​",
       "style": "IPY_MODEL_7c27060a5d1240279f8efc5edeb9476d",
       "tabbable": null,
       "tooltip": null,
       "value": " 6/6 [00:00&lt;00:00, 155.17it/s]"
      }
     },
     "fb08a831c180411ea092ce99125c3588": {
      "model_module": "@jupyter-widgets/controls",
      "model_module_version": "2.0.0",
      "model_name": "ProgressStyleModel",
      "state": {
       "_model_module": "@jupyter-widgets/controls",
       "_model_module_version": "2.0.0",
       "_model_name": "ProgressStyleModel",
       "_view_count": null,
       "_view_module": "@jupyter-widgets/base",
       "_view_module_version": "2.0.0",
       "_view_name": "StyleView",
       "bar_color": null,
       "description_width": ""
      }
     }
    },
    "version_major": 2,
    "version_minor": 0
   }
  }
 },
 "nbformat": 4,
 "nbformat_minor": 5
}
