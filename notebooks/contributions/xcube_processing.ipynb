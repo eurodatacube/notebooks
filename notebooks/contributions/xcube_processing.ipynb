{
 "cells": [
  {
   "cell_type": "markdown",
   "id": "42719a3e",
   "metadata": {
    "tags": [
     "papermill-error-cell-tag"
    ]
   },
   "source": [
    "<span style=\"color:red; font-family:Helvetica Neue, Helvetica, Arial, sans-serif; font-size:2em;\">An Exception was encountered at '<a href=\"#papermill-error-cell\">In [10]</a>'.</span>"
   ]
  },
  {
   "cell_type": "code",
   "execution_count": 1,
   "id": "8f48ccc8",
   "metadata": {
    "execution": {
     "iopub.execute_input": "2021-10-25T12:20:19.130322Z",
     "iopub.status.busy": "2021-10-25T12:20:19.129398Z",
     "iopub.status.idle": "2021-10-25T12:20:19.185562Z",
     "shell.execute_reply": "2021-10-25T12:20:19.186011Z"
    },
    "papermill": {
     "duration": 0.087332,
     "end_time": "2021-10-25T12:20:19.186211",
     "exception": false,
     "start_time": "2021-10-25T12:20:19.098879",
     "status": "completed"
    },
    "tags": []
   },
   "outputs": [
    {
     "data": {
      "text/html": [
       "<script type=\"text/javascript\">\n",
       "        function toggle(id) {\n",
       "            el = document.getElementById(id);\n",
       "            el.style.display = el.style.display === \"none\" ? \"block\" : \"none\";\n",
       "        }\n",
       "    </script>"
      ],
      "text/plain": [
       "<IPython.core.display.HTML object>"
      ]
     },
     "metadata": {},
     "output_type": "display_data"
    },
    {
     "data": {
      "text/html": [
       "This notebook is compatible with this base image version (user-0.24.5)."
      ],
      "text/plain": [
       "<IPython.core.display.HTML object>"
      ]
     },
     "metadata": {},
     "output_type": "display_data"
    },
    {
     "data": {
      "text/markdown": [
       "\n",
       "\n",
       "---------\n",
       "\n",
       "The following environment variables are available:\n",
       "\n",
       "* `XCUBE_GEN_AUTH_AUD`, `XCUBE_GEN_API_SERVER_PORT`, `XCUBE_GEN_AUTH_DOMAIN`, `XCUBE_GEN_AUTH_CLIENT_ID`, `XCUBE_GEN_AUTH_CLIENT_SECRET`, `XCUBE_GEN_API_SERVER_URL`\n"
      ],
      "text/plain": [
       "<IPython.core.display.Markdown object>"
      ]
     },
     "metadata": {},
     "output_type": "display_data"
    }
   ],
   "source": [
    "from edc import check_compatibility\n",
    "check_compatibility(\"user-0.24.5\", dependencies=[\"XCUBE_GEN\"])"
   ]
  },
  {
   "attachments": {
    "a686797b-fa3a-4578-aa63-1bcf1a593f79.png": {
     "image/png": "[encoded data removed]"
    },
    "d0c52d06-e681-424b-a3a0-748e2cd1db07.png": {
     "image/png": "[encoded data removed]"
    }
   },
   "cell_type": "markdown",
   "id": "portuguese-supervisor",
   "metadata": {
    "papermill": {
     "duration": 0.024599,
     "end_time": "2021-10-25T12:20:19.236452",
     "exception": false,
     "start_time": "2021-10-25T12:20:19.211853",
     "status": "completed"
    },
    "tags": []
   },
   "source": [
    "![EDC_2.png](attachment:d0c52d06-e681-424b-a3a0-748e2cd1db07.png)  &nbsp; &nbsp; &nbsp; ![BC_logo_smaller.png](attachment:a686797b-fa3a-4578-aa63-1bcf1a593f79.png)\n",
    "\n",
    "# xcube Data Cube Generator with custom processing\n",
    "\n",
    "### Phi-Week 2021\n",
    "\n",
    "#### brought to you by Brockmann Consult\n",
    "\n"
   ]
  },
  {
   "cell_type": "code",
   "execution_count": 2,
   "id": "ac1f662c-9c01-4cf1-b456-1664a40964ea",
   "metadata": {
    "execution": {
     "iopub.execute_input": "2021-10-25T12:20:19.289225Z",
     "iopub.status.busy": "2021-10-25T12:20:19.288575Z",
     "iopub.status.idle": "2021-10-25T12:20:19.290441Z",
     "shell.execute_reply": "2021-10-25T12:20:19.290784Z"
    },
    "jupyter": {
     "source_hidden": true
    },
    "papermill": {
     "duration": 0.029138,
     "end_time": "2021-10-25T12:20:19.290890",
     "exception": false,
     "start_time": "2021-10-25T12:20:19.261752",
     "status": "completed"
    },
    "tags": []
   },
   "outputs": [],
   "source": [
    "# This is needed to nicely show the images accessible via the environment variable EDC_PATH\n",
    "import os\n",
    "from IPython.display import display, Image"
   ]
  },
  {
   "cell_type": "code",
   "execution_count": 3,
   "id": "b7c17b83-9ed5-4c68-9750-34a10878b488",
   "metadata": {
    "execution": {
     "iopub.execute_input": "2021-10-25T12:20:19.342864Z",
     "iopub.status.busy": "2021-10-25T12:20:19.342213Z",
     "iopub.status.idle": "2021-10-25T12:20:19.343915Z",
     "shell.execute_reply": "2021-10-25T12:20:19.344256Z"
    },
    "jupyter": {
     "source_hidden": true
    },
    "papermill": {
     "duration": 0.029274,
     "end_time": "2021-10-25T12:20:19.344356",
     "exception": false,
     "start_time": "2021-10-25T12:20:19.315082",
     "status": "completed"
    },
    "tags": []
   },
   "outputs": [],
   "source": [
    "# Paths to necessary images\n",
    "\n",
    "MCI_formula = f'{os.environ[\"EDC_PATH\"]}/notebooks/contributions/xcube_processing/MCI_formula.png'\n",
    "xcube_generator_overview = f'{os.environ[\"EDC_PATH\"]}/notebooks/contributions/xcube_processing/generator.png'\n",
    "xarray_datasets = f'{os.environ[\"EDC_PATH\"]}/notebooks/contributions/xcube_processing/xarray_datasets.png'"
   ]
  },
  {
   "cell_type": "markdown",
   "id": "d8f40de7-dd27-4ade-9bc7-ca059c258a2d",
   "metadata": {
    "papermill": {
     "duration": 0.024487,
     "end_time": "2021-10-25T12:20:19.397341",
     "exception": false,
     "start_time": "2021-10-25T12:20:19.372854",
     "status": "completed"
    },
    "tags": []
   },
   "source": [
    "### Introduction\n",
    "\n",
    "We are interested in Water Quality and would like to use satellite data for some analysis.   \n",
    "The Maximum Chlorophyll Index (MCI) is a great for that, because it is a robust indicator for critical eutrophication situation in any water body and it is used for identification of exceptional situations related to phytoplankton. \n",
    "\n",
    "The MCI can be derived from both, Sentinel 3 and Sentinel 2 because they have suitable spectral bands. This is the formula for MCI, but we will not go into detail there."
   ]
  },
  {
   "cell_type": "code",
   "execution_count": 4,
   "id": "70ad5474-c7e7-4d69-9fbe-d62bb168a700",
   "metadata": {
    "execution": {
     "iopub.execute_input": "2021-10-25T12:20:19.449193Z",
     "iopub.status.busy": "2021-10-25T12:20:19.448671Z",
     "iopub.status.idle": "2021-10-25T12:20:19.600908Z",
     "shell.execute_reply": "2021-10-25T12:20:19.600485Z"
    },
    "jupyter": {
     "source_hidden": true
    },
    "papermill": {
     "duration": 0.179247,
     "end_time": "2021-10-25T12:20:19.601005",
     "exception": false,
     "start_time": "2021-10-25T12:20:19.421758",
     "status": "completed"
    },
    "tags": []
   },
   "outputs": [
    {
     "data": {
      "image/png": "[encoded data removed]",
      "text/plain": [
       "<IPython.core.display.Image object>"
      ]
     },
     "metadata": {},
     "output_type": "display_data"
    }
   ],
   "source": [
    "display(Image(filename=MCI_formula))"
   ]
  },
  {
   "cell_type": "markdown",
   "id": "7249be06-54ba-4d9c-870f-08967a0f3718",
   "metadata": {
    "papermill": {
     "duration": 0.024723,
     "end_time": "2021-10-25T12:20:19.650773",
     "exception": false,
     "start_time": "2021-10-25T12:20:19.626050",
     "status": "completed"
    },
    "tags": []
   },
   "source": [
    "Let's use Sentinel 2 for our example, we need following bands\n",
    "\n",
    "- B04 - Wavelength 665nm\n",
    "- B05 - Wavelength 704nm\n",
    "- B06 - Wavelength 740nm\n",
    "- SCL - Scene classification data, based on Sen2Cor processor\n",
    "- CLD - Cloud probability, based on Sen2Cor processor\n",
    "\n",
    "OK - how does the xcube Generator help here? \n",
    "\n",
    "### xcube & xcube processing\n",
    "xcube is an open source software to generate, manipulate, analyse, and publish data cubes from EO data.  \n",
    "xcube processing has the ambition to bridge the gap from data access to analysis-ready products. \n",
    "xcube is developed by Brockmann Consult and it is one of the approaches to integrate Your Own Algorithm to the EDC Marketplace.\n",
    "\n",
    "Let's have a look how it is strucktured:"
   ]
  },
  {
   "cell_type": "code",
   "execution_count": 5,
   "id": "e380ab44-fc2f-479e-a3b1-4bbe9fda9d5c",
   "metadata": {
    "execution": {
     "iopub.execute_input": "2021-10-25T12:20:19.704288Z",
     "iopub.status.busy": "2021-10-25T12:20:19.703777Z",
     "iopub.status.idle": "2021-10-25T12:20:19.769197Z",
     "shell.execute_reply": "2021-10-25T12:20:19.769539Z"
    },
    "jupyter": {
     "source_hidden": true
    },
    "papermill": {
     "duration": 0.093685,
     "end_time": "2021-10-25T12:20:19.769662",
     "exception": false,
     "start_time": "2021-10-25T12:20:19.675977",
     "status": "completed"
    },
    "tags": []
   },
   "outputs": [
    {
     "data": {
      "image/png": "[encoded data removed]",
      "text/plain": [
       "<IPython.core.display.Image object>"
      ]
     },
     "metadata": {},
     "output_type": "display_data"
    }
   ],
   "source": [
    "display(Image(filename=xcube_generator_overview))"
   ]
  },
  {
   "cell_type": "markdown",
   "id": "4d013b9f-d442-4deb-9669-315f44efdad4",
   "metadata": {
    "papermill": {
     "duration": 0.029066,
     "end_time": "2021-10-25T12:20:19.827372",
     "exception": false,
     "start_time": "2021-10-25T12:20:19.798306",
     "status": "completed"
    },
    "tags": []
   },
   "source": [
    "#### By the way, what are data cubes? \n",
    "\n",
    "An xcube dataset contains one or more (geo-physical) data variables whose values are stored in cells of a common multi-dimensional, spatio-temporal grid. The dimensions are usually time, latitude, and longitude, however other dimensions may be present.\n",
    "\n",
    "Visualisation by [xarray](http://xarray.pydata.org/en/stable/index.html):\n"
   ]
  },
  {
   "cell_type": "code",
   "execution_count": 6,
   "id": "b5ad0edb-d631-42cb-acee-303a12bd081f",
   "metadata": {
    "execution": {
     "iopub.execute_input": "2021-10-25T12:20:19.884264Z",
     "iopub.status.busy": "2021-10-25T12:20:19.883762Z",
     "iopub.status.idle": "2021-10-25T12:20:19.942190Z",
     "shell.execute_reply": "2021-10-25T12:20:19.942534Z"
    },
    "jupyter": {
     "source_hidden": true
    },
    "papermill": {
     "duration": 0.088294,
     "end_time": "2021-10-25T12:20:19.942644",
     "exception": false,
     "start_time": "2021-10-25T12:20:19.854350",
     "status": "completed"
    },
    "tags": []
   },
   "outputs": [
    {
     "data": {
      "image/png": "[encoded data removed]",
      "text/plain": [
       "<IPython.core.display.Image object>"
      ]
     },
     "metadata": {},
     "output_type": "display_data"
    }
   ],
   "source": [
    "display(Image(filename=xarray_datasets))"
   ]
  },
  {
   "cell_type": "markdown",
   "id": "93092d71-ce6c-484a-ae57-1b8a53d66ec1",
   "metadata": {
    "papermill": {
     "duration": 0.028742,
     "end_time": "2021-10-25T12:20:20.000994",
     "exception": false,
     "start_time": "2021-10-25T12:20:19.972252",
     "status": "completed"
    },
    "tags": []
   },
   "source": [
    "This Notebook comprises four sections that describe a typical algorithm development process with xcube BYOA:\n",
    "\n",
    "\n",
    "**1. Fetch Subset Source Cube** request a subset data cube containing the needed input bands  \n",
    "**2. Develop Algorithm** and apply to subset source cube  \n",
    "**3. Package Algorithm** and test with subset source cube  \n",
    "**4. Run Generator Service with processing** on larger dataset  \n",
    "\n",
    "\n",
    "### 1. Fetch Subset Source Cube\n",
    "\n",
    "Here is how we create _cube Generator Request_ from Python classes. \n",
    "First import the relevant classes for setting up a generator request, then\n",
    "we define the input, output and the cube characteristics, finally the request.\n",
    "\n",
    "In this example we first use the **[Sentinel Hub](https://www.sentinel-hub.com/)** data store as input and \n",
    "a **local directory** (the current one) data store as output:"
   ]
  },
  {
   "cell_type": "markdown",
   "id": "3c2bc55d-bcd3-4a94-a495-a91f7a7eead5",
   "metadata": {
    "papermill": {
     "duration": 0.028812,
     "end_time": "2021-10-25T12:20:20.058874",
     "exception": false,
     "start_time": "2021-10-25T12:20:20.030062",
     "status": "completed"
    },
    "tags": []
   },
   "source": [
    "**NOTE:** You need to purchace *EDC xcube Generator* with at least a *medium* plan together with *xcube processing* ([EDC xcube Generator](https://eurodatacube.com/marketplace/services/edc_xcube_generator))"
   ]
  },
  {
   "cell_type": "code",
   "execution_count": 7,
   "id": "49eaff38-7e4a-471e-86f9-ece5ce45c268",
   "metadata": {
    "execution": {
     "iopub.execute_input": "2021-10-25T12:20:20.120344Z",
     "iopub.status.busy": "2021-10-25T12:20:20.119815Z",
     "iopub.status.idle": "2021-10-25T12:20:20.384007Z",
     "shell.execute_reply": "2021-10-25T12:20:20.383479Z"
    },
    "papermill": {
     "duration": 0.295838,
     "end_time": "2021-10-25T12:20:20.384117",
     "exception": false,
     "start_time": "2021-10-25T12:20:20.088279",
     "status": "completed"
    },
    "tags": []
   },
   "outputs": [],
   "source": [
    "import IPython.display\n",
    "import shapely.geometry\n"
   ]
  },
  {
   "cell_type": "code",
   "execution_count": 8,
   "id": "30fb19d9-b399-4caf-8a20-56bc73cb5c1f",
   "metadata": {
    "execution": {
     "iopub.execute_input": "2021-10-25T12:20:20.445089Z",
     "iopub.status.busy": "2021-10-25T12:20:20.444583Z",
     "iopub.status.idle": "2021-10-25T12:20:20.446254Z",
     "shell.execute_reply": "2021-10-25T12:20:20.446612Z"
    },
    "papermill": {
     "duration": 0.033695,
     "end_time": "2021-10-25T12:20:20.446720",
     "exception": false,
     "start_time": "2021-10-25T12:20:20.413025",
     "status": "completed"
    },
    "tags": []
   },
   "outputs": [],
   "source": [
    "bbox=[12.00, 43.05, 12.20, 43.21] # Lago Trasimeno in Italy\n",
    "target_res_m = 100. # desired target resolution"
   ]
  },
  {
   "cell_type": "code",
   "execution_count": 9,
   "id": "35eeff3b-a38f-46a0-be4e-be59d4c3d2d1",
   "metadata": {
    "execution": {
     "iopub.execute_input": "2021-10-25T12:20:20.515104Z",
     "iopub.status.busy": "2021-10-25T12:20:20.514587Z",
     "iopub.status.idle": "2021-10-25T12:20:20.518130Z",
     "shell.execute_reply": "2021-10-25T12:20:20.517566Z"
    },
    "papermill": {
     "duration": 0.035451,
     "end_time": "2021-10-25T12:20:20.518239",
     "exception": false,
     "start_time": "2021-10-25T12:20:20.482788",
     "status": "completed"
    },
    "tags": []
   },
   "outputs": [
    {
     "data": {
      "application/geo+json": {
       "coordinates": [
        [
         [
          12.2,
          43.05
         ],
         [
          12.2,
          43.21
         ],
         [
          12.0,
          43.21
         ],
         [
          12.0,
          43.05
         ],
         [
          12.2,
          43.05
         ]
        ]
       ],
       "type": "Polygon"
      },
      "text/plain": [
       "<IPython.display.GeoJSON object>"
      ]
     },
     "metadata": {
      "application/geo+json": {
       "expanded": false,
       "root": "root"
      }
     },
     "output_type": "display_data"
    }
   ],
   "source": [
    "IPython.display.GeoJSON(shapely.geometry.box(*bbox).__geo_interface__)"
   ]
  },
  {
   "cell_type": "markdown",
   "id": "documentary-terry",
   "metadata": {
    "papermill": {
     "duration": 0.032537,
     "end_time": "2021-10-25T12:20:20.579452",
     "exception": false,
     "start_time": "2021-10-25T12:20:20.546915",
     "status": "completed"
    },
    "tags": []
   },
   "source": [
    "Import the generator class:"
   ]
  },
  {
   "cell_type": "markdown",
   "id": "9cf35025",
   "metadata": {
    "tags": [
     "papermill-error-cell-tag"
    ]
   },
   "source": [
    "<span id=\"papermill-error-cell\" style=\"color:red; font-family:Helvetica Neue, Helvetica, Arial, sans-serif; font-size:2em;\">Execution using papermill encountered an exception here and stopped:</span>"
   ]
  },
  {
   "cell_type": "code",
   "execution_count": 10,
   "id": "accomplished-belgium",
   "metadata": {
    "execution": {
     "iopub.execute_input": "2021-10-25T12:20:20.643048Z",
     "iopub.status.busy": "2021-10-25T12:20:20.642539Z",
     "iopub.status.idle": "2021-10-25T12:20:22.530028Z",
     "shell.execute_reply": "2021-10-25T12:20:22.529110Z"
    },
    "papermill": {
     "duration": 1.920751,
     "end_time": "2021-10-25T12:20:22.530245",
     "exception": true,
     "start_time": "2021-10-25T12:20:20.609494",
     "status": "failed"
    },
    "tags": []
   },
   "outputs": [
    {
     "ename": "ImportError",
     "evalue": "cannot import name 'ServiceConfig' from 'xcube.core.gen2' (/opt/conda/envs/eurodatacube-0.24.5/lib/python3.8/site-packages/xcube/core/gen2/__init__.py)",
     "output_type": "error",
     "traceback": [
      "\u001b[0;31m---------------------------------------------------------------------------\u001b[0m",
      "\u001b[0;31mImportError\u001b[0m                               Traceback (most recent call last)",
      "\u001b[0;32m<ipython-input-10-6dd41e8ef3ec>\u001b[0m in \u001b[0;36m<module>\u001b[0;34m\u001b[0m\n\u001b[1;32m      4\u001b[0m \u001b[0;32mfrom\u001b[0m \u001b[0mxcube\u001b[0m\u001b[0;34m.\u001b[0m\u001b[0mcore\u001b[0m\u001b[0;34m.\u001b[0m\u001b[0mgen2\u001b[0m \u001b[0;32mimport\u001b[0m \u001b[0mCubeGeneratorRequest\u001b[0m\u001b[0;34m\u001b[0m\u001b[0;34m\u001b[0m\u001b[0m\n\u001b[1;32m      5\u001b[0m \u001b[0;32mfrom\u001b[0m \u001b[0mxcube\u001b[0m\u001b[0;34m.\u001b[0m\u001b[0mcore\u001b[0m\u001b[0;34m.\u001b[0m\u001b[0mgen2\u001b[0m \u001b[0;32mimport\u001b[0m \u001b[0mCubeGenerator\u001b[0m\u001b[0;34m\u001b[0m\u001b[0;34m\u001b[0m\u001b[0m\n\u001b[0;32m----> 6\u001b[0;31m \u001b[0;32mfrom\u001b[0m \u001b[0mxcube\u001b[0m\u001b[0;34m.\u001b[0m\u001b[0mcore\u001b[0m\u001b[0;34m.\u001b[0m\u001b[0mgen2\u001b[0m \u001b[0;32mimport\u001b[0m \u001b[0mServiceConfig\u001b[0m\u001b[0;34m\u001b[0m\u001b[0;34m\u001b[0m\u001b[0m\n\u001b[0m\u001b[1;32m      7\u001b[0m \u001b[0;34m\u001b[0m\u001b[0m\n\u001b[1;32m      8\u001b[0m \u001b[0;32mfrom\u001b[0m \u001b[0mxcube\u001b[0m\u001b[0;34m.\u001b[0m\u001b[0mcore\u001b[0m\u001b[0;34m.\u001b[0m\u001b[0mdsio\u001b[0m \u001b[0;32mimport\u001b[0m \u001b[0mopen_cube\u001b[0m\u001b[0;34m\u001b[0m\u001b[0;34m\u001b[0m\u001b[0m\n",
      "\u001b[0;31mImportError\u001b[0m: cannot import name 'ServiceConfig' from 'xcube.core.gen2' (/opt/conda/envs/eurodatacube-0.24.5/lib/python3.8/site-packages/xcube/core/gen2/__init__.py)"
     ]
    }
   ],
   "source": [
    "from xcube.core.gen2 import InputConfig\n",
    "from xcube.core.gen2 import CubeConfig\n",
    "from xcube.core.gen2 import OutputConfig\n",
    "from xcube.core.gen2 import CubeGeneratorRequest\n",
    "from xcube.core.gen2 import CubeGenerator\n",
    "from xcube.core.gen2 import ServiceConfig\n",
    "\n",
    "from xcube.core.dsio import open_cube \n",
    "from math import radians, cos\n",
    "import xarray as xr\n",
    "\n",
    "%matplotlib inline"
   ]
  },
  {
   "cell_type": "code",
   "execution_count": null,
   "id": "3d465c5f-b54d-41e0-85b7-9f7a22ba6624",
   "metadata": {
    "papermill": {
     "duration": null,
     "end_time": null,
     "exception": null,
     "start_time": null,
     "status": "pending"
    },
    "tags": []
   },
   "outputs": [],
   "source": [
    "# function to calculate degrees from meters\n",
    "def deg_lon_from_m(m, lat_deg):\n",
    "    one_degree_at_equator = 111319\n",
    "    return m / (one_degree_at_equator * cos(radians(lat_deg)))"
   ]
  },
  {
   "cell_type": "markdown",
   "id": "b247db22-211d-4f96-871d-9fcf19385d46",
   "metadata": {
    "papermill": {
     "duration": null,
     "end_time": null,
     "exception": null,
     "start_time": null,
     "status": "pending"
    },
    "tags": []
   },
   "source": [
    "Instantiate the generator object"
   ]
  },
  {
   "cell_type": "code",
   "execution_count": null,
   "id": "4a39880c-5df6-4a56-b3ea-8bcf294834a1",
   "metadata": {
    "papermill": {
     "duration": null,
     "end_time": null,
     "exception": null,
     "start_time": null,
     "status": "pending"
    },
    "tags": []
   },
   "outputs": [],
   "source": [
    "input_config = InputConfig(\n",
    "    store_id=\"sentinelhub\",\n",
    "    data_id=\"S2L2A\",\n",
    "    open_params=dict(\n",
    "        time_tolerance=\"30m\"\n",
    "    )\n",
    ")\n",
    "\n",
    "cube_config = CubeConfig(\n",
    "   variable_names=['B04', 'B05', 'B06', 'SCL', 'CLD'],\n",
    "   tile_size=[512, 512],\n",
    "   spatial_res=deg_lon_from_m(target_res_m, (bbox[1]+bbox[3])/2.),           \n",
    "   bbox = bbox,      \n",
    "   time_period=\"4D\",                         \n",
    "   time_range=['2021-07-01', '2021-08-31'],  # 2 months / 4 days --> 16 time steps       \n",
    ")\n",
    "\n",
    "output_config = OutputConfig(\n",
    "    store_id=\"file\",\n",
    "    store_params=dict(\n",
    "        root=\".\"\n",
    "    ),\n",
    "    replace=True,\n",
    "    data_id=\"cube_italy.zarr\"\n",
    ")"
   ]
  },
  {
   "cell_type": "code",
   "execution_count": null,
   "id": "9364b264-da4f-4fbc-b335-0a9bd329a791",
   "metadata": {
    "papermill": {
     "duration": null,
     "end_time": null,
     "exception": null,
     "start_time": null,
     "status": "pending"
    },
    "tags": []
   },
   "outputs": [],
   "source": [
    "request = CubeGeneratorRequest(\n",
    "    input_config=input_config,\n",
    "    cube_config=cube_config,\n",
    "    output_config=output_config\n",
    ")\n",
    "\n",
    "request"
   ]
  },
  {
   "cell_type": "code",
   "execution_count": null,
   "id": "adaptive-liability",
   "metadata": {
    "papermill": {
     "duration": null,
     "end_time": null,
     "exception": null,
     "start_time": null,
     "status": "pending"
    },
    "tags": []
   },
   "outputs": [],
   "source": [
    "local_generator = CubeGenerator.new()"
   ]
  },
  {
   "cell_type": "markdown",
   "id": "geological-visibility",
   "metadata": {
    "papermill": {
     "duration": null,
     "end_time": null,
     "exception": null,
     "start_time": null,
     "status": "pending"
    },
    "tags": []
   },
   "source": [
    "Get some information about the cube that would be generated by `local_generator` (this may take seconds to minutes):"
   ]
  },
  {
   "cell_type": "code",
   "execution_count": null,
   "id": "accessory-container",
   "metadata": {
    "papermill": {
     "duration": null,
     "end_time": null,
     "exception": null,
     "start_time": null,
     "status": "pending"
    },
    "tags": []
   },
   "outputs": [],
   "source": [
    "cube_info = local_generator.get_cube_info(request)\n",
    "cube_info"
   ]
  },
  {
   "cell_type": "markdown",
   "id": "agreed-mistress",
   "metadata": {
    "papermill": {
     "duration": null,
     "end_time": null,
     "exception": null,
     "start_time": null,
     "status": "pending"
    },
    "tags": []
   },
   "source": [
    "Now perform the actual cube generation (again, this may take seconds to minutes):"
   ]
  },
  {
   "cell_type": "code",
   "execution_count": null,
   "id": "realistic-prediction",
   "metadata": {
    "papermill": {
     "duration": null,
     "end_time": null,
     "exception": null,
     "start_time": null,
     "status": "pending"
    },
    "tags": []
   },
   "outputs": [],
   "source": [
    "result = local_generator.generate_cube(request)\n",
    "result"
   ]
  },
  {
   "cell_type": "markdown",
   "id": "336c1ccf-0466-4827-98eb-9cfad1b02cc0",
   "metadata": {
    "papermill": {
     "duration": null,
     "end_time": null,
     "exception": null,
     "start_time": null,
     "status": "pending"
    },
    "tags": []
   },
   "source": [
    "A reference to the generated cube is found in the `result` object using its `result` property:"
   ]
  },
  {
   "cell_type": "code",
   "execution_count": null,
   "id": "a4e8963a-cd75-4752-8e3d-39fc6ad705f4",
   "metadata": {
    "papermill": {
     "duration": null,
     "end_time": null,
     "exception": null,
     "start_time": null,
     "status": "pending"
    },
    "tags": []
   },
   "outputs": [],
   "source": [
    "cube_id = result.result.data_id"
   ]
  },
  {
   "cell_type": "markdown",
   "id": "homeless-court",
   "metadata": {
    "papermill": {
     "duration": null,
     "end_time": null,
     "exception": null,
     "start_time": null,
     "status": "pending"
    },
    "tags": []
   },
   "source": [
    "Let's open the generated cube:"
   ]
  },
  {
   "cell_type": "code",
   "execution_count": null,
   "id": "involved-detroit",
   "metadata": {
    "papermill": {
     "duration": null,
     "end_time": null,
     "exception": null,
     "start_time": null,
     "status": "pending"
    },
    "tags": []
   },
   "outputs": [],
   "source": [
    "source_cube = open_cube(cube_id)\n",
    "source_cube"
   ]
  },
  {
   "cell_type": "markdown",
   "id": "coastal-skiing",
   "metadata": {
    "papermill": {
     "duration": null,
     "end_time": null,
     "exception": null,
     "start_time": null,
     "status": "pending"
    },
    "tags": []
   },
   "source": [
    "### 2. Algorithm Development\n",
    "\n",
    "Now that we have the data cube, we want to start some algorithm development. Namely, we want to generate a new data layer called _Maximum Chlorophyll Index (MCI)_ for inland waters from the S2L2A bands `B04`, `B05`, and `B06`. "
   ]
  },
  {
   "cell_type": "code",
   "execution_count": null,
   "id": "starting-tomato",
   "metadata": {
    "papermill": {
     "duration": null,
     "end_time": null,
     "exception": null,
     "start_time": null,
     "status": "pending"
    },
    "tags": []
   },
   "outputs": [],
   "source": [
    "source_cube.B05"
   ]
  },
  {
   "cell_type": "code",
   "execution_count": null,
   "id": "liberal-overhead",
   "metadata": {
    "papermill": {
     "duration": null,
     "end_time": null,
     "exception": null,
     "start_time": null,
     "status": "pending"
    },
    "tags": []
   },
   "outputs": [],
   "source": [
    "source_cube.B05.isel(time=-1).plot.imshow(figsize=(20, 15), vmin=0, vmax=0.2, cmap='Greys_r')"
   ]
  },
  {
   "cell_type": "markdown",
   "id": "chronic-marketing",
   "metadata": {
    "papermill": {
     "duration": null,
     "end_time": null,
     "exception": null,
     "start_time": null,
     "status": "pending"
    },
    "tags": []
   },
   "source": [
    "We want the algorithm to operator only on water pixels. \n",
    "Luckily the S2L2A dataset above provides some _scene classification flags_ in variable `SCL` that we can\n",
    "use to mask out unwanted land and cloud pixels."
   ]
  },
  {
   "cell_type": "code",
   "execution_count": null,
   "id": "temporal-tournament",
   "metadata": {
    "papermill": {
     "duration": null,
     "end_time": null,
     "exception": null,
     "start_time": null,
     "status": "pending"
    },
    "tags": []
   },
   "outputs": [],
   "source": [
    "from xcube.core.maskset import MaskSet\n",
    "\n",
    "scene_classif = MaskSet(source_cube.SCL)\n",
    "scene_classif"
   ]
  },
  {
   "cell_type": "code",
   "execution_count": null,
   "id": "junior-antigua",
   "metadata": {
    "papermill": {
     "duration": null,
     "end_time": null,
     "exception": null,
     "start_time": null,
     "status": "pending"
    },
    "tags": []
   },
   "outputs": [],
   "source": [
    "scene_classif.water"
   ]
  },
  {
   "cell_type": "code",
   "execution_count": null,
   "id": "approved-sacramento",
   "metadata": {
    "papermill": {
     "duration": null,
     "end_time": null,
     "exception": null,
     "start_time": null,
     "status": "pending"
    },
    "tags": []
   },
   "outputs": [],
   "source": [
    "scene_classif.water.isel(time=-1).plot.imshow(figsize=(20, 15))"
   ]
  },
  {
   "cell_type": "markdown",
   "id": "aggressive-genome",
   "metadata": {
    "papermill": {
     "duration": null,
     "end_time": null,
     "exception": null,
     "start_time": null,
     "status": "pending"
    },
    "tags": []
   },
   "source": [
    "We'll now code the algorithm:"
   ]
  },
  {
   "cell_type": "code",
   "execution_count": null,
   "id": "appreciated-print",
   "metadata": {
    "papermill": {
     "duration": null,
     "end_time": null,
     "exception": null,
     "start_time": null,
     "status": "pending"
    },
    "tags": []
   },
   "outputs": [],
   "source": [
    "from typing import Any, Dict\n",
    "import numpy as np\n",
    "\n",
    "\n",
    "def compute_mci_var(b_from: np.ndarray, \n",
    "                    b_peek: np.ndarray,\n",
    "                    b_to: np.ndarray, \n",
    "                    input_params: Dict[str, Any], \n",
    "                    dim_coords: Dict[str, np.ndarray]):\n",
    "    \"\"\"Compute Maximum Chlorophyll Index (MCI) from three reflectances.\"\"\"\n",
    "    \n",
    "    # The first three arguments are chunks of the three input variables we define below. \n",
    "    # You can name them as you like. They are pure 3D numpy arrays.\n",
    "    \n",
    "    # The 'input_params' argument is a standard parameter that we define in the call below.\n",
    "    wlen_from = input_params['wlen_from']\n",
    "    wlen_peek = input_params['wlen_peek']\n",
    "    wlen_to = input_params['wlen_to']\n",
    "    \n",
    "    # The 'dim_coords' argument is optional and provides the coordinate values for all dimension \n",
    "    # of the current chunk. We don't use it here, but for many algorithms this is important \n",
    "    # information (e.g. looking up aux data).\n",
    "    lon, lat = (dim_coords[dim] for dim in ('lon', 'lat'))\n",
    "    # print('dim_coords from', lon[0], lat[0], 'to', lon[-1], lat[-1])\n",
    "    \n",
    "    # You can use any popular data packages such as numpy, scipy, dask here,\n",
    "    # or we can use ML packages such as scikitlearn!\n",
    "    # For simplity, we do some simple array math here:\n",
    "\n",
    "    f = (wlen_peek - wlen_from) / (wlen_to - wlen_from)\n",
    "    mci = (b_peek - b_from) - f * (b_to - b_from)\n",
    "\n",
    "    return mci"
   ]
  },
  {
   "cell_type": "markdown",
   "id": "fewer-interpretation",
   "metadata": {
    "papermill": {
     "duration": null,
     "end_time": null,
     "exception": null,
     "start_time": null,
     "status": "pending"
    },
    "tags": []
   },
   "source": [
    "We now write the actual _dataset processor function_. We already code in the way xcube expects it for the generator service. This is, the function's first argument is the data cube (of type `xr.Dataset`) generated so far according to `cube_config` and `input_config` xcubes expects it to. The remaining keyword-arguments are later provided by the user through the `code_config` object. The return value must again be a data cube (of type `xr.Dataset`).\n",
    "\n",
    "We use the xcube function `compute_cube` to apply our MCI-algorithm to each of the cube's chunks. Finally we store some metadata in our output."
   ]
  },
  {
   "cell_type": "code",
   "execution_count": null,
   "id": "proof-location",
   "metadata": {
    "papermill": {
     "duration": null,
     "end_time": null,
     "exception": null,
     "start_time": null,
     "status": "pending"
    },
    "tags": []
   },
   "outputs": [],
   "source": [
    "from xcube.core.compute import compute_cube\n",
    "\n",
    "def compute_mci_cube(source_cube: xr.Dataset, **processing_params) -> xr.Dataset:\n",
    "    \"\"\"\n",
    "    Compute a new data cube with a single variable 'mci' (Maximum Chlorophyll Index) \n",
    "    from three reflectances.\n",
    "    \n",
    "    Note the parameter *processing_params* can be used to pass user-defined\n",
    "    parameters into the function. However, they are not used here.\n",
    "    \"\"\"\n",
    "    \n",
    "    # Mask out non-water pixels\n",
    "    scene_classif = MaskSet(source_cube.SCL)    \n",
    "    water_cube = source_cube.where(scene_classif.water)\n",
    "    \n",
    "    input_params = dict(wlen_from=water_cube.B04.attrs['wavelength'],\n",
    "                        wlen_peek=water_cube.B05.attrs['wavelength'],\n",
    "                        wlen_to=water_cube.B06.attrs['wavelength'])\n",
    "    \n",
    "    # concurrently compute the cube; chunks are processed in parallel\n",
    "    mci_cube = compute_cube(compute_mci_var, \n",
    "                            water_cube, \n",
    "                            input_var_names=['B04', 'B05', 'B06'], \n",
    "                            input_params=input_params, \n",
    "                            output_var_name='MCI')\n",
    "    # the MCI variable\n",
    "    mci = mci_cube['MCI']\n",
    "\n",
    "    # Return a copy of the source cube plus the MCI variable\n",
    "    mci.attrs['long_name'] = 'Maximum Chlorophyll Index'\n",
    "    mci.attrs['units'] = 'unitless'\n",
    "\n",
    "    # Return a copy of the source cube plus the MCI variable\n",
    "    return source_cube.assign(MCI=mci.astype(np.float32))    "
   ]
  },
  {
   "cell_type": "markdown",
   "id": "tight-happening",
   "metadata": {
    "papermill": {
     "duration": null,
     "end_time": null,
     "exception": null,
     "start_time": null,
     "status": "pending"
    },
    "tags": []
   },
   "source": [
    "We can now call the processor function `compute_mci_cube` to generate a new cube that contains the `MCI` variable. Note that no computation is performed yet. Chunks will be computed once demanded. For every requested chunk, the function `compute_mci_var` is called."
   ]
  },
  {
   "cell_type": "code",
   "execution_count": null,
   "id": "czech-apartment",
   "metadata": {
    "papermill": {
     "duration": null,
     "end_time": null,
     "exception": null,
     "start_time": null,
     "status": "pending"
    },
    "tags": []
   },
   "outputs": [],
   "source": [
    "mci_cube = compute_mci_cube(source_cube)\n",
    "mci_cube"
   ]
  },
  {
   "cell_type": "markdown",
   "id": "offshore-belgium",
   "metadata": {
    "papermill": {
     "duration": null,
     "end_time": null,
     "exception": null,
     "start_time": null,
     "status": "pending"
    },
    "tags": []
   },
   "source": [
    "The dataset looks ok, now visually inspect MCI:"
   ]
  },
  {
   "cell_type": "code",
   "execution_count": null,
   "id": "3225174f-1e73-4fee-9559-2d148a9d944d",
   "metadata": {
    "papermill": {
     "duration": null,
     "end_time": null,
     "exception": null,
     "start_time": null,
     "status": "pending"
    },
    "tags": []
   },
   "outputs": [],
   "source": [
    "mci_cube.MCI.isel(time=-1).plot.imshow(figsize=(20, 15), vmin=0, vmax=0.02, cmap='plasma')"
   ]
  },
  {
   "cell_type": "code",
   "execution_count": null,
   "id": "67dbc6f4-9ffa-483e-9041-e4dc1179c592",
   "metadata": {
    "papermill": {
     "duration": null,
     "end_time": null,
     "exception": null,
     "start_time": null,
     "status": "pending"
    },
    "tags": []
   },
   "outputs": [],
   "source": [
    "mci_cube.MCI.plot.imshow(col='time', col_wrap=4, vmin=0, vmax=0.02, cmap='plasma', figsize=(20, 15))"
   ]
  },
  {
   "cell_type": "markdown",
   "id": "generous-front",
   "metadata": {
    "papermill": {
     "duration": null,
     "end_time": null,
     "exception": null,
     "start_time": null,
     "status": "pending"
    },
    "tags": []
   },
   "source": [
    "### 3. Algorithm Packaging\n",
    "\n",
    "We now have a tiny local data cube and a working algorithm. Now the final goal is to scale up and \n",
    "run the algorithm remotely, on much more data, and with much much more computational power.\n",
    "\n",
    "Before we proceed to the EDC xcube Generator Service, we will try running the local cube generator \n",
    "with our code. This will allow us finding bugs early, which is much harder with the algorithm \n",
    "executed by the serivce. If it runs fine locally, we have more confidence when running the \n",
    "algorithm remotely.\n",
    "\n",
    "Because the `compute_mci_cube()` function comprises  only little code, we use the\n",
    "`CodeConfig.from_code()` method to create a code configuration that uses one single inline code\n",
    "string which will be passed to the generator: "
   ]
  },
  {
   "cell_type": "code",
   "execution_count": null,
   "id": "taken-radar",
   "metadata": {
    "papermill": {
     "duration": null,
     "end_time": null,
     "exception": null,
     "start_time": null,
     "status": "pending"
    },
    "tags": []
   },
   "outputs": [],
   "source": [
    "from xcube.core.gen2 import CodeConfig\n",
    "\n",
    "code_config = CodeConfig.from_code(\n",
    "    # Pass required imports as inline code.    \n",
    "    \"from typing import Any, Dict\",\n",
    "    \"import numpy as np\",\n",
    "    \"import xarray as xr\",\n",
    "    \"from xcube.core.maskset import MaskSet\",\n",
    "    \"from xcube.core.compute import compute_cube\",\n",
    "    # Functions can be passed as references\n",
    "    compute_mci_cube,\n",
    "    compute_mci_var,\n",
    "    module_name='mci_processor',\n",
    ")"
   ]
  },
  {
   "cell_type": "code",
   "execution_count": null,
   "id": "resistant-spider",
   "metadata": {
    "papermill": {
     "duration": null,
     "end_time": null,
     "exception": null,
     "start_time": null,
     "status": "pending"
    },
    "tags": []
   },
   "outputs": [],
   "source": [
    "# Call code_config.get_callable() to test whether code_config is valid.\n",
    "# If it is valid, it should return a function refernce.\n",
    "code_config.get_callable()"
   ]
  },
  {
   "cell_type": "markdown",
   "id": "british-clause",
   "metadata": {
    "papermill": {
     "duration": null,
     "end_time": null,
     "exception": null,
     "start_time": null,
     "status": "pending"
    },
    "tags": []
   },
   "source": [
    "Two code configuration factory methods can be used for convenience, while the algorithm code base remains small:\n",
    "\n",
    "* `CodeConfig.from_code(*code, ...)` - The one used above, it creates an inline code string configuration.\n",
    "* `CodeConfig.from_callable(function, ...)` - Detects the code base for the given *function* given that it is defined in a file, creates a Python module, then creates a code configuration for it.\n",
    "\n",
    "If our algorithm code base grows, we should consider developing a Python module. Then we can provide a reference to its directory\n",
    "directly or pack it as a Zip archive, or even host it on GitHub and use a GitHub release:\n",
    "\n",
    "* `CodeConfig.from_file_set(file_set, ...)` - Creates a code configuration for a Python module (directory or Zip archive), local or remote. You can use URLs with **https** or **s3** protocol that point to Zip archives.\n",
    "* `CodeConfig.from_github_archive(gh_org, gh_repo, ...)` - Creates a code configuration for a GitHub archive (still experimental).\n",
    "\n",
    "Once we have a working code configuration, we can create the generator request:"
   ]
  },
  {
   "cell_type": "markdown",
   "id": "above-crest",
   "metadata": {
    "papermill": {
     "duration": null,
     "end_time": null,
     "exception": null,
     "start_time": null,
     "status": "pending"
    },
    "tags": []
   },
   "source": [
    " "
   ]
  },
  {
   "cell_type": "markdown",
   "id": "occupational-ranch",
   "metadata": {
    "papermill": {
     "duration": null,
     "end_time": null,
     "exception": null,
     "start_time": null,
     "status": "pending"
    },
    "tags": []
   },
   "source": [
    "### 4. Run BYOA Generator Service\n",
    "\n",
    "After packaging the algorithm, the final goal is to scale up and run the algorithm remotely, on more data, and with more computational power. See also Notebook [xcube Remote Cube Generator](./3_remote.ipynb)\n",
    "\n",
    "We use the EuroDataCube xcube Generator service for scaling up. "
   ]
  },
  {
   "cell_type": "code",
   "execution_count": null,
   "id": "5f822ee2-50e6-4e3f-bd04-8203e365dfb1",
   "metadata": {
    "papermill": {
     "duration": null,
     "end_time": null,
     "exception": null,
     "start_time": null,
     "status": "pending"
    },
    "tags": []
   },
   "outputs": [],
   "source": [
    "bbox=[11.83, 42.05, 12.32, 43.21] # Italian Lakes close to Rome\n",
    "target_res_m = 100."
   ]
  },
  {
   "cell_type": "code",
   "execution_count": null,
   "id": "29896238-34ef-471f-af48-350aa7d476e5",
   "metadata": {
    "papermill": {
     "duration": null,
     "end_time": null,
     "exception": null,
     "start_time": null,
     "status": "pending"
    },
    "tags": []
   },
   "outputs": [],
   "source": [
    "IPython.display.GeoJSON(shapely.geometry.box(*bbox).__geo_interface__)"
   ]
  },
  {
   "cell_type": "markdown",
   "id": "a50de485-590a-41ed-8990-701f20fc14a7",
   "metadata": {
    "papermill": {
     "duration": null,
     "end_time": null,
     "exception": null,
     "start_time": null,
     "status": "pending"
    },
    "tags": []
   },
   "source": [
    "Both the local Data Cube Generator and the Cube Generator Service clients use the same generator request format. It comprises specification of data sources (`input_config`), the data cube parameters (`cube_config`), the optional specification of optional user code (`code_config`), and finally the specification of the data sink (`output_config`). The `input_config` and `output_config` specifications refernce instances of _xcube Data Stores_ (see dedicated example Notebooks)."
   ]
  },
  {
   "cell_type": "code",
   "execution_count": null,
   "id": "9c7b6cd4-94a9-4ab9-b1da-88ea30d85441",
   "metadata": {
    "papermill": {
     "duration": null,
     "end_time": null,
     "exception": null,
     "start_time": null,
     "status": "pending"
    },
    "tags": []
   },
   "outputs": [],
   "source": [
    "cube_config = CubeConfig(\n",
    "   variable_names=['B04', 'B05', 'B06', 'SCL', 'CLD'],\n",
    "   tile_size=[512, 512],\n",
    "   spatial_res=deg_lon_from_m(target_res_m, (bbox[1]+bbox[3])/2.),\n",
    "   bbox=bbox,        \n",
    "   time_period=\"4D\",                         \n",
    "   time_range=['2021-08-01', '2021-08-31'],  # 2 months / 4 days --> 16 time steps\n",
    "   metadata=dict(title='Italian Lakes August 2021'), \n",
    ")"
   ]
  },
  {
   "cell_type": "code",
   "execution_count": null,
   "id": "speaking-worker",
   "metadata": {
    "papermill": {
     "duration": null,
     "end_time": null,
     "exception": null,
     "start_time": null,
     "status": "pending"
    },
    "tags": []
   },
   "outputs": [],
   "source": [
    "input_config = InputConfig(\n",
    "    # This refers to the Sentinel Hub deployment in Europe. \n",
    "    store_id=\"@sentinelhub_eu\",\n",
    "    data_id=\"S2L2A\",\n",
    "    open_params=dict(\n",
    "        time_tolerance=\"30m\"\n",
    "    )\n",
    ")\n",
    "\n",
    "output_config = OutputConfig(\n",
    "    # This refers to https://s3.eu-central-1.amazonaws.com/eurodatacube-scratch/\n",
    "    store_id=\"@eurodatacube_scratch\", # cubes stored in eurodatacube-scratch bucket persist for 4 days\n",
    "    replace=True,\n",
    "    data_id=\"Italian_Lakes_phiweek2021.zarr\"\n",
    ")\n",
    "\n",
    "service_request = CubeGeneratorRequest(\n",
    "    input_config=input_config,\n",
    "    cube_config=cube_config,\n",
    "    code_config=code_config,\n",
    "    output_config=output_config\n",
    ")\n",
    "service_request"
   ]
  },
  {
   "cell_type": "markdown",
   "id": "b5645497-1b44-4db6-b0dc-68bf36181b3d",
   "metadata": {
    "papermill": {
     "duration": null,
     "end_time": null,
     "exception": null,
     "start_time": null,
     "status": "pending"
    },
    "tags": []
   },
   "source": [
    "The manual creation of the service_config_json will not be required in future versions.\n"
   ]
  },
  {
   "cell_type": "markdown",
   "id": "953b148d-5321-4173-b2bd-1fc77b6e7ace",
   "metadata": {
    "papermill": {
     "duration": null,
     "end_time": null,
     "exception": null,
     "start_time": null,
     "status": "pending"
    },
    "tags": []
   },
   "source": [
    "We create a new remote cube generator with the service configuration from an external file:"
   ]
  },
  {
   "cell_type": "code",
   "execution_count": null,
   "id": "59994660-6c55-4f80-9a9f-56e0642aaa07",
   "metadata": {
    "papermill": {
     "duration": null,
     "end_time": null,
     "exception": null,
     "start_time": null,
     "status": "pending"
    },
    "tags": []
   },
   "outputs": [],
   "source": [
    "edc_service_path = f'{os.environ[\"EDC_PATH\"]}/notebooks/contributions/xcube_processing/edc-service.yml'"
   ]
  },
  {
   "cell_type": "code",
   "execution_count": null,
   "id": "361262fb-0b78-433c-8998-8c7e17430490",
   "metadata": {
    "papermill": {
     "duration": null,
     "end_time": null,
     "exception": null,
     "start_time": null,
     "status": "pending"
    },
    "tags": []
   },
   "outputs": [],
   "source": [
    "generator_service = CubeGenerator.new(service_config=edc_service_path, verbosity=1)"
   ]
  },
  {
   "cell_type": "code",
   "execution_count": null,
   "id": "ef0a566b-9346-4070-9618-bc659cae8701",
   "metadata": {
    "papermill": {
     "duration": null,
     "end_time": null,
     "exception": null,
     "start_time": null,
     "status": "pending"
    },
    "tags": []
   },
   "outputs": [],
   "source": [
    "generator_service.get_cube_info(service_request)"
   ]
  },
  {
   "cell_type": "markdown",
   "id": "authentic-gathering",
   "metadata": {
    "papermill": {
     "duration": null,
     "end_time": null,
     "exception": null,
     "start_time": null,
     "status": "pending"
    },
    "tags": []
   },
   "source": [
    "Let's invoke the generator service. This time we catch a possible cube generator error, so we can analyse it later."
   ]
  },
  {
   "cell_type": "code",
   "execution_count": null,
   "id": "fewer-footwear",
   "metadata": {
    "papermill": {
     "duration": null,
     "end_time": null,
     "exception": null,
     "start_time": null,
     "status": "pending"
    },
    "tags": []
   },
   "outputs": [],
   "source": [
    "from xcube.core.gen2 import CubeGeneratorError\n",
    "\n",
    "result = generator_service.generate_cube(service_request)\n",
    "result"
   ]
  },
  {
   "cell_type": "markdown",
   "id": "d86630a4-c7a7-4af1-a4d5-05323cc222ff",
   "metadata": {
    "papermill": {
     "duration": null,
     "end_time": null,
     "exception": null,
     "start_time": null,
     "status": "pending"
    },
    "tags": []
   },
   "source": [
    "If `result.status` is `\"warning\"` or `\"error\"`, the fields `result.message`, `result.traceback`, and `result.output` may provide more information about the source of the error.\n",
    "\n",
    "If `result.status` is `\"ok\"`, we should have a valid `cube_id` in the cube reference `result.result`. "
   ]
  },
  {
   "cell_type": "code",
   "execution_count": null,
   "id": "ee73d697-c066-40c0-ae9c-31593913c9dd",
   "metadata": {
    "papermill": {
     "duration": null,
     "end_time": null,
     "exception": null,
     "start_time": null,
     "status": "pending"
    },
    "tags": []
   },
   "outputs": [],
   "source": [
    "cube_id = result.result.data_id"
   ]
  },
  {
   "cell_type": "code",
   "execution_count": null,
   "id": "7ba814e3-81a9-417f-b8ce-75cb6f837058",
   "metadata": {
    "papermill": {
     "duration": null,
     "end_time": null,
     "exception": null,
     "start_time": null,
     "status": "pending"
    },
    "tags": []
   },
   "outputs": [],
   "source": [
    "cube_id"
   ]
  },
  {
   "cell_type": "markdown",
   "id": "8bab7d14-44af-4cdc-896a-6e0693aa7274",
   "metadata": {
    "papermill": {
     "duration": null,
     "end_time": null,
     "exception": null,
     "start_time": null,
     "status": "pending"
    },
    "tags": []
   },
   "source": [
    "We can open the generated cube directly from the `@eurodatacube_scratch` data store since it refers to a public read-only S3 bucket on AWS. Its URL template is\n",
    "\n",
    "    https://s3.eu-central-1.amazonaws.com/eurodatacube-scratch/{cube_id}\n",
    "\n",
    "We use the xcube function `open_cube` to open cubes from a URL: "
   ]
  },
  {
   "cell_type": "code",
   "execution_count": null,
   "id": "972fb8ac-31a3-4ffd-8d3a-f51d5cf2cb8e",
   "metadata": {
    "papermill": {
     "duration": null,
     "end_time": null,
     "exception": null,
     "start_time": null,
     "status": "pending"
    },
    "tags": []
   },
   "outputs": [],
   "source": [
    "cube = open_cube(f'https://s3.eu-central-1.amazonaws.com/eurodatacube-scratch/{cube_id}', s3_kwargs=dict(anon=True))"
   ]
  },
  {
   "cell_type": "code",
   "execution_count": null,
   "id": "32fe147b-b817-4fc7-977e-bbc56b9f5fb4",
   "metadata": {
    "papermill": {
     "duration": null,
     "end_time": null,
     "exception": null,
     "start_time": null,
     "status": "pending"
    },
    "tags": []
   },
   "outputs": [],
   "source": [
    "cube"
   ]
  },
  {
   "cell_type": "code",
   "execution_count": null,
   "id": "d6a12156-5c94-43d2-9390-e020597fea72",
   "metadata": {
    "papermill": {
     "duration": null,
     "end_time": null,
     "exception": null,
     "start_time": null,
     "status": "pending"
    },
    "tags": []
   },
   "outputs": [],
   "source": [
    "cube.MCI.isel(time=-1).plot.imshow(figsize=(15, 25), vmin=0, vmax=0.02, cmap='plasma')"
   ]
  },
  {
   "cell_type": "code",
   "execution_count": null,
   "id": "ae83fdd0-c55b-412d-9d43-8b4ec9f89f0c",
   "metadata": {
    "papermill": {
     "duration": null,
     "end_time": null,
     "exception": null,
     "start_time": null,
     "status": "pending"
    },
    "tags": []
   },
   "outputs": [],
   "source": []
  }
 ],
 "metadata": {
  "kernelspec": {
   "display_name": "EDC 0.25.0-preview.1 (Python3)",
   "language": "python",
   "name": "edc"
  },
  "language_info": {
   "codemirror_mode": {
    "name": "ipython",
    "version": 3
   },
   "file_extension": ".py",
   "mimetype": "text/x-python",
   "name": "python",
   "nbconvert_exporter": "python",
   "pygments_lexer": "ipython3",
   "version": "3.8.10"
  },
  "papermill": {
   "default_parameters": {},
   "duration": 4.981876,
   "end_time": "2021-10-25T12:20:23.235514",
   "environment_variables": {},
   "exception": true,
   "input_path": "/tmp/tmp0unzo16y",
   "output_path": "/tmp/notebook_output.ipynb",
   "parameters": {},
   "start_time": "2021-10-25T12:20:18.253638",
   "version": "2.3.3"
  },
  "properties": {
   "authors": [
    {
     "id": "139b9f28-6757-4ffa-8345-3f658eb33850",
     "name": "alicja.balfanz@brockmann-consult.de"
    }
   ],
   "description": "xcube processing for algorithm development e.g. for BYOA",
   "id": "c565b3ce-ec7b-4efb-b42a-2028ea4abfb4",
   "license": null,
   "name": "xcube processing for algorithm development",
   "requirements": [
    "eurodatacube-xcube-gen"
   ],
   "tags": [
    "xcube",
    "Jupyter"
   ],
   "tosAgree": true,
   "type": "Jupyter Notebook",
   "version": "0.0.1"
  }
 },
 "nbformat": 4,
 "nbformat_minor": 5
}