{
 "cells": [
  {
   "cell_type": "code",
   "execution_count": 1,
   "id": "01354a2a",
   "metadata": {
    "execution": {
     "iopub.execute_input": "2021-06-22T06:05:06.246841Z",
     "iopub.status.busy": "2021-06-22T06:05:06.245837Z",
     "iopub.status.idle": "2021-06-22T06:05:12.020663Z",
     "shell.execute_reply": "2021-06-22T06:05:12.019729Z"
    },
    "papermill": {
     "duration": 5.811034,
     "end_time": "2021-06-22T06:05:12.020927",
     "exception": false,
     "start_time": "2021-06-22T06:05:06.209893",
     "status": "completed"
    },
    "tags": []
   },
   "outputs": [
    {
     "data": {
      "text/markdown": [
       "\n",
       "***Notebook Title***  \n",
       "GeoDB: Explore Datasets\n",
       "\n",
       "***Notebook Description***  \n",
       "Euro Data Cube GeoDB: Explore Datasets\n",
       "\n",
       "\n",
       "***Notebook Dependencies***  \n",
       "This notebook requires an active subscription to:\n",
       "* EDC GeoDB\n"
      ],
      "text/plain": [
       "<IPython.core.display.Markdown object>"
      ]
     },
     "metadata": {},
     "output_type": "display_data"
    }
   ],
   "source": [
    "from edc import print_info\n",
    "print_info(\"geodb-explore\")"
   ]
  },
  {
   "cell_type": "code",
   "execution_count": 2,
   "id": "d50d3e1c",
   "metadata": {
    "execution": {
     "iopub.execute_input": "2021-06-22T06:05:12.074463Z",
     "iopub.status.busy": "2021-06-22T06:05:12.073362Z",
     "iopub.status.idle": "2021-06-22T06:05:12.083252Z",
     "shell.execute_reply": "2021-06-22T06:05:12.083888Z"
    },
    "papermill": {
     "duration": 0.040193,
     "end_time": "2021-06-22T06:05:12.084079",
     "exception": false,
     "start_time": "2021-06-22T06:05:12.043886",
     "status": "completed"
    },
    "tags": []
   },
   "outputs": [
    {
     "data": {
      "text/html": [
       "<script type=\"text/javascript\">\n",
       "        function toggle(id) {\n",
       "            el = document.getElementById(id);\n",
       "            el.style.display = el.style.display === \"none\" ? \"block\" : \"none\";\n",
       "        }\n",
       "    </script>"
      ],
      "text/plain": [
       "<IPython.core.display.HTML object>"
      ]
     },
     "metadata": {},
     "output_type": "display_data"
    },
    {
     "data": {
      "text/html": [
       "This notebook is compatible with this base image version (user-0.24.5)."
      ],
      "text/plain": [
       "<IPython.core.display.HTML object>"
      ]
     },
     "metadata": {},
     "output_type": "display_data"
    },
    {
     "data": {
      "text/markdown": [
       "\n",
       "\n",
       "---------\n",
       "\n",
       "The following environment variables are available:\n",
       "\n",
       "* `GEODB_AUTH_AUD`, `GEODB_AUTH_CLIENT_ID`, `GEODB_AUTH_DOMAIN`, `GEODB_API_SERVER_URL`, `GEODB_AUTH_CLIENT_SECRET`, `GEODB_API_SERVER_PORT`\n"
      ],
      "text/plain": [
       "<IPython.core.display.Markdown object>"
      ]
     },
     "metadata": {},
     "output_type": "display_data"
    }
   ],
   "source": [
    "from edc import check_compatibility\n",
    "check_compatibility(\"user-0.24.5\", dependencies=[\"GEODB\"])"
   ]
  },
  {
   "cell_type": "markdown",
   "id": "43674ab0",
   "metadata": {
    "papermill": {
     "duration": 0.025493,
     "end_time": "2021-06-22T06:05:12.150796",
     "exception": false,
     "start_time": "2021-06-22T06:05:12.125303",
     "status": "completed"
    },
    "tags": []
   },
   "source": [
    "## Exploring Data\n",
    "\n",
    "\n"
   ]
  },
  {
   "cell_type": "code",
   "execution_count": 3,
   "id": "849c113a",
   "metadata": {
    "execution": {
     "iopub.execute_input": "2021-06-22T06:05:12.211218Z",
     "iopub.status.busy": "2021-06-22T06:05:12.210123Z",
     "iopub.status.idle": "2021-06-22T06:05:12.930221Z",
     "shell.execute_reply": "2021-06-22T06:05:12.929462Z"
    },
    "papermill": {
     "duration": 0.753551,
     "end_time": "2021-06-22T06:05:12.930370",
     "exception": false,
     "start_time": "2021-06-22T06:05:12.176819",
     "status": "completed"
    },
    "tags": []
   },
   "outputs": [],
   "source": [
    "from xcube_geodb.core.geodb import GeoDBClient"
   ]
  },
  {
   "cell_type": "code",
   "execution_count": 4,
   "id": "575047fc",
   "metadata": {
    "execution": {
     "iopub.execute_input": "2021-06-22T06:05:12.984137Z",
     "iopub.status.busy": "2021-06-22T06:05:12.983337Z",
     "iopub.status.idle": "2021-06-22T06:05:12.986482Z",
     "shell.execute_reply": "2021-06-22T06:05:12.985657Z"
    },
    "papermill": {
     "duration": 0.033477,
     "end_time": "2021-06-22T06:05:12.986635",
     "exception": false,
     "start_time": "2021-06-22T06:05:12.953158",
     "status": "completed"
    },
    "tags": []
   },
   "outputs": [],
   "source": [
    "geodb = GeoDBClient()"
   ]
  },
  {
   "cell_type": "markdown",
   "id": "81992a8e",
   "metadata": {
    "papermill": {
     "duration": 0.02874,
     "end_time": "2021-06-22T06:05:13.048733",
     "exception": false,
     "start_time": "2021-06-22T06:05:13.019993",
     "status": "completed"
    },
    "tags": []
   },
   "source": [
    "### Get your user name"
   ]
  },
  {
   "cell_type": "code",
   "execution_count": 5,
   "id": "64aa2c4e",
   "metadata": {
    "execution": {
     "iopub.execute_input": "2021-06-22T06:05:13.120603Z",
     "iopub.status.busy": "2021-06-22T06:05:13.119433Z",
     "iopub.status.idle": "2021-06-22T06:05:14.034380Z",
     "shell.execute_reply": "2021-06-22T06:05:14.033575Z"
    },
    "papermill": {
     "duration": 0.953538,
     "end_time": "2021-06-22T06:05:14.034529",
     "exception": false,
     "start_time": "2021-06-22T06:05:13.080991",
     "status": "completed"
    },
    "tags": []
   },
   "outputs": [
    {
     "data": {
      "text/plain": [
       "'geodb_418dfeac-15f0-4606-9edb-fd9eb722bf04'"
      ]
     },
     "execution_count": 5,
     "metadata": {},
     "output_type": "execute_result"
    }
   ],
   "source": [
    "geodb.whoami"
   ]
  },
  {
   "cell_type": "code",
   "execution_count": 6,
   "id": "2c71ef46",
   "metadata": {
    "execution": {
     "iopub.execute_input": "2021-06-22T06:05:14.096108Z",
     "iopub.status.busy": "2021-06-22T06:05:14.095243Z",
     "iopub.status.idle": "2021-06-22T06:05:15.387637Z",
     "shell.execute_reply": "2021-06-22T06:05:15.388237Z"
    },
    "papermill": {
     "duration": 1.330489,
     "end_time": "2021-06-22T06:05:15.388391",
     "exception": false,
     "start_time": "2021-06-22T06:05:14.057902",
     "status": "completed"
    },
    "tags": []
   },
   "outputs": [],
   "source": [
    "ds = geodb.get_my_collections()\n",
    "\n",
    "if ds[(ds.database == geodb.whoami) & (ds.table_name == 'land_use')].table_name.count() == 0:\n",
    "    # Have a look at fiona feature schema\n",
    "    collections = {\n",
    "            \"land_use\": \n",
    "            {\n",
    "                \"crs\": 3794,\n",
    "                \"properties\": \n",
    "                {\n",
    "                    \"RABA_PID\": \"float\", \n",
    "                    \"RABA_ID\": \"float\", \n",
    "                    \"D_OD\": \"date\"\n",
    "                }\n",
    "            }\n",
    "        }\n",
    "\n",
    "\n",
    "    geodb.create_collections(collections)\n",
    "    import geopandas\n",
    "    import os\n",
    "    gdf = geopandas.read_file(os.path.expanduser(\"~/.shared/notebooks/eurodatacube/notebooks/getting-started/data/sample/land_use.shp\"))\n",
    "    geodb.insert_into_collection('land_use', gdf)"
   ]
  },
  {
   "cell_type": "markdown",
   "id": "ebca92e5",
   "metadata": {
    "papermill": {
     "duration": 0.025297,
     "end_time": "2021-06-22T06:05:15.440127",
     "exception": false,
     "start_time": "2021-06-22T06:05:15.414830",
     "status": "completed"
    },
    "pycharm": {
     "is_executing": false
    },
    "tags": []
   },
   "source": [
    "### List Datasets\n",
    "\n",
    "__Step 1__: List all datasets a user has access to."
   ]
  },
  {
   "cell_type": "code",
   "execution_count": 7,
   "id": "841a811e",
   "metadata": {
    "execution": {
     "iopub.execute_input": "2021-06-22T06:05:15.488187Z",
     "iopub.status.busy": "2021-06-22T06:05:15.487464Z",
     "iopub.status.idle": "2021-06-22T06:05:15.839410Z",
     "shell.execute_reply": "2021-06-22T06:05:15.839928Z"
    },
    "papermill": {
     "duration": 0.378511,
     "end_time": "2021-06-22T06:05:15.840124",
     "exception": false,
     "start_time": "2021-06-22T06:05:15.461613",
     "status": "completed"
    },
    "tags": []
   },
   "outputs": [
    {
     "data": {
      "text/plain": [
       "{'usage': None}"
      ]
     },
     "execution_count": 7,
     "metadata": {},
     "output_type": "execute_result"
    }
   ],
   "source": [
    "geodb.get_my_usage() # to be updated so that all available collections are displayed includign sensible information ont heir availability, e.g. public, purchased, etc.."
   ]
  },
  {
   "cell_type": "code",
   "execution_count": 8,
   "id": "92f5feb4",
   "metadata": {
    "execution": {
     "iopub.execute_input": "2021-06-22T06:05:15.894283Z",
     "iopub.status.busy": "2021-06-22T06:05:15.893352Z",
     "iopub.status.idle": "2021-06-22T06:05:16.413888Z",
     "shell.execute_reply": "2021-06-22T06:05:16.412919Z"
    },
    "papermill": {
     "duration": 0.549624,
     "end_time": "2021-06-22T06:05:16.414077",
     "exception": false,
     "start_time": "2021-06-22T06:05:15.864453",
     "status": "completed"
    },
    "tags": []
   },
   "outputs": [
    {
     "data": {
      "text/html": [
       "<div>\n",
       "<style scoped>\n",
       "    .dataframe tbody tr th:only-of-type {\n",
       "        vertical-align: middle;\n",
       "    }\n",
       "\n",
       "    .dataframe tbody tr th {\n",
       "        vertical-align: top;\n",
       "    }\n",
       "\n",
       "    .dataframe thead th {\n",
       "        text-align: right;\n",
       "    }\n",
       "</style>\n",
       "<table border=\"1\" class=\"dataframe\">\n",
       "  <thead>\n",
       "    <tr style=\"text-align: right;\">\n",
       "      <th></th>\n",
       "      <th>owner</th>\n",
       "      <th>database</th>\n",
       "      <th>table_name</th>\n",
       "    </tr>\n",
       "  </thead>\n",
       "  <tbody>\n",
       "    <tr>\n",
       "      <th>0</th>\n",
       "      <td>geodb_0b01bfcd-2d09-46f8-84e8-cb5720fba14c</td>\n",
       "      <td>geodb_0b01bfcd-2d09-46f8-84e8-cb5720fba14c</td>\n",
       "      <td>delineated_parcels_s</td>\n",
       "    </tr>\n",
       "    <tr>\n",
       "      <th>1</th>\n",
       "      <td>geodb_0b01bfcd-2d09-46f8-84e8-cb5720fba14c</td>\n",
       "      <td>geodb_0b01bfcd-2d09-46f8-84e8-cb5720fba14c</td>\n",
       "      <td>test_batic</td>\n",
       "    </tr>\n",
       "    <tr>\n",
       "      <th>2</th>\n",
       "      <td>geodb_0b01bfcd-2d09-46f8-84e8-cb5720fba14c</td>\n",
       "      <td>phi_week</td>\n",
       "      <td>alster</td>\n",
       "    </tr>\n",
       "    <tr>\n",
       "      <th>3</th>\n",
       "      <td>geodb_0b01bfcd-2d09-46f8-84e8-cb5720fba14c</td>\n",
       "      <td>phi_week</td>\n",
       "      <td>gran_chaco</td>\n",
       "    </tr>\n",
       "    <tr>\n",
       "      <th>4</th>\n",
       "      <td>geodb_0d6df427-8c09-41b9-abc9-64ce13a68125</td>\n",
       "      <td>geodb_0d6df427-8c09-41b9-abc9-64ce13a68125</td>\n",
       "      <td>land_use</td>\n",
       "    </tr>\n",
       "    <tr>\n",
       "      <th>...</th>\n",
       "      <td>...</td>\n",
       "      <td>...</td>\n",
       "      <td>...</td>\n",
       "    </tr>\n",
       "    <tr>\n",
       "      <th>896</th>\n",
       "      <td>geodb_lpis_iacs_admin</td>\n",
       "      <td>anja</td>\n",
       "      <td>N4a</td>\n",
       "    </tr>\n",
       "    <tr>\n",
       "      <th>897</th>\n",
       "      <td>geodb_lpis_iacs_admin</td>\n",
       "      <td>anja</td>\n",
       "      <td>race_indicators</td>\n",
       "    </tr>\n",
       "    <tr>\n",
       "      <th>898</th>\n",
       "      <td>geodb_lpis_iacs_admin</td>\n",
       "      <td>lpis_iacs</td>\n",
       "      <td>land_use_slo</td>\n",
       "    </tr>\n",
       "    <tr>\n",
       "      <th>899</th>\n",
       "      <td>geodb_lpis_iacs_admin</td>\n",
       "      <td>lpis_iacs</td>\n",
       "      <td>lpis_aut</td>\n",
       "    </tr>\n",
       "    <tr>\n",
       "      <th>900</th>\n",
       "      <td>geodb_lpis_iacs_admin</td>\n",
       "      <td>lpis_iacs</td>\n",
       "      <td>lpis_slo</td>\n",
       "    </tr>\n",
       "  </tbody>\n",
       "</table>\n",
       "<p>901 rows × 3 columns</p>\n",
       "</div>"
      ],
      "text/plain": [
       "                                          owner  \\\n",
       "0    geodb_0b01bfcd-2d09-46f8-84e8-cb5720fba14c   \n",
       "1    geodb_0b01bfcd-2d09-46f8-84e8-cb5720fba14c   \n",
       "2    geodb_0b01bfcd-2d09-46f8-84e8-cb5720fba14c   \n",
       "3    geodb_0b01bfcd-2d09-46f8-84e8-cb5720fba14c   \n",
       "4    geodb_0d6df427-8c09-41b9-abc9-64ce13a68125   \n",
       "..                                          ...   \n",
       "896                       geodb_lpis_iacs_admin   \n",
       "897                       geodb_lpis_iacs_admin   \n",
       "898                       geodb_lpis_iacs_admin   \n",
       "899                       geodb_lpis_iacs_admin   \n",
       "900                       geodb_lpis_iacs_admin   \n",
       "\n",
       "                                       database            table_name  \n",
       "0    geodb_0b01bfcd-2d09-46f8-84e8-cb5720fba14c  delineated_parcels_s  \n",
       "1    geodb_0b01bfcd-2d09-46f8-84e8-cb5720fba14c            test_batic  \n",
       "2                                      phi_week                alster  \n",
       "3                                      phi_week            gran_chaco  \n",
       "4    geodb_0d6df427-8c09-41b9-abc9-64ce13a68125              land_use  \n",
       "..                                          ...                   ...  \n",
       "896                                        anja                   N4a  \n",
       "897                                        anja       race_indicators  \n",
       "898                                   lpis_iacs          land_use_slo  \n",
       "899                                   lpis_iacs              lpis_aut  \n",
       "900                                   lpis_iacs              lpis_slo  \n",
       "\n",
       "[901 rows x 3 columns]"
      ]
     },
     "execution_count": 8,
     "metadata": {},
     "output_type": "execute_result"
    }
   ],
   "source": [
    "geodb.get_my_collections()"
   ]
  },
  {
   "cell_type": "markdown",
   "id": "c6b6d03f",
   "metadata": {
    "papermill": {
     "duration": 0.026324,
     "end_time": "2021-06-22T06:05:16.475866",
     "exception": false,
     "start_time": "2021-06-22T06:05:16.449542",
     "status": "completed"
    },
    "tags": []
   },
   "source": [
    "__Step 2__: Let's get the whole content of a particular data set."
   ]
  },
  {
   "cell_type": "code",
   "execution_count": 9,
   "id": "1eacd43f",
   "metadata": {
    "execution": {
     "iopub.execute_input": "2021-06-22T06:05:16.543666Z",
     "iopub.status.busy": "2021-06-22T06:05:16.541477Z",
     "iopub.status.idle": "2021-06-22T06:05:34.376249Z",
     "shell.execute_reply": "2021-06-22T06:05:34.375442Z"
    },
    "papermill": {
     "duration": 17.875551,
     "end_time": "2021-06-22T06:05:34.376404",
     "exception": false,
     "start_time": "2021-06-22T06:05:16.500853",
     "status": "completed"
    },
    "tags": []
   },
   "outputs": [
    {
     "data": {
      "text/html": [
       "<div>\n",
       "<style scoped>\n",
       "    .dataframe tbody tr th:only-of-type {\n",
       "        vertical-align: middle;\n",
       "    }\n",
       "\n",
       "    .dataframe tbody tr th {\n",
       "        vertical-align: top;\n",
       "    }\n",
       "\n",
       "    .dataframe thead th {\n",
       "        text-align: right;\n",
       "    }\n",
       "</style>\n",
       "<table border=\"1\" class=\"dataframe\">\n",
       "  <thead>\n",
       "    <tr style=\"text-align: right;\">\n",
       "      <th></th>\n",
       "      <th>id</th>\n",
       "      <th>created_at</th>\n",
       "      <th>modified_at</th>\n",
       "      <th>geometry</th>\n",
       "      <th>raba_pid</th>\n",
       "      <th>raba_id</th>\n",
       "      <th>d_od</th>\n",
       "    </tr>\n",
       "  </thead>\n",
       "  <tbody>\n",
       "    <tr>\n",
       "      <th>0</th>\n",
       "      <td>1</td>\n",
       "      <td>2020-09-29T09:23:21.172369+00:00</td>\n",
       "      <td>None</td>\n",
       "      <td>POLYGON ((453952.629 91124.177, 453952.696 911...</td>\n",
       "      <td>4770326</td>\n",
       "      <td>1410</td>\n",
       "      <td>2019-03-26</td>\n",
       "    </tr>\n",
       "    <tr>\n",
       "      <th>1</th>\n",
       "      <td>9828</td>\n",
       "      <td>2020-09-29T12:37:37.136218+00:00</td>\n",
       "      <td>None</td>\n",
       "      <td>POLYGON ((453952.629 91124.177, 453952.696 911...</td>\n",
       "      <td>4770326</td>\n",
       "      <td>1410</td>\n",
       "      <td>2019-03-26</td>\n",
       "    </tr>\n",
       "    <tr>\n",
       "      <th>2</th>\n",
       "      <td>19655</td>\n",
       "      <td>2020-09-30T07:49:51.801876+00:00</td>\n",
       "      <td>None</td>\n",
       "      <td>POLYGON ((453952.629 91124.177, 453952.696 911...</td>\n",
       "      <td>4770326</td>\n",
       "      <td>1410</td>\n",
       "      <td>2019-03-26</td>\n",
       "    </tr>\n",
       "    <tr>\n",
       "      <th>3</th>\n",
       "      <td>4</td>\n",
       "      <td>2020-09-29T09:23:21.172369+00:00</td>\n",
       "      <td>None</td>\n",
       "      <td>POLYGON ((455929.405 97963.785, 455933.284 979...</td>\n",
       "      <td>2305596</td>\n",
       "      <td>1100</td>\n",
       "      <td>2019-02-25</td>\n",
       "    </tr>\n",
       "    <tr>\n",
       "      <th>4</th>\n",
       "      <td>5</td>\n",
       "      <td>2020-09-29T09:23:21.172369+00:00</td>\n",
       "      <td>None</td>\n",
       "      <td>POLYGON ((461561.512 96119.256, 461632.114 960...</td>\n",
       "      <td>2310160</td>\n",
       "      <td>1100</td>\n",
       "      <td>2019-03-11</td>\n",
       "    </tr>\n",
       "    <tr>\n",
       "      <th>...</th>\n",
       "      <td>...</td>\n",
       "      <td>...</td>\n",
       "      <td>...</td>\n",
       "      <td>...</td>\n",
       "      <td>...</td>\n",
       "      <td>...</td>\n",
       "      <td>...</td>\n",
       "    </tr>\n",
       "    <tr>\n",
       "      <th>103868</th>\n",
       "      <td>97915</td>\n",
       "      <td>2021-05-11T13:54:31.276633+00:00</td>\n",
       "      <td>2021-05-11T14:52:38.339957+00:00</td>\n",
       "      <td>POLYGON ((458067.069 99989.370, 458078.176 999...</td>\n",
       "      <td>6185548</td>\n",
       "      <td>1300</td>\n",
       "      <td>2000-01-01</td>\n",
       "    </tr>\n",
       "    <tr>\n",
       "      <th>103869</th>\n",
       "      <td>98004</td>\n",
       "      <td>2021-05-11T13:54:31.276633+00:00</td>\n",
       "      <td>2021-05-11T14:52:38.339957+00:00</td>\n",
       "      <td>POLYGON ((460118.865 91020.360, 460121.357 910...</td>\n",
       "      <td>6220218</td>\n",
       "      <td>1300</td>\n",
       "      <td>2000-01-01</td>\n",
       "    </tr>\n",
       "    <tr>\n",
       "      <th>103870</th>\n",
       "      <td>98085</td>\n",
       "      <td>2021-05-11T13:54:31.276633+00:00</td>\n",
       "      <td>2021-05-11T14:52:38.339957+00:00</td>\n",
       "      <td>POLYGON ((455094.819 91063.303, 455098.945 910...</td>\n",
       "      <td>6213647</td>\n",
       "      <td>1300</td>\n",
       "      <td>2000-01-01</td>\n",
       "    </tr>\n",
       "    <tr>\n",
       "      <th>103871</th>\n",
       "      <td>98060</td>\n",
       "      <td>2021-05-11T13:54:31.276633+00:00</td>\n",
       "      <td>2021-05-11T14:52:38.339957+00:00</td>\n",
       "      <td>POLYGON ((456566.075 100012.840, 456567.401 10...</td>\n",
       "      <td>6213354</td>\n",
       "      <td>1300</td>\n",
       "      <td>2000-01-01</td>\n",
       "    </tr>\n",
       "    <tr>\n",
       "      <th>103872</th>\n",
       "      <td>98068</td>\n",
       "      <td>2021-05-11T13:54:31.276633+00:00</td>\n",
       "      <td>2021-05-11T14:52:38.339957+00:00</td>\n",
       "      <td>POLYGON ((454867.572 90806.124, 454873.251 908...</td>\n",
       "      <td>6216240</td>\n",
       "      <td>1300</td>\n",
       "      <td>2000-01-01</td>\n",
       "    </tr>\n",
       "  </tbody>\n",
       "</table>\n",
       "<p>103873 rows × 7 columns</p>\n",
       "</div>"
      ],
      "text/plain": [
       "           id                        created_at  \\\n",
       "0           1  2020-09-29T09:23:21.172369+00:00   \n",
       "1        9828  2020-09-29T12:37:37.136218+00:00   \n",
       "2       19655  2020-09-30T07:49:51.801876+00:00   \n",
       "3           4  2020-09-29T09:23:21.172369+00:00   \n",
       "4           5  2020-09-29T09:23:21.172369+00:00   \n",
       "...       ...                               ...   \n",
       "103868  97915  2021-05-11T13:54:31.276633+00:00   \n",
       "103869  98004  2021-05-11T13:54:31.276633+00:00   \n",
       "103870  98085  2021-05-11T13:54:31.276633+00:00   \n",
       "103871  98060  2021-05-11T13:54:31.276633+00:00   \n",
       "103872  98068  2021-05-11T13:54:31.276633+00:00   \n",
       "\n",
       "                             modified_at  \\\n",
       "0                                   None   \n",
       "1                                   None   \n",
       "2                                   None   \n",
       "3                                   None   \n",
       "4                                   None   \n",
       "...                                  ...   \n",
       "103868  2021-05-11T14:52:38.339957+00:00   \n",
       "103869  2021-05-11T14:52:38.339957+00:00   \n",
       "103870  2021-05-11T14:52:38.339957+00:00   \n",
       "103871  2021-05-11T14:52:38.339957+00:00   \n",
       "103872  2021-05-11T14:52:38.339957+00:00   \n",
       "\n",
       "                                                 geometry  raba_pid  raba_id  \\\n",
       "0       POLYGON ((453952.629 91124.177, 453952.696 911...   4770326     1410   \n",
       "1       POLYGON ((453952.629 91124.177, 453952.696 911...   4770326     1410   \n",
       "2       POLYGON ((453952.629 91124.177, 453952.696 911...   4770326     1410   \n",
       "3       POLYGON ((455929.405 97963.785, 455933.284 979...   2305596     1100   \n",
       "4       POLYGON ((461561.512 96119.256, 461632.114 960...   2310160     1100   \n",
       "...                                                   ...       ...      ...   \n",
       "103868  POLYGON ((458067.069 99989.370, 458078.176 999...   6185548     1300   \n",
       "103869  POLYGON ((460118.865 91020.360, 460121.357 910...   6220218     1300   \n",
       "103870  POLYGON ((455094.819 91063.303, 455098.945 910...   6213647     1300   \n",
       "103871  POLYGON ((456566.075 100012.840, 456567.401 10...   6213354     1300   \n",
       "103872  POLYGON ((454867.572 90806.124, 454873.251 908...   6216240     1300   \n",
       "\n",
       "              d_od  \n",
       "0       2019-03-26  \n",
       "1       2019-03-26  \n",
       "2       2019-03-26  \n",
       "3       2019-02-25  \n",
       "4       2019-03-11  \n",
       "...            ...  \n",
       "103868  2000-01-01  \n",
       "103869  2000-01-01  \n",
       "103870  2000-01-01  \n",
       "103871  2000-01-01  \n",
       "103872  2000-01-01  \n",
       "\n",
       "[103873 rows x 7 columns]"
      ]
     },
     "execution_count": 9,
     "metadata": {},
     "output_type": "execute_result"
    }
   ],
   "source": [
    "gdf = geodb.get_collection('land_use') # to be updated, so that namespace is not needed or something more suitable, e.g. 'public'\n",
    "gdf"
   ]
  },
  {
   "cell_type": "markdown",
   "id": "3bcb8e1d",
   "metadata": {
    "papermill": {
     "duration": 0.028532,
     "end_time": "2021-06-22T06:05:34.442946",
     "exception": false,
     "start_time": "2021-06-22T06:05:34.414414",
     "status": "completed"
    },
    "tags": []
   },
   "source": [
    "__Step 3__: Plot the GeoDataframe, select a reasonable column to diplay"
   ]
  },
  {
   "cell_type": "code",
   "execution_count": 10,
   "id": "aa212f51",
   "metadata": {
    "execution": {
     "iopub.execute_input": "2021-06-22T06:05:34.495964Z",
     "iopub.status.busy": "2021-06-22T06:05:34.495186Z",
     "iopub.status.idle": "2021-06-22T06:06:07.263459Z",
     "shell.execute_reply": "2021-06-22T06:06:07.264077Z"
    },
    "papermill": {
     "duration": 32.796815,
     "end_time": "2021-06-22T06:06:07.264291",
     "exception": false,
     "start_time": "2021-06-22T06:05:34.467476",
     "status": "completed"
    },
    "pycharm": {
     "is_executing": false
    },
    "tags": []
   },
   "outputs": [
    {
     "data": {
      "text/plain": [
       "<AxesSubplot:>"
      ]
     },
     "execution_count": 10,
     "metadata": {},
     "output_type": "execute_result"
    }
   ],
   "source": [
    "gdf.plot(column=\"raba_id\", figsize=(15,15), cmap = 'jet')"
   ]
  },
  {
   "cell_type": "markdown",
   "id": "b1ff7dbf",
   "metadata": {
    "papermill": {
     "duration": 0.025545,
     "end_time": "2021-06-22T06:06:07.319107",
     "exception": false,
     "start_time": "2021-06-22T06:06:07.293562",
     "status": "completed"
    },
    "tags": []
   },
   "source": [
    "__Step 5__: Subselect the data. Here: Select a specific use by defining an ID value to choose "
   ]
  },
  {
   "cell_type": "code",
   "execution_count": 11,
   "id": "76130ebe",
   "metadata": {
    "execution": {
     "iopub.execute_input": "2021-06-22T06:06:07.385586Z",
     "iopub.status.busy": "2021-06-22T06:06:07.384748Z",
     "iopub.status.idle": "2021-06-22T06:06:11.847240Z",
     "shell.execute_reply": "2021-06-22T06:06:11.847771Z"
    },
    "papermill": {
     "duration": 4.504254,
     "end_time": "2021-06-22T06:06:11.847918",
     "exception": false,
     "start_time": "2021-06-22T06:06:07.343664",
     "status": "completed"
    },
    "tags": []
   },
   "outputs": [
    {
     "data": {
      "text/html": [
       "<div>\n",
       "<style scoped>\n",
       "    .dataframe tbody tr th:only-of-type {\n",
       "        vertical-align: middle;\n",
       "    }\n",
       "\n",
       "    .dataframe tbody tr th {\n",
       "        vertical-align: top;\n",
       "    }\n",
       "\n",
       "    .dataframe thead th {\n",
       "        text-align: right;\n",
       "    }\n",
       "</style>\n",
       "<table border=\"1\" class=\"dataframe\">\n",
       "  <thead>\n",
       "    <tr style=\"text-align: right;\">\n",
       "      <th></th>\n",
       "      <th>id</th>\n",
       "      <th>created_at</th>\n",
       "      <th>modified_at</th>\n",
       "      <th>geometry</th>\n",
       "      <th>raba_pid</th>\n",
       "      <th>raba_id</th>\n",
       "      <th>d_od</th>\n",
       "    </tr>\n",
       "  </thead>\n",
       "  <tbody>\n",
       "    <tr>\n",
       "      <th>0</th>\n",
       "      <td>1</td>\n",
       "      <td>2020-09-29T09:23:21.172369+00:00</td>\n",
       "      <td>None</td>\n",
       "      <td>POLYGON ((453952.629 91124.177, 453952.696 911...</td>\n",
       "      <td>4770326</td>\n",
       "      <td>1410</td>\n",
       "      <td>2019-03-26</td>\n",
       "    </tr>\n",
       "    <tr>\n",
       "      <th>1</th>\n",
       "      <td>9828</td>\n",
       "      <td>2020-09-29T12:37:37.136218+00:00</td>\n",
       "      <td>None</td>\n",
       "      <td>POLYGON ((453952.629 91124.177, 453952.696 911...</td>\n",
       "      <td>4770326</td>\n",
       "      <td>1410</td>\n",
       "      <td>2019-03-26</td>\n",
       "    </tr>\n",
       "    <tr>\n",
       "      <th>2</th>\n",
       "      <td>19655</td>\n",
       "      <td>2020-09-30T07:49:51.801876+00:00</td>\n",
       "      <td>None</td>\n",
       "      <td>POLYGON ((453952.629 91124.177, 453952.696 911...</td>\n",
       "      <td>4770326</td>\n",
       "      <td>1410</td>\n",
       "      <td>2019-03-26</td>\n",
       "    </tr>\n",
       "    <tr>\n",
       "      <th>3</th>\n",
       "      <td>39309</td>\n",
       "      <td>2020-12-01T13:40:18.246639+00:00</td>\n",
       "      <td>None</td>\n",
       "      <td>POLYGON ((453952.629 91124.177, 453952.696 911...</td>\n",
       "      <td>4770326</td>\n",
       "      <td>1410</td>\n",
       "      <td>2019-03-26</td>\n",
       "    </tr>\n",
       "    <tr>\n",
       "      <th>4</th>\n",
       "      <td>62</td>\n",
       "      <td>2020-09-29T09:23:21.172369+00:00</td>\n",
       "      <td>None</td>\n",
       "      <td>POLYGON ((457261.001 96349.254, 457256.831 963...</td>\n",
       "      <td>3596498</td>\n",
       "      <td>1410</td>\n",
       "      <td>2019-01-05</td>\n",
       "    </tr>\n",
       "  </tbody>\n",
       "</table>\n",
       "</div>"
      ],
      "text/plain": [
       "      id                        created_at modified_at  \\\n",
       "0      1  2020-09-29T09:23:21.172369+00:00        None   \n",
       "1   9828  2020-09-29T12:37:37.136218+00:00        None   \n",
       "2  19655  2020-09-30T07:49:51.801876+00:00        None   \n",
       "3  39309  2020-12-01T13:40:18.246639+00:00        None   \n",
       "4     62  2020-09-29T09:23:21.172369+00:00        None   \n",
       "\n",
       "                                            geometry  raba_pid  raba_id  \\\n",
       "0  POLYGON ((453952.629 91124.177, 453952.696 911...   4770326     1410   \n",
       "1  POLYGON ((453952.629 91124.177, 453952.696 911...   4770326     1410   \n",
       "2  POLYGON ((453952.629 91124.177, 453952.696 911...   4770326     1410   \n",
       "3  POLYGON ((453952.629 91124.177, 453952.696 911...   4770326     1410   \n",
       "4  POLYGON ((457261.001 96349.254, 457256.831 963...   3596498     1410   \n",
       "\n",
       "         d_od  \n",
       "0  2019-03-26  \n",
       "1  2019-03-26  \n",
       "2  2019-03-26  \n",
       "3  2019-03-26  \n",
       "4  2019-01-05  "
      ]
     },
     "execution_count": 11,
     "metadata": {},
     "output_type": "execute_result"
    }
   ],
   "source": [
    "gdfsub = geodb.get_collection('land_use', query='raba_id=eq.1410')\n",
    "gdfsub.head()"
   ]
  },
  {
   "cell_type": "code",
   "execution_count": 12,
   "id": "bfc308f9",
   "metadata": {
    "execution": {
     "iopub.execute_input": "2021-06-22T06:06:11.916315Z",
     "iopub.status.busy": "2021-06-22T06:06:11.907305Z",
     "iopub.status.idle": "2021-06-22T06:06:15.278189Z",
     "shell.execute_reply": "2021-06-22T06:06:15.277484Z"
    },
    "papermill": {
     "duration": 3.405938,
     "end_time": "2021-06-22T06:06:15.278327",
     "exception": false,
     "start_time": "2021-06-22T06:06:11.872389",
     "status": "completed"
    },
    "tags": []
   },
   "outputs": [
    {
     "data": {
      "text/plain": [
       "<AxesSubplot:>"
      ]
     },
     "execution_count": 12,
     "metadata": {},
     "output_type": "execute_result"
    }
   ],
   "source": [
    "gdfsub.plot(column=\"raba_id\", figsize=(15,15), cmap = 'jet')"
   ]
  },
  {
   "cell_type": "markdown",
   "id": "503ae60d",
   "metadata": {
    "papermill": {
     "duration": 0.030396,
     "end_time": "2021-06-22T06:06:15.340675",
     "exception": false,
     "start_time": "2021-06-22T06:06:15.310279",
     "status": "completed"
    },
    "tags": []
   },
   "source": [
    "__Step 6__: Filter by bbox, limit it to 200 entries"
   ]
  },
  {
   "cell_type": "code",
   "execution_count": 13,
   "id": "f103c737",
   "metadata": {
    "execution": {
     "iopub.execute_input": "2021-06-22T06:06:15.415805Z",
     "iopub.status.busy": "2021-06-22T06:06:15.414839Z",
     "iopub.status.idle": "2021-06-22T06:06:21.841670Z",
     "shell.execute_reply": "2021-06-22T06:06:21.840946Z"
    },
    "papermill": {
     "duration": 6.473633,
     "end_time": "2021-06-22T06:06:21.841818",
     "exception": false,
     "start_time": "2021-06-22T06:06:15.368185",
     "status": "completed"
    },
    "tags": []
   },
   "outputs": [
    {
     "data": {
      "text/html": [
       "<div>\n",
       "<style scoped>\n",
       "    .dataframe tbody tr th:only-of-type {\n",
       "        vertical-align: middle;\n",
       "    }\n",
       "\n",
       "    .dataframe tbody tr th {\n",
       "        vertical-align: top;\n",
       "    }\n",
       "\n",
       "    .dataframe thead th {\n",
       "        text-align: right;\n",
       "    }\n",
       "</style>\n",
       "<table border=\"1\" class=\"dataframe\">\n",
       "  <thead>\n",
       "    <tr style=\"text-align: right;\">\n",
       "      <th></th>\n",
       "      <th>id</th>\n",
       "      <th>created_at</th>\n",
       "      <th>modified_at</th>\n",
       "      <th>geometry</th>\n",
       "      <th>raba_pid</th>\n",
       "      <th>raba_id</th>\n",
       "      <th>d_od</th>\n",
       "    </tr>\n",
       "  </thead>\n",
       "  <tbody>\n",
       "    <tr>\n",
       "      <th>0</th>\n",
       "      <td>12</td>\n",
       "      <td>2020-09-29T09:23:21.172369+00:00</td>\n",
       "      <td>None</td>\n",
       "      <td>POLYGON ((453673.609 91328.224, 453678.929 913...</td>\n",
       "      <td>5983074</td>\n",
       "      <td>1600</td>\n",
       "      <td>2019-03-26</td>\n",
       "    </tr>\n",
       "    <tr>\n",
       "      <th>1</th>\n",
       "      <td>13</td>\n",
       "      <td>2020-09-29T09:23:21.172369+00:00</td>\n",
       "      <td>None</td>\n",
       "      <td>POLYGON ((460312.295 96127.114, 460300.319 961...</td>\n",
       "      <td>5983199</td>\n",
       "      <td>1600</td>\n",
       "      <td>2019-03-11</td>\n",
       "    </tr>\n",
       "    <tr>\n",
       "      <th>2</th>\n",
       "      <td>14</td>\n",
       "      <td>2020-09-29T09:23:21.172369+00:00</td>\n",
       "      <td>None</td>\n",
       "      <td>POLYGON ((460459.445 96117.356, 460470.516 961...</td>\n",
       "      <td>5983217</td>\n",
       "      <td>1100</td>\n",
       "      <td>2019-03-11</td>\n",
       "    </tr>\n",
       "    <tr>\n",
       "      <th>3</th>\n",
       "      <td>15</td>\n",
       "      <td>2020-09-29T09:23:21.172369+00:00</td>\n",
       "      <td>None</td>\n",
       "      <td>POLYGON ((457798.753 99628.982, 457783.076 996...</td>\n",
       "      <td>6299143</td>\n",
       "      <td>1600</td>\n",
       "      <td>2019-03-04</td>\n",
       "    </tr>\n",
       "    <tr>\n",
       "      <th>4</th>\n",
       "      <td>16</td>\n",
       "      <td>2020-09-29T09:23:21.172369+00:00</td>\n",
       "      <td>None</td>\n",
       "      <td>POLYGON ((461439.703 92137.401, 461436.166 921...</td>\n",
       "      <td>4643632</td>\n",
       "      <td>1600</td>\n",
       "      <td>2019-02-21</td>\n",
       "    </tr>\n",
       "    <tr>\n",
       "      <th>...</th>\n",
       "      <td>...</td>\n",
       "      <td>...</td>\n",
       "      <td>...</td>\n",
       "      <td>...</td>\n",
       "      <td>...</td>\n",
       "      <td>...</td>\n",
       "      <td>...</td>\n",
       "    </tr>\n",
       "    <tr>\n",
       "      <th>195</th>\n",
       "      <td>215</td>\n",
       "      <td>2020-09-29T09:23:21.172369+00:00</td>\n",
       "      <td>None</td>\n",
       "      <td>POLYGON ((458934.146 95656.658, 458932.345 956...</td>\n",
       "      <td>5966575</td>\n",
       "      <td>1222</td>\n",
       "      <td>2019-01-05</td>\n",
       "    </tr>\n",
       "    <tr>\n",
       "      <th>196</th>\n",
       "      <td>216</td>\n",
       "      <td>2020-09-29T09:23:21.172369+00:00</td>\n",
       "      <td>None</td>\n",
       "      <td>POLYGON ((458934.146 95656.658, 458935.525 956...</td>\n",
       "      <td>5966577</td>\n",
       "      <td>1100</td>\n",
       "      <td>2019-01-05</td>\n",
       "    </tr>\n",
       "    <tr>\n",
       "      <th>197</th>\n",
       "      <td>217</td>\n",
       "      <td>2020-09-29T09:23:21.172369+00:00</td>\n",
       "      <td>None</td>\n",
       "      <td>POLYGON ((455301.879 91279.877, 455302.373 912...</td>\n",
       "      <td>2594677</td>\n",
       "      <td>1100</td>\n",
       "      <td>2019-03-14</td>\n",
       "    </tr>\n",
       "    <tr>\n",
       "      <th>198</th>\n",
       "      <td>218</td>\n",
       "      <td>2020-09-29T09:23:21.172369+00:00</td>\n",
       "      <td>None</td>\n",
       "      <td>POLYGON ((455207.927 91222.221, 455193.596 912...</td>\n",
       "      <td>2594678</td>\n",
       "      <td>1100</td>\n",
       "      <td>2019-03-14</td>\n",
       "    </tr>\n",
       "    <tr>\n",
       "      <th>199</th>\n",
       "      <td>219</td>\n",
       "      <td>2020-09-29T09:23:21.172369+00:00</td>\n",
       "      <td>None</td>\n",
       "      <td>POLYGON ((456955.636 98474.696, 456952.435 984...</td>\n",
       "      <td>2960296</td>\n",
       "      <td>1500</td>\n",
       "      <td>2019-02-26</td>\n",
       "    </tr>\n",
       "  </tbody>\n",
       "</table>\n",
       "<p>200 rows × 7 columns</p>\n",
       "</div>"
      ],
      "text/plain": [
       "      id                        created_at modified_at  \\\n",
       "0     12  2020-09-29T09:23:21.172369+00:00        None   \n",
       "1     13  2020-09-29T09:23:21.172369+00:00        None   \n",
       "2     14  2020-09-29T09:23:21.172369+00:00        None   \n",
       "3     15  2020-09-29T09:23:21.172369+00:00        None   \n",
       "4     16  2020-09-29T09:23:21.172369+00:00        None   \n",
       "..   ...                               ...         ...   \n",
       "195  215  2020-09-29T09:23:21.172369+00:00        None   \n",
       "196  216  2020-09-29T09:23:21.172369+00:00        None   \n",
       "197  217  2020-09-29T09:23:21.172369+00:00        None   \n",
       "198  218  2020-09-29T09:23:21.172369+00:00        None   \n",
       "199  219  2020-09-29T09:23:21.172369+00:00        None   \n",
       "\n",
       "                                              geometry  raba_pid  raba_id  \\\n",
       "0    POLYGON ((453673.609 91328.224, 453678.929 913...   5983074     1600   \n",
       "1    POLYGON ((460312.295 96127.114, 460300.319 961...   5983199     1600   \n",
       "2    POLYGON ((460459.445 96117.356, 460470.516 961...   5983217     1100   \n",
       "3    POLYGON ((457798.753 99628.982, 457783.076 996...   6299143     1600   \n",
       "4    POLYGON ((461439.703 92137.401, 461436.166 921...   4643632     1600   \n",
       "..                                                 ...       ...      ...   \n",
       "195  POLYGON ((458934.146 95656.658, 458932.345 956...   5966575     1222   \n",
       "196  POLYGON ((458934.146 95656.658, 458935.525 956...   5966577     1100   \n",
       "197  POLYGON ((455301.879 91279.877, 455302.373 912...   2594677     1100   \n",
       "198  POLYGON ((455207.927 91222.221, 455193.596 912...   2594678     1100   \n",
       "199  POLYGON ((456955.636 98474.696, 456952.435 984...   2960296     1500   \n",
       "\n",
       "           d_od  \n",
       "0    2019-03-26  \n",
       "1    2019-03-11  \n",
       "2    2019-03-11  \n",
       "3    2019-03-04  \n",
       "4    2019-02-21  \n",
       "..          ...  \n",
       "195  2019-01-05  \n",
       "196  2019-01-05  \n",
       "197  2019-03-14  \n",
       "198  2019-03-14  \n",
       "199  2019-02-26  \n",
       "\n",
       "[200 rows x 7 columns]"
      ]
     },
     "execution_count": 13,
     "metadata": {},
     "output_type": "execute_result"
    }
   ],
   "source": [
    "gdf = geodb.get_collection_by_bbox(collection=\"land_use\", bbox = (452750.0, 88909.549, 464000.0, 102486.299), comparison_mode=\"contains\", bbox_crs=3794, limit=200, offset=10)\n",
    "gdf"
   ]
  },
  {
   "cell_type": "code",
   "execution_count": 14,
   "id": "1a0326b8",
   "metadata": {
    "execution": {
     "iopub.execute_input": "2021-06-22T06:06:21.924951Z",
     "iopub.status.busy": "2021-06-22T06:06:21.896946Z",
     "iopub.status.idle": "2021-06-22T06:06:22.032744Z",
     "shell.execute_reply": "2021-06-22T06:06:22.031831Z"
    },
    "papermill": {
     "duration": 0.165246,
     "end_time": "2021-06-22T06:06:22.032897",
     "exception": false,
     "start_time": "2021-06-22T06:06:21.867651",
     "status": "completed"
    },
    "tags": []
   },
   "outputs": [
    {
     "data": {
      "text/plain": [
       "<AxesSubplot:>"
      ]
     },
     "execution_count": 14,
     "metadata": {},
     "output_type": "execute_result"
    }
   ],
   "source": [
    "gdf.plot(column=\"raba_pid\", figsize=(15,15), cmap = 'jet')"
   ]
  },
  {
   "cell_type": "markdown",
   "id": "1530d5c8",
   "metadata": {
    "papermill": {
     "duration": 0.043187,
     "end_time": "2021-06-22T06:06:22.108424",
     "exception": false,
     "start_time": "2021-06-22T06:06:22.065237",
     "status": "completed"
    },
    "tags": []
   },
   "source": [
    "__Step 6__: Fltering using PostGres Syntax; see https://www.postgresql.org/docs/9.1/index.html for details"
   ]
  },
  {
   "cell_type": "code",
   "execution_count": 15,
   "id": "b21dc975",
   "metadata": {
    "execution": {
     "iopub.execute_input": "2021-06-22T06:06:22.211974Z",
     "iopub.status.busy": "2021-06-22T06:06:22.211066Z",
     "iopub.status.idle": "2021-06-22T06:06:31.007392Z",
     "shell.execute_reply": "2021-06-22T06:06:31.007828Z"
    },
    "papermill": {
     "duration": 8.861958,
     "end_time": "2021-06-22T06:06:31.007971",
     "exception": false,
     "start_time": "2021-06-22T06:06:22.146013",
     "status": "completed"
    },
    "tags": []
   },
   "outputs": [
    {
     "data": {
      "text/html": [
       "<div>\n",
       "<style scoped>\n",
       "    .dataframe tbody tr th:only-of-type {\n",
       "        vertical-align: middle;\n",
       "    }\n",
       "\n",
       "    .dataframe tbody tr th {\n",
       "        vertical-align: top;\n",
       "    }\n",
       "\n",
       "    .dataframe thead th {\n",
       "        text-align: right;\n",
       "    }\n",
       "</style>\n",
       "<table border=\"1\" class=\"dataframe\">\n",
       "  <thead>\n",
       "    <tr style=\"text-align: right;\">\n",
       "      <th></th>\n",
       "      <th>id</th>\n",
       "      <th>created_at</th>\n",
       "      <th>modified_at</th>\n",
       "      <th>geometry</th>\n",
       "      <th>raba_pid</th>\n",
       "      <th>raba_id</th>\n",
       "      <th>d_od</th>\n",
       "    </tr>\n",
       "  </thead>\n",
       "  <tbody>\n",
       "    <tr>\n",
       "      <th>0</th>\n",
       "      <td>1</td>\n",
       "      <td>2020-09-29T09:23:21.172369+00:00</td>\n",
       "      <td>None</td>\n",
       "      <td>POLYGON ((453952.629 91124.177, 453952.696 911...</td>\n",
       "      <td>4770326</td>\n",
       "      <td>1410</td>\n",
       "      <td>2019-03-26</td>\n",
       "    </tr>\n",
       "    <tr>\n",
       "      <th>1</th>\n",
       "      <td>9828</td>\n",
       "      <td>2020-09-29T12:37:37.136218+00:00</td>\n",
       "      <td>None</td>\n",
       "      <td>POLYGON ((453952.629 91124.177, 453952.696 911...</td>\n",
       "      <td>4770326</td>\n",
       "      <td>1410</td>\n",
       "      <td>2019-03-26</td>\n",
       "    </tr>\n",
       "    <tr>\n",
       "      <th>2</th>\n",
       "      <td>19655</td>\n",
       "      <td>2020-09-30T07:49:51.801876+00:00</td>\n",
       "      <td>None</td>\n",
       "      <td>POLYGON ((453952.629 91124.177, 453952.696 911...</td>\n",
       "      <td>4770326</td>\n",
       "      <td>1410</td>\n",
       "      <td>2019-03-26</td>\n",
       "    </tr>\n",
       "    <tr>\n",
       "      <th>3</th>\n",
       "      <td>39309</td>\n",
       "      <td>2020-12-01T13:40:18.246639+00:00</td>\n",
       "      <td>None</td>\n",
       "      <td>POLYGON ((453952.629 91124.177, 453952.696 911...</td>\n",
       "      <td>4770326</td>\n",
       "      <td>1410</td>\n",
       "      <td>2019-03-26</td>\n",
       "    </tr>\n",
       "    <tr>\n",
       "      <th>4</th>\n",
       "      <td>62</td>\n",
       "      <td>2020-09-29T09:23:21.172369+00:00</td>\n",
       "      <td>None</td>\n",
       "      <td>POLYGON ((457261.001 96349.254, 457256.831 963...</td>\n",
       "      <td>3596498</td>\n",
       "      <td>1410</td>\n",
       "      <td>2019-01-05</td>\n",
       "    </tr>\n",
       "  </tbody>\n",
       "</table>\n",
       "</div>"
      ],
      "text/plain": [
       "      id                        created_at modified_at  \\\n",
       "0      1  2020-09-29T09:23:21.172369+00:00        None   \n",
       "1   9828  2020-09-29T12:37:37.136218+00:00        None   \n",
       "2  19655  2020-09-30T07:49:51.801876+00:00        None   \n",
       "3  39309  2020-12-01T13:40:18.246639+00:00        None   \n",
       "4     62  2020-09-29T09:23:21.172369+00:00        None   \n",
       "\n",
       "                                            geometry  raba_pid  raba_id  \\\n",
       "0  POLYGON ((453952.629 91124.177, 453952.696 911...   4770326     1410   \n",
       "1  POLYGON ((453952.629 91124.177, 453952.696 911...   4770326     1410   \n",
       "2  POLYGON ((453952.629 91124.177, 453952.696 911...   4770326     1410   \n",
       "3  POLYGON ((453952.629 91124.177, 453952.696 911...   4770326     1410   \n",
       "4  POLYGON ((457261.001 96349.254, 457256.831 963...   3596498     1410   \n",
       "\n",
       "         d_od  \n",
       "0  2019-03-26  \n",
       "1  2019-03-26  \n",
       "2  2019-03-26  \n",
       "3  2019-03-26  \n",
       "4  2019-01-05  "
      ]
     },
     "execution_count": 15,
     "metadata": {},
     "output_type": "execute_result"
    }
   ],
   "source": [
    "gdf = geodb.get_collection_pg(collection='land_use', where='raba_id=1410')\n",
    "gdf.head()"
   ]
  },
  {
   "cell_type": "code",
   "execution_count": 16,
   "id": "79d015ce",
   "metadata": {
    "execution": {
     "iopub.execute_input": "2021-06-22T06:06:31.064459Z",
     "iopub.status.busy": "2021-06-22T06:06:31.062566Z",
     "iopub.status.idle": "2021-06-22T06:06:34.527181Z",
     "shell.execute_reply": "2021-06-22T06:06:34.526153Z"
    },
    "papermill": {
     "duration": 3.493735,
     "end_time": "2021-06-22T06:06:34.527357",
     "exception": false,
     "start_time": "2021-06-22T06:06:31.033622",
     "status": "completed"
    },
    "tags": []
   },
   "outputs": [
    {
     "data": {
      "text/plain": [
       "<AxesSubplot:>"
      ]
     },
     "execution_count": 16,
     "metadata": {},
     "output_type": "execute_result"
    }
   ],
   "source": [
    "gdf.plot(column=\"raba_pid\", figsize=(15,15), cmap = 'jet')"
   ]
  },
  {
   "cell_type": "markdown",
   "id": "ec22808e",
   "metadata": {
    "papermill": {
     "duration": 0.033587,
     "end_time": "2021-06-22T06:06:34.592407",
     "exception": false,
     "start_time": "2021-06-22T06:06:34.558820",
     "status": "completed"
    },
    "tags": []
   },
   "source": [
    "__Step 7__: Fltering using PostGres Syntax Allowing Aggregation\n",
    "Here according to data, note that the data set has been reduced to 200 entries above"
   ]
  },
  {
   "cell_type": "code",
   "execution_count": 17,
   "id": "771930d2",
   "metadata": {
    "execution": {
     "iopub.execute_input": "2021-06-22T06:06:34.656364Z",
     "iopub.status.busy": "2021-06-22T06:06:34.655616Z",
     "iopub.status.idle": "2021-06-22T06:06:41.724239Z",
     "shell.execute_reply": "2021-06-22T06:06:41.724733Z"
    },
    "papermill": {
     "duration": 7.103769,
     "end_time": "2021-06-22T06:06:41.724891",
     "exception": false,
     "start_time": "2021-06-22T06:06:34.621122",
     "status": "completed"
    },
    "tags": []
   },
   "outputs": [
    {
     "data": {
      "text/html": [
       "<div>\n",
       "<style scoped>\n",
       "    .dataframe tbody tr th:only-of-type {\n",
       "        vertical-align: middle;\n",
       "    }\n",
       "\n",
       "    .dataframe tbody tr th {\n",
       "        vertical-align: top;\n",
       "    }\n",
       "\n",
       "    .dataframe thead th {\n",
       "        text-align: right;\n",
       "    }\n",
       "</style>\n",
       "<table border=\"1\" class=\"dataframe\">\n",
       "  <thead>\n",
       "    <tr style=\"text-align: right;\">\n",
       "      <th></th>\n",
       "      <th>ct</th>\n",
       "      <th>d_od</th>\n",
       "    </tr>\n",
       "  </thead>\n",
       "  <tbody>\n",
       "    <tr>\n",
       "      <th>0</th>\n",
       "      <td>132</td>\n",
       "      <td>2019-03-21</td>\n",
       "    </tr>\n",
       "    <tr>\n",
       "      <th>1</th>\n",
       "      <td>517</td>\n",
       "      <td>2019-02-25</td>\n",
       "    </tr>\n",
       "    <tr>\n",
       "      <th>2</th>\n",
       "      <td>187</td>\n",
       "      <td>2019-03-13</td>\n",
       "    </tr>\n",
       "    <tr>\n",
       "      <th>3</th>\n",
       "      <td>286</td>\n",
       "      <td>2019-02-20</td>\n",
       "    </tr>\n",
       "    <tr>\n",
       "      <th>4</th>\n",
       "      <td>22</td>\n",
       "      <td>2019-04-29</td>\n",
       "    </tr>\n",
       "  </tbody>\n",
       "</table>\n",
       "</div>"
      ],
      "text/plain": [
       "    ct        d_od\n",
       "0  132  2019-03-21\n",
       "1  517  2019-02-25\n",
       "2  187  2019-03-13\n",
       "3  286  2019-02-20\n",
       "4   22  2019-04-29"
      ]
     },
     "execution_count": 17,
     "metadata": {},
     "output_type": "execute_result"
    }
   ],
   "source": [
    "df = geodb.get_collection_pg('land_use', where='raba_id=1410', group='d_od', select='COUNT(d_od) as ct, d_od')\n",
    "df.head()"
   ]
  },
  {
   "cell_type": "code",
   "execution_count": null,
   "id": "afd3a95e",
   "metadata": {
    "collapsed": false,
    "jupyter": {
     "outputs_hidden": false
    },
    "papermill": {
     "duration": 0.031378,
     "end_time": "2021-06-22T06:06:41.786956",
     "exception": false,
     "start_time": "2021-06-22T06:06:41.755578",
     "status": "completed"
    },
    "pycharm": {
     "name": "#%%\n"
    },
    "tags": []
   },
   "outputs": [],
   "source": []
  },
  {
   "cell_type": "code",
   "execution_count": null,
   "id": "2964e457",
   "metadata": {
    "papermill": {
     "duration": 0.028848,
     "end_time": "2021-06-22T06:06:41.847242",
     "exception": false,
     "start_time": "2021-06-22T06:06:41.818394",
     "status": "completed"
    },
    "tags": []
   },
   "outputs": [],
   "source": []
  },
  {
   "cell_type": "code",
   "execution_count": null,
   "id": "24f0c0f7",
   "metadata": {
    "papermill": {
     "duration": 0.025968,
     "end_time": "2021-06-22T06:06:41.902440",
     "exception": false,
     "start_time": "2021-06-22T06:06:41.876472",
     "status": "completed"
    },
    "tags": []
   },
   "outputs": [],
   "source": []
  }
 ],
 "metadata": {
  "kernelspec": {
   "display_name": "EDC 0.24.5 (Python3)",
   "language": "python",
   "name": "edc"
  },
  "language_info": {
   "codemirror_mode": {
    "name": "ipython",
    "version": 3
   },
   "file_extension": ".py",
   "mimetype": "text/x-python",
   "name": "python",
   "nbconvert_exporter": "python",
   "pygments_lexer": "ipython3",
   "version": "3.8.10"
  },
  "papermill": {
   "duration": 99.373186,
   "end_time": "2021-06-22T06:06:44.192868",
   "environment_variables": {},
   "exception": null,
   "input_path": "/tmp/tmpfdbtvf8v",
   "output_path": "/tmp/notebook_output.ipynb",
   "parameters": {},
   "start_time": "2021-06-22T06:05:04.819682",
   "version": "2.1.2"
  },
  "properties": {
   "authors": [
    {
     "id": "f4c9d7ad-8013-4c0f-a6b4-48156563f45b",
     "name": "sergiers@gmail.com"
    }
   ],
   "description": "Euro Data Cube GeoDB: Explore Datasets",
   "id": "geodb-explore",
   "license": null,
   "name": "GeoDB: Explore Datasets",
   "requirements": [
    "eurodatacube-geodb",
    "eoxhub"
   ],
   "tags": [
    "Getting started",
    "GeoDB"
   ],
   "tosAgree": true,
   "type": "Jupyter Notebook",
   "version": "0.3"
  },
  "pycharm": {
   "stem_cell": {
    "cell_type": "raw",
    "metadata": {
     "collapsed": false
    },
    "source": []
   }
  }
 },
 "nbformat": 4,
 "nbformat_minor": 5
}