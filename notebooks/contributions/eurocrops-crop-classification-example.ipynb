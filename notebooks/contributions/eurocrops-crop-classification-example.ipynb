{
 "cells": [
  {
   "cell_type": "code",
   "execution_count": 1,
   "id": "62f7ab77",
   "metadata": {
    "execution": {
     "iopub.execute_input": "2022-10-26T06:37:48.672762Z",
     "iopub.status.busy": "2022-10-26T06:37:48.672175Z",
     "iopub.status.idle": "2022-10-26T06:37:48.733796Z",
     "shell.execute_reply": "2022-10-26T06:37:48.732862Z"
    },
    "papermill": {
     "duration": 0.072935,
     "end_time": "2022-10-26T06:37:48.735526",
     "exception": false,
     "start_time": "2022-10-26T06:37:48.662591",
     "status": "completed"
    },
    "tags": []
   },
   "outputs": [
    {
     "data": {
      "text/html": [
       "<script type=\"text/javascript\">\n",
       "        function toggle(id) {\n",
       "            el = document.getElementById(id);\n",
       "            el.style.display = el.style.display === \"none\" ? \"block\" : \"none\";\n",
       "        }\n",
       "    </script>"
      ],
      "text/plain": [
       "<IPython.core.display.HTML object>"
      ]
     },
     "metadata": {},
     "output_type": "display_data"
    },
    {
     "data": {
      "text/html": [
       "This notebook is compatible with this base image version (user-2022.10-14)."
      ],
      "text/plain": [
       "<IPython.core.display.HTML object>"
      ]
     },
     "metadata": {},
     "output_type": "display_data"
    }
   ],
   "source": [
    "from eoxhub import check_compatibility\n",
    "check_compatibility(\"user-2022.10-14\", dependencies=[])"
   ]
  },
  {
   "cell_type": "markdown",
   "id": "0a615556-b62f-4392-a82e-9746d300e708",
   "metadata": {
    "papermill": {
     "duration": 0.006576,
     "end_time": "2022-10-26T06:37:48.748617",
     "exception": false,
     "start_time": "2022-10-26T06:37:48.742041",
     "status": "completed"
    },
    "tags": []
   },
   "source": [
    "# Crop-classification using Sentinel-2 time-series\n",
    "\n",
    "This notebook implements a crop classification algorithm for Sentinel-2 time-series based on deep learning. The input time-series are derived from the signals computed by the Eurocrops BYOA. The method here implemented is described in more detail in the [crop-classification marker blog-post](https://medium.com/sentinel-hub/area-monitoring-crop-type-marker-1e70f672bf44).\n",
    "\n",
    "For more examples on how to create markers for monitoring agricultural activity using Sentinel-2 signals, consult [this blog series](https://medium.com/sentinel-hub/area-monitoring-concept-effc2c262583).\n",
    "\n",
    "This notebook will use a sample of pre-downloaded signals, and can be run on a CPU-based instance or laptop.\n",
    "\n",
    "**Table of Contents**:\n",
    "\n",
    " 0. [Constants](#constants)\n",
    " 1. [Retrieve signals and labels](#retrieve-signals)\n",
    " 2. [AI-ready dataset](#dataset)\n",
    " 3. [Model training](#model-training)\n",
    " 4. [Model evaluation](#model-evaluation)"
   ]
  },
  {
   "cell_type": "code",
   "execution_count": 2,
   "id": "36298b14-3b51-4455-9bda-f6dfbe45e947",
   "metadata": {
    "execution": {
     "iopub.execute_input": "2022-10-26T06:37:48.763422Z",
     "iopub.status.busy": "2022-10-26T06:37:48.762829Z",
     "iopub.status.idle": "2022-10-26T06:38:50.582232Z",
     "shell.execute_reply": "2022-10-26T06:38:50.581394Z"
    },
    "papermill": {
     "duration": 61.829317,
     "end_time": "2022-10-26T06:38:50.584198",
     "exception": false,
     "start_time": "2022-10-26T06:37:48.754881",
     "status": "completed"
    },
    "tags": []
   },
   "outputs": [
    {
     "name": "stdout",
     "output_type": "stream",
     "text": [
      "Collecting torch\r\n",
      "  Downloading torch-1.12.1-cp39-cp39-manylinux1_x86_64.whl (776.4 MB)\r\n",
      "\u001b[?25l     \u001b[90m━━━━━━━━━━━━━━━━━━━━━━━━━━━━━━━━━━━━━━━━\u001b[0m \u001b[32m0.0/776.4 MB\u001b[0m \u001b[31m?\u001b[0m eta \u001b[36m-:--:--\u001b[0m"
     ]
    },
    {
     "name": "stdout",
     "output_type": "stream",
     "text": [
      "\r",
      "\u001b[2K     \u001b[90m━━━━━━━━━━━━━━━━━━━━━━━━━━━━━━━━━━━━━━━\u001b[0m \u001b[32m6.0/776.4 MB\u001b[0m \u001b[31m180.7 MB/s\u001b[0m eta \u001b[36m0:00:05\u001b[0m\r",
      "\u001b[2K     \u001b[91m╸\u001b[0m\u001b[90m━━━━━━━━━━━━━━━━━━━━━━━━━━━━━━━━━━━━━\u001b[0m \u001b[32m12.7/776.4 MB\u001b[0m \u001b[31m192.4 MB/s\u001b[0m eta \u001b[36m0:00:04\u001b[0m"
     ]
    },
    {
     "name": "stdout",
     "output_type": "stream",
     "text": [
      "\r",
      "\u001b[2K     \u001b[91m━\u001b[0m\u001b[90m╺\u001b[0m\u001b[90m━━━━━━━━━━━━━━━━━━━━━━━━━━━━━━━━━━━━\u001b[0m \u001b[32m20.7/776.4 MB\u001b[0m \u001b[31m228.1 MB/s\u001b[0m eta \u001b[36m0:00:04\u001b[0m"
     ]
    },
    {
     "name": "stdout",
     "output_type": "stream",
     "text": [
      "\r",
      "\u001b[2K     \u001b[91m━\u001b[0m\u001b[90m╺\u001b[0m\u001b[90m━━━━━━━━━━━━━━━━━━━━━━━━━━━━━━━━━━━━\u001b[0m \u001b[32m27.0/776.4 MB\u001b[0m \u001b[31m198.3 MB/s\u001b[0m eta \u001b[36m0:00:04\u001b[0m"
     ]
    },
    {
     "name": "stdout",
     "output_type": "stream",
     "text": [
      "\r",
      "\u001b[2K     \u001b[91m━\u001b[0m\u001b[91m╸\u001b[0m\u001b[90m━━━━━━━━━━━━━━━━━━━━━━━━━━━━━━━━━━━━\u001b[0m \u001b[32m33.0/776.4 MB\u001b[0m \u001b[31m176.8 MB/s\u001b[0m eta \u001b[36m0:00:05\u001b[0m\r",
      "\u001b[2K     \u001b[91m━\u001b[0m\u001b[91m╸\u001b[0m\u001b[90m━━━━━━━━━━━━━━━━━━━━━━━━━━━━━━━━━━━━\u001b[0m \u001b[32m39.3/776.4 MB\u001b[0m \u001b[31m182.8 MB/s\u001b[0m eta \u001b[36m0:00:05\u001b[0m"
     ]
    },
    {
     "name": "stdout",
     "output_type": "stream",
     "text": [
      "\r",
      "\u001b[2K     \u001b[91m━━\u001b[0m\u001b[90m╺\u001b[0m\u001b[90m━━━━━━━━━━━━━━━━━━━━━━━━━━━━━━━━━━━\u001b[0m \u001b[32m45.6/776.4 MB\u001b[0m \u001b[31m180.7 MB/s\u001b[0m eta \u001b[36m0:00:05\u001b[0m"
     ]
    },
    {
     "name": "stdout",
     "output_type": "stream",
     "text": [
      "\r",
      "\u001b[2K     \u001b[91m━━\u001b[0m\u001b[91m╸\u001b[0m\u001b[90m━━━━━━━━━━━━━━━━━━━━━━━━━━━━━━━━━━━\u001b[0m \u001b[32m51.8/776.4 MB\u001b[0m \u001b[31m179.1 MB/s\u001b[0m eta \u001b[36m0:00:05\u001b[0m\r",
      "\u001b[2K     \u001b[91m━━\u001b[0m\u001b[91m╸\u001b[0m\u001b[90m━━━━━━━━━━━━━━━━━━━━━━━━━━━━━━━━━━━\u001b[0m \u001b[32m58.1/776.4 MB\u001b[0m \u001b[31m178.5 MB/s\u001b[0m eta \u001b[36m0:00:05\u001b[0m"
     ]
    },
    {
     "name": "stdout",
     "output_type": "stream",
     "text": [
      "\r",
      "\u001b[2K     \u001b[91m━━━\u001b[0m\u001b[90m╺\u001b[0m\u001b[90m━━━━━━━━━━━━━━━━━━━━━━━━━━━━━━━━━━\u001b[0m \u001b[32m65.0/776.4 MB\u001b[0m \u001b[31m191.0 MB/s\u001b[0m eta \u001b[36m0:00:04\u001b[0m"
     ]
    },
    {
     "name": "stdout",
     "output_type": "stream",
     "text": [
      "\r",
      "\u001b[2K     \u001b[91m━━━\u001b[0m\u001b[91m╸\u001b[0m\u001b[90m━━━━━━━━━━━━━━━━━━━━━━━━━━━━━━━━━━\u001b[0m \u001b[32m72.8/776.4 MB\u001b[0m \u001b[31m218.2 MB/s\u001b[0m eta \u001b[36m0:00:04\u001b[0m\r",
      "\u001b[2K     \u001b[91m━━━\u001b[0m\u001b[91m╸\u001b[0m\u001b[90m━━━━━━━━━━━━━━━━━━━━━━━━━━━━━━━━━━\u001b[0m \u001b[32m79.5/776.4 MB\u001b[0m \u001b[31m203.1 MB/s\u001b[0m eta \u001b[36m0:00:04\u001b[0m"
     ]
    },
    {
     "name": "stdout",
     "output_type": "stream",
     "text": [
      "\r",
      "\u001b[2K     \u001b[91m━━━━\u001b[0m\u001b[90m╺\u001b[0m\u001b[90m━━━━━━━━━━━━━━━━━━━━━━━━━━━━━━━━━\u001b[0m \u001b[32m87.2/776.4 MB\u001b[0m \u001b[31m215.4 MB/s\u001b[0m eta \u001b[36m0:00:04\u001b[0m"
     ]
    },
    {
     "name": "stdout",
     "output_type": "stream",
     "text": [
      "\r",
      "\u001b[2K     \u001b[91m━━━━\u001b[0m\u001b[91m╸\u001b[0m\u001b[90m━━━━━━━━━━━━━━━━━━━━━━━━━━━━━━━━━\u001b[0m \u001b[32m94.2/776.4 MB\u001b[0m \u001b[31m202.4 MB/s\u001b[0m eta \u001b[36m0:00:04\u001b[0m"
     ]
    },
    {
     "name": "stdout",
     "output_type": "stream",
     "text": [
      "\r",
      "\u001b[2K     \u001b[91m━━━━\u001b[0m\u001b[91m╸\u001b[0m\u001b[90m━━━━━━━━━━━━━━━━━━━━━━━━━━━━━━━━━\u001b[0m \u001b[32m99.1/776.4 MB\u001b[0m \u001b[31m163.5 MB/s\u001b[0m eta \u001b[36m0:00:05\u001b[0m\r",
      "\u001b[2K     \u001b[91m━━━━━\u001b[0m\u001b[90m╺\u001b[0m\u001b[90m━━━━━━━━━━━━━━━━━━━━━━━━━━━━━━━\u001b[0m \u001b[32m107.0/776.4 MB\u001b[0m \u001b[31m204.6 MB/s\u001b[0m eta \u001b[36m0:00:04\u001b[0m"
     ]
    },
    {
     "name": "stdout",
     "output_type": "stream",
     "text": [
      "\r",
      "\u001b[2K     \u001b[91m━━━━━\u001b[0m\u001b[90m╺\u001b[0m\u001b[90m━━━━━━━━━━━━━━━━━━━━━━━━━━━━━━━\u001b[0m \u001b[32m114.2/776.4 MB\u001b[0m \u001b[31m206.5 MB/s\u001b[0m eta \u001b[36m0:00:04\u001b[0m"
     ]
    },
    {
     "name": "stdout",
     "output_type": "stream",
     "text": [
      "\r",
      "\u001b[2K     \u001b[91m━━━━━\u001b[0m\u001b[91m╸\u001b[0m\u001b[90m━━━━━━━━━━━━━━━━━━━━━━━━━━━━━━━\u001b[0m \u001b[32m120.4/776.4 MB\u001b[0m \u001b[31m192.1 MB/s\u001b[0m eta \u001b[36m0:00:04\u001b[0m\r",
      "\u001b[2K     \u001b[91m━━━━━━\u001b[0m\u001b[90m╺\u001b[0m\u001b[90m━━━━━━━━━━━━━━━━━━━━━━━━━━━━━━\u001b[0m \u001b[32m127.3/776.4 MB\u001b[0m \u001b[31m201.2 MB/s\u001b[0m eta \u001b[36m0:00:04\u001b[0m"
     ]
    },
    {
     "name": "stdout",
     "output_type": "stream",
     "text": [
      "\r",
      "\u001b[2K     \u001b[91m━━━━━━\u001b[0m\u001b[90m╺\u001b[0m\u001b[90m━━━━━━━━━━━━━━━━━━━━━━━━━━━━━━\u001b[0m \u001b[32m134.7/776.4 MB\u001b[0m \u001b[31m227.2 MB/s\u001b[0m eta \u001b[36m0:00:03\u001b[0m"
     ]
    },
    {
     "name": "stdout",
     "output_type": "stream",
     "text": [
      "\r",
      "\u001b[2K     \u001b[91m━━━━━━\u001b[0m\u001b[91m╸\u001b[0m\u001b[90m━━━━━━━━━━━━━━━━━━━━━━━━━━━━━━\u001b[0m \u001b[32m142.5/776.4 MB\u001b[0m \u001b[31m213.9 MB/s\u001b[0m eta \u001b[36m0:00:03\u001b[0m\r",
      "\u001b[2K     \u001b[91m━━━━━━━\u001b[0m\u001b[90m╺\u001b[0m\u001b[90m━━━━━━━━━━━━━━━━━━━━━━━━━━━━━\u001b[0m \u001b[32m150.1/776.4 MB\u001b[0m \u001b[31m217.4 MB/s\u001b[0m eta \u001b[36m0:00:03\u001b[0m"
     ]
    },
    {
     "name": "stdout",
     "output_type": "stream",
     "text": [
      "\r",
      "\u001b[2K     \u001b[91m━━━━━━━\u001b[0m\u001b[91m╸\u001b[0m\u001b[90m━━━━━━━━━━━━━━━━━━━━━━━━━━━━━\u001b[0m \u001b[32m158.3/776.4 MB\u001b[0m \u001b[31m229.2 MB/s\u001b[0m eta \u001b[36m0:00:03\u001b[0m"
     ]
    },
    {
     "name": "stdout",
     "output_type": "stream",
     "text": [
      "\r",
      "\u001b[2K     \u001b[91m━━━━━━━\u001b[0m\u001b[91m╸\u001b[0m\u001b[90m━━━━━━━━━━━━━━━━━━━━━━━━━━━━━\u001b[0m \u001b[32m166.4/776.4 MB\u001b[0m \u001b[31m227.5 MB/s\u001b[0m eta \u001b[36m0:00:03\u001b[0m"
     ]
    },
    {
     "name": "stdout",
     "output_type": "stream",
     "text": [
      "\r",
      "\u001b[2K     \u001b[91m━━━━━━━━\u001b[0m\u001b[90m╺\u001b[0m\u001b[90m━━━━━━━━━━━━━━━━━━━━━━━━━━━━\u001b[0m \u001b[32m174.3/776.4 MB\u001b[0m \u001b[31m221.6 MB/s\u001b[0m eta \u001b[36m0:00:03\u001b[0m\r",
      "\u001b[2K     \u001b[91m━━━━━━━━\u001b[0m\u001b[91m╸\u001b[0m\u001b[90m━━━━━━━━━━━━━━━━━━━━━━━━━━━━\u001b[0m \u001b[32m182.3/776.4 MB\u001b[0m \u001b[31m228.0 MB/s\u001b[0m eta \u001b[36m0:00:03\u001b[0m"
     ]
    },
    {
     "name": "stdout",
     "output_type": "stream",
     "text": [
      "\r",
      "\u001b[2K     \u001b[91m━━━━━━━━━\u001b[0m\u001b[90m╺\u001b[0m\u001b[90m━━━━━━━━━━━━━━━━━━━━━━━━━━━\u001b[0m \u001b[32m189.7/776.4 MB\u001b[0m \u001b[31m214.6 MB/s\u001b[0m eta \u001b[36m0:00:03\u001b[0m"
     ]
    },
    {
     "name": "stdout",
     "output_type": "stream",
     "text": [
      "\r",
      "\u001b[2K     \u001b[91m━━━━━━━━━\u001b[0m\u001b[90m╺\u001b[0m\u001b[90m━━━━━━━━━━━━━━━━━━━━━━━━━━━\u001b[0m \u001b[32m197.4/776.4 MB\u001b[0m \u001b[31m206.2 MB/s\u001b[0m eta \u001b[36m0:00:03\u001b[0m\r",
      "\u001b[2K     \u001b[91m━━━━━━━━━\u001b[0m\u001b[91m╸\u001b[0m\u001b[90m━━━━━━━━━━━━━━━━━━━━━━━━━━━\u001b[0m \u001b[32m204.8/776.4 MB\u001b[0m \u001b[31m204.7 MB/s\u001b[0m eta \u001b[36m0:00:03\u001b[0m"
     ]
    },
    {
     "name": "stdout",
     "output_type": "stream",
     "text": [
      "\r",
      "\u001b[2K     \u001b[91m━━━━━━━━━━\u001b[0m\u001b[90m╺\u001b[0m\u001b[90m━━━━━━━━━━━━━━━━━━━━━━━━━━\u001b[0m \u001b[32m210.5/776.4 MB\u001b[0m \u001b[31m189.3 MB/s\u001b[0m eta \u001b[36m0:00:03\u001b[0m"
     ]
    },
    {
     "name": "stdout",
     "output_type": "stream",
     "text": [
      "\r",
      "\u001b[2K     \u001b[91m━━━━━━━━━━\u001b[0m\u001b[90m╺\u001b[0m\u001b[90m━━━━━━━━━━━━━━━━━━━━━━━━━━\u001b[0m \u001b[32m217.7/776.4 MB\u001b[0m \u001b[31m191.3 MB/s\u001b[0m eta \u001b[36m0:00:03\u001b[0m"
     ]
    },
    {
     "name": "stdout",
     "output_type": "stream",
     "text": [
      "\r",
      "\u001b[2K     \u001b[91m━━━━━━━━━━\u001b[0m\u001b[91m╸\u001b[0m\u001b[90m━━━━━━━━━━━━━━━━━━━━━━━━━━\u001b[0m \u001b[32m225.1/776.4 MB\u001b[0m \u001b[31m209.0 MB/s\u001b[0m eta \u001b[36m0:00:03\u001b[0m\r",
      "\u001b[2K     \u001b[91m━━━━━━━━━━━\u001b[0m\u001b[90m╺\u001b[0m\u001b[90m━━━━━━━━━━━━━━━━━━━━━━━━━\u001b[0m \u001b[32m233.3/776.4 MB\u001b[0m \u001b[31m201.6 MB/s\u001b[0m eta \u001b[36m0:00:03\u001b[0m"
     ]
    },
    {
     "name": "stdout",
     "output_type": "stream",
     "text": [
      "\r",
      "\u001b[2K     \u001b[91m━━━━━━━━━━━\u001b[0m\u001b[90m╺\u001b[0m\u001b[90m━━━━━━━━━━━━━━━━━━━━━━━━━\u001b[0m \u001b[32m241.0/776.4 MB\u001b[0m \u001b[31m215.4 MB/s\u001b[0m eta \u001b[36m0:00:03\u001b[0m"
     ]
    },
    {
     "name": "stdout",
     "output_type": "stream",
     "text": [
      "\r",
      "\u001b[2K     \u001b[91m━━━━━━━━━━━\u001b[0m\u001b[91m╸\u001b[0m\u001b[90m━━━━━━━━━━━━━━━━━━━━━━━━━\u001b[0m \u001b[32m245.7/776.4 MB\u001b[0m \u001b[31m175.6 MB/s\u001b[0m eta \u001b[36m0:00:04\u001b[0m\r",
      "\u001b[2K     \u001b[91m━━━━━━━━━━━━\u001b[0m\u001b[90m╺\u001b[0m\u001b[90m━━━━━━━━━━━━━━━━━━━━━━━━\u001b[0m \u001b[32m252.1/776.4 MB\u001b[0m \u001b[31m158.2 MB/s\u001b[0m eta \u001b[36m0:00:04\u001b[0m"
     ]
    },
    {
     "name": "stdout",
     "output_type": "stream",
     "text": [
      "\r",
      "\u001b[2K     \u001b[91m━━━━━━━━━━━━\u001b[0m\u001b[90m╺\u001b[0m\u001b[90m━━━━━━━━━━━━━━━━━━━━━━━━\u001b[0m \u001b[32m258.5/776.4 MB\u001b[0m \u001b[31m183.3 MB/s\u001b[0m eta \u001b[36m0:00:03\u001b[0m"
     ]
    },
    {
     "name": "stdout",
     "output_type": "stream",
     "text": [
      "\r",
      "\u001b[2K     \u001b[91m━━━━━━━━━━━━\u001b[0m\u001b[91m╸\u001b[0m\u001b[90m━━━━━━━━━━━━━━━━━━━━━━━━\u001b[0m \u001b[32m263.9/776.4 MB\u001b[0m \u001b[31m168.3 MB/s\u001b[0m eta \u001b[36m0:00:04\u001b[0m\r",
      "\u001b[2K     \u001b[91m━━━━━━━━━━━━\u001b[0m\u001b[91m╸\u001b[0m\u001b[90m━━━━━━━━━━━━━━━━━━━━━━━━\u001b[0m \u001b[32m270.3/776.4 MB\u001b[0m \u001b[31m168.5 MB/s\u001b[0m eta \u001b[36m0:00:04\u001b[0m"
     ]
    },
    {
     "name": "stdout",
     "output_type": "stream",
     "text": [
      "\r",
      "\u001b[2K     \u001b[91m━━━━━━━━━━━━━\u001b[0m\u001b[90m╺\u001b[0m\u001b[90m━━━━━━━━━━━━━━━━━━━━━━━\u001b[0m \u001b[32m276.6/776.4 MB\u001b[0m \u001b[31m181.3 MB/s\u001b[0m eta \u001b[36m0:00:03\u001b[0m"
     ]
    },
    {
     "name": "stdout",
     "output_type": "stream",
     "text": [
      "\r",
      "\u001b[2K     \u001b[91m━━━━━━━━━━━━━\u001b[0m\u001b[90m╺\u001b[0m\u001b[90m━━━━━━━━━━━━━━━━━━━━━━━\u001b[0m \u001b[32m282.1/776.4 MB\u001b[0m \u001b[31m166.3 MB/s\u001b[0m eta \u001b[36m0:00:03\u001b[0m\r",
      "\u001b[2K     \u001b[91m━━━━━━━━━━━━━\u001b[0m\u001b[91m╸\u001b[0m\u001b[90m━━━━━━━━━━━━━━━━━━━━━━━\u001b[0m \u001b[32m288.3/776.4 MB\u001b[0m \u001b[31m164.9 MB/s\u001b[0m eta \u001b[36m0:00:03\u001b[0m"
     ]
    },
    {
     "name": "stdout",
     "output_type": "stream",
     "text": [
      "\r",
      "\u001b[2K     \u001b[91m━━━━━━━━━━━━━\u001b[0m\u001b[91m╸\u001b[0m\u001b[90m━━━━━━━━━━━━━━━━━━━━━━━\u001b[0m \u001b[32m293.6/776.4 MB\u001b[0m \u001b[31m164.1 MB/s\u001b[0m eta \u001b[36m0:00:03\u001b[0m"
     ]
    },
    {
     "name": "stdout",
     "output_type": "stream",
     "text": [
      "\r",
      "\u001b[2K     \u001b[91m━━━━━━━━━━━━━━\u001b[0m\u001b[90m╺\u001b[0m\u001b[90m━━━━━━━━━━━━━━━━━━━━━━\u001b[0m \u001b[32m301.4/776.4 MB\u001b[0m \u001b[31m195.9 MB/s\u001b[0m eta \u001b[36m0:00:03\u001b[0m"
     ]
    },
    {
     "name": "stdout",
     "output_type": "stream",
     "text": [
      "\r",
      "\u001b[2K     \u001b[91m━━━━━━━━━━━━━━\u001b[0m\u001b[91m╸\u001b[0m\u001b[90m━━━━━━━━━━━━━━━━━━━━━━\u001b[0m \u001b[32m309.3/776.4 MB\u001b[0m \u001b[31m225.7 MB/s\u001b[0m eta \u001b[36m0:00:03\u001b[0m\r",
      "\u001b[2K     \u001b[91m━━━━━━━━━━━━━━━\u001b[0m\u001b[90m╺\u001b[0m\u001b[90m━━━━━━━━━━━━━━━━━━━━━\u001b[0m \u001b[32m315.1/776.4 MB\u001b[0m \u001b[31m202.3 MB/s\u001b[0m eta \u001b[36m0:00:03\u001b[0m"
     ]
    },
    {
     "name": "stdout",
     "output_type": "stream",
     "text": [
      "\r",
      "\u001b[2K     \u001b[91m━━━━━━━━━━━━━━━\u001b[0m\u001b[90m╺\u001b[0m\u001b[90m━━━━━━━━━━━━━━━━━━━━━\u001b[0m \u001b[32m321.5/776.4 MB\u001b[0m \u001b[31m172.4 MB/s\u001b[0m eta \u001b[36m0:00:03\u001b[0m"
     ]
    },
    {
     "name": "stdout",
     "output_type": "stream",
     "text": [
      "\r",
      "\u001b[2K     \u001b[91m━━━━━━━━━━━━━━━\u001b[0m\u001b[91m╸\u001b[0m\u001b[90m━━━━━━━━━━━━━━━━━━━━━\u001b[0m \u001b[32m327.9/776.4 MB\u001b[0m \u001b[31m183.2 MB/s\u001b[0m eta \u001b[36m0:00:03\u001b[0m\r",
      "\u001b[2K     \u001b[91m━━━━━━━━━━━━━━━\u001b[0m\u001b[91m╸\u001b[0m\u001b[90m━━━━━━━━━━━━━━━━━━━━━\u001b[0m \u001b[32m333.4/776.4 MB\u001b[0m \u001b[31m166.1 MB/s\u001b[0m eta \u001b[36m0:00:03\u001b[0m"
     ]
    },
    {
     "name": "stdout",
     "output_type": "stream",
     "text": [
      "\r",
      "\u001b[2K     \u001b[91m━━━━━━━━━━━━━━━━\u001b[0m\u001b[90m╺\u001b[0m\u001b[90m━━━━━━━━━━━━━━━━━━━━\u001b[0m \u001b[32m339.7/776.4 MB\u001b[0m \u001b[31m164.2 MB/s\u001b[0m eta \u001b[36m0:00:03\u001b[0m"
     ]
    },
    {
     "name": "stdout",
     "output_type": "stream",
     "text": [
      "\r",
      "\u001b[2K     \u001b[91m━━━━━━━━━━━━━━━━\u001b[0m\u001b[90m╺\u001b[0m\u001b[90m━━━━━━━━━━━━━━━━━━━━\u001b[0m \u001b[32m346.2/776.4 MB\u001b[0m \u001b[31m183.2 MB/s\u001b[0m eta \u001b[36m0:00:03\u001b[0m"
     ]
    },
    {
     "name": "stdout",
     "output_type": "stream",
     "text": [
      "\r",
      "\u001b[2K     \u001b[91m━━━━━━━━━━━━━━━━\u001b[0m\u001b[91m╸\u001b[0m\u001b[90m━━━━━━━━━━━━━━━━━━━━\u001b[0m \u001b[32m351.6/776.4 MB\u001b[0m \u001b[31m167.9 MB/s\u001b[0m eta \u001b[36m0:00:03\u001b[0m\r",
      "\u001b[2K     \u001b[91m━━━━━━━━━━━━━━━━━\u001b[0m\u001b[90m╺\u001b[0m\u001b[90m━━━━━━━━━━━━━━━━━━━\u001b[0m \u001b[32m358.1/776.4 MB\u001b[0m \u001b[31m161.5 MB/s\u001b[0m eta \u001b[36m0:00:03\u001b[0m"
     ]
    },
    {
     "name": "stdout",
     "output_type": "stream",
     "text": [
      "\r",
      "\u001b[2K     \u001b[91m━━━━━━━━━━━━━━━━━\u001b[0m\u001b[90m╺\u001b[0m\u001b[90m━━━━━━━━━━━━━━━━━━━\u001b[0m \u001b[32m365.4/776.4 MB\u001b[0m \u001b[31m199.8 MB/s\u001b[0m eta \u001b[36m0:00:03\u001b[0m"
     ]
    },
    {
     "name": "stdout",
     "output_type": "stream",
     "text": [
      "\r",
      "\u001b[2K     \u001b[91m━━━━━━━━━━━━━━━━━\u001b[0m\u001b[91m╸\u001b[0m\u001b[90m━━━━━━━━━━━━━━━━━━━\u001b[0m \u001b[32m371.5/776.4 MB\u001b[0m \u001b[31m185.5 MB/s\u001b[0m eta \u001b[36m0:00:03\u001b[0m\r",
      "\u001b[2K     \u001b[91m━━━━━━━━━━━━━━━━━━\u001b[0m\u001b[90m╺\u001b[0m\u001b[90m━━━━━━━━━━━━━━━━━━\u001b[0m \u001b[32m378.1/776.4 MB\u001b[0m \u001b[31m185.1 MB/s\u001b[0m eta \u001b[36m0:00:03\u001b[0m"
     ]
    },
    {
     "name": "stdout",
     "output_type": "stream",
     "text": [
      "\r",
      "\u001b[2K     \u001b[91m━━━━━━━━━━━━━━━━━━\u001b[0m\u001b[90m╺\u001b[0m\u001b[90m━━━━━━━━━━━━━━━━━━\u001b[0m \u001b[32m383.9/776.4 MB\u001b[0m \u001b[31m181.1 MB/s\u001b[0m eta \u001b[36m0:00:03\u001b[0m"
     ]
    },
    {
     "name": "stdout",
     "output_type": "stream",
     "text": [
      "\r",
      "\u001b[2K     \u001b[91m━━━━━━━━━━━━━━━━━━\u001b[0m\u001b[91m╸\u001b[0m\u001b[90m━━━━━━━━━━━━━━━━━━\u001b[0m \u001b[32m389.5/776.4 MB\u001b[0m \u001b[31m162.9 MB/s\u001b[0m eta \u001b[36m0:00:03\u001b[0m\r",
      "\u001b[2K     \u001b[91m━━━━━━━━━━━━━━━━━━\u001b[0m\u001b[91m╸\u001b[0m\u001b[90m━━━━━━━━━━━━━━━━━━\u001b[0m \u001b[32m396.9/776.4 MB\u001b[0m \u001b[31m199.1 MB/s\u001b[0m eta \u001b[36m0:00:02\u001b[0m"
     ]
    },
    {
     "name": "stdout",
     "output_type": "stream",
     "text": [
      "\r",
      "\u001b[2K     \u001b[91m━━━━━━━━━━━━━━━━━━━\u001b[0m\u001b[90m╺\u001b[0m\u001b[90m━━━━━━━━━━━━━━━━━\u001b[0m \u001b[32m401.6/776.4 MB\u001b[0m \u001b[31m167.8 MB/s\u001b[0m eta \u001b[36m0:00:03\u001b[0m"
     ]
    },
    {
     "name": "stdout",
     "output_type": "stream",
     "text": [
      "\r",
      "\u001b[2K     \u001b[91m━━━━━━━━━━━━━━━━━━━\u001b[0m\u001b[90m╺\u001b[0m\u001b[90m━━━━━━━━━━━━━━━━━\u001b[0m \u001b[32m407.9/776.4 MB\u001b[0m \u001b[31m157.1 MB/s\u001b[0m eta \u001b[36m0:00:03\u001b[0m"
     ]
    },
    {
     "name": "stdout",
     "output_type": "stream",
     "text": [
      "\r",
      "\u001b[2K     \u001b[91m━━━━━━━━━━━━━━━━━━━\u001b[0m\u001b[91m╸\u001b[0m\u001b[90m━━━━━━━━━━━━━━━━━\u001b[0m \u001b[32m414.2/776.4 MB\u001b[0m \u001b[31m180.6 MB/s\u001b[0m eta \u001b[36m0:00:03\u001b[0m\r",
      "\u001b[2K     \u001b[91m━━━━━━━━━━━━━━━━━━━━\u001b[0m\u001b[90m╺\u001b[0m\u001b[90m━━━━━━━━━━━━━━━━\u001b[0m \u001b[32m420.3/776.4 MB\u001b[0m \u001b[31m178.9 MB/s\u001b[0m eta \u001b[36m0:00:02\u001b[0m"
     ]
    },
    {
     "name": "stdout",
     "output_type": "stream",
     "text": [
      "\r",
      "\u001b[2K     \u001b[91m━━━━━━━━━━━━━━━━━━━━\u001b[0m\u001b[90m╺\u001b[0m\u001b[90m━━━━━━━━━━━━━━━━\u001b[0m \u001b[32m426.8/776.4 MB\u001b[0m \u001b[31m193.7 MB/s\u001b[0m eta \u001b[36m0:00:02\u001b[0m"
     ]
    },
    {
     "name": "stdout",
     "output_type": "stream",
     "text": [
      "\r",
      "\u001b[2K     \u001b[91m━━━━━━━━━━━━━━━━━━━━\u001b[0m\u001b[91m╸\u001b[0m\u001b[90m━━━━━━━━━━━━━━━━\u001b[0m \u001b[32m434.4/776.4 MB\u001b[0m \u001b[31m223.3 MB/s\u001b[0m eta \u001b[36m0:00:02\u001b[0m\r",
      "\u001b[2K     \u001b[91m━━━━━━━━━━━━━━━━━━━━━\u001b[0m\u001b[90m╺\u001b[0m\u001b[90m━━━━━━━━━━━━━━━\u001b[0m \u001b[32m441.3/776.4 MB\u001b[0m \u001b[31m198.3 MB/s\u001b[0m eta \u001b[36m0:00:02\u001b[0m"
     ]
    },
    {
     "name": "stdout",
     "output_type": "stream",
     "text": [
      "\r",
      "\u001b[2K     \u001b[91m━━━━━━━━━━━━━━━━━━━━━\u001b[0m\u001b[90m╺\u001b[0m\u001b[90m━━━━━━━━━━━━━━━\u001b[0m \u001b[32m448.7/776.4 MB\u001b[0m \u001b[31m201.0 MB/s\u001b[0m eta \u001b[36m0:00:02\u001b[0m"
     ]
    },
    {
     "name": "stdout",
     "output_type": "stream",
     "text": [
      "\r",
      "\u001b[2K     \u001b[91m━━━━━━━━━━━━━━━━━━━━━\u001b[0m\u001b[91m╸\u001b[0m\u001b[90m━━━━━━━━━━━━━━━\u001b[0m \u001b[32m456.5/776.4 MB\u001b[0m \u001b[31m226.1 MB/s\u001b[0m eta \u001b[36m0:00:02\u001b[0m"
     ]
    },
    {
     "name": "stdout",
     "output_type": "stream",
     "text": [
      "\r",
      "\u001b[2K     \u001b[91m━━━━━━━━━━━━━━━━━━━━━━\u001b[0m\u001b[90m╺\u001b[0m\u001b[90m━━━━━━━━━━━━━━\u001b[0m \u001b[32m462.6/776.4 MB\u001b[0m \u001b[31m162.7 MB/s\u001b[0m eta \u001b[36m0:00:02\u001b[0m\r",
      "\u001b[2K     \u001b[91m━━━━━━━━━━━━━━━━━━━━━━\u001b[0m\u001b[90m╺\u001b[0m\u001b[90m━━━━━━━━━━━━━━\u001b[0m \u001b[32m469.8/776.4 MB\u001b[0m \u001b[31m190.4 MB/s\u001b[0m eta \u001b[36m0:00:02\u001b[0m"
     ]
    },
    {
     "name": "stdout",
     "output_type": "stream",
     "text": [
      "\r",
      "\u001b[2K     \u001b[91m━━━━━━━━━━━━━━━━━━━━━━\u001b[0m\u001b[91m╸\u001b[0m\u001b[90m━━━━━━━━━━━━━━\u001b[0m \u001b[32m474.9/776.4 MB\u001b[0m \u001b[31m170.5 MB/s\u001b[0m eta \u001b[36m0:00:02\u001b[0m"
     ]
    },
    {
     "name": "stdout",
     "output_type": "stream",
     "text": [
      "\r",
      "\u001b[2K     \u001b[91m━━━━━━━━━━━━━━━━━━━━━━\u001b[0m\u001b[91m╸\u001b[0m\u001b[90m━━━━━━━━━━━━━━\u001b[0m \u001b[32m480.6/776.4 MB\u001b[0m \u001b[31m153.9 MB/s\u001b[0m eta \u001b[36m0:00:02\u001b[0m\r",
      "\u001b[2K     \u001b[91m━━━━━━━━━━━━━━━━━━━━━━━\u001b[0m\u001b[90m╺\u001b[0m\u001b[90m━━━━━━━━━━━━━\u001b[0m \u001b[32m487.8/776.4 MB\u001b[0m \u001b[31m199.2 MB/s\u001b[0m eta \u001b[36m0:00:02\u001b[0m"
     ]
    },
    {
     "name": "stdout",
     "output_type": "stream",
     "text": [
      "\r",
      "\u001b[2K     \u001b[91m━━━━━━━━━━━━━━━━━━━━━━━\u001b[0m\u001b[91m╸\u001b[0m\u001b[90m━━━━━━━━━━━━━\u001b[0m \u001b[32m493.8/776.4 MB\u001b[0m \u001b[31m182.0 MB/s\u001b[0m eta \u001b[36m0:00:02\u001b[0m"
     ]
    },
    {
     "name": "stdout",
     "output_type": "stream",
     "text": [
      "\r",
      "\u001b[2K     \u001b[91m━━━━━━━━━━━━━━━━━━━━━━━\u001b[0m\u001b[91m╸\u001b[0m\u001b[90m━━━━━━━━━━━━━\u001b[0m \u001b[32m501.0/776.4 MB\u001b[0m \u001b[31m203.7 MB/s\u001b[0m eta \u001b[36m0:00:02\u001b[0m\r",
      "\u001b[2K     \u001b[91m━━━━━━━━━━━━━━━━━━━━━━━━\u001b[0m\u001b[90m╺\u001b[0m\u001b[90m━━━━━━━━━━━━\u001b[0m \u001b[32m508.3/776.4 MB\u001b[0m \u001b[31m204.9 MB/s\u001b[0m eta \u001b[36m0:00:02\u001b[0m"
     ]
    },
    {
     "name": "stdout",
     "output_type": "stream",
     "text": [
      "\r",
      "\u001b[2K     \u001b[91m━━━━━━━━━━━━━━━━━━━━━━━━\u001b[0m\u001b[90m╺\u001b[0m\u001b[90m━━━━━━━━━━━━\u001b[0m \u001b[32m512.8/776.4 MB\u001b[0m \u001b[31m164.0 MB/s\u001b[0m eta \u001b[36m0:00:02\u001b[0m"
     ]
    },
    {
     "name": "stdout",
     "output_type": "stream",
     "text": [
      "\r",
      "\u001b[2K     \u001b[91m━━━━━━━━━━━━━━━━━━━━━━━━\u001b[0m\u001b[91m╸\u001b[0m\u001b[90m━━━━━━━━━━━━\u001b[0m \u001b[32m519.9/776.4 MB\u001b[0m \u001b[31m192.0 MB/s\u001b[0m eta \u001b[36m0:00:02\u001b[0m\r",
      "\u001b[2K     \u001b[91m━━━━━━━━━━━━━━━━━━━━━━━━━\u001b[0m\u001b[90m╺\u001b[0m\u001b[90m━━━━━━━━━━━\u001b[0m \u001b[32m527.2/776.4 MB\u001b[0m \u001b[31m204.5 MB/s\u001b[0m eta \u001b[36m0:00:02\u001b[0m"
     ]
    },
    {
     "name": "stdout",
     "output_type": "stream",
     "text": [
      "\r",
      "\u001b[2K     \u001b[91m━━━━━━━━━━━━━━━━━━━━━━━━━\u001b[0m\u001b[90m╺\u001b[0m\u001b[90m━━━━━━━━━━━\u001b[0m \u001b[32m533.3/776.4 MB\u001b[0m \u001b[31m177.0 MB/s\u001b[0m eta \u001b[36m0:00:02\u001b[0m"
     ]
    },
    {
     "name": "stdout",
     "output_type": "stream",
     "text": [
      "\r",
      "\u001b[2K     \u001b[91m━━━━━━━━━━━━━━━━━━━━━━━━━\u001b[0m\u001b[91m╸\u001b[0m\u001b[90m━━━━━━━━━━━\u001b[0m \u001b[32m539.7/776.4 MB\u001b[0m \u001b[31m181.9 MB/s\u001b[0m eta \u001b[36m0:00:02\u001b[0m"
     ]
    },
    {
     "name": "stdout",
     "output_type": "stream",
     "text": [
      "\r",
      "\u001b[2K     \u001b[91m━━━━━━━━━━━━━━━━━━━━━━━━━\u001b[0m\u001b[91m╸\u001b[0m\u001b[90m━━━━━━━━━━━\u001b[0m \u001b[32m543.9/776.4 MB\u001b[0m \u001b[31m150.8 MB/s\u001b[0m eta \u001b[36m0:00:02\u001b[0m\r",
      "\u001b[2K     \u001b[91m━━━━━━━━━━━━━━━━━━━━━━━━━━\u001b[0m\u001b[90m╺\u001b[0m\u001b[90m━━━━━━━━━━\u001b[0m \u001b[32m551.4/776.4 MB\u001b[0m \u001b[31m152.4 MB/s\u001b[0m eta \u001b[36m0:00:02\u001b[0m"
     ]
    },
    {
     "name": "stdout",
     "output_type": "stream",
     "text": [
      "\r",
      "\u001b[2K     \u001b[91m━━━━━━━━━━━━━━━━━━━━━━━━━━\u001b[0m\u001b[91m╸\u001b[0m\u001b[90m━━━━━━━━━━\u001b[0m \u001b[32m558.8/776.4 MB\u001b[0m \u001b[31m205.2 MB/s\u001b[0m eta \u001b[36m0:00:02\u001b[0m"
     ]
    },
    {
     "name": "stdout",
     "output_type": "stream",
     "text": [
      "\r",
      "\u001b[2K     \u001b[91m━━━━━━━━━━━━━━━━━━━━━━━━━━\u001b[0m\u001b[91m╸\u001b[0m\u001b[90m━━━━━━━━━━\u001b[0m \u001b[32m565.3/776.4 MB\u001b[0m \u001b[31m196.1 MB/s\u001b[0m eta \u001b[36m0:00:02\u001b[0m\r",
      "\u001b[2K     \u001b[91m━━━━━━━━━━━━━━━━━━━━━━━━━━━\u001b[0m\u001b[90m╺\u001b[0m\u001b[90m━━━━━━━━━\u001b[0m \u001b[32m573.1/776.4 MB\u001b[0m \u001b[31m218.5 MB/s\u001b[0m eta \u001b[36m0:00:01\u001b[0m"
     ]
    },
    {
     "name": "stdout",
     "output_type": "stream",
     "text": [
      "\r",
      "\u001b[2K     \u001b[91m━━━━━━━━━━━━━━━━━━━━━━━━━━━\u001b[0m\u001b[91m╸\u001b[0m\u001b[90m━━━━━━━━━\u001b[0m \u001b[32m580.7/776.4 MB\u001b[0m \u001b[31m218.3 MB/s\u001b[0m eta \u001b[36m0:00:01\u001b[0m"
     ]
    },
    {
     "name": "stdout",
     "output_type": "stream",
     "text": [
      "\r",
      "\u001b[2K     \u001b[91m━━━━━━━━━━━━━━━━━━━━━━━━━━━\u001b[0m\u001b[91m╸\u001b[0m\u001b[90m━━━━━━━━━\u001b[0m \u001b[32m584.6/776.4 MB\u001b[0m \u001b[31m160.5 MB/s\u001b[0m eta \u001b[36m0:00:02\u001b[0m"
     ]
    },
    {
     "name": "stdout",
     "output_type": "stream",
     "text": [
      "\r",
      "\u001b[2K     \u001b[91m━━━━━━━━━━━━━━━━━━━━━━━━━━━━\u001b[0m\u001b[90m╺\u001b[0m\u001b[90m━━━━━━━━\u001b[0m \u001b[32m592.1/776.4 MB\u001b[0m \u001b[31m176.8 MB/s\u001b[0m eta \u001b[36m0:00:02\u001b[0m\r",
      "\u001b[2K     \u001b[91m━━━━━━━━━━━━━━━━━━━━━━━━━━━━\u001b[0m\u001b[91m╸\u001b[0m\u001b[90m━━━━━━━━\u001b[0m \u001b[32m599.5/776.4 MB\u001b[0m \u001b[31m219.7 MB/s\u001b[0m eta \u001b[36m0:00:01\u001b[0m"
     ]
    },
    {
     "name": "stdout",
     "output_type": "stream",
     "text": [
      "\r",
      "\u001b[2K     \u001b[91m━━━━━━━━━━━━━━━━━━━━━━━━━━━━\u001b[0m\u001b[91m╸\u001b[0m\u001b[90m━━━━━━━━\u001b[0m \u001b[32m604.7/776.4 MB\u001b[0m \u001b[31m167.8 MB/s\u001b[0m eta \u001b[36m0:00:02\u001b[0m"
     ]
    },
    {
     "name": "stdout",
     "output_type": "stream",
     "text": [
      "\r",
      "\u001b[2K     \u001b[91m━━━━━━━━━━━━━━━━━━━━━━━━━━━━━\u001b[0m\u001b[90m╺\u001b[0m\u001b[90m━━━━━━━\u001b[0m \u001b[32m612.2/776.4 MB\u001b[0m \u001b[31m199.7 MB/s\u001b[0m eta \u001b[36m0:00:01\u001b[0m\r",
      "\u001b[2K     \u001b[91m━━━━━━━━━━━━━━━━━━━━━━━━━━━━━\u001b[0m\u001b[90m╺\u001b[0m\u001b[90m━━━━━━━\u001b[0m \u001b[32m617.7/776.4 MB\u001b[0m \u001b[31m178.5 MB/s\u001b[0m eta \u001b[36m0:00:01\u001b[0m"
     ]
    },
    {
     "name": "stdout",
     "output_type": "stream",
     "text": [
      "\r",
      "\u001b[2K     \u001b[91m━━━━━━━━━━━━━━━━━━━━━━━━━━━━━\u001b[0m\u001b[91m╸\u001b[0m\u001b[90m━━━━━━━\u001b[0m \u001b[32m625.1/776.4 MB\u001b[0m \u001b[31m184.2 MB/s\u001b[0m eta \u001b[36m0:00:01\u001b[0m"
     ]
    },
    {
     "name": "stdout",
     "output_type": "stream",
     "text": [
      "\r",
      "\u001b[2K     \u001b[91m━━━━━━━━━━━━━━━━━━━━━━━━━━━━━━\u001b[0m\u001b[90m╺\u001b[0m\u001b[90m━━━━━━\u001b[0m \u001b[32m631.4/776.4 MB\u001b[0m \u001b[31m193.9 MB/s\u001b[0m eta \u001b[36m0:00:01\u001b[0m\r",
      "\u001b[2K     \u001b[91m━━━━━━━━━━━━━━━━━━━━━━━━━━━━━━\u001b[0m\u001b[90m╺\u001b[0m\u001b[90m━━━━━━\u001b[0m \u001b[32m636.8/776.4 MB\u001b[0m \u001b[31m165.4 MB/s\u001b[0m eta \u001b[36m0:00:01\u001b[0m"
     ]
    },
    {
     "name": "stdout",
     "output_type": "stream",
     "text": [
      "\r",
      "\u001b[2K     \u001b[91m━━━━━━━━━━━━━━━━━━━━━━━━━━━━━━\u001b[0m\u001b[91m╸\u001b[0m\u001b[90m━━━━━━\u001b[0m \u001b[32m643.1/776.4 MB\u001b[0m \u001b[31m166.2 MB/s\u001b[0m eta \u001b[36m0:00:01\u001b[0m"
     ]
    },
    {
     "name": "stdout",
     "output_type": "stream",
     "text": [
      "\r",
      "\u001b[2K     \u001b[91m━━━━━━━━━━━━━━━━━━━━━━━━━━━━━━\u001b[0m\u001b[91m╸\u001b[0m\u001b[90m━━━━━━\u001b[0m \u001b[32m649.3/776.4 MB\u001b[0m \u001b[31m179.5 MB/s\u001b[0m eta \u001b[36m0:00:01\u001b[0m"
     ]
    },
    {
     "name": "stdout",
     "output_type": "stream",
     "text": [
      "\r",
      "\u001b[2K     \u001b[91m━━━━━━━━━━━━━━━━━━━━━━━━━━━━━━━\u001b[0m\u001b[90m╺\u001b[0m\u001b[90m━━━━━\u001b[0m \u001b[32m653.9/776.4 MB\u001b[0m \u001b[31m154.0 MB/s\u001b[0m eta \u001b[36m0:00:01\u001b[0m\r",
      "\u001b[2K     \u001b[91m━━━━━━━━━━━━━━━━━━━━━━━━━━━━━━━\u001b[0m\u001b[90m╺\u001b[0m\u001b[90m━━━━━\u001b[0m \u001b[32m660.1/776.4 MB\u001b[0m \u001b[31m153.4 MB/s\u001b[0m eta \u001b[36m0:00:01\u001b[0m"
     ]
    },
    {
     "name": "stdout",
     "output_type": "stream",
     "text": [
      "\r",
      "\u001b[2K     \u001b[91m━━━━━━━━━━━━━━━━━━━━━━━━━━━━━━━\u001b[0m\u001b[91m╸\u001b[0m\u001b[90m━━━━━\u001b[0m \u001b[32m666.0/776.4 MB\u001b[0m \u001b[31m180.0 MB/s\u001b[0m eta \u001b[36m0:00:01\u001b[0m"
     ]
    },
    {
     "name": "stdout",
     "output_type": "stream",
     "text": [
      "\r",
      "\u001b[2K     \u001b[91m━━━━━━━━━━━━━━━━━━━━━━━━━━━━━━━━\u001b[0m\u001b[90m╺\u001b[0m\u001b[90m━━━━\u001b[0m \u001b[32m671.8/776.4 MB\u001b[0m \u001b[31m160.8 MB/s\u001b[0m eta \u001b[36m0:00:01\u001b[0m\r",
      "\u001b[2K     \u001b[91m━━━━━━━━━━━━━━━━━━━━━━━━━━━━━━━━\u001b[0m\u001b[90m╺\u001b[0m\u001b[90m━━━━\u001b[0m \u001b[32m678.6/776.4 MB\u001b[0m \u001b[31m197.5 MB/s\u001b[0m eta \u001b[36m0:00:01\u001b[0m"
     ]
    },
    {
     "name": "stdout",
     "output_type": "stream",
     "text": [
      "\r",
      "\u001b[2K     \u001b[91m━━━━━━━━━━━━━━━━━━━━━━━━━━━━━━━━\u001b[0m\u001b[91m╸\u001b[0m\u001b[90m━━━━\u001b[0m \u001b[32m685.1/776.4 MB\u001b[0m \u001b[31m186.3 MB/s\u001b[0m eta \u001b[36m0:00:01\u001b[0m"
     ]
    },
    {
     "name": "stdout",
     "output_type": "stream",
     "text": [
      "\r",
      "\u001b[2K     \u001b[91m━━━━━━━━━━━━━━━━━━━━━━━━━━━━━━━━━\u001b[0m\u001b[90m╺\u001b[0m\u001b[90m━━━\u001b[0m \u001b[32m693.2/776.4 MB\u001b[0m \u001b[31m219.5 MB/s\u001b[0m eta \u001b[36m0:00:01\u001b[0m\r",
      "\u001b[2K     \u001b[91m━━━━━━━━━━━━━━━━━━━━━━━━━━━━━━━━━\u001b[0m\u001b[90m╺\u001b[0m\u001b[90m━━━\u001b[0m \u001b[32m700.0/776.4 MB\u001b[0m \u001b[31m205.3 MB/s\u001b[0m eta \u001b[36m0:00:01\u001b[0m"
     ]
    },
    {
     "name": "stdout",
     "output_type": "stream",
     "text": [
      "\r",
      "\u001b[2K     \u001b[91m━━━━━━━━━━━━━━━━━━━━━━━━━━━━━━━━━\u001b[0m\u001b[91m╸\u001b[0m\u001b[90m━━━\u001b[0m \u001b[32m705.6/776.4 MB\u001b[0m \u001b[31m173.4 MB/s\u001b[0m eta \u001b[36m0:00:01\u001b[0m"
     ]
    },
    {
     "name": "stdout",
     "output_type": "stream",
     "text": [
      "\r",
      "\u001b[2K     \u001b[91m━━━━━━━━━━━━━━━━━━━━━━━━━━━━━━━━━\u001b[0m\u001b[91m╸\u001b[0m\u001b[90m━━━\u001b[0m \u001b[32m711.9/776.4 MB\u001b[0m \u001b[31m167.3 MB/s\u001b[0m eta \u001b[36m0:00:01\u001b[0m"
     ]
    },
    {
     "name": "stdout",
     "output_type": "stream",
     "text": [
      "\r",
      "\u001b[2K     \u001b[91m━━━━━━━━━━━━━━━━━━━━━━━━━━━━━━━━━━\u001b[0m\u001b[90m╺\u001b[0m\u001b[90m━━\u001b[0m \u001b[32m720.0/776.4 MB\u001b[0m \u001b[31m229.0 MB/s\u001b[0m eta \u001b[36m0:00:01\u001b[0m\r",
      "\u001b[2K     \u001b[91m━━━━━━━━━━━━━━━━━━━━━━━━━━━━━━━━━━\u001b[0m\u001b[91m╸\u001b[0m\u001b[90m━━\u001b[0m \u001b[32m725.7/776.4 MB\u001b[0m \u001b[31m186.2 MB/s\u001b[0m eta \u001b[36m0:00:01\u001b[0m"
     ]
    },
    {
     "name": "stdout",
     "output_type": "stream",
     "text": [
      "\r",
      "\u001b[2K     \u001b[91m━━━━━━━━━━━━━━━━━━━━━━━━━━━━━━━━━━\u001b[0m\u001b[91m╸\u001b[0m\u001b[90m━━\u001b[0m \u001b[32m733.7/776.4 MB\u001b[0m \u001b[31m226.7 MB/s\u001b[0m eta \u001b[36m0:00:01\u001b[0m"
     ]
    },
    {
     "name": "stdout",
     "output_type": "stream",
     "text": [
      "\r",
      "\u001b[2K     \u001b[91m━━━━━━━━━━━━━━━━━━━━━━━━━━━━━━━━━━━\u001b[0m\u001b[90m╺\u001b[0m\u001b[90m━\u001b[0m \u001b[32m741.2/776.4 MB\u001b[0m \u001b[31m213.2 MB/s\u001b[0m eta \u001b[36m0:00:01\u001b[0m\r",
      "\u001b[2K     \u001b[91m━━━━━━━━━━━━━━━━━━━━━━━━━━━━━━━━━━━\u001b[0m\u001b[91m╸\u001b[0m\u001b[90m━\u001b[0m \u001b[32m747.6/776.4 MB\u001b[0m \u001b[31m196.4 MB/s\u001b[0m eta \u001b[36m0:00:01\u001b[0m"
     ]
    },
    {
     "name": "stdout",
     "output_type": "stream",
     "text": [
      "\r",
      "\u001b[2K     \u001b[91m━━━━━━━━━━━━━━━━━━━━━━━━━━━━━━━━━━━\u001b[0m\u001b[91m╸\u001b[0m\u001b[90m━\u001b[0m \u001b[32m755.3/776.4 MB\u001b[0m \u001b[31m219.7 MB/s\u001b[0m eta \u001b[36m0:00:01\u001b[0m"
     ]
    },
    {
     "name": "stdout",
     "output_type": "stream",
     "text": [
      "\r",
      "\u001b[2K     \u001b[91m━━━━━━━━━━━━━━━━━━━━━━━━━━━━━━━━━━━━\u001b[0m\u001b[90m╺\u001b[0m \u001b[32m763.2/776.4 MB\u001b[0m \u001b[31m223.4 MB/s\u001b[0m eta \u001b[36m0:00:01\u001b[0m\r",
      "\u001b[2K     \u001b[91m━━━━━━━━━━━━━━━━━━━━━━━━━━━━━━━━━━━━\u001b[0m\u001b[91m╸\u001b[0m \u001b[32m771.0/776.4 MB\u001b[0m \u001b[31m218.0 MB/s\u001b[0m eta \u001b[36m0:00:01\u001b[0m"
     ]
    },
    {
     "name": "stdout",
     "output_type": "stream",
     "text": [
      "\r",
      "\u001b[2K     \u001b[91m━━━━━━━━━━━━━━━━━━━━━━━━━━━━━━━━━━━━\u001b[0m\u001b[91m╸\u001b[0m \u001b[32m776.3/776.4 MB\u001b[0m \u001b[31m232.3 MB/s\u001b[0m eta \u001b[36m0:00:01\u001b[0m"
     ]
    },
    {
     "name": "stdout",
     "output_type": "stream",
     "text": [
      "\r",
      "\u001b[2K     \u001b[91m━━━━━━━━━━━━━━━━━━━━━━━━━━━━━━━━━━━━\u001b[0m\u001b[91m╸\u001b[0m \u001b[32m776.3/776.4 MB\u001b[0m \u001b[31m232.3 MB/s\u001b[0m eta \u001b[36m0:00:01\u001b[0m"
     ]
    },
    {
     "name": "stdout",
     "output_type": "stream",
     "text": [
      "\r",
      "\u001b[2K     \u001b[91m━━━━━━━━━━━━━━━━━━━━━━━━━━━━━━━━━━━━\u001b[0m\u001b[91m╸\u001b[0m \u001b[32m776.3/776.4 MB\u001b[0m \u001b[31m232.3 MB/s\u001b[0m eta \u001b[36m0:00:01\u001b[0m\r",
      "\u001b[2K     \u001b[91m━━━━━━━━━━━━━━━━━━━━━━━━━━━━━━━━━━━━\u001b[0m\u001b[91m╸\u001b[0m \u001b[32m776.3/776.4 MB\u001b[0m \u001b[31m232.3 MB/s\u001b[0m eta \u001b[36m0:00:01\u001b[0m"
     ]
    },
    {
     "name": "stdout",
     "output_type": "stream",
     "text": [
      "\r",
      "\u001b[2K     \u001b[91m━━━━━━━━━━━━━━━━━━━━━━━━━━━━━━━━━━━━\u001b[0m\u001b[91m╸\u001b[0m \u001b[32m776.3/776.4 MB\u001b[0m \u001b[31m232.3 MB/s\u001b[0m eta \u001b[36m0:00:01\u001b[0m"
     ]
    },
    {
     "name": "stdout",
     "output_type": "stream",
     "text": [
      "\r",
      "\u001b[2K     \u001b[91m━━━━━━━━━━━━━━━━━━━━━━━━━━━━━━━━━━━━\u001b[0m\u001b[91m╸\u001b[0m \u001b[32m776.3/776.4 MB\u001b[0m \u001b[31m232.3 MB/s\u001b[0m eta \u001b[36m0:00:01\u001b[0m"
     ]
    },
    {
     "name": "stdout",
     "output_type": "stream",
     "text": [
      "\r",
      "\u001b[2K     \u001b[91m━━━━━━━━━━━━━━━━━━━━━━━━━━━━━━━━━━━━\u001b[0m\u001b[91m╸\u001b[0m \u001b[32m776.3/776.4 MB\u001b[0m \u001b[31m232.3 MB/s\u001b[0m eta \u001b[36m0:00:01\u001b[0m\r",
      "\u001b[2K     \u001b[91m━━━━━━━━━━━━━━━━━━━━━━━━━━━━━━━━━━━━\u001b[0m\u001b[91m╸\u001b[0m \u001b[32m776.3/776.4 MB\u001b[0m \u001b[31m232.3 MB/s\u001b[0m eta \u001b[36m0:00:01\u001b[0m"
     ]
    },
    {
     "name": "stdout",
     "output_type": "stream",
     "text": [
      "\r",
      "\u001b[2K     \u001b[91m━━━━━━━━━━━━━━━━━━━━━━━━━━━━━━━━━━━━\u001b[0m\u001b[91m╸\u001b[0m \u001b[32m776.3/776.4 MB\u001b[0m \u001b[31m232.3 MB/s\u001b[0m eta \u001b[36m0:00:01\u001b[0m"
     ]
    },
    {
     "name": "stdout",
     "output_type": "stream",
     "text": [
      "\r",
      "\u001b[2K     \u001b[91m━━━━━━━━━━━━━━━━━━━━━━━━━━━━━━━━━━━━\u001b[0m\u001b[91m╸\u001b[0m \u001b[32m776.3/776.4 MB\u001b[0m \u001b[31m232.3 MB/s\u001b[0m eta \u001b[36m0:00:01\u001b[0m\r",
      "\u001b[2K     \u001b[91m━━━━━━━━━━━━━━━━━━━━━━━━━━━━━━━━━━━━\u001b[0m\u001b[91m╸\u001b[0m \u001b[32m776.3/776.4 MB\u001b[0m \u001b[31m232.3 MB/s\u001b[0m eta \u001b[36m0:00:01\u001b[0m"
     ]
    },
    {
     "name": "stdout",
     "output_type": "stream",
     "text": [
      "\r",
      "\u001b[2K     \u001b[91m━━━━━━━━━━━━━━━━━━━━━━━━━━━━━━━━━━━━\u001b[0m\u001b[91m╸\u001b[0m \u001b[32m776.3/776.4 MB\u001b[0m \u001b[31m232.3 MB/s\u001b[0m eta \u001b[36m0:00:01\u001b[0m"
     ]
    },
    {
     "name": "stdout",
     "output_type": "stream",
     "text": [
      "\r",
      "\u001b[2K     \u001b[91m━━━━━━━━━━━━━━━━━━━━━━━━━━━━━━━━━━━━\u001b[0m\u001b[91m╸\u001b[0m \u001b[32m776.3/776.4 MB\u001b[0m \u001b[31m232.3 MB/s\u001b[0m eta \u001b[36m0:00:01\u001b[0m\r",
      "\u001b[2K     \u001b[91m━━━━━━━━━━━━━━━━━━━━━━━━━━━━━━━━━━━━\u001b[0m\u001b[91m╸\u001b[0m \u001b[32m776.3/776.4 MB\u001b[0m \u001b[31m232.3 MB/s\u001b[0m eta \u001b[36m0:00:01\u001b[0m"
     ]
    },
    {
     "name": "stdout",
     "output_type": "stream",
     "text": [
      "\r",
      "\u001b[2K     \u001b[91m━━━━━━━━━━━━━━━━━━━━━━━━━━━━━━━━━━━━\u001b[0m\u001b[91m╸\u001b[0m \u001b[32m776.3/776.4 MB\u001b[0m \u001b[31m232.3 MB/s\u001b[0m eta \u001b[36m0:00:01\u001b[0m"
     ]
    },
    {
     "name": "stdout",
     "output_type": "stream",
     "text": [
      "\r",
      "\u001b[2K     \u001b[91m━━━━━━━━━━━━━━━━━━━━━━━━━━━━━━━━━━━━\u001b[0m\u001b[91m╸\u001b[0m \u001b[32m776.3/776.4 MB\u001b[0m \u001b[31m232.3 MB/s\u001b[0m eta \u001b[36m0:00:01\u001b[0m"
     ]
    },
    {
     "name": "stdout",
     "output_type": "stream",
     "text": [
      "\r",
      "\u001b[2K     \u001b[91m━━━━━━━━━━━━━━━━━━━━━━━━━━━━━━━━━━━━\u001b[0m\u001b[91m╸\u001b[0m \u001b[32m776.3/776.4 MB\u001b[0m \u001b[31m232.3 MB/s\u001b[0m eta \u001b[36m0:00:01\u001b[0m\r",
      "\u001b[2K     \u001b[91m━━━━━━━━━━━━━━━━━━━━━━━━━━━━━━━━━━━━\u001b[0m\u001b[91m╸\u001b[0m \u001b[32m776.3/776.4 MB\u001b[0m \u001b[31m232.3 MB/s\u001b[0m eta \u001b[36m0:00:01\u001b[0m"
     ]
    },
    {
     "name": "stdout",
     "output_type": "stream",
     "text": [
      "\r",
      "\u001b[2K     \u001b[91m━━━━━━━━━━━━━━━━━━━━━━━━━━━━━━━━━━━━\u001b[0m\u001b[91m╸\u001b[0m \u001b[32m776.3/776.4 MB\u001b[0m \u001b[31m232.3 MB/s\u001b[0m eta \u001b[36m0:00:01\u001b[0m"
     ]
    },
    {
     "name": "stdout",
     "output_type": "stream",
     "text": [
      "\r",
      "\u001b[2K     \u001b[91m━━━━━━━━━━━━━━━━━━━━━━━━━━━━━━━━━━━━\u001b[0m\u001b[91m╸\u001b[0m \u001b[32m776.3/776.4 MB\u001b[0m \u001b[31m232.3 MB/s\u001b[0m eta \u001b[36m0:00:01\u001b[0m\r",
      "\u001b[2K     \u001b[91m━━━━━━━━━━━━━━━━━━━━━━━━━━━━━━━━━━━━\u001b[0m\u001b[91m╸\u001b[0m \u001b[32m776.3/776.4 MB\u001b[0m \u001b[31m232.3 MB/s\u001b[0m eta \u001b[36m0:00:01\u001b[0m"
     ]
    },
    {
     "name": "stdout",
     "output_type": "stream",
     "text": [
      "\r",
      "\u001b[2K     \u001b[91m━━━━━━━━━━━━━━━━━━━━━━━━━━━━━━━━━━━━\u001b[0m\u001b[91m╸\u001b[0m \u001b[32m776.3/776.4 MB\u001b[0m \u001b[31m232.3 MB/s\u001b[0m eta \u001b[36m0:00:01\u001b[0m\r",
      "\u001b[2K     \u001b[91m━━━━━━━━━━━━━━━━━━━━━━━━━━━━━━━━━━━━\u001b[0m\u001b[91m╸\u001b[0m \u001b[32m776.3/776.4 MB\u001b[0m \u001b[31m232.3 MB/s\u001b[0m eta \u001b[36m0:00:01\u001b[0m\r",
      "\u001b[2K     \u001b[91m━━━━━━━━━━━━━━━━━━━━━━━━━━━━━━━━━━━━\u001b[0m\u001b[91m╸\u001b[0m \u001b[32m776.3/776.4 MB\u001b[0m \u001b[31m232.3 MB/s\u001b[0m eta \u001b[36m0:00:01\u001b[0m\r",
      "\u001b[2K     \u001b[91m━━━━━━━━━━━━━━━━━━━━━━━━━━━━━━━━━━━━\u001b[0m\u001b[91m╸\u001b[0m \u001b[32m776.3/776.4 MB\u001b[0m \u001b[31m232.3 MB/s\u001b[0m eta \u001b[36m0:00:01\u001b[0m\r",
      "\u001b[2K     \u001b[91m━━━━━━━━━━━━━━━━━━━━━━━━━━━━━━━━━━━━\u001b[0m\u001b[91m╸\u001b[0m \u001b[32m776.3/776.4 MB\u001b[0m \u001b[31m232.3 MB/s\u001b[0m eta \u001b[36m0:00:01\u001b[0m"
     ]
    },
    {
     "name": "stdout",
     "output_type": "stream",
     "text": [
      "\r",
      "\u001b[2K     \u001b[91m━━━━━━━━━━━━━━━━━━━━━━━━━━━━━━━━━━━━\u001b[0m\u001b[91m╸\u001b[0m \u001b[32m776.3/776.4 MB\u001b[0m \u001b[31m232.3 MB/s\u001b[0m eta \u001b[36m0:00:01\u001b[0m\r",
      "\u001b[2K     \u001b[91m━━━━━━━━━━━━━━━━━━━━━━━━━━━━━━━━━━━━\u001b[0m\u001b[91m╸\u001b[0m \u001b[32m776.3/776.4 MB\u001b[0m \u001b[31m232.3 MB/s\u001b[0m eta \u001b[36m0:00:01\u001b[0m"
     ]
    },
    {
     "name": "stdout",
     "output_type": "stream",
     "text": [
      "\r",
      "\u001b[2K     \u001b[91m━━━━━━━━━━━━━━━━━━━━━━━━━━━━━━━━━━━━\u001b[0m\u001b[91m╸\u001b[0m \u001b[32m776.3/776.4 MB\u001b[0m \u001b[31m232.3 MB/s\u001b[0m eta \u001b[36m0:00:01\u001b[0m\r",
      "\u001b[2K     \u001b[91m━━━━━━━━━━━━━━━━━━━━━━━━━━━━━━━━━━━━\u001b[0m\u001b[91m╸\u001b[0m \u001b[32m776.3/776.4 MB\u001b[0m \u001b[31m232.3 MB/s\u001b[0m eta \u001b[36m0:00:01\u001b[0m"
     ]
    },
    {
     "name": "stdout",
     "output_type": "stream",
     "text": [
      "\r",
      "\u001b[2K     \u001b[91m━━━━━━━━━━━━━━━━━━━━━━━━━━━━━━━━━━━━\u001b[0m\u001b[91m╸\u001b[0m \u001b[32m776.3/776.4 MB\u001b[0m \u001b[31m232.3 MB/s\u001b[0m eta \u001b[36m0:00:01\u001b[0m"
     ]
    },
    {
     "name": "stdout",
     "output_type": "stream",
     "text": [
      "\r",
      "\u001b[2K     \u001b[91m━━━━━━━━━━━━━━━━━━━━━━━━━━━━━━━━━━━━\u001b[0m\u001b[91m╸\u001b[0m \u001b[32m776.3/776.4 MB\u001b[0m \u001b[31m232.3 MB/s\u001b[0m eta \u001b[36m0:00:01\u001b[0m\r",
      "\u001b[2K     \u001b[91m━━━━━━━━━━━━━━━━━━━━━━━━━━━━━━━━━━━━\u001b[0m\u001b[91m╸\u001b[0m \u001b[32m776.3/776.4 MB\u001b[0m \u001b[31m232.3 MB/s\u001b[0m eta \u001b[36m0:00:01\u001b[0m"
     ]
    },
    {
     "name": "stdout",
     "output_type": "stream",
     "text": [
      "\r",
      "\u001b[2K     \u001b[91m━━━━━━━━━━━━━━━━━━━━━━━━━━━━━━━━━━━━\u001b[0m\u001b[91m╸\u001b[0m \u001b[32m776.3/776.4 MB\u001b[0m \u001b[31m232.3 MB/s\u001b[0m eta \u001b[36m0:00:01\u001b[0m"
     ]
    },
    {
     "name": "stdout",
     "output_type": "stream",
     "text": [
      "\r",
      "\u001b[2K     \u001b[91m━━━━━━━━━━━━━━━━━━━━━━━━━━━━━━━━━━━━\u001b[0m\u001b[91m╸\u001b[0m \u001b[32m776.3/776.4 MB\u001b[0m \u001b[31m232.3 MB/s\u001b[0m eta \u001b[36m0:00:01\u001b[0m\r",
      "\u001b[2K     \u001b[91m━━━━━━━━━━━━━━━━━━━━━━━━━━━━━━━━━━━━\u001b[0m\u001b[91m╸\u001b[0m \u001b[32m776.3/776.4 MB\u001b[0m \u001b[31m232.3 MB/s\u001b[0m eta \u001b[36m0:00:01\u001b[0m"
     ]
    },
    {
     "name": "stdout",
     "output_type": "stream",
     "text": [
      "\r",
      "\u001b[2K     \u001b[91m━━━━━━━━━━━━━━━━━━━━━━━━━━━━━━━━━━━━\u001b[0m\u001b[91m╸\u001b[0m \u001b[32m776.3/776.4 MB\u001b[0m \u001b[31m232.3 MB/s\u001b[0m eta \u001b[36m0:00:01\u001b[0m"
     ]
    },
    {
     "name": "stdout",
     "output_type": "stream",
     "text": [
      "\r",
      "\u001b[2K     \u001b[91m━━━━━━━━━━━━━━━━━━━━━━━━━━━━━━━━━━━━\u001b[0m\u001b[91m╸\u001b[0m \u001b[32m776.3/776.4 MB\u001b[0m \u001b[31m232.3 MB/s\u001b[0m eta \u001b[36m0:00:01\u001b[0m"
     ]
    },
    {
     "name": "stdout",
     "output_type": "stream",
     "text": [
      "\r",
      "\u001b[2K     \u001b[91m━━━━━━━━━━━━━━━━━━━━━━━━━━━━━━━━━━━━\u001b[0m\u001b[91m╸\u001b[0m \u001b[32m776.3/776.4 MB\u001b[0m \u001b[31m232.3 MB/s\u001b[0m eta \u001b[36m0:00:01\u001b[0m\r",
      "\u001b[2K     \u001b[91m━━━━━━━━━━━━━━━━━━━━━━━━━━━━━━━━━━━━\u001b[0m\u001b[91m╸\u001b[0m \u001b[32m776.3/776.4 MB\u001b[0m \u001b[31m232.3 MB/s\u001b[0m eta \u001b[36m0:00:01\u001b[0m"
     ]
    },
    {
     "name": "stdout",
     "output_type": "stream",
     "text": [
      "\r",
      "\u001b[2K     \u001b[91m━━━━━━━━━━━━━━━━━━━━━━━━━━━━━━━━━━━━\u001b[0m\u001b[91m╸\u001b[0m \u001b[32m776.3/776.4 MB\u001b[0m \u001b[31m232.3 MB/s\u001b[0m eta \u001b[36m0:00:01\u001b[0m"
     ]
    },
    {
     "name": "stdout",
     "output_type": "stream",
     "text": [
      "\r",
      "\u001b[2K     \u001b[91m━━━━━━━━━━━━━━━━━━━━━━━━━━━━━━━━━━━━\u001b[0m\u001b[91m╸\u001b[0m \u001b[32m776.3/776.4 MB\u001b[0m \u001b[31m232.3 MB/s\u001b[0m eta \u001b[36m0:00:01\u001b[0m\r",
      "\u001b[2K     \u001b[91m━━━━━━━━━━━━━━━━━━━━━━━━━━━━━━━━━━━━\u001b[0m\u001b[91m╸\u001b[0m \u001b[32m776.3/776.4 MB\u001b[0m \u001b[31m232.3 MB/s\u001b[0m eta \u001b[36m0:00:01\u001b[0m"
     ]
    },
    {
     "name": "stdout",
     "output_type": "stream",
     "text": [
      "\r",
      "\u001b[2K     \u001b[91m━━━━━━━━━━━━━━━━━━━━━━━━━━━━━━━━━━━━\u001b[0m\u001b[91m╸\u001b[0m \u001b[32m776.3/776.4 MB\u001b[0m \u001b[31m232.3 MB/s\u001b[0m eta \u001b[36m0:00:01\u001b[0m"
     ]
    },
    {
     "name": "stdout",
     "output_type": "stream",
     "text": [
      "\r",
      "\u001b[2K     \u001b[91m━━━━━━━━━━━━━━━━━━━━━━━━━━━━━━━━━━━━\u001b[0m\u001b[91m╸\u001b[0m \u001b[32m776.3/776.4 MB\u001b[0m \u001b[31m232.3 MB/s\u001b[0m eta \u001b[36m0:00:01\u001b[0m"
     ]
    },
    {
     "name": "stdout",
     "output_type": "stream",
     "text": [
      "\r",
      "\u001b[2K     \u001b[91m━━━━━━━━━━━━━━━━━━━━━━━━━━━━━━━━━━━━\u001b[0m\u001b[91m╸\u001b[0m \u001b[32m776.3/776.4 MB\u001b[0m \u001b[31m232.3 MB/s\u001b[0m eta \u001b[36m0:00:01\u001b[0m\r",
      "\u001b[2K     \u001b[91m━━━━━━━━━━━━━━━━━━━━━━━━━━━━━━━━━━━━\u001b[0m\u001b[91m╸\u001b[0m \u001b[32m776.3/776.4 MB\u001b[0m \u001b[31m232.3 MB/s\u001b[0m eta \u001b[36m0:00:01\u001b[0m"
     ]
    },
    {
     "name": "stdout",
     "output_type": "stream",
     "text": [
      "\r",
      "\u001b[2K     \u001b[91m━━━━━━━━━━━━━━━━━━━━━━━━━━━━━━━━━━━━\u001b[0m\u001b[91m╸\u001b[0m \u001b[32m776.3/776.4 MB\u001b[0m \u001b[31m232.3 MB/s\u001b[0m eta \u001b[36m0:00:01\u001b[0m"
     ]
    },
    {
     "name": "stdout",
     "output_type": "stream",
     "text": [
      "\r",
      "\u001b[2K     \u001b[91m━━━━━━━━━━━━━━━━━━━━━━━━━━━━━━━━━━━━\u001b[0m\u001b[91m╸\u001b[0m \u001b[32m776.3/776.4 MB\u001b[0m \u001b[31m232.3 MB/s\u001b[0m eta \u001b[36m0:00:01\u001b[0m\r",
      "\u001b[2K     \u001b[91m━━━━━━━━━━━━━━━━━━━━━━━━━━━━━━━━━━━━\u001b[0m\u001b[91m╸\u001b[0m \u001b[32m776.3/776.4 MB\u001b[0m \u001b[31m232.3 MB/s\u001b[0m eta \u001b[36m0:00:01\u001b[0m"
     ]
    },
    {
     "name": "stdout",
     "output_type": "stream",
     "text": [
      "\r",
      "\u001b[2K     \u001b[91m━━━━━━━━━━━━━━━━━━━━━━━━━━━━━━━━━━━━\u001b[0m\u001b[91m╸\u001b[0m \u001b[32m776.3/776.4 MB\u001b[0m \u001b[31m232.3 MB/s\u001b[0m eta \u001b[36m0:00:01\u001b[0m"
     ]
    },
    {
     "name": "stdout",
     "output_type": "stream",
     "text": [
      "\r",
      "\u001b[2K     \u001b[91m━━━━━━━━━━━━━━━━━━━━━━━━━━━━━━━━━━━━\u001b[0m\u001b[91m╸\u001b[0m \u001b[32m776.3/776.4 MB\u001b[0m \u001b[31m232.3 MB/s\u001b[0m eta \u001b[36m0:00:01\u001b[0m\r",
      "\u001b[2K     \u001b[91m━━━━━━━━━━━━━━━━━━━━━━━━━━━━━━━━━━━━\u001b[0m\u001b[91m╸\u001b[0m \u001b[32m776.3/776.4 MB\u001b[0m \u001b[31m232.3 MB/s\u001b[0m eta \u001b[36m0:00:01\u001b[0m"
     ]
    },
    {
     "name": "stdout",
     "output_type": "stream",
     "text": [
      "\r",
      "\u001b[2K     \u001b[91m━━━━━━━━━━━━━━━━━━━━━━━━━━━━━━━━━━━━\u001b[0m\u001b[91m╸\u001b[0m \u001b[32m776.3/776.4 MB\u001b[0m \u001b[31m232.3 MB/s\u001b[0m eta \u001b[36m0:00:01\u001b[0m"
     ]
    },
    {
     "name": "stdout",
     "output_type": "stream",
     "text": [
      "\r",
      "\u001b[2K     \u001b[91m━━━━━━━━━━━━━━━━━━━━━━━━━━━━━━━━━━━━\u001b[0m\u001b[91m╸\u001b[0m \u001b[32m776.3/776.4 MB\u001b[0m \u001b[31m232.3 MB/s\u001b[0m eta \u001b[36m0:00:01\u001b[0m"
     ]
    },
    {
     "name": "stdout",
     "output_type": "stream",
     "text": [
      "\r",
      "\u001b[2K     \u001b[91m━━━━━━━━━━━━━━━━━━━━━━━━━━━━━━━━━━━━\u001b[0m\u001b[91m╸\u001b[0m \u001b[32m776.3/776.4 MB\u001b[0m \u001b[31m232.3 MB/s\u001b[0m eta \u001b[36m0:00:01\u001b[0m\r",
      "\u001b[2K     \u001b[91m━━━━━━━━━━━━━━━━━━━━━━━━━━━━━━━━━━━━\u001b[0m\u001b[91m╸\u001b[0m \u001b[32m776.3/776.4 MB\u001b[0m \u001b[31m232.3 MB/s\u001b[0m eta \u001b[36m0:00:01\u001b[0m"
     ]
    },
    {
     "name": "stdout",
     "output_type": "stream",
     "text": [
      "\r",
      "\u001b[2K     \u001b[91m━━━━━━━━━━━━━━━━━━━━━━━━━━━━━━━━━━━━\u001b[0m\u001b[91m╸\u001b[0m \u001b[32m776.3/776.4 MB\u001b[0m \u001b[31m232.3 MB/s\u001b[0m eta \u001b[36m0:00:01\u001b[0m"
     ]
    },
    {
     "name": "stdout",
     "output_type": "stream",
     "text": [
      "\r",
      "\u001b[2K     \u001b[91m━━━━━━━━━━━━━━━━━━━━━━━━━━━━━━━━━━━━\u001b[0m\u001b[91m╸\u001b[0m \u001b[32m776.3/776.4 MB\u001b[0m \u001b[31m232.3 MB/s\u001b[0m eta \u001b[36m0:00:01\u001b[0m\r",
      "\u001b[2K     \u001b[91m━━━━━━━━━━━━━━━━━━━━━━━━━━━━━━━━━━━━\u001b[0m\u001b[91m╸\u001b[0m \u001b[32m776.3/776.4 MB\u001b[0m \u001b[31m232.3 MB/s\u001b[0m eta \u001b[36m0:00:01\u001b[0m"
     ]
    },
    {
     "name": "stdout",
     "output_type": "stream",
     "text": [
      "\r",
      "\u001b[2K     \u001b[91m━━━━━━━━━━━━━━━━━━━━━━━━━━━━━━━━━━━━\u001b[0m\u001b[91m╸\u001b[0m \u001b[32m776.3/776.4 MB\u001b[0m \u001b[31m232.3 MB/s\u001b[0m eta \u001b[36m0:00:01\u001b[0m"
     ]
    },
    {
     "name": "stdout",
     "output_type": "stream",
     "text": [
      "\r",
      "\u001b[2K     \u001b[91m━━━━━━━━━━━━━━━━━━━━━━━━━━━━━━━━━━━━\u001b[0m\u001b[91m╸\u001b[0m \u001b[32m776.3/776.4 MB\u001b[0m \u001b[31m232.3 MB/s\u001b[0m eta \u001b[36m0:00:01\u001b[0m\r",
      "\u001b[2K     \u001b[91m━━━━━━━━━━━━━━━━━━━━━━━━━━━━━━━━━━━━\u001b[0m\u001b[91m╸\u001b[0m \u001b[32m776.3/776.4 MB\u001b[0m \u001b[31m232.3 MB/s\u001b[0m eta \u001b[36m0:00:01\u001b[0m"
     ]
    },
    {
     "name": "stdout",
     "output_type": "stream",
     "text": [
      "\r",
      "\u001b[2K     \u001b[91m━━━━━━━━━━━━━━━━━━━━━━━━━━━━━━━━━━━━\u001b[0m\u001b[91m╸\u001b[0m \u001b[32m776.3/776.4 MB\u001b[0m \u001b[31m232.3 MB/s\u001b[0m eta \u001b[36m0:00:01\u001b[0m"
     ]
    },
    {
     "name": "stdout",
     "output_type": "stream",
     "text": [
      "\r",
      "\u001b[2K     \u001b[91m━━━━━━━━━━━━━━━━━━━━━━━━━━━━━━━━━━━━\u001b[0m\u001b[91m╸\u001b[0m \u001b[32m776.3/776.4 MB\u001b[0m \u001b[31m232.3 MB/s\u001b[0m eta \u001b[36m0:00:01\u001b[0m\r",
      "\u001b[2K     \u001b[91m━━━━━━━━━━━━━━━━━━━━━━━━━━━━━━━━━━━━\u001b[0m\u001b[91m╸\u001b[0m \u001b[32m776.3/776.4 MB\u001b[0m \u001b[31m232.3 MB/s\u001b[0m eta \u001b[36m0:00:01\u001b[0m"
     ]
    },
    {
     "name": "stdout",
     "output_type": "stream",
     "text": [
      "\r",
      "\u001b[2K     \u001b[91m━━━━━━━━━━━━━━━━━━━━━━━━━━━━━━━━━━━━\u001b[0m\u001b[91m╸\u001b[0m \u001b[32m776.3/776.4 MB\u001b[0m \u001b[31m232.3 MB/s\u001b[0m eta \u001b[36m0:00:01\u001b[0m"
     ]
    },
    {
     "name": "stdout",
     "output_type": "stream",
     "text": [
      "\r",
      "\u001b[2K     \u001b[91m━━━━━━━━━━━━━━━━━━━━━━━━━━━━━━━━━━━━\u001b[0m\u001b[91m╸\u001b[0m \u001b[32m776.3/776.4 MB\u001b[0m \u001b[31m232.3 MB/s\u001b[0m eta \u001b[36m0:00:01\u001b[0m"
     ]
    },
    {
     "name": "stdout",
     "output_type": "stream",
     "text": [
      "\r",
      "\u001b[2K     \u001b[91m━━━━━━━━━━━━━━━━━━━━━━━━━━━━━━━━━━━━\u001b[0m\u001b[91m╸\u001b[0m \u001b[32m776.3/776.4 MB\u001b[0m \u001b[31m232.3 MB/s\u001b[0m eta \u001b[36m0:00:01\u001b[0m\r",
      "\u001b[2K     \u001b[91m━━━━━━━━━━━━━━━━━━━━━━━━━━━━━━━━━━━━\u001b[0m\u001b[91m╸\u001b[0m \u001b[32m776.3/776.4 MB\u001b[0m \u001b[31m232.3 MB/s\u001b[0m eta \u001b[36m0:00:01\u001b[0m"
     ]
    },
    {
     "name": "stdout",
     "output_type": "stream",
     "text": [
      "\r",
      "\u001b[2K     \u001b[91m━━━━━━━━━━━━━━━━━━━━━━━━━━━━━━━━━━━━\u001b[0m\u001b[91m╸\u001b[0m \u001b[32m776.3/776.4 MB\u001b[0m \u001b[31m232.3 MB/s\u001b[0m eta \u001b[36m0:00:01\u001b[0m"
     ]
    },
    {
     "name": "stdout",
     "output_type": "stream",
     "text": [
      "\r",
      "\u001b[2K     \u001b[91m━━━━━━━━━━━━━━━━━━━━━━━━━━━━━━━━━━━━\u001b[0m\u001b[91m╸\u001b[0m \u001b[32m776.3/776.4 MB\u001b[0m \u001b[31m232.3 MB/s\u001b[0m eta \u001b[36m0:00:01\u001b[0m\r",
      "\u001b[2K     \u001b[91m━━━━━━━━━━━━━━━━━━━━━━━━━━━━━━━━━━━━\u001b[0m\u001b[91m╸\u001b[0m \u001b[32m776.3/776.4 MB\u001b[0m \u001b[31m232.3 MB/s\u001b[0m eta \u001b[36m0:00:01\u001b[0m"
     ]
    },
    {
     "name": "stdout",
     "output_type": "stream",
     "text": [
      "\r",
      "\u001b[2K     \u001b[91m━━━━━━━━━━━━━━━━━━━━━━━━━━━━━━━━━━━━\u001b[0m\u001b[91m╸\u001b[0m \u001b[32m776.3/776.4 MB\u001b[0m \u001b[31m232.3 MB/s\u001b[0m eta \u001b[36m0:00:01\u001b[0m"
     ]
    },
    {
     "name": "stdout",
     "output_type": "stream",
     "text": [
      "\r",
      "\u001b[2K     \u001b[91m━━━━━━━━━━━━━━━━━━━━━━━━━━━━━━━━━━━━\u001b[0m\u001b[91m╸\u001b[0m \u001b[32m776.3/776.4 MB\u001b[0m \u001b[31m232.3 MB/s\u001b[0m eta \u001b[36m0:00:01\u001b[0m\r",
      "\u001b[2K     \u001b[91m━━━━━━━━━━━━━━━━━━━━━━━━━━━━━━━━━━━━\u001b[0m\u001b[91m╸\u001b[0m \u001b[32m776.3/776.4 MB\u001b[0m \u001b[31m232.3 MB/s\u001b[0m eta \u001b[36m0:00:01\u001b[0m"
     ]
    },
    {
     "name": "stdout",
     "output_type": "stream",
     "text": [
      "\r",
      "\u001b[2K     \u001b[91m━━━━━━━━━━━━━━━━━━━━━━━━━━━━━━━━━━━━\u001b[0m\u001b[91m╸\u001b[0m \u001b[32m776.3/776.4 MB\u001b[0m \u001b[31m232.3 MB/s\u001b[0m eta \u001b[36m0:00:01\u001b[0m"
     ]
    },
    {
     "name": "stdout",
     "output_type": "stream",
     "text": [
      "\r",
      "\u001b[2K     \u001b[91m━━━━━━━━━━━━━━━━━━━━━━━━━━━━━━━━━━━━\u001b[0m\u001b[91m╸\u001b[0m \u001b[32m776.3/776.4 MB\u001b[0m \u001b[31m232.3 MB/s\u001b[0m eta \u001b[36m0:00:01\u001b[0m\r",
      "\u001b[2K     \u001b[91m━━━━━━━━━━━━━━━━━━━━━━━━━━━━━━━━━━━━\u001b[0m\u001b[91m╸\u001b[0m \u001b[32m776.3/776.4 MB\u001b[0m \u001b[31m232.3 MB/s\u001b[0m eta \u001b[36m0:00:01\u001b[0m"
     ]
    },
    {
     "name": "stdout",
     "output_type": "stream",
     "text": [
      "\r",
      "\u001b[2K     \u001b[91m━━━━━━━━━━━━━━━━━━━━━━━━━━━━━━━━━━━━\u001b[0m\u001b[91m╸\u001b[0m \u001b[32m776.3/776.4 MB\u001b[0m \u001b[31m232.3 MB/s\u001b[0m eta \u001b[36m0:00:01\u001b[0m"
     ]
    },
    {
     "name": "stdout",
     "output_type": "stream",
     "text": [
      "\r",
      "\u001b[2K     \u001b[91m━━━━━━━━━━━━━━━━━━━━━━━━━━━━━━━━━━━━\u001b[0m\u001b[91m╸\u001b[0m \u001b[32m776.3/776.4 MB\u001b[0m \u001b[31m232.3 MB/s\u001b[0m eta \u001b[36m0:00:01\u001b[0m"
     ]
    },
    {
     "name": "stdout",
     "output_type": "stream",
     "text": [
      "\r",
      "\u001b[2K     \u001b[91m━━━━━━━━━━━━━━━━━━━━━━━━━━━━━━━━━━━━\u001b[0m\u001b[91m╸\u001b[0m \u001b[32m776.3/776.4 MB\u001b[0m \u001b[31m232.3 MB/s\u001b[0m eta \u001b[36m0:00:01\u001b[0m\r",
      "\u001b[2K     \u001b[91m━━━━━━━━━━━━━━━━━━━━━━━━━━━━━━━━━━━━\u001b[0m\u001b[91m╸\u001b[0m \u001b[32m776.3/776.4 MB\u001b[0m \u001b[31m232.3 MB/s\u001b[0m eta \u001b[36m0:00:01\u001b[0m"
     ]
    },
    {
     "name": "stdout",
     "output_type": "stream",
     "text": [
      "\r",
      "\u001b[2K     \u001b[91m━━━━━━━━━━━━━━━━━━━━━━━━━━━━━━━━━━━━\u001b[0m\u001b[91m╸\u001b[0m \u001b[32m776.3/776.4 MB\u001b[0m \u001b[31m232.3 MB/s\u001b[0m eta \u001b[36m0:00:01\u001b[0m"
     ]
    },
    {
     "name": "stdout",
     "output_type": "stream",
     "text": [
      "\r",
      "\u001b[2K     \u001b[91m━━━━━━━━━━━━━━━━━━━━━━━━━━━━━━━━━━━━\u001b[0m\u001b[91m╸\u001b[0m \u001b[32m776.3/776.4 MB\u001b[0m \u001b[31m232.3 MB/s\u001b[0m eta \u001b[36m0:00:01\u001b[0m\r",
      "\u001b[2K     \u001b[91m━━━━━━━━━━━━━━━━━━━━━━━━━━━━━━━━━━━━\u001b[0m\u001b[91m╸\u001b[0m \u001b[32m776.3/776.4 MB\u001b[0m \u001b[31m232.3 MB/s\u001b[0m eta \u001b[36m0:00:01\u001b[0m"
     ]
    },
    {
     "name": "stdout",
     "output_type": "stream",
     "text": [
      "\r",
      "\u001b[2K     \u001b[91m━━━━━━━━━━━━━━━━━━━━━━━━━━━━━━━━━━━━\u001b[0m\u001b[91m╸\u001b[0m \u001b[32m776.3/776.4 MB\u001b[0m \u001b[31m232.3 MB/s\u001b[0m eta \u001b[36m0:00:01\u001b[0m"
     ]
    },
    {
     "name": "stdout",
     "output_type": "stream",
     "text": [
      "\r",
      "\u001b[2K     \u001b[91m━━━━━━━━━━━━━━━━━━━━━━━━━━━━━━━━━━━━\u001b[0m\u001b[91m╸\u001b[0m \u001b[32m776.3/776.4 MB\u001b[0m \u001b[31m232.3 MB/s\u001b[0m eta \u001b[36m0:00:01\u001b[0m\r",
      "\u001b[2K     \u001b[91m━━━━━━━━━━━━━━━━━━━━━━━━━━━━━━━━━━━━\u001b[0m\u001b[91m╸\u001b[0m \u001b[32m776.3/776.4 MB\u001b[0m \u001b[31m232.3 MB/s\u001b[0m eta \u001b[36m0:00:01\u001b[0m"
     ]
    },
    {
     "name": "stdout",
     "output_type": "stream",
     "text": [
      "\r",
      "\u001b[2K     \u001b[91m━━━━━━━━━━━━━━━━━━━━━━━━━━━━━━━━━━━━\u001b[0m\u001b[91m╸\u001b[0m \u001b[32m776.3/776.4 MB\u001b[0m \u001b[31m232.3 MB/s\u001b[0m eta \u001b[36m0:00:01\u001b[0m"
     ]
    },
    {
     "name": "stdout",
     "output_type": "stream",
     "text": [
      "\r",
      "\u001b[2K     \u001b[91m━━━━━━━━━━━━━━━━━━━━━━━━━━━━━━━━━━━━\u001b[0m\u001b[91m╸\u001b[0m \u001b[32m776.3/776.4 MB\u001b[0m \u001b[31m232.3 MB/s\u001b[0m eta \u001b[36m0:00:01\u001b[0m\r",
      "\u001b[2K     \u001b[91m━━━━━━━━━━━━━━━━━━━━━━━━━━━━━━━━━━━━\u001b[0m\u001b[91m╸\u001b[0m \u001b[32m776.3/776.4 MB\u001b[0m \u001b[31m232.3 MB/s\u001b[0m eta \u001b[36m0:00:01\u001b[0m"
     ]
    },
    {
     "name": "stdout",
     "output_type": "stream",
     "text": [
      "\r",
      "\u001b[2K     \u001b[91m━━━━━━━━━━━━━━━━━━━━━━━━━━━━━━━━━━━━\u001b[0m\u001b[91m╸\u001b[0m \u001b[32m776.3/776.4 MB\u001b[0m \u001b[31m232.3 MB/s\u001b[0m eta \u001b[36m0:00:01\u001b[0m"
     ]
    },
    {
     "name": "stdout",
     "output_type": "stream",
     "text": [
      "\r",
      "\u001b[2K     \u001b[91m━━━━━━━━━━━━━━━━━━━━━━━━━━━━━━━━━━━━\u001b[0m\u001b[91m╸\u001b[0m \u001b[32m776.3/776.4 MB\u001b[0m \u001b[31m232.3 MB/s\u001b[0m eta \u001b[36m0:00:01\u001b[0m"
     ]
    },
    {
     "name": "stdout",
     "output_type": "stream",
     "text": [
      "\r",
      "\u001b[2K     \u001b[91m━━━━━━━━━━━━━━━━━━━━━━━━━━━━━━━━━━━━\u001b[0m\u001b[91m╸\u001b[0m \u001b[32m776.3/776.4 MB\u001b[0m \u001b[31m232.3 MB/s\u001b[0m eta \u001b[36m0:00:01\u001b[0m\r",
      "\u001b[2K     \u001b[91m━━━━━━━━━━━━━━━━━━━━━━━━━━━━━━━━━━━━\u001b[0m\u001b[91m╸\u001b[0m \u001b[32m776.3/776.4 MB\u001b[0m \u001b[31m232.3 MB/s\u001b[0m eta \u001b[36m0:00:01\u001b[0m"
     ]
    },
    {
     "name": "stdout",
     "output_type": "stream",
     "text": [
      "\r",
      "\u001b[2K     \u001b[91m━━━━━━━━━━━━━━━━━━━━━━━━━━━━━━━━━━━━\u001b[0m\u001b[91m╸\u001b[0m \u001b[32m776.3/776.4 MB\u001b[0m \u001b[31m232.3 MB/s\u001b[0m eta \u001b[36m0:00:01\u001b[0m"
     ]
    },
    {
     "name": "stdout",
     "output_type": "stream",
     "text": [
      "\r",
      "\u001b[2K     \u001b[91m━━━━━━━━━━━━━━━━━━━━━━━━━━━━━━━━━━━━\u001b[0m\u001b[91m╸\u001b[0m \u001b[32m776.3/776.4 MB\u001b[0m \u001b[31m232.3 MB/s\u001b[0m eta \u001b[36m0:00:01\u001b[0m\r",
      "\u001b[2K     \u001b[91m━━━━━━━━━━━━━━━━━━━━━━━━━━━━━━━━━━━━\u001b[0m\u001b[91m╸\u001b[0m \u001b[32m776.3/776.4 MB\u001b[0m \u001b[31m232.3 MB/s\u001b[0m eta \u001b[36m0:00:01\u001b[0m"
     ]
    },
    {
     "name": "stdout",
     "output_type": "stream",
     "text": [
      "\r",
      "\u001b[2K     \u001b[91m━━━━━━━━━━━━━━━━━━━━━━━━━━━━━━━━━━━━\u001b[0m\u001b[91m╸\u001b[0m \u001b[32m776.3/776.4 MB\u001b[0m \u001b[31m232.3 MB/s\u001b[0m eta \u001b[36m0:00:01\u001b[0m"
     ]
    },
    {
     "name": "stdout",
     "output_type": "stream",
     "text": [
      "\r",
      "\u001b[2K     \u001b[91m━━━━━━━━━━━━━━━━━━━━━━━━━━━━━━━━━━━━\u001b[0m\u001b[91m╸\u001b[0m \u001b[32m776.3/776.4 MB\u001b[0m \u001b[31m232.3 MB/s\u001b[0m eta \u001b[36m0:00:01\u001b[0m\r",
      "\u001b[2K     \u001b[91m━━━━━━━━━━━━━━━━━━━━━━━━━━━━━━━━━━━━\u001b[0m\u001b[91m╸\u001b[0m \u001b[32m776.3/776.4 MB\u001b[0m \u001b[31m232.3 MB/s\u001b[0m eta \u001b[36m0:00:01\u001b[0m"
     ]
    },
    {
     "name": "stdout",
     "output_type": "stream",
     "text": [
      "\r",
      "\u001b[2K     \u001b[91m━━━━━━━━━━━━━━━━━━━━━━━━━━━━━━━━━━━━\u001b[0m\u001b[91m╸\u001b[0m \u001b[32m776.3/776.4 MB\u001b[0m \u001b[31m232.3 MB/s\u001b[0m eta \u001b[36m0:00:01\u001b[0m"
     ]
    },
    {
     "name": "stdout",
     "output_type": "stream",
     "text": [
      "\r",
      "\u001b[2K     \u001b[91m━━━━━━━━━━━━━━━━━━━━━━━━━━━━━━━━━━━━\u001b[0m\u001b[91m╸\u001b[0m \u001b[32m776.3/776.4 MB\u001b[0m \u001b[31m232.3 MB/s\u001b[0m eta \u001b[36m0:00:01\u001b[0m\r",
      "\u001b[2K     \u001b[91m━━━━━━━━━━━━━━━━━━━━━━━━━━━━━━━━━━━━\u001b[0m\u001b[91m╸\u001b[0m \u001b[32m776.3/776.4 MB\u001b[0m \u001b[31m232.3 MB/s\u001b[0m eta \u001b[36m0:00:01\u001b[0m"
     ]
    },
    {
     "name": "stdout",
     "output_type": "stream",
     "text": [
      "\r",
      "\u001b[2K     \u001b[91m━━━━━━━━━━━━━━━━━━━━━━━━━━━━━━━━━━━━\u001b[0m\u001b[91m╸\u001b[0m \u001b[32m776.3/776.4 MB\u001b[0m \u001b[31m232.3 MB/s\u001b[0m eta \u001b[36m0:00:01\u001b[0m"
     ]
    },
    {
     "name": "stdout",
     "output_type": "stream",
     "text": [
      "\r",
      "\u001b[2K     \u001b[91m━━━━━━━━━━━━━━━━━━━━━━━━━━━━━━━━━━━━\u001b[0m\u001b[91m╸\u001b[0m \u001b[32m776.3/776.4 MB\u001b[0m \u001b[31m232.3 MB/s\u001b[0m eta \u001b[36m0:00:01\u001b[0m\r",
      "\u001b[2K     \u001b[91m━━━━━━━━━━━━━━━━━━━━━━━━━━━━━━━━━━━━\u001b[0m\u001b[91m╸\u001b[0m \u001b[32m776.3/776.4 MB\u001b[0m \u001b[31m232.3 MB/s\u001b[0m eta \u001b[36m0:00:01\u001b[0m"
     ]
    },
    {
     "name": "stdout",
     "output_type": "stream",
     "text": [
      "\r",
      "\u001b[2K     \u001b[91m━━━━━━━━━━━━━━━━━━━━━━━━━━━━━━━━━━━━\u001b[0m\u001b[91m╸\u001b[0m \u001b[32m776.3/776.4 MB\u001b[0m \u001b[31m232.3 MB/s\u001b[0m eta \u001b[36m0:00:01\u001b[0m"
     ]
    },
    {
     "name": "stdout",
     "output_type": "stream",
     "text": [
      "\r",
      "\u001b[2K     \u001b[91m━━━━━━━━━━━━━━━━━━━━━━━━━━━━━━━━━━━━\u001b[0m\u001b[91m╸\u001b[0m \u001b[32m776.3/776.4 MB\u001b[0m \u001b[31m232.3 MB/s\u001b[0m eta \u001b[36m0:00:01\u001b[0m"
     ]
    },
    {
     "name": "stdout",
     "output_type": "stream",
     "text": [
      "\r",
      "\u001b[2K     \u001b[91m━━━━━━━━━━━━━━━━━━━━━━━━━━━━━━━━━━━━\u001b[0m\u001b[91m╸\u001b[0m \u001b[32m776.3/776.4 MB\u001b[0m \u001b[31m232.3 MB/s\u001b[0m eta \u001b[36m0:00:01\u001b[0m\r",
      "\u001b[2K     \u001b[91m━━━━━━━━━━━━━━━━━━━━━━━━━━━━━━━━━━━━\u001b[0m\u001b[91m╸\u001b[0m \u001b[32m776.3/776.4 MB\u001b[0m \u001b[31m232.3 MB/s\u001b[0m eta \u001b[36m0:00:01\u001b[0m"
     ]
    },
    {
     "name": "stdout",
     "output_type": "stream",
     "text": [
      "\r",
      "\u001b[2K     \u001b[91m━━━━━━━━━━━━━━━━━━━━━━━━━━━━━━━━━━━━\u001b[0m\u001b[91m╸\u001b[0m \u001b[32m776.3/776.4 MB\u001b[0m \u001b[31m232.3 MB/s\u001b[0m eta \u001b[36m0:00:01\u001b[0m"
     ]
    },
    {
     "name": "stdout",
     "output_type": "stream",
     "text": [
      "\r",
      "\u001b[2K     \u001b[91m━━━━━━━━━━━━━━━━━━━━━━━━━━━━━━━━━━━━\u001b[0m\u001b[91m╸\u001b[0m \u001b[32m776.3/776.4 MB\u001b[0m \u001b[31m232.3 MB/s\u001b[0m eta \u001b[36m0:00:01\u001b[0m\r",
      "\u001b[2K     \u001b[91m━━━━━━━━━━━━━━━━━━━━━━━━━━━━━━━━━━━━\u001b[0m\u001b[91m╸\u001b[0m \u001b[32m776.3/776.4 MB\u001b[0m \u001b[31m232.3 MB/s\u001b[0m eta \u001b[36m0:00:01\u001b[0m"
     ]
    },
    {
     "name": "stdout",
     "output_type": "stream",
     "text": [
      "\r",
      "\u001b[2K     \u001b[91m━━━━━━━━━━━━━━━━━━━━━━━━━━━━━━━━━━━━\u001b[0m\u001b[91m╸\u001b[0m \u001b[32m776.3/776.4 MB\u001b[0m \u001b[31m232.3 MB/s\u001b[0m eta \u001b[36m0:00:01\u001b[0m"
     ]
    },
    {
     "name": "stdout",
     "output_type": "stream",
     "text": [
      "\r",
      "\u001b[2K     \u001b[91m━━━━━━━━━━━━━━━━━━━━━━━━━━━━━━━━━━━━\u001b[0m\u001b[91m╸\u001b[0m \u001b[32m776.3/776.4 MB\u001b[0m \u001b[31m232.3 MB/s\u001b[0m eta \u001b[36m0:00:01\u001b[0m\r",
      "\u001b[2K     \u001b[91m━━━━━━━━━━━━━━━━━━━━━━━━━━━━━━━━━━━━\u001b[0m\u001b[91m╸\u001b[0m \u001b[32m776.3/776.4 MB\u001b[0m \u001b[31m232.3 MB/s\u001b[0m eta \u001b[36m0:00:01\u001b[0m"
     ]
    },
    {
     "name": "stdout",
     "output_type": "stream",
     "text": [
      "\r",
      "\u001b[2K     \u001b[91m━━━━━━━━━━━━━━━━━━━━━━━━━━━━━━━━━━━━\u001b[0m\u001b[91m╸\u001b[0m \u001b[32m776.3/776.4 MB\u001b[0m \u001b[31m232.3 MB/s\u001b[0m eta \u001b[36m0:00:01\u001b[0m"
     ]
    },
    {
     "name": "stdout",
     "output_type": "stream",
     "text": [
      "\r",
      "\u001b[2K     \u001b[91m━━━━━━━━━━━━━━━━━━━━━━━━━━━━━━━━━━━━\u001b[0m\u001b[91m╸\u001b[0m \u001b[32m776.3/776.4 MB\u001b[0m \u001b[31m232.3 MB/s\u001b[0m eta \u001b[36m0:00:01\u001b[0m"
     ]
    },
    {
     "name": "stdout",
     "output_type": "stream",
     "text": [
      "\r",
      "\u001b[2K     \u001b[91m━━━━━━━━━━━━━━━━━━━━━━━━━━━━━━━━━━━━\u001b[0m\u001b[91m╸\u001b[0m \u001b[32m776.3/776.4 MB\u001b[0m \u001b[31m232.3 MB/s\u001b[0m eta \u001b[36m0:00:01\u001b[0m\r",
      "\u001b[2K     \u001b[91m━━━━━━━━━━━━━━━━━━━━━━━━━━━━━━━━━━━━\u001b[0m\u001b[91m╸\u001b[0m \u001b[32m776.3/776.4 MB\u001b[0m \u001b[31m232.3 MB/s\u001b[0m eta \u001b[36m0:00:01\u001b[0m"
     ]
    },
    {
     "name": "stdout",
     "output_type": "stream",
     "text": [
      "\r",
      "\u001b[2K     \u001b[91m━━━━━━━━━━━━━━━━━━━━━━━━━━━━━━━━━━━━\u001b[0m\u001b[91m╸\u001b[0m \u001b[32m776.3/776.4 MB\u001b[0m \u001b[31m232.3 MB/s\u001b[0m eta \u001b[36m0:00:01\u001b[0m"
     ]
    },
    {
     "name": "stdout",
     "output_type": "stream",
     "text": [
      "\r",
      "\u001b[2K     \u001b[91m━━━━━━━━━━━━━━━━━━━━━━━━━━━━━━━━━━━━\u001b[0m\u001b[91m╸\u001b[0m \u001b[32m776.3/776.4 MB\u001b[0m \u001b[31m232.3 MB/s\u001b[0m eta \u001b[36m0:00:01\u001b[0m\r",
      "\u001b[2K     \u001b[91m━━━━━━━━━━━━━━━━━━━━━━━━━━━━━━━━━━━━\u001b[0m\u001b[91m╸\u001b[0m \u001b[32m776.3/776.4 MB\u001b[0m \u001b[31m232.3 MB/s\u001b[0m eta \u001b[36m0:00:01\u001b[0m"
     ]
    },
    {
     "name": "stdout",
     "output_type": "stream",
     "text": [
      "\r",
      "\u001b[2K     \u001b[91m━━━━━━━━━━━━━━━━━━━━━━━━━━━━━━━━━━━━\u001b[0m\u001b[91m╸\u001b[0m \u001b[32m776.3/776.4 MB\u001b[0m \u001b[31m232.3 MB/s\u001b[0m eta \u001b[36m0:00:01\u001b[0m"
     ]
    },
    {
     "name": "stdout",
     "output_type": "stream",
     "text": [
      "\r",
      "\u001b[2K     \u001b[91m━━━━━━━━━━━━━━━━━━━━━━━━━━━━━━━━━━━━\u001b[0m\u001b[91m╸\u001b[0m \u001b[32m776.3/776.4 MB\u001b[0m \u001b[31m232.3 MB/s\u001b[0m eta \u001b[36m0:00:01\u001b[0m\r",
      "\u001b[2K     \u001b[91m━━━━━━━━━━━━━━━━━━━━━━━━━━━━━━━━━━━━\u001b[0m\u001b[91m╸\u001b[0m \u001b[32m776.3/776.4 MB\u001b[0m \u001b[31m232.3 MB/s\u001b[0m eta \u001b[36m0:00:01\u001b[0m"
     ]
    },
    {
     "name": "stdout",
     "output_type": "stream",
     "text": [
      "\r",
      "\u001b[2K     \u001b[91m━━━━━━━━━━━━━━━━━━━━━━━━━━━━━━━━━━━━\u001b[0m\u001b[91m╸\u001b[0m \u001b[32m776.3/776.4 MB\u001b[0m \u001b[31m232.3 MB/s\u001b[0m eta \u001b[36m0:00:01\u001b[0m"
     ]
    },
    {
     "name": "stdout",
     "output_type": "stream",
     "text": [
      "\r",
      "\u001b[2K     \u001b[91m━━━━━━━━━━━━━━━━━━━━━━━━━━━━━━━━━━━━\u001b[0m\u001b[91m╸\u001b[0m \u001b[32m776.3/776.4 MB\u001b[0m \u001b[31m232.3 MB/s\u001b[0m eta \u001b[36m0:00:01\u001b[0m\r",
      "\u001b[2K     \u001b[91m━━━━━━━━━━━━━━━━━━━━━━━━━━━━━━━━━━━━\u001b[0m\u001b[91m╸\u001b[0m \u001b[32m776.3/776.4 MB\u001b[0m \u001b[31m232.3 MB/s\u001b[0m eta \u001b[36m0:00:01\u001b[0m"
     ]
    },
    {
     "name": "stdout",
     "output_type": "stream",
     "text": [
      "\r",
      "\u001b[2K     \u001b[91m━━━━━━━━━━━━━━━━━━━━━━━━━━━━━━━━━━━━\u001b[0m\u001b[91m╸\u001b[0m \u001b[32m776.3/776.4 MB\u001b[0m \u001b[31m232.3 MB/s\u001b[0m eta \u001b[36m0:00:01\u001b[0m"
     ]
    },
    {
     "name": "stdout",
     "output_type": "stream",
     "text": [
      "\r",
      "\u001b[2K     \u001b[91m━━━━━━━━━━━━━━━━━━━━━━━━━━━━━━━━━━━━\u001b[0m\u001b[91m╸\u001b[0m \u001b[32m776.3/776.4 MB\u001b[0m \u001b[31m232.3 MB/s\u001b[0m eta \u001b[36m0:00:01\u001b[0m"
     ]
    },
    {
     "name": "stdout",
     "output_type": "stream",
     "text": [
      "\r",
      "\u001b[2K     \u001b[91m━━━━━━━━━━━━━━━━━━━━━━━━━━━━━━━━━━━━\u001b[0m\u001b[91m╸\u001b[0m \u001b[32m776.3/776.4 MB\u001b[0m \u001b[31m232.3 MB/s\u001b[0m eta \u001b[36m0:00:01\u001b[0m\r",
      "\u001b[2K     \u001b[91m━━━━━━━━━━━━━━━━━━━━━━━━━━━━━━━━━━━━\u001b[0m\u001b[91m╸\u001b[0m \u001b[32m776.3/776.4 MB\u001b[0m \u001b[31m232.3 MB/s\u001b[0m eta \u001b[36m0:00:01\u001b[0m"
     ]
    },
    {
     "name": "stdout",
     "output_type": "stream",
     "text": [
      "\r",
      "\u001b[2K     \u001b[91m━━━━━━━━━━━━━━━━━━━━━━━━━━━━━━━━━━━━\u001b[0m\u001b[91m╸\u001b[0m \u001b[32m776.3/776.4 MB\u001b[0m \u001b[31m232.3 MB/s\u001b[0m eta \u001b[36m0:00:01\u001b[0m"
     ]
    },
    {
     "name": "stdout",
     "output_type": "stream",
     "text": [
      "\r",
      "\u001b[2K     \u001b[91m━━━━━━━━━━━━━━━━━━━━━━━━━━━━━━━━━━━━\u001b[0m\u001b[91m╸\u001b[0m \u001b[32m776.3/776.4 MB\u001b[0m \u001b[31m232.3 MB/s\u001b[0m eta \u001b[36m0:00:01\u001b[0m\r",
      "\u001b[2K     \u001b[91m━━━━━━━━━━━━━━━━━━━━━━━━━━━━━━━━━━━━\u001b[0m\u001b[91m╸\u001b[0m \u001b[32m776.3/776.4 MB\u001b[0m \u001b[31m232.3 MB/s\u001b[0m eta \u001b[36m0:00:01\u001b[0m"
     ]
    },
    {
     "name": "stdout",
     "output_type": "stream",
     "text": [
      "\r",
      "\u001b[2K     \u001b[91m━━━━━━━━━━━━━━━━━━━━━━━━━━━━━━━━━━━━\u001b[0m\u001b[91m╸\u001b[0m \u001b[32m776.3/776.4 MB\u001b[0m \u001b[31m232.3 MB/s\u001b[0m eta \u001b[36m0:00:01\u001b[0m"
     ]
    },
    {
     "name": "stdout",
     "output_type": "stream",
     "text": [
      "\r",
      "\u001b[2K     \u001b[91m━━━━━━━━━━━━━━━━━━━━━━━━━━━━━━━━━━━━\u001b[0m\u001b[91m╸\u001b[0m \u001b[32m776.3/776.4 MB\u001b[0m \u001b[31m232.3 MB/s\u001b[0m eta \u001b[36m0:00:01\u001b[0m\r",
      "\u001b[2K     \u001b[91m━━━━━━━━━━━━━━━━━━━━━━━━━━━━━━━━━━━━\u001b[0m\u001b[91m╸\u001b[0m \u001b[32m776.3/776.4 MB\u001b[0m \u001b[31m232.3 MB/s\u001b[0m eta \u001b[36m0:00:01\u001b[0m"
     ]
    },
    {
     "name": "stdout",
     "output_type": "stream",
     "text": [
      "\r",
      "\u001b[2K     \u001b[91m━━━━━━━━━━━━━━━━━━━━━━━━━━━━━━━━━━━━\u001b[0m\u001b[91m╸\u001b[0m \u001b[32m776.3/776.4 MB\u001b[0m \u001b[31m232.3 MB/s\u001b[0m eta \u001b[36m0:00:01\u001b[0m"
     ]
    },
    {
     "name": "stdout",
     "output_type": "stream",
     "text": [
      "\r",
      "\u001b[2K     \u001b[91m━━━━━━━━━━━━━━━━━━━━━━━━━━━━━━━━━━━━\u001b[0m\u001b[91m╸\u001b[0m \u001b[32m776.3/776.4 MB\u001b[0m \u001b[31m232.3 MB/s\u001b[0m eta \u001b[36m0:00:01\u001b[0m"
     ]
    },
    {
     "name": "stdout",
     "output_type": "stream",
     "text": [
      "\r",
      "\u001b[2K     \u001b[91m━━━━━━━━━━━━━━━━━━━━━━━━━━━━━━━━━━━━\u001b[0m\u001b[91m╸\u001b[0m \u001b[32m776.3/776.4 MB\u001b[0m \u001b[31m232.3 MB/s\u001b[0m eta \u001b[36m0:00:01\u001b[0m\r",
      "\u001b[2K     \u001b[91m━━━━━━━━━━━━━━━━━━━━━━━━━━━━━━━━━━━━\u001b[0m\u001b[91m╸\u001b[0m \u001b[32m776.3/776.4 MB\u001b[0m \u001b[31m232.3 MB/s\u001b[0m eta \u001b[36m0:00:01\u001b[0m"
     ]
    },
    {
     "name": "stdout",
     "output_type": "stream",
     "text": [
      "\r",
      "\u001b[2K     \u001b[91m━━━━━━━━━━━━━━━━━━━━━━━━━━━━━━━━━━━━\u001b[0m\u001b[91m╸\u001b[0m \u001b[32m776.3/776.4 MB\u001b[0m \u001b[31m232.3 MB/s\u001b[0m eta \u001b[36m0:00:01\u001b[0m"
     ]
    },
    {
     "name": "stdout",
     "output_type": "stream",
     "text": [
      "\r",
      "\u001b[2K     \u001b[91m━━━━━━━━━━━━━━━━━━━━━━━━━━━━━━━━━━━━\u001b[0m\u001b[91m╸\u001b[0m \u001b[32m776.3/776.4 MB\u001b[0m \u001b[31m232.3 MB/s\u001b[0m eta \u001b[36m0:00:01\u001b[0m\r",
      "\u001b[2K     \u001b[91m━━━━━━━━━━━━━━━━━━━━━━━━━━━━━━━━━━━━\u001b[0m\u001b[91m╸\u001b[0m \u001b[32m776.3/776.4 MB\u001b[0m \u001b[31m232.3 MB/s\u001b[0m eta \u001b[36m0:00:01\u001b[0m"
     ]
    },
    {
     "name": "stdout",
     "output_type": "stream",
     "text": [
      "\r",
      "\u001b[2K     \u001b[91m━━━━━━━━━━━━━━━━━━━━━━━━━━━━━━━━━━━━\u001b[0m\u001b[91m╸\u001b[0m \u001b[32m776.3/776.4 MB\u001b[0m \u001b[31m232.3 MB/s\u001b[0m eta \u001b[36m0:00:01\u001b[0m"
     ]
    },
    {
     "name": "stdout",
     "output_type": "stream",
     "text": [
      "\r",
      "\u001b[2K     \u001b[91m━━━━━━━━━━━━━━━━━━━━━━━━━━━━━━━━━━━━\u001b[0m\u001b[91m╸\u001b[0m \u001b[32m776.3/776.4 MB\u001b[0m \u001b[31m232.3 MB/s\u001b[0m eta \u001b[36m0:00:01\u001b[0m\r",
      "\u001b[2K     \u001b[91m━━━━━━━━━━━━━━━━━━━━━━━━━━━━━━━━━━━━\u001b[0m\u001b[91m╸\u001b[0m \u001b[32m776.3/776.4 MB\u001b[0m \u001b[31m232.3 MB/s\u001b[0m eta \u001b[36m0:00:01\u001b[0m"
     ]
    },
    {
     "name": "stdout",
     "output_type": "stream",
     "text": [
      "\r",
      "\u001b[2K     \u001b[91m━━━━━━━━━━━━━━━━━━━━━━━━━━━━━━━━━━━━\u001b[0m\u001b[91m╸\u001b[0m \u001b[32m776.3/776.4 MB\u001b[0m \u001b[31m232.3 MB/s\u001b[0m eta \u001b[36m0:00:01\u001b[0m"
     ]
    },
    {
     "name": "stdout",
     "output_type": "stream",
     "text": [
      "\r",
      "\u001b[2K     \u001b[91m━━━━━━━━━━━━━━━━━━━━━━━━━━━━━━━━━━━━\u001b[0m\u001b[91m╸\u001b[0m \u001b[32m776.3/776.4 MB\u001b[0m \u001b[31m232.3 MB/s\u001b[0m eta \u001b[36m0:00:01\u001b[0m\r",
      "\u001b[2K     \u001b[91m━━━━━━━━━━━━━━━━━━━━━━━━━━━━━━━━━━━━\u001b[0m\u001b[91m╸\u001b[0m \u001b[32m776.3/776.4 MB\u001b[0m \u001b[31m232.3 MB/s\u001b[0m eta \u001b[36m0:00:01\u001b[0m"
     ]
    },
    {
     "name": "stdout",
     "output_type": "stream",
     "text": [
      "\r",
      "\u001b[2K     \u001b[91m━━━━━━━━━━━━━━━━━━━━━━━━━━━━━━━━━━━━\u001b[0m\u001b[91m╸\u001b[0m \u001b[32m776.3/776.4 MB\u001b[0m \u001b[31m232.3 MB/s\u001b[0m eta \u001b[36m0:00:01\u001b[0m"
     ]
    },
    {
     "name": "stdout",
     "output_type": "stream",
     "text": [
      "\r",
      "\u001b[2K     \u001b[91m━━━━━━━━━━━━━━━━━━━━━━━━━━━━━━━━━━━━\u001b[0m\u001b[91m╸\u001b[0m \u001b[32m776.3/776.4 MB\u001b[0m \u001b[31m232.3 MB/s\u001b[0m eta \u001b[36m0:00:01\u001b[0m\r",
      "\u001b[2K     \u001b[91m━━━━━━━━━━━━━━━━━━━━━━━━━━━━━━━━━━━━\u001b[0m\u001b[91m╸\u001b[0m \u001b[32m776.3/776.4 MB\u001b[0m \u001b[31m232.3 MB/s\u001b[0m eta \u001b[36m0:00:01\u001b[0m"
     ]
    },
    {
     "name": "stdout",
     "output_type": "stream",
     "text": [
      "\r",
      "\u001b[2K     \u001b[91m━━━━━━━━━━━━━━━━━━━━━━━━━━━━━━━━━━━━\u001b[0m\u001b[91m╸\u001b[0m \u001b[32m776.3/776.4 MB\u001b[0m \u001b[31m232.3 MB/s\u001b[0m eta \u001b[36m0:00:01\u001b[0m"
     ]
    },
    {
     "name": "stdout",
     "output_type": "stream",
     "text": [
      "\r",
      "\u001b[2K     \u001b[91m━━━━━━━━━━━━━━━━━━━━━━━━━━━━━━━━━━━━\u001b[0m\u001b[91m╸\u001b[0m \u001b[32m776.3/776.4 MB\u001b[0m \u001b[31m232.3 MB/s\u001b[0m eta \u001b[36m0:00:01\u001b[0m"
     ]
    },
    {
     "name": "stdout",
     "output_type": "stream",
     "text": [
      "\r",
      "\u001b[2K     \u001b[91m━━━━━━━━━━━━━━━━━━━━━━━━━━━━━━━━━━━━\u001b[0m\u001b[91m╸\u001b[0m \u001b[32m776.3/776.4 MB\u001b[0m \u001b[31m232.3 MB/s\u001b[0m eta \u001b[36m0:00:01\u001b[0m\r",
      "\u001b[2K     \u001b[91m━━━━━━━━━━━━━━━━━━━━━━━━━━━━━━━━━━━━\u001b[0m\u001b[91m╸\u001b[0m \u001b[32m776.3/776.4 MB\u001b[0m \u001b[31m232.3 MB/s\u001b[0m eta \u001b[36m0:00:01\u001b[0m"
     ]
    },
    {
     "name": "stdout",
     "output_type": "stream",
     "text": [
      "\r",
      "\u001b[2K     \u001b[91m━━━━━━━━━━━━━━━━━━━━━━━━━━━━━━━━━━━━\u001b[0m\u001b[91m╸\u001b[0m \u001b[32m776.3/776.4 MB\u001b[0m \u001b[31m232.3 MB/s\u001b[0m eta \u001b[36m0:00:01\u001b[0m"
     ]
    },
    {
     "name": "stdout",
     "output_type": "stream",
     "text": [
      "\r",
      "\u001b[2K     \u001b[91m━━━━━━━━━━━━━━━━━━━━━━━━━━━━━━━━━━━━\u001b[0m\u001b[91m╸\u001b[0m \u001b[32m776.3/776.4 MB\u001b[0m \u001b[31m232.3 MB/s\u001b[0m eta \u001b[36m0:00:01\u001b[0m\r",
      "\u001b[2K     \u001b[91m━━━━━━━━━━━━━━━━━━━━━━━━━━━━━━━━━━━━\u001b[0m\u001b[91m╸\u001b[0m \u001b[32m776.3/776.4 MB\u001b[0m \u001b[31m232.3 MB/s\u001b[0m eta \u001b[36m0:00:01\u001b[0m"
     ]
    },
    {
     "name": "stdout",
     "output_type": "stream",
     "text": [
      "\r",
      "\u001b[2K     \u001b[91m━━━━━━━━━━━━━━━━━━━━━━━━━━━━━━━━━━━━\u001b[0m\u001b[91m╸\u001b[0m \u001b[32m776.3/776.4 MB\u001b[0m \u001b[31m232.3 MB/s\u001b[0m eta \u001b[36m0:00:01\u001b[0m"
     ]
    },
    {
     "name": "stdout",
     "output_type": "stream",
     "text": [
      "\r",
      "\u001b[2K     \u001b[91m━━━━━━━━━━━━━━━━━━━━━━━━━━━━━━━━━━━━\u001b[0m\u001b[91m╸\u001b[0m \u001b[32m776.3/776.4 MB\u001b[0m \u001b[31m232.3 MB/s\u001b[0m eta \u001b[36m0:00:01\u001b[0m\r",
      "\u001b[2K     \u001b[91m━━━━━━━━━━━━━━━━━━━━━━━━━━━━━━━━━━━━\u001b[0m\u001b[91m╸\u001b[0m \u001b[32m776.3/776.4 MB\u001b[0m \u001b[31m232.3 MB/s\u001b[0m eta \u001b[36m0:00:01\u001b[0m"
     ]
    },
    {
     "name": "stdout",
     "output_type": "stream",
     "text": [
      "\r",
      "\u001b[2K     \u001b[91m━━━━━━━━━━━━━━━━━━━━━━━━━━━━━━━━━━━━\u001b[0m\u001b[91m╸\u001b[0m \u001b[32m776.3/776.4 MB\u001b[0m \u001b[31m232.3 MB/s\u001b[0m eta \u001b[36m0:00:01\u001b[0m"
     ]
    },
    {
     "name": "stdout",
     "output_type": "stream",
     "text": [
      "\r",
      "\u001b[2K     \u001b[91m━━━━━━━━━━━━━━━━━━━━━━━━━━━━━━━━━━━━\u001b[0m\u001b[91m╸\u001b[0m \u001b[32m776.3/776.4 MB\u001b[0m \u001b[31m232.3 MB/s\u001b[0m eta \u001b[36m0:00:01\u001b[0m"
     ]
    },
    {
     "name": "stdout",
     "output_type": "stream",
     "text": [
      "\r",
      "\u001b[2K     \u001b[91m━━━━━━━━━━━━━━━━━━━━━━━━━━━━━━━━━━━━\u001b[0m\u001b[91m╸\u001b[0m \u001b[32m776.3/776.4 MB\u001b[0m \u001b[31m232.3 MB/s\u001b[0m eta \u001b[36m0:00:01\u001b[0m\r",
      "\u001b[2K     \u001b[91m━━━━━━━━━━━━━━━━━━━━━━━━━━━━━━━━━━━━\u001b[0m\u001b[91m╸\u001b[0m \u001b[32m776.3/776.4 MB\u001b[0m \u001b[31m232.3 MB/s\u001b[0m eta \u001b[36m0:00:01\u001b[0m"
     ]
    },
    {
     "name": "stdout",
     "output_type": "stream",
     "text": [
      "\r",
      "\u001b[2K     \u001b[91m━━━━━━━━━━━━━━━━━━━━━━━━━━━━━━━━━━━━\u001b[0m\u001b[91m╸\u001b[0m \u001b[32m776.3/776.4 MB\u001b[0m \u001b[31m232.3 MB/s\u001b[0m eta \u001b[36m0:00:01\u001b[0m"
     ]
    },
    {
     "name": "stdout",
     "output_type": "stream",
     "text": [
      "\r",
      "\u001b[2K     \u001b[91m━━━━━━━━━━━━━━━━━━━━━━━━━━━━━━━━━━━━\u001b[0m\u001b[91m╸\u001b[0m \u001b[32m776.3/776.4 MB\u001b[0m \u001b[31m232.3 MB/s\u001b[0m eta \u001b[36m0:00:01\u001b[0m\r",
      "\u001b[2K     \u001b[91m━━━━━━━━━━━━━━━━━━━━━━━━━━━━━━━━━━━━\u001b[0m\u001b[91m╸\u001b[0m \u001b[32m776.3/776.4 MB\u001b[0m \u001b[31m232.3 MB/s\u001b[0m eta \u001b[36m0:00:01\u001b[0m"
     ]
    },
    {
     "name": "stdout",
     "output_type": "stream",
     "text": [
      "\r",
      "\u001b[2K     \u001b[91m━━━━━━━━━━━━━━━━━━━━━━━━━━━━━━━━━━━━\u001b[0m\u001b[91m╸\u001b[0m \u001b[32m776.3/776.4 MB\u001b[0m \u001b[31m232.3 MB/s\u001b[0m eta \u001b[36m0:00:01\u001b[0m"
     ]
    },
    {
     "name": "stdout",
     "output_type": "stream",
     "text": [
      "\r",
      "\u001b[2K     \u001b[91m━━━━━━━━━━━━━━━━━━━━━━━━━━━━━━━━━━━━\u001b[0m\u001b[91m╸\u001b[0m \u001b[32m776.3/776.4 MB\u001b[0m \u001b[31m232.3 MB/s\u001b[0m eta \u001b[36m0:00:01\u001b[0m\r",
      "\u001b[2K     \u001b[91m━━━━━━━━━━━━━━━━━━━━━━━━━━━━━━━━━━━━\u001b[0m\u001b[91m╸\u001b[0m \u001b[32m776.3/776.4 MB\u001b[0m \u001b[31m232.3 MB/s\u001b[0m eta \u001b[36m0:00:01\u001b[0m"
     ]
    },
    {
     "name": "stdout",
     "output_type": "stream",
     "text": [
      "\r",
      "\u001b[2K     \u001b[91m━━━━━━━━━━━━━━━━━━━━━━━━━━━━━━━━━━━━\u001b[0m\u001b[91m╸\u001b[0m \u001b[32m776.3/776.4 MB\u001b[0m \u001b[31m232.3 MB/s\u001b[0m eta \u001b[36m0:00:01\u001b[0m"
     ]
    },
    {
     "name": "stdout",
     "output_type": "stream",
     "text": [
      "\r",
      "\u001b[2K     \u001b[91m━━━━━━━━━━━━━━━━━━━━━━━━━━━━━━━━━━━━\u001b[0m\u001b[91m╸\u001b[0m \u001b[32m776.3/776.4 MB\u001b[0m \u001b[31m232.3 MB/s\u001b[0m eta \u001b[36m0:00:01\u001b[0m"
     ]
    },
    {
     "name": "stdout",
     "output_type": "stream",
     "text": [
      "\r",
      "\u001b[2K     \u001b[91m━━━━━━━━━━━━━━━━━━━━━━━━━━━━━━━━━━━━\u001b[0m\u001b[91m╸\u001b[0m \u001b[32m776.3/776.4 MB\u001b[0m \u001b[31m232.3 MB/s\u001b[0m eta \u001b[36m0:00:01\u001b[0m\r",
      "\u001b[2K     \u001b[91m━━━━━━━━━━━━━━━━━━━━━━━━━━━━━━━━━━━━\u001b[0m\u001b[91m╸\u001b[0m \u001b[32m776.3/776.4 MB\u001b[0m \u001b[31m232.3 MB/s\u001b[0m eta \u001b[36m0:00:01\u001b[0m"
     ]
    },
    {
     "name": "stdout",
     "output_type": "stream",
     "text": [
      "\r",
      "\u001b[2K     \u001b[91m━━━━━━━━━━━━━━━━━━━━━━━━━━━━━━━━━━━━\u001b[0m\u001b[91m╸\u001b[0m \u001b[32m776.3/776.4 MB\u001b[0m \u001b[31m232.3 MB/s\u001b[0m eta \u001b[36m0:00:01\u001b[0m"
     ]
    },
    {
     "name": "stdout",
     "output_type": "stream",
     "text": [
      "\r",
      "\u001b[2K     \u001b[91m━━━━━━━━━━━━━━━━━━━━━━━━━━━━━━━━━━━━\u001b[0m\u001b[91m╸\u001b[0m \u001b[32m776.3/776.4 MB\u001b[0m \u001b[31m232.3 MB/s\u001b[0m eta \u001b[36m0:00:01\u001b[0m\r",
      "\u001b[2K     \u001b[91m━━━━━━━━━━━━━━━━━━━━━━━━━━━━━━━━━━━━\u001b[0m\u001b[91m╸\u001b[0m \u001b[32m776.3/776.4 MB\u001b[0m \u001b[31m232.3 MB/s\u001b[0m eta \u001b[36m0:00:01\u001b[0m"
     ]
    },
    {
     "name": "stdout",
     "output_type": "stream",
     "text": [
      "\r",
      "\u001b[2K     \u001b[91m━━━━━━━━━━━━━━━━━━━━━━━━━━━━━━━━━━━━\u001b[0m\u001b[91m╸\u001b[0m \u001b[32m776.3/776.4 MB\u001b[0m \u001b[31m232.3 MB/s\u001b[0m eta \u001b[36m0:00:01\u001b[0m"
     ]
    },
    {
     "name": "stdout",
     "output_type": "stream",
     "text": [
      "\r",
      "\u001b[2K     \u001b[91m━━━━━━━━━━━━━━━━━━━━━━━━━━━━━━━━━━━━\u001b[0m\u001b[91m╸\u001b[0m \u001b[32m776.3/776.4 MB\u001b[0m \u001b[31m232.3 MB/s\u001b[0m eta \u001b[36m0:00:01\u001b[0m"
     ]
    },
    {
     "name": "stdout",
     "output_type": "stream",
     "text": [
      "\r",
      "\u001b[2K     \u001b[91m━━━━━━━━━━━━━━━━━━━━━━━━━━━━━━━━━━━━\u001b[0m\u001b[91m╸\u001b[0m \u001b[32m776.3/776.4 MB\u001b[0m \u001b[31m232.3 MB/s\u001b[0m eta \u001b[36m0:00:01\u001b[0m\r",
      "\u001b[2K     \u001b[91m━━━━━━━━━━━━━━━━━━━━━━━━━━━━━━━━━━━━\u001b[0m\u001b[91m╸\u001b[0m \u001b[32m776.3/776.4 MB\u001b[0m \u001b[31m232.3 MB/s\u001b[0m eta \u001b[36m0:00:01\u001b[0m"
     ]
    },
    {
     "name": "stdout",
     "output_type": "stream",
     "text": [
      "\r",
      "\u001b[2K     \u001b[91m━━━━━━━━━━━━━━━━━━━━━━━━━━━━━━━━━━━━\u001b[0m\u001b[91m╸\u001b[0m \u001b[32m776.3/776.4 MB\u001b[0m \u001b[31m232.3 MB/s\u001b[0m eta \u001b[36m0:00:01\u001b[0m"
     ]
    },
    {
     "name": "stdout",
     "output_type": "stream",
     "text": [
      "\r",
      "\u001b[2K     \u001b[91m━━━━━━━━━━━━━━━━━━━━━━━━━━━━━━━━━━━━\u001b[0m\u001b[91m╸\u001b[0m \u001b[32m776.3/776.4 MB\u001b[0m \u001b[31m232.3 MB/s\u001b[0m eta \u001b[36m0:00:01\u001b[0m\r",
      "\u001b[2K     \u001b[91m━━━━━━━━━━━━━━━━━━━━━━━━━━━━━━━━━━━━\u001b[0m\u001b[91m╸\u001b[0m \u001b[32m776.3/776.4 MB\u001b[0m \u001b[31m232.3 MB/s\u001b[0m eta \u001b[36m0:00:01\u001b[0m"
     ]
    },
    {
     "name": "stdout",
     "output_type": "stream",
     "text": [
      "\r",
      "\u001b[2K     \u001b[91m━━━━━━━━━━━━━━━━━━━━━━━━━━━━━━━━━━━━\u001b[0m\u001b[91m╸\u001b[0m \u001b[32m776.3/776.4 MB\u001b[0m \u001b[31m232.3 MB/s\u001b[0m eta \u001b[36m0:00:01\u001b[0m"
     ]
    },
    {
     "name": "stdout",
     "output_type": "stream",
     "text": [
      "\r",
      "\u001b[2K     \u001b[91m━━━━━━━━━━━━━━━━━━━━━━━━━━━━━━━━━━━━\u001b[0m\u001b[91m╸\u001b[0m \u001b[32m776.3/776.4 MB\u001b[0m \u001b[31m232.3 MB/s\u001b[0m eta \u001b[36m0:00:01\u001b[0m\r",
      "\u001b[2K     \u001b[91m━━━━━━━━━━━━━━━━━━━━━━━━━━━━━━━━━━━━\u001b[0m\u001b[91m╸\u001b[0m \u001b[32m776.3/776.4 MB\u001b[0m \u001b[31m232.3 MB/s\u001b[0m eta \u001b[36m0:00:01\u001b[0m"
     ]
    },
    {
     "name": "stdout",
     "output_type": "stream",
     "text": [
      "\r",
      "\u001b[2K     \u001b[91m━━━━━━━━━━━━━━━━━━━━━━━━━━━━━━━━━━━━\u001b[0m\u001b[91m╸\u001b[0m \u001b[32m776.3/776.4 MB\u001b[0m \u001b[31m232.3 MB/s\u001b[0m eta \u001b[36m0:00:01\u001b[0m"
     ]
    },
    {
     "name": "stdout",
     "output_type": "stream",
     "text": [
      "\r",
      "\u001b[2K     \u001b[91m━━━━━━━━━━━━━━━━━━━━━━━━━━━━━━━━━━━━\u001b[0m\u001b[91m╸\u001b[0m \u001b[32m776.3/776.4 MB\u001b[0m \u001b[31m232.3 MB/s\u001b[0m eta \u001b[36m0:00:01\u001b[0m\r",
      "\u001b[2K     \u001b[91m━━━━━━━━━━━━━━━━━━━━━━━━━━━━━━━━━━━━\u001b[0m\u001b[91m╸\u001b[0m \u001b[32m776.3/776.4 MB\u001b[0m \u001b[31m232.3 MB/s\u001b[0m eta \u001b[36m0:00:01\u001b[0m"
     ]
    },
    {
     "name": "stdout",
     "output_type": "stream",
     "text": [
      "\r",
      "\u001b[2K     \u001b[91m━━━━━━━━━━━━━━━━━━━━━━━━━━━━━━━━━━━━\u001b[0m\u001b[91m╸\u001b[0m \u001b[32m776.3/776.4 MB\u001b[0m \u001b[31m232.3 MB/s\u001b[0m eta \u001b[36m0:00:01\u001b[0m"
     ]
    },
    {
     "name": "stdout",
     "output_type": "stream",
     "text": [
      "\r",
      "\u001b[2K     \u001b[91m━━━━━━━━━━━━━━━━━━━━━━━━━━━━━━━━━━━━\u001b[0m\u001b[91m╸\u001b[0m \u001b[32m776.3/776.4 MB\u001b[0m \u001b[31m232.3 MB/s\u001b[0m eta \u001b[36m0:00:01\u001b[0m"
     ]
    },
    {
     "name": "stdout",
     "output_type": "stream",
     "text": [
      "\r",
      "\u001b[2K     \u001b[91m━━━━━━━━━━━━━━━━━━━━━━━━━━━━━━━━━━━━\u001b[0m\u001b[91m╸\u001b[0m \u001b[32m776.3/776.4 MB\u001b[0m \u001b[31m232.3 MB/s\u001b[0m eta \u001b[36m0:00:01\u001b[0m\r",
      "\u001b[2K     \u001b[91m━━━━━━━━━━━━━━━━━━━━━━━━━━━━━━━━━━━━\u001b[0m\u001b[91m╸\u001b[0m \u001b[32m776.3/776.4 MB\u001b[0m \u001b[31m232.3 MB/s\u001b[0m eta \u001b[36m0:00:01\u001b[0m"
     ]
    },
    {
     "name": "stdout",
     "output_type": "stream",
     "text": [
      "\r",
      "\u001b[2K     \u001b[91m━━━━━━━━━━━━━━━━━━━━━━━━━━━━━━━━━━━━\u001b[0m\u001b[91m╸\u001b[0m \u001b[32m776.3/776.4 MB\u001b[0m \u001b[31m232.3 MB/s\u001b[0m eta \u001b[36m0:00:01\u001b[0m"
     ]
    },
    {
     "name": "stdout",
     "output_type": "stream",
     "text": [
      "\r",
      "\u001b[2K     \u001b[91m━━━━━━━━━━━━━━━━━━━━━━━━━━━━━━━━━━━━\u001b[0m\u001b[91m╸\u001b[0m \u001b[32m776.3/776.4 MB\u001b[0m \u001b[31m232.3 MB/s\u001b[0m eta \u001b[36m0:00:01\u001b[0m\r",
      "\u001b[2K     \u001b[91m━━━━━━━━━━━━━━━━━━━━━━━━━━━━━━━━━━━━\u001b[0m\u001b[91m╸\u001b[0m \u001b[32m776.3/776.4 MB\u001b[0m \u001b[31m232.3 MB/s\u001b[0m eta \u001b[36m0:00:01\u001b[0m"
     ]
    },
    {
     "name": "stdout",
     "output_type": "stream",
     "text": [
      "\r",
      "\u001b[2K     \u001b[91m━━━━━━━━━━━━━━━━━━━━━━━━━━━━━━━━━━━━\u001b[0m\u001b[91m╸\u001b[0m \u001b[32m776.3/776.4 MB\u001b[0m \u001b[31m232.3 MB/s\u001b[0m eta \u001b[36m0:00:01\u001b[0m"
     ]
    },
    {
     "name": "stdout",
     "output_type": "stream",
     "text": [
      "\r",
      "\u001b[2K     \u001b[91m━━━━━━━━━━━━━━━━━━━━━━━━━━━━━━━━━━━━\u001b[0m\u001b[91m╸\u001b[0m \u001b[32m776.3/776.4 MB\u001b[0m \u001b[31m232.3 MB/s\u001b[0m eta \u001b[36m0:00:01\u001b[0m\r",
      "\u001b[2K     \u001b[91m━━━━━━━━━━━━━━━━━━━━━━━━━━━━━━━━━━━━\u001b[0m\u001b[91m╸\u001b[0m \u001b[32m776.3/776.4 MB\u001b[0m \u001b[31m232.3 MB/s\u001b[0m eta \u001b[36m0:00:01\u001b[0m"
     ]
    },
    {
     "name": "stdout",
     "output_type": "stream",
     "text": [
      "\r",
      "\u001b[2K     \u001b[91m━━━━━━━━━━━━━━━━━━━━━━━━━━━━━━━━━━━━\u001b[0m\u001b[91m╸\u001b[0m \u001b[32m776.3/776.4 MB\u001b[0m \u001b[31m232.3 MB/s\u001b[0m eta \u001b[36m0:00:01\u001b[0m"
     ]
    },
    {
     "name": "stdout",
     "output_type": "stream",
     "text": [
      "\r",
      "\u001b[2K     \u001b[91m━━━━━━━━━━━━━━━━━━━━━━━━━━━━━━━━━━━━\u001b[0m\u001b[91m╸\u001b[0m \u001b[32m776.3/776.4 MB\u001b[0m \u001b[31m232.3 MB/s\u001b[0m eta \u001b[36m0:00:01\u001b[0m\r",
      "\u001b[2K     \u001b[91m━━━━━━━━━━━━━━━━━━━━━━━━━━━━━━━━━━━━\u001b[0m\u001b[91m╸\u001b[0m \u001b[32m776.3/776.4 MB\u001b[0m \u001b[31m232.3 MB/s\u001b[0m eta \u001b[36m0:00:01\u001b[0m"
     ]
    },
    {
     "name": "stdout",
     "output_type": "stream",
     "text": [
      "\r",
      "\u001b[2K     \u001b[91m━━━━━━━━━━━━━━━━━━━━━━━━━━━━━━━━━━━━\u001b[0m\u001b[91m╸\u001b[0m \u001b[32m776.3/776.4 MB\u001b[0m \u001b[31m232.3 MB/s\u001b[0m eta \u001b[36m0:00:01\u001b[0m"
     ]
    },
    {
     "name": "stdout",
     "output_type": "stream",
     "text": [
      "\r",
      "\u001b[2K     \u001b[91m━━━━━━━━━━━━━━━━━━━━━━━━━━━━━━━━━━━━\u001b[0m\u001b[91m╸\u001b[0m \u001b[32m776.3/776.4 MB\u001b[0m \u001b[31m232.3 MB/s\u001b[0m eta \u001b[36m0:00:01\u001b[0m"
     ]
    },
    {
     "name": "stdout",
     "output_type": "stream",
     "text": [
      "\r",
      "\u001b[2K     \u001b[91m━━━━━━━━━━━━━━━━━━━━━━━━━━━━━━━━━━━━\u001b[0m\u001b[91m╸\u001b[0m \u001b[32m776.3/776.4 MB\u001b[0m \u001b[31m232.3 MB/s\u001b[0m eta \u001b[36m0:00:01\u001b[0m\r",
      "\u001b[2K     \u001b[91m━━━━━━━━━━━━━━━━━━━━━━━━━━━━━━━━━━━━\u001b[0m\u001b[91m╸\u001b[0m \u001b[32m776.3/776.4 MB\u001b[0m \u001b[31m232.3 MB/s\u001b[0m eta \u001b[36m0:00:01\u001b[0m"
     ]
    },
    {
     "name": "stdout",
     "output_type": "stream",
     "text": [
      "\r",
      "\u001b[2K     \u001b[91m━━━━━━━━━━━━━━━━━━━━━━━━━━━━━━━━━━━━\u001b[0m\u001b[91m╸\u001b[0m \u001b[32m776.3/776.4 MB\u001b[0m \u001b[31m232.3 MB/s\u001b[0m eta \u001b[36m0:00:01\u001b[0m"
     ]
    },
    {
     "name": "stdout",
     "output_type": "stream",
     "text": [
      "\r",
      "\u001b[2K     \u001b[91m━━━━━━━━━━━━━━━━━━━━━━━━━━━━━━━━━━━━\u001b[0m\u001b[91m╸\u001b[0m \u001b[32m776.3/776.4 MB\u001b[0m \u001b[31m232.3 MB/s\u001b[0m eta \u001b[36m0:00:01\u001b[0m\r",
      "\u001b[2K     \u001b[91m━━━━━━━━━━━━━━━━━━━━━━━━━━━━━━━━━━━━\u001b[0m\u001b[91m╸\u001b[0m \u001b[32m776.3/776.4 MB\u001b[0m \u001b[31m232.3 MB/s\u001b[0m eta \u001b[36m0:00:01\u001b[0m"
     ]
    },
    {
     "name": "stdout",
     "output_type": "stream",
     "text": [
      "\r",
      "\u001b[2K     \u001b[91m━━━━━━━━━━━━━━━━━━━━━━━━━━━━━━━━━━━━\u001b[0m\u001b[91m╸\u001b[0m \u001b[32m776.3/776.4 MB\u001b[0m \u001b[31m232.3 MB/s\u001b[0m eta \u001b[36m0:00:01\u001b[0m"
     ]
    },
    {
     "name": "stdout",
     "output_type": "stream",
     "text": [
      "\r",
      "\u001b[2K     \u001b[91m━━━━━━━━━━━━━━━━━━━━━━━━━━━━━━━━━━━━\u001b[0m\u001b[91m╸\u001b[0m \u001b[32m776.3/776.4 MB\u001b[0m \u001b[31m232.3 MB/s\u001b[0m eta \u001b[36m0:00:01\u001b[0m\r",
      "\u001b[2K     \u001b[91m━━━━━━━━━━━━━━━━━━━━━━━━━━━━━━━━━━━━\u001b[0m\u001b[91m╸\u001b[0m \u001b[32m776.3/776.4 MB\u001b[0m \u001b[31m232.3 MB/s\u001b[0m eta \u001b[36m0:00:01\u001b[0m"
     ]
    },
    {
     "name": "stdout",
     "output_type": "stream",
     "text": [
      "\r",
      "\u001b[2K     \u001b[91m━━━━━━━━━━━━━━━━━━━━━━━━━━━━━━━━━━━━\u001b[0m\u001b[91m╸\u001b[0m \u001b[32m776.3/776.4 MB\u001b[0m \u001b[31m232.3 MB/s\u001b[0m eta \u001b[36m0:00:01\u001b[0m"
     ]
    },
    {
     "name": "stdout",
     "output_type": "stream",
     "text": [
      "\r",
      "\u001b[2K     \u001b[91m━━━━━━━━━━━━━━━━━━━━━━━━━━━━━━━━━━━━\u001b[0m\u001b[91m╸\u001b[0m \u001b[32m776.3/776.4 MB\u001b[0m \u001b[31m232.3 MB/s\u001b[0m eta \u001b[36m0:00:01\u001b[0m\r",
      "\u001b[2K     \u001b[91m━━━━━━━━━━━━━━━━━━━━━━━━━━━━━━━━━━━━\u001b[0m\u001b[91m╸\u001b[0m \u001b[32m776.3/776.4 MB\u001b[0m \u001b[31m232.3 MB/s\u001b[0m eta \u001b[36m0:00:01\u001b[0m"
     ]
    },
    {
     "name": "stdout",
     "output_type": "stream",
     "text": [
      "\r",
      "\u001b[2K     \u001b[91m━━━━━━━━━━━━━━━━━━━━━━━━━━━━━━━━━━━━\u001b[0m\u001b[91m╸\u001b[0m \u001b[32m776.3/776.4 MB\u001b[0m \u001b[31m232.3 MB/s\u001b[0m eta \u001b[36m0:00:01\u001b[0m"
     ]
    },
    {
     "name": "stdout",
     "output_type": "stream",
     "text": [
      "\r",
      "\u001b[2K     \u001b[91m━━━━━━━━━━━━━━━━━━━━━━━━━━━━━━━━━━━━\u001b[0m\u001b[91m╸\u001b[0m \u001b[32m776.3/776.4 MB\u001b[0m \u001b[31m232.3 MB/s\u001b[0m eta \u001b[36m0:00:01\u001b[0m"
     ]
    },
    {
     "name": "stdout",
     "output_type": "stream",
     "text": [
      "\r",
      "\u001b[2K     \u001b[91m━━━━━━━━━━━━━━━━━━━━━━━━━━━━━━━━━━━━\u001b[0m\u001b[91m╸\u001b[0m \u001b[32m776.3/776.4 MB\u001b[0m \u001b[31m232.3 MB/s\u001b[0m eta \u001b[36m0:00:01\u001b[0m\r",
      "\u001b[2K     \u001b[91m━━━━━━━━━━━━━━━━━━━━━━━━━━━━━━━━━━━━\u001b[0m\u001b[91m╸\u001b[0m \u001b[32m776.3/776.4 MB\u001b[0m \u001b[31m232.3 MB/s\u001b[0m eta \u001b[36m0:00:01\u001b[0m"
     ]
    },
    {
     "name": "stdout",
     "output_type": "stream",
     "text": [
      "\r",
      "\u001b[2K     \u001b[91m━━━━━━━━━━━━━━━━━━━━━━━━━━━━━━━━━━━━\u001b[0m\u001b[91m╸\u001b[0m \u001b[32m776.3/776.4 MB\u001b[0m \u001b[31m232.3 MB/s\u001b[0m eta \u001b[36m0:00:01\u001b[0m"
     ]
    },
    {
     "name": "stdout",
     "output_type": "stream",
     "text": [
      "\r",
      "\u001b[2K     \u001b[91m━━━━━━━━━━━━━━━━━━━━━━━━━━━━━━━━━━━━\u001b[0m\u001b[91m╸\u001b[0m \u001b[32m776.3/776.4 MB\u001b[0m \u001b[31m232.3 MB/s\u001b[0m eta \u001b[36m0:00:01\u001b[0m\r",
      "\u001b[2K     \u001b[91m━━━━━━━━━━━━━━━━━━━━━━━━━━━━━━━━━━━━\u001b[0m\u001b[91m╸\u001b[0m \u001b[32m776.3/776.4 MB\u001b[0m \u001b[31m232.3 MB/s\u001b[0m eta \u001b[36m0:00:01\u001b[0m"
     ]
    },
    {
     "name": "stdout",
     "output_type": "stream",
     "text": [
      "\r",
      "\u001b[2K     \u001b[91m━━━━━━━━━━━━━━━━━━━━━━━━━━━━━━━━━━━━\u001b[0m\u001b[91m╸\u001b[0m \u001b[32m776.3/776.4 MB\u001b[0m \u001b[31m232.3 MB/s\u001b[0m eta \u001b[36m0:00:01\u001b[0m"
     ]
    },
    {
     "name": "stdout",
     "output_type": "stream",
     "text": [
      "\r",
      "\u001b[2K     \u001b[91m━━━━━━━━━━━━━━━━━━━━━━━━━━━━━━━━━━━━\u001b[0m\u001b[91m╸\u001b[0m \u001b[32m776.3/776.4 MB\u001b[0m \u001b[31m232.3 MB/s\u001b[0m eta \u001b[36m0:00:01\u001b[0m\r",
      "\u001b[2K     \u001b[91m━━━━━━━━━━━━━━━━━━━━━━━━━━━━━━━━━━━━\u001b[0m\u001b[91m╸\u001b[0m \u001b[32m776.3/776.4 MB\u001b[0m \u001b[31m232.3 MB/s\u001b[0m eta \u001b[36m0:00:01\u001b[0m"
     ]
    },
    {
     "name": "stdout",
     "output_type": "stream",
     "text": [
      "\r",
      "\u001b[2K     \u001b[91m━━━━━━━━━━━━━━━━━━━━━━━━━━━━━━━━━━━━\u001b[0m\u001b[91m╸\u001b[0m \u001b[32m776.3/776.4 MB\u001b[0m \u001b[31m232.3 MB/s\u001b[0m eta \u001b[36m0:00:01\u001b[0m"
     ]
    },
    {
     "name": "stdout",
     "output_type": "stream",
     "text": [
      "\r",
      "\u001b[2K     \u001b[91m━━━━━━━━━━━━━━━━━━━━━━━━━━━━━━━━━━━━\u001b[0m\u001b[91m╸\u001b[0m \u001b[32m776.3/776.4 MB\u001b[0m \u001b[31m232.3 MB/s\u001b[0m eta \u001b[36m0:00:01\u001b[0m"
     ]
    },
    {
     "name": "stdout",
     "output_type": "stream",
     "text": [
      "\r",
      "\u001b[2K     \u001b[91m━━━━━━━━━━━━━━━━━━━━━━━━━━━━━━━━━━━━\u001b[0m\u001b[91m╸\u001b[0m \u001b[32m776.3/776.4 MB\u001b[0m \u001b[31m232.3 MB/s\u001b[0m eta \u001b[36m0:00:01\u001b[0m\r",
      "\u001b[2K     \u001b[91m━━━━━━━━━━━━━━━━━━━━━━━━━━━━━━━━━━━━\u001b[0m\u001b[91m╸\u001b[0m \u001b[32m776.3/776.4 MB\u001b[0m \u001b[31m232.3 MB/s\u001b[0m eta \u001b[36m0:00:01\u001b[0m"
     ]
    },
    {
     "name": "stdout",
     "output_type": "stream",
     "text": [
      "\r",
      "\u001b[2K     \u001b[91m━━━━━━━━━━━━━━━━━━━━━━━━━━━━━━━━━━━━\u001b[0m\u001b[91m╸\u001b[0m \u001b[32m776.3/776.4 MB\u001b[0m \u001b[31m232.3 MB/s\u001b[0m eta \u001b[36m0:00:01\u001b[0m"
     ]
    },
    {
     "name": "stdout",
     "output_type": "stream",
     "text": [
      "\r",
      "\u001b[2K     \u001b[91m━━━━━━━━━━━━━━━━━━━━━━━━━━━━━━━━━━━━\u001b[0m\u001b[91m╸\u001b[0m \u001b[32m776.3/776.4 MB\u001b[0m \u001b[31m232.3 MB/s\u001b[0m eta \u001b[36m0:00:01\u001b[0m\r",
      "\u001b[2K     \u001b[91m━━━━━━━━━━━━━━━━━━━━━━━━━━━━━━━━━━━━\u001b[0m\u001b[91m╸\u001b[0m \u001b[32m776.3/776.4 MB\u001b[0m \u001b[31m232.3 MB/s\u001b[0m eta \u001b[36m0:00:01\u001b[0m"
     ]
    },
    {
     "name": "stdout",
     "output_type": "stream",
     "text": [
      "\r",
      "\u001b[2K     \u001b[91m━━━━━━━━━━━━━━━━━━━━━━━━━━━━━━━━━━━━\u001b[0m\u001b[91m╸\u001b[0m \u001b[32m776.3/776.4 MB\u001b[0m \u001b[31m232.3 MB/s\u001b[0m eta \u001b[36m0:00:01\u001b[0m"
     ]
    },
    {
     "name": "stdout",
     "output_type": "stream",
     "text": [
      "\r",
      "\u001b[2K     \u001b[91m━━━━━━━━━━━━━━━━━━━━━━━━━━━━━━━━━━━━\u001b[0m\u001b[91m╸\u001b[0m \u001b[32m776.3/776.4 MB\u001b[0m \u001b[31m232.3 MB/s\u001b[0m eta \u001b[36m0:00:01\u001b[0m\r",
      "\u001b[2K     \u001b[91m━━━━━━━━━━━━━━━━━━━━━━━━━━━━━━━━━━━━\u001b[0m\u001b[91m╸\u001b[0m \u001b[32m776.3/776.4 MB\u001b[0m \u001b[31m232.3 MB/s\u001b[0m eta \u001b[36m0:00:01\u001b[0m"
     ]
    },
    {
     "name": "stdout",
     "output_type": "stream",
     "text": [
      "\r",
      "\u001b[2K     \u001b[91m━━━━━━━━━━━━━━━━━━━━━━━━━━━━━━━━━━━━\u001b[0m\u001b[91m╸\u001b[0m \u001b[32m776.3/776.4 MB\u001b[0m \u001b[31m232.3 MB/s\u001b[0m eta \u001b[36m0:00:01\u001b[0m"
     ]
    },
    {
     "name": "stdout",
     "output_type": "stream",
     "text": [
      "\r",
      "\u001b[2K     \u001b[91m━━━━━━━━━━━━━━━━━━━━━━━━━━━━━━━━━━━━\u001b[0m\u001b[91m╸\u001b[0m \u001b[32m776.3/776.4 MB\u001b[0m \u001b[31m232.3 MB/s\u001b[0m eta \u001b[36m0:00:01\u001b[0m"
     ]
    },
    {
     "name": "stdout",
     "output_type": "stream",
     "text": [
      "\r",
      "\u001b[2K     \u001b[91m━━━━━━━━━━━━━━━━━━━━━━━━━━━━━━━━━━━━\u001b[0m\u001b[91m╸\u001b[0m \u001b[32m776.3/776.4 MB\u001b[0m \u001b[31m232.3 MB/s\u001b[0m eta \u001b[36m0:00:01\u001b[0m\r",
      "\u001b[2K     \u001b[91m━━━━━━━━━━━━━━━━━━━━━━━━━━━━━━━━━━━━\u001b[0m\u001b[91m╸\u001b[0m \u001b[32m776.3/776.4 MB\u001b[0m \u001b[31m232.3 MB/s\u001b[0m eta \u001b[36m0:00:01\u001b[0m"
     ]
    },
    {
     "name": "stdout",
     "output_type": "stream",
     "text": [
      "\r",
      "\u001b[2K     \u001b[91m━━━━━━━━━━━━━━━━━━━━━━━━━━━━━━━━━━━━\u001b[0m\u001b[91m╸\u001b[0m \u001b[32m776.3/776.4 MB\u001b[0m \u001b[31m232.3 MB/s\u001b[0m eta \u001b[36m0:00:01\u001b[0m"
     ]
    },
    {
     "name": "stdout",
     "output_type": "stream",
     "text": [
      "\r",
      "\u001b[2K     \u001b[91m━━━━━━━━━━━━━━━━━━━━━━━━━━━━━━━━━━━━\u001b[0m\u001b[91m╸\u001b[0m \u001b[32m776.3/776.4 MB\u001b[0m \u001b[31m232.3 MB/s\u001b[0m eta \u001b[36m0:00:01\u001b[0m\r",
      "\u001b[2K     \u001b[91m━━━━━━━━━━━━━━━━━━━━━━━━━━━━━━━━━━━━\u001b[0m\u001b[91m╸\u001b[0m \u001b[32m776.3/776.4 MB\u001b[0m \u001b[31m232.3 MB/s\u001b[0m eta \u001b[36m0:00:01\u001b[0m"
     ]
    },
    {
     "name": "stdout",
     "output_type": "stream",
     "text": [
      "\r",
      "\u001b[2K     \u001b[91m━━━━━━━━━━━━━━━━━━━━━━━━━━━━━━━━━━━━\u001b[0m\u001b[91m╸\u001b[0m \u001b[32m776.3/776.4 MB\u001b[0m \u001b[31m232.3 MB/s\u001b[0m eta \u001b[36m0:00:01\u001b[0m"
     ]
    },
    {
     "name": "stdout",
     "output_type": "stream",
     "text": [
      "\r",
      "\u001b[2K     \u001b[91m━━━━━━━━━━━━━━━━━━━━━━━━━━━━━━━━━━━━\u001b[0m\u001b[91m╸\u001b[0m \u001b[32m776.3/776.4 MB\u001b[0m \u001b[31m232.3 MB/s\u001b[0m eta \u001b[36m0:00:01\u001b[0m\r",
      "\u001b[2K     \u001b[91m━━━━━━━━━━━━━━━━━━━━━━━━━━━━━━━━━━━━\u001b[0m\u001b[91m╸\u001b[0m \u001b[32m776.3/776.4 MB\u001b[0m \u001b[31m232.3 MB/s\u001b[0m eta \u001b[36m0:00:01\u001b[0m"
     ]
    },
    {
     "name": "stdout",
     "output_type": "stream",
     "text": [
      "\r",
      "\u001b[2K     \u001b[91m━━━━━━━━━━━━━━━━━━━━━━━━━━━━━━━━━━━━\u001b[0m\u001b[91m╸\u001b[0m \u001b[32m776.3/776.4 MB\u001b[0m \u001b[31m232.3 MB/s\u001b[0m eta \u001b[36m0:00:01\u001b[0m"
     ]
    },
    {
     "name": "stdout",
     "output_type": "stream",
     "text": [
      "\r",
      "\u001b[2K     \u001b[91m━━━━━━━━━━━━━━━━━━━━━━━━━━━━━━━━━━━━\u001b[0m\u001b[91m╸\u001b[0m \u001b[32m776.3/776.4 MB\u001b[0m \u001b[31m232.3 MB/s\u001b[0m eta \u001b[36m0:00:01\u001b[0m\r",
      "\u001b[2K     \u001b[91m━━━━━━━━━━━━━━━━━━━━━━━━━━━━━━━━━━━━\u001b[0m\u001b[91m╸\u001b[0m \u001b[32m776.3/776.4 MB\u001b[0m \u001b[31m232.3 MB/s\u001b[0m eta \u001b[36m0:00:01\u001b[0m"
     ]
    },
    {
     "name": "stdout",
     "output_type": "stream",
     "text": [
      "\r",
      "\u001b[2K     \u001b[91m━━━━━━━━━━━━━━━━━━━━━━━━━━━━━━━━━━━━\u001b[0m\u001b[91m╸\u001b[0m \u001b[32m776.3/776.4 MB\u001b[0m \u001b[31m232.3 MB/s\u001b[0m eta \u001b[36m0:00:01\u001b[0m"
     ]
    },
    {
     "name": "stdout",
     "output_type": "stream",
     "text": [
      "\r",
      "\u001b[2K     \u001b[91m━━━━━━━━━━━━━━━━━━━━━━━━━━━━━━━━━━━━\u001b[0m\u001b[91m╸\u001b[0m \u001b[32m776.3/776.4 MB\u001b[0m \u001b[31m232.3 MB/s\u001b[0m eta \u001b[36m0:00:01\u001b[0m"
     ]
    },
    {
     "name": "stdout",
     "output_type": "stream",
     "text": [
      "\r",
      "\u001b[2K     \u001b[91m━━━━━━━━━━━━━━━━━━━━━━━━━━━━━━━━━━━━\u001b[0m\u001b[91m╸\u001b[0m \u001b[32m776.3/776.4 MB\u001b[0m \u001b[31m232.3 MB/s\u001b[0m eta \u001b[36m0:00:01\u001b[0m\r",
      "\u001b[2K     \u001b[91m━━━━━━━━━━━━━━━━━━━━━━━━━━━━━━━━━━━━\u001b[0m\u001b[91m╸\u001b[0m \u001b[32m776.3/776.4 MB\u001b[0m \u001b[31m232.3 MB/s\u001b[0m eta \u001b[36m0:00:01\u001b[0m"
     ]
    },
    {
     "name": "stdout",
     "output_type": "stream",
     "text": [
      "\r",
      "\u001b[2K     \u001b[91m━━━━━━━━━━━━━━━━━━━━━━━━━━━━━━━━━━━━\u001b[0m\u001b[91m╸\u001b[0m \u001b[32m776.3/776.4 MB\u001b[0m \u001b[31m232.3 MB/s\u001b[0m eta \u001b[36m0:00:01\u001b[0m"
     ]
    },
    {
     "name": "stdout",
     "output_type": "stream",
     "text": [
      "\r",
      "\u001b[2K     \u001b[91m━━━━━━━━━━━━━━━━━━━━━━━━━━━━━━━━━━━━\u001b[0m\u001b[91m╸\u001b[0m \u001b[32m776.3/776.4 MB\u001b[0m \u001b[31m232.3 MB/s\u001b[0m eta \u001b[36m0:00:01\u001b[0m\r",
      "\u001b[2K     \u001b[91m━━━━━━━━━━━━━━━━━━━━━━━━━━━━━━━━━━━━\u001b[0m\u001b[91m╸\u001b[0m \u001b[32m776.3/776.4 MB\u001b[0m \u001b[31m232.3 MB/s\u001b[0m eta \u001b[36m0:00:01\u001b[0m"
     ]
    },
    {
     "name": "stdout",
     "output_type": "stream",
     "text": [
      "\r",
      "\u001b[2K     \u001b[91m━━━━━━━━━━━━━━━━━━━━━━━━━━━━━━━━━━━━\u001b[0m\u001b[91m╸\u001b[0m \u001b[32m776.3/776.4 MB\u001b[0m \u001b[31m232.3 MB/s\u001b[0m eta \u001b[36m0:00:01\u001b[0m"
     ]
    },
    {
     "name": "stdout",
     "output_type": "stream",
     "text": [
      "\r",
      "\u001b[2K     \u001b[91m━━━━━━━━━━━━━━━━━━━━━━━━━━━━━━━━━━━━\u001b[0m\u001b[91m╸\u001b[0m \u001b[32m776.3/776.4 MB\u001b[0m \u001b[31m232.3 MB/s\u001b[0m eta \u001b[36m0:00:01\u001b[0m\r",
      "\u001b[2K     \u001b[91m━━━━━━━━━━━━━━━━━━━━━━━━━━━━━━━━━━━━\u001b[0m\u001b[91m╸\u001b[0m \u001b[32m776.3/776.4 MB\u001b[0m \u001b[31m232.3 MB/s\u001b[0m eta \u001b[36m0:00:01\u001b[0m"
     ]
    },
    {
     "name": "stdout",
     "output_type": "stream",
     "text": [
      "\r",
      "\u001b[2K     \u001b[91m━━━━━━━━━━━━━━━━━━━━━━━━━━━━━━━━━━━━\u001b[0m\u001b[91m╸\u001b[0m \u001b[32m776.3/776.4 MB\u001b[0m \u001b[31m232.3 MB/s\u001b[0m eta \u001b[36m0:00:01\u001b[0m"
     ]
    },
    {
     "name": "stdout",
     "output_type": "stream",
     "text": [
      "\r",
      "\u001b[2K     \u001b[91m━━━━━━━━━━━━━━━━━━━━━━━━━━━━━━━━━━━━\u001b[0m\u001b[91m╸\u001b[0m \u001b[32m776.3/776.4 MB\u001b[0m \u001b[31m232.3 MB/s\u001b[0m eta \u001b[36m0:00:01\u001b[0m"
     ]
    },
    {
     "name": "stdout",
     "output_type": "stream",
     "text": [
      "\r",
      "\u001b[2K     \u001b[91m━━━━━━━━━━━━━━━━━━━━━━━━━━━━━━━━━━━━\u001b[0m\u001b[91m╸\u001b[0m \u001b[32m776.3/776.4 MB\u001b[0m \u001b[31m232.3 MB/s\u001b[0m eta \u001b[36m0:00:01\u001b[0m\r",
      "\u001b[2K     \u001b[91m━━━━━━━━━━━━━━━━━━━━━━━━━━━━━━━━━━━━\u001b[0m\u001b[91m╸\u001b[0m \u001b[32m776.3/776.4 MB\u001b[0m \u001b[31m232.3 MB/s\u001b[0m eta \u001b[36m0:00:01\u001b[0m"
     ]
    },
    {
     "name": "stdout",
     "output_type": "stream",
     "text": [
      "\r",
      "\u001b[2K     \u001b[91m━━━━━━━━━━━━━━━━━━━━━━━━━━━━━━━━━━━━\u001b[0m\u001b[91m╸\u001b[0m \u001b[32m776.3/776.4 MB\u001b[0m \u001b[31m232.3 MB/s\u001b[0m eta \u001b[36m0:00:01\u001b[0m"
     ]
    },
    {
     "name": "stdout",
     "output_type": "stream",
     "text": [
      "\r",
      "\u001b[2K     \u001b[91m━━━━━━━━━━━━━━━━━━━━━━━━━━━━━━━━━━━━\u001b[0m\u001b[91m╸\u001b[0m \u001b[32m776.3/776.4 MB\u001b[0m \u001b[31m232.3 MB/s\u001b[0m eta \u001b[36m0:00:01\u001b[0m\r",
      "\u001b[2K     \u001b[91m━━━━━━━━━━━━━━━━━━━━━━━━━━━━━━━━━━━━\u001b[0m\u001b[91m╸\u001b[0m \u001b[32m776.3/776.4 MB\u001b[0m \u001b[31m232.3 MB/s\u001b[0m eta \u001b[36m0:00:01\u001b[0m"
     ]
    },
    {
     "name": "stdout",
     "output_type": "stream",
     "text": [
      "\r",
      "\u001b[2K     \u001b[91m━━━━━━━━━━━━━━━━━━━━━━━━━━━━━━━━━━━━\u001b[0m\u001b[91m╸\u001b[0m \u001b[32m776.3/776.4 MB\u001b[0m \u001b[31m232.3 MB/s\u001b[0m eta \u001b[36m0:00:01\u001b[0m"
     ]
    },
    {
     "name": "stdout",
     "output_type": "stream",
     "text": [
      "\r",
      "\u001b[2K     \u001b[91m━━━━━━━━━━━━━━━━━━━━━━━━━━━━━━━━━━━━\u001b[0m\u001b[91m╸\u001b[0m \u001b[32m776.3/776.4 MB\u001b[0m \u001b[31m232.3 MB/s\u001b[0m eta \u001b[36m0:00:01\u001b[0m\r",
      "\u001b[2K     \u001b[91m━━━━━━━━━━━━━━━━━━━━━━━━━━━━━━━━━━━━\u001b[0m\u001b[91m╸\u001b[0m \u001b[32m776.3/776.4 MB\u001b[0m \u001b[31m232.3 MB/s\u001b[0m eta \u001b[36m0:00:01\u001b[0m"
     ]
    },
    {
     "name": "stdout",
     "output_type": "stream",
     "text": [
      "\r",
      "\u001b[2K     \u001b[91m━━━━━━━━━━━━━━━━━━━━━━━━━━━━━━━━━━━━\u001b[0m\u001b[91m╸\u001b[0m \u001b[32m776.3/776.4 MB\u001b[0m \u001b[31m232.3 MB/s\u001b[0m eta \u001b[36m0:00:01\u001b[0m"
     ]
    },
    {
     "name": "stdout",
     "output_type": "stream",
     "text": [
      "\r",
      "\u001b[2K     \u001b[91m━━━━━━━━━━━━━━━━━━━━━━━━━━━━━━━━━━━━\u001b[0m\u001b[91m╸\u001b[0m \u001b[32m776.3/776.4 MB\u001b[0m \u001b[31m232.3 MB/s\u001b[0m eta \u001b[36m0:00:01\u001b[0m"
     ]
    },
    {
     "name": "stdout",
     "output_type": "stream",
     "text": [
      "\r",
      "\u001b[2K     \u001b[91m━━━━━━━━━━━━━━━━━━━━━━━━━━━━━━━━━━━━\u001b[0m\u001b[91m╸\u001b[0m \u001b[32m776.3/776.4 MB\u001b[0m \u001b[31m232.3 MB/s\u001b[0m eta \u001b[36m0:00:01\u001b[0m\r",
      "\u001b[2K     \u001b[91m━━━━━━━━━━━━━━━━━━━━━━━━━━━━━━━━━━━━\u001b[0m\u001b[91m╸\u001b[0m \u001b[32m776.3/776.4 MB\u001b[0m \u001b[31m232.3 MB/s\u001b[0m eta \u001b[36m0:00:01\u001b[0m"
     ]
    },
    {
     "name": "stdout",
     "output_type": "stream",
     "text": [
      "\r",
      "\u001b[2K     \u001b[91m━━━━━━━━━━━━━━━━━━━━━━━━━━━━━━━━━━━━\u001b[0m\u001b[91m╸\u001b[0m \u001b[32m776.3/776.4 MB\u001b[0m \u001b[31m232.3 MB/s\u001b[0m eta \u001b[36m0:00:01\u001b[0m"
     ]
    },
    {
     "name": "stdout",
     "output_type": "stream",
     "text": [
      "\r",
      "\u001b[2K     \u001b[91m━━━━━━━━━━━━━━━━━━━━━━━━━━━━━━━━━━━━\u001b[0m\u001b[91m╸\u001b[0m \u001b[32m776.3/776.4 MB\u001b[0m \u001b[31m232.3 MB/s\u001b[0m eta \u001b[36m0:00:01\u001b[0m\r",
      "\u001b[2K     \u001b[91m━━━━━━━━━━━━━━━━━━━━━━━━━━━━━━━━━━━━\u001b[0m\u001b[91m╸\u001b[0m \u001b[32m776.3/776.4 MB\u001b[0m \u001b[31m232.3 MB/s\u001b[0m eta \u001b[36m0:00:01\u001b[0m"
     ]
    },
    {
     "name": "stdout",
     "output_type": "stream",
     "text": [
      "\r",
      "\u001b[2K     \u001b[91m━━━━━━━━━━━━━━━━━━━━━━━━━━━━━━━━━━━━\u001b[0m\u001b[91m╸\u001b[0m \u001b[32m776.3/776.4 MB\u001b[0m \u001b[31m232.3 MB/s\u001b[0m eta \u001b[36m0:00:01\u001b[0m"
     ]
    },
    {
     "name": "stdout",
     "output_type": "stream",
     "text": [
      "\r",
      "\u001b[2K     \u001b[91m━━━━━━━━━━━━━━━━━━━━━━━━━━━━━━━━━━━━\u001b[0m\u001b[91m╸\u001b[0m \u001b[32m776.3/776.4 MB\u001b[0m \u001b[31m232.3 MB/s\u001b[0m eta \u001b[36m0:00:01\u001b[0m\r",
      "\u001b[2K     \u001b[91m━━━━━━━━━━━━━━━━━━━━━━━━━━━━━━━━━━━━\u001b[0m\u001b[91m╸\u001b[0m \u001b[32m776.3/776.4 MB\u001b[0m \u001b[31m232.3 MB/s\u001b[0m eta \u001b[36m0:00:01\u001b[0m"
     ]
    },
    {
     "name": "stdout",
     "output_type": "stream",
     "text": [
      "\r",
      "\u001b[2K     \u001b[91m━━━━━━━━━━━━━━━━━━━━━━━━━━━━━━━━━━━━\u001b[0m\u001b[91m╸\u001b[0m \u001b[32m776.3/776.4 MB\u001b[0m \u001b[31m232.3 MB/s\u001b[0m eta \u001b[36m0:00:01\u001b[0m"
     ]
    },
    {
     "name": "stdout",
     "output_type": "stream",
     "text": [
      "\r",
      "\u001b[2K     \u001b[91m━━━━━━━━━━━━━━━━━━━━━━━━━━━━━━━━━━━━\u001b[0m\u001b[91m╸\u001b[0m \u001b[32m776.3/776.4 MB\u001b[0m \u001b[31m232.3 MB/s\u001b[0m eta \u001b[36m0:00:01\u001b[0m"
     ]
    },
    {
     "name": "stdout",
     "output_type": "stream",
     "text": [
      "\r",
      "\u001b[2K     \u001b[91m━━━━━━━━━━━━━━━━━━━━━━━━━━━━━━━━━━━━\u001b[0m\u001b[91m╸\u001b[0m \u001b[32m776.3/776.4 MB\u001b[0m \u001b[31m232.3 MB/s\u001b[0m eta \u001b[36m0:00:01\u001b[0m\r",
      "\u001b[2K     \u001b[91m━━━━━━━━━━━━━━━━━━━━━━━━━━━━━━━━━━━━\u001b[0m\u001b[91m╸\u001b[0m \u001b[32m776.3/776.4 MB\u001b[0m \u001b[31m232.3 MB/s\u001b[0m eta \u001b[36m0:00:01\u001b[0m"
     ]
    },
    {
     "name": "stdout",
     "output_type": "stream",
     "text": [
      "\r",
      "\u001b[2K     \u001b[91m━━━━━━━━━━━━━━━━━━━━━━━━━━━━━━━━━━━━\u001b[0m\u001b[91m╸\u001b[0m \u001b[32m776.3/776.4 MB\u001b[0m \u001b[31m232.3 MB/s\u001b[0m eta \u001b[36m0:00:01\u001b[0m"
     ]
    },
    {
     "name": "stdout",
     "output_type": "stream",
     "text": [
      "\r",
      "\u001b[2K     \u001b[91m━━━━━━━━━━━━━━━━━━━━━━━━━━━━━━━━━━━━\u001b[0m\u001b[91m╸\u001b[0m \u001b[32m776.3/776.4 MB\u001b[0m \u001b[31m232.3 MB/s\u001b[0m eta \u001b[36m0:00:01\u001b[0m\r",
      "\u001b[2K     \u001b[91m━━━━━━━━━━━━━━━━━━━━━━━━━━━━━━━━━━━━\u001b[0m\u001b[91m╸\u001b[0m \u001b[32m776.3/776.4 MB\u001b[0m \u001b[31m232.3 MB/s\u001b[0m eta \u001b[36m0:00:01\u001b[0m"
     ]
    },
    {
     "name": "stdout",
     "output_type": "stream",
     "text": [
      "\r",
      "\u001b[2K     \u001b[91m━━━━━━━━━━━━━━━━━━━━━━━━━━━━━━━━━━━━\u001b[0m\u001b[91m╸\u001b[0m \u001b[32m776.3/776.4 MB\u001b[0m \u001b[31m232.3 MB/s\u001b[0m eta \u001b[36m0:00:01\u001b[0m"
     ]
    },
    {
     "name": "stdout",
     "output_type": "stream",
     "text": [
      "\r",
      "\u001b[2K     \u001b[91m━━━━━━━━━━━━━━━━━━━━━━━━━━━━━━━━━━━━\u001b[0m\u001b[91m╸\u001b[0m \u001b[32m776.3/776.4 MB\u001b[0m \u001b[31m232.3 MB/s\u001b[0m eta \u001b[36m0:00:01\u001b[0m\r",
      "\u001b[2K     \u001b[91m━━━━━━━━━━━━━━━━━━━━━━━━━━━━━━━━━━━━\u001b[0m\u001b[91m╸\u001b[0m \u001b[32m776.3/776.4 MB\u001b[0m \u001b[31m232.3 MB/s\u001b[0m eta \u001b[36m0:00:01\u001b[0m"
     ]
    },
    {
     "name": "stdout",
     "output_type": "stream",
     "text": [
      "\r",
      "\u001b[2K     \u001b[91m━━━━━━━━━━━━━━━━━━━━━━━━━━━━━━━━━━━━\u001b[0m\u001b[91m╸\u001b[0m \u001b[32m776.3/776.4 MB\u001b[0m \u001b[31m232.3 MB/s\u001b[0m eta \u001b[36m0:00:01\u001b[0m"
     ]
    },
    {
     "name": "stdout",
     "output_type": "stream",
     "text": [
      "\r",
      "\u001b[2K     \u001b[91m━━━━━━━━━━━━━━━━━━━━━━━━━━━━━━━━━━━━\u001b[0m\u001b[91m╸\u001b[0m \u001b[32m776.3/776.4 MB\u001b[0m \u001b[31m232.3 MB/s\u001b[0m eta \u001b[36m0:00:01\u001b[0m"
     ]
    },
    {
     "name": "stdout",
     "output_type": "stream",
     "text": [
      "\r",
      "\u001b[2K     \u001b[91m━━━━━━━━━━━━━━━━━━━━━━━━━━━━━━━━━━━━\u001b[0m\u001b[91m╸\u001b[0m \u001b[32m776.3/776.4 MB\u001b[0m \u001b[31m232.3 MB/s\u001b[0m eta \u001b[36m0:00:01\u001b[0m\r",
      "\u001b[2K     \u001b[91m━━━━━━━━━━━━━━━━━━━━━━━━━━━━━━━━━━━━\u001b[0m\u001b[91m╸\u001b[0m \u001b[32m776.3/776.4 MB\u001b[0m \u001b[31m232.3 MB/s\u001b[0m eta \u001b[36m0:00:01\u001b[0m"
     ]
    },
    {
     "name": "stdout",
     "output_type": "stream",
     "text": [
      "\r",
      "\u001b[2K     \u001b[91m━━━━━━━━━━━━━━━━━━━━━━━━━━━━━━━━━━━━\u001b[0m\u001b[91m╸\u001b[0m \u001b[32m776.3/776.4 MB\u001b[0m \u001b[31m232.3 MB/s\u001b[0m eta \u001b[36m0:00:01\u001b[0m"
     ]
    },
    {
     "name": "stdout",
     "output_type": "stream",
     "text": [
      "\r",
      "\u001b[2K     \u001b[91m━━━━━━━━━━━━━━━━━━━━━━━━━━━━━━━━━━━━\u001b[0m\u001b[91m╸\u001b[0m \u001b[32m776.3/776.4 MB\u001b[0m \u001b[31m232.3 MB/s\u001b[0m eta \u001b[36m0:00:01\u001b[0m\r",
      "\u001b[2K     \u001b[91m━━━━━━━━━━━━━━━━━━━━━━━━━━━━━━━━━━━━\u001b[0m\u001b[91m╸\u001b[0m \u001b[32m776.3/776.4 MB\u001b[0m \u001b[31m232.3 MB/s\u001b[0m eta \u001b[36m0:00:01\u001b[0m"
     ]
    },
    {
     "name": "stdout",
     "output_type": "stream",
     "text": [
      "\r",
      "\u001b[2K     \u001b[91m━━━━━━━━━━━━━━━━━━━━━━━━━━━━━━━━━━━━\u001b[0m\u001b[91m╸\u001b[0m \u001b[32m776.3/776.4 MB\u001b[0m \u001b[31m232.3 MB/s\u001b[0m eta \u001b[36m0:00:01\u001b[0m"
     ]
    },
    {
     "name": "stdout",
     "output_type": "stream",
     "text": [
      "\r",
      "\u001b[2K     \u001b[91m━━━━━━━━━━━━━━━━━━━━━━━━━━━━━━━━━━━━\u001b[0m\u001b[91m╸\u001b[0m \u001b[32m776.3/776.4 MB\u001b[0m \u001b[31m232.3 MB/s\u001b[0m eta \u001b[36m0:00:01\u001b[0m\r",
      "\u001b[2K     \u001b[91m━━━━━━━━━━━━━━━━━━━━━━━━━━━━━━━━━━━━\u001b[0m\u001b[91m╸\u001b[0m \u001b[32m776.3/776.4 MB\u001b[0m \u001b[31m232.3 MB/s\u001b[0m eta \u001b[36m0:00:01\u001b[0m"
     ]
    },
    {
     "name": "stdout",
     "output_type": "stream",
     "text": [
      "\r",
      "\u001b[2K     \u001b[91m━━━━━━━━━━━━━━━━━━━━━━━━━━━━━━━━━━━━\u001b[0m\u001b[91m╸\u001b[0m \u001b[32m776.3/776.4 MB\u001b[0m \u001b[31m232.3 MB/s\u001b[0m eta \u001b[36m0:00:01\u001b[0m"
     ]
    },
    {
     "name": "stdout",
     "output_type": "stream",
     "text": [
      "\r",
      "\u001b[2K     \u001b[91m━━━━━━━━━━━━━━━━━━━━━━━━━━━━━━━━━━━━\u001b[0m\u001b[91m╸\u001b[0m \u001b[32m776.3/776.4 MB\u001b[0m \u001b[31m232.3 MB/s\u001b[0m eta \u001b[36m0:00:01\u001b[0m"
     ]
    },
    {
     "name": "stdout",
     "output_type": "stream",
     "text": [
      "\r",
      "\u001b[2K     \u001b[91m━━━━━━━━━━━━━━━━━━━━━━━━━━━━━━━━━━━━\u001b[0m\u001b[91m╸\u001b[0m \u001b[32m776.3/776.4 MB\u001b[0m \u001b[31m232.3 MB/s\u001b[0m eta \u001b[36m0:00:01\u001b[0m\r",
      "\u001b[2K     \u001b[91m━━━━━━━━━━━━━━━━━━━━━━━━━━━━━━━━━━━━\u001b[0m\u001b[91m╸\u001b[0m \u001b[32m776.3/776.4 MB\u001b[0m \u001b[31m232.3 MB/s\u001b[0m eta \u001b[36m0:00:01\u001b[0m"
     ]
    },
    {
     "name": "stdout",
     "output_type": "stream",
     "text": [
      "\r",
      "\u001b[2K     \u001b[91m━━━━━━━━━━━━━━━━━━━━━━━━━━━━━━━━━━━━\u001b[0m\u001b[91m╸\u001b[0m \u001b[32m776.3/776.4 MB\u001b[0m \u001b[31m232.3 MB/s\u001b[0m eta \u001b[36m0:00:01\u001b[0m"
     ]
    },
    {
     "name": "stdout",
     "output_type": "stream",
     "text": [
      "\r",
      "\u001b[2K     \u001b[91m━━━━━━━━━━━━━━━━━━━━━━━━━━━━━━━━━━━━\u001b[0m\u001b[91m╸\u001b[0m \u001b[32m776.3/776.4 MB\u001b[0m \u001b[31m232.3 MB/s\u001b[0m eta \u001b[36m0:00:01\u001b[0m\r",
      "\u001b[2K     \u001b[91m━━━━━━━━━━━━━━━━━━━━━━━━━━━━━━━━━━━━\u001b[0m\u001b[91m╸\u001b[0m \u001b[32m776.3/776.4 MB\u001b[0m \u001b[31m232.3 MB/s\u001b[0m eta \u001b[36m0:00:01\u001b[0m"
     ]
    },
    {
     "name": "stdout",
     "output_type": "stream",
     "text": [
      "\r",
      "\u001b[2K     \u001b[91m━━━━━━━━━━━━━━━━━━━━━━━━━━━━━━━━━━━━\u001b[0m\u001b[91m╸\u001b[0m \u001b[32m776.3/776.4 MB\u001b[0m \u001b[31m232.3 MB/s\u001b[0m eta \u001b[36m0:00:01\u001b[0m"
     ]
    },
    {
     "name": "stdout",
     "output_type": "stream",
     "text": [
      "\r",
      "\u001b[2K     \u001b[91m━━━━━━━━━━━━━━━━━━━━━━━━━━━━━━━━━━━━\u001b[0m\u001b[91m╸\u001b[0m \u001b[32m776.3/776.4 MB\u001b[0m \u001b[31m232.3 MB/s\u001b[0m eta \u001b[36m0:00:01\u001b[0m\r",
      "\u001b[2K     \u001b[91m━━━━━━━━━━━━━━━━━━━━━━━━━━━━━━━━━━━━\u001b[0m\u001b[91m╸\u001b[0m \u001b[32m776.3/776.4 MB\u001b[0m \u001b[31m232.3 MB/s\u001b[0m eta \u001b[36m0:00:01\u001b[0m"
     ]
    },
    {
     "name": "stdout",
     "output_type": "stream",
     "text": [
      "\r",
      "\u001b[2K     \u001b[91m━━━━━━━━━━━━━━━━━━━━━━━━━━━━━━━━━━━━\u001b[0m\u001b[91m╸\u001b[0m \u001b[32m776.3/776.4 MB\u001b[0m \u001b[31m232.3 MB/s\u001b[0m eta \u001b[36m0:00:01\u001b[0m"
     ]
    },
    {
     "name": "stdout",
     "output_type": "stream",
     "text": [
      "\r",
      "\u001b[2K     \u001b[91m━━━━━━━━━━━━━━━━━━━━━━━━━━━━━━━━━━━━\u001b[0m\u001b[91m╸\u001b[0m \u001b[32m776.3/776.4 MB\u001b[0m \u001b[31m232.3 MB/s\u001b[0m eta \u001b[36m0:00:01\u001b[0m\r",
      "\u001b[2K     \u001b[91m━━━━━━━━━━━━━━━━━━━━━━━━━━━━━━━━━━━━\u001b[0m\u001b[91m╸\u001b[0m \u001b[32m776.3/776.4 MB\u001b[0m \u001b[31m232.3 MB/s\u001b[0m eta \u001b[36m0:00:01\u001b[0m"
     ]
    },
    {
     "name": "stdout",
     "output_type": "stream",
     "text": [
      "\r",
      "\u001b[2K     \u001b[91m━━━━━━━━━━━━━━━━━━━━━━━━━━━━━━━━━━━━\u001b[0m\u001b[91m╸\u001b[0m \u001b[32m776.3/776.4 MB\u001b[0m \u001b[31m232.3 MB/s\u001b[0m eta \u001b[36m0:00:01\u001b[0m"
     ]
    },
    {
     "name": "stdout",
     "output_type": "stream",
     "text": [
      "\r",
      "\u001b[2K     \u001b[91m━━━━━━━━━━━━━━━━━━━━━━━━━━━━━━━━━━━━\u001b[0m\u001b[91m╸\u001b[0m \u001b[32m776.3/776.4 MB\u001b[0m \u001b[31m232.3 MB/s\u001b[0m eta \u001b[36m0:00:01\u001b[0m"
     ]
    },
    {
     "name": "stdout",
     "output_type": "stream",
     "text": [
      "\r",
      "\u001b[2K     \u001b[91m━━━━━━━━━━━━━━━━━━━━━━━━━━━━━━━━━━━━\u001b[0m\u001b[91m╸\u001b[0m \u001b[32m776.3/776.4 MB\u001b[0m \u001b[31m232.3 MB/s\u001b[0m eta \u001b[36m0:00:01\u001b[0m\r",
      "\u001b[2K     \u001b[91m━━━━━━━━━━━━━━━━━━━━━━━━━━━━━━━━━━━━\u001b[0m\u001b[91m╸\u001b[0m \u001b[32m776.3/776.4 MB\u001b[0m \u001b[31m232.3 MB/s\u001b[0m eta \u001b[36m0:00:01\u001b[0m"
     ]
    },
    {
     "name": "stdout",
     "output_type": "stream",
     "text": [
      "\r",
      "\u001b[2K     \u001b[91m━━━━━━━━━━━━━━━━━━━━━━━━━━━━━━━━━━━━\u001b[0m\u001b[91m╸\u001b[0m \u001b[32m776.3/776.4 MB\u001b[0m \u001b[31m232.3 MB/s\u001b[0m eta \u001b[36m0:00:01\u001b[0m"
     ]
    },
    {
     "name": "stdout",
     "output_type": "stream",
     "text": [
      "\r",
      "\u001b[2K     \u001b[91m━━━━━━━━━━━━━━━━━━━━━━━━━━━━━━━━━━━━\u001b[0m\u001b[91m╸\u001b[0m \u001b[32m776.3/776.4 MB\u001b[0m \u001b[31m232.3 MB/s\u001b[0m eta \u001b[36m0:00:01\u001b[0m\r",
      "\u001b[2K     \u001b[91m━━━━━━━━━━━━━━━━━━━━━━━━━━━━━━━━━━━━\u001b[0m\u001b[91m╸\u001b[0m \u001b[32m776.3/776.4 MB\u001b[0m \u001b[31m232.3 MB/s\u001b[0m eta \u001b[36m0:00:01\u001b[0m"
     ]
    },
    {
     "name": "stdout",
     "output_type": "stream",
     "text": [
      "\r",
      "\u001b[2K     \u001b[91m━━━━━━━━━━━━━━━━━━━━━━━━━━━━━━━━━━━━\u001b[0m\u001b[91m╸\u001b[0m \u001b[32m776.3/776.4 MB\u001b[0m \u001b[31m232.3 MB/s\u001b[0m eta \u001b[36m0:00:01\u001b[0m"
     ]
    },
    {
     "name": "stdout",
     "output_type": "stream",
     "text": [
      "\r",
      "\u001b[2K     \u001b[91m━━━━━━━━━━━━━━━━━━━━━━━━━━━━━━━━━━━━\u001b[0m\u001b[91m╸\u001b[0m \u001b[32m776.3/776.4 MB\u001b[0m \u001b[31m232.3 MB/s\u001b[0m eta \u001b[36m0:00:01\u001b[0m\r",
      "\u001b[2K     \u001b[91m━━━━━━━━━━━━━━━━━━━━━━━━━━━━━━━━━━━━\u001b[0m\u001b[91m╸\u001b[0m \u001b[32m776.3/776.4 MB\u001b[0m \u001b[31m232.3 MB/s\u001b[0m eta \u001b[36m0:00:01\u001b[0m"
     ]
    },
    {
     "name": "stdout",
     "output_type": "stream",
     "text": [
      "\r",
      "\u001b[2K     \u001b[91m━━━━━━━━━━━━━━━━━━━━━━━━━━━━━━━━━━━━\u001b[0m\u001b[91m╸\u001b[0m \u001b[32m776.3/776.4 MB\u001b[0m \u001b[31m232.3 MB/s\u001b[0m eta \u001b[36m0:00:01\u001b[0m"
     ]
    },
    {
     "name": "stdout",
     "output_type": "stream",
     "text": [
      "\r",
      "\u001b[2K     \u001b[91m━━━━━━━━━━━━━━━━━━━━━━━━━━━━━━━━━━━━\u001b[0m\u001b[91m╸\u001b[0m \u001b[32m776.3/776.4 MB\u001b[0m \u001b[31m232.3 MB/s\u001b[0m eta \u001b[36m0:00:01\u001b[0m"
     ]
    },
    {
     "name": "stdout",
     "output_type": "stream",
     "text": [
      "\r",
      "\u001b[2K     \u001b[91m━━━━━━━━━━━━━━━━━━━━━━━━━━━━━━━━━━━━\u001b[0m\u001b[91m╸\u001b[0m \u001b[32m776.3/776.4 MB\u001b[0m \u001b[31m232.3 MB/s\u001b[0m eta \u001b[36m0:00:01\u001b[0m\r",
      "\u001b[2K     \u001b[91m━━━━━━━━━━━━━━━━━━━━━━━━━━━━━━━━━━━━\u001b[0m\u001b[91m╸\u001b[0m \u001b[32m776.3/776.4 MB\u001b[0m \u001b[31m232.3 MB/s\u001b[0m eta \u001b[36m0:00:01\u001b[0m"
     ]
    },
    {
     "name": "stdout",
     "output_type": "stream",
     "text": [
      "\r",
      "\u001b[2K     \u001b[91m━━━━━━━━━━━━━━━━━━━━━━━━━━━━━━━━━━━━\u001b[0m\u001b[91m╸\u001b[0m \u001b[32m776.3/776.4 MB\u001b[0m \u001b[31m232.3 MB/s\u001b[0m eta \u001b[36m0:00:01\u001b[0m"
     ]
    },
    {
     "name": "stdout",
     "output_type": "stream",
     "text": [
      "\r",
      "\u001b[2K     \u001b[91m━━━━━━━━━━━━━━━━━━━━━━━━━━━━━━━━━━━━\u001b[0m\u001b[91m╸\u001b[0m \u001b[32m776.3/776.4 MB\u001b[0m \u001b[31m232.3 MB/s\u001b[0m eta \u001b[36m0:00:01\u001b[0m\r",
      "\u001b[2K     \u001b[91m━━━━━━━━━━━━━━━━━━━━━━━━━━━━━━━━━━━━\u001b[0m\u001b[91m╸\u001b[0m \u001b[32m776.3/776.4 MB\u001b[0m \u001b[31m232.3 MB/s\u001b[0m eta \u001b[36m0:00:01\u001b[0m"
     ]
    },
    {
     "name": "stdout",
     "output_type": "stream",
     "text": [
      "\r",
      "\u001b[2K     \u001b[91m━━━━━━━━━━━━━━━━━━━━━━━━━━━━━━━━━━━━\u001b[0m\u001b[91m╸\u001b[0m \u001b[32m776.3/776.4 MB\u001b[0m \u001b[31m232.3 MB/s\u001b[0m eta \u001b[36m0:00:01\u001b[0m"
     ]
    },
    {
     "name": "stdout",
     "output_type": "stream",
     "text": [
      "\r",
      "\u001b[2K     \u001b[91m━━━━━━━━━━━━━━━━━━━━━━━━━━━━━━━━━━━━\u001b[0m\u001b[91m╸\u001b[0m \u001b[32m776.3/776.4 MB\u001b[0m \u001b[31m232.3 MB/s\u001b[0m eta \u001b[36m0:00:01\u001b[0m\r",
      "\u001b[2K     \u001b[91m━━━━━━━━━━━━━━━━━━━━━━━━━━━━━━━━━━━━\u001b[0m\u001b[91m╸\u001b[0m \u001b[32m776.3/776.4 MB\u001b[0m \u001b[31m232.3 MB/s\u001b[0m eta \u001b[36m0:00:01\u001b[0m"
     ]
    },
    {
     "name": "stdout",
     "output_type": "stream",
     "text": [
      "\r",
      "\u001b[2K     \u001b[91m━━━━━━━━━━━━━━━━━━━━━━━━━━━━━━━━━━━━\u001b[0m\u001b[91m╸\u001b[0m \u001b[32m776.3/776.4 MB\u001b[0m \u001b[31m232.3 MB/s\u001b[0m eta \u001b[36m0:00:01\u001b[0m"
     ]
    },
    {
     "name": "stdout",
     "output_type": "stream",
     "text": [
      "\r",
      "\u001b[2K     \u001b[91m━━━━━━━━━━━━━━━━━━━━━━━━━━━━━━━━━━━━\u001b[0m\u001b[91m╸\u001b[0m \u001b[32m776.3/776.4 MB\u001b[0m \u001b[31m232.3 MB/s\u001b[0m eta \u001b[36m0:00:01\u001b[0m"
     ]
    },
    {
     "name": "stdout",
     "output_type": "stream",
     "text": [
      "\r",
      "\u001b[2K     \u001b[91m━━━━━━━━━━━━━━━━━━━━━━━━━━━━━━━━━━━━\u001b[0m\u001b[91m╸\u001b[0m \u001b[32m776.3/776.4 MB\u001b[0m \u001b[31m232.3 MB/s\u001b[0m eta \u001b[36m0:00:01\u001b[0m\r",
      "\u001b[2K     \u001b[91m━━━━━━━━━━━━━━━━━━━━━━━━━━━━━━━━━━━━\u001b[0m\u001b[91m╸\u001b[0m \u001b[32m776.3/776.4 MB\u001b[0m \u001b[31m232.3 MB/s\u001b[0m eta \u001b[36m0:00:01\u001b[0m"
     ]
    },
    {
     "name": "stdout",
     "output_type": "stream",
     "text": [
      "\r",
      "\u001b[2K     \u001b[91m━━━━━━━━━━━━━━━━━━━━━━━━━━━━━━━━━━━━\u001b[0m\u001b[91m╸\u001b[0m \u001b[32m776.3/776.4 MB\u001b[0m \u001b[31m232.3 MB/s\u001b[0m eta \u001b[36m0:00:01\u001b[0m"
     ]
    },
    {
     "name": "stdout",
     "output_type": "stream",
     "text": [
      "\r",
      "\u001b[2K     \u001b[91m━━━━━━━━━━━━━━━━━━━━━━━━━━━━━━━━━━━━\u001b[0m\u001b[91m╸\u001b[0m \u001b[32m776.3/776.4 MB\u001b[0m \u001b[31m232.3 MB/s\u001b[0m eta \u001b[36m0:00:01\u001b[0m\r",
      "\u001b[2K     \u001b[91m━━━━━━━━━━━━━━━━━━━━━━━━━━━━━━━━━━━━\u001b[0m\u001b[91m╸\u001b[0m \u001b[32m776.3/776.4 MB\u001b[0m \u001b[31m232.3 MB/s\u001b[0m eta \u001b[36m0:00:01\u001b[0m"
     ]
    },
    {
     "name": "stdout",
     "output_type": "stream",
     "text": [
      "\r",
      "\u001b[2K     \u001b[91m━━━━━━━━━━━━━━━━━━━━━━━━━━━━━━━━━━━━\u001b[0m\u001b[91m╸\u001b[0m \u001b[32m776.3/776.4 MB\u001b[0m \u001b[31m232.3 MB/s\u001b[0m eta \u001b[36m0:00:01\u001b[0m"
     ]
    },
    {
     "name": "stdout",
     "output_type": "stream",
     "text": [
      "\r",
      "\u001b[2K     \u001b[91m━━━━━━━━━━━━━━━━━━━━━━━━━━━━━━━━━━━━\u001b[0m\u001b[91m╸\u001b[0m \u001b[32m776.3/776.4 MB\u001b[0m \u001b[31m232.3 MB/s\u001b[0m eta \u001b[36m0:00:01\u001b[0m\r",
      "\u001b[2K     \u001b[91m━━━━━━━━━━━━━━━━━━━━━━━━━━━━━━━━━━━━\u001b[0m\u001b[91m╸\u001b[0m \u001b[32m776.3/776.4 MB\u001b[0m \u001b[31m232.3 MB/s\u001b[0m eta \u001b[36m0:00:01\u001b[0m"
     ]
    },
    {
     "name": "stdout",
     "output_type": "stream",
     "text": [
      "\r",
      "\u001b[2K     \u001b[91m━━━━━━━━━━━━━━━━━━━━━━━━━━━━━━━━━━━━\u001b[0m\u001b[91m╸\u001b[0m \u001b[32m776.3/776.4 MB\u001b[0m \u001b[31m232.3 MB/s\u001b[0m eta \u001b[36m0:00:01\u001b[0m"
     ]
    },
    {
     "name": "stdout",
     "output_type": "stream",
     "text": [
      "\r",
      "\u001b[2K     \u001b[91m━━━━━━━━━━━━━━━━━━━━━━━━━━━━━━━━━━━━\u001b[0m\u001b[91m╸\u001b[0m \u001b[32m776.3/776.4 MB\u001b[0m \u001b[31m232.3 MB/s\u001b[0m eta \u001b[36m0:00:01\u001b[0m"
     ]
    },
    {
     "name": "stdout",
     "output_type": "stream",
     "text": [
      "\r",
      "\u001b[2K     \u001b[91m━━━━━━━━━━━━━━━━━━━━━━━━━━━━━━━━━━━━\u001b[0m\u001b[91m╸\u001b[0m \u001b[32m776.3/776.4 MB\u001b[0m \u001b[31m232.3 MB/s\u001b[0m eta \u001b[36m0:00:01\u001b[0m\r",
      "\u001b[2K     \u001b[91m━━━━━━━━━━━━━━━━━━━━━━━━━━━━━━━━━━━━\u001b[0m\u001b[91m╸\u001b[0m \u001b[32m776.3/776.4 MB\u001b[0m \u001b[31m232.3 MB/s\u001b[0m eta \u001b[36m0:00:01\u001b[0m"
     ]
    },
    {
     "name": "stdout",
     "output_type": "stream",
     "text": [
      "\r",
      "\u001b[2K     \u001b[91m━━━━━━━━━━━━━━━━━━━━━━━━━━━━━━━━━━━━\u001b[0m\u001b[91m╸\u001b[0m \u001b[32m776.3/776.4 MB\u001b[0m \u001b[31m232.3 MB/s\u001b[0m eta \u001b[36m0:00:01\u001b[0m"
     ]
    },
    {
     "name": "stdout",
     "output_type": "stream",
     "text": [
      "\r",
      "\u001b[2K     \u001b[91m━━━━━━━━━━━━━━━━━━━━━━━━━━━━━━━━━━━━\u001b[0m\u001b[91m╸\u001b[0m \u001b[32m776.3/776.4 MB\u001b[0m \u001b[31m232.3 MB/s\u001b[0m eta \u001b[36m0:00:01\u001b[0m\r",
      "\u001b[2K     \u001b[91m━━━━━━━━━━━━━━━━━━━━━━━━━━━━━━━━━━━━\u001b[0m\u001b[91m╸\u001b[0m \u001b[32m776.3/776.4 MB\u001b[0m \u001b[31m232.3 MB/s\u001b[0m eta \u001b[36m0:00:01\u001b[0m"
     ]
    },
    {
     "name": "stdout",
     "output_type": "stream",
     "text": [
      "\r",
      "\u001b[2K     \u001b[91m━━━━━━━━━━━━━━━━━━━━━━━━━━━━━━━━━━━━\u001b[0m\u001b[91m╸\u001b[0m \u001b[32m776.3/776.4 MB\u001b[0m \u001b[31m232.3 MB/s\u001b[0m eta \u001b[36m0:00:01\u001b[0m"
     ]
    },
    {
     "name": "stdout",
     "output_type": "stream",
     "text": [
      "\r",
      "\u001b[2K     \u001b[91m━━━━━━━━━━━━━━━━━━━━━━━━━━━━━━━━━━━━\u001b[0m\u001b[91m╸\u001b[0m \u001b[32m776.3/776.4 MB\u001b[0m \u001b[31m232.3 MB/s\u001b[0m eta \u001b[36m0:00:01\u001b[0m\r",
      "\u001b[2K     \u001b[91m━━━━━━━━━━━━━━━━━━━━━━━━━━━━━━━━━━━━\u001b[0m\u001b[91m╸\u001b[0m \u001b[32m776.3/776.4 MB\u001b[0m \u001b[31m232.3 MB/s\u001b[0m eta \u001b[36m0:00:01\u001b[0m"
     ]
    },
    {
     "name": "stdout",
     "output_type": "stream",
     "text": [
      "\r",
      "\u001b[2K     \u001b[91m━━━━━━━━━━━━━━━━━━━━━━━━━━━━━━━━━━━━\u001b[0m\u001b[91m╸\u001b[0m \u001b[32m776.3/776.4 MB\u001b[0m \u001b[31m232.3 MB/s\u001b[0m eta \u001b[36m0:00:01\u001b[0m"
     ]
    },
    {
     "name": "stdout",
     "output_type": "stream",
     "text": [
      "\r",
      "\u001b[2K     \u001b[91m━━━━━━━━━━━━━━━━━━━━━━━━━━━━━━━━━━━━\u001b[0m\u001b[91m╸\u001b[0m \u001b[32m776.3/776.4 MB\u001b[0m \u001b[31m232.3 MB/s\u001b[0m eta \u001b[36m0:00:01\u001b[0m\r",
      "\u001b[2K     \u001b[91m━━━━━━━━━━━━━━━━━━━━━━━━━━━━━━━━━━━━\u001b[0m\u001b[91m╸\u001b[0m \u001b[32m776.3/776.4 MB\u001b[0m \u001b[31m232.3 MB/s\u001b[0m eta \u001b[36m0:00:01\u001b[0m"
     ]
    },
    {
     "name": "stdout",
     "output_type": "stream",
     "text": [
      "\r",
      "\u001b[2K     \u001b[91m━━━━━━━━━━━━━━━━━━━━━━━━━━━━━━━━━━━━\u001b[0m\u001b[91m╸\u001b[0m \u001b[32m776.3/776.4 MB\u001b[0m \u001b[31m232.3 MB/s\u001b[0m eta \u001b[36m0:00:01\u001b[0m"
     ]
    },
    {
     "name": "stdout",
     "output_type": "stream",
     "text": [
      "\r",
      "\u001b[2K     \u001b[91m━━━━━━━━━━━━━━━━━━━━━━━━━━━━━━━━━━━━\u001b[0m\u001b[91m╸\u001b[0m \u001b[32m776.3/776.4 MB\u001b[0m \u001b[31m232.3 MB/s\u001b[0m eta \u001b[36m0:00:01\u001b[0m"
     ]
    },
    {
     "name": "stdout",
     "output_type": "stream",
     "text": [
      "\r",
      "\u001b[2K     \u001b[91m━━━━━━━━━━━━━━━━━━━━━━━━━━━━━━━━━━━━\u001b[0m\u001b[91m╸\u001b[0m \u001b[32m776.3/776.4 MB\u001b[0m \u001b[31m232.3 MB/s\u001b[0m eta \u001b[36m0:00:01\u001b[0m\r",
      "\u001b[2K     \u001b[91m━━━━━━━━━━━━━━━━━━━━━━━━━━━━━━━━━━━━\u001b[0m\u001b[91m╸\u001b[0m \u001b[32m776.3/776.4 MB\u001b[0m \u001b[31m232.3 MB/s\u001b[0m eta \u001b[36m0:00:01\u001b[0m"
     ]
    },
    {
     "name": "stdout",
     "output_type": "stream",
     "text": [
      "\r",
      "\u001b[2K     \u001b[91m━━━━━━━━━━━━━━━━━━━━━━━━━━━━━━━━━━━━\u001b[0m\u001b[91m╸\u001b[0m \u001b[32m776.3/776.4 MB\u001b[0m \u001b[31m232.3 MB/s\u001b[0m eta \u001b[36m0:00:01\u001b[0m"
     ]
    },
    {
     "name": "stdout",
     "output_type": "stream",
     "text": [
      "\r",
      "\u001b[2K     \u001b[91m━━━━━━━━━━━━━━━━━━━━━━━━━━━━━━━━━━━━\u001b[0m\u001b[91m╸\u001b[0m \u001b[32m776.3/776.4 MB\u001b[0m \u001b[31m232.3 MB/s\u001b[0m eta \u001b[36m0:00:01\u001b[0m\r",
      "\u001b[2K     \u001b[91m━━━━━━━━━━━━━━━━━━━━━━━━━━━━━━━━━━━━\u001b[0m\u001b[91m╸\u001b[0m \u001b[32m776.3/776.4 MB\u001b[0m \u001b[31m232.3 MB/s\u001b[0m eta \u001b[36m0:00:01\u001b[0m"
     ]
    },
    {
     "name": "stdout",
     "output_type": "stream",
     "text": [
      "\r",
      "\u001b[2K     \u001b[91m━━━━━━━━━━━━━━━━━━━━━━━━━━━━━━━━━━━━\u001b[0m\u001b[91m╸\u001b[0m \u001b[32m776.3/776.4 MB\u001b[0m \u001b[31m232.3 MB/s\u001b[0m eta \u001b[36m0:00:01\u001b[0m"
     ]
    },
    {
     "name": "stdout",
     "output_type": "stream",
     "text": [
      "\r",
      "\u001b[2K     \u001b[91m━━━━━━━━━━━━━━━━━━━━━━━━━━━━━━━━━━━━\u001b[0m\u001b[91m╸\u001b[0m \u001b[32m776.3/776.4 MB\u001b[0m \u001b[31m232.3 MB/s\u001b[0m eta \u001b[36m0:00:01\u001b[0m\r",
      "\u001b[2K     \u001b[91m━━━━━━━━━━━━━━━━━━━━━━━━━━━━━━━━━━━━\u001b[0m\u001b[91m╸\u001b[0m \u001b[32m776.3/776.4 MB\u001b[0m \u001b[31m232.3 MB/s\u001b[0m eta \u001b[36m0:00:01\u001b[0m"
     ]
    },
    {
     "name": "stdout",
     "output_type": "stream",
     "text": [
      "\r",
      "\u001b[2K     \u001b[91m━━━━━━━━━━━━━━━━━━━━━━━━━━━━━━━━━━━━\u001b[0m\u001b[91m╸\u001b[0m \u001b[32m776.3/776.4 MB\u001b[0m \u001b[31m232.3 MB/s\u001b[0m eta \u001b[36m0:00:01\u001b[0m"
     ]
    },
    {
     "name": "stdout",
     "output_type": "stream",
     "text": [
      "\r",
      "\u001b[2K     \u001b[91m━━━━━━━━━━━━━━━━━━━━━━━━━━━━━━━━━━━━\u001b[0m\u001b[91m╸\u001b[0m \u001b[32m776.3/776.4 MB\u001b[0m \u001b[31m232.3 MB/s\u001b[0m eta \u001b[36m0:00:01\u001b[0m\r",
      "\u001b[2K     \u001b[91m━━━━━━━━━━━━━━━━━━━━━━━━━━━━━━━━━━━━\u001b[0m\u001b[91m╸\u001b[0m \u001b[32m776.3/776.4 MB\u001b[0m \u001b[31m232.3 MB/s\u001b[0m eta \u001b[36m0:00:01\u001b[0m"
     ]
    },
    {
     "name": "stdout",
     "output_type": "stream",
     "text": [
      "\r",
      "\u001b[2K     \u001b[91m━━━━━━━━━━━━━━━━━━━━━━━━━━━━━━━━━━━━\u001b[0m\u001b[91m╸\u001b[0m \u001b[32m776.3/776.4 MB\u001b[0m \u001b[31m232.3 MB/s\u001b[0m eta \u001b[36m0:00:01\u001b[0m"
     ]
    },
    {
     "name": "stdout",
     "output_type": "stream",
     "text": [
      "\r",
      "\u001b[2K     \u001b[91m━━━━━━━━━━━━━━━━━━━━━━━━━━━━━━━━━━━━\u001b[0m\u001b[91m╸\u001b[0m \u001b[32m776.3/776.4 MB\u001b[0m \u001b[31m232.3 MB/s\u001b[0m eta \u001b[36m0:00:01\u001b[0m"
     ]
    },
    {
     "name": "stdout",
     "output_type": "stream",
     "text": [
      "\r",
      "\u001b[2K     \u001b[91m━━━━━━━━━━━━━━━━━━━━━━━━━━━━━━━━━━━━\u001b[0m\u001b[91m╸\u001b[0m \u001b[32m776.3/776.4 MB\u001b[0m \u001b[31m232.3 MB/s\u001b[0m eta \u001b[36m0:00:01\u001b[0m\r",
      "\u001b[2K     \u001b[91m━━━━━━━━━━━━━━━━━━━━━━━━━━━━━━━━━━━━\u001b[0m\u001b[91m╸\u001b[0m \u001b[32m776.3/776.4 MB\u001b[0m \u001b[31m232.3 MB/s\u001b[0m eta \u001b[36m0:00:01\u001b[0m"
     ]
    },
    {
     "name": "stdout",
     "output_type": "stream",
     "text": [
      "\r",
      "\u001b[2K     \u001b[91m━━━━━━━━━━━━━━━━━━━━━━━━━━━━━━━━━━━━\u001b[0m\u001b[91m╸\u001b[0m \u001b[32m776.3/776.4 MB\u001b[0m \u001b[31m232.3 MB/s\u001b[0m eta \u001b[36m0:00:01\u001b[0m"
     ]
    },
    {
     "name": "stdout",
     "output_type": "stream",
     "text": [
      "\r",
      "\u001b[2K     \u001b[91m━━━━━━━━━━━━━━━━━━━━━━━━━━━━━━━━━━━━\u001b[0m\u001b[91m╸\u001b[0m \u001b[32m776.3/776.4 MB\u001b[0m \u001b[31m232.3 MB/s\u001b[0m eta \u001b[36m0:00:01\u001b[0m\r",
      "\u001b[2K     \u001b[91m━━━━━━━━━━━━━━━━━━━━━━━━━━━━━━━━━━━━\u001b[0m\u001b[91m╸\u001b[0m \u001b[32m776.3/776.4 MB\u001b[0m \u001b[31m232.3 MB/s\u001b[0m eta \u001b[36m0:00:01\u001b[0m"
     ]
    },
    {
     "name": "stdout",
     "output_type": "stream",
     "text": [
      "\r",
      "\u001b[2K     \u001b[91m━━━━━━━━━━━━━━━━━━━━━━━━━━━━━━━━━━━━\u001b[0m\u001b[91m╸\u001b[0m \u001b[32m776.3/776.4 MB\u001b[0m \u001b[31m232.3 MB/s\u001b[0m eta \u001b[36m0:00:01\u001b[0m"
     ]
    },
    {
     "name": "stdout",
     "output_type": "stream",
     "text": [
      "\r",
      "\u001b[2K     \u001b[91m━━━━━━━━━━━━━━━━━━━━━━━━━━━━━━━━━━━━\u001b[0m\u001b[91m╸\u001b[0m \u001b[32m776.3/776.4 MB\u001b[0m \u001b[31m232.3 MB/s\u001b[0m eta \u001b[36m0:00:01\u001b[0m\r",
      "\u001b[2K     \u001b[91m━━━━━━━━━━━━━━━━━━━━━━━━━━━━━━━━━━━━\u001b[0m\u001b[91m╸\u001b[0m \u001b[32m776.3/776.4 MB\u001b[0m \u001b[31m232.3 MB/s\u001b[0m eta \u001b[36m0:00:01\u001b[0m"
     ]
    },
    {
     "name": "stdout",
     "output_type": "stream",
     "text": [
      "\r",
      "\u001b[2K     \u001b[91m━━━━━━━━━━━━━━━━━━━━━━━━━━━━━━━━━━━━\u001b[0m\u001b[91m╸\u001b[0m \u001b[32m776.3/776.4 MB\u001b[0m \u001b[31m232.3 MB/s\u001b[0m eta \u001b[36m0:00:01\u001b[0m"
     ]
    },
    {
     "name": "stdout",
     "output_type": "stream",
     "text": [
      "\r",
      "\u001b[2K     \u001b[91m━━━━━━━━━━━━━━━━━━━━━━━━━━━━━━━━━━━━\u001b[0m\u001b[91m╸\u001b[0m \u001b[32m776.3/776.4 MB\u001b[0m \u001b[31m232.3 MB/s\u001b[0m eta \u001b[36m0:00:01\u001b[0m"
     ]
    },
    {
     "name": "stdout",
     "output_type": "stream",
     "text": [
      "\r",
      "\u001b[2K     \u001b[91m━━━━━━━━━━━━━━━━━━━━━━━━━━━━━━━━━━━━\u001b[0m\u001b[91m╸\u001b[0m \u001b[32m776.3/776.4 MB\u001b[0m \u001b[31m232.3 MB/s\u001b[0m eta \u001b[36m0:00:01\u001b[0m\r",
      "\u001b[2K     \u001b[91m━━━━━━━━━━━━━━━━━━━━━━━━━━━━━━━━━━━━\u001b[0m\u001b[91m╸\u001b[0m \u001b[32m776.3/776.4 MB\u001b[0m \u001b[31m232.3 MB/s\u001b[0m eta \u001b[36m0:00:01\u001b[0m"
     ]
    },
    {
     "name": "stdout",
     "output_type": "stream",
     "text": [
      "\r",
      "\u001b[2K     \u001b[91m━━━━━━━━━━━━━━━━━━━━━━━━━━━━━━━━━━━━\u001b[0m\u001b[91m╸\u001b[0m \u001b[32m776.3/776.4 MB\u001b[0m \u001b[31m232.3 MB/s\u001b[0m eta \u001b[36m0:00:01\u001b[0m"
     ]
    },
    {
     "name": "stdout",
     "output_type": "stream",
     "text": [
      "\r",
      "\u001b[2K     \u001b[91m━━━━━━━━━━━━━━━━━━━━━━━━━━━━━━━━━━━━\u001b[0m\u001b[91m╸\u001b[0m \u001b[32m776.3/776.4 MB\u001b[0m \u001b[31m232.3 MB/s\u001b[0m eta \u001b[36m0:00:01\u001b[0m\r",
      "\u001b[2K     \u001b[91m━━━━━━━━━━━━━━━━━━━━━━━━━━━━━━━━━━━━\u001b[0m\u001b[91m╸\u001b[0m \u001b[32m776.3/776.4 MB\u001b[0m \u001b[31m232.3 MB/s\u001b[0m eta \u001b[36m0:00:01\u001b[0m"
     ]
    },
    {
     "name": "stdout",
     "output_type": "stream",
     "text": [
      "\r",
      "\u001b[2K     \u001b[91m━━━━━━━━━━━━━━━━━━━━━━━━━━━━━━━━━━━━\u001b[0m\u001b[91m╸\u001b[0m \u001b[32m776.3/776.4 MB\u001b[0m \u001b[31m232.3 MB/s\u001b[0m eta \u001b[36m0:00:01\u001b[0m"
     ]
    },
    {
     "name": "stdout",
     "output_type": "stream",
     "text": [
      "\r",
      "\u001b[2K     \u001b[91m━━━━━━━━━━━━━━━━━━━━━━━━━━━━━━━━━━━━\u001b[0m\u001b[91m╸\u001b[0m \u001b[32m776.3/776.4 MB\u001b[0m \u001b[31m232.3 MB/s\u001b[0m eta \u001b[36m0:00:01\u001b[0m\r",
      "\u001b[2K     \u001b[91m━━━━━━━━━━━━━━━━━━━━━━━━━━━━━━━━━━━━\u001b[0m\u001b[91m╸\u001b[0m \u001b[32m776.3/776.4 MB\u001b[0m \u001b[31m232.3 MB/s\u001b[0m eta \u001b[36m0:00:01\u001b[0m"
     ]
    },
    {
     "name": "stdout",
     "output_type": "stream",
     "text": [
      "\r",
      "\u001b[2K     \u001b[91m━━━━━━━━━━━━━━━━━━━━━━━━━━━━━━━━━━━━\u001b[0m\u001b[91m╸\u001b[0m \u001b[32m776.3/776.4 MB\u001b[0m \u001b[31m232.3 MB/s\u001b[0m eta \u001b[36m0:00:01\u001b[0m"
     ]
    },
    {
     "name": "stdout",
     "output_type": "stream",
     "text": [
      "\r",
      "\u001b[2K     \u001b[91m━━━━━━━━━━━━━━━━━━━━━━━━━━━━━━━━━━━━\u001b[0m\u001b[91m╸\u001b[0m \u001b[32m776.3/776.4 MB\u001b[0m \u001b[31m232.3 MB/s\u001b[0m eta \u001b[36m0:00:01\u001b[0m"
     ]
    },
    {
     "name": "stdout",
     "output_type": "stream",
     "text": [
      "\r",
      "\u001b[2K     \u001b[91m━━━━━━━━━━━━━━━━━━━━━━━━━━━━━━━━━━━━\u001b[0m\u001b[91m╸\u001b[0m \u001b[32m776.3/776.4 MB\u001b[0m \u001b[31m232.3 MB/s\u001b[0m eta \u001b[36m0:00:01\u001b[0m\r",
      "\u001b[2K     \u001b[91m━━━━━━━━━━━━━━━━━━━━━━━━━━━━━━━━━━━━\u001b[0m\u001b[91m╸\u001b[0m \u001b[32m776.3/776.4 MB\u001b[0m \u001b[31m232.3 MB/s\u001b[0m eta \u001b[36m0:00:01\u001b[0m"
     ]
    },
    {
     "name": "stdout",
     "output_type": "stream",
     "text": [
      "\r",
      "\u001b[2K     \u001b[91m━━━━━━━━━━━━━━━━━━━━━━━━━━━━━━━━━━━━\u001b[0m\u001b[91m╸\u001b[0m \u001b[32m776.3/776.4 MB\u001b[0m \u001b[31m232.3 MB/s\u001b[0m eta \u001b[36m0:00:01\u001b[0m"
     ]
    },
    {
     "name": "stdout",
     "output_type": "stream",
     "text": [
      "\r",
      "\u001b[2K     \u001b[91m━━━━━━━━━━━━━━━━━━━━━━━━━━━━━━━━━━━━\u001b[0m\u001b[91m╸\u001b[0m \u001b[32m776.3/776.4 MB\u001b[0m \u001b[31m232.3 MB/s\u001b[0m eta \u001b[36m0:00:01\u001b[0m\r",
      "\u001b[2K     \u001b[91m━━━━━━━━━━━━━━━━━━━━━━━━━━━━━━━━━━━━\u001b[0m\u001b[91m╸\u001b[0m \u001b[32m776.3/776.4 MB\u001b[0m \u001b[31m232.3 MB/s\u001b[0m eta \u001b[36m0:00:01\u001b[0m"
     ]
    },
    {
     "name": "stdout",
     "output_type": "stream",
     "text": [
      "\r",
      "\u001b[2K     \u001b[91m━━━━━━━━━━━━━━━━━━━━━━━━━━━━━━━━━━━━\u001b[0m\u001b[91m╸\u001b[0m \u001b[32m776.3/776.4 MB\u001b[0m \u001b[31m232.3 MB/s\u001b[0m eta \u001b[36m0:00:01\u001b[0m"
     ]
    },
    {
     "name": "stdout",
     "output_type": "stream",
     "text": [
      "\r",
      "\u001b[2K     \u001b[91m━━━━━━━━━━━━━━━━━━━━━━━━━━━━━━━━━━━━\u001b[0m\u001b[91m╸\u001b[0m \u001b[32m776.3/776.4 MB\u001b[0m \u001b[31m232.3 MB/s\u001b[0m eta \u001b[36m0:00:01\u001b[0m\r",
      "\u001b[2K     \u001b[91m━━━━━━━━━━━━━━━━━━━━━━━━━━━━━━━━━━━━\u001b[0m\u001b[91m╸\u001b[0m \u001b[32m776.3/776.4 MB\u001b[0m \u001b[31m232.3 MB/s\u001b[0m eta \u001b[36m0:00:01\u001b[0m"
     ]
    },
    {
     "name": "stdout",
     "output_type": "stream",
     "text": [
      "\r",
      "\u001b[2K     \u001b[91m━━━━━━━━━━━━━━━━━━━━━━━━━━━━━━━━━━━━\u001b[0m\u001b[91m╸\u001b[0m \u001b[32m776.3/776.4 MB\u001b[0m \u001b[31m232.3 MB/s\u001b[0m eta \u001b[36m0:00:01\u001b[0m"
     ]
    },
    {
     "name": "stdout",
     "output_type": "stream",
     "text": [
      "\r",
      "\u001b[2K     \u001b[91m━━━━━━━━━━━━━━━━━━━━━━━━━━━━━━━━━━━━\u001b[0m\u001b[91m╸\u001b[0m \u001b[32m776.3/776.4 MB\u001b[0m \u001b[31m232.3 MB/s\u001b[0m eta \u001b[36m0:00:01\u001b[0m\r",
      "\u001b[2K     \u001b[91m━━━━━━━━━━━━━━━━━━━━━━━━━━━━━━━━━━━━\u001b[0m\u001b[91m╸\u001b[0m \u001b[32m776.3/776.4 MB\u001b[0m \u001b[31m232.3 MB/s\u001b[0m eta \u001b[36m0:00:01\u001b[0m"
     ]
    },
    {
     "name": "stdout",
     "output_type": "stream",
     "text": [
      "\r",
      "\u001b[2K     \u001b[91m━━━━━━━━━━━━━━━━━━━━━━━━━━━━━━━━━━━━\u001b[0m\u001b[91m╸\u001b[0m \u001b[32m776.3/776.4 MB\u001b[0m \u001b[31m232.3 MB/s\u001b[0m eta \u001b[36m0:00:01\u001b[0m"
     ]
    },
    {
     "name": "stdout",
     "output_type": "stream",
     "text": [
      "\r",
      "\u001b[2K     \u001b[91m━━━━━━━━━━━━━━━━━━━━━━━━━━━━━━━━━━━━\u001b[0m\u001b[91m╸\u001b[0m \u001b[32m776.3/776.4 MB\u001b[0m \u001b[31m232.3 MB/s\u001b[0m eta \u001b[36m0:00:01\u001b[0m"
     ]
    },
    {
     "name": "stdout",
     "output_type": "stream",
     "text": [
      "\r",
      "\u001b[2K     \u001b[91m━━━━━━━━━━━━━━━━━━━━━━━━━━━━━━━━━━━━\u001b[0m\u001b[91m╸\u001b[0m \u001b[32m776.3/776.4 MB\u001b[0m \u001b[31m232.3 MB/s\u001b[0m eta \u001b[36m0:00:01\u001b[0m\r",
      "\u001b[2K     \u001b[91m━━━━━━━━━━━━━━━━━━━━━━━━━━━━━━━━━━━━\u001b[0m\u001b[91m╸\u001b[0m \u001b[32m776.3/776.4 MB\u001b[0m \u001b[31m232.3 MB/s\u001b[0m eta \u001b[36m0:00:01\u001b[0m"
     ]
    },
    {
     "name": "stdout",
     "output_type": "stream",
     "text": [
      "\r",
      "\u001b[2K     \u001b[91m━━━━━━━━━━━━━━━━━━━━━━━━━━━━━━━━━━━━\u001b[0m\u001b[91m╸\u001b[0m \u001b[32m776.3/776.4 MB\u001b[0m \u001b[31m232.3 MB/s\u001b[0m eta \u001b[36m0:00:01\u001b[0m"
     ]
    },
    {
     "name": "stdout",
     "output_type": "stream",
     "text": [
      "\r",
      "\u001b[2K     \u001b[91m━━━━━━━━━━━━━━━━━━━━━━━━━━━━━━━━━━━━\u001b[0m\u001b[91m╸\u001b[0m \u001b[32m776.3/776.4 MB\u001b[0m \u001b[31m232.3 MB/s\u001b[0m eta \u001b[36m0:00:01\u001b[0m\r",
      "\u001b[2K     \u001b[91m━━━━━━━━━━━━━━━━━━━━━━━━━━━━━━━━━━━━\u001b[0m\u001b[91m╸\u001b[0m \u001b[32m776.3/776.4 MB\u001b[0m \u001b[31m232.3 MB/s\u001b[0m eta \u001b[36m0:00:01\u001b[0m"
     ]
    },
    {
     "name": "stdout",
     "output_type": "stream",
     "text": [
      "\r",
      "\u001b[2K     \u001b[91m━━━━━━━━━━━━━━━━━━━━━━━━━━━━━━━━━━━━\u001b[0m\u001b[91m╸\u001b[0m \u001b[32m776.3/776.4 MB\u001b[0m \u001b[31m232.3 MB/s\u001b[0m eta \u001b[36m0:00:01\u001b[0m"
     ]
    },
    {
     "name": "stdout",
     "output_type": "stream",
     "text": [
      "\r",
      "\u001b[2K     \u001b[91m━━━━━━━━━━━━━━━━━━━━━━━━━━━━━━━━━━━━\u001b[0m\u001b[91m╸\u001b[0m \u001b[32m776.3/776.4 MB\u001b[0m \u001b[31m232.3 MB/s\u001b[0m eta \u001b[36m0:00:01\u001b[0m"
     ]
    },
    {
     "name": "stdout",
     "output_type": "stream",
     "text": [
      "\r",
      "\u001b[2K     \u001b[91m━━━━━━━━━━━━━━━━━━━━━━━━━━━━━━━━━━━━\u001b[0m\u001b[91m╸\u001b[0m \u001b[32m776.3/776.4 MB\u001b[0m \u001b[31m232.3 MB/s\u001b[0m eta \u001b[36m0:00:01\u001b[0m\r",
      "\u001b[2K     \u001b[91m━━━━━━━━━━━━━━━━━━━━━━━━━━━━━━━━━━━━\u001b[0m\u001b[91m╸\u001b[0m \u001b[32m776.3/776.4 MB\u001b[0m \u001b[31m232.3 MB/s\u001b[0m eta \u001b[36m0:00:01\u001b[0m"
     ]
    },
    {
     "name": "stdout",
     "output_type": "stream",
     "text": [
      "\r",
      "\u001b[2K     \u001b[91m━━━━━━━━━━━━━━━━━━━━━━━━━━━━━━━━━━━━\u001b[0m\u001b[91m╸\u001b[0m \u001b[32m776.3/776.4 MB\u001b[0m \u001b[31m232.3 MB/s\u001b[0m eta \u001b[36m0:00:01\u001b[0m"
     ]
    },
    {
     "name": "stdout",
     "output_type": "stream",
     "text": [
      "\r",
      "\u001b[2K     \u001b[91m━━━━━━━━━━━━━━━━━━━━━━━━━━━━━━━━━━━━\u001b[0m\u001b[91m╸\u001b[0m \u001b[32m776.3/776.4 MB\u001b[0m \u001b[31m232.3 MB/s\u001b[0m eta \u001b[36m0:00:01\u001b[0m\r",
      "\u001b[2K     \u001b[91m━━━━━━━━━━━━━━━━━━━━━━━━━━━━━━━━━━━━\u001b[0m\u001b[91m╸\u001b[0m \u001b[32m776.3/776.4 MB\u001b[0m \u001b[31m232.3 MB/s\u001b[0m eta \u001b[36m0:00:01\u001b[0m"
     ]
    },
    {
     "name": "stdout",
     "output_type": "stream",
     "text": [
      "\r",
      "\u001b[2K     \u001b[91m━━━━━━━━━━━━━━━━━━━━━━━━━━━━━━━━━━━━\u001b[0m\u001b[91m╸\u001b[0m \u001b[32m776.3/776.4 MB\u001b[0m \u001b[31m232.3 MB/s\u001b[0m eta \u001b[36m0:00:01\u001b[0m"
     ]
    },
    {
     "name": "stdout",
     "output_type": "stream",
     "text": [
      "\r",
      "\u001b[2K     \u001b[91m━━━━━━━━━━━━━━━━━━━━━━━━━━━━━━━━━━━━\u001b[0m\u001b[91m╸\u001b[0m \u001b[32m776.3/776.4 MB\u001b[0m \u001b[31m232.3 MB/s\u001b[0m eta \u001b[36m0:00:01\u001b[0m\r",
      "\u001b[2K     \u001b[91m━━━━━━━━━━━━━━━━━━━━━━━━━━━━━━━━━━━━\u001b[0m\u001b[91m╸\u001b[0m \u001b[32m776.3/776.4 MB\u001b[0m \u001b[31m232.3 MB/s\u001b[0m eta \u001b[36m0:00:01\u001b[0m"
     ]
    },
    {
     "name": "stdout",
     "output_type": "stream",
     "text": [
      "\r",
      "\u001b[2K     \u001b[91m━━━━━━━━━━━━━━━━━━━━━━━━━━━━━━━━━━━━\u001b[0m\u001b[91m╸\u001b[0m \u001b[32m776.3/776.4 MB\u001b[0m \u001b[31m232.3 MB/s\u001b[0m eta \u001b[36m0:00:01\u001b[0m"
     ]
    },
    {
     "name": "stdout",
     "output_type": "stream",
     "text": [
      "\r",
      "\u001b[2K     \u001b[91m━━━━━━━━━━━━━━━━━━━━━━━━━━━━━━━━━━━━\u001b[0m\u001b[91m╸\u001b[0m \u001b[32m776.3/776.4 MB\u001b[0m \u001b[31m232.3 MB/s\u001b[0m eta \u001b[36m0:00:01\u001b[0m\r",
      "\u001b[2K     \u001b[91m━━━━━━━━━━━━━━━━━━━━━━━━━━━━━━━━━━━━\u001b[0m\u001b[91m╸\u001b[0m \u001b[32m776.3/776.4 MB\u001b[0m \u001b[31m232.3 MB/s\u001b[0m eta \u001b[36m0:00:01\u001b[0m"
     ]
    },
    {
     "name": "stdout",
     "output_type": "stream",
     "text": [
      "\r",
      "\u001b[2K     \u001b[91m━━━━━━━━━━━━━━━━━━━━━━━━━━━━━━━━━━━━\u001b[0m\u001b[91m╸\u001b[0m \u001b[32m776.3/776.4 MB\u001b[0m \u001b[31m232.3 MB/s\u001b[0m eta \u001b[36m0:00:01\u001b[0m"
     ]
    },
    {
     "name": "stdout",
     "output_type": "stream",
     "text": [
      "\r",
      "\u001b[2K     \u001b[91m━━━━━━━━━━━━━━━━━━━━━━━━━━━━━━━━━━━━\u001b[0m\u001b[91m╸\u001b[0m \u001b[32m776.3/776.4 MB\u001b[0m \u001b[31m232.3 MB/s\u001b[0m eta \u001b[36m0:00:01\u001b[0m"
     ]
    },
    {
     "name": "stdout",
     "output_type": "stream",
     "text": [
      "\r",
      "\u001b[2K     \u001b[91m━━━━━━━━━━━━━━━━━━━━━━━━━━━━━━━━━━━━\u001b[0m\u001b[91m╸\u001b[0m \u001b[32m776.3/776.4 MB\u001b[0m \u001b[31m232.3 MB/s\u001b[0m eta \u001b[36m0:00:01\u001b[0m\r",
      "\u001b[2K     \u001b[91m━━━━━━━━━━━━━━━━━━━━━━━━━━━━━━━━━━━━\u001b[0m\u001b[91m╸\u001b[0m \u001b[32m776.3/776.4 MB\u001b[0m \u001b[31m232.3 MB/s\u001b[0m eta \u001b[36m0:00:01\u001b[0m"
     ]
    },
    {
     "name": "stdout",
     "output_type": "stream",
     "text": [
      "\r",
      "\u001b[2K     \u001b[91m━━━━━━━━━━━━━━━━━━━━━━━━━━━━━━━━━━━━\u001b[0m\u001b[91m╸\u001b[0m \u001b[32m776.3/776.4 MB\u001b[0m \u001b[31m232.3 MB/s\u001b[0m eta \u001b[36m0:00:01\u001b[0m"
     ]
    },
    {
     "name": "stdout",
     "output_type": "stream",
     "text": [
      "\r",
      "\u001b[2K     \u001b[91m━━━━━━━━━━━━━━━━━━━━━━━━━━━━━━━━━━━━\u001b[0m\u001b[91m╸\u001b[0m \u001b[32m776.3/776.4 MB\u001b[0m \u001b[31m232.3 MB/s\u001b[0m eta \u001b[36m0:00:01\u001b[0m\r",
      "\u001b[2K     \u001b[91m━━━━━━━━━━━━━━━━━━━━━━━━━━━━━━━━━━━━\u001b[0m\u001b[91m╸\u001b[0m \u001b[32m776.3/776.4 MB\u001b[0m \u001b[31m232.3 MB/s\u001b[0m eta \u001b[36m0:00:01\u001b[0m"
     ]
    },
    {
     "name": "stdout",
     "output_type": "stream",
     "text": [
      "\r",
      "\u001b[2K     \u001b[91m━━━━━━━━━━━━━━━━━━━━━━━━━━━━━━━━━━━━\u001b[0m\u001b[91m╸\u001b[0m \u001b[32m776.3/776.4 MB\u001b[0m \u001b[31m232.3 MB/s\u001b[0m eta \u001b[36m0:00:01\u001b[0m"
     ]
    },
    {
     "name": "stdout",
     "output_type": "stream",
     "text": [
      "\r",
      "\u001b[2K     \u001b[91m━━━━━━━━━━━━━━━━━━━━━━━━━━━━━━━━━━━━\u001b[0m\u001b[91m╸\u001b[0m \u001b[32m776.3/776.4 MB\u001b[0m \u001b[31m232.3 MB/s\u001b[0m eta \u001b[36m0:00:01\u001b[0m\r",
      "\u001b[2K     \u001b[91m━━━━━━━━━━━━━━━━━━━━━━━━━━━━━━━━━━━━\u001b[0m\u001b[91m╸\u001b[0m \u001b[32m776.3/776.4 MB\u001b[0m \u001b[31m232.3 MB/s\u001b[0m eta \u001b[36m0:00:01\u001b[0m"
     ]
    },
    {
     "name": "stdout",
     "output_type": "stream",
     "text": [
      "\r",
      "\u001b[2K     \u001b[91m━━━━━━━━━━━━━━━━━━━━━━━━━━━━━━━━━━━━\u001b[0m\u001b[91m╸\u001b[0m \u001b[32m776.3/776.4 MB\u001b[0m \u001b[31m232.3 MB/s\u001b[0m eta \u001b[36m0:00:01\u001b[0m"
     ]
    },
    {
     "name": "stdout",
     "output_type": "stream",
     "text": [
      "\r",
      "\u001b[2K     \u001b[91m━━━━━━━━━━━━━━━━━━━━━━━━━━━━━━━━━━━━\u001b[0m\u001b[91m╸\u001b[0m \u001b[32m776.3/776.4 MB\u001b[0m \u001b[31m232.3 MB/s\u001b[0m eta \u001b[36m0:00:01\u001b[0m\r",
      "\u001b[2K     \u001b[91m━━━━━━━━━━━━━━━━━━━━━━━━━━━━━━━━━━━━\u001b[0m\u001b[91m╸\u001b[0m \u001b[32m776.3/776.4 MB\u001b[0m \u001b[31m232.3 MB/s\u001b[0m eta \u001b[36m0:00:01\u001b[0m"
     ]
    },
    {
     "name": "stdout",
     "output_type": "stream",
     "text": [
      "\r",
      "\u001b[2K     \u001b[91m━━━━━━━━━━━━━━━━━━━━━━━━━━━━━━━━━━━━\u001b[0m\u001b[91m╸\u001b[0m \u001b[32m776.3/776.4 MB\u001b[0m \u001b[31m232.3 MB/s\u001b[0m eta \u001b[36m0:00:01\u001b[0m"
     ]
    },
    {
     "name": "stdout",
     "output_type": "stream",
     "text": [
      "\r",
      "\u001b[2K     \u001b[91m━━━━━━━━━━━━━━━━━━━━━━━━━━━━━━━━━━━━\u001b[0m\u001b[91m╸\u001b[0m \u001b[32m776.3/776.4 MB\u001b[0m \u001b[31m232.3 MB/s\u001b[0m eta \u001b[36m0:00:01\u001b[0m"
     ]
    },
    {
     "name": "stdout",
     "output_type": "stream",
     "text": [
      "\r",
      "\u001b[2K     \u001b[91m━━━━━━━━━━━━━━━━━━━━━━━━━━━━━━━━━━━━\u001b[0m\u001b[91m╸\u001b[0m \u001b[32m776.3/776.4 MB\u001b[0m \u001b[31m232.3 MB/s\u001b[0m eta \u001b[36m0:00:01\u001b[0m\r",
      "\u001b[2K     \u001b[91m━━━━━━━━━━━━━━━━━━━━━━━━━━━━━━━━━━━━\u001b[0m\u001b[91m╸\u001b[0m \u001b[32m776.3/776.4 MB\u001b[0m \u001b[31m232.3 MB/s\u001b[0m eta \u001b[36m0:00:01\u001b[0m"
     ]
    },
    {
     "name": "stdout",
     "output_type": "stream",
     "text": [
      "\r",
      "\u001b[2K     \u001b[91m━━━━━━━━━━━━━━━━━━━━━━━━━━━━━━━━━━━━\u001b[0m\u001b[91m╸\u001b[0m \u001b[32m776.3/776.4 MB\u001b[0m \u001b[31m232.3 MB/s\u001b[0m eta \u001b[36m0:00:01\u001b[0m"
     ]
    },
    {
     "name": "stdout",
     "output_type": "stream",
     "text": [
      "\r",
      "\u001b[2K     \u001b[91m━━━━━━━━━━━━━━━━━━━━━━━━━━━━━━━━━━━━\u001b[0m\u001b[91m╸\u001b[0m \u001b[32m776.3/776.4 MB\u001b[0m \u001b[31m232.3 MB/s\u001b[0m eta \u001b[36m0:00:01\u001b[0m\r",
      "\u001b[2K     \u001b[91m━━━━━━━━━━━━━━━━━━━━━━━━━━━━━━━━━━━━\u001b[0m\u001b[91m╸\u001b[0m \u001b[32m776.3/776.4 MB\u001b[0m \u001b[31m232.3 MB/s\u001b[0m eta \u001b[36m0:00:01\u001b[0m"
     ]
    },
    {
     "name": "stdout",
     "output_type": "stream",
     "text": [
      "\r",
      "\u001b[2K     \u001b[91m━━━━━━━━━━━━━━━━━━━━━━━━━━━━━━━━━━━━\u001b[0m\u001b[91m╸\u001b[0m \u001b[32m776.3/776.4 MB\u001b[0m \u001b[31m232.3 MB/s\u001b[0m eta \u001b[36m0:00:01\u001b[0m"
     ]
    },
    {
     "name": "stdout",
     "output_type": "stream",
     "text": [
      "\r",
      "\u001b[2K     \u001b[91m━━━━━━━━━━━━━━━━━━━━━━━━━━━━━━━━━━━━\u001b[0m\u001b[91m╸\u001b[0m \u001b[32m776.3/776.4 MB\u001b[0m \u001b[31m232.3 MB/s\u001b[0m eta \u001b[36m0:00:01\u001b[0m\r",
      "\u001b[2K     \u001b[91m━━━━━━━━━━━━━━━━━━━━━━━━━━━━━━━━━━━━\u001b[0m\u001b[91m╸\u001b[0m \u001b[32m776.3/776.4 MB\u001b[0m \u001b[31m232.3 MB/s\u001b[0m eta \u001b[36m0:00:01\u001b[0m"
     ]
    },
    {
     "name": "stdout",
     "output_type": "stream",
     "text": [
      "\r",
      "\u001b[2K     \u001b[91m━━━━━━━━━━━━━━━━━━━━━━━━━━━━━━━━━━━━\u001b[0m\u001b[91m╸\u001b[0m \u001b[32m776.3/776.4 MB\u001b[0m \u001b[31m232.3 MB/s\u001b[0m eta \u001b[36m0:00:01\u001b[0m"
     ]
    },
    {
     "name": "stdout",
     "output_type": "stream",
     "text": [
      "\r",
      "\u001b[2K     \u001b[91m━━━━━━━━━━━━━━━━━━━━━━━━━━━━━━━━━━━━\u001b[0m\u001b[91m╸\u001b[0m \u001b[32m776.3/776.4 MB\u001b[0m \u001b[31m232.3 MB/s\u001b[0m eta \u001b[36m0:00:01\u001b[0m\r",
      "\u001b[2K     \u001b[91m━━━━━━━━━━━━━━━━━━━━━━━━━━━━━━━━━━━━\u001b[0m\u001b[91m╸\u001b[0m \u001b[32m776.3/776.4 MB\u001b[0m \u001b[31m232.3 MB/s\u001b[0m eta \u001b[36m0:00:01\u001b[0m"
     ]
    },
    {
     "name": "stdout",
     "output_type": "stream",
     "text": [
      "\r",
      "\u001b[2K     \u001b[91m━━━━━━━━━━━━━━━━━━━━━━━━━━━━━━━━━━━━\u001b[0m\u001b[91m╸\u001b[0m \u001b[32m776.3/776.4 MB\u001b[0m \u001b[31m232.3 MB/s\u001b[0m eta \u001b[36m0:00:01\u001b[0m"
     ]
    },
    {
     "name": "stdout",
     "output_type": "stream",
     "text": [
      "\r",
      "\u001b[2K     \u001b[91m━━━━━━━━━━━━━━━━━━━━━━━━━━━━━━━━━━━━\u001b[0m\u001b[91m╸\u001b[0m \u001b[32m776.3/776.4 MB\u001b[0m \u001b[31m232.3 MB/s\u001b[0m eta \u001b[36m0:00:01\u001b[0m"
     ]
    },
    {
     "name": "stdout",
     "output_type": "stream",
     "text": [
      "\r",
      "\u001b[2K     \u001b[91m━━━━━━━━━━━━━━━━━━━━━━━━━━━━━━━━━━━━\u001b[0m\u001b[91m╸\u001b[0m \u001b[32m776.3/776.4 MB\u001b[0m \u001b[31m232.3 MB/s\u001b[0m eta \u001b[36m0:00:01\u001b[0m\r",
      "\u001b[2K     \u001b[91m━━━━━━━━━━━━━━━━━━━━━━━━━━━━━━━━━━━━\u001b[0m\u001b[91m╸\u001b[0m \u001b[32m776.3/776.4 MB\u001b[0m \u001b[31m232.3 MB/s\u001b[0m eta \u001b[36m0:00:01\u001b[0m"
     ]
    },
    {
     "name": "stdout",
     "output_type": "stream",
     "text": [
      "\r",
      "\u001b[2K     \u001b[91m━━━━━━━━━━━━━━━━━━━━━━━━━━━━━━━━━━━━\u001b[0m\u001b[91m╸\u001b[0m \u001b[32m776.3/776.4 MB\u001b[0m \u001b[31m232.3 MB/s\u001b[0m eta \u001b[36m0:00:01\u001b[0m"
     ]
    },
    {
     "name": "stdout",
     "output_type": "stream",
     "text": [
      "\r",
      "\u001b[2K     \u001b[91m━━━━━━━━━━━━━━━━━━━━━━━━━━━━━━━━━━━━\u001b[0m\u001b[91m╸\u001b[0m \u001b[32m776.3/776.4 MB\u001b[0m \u001b[31m232.3 MB/s\u001b[0m eta \u001b[36m0:00:01\u001b[0m\r",
      "\u001b[2K     \u001b[91m━━━━━━━━━━━━━━━━━━━━━━━━━━━━━━━━━━━━\u001b[0m\u001b[91m╸\u001b[0m \u001b[32m776.3/776.4 MB\u001b[0m \u001b[31m232.3 MB/s\u001b[0m eta \u001b[36m0:00:01\u001b[0m"
     ]
    },
    {
     "name": "stdout",
     "output_type": "stream",
     "text": [
      "\r",
      "\u001b[2K     \u001b[91m━━━━━━━━━━━━━━━━━━━━━━━━━━━━━━━━━━━━\u001b[0m\u001b[91m╸\u001b[0m \u001b[32m776.3/776.4 MB\u001b[0m \u001b[31m232.3 MB/s\u001b[0m eta \u001b[36m0:00:01\u001b[0m"
     ]
    },
    {
     "name": "stdout",
     "output_type": "stream",
     "text": [
      "\r",
      "\u001b[2K     \u001b[91m━━━━━━━━━━━━━━━━━━━━━━━━━━━━━━━━━━━━\u001b[0m\u001b[91m╸\u001b[0m \u001b[32m776.3/776.4 MB\u001b[0m \u001b[31m232.3 MB/s\u001b[0m eta \u001b[36m0:00:01\u001b[0m\r",
      "\u001b[2K     \u001b[91m━━━━━━━━━━━━━━━━━━━━━━━━━━━━━━━━━━━━\u001b[0m\u001b[91m╸\u001b[0m \u001b[32m776.3/776.4 MB\u001b[0m \u001b[31m232.3 MB/s\u001b[0m eta \u001b[36m0:00:01\u001b[0m"
     ]
    },
    {
     "name": "stdout",
     "output_type": "stream",
     "text": [
      "\r",
      "\u001b[2K     \u001b[91m━━━━━━━━━━━━━━━━━━━━━━━━━━━━━━━━━━━━\u001b[0m\u001b[91m╸\u001b[0m \u001b[32m776.3/776.4 MB\u001b[0m \u001b[31m232.3 MB/s\u001b[0m eta \u001b[36m0:00:01\u001b[0m"
     ]
    },
    {
     "name": "stdout",
     "output_type": "stream",
     "text": [
      "\r",
      "\u001b[2K     \u001b[91m━━━━━━━━━━━━━━━━━━━━━━━━━━━━━━━━━━━━\u001b[0m\u001b[91m╸\u001b[0m \u001b[32m776.3/776.4 MB\u001b[0m \u001b[31m232.3 MB/s\u001b[0m eta \u001b[36m0:00:01\u001b[0m\r",
      "\u001b[2K     \u001b[91m━━━━━━━━━━━━━━━━━━━━━━━━━━━━━━━━━━━━\u001b[0m\u001b[91m╸\u001b[0m \u001b[32m776.3/776.4 MB\u001b[0m \u001b[31m232.3 MB/s\u001b[0m eta \u001b[36m0:00:01\u001b[0m"
     ]
    },
    {
     "name": "stdout",
     "output_type": "stream",
     "text": [
      "\r",
      "\u001b[2K     \u001b[91m━━━━━━━━━━━━━━━━━━━━━━━━━━━━━━━━━━━━\u001b[0m\u001b[91m╸\u001b[0m \u001b[32m776.3/776.4 MB\u001b[0m \u001b[31m232.3 MB/s\u001b[0m eta \u001b[36m0:00:01\u001b[0m"
     ]
    },
    {
     "name": "stdout",
     "output_type": "stream",
     "text": [
      "\r",
      "\u001b[2K     \u001b[91m━━━━━━━━━━━━━━━━━━━━━━━━━━━━━━━━━━━━\u001b[0m\u001b[91m╸\u001b[0m \u001b[32m776.3/776.4 MB\u001b[0m \u001b[31m232.3 MB/s\u001b[0m eta \u001b[36m0:00:01\u001b[0m\r",
      "\u001b[2K     \u001b[91m━━━━━━━━━━━━━━━━━━━━━━━━━━━━━━━━━━━━\u001b[0m\u001b[91m╸\u001b[0m \u001b[32m776.3/776.4 MB\u001b[0m \u001b[31m232.3 MB/s\u001b[0m eta \u001b[36m0:00:01\u001b[0m"
     ]
    },
    {
     "name": "stdout",
     "output_type": "stream",
     "text": [
      "\r",
      "\u001b[2K     \u001b[91m━━━━━━━━━━━━━━━━━━━━━━━━━━━━━━━━━━━━\u001b[0m\u001b[91m╸\u001b[0m \u001b[32m776.3/776.4 MB\u001b[0m \u001b[31m232.3 MB/s\u001b[0m eta \u001b[36m0:00:01\u001b[0m"
     ]
    },
    {
     "name": "stdout",
     "output_type": "stream",
     "text": [
      "\r",
      "\u001b[2K     \u001b[91m━━━━━━━━━━━━━━━━━━━━━━━━━━━━━━━━━━━━\u001b[0m\u001b[91m╸\u001b[0m \u001b[32m776.3/776.4 MB\u001b[0m \u001b[31m232.3 MB/s\u001b[0m eta \u001b[36m0:00:01\u001b[0m"
     ]
    },
    {
     "name": "stdout",
     "output_type": "stream",
     "text": [
      "\r",
      "\u001b[2K     \u001b[91m━━━━━━━━━━━━━━━━━━━━━━━━━━━━━━━━━━━━\u001b[0m\u001b[91m╸\u001b[0m \u001b[32m776.3/776.4 MB\u001b[0m \u001b[31m232.3 MB/s\u001b[0m eta \u001b[36m0:00:01\u001b[0m\r",
      "\u001b[2K     \u001b[91m━━━━━━━━━━━━━━━━━━━━━━━━━━━━━━━━━━━━\u001b[0m\u001b[91m╸\u001b[0m \u001b[32m776.3/776.4 MB\u001b[0m \u001b[31m232.3 MB/s\u001b[0m eta \u001b[36m0:00:01\u001b[0m"
     ]
    },
    {
     "name": "stdout",
     "output_type": "stream",
     "text": [
      "\r",
      "\u001b[2K     \u001b[91m━━━━━━━━━━━━━━━━━━━━━━━━━━━━━━━━━━━━\u001b[0m\u001b[91m╸\u001b[0m \u001b[32m776.3/776.4 MB\u001b[0m \u001b[31m232.3 MB/s\u001b[0m eta \u001b[36m0:00:01\u001b[0m"
     ]
    },
    {
     "name": "stdout",
     "output_type": "stream",
     "text": [
      "\r",
      "\u001b[2K     \u001b[91m━━━━━━━━━━━━━━━━━━━━━━━━━━━━━━━━━━━━\u001b[0m\u001b[91m╸\u001b[0m \u001b[32m776.3/776.4 MB\u001b[0m \u001b[31m232.3 MB/s\u001b[0m eta \u001b[36m0:00:01\u001b[0m\r",
      "\u001b[2K     \u001b[91m━━━━━━━━━━━━━━━━━━━━━━━━━━━━━━━━━━━━\u001b[0m\u001b[91m╸\u001b[0m \u001b[32m776.3/776.4 MB\u001b[0m \u001b[31m232.3 MB/s\u001b[0m eta \u001b[36m0:00:01\u001b[0m"
     ]
    },
    {
     "name": "stdout",
     "output_type": "stream",
     "text": [
      "\r",
      "\u001b[2K     \u001b[91m━━━━━━━━━━━━━━━━━━━━━━━━━━━━━━━━━━━━\u001b[0m\u001b[91m╸\u001b[0m \u001b[32m776.3/776.4 MB\u001b[0m \u001b[31m232.3 MB/s\u001b[0m eta \u001b[36m0:00:01\u001b[0m"
     ]
    },
    {
     "name": "stdout",
     "output_type": "stream",
     "text": [
      "\r",
      "\u001b[2K     \u001b[91m━━━━━━━━━━━━━━━━━━━━━━━━━━━━━━━━━━━━\u001b[0m\u001b[91m╸\u001b[0m \u001b[32m776.3/776.4 MB\u001b[0m \u001b[31m232.3 MB/s\u001b[0m eta \u001b[36m0:00:01\u001b[0m\r",
      "\u001b[2K     \u001b[91m━━━━━━━━━━━━━━━━━━━━━━━━━━━━━━━━━━━━\u001b[0m\u001b[91m╸\u001b[0m \u001b[32m776.3/776.4 MB\u001b[0m \u001b[31m232.3 MB/s\u001b[0m eta \u001b[36m0:00:01\u001b[0m"
     ]
    },
    {
     "name": "stdout",
     "output_type": "stream",
     "text": [
      "\r",
      "\u001b[2K     \u001b[91m━━━━━━━━━━━━━━━━━━━━━━━━━━━━━━━━━━━━\u001b[0m\u001b[91m╸\u001b[0m \u001b[32m776.3/776.4 MB\u001b[0m \u001b[31m232.3 MB/s\u001b[0m eta \u001b[36m0:00:01\u001b[0m"
     ]
    },
    {
     "name": "stdout",
     "output_type": "stream",
     "text": [
      "\r",
      "\u001b[2K     \u001b[91m━━━━━━━━━━━━━━━━━━━━━━━━━━━━━━━━━━━━\u001b[0m\u001b[91m╸\u001b[0m \u001b[32m776.3/776.4 MB\u001b[0m \u001b[31m232.3 MB/s\u001b[0m eta \u001b[36m0:00:01\u001b[0m"
     ]
    },
    {
     "name": "stdout",
     "output_type": "stream",
     "text": [
      "\r",
      "\u001b[2K     \u001b[91m━━━━━━━━━━━━━━━━━━━━━━━━━━━━━━━━━━━━\u001b[0m\u001b[91m╸\u001b[0m \u001b[32m776.3/776.4 MB\u001b[0m \u001b[31m232.3 MB/s\u001b[0m eta \u001b[36m0:00:01\u001b[0m\r",
      "\u001b[2K     \u001b[91m━━━━━━━━━━━━━━━━━━━━━━━━━━━━━━━━━━━━\u001b[0m\u001b[91m╸\u001b[0m \u001b[32m776.3/776.4 MB\u001b[0m \u001b[31m232.3 MB/s\u001b[0m eta \u001b[36m0:00:01\u001b[0m"
     ]
    },
    {
     "name": "stdout",
     "output_type": "stream",
     "text": [
      "\r",
      "\u001b[2K     \u001b[91m━━━━━━━━━━━━━━━━━━━━━━━━━━━━━━━━━━━━\u001b[0m\u001b[91m╸\u001b[0m \u001b[32m776.3/776.4 MB\u001b[0m \u001b[31m232.3 MB/s\u001b[0m eta \u001b[36m0:00:01\u001b[0m"
     ]
    },
    {
     "name": "stdout",
     "output_type": "stream",
     "text": [
      "\r",
      "\u001b[2K     \u001b[91m━━━━━━━━━━━━━━━━━━━━━━━━━━━━━━━━━━━━\u001b[0m\u001b[91m╸\u001b[0m \u001b[32m776.3/776.4 MB\u001b[0m \u001b[31m232.3 MB/s\u001b[0m eta \u001b[36m0:00:01\u001b[0m\r",
      "\u001b[2K     \u001b[91m━━━━━━━━━━━━━━━━━━━━━━━━━━━━━━━━━━━━\u001b[0m\u001b[91m╸\u001b[0m \u001b[32m776.3/776.4 MB\u001b[0m \u001b[31m232.3 MB/s\u001b[0m eta \u001b[36m0:00:01\u001b[0m"
     ]
    },
    {
     "name": "stdout",
     "output_type": "stream",
     "text": [
      "\r",
      "\u001b[2K     \u001b[91m━━━━━━━━━━━━━━━━━━━━━━━━━━━━━━━━━━━━\u001b[0m\u001b[91m╸\u001b[0m \u001b[32m776.3/776.4 MB\u001b[0m \u001b[31m232.3 MB/s\u001b[0m eta \u001b[36m0:00:01\u001b[0m"
     ]
    },
    {
     "name": "stdout",
     "output_type": "stream",
     "text": [
      "\r",
      "\u001b[2K     \u001b[91m━━━━━━━━━━━━━━━━━━━━━━━━━━━━━━━━━━━━\u001b[0m\u001b[91m╸\u001b[0m \u001b[32m776.3/776.4 MB\u001b[0m \u001b[31m232.3 MB/s\u001b[0m eta \u001b[36m0:00:01\u001b[0m"
     ]
    },
    {
     "name": "stdout",
     "output_type": "stream",
     "text": [
      "\r",
      "\u001b[2K     \u001b[91m━━━━━━━━━━━━━━━━━━━━━━━━━━━━━━━━━━━━\u001b[0m\u001b[91m╸\u001b[0m \u001b[32m776.3/776.4 MB\u001b[0m \u001b[31m232.3 MB/s\u001b[0m eta \u001b[36m0:00:01\u001b[0m\r",
      "\u001b[2K     \u001b[91m━━━━━━━━━━━━━━━━━━━━━━━━━━━━━━━━━━━━\u001b[0m\u001b[91m╸\u001b[0m \u001b[32m776.3/776.4 MB\u001b[0m \u001b[31m232.3 MB/s\u001b[0m eta \u001b[36m0:00:01\u001b[0m"
     ]
    },
    {
     "name": "stdout",
     "output_type": "stream",
     "text": [
      "\r",
      "\u001b[2K     \u001b[91m━━━━━━━━━━━━━━━━━━━━━━━━━━━━━━━━━━━━\u001b[0m\u001b[91m╸\u001b[0m \u001b[32m776.3/776.4 MB\u001b[0m \u001b[31m232.3 MB/s\u001b[0m eta \u001b[36m0:00:01\u001b[0m"
     ]
    },
    {
     "name": "stdout",
     "output_type": "stream",
     "text": [
      "\r",
      "\u001b[2K     \u001b[91m━━━━━━━━━━━━━━━━━━━━━━━━━━━━━━━━━━━━\u001b[0m\u001b[91m╸\u001b[0m \u001b[32m776.3/776.4 MB\u001b[0m \u001b[31m232.3 MB/s\u001b[0m eta \u001b[36m0:00:01\u001b[0m\r",
      "\u001b[2K     \u001b[91m━━━━━━━━━━━━━━━━━━━━━━━━━━━━━━━━━━━━\u001b[0m\u001b[91m╸\u001b[0m \u001b[32m776.3/776.4 MB\u001b[0m \u001b[31m232.3 MB/s\u001b[0m eta \u001b[36m0:00:01\u001b[0m"
     ]
    },
    {
     "name": "stdout",
     "output_type": "stream",
     "text": [
      "\r",
      "\u001b[2K     \u001b[91m━━━━━━━━━━━━━━━━━━━━━━━━━━━━━━━━━━━━\u001b[0m\u001b[91m╸\u001b[0m \u001b[32m776.3/776.4 MB\u001b[0m \u001b[31m232.3 MB/s\u001b[0m eta \u001b[36m0:00:01\u001b[0m"
     ]
    },
    {
     "name": "stdout",
     "output_type": "stream",
     "text": [
      "\r",
      "\u001b[2K     \u001b[91m━━━━━━━━━━━━━━━━━━━━━━━━━━━━━━━━━━━━\u001b[0m\u001b[91m╸\u001b[0m \u001b[32m776.3/776.4 MB\u001b[0m \u001b[31m232.3 MB/s\u001b[0m eta \u001b[36m0:00:01\u001b[0m\r",
      "\u001b[2K     \u001b[91m━━━━━━━━━━━━━━━━━━━━━━━━━━━━━━━━━━━━\u001b[0m\u001b[91m╸\u001b[0m \u001b[32m776.3/776.4 MB\u001b[0m \u001b[31m232.3 MB/s\u001b[0m eta \u001b[36m0:00:01\u001b[0m"
     ]
    },
    {
     "name": "stdout",
     "output_type": "stream",
     "text": [
      "\r",
      "\u001b[2K     \u001b[91m━━━━━━━━━━━━━━━━━━━━━━━━━━━━━━━━━━━━\u001b[0m\u001b[91m╸\u001b[0m \u001b[32m776.3/776.4 MB\u001b[0m \u001b[31m232.3 MB/s\u001b[0m eta \u001b[36m0:00:01\u001b[0m"
     ]
    },
    {
     "name": "stdout",
     "output_type": "stream",
     "text": [
      "\r",
      "\u001b[2K     \u001b[91m━━━━━━━━━━━━━━━━━━━━━━━━━━━━━━━━━━━━\u001b[0m\u001b[91m╸\u001b[0m \u001b[32m776.3/776.4 MB\u001b[0m \u001b[31m232.3 MB/s\u001b[0m eta \u001b[36m0:00:01\u001b[0m\r",
      "\u001b[2K     \u001b[91m━━━━━━━━━━━━━━━━━━━━━━━━━━━━━━━━━━━━\u001b[0m\u001b[91m╸\u001b[0m \u001b[32m776.3/776.4 MB\u001b[0m \u001b[31m232.3 MB/s\u001b[0m eta \u001b[36m0:00:01\u001b[0m"
     ]
    },
    {
     "name": "stdout",
     "output_type": "stream",
     "text": [
      "\r",
      "\u001b[2K     \u001b[91m━━━━━━━━━━━━━━━━━━━━━━━━━━━━━━━━━━━━\u001b[0m\u001b[91m╸\u001b[0m \u001b[32m776.3/776.4 MB\u001b[0m \u001b[31m232.3 MB/s\u001b[0m eta \u001b[36m0:00:01\u001b[0m"
     ]
    },
    {
     "name": "stdout",
     "output_type": "stream",
     "text": [
      "\r",
      "\u001b[2K     \u001b[91m━━━━━━━━━━━━━━━━━━━━━━━━━━━━━━━━━━━━\u001b[0m\u001b[91m╸\u001b[0m \u001b[32m776.3/776.4 MB\u001b[0m \u001b[31m232.3 MB/s\u001b[0m eta \u001b[36m0:00:01\u001b[0m"
     ]
    },
    {
     "name": "stdout",
     "output_type": "stream",
     "text": [
      "\r",
      "\u001b[2K     \u001b[91m━━━━━━━━━━━━━━━━━━━━━━━━━━━━━━━━━━━━\u001b[0m\u001b[91m╸\u001b[0m \u001b[32m776.3/776.4 MB\u001b[0m \u001b[31m232.3 MB/s\u001b[0m eta \u001b[36m0:00:01\u001b[0m\r",
      "\u001b[2K     \u001b[91m━━━━━━━━━━━━━━━━━━━━━━━━━━━━━━━━━━━━\u001b[0m\u001b[91m╸\u001b[0m \u001b[32m776.3/776.4 MB\u001b[0m \u001b[31m232.3 MB/s\u001b[0m eta \u001b[36m0:00:01\u001b[0m"
     ]
    },
    {
     "name": "stdout",
     "output_type": "stream",
     "text": [
      "\r",
      "\u001b[2K     \u001b[91m━━━━━━━━━━━━━━━━━━━━━━━━━━━━━━━━━━━━\u001b[0m\u001b[91m╸\u001b[0m \u001b[32m776.3/776.4 MB\u001b[0m \u001b[31m232.3 MB/s\u001b[0m eta \u001b[36m0:00:01\u001b[0m"
     ]
    },
    {
     "name": "stdout",
     "output_type": "stream",
     "text": [
      "\r",
      "\u001b[2K     \u001b[91m━━━━━━━━━━━━━━━━━━━━━━━━━━━━━━━━━━━━\u001b[0m\u001b[91m╸\u001b[0m \u001b[32m776.3/776.4 MB\u001b[0m \u001b[31m232.3 MB/s\u001b[0m eta \u001b[36m0:00:01\u001b[0m\r",
      "\u001b[2K     \u001b[91m━━━━━━━━━━━━━━━━━━━━━━━━━━━━━━━━━━━━\u001b[0m\u001b[91m╸\u001b[0m \u001b[32m776.3/776.4 MB\u001b[0m \u001b[31m232.3 MB/s\u001b[0m eta \u001b[36m0:00:01\u001b[0m"
     ]
    },
    {
     "name": "stdout",
     "output_type": "stream",
     "text": [
      "\r",
      "\u001b[2K     \u001b[91m━━━━━━━━━━━━━━━━━━━━━━━━━━━━━━━━━━━━\u001b[0m\u001b[91m╸\u001b[0m \u001b[32m776.3/776.4 MB\u001b[0m \u001b[31m232.3 MB/s\u001b[0m eta \u001b[36m0:00:01\u001b[0m"
     ]
    },
    {
     "name": "stdout",
     "output_type": "stream",
     "text": [
      "\r",
      "\u001b[2K     \u001b[91m━━━━━━━━━━━━━━━━━━━━━━━━━━━━━━━━━━━━\u001b[0m\u001b[91m╸\u001b[0m \u001b[32m776.3/776.4 MB\u001b[0m \u001b[31m232.3 MB/s\u001b[0m eta \u001b[36m0:00:01\u001b[0m\r",
      "\u001b[2K     \u001b[91m━━━━━━━━━━━━━━━━━━━━━━━━━━━━━━━━━━━━\u001b[0m\u001b[91m╸\u001b[0m \u001b[32m776.3/776.4 MB\u001b[0m \u001b[31m232.3 MB/s\u001b[0m eta \u001b[36m0:00:01\u001b[0m"
     ]
    },
    {
     "name": "stdout",
     "output_type": "stream",
     "text": [
      "\r",
      "\u001b[2K     \u001b[91m━━━━━━━━━━━━━━━━━━━━━━━━━━━━━━━━━━━━\u001b[0m\u001b[91m╸\u001b[0m \u001b[32m776.3/776.4 MB\u001b[0m \u001b[31m232.3 MB/s\u001b[0m eta \u001b[36m0:00:01\u001b[0m"
     ]
    },
    {
     "name": "stdout",
     "output_type": "stream",
     "text": [
      "\r",
      "\u001b[2K     \u001b[91m━━━━━━━━━━━━━━━━━━━━━━━━━━━━━━━━━━━━\u001b[0m\u001b[91m╸\u001b[0m \u001b[32m776.3/776.4 MB\u001b[0m \u001b[31m232.3 MB/s\u001b[0m eta \u001b[36m0:00:01\u001b[0m"
     ]
    },
    {
     "name": "stdout",
     "output_type": "stream",
     "text": [
      "\r",
      "\u001b[2K     \u001b[91m━━━━━━━━━━━━━━━━━━━━━━━━━━━━━━━━━━━━\u001b[0m\u001b[91m╸\u001b[0m \u001b[32m776.3/776.4 MB\u001b[0m \u001b[31m232.3 MB/s\u001b[0m eta \u001b[36m0:00:01\u001b[0m\r",
      "\u001b[2K     \u001b[91m━━━━━━━━━━━━━━━━━━━━━━━━━━━━━━━━━━━━\u001b[0m\u001b[91m╸\u001b[0m \u001b[32m776.3/776.4 MB\u001b[0m \u001b[31m232.3 MB/s\u001b[0m eta \u001b[36m0:00:01\u001b[0m"
     ]
    },
    {
     "name": "stdout",
     "output_type": "stream",
     "text": [
      "\r",
      "\u001b[2K     \u001b[91m━━━━━━━━━━━━━━━━━━━━━━━━━━━━━━━━━━━━\u001b[0m\u001b[91m╸\u001b[0m \u001b[32m776.3/776.4 MB\u001b[0m \u001b[31m232.3 MB/s\u001b[0m eta \u001b[36m0:00:01\u001b[0m"
     ]
    },
    {
     "name": "stdout",
     "output_type": "stream",
     "text": [
      "\r",
      "\u001b[2K     \u001b[91m━━━━━━━━━━━━━━━━━━━━━━━━━━━━━━━━━━━━\u001b[0m\u001b[91m╸\u001b[0m \u001b[32m776.3/776.4 MB\u001b[0m \u001b[31m232.3 MB/s\u001b[0m eta \u001b[36m0:00:01\u001b[0m\r",
      "\u001b[2K     \u001b[91m━━━━━━━━━━━━━━━━━━━━━━━━━━━━━━━━━━━━\u001b[0m\u001b[91m╸\u001b[0m \u001b[32m776.3/776.4 MB\u001b[0m \u001b[31m232.3 MB/s\u001b[0m eta \u001b[36m0:00:01\u001b[0m"
     ]
    },
    {
     "name": "stdout",
     "output_type": "stream",
     "text": [
      "\r",
      "\u001b[2K     \u001b[91m━━━━━━━━━━━━━━━━━━━━━━━━━━━━━━━━━━━━\u001b[0m\u001b[91m╸\u001b[0m \u001b[32m776.3/776.4 MB\u001b[0m \u001b[31m232.3 MB/s\u001b[0m eta \u001b[36m0:00:01\u001b[0m"
     ]
    },
    {
     "name": "stdout",
     "output_type": "stream",
     "text": [
      "\r",
      "\u001b[2K     \u001b[91m━━━━━━━━━━━━━━━━━━━━━━━━━━━━━━━━━━━━\u001b[0m\u001b[91m╸\u001b[0m \u001b[32m776.3/776.4 MB\u001b[0m \u001b[31m232.3 MB/s\u001b[0m eta \u001b[36m0:00:01\u001b[0m\r",
      "\u001b[2K     \u001b[91m━━━━━━━━━━━━━━━━━━━━━━━━━━━━━━━━━━━━\u001b[0m\u001b[91m╸\u001b[0m \u001b[32m776.3/776.4 MB\u001b[0m \u001b[31m232.3 MB/s\u001b[0m eta \u001b[36m0:00:01\u001b[0m"
     ]
    },
    {
     "name": "stdout",
     "output_type": "stream",
     "text": [
      "\r",
      "\u001b[2K     \u001b[91m━━━━━━━━━━━━━━━━━━━━━━━━━━━━━━━━━━━━\u001b[0m\u001b[91m╸\u001b[0m \u001b[32m776.3/776.4 MB\u001b[0m \u001b[31m232.3 MB/s\u001b[0m eta \u001b[36m0:00:01\u001b[0m"
     ]
    },
    {
     "name": "stdout",
     "output_type": "stream",
     "text": [
      "\r",
      "\u001b[2K     \u001b[91m━━━━━━━━━━━━━━━━━━━━━━━━━━━━━━━━━━━━\u001b[0m\u001b[91m╸\u001b[0m \u001b[32m776.3/776.4 MB\u001b[0m \u001b[31m232.3 MB/s\u001b[0m eta \u001b[36m0:00:01\u001b[0m\r",
      "\u001b[2K     \u001b[91m━━━━━━━━━━━━━━━━━━━━━━━━━━━━━━━━━━━━\u001b[0m\u001b[91m╸\u001b[0m \u001b[32m776.3/776.4 MB\u001b[0m \u001b[31m232.3 MB/s\u001b[0m eta \u001b[36m0:00:01\u001b[0m"
     ]
    },
    {
     "name": "stdout",
     "output_type": "stream",
     "text": [
      "\r",
      "\u001b[2K     \u001b[91m━━━━━━━━━━━━━━━━━━━━━━━━━━━━━━━━━━━━\u001b[0m\u001b[91m╸\u001b[0m \u001b[32m776.3/776.4 MB\u001b[0m \u001b[31m232.3 MB/s\u001b[0m eta \u001b[36m0:00:01\u001b[0m"
     ]
    },
    {
     "name": "stdout",
     "output_type": "stream",
     "text": [
      "\r",
      "\u001b[2K     \u001b[91m━━━━━━━━━━━━━━━━━━━━━━━━━━━━━━━━━━━━\u001b[0m\u001b[91m╸\u001b[0m \u001b[32m776.3/776.4 MB\u001b[0m \u001b[31m232.3 MB/s\u001b[0m eta \u001b[36m0:00:01\u001b[0m"
     ]
    },
    {
     "name": "stdout",
     "output_type": "stream",
     "text": [
      "\r",
      "\u001b[2K     \u001b[91m━━━━━━━━━━━━━━━━━━━━━━━━━━━━━━━━━━━━\u001b[0m\u001b[91m╸\u001b[0m \u001b[32m776.3/776.4 MB\u001b[0m \u001b[31m232.3 MB/s\u001b[0m eta \u001b[36m0:00:01\u001b[0m\r",
      "\u001b[2K     \u001b[91m━━━━━━━━━━━━━━━━━━━━━━━━━━━━━━━━━━━━\u001b[0m\u001b[91m╸\u001b[0m \u001b[32m776.3/776.4 MB\u001b[0m \u001b[31m232.3 MB/s\u001b[0m eta \u001b[36m0:00:01\u001b[0m"
     ]
    },
    {
     "name": "stdout",
     "output_type": "stream",
     "text": [
      "\r",
      "\u001b[2K     \u001b[91m━━━━━━━━━━━━━━━━━━━━━━━━━━━━━━━━━━━━\u001b[0m\u001b[91m╸\u001b[0m \u001b[32m776.3/776.4 MB\u001b[0m \u001b[31m232.3 MB/s\u001b[0m eta \u001b[36m0:00:01\u001b[0m"
     ]
    },
    {
     "name": "stdout",
     "output_type": "stream",
     "text": [
      "\r",
      "\u001b[2K     \u001b[91m━━━━━━━━━━━━━━━━━━━━━━━━━━━━━━━━━━━━\u001b[0m\u001b[91m╸\u001b[0m \u001b[32m776.3/776.4 MB\u001b[0m \u001b[31m232.3 MB/s\u001b[0m eta \u001b[36m0:00:01\u001b[0m\r",
      "\u001b[2K     \u001b[91m━━━━━━━━━━━━━━━━━━━━━━━━━━━━━━━━━━━━\u001b[0m\u001b[91m╸\u001b[0m \u001b[32m776.3/776.4 MB\u001b[0m \u001b[31m232.3 MB/s\u001b[0m eta \u001b[36m0:00:01\u001b[0m"
     ]
    },
    {
     "name": "stdout",
     "output_type": "stream",
     "text": [
      "\r",
      "\u001b[2K     \u001b[91m━━━━━━━━━━━━━━━━━━━━━━━━━━━━━━━━━━━━\u001b[0m\u001b[91m╸\u001b[0m \u001b[32m776.3/776.4 MB\u001b[0m \u001b[31m232.3 MB/s\u001b[0m eta \u001b[36m0:00:01\u001b[0m"
     ]
    },
    {
     "name": "stdout",
     "output_type": "stream",
     "text": [
      "\r",
      "\u001b[2K     \u001b[91m━━━━━━━━━━━━━━━━━━━━━━━━━━━━━━━━━━━━\u001b[0m\u001b[91m╸\u001b[0m \u001b[32m776.3/776.4 MB\u001b[0m \u001b[31m232.3 MB/s\u001b[0m eta \u001b[36m0:00:01\u001b[0m\r",
      "\u001b[2K     \u001b[91m━━━━━━━━━━━━━━━━━━━━━━━━━━━━━━━━━━━━\u001b[0m\u001b[91m╸\u001b[0m \u001b[32m776.3/776.4 MB\u001b[0m \u001b[31m232.3 MB/s\u001b[0m eta \u001b[36m0:00:01\u001b[0m"
     ]
    },
    {
     "name": "stdout",
     "output_type": "stream",
     "text": [
      "\r",
      "\u001b[2K     \u001b[91m━━━━━━━━━━━━━━━━━━━━━━━━━━━━━━━━━━━━\u001b[0m\u001b[91m╸\u001b[0m \u001b[32m776.3/776.4 MB\u001b[0m \u001b[31m232.3 MB/s\u001b[0m eta \u001b[36m0:00:01\u001b[0m"
     ]
    },
    {
     "name": "stdout",
     "output_type": "stream",
     "text": [
      "\r",
      "\u001b[2K     \u001b[91m━━━━━━━━━━━━━━━━━━━━━━━━━━━━━━━━━━━━\u001b[0m\u001b[91m╸\u001b[0m \u001b[32m776.3/776.4 MB\u001b[0m \u001b[31m232.3 MB/s\u001b[0m eta \u001b[36m0:00:01\u001b[0m\r",
      "\u001b[2K     \u001b[91m━━━━━━━━━━━━━━━━━━━━━━━━━━━━━━━━━━━━\u001b[0m\u001b[91m╸\u001b[0m \u001b[32m776.3/776.4 MB\u001b[0m \u001b[31m232.3 MB/s\u001b[0m eta \u001b[36m0:00:01\u001b[0m"
     ]
    },
    {
     "name": "stdout",
     "output_type": "stream",
     "text": [
      "\r",
      "\u001b[2K     \u001b[91m━━━━━━━━━━━━━━━━━━━━━━━━━━━━━━━━━━━━\u001b[0m\u001b[91m╸\u001b[0m \u001b[32m776.3/776.4 MB\u001b[0m \u001b[31m232.3 MB/s\u001b[0m eta \u001b[36m0:00:01\u001b[0m"
     ]
    },
    {
     "name": "stdout",
     "output_type": "stream",
     "text": [
      "\r",
      "\u001b[2K     \u001b[91m━━━━━━━━━━━━━━━━━━━━━━━━━━━━━━━━━━━━\u001b[0m\u001b[91m╸\u001b[0m \u001b[32m776.3/776.4 MB\u001b[0m \u001b[31m232.3 MB/s\u001b[0m eta \u001b[36m0:00:01\u001b[0m"
     ]
    },
    {
     "name": "stdout",
     "output_type": "stream",
     "text": [
      "\r",
      "\u001b[2K     \u001b[91m━━━━━━━━━━━━━━━━━━━━━━━━━━━━━━━━━━━━\u001b[0m\u001b[91m╸\u001b[0m \u001b[32m776.3/776.4 MB\u001b[0m \u001b[31m232.3 MB/s\u001b[0m eta \u001b[36m0:00:01\u001b[0m\r",
      "\u001b[2K     \u001b[91m━━━━━━━━━━━━━━━━━━━━━━━━━━━━━━━━━━━━\u001b[0m\u001b[91m╸\u001b[0m \u001b[32m776.3/776.4 MB\u001b[0m \u001b[31m232.3 MB/s\u001b[0m eta \u001b[36m0:00:01\u001b[0m"
     ]
    },
    {
     "name": "stdout",
     "output_type": "stream",
     "text": [
      "\r",
      "\u001b[2K     \u001b[91m━━━━━━━━━━━━━━━━━━━━━━━━━━━━━━━━━━━━\u001b[0m\u001b[91m╸\u001b[0m \u001b[32m776.3/776.4 MB\u001b[0m \u001b[31m232.3 MB/s\u001b[0m eta \u001b[36m0:00:01\u001b[0m"
     ]
    },
    {
     "name": "stdout",
     "output_type": "stream",
     "text": [
      "\r",
      "\u001b[2K     \u001b[91m━━━━━━━━━━━━━━━━━━━━━━━━━━━━━━━━━━━━\u001b[0m\u001b[91m╸\u001b[0m \u001b[32m776.3/776.4 MB\u001b[0m \u001b[31m232.3 MB/s\u001b[0m eta \u001b[36m0:00:01\u001b[0m\r",
      "\u001b[2K     \u001b[91m━━━━━━━━━━━━━━━━━━━━━━━━━━━━━━━━━━━━\u001b[0m\u001b[91m╸\u001b[0m \u001b[32m776.3/776.4 MB\u001b[0m \u001b[31m232.3 MB/s\u001b[0m eta \u001b[36m0:00:01\u001b[0m"
     ]
    },
    {
     "name": "stdout",
     "output_type": "stream",
     "text": [
      "\r",
      "\u001b[2K     \u001b[91m━━━━━━━━━━━━━━━━━━━━━━━━━━━━━━━━━━━━\u001b[0m\u001b[91m╸\u001b[0m \u001b[32m776.3/776.4 MB\u001b[0m \u001b[31m232.3 MB/s\u001b[0m eta \u001b[36m0:00:01\u001b[0m"
     ]
    },
    {
     "name": "stdout",
     "output_type": "stream",
     "text": [
      "\r",
      "\u001b[2K     \u001b[91m━━━━━━━━━━━━━━━━━━━━━━━━━━━━━━━━━━━━\u001b[0m\u001b[91m╸\u001b[0m \u001b[32m776.3/776.4 MB\u001b[0m \u001b[31m232.3 MB/s\u001b[0m eta \u001b[36m0:00:01\u001b[0m\r",
      "\u001b[2K     \u001b[91m━━━━━━━━━━━━━━━━━━━━━━━━━━━━━━━━━━━━\u001b[0m\u001b[91m╸\u001b[0m \u001b[32m776.3/776.4 MB\u001b[0m \u001b[31m232.3 MB/s\u001b[0m eta \u001b[36m0:00:01\u001b[0m"
     ]
    },
    {
     "name": "stdout",
     "output_type": "stream",
     "text": [
      "\r",
      "\u001b[2K     \u001b[91m━━━━━━━━━━━━━━━━━━━━━━━━━━━━━━━━━━━━\u001b[0m\u001b[91m╸\u001b[0m \u001b[32m776.3/776.4 MB\u001b[0m \u001b[31m232.3 MB/s\u001b[0m eta \u001b[36m0:00:01\u001b[0m"
     ]
    },
    {
     "name": "stdout",
     "output_type": "stream",
     "text": [
      "\r",
      "\u001b[2K     \u001b[91m━━━━━━━━━━━━━━━━━━━━━━━━━━━━━━━━━━━━\u001b[0m\u001b[91m╸\u001b[0m \u001b[32m776.3/776.4 MB\u001b[0m \u001b[31m232.3 MB/s\u001b[0m eta \u001b[36m0:00:01\u001b[0m"
     ]
    },
    {
     "name": "stdout",
     "output_type": "stream",
     "text": [
      "\r",
      "\u001b[2K     \u001b[91m━━━━━━━━━━━━━━━━━━━━━━━━━━━━━━━━━━━━\u001b[0m\u001b[91m╸\u001b[0m \u001b[32m776.3/776.4 MB\u001b[0m \u001b[31m232.3 MB/s\u001b[0m eta \u001b[36m0:00:01\u001b[0m\r",
      "\u001b[2K     \u001b[91m━━━━━━━━━━━━━━━━━━━━━━━━━━━━━━━━━━━━\u001b[0m\u001b[91m╸\u001b[0m \u001b[32m776.3/776.4 MB\u001b[0m \u001b[31m232.3 MB/s\u001b[0m eta \u001b[36m0:00:01\u001b[0m"
     ]
    },
    {
     "name": "stdout",
     "output_type": "stream",
     "text": [
      "\r",
      "\u001b[2K     \u001b[91m━━━━━━━━━━━━━━━━━━━━━━━━━━━━━━━━━━━━\u001b[0m\u001b[91m╸\u001b[0m \u001b[32m776.3/776.4 MB\u001b[0m \u001b[31m232.3 MB/s\u001b[0m eta \u001b[36m0:00:01\u001b[0m"
     ]
    },
    {
     "name": "stdout",
     "output_type": "stream",
     "text": [
      "\r",
      "\u001b[2K     \u001b[91m━━━━━━━━━━━━━━━━━━━━━━━━━━━━━━━━━━━━\u001b[0m\u001b[91m╸\u001b[0m \u001b[32m776.3/776.4 MB\u001b[0m \u001b[31m232.3 MB/s\u001b[0m eta \u001b[36m0:00:01\u001b[0m\r",
      "\u001b[2K     \u001b[91m━━━━━━━━━━━━━━━━━━━━━━━━━━━━━━━━━━━━\u001b[0m\u001b[91m╸\u001b[0m \u001b[32m776.3/776.4 MB\u001b[0m \u001b[31m232.3 MB/s\u001b[0m eta \u001b[36m0:00:01\u001b[0m"
     ]
    },
    {
     "name": "stdout",
     "output_type": "stream",
     "text": [
      "\r",
      "\u001b[2K     \u001b[91m━━━━━━━━━━━━━━━━━━━━━━━━━━━━━━━━━━━━\u001b[0m\u001b[91m╸\u001b[0m \u001b[32m776.3/776.4 MB\u001b[0m \u001b[31m232.3 MB/s\u001b[0m eta \u001b[36m0:00:01\u001b[0m"
     ]
    },
    {
     "name": "stdout",
     "output_type": "stream",
     "text": [
      "\r",
      "\u001b[2K     \u001b[91m━━━━━━━━━━━━━━━━━━━━━━━━━━━━━━━━━━━━\u001b[0m\u001b[91m╸\u001b[0m \u001b[32m776.3/776.4 MB\u001b[0m \u001b[31m232.3 MB/s\u001b[0m eta \u001b[36m0:00:01\u001b[0m\r",
      "\u001b[2K     \u001b[91m━━━━━━━━━━━━━━━━━━━━━━━━━━━━━━━━━━━━\u001b[0m\u001b[91m╸\u001b[0m \u001b[32m776.3/776.4 MB\u001b[0m \u001b[31m232.3 MB/s\u001b[0m eta \u001b[36m0:00:01\u001b[0m"
     ]
    },
    {
     "name": "stdout",
     "output_type": "stream",
     "text": [
      "\r",
      "\u001b[2K     \u001b[91m━━━━━━━━━━━━━━━━━━━━━━━━━━━━━━━━━━━━\u001b[0m\u001b[91m╸\u001b[0m \u001b[32m776.3/776.4 MB\u001b[0m \u001b[31m232.3 MB/s\u001b[0m eta \u001b[36m0:00:01\u001b[0m"
     ]
    },
    {
     "name": "stdout",
     "output_type": "stream",
     "text": [
      "\r",
      "\u001b[2K     \u001b[91m━━━━━━━━━━━━━━━━━━━━━━━━━━━━━━━━━━━━\u001b[0m\u001b[91m╸\u001b[0m \u001b[32m776.3/776.4 MB\u001b[0m \u001b[31m232.3 MB/s\u001b[0m eta \u001b[36m0:00:01\u001b[0m"
     ]
    },
    {
     "name": "stdout",
     "output_type": "stream",
     "text": [
      "\r",
      "\u001b[2K     \u001b[91m━━━━━━━━━━━━━━━━━━━━━━━━━━━━━━━━━━━━\u001b[0m\u001b[91m╸\u001b[0m \u001b[32m776.3/776.4 MB\u001b[0m \u001b[31m232.3 MB/s\u001b[0m eta \u001b[36m0:00:01\u001b[0m\r",
      "\u001b[2K     \u001b[91m━━━━━━━━━━━━━━━━━━━━━━━━━━━━━━━━━━━━\u001b[0m\u001b[91m╸\u001b[0m \u001b[32m776.3/776.4 MB\u001b[0m \u001b[31m232.3 MB/s\u001b[0m eta \u001b[36m0:00:01\u001b[0m"
     ]
    },
    {
     "name": "stdout",
     "output_type": "stream",
     "text": [
      "\r",
      "\u001b[2K     \u001b[91m━━━━━━━━━━━━━━━━━━━━━━━━━━━━━━━━━━━━\u001b[0m\u001b[91m╸\u001b[0m \u001b[32m776.3/776.4 MB\u001b[0m \u001b[31m232.3 MB/s\u001b[0m eta \u001b[36m0:00:01\u001b[0m"
     ]
    },
    {
     "name": "stdout",
     "output_type": "stream",
     "text": [
      "\r",
      "\u001b[2K     \u001b[91m━━━━━━━━━━━━━━━━━━━━━━━━━━━━━━━━━━━━\u001b[0m\u001b[91m╸\u001b[0m \u001b[32m776.3/776.4 MB\u001b[0m \u001b[31m232.3 MB/s\u001b[0m eta \u001b[36m0:00:01\u001b[0m\r",
      "\u001b[2K     \u001b[91m━━━━━━━━━━━━━━━━━━━━━━━━━━━━━━━━━━━━\u001b[0m\u001b[91m╸\u001b[0m \u001b[32m776.3/776.4 MB\u001b[0m \u001b[31m232.3 MB/s\u001b[0m eta \u001b[36m0:00:01\u001b[0m"
     ]
    },
    {
     "name": "stdout",
     "output_type": "stream",
     "text": [
      "\r",
      "\u001b[2K     \u001b[91m━━━━━━━━━━━━━━━━━━━━━━━━━━━━━━━━━━━━\u001b[0m\u001b[91m╸\u001b[0m \u001b[32m776.3/776.4 MB\u001b[0m \u001b[31m232.3 MB/s\u001b[0m eta \u001b[36m0:00:01\u001b[0m"
     ]
    },
    {
     "name": "stdout",
     "output_type": "stream",
     "text": [
      "\r",
      "\u001b[2K     \u001b[91m━━━━━━━━━━━━━━━━━━━━━━━━━━━━━━━━━━━━\u001b[0m\u001b[91m╸\u001b[0m \u001b[32m776.3/776.4 MB\u001b[0m \u001b[31m232.3 MB/s\u001b[0m eta \u001b[36m0:00:01\u001b[0m\r",
      "\u001b[2K     \u001b[91m━━━━━━━━━━━━━━━━━━━━━━━━━━━━━━━━━━━━\u001b[0m\u001b[91m╸\u001b[0m \u001b[32m776.3/776.4 MB\u001b[0m \u001b[31m232.3 MB/s\u001b[0m eta \u001b[36m0:00:01\u001b[0m"
     ]
    },
    {
     "name": "stdout",
     "output_type": "stream",
     "text": [
      "\r",
      "\u001b[2K     \u001b[91m━━━━━━━━━━━━━━━━━━━━━━━━━━━━━━━━━━━━\u001b[0m\u001b[91m╸\u001b[0m \u001b[32m776.3/776.4 MB\u001b[0m \u001b[31m232.3 MB/s\u001b[0m eta \u001b[36m0:00:01\u001b[0m"
     ]
    },
    {
     "name": "stdout",
     "output_type": "stream",
     "text": [
      "\r",
      "\u001b[2K     \u001b[91m━━━━━━━━━━━━━━━━━━━━━━━━━━━━━━━━━━━━\u001b[0m\u001b[91m╸\u001b[0m \u001b[32m776.3/776.4 MB\u001b[0m \u001b[31m232.3 MB/s\u001b[0m eta \u001b[36m0:00:01\u001b[0m\r",
      "\u001b[2K     \u001b[91m━━━━━━━━━━━━━━━━━━━━━━━━━━━━━━━━━━━━\u001b[0m\u001b[91m╸\u001b[0m \u001b[32m776.3/776.4 MB\u001b[0m \u001b[31m232.3 MB/s\u001b[0m eta \u001b[36m0:00:01\u001b[0m"
     ]
    },
    {
     "name": "stdout",
     "output_type": "stream",
     "text": [
      "\r",
      "\u001b[2K     \u001b[91m━━━━━━━━━━━━━━━━━━━━━━━━━━━━━━━━━━━━\u001b[0m\u001b[91m╸\u001b[0m \u001b[32m776.3/776.4 MB\u001b[0m \u001b[31m232.3 MB/s\u001b[0m eta \u001b[36m0:00:01\u001b[0m"
     ]
    },
    {
     "name": "stdout",
     "output_type": "stream",
     "text": [
      "\r",
      "\u001b[2K     \u001b[91m━━━━━━━━━━━━━━━━━━━━━━━━━━━━━━━━━━━━\u001b[0m\u001b[91m╸\u001b[0m \u001b[32m776.3/776.4 MB\u001b[0m \u001b[31m232.3 MB/s\u001b[0m eta \u001b[36m0:00:01\u001b[0m"
     ]
    },
    {
     "name": "stdout",
     "output_type": "stream",
     "text": [
      "\r",
      "\u001b[2K     \u001b[91m━━━━━━━━━━━━━━━━━━━━━━━━━━━━━━━━━━━━\u001b[0m\u001b[91m╸\u001b[0m \u001b[32m776.3/776.4 MB\u001b[0m \u001b[31m232.3 MB/s\u001b[0m eta \u001b[36m0:00:01\u001b[0m\r",
      "\u001b[2K     \u001b[91m━━━━━━━━━━━━━━━━━━━━━━━━━━━━━━━━━━━━\u001b[0m\u001b[91m╸\u001b[0m \u001b[32m776.3/776.4 MB\u001b[0m \u001b[31m232.3 MB/s\u001b[0m eta \u001b[36m0:00:01\u001b[0m"
     ]
    },
    {
     "name": "stdout",
     "output_type": "stream",
     "text": [
      "\r",
      "\u001b[2K     \u001b[91m━━━━━━━━━━━━━━━━━━━━━━━━━━━━━━━━━━━━\u001b[0m\u001b[91m╸\u001b[0m \u001b[32m776.3/776.4 MB\u001b[0m \u001b[31m232.3 MB/s\u001b[0m eta \u001b[36m0:00:01\u001b[0m"
     ]
    },
    {
     "name": "stdout",
     "output_type": "stream",
     "text": [
      "\r",
      "\u001b[2K     \u001b[91m━━━━━━━━━━━━━━━━━━━━━━━━━━━━━━━━━━━━\u001b[0m\u001b[91m╸\u001b[0m \u001b[32m776.3/776.4 MB\u001b[0m \u001b[31m232.3 MB/s\u001b[0m eta \u001b[36m0:00:01\u001b[0m\r",
      "\u001b[2K     \u001b[91m━━━━━━━━━━━━━━━━━━━━━━━━━━━━━━━━━━━━\u001b[0m\u001b[91m╸\u001b[0m \u001b[32m776.3/776.4 MB\u001b[0m \u001b[31m232.3 MB/s\u001b[0m eta \u001b[36m0:00:01\u001b[0m"
     ]
    },
    {
     "name": "stdout",
     "output_type": "stream",
     "text": [
      "\r",
      "\u001b[2K     \u001b[91m━━━━━━━━━━━━━━━━━━━━━━━━━━━━━━━━━━━━\u001b[0m\u001b[91m╸\u001b[0m \u001b[32m776.3/776.4 MB\u001b[0m \u001b[31m232.3 MB/s\u001b[0m eta \u001b[36m0:00:01\u001b[0m"
     ]
    },
    {
     "name": "stdout",
     "output_type": "stream",
     "text": [
      "\r",
      "\u001b[2K     \u001b[91m━━━━━━━━━━━━━━━━━━━━━━━━━━━━━━━━━━━━\u001b[0m\u001b[91m╸\u001b[0m \u001b[32m776.3/776.4 MB\u001b[0m \u001b[31m232.3 MB/s\u001b[0m eta \u001b[36m0:00:01\u001b[0m\r",
      "\u001b[2K     \u001b[91m━━━━━━━━━━━━━━━━━━━━━━━━━━━━━━━━━━━━\u001b[0m\u001b[91m╸\u001b[0m \u001b[32m776.3/776.4 MB\u001b[0m \u001b[31m232.3 MB/s\u001b[0m eta \u001b[36m0:00:01\u001b[0m"
     ]
    },
    {
     "name": "stdout",
     "output_type": "stream",
     "text": [
      "\r",
      "\u001b[2K     \u001b[91m━━━━━━━━━━━━━━━━━━━━━━━━━━━━━━━━━━━━\u001b[0m\u001b[91m╸\u001b[0m \u001b[32m776.3/776.4 MB\u001b[0m \u001b[31m232.3 MB/s\u001b[0m eta \u001b[36m0:00:01\u001b[0m"
     ]
    },
    {
     "name": "stdout",
     "output_type": "stream",
     "text": [
      "\r",
      "\u001b[2K     \u001b[91m━━━━━━━━━━━━━━━━━━━━━━━━━━━━━━━━━━━━\u001b[0m\u001b[91m╸\u001b[0m \u001b[32m776.3/776.4 MB\u001b[0m \u001b[31m232.3 MB/s\u001b[0m eta \u001b[36m0:00:01\u001b[0m"
     ]
    },
    {
     "name": "stdout",
     "output_type": "stream",
     "text": [
      "\r",
      "\u001b[2K     \u001b[91m━━━━━━━━━━━━━━━━━━━━━━━━━━━━━━━━━━━━\u001b[0m\u001b[91m╸\u001b[0m \u001b[32m776.3/776.4 MB\u001b[0m \u001b[31m232.3 MB/s\u001b[0m eta \u001b[36m0:00:01\u001b[0m\r",
      "\u001b[2K     \u001b[91m━━━━━━━━━━━━━━━━━━━━━━━━━━━━━━━━━━━━\u001b[0m\u001b[91m╸\u001b[0m \u001b[32m776.3/776.4 MB\u001b[0m \u001b[31m232.3 MB/s\u001b[0m eta \u001b[36m0:00:01\u001b[0m"
     ]
    },
    {
     "name": "stdout",
     "output_type": "stream",
     "text": [
      "\r",
      "\u001b[2K     \u001b[91m━━━━━━━━━━━━━━━━━━━━━━━━━━━━━━━━━━━━\u001b[0m\u001b[91m╸\u001b[0m \u001b[32m776.3/776.4 MB\u001b[0m \u001b[31m232.3 MB/s\u001b[0m eta \u001b[36m0:00:01\u001b[0m"
     ]
    },
    {
     "name": "stdout",
     "output_type": "stream",
     "text": [
      "\r",
      "\u001b[2K     \u001b[91m━━━━━━━━━━━━━━━━━━━━━━━━━━━━━━━━━━━━\u001b[0m\u001b[91m╸\u001b[0m \u001b[32m776.3/776.4 MB\u001b[0m \u001b[31m232.3 MB/s\u001b[0m eta \u001b[36m0:00:01\u001b[0m\r",
      "\u001b[2K     \u001b[91m━━━━━━━━━━━━━━━━━━━━━━━━━━━━━━━━━━━━\u001b[0m\u001b[91m╸\u001b[0m \u001b[32m776.3/776.4 MB\u001b[0m \u001b[31m232.3 MB/s\u001b[0m eta \u001b[36m0:00:01\u001b[0m"
     ]
    },
    {
     "name": "stdout",
     "output_type": "stream",
     "text": [
      "\r",
      "\u001b[2K     \u001b[91m━━━━━━━━━━━━━━━━━━━━━━━━━━━━━━━━━━━━\u001b[0m\u001b[91m╸\u001b[0m \u001b[32m776.3/776.4 MB\u001b[0m \u001b[31m232.3 MB/s\u001b[0m eta \u001b[36m0:00:01\u001b[0m"
     ]
    },
    {
     "name": "stdout",
     "output_type": "stream",
     "text": [
      "\r",
      "\u001b[2K     \u001b[91m━━━━━━━━━━━━━━━━━━━━━━━━━━━━━━━━━━━━\u001b[0m\u001b[91m╸\u001b[0m \u001b[32m776.3/776.4 MB\u001b[0m \u001b[31m232.3 MB/s\u001b[0m eta \u001b[36m0:00:01\u001b[0m\r",
      "\u001b[2K     \u001b[91m━━━━━━━━━━━━━━━━━━━━━━━━━━━━━━━━━━━━\u001b[0m\u001b[91m╸\u001b[0m \u001b[32m776.3/776.4 MB\u001b[0m \u001b[31m232.3 MB/s\u001b[0m eta \u001b[36m0:00:01\u001b[0m"
     ]
    },
    {
     "name": "stdout",
     "output_type": "stream",
     "text": [
      "\r",
      "\u001b[2K     \u001b[91m━━━━━━━━━━━━━━━━━━━━━━━━━━━━━━━━━━━━\u001b[0m\u001b[91m╸\u001b[0m \u001b[32m776.3/776.4 MB\u001b[0m \u001b[31m232.3 MB/s\u001b[0m eta \u001b[36m0:00:01\u001b[0m"
     ]
    },
    {
     "name": "stdout",
     "output_type": "stream",
     "text": [
      "\r",
      "\u001b[2K     \u001b[91m━━━━━━━━━━━━━━━━━━━━━━━━━━━━━━━━━━━━\u001b[0m\u001b[91m╸\u001b[0m \u001b[32m776.3/776.4 MB\u001b[0m \u001b[31m232.3 MB/s\u001b[0m eta \u001b[36m0:00:01\u001b[0m"
     ]
    },
    {
     "name": "stdout",
     "output_type": "stream",
     "text": [
      "\r",
      "\u001b[2K     \u001b[91m━━━━━━━━━━━━━━━━━━━━━━━━━━━━━━━━━━━━\u001b[0m\u001b[91m╸\u001b[0m \u001b[32m776.3/776.4 MB\u001b[0m \u001b[31m232.3 MB/s\u001b[0m eta \u001b[36m0:00:01\u001b[0m\r",
      "\u001b[2K     \u001b[91m━━━━━━━━━━━━━━━━━━━━━━━━━━━━━━━━━━━━\u001b[0m\u001b[91m╸\u001b[0m \u001b[32m776.3/776.4 MB\u001b[0m \u001b[31m232.3 MB/s\u001b[0m eta \u001b[36m0:00:01\u001b[0m"
     ]
    },
    {
     "name": "stdout",
     "output_type": "stream",
     "text": [
      "\r",
      "\u001b[2K     \u001b[91m━━━━━━━━━━━━━━━━━━━━━━━━━━━━━━━━━━━━\u001b[0m\u001b[91m╸\u001b[0m \u001b[32m776.3/776.4 MB\u001b[0m \u001b[31m232.3 MB/s\u001b[0m eta \u001b[36m0:00:01\u001b[0m"
     ]
    },
    {
     "name": "stdout",
     "output_type": "stream",
     "text": [
      "\r",
      "\u001b[2K     \u001b[91m━━━━━━━━━━━━━━━━━━━━━━━━━━━━━━━━━━━━\u001b[0m\u001b[91m╸\u001b[0m \u001b[32m776.3/776.4 MB\u001b[0m \u001b[31m232.3 MB/s\u001b[0m eta \u001b[36m0:00:01\u001b[0m\r",
      "\u001b[2K     \u001b[91m━━━━━━━━━━━━━━━━━━━━━━━━━━━━━━━━━━━━\u001b[0m\u001b[91m╸\u001b[0m \u001b[32m776.3/776.4 MB\u001b[0m \u001b[31m232.3 MB/s\u001b[0m eta \u001b[36m0:00:01\u001b[0m"
     ]
    },
    {
     "name": "stdout",
     "output_type": "stream",
     "text": [
      "\r",
      "\u001b[2K     \u001b[91m━━━━━━━━━━━━━━━━━━━━━━━━━━━━━━━━━━━━\u001b[0m\u001b[91m╸\u001b[0m \u001b[32m776.3/776.4 MB\u001b[0m \u001b[31m232.3 MB/s\u001b[0m eta \u001b[36m0:00:01\u001b[0m"
     ]
    },
    {
     "name": "stdout",
     "output_type": "stream",
     "text": [
      "\r",
      "\u001b[2K     \u001b[91m━━━━━━━━━━━━━━━━━━━━━━━━━━━━━━━━━━━━\u001b[0m\u001b[91m╸\u001b[0m \u001b[32m776.3/776.4 MB\u001b[0m \u001b[31m232.3 MB/s\u001b[0m eta \u001b[36m0:00:01\u001b[0m\r",
      "\u001b[2K     \u001b[91m━━━━━━━━━━━━━━━━━━━━━━━━━━━━━━━━━━━━\u001b[0m\u001b[91m╸\u001b[0m \u001b[32m776.3/776.4 MB\u001b[0m \u001b[31m232.3 MB/s\u001b[0m eta \u001b[36m0:00:01\u001b[0m"
     ]
    },
    {
     "name": "stdout",
     "output_type": "stream",
     "text": [
      "\r",
      "\u001b[2K     \u001b[91m━━━━━━━━━━━━━━━━━━━━━━━━━━━━━━━━━━━━\u001b[0m\u001b[91m╸\u001b[0m \u001b[32m776.3/776.4 MB\u001b[0m \u001b[31m232.3 MB/s\u001b[0m eta \u001b[36m0:00:01\u001b[0m"
     ]
    },
    {
     "name": "stdout",
     "output_type": "stream",
     "text": [
      "\r",
      "\u001b[2K     \u001b[91m━━━━━━━━━━━━━━━━━━━━━━━━━━━━━━━━━━━━\u001b[0m\u001b[91m╸\u001b[0m \u001b[32m776.3/776.4 MB\u001b[0m \u001b[31m232.3 MB/s\u001b[0m eta \u001b[36m0:00:01\u001b[0m\r",
      "\u001b[2K     \u001b[91m━━━━━━━━━━━━━━━━━━━━━━━━━━━━━━━━━━━━\u001b[0m\u001b[91m╸\u001b[0m \u001b[32m776.3/776.4 MB\u001b[0m \u001b[31m232.3 MB/s\u001b[0m eta \u001b[36m0:00:01\u001b[0m"
     ]
    },
    {
     "name": "stdout",
     "output_type": "stream",
     "text": [
      "\r",
      "\u001b[2K     \u001b[91m━━━━━━━━━━━━━━━━━━━━━━━━━━━━━━━━━━━━\u001b[0m\u001b[91m╸\u001b[0m \u001b[32m776.3/776.4 MB\u001b[0m \u001b[31m232.3 MB/s\u001b[0m eta \u001b[36m0:00:01\u001b[0m"
     ]
    },
    {
     "name": "stdout",
     "output_type": "stream",
     "text": [
      "\r",
      "\u001b[2K     \u001b[91m━━━━━━━━━━━━━━━━━━━━━━━━━━━━━━━━━━━━\u001b[0m\u001b[91m╸\u001b[0m \u001b[32m776.3/776.4 MB\u001b[0m \u001b[31m232.3 MB/s\u001b[0m eta \u001b[36m0:00:01\u001b[0m"
     ]
    },
    {
     "name": "stdout",
     "output_type": "stream",
     "text": [
      "\r",
      "\u001b[2K     \u001b[91m━━━━━━━━━━━━━━━━━━━━━━━━━━━━━━━━━━━━\u001b[0m\u001b[91m╸\u001b[0m \u001b[32m776.3/776.4 MB\u001b[0m \u001b[31m232.3 MB/s\u001b[0m eta \u001b[36m0:00:01\u001b[0m\r",
      "\u001b[2K     \u001b[91m━━━━━━━━━━━━━━━━━━━━━━━━━━━━━━━━━━━━\u001b[0m\u001b[91m╸\u001b[0m \u001b[32m776.3/776.4 MB\u001b[0m \u001b[31m232.3 MB/s\u001b[0m eta \u001b[36m0:00:01\u001b[0m"
     ]
    },
    {
     "name": "stdout",
     "output_type": "stream",
     "text": [
      "\r",
      "\u001b[2K     \u001b[91m━━━━━━━━━━━━━━━━━━━━━━━━━━━━━━━━━━━━\u001b[0m\u001b[91m╸\u001b[0m \u001b[32m776.3/776.4 MB\u001b[0m \u001b[31m232.3 MB/s\u001b[0m eta \u001b[36m0:00:01\u001b[0m"
     ]
    },
    {
     "name": "stdout",
     "output_type": "stream",
     "text": [
      "\r",
      "\u001b[2K     \u001b[91m━━━━━━━━━━━━━━━━━━━━━━━━━━━━━━━━━━━━\u001b[0m\u001b[91m╸\u001b[0m \u001b[32m776.3/776.4 MB\u001b[0m \u001b[31m232.3 MB/s\u001b[0m eta \u001b[36m0:00:01\u001b[0m\r",
      "\u001b[2K     \u001b[91m━━━━━━━━━━━━━━━━━━━━━━━━━━━━━━━━━━━━\u001b[0m\u001b[91m╸\u001b[0m \u001b[32m776.3/776.4 MB\u001b[0m \u001b[31m232.3 MB/s\u001b[0m eta \u001b[36m0:00:01\u001b[0m"
     ]
    },
    {
     "name": "stdout",
     "output_type": "stream",
     "text": [
      "\r",
      "\u001b[2K     \u001b[91m━━━━━━━━━━━━━━━━━━━━━━━━━━━━━━━━━━━━\u001b[0m\u001b[91m╸\u001b[0m \u001b[32m776.3/776.4 MB\u001b[0m \u001b[31m232.3 MB/s\u001b[0m eta \u001b[36m0:00:01\u001b[0m"
     ]
    },
    {
     "name": "stdout",
     "output_type": "stream",
     "text": [
      "\r",
      "\u001b[2K     \u001b[91m━━━━━━━━━━━━━━━━━━━━━━━━━━━━━━━━━━━━\u001b[0m\u001b[91m╸\u001b[0m \u001b[32m776.3/776.4 MB\u001b[0m \u001b[31m232.3 MB/s\u001b[0m eta \u001b[36m0:00:01\u001b[0m\r",
      "\u001b[2K     \u001b[91m━━━━━━━━━━━━━━━━━━━━━━━━━━━━━━━━━━━━\u001b[0m\u001b[91m╸\u001b[0m \u001b[32m776.3/776.4 MB\u001b[0m \u001b[31m232.3 MB/s\u001b[0m eta \u001b[36m0:00:01\u001b[0m"
     ]
    },
    {
     "name": "stdout",
     "output_type": "stream",
     "text": [
      "\r",
      "\u001b[2K     \u001b[91m━━━━━━━━━━━━━━━━━━━━━━━━━━━━━━━━━━━━\u001b[0m\u001b[91m╸\u001b[0m \u001b[32m776.3/776.4 MB\u001b[0m \u001b[31m232.3 MB/s\u001b[0m eta \u001b[36m0:00:01\u001b[0m"
     ]
    },
    {
     "name": "stdout",
     "output_type": "stream",
     "text": [
      "\r",
      "\u001b[2K     \u001b[91m━━━━━━━━━━━━━━━━━━━━━━━━━━━━━━━━━━━━\u001b[0m\u001b[91m╸\u001b[0m \u001b[32m776.3/776.4 MB\u001b[0m \u001b[31m232.3 MB/s\u001b[0m eta \u001b[36m0:00:01\u001b[0m"
     ]
    },
    {
     "name": "stdout",
     "output_type": "stream",
     "text": [
      "\r",
      "\u001b[2K     \u001b[91m━━━━━━━━━━━━━━━━━━━━━━━━━━━━━━━━━━━━\u001b[0m\u001b[91m╸\u001b[0m \u001b[32m776.3/776.4 MB\u001b[0m \u001b[31m232.3 MB/s\u001b[0m eta \u001b[36m0:00:01\u001b[0m\r",
      "\u001b[2K     \u001b[91m━━━━━━━━━━━━━━━━━━━━━━━━━━━━━━━━━━━━\u001b[0m\u001b[91m╸\u001b[0m \u001b[32m776.3/776.4 MB\u001b[0m \u001b[31m232.3 MB/s\u001b[0m eta \u001b[36m0:00:01\u001b[0m"
     ]
    },
    {
     "name": "stdout",
     "output_type": "stream",
     "text": [
      "\r",
      "\u001b[2K     \u001b[91m━━━━━━━━━━━━━━━━━━━━━━━━━━━━━━━━━━━━\u001b[0m\u001b[91m╸\u001b[0m \u001b[32m776.3/776.4 MB\u001b[0m \u001b[31m232.3 MB/s\u001b[0m eta \u001b[36m0:00:01\u001b[0m"
     ]
    },
    {
     "name": "stdout",
     "output_type": "stream",
     "text": [
      "\r",
      "\u001b[2K     \u001b[91m━━━━━━━━━━━━━━━━━━━━━━━━━━━━━━━━━━━━\u001b[0m\u001b[91m╸\u001b[0m \u001b[32m776.3/776.4 MB\u001b[0m \u001b[31m232.3 MB/s\u001b[0m eta \u001b[36m0:00:01\u001b[0m\r",
      "\u001b[2K     \u001b[91m━━━━━━━━━━━━━━━━━━━━━━━━━━━━━━━━━━━━\u001b[0m\u001b[91m╸\u001b[0m \u001b[32m776.3/776.4 MB\u001b[0m \u001b[31m232.3 MB/s\u001b[0m eta \u001b[36m0:00:01\u001b[0m"
     ]
    },
    {
     "name": "stdout",
     "output_type": "stream",
     "text": [
      "\r",
      "\u001b[2K     \u001b[91m━━━━━━━━━━━━━━━━━━━━━━━━━━━━━━━━━━━━\u001b[0m\u001b[91m╸\u001b[0m \u001b[32m776.3/776.4 MB\u001b[0m \u001b[31m232.3 MB/s\u001b[0m eta \u001b[36m0:00:01\u001b[0m"
     ]
    },
    {
     "name": "stdout",
     "output_type": "stream",
     "text": [
      "\r",
      "\u001b[2K     \u001b[91m━━━━━━━━━━━━━━━━━━━━━━━━━━━━━━━━━━━━\u001b[0m\u001b[91m╸\u001b[0m \u001b[32m776.3/776.4 MB\u001b[0m \u001b[31m232.3 MB/s\u001b[0m eta \u001b[36m0:00:01\u001b[0m\r",
      "\u001b[2K     \u001b[91m━━━━━━━━━━━━━━━━━━━━━━━━━━━━━━━━━━━━\u001b[0m\u001b[91m╸\u001b[0m \u001b[32m776.3/776.4 MB\u001b[0m \u001b[31m232.3 MB/s\u001b[0m eta \u001b[36m0:00:01\u001b[0m"
     ]
    },
    {
     "name": "stdout",
     "output_type": "stream",
     "text": [
      "\r",
      "\u001b[2K     \u001b[91m━━━━━━━━━━━━━━━━━━━━━━━━━━━━━━━━━━━━\u001b[0m\u001b[91m╸\u001b[0m \u001b[32m776.3/776.4 MB\u001b[0m \u001b[31m232.3 MB/s\u001b[0m eta \u001b[36m0:00:01\u001b[0m"
     ]
    },
    {
     "name": "stdout",
     "output_type": "stream",
     "text": [
      "\r",
      "\u001b[2K     \u001b[91m━━━━━━━━━━━━━━━━━━━━━━━━━━━━━━━━━━━━\u001b[0m\u001b[91m╸\u001b[0m \u001b[32m776.3/776.4 MB\u001b[0m \u001b[31m232.3 MB/s\u001b[0m eta \u001b[36m0:00:01\u001b[0m"
     ]
    },
    {
     "name": "stdout",
     "output_type": "stream",
     "text": [
      "\r",
      "\u001b[2K     \u001b[91m━━━━━━━━━━━━━━━━━━━━━━━━━━━━━━━━━━━━\u001b[0m\u001b[91m╸\u001b[0m \u001b[32m776.3/776.4 MB\u001b[0m \u001b[31m232.3 MB/s\u001b[0m eta \u001b[36m0:00:01\u001b[0m\r",
      "\u001b[2K     \u001b[91m━━━━━━━━━━━━━━━━━━━━━━━━━━━━━━━━━━━━\u001b[0m\u001b[91m╸\u001b[0m \u001b[32m776.3/776.4 MB\u001b[0m \u001b[31m232.3 MB/s\u001b[0m eta \u001b[36m0:00:01\u001b[0m"
     ]
    },
    {
     "name": "stdout",
     "output_type": "stream",
     "text": [
      "\r",
      "\u001b[2K     \u001b[91m━━━━━━━━━━━━━━━━━━━━━━━━━━━━━━━━━━━━\u001b[0m\u001b[91m╸\u001b[0m \u001b[32m776.3/776.4 MB\u001b[0m \u001b[31m232.3 MB/s\u001b[0m eta \u001b[36m0:00:01\u001b[0m"
     ]
    },
    {
     "name": "stdout",
     "output_type": "stream",
     "text": [
      "\r",
      "\u001b[2K     \u001b[91m━━━━━━━━━━━━━━━━━━━━━━━━━━━━━━━━━━━━\u001b[0m\u001b[91m╸\u001b[0m \u001b[32m776.3/776.4 MB\u001b[0m \u001b[31m232.3 MB/s\u001b[0m eta \u001b[36m0:00:01\u001b[0m\r",
      "\u001b[2K     \u001b[91m━━━━━━━━━━━━━━━━━━━━━━━━━━━━━━━━━━━━\u001b[0m\u001b[91m╸\u001b[0m \u001b[32m776.3/776.4 MB\u001b[0m \u001b[31m232.3 MB/s\u001b[0m eta \u001b[36m0:00:01\u001b[0m"
     ]
    },
    {
     "name": "stdout",
     "output_type": "stream",
     "text": [
      "\r",
      "\u001b[2K     \u001b[91m━━━━━━━━━━━━━━━━━━━━━━━━━━━━━━━━━━━━\u001b[0m\u001b[91m╸\u001b[0m \u001b[32m776.3/776.4 MB\u001b[0m \u001b[31m232.3 MB/s\u001b[0m eta \u001b[36m0:00:01\u001b[0m"
     ]
    },
    {
     "name": "stdout",
     "output_type": "stream",
     "text": [
      "\r",
      "\u001b[2K     \u001b[91m━━━━━━━━━━━━━━━━━━━━━━━━━━━━━━━━━━━━\u001b[0m\u001b[91m╸\u001b[0m \u001b[32m776.3/776.4 MB\u001b[0m \u001b[31m232.3 MB/s\u001b[0m eta \u001b[36m0:00:01\u001b[0m\r",
      "\u001b[2K     \u001b[91m━━━━━━━━━━━━━━━━━━━━━━━━━━━━━━━━━━━━\u001b[0m\u001b[91m╸\u001b[0m \u001b[32m776.3/776.4 MB\u001b[0m \u001b[31m232.3 MB/s\u001b[0m eta \u001b[36m0:00:01\u001b[0m"
     ]
    },
    {
     "name": "stdout",
     "output_type": "stream",
     "text": [
      "\r",
      "\u001b[2K     \u001b[91m━━━━━━━━━━━━━━━━━━━━━━━━━━━━━━━━━━━━\u001b[0m\u001b[91m╸\u001b[0m \u001b[32m776.3/776.4 MB\u001b[0m \u001b[31m232.3 MB/s\u001b[0m eta \u001b[36m0:00:01\u001b[0m"
     ]
    },
    {
     "name": "stdout",
     "output_type": "stream",
     "text": [
      "\r",
      "\u001b[2K     \u001b[91m━━━━━━━━━━━━━━━━━━━━━━━━━━━━━━━━━━━━\u001b[0m\u001b[91m╸\u001b[0m \u001b[32m776.3/776.4 MB\u001b[0m \u001b[31m232.3 MB/s\u001b[0m eta \u001b[36m0:00:01\u001b[0m\r",
      "\u001b[2K     \u001b[91m━━━━━━━━━━━━━━━━━━━━━━━━━━━━━━━━━━━━\u001b[0m\u001b[91m╸\u001b[0m \u001b[32m776.3/776.4 MB\u001b[0m \u001b[31m232.3 MB/s\u001b[0m eta \u001b[36m0:00:01\u001b[0m"
     ]
    },
    {
     "name": "stdout",
     "output_type": "stream",
     "text": [
      "\r",
      "\u001b[2K     \u001b[91m━━━━━━━━━━━━━━━━━━━━━━━━━━━━━━━━━━━━\u001b[0m\u001b[91m╸\u001b[0m \u001b[32m776.3/776.4 MB\u001b[0m \u001b[31m232.3 MB/s\u001b[0m eta \u001b[36m0:00:01\u001b[0m"
     ]
    },
    {
     "name": "stdout",
     "output_type": "stream",
     "text": [
      "\r",
      "\u001b[2K     \u001b[91m━━━━━━━━━━━━━━━━━━━━━━━━━━━━━━━━━━━━\u001b[0m\u001b[91m╸\u001b[0m \u001b[32m776.3/776.4 MB\u001b[0m \u001b[31m232.3 MB/s\u001b[0m eta \u001b[36m0:00:01\u001b[0m"
     ]
    },
    {
     "name": "stdout",
     "output_type": "stream",
     "text": [
      "\r",
      "\u001b[2K     \u001b[91m━━━━━━━━━━━━━━━━━━━━━━━━━━━━━━━━━━━━\u001b[0m\u001b[91m╸\u001b[0m \u001b[32m776.3/776.4 MB\u001b[0m \u001b[31m232.3 MB/s\u001b[0m eta \u001b[36m0:00:01\u001b[0m\r",
      "\u001b[2K     \u001b[91m━━━━━━━━━━━━━━━━━━━━━━━━━━━━━━━━━━━━\u001b[0m\u001b[91m╸\u001b[0m \u001b[32m776.3/776.4 MB\u001b[0m \u001b[31m232.3 MB/s\u001b[0m eta \u001b[36m0:00:01\u001b[0m"
     ]
    },
    {
     "name": "stdout",
     "output_type": "stream",
     "text": [
      "\r",
      "\u001b[2K     \u001b[91m━━━━━━━━━━━━━━━━━━━━━━━━━━━━━━━━━━━━\u001b[0m\u001b[91m╸\u001b[0m \u001b[32m776.3/776.4 MB\u001b[0m \u001b[31m232.3 MB/s\u001b[0m eta \u001b[36m0:00:01\u001b[0m"
     ]
    },
    {
     "name": "stdout",
     "output_type": "stream",
     "text": [
      "\r",
      "\u001b[2K     \u001b[91m━━━━━━━━━━━━━━━━━━━━━━━━━━━━━━━━━━━━\u001b[0m\u001b[91m╸\u001b[0m \u001b[32m776.3/776.4 MB\u001b[0m \u001b[31m232.3 MB/s\u001b[0m eta \u001b[36m0:00:01\u001b[0m\r",
      "\u001b[2K     \u001b[91m━━━━━━━━━━━━━━━━━━━━━━━━━━━━━━━━━━━━\u001b[0m\u001b[91m╸\u001b[0m \u001b[32m776.3/776.4 MB\u001b[0m \u001b[31m232.3 MB/s\u001b[0m eta \u001b[36m0:00:01\u001b[0m"
     ]
    },
    {
     "name": "stdout",
     "output_type": "stream",
     "text": [
      "\r",
      "\u001b[2K     \u001b[91m━━━━━━━━━━━━━━━━━━━━━━━━━━━━━━━━━━━━\u001b[0m\u001b[91m╸\u001b[0m \u001b[32m776.3/776.4 MB\u001b[0m \u001b[31m232.3 MB/s\u001b[0m eta \u001b[36m0:00:01\u001b[0m"
     ]
    },
    {
     "name": "stdout",
     "output_type": "stream",
     "text": [
      "\r",
      "\u001b[2K     \u001b[91m━━━━━━━━━━━━━━━━━━━━━━━━━━━━━━━━━━━━\u001b[0m\u001b[91m╸\u001b[0m \u001b[32m776.3/776.4 MB\u001b[0m \u001b[31m232.3 MB/s\u001b[0m eta \u001b[36m0:00:01\u001b[0m\r",
      "\u001b[2K     \u001b[91m━━━━━━━━━━━━━━━━━━━━━━━━━━━━━━━━━━━━\u001b[0m\u001b[91m╸\u001b[0m \u001b[32m776.3/776.4 MB\u001b[0m \u001b[31m232.3 MB/s\u001b[0m eta \u001b[36m0:00:01\u001b[0m"
     ]
    },
    {
     "name": "stdout",
     "output_type": "stream",
     "text": [
      "\r",
      "\u001b[2K     \u001b[91m━━━━━━━━━━━━━━━━━━━━━━━━━━━━━━━━━━━━\u001b[0m\u001b[91m╸\u001b[0m \u001b[32m776.3/776.4 MB\u001b[0m \u001b[31m232.3 MB/s\u001b[0m eta \u001b[36m0:00:01\u001b[0m"
     ]
    },
    {
     "name": "stdout",
     "output_type": "stream",
     "text": [
      "\r",
      "\u001b[2K     \u001b[91m━━━━━━━━━━━━━━━━━━━━━━━━━━━━━━━━━━━━\u001b[0m\u001b[91m╸\u001b[0m \u001b[32m776.3/776.4 MB\u001b[0m \u001b[31m232.3 MB/s\u001b[0m eta \u001b[36m0:00:01\u001b[0m\r",
      "\u001b[2K     \u001b[91m━━━━━━━━━━━━━━━━━━━━━━━━━━━━━━━━━━━━\u001b[0m\u001b[91m╸\u001b[0m \u001b[32m776.3/776.4 MB\u001b[0m \u001b[31m232.3 MB/s\u001b[0m eta \u001b[36m0:00:01\u001b[0m"
     ]
    },
    {
     "name": "stdout",
     "output_type": "stream",
     "text": [
      "\r",
      "\u001b[2K     \u001b[91m━━━━━━━━━━━━━━━━━━━━━━━━━━━━━━━━━━━━\u001b[0m\u001b[91m╸\u001b[0m \u001b[32m776.3/776.4 MB\u001b[0m \u001b[31m232.3 MB/s\u001b[0m eta \u001b[36m0:00:01\u001b[0m"
     ]
    },
    {
     "name": "stdout",
     "output_type": "stream",
     "text": [
      "\r",
      "\u001b[2K     \u001b[91m━━━━━━━━━━━━━━━━━━━━━━━━━━━━━━━━━━━━\u001b[0m\u001b[91m╸\u001b[0m \u001b[32m776.3/776.4 MB\u001b[0m \u001b[31m232.3 MB/s\u001b[0m eta \u001b[36m0:00:01\u001b[0m"
     ]
    },
    {
     "name": "stdout",
     "output_type": "stream",
     "text": [
      "\r",
      "\u001b[2K     \u001b[91m━━━━━━━━━━━━━━━━━━━━━━━━━━━━━━━━━━━━\u001b[0m\u001b[91m╸\u001b[0m \u001b[32m776.3/776.4 MB\u001b[0m \u001b[31m232.3 MB/s\u001b[0m eta \u001b[36m0:00:01\u001b[0m\r",
      "\u001b[2K     \u001b[91m━━━━━━━━━━━━━━━━━━━━━━━━━━━━━━━━━━━━\u001b[0m\u001b[91m╸\u001b[0m \u001b[32m776.3/776.4 MB\u001b[0m \u001b[31m232.3 MB/s\u001b[0m eta \u001b[36m0:00:01\u001b[0m"
     ]
    },
    {
     "name": "stdout",
     "output_type": "stream",
     "text": [
      "\r",
      "\u001b[2K     \u001b[91m━━━━━━━━━━━━━━━━━━━━━━━━━━━━━━━━━━━━\u001b[0m\u001b[91m╸\u001b[0m \u001b[32m776.3/776.4 MB\u001b[0m \u001b[31m232.3 MB/s\u001b[0m eta \u001b[36m0:00:01\u001b[0m"
     ]
    },
    {
     "name": "stdout",
     "output_type": "stream",
     "text": [
      "\r",
      "\u001b[2K     \u001b[91m━━━━━━━━━━━━━━━━━━━━━━━━━━━━━━━━━━━━\u001b[0m\u001b[91m╸\u001b[0m \u001b[32m776.3/776.4 MB\u001b[0m \u001b[31m232.3 MB/s\u001b[0m eta \u001b[36m0:00:01\u001b[0m\r",
      "\u001b[2K     \u001b[91m━━━━━━━━━━━━━━━━━━━━━━━━━━━━━━━━━━━━\u001b[0m\u001b[91m╸\u001b[0m \u001b[32m776.3/776.4 MB\u001b[0m \u001b[31m232.3 MB/s\u001b[0m eta \u001b[36m0:00:01\u001b[0m"
     ]
    },
    {
     "name": "stdout",
     "output_type": "stream",
     "text": [
      "\r",
      "\u001b[2K     \u001b[91m━━━━━━━━━━━━━━━━━━━━━━━━━━━━━━━━━━━━\u001b[0m\u001b[91m╸\u001b[0m \u001b[32m776.3/776.4 MB\u001b[0m \u001b[31m232.3 MB/s\u001b[0m eta \u001b[36m0:00:01\u001b[0m"
     ]
    },
    {
     "name": "stdout",
     "output_type": "stream",
     "text": [
      "\r",
      "\u001b[2K     \u001b[91m━━━━━━━━━━━━━━━━━━━━━━━━━━━━━━━━━━━━\u001b[0m\u001b[91m╸\u001b[0m \u001b[32m776.3/776.4 MB\u001b[0m \u001b[31m232.3 MB/s\u001b[0m eta \u001b[36m0:00:01\u001b[0m\r",
      "\u001b[2K     \u001b[91m━━━━━━━━━━━━━━━━━━━━━━━━━━━━━━━━━━━━\u001b[0m\u001b[91m╸\u001b[0m \u001b[32m776.3/776.4 MB\u001b[0m \u001b[31m232.3 MB/s\u001b[0m eta \u001b[36m0:00:01\u001b[0m"
     ]
    },
    {
     "name": "stdout",
     "output_type": "stream",
     "text": [
      "\r",
      "\u001b[2K     \u001b[91m━━━━━━━━━━━━━━━━━━━━━━━━━━━━━━━━━━━━\u001b[0m\u001b[91m╸\u001b[0m \u001b[32m776.3/776.4 MB\u001b[0m \u001b[31m232.3 MB/s\u001b[0m eta \u001b[36m0:00:01\u001b[0m"
     ]
    },
    {
     "name": "stdout",
     "output_type": "stream",
     "text": [
      "\r",
      "\u001b[2K     \u001b[91m━━━━━━━━━━━━━━━━━━━━━━━━━━━━━━━━━━━━\u001b[0m\u001b[91m╸\u001b[0m \u001b[32m776.3/776.4 MB\u001b[0m \u001b[31m232.3 MB/s\u001b[0m eta \u001b[36m0:00:01\u001b[0m"
     ]
    },
    {
     "name": "stdout",
     "output_type": "stream",
     "text": [
      "\r",
      "\u001b[2K     \u001b[91m━━━━━━━━━━━━━━━━━━━━━━━━━━━━━━━━━━━━\u001b[0m\u001b[91m╸\u001b[0m \u001b[32m776.3/776.4 MB\u001b[0m \u001b[31m232.3 MB/s\u001b[0m eta \u001b[36m0:00:01\u001b[0m\r",
      "\u001b[2K     \u001b[91m━━━━━━━━━━━━━━━━━━━━━━━━━━━━━━━━━━━━\u001b[0m\u001b[91m╸\u001b[0m \u001b[32m776.3/776.4 MB\u001b[0m \u001b[31m232.3 MB/s\u001b[0m eta \u001b[36m0:00:01\u001b[0m"
     ]
    },
    {
     "name": "stdout",
     "output_type": "stream",
     "text": [
      "\r",
      "\u001b[2K     \u001b[91m━━━━━━━━━━━━━━━━━━━━━━━━━━━━━━━━━━━━\u001b[0m\u001b[91m╸\u001b[0m \u001b[32m776.3/776.4 MB\u001b[0m \u001b[31m232.3 MB/s\u001b[0m eta \u001b[36m0:00:01\u001b[0m"
     ]
    },
    {
     "name": "stdout",
     "output_type": "stream",
     "text": [
      "\r",
      "\u001b[2K     \u001b[91m━━━━━━━━━━━━━━━━━━━━━━━━━━━━━━━━━━━━\u001b[0m\u001b[91m╸\u001b[0m \u001b[32m776.3/776.4 MB\u001b[0m \u001b[31m232.3 MB/s\u001b[0m eta \u001b[36m0:00:01\u001b[0m\r",
      "\u001b[2K     \u001b[91m━━━━━━━━━━━━━━━━━━━━━━━━━━━━━━━━━━━━\u001b[0m\u001b[91m╸\u001b[0m \u001b[32m776.3/776.4 MB\u001b[0m \u001b[31m232.3 MB/s\u001b[0m eta \u001b[36m0:00:01\u001b[0m"
     ]
    },
    {
     "name": "stdout",
     "output_type": "stream",
     "text": [
      "\r",
      "\u001b[2K     \u001b[91m━━━━━━━━━━━━━━━━━━━━━━━━━━━━━━━━━━━━\u001b[0m\u001b[91m╸\u001b[0m \u001b[32m776.3/776.4 MB\u001b[0m \u001b[31m232.3 MB/s\u001b[0m eta \u001b[36m0:00:01\u001b[0m"
     ]
    },
    {
     "name": "stdout",
     "output_type": "stream",
     "text": [
      "\r",
      "\u001b[2K     \u001b[91m━━━━━━━━━━━━━━━━━━━━━━━━━━━━━━━━━━━━\u001b[0m\u001b[91m╸\u001b[0m \u001b[32m776.3/776.4 MB\u001b[0m \u001b[31m232.3 MB/s\u001b[0m eta \u001b[36m0:00:01\u001b[0m\r",
      "\u001b[2K     \u001b[91m━━━━━━━━━━━━━━━━━━━━━━━━━━━━━━━━━━━━\u001b[0m\u001b[91m╸\u001b[0m \u001b[32m776.3/776.4 MB\u001b[0m \u001b[31m232.3 MB/s\u001b[0m eta \u001b[36m0:00:01\u001b[0m"
     ]
    },
    {
     "name": "stdout",
     "output_type": "stream",
     "text": [
      "\r",
      "\u001b[2K     \u001b[91m━━━━━━━━━━━━━━━━━━━━━━━━━━━━━━━━━━━━\u001b[0m\u001b[91m╸\u001b[0m \u001b[32m776.3/776.4 MB\u001b[0m \u001b[31m232.3 MB/s\u001b[0m eta \u001b[36m0:00:01\u001b[0m"
     ]
    },
    {
     "name": "stdout",
     "output_type": "stream",
     "text": [
      "\r",
      "\u001b[2K     \u001b[91m━━━━━━━━━━━━━━━━━━━━━━━━━━━━━━━━━━━━\u001b[0m\u001b[91m╸\u001b[0m \u001b[32m776.3/776.4 MB\u001b[0m \u001b[31m232.3 MB/s\u001b[0m eta \u001b[36m0:00:01\u001b[0m"
     ]
    },
    {
     "name": "stdout",
     "output_type": "stream",
     "text": [
      "\r",
      "\u001b[2K     \u001b[91m━━━━━━━━━━━━━━━━━━━━━━━━━━━━━━━━━━━━\u001b[0m\u001b[91m╸\u001b[0m \u001b[32m776.3/776.4 MB\u001b[0m \u001b[31m232.3 MB/s\u001b[0m eta \u001b[36m0:00:01\u001b[0m\r",
      "\u001b[2K     \u001b[91m━━━━━━━━━━━━━━━━━━━━━━━━━━━━━━━━━━━━\u001b[0m\u001b[91m╸\u001b[0m \u001b[32m776.3/776.4 MB\u001b[0m \u001b[31m232.3 MB/s\u001b[0m eta \u001b[36m0:00:01\u001b[0m"
     ]
    },
    {
     "name": "stdout",
     "output_type": "stream",
     "text": [
      "\r",
      "\u001b[2K     \u001b[91m━━━━━━━━━━━━━━━━━━━━━━━━━━━━━━━━━━━━\u001b[0m\u001b[91m╸\u001b[0m \u001b[32m776.3/776.4 MB\u001b[0m \u001b[31m232.3 MB/s\u001b[0m eta \u001b[36m0:00:01\u001b[0m"
     ]
    },
    {
     "name": "stdout",
     "output_type": "stream",
     "text": [
      "\r",
      "\u001b[2K     \u001b[91m━━━━━━━━━━━━━━━━━━━━━━━━━━━━━━━━━━━━\u001b[0m\u001b[91m╸\u001b[0m \u001b[32m776.3/776.4 MB\u001b[0m \u001b[31m232.3 MB/s\u001b[0m eta \u001b[36m0:00:01\u001b[0m\r",
      "\u001b[2K     \u001b[91m━━━━━━━━━━━━━━━━━━━━━━━━━━━━━━━━━━━━\u001b[0m\u001b[91m╸\u001b[0m \u001b[32m776.3/776.4 MB\u001b[0m \u001b[31m232.3 MB/s\u001b[0m eta \u001b[36m0:00:01\u001b[0m"
     ]
    },
    {
     "name": "stdout",
     "output_type": "stream",
     "text": [
      "\r",
      "\u001b[2K     \u001b[91m━━━━━━━━━━━━━━━━━━━━━━━━━━━━━━━━━━━━\u001b[0m\u001b[91m╸\u001b[0m \u001b[32m776.3/776.4 MB\u001b[0m \u001b[31m232.3 MB/s\u001b[0m eta \u001b[36m0:00:01\u001b[0m"
     ]
    },
    {
     "name": "stdout",
     "output_type": "stream",
     "text": [
      "\r",
      "\u001b[2K     \u001b[91m━━━━━━━━━━━━━━━━━━━━━━━━━━━━━━━━━━━━\u001b[0m\u001b[91m╸\u001b[0m \u001b[32m776.3/776.4 MB\u001b[0m \u001b[31m232.3 MB/s\u001b[0m eta \u001b[36m0:00:01\u001b[0m\r",
      "\u001b[2K     \u001b[91m━━━━━━━━━━━━━━━━━━━━━━━━━━━━━━━━━━━━\u001b[0m\u001b[91m╸\u001b[0m \u001b[32m776.3/776.4 MB\u001b[0m \u001b[31m232.3 MB/s\u001b[0m eta \u001b[36m0:00:01\u001b[0m"
     ]
    },
    {
     "name": "stdout",
     "output_type": "stream",
     "text": [
      "\r",
      "\u001b[2K     \u001b[91m━━━━━━━━━━━━━━━━━━━━━━━━━━━━━━━━━━━━\u001b[0m\u001b[91m╸\u001b[0m \u001b[32m776.3/776.4 MB\u001b[0m \u001b[31m232.3 MB/s\u001b[0m eta \u001b[36m0:00:01\u001b[0m"
     ]
    },
    {
     "name": "stdout",
     "output_type": "stream",
     "text": [
      "\r",
      "\u001b[2K     \u001b[91m━━━━━━━━━━━━━━━━━━━━━━━━━━━━━━━━━━━━\u001b[0m\u001b[91m╸\u001b[0m \u001b[32m776.3/776.4 MB\u001b[0m \u001b[31m232.3 MB/s\u001b[0m eta \u001b[36m0:00:01\u001b[0m"
     ]
    },
    {
     "name": "stdout",
     "output_type": "stream",
     "text": [
      "\r",
      "\u001b[2K     \u001b[91m━━━━━━━━━━━━━━━━━━━━━━━━━━━━━━━━━━━━\u001b[0m\u001b[91m╸\u001b[0m \u001b[32m776.3/776.4 MB\u001b[0m \u001b[31m232.3 MB/s\u001b[0m eta \u001b[36m0:00:01\u001b[0m\r",
      "\u001b[2K     \u001b[91m━━━━━━━━━━━━━━━━━━━━━━━━━━━━━━━━━━━━\u001b[0m\u001b[91m╸\u001b[0m \u001b[32m776.3/776.4 MB\u001b[0m \u001b[31m232.3 MB/s\u001b[0m eta \u001b[36m0:00:01\u001b[0m"
     ]
    },
    {
     "name": "stdout",
     "output_type": "stream",
     "text": [
      "\r",
      "\u001b[2K     \u001b[91m━━━━━━━━━━━━━━━━━━━━━━━━━━━━━━━━━━━━\u001b[0m\u001b[91m╸\u001b[0m \u001b[32m776.3/776.4 MB\u001b[0m \u001b[31m232.3 MB/s\u001b[0m eta \u001b[36m0:00:01\u001b[0m"
     ]
    },
    {
     "name": "stdout",
     "output_type": "stream",
     "text": [
      "\r",
      "\u001b[2K     \u001b[91m━━━━━━━━━━━━━━━━━━━━━━━━━━━━━━━━━━━━\u001b[0m\u001b[91m╸\u001b[0m \u001b[32m776.3/776.4 MB\u001b[0m \u001b[31m232.3 MB/s\u001b[0m eta \u001b[36m0:00:01\u001b[0m\r",
      "\u001b[2K     \u001b[91m━━━━━━━━━━━━━━━━━━━━━━━━━━━━━━━━━━━━\u001b[0m\u001b[91m╸\u001b[0m \u001b[32m776.3/776.4 MB\u001b[0m \u001b[31m232.3 MB/s\u001b[0m eta \u001b[36m0:00:01\u001b[0m"
     ]
    },
    {
     "name": "stdout",
     "output_type": "stream",
     "text": [
      "\r",
      "\u001b[2K     \u001b[91m━━━━━━━━━━━━━━━━━━━━━━━━━━━━━━━━━━━━\u001b[0m\u001b[91m╸\u001b[0m \u001b[32m776.3/776.4 MB\u001b[0m \u001b[31m232.3 MB/s\u001b[0m eta \u001b[36m0:00:01\u001b[0m"
     ]
    },
    {
     "name": "stdout",
     "output_type": "stream",
     "text": [
      "\r",
      "\u001b[2K     \u001b[91m━━━━━━━━━━━━━━━━━━━━━━━━━━━━━━━━━━━━\u001b[0m\u001b[91m╸\u001b[0m \u001b[32m776.3/776.4 MB\u001b[0m \u001b[31m232.3 MB/s\u001b[0m eta \u001b[36m0:00:01\u001b[0m\r",
      "\u001b[2K     \u001b[91m━━━━━━━━━━━━━━━━━━━━━━━━━━━━━━━━━━━━\u001b[0m\u001b[91m╸\u001b[0m \u001b[32m776.3/776.4 MB\u001b[0m \u001b[31m232.3 MB/s\u001b[0m eta \u001b[36m0:00:01\u001b[0m"
     ]
    },
    {
     "name": "stdout",
     "output_type": "stream",
     "text": [
      "\r",
      "\u001b[2K     \u001b[91m━━━━━━━━━━━━━━━━━━━━━━━━━━━━━━━━━━━━\u001b[0m\u001b[91m╸\u001b[0m \u001b[32m776.3/776.4 MB\u001b[0m \u001b[31m232.3 MB/s\u001b[0m eta \u001b[36m0:00:01\u001b[0m"
     ]
    },
    {
     "name": "stdout",
     "output_type": "stream",
     "text": [
      "\r",
      "\u001b[2K     \u001b[91m━━━━━━━━━━━━━━━━━━━━━━━━━━━━━━━━━━━━\u001b[0m\u001b[91m╸\u001b[0m \u001b[32m776.3/776.4 MB\u001b[0m \u001b[31m232.3 MB/s\u001b[0m eta \u001b[36m0:00:01\u001b[0m\r",
      "\u001b[2K     \u001b[91m━━━━━━━━━━━━━━━━━━━━━━━━━━━━━━━━━━━━\u001b[0m\u001b[91m╸\u001b[0m \u001b[32m776.3/776.4 MB\u001b[0m \u001b[31m232.3 MB/s\u001b[0m eta \u001b[36m0:00:01\u001b[0m"
     ]
    },
    {
     "name": "stdout",
     "output_type": "stream",
     "text": [
      "\r",
      "\u001b[2K     \u001b[91m━━━━━━━━━━━━━━━━━━━━━━━━━━━━━━━━━━━━\u001b[0m\u001b[91m╸\u001b[0m \u001b[32m776.3/776.4 MB\u001b[0m \u001b[31m232.3 MB/s\u001b[0m eta \u001b[36m0:00:01\u001b[0m"
     ]
    },
    {
     "name": "stdout",
     "output_type": "stream",
     "text": [
      "\r",
      "\u001b[2K     \u001b[91m━━━━━━━━━━━━━━━━━━━━━━━━━━━━━━━━━━━━\u001b[0m\u001b[91m╸\u001b[0m \u001b[32m776.3/776.4 MB\u001b[0m \u001b[31m232.3 MB/s\u001b[0m eta \u001b[36m0:00:01\u001b[0m"
     ]
    },
    {
     "name": "stdout",
     "output_type": "stream",
     "text": [
      "\r",
      "\u001b[2K     \u001b[91m━━━━━━━━━━━━━━━━━━━━━━━━━━━━━━━━━━━━\u001b[0m\u001b[91m╸\u001b[0m \u001b[32m776.3/776.4 MB\u001b[0m \u001b[31m232.3 MB/s\u001b[0m eta \u001b[36m0:00:01\u001b[0m\r",
      "\u001b[2K     \u001b[91m━━━━━━━━━━━━━━━━━━━━━━━━━━━━━━━━━━━━\u001b[0m\u001b[91m╸\u001b[0m \u001b[32m776.3/776.4 MB\u001b[0m \u001b[31m232.3 MB/s\u001b[0m eta \u001b[36m0:00:01\u001b[0m"
     ]
    },
    {
     "name": "stdout",
     "output_type": "stream",
     "text": [
      "\r",
      "\u001b[2K     \u001b[91m━━━━━━━━━━━━━━━━━━━━━━━━━━━━━━━━━━━━\u001b[0m\u001b[91m╸\u001b[0m \u001b[32m776.3/776.4 MB\u001b[0m \u001b[31m232.3 MB/s\u001b[0m eta \u001b[36m0:00:01\u001b[0m"
     ]
    },
    {
     "name": "stdout",
     "output_type": "stream",
     "text": [
      "\r",
      "\u001b[2K     \u001b[91m━━━━━━━━━━━━━━━━━━━━━━━━━━━━━━━━━━━━\u001b[0m\u001b[91m╸\u001b[0m \u001b[32m776.3/776.4 MB\u001b[0m \u001b[31m232.3 MB/s\u001b[0m eta \u001b[36m0:00:01\u001b[0m"
     ]
    },
    {
     "name": "stdout",
     "output_type": "stream",
     "text": [
      "\r",
      "\u001b[2K     \u001b[91m━━━━━━━━━━━━━━━━━━━━━━━━━━━━━━━━━━━━\u001b[0m\u001b[91m╸\u001b[0m \u001b[32m776.3/776.4 MB\u001b[0m \u001b[31m232.3 MB/s\u001b[0m eta \u001b[36m0:00:01\u001b[0m\r",
      "\u001b[2K     \u001b[90m━━━━━━━━━━━━━━━━━━━━━━━━━━━━━━━━━━━━━\u001b[0m \u001b[32m776.4/776.4 MB\u001b[0m \u001b[31m378.7 kB/s\u001b[0m eta \u001b[36m0:00:00\u001b[0m\r\n",
      "\u001b[?25h"
     ]
    },
    {
     "name": "stdout",
     "output_type": "stream",
     "text": [
      "Collecting torchvision\r\n",
      "  Downloading torchvision-0.13.1-cp39-cp39-manylinux1_x86_64.whl (19.1 MB)\r\n",
      "\u001b[?25l     \u001b[90m━━━━━━━━━━━━━━━━━━━━━━━━━━━━━━━━━━━━━━━━\u001b[0m \u001b[32m0.0/19.1 MB\u001b[0m \u001b[31m?\u001b[0m eta \u001b[36m-:--:--\u001b[0m"
     ]
    },
    {
     "name": "stdout",
     "output_type": "stream",
     "text": [
      "\r",
      "\u001b[2K     \u001b[91m━━━━━━━━━━\u001b[0m\u001b[90m╺\u001b[0m\u001b[90m━━━━━━━━━━━━━━━━━━━━━━━━━━━━━\u001b[0m \u001b[32m5.0/19.1 MB\u001b[0m \u001b[31m150.0 MB/s\u001b[0m eta \u001b[36m0:00:01\u001b[0m"
     ]
    },
    {
     "name": "stdout",
     "output_type": "stream",
     "text": [
      "\r",
      "\u001b[2K     \u001b[91m━━━━━━━━━━━━━━━━━━━━━\u001b[0m\u001b[90m╺\u001b[0m\u001b[90m━━━━━━━━━━━━━━━━━\u001b[0m \u001b[32m10.4/19.1 MB\u001b[0m \u001b[31m151.2 MB/s\u001b[0m eta \u001b[36m0:00:01\u001b[0m\r",
      "\u001b[2K     \u001b[91m━━━━━━━━━━━━━━━━━━━━━━━━━━━━━━━━━\u001b[0m\u001b[91m╸\u001b[0m\u001b[90m━━━━━\u001b[0m \u001b[32m16.5/19.1 MB\u001b[0m \u001b[31m159.6 MB/s\u001b[0m eta \u001b[36m0:00:01\u001b[0m"
     ]
    },
    {
     "name": "stdout",
     "output_type": "stream",
     "text": [
      "\r",
      "\u001b[2K     \u001b[91m━━━━━━━━━━━━━━━━━━━━━━━━━━━━━━━━━━━━━━\u001b[0m\u001b[91m╸\u001b[0m \u001b[32m19.1/19.1 MB\u001b[0m \u001b[31m168.2 MB/s\u001b[0m eta \u001b[36m0:00:01\u001b[0m"
     ]
    },
    {
     "name": "stdout",
     "output_type": "stream",
     "text": [
      "\r",
      "\u001b[2K     \u001b[91m━━━━━━━━━━━━━━━━━━━━━━━━━━━━━━━━━━━━━━\u001b[0m\u001b[91m╸\u001b[0m \u001b[32m19.1/19.1 MB\u001b[0m \u001b[31m168.2 MB/s\u001b[0m eta \u001b[36m0:00:01\u001b[0m"
     ]
    },
    {
     "name": "stdout",
     "output_type": "stream",
     "text": [
      "\r",
      "\u001b[2K     \u001b[91m━━━━━━━━━━━━━━━━━━━━━━━━━━━━━━━━━━━━━━\u001b[0m\u001b[91m╸\u001b[0m \u001b[32m19.1/19.1 MB\u001b[0m \u001b[31m168.2 MB/s\u001b[0m eta \u001b[36m0:00:01\u001b[0m\r",
      "\u001b[2K     \u001b[91m━━━━━━━━━━━━━━━━━━━━━━━━━━━━━━━━━━━━━━\u001b[0m\u001b[91m╸\u001b[0m \u001b[32m19.1/19.1 MB\u001b[0m \u001b[31m168.2 MB/s\u001b[0m eta \u001b[36m0:00:01\u001b[0m"
     ]
    },
    {
     "name": "stdout",
     "output_type": "stream",
     "text": [
      "\r",
      "\u001b[2K     \u001b[91m━━━━━━━━━━━━━━━━━━━━━━━━━━━━━━━━━━━━━━\u001b[0m\u001b[91m╸\u001b[0m \u001b[32m19.1/19.1 MB\u001b[0m \u001b[31m168.2 MB/s\u001b[0m eta \u001b[36m0:00:01\u001b[0m"
     ]
    },
    {
     "name": "stdout",
     "output_type": "stream",
     "text": [
      "\r",
      "\u001b[2K     \u001b[91m━━━━━━━━━━━━━━━━━━━━━━━━━━━━━━━━━━━━━━\u001b[0m\u001b[91m╸\u001b[0m \u001b[32m19.1/19.1 MB\u001b[0m \u001b[31m168.2 MB/s\u001b[0m eta \u001b[36m0:00:01\u001b[0m\r",
      "\u001b[2K     \u001b[91m━━━━━━━━━━━━━━━━━━━━━━━━━━━━━━━━━━━━━━\u001b[0m\u001b[91m╸\u001b[0m \u001b[32m19.1/19.1 MB\u001b[0m \u001b[31m168.2 MB/s\u001b[0m eta \u001b[36m0:00:01\u001b[0m"
     ]
    },
    {
     "name": "stdout",
     "output_type": "stream",
     "text": [
      "\r",
      "\u001b[2K     \u001b[91m━━━━━━━━━━━━━━━━━━━━━━━━━━━━━━━━━━━━━━\u001b[0m\u001b[91m╸\u001b[0m \u001b[32m19.1/19.1 MB\u001b[0m \u001b[31m168.2 MB/s\u001b[0m eta \u001b[36m0:00:01\u001b[0m"
     ]
    },
    {
     "name": "stdout",
     "output_type": "stream",
     "text": [
      "\r",
      "\u001b[2K     \u001b[91m━━━━━━━━━━━━━━━━━━━━━━━━━━━━━━━━━━━━━━\u001b[0m\u001b[91m╸\u001b[0m \u001b[32m19.1/19.1 MB\u001b[0m \u001b[31m168.2 MB/s\u001b[0m eta \u001b[36m0:00:01\u001b[0m"
     ]
    },
    {
     "name": "stdout",
     "output_type": "stream",
     "text": [
      "\r",
      "\u001b[2K     \u001b[91m━━━━━━━━━━━━━━━━━━━━━━━━━━━━━━━━━━━━━━\u001b[0m\u001b[91m╸\u001b[0m \u001b[32m19.1/19.1 MB\u001b[0m \u001b[31m168.2 MB/s\u001b[0m eta \u001b[36m0:00:01\u001b[0m\r",
      "\u001b[2K     \u001b[91m━━━━━━━━━━━━━━━━━━━━━━━━━━━━━━━━━━━━━━\u001b[0m\u001b[91m╸\u001b[0m \u001b[32m19.1/19.1 MB\u001b[0m \u001b[31m168.2 MB/s\u001b[0m eta \u001b[36m0:00:01\u001b[0m"
     ]
    },
    {
     "name": "stdout",
     "output_type": "stream",
     "text": [
      "\r",
      "\u001b[2K     \u001b[91m━━━━━━━━━━━━━━━━━━━━━━━━━━━━━━━━━━━━━━\u001b[0m\u001b[91m╸\u001b[0m \u001b[32m19.1/19.1 MB\u001b[0m \u001b[31m168.2 MB/s\u001b[0m eta \u001b[36m0:00:01\u001b[0m"
     ]
    },
    {
     "name": "stdout",
     "output_type": "stream",
     "text": [
      "\r",
      "\u001b[2K     \u001b[91m━━━━━━━━━━━━━━━━━━━━━━━━━━━━━━━━━━━━━━\u001b[0m\u001b[91m╸\u001b[0m \u001b[32m19.1/19.1 MB\u001b[0m \u001b[31m168.2 MB/s\u001b[0m eta \u001b[36m0:00:01\u001b[0m\r",
      "\u001b[2K     \u001b[91m━━━━━━━━━━━━━━━━━━━━━━━━━━━━━━━━━━━━━━\u001b[0m\u001b[91m╸\u001b[0m \u001b[32m19.1/19.1 MB\u001b[0m \u001b[31m168.2 MB/s\u001b[0m eta \u001b[36m0:00:01\u001b[0m"
     ]
    },
    {
     "name": "stdout",
     "output_type": "stream",
     "text": [
      "\r",
      "\u001b[2K     \u001b[91m━━━━━━━━━━━━━━━━━━━━━━━━━━━━━━━━━━━━━━\u001b[0m\u001b[91m╸\u001b[0m \u001b[32m19.1/19.1 MB\u001b[0m \u001b[31m168.2 MB/s\u001b[0m eta \u001b[36m0:00:01\u001b[0m"
     ]
    },
    {
     "name": "stdout",
     "output_type": "stream",
     "text": [
      "\r",
      "\u001b[2K     \u001b[91m━━━━━━━━━━━━━━━━━━━━━━━━━━━━━━━━━━━━━━\u001b[0m\u001b[91m╸\u001b[0m \u001b[32m19.1/19.1 MB\u001b[0m \u001b[31m168.2 MB/s\u001b[0m eta \u001b[36m0:00:01\u001b[0m\r",
      "\u001b[2K     \u001b[91m━━━━━━━━━━━━━━━━━━━━━━━━━━━━━━━━━━━━━━\u001b[0m\u001b[91m╸\u001b[0m \u001b[32m19.1/19.1 MB\u001b[0m \u001b[31m168.2 MB/s\u001b[0m eta \u001b[36m0:00:01\u001b[0m"
     ]
    },
    {
     "name": "stdout",
     "output_type": "stream",
     "text": [
      "\r",
      "\u001b[2K     \u001b[91m━━━━━━━━━━━━━━━━━━━━━━━━━━━━━━━━━━━━━━\u001b[0m\u001b[91m╸\u001b[0m \u001b[32m19.1/19.1 MB\u001b[0m \u001b[31m168.2 MB/s\u001b[0m eta \u001b[36m0:00:01\u001b[0m"
     ]
    },
    {
     "name": "stdout",
     "output_type": "stream",
     "text": [
      "\r",
      "\u001b[2K     \u001b[91m━━━━━━━━━━━━━━━━━━━━━━━━━━━━━━━━━━━━━━\u001b[0m\u001b[91m╸\u001b[0m \u001b[32m19.1/19.1 MB\u001b[0m \u001b[31m168.2 MB/s\u001b[0m eta \u001b[36m0:00:01\u001b[0m"
     ]
    },
    {
     "name": "stdout",
     "output_type": "stream",
     "text": [
      "\r",
      "\u001b[2K     \u001b[91m━━━━━━━━━━━━━━━━━━━━━━━━━━━━━━━━━━━━━━\u001b[0m\u001b[91m╸\u001b[0m \u001b[32m19.1/19.1 MB\u001b[0m \u001b[31m168.2 MB/s\u001b[0m eta \u001b[36m0:00:01\u001b[0m\r",
      "\u001b[2K     \u001b[91m━━━━━━━━━━━━━━━━━━━━━━━━━━━━━━━━━━━━━━\u001b[0m\u001b[91m╸\u001b[0m \u001b[32m19.1/19.1 MB\u001b[0m \u001b[31m168.2 MB/s\u001b[0m eta \u001b[36m0:00:01\u001b[0m"
     ]
    },
    {
     "name": "stdout",
     "output_type": "stream",
     "text": [
      "\r",
      "\u001b[2K     \u001b[91m━━━━━━━━━━━━━━━━━━━━━━━━━━━━━━━━━━━━━━\u001b[0m\u001b[91m╸\u001b[0m \u001b[32m19.1/19.1 MB\u001b[0m \u001b[31m168.2 MB/s\u001b[0m eta \u001b[36m0:00:01\u001b[0m\r",
      "\u001b[2K     \u001b[90m━━━━━━━━━━━━━━━━━━━━━━━━━━━━━━━━━━━━━━━━\u001b[0m \u001b[32m19.1/19.1 MB\u001b[0m \u001b[31m12.0 MB/s\u001b[0m eta \u001b[36m0:00:00\u001b[0m\r\n",
      "\u001b[?25h"
     ]
    },
    {
     "name": "stdout",
     "output_type": "stream",
     "text": [
      "Requirement already satisfied: typing-extensions in /opt/conda/envs/edc-default-2022.10-14/lib/python3.9/site-packages (from torch) (4.4.0)\r\n"
     ]
    },
    {
     "name": "stdout",
     "output_type": "stream",
     "text": [
      "Requirement already satisfied: requests in /opt/conda/envs/edc-default-2022.10-14/lib/python3.9/site-packages (from torchvision) (2.28.1)\r\n",
      "Requirement already satisfied: pillow!=8.3.*,>=5.3.0 in /opt/conda/envs/edc-default-2022.10-14/lib/python3.9/site-packages (from torchvision) (9.2.0)\r\n",
      "Requirement already satisfied: numpy in /opt/conda/envs/edc-default-2022.10-14/lib/python3.9/site-packages (from torchvision) (1.23.3)\r\n",
      "Requirement already satisfied: certifi>=2017.4.17 in /opt/conda/envs/edc-default-2022.10-14/lib/python3.9/site-packages (from requests->torchvision) (2022.9.24)\r\n",
      "Requirement already satisfied: idna<4,>=2.5 in /opt/conda/envs/edc-default-2022.10-14/lib/python3.9/site-packages (from requests->torchvision) (3.4)\r\n",
      "Requirement already satisfied: urllib3<1.27,>=1.21.1 in /opt/conda/envs/edc-default-2022.10-14/lib/python3.9/site-packages (from requests->torchvision) (1.26.11)\r\n",
      "Requirement already satisfied: charset-normalizer<3,>=2 in /opt/conda/envs/edc-default-2022.10-14/lib/python3.9/site-packages (from requests->torchvision) (2.1.1)\r\n"
     ]
    },
    {
     "name": "stdout",
     "output_type": "stream",
     "text": [
      "Installing collected packages: torch, torchvision\r\n"
     ]
    },
    {
     "name": "stdout",
     "output_type": "stream",
     "text": [
      "Successfully installed torch-1.12.1 torchvision-0.13.1\r\n"
     ]
    }
   ],
   "source": [
    "import os\n",
    "import sys\n",
    "\n",
    "!{sys.executable} -m pip install torch torchvision\n",
    "os.environ['EDC_PATH'] + \"/notebooks/contributions/eurocrops-model\"\n",
    "sys.path.append(os.path.join(os.environ['EDC_PATH'] + \"/notebooks/contributions/eurocrops-model\"))"
   ]
  },
  {
   "cell_type": "code",
   "execution_count": 3,
   "id": "f22868cd-049e-4e60-b668-df242d18976e",
   "metadata": {
    "execution": {
     "iopub.execute_input": "2022-10-26T06:38:50.794650Z",
     "iopub.status.busy": "2022-10-26T06:38:50.794063Z",
     "iopub.status.idle": "2022-10-26T06:38:56.315063Z",
     "shell.execute_reply": "2022-10-26T06:38:56.314317Z"
    },
    "papermill": {
     "duration": 5.658526,
     "end_time": "2022-10-26T06:38:56.317204",
     "exception": false,
     "start_time": "2022-10-26T06:38:50.658678",
     "status": "completed"
    },
    "tags": []
   },
   "outputs": [],
   "source": [
    "import json\n",
    "import logging\n",
    "import sys\n",
    "import zipfile\n",
    "\n",
    "import geopandas as gpd\n",
    "import numpy as np\n",
    "import pandas as pd\n",
    "import subprocess\n",
    "from lstm import LSTM\n",
    "from polygon import PolyDataset\n",
    "from transforms import get_sample_n_timestamps\n",
    "from utils import test, train\n",
    "from sklearn.metrics import confusion_matrix\n",
    "from sklearn.model_selection import train_test_split\n",
    "from torch.optim import Adam\n",
    "from torch.utils.data import DataLoader\n",
    "\n",
    "from sentinelhub import parse_time"
   ]
  },
  {
   "cell_type": "markdown",
   "id": "fed6baf1",
   "metadata": {
    "papermill": {
     "duration": 0.063754,
     "end_time": "2022-10-26T06:38:56.438539",
     "exception": false,
     "start_time": "2022-10-26T06:38:56.374785",
     "status": "completed"
    },
    "tags": []
   },
   "source": [
    "## 0. Constants <a name=constants></a>\n",
    "\n",
    "This section initialises paths, constants and utility functions used in the notebook."
   ]
  },
  {
   "cell_type": "code",
   "execution_count": 4,
   "id": "eff171f7-d27b-4150-9fff-65ef5f456aba",
   "metadata": {
    "execution": {
     "iopub.execute_input": "2022-10-26T06:38:56.589596Z",
     "iopub.status.busy": "2022-10-26T06:38:56.589163Z",
     "iopub.status.idle": "2022-10-26T06:38:56.598522Z",
     "shell.execute_reply": "2022-10-26T06:38:56.597742Z"
    },
    "papermill": {
     "duration": 0.087683,
     "end_time": "2022-10-26T06:38:56.600173",
     "exception": false,
     "start_time": "2022-10-26T06:38:56.512490",
     "status": "completed"
    },
    "tags": []
   },
   "outputs": [],
   "source": [
    "# path to local folders, change as desired\n",
    "INPUT_FOLDER = \"./input\"\n",
    "RESULTS_FOLDER = \"./output\"\n",
    "\n",
    "# name of files and folders of downloaded signals, do not change\n",
    "DATAFILE = \"ml-example-data.zip\"\n",
    "DOWNLOAD_URL = f\"https://sinergise0-my.sharepoint.com/:u:/g/personal/nejc_vesel_sinergise_com/ETMx7NG-JHpBntNMJfnsCOMBVuEegDjYq8WtTmJYl8tZ-A?e=Ck5opE&download=1\"\n",
    "EUROCROPS_GPKG = \"input_geometries.gpkg\"\n",
    "SIGNALS_FOLDER = \"ml-example-signals\"\n",
    "\n",
    "\n",
    "# utility function to read json payload into a dataframe\n",
    "def stats_to_df(stats_data):\n",
    "    \"\"\"Transform Statistical API response into a pandas.DataFrame\"\"\"\n",
    "    df_data = []\n",
    "\n",
    "    for single_data in stats_data[\"data\"]:\n",
    "        df_entry = {}\n",
    "        is_valid_entry = True\n",
    "\n",
    "        df_entry[\"interval_from\"] = parse_time(single_data[\"interval\"][\"from\"]).date()\n",
    "        df_entry[\"interval_to\"] = parse_time(single_data[\"interval\"][\"to\"]).date()\n",
    "\n",
    "        for output_name, output_data in single_data[\"outputs\"].items():\n",
    "            for band_name, band_values in output_data[\"bands\"].items():\n",
    "                band_stats = band_values[\"stats\"]\n",
    "                if band_stats[\"sampleCount\"] == band_stats[\"noDataCount\"]:\n",
    "                    is_valid_entry = False\n",
    "                    break\n",
    "\n",
    "                for stat_name, value in band_stats.items():\n",
    "                    col_name = f\"{output_name}_{band_name}_{stat_name}\"\n",
    "                    if stat_name == \"percentiles\":\n",
    "                        for perc, perc_val in value.items():\n",
    "                            perc_col_name = f\"{col_name}_{perc}\"\n",
    "                            df_entry[perc_col_name] = perc_val\n",
    "                    else:\n",
    "                        df_entry[col_name] = value\n",
    "\n",
    "        if is_valid_entry:\n",
    "            df_data.append(df_entry)\n",
    "\n",
    "    return pd.DataFrame(df_data)\n",
    "\n",
    "\n",
    "# utility function to log training progress\n",
    "def define_logger(logger_name) -> logging.Logger:\n",
    "    logger = logging.getLogger(logger_name)\n",
    "    logger.setLevel(logging.INFO)\n",
    "    formatter = logging.Formatter(\"[%(asctime)s] {%(filename)s:%(lineno)d} %(levelname)s - %(message)s\")\n",
    "\n",
    "    stdout_handler = logging.StreamHandler(sys.stdout)\n",
    "    stdout_handler.setFormatter(formatter)\n",
    "    logger.addHandler(stdout_handler)\n",
    "    return logger"
   ]
  },
  {
   "cell_type": "markdown",
   "id": "cd2bdfad",
   "metadata": {
    "papermill": {
     "duration": 0.079657,
     "end_time": "2022-10-26T06:38:56.729479",
     "exception": false,
     "start_time": "2022-10-26T06:38:56.649822",
     "status": "completed"
    },
    "tags": []
   },
   "source": [
    "## 1. Retrieve signals and labels <a name=retrieve-signals></a>\n",
    "\n",
    "In this Section, signals are read from JSON files, while the labels used during model training are extracted from the Eurocrops dataset. For this notebook, sample files are provided and downloaded locally in the following cells. "
   ]
  },
  {
   "cell_type": "code",
   "execution_count": 5,
   "id": "bb9801c0",
   "metadata": {
    "execution": {
     "iopub.execute_input": "2022-10-26T06:38:56.906822Z",
     "iopub.status.busy": "2022-10-26T06:38:56.906413Z",
     "iopub.status.idle": "2022-10-26T06:38:56.910855Z",
     "shell.execute_reply": "2022-10-26T06:38:56.910195Z"
    },
    "papermill": {
     "duration": 0.113704,
     "end_time": "2022-10-26T06:38:56.912502",
     "exception": false,
     "start_time": "2022-10-26T06:38:56.798798",
     "status": "completed"
    },
    "tags": []
   },
   "outputs": [],
   "source": [
    "if not os.path.exists(INPUT_FOLDER):\n",
    "    os.mkdir(INPUT_FOLDER)"
   ]
  },
  {
   "cell_type": "code",
   "execution_count": 6,
   "id": "aeb2e4bb-f12a-44d4-b251-4ff7a6d39d0f",
   "metadata": {
    "execution": {
     "iopub.execute_input": "2022-10-26T06:38:57.056698Z",
     "iopub.status.busy": "2022-10-26T06:38:57.055965Z",
     "iopub.status.idle": "2022-10-26T06:38:58.879591Z",
     "shell.execute_reply": "2022-10-26T06:38:58.878596Z"
    },
    "papermill": {
     "duration": 1.902042,
     "end_time": "2022-10-26T06:38:58.881471",
     "exception": false,
     "start_time": "2022-10-26T06:38:56.979429",
     "status": "completed"
    },
    "tags": []
   },
   "outputs": [
    {
     "name": "stderr",
     "output_type": "stream",
     "text": [
      "--2022-10-26 01:38:57--  https://sinergise0-my.sharepoint.com/:u:/g/personal/nejc_vesel_sinergise_com/ETMx7NG-JHpBntNMJfnsCOMBVuEegDjYq8WtTmJYl8tZ-A?e=Ck5opE&download=1\n",
      "Resolving sinergise0-my.sharepoint.com (sinergise0-my.sharepoint.com)... 13.107.136.9, 13.107.138.9\n",
      "Connecting to sinergise0-my.sharepoint.com (sinergise0-my.sharepoint.com)|13.107.136.9|:443... connected.\n",
      "HTTP request sent, awaiting response... "
     ]
    },
    {
     "name": "stderr",
     "output_type": "stream",
     "text": [
      "302 Found\n",
      "Location: /personal/nejc_vesel_sinergise_com/Documents/ml-example-data.zip?ga=1 [following]\n",
      "--2022-10-26 01:38:57--  https://sinergise0-my.sharepoint.com/personal/nejc_vesel_sinergise_com/Documents/ml-example-data.zip?ga=1\n",
      "Reusing existing connection to sinergise0-my.sharepoint.com:443.\n",
      "HTTP request sent, awaiting response... "
     ]
    },
    {
     "name": "stderr",
     "output_type": "stream",
     "text": [
      "200 OK\n",
      "Length: 88085785 (84M) [application/x-zip-compressed]\n",
      "Saving to: ‘./input/ml-example-data.zip’\n",
      "\n",
      "     0K .......... .......... .......... .......... ..........  0% 6.85M 12s\n",
      "    50K .......... .......... .......... .......... ..........  0% 6.79M 12s\n",
      "   100K .......... .......... .......... .......... ..........  0% 6.55M 12s\n",
      "   150K .......... .......... .......... .......... ..........  0%  325M 9s\n",
      "   200K .......... .......... .......... .......... ..........  0% 7.45M 10s\n",
      "   250K .......... .......... .......... .......... ..........  0% 74.6M 8s\n",
      "   300K .......... .......... .......... .......... ..........  0%  108M 7s\n",
      "   350K .......... .......... .......... .......... ..........  0%  140M 6s\n",
      "   400K .......... .......... .......... .......... ..........  0% 8.56M 7s\n",
      "   450K .......... .......... .......... .......... ..........  0%  204M 6s\n",
      "   500K .......... .......... .......... .......... ..........  0%  347M 6s\n",
      "   550K .......... .......... .......... .......... ..........  0%  374M 5s\n",
      "   600K .......... .......... .......... .......... ..........  0% 5.68M 6s\n",
      "   650K .......... .......... .......... .......... ..........  0% 58.6M 6s\n",
      "   700K .......... .......... .......... .......... ..........  0%  129M 5s\n",
      "   750K .......... .......... .......... .......... ..........  0% 1.62M 8s\n",
      "   800K .......... .......... .......... .......... ..........  0% 63.7M 8s\n",
      "   850K .......... .......... .......... .......... ..........  1%  132M 7s\n",
      "   900K .......... .......... .......... .......... ..........  1%  112M 7s\n",
      "   950K .......... .......... .......... .......... ..........  1%  129M 7s\n",
      "  1000K .......... .......... .......... .......... ..........  1%  181M 6s\n",
      "  1050K .......... .......... .......... .......... ..........  1%  240M 6s\n",
      "  1100K .......... .......... .......... .......... ..........  1%  179M 6s\n",
      "  1150K .......... .......... .......... .......... ..........  1% 10.4M 6s\n",
      "  1200K .......... .......... .......... .......... ..........  1% 58.6M 6s\n",
      "  1250K .......... .......... .......... .......... ..........  1%  216M 6s\n",
      "  1300K .......... .......... .......... .......... ..........  1%  141M 5s\n",
      "  1350K .......... .......... .......... .......... ..........  1%  191M 5s\n",
      "  1400K .......... .......... .......... .......... ..........  1%  151M 5s\n",
      "  1450K .......... .......... .......... .......... ..........  1% 92.5M 5s\n",
      "  1500K .......... .......... .......... .......... ..........  1% 80.1M 5s\n",
      "  1550K .......... .......... .......... .......... ..........  1%  140M 5s\n",
      "  1600K .......... .......... .......... .......... ..........  1%  307M 4s\n",
      "  1650K .......... .......... .......... .......... ..........  1% 9.27M 5s\n",
      "  1700K .......... .......... .......... .......... ..........  2%  168M 4s\n",
      "  1750K .......... .......... .......... .......... ..........  2%  231M 4s\n",
      "  1800K .......... .......... .......... .......... ..........  2%  263M 4s\n",
      "  1850K .......... .......... .......... .......... ..........  2%  353M 4s\n",
      "  1900K .......... .......... .......... .......... ..........  2%  355M 4s\n",
      "  1950K .......... .......... .......... .......... ..........  2%  329M 4s\n",
      "  2000K .......... .......... .......... .......... ..........  2%  324M 4s\n",
      "  2050K .......... .......... .......... .......... ..........  2%  355M 4s\n",
      "  2100K .......... .......... .......... .......... ..........  2%  354M 4s\n",
      "  2150K .......... .......... .......... .......... ..........  2%  353M 4s\n",
      "  2200K .......... .......... .......... .......... ..........  2%  288M 4s\n",
      "  2250K .......... .......... .......... .......... ..........  2%  368M 3s\n",
      "  2300K .......... .......... .......... .......... ..........  2%  361M 3s\n",
      "  2350K .......... .......... .......... .......... ..........  2% 10.7M 3s\n",
      "  2400K .......... .......... .......... .......... ..........  2%  181M 3s\n",
      "  2450K .......... .......... .......... .......... ..........  2%  114M 3s\n",
      "  2500K .......... .......... .......... .......... ..........  2%  187M 3s\n",
      "  2550K .......... .......... .......... .......... ..........  3% 7.03M 3s\n",
      "  2600K .......... .......... .......... .......... ..........  3%  173M 3s\n",
      "  2650K .......... .......... .......... .......... ..........  3%  209M 3s\n",
      "  2700K .......... .......... .......... .......... ..........  3%  224M 3s\n",
      "  2750K .......... .......... .......... .......... ..........  3%  325M 3s\n",
      "  2800K .......... .......... .......... .......... ..........  3%  314M 3s\n",
      "  2850K .......... .......... .......... .......... ..........  3%  359M 3s\n",
      "  2900K .......... .......... .......... .......... ..........  3%  355M 3s\n",
      "  2950K .......... .......... .......... .......... ..........  3%  284M 3s\n",
      "  3000K .......... .......... .......... .......... ..........  3%  272M 3s\n",
      "  3050K .......... .......... .......... .......... ..........  3%  331M 3s\n",
      "  3100K .......... .......... .......... .......... ..........  3%  362M 3s\n",
      "  3150K .......... .......... .......... .......... ..........  3%  371M 3s\n",
      "  3200K .......... .......... .......... .......... ..........  3%  302M 3s\n",
      "  3250K .......... .......... .......... .......... ..........  3%  373M 3s\n",
      "  3300K .......... .......... .......... .......... ..........  3%  379M 3s\n",
      "  3350K .......... .......... .......... .......... ..........  3% 13.1M 3s\n",
      "  3400K .......... .......... .......... .......... ..........  4%  112M 3s\n",
      "  3450K .......... .......... .......... .......... ..........  4% 6.72M 3s\n",
      "  3500K .......... .......... .......... .......... ..........  4%  172M 3s\n",
      "  3550K .......... .......... .......... .......... ..........  4%  234M 3s\n",
      "  3600K .......... .......... .......... .......... ..........  4%  286M 3s\n",
      "  3650K .......... .......... .......... .......... ..........  4%  340M 3s\n",
      "  3700K .......... .......... .......... .......... ..........  4%  329M 3s\n",
      "  3750K .......... .......... .......... .......... ..........  4%  330M 3s\n",
      "  3800K .......... .......... .......... .......... ..........  4%  270M 3s\n",
      "  3850K .......... .......... .......... .......... ..........  4%  320M 3s\n",
      "  3900K .......... .......... .......... .......... ..........  4%  365M 3s\n",
      "  3950K .......... .......... .......... .......... ..........  4%  353M 3s\n",
      "  4000K .......... .......... .......... .......... ..........  4%  285M 2s\n",
      "  4050K .......... .......... .......... .......... ..........  4%  338M 2s\n",
      "  4100K .......... .......... .......... .......... ..........  4%  369M 2s\n",
      "  4150K .......... .......... .......... .......... ..........  4%  325M 2s\n",
      "  4200K .......... .......... .......... .......... ..........  4%  272M 2s\n",
      "  4250K .......... .......... .......... .......... ..........  4%  324M 2s\n",
      "  4300K .......... .......... .......... .......... ..........  5% 4.66M 3s\n",
      "  4350K .......... .......... .......... .......... ..........  5%  243M 2s\n",
      "  4400K .......... .......... .......... .......... ..........  5%  238M 2s\n",
      "  4450K .......... .......... .......... .......... ..........  5%  219M 2s\n",
      "  4500K .......... .......... .......... .......... ..........  5%  237M 2s\n",
      "  4550K .......... .......... .......... .......... ..........  5%  254M 2s\n",
      "  4600K .......... .......... .......... .......... ..........  5%  207M 2s\n",
      "  4650K .......... .......... .......... .......... ..........  5%  248M 2s\n",
      "  4700K .......... .......... .......... .......... ..........  5%  248M 2s\n",
      "  4750K .......... .......... .......... .......... ..........  5%  252M 2s\n",
      "  4800K .......... .......... .......... .......... ..........  5%  247M 2s\n",
      "  4850K .......... .......... .......... .......... ..........  5%  268M 2s\n",
      "  4900K .......... .......... .......... .......... ..........  5%  216M 2s\n",
      "  4950K .......... .......... .......... .......... ..........  5%  226M 2s\n",
      "  5000K .......... .......... .......... .......... ..........  5%  239M 2s\n",
      "  5050K .......... .......... .......... .......... ..........  5%  317M 2s\n",
      "  5100K .......... .......... .......... .......... ..........  5%  350M 2s\n",
      "  5150K .......... .......... .......... .......... ..........  6%  315M 2s\n",
      "  5200K .......... .......... .......... .......... ..........  6%  310M 2s\n",
      "  5250K .......... .......... .......... .......... ..........  6% 64.9M 2s\n",
      "  5300K .......... .......... .......... .......... ..........  6%  199M 2s\n",
      "  5350K .......... .......... .......... .......... ..........  6%  211M 2s\n",
      "  5400K .......... .......... .......... .......... ..........  6%  199M 2s\n",
      "  5450K .......... .......... .......... .......... ..........  6% 18.2M 2s\n",
      "  5500K .......... .......... .......... .......... ..........  6% 83.7M 2s\n",
      "  5550K .......... .......... .......... .......... ..........  6%  353M 2s\n",
      "  5600K .......... .......... .......... .......... ..........  6%  305M 2s\n",
      "  5650K .......... .......... .......... .......... ..........  6%  357M 2s\n",
      "  5700K .......... .......... .......... .......... ..........  6%  357M 2s\n",
      "  5750K .......... .......... .......... .......... ..........  6%  358M 2s\n",
      "  5800K .......... .......... .......... .......... ..........  6%  287M 2s\n",
      "  5850K .......... .......... .......... .......... ..........  6%  364M 2s\n",
      "  5900K .......... .......... .......... .......... ..........  6%  371M 2s\n",
      "  5950K .......... .......... .......... .......... ..........  6%  340M 2s\n",
      "  6000K .......... .......... .......... .......... ..........  7%  335M 2s\n",
      "  6050K .......... .......... .......... .......... ..........  7%  369M 2s\n",
      "  6100K .......... .......... .......... .......... ..........  7%  342M 2s\n",
      "  6150K .......... .......... .......... .......... ..........  7% 6.13M 2s\n",
      "  6200K .......... .......... .......... .......... ..........  7%  208M 2s\n",
      "  6250K .......... .......... .......... .......... ..........  7%  305M 2s\n",
      "  6300K .......... .......... .......... .......... ..........  7%  289M 2s\n",
      "  6350K .......... .......... .......... .......... ..........  7%  330M 2s\n",
      "  6400K .......... .......... .......... .......... ..........  7%  310M 2s\n",
      "  6450K .......... .......... .......... .......... ..........  7%  106M 2s\n",
      "  6500K .......... .......... .......... .......... ..........  7%  157M 2s\n",
      "  6550K .......... .......... .......... .......... ..........  7%  310M 2s\n",
      "  6600K .......... .......... .......... .......... ..........  7%  263M 2s\n",
      "  6650K .......... .......... .......... .......... ..........  7%  314M 2s\n",
      "  6700K .......... .......... .......... .......... ..........  7%  317M 2s\n",
      "  6750K .......... .......... .......... .......... ..........  7%  140M 2s\n",
      "  6800K .......... .......... .......... .......... ..........  7%  225M 2s\n",
      "  6850K .......... .......... .......... .......... ..........  8%  330M 2s\n",
      "  6900K .......... .......... .......... .......... ..........  8%  321M 2s\n",
      "  6950K .......... .......... .......... .......... ..........  8%  322M 2s\n",
      "  7000K .......... .......... .......... .......... ..........  8% 75.2M 2s\n",
      "  7050K .......... .......... .......... .......... ..........  8%  325M 2s\n",
      "  7100K .......... .......... .......... .......... ..........  8%  325M 2s\n",
      "  7150K .......... .......... .......... .......... ..........  8%  335M 2s\n",
      "  7200K .......... .......... .......... .......... ..........  8%  271M 2s\n",
      "  7250K .......... .......... .......... .......... ..........  8%  320M 2s\n",
      "  7300K .......... .......... .......... .......... ..........  8%  337M 2s\n",
      "  7350K .......... .......... .......... .......... ..........  8% 45.2M 2s\n",
      "  7400K .......... .......... .......... .......... ..........  8% 39.9M 2s\n",
      "  7450K .......... .......... .......... .......... ..........  8%  278M 2s\n",
      "  7500K .......... .......... .......... .......... ..........  8% 84.2M 2s\n",
      "  7550K .......... .......... .......... .......... ..........  8%  124M 2s\n",
      "  7600K .......... .......... .......... .......... ..........  8% 74.8M 2s\n",
      "  7650K .......... .......... .......... .......... ..........  8%  115M 2s\n",
      "  7700K .......... .......... .......... .......... ..........  9%  122M 2s\n",
      "  7750K .......... .......... .......... .......... ..........  9%  204M 2s\n",
      "  7800K .......... .......... .......... .......... ..........  9%  156M 2s\n",
      "  7850K .......... .......... .......... .......... ..........  9%  193M 2s\n",
      "  7900K .......... .......... .......... .......... ..........  9% 9.73M 2s\n",
      "  7950K .......... .......... .......... .......... ..........  9% 63.9M 2s\n",
      "  8000K .......... .......... .......... .......... ..........  9%  212M 2s\n",
      "  8050K .......... .......... .......... .......... ..........  9%  242M 2s\n",
      "  8100K .......... .......... .......... .......... ..........  9%  321M 2s\n",
      "  8150K .......... .......... .......... .......... ..........  9%  276M 2s\n",
      "  8200K .......... .......... .......... .......... ..........  9%  210M 2s\n",
      "  8250K .......... .......... .......... .......... ..........  9%  261M 2s\n",
      "  8300K .......... .......... .......... .......... ..........  9%  256M 2s\n",
      "  8350K .......... .......... .......... .......... ..........  9%  229M 2s\n",
      "  8400K .......... .......... .......... .......... ..........  9%  240M 2s\n",
      "  8450K .......... .......... .......... .......... ..........  9%  245M 2s\n",
      "  8500K .......... .......... .......... .......... ..........  9% 58.2M 2s\n",
      "  8550K .......... .......... .......... .......... ..........  9%  263M 2s\n",
      "  8600K .......... .......... .......... .......... .......... 10%  214M 2s\n",
      "  8650K .......... .......... .......... .......... .......... 10%  245M 2s\n",
      "  8700K .......... .......... .......... .......... .......... 10%  249M 2s\n",
      "  8750K .......... .......... .......... .......... .......... 10%  264M 2s\n",
      "  8800K .......... .......... .......... .......... .......... 10%  243M 2s\n",
      "  8850K .......... .......... .......... .......... .......... 10%  249M 1s\n",
      "  8900K .......... .......... .......... .......... .......... 10%  262M 1s\n",
      "  8950K .......... .......... .......... .......... .......... 10%  262M 1s\n",
      "  9000K .......... .......... .......... .......... .......... 10%  275M 1s\n",
      "  9050K .......... .......... .......... .......... .......... 10%  356M 1s\n",
      "  9100K .......... .......... .......... .......... .......... 10%  360M 1s\n",
      "  9150K .......... .......... .......... .......... .......... 10%  357M 1s\n",
      "  9200K .......... .......... .......... .......... .......... 10%  327M 1s\n",
      "  9250K .......... .......... .......... .......... .......... 10%  341M 1s\n",
      "  9300K .......... .......... .......... .......... .......... 10% 80.8M 1s\n",
      "  9350K .......... .......... .......... .......... .......... 10% 56.1M 1s\n",
      "  9400K .......... .......... .......... .......... .......... 10%  279M 1s\n",
      "  9450K .......... .......... .......... .......... .......... 11%  336M 1s\n",
      "  9500K .......... .......... .......... .......... .......... 11%  363M 1s\n",
      "  9550K .......... .......... .......... .......... .......... 11%  368M 1s\n",
      "  9600K .......... .......... .......... .......... .......... 11%  329M 1s\n",
      "  9650K .......... .......... .......... .......... .......... 11%  352M 1s\n",
      "  9700K .......... .......... .......... .......... .......... 11% 9.56M 1s\n",
      "  9750K .......... .......... .......... .......... .......... 11%  256M 1s\n",
      "  9800K .......... .......... .......... .......... .......... 11%  263M 1s\n",
      "  9850K .......... .......... .......... .......... .......... 11%  322M 1s\n",
      "  9900K .......... .......... .......... .......... .......... 11%  321M 1s\n",
      "  9950K .......... .......... .......... .......... .......... 11%  207M 1s\n",
      " 10000K .......... .......... .......... .......... .......... 11% 51.5M 1s\n",
      " 10050K .......... .......... .......... .......... .......... 11%  303M 1s\n",
      " 10100K .......... .......... .......... .......... .......... 11%  324M 1s\n",
      " 10150K .......... .......... .......... .......... .......... 11%  298M 1s\n",
      " 10200K .......... .......... .......... .......... .......... 11%  280M 1s\n",
      " 10250K .......... .......... .......... .......... .......... 11%  332M 1s\n",
      " 10300K .......... .......... .......... .......... .......... 12%  130M 1s\n",
      " 10350K .......... .......... .......... .......... .......... 12%  143M 1s\n",
      " 10400K .......... .......... .......... .......... .......... 12%  257M 1s\n",
      " 10450K .......... .......... .......... .......... .......... 12%  313M 1s\n",
      " 10500K .......... .......... .......... .......... .......... 12%  318M 1s\n",
      " 10550K .......... .......... .......... .......... .......... 12%  336M 1s\n",
      " 10600K .......... .......... .......... .......... .......... 12%  208M 1s\n",
      " 10650K .......... .......... .......... .......... .......... 12%  327M 1s\n",
      " 10700K .......... .......... .......... .......... .......... 12%  310M 1s\n",
      " 10750K .......... .......... .......... .......... .......... 12%  323M 1s\n",
      " 10800K .......... .......... .......... .......... .......... 12%  283M 1s\n",
      " 10850K .......... .......... .......... .......... .......... 12%  100M 1s\n",
      " 10900K .......... .......... .......... .......... .......... 12%  323M 1s\n",
      " 10950K .......... .......... .......... .......... .......... 12%  355M 1s\n",
      " 11000K .......... .......... .......... .......... .......... 12%  310M 1s\n",
      " 11050K .......... .......... .......... .......... .......... 12%  381M 1s\n",
      " 11100K .......... .......... .......... .......... .......... 12%  375M 1s\n",
      " 11150K .......... .......... .......... .......... .......... 13%  349M 1s\n",
      " 11200K .......... .......... .......... .......... .......... 13%  323M 1s\n",
      " 11250K .......... .......... .......... .......... .......... 13%  258M 1s\n",
      " 11300K .......... .......... .......... .......... .......... 13%  122M 1s\n",
      " 11350K .......... .......... .......... .......... .......... 13%  363M 1s\n",
      " 11400K .......... .......... .......... .......... .......... 13%  268M 1s\n",
      " 11450K .......... .......... .......... .......... .......... 13% 63.4M 1s\n",
      " 11500K .......... .......... .......... .......... .......... 13% 7.33M 1s\n",
      " 11550K .......... .......... .......... .......... .......... 13% 90.6M 1s\n",
      " 11600K .......... .......... .......... .......... .......... 13%  198M 1s\n",
      " 11650K .......... .......... .......... .......... .......... 13%  236M 1s\n",
      " 11700K .......... .......... .......... .......... .......... 13%  276M 1s\n",
      " 11750K .......... .......... .......... .......... .......... 13%  313M 1s\n",
      " 11800K .......... .......... .......... .......... .......... 13%  264M 1s\n",
      " 11850K .......... .......... .......... .......... .......... 13%  272M 1s\n",
      " 11900K .......... .......... .......... .......... .......... 13%  226M 1s\n",
      " 11950K .......... .......... .......... .......... .......... 13%  213M 1s\n",
      " 12000K .......... .......... .......... .......... .......... 14%  222M 1s\n",
      " 12050K ......"
     ]
    },
    {
     "name": "stderr",
     "output_type": "stream",
     "text": [
      ".... .......... .......... .......... .......... 14%  100M 1s\n",
      " 12100K .......... .......... .......... .......... .......... 14%  121M 1s\n",
      " 12150K .......... .......... .......... .......... .......... 14%  203M 1s\n",
      " 12200K .......... .......... .......... .......... .......... 14%  235M 1s\n",
      " 12250K .......... .......... .......... .......... .......... 14%  298M 1s\n",
      " 12300K .......... .......... .......... .......... .......... 14%  307M 1s\n",
      " 12350K .......... .......... .......... .......... .......... 14%  335M 1s\n",
      " 12400K .......... .......... .......... .......... .......... 14%  237M 1s\n",
      " 12450K .......... .......... .......... .......... .......... 14%  273M 1s\n",
      " 12500K .......... .......... .......... .......... .......... 14%  341M 1s\n",
      " 12550K .......... .......... .......... .......... .......... 14%  326M 1s\n",
      " 12600K .......... .......... .......... .......... .......... 14%  256M 1s\n",
      " 12650K .......... .......... .......... .......... .......... 14%  346M 1s\n",
      " 12700K .......... .......... .......... .......... .......... 14%  264M 1s\n",
      " 12750K .......... .......... .......... .......... .......... 14%  301M 1s\n",
      " 12800K .......... .......... .......... .......... .......... 14%  310M 1s\n",
      " 12850K .......... .......... .......... .......... .......... 14%  310M 1s\n",
      " 12900K .......... .......... .......... .......... .......... 15%  352M 1s\n",
      " 12950K .......... .......... .......... .......... .......... 15%  357M 1s\n",
      " 13000K .......... .......... .......... .......... .......... 15%  277M 1s\n",
      " 13050K .......... .......... .......... .......... .......... 15%  253M 1s\n",
      " 13100K .......... .......... .......... .......... .......... 15%  316M 1s\n",
      " 13150K .......... .......... .......... .......... .......... 15%  367M 1s\n",
      " 13200K .......... .......... .......... .......... .......... 15%  325M 1s\n",
      " 13250K .......... .......... .......... .......... .......... 15%  255M 1s\n",
      " 13300K .......... .......... .......... .......... .......... 15%  289M 1s\n",
      " 13350K .......... .......... .......... .......... .......... 15%  347M 1s\n",
      " 13400K .......... .......... .......... .......... .......... 15%  174M 1s\n",
      " 13450K .......... .......... .......... .......... .......... 15%  292M 1s\n",
      " 13500K .......... .......... .......... .......... .......... 15%  299M 1s\n",
      " 13550K .......... .......... .......... .......... .......... 15%  294M 1s\n",
      " 13600K .......... .......... .......... .......... .......... 15%  285M 1s\n",
      " 13650K .......... .......... .......... .......... .......... 15%  301M 1s\n",
      " 13700K .......... .......... .......... .......... .......... 15%  221M 1s\n",
      " 13750K .......... .......... .......... .......... .......... 16%  363M 1s\n",
      " 13800K .......... .......... .......... .......... .......... 16% 42.8M 1s\n",
      " 13850K .......... .......... .......... .......... .......... 16%  266M 1s\n",
      " 13900K .......... .......... .......... .......... .......... 16%  337M 1s\n",
      " 13950K .......... .......... .......... .......... .......... 16%  366M 1s\n",
      " 14000K .......... .......... .......... .......... .......... 16%  350M 1s\n",
      " 14050K .......... .......... .......... .......... .......... 16%  344M 1s\n",
      " 14100K .......... .......... .......... .......... .......... 16%  385M 1s\n",
      " 14150K .......... .......... .......... .......... .......... 16%  384M 1s\n",
      " 14200K .......... .......... .......... .......... .......... 16% 8.68M 1s\n",
      " 14250K .......... .......... .......... .......... .......... 16% 79.1M 1s\n",
      " 14300K .......... .......... .......... .......... .......... 16%  337M 1s\n",
      " 14350K .......... .......... .......... .......... .......... 16%  354M 1s\n",
      " 14400K .......... .......... .......... .......... .......... 16%  320M 1s\n",
      " 14450K .......... .......... .......... .......... .......... 16%  349M 1s\n",
      " 14500K .......... .......... .......... .......... .......... 16%  368M 1s\n",
      " 14550K .......... .......... .......... .......... .......... 16%  355M 1s\n",
      " 14600K .......... .......... .......... .......... .......... 17%  304M 1s\n",
      " 14650K .......... .......... .......... .......... .......... 17%  361M 1s\n",
      " 14700K .......... .......... .......... .......... .......... 17%  352M 1s\n",
      " 14750K .......... .......... .......... .......... .......... 17%  360M 1s\n",
      " 14800K .......... .......... .......... .......... .......... 17%  149M 1s\n",
      " 14850K .......... .......... .......... .......... .......... 17% 98.3M 1s\n",
      " 14900K .......... .......... .......... .......... .......... 17%  109M 1s\n",
      " 14950K .......... .......... .......... .......... .......... 17%  157M 1s\n",
      " 15000K .......... .......... .......... .......... .......... 17%  292M 1s\n",
      " 15050K .......... .......... .......... .......... .......... 17%  307M 1s\n",
      " 15100K .......... .......... .......... .......... .......... 17%  258M 1s\n",
      " 15150K .......... .......... .......... .......... .......... 17%  312M 1s\n",
      " 15200K .......... .......... .......... .......... .......... 17%  272M 1s\n",
      " 15250K .......... .......... .......... .......... .......... 17%  301M 1s\n",
      " 15300K .......... .......... .......... .......... .......... 17%  342M 1s\n",
      " 15350K .......... .......... .......... .......... .......... 17%  355M 1s\n",
      " 15400K .......... .......... .......... .......... .......... 17%  297M 1s\n",
      " 15450K .......... .......... .......... .......... .......... 18%  346M 1s\n",
      " 15500K .......... .......... .......... .......... .......... 18%  357M 1s\n",
      " 15550K .......... .......... .......... .......... .......... 18%  361M 1s\n",
      " 15600K .......... .......... .......... .......... .......... 18%  320M 1s\n",
      " 15650K .......... .......... .......... .......... .......... 18%  359M 1s\n",
      " 15700K .......... .......... .......... .......... .......... 18%  349M 1s\n",
      " 15750K .......... .......... .......... .......... .......... 18%  102M 1s\n",
      " 15800K .......... .......... .......... .......... .......... 18% 87.5M 1s\n",
      " 15850K .......... .......... .......... .......... .......... 18%  101M 1s\n",
      " 15900K .......... .......... .......... .......... .......... 18%  331M 1s\n",
      " 15950K .......... .......... .......... .......... .......... 18%  349M 1s\n",
      " 16000K .......... .......... .......... .......... .......... 18%  252M 1s\n",
      " 16050K .......... .......... .......... .......... .......... 18%  237M 1s\n",
      " 16100K .......... .......... .......... .......... .......... 18%  238M 1s\n",
      " 16150K .......... .......... .......... .......... .......... 18%  254M 1s\n",
      " 16200K .......... .......... .......... .......... .......... 18%  286M 1s\n",
      " 16250K .......... .......... .......... .......... .......... 18%  355M 1s\n",
      " 16300K .......... .......... .......... .......... .......... 19%  353M 1s\n",
      " 16350K .......... .......... .......... .......... .......... 19%  354M 1s\n",
      " 16400K .......... .......... .......... .......... .......... 19%  312M 1s\n",
      " 16450K .......... .......... .......... .......... .......... 19%  350M 1s\n",
      " 16500K .......... .......... .......... .......... .......... 19%  351M 1s\n",
      " 16550K .......... .......... .......... .......... .......... 19%  357M 1s\n",
      " 16600K .......... .......... .......... .......... .......... 19%  286M 1s\n",
      " 16650K .......... .......... .......... .......... .......... 19%  288M 1s\n",
      " 16700K .......... .......... .......... .......... .......... 19%  362M 1s\n",
      " 16750K .......... .......... .......... .......... .......... 19%  362M 1s\n",
      " 16800K .......... .......... .......... .......... .......... 19%  314M 1s\n",
      " 16850K .......... .......... .......... .......... .......... 19%  363M 1s\n",
      " 16900K .......... .......... .......... .......... .......... 19% 13.7M 1s\n",
      " 16950K .......... .......... .......... .......... .......... 19%  151M 1s\n",
      " 17000K .......... .......... .......... .......... .......... 19% 86.7M 1s\n",
      " 17050K .......... .......... .......... .......... .......... 19%  148M 1s\n",
      " 17100K .......... .......... .......... .......... .......... 19%  253M 1s\n",
      " 17150K .......... .......... .......... .......... .......... 19%  327M 1s\n",
      " 17200K .......... .......... .......... .......... .......... 20% 85.8M 1s\n",
      " 17250K .......... .......... .......... .......... .......... 20%  104M 1s\n",
      " 17300K .......... .......... .......... .......... .......... 20%  101M 1s\n",
      " 17350K .......... .......... .......... .......... .......... 20%  324M 1s\n",
      " 17400K .......... .......... .......... .......... .......... 20%  278M 1s\n",
      " 17450K .......... .......... .......... .......... .......... 20%  353M 1s\n",
      " 17500K .......... .......... .......... .......... .......... 20%  363M 1s\n",
      " 17550K .......... .......... .......... .......... .......... 20%  355M 1s\n",
      " 17600K .......... .......... .......... .......... .......... 20%  315M 1s\n",
      " 17650K .......... .......... .......... .......... .......... 20%  338M 1s\n",
      " 17700K .......... .......... .......... .......... .......... 20%  355M 1s\n",
      " 17750K .......... .......... .......... .......... .......... 20%  342M 1s\n",
      " 17800K .......... .......... .......... .......... .......... 20%  297M 1s\n",
      " 17850K .......... .......... .......... .......... .......... 20%  176M 1s\n",
      " 17900K .......... .......... .......... .......... .......... 20% 75.3M 1s\n",
      " 17950K .......... .......... .......... .......... .......... 20%  257M 1s\n",
      " 18000K .......... .......... .......... .......... .......... 20%  216M 1s\n",
      " 18050K .......... .......... .......... .......... .......... 21% 83.3M 1s\n",
      " 18100K .......... .......... .......... .......... .......... 21%  346M 1s\n",
      " 18150K .......... .......... .......... .......... .......... 21%  224M 1s\n",
      " 18200K .......... .......... .......... .......... .......... 21% 95.4M 1s\n",
      " 18250K .......... .......... .......... .......... .......... 21%  293M 1s\n",
      " 18300K .......... .......... .......... .......... .......... 21%  319M 1s\n",
      " 18350K .......... .......... .......... .......... .......... 21%  316M 1s\n",
      " 18400K .......... .......... .......... .......... .......... 21% 95.2M 1s\n",
      " 18450K .......... .......... .......... .......... .......... 21%  342M 1s\n",
      " 18500K .......... .......... .......... .......... .......... 21%  347M 1s\n",
      " 18550K .......... .......... .......... .......... .......... 21%  319M 1s\n",
      " 18600K .......... .......... .......... .......... .......... 21%  287M 1s\n",
      " 18650K .......... .......... .......... .......... .......... 21%  332M 1s\n",
      " 18700K .......... .......... .......... .......... .......... 21%  357M 1s\n",
      " 18750K .......... .......... .......... .......... .......... 21%  346M 1s\n",
      " 18800K .......... .......... .......... .......... .......... 21%  317M 1s\n",
      " 18850K .......... .......... .......... .......... .......... 21%  297M 1s\n",
      " 18900K .......... .......... .......... .......... .......... 22%  234M 1s\n",
      " 18950K .......... .......... .......... .......... .......... 22%  346M 1s\n",
      " 19000K .......... .......... .......... .......... .......... 22%  278M 1s\n",
      " 19050K .......... .......... .......... .......... .......... 22%  338M 1s\n",
      " 19100K .......... .......... .......... .......... .......... 22%  348M 1s\n",
      " 19150K .......... .......... .......... .......... .......... 22%  357M 1s\n",
      " 19200K .......... .......... .......... .......... .......... 22%  290M 1s\n",
      " 19250K .......... .......... .......... .......... .......... 22%  353M 1s\n",
      " 19300K .......... .......... .......... .......... .......... 22%  324M 1s\n",
      " 19350K .......... .......... .......... .......... .......... 22%  336M 1s\n",
      " 19400K .......... .......... .......... .......... .......... 22%  286M 1s\n",
      " 19450K .......... .......... .......... .......... .......... 22%  351M 1s\n",
      " 19500K .......... .......... .......... .......... .......... 22%  324M 1s\n",
      " 19550K .......... .......... .......... .......... .......... 22% 39.7M 1s\n",
      " 19600K .......... .......... .......... .......... .......... 22% 31.4M 1s\n",
      " 19650K .......... .......... .......... .......... .......... 22% 81.1M 1s\n",
      " 19700K .......... .......... .......... .......... .......... 22% 87.7M 1s\n",
      " 19750K .......... .......... .......... .......... .......... 23%  197M 1s\n",
      " 19800K .......... .......... .......... .......... .......... 23% 26.5M 1s\n",
      " 19850K .......... .......... .......... .......... .......... 23%  141M 1s\n",
      " 19900K .......... .......... .......... .......... .......... 23%  153M 1s\n",
      " 19950K .......... .......... .......... .......... .......... 23%  315M 1s\n",
      " 20000K .......... .......... .......... .......... .......... 23%  312M 1s\n",
      " 20050K .......... .......... .......... .......... .......... 23%  343M 1s\n",
      " 20100K .......... .......... .......... .......... .......... 23%  347M 1s\n",
      " 20150K .......... .......... .......... .......... .......... 23%  333M 1s\n",
      " 20200K .......... .......... .......... .......... .......... 23%  288M 1s\n",
      " 20250K .......... .......... .......... .......... .......... 23%  356M 1s\n",
      " 20300K .......... .......... .......... .......... .......... 23%  345M 1s\n",
      " 20350K .......... .......... .......... .......... .......... 23%  353M 1s\n",
      " 20400K .......... .......... .......... .......... .......... 23%  307M 1s\n",
      " 20450K .......... .......... .......... .......... .......... 23%  352M 1s\n",
      " 20500K .......... .......... .......... .......... .......... 23%  358M 1s\n",
      " 20550K .......... .......... .......... .......... .......... 23%  347M 1s\n",
      " 20600K .......... .......... .......... .......... .......... 24% 77.9M 1s\n",
      " 20650K .......... .......... .......... .......... .......... 24% 90.8M 1s\n",
      " 20700K .......... .......... .......... .......... .......... 24% 70.4M 1s\n",
      " 20750K .......... .......... .......... .......... .......... 24%  135M 1s\n",
      " 20800K .......... .......... .......... .......... .......... 24% 35.5M 1s\n",
      " 20850K .......... .......... .......... .......... .......... 24%  126M 1s\n",
      " 20900K .......... .......... .......... .......... .......... 24% 63.9M 1s\n",
      " 20950K .......... .......... .......... .......... .......... 24% 77.5M 1s\n",
      " 21000K .......... .......... .......... .......... .......... 24% 94.4M 1s\n",
      " 21050K .......... .......... .......... .......... .......... 24%  115M 1s\n",
      " 21100K .......... .......... .......... .......... .......... 24% 76.9M 1s\n",
      " 21150K .......... .......... .......... .......... .......... 24%  201M 1s\n",
      " 21200K .......... .......... .......... .......... .......... 24% 36.0M 1s\n",
      " 21250K .......... .......... .......... .......... .......... 24%  112M 1s\n",
      " 21300K .......... .......... .......... .......... .......... 24% 85.1M 1s\n",
      " 21350K .......... .......... .......... .......... .......... 24% 81.4M 1s\n",
      " 21400K .......... .......... .......... .......... .......... 24%  146M 1s\n",
      " 21450K .......... .......... .......... .......... .......... 24%  351M 1s\n",
      " 21500K .......... .......... .......... .......... .......... 25%  349M 1s\n",
      " 21550K .......... .......... .......... .......... .......... 25%  350M 1s\n",
      " 21600K .......... .......... .......... .......... .......... 25%  311M 1s\n",
      " 21650K .......... .......... .......... .......... .......... 25%  337M 1s\n",
      " 21700K .......... .......... .......... .......... .......... 25%  346M 1s\n",
      " 21750K .......... .......... .......... .......... .......... 25%  346M 1s\n",
      " 21800K .......... .......... .......... .......... .......... 25%  292M 1s\n",
      " 21850K .......... .......... .......... .......... .......... 25%  342M 1s\n",
      " 21900K .......... .......... .......... .......... .......... 25%  323M 1s\n",
      " 21950K .......... .......... .......... .......... .......... 25%  351M 1s\n",
      " 22000K .......... .......... .......... .......... .......... 25%  317M 1s\n",
      " 22050K .......... .......... .......... .......... .......... 25%  331M 1s\n",
      " 22100K .......... .......... .......... .......... .......... 25%  321M 1s\n",
      " 22150K .......... .......... .......... .......... .......... 25%  320M 1s\n",
      " 22200K .......... .......... .......... .......... .......... 25%  284M 1s\n",
      " 22250K .......... .......... .......... .......... .......... 25%  348M 1s\n",
      " 22300K .......... .......... .......... .......... .......... 25%  354M 1s\n",
      " 22350K .......... .......... .......... .......... .......... 26%  330M 1s\n",
      " 22400K .......... .......... .......... .......... .......... 26%  226M 1s\n",
      " 22450K .......... .......... .......... .......... .......... 26%  245M 1s\n",
      " 22500K .......... .......... .......... .......... .......... 26%  223M 1s\n",
      " 22550K .......... .......... .......... .......... .......... 26%  274M 1s\n",
      " 22600K .......... .......... .......... .......... .......... 26%  196M 1s\n",
      " 22650K .......... .......... .......... .......... .......... 26%  227M 1s\n",
      " 22700K .......... .......... .......... .......... .......... 26%  340M 1s\n",
      " 22750K .......... .......... .......... .......... .......... 26%  317M 1s\n",
      " 22800K .......... .......... .......... .......... .......... 26%  313M 1s\n",
      " 22850K .......... .......... .......... .......... .......... 26%  343M 1s\n",
      " 22900K .......... .......... .......... .......... .......... 26%  310M 1s\n",
      " 22950K .......... .......... .......... .......... .......... 26%  336M 1s\n",
      " 23000K .......... .......... .......... .......... .......... 26%  241M 1s\n",
      " 23050K .......... .......... .......... .......... .......... 26%  347M 1s\n",
      " 23100K .......... .......... .......... .......... .......... 26%  333M 1s\n",
      " 23150K .......... .......... .......... .......... .......... 26%  346M 1s\n",
      " 23200K .......... .......... .......... .......... .......... 27%  316M 1s\n",
      " 23250K .......... .......... .......... .......... .......... 27%  309M 1s\n",
      " 23300K .......... .......... .......... .......... .......... 27%  350M 1s\n",
      " 23350K .......... .......... .......... .......... .......... 27%  349M 1s\n",
      " 23400K .......... .......... .......... .......... .......... 27%  271M 1s\n",
      " 23450K .......... .......... .......... .......... .......... 27%  349M 1s\n",
      " 23500K .......... .......... .......... .......... .......... 27%  351M 1s\n",
      " 23550K .......... .......... .......... .......... .......... 27%  355M 1s\n",
      " 23600K .......... .......... .......... .......... .......... 27%  212M 1s\n",
      " 23650K .......... .......... .......... .......... .......... 27%  254M 1s\n",
      " 23700K .......... .......... .......... .......... .......... 27%  316M 1s\n",
      " 23750K .......... .......... .......... .......... .......... 27%  310M 1s\n",
      " 23800K .......... .......... .......... .......... .......... 27%  273M 1s\n",
      " 23850K .......... .......... .......... .......... .......... 27%  350M 1s\n",
      " 23900K .......... .......... .......... .......... .......... 27%  339M 1s\n",
      " 23950K .......... .......... .......... .......... .......... 27%  338M 1s\n",
      " 24000K .......... .......... .......... .......... .......... 27%  288M 1s\n",
      " 24050K .......... .......... .......... .......... .......... 28%  376K 1s\n",
      " 24100K .......... .......... .......... .......... .......... 28%  169M 1s\n",
      " 24150K .......... .......... .......... .......... .......... 28%  159M 1s\n",
      " 24200K .......... .......... .......... .......... .......... 28%  279M 1s\n",
      " 24250K .......... .......... .......... .......... .......... 28%  349M 1s\n",
      " 24300K .......... .......... .......... .......... .......... 28%  348M 1s\n",
      " 24350K .......... .......... .......... .......... .......... 28%  352M 1s\n",
      " 24400K .......... .......... .......... .......... .......... 28%  310M 1s\n",
      " 24450K .......... .......... .......... .......... .......... 28%  237M 1s\n",
      " 24500K .......... .......... .......... .......... .......... 28%  217M 1s\n",
      " 24550K .......... .......... .......... .......... .......... 28%  246M 1s"
     ]
    },
    {
     "name": "stderr",
     "output_type": "stream",
     "text": [
      "\n",
      " 24600K .......... .......... .......... .......... .......... 28% 52.9M 1s\n",
      " 24650K .......... .......... .......... .......... .......... 28%  104M 1s\n",
      " 24700K .......... .......... .......... .......... .......... 28%  363M 1s\n",
      " 24750K .......... .......... .......... .......... .......... 28%  353M 1s\n",
      " 24800K .......... .......... .......... .......... .......... 28% 47.4M 1s\n",
      " 24850K .......... .......... .......... .......... .......... 28%  349M 1s\n",
      " 24900K .......... .......... .......... .......... .......... 29%  358M 1s\n",
      " 24950K .......... .......... .......... .......... .......... 29%  346M 1s\n",
      " 25000K .......... .......... .......... .......... .......... 29% 95.4M 1s\n",
      " 25050K .......... .......... .......... .......... .......... 29%  258M 1s\n",
      " 25100K .......... .......... .......... .......... .......... 29%  284M 1s\n",
      " 25150K .......... .......... .......... .......... .......... 29%  309M 1s\n",
      " 25200K .......... .......... .......... .......... .......... 29%  303M 1s\n",
      " 25250K .......... .......... .......... .......... .......... 29%  259M 1s\n",
      " 25300K .......... .......... .......... .......... .......... 29%  179M 1s\n",
      " 25350K .......... .......... .......... .......... .......... 29%  296M 1s\n",
      " 25400K .......... .......... .......... .......... .......... 29%  260M 1s\n",
      " 25450K .......... .......... .......... .......... .......... 29%  317M 1s\n",
      " 25500K .......... .......... .......... .......... .......... 29%  333M 1s\n",
      " 25550K .......... .......... .......... .......... .......... 29%  318M 1s\n",
      " 25600K .......... .......... .......... .......... .......... 29%  254M 1s\n",
      " 25650K .......... .......... .......... .......... .......... 29%  326M 1s\n",
      " 25700K .......... .......... .......... .......... .......... 29%  356M 1s\n",
      " 25750K .......... .......... .......... .......... .......... 29%  330M 1s\n",
      " 25800K .......... .......... .......... .......... .......... 30%  255M 1s\n",
      " 25850K .......... .......... .......... .......... .......... 30%  195M 1s\n",
      " 25900K .......... .......... .......... .......... .......... 30%  165M 1s\n",
      " 25950K .......... .......... .......... .......... .......... 30%  289M 1s\n",
      " 26000K .......... .......... .......... .......... .......... 30%  255M 1s\n",
      " 26050K .......... .......... .......... .......... .......... 30%  203M 1s\n",
      " 26100K .......... .......... .......... .......... .......... 30%  301M 1s\n",
      " 26150K .......... .......... .......... .......... .......... 30%  232M 1s\n",
      " 26200K .......... .......... .......... .......... .......... 30%  225M 1s\n",
      " 26250K .......... .......... .......... .......... .......... 30%  306M 1s\n",
      " 26300K .......... .......... .......... .......... .......... 30%  270M 1s\n",
      " 26350K .......... .......... .......... .......... .......... 30%  306M 1s\n",
      " 26400K .......... .......... .......... .......... .......... 30%  285M 1s\n",
      " 26450K .......... .......... .......... .......... .......... 30%  274M 1s\n",
      " 26500K .......... .......... .......... .......... .......... 30%  350M 1s\n",
      " 26550K .......... .......... .......... .......... .......... 30%  340M 1s\n",
      " 26600K .......... .......... .......... .......... .......... 30%  283M 1s\n",
      " 26650K .......... .......... .......... .......... .......... 31%  261M 1s\n",
      " 26700K .......... .......... .......... .......... .......... 31%  317M 1s\n",
      " 26750K .......... .......... .......... .......... .......... 31%  287M 1s\n",
      " 26800K .......... .......... .......... .......... .......... 31%  218M 1s\n",
      " 26850K .......... .......... .......... .......... .......... 31%  326M 1s\n",
      " 26900K .......... .......... .......... .......... .......... 31%  339M 1s\n",
      " 26950K .......... .......... .......... .......... .......... 31%  350M 1s\n",
      " 27000K .......... .......... .......... .......... .......... 31%  280M 1s\n",
      " 27050K .......... .......... .......... .......... .......... 31%  247M 1s\n",
      " 27100K .......... .......... .......... .......... .......... 31%  251M 1s\n",
      " 27150K .......... .......... .......... .......... .......... 31%  273M 1s\n",
      " 27200K .......... .......... .......... .......... .......... 31%  211M 1s\n",
      " 27250K .......... .......... .......... .......... .......... 31%  243M 1s\n",
      " 27300K .......... .......... .......... .......... .......... 31%  307M 1s\n",
      " 27350K .......... .......... .......... .......... .......... 31%  331M 1s\n",
      " 27400K .......... .......... .......... .......... .......... 31%  243M 1s\n",
      " 27450K .......... .......... .......... .......... .......... 31%  275M 1s\n",
      " 27500K .......... .......... .......... .......... .......... 32%  267M 1s\n",
      " 27550K .......... .......... .......... .......... .......... 32%  273M 1s\n",
      " 27600K .......... .......... .......... .......... .......... 32%  181M 1s\n",
      " 27650K .......... .......... .......... .......... .......... 32%  131M 1s\n",
      " 27700K .......... .......... .......... .......... .......... 32%  322M 1s\n",
      " 27750K .......... .......... .......... .......... .......... 32%  324M 1s\n",
      " 27800K .......... .......... .......... .......... .......... 32%  275M 1s\n",
      " 27850K .......... .......... .......... .......... .......... 32%  287M 1s\n",
      " 27900K .......... .......... .......... .......... .......... 32%  154M 1s\n",
      " 27950K .......... .......... .......... .......... .......... 32%  240M 1s\n",
      " 28000K .......... .......... .......... .......... .......... 32%  260M 1s\n",
      " 28050K .......... .......... .......... .......... .......... 32%  307M 1s\n",
      " 28100K .......... .......... .......... .......... .......... 32%  350M 1s\n",
      " 28150K .......... .......... .......... .......... .......... 32%  329M 1s\n",
      " 28200K .......... .......... .......... .......... .......... 32%  194M 1s\n",
      " 28250K .......... .......... .......... .......... .......... 32%  247M 1s\n",
      " 28300K .......... .......... .......... .......... .......... 32%  216M 1s\n",
      " 28350K .......... .......... .......... .......... .......... 33%  174M 1s\n",
      " 28400K .......... .......... .......... .......... .......... 33%  177M 1s\n",
      " 28450K .......... .......... .......... .......... .......... 33%  311M 1s\n",
      " 28500K .......... .......... .......... .......... .......... 33%  352M 1s\n",
      " 28550K .......... .......... .......... .......... .......... 33%  324M 1s\n",
      " 28600K .......... .......... .......... .......... .......... 33%  227M 1s\n",
      " 28650K .......... .......... .......... .......... .......... 33%  311M 1s\n",
      " 28700K .......... .......... .......... .......... .......... 33%  251M 1s\n",
      " 28750K .......... .......... .......... .......... .......... 33%  247M 1s\n",
      " 28800K .......... .......... .......... .......... .......... 33%  270M 1s\n",
      " 28850K .......... .......... .......... .......... .......... 33%  281M 1s\n",
      " 28900K .......... .......... .......... .......... .......... 33%  301M 1s\n",
      " 28950K .......... .......... .......... .......... .......... 33%  354M 1s\n",
      " 29000K .......... .......... .......... .......... .......... 33%  223M 1s\n",
      " 29050K .......... .......... .......... .......... .......... 33%  351M 1s\n",
      " 29100K .......... .......... .......... .......... .......... 33%  351M 1s\n",
      " 29150K .......... .......... .......... .......... .......... 33%  350M 1s\n",
      " 29200K .......... .......... .......... .......... .......... 34%  305M 1s\n",
      " 29250K .......... .......... .......... .......... .......... 34%  356M 1s\n",
      " 29300K .......... .......... .......... .......... .......... 34%  156M 1s\n",
      " 29350K .......... .......... .......... .......... .......... 34%  198M 1s\n",
      " 29400K .......... .......... .......... .......... .......... 34%  151M 1s\n",
      " 29450K .......... .......... .......... .......... .......... 34%  152M 1s\n",
      " 29500K .......... .......... .......... .......... .......... 34%  115M 1s\n",
      " 29550K .......... .......... .......... .......... .......... 34%  166M 1s\n",
      " 29600K .......... .......... .......... .......... .......... 34%  227M 1s\n",
      " 29650K .......... .......... .......... .......... .......... 34%  121M 1s\n",
      " 29700K .......... .......... .......... .......... .......... 34%  122M 1s\n",
      " 29750K .......... .......... .......... .......... .......... 34% 76.4M 1s\n",
      " 29800K .......... .......... .......... .......... .......... 34% 83.8M 1s\n",
      " 29850K .......... .......... .......... .......... .......... 34%  203M 1s\n",
      " 29900K .......... .......... .......... .......... .......... 34%  331M 1s\n",
      " 29950K .......... .......... .......... .......... .......... 34%  255M 1s\n",
      " 30000K .......... .......... .......... .......... .......... 34%  310M 1s\n",
      " 30050K .......... .......... .......... .......... .......... 34%  344M 1s\n",
      " 30100K .......... .......... .......... .......... .......... 35%  338M 1s\n",
      " 30150K .......... .......... .......... .......... .......... 35%  294M 1s\n",
      " 30200K .......... .......... .......... .......... .......... 35%  188M 1s\n",
      " 30250K .......... .......... .......... .......... .......... 35%  268M 1s\n",
      " 30300K .......... .......... .......... .......... .......... 35%  315M 1s\n",
      " 30350K .......... .......... .......... .......... .......... 35%  318M 1s\n",
      " 30400K .......... .......... .......... .......... .......... 35%  249M 1s\n",
      " 30450K .......... .......... .......... .......... .......... 35%  192M 1s\n",
      " 30500K .......... .......... .......... .......... .......... 35%  329M 1s\n",
      " 30550K .......... .......... .......... .......... .......... 35%  330M 1s\n",
      " 30600K .......... .......... .......... .......... .......... 35%  291M 1s\n",
      " 30650K .......... .......... .......... .......... .......... 35%  295M 1s\n",
      " 30700K .......... .......... .......... .......... .......... 35%  313M 1s\n",
      " 30750K .......... .......... .......... .......... .......... 35%  234M 1s\n",
      " 30800K .......... .......... .......... .......... .......... 35%  295M 1s\n",
      " 30850K .......... .......... .......... .......... .......... 35%  353M 1s\n",
      " 30900K .......... .......... .......... .......... .......... 35%  356M 1s\n",
      " 30950K .......... .......... .......... .......... .......... 36%  295M 1s\n",
      " 31000K .......... .......... .......... .......... .......... 36%  246M 1s\n",
      " 31050K .......... .......... .......... .......... .......... 36%  265M 1s\n",
      " 31100K .......... .......... .......... .......... .......... 36%  242M 1s\n",
      " 31150K .......... .......... .......... .......... .......... 36%  249M 1s\n",
      " 31200K .......... .......... .......... .......... .......... 36%  270M 1s\n",
      " 31250K .......... .......... .......... .......... .......... 36%  288M 1s\n",
      " 31300K .......... .......... .......... .......... .......... 36%  289M 1s\n",
      " 31350K .......... .......... .......... .......... .......... 36%  277M 1s\n",
      " 31400K .......... .......... .......... .......... .......... 36%  233M 1s\n",
      " 31450K .......... .......... .......... .......... .......... 36%  280M 1s\n",
      " 31500K .......... .......... .......... .......... .......... 36%  308M 1s\n",
      " 31550K .......... .......... .......... .......... .......... 36%  317M 1s\n",
      " 31600K .......... .......... .......... .......... .......... 36%  316M 1s\n",
      " 31650K .......... .......... .......... .......... .......... 36%  345M 1s\n",
      " 31700K .......... .......... .......... .......... .......... 36%  364M 1s\n",
      " 31750K .......... .......... .......... .......... .......... 36%  332M 1s\n",
      " 31800K .......... .......... .......... .......... .......... 37%  291M 1s\n",
      " 31850K .......... .......... .......... .......... .......... 37%  335M 1s\n",
      " 31900K .......... .......... .......... .......... .......... 37%  335M 1s\n",
      " 31950K .......... .......... .......... .......... .......... 37%  355M 1s\n",
      " 32000K .......... .......... .......... .......... .......... 37%  324M 1s\n",
      " 32050K .......... .......... .......... .......... .......... 37%  364M 1s\n",
      " 32100K .......... .......... .......... .......... .......... 37%  109M 1s\n",
      " 32150K .......... .......... .......... .......... .......... 37%  259M 1s\n",
      " 32200K .......... .......... .......... .......... .......... 37% 81.8M 1s\n",
      " 32250K .......... .......... .......... .......... .......... 37%  228M 1s\n",
      " 32300K .......... .......... .......... .......... .......... 37%  189M 1s\n",
      " 32350K .......... .......... .......... .......... .......... 37%  311M 1s\n",
      " 32400K .......... .......... .......... .......... .......... 37%  280M 1s\n",
      " 32450K .......... .......... .......... .......... .......... 37%  297M 1s\n",
      " 32500K .......... .......... .......... .......... .......... 37%  369M 1s\n",
      " 32550K .......... .......... .......... .......... .......... 37%  276M 1s\n",
      " 32600K .......... .......... .......... .......... .......... 37%  243M 1s\n",
      " 32650K .......... .......... .......... .......... .......... 38%  332M 1s\n",
      " 32700K .......... .......... .......... .......... .......... 38%  352M 1s\n",
      " 32750K .......... .......... .......... .......... .......... 38%  357M 1s\n",
      " 32800K .......... .......... .......... .......... .......... 38%  306M 1s\n",
      " 32850K .......... .......... .......... .......... .......... 38%  347M 1s\n",
      " 32900K .......... .......... .......... .......... .......... 38%  239M 1s\n",
      " 32950K .......... .......... .......... .......... .......... 38%  224M 1s\n",
      " 33000K .......... .......... .......... .......... .......... 38% 69.9M 1s\n",
      " 33050K .......... .......... .......... .......... .......... 38%  122M 1s\n",
      " 33100K .......... .......... .......... .......... .......... 38% 76.7M 1s\n",
      " 33150K .......... .......... .......... .......... .......... 38%  324M 1s\n",
      " 33200K .......... .......... .......... .......... .......... 38%  330M 1s\n",
      " 33250K .......... .......... .......... .......... .......... 38%  322M 1s\n",
      " 33300K .......... .......... .......... .......... .......... 38%  290M 1s\n",
      " 33350K .......... .......... .......... .......... .......... 38%  358M 1s\n",
      " 33400K .......... .......... .......... .......... .......... 38%  291M 1s\n",
      " 33450K .......... .......... .......... .......... .......... 38%  363M 1s\n",
      " 33500K .......... .......... .......... .......... .......... 39%  365M 1s\n",
      " 33550K .......... .......... .......... .......... .......... 39%  359M 1s\n",
      " 33600K .......... .......... .......... .......... .......... 39%  330M 1s\n",
      " 33650K .......... .......... .......... .......... .......... 39%  346M 1s\n",
      " 33700K .......... .......... .......... .......... .......... 39%  368M 1s\n",
      " 33750K .......... .......... .......... .......... .......... 39%  344M 1s\n",
      " 33800K .......... .......... .......... .......... .......... 39%  286M 1s\n",
      " 33850K .......... .......... .......... .......... .......... 39%  349M 1s\n",
      " 33900K .......... .......... .......... .......... .......... 39% 30.6M 1s\n",
      " 33950K .......... .......... .......... .......... .......... 39% 29.5M 1s\n",
      " 34000K .......... .......... .......... .......... .......... 39% 89.0M 1s\n",
      " 34050K .......... .......... .......... .......... .......... 39% 29.1M 1s\n",
      " 34100K .......... .......... .......... .......... .......... 39%  106M 1s\n",
      " 34150K .......... .......... .......... .......... .......... 39% 79.8M 1s\n",
      " 34200K .......... .......... .......... .......... .......... 39% 90.7M 1s\n",
      " 34250K .......... .......... .......... .......... .......... 39% 77.2M 1s\n",
      " 34300K .......... .......... .......... .......... .......... 39%  153M 1s\n",
      " 34350K .......... .......... .......... .......... .......... 39%  261M 1s\n",
      " 34400K .......... .......... .......... .......... .......... 40%  311M 1s\n",
      " 34450K .......... .......... .......... .......... .......... 40% 71.9M 1s\n",
      " 34500K .......... .......... .......... .......... .......... 40% 80.9M 1s\n",
      " 34550K .......... .......... .......... .......... .......... 40%  156M 1s\n",
      " 34600K .......... .......... .......... .......... .......... 40%  298M 1s\n",
      " 34650K .......... .......... .......... .......... .......... 40%  369M 1s\n",
      " 34700K .......... .......... .......... .......... .......... 40%  362M 1s\n",
      " 34750K .......... .......... .......... .......... .......... 40%  355M 1s\n",
      " 34800K .......... .......... .......... .......... .......... 40%  331M 1s\n",
      " 34850K .......... .......... .......... .......... .......... 40%  366M 1s\n",
      " 34900K .......... .......... .......... .......... .......... 40%  377M 1s\n",
      " 34950K .......... .......... .......... .......... .......... 40%  342M 1s\n",
      " 35000K .......... .......... .......... .......... .......... 40%  297M 1s\n",
      " 35050K .......... .......... .......... .......... .......... 40%  374M 1s\n",
      " 35100K .......... .......... .......... .......... .......... 40%  368M 1s\n",
      " 35150K .......... .......... .......... .......... .......... 40%  291M 1s\n",
      " 35200K .......... .......... .......... .......... .......... 40%  320M 1s\n",
      " 35250K .......... .......... .......... .......... .......... 41%  344M 1s\n",
      " 35300K .......... .......... .......... .......... .......... 41%  360M 1s\n",
      " 35350K .......... .......... .......... .......... .......... 41%  146M 1s\n",
      " 35400K .......... .......... .......... .......... .......... 41% 55.1M 1s\n",
      " 35450K .......... .......... .......... .......... .......... 41% 98.9M 1s\n",
      " 35500K .......... .......... .......... .......... .......... 41%  109M 1s\n",
      " 35550K .......... .......... .......... .......... .......... 41%  272M 1s\n",
      " 35600K .......... .......... .......... .......... .......... 41%  323M 1s\n",
      " 35650K .......... .......... .......... .......... .......... 41%  366M 1s\n",
      " 35700K .......... .......... .......... .......... .......... 41%  357M 1s\n",
      " 35750K .......... .......... .......... .......... .......... 41%  344M 1s\n",
      " 35800K .......... .......... .......... .......... .......... 41%  300M 1s\n",
      " 35850K .......... .......... .......... .......... .......... 41%  361M 1s\n",
      " 35900K .......... .......... .......... .......... .......... 41%  361M 1s\n",
      " 35950K .......... .......... .......... .......... .......... 41%  125M 1s\n",
      " 36000K .......... .......... .......... .......... .......... 41%  308M 1s\n",
      " 36050K .......... .......... .......... .......... .......... 41%  365M 1s\n",
      " 36100K .......... .......... .......... .......... .......... 42%  212M 1s\n",
      " 36150K .......... .......... .......... .......... .......... 42% 31.7M 1s\n",
      " 36200K .......... .......... .......... .......... .......... 42%  161M 1s\n",
      " 36250K .......... .......... .......... .......... .......... 42%  141M 1s\n",
      " 36300K .......... .......... .......... .......... .......... 42%  143M 1s\n",
      " 36350K .......... .......... .......... .......... .......... 42%  162M 1s\n",
      " 36400K .......... .......... .......... .......... .......... 42% 32.5M 1s\n",
      " 36450K .......... .......... .......... .......... .......... 42% 61.2M 1s\n",
      " 36500K .......... .......... .......... .......... .......... 42%  105M 1s\n",
      " 36550K .......... .......... .......... .......... .......... 42% 86.0M 1s\n",
      " 36600K .......... .......... .......... .......... .......... 42% 40.2M 1s\n",
      " 36650K .......... .......... .......... .......... .......... 42% 81.0M 1s\n",
      " 36700K .......... .......... .......... .......... .......... 42% 64.7M 1s\n",
      " 36750K .......... .......... .......... .......... .......... 42%  143M 1s\n",
      " 36800K .......... .......... .......... .......... .......... 42%  137M 1s\n",
      " 36850K .......... .......... .......... .......... .......... 42%  122M 1s\n",
      " 36900K .......... .......... .......... .......... .......... 42% 62.4M 1s\n",
      " 36950K .......... .......... .......... .......... .......... 43% 70.8M 1s\n",
      " 37000K .......... .......... .......... .......... .......... 43%  161M 1s\n",
      " 37050K .......... .......... .......... .......... .......... 43%  118M 1s\n",
      " 37100K .......... .......... .......... .......... .......... 43%  229M 1s\n",
      " 37150K .......... .......... .......... .......... .......... 43%  347M 1s\n",
      " 37200K .......... .......... .......... .......... .......... 43%  309M 1s\n",
      " 37250K .......... .......... .......... .......... .......... 43%  330M 1s\n",
      " 37300K .......... .......... .......... .......... .......... 43%  347M 1s\n",
      " 37350K .......... .......... .......... .......... .......... 43%  346M 1s\n",
      " 37400K .......... .......... .......... .......... .......... 43%  291M 1s\n",
      " 37450K .......... .......... .......... .......... .......... 43%  190M 1s\n",
      " 37500K .......... .......... .......... .......... .......... 43%  154M 1s\n",
      " 37550K .......... .......... .......... .......... .......... 43%  206M 1s\n",
      " 37600K .......... .......... .......... .......... .......... 43%  238M 1s\n",
      " 37650K .......... .......... .......... .......... .......... 43%  119M 1s\n",
      " 37700K .......... .......... .......... .......... .......... 43%  235M 1s\n",
      " 37750K .......... .......... .......... .......... .......... 43%  221M 1s\n",
      " 37800K .......... .......... .......... .......... .......... 44%  112M 1s\n",
      " 37850K .......... .......... .......... .......... .......... 44%  142M 1s\n",
      " 37900K .......... .......... .......... .......... .......... 44%  245M 1s\n",
      " 37950K .......... .......... .......... .......... .......... 44%  347M 1s\n",
      " 38000K .......... .......... .......... .......... .......... 44%  253M 1s\n",
      " 38050K .......... .......... .......... .......... .......... 44%  352M 1s\n",
      " 38100K .......... .......... .......... .......... .......... 44%  340M 1s\n",
      " 38150K .......... .......... .......... .......... .......... 44%  354M 1s\n",
      " 38200K .......... .......... .......... .......... .......... 44%  291M 1s\n",
      " 38250K .......... .......... .......... .......... .......... 44%  333M 1s\n",
      " 38300K .......... .......... .......... .......... .......... 44%  356M 1s\n",
      " 38350K .......... .......... .......... .......... .......... 44%  349M 1s\n",
      " 38400K .......... .......... .......... .......... .......... 44%  138M 1s\n",
      " 38450K .......... .......... .......... .......... .......... 44%  339M 1s\n",
      " 38500K .......... .......... .......... .......... .......... 44%  161M 1s\n",
      " 38550K .......... .......... .......... .......... .......... 44%  310M 1s\n",
      " 38600K .......... .......... .......... .......... .......... 44%  293M 1s\n",
      " 38650K .......... .......... .......... .......... .......... 44%  354M 1s\n",
      " 38700K .......... .......... .......... .......... .......... 45%  327M 1s\n",
      " 38750K .......... .......... .......... .......... .......... 45%  352M 1s\n",
      " 38800K .......... .......... .......... .......... .......... 45%  318M 1s\n",
      " 38850K .......... .......... .......... .......... .......... 45%  302M 1s\n",
      " 38900K .......... .......... .......... .......... .......... 45%  257M 1s\n",
      " 38950K .......... .......... .......... .......... .......... 45%  314M 1s\n",
      " 39000K .......... .......... .......... .......... .......... 45%  280M 1s\n",
      " 39050K .......... .......... .......... .......... .......... 45%  320M 1s\n",
      " 39100K .......... .......... .......... .......... .......... 45%  336M 1s\n",
      " 39150K .......... .......... .......... .......... .......... 45%  352M 1s\n",
      " 39200K .......... .......... .......... .......... .......... 45%  269M 1s\n",
      " 39250K .......... .......... .......... .......... .......... 45%  326M 1s\n",
      " 39300K .......... .......... .......... .......... .......... 45%  353M 1s\n",
      " 39350K .......... .......... .......... .......... .......... 45%  325M 1s\n",
      " 39400K .......... .......... .......... .......... .......... 45%  283M 1s\n",
      " 39450K .......... .......... .......... .......... .......... 45%  119M 1s\n",
      " 39500K .......... .......... .......... .......... .......... 45%  107M 1s\n",
      " 39550K .......... .......... .......... .......... .......... 46%  104M 1s\n",
      " 39600K .......... .......... .......... .......... .......... 46%  315M 1s\n",
      " 39650K .......... .......... .......... .......... .......... 46%  294M 1s\n",
      " 39700K .......... .......... .......... .......... .......... 46%  299M 1s\n",
      " 39750K .......... .......... .......... .......... .......... 46%  350M 1s\n",
      " 39800K .......... .......... .......... .......... .......... 46% 94.9M 1s\n",
      " 39850K .......... .......... .......... .......... .......... 46%  299M 1s\n",
      " 39900K .......... .......... .......... .......... .......... 46%  316M 1s\n",
      " 39950K .......... .......... .......... .......... .......... 46%  355M 1s\n",
      " 40000K .......... .......... .......... .......... .......... 46%  301M 1s\n",
      " 40050K .......... .......... .......... .......... .......... 46%  234M 1s\n",
      " 40100K .......... .......... .......... .......... .......... 46%  224M 1s\n",
      " 40150K .......... .......... .......... .......... .......... 46%  346M 1s\n",
      " 40200K .......... .......... .......... .......... .......... 46%  255M 1s\n",
      " 40250K .......... .......... .......... .......... .......... 46%  346M 1s\n",
      " 40300K .......... .......... .......... .......... .......... 46%  330M 1s\n",
      " 40350K .......... .......... .......... .......... .......... 46%  356M 1s\n",
      " 40400K .......... .......... .......... .......... .......... 47%  295M 1s\n",
      " 40450K .......... .......... .......... .......... .......... 47%  265M 1s\n",
      " 40500K .......... .......... .......... .......... .......... 47%  251M 1s\n",
      " 40550K .......... .......... .......... .......... .......... 47%  219M 1s\n",
      " 40600K .......... .......... .......... .......... .......... 47%  187M 1s\n",
      " 40650K .......... .......... .......... .......... .......... 47%  261M 1s\n",
      " 40700K .......... .......... .......... .......... .......... 47%  218M 1s\n",
      " 40750K .......... .......... .......... .......... .......... 47%  247M 1s\n",
      " 40800K .......... .......... .......... .......... .......... 47%  284M 1s\n",
      " 40850K .......... .......... .......... .......... .......... 47%  355M 1s\n",
      " 40900K .......... .......... .......... .......... .......... 47%  324M 1s\n",
      " 40950K .......... .......... .......... .......... .......... 47%  343M 1s\n",
      " 41000K .......... .......... .......... .......... .......... 47%  289M 1s\n",
      " 41050K .......... .......... .......... .......... .......... 47%  333M 1s\n",
      " 41100K .......... .......... .......... .......... .......... 47%  339M 1s\n",
      " 41150K .......... .......... .......... .......... .......... 47%  350M 1s\n",
      " 41200K .......... .......... .......... .......... .......... 47%  260M 1s\n",
      " 41250K .......... .......... .......... .......... .......... 48%  320M 1s\n",
      " 41300K .......... .......... .......... .......... .......... 48%  337M 1s\n",
      " 41350K .......... .......... .......... .......... .......... 48%  251M 1s\n",
      " 41400K .......... .......... .......... .......... .......... 48%  203M 1s\n",
      " 41450K .......... .......... .......... .......... .......... 48%  227M 1s\n",
      " 41500K .......... .......... .......... .......... .......... 48%  233M 1s\n",
      " 41550K .......... .......... .......... .......... .......... 48%  233M 1s\n",
      " 41600K .......... .......... .......... .......... .......... 48%  213M 1s\n",
      " 41650K .......... .......... .......... .......... .......... 48%  241M 1s\n",
      " 41700K .......... .......... .......... .......... .......... 48%  250M 1s\n",
      " 41750K .......... .......... .......... .......... .......... 48%  237M 1s\n",
      " 41800K .......... .......... .......... .......... .......... 48%  194M 1s\n",
      " 41850K .......... .......... .......... .......... .......... 48%  283M 1s\n",
      " 41900K .......... .......... .......... .......... .......... 48%  328M 1s\n",
      " 41950K .......... .......... .......... .......... .......... 48%  352M 1s\n",
      " 42000K .......... .......... .......... .......... .......... 48%  293M 1s\n",
      " 42050K .......... .......... .......... .......... .......... 48%  343M 1s\n",
      " 42100K .......... .......... .......... .......... .......... 48%  333M 1s\n",
      " 42150K .......... .......... .......... .......... .......... 49%  350M 1s\n",
      " 42200K .......... .......... .......... .......... .......... 49%  263M 1s\n",
      " 42250K .......... .......... .......... .......... .......... 49%  355M 1s\n",
      " 42300K .......... .......... .......... .......... .......... 49%  269M 1s\n",
      " 42350K .......... .......... .......... .......... .......... 49%  218M 1s\n",
      " 42400K .......... .......... .......... .......... .......... 49%  229M 1s\n",
      " 42450K .......... .......... .......... .......... .......... 49%  229M 1s\n",
      " 42500K .......... .......... .......... .......... .......... 49%  230M 0s\n",
      " 42550K .......... .......... .......... .......... .......... 49%  214M 0s\n",
      " 42600K .......... .......... .......... .......... .......... 49%  190M 0s\n",
      " 42650K .......... .......... .......... .......... .......... 49%  217M 0s\n",
      " 42700K .......... .......... .......... .......... .......... 49%  318M 0s\n",
      " 42750K .......... .......... .......... .......... .......... 49%  354M 0s\n",
      " 42800K .......... .......... .......... .......... .......... 49%  322M 0s\n",
      " 42850K .......... .......... .......... .......... .......... 49%  358M 0s\n",
      " 42900K .......... .......... .......... .......... .......... 49%  348M 0s\n",
      " 42950K .......... .......... .......... .......... .......... 49%  334M 0s\n",
      " 43000K .......... .......... .......... .......... .......... 50%  289M 0s\n",
      " 43050K .......... .......... .......... .......... .......... 50%  310M 0s\n",
      " 43100K .......... .......... .......... .......... .......... 50%  348M 0s\n",
      " 43150K .......... .......... .......... .......... .......... 50%  310M 0s\n",
      " 43200K .......... .......... .......... .......... .......... 50%  314M 0s\n",
      " 43250K .......... .......... .......... .......... .......... 50%  353M 0s\n",
      " 43300K .......... .......... .......... .......... .......... 50%  312M 0s\n",
      " 43350K .......... .......... .......... .......... .......... 50%  264M 0s\n",
      " 43400K .......... .......... .......... .......... .......... 50%  187M 0s\n",
      " 43450K .......... .......... .......... .......... .......... 50%  204M 0s\n",
      " 43500K .......... .......... .......... .......... .......... 50%  247M 0s\n",
      " 43550K .......... .......... .......... .......... .......... 50%  246M 0s\n",
      " 43600K .......... .......... .......... .......... .......... 50%  229M 0s\n",
      " 43650K .......... .......... .......... .......... .......... 50%  238M 0s\n",
      " 43700K .......... .......... .......... .......... .......... 50%  249M 0s\n",
      " 43750K .......... .......... .......... .......... .......... 50%  237M 0s\n",
      " 43800K .......... .......... .......... .......... .......... 50%  220M 0s\n",
      " 43850K .......... .......... .......... .......... .......... 51%  348M 0s\n",
      " 43900K .......... .......... .......... .......... .......... 51%  341M 0s\n",
      " 43950K .......... .......... .......... .......... .......... 51%  353M 0s\n",
      " 44000K .......... .......... .......... .......... .......... 51%  294M 0s\n",
      " 44050K .......... .......... .......... .......... .......... 51%  353M 0s\n",
      " 44100K .......... .......... .......... .......... .......... 51%  352M 0s\n",
      " 44150K .......... .......... .......... .......... .......... 51%  349M 0s\n",
      " 44200K .......... .......... .......... .......... .......... 51%  283M 0s\n",
      " 44250K .......... .......... .......... .......... .......... 51%  322M 0s\n",
      " 44300K .......... .......... .......... .......... .......... 51%  320M 0s\n",
      " 44350K .......... .......... .......... .......... .......... 51%  336M 0s\n",
      " 44400K .......... .......... .......... .......... .......... 51%  317M 0s\n",
      " 44450K .......... .......... .......... .......... .......... 51%  351M 0s\n",
      " 44500K .......... .......... .......... .......... .......... 51%  324M 0s\n",
      " 44550K .......... .......... .......... .......... .......... 51%  354M 0s\n",
      " 44600K .......... .......... .......... .......... .......... 51%  244M 0s\n",
      " 44650K .......... .......... .......... .......... .......... 51%  294M 0s\n",
      " 44700K .......... .......... .......... .......... .......... 52%  362M 0s\n",
      " 44750K .......... .......... .......... .......... .......... 52%  311M 0s\n",
      " 44800K .......... .......... .......... .......... .......... 52%  223M 0s\n",
      " 44850K .......... .......... .......... .......... .......... 52%  222M 0s\n",
      " 44900K .......... .......... .......... .......... .......... 52%  234M 0s\n",
      " 44950K .......... .......... .......... .......... .......... 52%  230M 0s\n",
      " 45000K .......... .......... .......... .......... .......... 52%  202M 0s\n",
      " 45050K .......... .......... .......... .......... .......... 52%  265M 0s\n",
      " 45100K .......... .......... .......... .......... .......... 52%  236M 0s\n",
      " 45150K .......... .......... .......... .......... .......... 52%  205M 0s\n",
      " 45200K .......... .......... .......... .......... .......... 52%  211M 0s\n",
      " 45250K .......... .......... .......... .......... .......... 52%  335M 0s\n",
      " 45300K .......... .......... .......... .......... .......... 52%  298M 0s\n",
      " 45350K .......... .......... .......... .......... .......... 52%  237M 0s\n",
      " 45400K .......... .......... .......... .......... .......... 52%  188M 0s\n",
      " 45450K .......... .......... .......... .......... .......... 52%  248M 0s\n",
      " 45500K .......... .......... .......... .......... .......... 52%  257M 0s\n",
      " 45550K .......... .......... .......... .......... .......... 53%  221M 0s\n",
      " 45600K .......... .......... .......... .......... .......... 53%  210M 0s\n",
      " 45650K .......... .......... .......... .......... .......... 53%  270M 0s\n",
      " 45700K .......... .......... .......... .......... .......... 53%  317M 0s\n",
      " 45750K .......... .......... .......... .......... .......... 53%  358M 0s\n",
      " 45800K .......... .......... .......... .......... .......... 53%  288M 0s\n",
      " 45850K .......... .......... .......... .......... .......... 53%  358M 0s\n",
      " 45900K .......... .......... .......... .......... .......... 53%  327M 0s\n",
      " 45950K .......... .......... .......... .......... .......... 53%  347M 0s\n",
      " 46000K .......... .......... .......... .......... .......... 53%  321M 0s\n",
      " 46050K .......... .......... .......... .......... .......... 53%  320M 0s\n",
      " 46100K .......... .......... .......... .......... .......... 53%  358M 0s\n",
      " 46150K .......... .......... .......... .......... .......... 53%  332M 0s\n",
      " 46200K .......... .......... .......... .......... .......... 53%  280M 0s\n",
      " 46250K .......... .......... .......... .......... .......... 53%  349M 0s\n",
      " 46300K .......... .......... .......... .......... .......... 53%  346M 0s\n",
      " 46350K .......... .......... .......... .......... .......... 53%  333M 0s\n",
      " 46400K .......... .......... .......... .......... .......... 53%  317M 0s\n",
      " 46450K .......... .......... .......... .......... .......... 54%  353M 0s\n",
      " 46500K .......... .......... .......... .......... .......... 54%  325M 0s\n",
      " 46550K .......... .......... .......... .......... .......... 54%  345M 0s\n",
      " 46600K .......... .......... .......... .......... .......... 54%  273M 0s\n",
      " 46650K .......... .......... .......... .......... .......... 54%  344M 0s\n",
      " 46700K .......... .......... .......... .......... .......... 54%  335M 0s\n",
      " 46750K .......... .......... .......... .......... .......... 54%  351M 0s\n",
      " 46800K .......... .......... .......... .......... .......... 54%  306M 0s\n",
      " 46850K .......... .......... .......... .......... .......... 54%  338M 0s\n",
      " 46900K .......... .......... .......... .......... .......... 54% 85.0M 0s\n",
      " 46950K .......... .......... .......... .......... .......... 54%  182M 0s\n",
      " 47000K .......... .......... .......... .......... .......... 54%  156M 0s\n",
      " 47050K .......... .......... .......... .......... .......... 54% 68.3M 0s\n",
      " 47100K .......... .......... .......... .......... .......... 54% 78.7M 0s\n",
      " 47150K .......... .......... .......... .......... .......... 54% 89.0M 0s\n",
      " 47200K .......... .......... .......... .......... .......... 54% 69.8M 0s\n",
      " 47250K .......... .......... .......... .......... .......... 54%  149M 0s\n",
      " 47300K .......... .......... .......... .......... .......... 55%  306M 0s\n",
      " 47350K .......... .......... .......... .......... .......... 55%  328M 0s\n",
      " 47400K .......... .......... .......... .......... .......... 55%  290M 0s\n",
      " 47450K .......... .......... .......... .......... .......... 55%  357M 0s\n",
      " 47500K .......... .......... .......... .......... .......... 55%  329M 0s\n",
      " 47550K .......... .......... .......... .......... .......... 55%  329M 0s\n",
      " 47600K .......... .......... .......... .......... .......... 55%  307M 0s\n",
      " 47650K .......... .......... .......... .......... .......... 55%  355M 0s\n",
      " 47700K .......... .......... .......... .......... .......... 55%  361M 0s\n",
      " 47750K .......... .......... .......... .......... .......... 55%  326M 0s\n",
      " 47800K .......... .......... .......... .......... .......... 55%  296M 0s\n",
      " 47850K .......... .......... .......... .......... .......... 55%  349M 0s\n",
      " 47900K .......... .......... .......... .......... .......... 55%  344M 0s\n",
      " 47950K .......... .......... .......... .......... .......... 55%  335M 0s\n",
      " 48000K .......... .......... .......... .......... .......... 55%  305M 0s\n",
      " 48050K .......... .......... .......... .......... .......... 55%  354M 0s\n",
      " 48100K .......... .......... .......... .......... .......... 55%  330M 0s\n",
      " 48150K .......... .......... .......... .......... .......... 56%  348M 0s\n",
      " 48200K .......... .......... .......... .......... .......... 56%  266M 0s\n",
      " 48250K .......... ...."
     ]
    },
    {
     "name": "stderr",
     "output_type": "stream",
     "text": [
      "...... .......... .......... .......... 56%  182K 1s\n",
      " 48300K .......... .......... .......... .......... .......... 56%  149M 1s\n",
      " 48350K .......... .......... .......... .......... .......... 56%  161M 1s\n",
      " 48400K .......... .......... .......... .......... .......... 56%  147M 1s\n",
      " 48450K .......... .......... .......... .......... .......... 56%  119M 1s\n",
      " 48500K .......... .......... .......... .......... .......... 56%  191M 1s\n",
      " 48550K .......... .......... .......... .......... .......... 56%  162M 1s\n",
      " 48600K .......... .......... .......... .......... .......... 56% 75.8M 1s\n",
      " 48650K .......... .......... .......... .......... .......... 56%  122M 1s\n",
      " 48700K .......... .......... .......... .......... .......... 56%  211M 1s\n",
      " 48750K .......... .......... .......... .......... .......... 56%  228M 1s\n",
      " 48800K .......... .......... .......... .......... .......... 56%  171M 1s\n",
      " 48850K .......... .......... .......... .......... .......... 56%  144M 1s\n",
      " 48900K .......... .......... .......... .......... .......... 56%  163M 1s\n",
      " 48950K .......... .......... .......... .......... .......... 56%  141M 1s\n",
      " 49000K .......... .......... .......... .......... .......... 57%  110M 1s\n",
      " 49050K .......... .......... .......... .......... .......... 57%  163M 1s\n",
      " 49100K .......... .......... .......... .......... .......... 57%  113M 1s\n",
      " 49150K .......... .......... .......... .......... .......... 57% 44.0M 1s\n",
      " 49200K .......... .......... .......... .......... .......... 57% 14.2M 1s\n",
      " 49250K .......... .......... .......... .......... .......... 57% 51.4M 1s\n",
      " 49300K .......... .......... .......... .......... .......... 57%  105M 1s\n",
      " 49350K .......... .......... .......... .......... .......... 57% 69.1M 1s\n",
      " 49400K .......... .......... .......... .......... .......... 57% 44.9M 1s\n",
      " 49450K .......... .......... .......... .......... .......... 57%  108M 1s\n",
      " 49500K .......... .......... .......... .......... .......... 57%  110M 1s\n",
      " 49550K .......... .......... .......... .......... .......... 57%  152M 1s\n",
      " 49600K .......... .......... .......... .......... .......... 57%  190M 1s\n",
      " 49650K .......... .......... .......... .......... .......... 57%  232M 1s\n",
      " 49700K .......... .......... .......... .......... .......... 57%  198M 1s\n",
      " 49750K .......... .......... .......... .......... .......... 57%  178M 1s\n",
      " 49800K .......... .......... .......... .......... .......... 57%  153M 1s\n",
      " 49850K .......... .......... .......... .......... .......... 58%  227M 1s\n",
      " 49900K .......... .......... .......... .......... .......... 58%  226M 1s\n",
      " 49950K .......... .......... .......... .......... .......... 58%  177M 1s\n",
      " 50000K .......... .......... .......... .......... .......... 58%  144M 1s\n",
      " 50050K .......... .......... .......... .......... .......... 58%  257M 1s\n",
      " 50100K .......... .......... .......... .......... .......... 58%  162M 1s\n",
      " 50150K .......... .......... .......... .......... .......... 58%  338M 1s\n",
      " 50200K .......... .......... .......... .......... .......... 58%  233M 1s\n",
      " 50250K .......... .......... .......... .......... .......... 58%  318M 1s\n",
      " 50300K .......... .......... .......... .......... .......... 58%  326M 1s\n",
      " 50350K .......... .......... .......... .......... .......... 58%  293M 1s\n",
      " 50400K .......... .......... .......... .......... .......... 58%  167M 1s\n",
      " 50450K .......... .......... .......... .......... .......... 58%  232M 1s\n",
      " 50500K .......... .......... .......... .......... .......... 58%  279M 1s\n",
      " 50550K .......... .......... .......... .......... .......... 58%  316M 1s\n",
      " 50600K .......... .......... .......... .......... .......... 58%  178M 1s\n",
      " 50650K .......... .......... .......... .......... .......... 58%  244M 1s\n",
      " 50700K .......... .......... .......... .......... .......... 58%  267M 1s\n",
      " 50750K .......... .......... .......... .......... .......... 59%  265M 1s\n",
      " 50800K .......... .......... .......... .......... .......... 59%  290M 1s\n",
      " 50850K .......... .......... .......... .......... .......... 59%  120M 1s\n",
      " 50900K .......... .......... .......... .......... .......... 59% 73.6M 1s\n",
      " 50950K .......... .......... .......... .......... .......... 59%  264M 1s\n",
      " 51000K .......... .......... .......... .......... .......... 59%  201M 1s\n",
      " 51050K .......... .......... .......... .......... .......... 59%  323M 1s\n",
      " 51100K .......... .......... .......... .......... .......... 59%  308M 1s\n",
      " 51150K .......... .......... .......... .......... .......... 59%  238M 1s\n",
      " 51200K .......... .......... .......... .......... .......... 59%  279M 1s\n",
      " 51250K .......... .......... .......... .......... .......... 59%  341M 1s\n",
      " 51300K .......... .......... .......... .......... .......... 59%  329M 1s\n",
      " 51350K .......... .......... .......... .......... .......... 59%  258M 1s\n",
      " 51400K .......... .......... .......... .......... .......... 59%  276M 1s\n",
      " 51450K .......... .......... .......... .......... .......... 59%  288M 1s\n",
      " 51500K .......... .......... .......... .......... .......... 59%  308M 1s\n",
      " 51550K .......... .......... .......... .......... .......... 59%  356M 1s\n",
      " 51600K .......... .......... .......... .......... .......... 60%  281M 1s\n",
      " 51650K .......... .......... .......... .......... .......... 60%  289M 1s\n",
      " 51700K .......... .......... .......... .......... .......... 60%  300M 1s\n",
      " 51750K .......... .......... .......... .......... .......... 60%  312M 1s\n",
      " 51800K .......... .......... .......... .......... .......... 60%  153M 1s\n",
      " 51850K .......... .......... .......... .......... .......... 60%  345M 1s\n",
      " 51900K .......... .......... .......... .......... .......... 60%  344M 1s\n",
      " 51950K .......... .......... .......... .......... .......... 60%  325M 1s\n",
      " 52000K .......... .......... .......... .......... .......... 60%  309M 1s\n",
      " 52050K .......... .......... .......... .......... .......... 60%  348M 1s\n",
      " 52100K .......... .......... .......... .......... .......... 60%  320M 1s\n",
      " 52150K .......... .......... .......... .......... .......... 60%  257M 1s\n",
      " 52200K .......... .......... .......... .......... .......... 60%  273M 1s\n",
      " 52250K .......... .......... .......... .......... .......... 60%  351M 1s\n",
      " 52300K .......... .......... .......... .......... .......... 60%  348M 1s\n",
      " 52350K .......... .......... .......... .......... .......... 60%  321M 1s\n",
      " 52400K .......... .......... .......... .......... .......... 60%  153M 1s\n",
      " 52450K .......... .......... .......... .......... .......... 61%  332M 1s\n",
      " 52500K .......... .......... .......... .......... .......... 61%  330M 1s\n",
      " 52550K .......... .......... .......... .......... .......... 61%  355M 1s\n",
      " 52600K .......... .......... .......... .......... .......... 61%  273M 1s\n",
      " 52650K .......... .......... .......... .......... .......... 61%  277M 1s\n",
      " 52700K .......... .......... .......... .......... .......... 61%  294M 1s\n",
      " 52750K .......... .......... .......... .......... .......... 61%  251M 1s\n",
      " 52800K .......... .......... .......... .......... .......... 61%  313M 1s\n",
      " 52850K .......... .......... .......... .......... .......... 61%  343M 1s\n",
      " 52900K .......... .......... .......... .......... .......... 61%  321M 1s\n",
      " 52950K .......... .......... .......... .......... .......... 61%  353M 1s\n",
      " 53000K .......... .......... .......... .......... .......... 61%  215M 1s\n",
      " 53050K .......... .......... .......... .......... .......... 61%  251M 1s\n",
      " 53100K .......... .......... .......... .......... .......... 61%  346M 1s\n",
      " 53150K .......... .......... .......... .......... .......... 61%  342M 1s\n",
      " 53200K .......... .......... .......... .......... .......... 61%  313M 1s\n",
      " 53250K .......... .......... .......... .......... .......... 61%  333M 1s\n",
      " 53300K .......... .......... .......... .......... .......... 62%  268M 0s\n",
      " 53350K .......... .......... .......... .......... .......... 62%  208M 0s\n",
      " 53400K .......... .......... .......... .......... .......... 62%  237M 0s\n",
      " 53450K .......... .......... .......... .......... .......... 62%  318M 0s\n",
      " 53500K .......... .......... .......... .......... .......... 62%  308M 0s\n",
      " 53550K .......... .......... .......... .......... .......... 62%  248M 0s\n",
      " 53600K .......... .......... .......... .......... .......... 62%  286M 0s\n",
      " 53650K .......... .......... .......... .......... .......... 62%  330M 0s\n",
      " 53700K .......... .......... .......... .......... .......... 62%  259M 0s\n",
      " 53750K .......... .......... .......... .......... .......... 62%  353M 0s\n",
      " 53800K .......... .......... .......... .......... .......... 62%  289M 0s\n",
      " 53850K .......... .......... .......... .......... .......... 62%  317M 0s\n",
      " 53900K .......... .......... .......... .......... .......... 62%  353M 0s\n",
      " 53950K .......... .......... .......... .......... .......... 62%  331M 0s\n",
      " 54000K .......... .......... .......... .......... .......... 62%  314M 0s\n",
      " 54050K .......... .......... .......... .......... .......... 62%  335M 0s\n",
      " 54100K .......... .......... .......... .......... .......... 62%  251M 0s\n",
      " 54150K .......... .......... .......... .......... .......... 63%  237M 0s\n",
      " 54200K .......... .......... .......... .......... .......... 63%  252M 0s\n",
      " 54250K .......... .......... .......... .......... .......... 63%  347M 0s\n",
      " 54300K .......... .......... .......... .......... .......... 63%  354M 0s\n",
      " 54350K .......... .......... .......... .......... .......... 63%  226M 0s\n",
      " 54400K .......... .......... .......... .......... .......... 63%  276M 0s\n",
      " 54450K .......... .......... .......... .......... .......... 63%  336M 0s\n",
      " 54500K .......... .......... .......... .......... .......... 63%  333M 0s\n",
      " 54550K .......... .......... .......... .......... .......... 63%  338M 0s\n",
      " 54600K .......... .......... .......... .......... .......... 63%  226M 0s\n",
      " 54650K .......... .......... .......... .......... .......... 63%  216M 0s\n",
      " 54700K .......... .......... .......... .......... .......... 63%  173M 0s\n",
      " 54750K .......... .......... .......... .......... .......... 63%  264M 0s\n",
      " 54800K .......... .......... .......... .......... .......... 63%  254M 0s\n",
      " 54850K .......... .......... .......... .......... .......... 63%  314M 0s\n",
      " 54900K .......... .......... .......... .......... .......... 63%  200M 0s\n",
      " 54950K .......... .......... .......... .......... .......... 63%  207M 0s\n",
      " 55000K .......... .......... .......... .......... .......... 63%  279M 0s\n",
      " 55050K .......... .......... .......... .......... .......... 64%  352M 0s\n",
      " 55100K .......... .......... .......... .......... .......... 64%  329M 0s\n",
      " 55150K .......... .......... .......... .......... .......... 64%  288M 0s\n",
      " 55200K .......... .......... .......... .......... .......... 64%  150M 0s\n",
      " 55250K .......... .......... .......... .......... .......... 64%  306M 0s\n",
      " 55300K .......... .......... .......... .......... .......... 64%  336M 0s\n",
      " 55350K .......... .......... .......... .......... .......... 64%  239M 0s\n",
      " 55400K .......... .......... .......... .......... .......... 64%  287M 0s\n",
      " 55450K .......... .......... .......... .......... .......... 64%  322M 0s\n",
      " 55500K .......... .......... .......... .......... .......... 64%  341M 0s\n",
      " 55550K .......... .......... .......... .......... .......... 64%  346M 0s\n",
      " 55600K .......... .......... .......... .......... .......... 64% 25.2M 0s\n",
      " 55650K .......... .......... .......... .......... .......... 64% 64.2M 0s\n",
      " 55700K .......... .......... .......... .......... .......... 64% 55.0M 0s\n",
      " 55750K .......... .......... .......... .......... .......... 64%  322M 0s\n",
      " 55800K .......... .......... .......... .......... .......... 64%  267M 0s\n",
      " 55850K .......... .......... .......... .......... .......... 64%  344M 0s\n",
      " 55900K .......... .......... .......... .......... .......... 65%  343M 0s\n",
      " 55950K .......... .......... .......... .......... .......... 65%  353M 0s\n",
      " 56000K .......... .......... .......... .......... .......... 65%  320M 0s\n",
      " 56050K .......... .......... .......... .......... .......... 65%  351M 0s\n",
      " 56100K .......... .......... .......... .......... .......... 65%  275M 0s\n",
      " 56150K .......... .......... .......... .......... .......... 65%  166M 0s\n",
      " 56200K .......... .......... .......... .......... .......... 65% 56.4M 0s\n",
      " 56250K .......... .......... .......... .......... .......... 65%  319M 0s\n",
      " 56300K .......... .......... .......... .......... .......... 65%  336M 0s\n",
      " 56350K .......... .......... .......... .......... .......... 65%  340M 0s\n",
      " 56400K .......... .......... .......... .......... .......... 65%  313M 0s\n",
      " 56450K .......... .......... .......... .......... .......... 65%  346M 0s\n",
      " 56500K .......... .......... .......... .......... .......... 65%  341M 0s\n",
      " 56550K .......... .......... .......... .......... .......... 65%  352M 0s\n",
      " 56600K .......... .......... .......... .......... .......... 65%  281M 0s\n",
      " 56650K .......... .......... .......... .......... .......... 65%  345M 0s\n",
      " 56700K .......... .......... .......... .......... .......... 65%  343M 0s\n",
      " 56750K .......... .......... .......... .......... .......... 66%  350M 0s\n",
      " 56800K .......... .......... .......... .......... .......... 66% 70.0M 0s\n",
      " 56850K .......... .......... .......... .......... .......... 66%  313M 0s\n",
      " 56900K .......... .......... .......... .......... .......... 66%  338M 0s\n",
      " 56950K .......... .......... .......... .......... .......... 66%  348M 0s\n",
      " 57000K .......... .......... .......... .......... .......... 66%  231M 0s\n",
      " 57050K .......... .......... .......... .......... .......... 66%  285M 0s\n",
      " 57100K .......... .......... .......... .......... .......... 66%  314M 0s\n",
      " 57150K .......... .......... .......... .......... .......... 66%  340M 0s\n",
      " 57200K .......... .......... .......... .......... .......... 66%  314M 0s\n",
      " 57250K .......... .......... .......... .......... .......... 66%  361M 0s\n",
      " 57300K .......... .......... .......... .......... .......... 66%  345M 0s\n",
      " 57350K .......... .......... .......... .......... .......... 66%  307M 0s\n",
      " 57400K .......... .......... .......... .......... .......... 66%  285M 0s\n",
      " 57450K .......... .......... .......... .......... .......... 66%  335M 0s\n",
      " 57500K .......... .......... .......... .......... .......... 66%  357M 0s\n",
      " 57550K .......... .......... .......... .......... .......... 66%  327M 0s\n",
      " 57600K .......... .......... .......... .......... .......... 67%  305M 0s\n",
      " 57650K .......... .......... .......... .......... .......... 67%  353M 0s\n",
      " 57700K .......... .......... .......... .......... .......... 67%  363M 0s\n",
      " 57750K .......... .......... .......... .......... .......... 67%  306M 0s\n",
      " 57800K .......... .......... .......... .......... .......... 67%  277M 0s\n",
      " 57850K .......... .......... .......... .......... .......... 67%  357M 0s\n",
      " 57900K .......... .......... .......... .......... .......... 67%  352M 0s\n",
      " 57950K .......... .......... .......... .......... .......... 67%  330M 0s\n",
      " 58000K .......... .......... .......... .......... .......... 67%  169M 0s\n",
      " 58050K .......... .......... .......... .......... .......... 67% 99.3M 0s\n",
      " 58100K .......... .......... .......... .......... .......... 67% 63.6M 0s\n",
      " 58150K .......... .......... .......... .......... .......... 67%  130M 0s\n",
      " 58200K .......... .......... .......... .......... .......... 67% 67.7M 0s\n",
      " 58250K .......... .......... .......... .......... .......... 67%  228M 0s\n",
      " 58300K .......... .......... .......... .......... .......... 67%  357M 0s\n",
      " 58350K .......... .......... .......... .......... .......... 67%  333M 0s\n",
      " 58400K .......... .......... .......... .......... .......... 67%  318M 0s\n",
      " 58450K .......... .......... .......... .......... .......... 68%  357M 0s\n",
      " 58500K .......... .......... .......... .......... .......... 68%  118M 0s\n",
      " 58550K .......... .......... .......... .......... .......... 68%  113M 0s\n",
      " 58600K .......... .......... .......... .......... .......... 68%  242M 0s\n",
      " 58650K .......... .......... .......... .......... .......... 68%  368M 0s\n",
      " 58700K .......... .......... .......... .......... .......... 68%  187M 0s\n",
      " 58750K .......... .......... .......... .......... .......... 68%  281M 0s\n",
      " 58800K .......... .......... .......... .......... .......... 68%  253M 0s\n",
      " 58850K .......... .......... .......... .......... .......... 68%  336M 0s\n",
      " 58900K .......... .......... .......... .......... .......... 68%  349M 0s\n",
      " 58950K .......... .......... .......... .......... .......... 68%  348M 0s\n",
      " 59000K .......... .......... .......... .......... .......... 68%  288M 0s\n",
      " 59050K .......... .......... .......... .......... .......... 68%  352M 0s\n",
      " 59100K .......... .......... .......... .......... .......... 68%  336M 0s\n",
      " 59150K .......... .......... .......... .......... .......... 68%  346M 0s\n",
      " 59200K .......... .......... .......... .......... .......... 68%  313M 0s\n",
      " 59250K .......... .......... .......... .......... .......... 68%  350M 0s\n",
      " 59300K .......... .......... .......... .......... .......... 68%  351M 0s\n",
      " 59350K .......... .......... .......... .......... .......... 69%  339M 0s\n",
      " 59400K .......... .......... .......... .......... .......... 69%  275M 0s\n",
      " 59450K .......... .......... .......... .......... .......... 69%  350M 0s\n",
      " 59500K .......... .......... .......... .......... .......... 69%  337M 0s\n",
      " 59550K .......... .......... .......... .......... .......... 69%  332M 0s\n",
      " 59600K .......... .......... .......... .......... .......... 69%  312M 0s\n",
      " 59650K .......... .......... .......... .......... .......... 69%  327M 0s\n",
      " 59700K .......... .......... .......... .......... .......... 69% 82.1M 0s\n",
      " 59750K .......... .......... .......... .......... .......... 69% 39.9M 0s\n",
      " 59800K .......... .......... .......... .......... .......... 69%  120M 0s\n",
      " 59850K .......... .......... .......... .......... .......... 69%  228M 0s\n",
      " 59900K .......... .......... .......... .......... .......... 69%  137M 0s\n",
      " 59950K .......... .......... .......... .......... .......... 69%  218M 0s\n",
      " 60000K .......... .......... .......... .......... .......... 69%  315M 0s\n",
      " 60050K .......... .......... .......... .......... .......... 69%  332M 0s\n",
      " 60100K .......... .......... .......... .......... .......... 69%  337M 0s\n",
      " 60150K .......... .......... .......... .......... .......... 69%  328M 0s\n",
      " 60200K .......... .......... .......... .......... .......... 70%  258M 0s\n",
      " 60250K .......... .......... .......... .......... .......... 70%  327M 0s\n",
      " 60300K .......... .......... .......... .......... .......... 70%  347M 0s\n",
      " 60350K .......... .......... .......... .......... .......... 70%  350M 0s\n",
      " 60400K .......... .......... .......... .......... .......... 70%  269M 0s\n",
      " 60450K .......... .......... .......... .......... .......... 70%  328M 0s\n",
      " 60500K .......... .......... .......... .......... .......... 70%  327M 0s\n",
      " 60550K .......... .......... .......... .......... .......... 70%  348M 0s\n",
      " 60600K .......... .......... .......... .......... .......... 70%  284M 0s\n",
      " 60650K .......... .......... .......... .......... .......... 70%  322M 0s\n",
      " 60700K .......... .......... .......... .......... .......... 70%  275M 0s\n",
      " 60750K .......... .......... .......... .......... .......... 70%  338M 0s\n",
      " 60800K .......... .......... .......... .......... .......... 70%  301M 0s\n",
      " 60850K .......... .......... .......... .......... .......... 70%  327M 0s\n",
      " 60900K .......... .......... .......... .......... .......... 70%  343M 0s\n",
      " 60950K .......... .......... .......... .......... .......... 70%  349M 0s\n",
      " 61000K .......... .......... .......... .......... .......... 70%  272M 0s\n",
      " 61050K .......... .......... .......... .......... .......... 71%  340M 0s\n",
      " 61100K .......... .......... .......... .......... .......... 71%  350M 0s\n",
      " 61150K .......... .......... .......... .......... .......... 71%  322M 0s\n",
      " 61200K .......... .......... .......... .......... .......... 71%  312M 0s\n",
      " 61250K .......... .......... .......... .......... .......... 71%  353M 0s\n",
      " 61300K .......... .......... .......... .......... .......... 71%  342M 0s\n",
      " 61350K .......... .......... .......... .......... .......... 71%  334M 0s\n",
      " 61400K .......... .......... .......... .......... .......... 71%  290M 0s\n",
      " 61450K .......... .......... .......... .......... .......... 71%  353M 0s\n",
      " 61500K .......... .......... .......... .......... .......... 71%  326M 0s\n",
      " 61550K .......... .......... .......... .......... .......... 71%  354M 0s\n",
      " 61600K .......... .......... .......... .......... .......... 71%  320M 0s\n",
      " 61650K .......... .......... .......... .......... .......... 71% 25.2M 0s\n",
      " 61700K .......... .......... .......... .......... .......... 71% 86.0M 0s\n",
      " 61750K .......... .......... .......... .......... .......... 71% 92.1M 0s\n",
      " 61800K .......... .......... .......... .......... .......... 71% 64.7M 0s\n",
      " 61850K .......... .......... .......... .......... .......... 71%  121M 0s\n",
      " 61900K .......... .......... .......... .......... .......... 72%  325M 0s\n",
      " 61950K .......... .......... .......... .......... .......... 72%  348M 0s\n",
      " 62000K .......... .......... .......... .......... .......... 72%  335M 0s\n",
      " 62050K .......... .......... .......... .......... .......... 72%  359M 0s\n",
      " 62100K .......... .......... .......... .......... .......... 72%  363M 0s\n",
      " 62150K .......... .......... .......... .......... .......... 72%  361M 0s\n",
      " 62200K .......... .......... .......... .......... .......... 72%  236M 0s\n",
      " 62250K .......... .......... .......... .......... .......... 72%  235M 0s\n",
      " 62300K .......... .......... .......... .......... .......... 72%  252M 0s\n",
      " 62350K .......... .......... .......... .......... .......... 72%  238M 0s\n",
      " 62400K .......... .......... .......... .......... .......... 72%  221M 0s\n",
      " 62450K .......... .......... .......... .......... .......... 72%  223M 0s\n",
      " 62500K .......... .......... .......... .......... .......... 72%  325M 0s\n",
      " 62550K .......... .......... .......... .......... .......... 72%  349M 0s\n",
      " 62600K .......... .......... .......... .......... .......... 72%  287M 0s\n",
      " 62650K .......... .......... .......... .......... .......... 72%  349M 0s\n",
      " 62700K .......... .......... .......... .......... .......... 72%  310M 0s\n",
      " 62750K .......... .......... .......... .......... .......... 73%  354M 0s\n",
      " 62800K .......... .......... .......... .......... .......... 73%  319M 0s\n",
      " 62850K .......... .......... .......... .......... .......... 73%  339M 0s\n",
      " 62900K .......... .......... .......... .......... .......... 73%  338M 0s\n",
      " 62950K .......... .......... .......... .......... .......... 73%  350M 0s\n",
      " 63000K .......... .......... .......... .......... .......... 73%  274M 0s\n",
      " 63050K .......... .......... .......... .......... .......... 73%  341M 0s\n",
      " 63100K .......... .......... .......... .......... .......... 73%  331M 0s\n",
      " 63150K .......... .......... .......... .......... .......... 73%  355M 0s\n",
      " 63200K .......... .......... .......... .......... .......... 73%  302M 0s\n",
      " 63250K .......... .......... .......... .......... .......... 73%  357M 0s\n",
      " 63300K .......... .......... .......... .......... .......... 73%  357M 0s\n",
      " 63350K .......... .......... .......... .......... .......... 73%  325M 0s\n",
      " 63400K .......... .......... .......... .......... .......... 73%  293M 0s\n",
      " 63450K .......... .......... .......... .......... .......... 73% 85.2M 0s\n",
      " 63500K .......... .......... .......... .......... .......... 73% 99.7M 0s\n",
      " 63550K .......... .......... .......... .......... .......... 73% 60.2M 0s\n",
      " 63600K .......... .......... .......... .......... .......... 73%  191M 0s\n",
      " 63650K .......... .......... .......... .......... .......... 74%  357M 0s\n",
      " 63700K .......... .......... .......... .......... .......... 74%  314M 0s\n",
      " 63750K .......... .......... .......... .......... .......... 74%  331M 0s\n",
      " 63800K .......... .......... .......... .......... .......... 74%  225M 0s\n",
      " 63850K .......... .......... .......... .......... .......... 74%  269M 0s\n",
      " 63900K .......... .......... .......... .......... .......... 74%  210M 0s\n",
      " 63950K .......... .......... .......... .......... .......... 74%  289M 0s\n",
      " 64000K .......... .......... .......... .......... .......... 74%  306M 0s\n",
      " 64050K .......... .......... .......... .......... .......... 74%  360M 0s\n",
      " 64100K .......... .......... .......... .......... .......... 74%  357M 0s\n",
      " 64150K .......... .......... .......... .......... .......... 74%  352M 0s\n",
      " 64200K .......... .......... .......... .......... .......... 74%  240M 0s\n",
      " 64250K .......... .......... .......... .......... .......... 74%  246M 0s\n",
      " 64300K .......... .......... .......... .......... .......... 74%  333M 0s\n",
      " 64350K .......... .......... .......... .......... .......... 74%  356M 0s\n",
      " 64400K .......... .......... .......... .......... .......... 74%  323M 0s\n",
      " 64450K .......... .......... .......... .......... .......... 74%  362M 0s\n",
      " 64500K .......... .......... .......... .......... .......... 75%  359M 0s\n",
      " 64550K .......... .......... .......... .......... .......... 75%  344M 0s\n",
      " 64600K .......... .......... .......... .......... .......... 75%  299M 0s\n",
      " 64650K .......... .......... .......... .......... .......... 75%  341M 0s\n",
      " 64700K .......... .......... .......... .......... .......... 75% 23.2M 0s\n",
      " 64750K .......... .......... .......... .......... .......... 75% 15.1M 0s\n",
      " 64800K .......... .......... .......... .......... .......... 75%  101M 0s\n",
      " 64850K .......... .......... .......... .......... .......... 75%  254M 0s\n",
      " 64900K .......... .......... .......... .......... .......... 75%  243M 0s\n",
      " 64950K .......... .......... .......... .......... .......... 75%  240M 0s\n",
      " 65000K .......... .......... .......... .......... .......... 75%  199M 0s\n",
      " 65050K .......... .......... .......... .......... .......... 75%  300M 0s\n",
      " 65100K .......... .......... .......... .......... .......... 75%  350M 0s\n",
      " 65150K .......... .......... .......... .......... .......... 75%  348M 0s\n",
      " 65200K .......... .......... .......... .......... .......... 75%  308M 0s\n",
      " 65250K .......... .......... .......... .......... .......... 75%  357M 0s\n",
      " 65300K .......... .......... .......... .......... .......... 75%  357M 0s\n",
      " 65350K .......... .......... .......... .......... .......... 76%  357M 0s\n",
      " 65400K .......... .......... .......... .......... .......... 76%  294M 0s\n",
      " 65450K .......... .......... .......... .......... .......... 76%  337M 0s\n",
      " 65500K .......... .......... .......... .......... .......... 76%  344M 0s\n",
      " 65550K .......... .......... .......... .......... .......... 76%  303M 0s\n",
      " 65600K .......... .......... .......... .......... .......... 76%  316M 0s\n",
      " 65650K .......... .......... .......... .......... .......... 76%  328M 0s\n",
      " 65700K .......... .......... .......... .......... .......... 76%  319M 0s\n",
      " 65750K .......... .......... .......... .......... .......... 76%  353M 0s\n",
      " 65800K .......... .......... .......... .......... .......... 76%  277M 0s\n",
      " 65850K .......... .......... .......... .......... .......... 76%  358M 0s\n",
      " 65900K .......... .......... .......... .......... .......... 76%  336M 0s\n",
      " 65950K .......... .......... .......... .......... .......... 76%  334M 0s\n",
      " 66000K .......... .......... .......... .......... .......... 76%  301M 0s\n",
      " 66050K .......... .......... .......... .......... .......... 76%  340M 0s\n",
      " 66100K .......... .......... .......... .......... .......... 76%  309M 0s\n",
      " 66150K .......... .......... .......... .......... .......... 76%  345M 0s\n",
      " 66200K .......... .......... .......... .......... .......... 77%  295M 0s\n",
      " 66250K .......... .......... .......... .......... .......... 77%  330M 0s\n",
      " 66300K .......... .......... .......... .......... .......... 77%  328M 0s\n",
      " 66350K .......... .......... .......... .......... .......... 77% 53.5M 0s\n",
      " 66400K .......... .......... .......... .......... .......... 77%  163M 0s\n",
      " 66450K .......... .......... .......... .......... .......... 77%  124M 0s\n",
      " 66500K .......... .......... .......... .......... .......... 77%  153M 0s\n",
      " 66550K .......... .......... .......... .......... .......... 77%  102M 0s\n",
      " 66600K .......... .......... .......... .......... .......... 77%  158M 0s\n",
      " 66650K .......... .......... .......... .......... .......... 77%  333M 0s\n",
      " 66700K .......... .......... .......... .......... .......... 77%  316M 0s\n",
      " 66750K .......... .......... .......... .......... .......... 77%  303M 0s\n",
      " 66800K .......... .......... .......... .......... .......... 77%  258M 0s\n",
      " 66850K .......... .......... .......... .......... .......... 77%  287M 0s\n",
      " 66900K .......... .......... .......... .......... .......... 77%  331M 0s\n",
      " 66950K .......... .......... .......... .......... .......... 77%  358M 0s\n",
      " 67000K .......... .......... .......... .......... .......... 77%  299M 0s\n",
      " 67050K .......... .......... .......... .......... .......... 78%  236M 0s\n",
      " 67100K .......... .......... .......... .......... .......... 78%  331M 0s\n",
      " 67150K .......... .......... .......... .......... .......... 78%  335M 0s\n",
      " 67200K .......... .......... .......... .......... .......... 78%  309M 0s\n",
      " 67250K .......... .......... .......... .......... .......... 78%  353M 0s\n",
      " 67300K .......... .......... .......... .......... .......... 78%  347M 0s\n",
      " 67350K .......... .......... .......... .......... .......... 78%  353M 0s\n",
      " 67400K .......... .......... .......... .......... .......... 78%  283M 0s\n",
      " 67450K .......... .......... .......... .......... .......... 78%  348M 0s\n",
      " 67500K .......... .......... .......... .......... .......... 78%  353M 0s\n",
      " 67550K .......... .......... .......... .......... .......... 78%  326M 0s\n",
      " 67600K .......... .......... .......... .......... .......... 78%  324M 0s\n",
      " 67650K .......... .......... .......... .......... .......... 78%  331M 0s\n",
      " 67700K .......... .......... .......... .......... .......... 78%  319M 0s\n",
      " 67750K .......... .......... .......... .......... .......... 78%  330M 0s\n",
      " 67800K .......... .......... .......... .......... .......... 78%  256M 0s\n",
      " 67850K .......... .......... .......... .......... .......... 78%  334M 0s\n",
      " 67900K .......... .......... .......... .......... .......... 78%  355M 0s\n",
      " 67950K .......... .......... .......... .......... .......... 79%  356M 0s\n",
      " 68000K .......... .......... .......... .......... .......... 79%  300M 0s\n",
      " 68050K .......... .......... .......... .......... .......... 79%  318M 0s\n",
      " 68100K .......... .......... .......... .......... .......... 79%  276M 0s\n",
      " 68150K .......... .......... .......... .......... .......... 79%  250M 0s\n",
      " 68200K .......... .......... .......... .......... .......... 79%  287M 0s\n",
      " 68250K .......... .......... .......... .......... .......... 79%  334M 0s\n",
      " 68300K .......... .......... .......... .......... .......... 79%  323M 0s\n",
      " 68350K .......... .......... .......... .......... .......... 79%  255M 0s\n",
      " 68400K .......... .......... .......... .......... .......... 79%  248M 0s\n",
      " 68450K .......... .......... .......... .......... .......... 79%  324M 0s\n",
      " 68500K .......... .......... .......... .......... .......... 79% 95.6M 0s\n",
      " 68550K .......... .......... .......... .......... .......... 79%  108M 0s\n",
      " 68600K .......... .......... .......... .......... .......... 79% 90.9M 0s\n",
      " 68650K .......... .......... .......... .......... .......... 79% 74.5M 0s\n",
      " 68700K .......... .......... .......... .......... .......... 79% 55.2M 0s\n",
      " 68750K .......... .......... .......... .......... .......... 79%  179M 0s\n",
      " 68800K .......... .......... .......... .......... .......... 80% 67.0M 0s\n",
      " 68850K .......... .......... .......... .......... .......... 80% 73.5M 0s\n",
      " 68900K .......... .......... .......... .......... .......... 80% 77.9M 0s\n",
      " 68950K .......... .......... .......... .......... .......... 80% 60.3M 0s\n",
      " 69000K .......... .......... .......... .......... .......... 80% 54.9M 0s\n",
      " 69050K .......... .......... .......... .......... .......... 80%  168M 0s\n",
      " 69100K .......... .......... .......... .......... .......... 80%  278M 0s\n",
      " 69150K .......... .......... .......... .......... .......... 80%  222M 0s\n",
      " 69200K .......... .......... .......... .......... .......... 80%  294M 0s\n",
      " 69250K .......... .......... .......... .......... .......... 80%  333M 0s\n",
      " 69300K .......... .......... .......... .......... .......... 80% 81.8M 0s\n",
      " 69350K .......... .......... .......... .......... .......... 80% 89.7M 0s\n",
      " 69400K .......... .......... .......... .......... .......... 80% 88.2M 0s\n",
      " 69450K .......... .......... .......... .......... .......... 80% 87.7M 0s\n",
      " 69500K .......... .......... .......... .......... .......... 80% 55.1M 0s\n",
      " 69550K .......... .......... .......... .......... .......... 80%  233M 0s\n",
      " 69600K .......... .......... .......... .......... .......... 80%  228M 0s\n",
      " 69650K .......... .......... .......... .......... .......... 81%  248M 0s\n",
      " 69700K .......... .......... .......... .......... .......... 81%  254M 0s\n",
      " 69750K .......... .......... .......... .......... .......... 81%  239M 0s\n",
      " 69800K .......... .......... .......... .......... .......... 81%  274M 0s\n",
      " 69850K .......... .......... .......... .......... .......... 81%  334M 0s\n",
      " 69900K .......... .......... .......... .......... .......... 81%  349M 0s\n",
      " 69950K .......... .......... .......... .......... .......... 81%  351M 0s\n",
      " 70000K .......... .......... .......... .......... .......... 81%  319M 0s\n",
      " 70050K .......... .......... .......... .......... .......... 81%  350M 0s\n",
      " 70100K .......... .......... .......... .......... .......... 81%  333M 0s\n",
      " 70150K .......... .......... .......... .......... .......... 81%  340M 0s\n",
      " 70200K .......... .......... .......... .......... .......... 81%  290M 0s\n",
      " 70250K .......... .......... .......... .......... .......... 81%  353M 0s\n",
      " 70300K .......... .......... .......... .......... .......... 81%  353M 0s\n",
      " 70350K .......... .......... .......... .......... .......... 81%  337M 0s\n",
      " 70400K .......... .......... .......... .......... .......... 81%  318M 0s\n",
      " 70450K .......... .......... .......... .......... .......... 81%  351M 0s\n",
      " 70500K .......... .......... .......... .......... .......... 82%  356M 0s\n",
      " 70550K .......... .......... .......... .......... .......... 82%  323M 0s\n",
      " 70600K .......... .......... .......... .......... .......... 82%  265M 0s\n",
      " 70650K .......... .......... .......... .......... .......... 82%  343M 0s\n",
      " 70700K .......... .......... .......... .......... .......... 82%  352M 0s\n",
      " 70750K .......... .......... .......... .......... .......... 82%  346M 0s\n",
      " 70800K .......... .......... .......... .......... .......... 82% 45.1M 0s\n",
      " 70850K .......... .......... .......... .......... .......... 82%  195M 0s\n",
      " 70900K .......... .......... .......... .......... .......... 82%  291M 0s\n",
      " 70950K .......... .......... .......... .......... .......... 82%  139M 0s\n",
      " 71000K .......... .......... .......... .......... .......... 82% 91.8M 0s\n",
      " 71050K .......... .......... .......... .......... .......... 82%  178M 0s\n",
      " 71100K .......... .......... .......... .......... .......... 82%  349M 0s\n",
      " 71150K .......... .......... .......... .......... .......... 82%  351M 0s\n",
      " 71200K .......... .......... .......... .......... .......... 82%  301M 0s\n",
      " 71250K .......... .......... .......... .......... .......... 82%  348M 0s\n",
      " 71300K .......... .......... .......... .......... .......... 82%  328M 0s\n",
      " 71350K .......... .......... .......... .......... .......... 83%  345M 0s\n",
      " 71400K .......... .......... .......... .......... .......... 83%  292M 0s\n",
      " 71450K .......... .......... .......... .......... .......... 83%  333M 0s\n",
      " 71500K .......... .......... .......... .......... .......... 83%  352M 0s\n",
      " 71550K .......... .......... .......... .......... .......... 83%  349M 0s\n",
      " 71600K .......... .......... .......... .......... .......... 83%  265M 0s\n",
      " 71650K .......... .......... .......... .......... .......... 83%  247M 0s\n",
      " 71700K .......... .......... .......... .......... .......... 83%  322M 0s\n",
      " 71750K .......... .......... .......... .......... .......... 83%  343M 0s\n",
      " 71800K .......... .......... .......... .......... .......... 83%  271M 0s\n",
      " 71850K .......... .......... .......... .......... .......... 83%  345M 0s\n",
      " 71900K .......... .......... .......... .......... .......... 83%  338M 0s\n",
      " 71950K .......... .......... .......... .......... .......... 83%  332M 0s\n",
      " 72000K .......... .......... .......... .......... .......... 83%  296M 0s\n",
      " 72050K .......... .......... .......... .......... .......... 83%  342M 0s\n",
      " 72100K .......... .......... .......... .......... .......... 83%  342M 0s\n",
      " 72150K .......... .......... .......... .......... .......... 83%  303M 0s\n",
      " 72200K .......... .......... .......... .......... .......... 83%  271M 0s\n",
      " 72250K .......... .......... .......... .......... .......... 84%  342M 0s\n",
      " 72300K .......... .......... .......... .......... .......... 84%  346M 0s\n",
      " 72350K .......... .......... .......... .......... .......... 84%  336M 0s\n",
      " 72400K .......... .......... .......... .......... .......... 84%  309M 0s\n",
      " 72450K .......... .......... .......... .......... .......... 84%  321M 0s\n",
      " 72500K .......... .......... .......... .......... .......... 84%  273M 0s\n",
      " 72550K .......... .......... .......... .......... .......... 84%  206M 0s\n",
      " 72600K .......... .......... .......... .......... .......... 84%  246M 0s\n",
      " 72650K .......... .......... .......... .......... .......... 84%  308M 0s\n",
      " 72700K .......... .......... .......... .......... .......... 84%  290M 0s\n",
      " 72750K .......... .......... .......... .......... .......... 84%  312M 0s\n",
      " 72800K .......... .......... .......... .......... .......... 84%  288M 0s\n",
      " 72850K .......... .......... .......... .......... .......... 84%  268M 0s\n",
      " 72900K .......... .......... .......... .......... .......... 84%  258M 0s\n",
      " 72950K .......... .......... .......... .......... .......... 84%  324M 0s\n",
      " 73000K .......... .......... .......... .......... .......... 84%  287M 0s\n",
      " 73050K .......... .......... .......... .......... .......... 84%  320M 0s\n",
      " 73100K .......... .......... .......... .......... .......... 85%  334M 0s\n",
      " 73150K .......... .......... .......... .......... .......... 85%  260M 0s\n",
      " 73200K .......... .......... .......... .......... .......... 85%  265M 0s\n",
      " 73250K .......... .......... .......... .......... .......... 85%  343M 0s\n",
      " 73300K .......... .......... .......... .......... .......... 85%  351M 0s\n",
      " 73350K .."
     ]
    },
    {
     "name": "stderr",
     "output_type": "stream",
     "text": [
      "........ .......... .......... .......... .......... 85%  611K 0s\n",
      " 73400K .......... .......... .......... .......... .......... 85%  261M 0s\n",
      " 73450K .......... .......... .......... .......... .......... 85%  337M 0s\n",
      " 73500K .......... .......... .......... .......... .......... 85%  349M 0s\n",
      " 73550K .......... .......... .......... .......... .......... 85%  271M 0s\n",
      " 73600K .......... .......... .......... .......... .......... 85%  256M 0s\n",
      " 73650K .......... .......... .......... .......... .......... 85%  285M 0s\n",
      " 73700K .......... .......... .......... .......... .......... 85%  280M 0s\n",
      " 73750K .......... .......... .......... .......... .......... 85%  259M 0s\n",
      " 73800K .......... .......... .......... .......... .......... 85%  210M 0s\n",
      " 73850K .......... .......... .......... .......... .......... 85%  230M 0s\n",
      " 73900K .......... .......... .......... .......... .......... 85%  244M 0s\n",
      " 73950K .......... .......... .......... .......... .......... 86%  339M 0s\n",
      " 74000K .......... .......... .......... .......... .......... 86%  314M 0s\n",
      " 74050K .......... .......... .......... .......... .......... 86%  344M 0s\n",
      " 74100K .......... .......... .......... .......... .......... 86%  352M 0s\n",
      " 74150K .......... .......... .......... .......... .......... 86%  321M 0s\n",
      " 74200K .......... .......... .......... .......... .......... 86%  943K 0s\n",
      " 74250K .......... .......... .......... .......... .......... 86%  184M 0s\n",
      " 74300K .......... .......... .......... .......... .......... 86%  275M 0s\n",
      " 74350K .......... .......... .......... .......... .......... 86%  275M 0s\n",
      " 74400K .......... .......... .......... .......... .......... 86%  188M 0s\n",
      " 74450K .......... .......... .......... .......... .......... 86%  268M 0s\n",
      " 74500K .......... .......... .......... .......... .......... 86%  255M 0s\n",
      " 74550K .......... .......... .......... .......... .......... 86%  240M 0s\n",
      " 74600K .......... .......... .......... .......... .......... 86%  201M 0s\n",
      " 74650K .......... .......... .......... .......... .......... 86%  247M 0s\n",
      " 74700K .......... .......... .......... .......... .......... 86%  237M 0s\n",
      " 74750K .......... .......... .......... .......... .......... 86%  263M 0s\n",
      " 74800K .......... .......... .......... .......... .......... 87%  216M 0s\n",
      " 74850K .......... .......... .......... .......... .......... 87%  222M 0s\n",
      " 74900K .......... .......... .......... .......... .......... 87%  301M 0s\n",
      " 74950K .......... .......... .......... .......... .......... 87%  338M 0s\n",
      " 75000K .......... .......... .......... .......... .......... 87%  287M 0s\n",
      " 75050K .......... .......... .......... .......... .......... 87%  286M 0s\n",
      " 75100K .......... .......... .......... .......... .......... 87%  207M 0s\n",
      " 75150K .......... .......... .......... .......... .......... 87%  238M 0s\n",
      " 75200K .......... .......... .......... .......... .......... 87%  172M 0s\n",
      " 75250K .......... .......... .......... .......... .......... 87%  245M 0s\n",
      " 75300K .......... .......... .......... .......... .......... 87%  279M 0s\n",
      " 75350K .......... .......... .......... .......... .......... 87%  299M 0s\n",
      " 75400K .......... .......... .......... .......... .......... 87%  219M 0s\n",
      " 75450K .......... .......... .......... .......... .......... 87%  333M 0s\n",
      " 75500K .......... .......... .......... .......... .......... 87%  212M 0s\n",
      " 75550K .......... .......... .......... .......... .......... 87%  354M 0s\n",
      " 75600K .......... .......... .......... .......... .......... 87%  298M 0s\n",
      " 75650K .......... .......... .......... .......... .......... 88%  354M 0s\n",
      " 75700K .......... .......... .......... .......... .......... 88%  358M 0s\n",
      " 75750K .......... .......... .......... .......... .......... 88%  347M 0s\n",
      " 75800K .......... .......... .......... .......... .......... 88%  284M 0s\n",
      " 75850K .......... .......... .......... .......... .......... 88%  366M 0s\n",
      " 75900K .......... .......... .......... .......... .......... 88%  348M 0s\n",
      " 75950K .......... .......... .......... .......... .......... 88%  367M 0s\n",
      " 76000K .......... .......... .......... .......... .......... 88% 31.4M 0s\n",
      " 76050K .......... .......... .......... .......... .......... 88% 60.8M 0s\n",
      " 76100K .......... .......... .......... .......... .......... 88%  207M 0s\n",
      " 76150K .......... .......... .......... .......... .......... 88%  256M 0s\n",
      " 76200K .......... .......... .......... .......... .......... 88%  225M 0s\n",
      " 76250K .......... .......... .......... .......... .......... 88%  266M 0s\n",
      " 76300K .......... .......... .......... .......... .......... 88%  324M 0s\n",
      " 76350K .......... .......... .......... .......... .......... 88%  322M 0s\n",
      " 76400K .......... .......... .......... .......... .......... 88%  325M 0s\n",
      " 76450K .......... .......... .......... .......... .......... 88%  361M 0s\n",
      " 76500K .......... .......... .......... .......... .......... 88%  355M 0s\n",
      " 76550K .......... .......... .......... .......... .......... 89%  361M 0s\n",
      " 76600K .......... .......... .......... .......... .......... 89%  291M 0s\n",
      " 76650K .......... .......... .......... .......... .......... 89%  357M 0s\n",
      " 76700K .......... .......... .......... .......... .......... 89%  351M 0s\n",
      " 76750K .......... .......... .......... .......... .......... 89%  222M 0s\n",
      " 76800K .......... .......... .......... .......... .......... 89%  311M 0s\n",
      " 76850K .......... .......... .......... .......... .......... 89%  254M 0s\n",
      " 76900K .......... .......... .......... .......... .......... 89% 48.6M 0s\n",
      " 76950K .......... .......... .......... .......... .......... 89% 94.7M 0s\n",
      " 77000K .......... .......... .......... .......... .......... 89%  291M 0s\n",
      " 77050K .......... .......... .......... .......... .......... 89%  311M 0s\n",
      " 77100K .......... .......... .......... .......... .......... 89%  337M 0s\n",
      " 77150K .......... .......... .......... .......... .......... 89%  336M 0s\n",
      " 77200K .......... .......... .......... .......... .......... 89%  326M 0s\n",
      " 77250K .......... .......... .......... .......... .......... 89%  360M 0s\n",
      " 77300K .......... .......... .......... .......... .......... 89%  363M 0s\n",
      " 77350K .......... .......... .......... .......... .......... 89%  311M 0s\n",
      " 77400K .......... .......... .......... .......... .......... 90%  296M 0s\n",
      " 77450K .......... .......... .......... .......... .......... 90%  357M 0s\n",
      " 77500K .......... .......... .......... .......... .......... 90%  352M 0s\n",
      " 77550K .......... .......... .......... .......... .......... 90%  352M 0s\n",
      " 77600K .......... .......... .......... .......... .......... 90%  317M 0s\n",
      " 77650K .......... .......... .......... .......... .......... 90%  331M 0s\n",
      " 77700K .......... .......... .......... .......... .......... 90%  362M 0s\n",
      " 77750K .......... .......... .......... .......... .......... 90%  362M 0s\n",
      " 77800K .......... .......... .......... .......... .......... 90% 29.9M 0s\n",
      " 77850K .......... .......... .......... .......... .......... 90%  174M 0s\n",
      " 77900K .......... .......... .......... .......... .......... 90%  119M 0s\n",
      " 77950K .......... .......... .......... .......... .......... 90%  121M 0s\n",
      " 78000K .......... .......... .......... .......... .......... 90% 64.3M 0s\n",
      " 78050K .......... .......... .......... .......... .......... 90%  312M 0s\n",
      " 78100K .......... .......... .......... .......... .......... 90%  341M 0s\n",
      " 78150K .......... .......... .......... .......... .......... 90%  130M 0s\n",
      " 78200K .......... .......... .......... .......... .......... 90% 73.1M 0s\n",
      " 78250K .......... .......... .......... .......... .......... 91% 80.9M 0s\n",
      " 78300K .......... .......... .......... .......... .......... 91% 64.7M 0s\n",
      " 78350K .......... .......... .......... .......... .......... 91% 33.5M 0s\n",
      " 78400K .......... .......... .......... .......... .......... 91% 48.1M 0s\n",
      " 78450K .......... .......... .......... .......... .......... 91%  140M 0s\n",
      " 78500K .......... .......... .......... .......... .......... 91%  164M 0s\n",
      " 78550K .......... .......... .......... .......... .......... 91%  201M 0s\n",
      " 78600K .......... .......... .......... .......... .......... 91%  258M 0s\n",
      " 78650K .......... .......... .......... .......... .......... 91%  302M 0s\n",
      " 78700K .......... .......... .......... .......... .......... 91%  306M 0s\n",
      " 78750K .......... .......... .......... .......... .......... 91%  304M 0s\n",
      " 78800K .......... .......... .......... .......... .......... 91%  327M 0s\n",
      " 78850K .......... .......... .......... .......... .......... 91%  361M 0s\n",
      " 78900K .......... .......... .......... .......... .......... 91%  359M 0s\n",
      " 78950K .......... .......... .......... .......... .......... 91%  348M 0s\n",
      " 79000K .......... .......... .......... .......... .......... 91%  306M 0s\n",
      " 79050K .......... .......... .......... .......... .......... 91%  362M 0s\n",
      " 79100K .......... .......... .......... .......... .......... 92%  360M 0s\n",
      " 79150K .......... .......... .......... .......... .......... 92%  365M 0s\n",
      " 79200K .......... .......... .......... .......... .......... 92%  313M 0s\n",
      " 79250K .......... .......... .......... .......... .......... 92%  315M 0s\n",
      " 79300K .......... .......... .......... .......... .......... 92%  350M 0s\n",
      " 79350K .......... .......... .......... .......... .......... 92%  344M 0s\n",
      " 79400K .......... .......... .......... .......... .......... 92%  296M 0s\n",
      " 79450K .......... .......... .......... .......... .......... 92%  328M 0s\n",
      " 79500K .......... .......... .......... .......... .......... 92%  333M 0s\n",
      " 79550K .......... .......... .......... .......... .......... 92%  328M 0s\n",
      " 79600K .......... .......... .......... .......... .......... 92%  296M 0s\n",
      " 79650K .......... .......... .......... .......... .......... 92%  258M 0s\n",
      " 79700K .......... .......... .......... .......... .......... 92%  346M 0s\n",
      " 79750K .......... .......... .......... .......... .......... 92%  333M 0s\n",
      " 79800K .......... .......... .......... .......... .......... 92%  255M 0s\n",
      " 79850K .......... .......... .......... .......... .......... 92%  315M 0s\n",
      " 79900K .......... .......... .......... .......... .......... 92%  340M 0s\n",
      " 79950K .......... .......... .......... .......... .......... 93%  286M 0s\n",
      " 80000K .......... .......... .......... .......... .......... 93%  308M 0s\n",
      " 80050K .......... .......... .......... .......... .......... 93%  315M 0s\n",
      " 80100K .......... .......... .......... .......... .......... 93%  359M 0s\n",
      " 80150K .......... .......... .......... .......... .......... 93%  353M 0s\n",
      " 80200K .......... .......... .......... .......... .......... 93%  287M 0s\n",
      " 80250K .......... .......... .......... .......... .......... 93%  327M 0s\n",
      " 80300K .......... .......... .......... .......... .......... 93%  352M 0s\n",
      " 80350K .......... .......... .......... .......... .......... 93%  345M 0s\n",
      " 80400K .......... .......... .......... .......... .......... 93%  252M 0s\n",
      " 80450K .......... .......... .......... .......... .......... 93%  353M 0s\n",
      " 80500K .......... .......... .......... .......... .......... 93% 7.44M 0s\n",
      " 80550K .......... .......... .......... .......... .......... 93%  161M 0s\n",
      " 80600K .......... .......... .......... .......... .......... 93% 79.6M 0s\n",
      " 80650K .......... .......... .......... .......... .......... 93%  121M 0s\n",
      " 80700K .......... .......... .......... .......... .......... 93%  165M 0s\n",
      " 80750K .......... .......... .......... .......... .......... 93% 58.7M 0s\n",
      " 80800K .......... .......... .......... .......... .......... 93% 44.3M 0s\n",
      " 80850K .......... .......... .......... .......... .......... 94%  128M 0s\n",
      " 80900K .......... .......... .......... .......... .......... 94%  112M 0s\n",
      " 80950K .......... .......... .......... .......... .......... 94%  269M 0s\n",
      " 81000K .......... .......... .......... .......... .......... 94%  286M 0s\n",
      " 81050K .......... .......... .......... .......... .......... 94%  355M 0s\n",
      " 81100K .......... .......... .......... .......... .......... 94%  357M 0s\n",
      " 81150K .......... .......... .......... .......... .......... 94%  347M 0s\n",
      " 81200K .......... .......... .......... .......... .......... 94%  328M 0s\n",
      " 81250K .......... .......... .......... .......... .......... 94%  364M 0s\n",
      " 81300K .......... .......... .......... .......... .......... 94%  361M 0s\n",
      " 81350K .......... .......... .......... .......... .......... 94%  143M 0s\n",
      " 81400K .......... .......... .......... .......... .......... 94%  266M 0s\n",
      " 81450K .......... .......... .......... .......... .......... 94%  354M 0s\n",
      " 81500K .......... .......... .......... .......... .......... 94%  352M 0s\n",
      " 81550K .......... .......... .......... .......... .......... 94%  315M 0s\n",
      " 81600K .......... .......... .......... .......... .......... 94%  319M 0s\n",
      " 81650K .......... .......... .......... .......... .......... 94%  349M 0s\n",
      " 81700K .......... .......... .......... .......... .......... 95%  359M 0s\n",
      " 81750K .......... .......... .......... .......... .......... 95%  361M 0s\n",
      " 81800K .......... .......... .......... .......... .......... 95%  294M 0s\n",
      " 81850K .......... .......... .......... .......... .......... 95%  362M 0s\n",
      " 81900K .......... .......... .......... .......... .......... 95%  255M 0s\n",
      " 81950K .......... .......... .......... .......... .......... 95%  327M 0s\n",
      " 82000K .......... .......... .......... .......... .......... 95%  321M 0s\n",
      " 82050K .......... .......... .......... .......... .......... 95%  322M 0s\n",
      " 82100K .......... .......... .......... .......... .......... 95%  102M 0s\n",
      " 82150K .......... .......... .......... .......... .......... 95% 73.1M 0s\n",
      " 82200K .......... .......... .......... .......... .......... 95%  106M 0s\n",
      " 82250K .......... .......... .......... .......... .......... 95%  348M 0s\n",
      " 82300K .......... .......... .......... .......... .......... 95%  361M 0s\n",
      " 82350K .......... .......... .......... .......... .......... 95%  351M 0s\n",
      " 82400K .......... .......... .......... .......... .......... 95%  319M 0s\n",
      " 82450K .......... .......... .......... .......... .......... 95%  358M 0s\n",
      " 82500K .......... .......... .......... .......... .......... 95%  334M 0s\n",
      " 82550K .......... .......... .......... .......... .......... 96%  356M 0s\n",
      " 82600K .......... .......... .......... .......... .......... 96%  256M 0s\n",
      " 82650K .......... .......... .......... .......... .......... 96%  106M 0s\n",
      " 82700K .......... .......... .......... .......... .......... 96% 35.8M 0s\n",
      " 82750K .......... .......... .......... .......... .......... 96% 64.2M 0s\n",
      " 82800K .......... .......... .......... .......... .......... 96% 28.5M 0s\n",
      " 82850K .......... .......... .......... .......... .......... 96%  121M 0s\n",
      " 82900K .......... .......... .......... .......... .......... 96% 70.0M 0s\n",
      " 82950K .......... .......... .......... .......... .......... 96%  220M 0s\n",
      " 83000K .......... .......... .......... .......... .......... 96%  142M 0s\n",
      " 83050K .......... .......... .......... .......... .......... 96% 97.0M 0s\n",
      " 83100K .......... .......... .......... .......... .......... 96%  132M 0s\n",
      " 83150K .......... .......... .......... .......... .......... 96% 99.9M 0s\n",
      " 83200K .......... .......... .......... .......... .......... 96% 67.1M 0s\n",
      " 83250K .......... .......... .......... .......... .......... 96%  128M 0s\n",
      " 83300K .......... .......... .......... .......... .......... 96%  155M 0s\n",
      " 83350K .......... .......... .......... .......... .......... 96%  151M 0s\n",
      " 83400K .......... .......... .......... .......... .......... 97%  129M 0s\n",
      " 83450K .......... .......... .......... .......... .......... 97% 25.8M 0s\n",
      " 83500K .......... .......... .......... .......... .......... 97% 60.5M 0s\n",
      " 83550K .......... .......... .......... .......... .......... 97% 78.3M 0s\n",
      " 83600K .......... .......... .......... .......... .......... 97% 60.2M 0s\n",
      " 83650K .......... .......... .......... .......... .......... 97% 75.3M 0s\n",
      " 83700K .......... .......... .......... .......... .......... 97%  156M 0s\n",
      " 83750K .......... .......... .......... .......... .......... 97%  135M 0s\n",
      " 83800K .......... .......... .......... .......... .......... 97% 87.2M 0s\n",
      " 83850K .......... .......... .......... .......... .......... 97% 92.1M 0s\n",
      " 83900K .......... .......... .......... .......... .......... 97% 53.0M 0s\n",
      " 83950K .......... .......... .......... .......... .......... 97%  162M 0s\n",
      " 84000K .......... .......... .......... .......... .......... 97%  124M 0s\n",
      " 84050K .......... .......... .......... .......... .......... 97%  316M 0s\n",
      " 84100K .......... .......... .......... .......... .......... 97%  348M 0s\n",
      " 84150K .......... .......... .......... .......... .......... 97%  345M 0s\n",
      " 84200K .......... .......... .......... .......... .......... 97%  287M 0s\n",
      " 84250K .......... .......... .......... .......... .......... 97%  332M 0s\n",
      " 84300K .......... .......... .......... .......... .......... 98%  355M 0s\n",
      " 84350K .......... .......... .......... .......... .......... 98%  293M 0s\n",
      " 84400K .......... .......... .......... .......... .......... 98%  317M 0s\n",
      " 84450K .......... .......... .......... .......... .......... 98%  348M 0s\n",
      " 84500K .......... .......... .......... .......... .......... 98%  326M 0s\n",
      " 84550K .......... .......... .......... .......... .......... 98%  346M 0s\n",
      " 84600K .......... .......... .......... .......... .......... 98%  291M 0s\n",
      " 84650K .......... .......... .......... .......... .......... 98%  322M 0s\n",
      " 84700K .......... .......... .......... .......... .......... 98%  321M 0s\n",
      " 84750K .......... .......... .......... .......... .......... 98%  347M 0s\n",
      " 84800K .......... .......... .......... .......... .......... 98%  314M 0s\n",
      " 84850K .......... .......... .......... .......... .......... 98%  325M 0s\n",
      " 84900K .......... .......... .......... .......... .......... 98%  354M 0s\n",
      " 84950K .......... .......... .......... .......... .......... 98%  348M 0s\n",
      " 85000K .......... .......... .......... .......... .......... 98%  246M 0s\n",
      " 85050K .......... .......... .......... .......... .......... 98%  290M 0s\n",
      " 85100K .......... .......... .......... .......... .......... 98%  347M 0s\n",
      " 85150K .......... .......... .......... .......... .......... 99%  342M 0s\n",
      " 85200K .......... .......... .......... .......... .......... 99%  304M 0s\n",
      " 85250K .......... .......... .......... .......... .......... 99%  353M 0s\n",
      " 85300K .......... .......... .......... .......... .......... 99%  308M 0s\n",
      " 85350K .......... .......... .......... .......... .......... 99%  350M 0s\n",
      " 85400K .......... .......... .......... .......... .......... 99%  291M 0s\n",
      " 85450K .......... .......... .......... .......... .......... 99%  327M 0s\n",
      " 85500K .......... .......... .......... .......... .......... 99%  356M 0s\n",
      " 85550K .......... .......... .......... .......... .......... 99%  361M 0s\n",
      " 85600K .......... .......... .......... .......... .......... 99%  256M 0s\n",
      " 85650K .......... .......... .......... .......... .......... 99%  324M 0s\n",
      " 85700K .......... .......... .......... .......... .......... 99%  346M 0s\n",
      " 85750K .......... .......... .......... .......... .......... 99%  340M 0s\n",
      " 85800K .......... .......... .......... .......... .......... 99%  282M 0s\n",
      " 85850K .......... .......... .......... .......... .......... 99%  316M 0s\n",
      " 85900K .......... .......... .......... .......... .......... 99%  335M 0s\n",
      " 85950K .......... .......... .......... .......... .......... 99%  340M 0s\n",
      " 86000K .......... .......... .                               100%  333M=1.1s\n",
      "\n",
      "2022-10-26 01:38:58 (75.0 MB/s) - ‘./input/ml-example-data.zip’ saved [88085785/88085785]\n",
      "\n"
     ]
    },
    {
     "data": {
      "text/plain": [
       "0"
      ]
     },
     "execution_count": 6,
     "metadata": {},
     "output_type": "execute_result"
    }
   ],
   "source": [
    "wget_str = f\"wget {DOWNLOAD_URL} -O {os.path.join(INPUT_FOLDER, DATAFILE)}\"\n",
    "subprocess.call(wget_str.split(\" \"))"
   ]
  },
  {
   "cell_type": "code",
   "execution_count": 7,
   "id": "f2cb779b",
   "metadata": {
    "execution": {
     "iopub.execute_input": "2022-10-26T06:38:59.019715Z",
     "iopub.status.busy": "2022-10-26T06:38:59.018779Z",
     "iopub.status.idle": "2022-10-26T06:39:01.069128Z",
     "shell.execute_reply": "2022-10-26T06:39:01.068344Z"
    },
    "papermill": {
     "duration": 2.129316,
     "end_time": "2022-10-26T06:39:01.071122",
     "exception": false,
     "start_time": "2022-10-26T06:38:58.941806",
     "status": "completed"
    },
    "tags": []
   },
   "outputs": [],
   "source": [
    "# unzip files\n",
    "with zipfile.ZipFile(os.path.join(INPUT_FOLDER, DATAFILE), \"r\") as zip_ref:\n",
    "    zip_ref.extractall(INPUT_FOLDER)"
   ]
  },
  {
   "cell_type": "code",
   "execution_count": 8,
   "id": "28ac7a66",
   "metadata": {
    "execution": {
     "iopub.execute_input": "2022-10-26T06:39:01.202459Z",
     "iopub.status.busy": "2022-10-26T06:39:01.201871Z",
     "iopub.status.idle": "2022-10-26T06:39:01.902837Z",
     "shell.execute_reply": "2022-10-26T06:39:01.901438Z"
    },
    "papermill": {
     "duration": 0.767274,
     "end_time": "2022-10-26T06:39:01.905172",
     "exception": false,
     "start_time": "2022-10-26T06:39:01.137898",
     "status": "completed"
    },
    "tags": []
   },
   "outputs": [
    {
     "name": "stdout",
     "output_type": "stream",
     "text": [
      "input_geometries.gpkg  ml-example-data.zip  ml-example-signals\r\n"
     ]
    }
   ],
   "source": [
    "!ls {INPUT_FOLDER}"
   ]
  },
  {
   "cell_type": "markdown",
   "id": "85cfdb78",
   "metadata": {
    "papermill": {
     "duration": 0.06481,
     "end_time": "2022-10-26T06:39:02.021063",
     "exception": false,
     "start_time": "2022-10-26T06:39:01.956253",
     "status": "completed"
    },
    "tags": []
   },
   "source": [
    "Read signals from JSON files as returned by Statistical API and create a dataframe."
   ]
  },
  {
   "cell_type": "code",
   "execution_count": 9,
   "id": "666a76b4-d7de-4f41-a373-cf1627e6a77a",
   "metadata": {
    "execution": {
     "iopub.execute_input": "2022-10-26T06:39:02.156291Z",
     "iopub.status.busy": "2022-10-26T06:39:02.155860Z",
     "iopub.status.idle": "2022-10-26T06:39:50.184581Z",
     "shell.execute_reply": "2022-10-26T06:39:50.183909Z"
    },
    "papermill": {
     "duration": 48.096378,
     "end_time": "2022-10-26T06:39:50.186654",
     "exception": false,
     "start_time": "2022-10-26T06:39:02.090276",
     "status": "completed"
    },
    "tags": []
   },
   "outputs": [],
   "source": [
    "dfs = []\n",
    "for result_json in os.listdir(os.path.join(INPUT_FOLDER, \"ml-example-signals\")):\n",
    "    with open(os.path.join(INPUT_FOLDER, \"ml-example-signals\", result_json)) as f:\n",
    "        result = json.load(f)\n",
    "\n",
    "    result_df = stats_to_df(result[\"response\"])\n",
    "    result_df[\"identifier\"] = int(result[\"identifier\"])\n",
    "    dfs.append(result_df)\n",
    "\n",
    "signals = pd.concat(dfs)"
   ]
  },
  {
   "cell_type": "markdown",
   "id": "9da514cc",
   "metadata": {
    "papermill": {
     "duration": 0.142728,
     "end_time": "2022-10-26T06:39:50.395585",
     "exception": false,
     "start_time": "2022-10-26T06:39:50.252857",
     "status": "completed"
    },
    "tags": []
   },
   "source": [
    "Check size of dataset and one time observation."
   ]
  },
  {
   "cell_type": "code",
   "execution_count": 10,
   "id": "0e4c9d9b",
   "metadata": {
    "execution": {
     "iopub.execute_input": "2022-10-26T06:39:50.647495Z",
     "iopub.status.busy": "2022-10-26T06:39:50.647012Z",
     "iopub.status.idle": "2022-10-26T06:39:50.651865Z",
     "shell.execute_reply": "2022-10-26T06:39:50.651317Z"
    },
    "papermill": {
     "duration": 0.129852,
     "end_time": "2022-10-26T06:39:50.653253",
     "exception": false,
     "start_time": "2022-10-26T06:39:50.523401",
     "status": "completed"
    },
    "tags": []
   },
   "outputs": [
    {
     "data": {
      "text/plain": [
       "157500"
      ]
     },
     "execution_count": 10,
     "metadata": {},
     "output_type": "execute_result"
    }
   ],
   "source": [
    "len(signals)"
   ]
  },
  {
   "cell_type": "code",
   "execution_count": 11,
   "id": "aa1fe9cf",
   "metadata": {
    "execution": {
     "iopub.execute_input": "2022-10-26T06:39:50.955073Z",
     "iopub.status.busy": "2022-10-26T06:39:50.954678Z",
     "iopub.status.idle": "2022-10-26T06:39:51.151898Z",
     "shell.execute_reply": "2022-10-26T06:39:51.151144Z"
    },
    "papermill": {
     "duration": 0.396548,
     "end_time": "2022-10-26T06:39:51.153676",
     "exception": false,
     "start_time": "2022-10-26T06:39:50.757128",
     "status": "completed"
    },
    "tags": []
   },
   "outputs": [
    {
     "data": {
      "text/plain": [
       "interval_from            2021-01-05\n",
       "interval_to              2021-01-06\n",
       "clm_B0_min                      1.0\n",
       "clm_B0_max                      1.0\n",
       "clm_B0_mean                     1.0\n",
       "                            ...    \n",
       "bands_B12_mean             0.028348\n",
       "bands_B12_stDev            0.003333\n",
       "bands_B12_sampleCount            96\n",
       "bands_B12_noDataCount            65\n",
       "identifier                   331393\n",
       "Name: 0, Length: 93, dtype: object"
      ]
     },
     "execution_count": 11,
     "metadata": {},
     "output_type": "execute_result"
    }
   ],
   "source": [
    "signals.iloc[0]"
   ]
  },
  {
   "cell_type": "markdown",
   "id": "97033027-af60-48d6-833c-674407b503aa",
   "metadata": {
    "papermill": {
     "duration": 0.146037,
     "end_time": "2022-10-26T06:39:51.390843",
     "exception": false,
     "start_time": "2022-10-26T06:39:51.244806",
     "status": "completed"
    },
    "tags": []
   },
   "source": [
    "Read labels from provided geopackage file. These labels can be directly retrieved from GeoDB."
   ]
  },
  {
   "cell_type": "code",
   "execution_count": 12,
   "id": "553487e1-a87a-4188-9440-44afcce73fdd",
   "metadata": {
    "execution": {
     "iopub.execute_input": "2022-10-26T06:39:51.700702Z",
     "iopub.status.busy": "2022-10-26T06:39:51.700409Z",
     "iopub.status.idle": "2022-10-26T06:39:51.934660Z",
     "shell.execute_reply": "2022-10-26T06:39:51.933611Z"
    },
    "papermill": {
     "duration": 0.375708,
     "end_time": "2022-10-26T06:39:51.936827",
     "exception": false,
     "start_time": "2022-10-26T06:39:51.561119",
     "status": "completed"
    },
    "tags": []
   },
   "outputs": [],
   "source": [
    "eurocrops_gdf = gpd.read_file(os.path.join(INPUT_FOLDER, EUROCROPS_GPKG))"
   ]
  },
  {
   "cell_type": "markdown",
   "id": "d49d47b7",
   "metadata": {
    "papermill": {
     "duration": 0.033733,
     "end_time": "2022-10-26T06:39:52.006420",
     "exception": false,
     "start_time": "2022-10-26T06:39:51.972687",
     "status": "completed"
    },
    "tags": []
   },
   "source": [
    "Merge signals and crop labels into a single dataframe, by looking at the identifier of the field of interest (FOI)."
   ]
  },
  {
   "cell_type": "code",
   "execution_count": 13,
   "id": "6063c9e9",
   "metadata": {
    "execution": {
     "iopub.execute_input": "2022-10-26T06:39:52.109177Z",
     "iopub.status.busy": "2022-10-26T06:39:52.108659Z",
     "iopub.status.idle": "2022-10-26T06:39:53.464740Z",
     "shell.execute_reply": "2022-10-26T06:39:53.463880Z"
    },
    "papermill": {
     "duration": 1.417697,
     "end_time": "2022-10-26T06:39:53.466829",
     "exception": false,
     "start_time": "2022-10-26T06:39:52.049132",
     "status": "completed"
    },
    "tags": []
   },
   "outputs": [],
   "source": [
    "eurocrops_signals = pd.merge(eurocrops_gdf, signals, on=\"identifier\")"
   ]
  },
  {
   "cell_type": "code",
   "execution_count": 14,
   "id": "bb9feeb3",
   "metadata": {
    "execution": {
     "iopub.execute_input": "2022-10-26T06:39:53.531562Z",
     "iopub.status.busy": "2022-10-26T06:39:53.531151Z",
     "iopub.status.idle": "2022-10-26T06:39:53.537860Z",
     "shell.execute_reply": "2022-10-26T06:39:53.537315Z"
    },
    "papermill": {
     "duration": 0.04134,
     "end_time": "2022-10-26T06:39:53.539328",
     "exception": false,
     "start_time": "2022-10-26T06:39:53.497988",
     "status": "completed"
    },
    "tags": []
   },
   "outputs": [
    {
     "data": {
      "text/plain": [
       "identifier                                         296351\n",
       "created_at               2022-07-06T21:34:12.027081+00:00\n",
       "modified_at                                          None\n",
       "_fid                                                  NaN\n",
       "fs_kennung                                            NaN\n",
       "                                       ...               \n",
       "bands_B12_max                                      0.3369\n",
       "bands_B12_mean                                    0.28427\n",
       "bands_B12_stDev                                   0.03697\n",
       "bands_B12_sampleCount                                 112\n",
       "bands_B12_noDataCount                                  72\n",
       "Name: 0, Length: 121, dtype: object"
      ]
     },
     "execution_count": 14,
     "metadata": {},
     "output_type": "execute_result"
    }
   ],
   "source": [
    "eurocrops_signals.iloc[0]"
   ]
  },
  {
   "cell_type": "markdown",
   "id": "ae235877",
   "metadata": {
    "papermill": {
     "duration": 0.031418,
     "end_time": "2022-10-26T06:39:53.603782",
     "exception": false,
     "start_time": "2022-10-26T06:39:53.572364",
     "status": "completed"
    },
    "tags": []
   },
   "source": [
    "## 2. AI-ready dataset <a name=dataset></a>\n",
    "\n",
    "This Section adds some features to be added to the raw bands which will be used by the model."
   ]
  },
  {
   "cell_type": "code",
   "execution_count": 15,
   "id": "159580ae-6aec-4ecf-bb02-0d195b75a35d",
   "metadata": {
    "execution": {
     "iopub.execute_input": "2022-10-26T06:39:53.670350Z",
     "iopub.status.busy": "2022-10-26T06:39:53.669453Z",
     "iopub.status.idle": "2022-10-26T06:39:53.839562Z",
     "shell.execute_reply": "2022-10-26T06:39:53.838790Z"
    },
    "papermill": {
     "duration": 0.205731,
     "end_time": "2022-10-26T06:39:53.841631",
     "exception": false,
     "start_time": "2022-10-26T06:39:53.635900",
     "status": "completed"
    },
    "tags": []
   },
   "outputs": [],
   "source": [
    "# add column for cloud probability\n",
    "eurocrops_signals[\"CLP\"] = eurocrops_signals[\"clp_B0_mean\"] / 255\n",
    "# compute NDVI\n",
    "eurocrops_signals[\"NDVI\"] = (eurocrops_signals[\"bands_B7_mean\"] - eurocrops_signals[\"bands_B3_mean\"]) / (\n",
    "    eurocrops_signals[\"bands_B7_mean\"] + eurocrops_signals[\"bands_B3_mean\"]\n",
    ")\n",
    "# compute day-of-year from timestamp\n",
    "eurocrops_signals[\"DOY\"] = eurocrops_signals.interval_from.apply(lambda x: x.timetuple().tm_yday)"
   ]
  },
  {
   "cell_type": "code",
   "execution_count": 16,
   "id": "c4011f68-c1f3-4538-a69c-195583412d56",
   "metadata": {
    "execution": {
     "iopub.execute_input": "2022-10-26T06:39:53.912253Z",
     "iopub.status.busy": "2022-10-26T06:39:53.911934Z",
     "iopub.status.idle": "2022-10-26T06:39:53.916595Z",
     "shell.execute_reply": "2022-10-26T06:39:53.915998Z"
    },
    "papermill": {
     "duration": 0.044163,
     "end_time": "2022-10-26T06:39:53.918233",
     "exception": false,
     "start_time": "2022-10-26T06:39:53.874070",
     "status": "completed"
    },
    "tags": []
   },
   "outputs": [],
   "source": [
    "# get name of columns to be used as features, i.e. mean values of raw bands\n",
    "feature_cols = [x for x in eurocrops_signals.columns if x.startswith(\"bands_\") and x.endswith(\"_mean\")]\n",
    "# name of utility features\n",
    "doy_feature = \"DOY\"\n",
    "crop_type_feature = \"ec_hcat_c\"\n",
    "crop_name_feature = \"ec_hcat_n\"\n",
    "label_feature = \"label\"\n",
    "identifier_feature = \"identifier\""
   ]
  },
  {
   "cell_type": "markdown",
   "id": "5fc82601",
   "metadata": {
    "papermill": {
     "duration": 0.031115,
     "end_time": "2022-10-26T06:39:53.994591",
     "exception": false,
     "start_time": "2022-10-26T06:39:53.963476",
     "status": "completed"
    },
    "tags": []
   },
   "source": [
    "Map all the possible crop-types to specific groups assigned in Eurocrops."
   ]
  },
  {
   "cell_type": "code",
   "execution_count": 17,
   "id": "27f58085-8c34-4fbc-903e-b0e288ecd1ec",
   "metadata": {
    "execution": {
     "iopub.execute_input": "2022-10-26T06:39:54.067199Z",
     "iopub.status.busy": "2022-10-26T06:39:54.066430Z",
     "iopub.status.idle": "2022-10-26T06:39:54.078808Z",
     "shell.execute_reply": "2022-10-26T06:39:54.077927Z"
    },
    "papermill": {
     "duration": 0.053605,
     "end_time": "2022-10-26T06:39:54.080964",
     "exception": false,
     "start_time": "2022-10-26T06:39:54.027359",
     "status": "completed"
    },
    "tags": []
   },
   "outputs": [],
   "source": [
    "crop_id_to_label_mapping = {val: idx for idx, val in enumerate(eurocrops_signals[crop_type_feature].unique())}"
   ]
  },
  {
   "cell_type": "code",
   "execution_count": 18,
   "id": "a29f0fb5-ae9b-4fb6-96e5-83ee541767c3",
   "metadata": {
    "execution": {
     "iopub.execute_input": "2022-10-26T06:39:54.156361Z",
     "iopub.status.busy": "2022-10-26T06:39:54.155832Z",
     "iopub.status.idle": "2022-10-26T06:39:54.375369Z",
     "shell.execute_reply": "2022-10-26T06:39:54.374669Z"
    },
    "papermill": {
     "duration": 0.259358,
     "end_time": "2022-10-26T06:39:54.377332",
     "exception": false,
     "start_time": "2022-10-26T06:39:54.117974",
     "status": "completed"
    },
    "tags": []
   },
   "outputs": [],
   "source": [
    "crop_id_to_name_mapping = {\n",
    "    crop_id: crop_name\n",
    "    for crop_id, crop_name in eurocrops_signals[[crop_type_feature, crop_name_feature]].drop_duplicates().values\n",
    "}"
   ]
  },
  {
   "cell_type": "code",
   "execution_count": 19,
   "id": "00e62c85-77f7-4398-a6b3-47a7b9065cc3",
   "metadata": {
    "execution": {
     "iopub.execute_input": "2022-10-26T06:39:54.445298Z",
     "iopub.status.busy": "2022-10-26T06:39:54.444224Z",
     "iopub.status.idle": "2022-10-26T06:39:54.458358Z",
     "shell.execute_reply": "2022-10-26T06:39:54.457408Z"
    },
    "papermill": {
     "duration": 0.051629,
     "end_time": "2022-10-26T06:39:54.460361",
     "exception": false,
     "start_time": "2022-10-26T06:39:54.408732",
     "status": "completed"
    },
    "tags": []
   },
   "outputs": [],
   "source": [
    "eurocrops_signals[label_feature] = eurocrops_signals[crop_type_feature].map(crop_id_to_label_mapping)"
   ]
  },
  {
   "cell_type": "markdown",
   "id": "1f6ee569",
   "metadata": {
    "papermill": {
     "duration": 0.033059,
     "end_time": "2022-10-26T06:39:54.524727",
     "exception": false,
     "start_time": "2022-10-26T06:39:54.491668",
     "status": "completed"
    },
    "tags": []
   },
   "source": [
    "Split the signals into a training and validation set. This datasets are demonstrative only, as in reality, a larger dataset would be required, and more robust validation strategies required to robustly estimate the performance of the model."
   ]
  },
  {
   "cell_type": "code",
   "execution_count": 20,
   "id": "856e14fa-8bd9-4f85-8cf8-2a583503df5b",
   "metadata": {
    "execution": {
     "iopub.execute_input": "2022-10-26T06:39:54.589808Z",
     "iopub.status.busy": "2022-10-26T06:39:54.589358Z",
     "iopub.status.idle": "2022-10-26T06:39:54.595695Z",
     "shell.execute_reply": "2022-10-26T06:39:54.594950Z"
    },
    "papermill": {
     "duration": 0.040972,
     "end_time": "2022-10-26T06:39:54.597415",
     "exception": false,
     "start_time": "2022-10-26T06:39:54.556443",
     "status": "completed"
    },
    "tags": []
   },
   "outputs": [],
   "source": [
    "train_ids, val_ids = train_test_split(\n",
    "    eurocrops_signals[identifier_feature].unique(), train_size=0.6, test_size=0.4, random_state=42\n",
    ")"
   ]
  },
  {
   "cell_type": "code",
   "execution_count": 21,
   "id": "ef588253-0165-4ce7-90d7-b8174ad747c7",
   "metadata": {
    "execution": {
     "iopub.execute_input": "2022-10-26T06:39:54.665263Z",
     "iopub.status.busy": "2022-10-26T06:39:54.664373Z",
     "iopub.status.idle": "2022-10-26T06:39:54.791158Z",
     "shell.execute_reply": "2022-10-26T06:39:54.790485Z"
    },
    "papermill": {
     "duration": 0.162155,
     "end_time": "2022-10-26T06:39:54.793165",
     "exception": false,
     "start_time": "2022-10-26T06:39:54.631010",
     "status": "completed"
    },
    "tags": []
   },
   "outputs": [],
   "source": [
    "train_df = eurocrops_signals[eurocrops_signals[identifier_feature].isin(train_ids)]\n",
    "val_df = eurocrops_signals[eurocrops_signals[identifier_feature].isin(val_ids)]"
   ]
  },
  {
   "cell_type": "markdown",
   "id": "85be9692",
   "metadata": {
    "papermill": {
     "duration": 0.034281,
     "end_time": "2022-10-26T06:39:54.858610",
     "exception": false,
     "start_time": "2022-10-26T06:39:54.824329",
     "status": "completed"
    },
    "tags": []
   },
   "source": [
    "Create the training and validation datasets to be used for model training and validation."
   ]
  },
  {
   "cell_type": "code",
   "execution_count": 22,
   "id": "7ee42057-7193-4ceb-9c82-aaef0fe9146e",
   "metadata": {
    "execution": {
     "iopub.execute_input": "2022-10-26T06:39:54.924309Z",
     "iopub.status.busy": "2022-10-26T06:39:54.923996Z",
     "iopub.status.idle": "2022-10-26T06:39:55.065775Z",
     "shell.execute_reply": "2022-10-26T06:39:55.064534Z"
    },
    "papermill": {
     "duration": 0.177169,
     "end_time": "2022-10-26T06:39:55.067921",
     "exception": false,
     "start_time": "2022-10-26T06:39:54.890752",
     "status": "completed"
    },
    "tags": []
   },
   "outputs": [],
   "source": [
    "train_poly_dataset = PolyDataset(\n",
    "    train_df,\n",
    "    feature_cols=feature_cols,\n",
    "    label_col=label_feature,\n",
    "    poly_id_col=identifier_feature,\n",
    "    doys_col=doy_feature,\n",
    "    online_transform=get_sample_n_timestamps(40),\n",
    ")\n",
    "\n",
    "val_poly_dataset = PolyDataset(\n",
    "    val_df,\n",
    "    feature_cols=feature_cols,\n",
    "    label_col=label_feature,\n",
    "    poly_id_col=identifier_feature,\n",
    "    doys_col=doy_feature,\n",
    "    online_transform=get_sample_n_timestamps(40),\n",
    ")"
   ]
  },
  {
   "cell_type": "markdown",
   "id": "e2f77110",
   "metadata": {
    "papermill": {
     "duration": 0.031302,
     "end_time": "2022-10-26T06:39:55.131034",
     "exception": false,
     "start_time": "2022-10-26T06:39:55.099732",
     "status": "completed"
    },
    "tags": []
   },
   "source": [
    "## 3. Model training <a name=model-training></a>\n",
    "\n",
    "In this Section, a LSTM model is trained on the signals for estimation of crop-type. The parameters of the LSTM might need tuning to different use-cases."
   ]
  },
  {
   "cell_type": "code",
   "execution_count": 23,
   "id": "4703803c-8913-4986-b629-bceca97c7f0e",
   "metadata": {
    "execution": {
     "iopub.execute_input": "2022-10-26T06:39:55.210378Z",
     "iopub.status.busy": "2022-10-26T06:39:55.210084Z",
     "iopub.status.idle": "2022-10-26T06:39:55.217054Z",
     "shell.execute_reply": "2022-10-26T06:39:55.216319Z"
    },
    "papermill": {
     "duration": 0.042406,
     "end_time": "2022-10-26T06:39:55.218555",
     "exception": false,
     "start_time": "2022-10-26T06:39:55.176149",
     "status": "completed"
    },
    "tags": []
   },
   "outputs": [],
   "source": [
    "BATCH_SIZE = 16\n",
    "N_WORKERS = 4\n",
    "SHUFFLE = True"
   ]
  },
  {
   "cell_type": "markdown",
   "id": "eb997aa6-b510-4652-aa47-3180ac5ceb6e",
   "metadata": {
    "papermill": {
     "duration": 0.031218,
     "end_time": "2022-10-26T06:39:55.289448",
     "exception": false,
     "start_time": "2022-10-26T06:39:55.258230",
     "status": "completed"
    },
    "tags": []
   },
   "source": [
    "The number of epochs is set to 5 to for this demonstration. For more accurate results, it is recommended that this is increased (i.e. to 20 or 30). "
   ]
  },
  {
   "cell_type": "code",
   "execution_count": 24,
   "id": "15de7f79-3a3c-42cb-9cb1-7979a7f72dc2",
   "metadata": {
    "execution": {
     "iopub.execute_input": "2022-10-26T06:39:55.365617Z",
     "iopub.status.busy": "2022-10-26T06:39:55.364680Z",
     "iopub.status.idle": "2022-10-26T06:39:55.368516Z",
     "shell.execute_reply": "2022-10-26T06:39:55.367785Z"
    },
    "papermill": {
     "duration": 0.049817,
     "end_time": "2022-10-26T06:39:55.370102",
     "exception": false,
     "start_time": "2022-10-26T06:39:55.320285",
     "status": "completed"
    },
    "tags": []
   },
   "outputs": [],
   "source": [
    "N_EPOCHS = 5 "
   ]
  },
  {
   "cell_type": "code",
   "execution_count": 25,
   "id": "7d538682-39d2-44fc-ba13-09cd00882845",
   "metadata": {
    "execution": {
     "iopub.execute_input": "2022-10-26T06:39:55.438205Z",
     "iopub.status.busy": "2022-10-26T06:39:55.437685Z",
     "iopub.status.idle": "2022-10-26T06:39:55.443898Z",
     "shell.execute_reply": "2022-10-26T06:39:55.443065Z"
    },
    "papermill": {
     "duration": 0.043756,
     "end_time": "2022-10-26T06:39:55.445705",
     "exception": false,
     "start_time": "2022-10-26T06:39:55.401949",
     "status": "completed"
    },
    "tags": []
   },
   "outputs": [],
   "source": [
    "train_loader = DataLoader(dataset=train_poly_dataset, batch_size=BATCH_SIZE, num_workers=N_WORKERS, shuffle=SHUFFLE)\n",
    "\n",
    "val_loader = DataLoader(dataset=val_poly_dataset, batch_size=BATCH_SIZE, num_workers=N_WORKERS, shuffle=False)"
   ]
  },
  {
   "cell_type": "markdown",
   "id": "a08880b5",
   "metadata": {
    "papermill": {
     "duration": 0.031437,
     "end_time": "2022-10-26T06:39:55.508564",
     "exception": false,
     "start_time": "2022-10-26T06:39:55.477127",
     "status": "completed"
    },
    "tags": []
   },
   "source": [
    "Initialise the model."
   ]
  },
  {
   "cell_type": "code",
   "execution_count": 26,
   "id": "1a3c10f6-e322-4f8c-a8c9-d0a32146cd86",
   "metadata": {
    "execution": {
     "iopub.execute_input": "2022-10-26T06:39:55.578979Z",
     "iopub.status.busy": "2022-10-26T06:39:55.578683Z",
     "iopub.status.idle": "2022-10-26T06:39:55.591055Z",
     "shell.execute_reply": "2022-10-26T06:39:55.590321Z"
    },
    "papermill": {
     "duration": 0.047459,
     "end_time": "2022-10-26T06:39:55.593017",
     "exception": false,
     "start_time": "2022-10-26T06:39:55.545558",
     "status": "completed"
    },
    "tags": []
   },
   "outputs": [],
   "source": [
    "lstm = LSTM(\n",
    "    input_dim=len(feature_cols),\n",
    "    n_classes=eurocrops_signals[label_feature].nunique(),\n",
    "    hidden_dims=128,\n",
    "    num_rnn_layers=3,\n",
    "    dropout=0.2,\n",
    "    bidirectional=True,\n",
    "    use_batchnorm=False,\n",
    "    use_layernorm=True,\n",
    ")"
   ]
  },
  {
   "cell_type": "markdown",
   "id": "0c138216",
   "metadata": {
    "papermill": {
     "duration": 0.031198,
     "end_time": "2022-10-26T06:39:55.657012",
     "exception": false,
     "start_time": "2022-10-26T06:39:55.625814",
     "status": "completed"
    },
    "tags": []
   },
   "source": [
    "Initialise the optimiser."
   ]
  },
  {
   "cell_type": "code",
   "execution_count": 27,
   "id": "399b93f9-df20-444a-b155-f4795824c3a3",
   "metadata": {
    "execution": {
     "iopub.execute_input": "2022-10-26T06:39:55.720484Z",
     "iopub.status.busy": "2022-10-26T06:39:55.720197Z",
     "iopub.status.idle": "2022-10-26T06:39:55.727110Z",
     "shell.execute_reply": "2022-10-26T06:39:55.726375Z"
    },
    "papermill": {
     "duration": 0.041243,
     "end_time": "2022-10-26T06:39:55.728733",
     "exception": false,
     "start_time": "2022-10-26T06:39:55.687490",
     "status": "completed"
    },
    "tags": []
   },
   "outputs": [],
   "source": [
    "optimizer = Adam(\n",
    "    filter(lambda x: x.requires_grad, lstm.parameters()),\n",
    "    betas=(0.9, 0.98),\n",
    "    eps=1e-09,\n",
    "    lr=0.001,\n",
    ")"
   ]
  },
  {
   "cell_type": "markdown",
   "id": "a23dc1d1",
   "metadata": {
    "papermill": {
     "duration": 0.031342,
     "end_time": "2022-10-26T06:39:55.791617",
     "exception": false,
     "start_time": "2022-10-26T06:39:55.760275",
     "status": "completed"
    },
    "tags": []
   },
   "source": [
    "Initialise the logger."
   ]
  },
  {
   "cell_type": "code",
   "execution_count": 28,
   "id": "19ab3732-eedb-4659-872f-b2540f562013",
   "metadata": {
    "execution": {
     "iopub.execute_input": "2022-10-26T06:39:55.856474Z",
     "iopub.status.busy": "2022-10-26T06:39:55.855958Z",
     "iopub.status.idle": "2022-10-26T06:39:55.860399Z",
     "shell.execute_reply": "2022-10-26T06:39:55.859488Z"
    },
    "papermill": {
     "duration": 0.038167,
     "end_time": "2022-10-26T06:39:55.862040",
     "exception": false,
     "start_time": "2022-10-26T06:39:55.823873",
     "status": "completed"
    },
    "tags": []
   },
   "outputs": [],
   "source": [
    "logger = define_logger(\"Training\")"
   ]
  },
  {
   "cell_type": "markdown",
   "id": "21cc6508",
   "metadata": {
    "papermill": {
     "duration": 0.032801,
     "end_time": "2022-10-26T06:39:55.927357",
     "exception": false,
     "start_time": "2022-10-26T06:39:55.894556",
     "status": "completed"
    },
    "tags": []
   },
   "source": [
    "Train the model !!"
   ]
  },
  {
   "cell_type": "code",
   "execution_count": 29,
   "id": "ae0d4508-18f0-4474-a041-0e485e9fec21",
   "metadata": {
    "execution": {
     "iopub.execute_input": "2022-10-26T06:39:55.993036Z",
     "iopub.status.busy": "2022-10-26T06:39:55.992347Z",
     "iopub.status.idle": "2022-10-26T06:44:52.353528Z",
     "shell.execute_reply": "2022-10-26T06:44:52.352640Z"
    },
    "papermill": {
     "duration": 296.486442,
     "end_time": "2022-10-26T06:44:52.445590",
     "exception": false,
     "start_time": "2022-10-26T06:39:55.959148",
     "status": "completed"
    },
    "tags": []
   },
   "outputs": [
    {
     "name": "stdout",
     "output_type": "stream",
     "text": [
      "[2022-10-26 01:41:00,341] {utils.py:87} INFO - Epoch 0: train loss 2.240 | val loss 1.913 | val acc = 0.461\n"
     ]
    },
    {
     "name": "stdout",
     "output_type": "stream",
     "text": [
      "[2022-10-26 01:42:01,324] {utils.py:87} INFO - Epoch 1: train loss 1.851 | val loss 1.750 | val acc = 0.519\n"
     ]
    },
    {
     "name": "stdout",
     "output_type": "stream",
     "text": [
      "[2022-10-26 01:42:59,048] {utils.py:87} INFO - Epoch 2: train loss 1.666 | val loss 1.662 | val acc = 0.556\n"
     ]
    },
    {
     "name": "stdout",
     "output_type": "stream",
     "text": [
      "[2022-10-26 01:43:55,145] {utils.py:87} INFO - Epoch 3: train loss 1.604 | val loss 1.639 | val acc = 0.546\n"
     ]
    },
    {
     "name": "stdout",
     "output_type": "stream",
     "text": [
      "[2022-10-26 01:44:52,348] {utils.py:87} INFO - Epoch 4: train loss 1.519 | val loss 1.542 | val acc = 0.588\n"
     ]
    }
   ],
   "source": [
    "lstm = train(lstm, optimizer, train_loader, val_loader, N_EPOCHS, verbose=False, logger=logger)"
   ]
  },
  {
   "cell_type": "markdown",
   "id": "27791c5a",
   "metadata": {
    "papermill": {
     "duration": 0.030826,
     "end_time": "2022-10-26T06:44:52.507873",
     "exception": false,
     "start_time": "2022-10-26T06:44:52.477047",
     "status": "completed"
    },
    "tags": []
   },
   "source": [
    "## 4. Model evaluation <a name=model-evaluation></a>\n",
    "\n",
    "This Section evaluates the performance of the trained model on the validation dataset. Perfomance is displayed as a confusion matrix, where estimated and reference crop-types are compared."
   ]
  },
  {
   "cell_type": "code",
   "execution_count": 30,
   "id": "ba600cea-3134-4f44-b0e8-fdbbacb830c4",
   "metadata": {
    "execution": {
     "iopub.execute_input": "2022-10-26T06:44:52.575111Z",
     "iopub.status.busy": "2022-10-26T06:44:52.574189Z",
     "iopub.status.idle": "2022-10-26T06:44:52.579182Z",
     "shell.execute_reply": "2022-10-26T06:44:52.578509Z"
    },
    "papermill": {
     "duration": 0.040397,
     "end_time": "2022-10-26T06:44:52.580768",
     "exception": false,
     "start_time": "2022-10-26T06:44:52.540371",
     "status": "completed"
    },
    "tags": []
   },
   "outputs": [],
   "source": [
    "import numpy as np"
   ]
  },
  {
   "cell_type": "code",
   "execution_count": 31,
   "id": "9fb79354-2a4a-4249-86b1-7f8c638ee989",
   "metadata": {
    "execution": {
     "iopub.execute_input": "2022-10-26T06:44:52.654335Z",
     "iopub.status.busy": "2022-10-26T06:44:52.653734Z",
     "iopub.status.idle": "2022-10-26T06:44:52.663803Z",
     "shell.execute_reply": "2022-10-26T06:44:52.663107Z"
    },
    "papermill": {
     "duration": 0.050719,
     "end_time": "2022-10-26T06:44:52.665545",
     "exception": false,
     "start_time": "2022-10-26T06:44:52.614826",
     "status": "completed"
    },
    "tags": []
   },
   "outputs": [],
   "source": [
    "def plot_confusion_matrix(cm,\n",
    "                          target_names,\n",
    "                          title='Confusion matrix',\n",
    "                          cmap=None,\n",
    "                          normalize=True):\n",
    "    \"\"\"\n",
    "    given a sklearn confusion matrix (cm), make a nice plot\n",
    "\n",
    "    Arguments\n",
    "    ---------\n",
    "    cm:           confusion matrix from sklearn.metrics.confusion_matrix\n",
    "\n",
    "    target_names: given classification classes such as [0, 1, 2]\n",
    "                  the class names, for example: ['high', 'medium', 'low']\n",
    "\n",
    "    title:        the text to display at the top of the matrix\n",
    "\n",
    "    cmap:         the gradient of the values displayed from matplotlib.pyplot.cm\n",
    "                  see http://matplotlib.org/examples/color/colormaps_reference.html\n",
    "                  plt.get_cmap('jet') or plt.cm.Blues\n",
    "\n",
    "    normalize:    If False, plot the raw numbers\n",
    "                  If True, plot the proportions\n",
    "\n",
    "    Usage\n",
    "    -----\n",
    "    plot_confusion_matrix(cm           = cm,                  # confusion matrix created by\n",
    "                                                              # sklearn.metrics.confusion_matrix\n",
    "                          normalize    = True,                # show proportions\n",
    "                          target_names = y_labels_vals,       # list of names of the classes\n",
    "                          title        = best_estimator_name) # title of graph\n",
    "\n",
    "    Citiation\n",
    "    ---------\n",
    "    http://scikit-learn.org/stable/auto_examples/model_selection/plot_confusion_matrix.html\n",
    "\n",
    "    \"\"\"\n",
    "    import matplotlib.pyplot as plt\n",
    "    import numpy as np\n",
    "    import itertools\n",
    "\n",
    "    accuracy = np.trace(cm) / np.sum(cm).astype('float')\n",
    "    misclass = 1 - accuracy\n",
    "\n",
    "    if cmap is None:\n",
    "        cmap = plt.get_cmap('Blues')\n",
    "\n",
    "    plt.figure(figsize=(20, 20))\n",
    "    plt.imshow(cm, interpolation='nearest', cmap=cmap)\n",
    "\n",
    "    if target_names is not None:\n",
    "        tick_marks = np.arange(len(target_names))\n",
    "        plt.xticks(tick_marks, target_names, rotation=90)\n",
    "        plt.yticks(tick_marks, target_names)\n",
    "\n",
    "    if normalize:\n",
    "        cm = cm.astype('float') / cm.sum(axis=1)[:, np.newaxis]\n",
    "\n",
    "\n",
    "    thresh = np.nanmax(cm) / 1.5 if normalize else np.nanmax(cm) / 2\n",
    "    for i, j in itertools.product(range(cm.shape[0]), range(cm.shape[1])):\n",
    "        if normalize:\n",
    "            plt.text(j, i, \"{:0.2f}\".format(cm[i, j]),\n",
    "                     horizontalalignment=\"center\",\n",
    "                     color=\"white\" if cm[i, j] > thresh else \"black\")\n",
    "        else:\n",
    "            plt.text(j, i, \"{:,}\".format(cm[i, j]),\n",
    "                     horizontalalignment=\"center\",\n",
    "                     color=\"white\" if cm[i, j] > thresh else \"black\")\n",
    "\n",
    "\n",
    "    plt.tight_layout()\n",
    "    plt.ylabel('True label')\n",
    "    plt.xlabel('Predicted label\\naccuracy={:0.2f}; misclass={:0.2f}'.format(accuracy, misclass))\n",
    "    plt.show()\n"
   ]
  },
  {
   "cell_type": "code",
   "execution_count": 32,
   "id": "cfd5edda-9132-48e3-97d8-1e83f8bd9397",
   "metadata": {
    "execution": {
     "iopub.execute_input": "2022-10-26T06:44:52.734162Z",
     "iopub.status.busy": "2022-10-26T06:44:52.733456Z",
     "iopub.status.idle": "2022-10-26T06:45:04.347250Z",
     "shell.execute_reply": "2022-10-26T06:45:04.345440Z"
    },
    "papermill": {
     "duration": 11.651993,
     "end_time": "2022-10-26T06:45:04.349989",
     "exception": false,
     "start_time": "2022-10-26T06:44:52.697996",
     "status": "completed"
    },
    "tags": []
   },
   "outputs": [],
   "source": [
    "predictions, targets, polygon_ids, logprobabilities = test(lstm, val_loader)"
   ]
  },
  {
   "cell_type": "code",
   "execution_count": 33,
   "id": "13404427-32cf-4eb1-99cc-9852862c71a8",
   "metadata": {
    "execution": {
     "iopub.execute_input": "2022-10-26T06:45:04.446336Z",
     "iopub.status.busy": "2022-10-26T06:45:04.445280Z",
     "iopub.status.idle": "2022-10-26T06:45:04.452294Z",
     "shell.execute_reply": "2022-10-26T06:45:04.451133Z"
    },
    "papermill": {
     "duration": 0.070104,
     "end_time": "2022-10-26T06:45:04.454728",
     "exception": false,
     "start_time": "2022-10-26T06:45:04.384624",
     "status": "completed"
    },
    "tags": []
   },
   "outputs": [],
   "source": [
    "cm = confusion_matrix(targets, predictions, labels=list(crop_id_to_label_mapping.values()))"
   ]
  },
  {
   "cell_type": "code",
   "execution_count": 34,
   "id": "227b8146-5986-4e54-9c8b-e549b8aad220",
   "metadata": {
    "execution": {
     "iopub.execute_input": "2022-10-26T06:45:04.543603Z",
     "iopub.status.busy": "2022-10-26T06:45:04.543182Z",
     "iopub.status.idle": "2022-10-26T06:45:09.658213Z",
     "shell.execute_reply": "2022-10-26T06:45:09.657352Z"
    },
    "papermill": {
     "duration": 5.167646,
     "end_time": "2022-10-26T06:45:09.666765",
     "exception": false,
     "start_time": "2022-10-26T06:45:04.499119",
     "status": "completed"
    },
    "tags": []
   },
   "outputs": [
    {
     "name": "stderr",
     "output_type": "stream",
     "text": [
      "/tmp/ipykernel_70/2388789195.py:57: RuntimeWarning: invalid value encountered in divide\n",
      "  cm = cm.astype('float') / cm.sum(axis=1)[:, np.newaxis]\n"
     ]
    },
    {
     "data": {
      "image/png": "[encoded data removed]",
      "text/plain": [
       "<Figure size 2000x2000 with 1 Axes>"
      ]
     },
     "metadata": {},
     "output_type": "display_data"
    }
   ],
   "source": [
    "plot_confusion_matrix(cm, target_names=[crop_id_to_name_mapping[x] for x in crop_id_to_label_mapping.keys()])"
   ]
  }
 ],
 "metadata": {
  "interpreter": {
   "hash": "2880452117879b878aa515f032d494a3ad190d8310d205bde4fb9215fd3620a0"
  },
  "kernelspec": {
   "display_name": "Python 3 (ipykernel)",
   "language": "python",
   "name": "python3"
  },
  "language_info": {
   "codemirror_mode": {
    "name": "ipython",
    "version": 3
   },
   "file_extension": ".py",
   "mimetype": "text/x-python",
   "name": "python",
   "nbconvert_exporter": "python",
   "pygments_lexer": "ipython3",
   "version": "3.9.13"
  },
  "papermill": {
   "default_parameters": {},
   "duration": 443.507887,
   "end_time": "2022-10-26T06:45:10.731618",
   "environment_variables": {},
   "exception": null,
   "input_path": "/tmp/tmpw3kqsxvf",
   "output_path": "/tmp/notebook_output.ipynb",
   "parameters": {},
   "start_time": "2022-10-26T06:37:47.223731",
   "version": "2.3.4"
  },
  "properties": {
   "automatically_executable": false,
   "authors": [
    {
     "id": "f0a99622-4b85-4610-8669-c73e560d096b",
     "name": "eoresearch@sinergise.com"
    }
   ],
   "description": "Crop classification algorithm for Sentinel-2 time-series.",
   "id": "b5d6fe35-1f1f-495d-ace4-56f55adaf71a",
   "license": null,
   "name": "Crop-classification using Sentinel-2 time-series",
   "requirements": [],
   "tags": [
    "Sentinel Data",
    "Sentinel Hub",
    "Machine Learning",
    "EO Data",
    "Crop-type-Classification"
   ],
   "tosAgree": true,
   "type": "Jupyter Notebook",
   "version": "0.0.1"
  }
 },
 "nbformat": 4,
 "nbformat_minor": 5
}
